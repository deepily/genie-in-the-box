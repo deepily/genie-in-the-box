{
 "cells": [
  {
   "cell_type": "code",
   "execution_count": 1,
   "outputs": [
    {
     "name": "stdout",
     "output_type": "stream",
     "text": [
      "Package                      Version\r\n",
      "---------------------------- ----------\r\n",
      "absl-py                      1.4.0\r\n",
      "aiofiles                     22.1.0\r\n",
      "aiohttp                      3.8.4\r\n",
      "aiosignal                    1.3.1\r\n",
      "aiosqlite                    0.18.0\r\n",
      "alembic                      1.9.4\r\n",
      "anyio                        3.6.2\r\n",
      "argon2-cffi                  21.3.0\r\n",
      "argon2-cffi-bindings         21.2.0\r\n",
      "arrow                        1.2.3\r\n",
      "asttokens                    2.2.1\r\n",
      "astunparse                   1.6.3\r\n",
      "async-timeout                4.0.2\r\n",
      "attrs                        22.2.0\r\n",
      "Babel                        2.12.1\r\n",
      "backcall                     0.2.0\r\n",
      "beautifulsoup4               4.11.2\r\n",
      "bleach                       6.0.0\r\n",
      "boto3                        1.26.81\r\n",
      "botocore                     1.29.81\r\n",
      "cachetools                   5.3.0\r\n",
      "certifi                      2022.12.7\r\n",
      "cffi                         1.15.1\r\n",
      "charset-normalizer           3.0.1\r\n",
      "click                        8.1.3\r\n",
      "cloudpickle                  2.2.1\r\n",
      "colorama                     0.4.6\r\n",
      "comm                         0.1.2\r\n",
      "compound-word-splitter       0.4\r\n",
      "configparser                 4.0.2\r\n",
      "cycler                       0.11.0\r\n",
      "databricks-cli               0.17.4\r\n",
      "debugpy                      1.6.6\r\n",
      "decorator                    5.1.1\r\n",
      "defusedxml                   0.7.1\r\n",
      "dm-tree                      0.1.8\r\n",
      "docker                       6.0.1\r\n",
      "emoji                        2.2.0\r\n",
      "entrypoints                  0.4\r\n",
      "et-xmlfile                   1.1.0\r\n",
      "etils                        1.0.0\r\n",
      "executing                    1.2.0\r\n",
      "fastjsonschema               2.16.3\r\n",
      "ffmpeg-python                0.2.0\r\n",
      "filelock                     3.9.0\r\n",
      "Flask                        2.2.3\r\n",
      "flatbuffers                  23.1.21\r\n",
      "fonttools                    4.38.0\r\n",
      "fqdn                         1.5.1\r\n",
      "frozenlist                   1.3.3\r\n",
      "fsspec                       2023.1.0\r\n",
      "fst-pso                      1.8.1\r\n",
      "funcsigs                     1.0.2\r\n",
      "future                       0.18.3\r\n",
      "FuzzyTM                      2.0.5\r\n",
      "gast                         0.4.0\r\n",
      "gensim                       4.3.0\r\n",
      "gin-config                   0.5.0\r\n",
      "gitdb                        4.0.10\r\n",
      "GitPython                    3.1.31\r\n",
      "google-auth                  2.16.1\r\n",
      "google-auth-oauthlib         0.4.6\r\n",
      "google-pasta                 0.2.0\r\n",
      "googleapis-common-protos     1.58.0\r\n",
      "greenlet                     2.0.2\r\n",
      "grpcio                       1.51.3\r\n",
      "gunicorn                     20.1.0\r\n",
      "gym                          0.26.2\r\n",
      "gym-notices                  0.0.8\r\n",
      "h5py                         3.8.0\r\n",
      "htmlmin                      0.1.12\r\n",
      "huggingface-hub              0.12.1\r\n",
      "idna                         3.4\r\n",
      "ImageHash                    4.3.1\r\n",
      "imbalanced-learn             0.10.1\r\n",
      "importlib-metadata           6.0.0\r\n",
      "importlib-resources          5.12.0\r\n",
      "ipykernel                    6.21.2\r\n",
      "ipython                      8.11.0\r\n",
      "ipython-genutils             0.2.0\r\n",
      "ipywidgets                   8.0.4\r\n",
      "isoduration                  20.11.0\r\n",
      "itsdangerous                 2.1.2\r\n",
      "jax                          0.4.4\r\n",
      "jaxlib                       0.4.4\r\n",
      "jedi                         0.18.2\r\n",
      "Jinja2                       3.1.2\r\n",
      "jmespath                     1.0.1\r\n",
      "joblib                       1.1.1\r\n",
      "json5                        0.9.11\r\n",
      "jsonpointer                  2.3\r\n",
      "jsonschema                   4.17.3\r\n",
      "jupyter_client               8.0.3\r\n",
      "jupyter_core                 5.2.0\r\n",
      "jupyter-events               0.6.3\r\n",
      "jupyter_server               2.3.0\r\n",
      "jupyter_server_fileid        0.8.0\r\n",
      "jupyter_server_terminals     0.4.4\r\n",
      "jupyter_server_ydoc          0.6.1\r\n",
      "jupyter-ydoc                 0.2.2\r\n",
      "jupyterlab                   3.6.1\r\n",
      "jupyterlab-pygments          0.2.2\r\n",
      "jupyterlab_server            2.19.0\r\n",
      "jupyterlab-widgets           3.0.5\r\n",
      "keras                        2.11.0\r\n",
      "kiwisolver                   1.4.4\r\n",
      "libclang                     15.0.6.1\r\n",
      "llvmlite                     0.39.1\r\n",
      "Mako                         1.2.4\r\n",
      "mando                        0.6.4\r\n",
      "Markdown                     3.4.1\r\n",
      "MarkupSafe                   2.1.2\r\n",
      "matplotlib                   3.5.2\r\n",
      "matplotlib-inline            0.1.6\r\n",
      "miniful                      0.0.6\r\n",
      "missingno                    0.5.2\r\n",
      "mistune                      2.0.5\r\n",
      "mlflow                       1.27.0\r\n",
      "more-itertools               9.1.0\r\n",
      "morphemes                    1.1.1\r\n",
      "multidict                    6.0.4\r\n",
      "multimethod                  1.9.1\r\n",
      "nbclassic                    0.5.2\r\n",
      "nbclient                     0.7.2\r\n",
      "nbconvert                    7.2.9\r\n",
      "nbformat                     5.7.3\r\n",
      "nest-asyncio                 1.5.6\r\n",
      "networkx                     3.0\r\n",
      "nltk                         3.8.1\r\n",
      "notebook                     6.5.2\r\n",
      "notebook_shim                0.2.2\r\n",
      "numba                        0.56.4\r\n",
      "numpy                        1.23.5\r\n",
      "nvidia-cublas-cu11           11.10.3.66\r\n",
      "nvidia-cuda-nvrtc-cu11       11.7.99\r\n",
      "nvidia-cuda-runtime-cu11     11.7.99\r\n",
      "nvidia-cudnn-cu11            8.5.0.96\r\n",
      "oauthlib                     3.2.2\r\n",
      "openai                       0.27.0\r\n",
      "openai-whisper               20230124\r\n",
      "openpyxl                     3.1.1\r\n",
      "opt-einsum                   3.3.0\r\n",
      "packaging                    23.0\r\n",
      "pandas                       1.5.3\r\n",
      "pandas-profiling             3.2.0\r\n",
      "pandocfilters                1.5.0\r\n",
      "parso                        0.8.3\r\n",
      "pdoc3                        0.10.0\r\n",
      "pexpect                      4.8.0\r\n",
      "phik                         0.12.3\r\n",
      "pickleshare                  0.7.5\r\n",
      "Pillow                       9.4.0\r\n",
      "pip                          23.0.1\r\n",
      "platformdirs                 3.0.0\r\n",
      "prometheus-client            0.16.0\r\n",
      "prometheus-flask-exporter    0.22.2\r\n",
      "promise                      2.3\r\n",
      "prompt-toolkit               3.0.38\r\n",
      "protobuf                     3.19.6\r\n",
      "psutil                       5.9.4\r\n",
      "psycopg2-binary              2.9.1\r\n",
      "ptyprocess                   0.7.0\r\n",
      "pure-eval                    0.2.2\r\n",
      "pyasn1                       0.4.8\r\n",
      "pyasn1-modules               0.2.8\r\n",
      "PyAudio                      0.2.13\r\n",
      "pycparser                    2.21\r\n",
      "pydantic                     1.10.5\r\n",
      "pydub                        0.25.1\r\n",
      "pyenchant                    3.2.2\r\n",
      "pyFUME                       0.2.25\r\n",
      "Pygments                     2.14.0\r\n",
      "PyJWT                        2.6.0\r\n",
      "pyparsing                    3.0.9\r\n",
      "pyperclip                    1.8.2\r\n",
      "pyrsistent                   0.19.3\r\n",
      "python-dateutil              2.8.2\r\n",
      "python-json-logger           2.0.7\r\n",
      "pytz                         2022.7.1\r\n",
      "PyWavelets                   1.4.1\r\n",
      "PyYAML                       6.0\r\n",
      "pyzmq                        25.0.0\r\n",
      "querystring-parser           1.2.4\r\n",
      "radon                        5.1.0\r\n",
      "regex                        2022.10.31\r\n",
      "requests                     2.28.2\r\n",
      "requests-oauthlib            1.3.1\r\n",
      "rfc3339-validator            0.1.4\r\n",
      "rfc3986-validator            0.1.1\r\n",
      "rsa                          4.9\r\n",
      "s3fs                         0.4.0\r\n",
      "s3transfer                   0.6.0\r\n",
      "scikit-learn                 1.2.1\r\n",
      "scipy                        1.10.1\r\n",
      "seaborn                      0.12.2\r\n",
      "Send2Trash                   1.8.0\r\n",
      "setuptools                   59.6.0\r\n",
      "shap                         0.41.0\r\n",
      "sidetable                    0.9.0\r\n",
      "simpful                      2.10.0\r\n",
      "six                          1.16.0\r\n",
      "slicer                       0.0.7\r\n",
      "smart-open                   6.3.0\r\n",
      "smmap                        5.0.0\r\n",
      "sniffio                      1.3.0\r\n",
      "soupsieve                    2.4\r\n",
      "SQLAlchemy                   2.0.4\r\n",
      "sqlparse                     0.4.3\r\n",
      "stack-data                   0.6.2\r\n",
      "tabulate                     0.9.0\r\n",
      "tangled-up-in-unicode        0.2.0\r\n",
      "tensorboard                  2.11.2\r\n",
      "tensorboard-data-server      0.6.1\r\n",
      "tensorboard-plugin-wit       1.8.1\r\n",
      "tensorflow                   2.11.0\r\n",
      "tensorflow-datasets          4.8.3\r\n",
      "tensorflow-estimator         2.11.0\r\n",
      "tensorflow-hub               0.12.0\r\n",
      "tensorflow-io-gcs-filesystem 0.31.0\r\n",
      "tensorflow-metadata          1.12.0\r\n",
      "tensorflow-text              2.11.0\r\n",
      "tensorrt                     8.5.3.1\r\n",
      "termcolor                    2.2.0\r\n",
      "terminado                    0.17.1\r\n",
      "threadpoolctl                3.1.0\r\n",
      "tinycss2                     1.2.1\r\n",
      "tinydb                       4.7.1\r\n",
      "tokenizers                   0.13.2\r\n",
      "toml                         0.10.2\r\n",
      "tomli                        2.0.1\r\n",
      "torch                        1.13.1\r\n",
      "torchaudio                   0.13.1\r\n",
      "torchvision                  0.14.1\r\n",
      "tornado                      6.2\r\n",
      "tqdm                         4.64.1\r\n",
      "traitlets                    5.9.0\r\n",
      "transformers                 4.26.1\r\n",
      "trax                         1.4.1\r\n",
      "typing_extensions            4.5.0\r\n",
      "uri-template                 1.2.0\r\n",
      "urllib3                      1.26.14\r\n",
      "visions                      0.7.4\r\n",
      "wcwidth                      0.2.6\r\n",
      "webcolors                    1.12\r\n",
      "webencodings                 0.5.1\r\n",
      "websocket-client             1.5.1\r\n",
      "Werkzeug                     2.2.3\r\n",
      "wheel                        0.37.1\r\n",
      "widgetsnbextension           4.0.5\r\n",
      "wrapt                        1.15.0\r\n",
      "xgboost                      1.7.4\r\n",
      "y-py                         0.5.9\r\n",
      "yarl                         1.8.2\r\n",
      "ypy-websocket                0.8.2\r\n",
      "zipp                         3.15.0\r\n",
      "\r\n",
      "\u001B[1m[\u001B[0m\u001B[34;49mnotice\u001B[0m\u001B[1;39;49m]\u001B[0m\u001B[39;49m A new release of pip is available: \u001B[0m\u001B[31;49m23.0.1\u001B[0m\u001B[39;49m -> \u001B[0m\u001B[32;49m23.2.1\u001B[0m\r\n",
      "\u001B[1m[\u001B[0m\u001B[34;49mnotice\u001B[0m\u001B[1;39;49m]\u001B[0m\u001B[39;49m To update, run: \u001B[0m\u001B[32;49mpython3 -m pip install --upgrade pip\u001B[0m\r\n"
     ]
    }
   ],
   "source": [
    "! pip list"
   ],
   "metadata": {
    "collapsed": false,
    "ExecuteTime": {
     "end_time": "2023-09-03T03:11:44.175244Z",
     "start_time": "2023-09-03T03:11:43.337456Z"
    }
   }
  },
  {
   "cell_type": "code",
   "execution_count": 13,
   "outputs": [],
   "source": [
    "import re"
   ],
   "metadata": {
    "collapsed": false,
    "ExecuteTime": {
     "end_time": "2023-06-20T16:56:47.615969Z",
     "start_time": "2023-06-20T16:56:47.611745Z"
    }
   }
  },
  {
   "cell_type": "code",
   "execution_count": 7,
   "outputs": [],
   "source": [
    "%load_ext autoreload"
   ],
   "metadata": {
    "collapsed": false,
    "ExecuteTime": {
     "end_time": "2023-05-15T16:26:57.587109Z",
     "start_time": "2023-05-15T16:26:57.562342Z"
    }
   }
  },
  {
   "cell_type": "code",
   "execution_count": 10,
   "metadata": {
    "collapsed": true,
    "ExecuteTime": {
     "end_time": "2023-05-15T16:27:23.232842Z",
     "start_time": "2023-05-15T16:27:23.225901Z"
    }
   },
   "outputs": [
    {
     "name": "stdout",
     "output_type": "stream",
     "text": [
      "i am a sentence with a a comma and a period and something goes all together\n"
     ]
    }
   ],
   "source": [
    "query = \"I am a sentence with a space, a comma, and a period and something goes all together.\"\n",
    "foo = query.lower()\n",
    "foo = re.sub( r'space, |[,.]','', foo )\n",
    "print( foo )"
   ]
  },
  {
   "cell_type": "code",
   "execution_count": 3,
   "outputs": [
    {
     "name": "stdout",
     "output_type": "stream",
     "text": [
      "/Users/rruiz/Projects/projects-sshfs/genie-in-the-box/src/notebooks\n"
     ]
    },
    {
     "data": {
      "text/plain": "['/Applications/PyCharm.app/Contents/plugins/python/helpers-pro/jupyter_debug',\n '/Applications/PyCharm.app/Contents/plugins/python/helpers/pydev',\n '/Users/rruiz/Projects/projects-sshfs/genie-in-the-box/src/notebooks',\n '/Users/rruiz/Projects/projects-sshfs/genie-in-the-box',\n '/opt/homebrew/Cellar/python@3.10/3.10.10_1/Frameworks/Python.framework/Versions/3.10/lib/python310.zip',\n '/opt/homebrew/Cellar/python@3.10/3.10.10_1/Frameworks/Python.framework/Versions/3.10/lib/python3.10',\n '/opt/homebrew/Cellar/python@3.10/3.10.10_1/Frameworks/Python.framework/Versions/3.10/lib/python3.10/lib-dynload',\n '',\n '/Users/rruiz/Projects/local-interpreter-python3.10/venv/lib/python3.10/site-packages',\n '/opt/homebrew/opt/python-tk@3.10/libexec']"
     },
     "execution_count": 3,
     "metadata": {},
     "output_type": "execute_result"
    }
   ],
   "source": [
    "import sys\n",
    "import os\n",
    "print( os.getcwd() )\n",
    "sys.path"
   ],
   "metadata": {
    "collapsed": false,
    "ExecuteTime": {
     "end_time": "2023-05-15T16:17:23.987309Z",
     "start_time": "2023-05-15T16:17:23.968881Z"
    }
   }
  },
  {
   "cell_type": "code",
   "execution_count": 4,
   "outputs": [],
   "source": [
    "lib_path = \"/Users/rruiz/Projects/projects-sshfs/genie-server/src\"\n",
    "if lib_path not in sys.path:\n",
    "    sys.path.append( lib_path )\n"
   ],
   "metadata": {
    "collapsed": false,
    "ExecuteTime": {
     "end_time": "2023-05-15T16:17:26.252839Z",
     "start_time": "2023-05-15T16:17:26.230497Z"
    }
   }
  },
  {
   "cell_type": "code",
   "execution_count": 5,
   "outputs": [
    {
     "data": {
      "text/plain": "['/Applications/PyCharm.app/Contents/plugins/python/helpers-pro/jupyter_debug',\n '/Applications/PyCharm.app/Contents/plugins/python/helpers/pydev',\n '/Users/rruiz/Projects/projects-sshfs/genie-in-the-box/src/notebooks',\n '/Users/rruiz/Projects/projects-sshfs/genie-in-the-box',\n '/opt/homebrew/Cellar/python@3.10/3.10.10_1/Frameworks/Python.framework/Versions/3.10/lib/python310.zip',\n '/opt/homebrew/Cellar/python@3.10/3.10.10_1/Frameworks/Python.framework/Versions/3.10/lib/python3.10',\n '/opt/homebrew/Cellar/python@3.10/3.10.10_1/Frameworks/Python.framework/Versions/3.10/lib/python3.10/lib-dynload',\n '',\n '/Users/rruiz/Projects/local-interpreter-python3.10/venv/lib/python3.10/site-packages',\n '/opt/homebrew/opt/python-tk@3.10/libexec',\n '/Users/rruiz/Projects/projects-sshfs/genie-server/src']"
     },
     "execution_count": 5,
     "metadata": {},
     "output_type": "execute_result"
    }
   ],
   "source": [
    "sys.path"
   ],
   "metadata": {
    "collapsed": false,
    "ExecuteTime": {
     "end_time": "2023-05-15T16:17:27.617769Z",
     "start_time": "2023-05-15T16:17:27.610057Z"
    }
   }
  },
  {
   "cell_type": "code",
   "execution_count": 39,
   "outputs": [
    {
     "name": "stdout",
     "output_type": "stream",
     "text": [
      "runtime_context [docker]\n",
      "Setting runtime output_path to [/var/io/vox-to-be-transcribed.wav]\n",
      "ERROR: Default mode [transcription] not found in modes list [['transcribe', 'transcribe_and_clean_prose', 'transcribe_and_clean_python', 'ai_service_by_vox', 'ai_service_from_clipboard', 'tts_from_clipboard']]\n",
      "ERROR: Setting default mode to [transcribe]\n"
     ]
    }
   ],
   "source": [
    "%autoreload\n",
    "os.chdir( lib_path )\n",
    "import genie_client as gc\n",
    "genie_client = gc.GenieClient()"
   ],
   "metadata": {
    "collapsed": false
   }
  },
  {
   "cell_type": "code",
   "execution_count": 46,
   "outputs": [
    {
     "data": {
      "text/plain": "'I am a sentence with a a, and a .'"
     },
     "execution_count": 46,
     "metadata": {},
     "output_type": "execute_result"
    }
   ],
   "source": [
    "genie_client.munge_code( \"I am. .a. .s.e.n.t.ence with a space, a comma, and a period.\" )"
   ],
   "metadata": {
    "collapsed": false
   }
  },
  {
   "cell_type": "code",
   "execution_count": 1,
   "outputs": [
    {
     "name": "stdout",
     "output_type": "stream",
     "text": [
      "Collecting duckduckgo-search\r\n",
      "  Downloading duckduckgo_search-2.9.5-py3-none-any.whl (31 kB)\r\n",
      "Requirement already satisfied: click>=8.1.3 in /usr/local/lib/python3.10/dist-packages (from duckduckgo-search) (8.1.3)\r\n",
      "Collecting requests>=2.29.0\r\n",
      "  Downloading requests-2.30.0-py3-none-any.whl (62 kB)\r\n",
      "\u001B[2K     \u001B[90m━━━━━━━━━━━━━━━━━━━━━━━━━━━━━━━━━━━━━━━━\u001B[0m \u001B[32m62.5/62.5 kB\u001B[0m \u001B[31m4.0 MB/s\u001B[0m eta \u001B[36m0:00:00\u001B[0m\r\n",
      "\u001B[?25hCollecting diskcache>=5.6.1\r\n",
      "  Downloading diskcache-5.6.1-py3-none-any.whl (45 kB)\r\n",
      "\u001B[2K     \u001B[90m━━━━━━━━━━━━━━━━━━━━━━━━━━━━━━━━━━━━━━━━\u001B[0m \u001B[32m45.6/45.6 kB\u001B[0m \u001B[31m7.3 MB/s\u001B[0m eta \u001B[36m0:00:00\u001B[0m\r\n",
      "\u001B[?25hRequirement already satisfied: certifi>=2017.4.17 in /usr/local/lib/python3.10/dist-packages (from requests>=2.29.0->duckduckgo-search) (2022.12.7)\r\n",
      "Requirement already satisfied: urllib3<3,>=1.21.1 in /usr/local/lib/python3.10/dist-packages (from requests>=2.29.0->duckduckgo-search) (1.26.14)\r\n",
      "Requirement already satisfied: charset-normalizer<4,>=2 in /usr/local/lib/python3.10/dist-packages (from requests>=2.29.0->duckduckgo-search) (3.0.1)\r\n",
      "Requirement already satisfied: idna<4,>=2.5 in /usr/local/lib/python3.10/dist-packages (from requests>=2.29.0->duckduckgo-search) (3.4)\r\n",
      "Installing collected packages: requests, diskcache, duckduckgo-search\r\n",
      "  Attempting uninstall: requests\r\n",
      "    Found existing installation: requests 2.28.2\r\n",
      "    Uninstalling requests-2.28.2:\r\n",
      "      Successfully uninstalled requests-2.28.2\r\n",
      "Successfully installed diskcache-5.6.1 duckduckgo-search-2.9.5 requests-2.30.0\r\n",
      "\u001B[33mWARNING: Running pip as the 'root' user can result in broken permissions and conflicting behaviour with the system package manager. It is recommended to use a virtual environment instead: https://pip.pypa.io/warnings/venv\u001B[0m\u001B[33m\r\n",
      "\u001B[0m\r\n",
      "\u001B[1m[\u001B[0m\u001B[34;49mnotice\u001B[0m\u001B[1;39;49m]\u001B[0m\u001B[39;49m A new release of pip is available: \u001B[0m\u001B[31;49m23.0.1\u001B[0m\u001B[39;49m -> \u001B[0m\u001B[32;49m23.1.2\u001B[0m\r\n",
      "\u001B[1m[\u001B[0m\u001B[34;49mnotice\u001B[0m\u001B[1;39;49m]\u001B[0m\u001B[39;49m To update, run: \u001B[0m\u001B[32;49mpython3 -m pip install --upgrade pip\u001B[0m\r\n",
      "Note: you may need to restart the kernel to use updated packages.\n"
     ]
    }
   ],
   "source": [
    "pip install duckduckgo-search"
   ],
   "metadata": {
    "collapsed": false,
    "ExecuteTime": {
     "end_time": "2023-05-16T14:04:04.406438Z",
     "start_time": "2023-05-16T14:04:01.938583Z"
    }
   }
  },
  {
   "cell_type": "code",
   "execution_count": 2,
   "outputs": [],
   "source": [
    "from duckduckgo_search import ddg"
   ],
   "metadata": {
    "collapsed": false,
    "ExecuteTime": {
     "end_time": "2023-05-16T14:04:07.311146Z",
     "start_time": "2023-05-16T14:04:07.254782Z"
    }
   }
  },
  {
   "cell_type": "code",
   "execution_count": 6,
   "outputs": [],
   "source": [
    "# keywords = \"python search api for duckduckgo\"\n",
    "keywords = \"google scholar disinformation\"\n",
    "results = ddg(keywords, region='wt-wt', safesearch='Off', time='y', max_results=10 )\n"
   ],
   "metadata": {
    "collapsed": false,
    "ExecuteTime": {
     "end_time": "2023-05-16T14:08:14.863620Z",
     "start_time": "2023-05-16T14:08:13.901573Z"
    }
   }
  },
  {
   "cell_type": "code",
   "execution_count": 12,
   "outputs": [
    {
     "name": "stdout",
     "output_type": "stream",
     "text": [
      "[\n",
      "  {\n",
      "    \"title\": \"What to know about disinformation and how to address it - Stanford News\",\n",
      "    \"href\": \"https://news.stanford.edu/2022/04/13/know-disinformation-address/\",\n",
      "    \"body\": \"As disinformation scholar Renee DiResta points out, disinformation about vaccines is practically as old as the vaccine itself: Shortly after Edward Jenner created the vaccine in 1796 to protect ...\"\n",
      "  },\n",
      "  {\n",
      "    \"title\": \"Disinformation as a context-bound phenomenon: toward a conceptual ...\",\n",
      "    \"href\": \"https://academic.oup.com/ct/article/33/1/1/6759692\",\n",
      "    \"body\": \"Scholarly attention to disinformation and related concepts has increased rapidly over the past years. Although the field is gravitating toward conceptual consensus on its key constituents (e.g., Chadwick & Stanyer, 2022; Freelon & Wells, 2020), unclarity on the context, intentions and actor-perspective of disinformation still prevails.Responding to calls in literature to view disinformation as ...\"\n",
      "  },\n",
      "  {\n",
      "    \"title\": \"Combating Misinformation as a Core Function of Public Health\",\n",
      "    \"href\": \"https://catalyst.nejm.org/doi/full/10.1056/CAT.22.0198\",\n",
      "    \"body\": \"Our efforts focused on both disinformation, defined as deliberately created and disseminated falsehoods, and misinformation, which is unintentional but can be just as harmful. 12 Misinformation...\"\n",
      "  },\n",
      "  {\n",
      "    \"title\": \"The emotional effects of multimodal disinformation: How multimodality ...\",\n",
      "    \"href\": \"https://journals.sagepub.com/doi/10.1177/14614448231153959\",\n",
      "    \"body\": \"Disinformation presented in multiple modalities (textual, visual, and auditory modes; multimodal disinformation) has become a serious concern. This study examines how disinformation, portrayed using an image or video format, may be more powerful than text-only disinformation.\"\n",
      "  },\n",
      "  {\n",
      "    \"title\": \"Misinformation and Disinformation in Food Science and Nutrition: Impact ...\",\n",
      "    \"href\": \"https://jn.nutrition.org/article/S0022-3166(22)13102-0/fulltext\",\n",
      "    \"body\": \"Misinformation and disinformation, the growing adoption of social media platforms, and the popularization of health and wellness \\\"experts\\\" collectively provide more profound challenges for credible dietitians who seek to model and/or support nutrition literacy. ... Google Scholar]. Figure 2 provides a chart that can help nutrition ...\"\n",
      "  },\n",
      "  {\n",
      "    \"title\": \"Russian disinformation finds fertile ground in the West\",\n",
      "    \"href\": \"https://www.nature.com/articles/s41562-022-01399-3\",\n",
      "    \"body\": \"Dezinformatsiia (disinformation) is one of them \\u2014 widely popularized during the Cold War \\u2014 meaning misleading or made-up information that is specifically aimed at disorienting the targeted social...\"\n",
      "  },\n",
      "  {\n",
      "    \"title\": \"Visual disinformation in a digital age: A literature synthesis and ...\",\n",
      "    \"href\": \"https://journals.sagepub.com/doi/full/10.1177/14614448221141648\",\n",
      "    \"body\": \"While a fast-growing body of research is concerned with the detrimental consequences of disinformation for democracy, ... Google Scholar. Arcos R, Gertrudix M, Arribas C, et al. (2022) Responses to digital disinformation as part of hybrid threats: a systematic review on the effects of disinformation and the effectiveness of fact-checking ...\"\n",
      "  },\n",
      "  {\n",
      "    \"title\": \"Full article: How Disinformation Reshaped the Relationship between ...\",\n",
      "    \"href\": \"https://www.tandfonline.com/doi/full/10.1080/21670811.2022.2081863\",\n",
      "    \"body\": \"Disinformation ranges from fabricated falsehoods and alternative facts to any information in disagreement with one's beliefs (Wardle and Derakhshan 2017 ). It combines initial malevolent intent with end-user amplification and gets spun around with the virality and velocity of algorithm-driven mass and social media.\"\n",
      "  },\n",
      "  {\n",
      "    \"title\": \"Artificial Intelligence and the Spread of Mis- and Disinformation\",\n",
      "    \"href\": \"https://link.springer.com/chapter/10.1007/978-3-031-06709-9_1\",\n",
      "    \"body\": \"This chapter aims to analyse the current literature surrounding the topic of artificial intelligence (AI) and the spread of mis- and disinformation, beginning with a look through the lens of the meaning of these terms, as well as the meaning of truth in a post-truth world.\"\n",
      "  },\n",
      "  {\n",
      "    \"title\": \"Evidence of inter-state coordination amongst state-backed information ...\",\n",
      "    \"href\": \"https://www.nature.com/articles/s41598-023-34245-1\",\n",
      "    \"body\": \"In attempt to combat disinformation, scholars have focused efforts on developing technical solutions for automated detection of multimodal disinformation, e.g., fact-checking claims in text,...\"\n",
      "  }\n",
      "]\n"
     ]
    }
   ],
   "source": [
    "import json\n",
    "print( json.dumps( results, indent=2 ) )"
   ],
   "metadata": {
    "collapsed": false,
    "ExecuteTime": {
     "end_time": "2023-05-16T15:45:58.643187Z",
     "start_time": "2023-05-16T15:45:58.638883Z"
    }
   }
  },
  {
   "cell_type": "code",
   "execution_count": 7,
   "outputs": [
    {
     "name": "stdout",
     "output_type": "stream",
     "text": [
      "{'title': 'What to know about disinformation and how to address it - Stanford News', 'href': 'https://news.stanford.edu/2022/04/13/know-disinformation-address/', 'body': 'As disinformation scholar Renee DiResta points out, disinformation about vaccines is practically as old as the vaccine itself: Shortly after Edward Jenner created the vaccine in 1796 to protect ...'}\n"
     ]
    }
   ],
   "source": [
    "print( results[ 0 ] )"
   ],
   "metadata": {
    "collapsed": false,
    "ExecuteTime": {
     "end_time": "2023-05-16T14:08:16.484469Z",
     "start_time": "2023-05-16T14:08:16.477320Z"
    }
   }
  },
  {
   "cell_type": "code",
   "execution_count": 8,
   "outputs": [
    {
     "name": "stdout",
     "output_type": "stream",
     "text": [
      "0 https://news.stanford.edu/2022/04/13/know-disinformation-address/\n",
      "0 What to know about disinformation and how to address it - Stanford News\n",
      "\n",
      "1 https://academic.oup.com/ct/article/33/1/1/6759692\n",
      "1 Disinformation as a context-bound phenomenon: toward a conceptual ...\n",
      "\n",
      "2 https://catalyst.nejm.org/doi/full/10.1056/CAT.22.0198\n",
      "2 Combating Misinformation as a Core Function of Public Health\n",
      "\n",
      "3 https://journals.sagepub.com/doi/10.1177/14614448231153959\n",
      "3 The emotional effects of multimodal disinformation: How multimodality ...\n",
      "\n",
      "4 https://jn.nutrition.org/article/S0022-3166(22)13102-0/fulltext\n",
      "4 Misinformation and Disinformation in Food Science and Nutrition: Impact ...\n",
      "\n",
      "5 https://www.nature.com/articles/s41562-022-01399-3\n",
      "5 Russian disinformation finds fertile ground in the West\n",
      "\n",
      "6 https://journals.sagepub.com/doi/full/10.1177/14614448221141648\n",
      "6 Visual disinformation in a digital age: A literature synthesis and ...\n",
      "\n",
      "7 https://www.tandfonline.com/doi/full/10.1080/21670811.2022.2081863\n",
      "7 Full article: How Disinformation Reshaped the Relationship between ...\n",
      "\n",
      "8 https://link.springer.com/chapter/10.1007/978-3-031-06709-9_1\n",
      "8 Artificial Intelligence and the Spread of Mis- and Disinformation\n",
      "\n",
      "9 https://www.nature.com/articles/s41598-023-34245-1\n",
      "9 Evidence of inter-state coordination amongst state-backed information ...\n"
     ]
    }
   ],
   "source": [
    "for idx, result in enumerate( results ):\n",
    "    print( idx, result[ \"href\" ] )\n",
    "    print( idx, result[ \"title\" ], end=\"\\n\\n\" )"
   ],
   "metadata": {
    "collapsed": false,
    "ExecuteTime": {
     "end_time": "2023-05-16T14:08:19.404481Z",
     "start_time": "2023-05-16T14:08:19.403343Z"
    }
   }
  },
  {
   "cell_type": "code",
   "execution_count": null,
   "outputs": [],
   "source": [],
   "metadata": {
    "collapsed": false
   }
  }
 ],
 "metadata": {
  "kernelspec": {
   "display_name": "Python 3",
   "language": "python",
   "name": "python3"
  },
  "language_info": {
   "codemirror_mode": {
    "name": "ipython",
    "version": 2
   },
   "file_extension": ".py",
   "mimetype": "text/x-python",
   "name": "python",
   "nbconvert_exporter": "python",
   "pygments_lexer": "ipython2",
   "version": "2.7.6"
  }
 },
 "nbformat": 4,
 "nbformat_minor": 0
}
