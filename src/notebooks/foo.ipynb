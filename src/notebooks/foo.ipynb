{
 "cells": [
  {
   "cell_type": "code",
   "execution_count": 9,
   "outputs": [],
   "source": [
    "import re"
   ],
   "metadata": {
    "collapsed": false
   }
  },
  {
   "cell_type": "code",
   "execution_count": 23,
   "outputs": [
    {
     "name": "stdout",
     "output_type": "stream",
     "text": [
      "The autoreload extension is already loaded. To reload it, use:\n",
      "  %reload_ext autoreload\n"
     ]
    }
   ],
   "source": [
    "%load_ext autoreload"
   ],
   "metadata": {
    "collapsed": false
   }
  },
  {
   "cell_type": "code",
   "execution_count": 11,
   "metadata": {
    "collapsed": true
   },
   "outputs": [
    {
     "name": "stdout",
     "output_type": "stream",
     "text": [
      "i am a sentence with a a comma and a period\n"
     ]
    }
   ],
   "source": [
    "query = \"I am a sentence with a space, a comma, and a period.\"\n",
    "foo = query.lower()\n",
    "foo = re.sub( r'space, |[,.]','', foo )\n",
    "print( foo )"
   ]
  },
  {
   "cell_type": "code",
   "execution_count": 17,
   "outputs": [
    {
     "name": "stdout",
     "output_type": "stream",
     "text": [
      "/Users/rruiz/Projects/projects-sshfs/genie-server/src/notebooks\n"
     ]
    },
    {
     "data": {
      "text/plain": "['/Applications/PyCharm.app/Contents/plugins/python/helpers-pro/jupyter_debug',\n '/Applications/PyCharm.app/Contents/plugins/python/helpers/pydev',\n '/Users/rruiz/Projects/projects-sshfs/genie-server/src/notebooks',\n '/opt/homebrew/Cellar/python@3.10/3.10.10_1/Frameworks/Python.framework/Versions/3.10/lib/python310.zip',\n '/opt/homebrew/Cellar/python@3.10/3.10.10_1/Frameworks/Python.framework/Versions/3.10/lib/python3.10',\n '/opt/homebrew/Cellar/python@3.10/3.10.10_1/Frameworks/Python.framework/Versions/3.10/lib/python3.10/lib-dynload',\n '',\n '/Users/rruiz/Projects/local-interpreter-python3.10/venv/lib/python3.10/site-packages',\n '/opt/homebrew/opt/python-tk@3.10/libexec']"
     },
     "execution_count": 17,
     "metadata": {},
     "output_type": "execute_result"
    }
   ],
   "source": [
    "import sys\n",
    "import os\n",
    "print( os.getcwd() )\n",
    "sys.path"
   ],
   "metadata": {
    "collapsed": false
   }
  },
  {
   "cell_type": "code",
   "execution_count": 18,
   "outputs": [],
   "source": [
    "lib_path = \"/Users/rruiz/Projects/projects-sshfs/genie-server/src\"\n",
    "if lib_path not in sys.path:\n",
    "    sys.path.append( lib_path )\n"
   ],
   "metadata": {
    "collapsed": false
   }
  },
  {
   "cell_type": "code",
   "execution_count": 19,
   "outputs": [
    {
     "data": {
      "text/plain": "['/Applications/PyCharm.app/Contents/plugins/python/helpers-pro/jupyter_debug',\n '/Applications/PyCharm.app/Contents/plugins/python/helpers/pydev',\n '/Users/rruiz/Projects/projects-sshfs/genie-server/src/notebooks',\n '/opt/homebrew/Cellar/python@3.10/3.10.10_1/Frameworks/Python.framework/Versions/3.10/lib/python310.zip',\n '/opt/homebrew/Cellar/python@3.10/3.10.10_1/Frameworks/Python.framework/Versions/3.10/lib/python3.10',\n '/opt/homebrew/Cellar/python@3.10/3.10.10_1/Frameworks/Python.framework/Versions/3.10/lib/python3.10/lib-dynload',\n '',\n '/Users/rruiz/Projects/local-interpreter-python3.10/venv/lib/python3.10/site-packages',\n '/opt/homebrew/opt/python-tk@3.10/libexec',\n '/Users/rruiz/Projects/projects-sshfs/genie-server/src']"
     },
     "execution_count": 19,
     "metadata": {},
     "output_type": "execute_result"
    }
   ],
   "source": [
    "sys.path"
   ],
   "metadata": {
    "collapsed": false
   }
  },
  {
   "cell_type": "code",
   "execution_count": 39,
   "outputs": [
    {
     "name": "stdout",
     "output_type": "stream",
     "text": [
      "runtime_context [docker]\n",
      "Setting runtime output_path to [/var/io/vox-to-be-transcribed.wav]\n",
      "ERROR: Default mode [transcription] not found in modes list [['transcribe', 'transcribe_and_clean_prose', 'transcribe_and_clean_python', 'ai_service_by_vox', 'ai_service_from_clipboard', 'tts_from_clipboard']]\n",
      "ERROR: Setting default mode to [transcribe]\n"
     ]
    }
   ],
   "source": [
    "%autoreload\n",
    "os.chdir( lib_path )\n",
    "import genie_client as gc\n",
    "genie_client = gc.GenieClient()"
   ],
   "metadata": {
    "collapsed": false
   }
  },
  {
   "cell_type": "code",
   "execution_count": 46,
   "outputs": [
    {
     "data": {
      "text/plain": "'I am a sentence with a a, and a .'"
     },
     "execution_count": 46,
     "metadata": {},
     "output_type": "execute_result"
    }
   ],
   "source": [
    "genie_client.munge_code( \"I am. .a. .s.e.n.t.ence with a space, a comma, and a period.\" )"
   ],
   "metadata": {
    "collapsed": false
   }
  },
  {
   "cell_type": "code",
   "execution_count": null,
   "outputs": [],
   "source": [],
   "metadata": {
    "collapsed": false
   }
  }
 ],
 "metadata": {
  "kernelspec": {
   "display_name": "Python 3",
   "language": "python",
   "name": "python3"
  },
  "language_info": {
   "codemirror_mode": {
    "name": "ipython",
    "version": 2
   },
   "file_extension": ".py",
   "mimetype": "text/x-python",
   "name": "python",
   "nbconvert_exporter": "python",
   "pygments_lexer": "ipython2",
   "version": "2.7.6"
  }
 },
 "nbformat": 4,
 "nbformat_minor": 0
}
