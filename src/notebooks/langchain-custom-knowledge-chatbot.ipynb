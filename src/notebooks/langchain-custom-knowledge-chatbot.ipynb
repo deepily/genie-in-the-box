{
 "cells": [
  {
   "cell_type": "code",
   "execution_count": 2,
   "outputs": [
    {
     "name": "stdout",
     "output_type": "stream",
     "text": [
      "total 28K\r\n",
      "drwxr-xr-x 2 1000 1000 4.0K Jul 21 16:08 .\r\n",
      "drwxr-xr-x 4 1000 1000 4.0K Jul 19 20:04 ..\r\n",
      "-rw-r--r-- 1 1000 1000 4.0K Jul 19 20:04 ._events.jsonl\r\n",
      "-rw-r--r-- 1 1000 1000 3.4K Jul 21 16:16 events.csv\r\n",
      "-rw-r--r-- 1 1000 1000  11K Jul 21 16:16 events.jsonl\r\n"
     ]
    }
   ],
   "source": [
    "! ls -alh /var/genie-in-the-box/src/conf/long-term-memory/"
   ],
   "metadata": {
    "collapsed": false,
    "ExecuteTime": {
     "end_time": "2023-07-21T16:18:08.067205Z",
     "start_time": "2023-07-21T16:18:07.951877Z"
    }
   }
  },
  {
   "cell_type": "code",
   "execution_count": 82,
   "metadata": {
    "collapsed": true,
    "ExecuteTime": {
     "end_time": "2023-07-20T19:40:41.526213Z",
     "start_time": "2023-07-20T19:40:39.655308Z"
    }
   },
   "outputs": [
    {
     "name": "stdout",
     "output_type": "stream",
     "text": [
      "Requirement already satisfied: python-dotenv in /usr/local/lib/python3.10/dist-packages (1.0.0)\r\n",
      "\u001B[33mWARNING: Running pip as the 'root' user can result in broken permissions and conflicting behaviour with the system package manager. It is recommended to use a virtual environment instead: https://pip.pypa.io/warnings/venv\u001B[0m\u001B[33m\r\n",
      "\u001B[0m\r\n",
      "\u001B[1m[\u001B[0m\u001B[34;49mnotice\u001B[0m\u001B[1;39;49m]\u001B[0m\u001B[39;49m A new release of pip is available: \u001B[0m\u001B[31;49m23.0.1\u001B[0m\u001B[39;49m -> \u001B[0m\u001B[32;49m23.2\u001B[0m\r\n",
      "\u001B[1m[\u001B[0m\u001B[34;49mnotice\u001B[0m\u001B[1;39;49m]\u001B[0m\u001B[39;49m To update, run: \u001B[0m\u001B[32;49mpython3 -m pip install --upgrade pip\u001B[0m\r\n"
     ]
    }
   ],
   "source": [
    "! pip install python-dotenv"
   ]
  },
  {
   "cell_type": "code",
   "execution_count": 83,
   "outputs": [
    {
     "name": "stdout",
     "output_type": "stream",
     "text": [
      "Requirement already satisfied: langchain in /usr/local/lib/python3.10/dist-packages (0.0.236)\r\n",
      "Requirement already satisfied: tenacity<9.0.0,>=8.1.0 in /usr/local/lib/python3.10/dist-packages (from langchain) (8.2.2)\r\n",
      "Requirement already satisfied: SQLAlchemy<3,>=1.4 in /usr/local/lib/python3.10/dist-packages (from langchain) (2.0.4)\r\n",
      "Requirement already satisfied: langsmith<0.0.11,>=0.0.10 in /usr/local/lib/python3.10/dist-packages (from langchain) (0.0.10)\r\n",
      "Requirement already satisfied: numpy<2,>=1 in /usr/local/lib/python3.10/dist-packages (from langchain) (1.23.5)\r\n",
      "Requirement already satisfied: openapi-schema-pydantic<2.0,>=1.2 in /usr/local/lib/python3.10/dist-packages (from langchain) (1.2.4)\r\n",
      "Requirement already satisfied: dataclasses-json<0.6.0,>=0.5.7 in /usr/local/lib/python3.10/dist-packages (from langchain) (0.5.12)\r\n",
      "Requirement already satisfied: async-timeout<5.0.0,>=4.0.0 in /usr/local/lib/python3.10/dist-packages (from langchain) (4.0.2)\r\n",
      "Requirement already satisfied: requests<3,>=2 in /usr/local/lib/python3.10/dist-packages (from langchain) (2.28.2)\r\n",
      "Requirement already satisfied: numexpr<3.0.0,>=2.8.4 in /usr/local/lib/python3.10/dist-packages (from langchain) (2.8.4)\r\n",
      "Requirement already satisfied: PyYAML>=5.4.1 in /usr/local/lib/python3.10/dist-packages (from langchain) (6.0)\r\n",
      "Requirement already satisfied: pydantic<2,>=1 in /usr/local/lib/python3.10/dist-packages (from langchain) (1.10.5)\r\n",
      "Requirement already satisfied: aiohttp<4.0.0,>=3.8.3 in /usr/local/lib/python3.10/dist-packages (from langchain) (3.8.4)\r\n",
      "Requirement already satisfied: yarl<2.0,>=1.0 in /usr/local/lib/python3.10/dist-packages (from aiohttp<4.0.0,>=3.8.3->langchain) (1.8.2)\r\n",
      "Requirement already satisfied: attrs>=17.3.0 in /usr/local/lib/python3.10/dist-packages (from aiohttp<4.0.0,>=3.8.3->langchain) (22.2.0)\r\n",
      "Requirement already satisfied: aiosignal>=1.1.2 in /usr/local/lib/python3.10/dist-packages (from aiohttp<4.0.0,>=3.8.3->langchain) (1.3.1)\r\n",
      "Requirement already satisfied: frozenlist>=1.1.1 in /usr/local/lib/python3.10/dist-packages (from aiohttp<4.0.0,>=3.8.3->langchain) (1.3.3)\r\n",
      "Requirement already satisfied: multidict<7.0,>=4.5 in /usr/local/lib/python3.10/dist-packages (from aiohttp<4.0.0,>=3.8.3->langchain) (6.0.4)\r\n",
      "Requirement already satisfied: charset-normalizer<4.0,>=2.0 in /usr/local/lib/python3.10/dist-packages (from aiohttp<4.0.0,>=3.8.3->langchain) (3.0.1)\r\n",
      "Requirement already satisfied: marshmallow<4.0.0,>=3.18.0 in /usr/local/lib/python3.10/dist-packages (from dataclasses-json<0.6.0,>=0.5.7->langchain) (3.19.0)\r\n",
      "Requirement already satisfied: typing-inspect<1,>=0.4.0 in /usr/local/lib/python3.10/dist-packages (from dataclasses-json<0.6.0,>=0.5.7->langchain) (0.9.0)\r\n",
      "Requirement already satisfied: typing-extensions>=4.2.0 in /usr/local/lib/python3.10/dist-packages (from pydantic<2,>=1->langchain) (4.5.0)\r\n",
      "Requirement already satisfied: urllib3<1.27,>=1.21.1 in /usr/local/lib/python3.10/dist-packages (from requests<3,>=2->langchain) (1.26.14)\r\n",
      "Requirement already satisfied: idna<4,>=2.5 in /usr/local/lib/python3.10/dist-packages (from requests<3,>=2->langchain) (3.4)\r\n",
      "Requirement already satisfied: certifi>=2017.4.17 in /usr/local/lib/python3.10/dist-packages (from requests<3,>=2->langchain) (2022.12.7)\r\n",
      "Requirement already satisfied: greenlet!=0.4.17 in /usr/local/lib/python3.10/dist-packages (from SQLAlchemy<3,>=1.4->langchain) (2.0.2)\r\n",
      "Requirement already satisfied: packaging>=17.0 in /usr/local/lib/python3.10/dist-packages (from marshmallow<4.0.0,>=3.18.0->dataclasses-json<0.6.0,>=0.5.7->langchain) (23.0)\r\n",
      "Requirement already satisfied: mypy-extensions>=0.3.0 in /usr/local/lib/python3.10/dist-packages (from typing-inspect<1,>=0.4.0->dataclasses-json<0.6.0,>=0.5.7->langchain) (1.0.0)\r\n",
      "\u001B[33mWARNING: Running pip as the 'root' user can result in broken permissions and conflicting behaviour with the system package manager. It is recommended to use a virtual environment instead: https://pip.pypa.io/warnings/venv\u001B[0m\u001B[33m\r\n",
      "\u001B[0m\r\n",
      "\u001B[1m[\u001B[0m\u001B[34;49mnotice\u001B[0m\u001B[1;39;49m]\u001B[0m\u001B[39;49m A new release of pip is available: \u001B[0m\u001B[31;49m23.0.1\u001B[0m\u001B[39;49m -> \u001B[0m\u001B[32;49m23.2\u001B[0m\r\n",
      "\u001B[1m[\u001B[0m\u001B[34;49mnotice\u001B[0m\u001B[1;39;49m]\u001B[0m\u001B[39;49m To update, run: \u001B[0m\u001B[32;49mpython3 -m pip install --upgrade pip\u001B[0m\r\n"
     ]
    }
   ],
   "source": [
    "! pip install langchain"
   ],
   "metadata": {
    "collapsed": false,
    "ExecuteTime": {
     "end_time": "2023-07-20T19:40:44.928834Z",
     "start_time": "2023-07-20T19:40:42.985028Z"
    }
   }
  },
  {
   "cell_type": "code",
   "execution_count": 84,
   "outputs": [
    {
     "name": "stdout",
     "output_type": "stream",
     "text": [
      "Requirement already satisfied: langchain[docarray] in /usr/local/lib/python3.10/dist-packages (0.0.236)\r\n",
      "Requirement already satisfied: numexpr<3.0.0,>=2.8.4 in /usr/local/lib/python3.10/dist-packages (from langchain[docarray]) (2.8.4)\r\n",
      "Requirement already satisfied: SQLAlchemy<3,>=1.4 in /usr/local/lib/python3.10/dist-packages (from langchain[docarray]) (2.0.4)\r\n",
      "Requirement already satisfied: openapi-schema-pydantic<2.0,>=1.2 in /usr/local/lib/python3.10/dist-packages (from langchain[docarray]) (1.2.4)\r\n",
      "Requirement already satisfied: tenacity<9.0.0,>=8.1.0 in /usr/local/lib/python3.10/dist-packages (from langchain[docarray]) (8.2.2)\r\n",
      "Requirement already satisfied: dataclasses-json<0.6.0,>=0.5.7 in /usr/local/lib/python3.10/dist-packages (from langchain[docarray]) (0.5.12)\r\n",
      "Requirement already satisfied: langsmith<0.0.11,>=0.0.10 in /usr/local/lib/python3.10/dist-packages (from langchain[docarray]) (0.0.10)\r\n",
      "Requirement already satisfied: async-timeout<5.0.0,>=4.0.0 in /usr/local/lib/python3.10/dist-packages (from langchain[docarray]) (4.0.2)\r\n",
      "Requirement already satisfied: PyYAML>=5.4.1 in /usr/local/lib/python3.10/dist-packages (from langchain[docarray]) (6.0)\r\n",
      "Requirement already satisfied: pydantic<2,>=1 in /usr/local/lib/python3.10/dist-packages (from langchain[docarray]) (1.10.5)\r\n",
      "Requirement already satisfied: numpy<2,>=1 in /usr/local/lib/python3.10/dist-packages (from langchain[docarray]) (1.23.5)\r\n",
      "Requirement already satisfied: aiohttp<4.0.0,>=3.8.3 in /usr/local/lib/python3.10/dist-packages (from langchain[docarray]) (3.8.4)\r\n",
      "Requirement already satisfied: requests<3,>=2 in /usr/local/lib/python3.10/dist-packages (from langchain[docarray]) (2.28.2)\r\n",
      "Requirement already satisfied: docarray[hnswlib]<0.33.0,>=0.32.0 in /usr/local/lib/python3.10/dist-packages (from langchain[docarray]) (0.32.1)\r\n",
      "Requirement already satisfied: attrs>=17.3.0 in /usr/local/lib/python3.10/dist-packages (from aiohttp<4.0.0,>=3.8.3->langchain[docarray]) (22.2.0)\r\n",
      "Requirement already satisfied: yarl<2.0,>=1.0 in /usr/local/lib/python3.10/dist-packages (from aiohttp<4.0.0,>=3.8.3->langchain[docarray]) (1.8.2)\r\n",
      "Requirement already satisfied: multidict<7.0,>=4.5 in /usr/local/lib/python3.10/dist-packages (from aiohttp<4.0.0,>=3.8.3->langchain[docarray]) (6.0.4)\r\n",
      "Requirement already satisfied: charset-normalizer<4.0,>=2.0 in /usr/local/lib/python3.10/dist-packages (from aiohttp<4.0.0,>=3.8.3->langchain[docarray]) (3.0.1)\r\n",
      "Requirement already satisfied: frozenlist>=1.1.1 in /usr/local/lib/python3.10/dist-packages (from aiohttp<4.0.0,>=3.8.3->langchain[docarray]) (1.3.3)\r\n",
      "Requirement already satisfied: aiosignal>=1.1.2 in /usr/local/lib/python3.10/dist-packages (from aiohttp<4.0.0,>=3.8.3->langchain[docarray]) (1.3.1)\r\n",
      "Requirement already satisfied: marshmallow<4.0.0,>=3.18.0 in /usr/local/lib/python3.10/dist-packages (from dataclasses-json<0.6.0,>=0.5.7->langchain[docarray]) (3.19.0)\r\n",
      "Requirement already satisfied: typing-inspect<1,>=0.4.0 in /usr/local/lib/python3.10/dist-packages (from dataclasses-json<0.6.0,>=0.5.7->langchain[docarray]) (0.9.0)\r\n",
      "Requirement already satisfied: types-requests>=2.28.11.6 in /usr/local/lib/python3.10/dist-packages (from docarray[hnswlib]<0.33.0,>=0.32.0->langchain[docarray]) (2.31.0.1)\r\n",
      "Requirement already satisfied: rich>=13.1.0 in /usr/local/lib/python3.10/dist-packages (from docarray[hnswlib]<0.33.0,>=0.32.0->langchain[docarray]) (13.4.2)\r\n",
      "Requirement already satisfied: orjson>=3.8.2 in /usr/local/lib/python3.10/dist-packages (from docarray[hnswlib]<0.33.0,>=0.32.0->langchain[docarray]) (3.9.2)\r\n",
      "Requirement already satisfied: hnswlib>=0.6.2 in /usr/local/lib/python3.10/dist-packages (from docarray[hnswlib]<0.33.0,>=0.32.0->langchain[docarray]) (0.7.0)\r\n",
      "Requirement already satisfied: protobuf>=3.19.0 in /usr/local/lib/python3.10/dist-packages (from docarray[hnswlib]<0.33.0,>=0.32.0->langchain[docarray]) (3.19.6)\r\n",
      "Requirement already satisfied: typing-extensions>=4.2.0 in /usr/local/lib/python3.10/dist-packages (from pydantic<2,>=1->langchain[docarray]) (4.5.0)\r\n",
      "Requirement already satisfied: urllib3<1.27,>=1.21.1 in /usr/local/lib/python3.10/dist-packages (from requests<3,>=2->langchain[docarray]) (1.26.14)\r\n",
      "Requirement already satisfied: idna<4,>=2.5 in /usr/local/lib/python3.10/dist-packages (from requests<3,>=2->langchain[docarray]) (3.4)\r\n",
      "Requirement already satisfied: certifi>=2017.4.17 in /usr/local/lib/python3.10/dist-packages (from requests<3,>=2->langchain[docarray]) (2022.12.7)\r\n",
      "Requirement already satisfied: greenlet!=0.4.17 in /usr/local/lib/python3.10/dist-packages (from SQLAlchemy<3,>=1.4->langchain[docarray]) (2.0.2)\r\n",
      "Requirement already satisfied: packaging>=17.0 in /usr/local/lib/python3.10/dist-packages (from marshmallow<4.0.0,>=3.18.0->dataclasses-json<0.6.0,>=0.5.7->langchain[docarray]) (23.0)\r\n",
      "Requirement already satisfied: markdown-it-py>=2.2.0 in /usr/local/lib/python3.10/dist-packages (from rich>=13.1.0->docarray[hnswlib]<0.33.0,>=0.32.0->langchain[docarray]) (3.0.0)\r\n",
      "Requirement already satisfied: pygments<3.0.0,>=2.13.0 in /usr/local/lib/python3.10/dist-packages (from rich>=13.1.0->docarray[hnswlib]<0.33.0,>=0.32.0->langchain[docarray]) (2.14.0)\r\n",
      "Requirement already satisfied: types-urllib3 in /usr/local/lib/python3.10/dist-packages (from types-requests>=2.28.11.6->docarray[hnswlib]<0.33.0,>=0.32.0->langchain[docarray]) (1.26.25.13)\r\n",
      "Requirement already satisfied: mypy-extensions>=0.3.0 in /usr/local/lib/python3.10/dist-packages (from typing-inspect<1,>=0.4.0->dataclasses-json<0.6.0,>=0.5.7->langchain[docarray]) (1.0.0)\r\n",
      "Requirement already satisfied: mdurl~=0.1 in /usr/local/lib/python3.10/dist-packages (from markdown-it-py>=2.2.0->rich>=13.1.0->docarray[hnswlib]<0.33.0,>=0.32.0->langchain[docarray]) (0.1.2)\r\n",
      "\u001B[33mWARNING: Running pip as the 'root' user can result in broken permissions and conflicting behaviour with the system package manager. It is recommended to use a virtual environment instead: https://pip.pypa.io/warnings/venv\u001B[0m\u001B[33m\r\n",
      "\u001B[0m\r\n",
      "\u001B[1m[\u001B[0m\u001B[34;49mnotice\u001B[0m\u001B[1;39;49m]\u001B[0m\u001B[39;49m A new release of pip is available: \u001B[0m\u001B[31;49m23.0.1\u001B[0m\u001B[39;49m -> \u001B[0m\u001B[32;49m23.2\u001B[0m\r\n",
      "\u001B[1m[\u001B[0m\u001B[34;49mnotice\u001B[0m\u001B[1;39;49m]\u001B[0m\u001B[39;49m To update, run: \u001B[0m\u001B[32;49mpython3 -m pip install --upgrade pip\u001B[0m\r\n"
     ]
    }
   ],
   "source": [
    "! pip install langchain[docarray]"
   ],
   "metadata": {
    "collapsed": false,
    "ExecuteTime": {
     "end_time": "2023-07-20T19:40:49.707571Z",
     "start_time": "2023-07-20T19:40:47.725169Z"
    }
   }
  },
  {
   "cell_type": "code",
   "execution_count": 85,
   "outputs": [
    {
     "name": "stdout",
     "output_type": "stream",
     "text": [
      "Requirement already satisfied: tiktoken in /usr/local/lib/python3.10/dist-packages (0.4.0)\r\n",
      "Requirement already satisfied: regex>=2022.1.18 in /usr/local/lib/python3.10/dist-packages (from tiktoken) (2022.10.31)\r\n",
      "Requirement already satisfied: requests>=2.26.0 in /usr/local/lib/python3.10/dist-packages (from tiktoken) (2.28.2)\r\n",
      "Requirement already satisfied: certifi>=2017.4.17 in /usr/local/lib/python3.10/dist-packages (from requests>=2.26.0->tiktoken) (2022.12.7)\r\n",
      "Requirement already satisfied: urllib3<1.27,>=1.21.1 in /usr/local/lib/python3.10/dist-packages (from requests>=2.26.0->tiktoken) (1.26.14)\r\n",
      "Requirement already satisfied: idna<4,>=2.5 in /usr/local/lib/python3.10/dist-packages (from requests>=2.26.0->tiktoken) (3.4)\r\n",
      "Requirement already satisfied: charset-normalizer<4,>=2 in /usr/local/lib/python3.10/dist-packages (from requests>=2.26.0->tiktoken) (3.0.1)\r\n",
      "\u001B[33mWARNING: Running pip as the 'root' user can result in broken permissions and conflicting behaviour with the system package manager. It is recommended to use a virtual environment instead: https://pip.pypa.io/warnings/venv\u001B[0m\u001B[33m\r\n",
      "\u001B[0m\r\n",
      "\u001B[1m[\u001B[0m\u001B[34;49mnotice\u001B[0m\u001B[1;39;49m]\u001B[0m\u001B[39;49m A new release of pip is available: \u001B[0m\u001B[31;49m23.0.1\u001B[0m\u001B[39;49m -> \u001B[0m\u001B[32;49m23.2\u001B[0m\r\n",
      "\u001B[1m[\u001B[0m\u001B[34;49mnotice\u001B[0m\u001B[1;39;49m]\u001B[0m\u001B[39;49m To update, run: \u001B[0m\u001B[32;49mpython3 -m pip install --upgrade pip\u001B[0m\r\n"
     ]
    }
   ],
   "source": [
    "! pip install tiktoken"
   ],
   "metadata": {
    "collapsed": false,
    "ExecuteTime": {
     "end_time": "2023-07-20T19:40:54.257133Z",
     "start_time": "2023-07-20T19:40:52.371086Z"
    }
   }
  },
  {
   "cell_type": "code",
   "execution_count": 86,
   "outputs": [
    {
     "name": "stdout",
     "output_type": "stream",
     "text": [
      "Requirement already satisfied: pinecone-client in /usr/local/lib/python3.10/dist-packages (2.2.2)\r\n",
      "Requirement already satisfied: requests>=2.19.0 in /usr/local/lib/python3.10/dist-packages (from pinecone-client) (2.28.2)\r\n",
      "Requirement already satisfied: numpy>=1.22.0 in /usr/local/lib/python3.10/dist-packages (from pinecone-client) (1.23.5)\r\n",
      "Requirement already satisfied: urllib3>=1.21.1 in /usr/local/lib/python3.10/dist-packages (from pinecone-client) (1.26.14)\r\n",
      "Requirement already satisfied: typing-extensions>=3.7.4 in /usr/local/lib/python3.10/dist-packages (from pinecone-client) (4.5.0)\r\n",
      "Requirement already satisfied: pyyaml>=5.4 in /usr/local/lib/python3.10/dist-packages (from pinecone-client) (6.0)\r\n",
      "Requirement already satisfied: python-dateutil>=2.5.3 in /usr/local/lib/python3.10/dist-packages (from pinecone-client) (2.8.2)\r\n",
      "Requirement already satisfied: tqdm>=4.64.1 in /usr/local/lib/python3.10/dist-packages (from pinecone-client) (4.64.1)\r\n",
      "Requirement already satisfied: dnspython>=2.0.0 in /usr/local/lib/python3.10/dist-packages (from pinecone-client) (2.4.0)\r\n",
      "Requirement already satisfied: loguru>=0.5.0 in /usr/local/lib/python3.10/dist-packages (from pinecone-client) (0.7.0)\r\n",
      "Requirement already satisfied: httpcore>=0.17.3 in /usr/local/lib/python3.10/dist-packages (from dnspython>=2.0.0->pinecone-client) (0.17.3)\r\n",
      "Requirement already satisfied: sniffio<2.0,>=1.1 in /usr/local/lib/python3.10/dist-packages (from dnspython>=2.0.0->pinecone-client) (1.3.0)\r\n",
      "Requirement already satisfied: six>=1.5 in /usr/local/lib/python3.10/dist-packages (from python-dateutil>=2.5.3->pinecone-client) (1.16.0)\r\n",
      "Requirement already satisfied: idna<4,>=2.5 in /usr/local/lib/python3.10/dist-packages (from requests>=2.19.0->pinecone-client) (3.4)\r\n",
      "Requirement already satisfied: certifi>=2017.4.17 in /usr/local/lib/python3.10/dist-packages (from requests>=2.19.0->pinecone-client) (2022.12.7)\r\n",
      "Requirement already satisfied: charset-normalizer<4,>=2 in /usr/local/lib/python3.10/dist-packages (from requests>=2.19.0->pinecone-client) (3.0.1)\r\n",
      "Requirement already satisfied: h11<0.15,>=0.13 in /usr/local/lib/python3.10/dist-packages (from httpcore>=0.17.3->dnspython>=2.0.0->pinecone-client) (0.14.0)\r\n",
      "Requirement already satisfied: anyio<5.0,>=3.0 in /usr/local/lib/python3.10/dist-packages (from httpcore>=0.17.3->dnspython>=2.0.0->pinecone-client) (3.6.2)\r\n",
      "\u001B[33mWARNING: Running pip as the 'root' user can result in broken permissions and conflicting behaviour with the system package manager. It is recommended to use a virtual environment instead: https://pip.pypa.io/warnings/venv\u001B[0m\u001B[33m\r\n",
      "\u001B[0m\r\n",
      "\u001B[1m[\u001B[0m\u001B[34;49mnotice\u001B[0m\u001B[1;39;49m]\u001B[0m\u001B[39;49m A new release of pip is available: \u001B[0m\u001B[31;49m23.0.1\u001B[0m\u001B[39;49m -> \u001B[0m\u001B[32;49m23.2\u001B[0m\r\n",
      "\u001B[1m[\u001B[0m\u001B[34;49mnotice\u001B[0m\u001B[1;39;49m]\u001B[0m\u001B[39;49m To update, run: \u001B[0m\u001B[32;49mpython3 -m pip install --upgrade pip\u001B[0m\r\n"
     ]
    }
   ],
   "source": [
    "! pip install pinecone-client"
   ],
   "metadata": {
    "collapsed": false,
    "ExecuteTime": {
     "end_time": "2023-07-20T19:40:57.688676Z",
     "start_time": "2023-07-20T19:40:55.782940Z"
    }
   }
  },
  {
   "cell_type": "code",
   "execution_count": 92,
   "outputs": [
    {
     "name": "stdout",
     "output_type": "stream",
     "text": [
      "Requirement already satisfied: jq in /usr/local/lib/python3.10/dist-packages (1.4.1)\r\n",
      "\u001B[33mWARNING: Running pip as the 'root' user can result in broken permissions and conflicting behaviour with the system package manager. It is recommended to use a virtual environment instead: https://pip.pypa.io/warnings/venv\u001B[0m\u001B[33m\r\n",
      "\u001B[0m\r\n",
      "\u001B[1m[\u001B[0m\u001B[34;49mnotice\u001B[0m\u001B[1;39;49m]\u001B[0m\u001B[39;49m A new release of pip is available: \u001B[0m\u001B[31;49m23.0.1\u001B[0m\u001B[39;49m -> \u001B[0m\u001B[32;49m23.2\u001B[0m\r\n",
      "\u001B[1m[\u001B[0m\u001B[34;49mnotice\u001B[0m\u001B[1;39;49m]\u001B[0m\u001B[39;49m To update, run: \u001B[0m\u001B[32;49mpython3 -m pip install --upgrade pip\u001B[0m\r\n"
     ]
    }
   ],
   "source": [
    "! pip install jq"
   ],
   "metadata": {
    "collapsed": false,
    "ExecuteTime": {
     "end_time": "2023-07-20T19:42:59.545649Z",
     "start_time": "2023-07-20T19:42:57.644611Z"
    }
   }
  },
  {
   "cell_type": "code",
   "execution_count": 126,
   "outputs": [
    {
     "name": "stdout",
     "output_type": "stream",
     "text": [
      "Collecting chromadb\r\n",
      "  Downloading chromadb-0.4.2-py3-none-any.whl (399 kB)\r\n",
      "\u001B[2K     \u001B[90m━━━━━━━━━━━━━━━━━━━━━━━━━━━━━━━━━━━━━━━\u001B[0m \u001B[32m399.3/399.3 kB\u001B[0m \u001B[31m6.6 MB/s\u001B[0m eta \u001B[36m0:00:00\u001B[0ma \u001B[36m0:00:01\u001B[0m\r\n",
      "\u001B[?25hCollecting uvicorn[standard]>=0.18.3\r\n",
      "  Downloading uvicorn-0.23.1-py3-none-any.whl (59 kB)\r\n",
      "\u001B[2K     \u001B[90m━━━━━━━━━━━━━━━━━━━━━━━━━━━━━━━━━━━━━━━━\u001B[0m \u001B[32m59.5/59.5 kB\u001B[0m \u001B[31m11.1 MB/s\u001B[0m eta \u001B[36m0:00:00\u001B[0m\r\n",
      "\u001B[?25hRequirement already satisfied: numpy>=1.21.6 in /usr/local/lib/python3.10/dist-packages (from chromadb) (1.23.5)\r\n",
      "Requirement already satisfied: requests>=2.28 in /usr/local/lib/python3.10/dist-packages (from chromadb) (2.28.2)\r\n",
      "Collecting pulsar-client>=3.1.0\r\n",
      "  Downloading pulsar_client-3.2.0-cp310-cp310-manylinux_2_17_x86_64.manylinux2014_x86_64.whl (5.3 MB)\r\n",
      "\u001B[2K     \u001B[90m━━━━━━━━━━━━━━━━━━━━━━━━━━━━━━━━━━━━━━━━\u001B[0m \u001B[32m5.3/5.3 MB\u001B[0m \u001B[31m43.4 MB/s\u001B[0m eta \u001B[36m0:00:00\u001B[0m00:01\u001B[0m00:01\u001B[0m\r\n",
      "\u001B[?25hRequirement already satisfied: importlib-resources in /usr/local/lib/python3.10/dist-packages (from chromadb) (5.12.0)\r\n",
      "Requirement already satisfied: tokenizers>=0.13.2 in /usr/local/lib/python3.10/dist-packages (from chromadb) (0.13.2)\r\n",
      "Collecting onnxruntime>=1.14.1\r\n",
      "  Downloading onnxruntime-1.15.1-cp310-cp310-manylinux_2_17_x86_64.manylinux2014_x86_64.whl (5.9 MB)\r\n",
      "\u001B[2K     \u001B[90m━━━━━━━━━━━━━━━━━━━━━━━━━━━━━━━━━━━━━━━━\u001B[0m \u001B[32m5.9/5.9 MB\u001B[0m \u001B[31m41.4 MB/s\u001B[0m eta \u001B[36m0:00:00\u001B[0m00:01\u001B[0m00:01\u001B[0m\r\n",
      "\u001B[?25hCollecting overrides>=7.3.1\r\n",
      "  Downloading overrides-7.3.1-py3-none-any.whl (17 kB)\r\n",
      "Collecting chroma-hnswlib==0.7.1\r\n",
      "  Downloading chroma-hnswlib-0.7.1.tar.gz (30 kB)\r\n",
      "  Installing build dependencies ... \u001B[?25ldone\r\n",
      "\u001B[?25h  Getting requirements to build wheel ... \u001B[?25ldone\r\n",
      "\u001B[?25h  Preparing metadata (pyproject.toml) ... \u001B[?25ldone\r\n",
      "\u001B[?25hRequirement already satisfied: pandas>=1.3 in /usr/local/lib/python3.10/dist-packages (from chromadb) (1.5.3)\r\n",
      "Collecting posthog>=2.4.0\r\n",
      "  Downloading posthog-3.0.1-py2.py3-none-any.whl (37 kB)\r\n",
      "Collecting tqdm>=4.65.0\r\n",
      "  Downloading tqdm-4.65.0-py3-none-any.whl (77 kB)\r\n",
      "\u001B[2K     \u001B[90m━━━━━━━━━━━━━━━━━━━━━━━━━━━━━━━━━━━━━━━━\u001B[0m \u001B[32m77.1/77.1 kB\u001B[0m \u001B[31m14.1 MB/s\u001B[0m eta \u001B[36m0:00:00\u001B[0m\r\n",
      "\u001B[?25hCollecting pypika>=0.48.9\r\n",
      "  Downloading PyPika-0.48.9.tar.gz (67 kB)\r\n",
      "\u001B[2K     \u001B[90m━━━━━━━━━━━━━━━━━━━━━━━━━━━━━━━━━━━━━━━━\u001B[0m \u001B[32m67.3/67.3 kB\u001B[0m \u001B[31m14.3 MB/s\u001B[0m eta \u001B[36m0:00:00\u001B[0m\r\n",
      "\u001B[?25h  Installing build dependencies ... \u001B[?25ldone\r\n",
      "\u001B[?25h  Getting requirements to build wheel ... \u001B[?25ldone\r\n",
      "\u001B[?25h  Preparing metadata (pyproject.toml) ... \u001B[?25ldone\r\n",
      "\u001B[?25hCollecting fastapi<0.100.0,>=0.95.2\r\n",
      "  Downloading fastapi-0.99.1-py3-none-any.whl (58 kB)\r\n",
      "\u001B[2K     \u001B[90m━━━━━━━━━━━━━━━━━━━━━━━━━━━━━━━━━━━━━━━━\u001B[0m \u001B[32m58.4/58.4 kB\u001B[0m \u001B[31m14.1 MB/s\u001B[0m eta \u001B[36m0:00:00\u001B[0m\r\n",
      "\u001B[?25hRequirement already satisfied: typing-extensions>=4.5.0 in /usr/local/lib/python3.10/dist-packages (from chromadb) (4.5.0)\r\n",
      "Requirement already satisfied: pydantic<2.0,>=1.9 in /usr/local/lib/python3.10/dist-packages (from chromadb) (1.10.5)\r\n",
      "Collecting starlette<0.28.0,>=0.27.0\r\n",
      "  Downloading starlette-0.27.0-py3-none-any.whl (66 kB)\r\n",
      "\u001B[2K     \u001B[90m━━━━━━━━━━━━━━━━━━━━━━━━━━━━━━━━━━━━━━━━\u001B[0m \u001B[32m67.0/67.0 kB\u001B[0m \u001B[31m13.5 MB/s\u001B[0m eta \u001B[36m0:00:00\u001B[0m\r\n",
      "\u001B[?25hRequirement already satisfied: protobuf in /usr/local/lib/python3.10/dist-packages (from onnxruntime>=1.14.1->chromadb) (3.19.6)\r\n",
      "Collecting coloredlogs\r\n",
      "  Downloading coloredlogs-15.0.1-py2.py3-none-any.whl (46 kB)\r\n",
      "\u001B[2K     \u001B[90m━━━━━━━━━━━━━━━━━━━━━━━━━━━━━━━━━━━━━━━━\u001B[0m \u001B[32m46.0/46.0 kB\u001B[0m \u001B[31m10.7 MB/s\u001B[0m eta \u001B[36m0:00:00\u001B[0m\r\n",
      "\u001B[?25hCollecting sympy\r\n",
      "  Downloading sympy-1.12-py3-none-any.whl (5.7 MB)\r\n",
      "\u001B[2K     \u001B[90m━━━━━━━━━━━━━━━━━━━━━━━━━━━━━━━━━━━━━━━━\u001B[0m \u001B[32m5.7/5.7 MB\u001B[0m \u001B[31m45.7 MB/s\u001B[0m eta \u001B[36m0:00:00\u001B[0m00:01\u001B[0m00:01\u001B[0m\r\n",
      "\u001B[?25hRequirement already satisfied: flatbuffers in /usr/local/lib/python3.10/dist-packages (from onnxruntime>=1.14.1->chromadb) (23.1.21)\r\n",
      "Requirement already satisfied: packaging in /usr/local/lib/python3.10/dist-packages (from onnxruntime>=1.14.1->chromadb) (23.0)\r\n",
      "Requirement already satisfied: pytz>=2020.1 in /usr/local/lib/python3.10/dist-packages (from pandas>=1.3->chromadb) (2022.7.1)\r\n",
      "Requirement already satisfied: python-dateutil>=2.8.1 in /usr/local/lib/python3.10/dist-packages (from pandas>=1.3->chromadb) (2.8.2)\r\n",
      "Collecting backoff>=1.10.0\r\n",
      "  Downloading backoff-2.2.1-py3-none-any.whl (15 kB)\r\n",
      "Collecting monotonic>=1.5\r\n",
      "  Downloading monotonic-1.6-py2.py3-none-any.whl (8.2 kB)\r\n",
      "Requirement already satisfied: six>=1.5 in /usr/local/lib/python3.10/dist-packages (from posthog>=2.4.0->chromadb) (1.16.0)\r\n",
      "Requirement already satisfied: certifi in /usr/local/lib/python3.10/dist-packages (from pulsar-client>=3.1.0->chromadb) (2022.12.7)\r\n",
      "Requirement already satisfied: charset-normalizer<4,>=2 in /usr/local/lib/python3.10/dist-packages (from requests>=2.28->chromadb) (3.0.1)\r\n",
      "Requirement already satisfied: idna<4,>=2.5 in /usr/local/lib/python3.10/dist-packages (from requests>=2.28->chromadb) (3.4)\r\n",
      "Requirement already satisfied: urllib3<1.27,>=1.21.1 in /usr/local/lib/python3.10/dist-packages (from requests>=2.28->chromadb) (1.26.14)\r\n",
      "Requirement already satisfied: click>=7.0 in /usr/local/lib/python3.10/dist-packages (from uvicorn[standard]>=0.18.3->chromadb) (8.1.3)\r\n",
      "Requirement already satisfied: h11>=0.8 in /usr/local/lib/python3.10/dist-packages (from uvicorn[standard]>=0.18.3->chromadb) (0.14.0)\r\n",
      "Collecting watchfiles>=0.13\r\n",
      "  Downloading watchfiles-0.19.0-cp37-abi3-manylinux_2_17_x86_64.manylinux2014_x86_64.whl (1.3 MB)\r\n",
      "\u001B[2K     \u001B[90m━━━━━━━━━━━━━━━━━━━━━━━━━━━━━━━━━━━━━━━━\u001B[0m \u001B[32m1.3/1.3 MB\u001B[0m \u001B[31m47.6 MB/s\u001B[0m eta \u001B[36m0:00:00\u001B[0m\r\n",
      "\u001B[?25hCollecting uvloop!=0.15.0,!=0.15.1,>=0.14.0\r\n",
      "  Downloading uvloop-0.17.0-cp310-cp310-manylinux_2_17_x86_64.manylinux2014_x86_64.whl (4.1 MB)\r\n",
      "\u001B[2K     \u001B[90m━━━━━━━━━━━━━━━━━━━━━━━━━━━━━━━━━━━━━━━━\u001B[0m \u001B[32m4.1/4.1 MB\u001B[0m \u001B[31m46.6 MB/s\u001B[0m eta \u001B[36m0:00:00\u001B[0m00:01\u001B[0m00:01\u001B[0m\r\n",
      "\u001B[?25hRequirement already satisfied: pyyaml>=5.1 in /usr/local/lib/python3.10/dist-packages (from uvicorn[standard]>=0.18.3->chromadb) (6.0)\r\n",
      "Collecting websockets>=10.4\r\n",
      "  Downloading websockets-11.0.3-cp310-cp310-manylinux_2_5_x86_64.manylinux1_x86_64.manylinux_2_17_x86_64.manylinux2014_x86_64.whl (129 kB)\r\n",
      "\u001B[2K     \u001B[90m━━━━━━━━━━━━━━━━━━━━━━━━━━━━━━━━━━━━━━\u001B[0m \u001B[32m129.9/129.9 kB\u001B[0m \u001B[31m24.8 MB/s\u001B[0m eta \u001B[36m0:00:00\u001B[0m\r\n",
      "\u001B[?25hRequirement already satisfied: python-dotenv>=0.13 in /usr/local/lib/python3.10/dist-packages (from uvicorn[standard]>=0.18.3->chromadb) (1.0.0)\r\n",
      "Collecting httptools>=0.5.0\r\n",
      "  Downloading httptools-0.6.0-cp310-cp310-manylinux_2_5_x86_64.manylinux1_x86_64.manylinux_2_17_x86_64.manylinux2014_x86_64.whl (428 kB)\r\n",
      "\u001B[2K     \u001B[90m━━━━━━━━━━━━━━━━━━━━━━━━━━━━━━━━━━━━━━\u001B[0m \u001B[32m428.8/428.8 kB\u001B[0m \u001B[31m41.0 MB/s\u001B[0m eta \u001B[36m0:00:00\u001B[0m\r\n",
      "\u001B[?25hRequirement already satisfied: anyio<5,>=3.4.0 in /usr/local/lib/python3.10/dist-packages (from starlette<0.28.0,>=0.27.0->fastapi<0.100.0,>=0.95.2->chromadb) (3.6.2)\r\n",
      "Collecting humanfriendly>=9.1\r\n",
      "  Downloading humanfriendly-10.0-py2.py3-none-any.whl (86 kB)\r\n",
      "\u001B[2K     \u001B[90m━━━━━━━━━━━━━━━━━━━━━━━━━━━━━━━━━━━━━━━━\u001B[0m \u001B[32m86.8/86.8 kB\u001B[0m \u001B[31m22.9 MB/s\u001B[0m eta \u001B[36m0:00:00\u001B[0m\r\n",
      "\u001B[?25hCollecting mpmath>=0.19\r\n",
      "  Downloading mpmath-1.3.0-py3-none-any.whl (536 kB)\r\n",
      "\u001B[2K     \u001B[90m━━━━━━━━━━━━━━━━━━━━━━━━━━━━━━━━━━━━━━\u001B[0m \u001B[32m536.2/536.2 kB\u001B[0m \u001B[31m43.2 MB/s\u001B[0m eta \u001B[36m0:00:00\u001B[0m\r\n",
      "\u001B[?25hRequirement already satisfied: sniffio>=1.1 in /usr/local/lib/python3.10/dist-packages (from anyio<5,>=3.4.0->starlette<0.28.0,>=0.27.0->fastapi<0.100.0,>=0.95.2->chromadb) (1.3.0)\r\n",
      "Building wheels for collected packages: chroma-hnswlib, pypika\r\n",
      "  Building wheel for chroma-hnswlib (pyproject.toml) ... \u001B[?25ldone\r\n",
      "\u001B[?25h  Created wheel for chroma-hnswlib: filename=chroma_hnswlib-0.7.1-cp310-cp310-linux_x86_64.whl size=2265109 sha256=327b066ad745b88e514bbb893ab45ff13246c7f3dbcb5bf124ea68f134b82d1f\r\n",
      "  Stored in directory: /root/.cache/pip/wheels/ad/f2/d2/3f32228e9f4713a9f32a468de8bbc3c642f7805ebef888418b\r\n",
      "  Building wheel for pypika (pyproject.toml) ... \u001B[?25ldone\r\n",
      "\u001B[?25h  Created wheel for pypika: filename=PyPika-0.48.9-py2.py3-none-any.whl size=53723 sha256=3e3cf36daca200f28146d837f57464344c77efe306a667cdb3bf2948ee7a341e\r\n",
      "  Stored in directory: /root/.cache/pip/wheels/e1/26/51/d0bffb3d2fd82256676d7ad3003faea3bd6dddc9577af665f4\r\n",
      "Successfully built chroma-hnswlib pypika\r\n",
      "Installing collected packages: pypika, mpmath, monotonic, websockets, uvloop, uvicorn, tqdm, sympy, pulsar-client, overrides, humanfriendly, httptools, chroma-hnswlib, backoff, watchfiles, starlette, posthog, coloredlogs, onnxruntime, fastapi, chromadb\r\n",
      "  Attempting uninstall: tqdm\r\n",
      "    Found existing installation: tqdm 4.64.1\r\n",
      "    Uninstalling tqdm-4.64.1:\r\n",
      "      Successfully uninstalled tqdm-4.64.1\r\n",
      "Successfully installed backoff-2.2.1 chroma-hnswlib-0.7.1 chromadb-0.4.2 coloredlogs-15.0.1 fastapi-0.99.1 httptools-0.6.0 humanfriendly-10.0 monotonic-1.6 mpmath-1.3.0 onnxruntime-1.15.1 overrides-7.3.1 posthog-3.0.1 pulsar-client-3.2.0 pypika-0.48.9 starlette-0.27.0 sympy-1.12 tqdm-4.65.0 uvicorn-0.23.1 uvloop-0.17.0 watchfiles-0.19.0 websockets-11.0.3\r\n",
      "\u001B[33mWARNING: Running pip as the 'root' user can result in broken permissions and conflicting behaviour with the system package manager. It is recommended to use a virtual environment instead: https://pip.pypa.io/warnings/venv\u001B[0m\u001B[33m\r\n",
      "\u001B[0m\r\n",
      "\u001B[1m[\u001B[0m\u001B[34;49mnotice\u001B[0m\u001B[1;39;49m]\u001B[0m\u001B[39;49m A new release of pip is available: \u001B[0m\u001B[31;49m23.0.1\u001B[0m\u001B[39;49m -> \u001B[0m\u001B[32;49m23.2\u001B[0m\r\n",
      "\u001B[1m[\u001B[0m\u001B[34;49mnotice\u001B[0m\u001B[1;39;49m]\u001B[0m\u001B[39;49m To update, run: \u001B[0m\u001B[32;49mpython3 -m pip install --upgrade pip\u001B[0m\r\n"
     ]
    }
   ],
   "source": [
    "! pip install chromadb"
   ],
   "metadata": {
    "collapsed": false,
    "ExecuteTime": {
     "end_time": "2023-07-20T20:29:27.367636Z",
     "start_time": "2023-07-20T20:28:58.497385Z"
    }
   }
  },
  {
   "cell_type": "code",
   "execution_count": 2,
   "outputs": [],
   "source": [
    "import os"
   ],
   "metadata": {
    "collapsed": false,
    "ExecuteTime": {
     "end_time": "2023-07-20T21:30:51.211292Z",
     "start_time": "2023-07-20T21:30:51.174449Z"
    }
   }
  },
  {
   "cell_type": "code",
   "execution_count": 3,
   "outputs": [
    {
     "name": "stdout",
     "output_type": "stream",
     "text": [
      "Sure! Here's an example Python script that trains a neural network on simulated data using the Keras library:\n",
      "\n",
      "```python\n",
      "import numpy as np\n",
      "from keras.models import Sequential\n",
      "from keras.layers import Dense\n",
      "\n",
      "# Generate simulated data\n",
      "np.random.seed(0)\n",
      "X = np.random.rand(100, 2)\n",
      "y = np.random.randint(2, size=(100, 1))\n",
      "\n",
      "# Define the model architecture\n",
      "model = Sequential()\n",
      "model.add(Dense(4, input_dim=2, activation='relu'))\n",
      "model.add(Dense(1, activation='sigmoid'))\n",
      "\n",
      "# Compile the model\n",
      "model.compile(loss='binary_crossentropy', optimizer='adam', metrics=['accuracy'])\n",
      "\n",
      "# Train the model\n",
      "model.fit(X, y, epochs=10, batch_size=10)\n",
      "\n",
      "# Evaluate the model\n",
      "loss, accuracy = model.evaluate(X, y)\n",
      "print(f\"Loss: {loss}\")\n",
      "print(f\"Accuracy: {accuracy}\")\n",
      "```\n",
      "\n",
      "In this script, we first generate simulated data using `np.random.rand()` and `np.random.randint()`. The input data `X` is a 2-dimensional array of shape `(100, 2)`, and the target labels `y` are binary values of shape `(100, 1)`.\n",
      "\n",
      "Next, we define the model architecture using the `Sequential` class from Keras. We add two dense layers with 4 and 1 units, respectively, and specify the activation functions.\n",
      "\n",
      "After defining the model, we compile it using the `compile()` method. We specify the loss function as binary cross-entropy and the optimizer as Adam.\n",
      "\n",
      "We then train the model using the `fit()` method, specifying the number of epochs and batch size.\n",
      "\n",
      "Finally, we evaluate the trained model using the `evaluate()` method and print the loss and accuracy.\n"
     ]
    }
   ],
   "source": [
    "from langchain.schema import (\n",
    "    AIMessage,\n",
    "    HumanMessage,\n",
    "    SystemMessage\n",
    ")\n",
    "from langchain.chat_models import ChatOpenAI\n",
    "\n",
    "\n",
    "llm = ChatOpenAI( model_name=\"gpt-3.5-turbo\", temperature=0.3 )\n",
    "messages = [\n",
    "    SystemMessage( content=\"You are an expert data scientist\" ),\n",
    "    HumanMessage( content=\"Write a Python script that trains a neural network on simulated data \" )\n",
    "]\n",
    "response=llm( messages )\n",
    "\n",
    "print( response.content, end='\\n' )"
   ],
   "metadata": {
    "collapsed": false,
    "ExecuteTime": {
     "end_time": "2023-07-21T16:18:45.579336Z",
     "start_time": "2023-07-21T16:18:31.745366Z"
    }
   }
  },
  {
   "cell_type": "code",
   "execution_count": 4,
   "outputs": [
    {
     "name": "stdout",
     "output_type": "stream",
     "text": [
      "input_variables=['concept'] output_parser=None partial_variables={} messages=[HumanMessagePromptTemplate(prompt=PromptTemplate(input_variables=['concept'], output_parser=None, partial_variables={}, template='\\nYou are an expert data scientist with an expertise in building deep learning models.\\nExplain the concept of {concept} in a couple of lines\\n', template_format='f-string', validate_template=True), additional_kwargs={})]\n",
      "\n",
      "[HumanMessage(content='\\nYou are an expert data scientist with an expertise in building deep learning models.\\nExplain the concept of autoencoder in a couple of lines\\n', additional_kwargs={}, example=False)]\n",
      "\n",
      "[HumanMessage(content='\\nYou are an expert data scientist with an expertise in building deep learning models.\\nExplain the concept of regularization in a couple of lines\\n', additional_kwargs={}, example=False)]\n",
      "\n",
      "An autoencoder is a type of neural network that is trained to reconstruct its input data. It consists of an encoder network that compresses the input data into a lower-dimensional representation, and a decoder network that reconstructs the original input from this representation. Autoencoders are commonly used for dimensionality reduction, feature extraction, and anomaly detection.\n",
      "\n",
      "Regularization is a technique used in deep learning to prevent overfitting by adding a penalty term to the loss function. It helps to control the complexity of the model by discouraging large weights and encourages the model to generalize well on unseen data. This regularization term helps in finding a balance between fitting the training data and avoiding overfitting.\n",
      "\n"
     ]
    }
   ],
   "source": [
    "# Import prompt and define PromptTemplate\n",
    "\n",
    "from langchain.prompts import ChatPromptTemplate\n",
    "\n",
    "llm = ChatOpenAI( temperature=0.0 )\n",
    "llm\n",
    "\n",
    "template_string = \"\"\"\n",
    "You are an expert data scientist with an expertise in building deep learning models.\n",
    "Explain the concept of {concept} in a couple of lines\n",
    "\"\"\"\n",
    "\n",
    "prompt_template = ChatPromptTemplate.from_template( template_string )\n",
    "print( prompt_template, end=\"\\n\\n\" )\n",
    "\n",
    "prompt_autoencoder = prompt_template.format_messages( concept=\"autoencoder\" )\n",
    "print( prompt_autoencoder, end=\"\\n\\n\" )\n",
    "\n",
    "prompt_regularization = prompt_template.format_messages( concept=\"regularization\" )\n",
    "print( prompt_regularization, end=\"\\n\\n\" )\n",
    "\n",
    "response_autoencoder = llm( prompt_autoencoder )\n",
    "print( response_autoencoder.content, end=\"\\n\\n\" )\n",
    "\n",
    "response_regularization = llm( prompt_regularization )\n",
    "print( response_regularization.content, end=\"\\n\\n\" )"
   ],
   "metadata": {
    "collapsed": false,
    "ExecuteTime": {
     "end_time": "2023-07-21T16:18:50.254045Z",
     "start_time": "2023-07-21T16:18:45.582027Z"
    }
   }
  },
  {
   "cell_type": "code",
   "execution_count": 8,
   "outputs": [
    {
     "name": "stdout",
     "output_type": "stream",
     "text": [
      "------------------------------------------------------------------------------------------------------------------------\n",
      "- foo?\n",
      "------------------------------------------------------------------------------------------------------------------------\n",
      "\n"
     ]
    }
   ],
   "source": [
    "import util as du\n",
    "du.print_banner( \"foo?\" )"
   ],
   "metadata": {
    "collapsed": false,
    "ExecuteTime": {
     "end_time": "2023-07-21T16:19:30.490750Z",
     "start_time": "2023-07-21T16:19:30.464753Z"
    }
   }
  },
  {
   "cell_type": "code",
   "execution_count": 9,
   "outputs": [
    {
     "name": "stdout",
     "output_type": "stream",
     "text": [
      "Path [/var/genie-in-the-box/src/lib] already in sys.path\n"
     ]
    },
    {
     "data": {
      "text/plain": "['/Applications/PyCharm.app/Contents/plugins/python/helpers-pro/jupyter_debug',\n '/Applications/PyCharm.app/Contents/plugins/python/helpers/pydev',\n '/var',\n '/usr/lib/python310.zip',\n '/usr/lib/python3.10',\n '/usr/lib/python3.10/lib-dynload',\n '',\n '/usr/local/lib/python3.10/dist-packages',\n '/usr/lib/python3/dist-packages',\n '/var/genie-in-the-box/src/lib']"
     },
     "execution_count": 9,
     "metadata": {},
     "output_type": "execute_result"
    }
   ],
   "source": [
    "# path = \"/var/genie-in-the-box/src/lib\"\n",
    "# sys.path.append( path )\n",
    "du.add_to_path( path )\n",
    "sys.path"
   ],
   "metadata": {
    "collapsed": false,
    "ExecuteTime": {
     "end_time": "2023-07-21T16:19:52.721716Z",
     "start_time": "2023-07-21T16:19:52.718160Z"
    }
   }
  },
  {
   "cell_type": "code",
   "execution_count": 10,
   "outputs": [
    {
     "name": "stdout",
     "output_type": "stream",
     "text": [
      "An autoencoder is a type of neural network that is trained to reconstruct its input data. It consists of an encoder network that compresses the input data into a lower-dimensional representation, and a decoder network that reconstructs the original input from this representation. Autoencoders are commonly used for dimensionality reduction, feature extraction, and anomaly detection.\n"
     ]
    }
   ],
   "source": [
    "# Import LLMChain and define chain with language model and prompt as arguments.\n",
    "\n",
    "from langchain.chains import LLMChain\n",
    "chain = LLMChain( llm=llm, prompt=prompt_template )\n",
    "\n",
    "# Run the chain only specifying the input variable.\n",
    "print( chain.run( \"autoencoder\" ) )\n"
   ],
   "metadata": {
    "collapsed": false,
    "ExecuteTime": {
     "end_time": "2023-07-21T16:20:01.787126Z",
     "start_time": "2023-07-21T16:19:59.391708Z"
    }
   }
  },
  {
   "cell_type": "code",
   "execution_count": 41,
   "outputs": [],
   "source": [
    "from langchain.chains import RetrievalQA\n",
    "from langchain.document_loaders import JSONLoader\n",
    "from langchain.document_loaders import CSVLoader\n",
    "from langchain.vectorstores import DocArrayInMemorySearch\n",
    "from IPython.display import display, Markdown"
   ],
   "metadata": {
    "collapsed": false,
    "ExecuteTime": {
     "end_time": "2023-07-21T16:37:41.721357Z",
     "start_time": "2023-07-21T16:37:41.717561Z"
    }
   }
  },
  {
   "cell_type": "code",
   "execution_count": 45,
   "outputs": [],
   "source": [
    "import json\n",
    "from pathlib import Path\n",
    "from pprint import pprint\n",
    "\n",
    "file = '/var/genie-in-the-box/src/conf/long-term-memory/events.jsonl'\n",
    "jsonl_loader = JSONLoader( file_path=file, jq_schema=\"\", json_lines=True, text_content=False )\n",
    "\n",
    "file = '/var/genie-in-the-box/src/conf/long-term-memory/events.csv'\n",
    "csv_loader = CSVLoader( file_path=file )\n"
   ],
   "metadata": {
    "collapsed": false,
    "ExecuteTime": {
     "end_time": "2023-07-21T16:39:12.334257Z",
     "start_time": "2023-07-21T16:39:12.298098Z"
    }
   }
  },
  {
   "cell_type": "code",
   "execution_count": 46,
   "outputs": [
    {
     "name": "stdout",
     "output_type": "stream",
     "text": [
      "[Document(page_content='date: 2023-08-22\\nstart_time: 08:02\\nend_time: 03:28\\nevent_type: Workout\\nrecurrent: False\\nrecurrence_interval: \\ndescription: This is a workout\\npriority_level: medium', metadata={'source': '/var/genie-in-the-box/src/conf/long-term-memory/events.csv', 'row': 0}),\n",
      " Document(page_content='date: 2023-08-16\\nstart_time: 00:00\\nend_time: 23:59\\nevent_type: Subscription\\nrecurrent: True\\nrecurrence_interval: 5 month\\ndescription: This is a subscription\\npriority_level: low', metadata={'source': '/var/genie-in-the-box/src/conf/long-term-memory/events.csv', 'row': 1}),\n",
      " Document(page_content=\"date: 2023-07-24\\nstart_time: 00:00\\nend_time: 23:59\\nevent_type: Birthday\\nrecurrent: True\\nrecurrence_interval: 1 year\\ndescription: Alice (aunt)'s birthday\\npriority_level: low\", metadata={'source': '/var/genie-in-the-box/src/conf/long-term-memory/events.csv', 'row': 2}),\n",
      " Document(page_content='date: 2023-07-23\\nstart_time: 00:00\\nend_time: 23:59\\nevent_type: Concert\\nrecurrent: False\\nrecurrence_interval: \\ndescription: This is a concert\\npriority_level: none', metadata={'source': '/var/genie-in-the-box/src/conf/long-term-memory/events.csv', 'row': 3}),\n",
      " Document(page_content='date: 2023-09-02\\nstart_time: 00:00\\nend_time: 23:59\\nevent_type: Performance\\nrecurrent: False\\nrecurrence_interval: \\ndescription: This is a performance\\npriority_level: medium', metadata={'source': '/var/genie-in-the-box/src/conf/long-term-memory/events.csv', 'row': 4}),\n",
      " Document(page_content='date: 2023-08-09\\nstart_time: 12:22\\nend_time: 20:34\\nevent_type: Task\\nrecurrent: False\\nrecurrence_interval: \\ndescription: This is a task\\npriority_level: none', metadata={'source': '/var/genie-in-the-box/src/conf/long-term-memory/events.csv', 'row': 5}),\n",
      " Document(page_content='date: 2023-07-31\\nstart_time: 15:09\\nend_time: 23:06\\nevent_type: Meeting\\nrecurrent: False\\nrecurrence_interval: \\ndescription: This is a meeting\\npriority_level: low', metadata={'source': '/var/genie-in-the-box/src/conf/long-term-memory/events.csv', 'row': 6}),\n",
      " Document(page_content='date: 2023-09-13\\nstart_time: 00:00\\nend_time: 23:59\\nevent_type: Concert\\nrecurrent: False\\nrecurrence_interval: \\ndescription: This is a concert\\npriority_level: highest', metadata={'source': '/var/genie-in-the-box/src/conf/long-term-memory/events.csv', 'row': 7}),\n",
      " Document(page_content='date: 2023-08-29\\nstart_time: 00:00\\nend_time: 23:59\\nevent_type: Subscription\\nrecurrent: True\\nrecurrence_interval: 3 month\\ndescription: This is a subscription\\npriority_level: low', metadata={'source': '/var/genie-in-the-box/src/conf/long-term-memory/events.csv', 'row': 8}),\n",
      " Document(page_content=\"date: 2023-08-29\\nstart_time: 00:00\\nend_time: 23:59\\nevent_type: Birthday\\nrecurrent: True\\nrecurrence_interval: 1 year\\ndescription: Leroy Ruiz (father)'s birthday\\npriority_level: high\", metadata={'source': '/var/genie-in-the-box/src/conf/long-term-memory/events.csv', 'row': 9}),\n",
      " Document(page_content='date: 2023-08-31\\nstart_time: 07:11\\nend_time: 20:15\\nevent_type: Workshop\\nrecurrent: False\\nrecurrence_interval: \\ndescription: This is a workshop\\npriority_level: medium', metadata={'source': '/var/genie-in-the-box/src/conf/long-term-memory/events.csv', 'row': 10}),\n",
      " Document(page_content='date: 2023-08-24\\nstart_time: 00:00\\nend_time: 23:59\\nevent_type: Concert\\nrecurrent: False\\nrecurrence_interval: \\ndescription: This is a concert\\npriority_level: low', metadata={'source': '/var/genie-in-the-box/src/conf/long-term-memory/events.csv', 'row': 11}),\n",
      " Document(page_content='date: 2023-09-14\\nstart_time: 03:06\\nend_time: 13:25\\nevent_type: Workout\\nrecurrent: False\\nrecurrence_interval: \\ndescription: This is a workout\\npriority_level: high', metadata={'source': '/var/genie-in-the-box/src/conf/long-term-memory/events.csv', 'row': 12}),\n",
      " Document(page_content='date: 2023-09-11\\nstart_time: 13:22\\nend_time: 19:13\\nevent_type: TODO\\nrecurrent: False\\nrecurrence_interval: \\ndescription: This is a todo\\npriority_level: low', metadata={'source': '/var/genie-in-the-box/src/conf/long-term-memory/events.csv', 'row': 13}),\n",
      " Document(page_content='date: 2023-07-25\\nstart_time: 01:58\\nend_time: 00:19\\nevent_type: Workout\\nrecurrent: False\\nrecurrence_interval: \\ndescription: This is a workout\\npriority_level: medium', metadata={'source': '/var/genie-in-the-box/src/conf/long-term-memory/events.csv', 'row': 14}),\n",
      " Document(page_content='date: 2023-08-10\\nstart_time: 10:45\\nend_time: 02:52\\nevent_type: Workshop\\nrecurrent: False\\nrecurrence_interval: \\ndescription: This is a workshop\\npriority_level: low', metadata={'source': '/var/genie-in-the-box/src/conf/long-term-memory/events.csv', 'row': 15}),\n",
      " Document(page_content='date: 2023-09-26\\nstart_time: 20:32\\nend_time: 11:03\\nevent_type: Task\\nrecurrent: False\\nrecurrence_interval: \\ndescription: This is a task\\npriority_level: low', metadata={'source': '/var/genie-in-the-box/src/conf/long-term-memory/events.csv', 'row': 16}),\n",
      " Document(page_content=\"date: 2023-07-21\\nstart_time: 00:00\\nend_time: 23:59\\nevent_type: Birthday\\nrecurrent: True\\nrecurrence_interval: 1 year\\ndescription: Barbara Jane Ruiz (mother)'s birthday\\npriority_level: none\", metadata={'source': '/var/genie-in-the-box/src/conf/long-term-memory/events.csv', 'row': 17}),\n",
      " Document(page_content='date: 2023-07-20\\nstart_time: 01:23\\nend_time: 18:51\\nevent_type: Interview\\nrecurrent: False\\nrecurrence_interval: \\ndescription: This is a interview\\npriority_level: high', metadata={'source': '/var/genie-in-the-box/src/conf/long-term-memory/events.csv', 'row': 18}),\n",
      " Document(page_content='date: 2023-07-21\\nstart_time: 00:00\\nend_time: 23:59\\nevent_type: Anniversary\\nrecurrent: True\\nrecurrence_interval: 1 year\\ndescription: This is a anniversary\\npriority_level: highest', metadata={'source': '/var/genie-in-the-box/src/conf/long-term-memory/events.csv', 'row': 19}),\n",
      " Document(page_content='date: 2023-09-08\\nstart_time: 16:36\\nend_time: 13:55\\nevent_type: Workshop\\nrecurrent: False\\nrecurrence_interval: \\ndescription: This is a workshop\\npriority_level: high', metadata={'source': '/var/genie-in-the-box/src/conf/long-term-memory/events.csv', 'row': 20}),\n",
      " Document(page_content='date: 2023-08-18\\nstart_time: 19:22\\nend_time: 09:56\\nevent_type: Workout\\nrecurrent: False\\nrecurrence_interval: \\ndescription: This is a workout\\npriority_level: highest', metadata={'source': '/var/genie-in-the-box/src/conf/long-term-memory/events.csv', 'row': 21}),\n",
      " Document(page_content='date: 2023-07-23\\nstart_time: 00:00\\nend_time: 23:59\\nevent_type: Concert\\nrecurrent: False\\nrecurrence_interval: \\ndescription: This is a concert\\npriority_level: medium', metadata={'source': '/var/genie-in-the-box/src/conf/long-term-memory/events.csv', 'row': 22}),\n",
      " Document(page_content='date: 2023-09-11\\nstart_time: 00:00\\nend_time: 23:59\\nevent_type: Subscription\\nrecurrent: True\\nrecurrence_interval: 4 month\\ndescription: This is a subscription\\npriority_level: highest', metadata={'source': '/var/genie-in-the-box/src/conf/long-term-memory/events.csv', 'row': 23}),\n",
      " Document(page_content='date: 2023-09-04\\nstart_time: 00:00\\nend_time: 23:59\\nevent_type: Anniversary\\nrecurrent: True\\nrecurrence_interval: 1 year\\ndescription: This is a anniversary\\npriority_level: none', metadata={'source': '/var/genie-in-the-box/src/conf/long-term-memory/events.csv', 'row': 24}),\n",
      " Document(page_content='date: 2023-07-23\\nstart_time: 00:00\\nend_time: 23:59\\nevent_type: Performance\\nrecurrent: False\\nrecurrence_interval: \\ndescription: This is a performance\\npriority_level: high', metadata={'source': '/var/genie-in-the-box/src/conf/long-term-memory/events.csv', 'row': 25}),\n",
      " Document(page_content='date: 2023-09-25\\nstart_time: 17:59\\nend_time: 10:36\\nevent_type: Meeting\\nrecurrent: False\\nrecurrence_interval: \\ndescription: This is a meeting\\npriority_level: none', metadata={'source': '/var/genie-in-the-box/src/conf/long-term-memory/events.csv', 'row': 26}),\n",
      " Document(page_content='date: 2023-08-11\\nstart_time: 00:55\\nend_time: 05:01\\nevent_type: Task\\nrecurrent: False\\nrecurrence_interval: \\ndescription: This is a task\\npriority_level: none', metadata={'source': '/var/genie-in-the-box/src/conf/long-term-memory/events.csv', 'row': 27}),\n",
      " Document(page_content='date: 2023-09-01\\nstart_time: 14:01\\nend_time: 16:37\\nevent_type: Workshop\\nrecurrent: False\\nrecurrence_interval: \\ndescription: This is a workshop\\npriority_level: high', metadata={'source': '/var/genie-in-the-box/src/conf/long-term-memory/events.csv', 'row': 28}),\n",
      " Document(page_content='date: 2023-09-15\\nstart_time: 22:14\\nend_time: 02:08\\nevent_type: TODO\\nrecurrent: False\\nrecurrence_interval: \\ndescription: This is a todo\\npriority_level: none', metadata={'source': '/var/genie-in-the-box/src/conf/long-term-memory/events.csv', 'row': 29}),\n",
      " Document(page_content='date: 2023-08-29\\nstart_time: 20:15\\nend_time: 14:40\\nevent_type: Workout\\nrecurrent: False\\nrecurrence_interval: \\ndescription: This is a workout\\npriority_level: low', metadata={'source': '/var/genie-in-the-box/src/conf/long-term-memory/events.csv', 'row': 30}),\n",
      " Document(page_content='date: 2023-09-21\\nstart_time: 00:00\\nend_time: 23:59\\nevent_type: Subscription\\nrecurrent: True\\nrecurrence_interval: 5 year\\ndescription: This is a subscription\\npriority_level: low', metadata={'source': '/var/genie-in-the-box/src/conf/long-term-memory/events.csv', 'row': 31}),\n",
      " Document(page_content='date: 2023-09-22\\nstart_time: 11:06\\nend_time: 19:05\\nevent_type: Interview\\nrecurrent: False\\nrecurrence_interval: \\ndescription: This is a interview\\npriority_level: high', metadata={'source': '/var/genie-in-the-box/src/conf/long-term-memory/events.csv', 'row': 32}),\n",
      " Document(page_content='date: 2023-09-29\\nstart_time: 00:06\\nend_time: 16:32\\nevent_type: Appointment\\nrecurrent: False\\nrecurrence_interval: \\ndescription: This is a appointment\\npriority_level: high', metadata={'source': '/var/genie-in-the-box/src/conf/long-term-memory/events.csv', 'row': 33}),\n",
      " Document(page_content='date: 2023-09-01\\nstart_time: 00:00\\nend_time: 23:59\\nevent_type: Anniversary\\nrecurrent: True\\nrecurrence_interval: 1 year\\ndescription: This is a anniversary\\npriority_level: low', metadata={'source': '/var/genie-in-the-box/src/conf/long-term-memory/events.csv', 'row': 34}),\n",
      " Document(page_content='date: 2023-07-28\\nstart_time: 07:41\\nend_time: 01:48\\nevent_type: Appointment\\nrecurrent: False\\nrecurrence_interval: \\ndescription: This is a appointment\\npriority_level: low', metadata={'source': '/var/genie-in-the-box/src/conf/long-term-memory/events.csv', 'row': 35}),\n",
      " Document(page_content='date: 2023-07-20\\nstart_time: 09:32\\nend_time: 22:14\\nevent_type: Interview\\nrecurrent: False\\nrecurrence_interval: \\ndescription: This is a interview\\npriority_level: highest', metadata={'source': '/var/genie-in-the-box/src/conf/long-term-memory/events.csv', 'row': 36}),\n",
      " Document(page_content='date: 2023-09-17\\nstart_time: 00:00\\nend_time: 23:59\\nevent_type: Subscription\\nrecurrent: True\\nrecurrence_interval: 4 year\\ndescription: This is a subscription\\npriority_level: low', metadata={'source': '/var/genie-in-the-box/src/conf/long-term-memory/events.csv', 'row': 37}),\n",
      " Document(page_content='date: 2023-08-11\\nstart_time: 00:00\\nend_time: 23:59\\nevent_type: Concert\\nrecurrent: False\\nrecurrence_interval: \\ndescription: This is a concert\\npriority_level: low', metadata={'source': '/var/genie-in-the-box/src/conf/long-term-memory/events.csv', 'row': 38}),\n",
      " Document(page_content='date: 2023-08-30\\nstart_time: 10:51\\nend_time: 02:40\\nevent_type: Workout\\nrecurrent: False\\nrecurrence_interval: \\ndescription: This is a workout\\npriority_level: high', metadata={'source': '/var/genie-in-the-box/src/conf/long-term-memory/events.csv', 'row': 39}),\n",
      " Document(page_content='date: 2023-08-12\\nstart_time: 10:46\\nend_time: 20:14\\nevent_type: Task\\nrecurrent: False\\nrecurrence_interval: \\ndescription: This is a task\\npriority_level: medium', metadata={'source': '/var/genie-in-the-box/src/conf/long-term-memory/events.csv', 'row': 40}),\n",
      " Document(page_content='date: 2023-08-24\\nstart_time: 19:58\\nend_time: 18:22\\nevent_type: TODO\\nrecurrent: False\\nrecurrence_interval: \\ndescription: This is a todo\\npriority_level: low', metadata={'source': '/var/genie-in-the-box/src/conf/long-term-memory/events.csv', 'row': 41}),\n",
      " Document(page_content='date: 2023-07-29\\nstart_time: 10:21\\nend_time: 02:10\\nevent_type: TODO\\nrecurrent: False\\nrecurrence_interval: \\ndescription: This is a todo\\npriority_level: high', metadata={'source': '/var/genie-in-the-box/src/conf/long-term-memory/events.csv', 'row': 42}),\n",
      " Document(page_content='date: 2023-09-04\\nstart_time: 00:00\\nend_time: 23:59\\nevent_type: Concert\\nrecurrent: False\\nrecurrence_interval: \\ndescription: This is a concert\\npriority_level: highest', metadata={'source': '/var/genie-in-the-box/src/conf/long-term-memory/events.csv', 'row': 43}),\n",
      " Document(page_content='date: 2023-09-19\\nstart_time: 00:00\\nend_time: 23:59\\nevent_type: Anniversary\\nrecurrent: True\\nrecurrence_interval: 1 year\\ndescription: This is a anniversary\\npriority_level: medium', metadata={'source': '/var/genie-in-the-box/src/conf/long-term-memory/events.csv', 'row': 44}),\n",
      " Document(page_content='date: 2023-09-22\\nstart_time: 10:43\\nend_time: 00:01\\nevent_type: Meeting\\nrecurrent: False\\nrecurrence_interval: \\ndescription: This is a meeting\\npriority_level: highest', metadata={'source': '/var/genie-in-the-box/src/conf/long-term-memory/events.csv', 'row': 45}),\n",
      " Document(page_content='date: 2023-09-24\\nstart_time: 00:08\\nend_time: 17:24\\nevent_type: TODO\\nrecurrent: False\\nrecurrence_interval: \\ndescription: This is a todo\\npriority_level: highest', metadata={'source': '/var/genie-in-the-box/src/conf/long-term-memory/events.csv', 'row': 46}),\n",
      " Document(page_content='date: 2023-08-08\\nstart_time: 13:08\\nend_time: 13:27\\nevent_type: TODO\\nrecurrent: False\\nrecurrence_interval: \\ndescription: This is a todo\\npriority_level: high', metadata={'source': '/var/genie-in-the-box/src/conf/long-term-memory/events.csv', 'row': 47}),\n",
      " Document(page_content='date: 2023-08-13\\nstart_time: 00:57\\nend_time: 12:24\\nevent_type: Interview\\nrecurrent: False\\nrecurrence_interval: \\ndescription: This is a interview\\npriority_level: medium', metadata={'source': '/var/genie-in-the-box/src/conf/long-term-memory/events.csv', 'row': 48}),\n",
      " Document(page_content='date: 2023-08-18\\nstart_time: 09:44\\nend_time: 13:23\\nevent_type: Workout\\nrecurrent: False\\nrecurrence_interval: \\ndescription: This is a workout\\npriority_level: medium', metadata={'source': '/var/genie-in-the-box/src/conf/long-term-memory/events.csv', 'row': 49})]\n"
     ]
    }
   ],
   "source": [
    "csv_data = csv_loader.load()\n",
    "pprint( csv_data )"
   ],
   "metadata": {
    "collapsed": false,
    "ExecuteTime": {
     "end_time": "2023-07-21T16:39:42.672146Z",
     "start_time": "2023-07-21T16:39:42.666183Z"
    }
   }
  },
  {
   "cell_type": "code",
   "execution_count": 77,
   "outputs": [
    {
     "name": "stdout",
     "output_type": "stream",
     "text": [
      "[Document(page_content='{\"date\": \"2023-07-18\", \"start_time\": \"21:37\", \"end_time\": \"06:10\", \"event_type\": \"Meeting\", \"recurrent\": false, \"recurrence_interval\": null, \"description\": \"This is a meeting\", \"priority_level\": \"medium\"}', metadata={'source': '/var/genie-in-the-box/src/conf/long-term-memory/events.jsonl', 'seq_num': 1}),\n",
      " Document(page_content='{\"date\": \"2023-07-19\", \"start_time\": \"00:00\", \"end_time\": \"23:59\", \"event_type\": \"Concert\", \"recurrent\": false, \"recurrence_interval\": null, \"description\": \"This is a concert\", \"priority_level\": \"none\"}', metadata={'source': '/var/genie-in-the-box/src/conf/long-term-memory/events.jsonl', 'seq_num': 2}),\n",
      " Document(page_content='{\"date\": \"2023-07-20\", \"start_time\": \"00:00\", \"end_time\": \"23:59\", \"event_type\": \"Concert\", \"recurrent\": false, \"recurrence_interval\": null, \"description\": \"This is a concert\", \"priority_level\": \"none\"}', metadata={'source': '/var/genie-in-the-box/src/conf/long-term-memory/events.jsonl', 'seq_num': 3}),\n",
      " Document(page_content='{\"date\": \"2023-07-23\", \"start_time\": \"08:30\", \"end_time\": \"19:48\", \"event_type\": \"Appointment\", \"recurrent\": false, \"recurrence_interval\": null, \"description\": \"This is a appointment\", \"priority_level\": \"low\"}', metadata={'source': '/var/genie-in-the-box/src/conf/long-term-memory/events.jsonl', 'seq_num': 4}),\n",
      " Document(page_content='{\"date\": \"2023-07-23\", \"start_time\": \"00:00\", \"end_time\": \"23:59\", \"event_type\": \"Concert\", \"recurrent\": false, \"recurrence_interval\": null, \"description\": \"This is a concert\", \"priority_level\": \"highest\"}', metadata={'source': '/var/genie-in-the-box/src/conf/long-term-memory/events.jsonl', 'seq_num': 5}),\n",
      " Document(page_content='{\"date\": \"2023-07-25\", \"start_time\": \"01:59\", \"end_time\": \"20:16\", \"event_type\": \"TODO\", \"recurrent\": false, \"recurrence_interval\": null, \"description\": \"This is a todo\", \"priority_level\": \"high\"}', metadata={'source': '/var/genie-in-the-box/src/conf/long-term-memory/events.jsonl', 'seq_num': 6}),\n",
      " Document(page_content='{\"date\": \"2023-07-25\", \"start_time\": \"10:25\", \"end_time\": \"18:45\", \"event_type\": \"Interview\", \"recurrent\": false, \"recurrence_interval\": null, \"description\": \"This is a interview\", \"priority_level\": \"medium\"}', metadata={'source': '/var/genie-in-the-box/src/conf/long-term-memory/events.jsonl', 'seq_num': 7}),\n",
      " Document(page_content='{\"date\": \"2023-07-29\", \"start_time\": \"07:04\", \"end_time\": \"09:12\", \"event_type\": \"Meeting\", \"recurrent\": false, \"recurrence_interval\": null, \"description\": \"This is a meeting\", \"priority_level\": \"low\"}', metadata={'source': '/var/genie-in-the-box/src/conf/long-term-memory/events.jsonl', 'seq_num': 8}),\n",
      " Document(page_content='{\"date\": \"2023-07-30\", \"start_time\": \"00:00\", \"end_time\": \"23:59\", \"event_type\": \"Birthday\", \"recurrent\": true, \"recurrence_interval\": \"1 year\", \"description\": \"Barbara Jane Ruiz (mother)\\'s birthday\", \"priority_level\": \"high\"}', metadata={'source': '/var/genie-in-the-box/src/conf/long-term-memory/events.jsonl', 'seq_num': 9}),\n",
      " Document(page_content='{\"date\": \"2023-08-02\", \"start_time\": \"22:51\", \"end_time\": \"00:08\", \"event_type\": \"Workout\", \"recurrent\": false, \"recurrence_interval\": null, \"description\": \"This is a workout\", \"priority_level\": \"high\"}', metadata={'source': '/var/genie-in-the-box/src/conf/long-term-memory/events.jsonl', 'seq_num': 10}),\n",
      " Document(page_content='{\"date\": \"2023-08-03\", \"start_time\": \"00:00\", \"end_time\": \"23:59\", \"event_type\": \"Performance\", \"recurrent\": false, \"recurrence_interval\": null, \"description\": \"This is a performance\", \"priority_level\": \"none\"}', metadata={'source': '/var/genie-in-the-box/src/conf/long-term-memory/events.jsonl', 'seq_num': 11}),\n",
      " Document(page_content='{\"date\": \"2023-08-05\", \"start_time\": \"23:09\", \"end_time\": \"19:57\", \"event_type\": \"Interview\", \"recurrent\": false, \"recurrence_interval\": null, \"description\": \"This is a interview\", \"priority_level\": \"highest\"}', metadata={'source': '/var/genie-in-the-box/src/conf/long-term-memory/events.jsonl', 'seq_num': 12}),\n",
      " Document(page_content='{\"date\": \"2023-08-07\", \"start_time\": \"14:00\", \"end_time\": \"21:56\", \"event_type\": \"Workout\", \"recurrent\": false, \"recurrence_interval\": null, \"description\": \"This is a workout\", \"priority_level\": \"medium\"}', metadata={'source': '/var/genie-in-the-box/src/conf/long-term-memory/events.jsonl', 'seq_num': 13}),\n",
      " Document(page_content='{\"date\": \"2023-08-08\", \"start_time\": \"16:14\", \"end_time\": \"02:16\", \"event_type\": \"Task\", \"recurrent\": false, \"recurrence_interval\": null, \"description\": \"This is a task\", \"priority_level\": \"medium\"}', metadata={'source': '/var/genie-in-the-box/src/conf/long-term-memory/events.jsonl', 'seq_num': 14}),\n",
      " Document(page_content='{\"date\": \"2023-08-08\", \"start_time\": \"15:36\", \"end_time\": \"17:56\", \"event_type\": \"Task\", \"recurrent\": false, \"recurrence_interval\": null, \"description\": \"This is a task\", \"priority_level\": \"medium\"}', metadata={'source': '/var/genie-in-the-box/src/conf/long-term-memory/events.jsonl', 'seq_num': 15}),\n",
      " Document(page_content='{\"date\": \"2023-08-12\", \"start_time\": \"22:03\", \"end_time\": \"20:25\", \"event_type\": \"Meeting\", \"recurrent\": false, \"recurrence_interval\": null, \"description\": \"This is a meeting\", \"priority_level\": \"medium\"}', metadata={'source': '/var/genie-in-the-box/src/conf/long-term-memory/events.jsonl', 'seq_num': 16}),\n",
      " Document(page_content='{\"date\": \"2023-08-14\", \"start_time\": \"03:11\", \"end_time\": \"06:26\", \"event_type\": \"Workout\", \"recurrent\": false, \"recurrence_interval\": null, \"description\": \"This is a workout\", \"priority_level\": \"highest\"}', metadata={'source': '/var/genie-in-the-box/src/conf/long-term-memory/events.jsonl', 'seq_num': 17}),\n",
      " Document(page_content='{\"date\": \"2023-08-16\", \"start_time\": \"00:00\", \"end_time\": \"23:59\", \"event_type\": \"Subscription\", \"recurrent\": true, \"recurrence_interval\": \"2 month\", \"description\": \"This is a subscription\", \"priority_level\": \"low\"}', metadata={'source': '/var/genie-in-the-box/src/conf/long-term-memory/events.jsonl', 'seq_num': 18}),\n",
      " Document(page_content='{\"date\": \"2023-08-19\", \"start_time\": \"20:41\", \"end_time\": \"12:34\", \"event_type\": \"TODO\", \"recurrent\": false, \"recurrence_interval\": null, \"description\": \"This is a todo\", \"priority_level\": \"medium\"}', metadata={'source': '/var/genie-in-the-box/src/conf/long-term-memory/events.jsonl', 'seq_num': 19}),\n",
      " Document(page_content='{\"date\": \"2023-08-21\", \"start_time\": \"00:00\", \"end_time\": \"23:59\", \"event_type\": \"Concert\", \"recurrent\": false, \"recurrence_interval\": null, \"description\": \"This is a concert\", \"priority_level\": \"high\"}', metadata={'source': '/var/genie-in-the-box/src/conf/long-term-memory/events.jsonl', 'seq_num': 20}),\n",
      " Document(page_content='{\"date\": \"2023-08-21\", \"start_time\": \"00:00\", \"end_time\": \"23:59\", \"event_type\": \"Concert\", \"recurrent\": false, \"recurrence_interval\": null, \"description\": \"This is a concert\", \"priority_level\": \"low\"}', metadata={'source': '/var/genie-in-the-box/src/conf/long-term-memory/events.jsonl', 'seq_num': 21}),\n",
      " Document(page_content='{\"date\": \"2023-08-21\", \"start_time\": \"00:00\", \"end_time\": \"23:59\", \"event_type\": \"Performance\", \"recurrent\": false, \"recurrence_interval\": null, \"description\": \"This is a performance\", \"priority_level\": \"none\"}', metadata={'source': '/var/genie-in-the-box/src/conf/long-term-memory/events.jsonl', 'seq_num': 22}),\n",
      " Document(page_content='{\"date\": \"2023-08-23\", \"start_time\": \"12:22\", \"end_time\": \"19:23\", \"event_type\": \"TODO\", \"recurrent\": false, \"recurrence_interval\": null, \"description\": \"This is a todo\", \"priority_level\": \"none\"}', metadata={'source': '/var/genie-in-the-box/src/conf/long-term-memory/events.jsonl', 'seq_num': 23}),\n",
      " Document(page_content='{\"date\": \"2023-08-28\", \"start_time\": \"00:00\", \"end_time\": \"23:59\", \"event_type\": \"Birthday\", \"recurrent\": true, \"recurrence_interval\": \"1 year\", \"description\": \"Alice (aunt)\\'s birthday\", \"priority_level\": \"highest\"}', metadata={'source': '/var/genie-in-the-box/src/conf/long-term-memory/events.jsonl', 'seq_num': 24}),\n",
      " Document(page_content='{\"date\": \"2023-08-30\", \"start_time\": \"00:00\", \"end_time\": \"23:59\", \"event_type\": \"Anniversary\", \"recurrent\": true, \"recurrence_interval\": \"1 year\", \"description\": \"This is a anniversary\", \"priority_level\": \"highest\"}', metadata={'source': '/var/genie-in-the-box/src/conf/long-term-memory/events.jsonl', 'seq_num': 25}),\n",
      " Document(page_content='{\"date\": \"2023-09-03\", \"start_time\": \"00:00\", \"end_time\": \"23:59\", \"event_type\": \"Subscription\", \"recurrent\": true, \"recurrence_interval\": \"1 year\", \"description\": \"This is a subscription\", \"priority_level\": \"none\"}', metadata={'source': '/var/genie-in-the-box/src/conf/long-term-memory/events.jsonl', 'seq_num': 26}),\n",
      " Document(page_content='{\"date\": \"2023-09-04\", \"start_time\": \"15:26\", \"end_time\": \"07:57\", \"event_type\": \"Task\", \"recurrent\": false, \"recurrence_interval\": null, \"description\": \"This is a task\", \"priority_level\": \"medium\"}', metadata={'source': '/var/genie-in-the-box/src/conf/long-term-memory/events.jsonl', 'seq_num': 27}),\n",
      " Document(page_content='{\"date\": \"2023-09-05\", \"start_time\": \"00:00\", \"end_time\": \"23:59\", \"event_type\": \"Birthday\", \"recurrent\": true, \"recurrence_interval\": \"1 year\", \"description\": \"Inash (girlfriend)\\'s birthday\", \"priority_level\": \"highest\"}', metadata={'source': '/var/genie-in-the-box/src/conf/long-term-memory/events.jsonl', 'seq_num': 28}),\n",
      " Document(page_content='{\"date\": \"2023-09-11\", \"start_time\": \"17:55\", \"end_time\": \"23:40\", \"event_type\": \"Task\", \"recurrent\": false, \"recurrence_interval\": null, \"description\": \"This is a task\", \"priority_level\": \"low\"}', metadata={'source': '/var/genie-in-the-box/src/conf/long-term-memory/events.jsonl', 'seq_num': 29}),\n",
      " Document(page_content='{\"date\": \"2023-09-12\", \"start_time\": \"00:00\", \"end_time\": \"23:59\", \"event_type\": \"Subscription\", \"recurrent\": true, \"recurrence_interval\": \"5 year\", \"description\": \"This is a subscription\", \"priority_level\": \"medium\"}', metadata={'source': '/var/genie-in-the-box/src/conf/long-term-memory/events.jsonl', 'seq_num': 30}),\n",
      " Document(page_content='{\"date\": \"2023-09-12\", \"start_time\": \"14:07\", \"end_time\": \"11:15\", \"event_type\": \"Appointment\", \"recurrent\": false, \"recurrence_interval\": null, \"description\": \"This is a appointment\", \"priority_level\": \"highest\"}', metadata={'source': '/var/genie-in-the-box/src/conf/long-term-memory/events.jsonl', 'seq_num': 31}),\n",
      " Document(page_content='{\"date\": \"2023-09-13\", \"start_time\": \"00:00\", \"end_time\": \"23:59\", \"event_type\": \"Subscription\", \"recurrent\": true, \"recurrence_interval\": \"2 year\", \"description\": \"This is a subscription\", \"priority_level\": \"low\"}', metadata={'source': '/var/genie-in-the-box/src/conf/long-term-memory/events.jsonl', 'seq_num': 32}),\n",
      " Document(page_content='{\"date\": \"2023-09-13\", \"start_time\": \"07:53\", \"end_time\": \"20:56\", \"event_type\": \"Workshop\", \"recurrent\": false, \"recurrence_interval\": null, \"description\": \"This is a workshop\", \"priority_level\": \"low\"}', metadata={'source': '/var/genie-in-the-box/src/conf/long-term-memory/events.jsonl', 'seq_num': 33}),\n",
      " Document(page_content='{\"date\": \"2023-09-15\", \"start_time\": \"00:00\", \"end_time\": \"23:59\", \"event_type\": \"Conference\", \"recurrent\": false, \"recurrence_interval\": null, \"description\": \"This is a conference\", \"priority_level\": \"highest\"}', metadata={'source': '/var/genie-in-the-box/src/conf/long-term-memory/events.jsonl', 'seq_num': 34}),\n",
      " Document(page_content='{\"date\": \"2023-09-15\", \"start_time\": \"00:00\", \"end_time\": \"23:59\", \"event_type\": \"Concert\", \"recurrent\": false, \"recurrence_interval\": null, \"description\": \"This is a concert\", \"priority_level\": \"high\"}', metadata={'source': '/var/genie-in-the-box/src/conf/long-term-memory/events.jsonl', 'seq_num': 35}),\n",
      " Document(page_content='{\"date\": \"2023-09-16\", \"start_time\": \"00:00\", \"end_time\": \"23:59\", \"event_type\": \"Birthday\", \"recurrent\": true, \"recurrence_interval\": \"1 year\", \"description\": \"Tom Ruiz (brother)\\'s birthday\", \"priority_level\": \"none\"}', metadata={'source': '/var/genie-in-the-box/src/conf/long-term-memory/events.jsonl', 'seq_num': 36}),\n",
      " Document(page_content='{\"date\": \"2023-09-17\", \"start_time\": \"00:00\", \"end_time\": \"23:59\", \"event_type\": \"Birthday\", \"recurrent\": true, \"recurrence_interval\": \"1 year\", \"description\": \"Steve Ruiz (brother)\\'s birthday\", \"priority_level\": \"highest\"}', metadata={'source': '/var/genie-in-the-box/src/conf/long-term-memory/events.jsonl', 'seq_num': 37}),\n",
      " Document(page_content='{\"date\": \"2023-09-19\", \"start_time\": \"21:34\", \"end_time\": \"15:48\", \"event_type\": \"TODO\", \"recurrent\": false, \"recurrence_interval\": null, \"description\": \"This is a todo\", \"priority_level\": \"low\"}', metadata={'source': '/var/genie-in-the-box/src/conf/long-term-memory/events.jsonl', 'seq_num': 38}),\n",
      " Document(page_content='{\"date\": \"2023-09-19\", \"start_time\": \"23:48\", \"end_time\": \"13:32\", \"event_type\": \"Appointment\", \"recurrent\": false, \"recurrence_interval\": null, \"description\": \"This is a appointment\", \"priority_level\": \"none\"}', metadata={'source': '/var/genie-in-the-box/src/conf/long-term-memory/events.jsonl', 'seq_num': 39}),\n",
      " Document(page_content='{\"date\": \"2023-09-20\", \"start_time\": \"00:00\", \"end_time\": \"23:59\", \"event_type\": \"Concert\", \"recurrent\": false, \"recurrence_interval\": null, \"description\": \"This is a concert\", \"priority_level\": \"none\"}', metadata={'source': '/var/genie-in-the-box/src/conf/long-term-memory/events.jsonl', 'seq_num': 40}),\n",
      " Document(page_content='{\"date\": \"2023-09-22\", \"start_time\": \"00:00\", \"end_time\": \"23:59\", \"event_type\": \"Conference\", \"recurrent\": false, \"recurrence_interval\": null, \"description\": \"This is a conference\", \"priority_level\": \"medium\"}', metadata={'source': '/var/genie-in-the-box/src/conf/long-term-memory/events.jsonl', 'seq_num': 41}),\n",
      " Document(page_content='{\"date\": \"2023-09-23\", \"start_time\": \"15:24\", \"end_time\": \"02:10\", \"event_type\": \"Task\", \"recurrent\": false, \"recurrence_interval\": null, \"description\": \"This is a task\", \"priority_level\": \"high\"}', metadata={'source': '/var/genie-in-the-box/src/conf/long-term-memory/events.jsonl', 'seq_num': 42}),\n",
      " Document(page_content='{\"date\": \"2023-09-25\", \"start_time\": \"18:46\", \"end_time\": \"21:52\", \"event_type\": \"TODO\", \"recurrent\": false, \"recurrence_interval\": null, \"description\": \"This is a todo\", \"priority_level\": \"medium\"}', metadata={'source': '/var/genie-in-the-box/src/conf/long-term-memory/events.jsonl', 'seq_num': 43}),\n",
      " Document(page_content='{\"date\": \"2023-09-26\", \"start_time\": \"00:00\", \"end_time\": \"23:59\", \"event_type\": \"Subscription\", \"recurrent\": true, \"recurrence_interval\": \"4 year\", \"description\": \"This is a subscription\", \"priority_level\": \"medium\"}', metadata={'source': '/var/genie-in-the-box/src/conf/long-term-memory/events.jsonl', 'seq_num': 44}),\n",
      " Document(page_content='{\"date\": \"2023-09-26\", \"start_time\": \"00:00\", \"end_time\": \"23:59\", \"event_type\": \"Subscription\", \"recurrent\": true, \"recurrence_interval\": \"4 year\", \"description\": \"This is a subscription\", \"priority_level\": \"low\"}', metadata={'source': '/var/genie-in-the-box/src/conf/long-term-memory/events.jsonl', 'seq_num': 45}),\n",
      " Document(page_content='{\"date\": \"2023-09-28\", \"start_time\": \"22:45\", \"end_time\": \"11:15\", \"event_type\": \"TODO\", \"recurrent\": false, \"recurrence_interval\": null, \"description\": \"This is a todo\", \"priority_level\": \"highest\"}', metadata={'source': '/var/genie-in-the-box/src/conf/long-term-memory/events.jsonl', 'seq_num': 46}),\n",
      " Document(page_content='{\"date\": \"2023-09-29\", \"start_time\": \"00:00\", \"end_time\": \"23:59\", \"event_type\": \"Performance\", \"recurrent\": false, \"recurrence_interval\": null, \"description\": \"This is a performance\", \"priority_level\": \"medium\"}', metadata={'source': '/var/genie-in-the-box/src/conf/long-term-memory/events.jsonl', 'seq_num': 47}),\n",
      " Document(page_content='{\"date\": \"2023-09-29\", \"start_time\": \"02:52\", \"end_time\": \"15:51\", \"event_type\": \"Interview\", \"recurrent\": false, \"recurrence_interval\": null, \"description\": \"This is a interview\", \"priority_level\": \"medium\"}', metadata={'source': '/var/genie-in-the-box/src/conf/long-term-memory/events.jsonl', 'seq_num': 48}),\n",
      " Document(page_content='{\"date\": \"2023-09-29\", \"start_time\": \"13:45\", \"end_time\": \"06:39\", \"event_type\": \"Task\", \"recurrent\": false, \"recurrence_interval\": null, \"description\": \"This is a task\", \"priority_level\": \"low\"}', metadata={'source': '/var/genie-in-the-box/src/conf/long-term-memory/events.jsonl', 'seq_num': 49}),\n",
      " Document(page_content='{\"date\": \"2023-09-29\", \"start_time\": \"22:38\", \"end_time\": \"15:07\", \"event_type\": \"Meeting\", \"recurrent\": false, \"recurrence_interval\": null, \"description\": \"This is a meeting\", \"priority_level\": \"highest\"}', metadata={'source': '/var/genie-in-the-box/src/conf/long-term-memory/events.jsonl', 'seq_num': 50})]\n"
     ]
    }
   ],
   "source": [
    "jsonl_data = jsonl_loader.load()\n",
    "pprint( jsonl_data )"
   ],
   "metadata": {
    "collapsed": false,
    "ExecuteTime": {
     "end_time": "2023-07-21T17:24:22.853541Z",
     "start_time": "2023-07-21T17:24:22.850559Z"
    }
   }
  },
  {
   "cell_type": "code",
   "execution_count": 14,
   "outputs": [],
   "source": [
    "from langchain.indexes import VectorstoreIndexCreator"
   ],
   "metadata": {
    "collapsed": false,
    "ExecuteTime": {
     "end_time": "2023-07-21T16:20:17.489609Z",
     "start_time": "2023-07-21T16:20:17.481855Z"
    }
   }
  },
  {
   "cell_type": "code",
   "execution_count": 47,
   "outputs": [],
   "source": [
    "in_memory_csv_vectorstore = VectorstoreIndexCreator(\n",
    "    vectorstore_cls=DocArrayInMemorySearch\n",
    ").from_loaders( [ csv_loader ] )"
   ],
   "metadata": {
    "collapsed": false,
    "ExecuteTime": {
     "end_time": "2023-07-21T16:40:59.781219Z",
     "start_time": "2023-07-21T16:40:59.185624Z"
    }
   }
  },
  {
   "cell_type": "code",
   "execution_count": 78,
   "outputs": [],
   "source": [
    "in_memory_jsonl_vectorstore = VectorstoreIndexCreator(\n",
    "    vectorstore_cls=DocArrayInMemorySearch\n",
    ").from_loaders( [ jsonl_loader ] )"
   ],
   "metadata": {
    "collapsed": false,
    "ExecuteTime": {
     "end_time": "2023-07-21T17:24:31.742505Z",
     "start_time": "2023-07-21T17:24:31.153057Z"
    }
   }
  },
  {
   "cell_type": "code",
   "execution_count": 75,
   "outputs": [
    {
     "data": {
      "text/plain": "<IPython.core.display.Markdown object>",
      "text/markdown": " Barbara Jane Ruiz (mother). The metadata for this event is: date: 2023-07-30, start_time: 00:00, end_time: 23:59, event_type: Birthday, recurrent: true, recurrence_interval: 1 year, description: Barbara Jane Ruiz (mother)'s birthday, priority_level: high."
     },
     "metadata": {},
     "output_type": "display_data"
    }
   ],
   "source": [
    "# query = \"Do I have any birthdays in the month of July?\"\n",
    "query = \"What is the name of the person who has a birthday in the month of July? Return all metadata\"\n",
    "response = in_memory_jsonl_vectorstore.query( query )\n",
    "display( Markdown( response ) )"
   ],
   "metadata": {
    "collapsed": false,
    "ExecuteTime": {
     "end_time": "2023-07-21T17:23:03.746360Z",
     "start_time": "2023-07-21T17:23:00.836238Z"
    }
   }
  },
  {
   "cell_type": "code",
   "execution_count": 80,
   "outputs": [
    {
     "data": {
      "text/plain": "<IPython.core.display.Markdown object>",
      "text/markdown": "\nYes, you have four upcoming TODO events. The details are listed in the table below, ordered by date ascending. \n\n| Date | Description |\n|-----|-------------|\n| Friday, 19 August 2023 | This is a todo |\n| Wednesday, 23 August 2023 | This is a todo |\n| Sunday, 25 September 2023 | This is a todo |\n| Thursday, 28 September 2023 | This is a todo |"
     },
     "metadata": {},
     "output_type": "display_data"
    }
   ],
   "source": [
    "# Create a function that allows us to query the index and print out a response\n",
    "def query_jsonl_vectorstore( query ):\n",
    "\n",
    "    response = in_memory_jsonl_vectorstore.query( query )\n",
    "    display( Markdown( response ) )\n",
    "\n",
    "# Where are the data for any upcoming concerts\n",
    "query_jsonl_vectorstore( \"Do I have any upcoming TODO events? Return Date and description ordered by date ascending.  Format With markdown as a table. Format all dates as day of the week, month and year\" )"
   ],
   "metadata": {
    "collapsed": false,
    "ExecuteTime": {
     "end_time": "2023-07-21T17:25:01.672271Z",
     "start_time": "2023-07-21T17:24:59.600959Z"
    }
   }
  },
  {
   "cell_type": "code",
   "execution_count": 57,
   "outputs": [
    {
     "data": {
      "text/plain": "[Document(page_content='{\"date\": \"2023-08-22\", \"start_time\": \"08:02\", \"end_time\": \"03:28\", \"event_type\": \"Workout\", \"recurrent\": false, \"recurrence_interval\": null, \"description\": \"This is a workout\", \"priority_level\": \"medium\"}', metadata={'source': '/var/genie-in-the-box/src/conf/long-term-memory/events.jsonl', 'seq_num': 1}),\n Document(page_content='{\"date\": \"2023-08-16\", \"start_time\": \"00:00\", \"end_time\": \"23:59\", \"event_type\": \"Subscription\", \"recurrent\": true, \"recurrence_interval\": \"5 month\", \"description\": \"This is a subscription\", \"priority_level\": \"low\"}', metadata={'source': '/var/genie-in-the-box/src/conf/long-term-memory/events.jsonl', 'seq_num': 2}),\n Document(page_content='{\"date\": \"2023-07-24\", \"start_time\": \"00:00\", \"end_time\": \"23:59\", \"event_type\": \"Birthday\", \"recurrent\": true, \"recurrence_interval\": \"1 year\", \"description\": \"Alice (aunt)\\'s birthday\", \"priority_level\": \"low\"}', metadata={'source': '/var/genie-in-the-box/src/conf/long-term-memory/events.jsonl', 'seq_num': 3}),\n Document(page_content='{\"date\": \"2023-07-23\", \"start_time\": \"00:00\", \"end_time\": \"23:59\", \"event_type\": \"Concert\", \"recurrent\": false, \"recurrence_interval\": null, \"description\": \"This is a concert\", \"priority_level\": \"none\"}', metadata={'source': '/var/genie-in-the-box/src/conf/long-term-memory/events.jsonl', 'seq_num': 4}),\n Document(page_content='{\"date\": \"2023-09-02\", \"start_time\": \"00:00\", \"end_time\": \"23:59\", \"event_type\": \"Performance\", \"recurrent\": false, \"recurrence_interval\": null, \"description\": \"This is a performance\", \"priority_level\": \"medium\"}', metadata={'source': '/var/genie-in-the-box/src/conf/long-term-memory/events.jsonl', 'seq_num': 5}),\n Document(page_content='{\"date\": \"2023-08-09\", \"start_time\": \"12:22\", \"end_time\": \"20:34\", \"event_type\": \"Task\", \"recurrent\": false, \"recurrence_interval\": null, \"description\": \"This is a task\", \"priority_level\": \"none\"}', metadata={'source': '/var/genie-in-the-box/src/conf/long-term-memory/events.jsonl', 'seq_num': 6}),\n Document(page_content='{\"date\": \"2023-07-31\", \"start_time\": \"15:09\", \"end_time\": \"23:06\", \"event_type\": \"Meeting\", \"recurrent\": false, \"recurrence_interval\": null, \"description\": \"This is a meeting\", \"priority_level\": \"low\"}', metadata={'source': '/var/genie-in-the-box/src/conf/long-term-memory/events.jsonl', 'seq_num': 7}),\n Document(page_content='{\"date\": \"2023-09-13\", \"start_time\": \"00:00\", \"end_time\": \"23:59\", \"event_type\": \"Concert\", \"recurrent\": false, \"recurrence_interval\": null, \"description\": \"This is a concert\", \"priority_level\": \"highest\"}', metadata={'source': '/var/genie-in-the-box/src/conf/long-term-memory/events.jsonl', 'seq_num': 8}),\n Document(page_content='{\"date\": \"2023-08-29\", \"start_time\": \"00:00\", \"end_time\": \"23:59\", \"event_type\": \"Subscription\", \"recurrent\": true, \"recurrence_interval\": \"3 month\", \"description\": \"This is a subscription\", \"priority_level\": \"low\"}', metadata={'source': '/var/genie-in-the-box/src/conf/long-term-memory/events.jsonl', 'seq_num': 9}),\n Document(page_content='{\"date\": \"2023-08-29\", \"start_time\": \"00:00\", \"end_time\": \"23:59\", \"event_type\": \"Birthday\", \"recurrent\": true, \"recurrence_interval\": \"1 year\", \"description\": \"Leroy Ruiz (father)\\'s birthday\", \"priority_level\": \"high\"}', metadata={'source': '/var/genie-in-the-box/src/conf/long-term-memory/events.jsonl', 'seq_num': 10}),\n Document(page_content='{\"date\": \"2023-08-31\", \"start_time\": \"07:11\", \"end_time\": \"20:15\", \"event_type\": \"Workshop\", \"recurrent\": false, \"recurrence_interval\": null, \"description\": \"This is a workshop\", \"priority_level\": \"medium\"}', metadata={'source': '/var/genie-in-the-box/src/conf/long-term-memory/events.jsonl', 'seq_num': 11}),\n Document(page_content='{\"date\": \"2023-08-24\", \"start_time\": \"00:00\", \"end_time\": \"23:59\", \"event_type\": \"Concert\", \"recurrent\": false, \"recurrence_interval\": null, \"description\": \"This is a concert\", \"priority_level\": \"low\"}', metadata={'source': '/var/genie-in-the-box/src/conf/long-term-memory/events.jsonl', 'seq_num': 12}),\n Document(page_content='{\"date\": \"2023-09-14\", \"start_time\": \"03:06\", \"end_time\": \"13:25\", \"event_type\": \"Workout\", \"recurrent\": false, \"recurrence_interval\": null, \"description\": \"This is a workout\", \"priority_level\": \"high\"}', metadata={'source': '/var/genie-in-the-box/src/conf/long-term-memory/events.jsonl', 'seq_num': 13}),\n Document(page_content='{\"date\": \"2023-09-11\", \"start_time\": \"13:22\", \"end_time\": \"19:13\", \"event_type\": \"TODO\", \"recurrent\": false, \"recurrence_interval\": null, \"description\": \"This is a todo\", \"priority_level\": \"low\"}', metadata={'source': '/var/genie-in-the-box/src/conf/long-term-memory/events.jsonl', 'seq_num': 14}),\n Document(page_content='{\"date\": \"2023-07-25\", \"start_time\": \"01:58\", \"end_time\": \"00:19\", \"event_type\": \"Workout\", \"recurrent\": false, \"recurrence_interval\": null, \"description\": \"This is a workout\", \"priority_level\": \"medium\"}', metadata={'source': '/var/genie-in-the-box/src/conf/long-term-memory/events.jsonl', 'seq_num': 15}),\n Document(page_content='{\"date\": \"2023-08-10\", \"start_time\": \"10:45\", \"end_time\": \"02:52\", \"event_type\": \"Workshop\", \"recurrent\": false, \"recurrence_interval\": null, \"description\": \"This is a workshop\", \"priority_level\": \"low\"}', metadata={'source': '/var/genie-in-the-box/src/conf/long-term-memory/events.jsonl', 'seq_num': 16}),\n Document(page_content='{\"date\": \"2023-09-26\", \"start_time\": \"20:32\", \"end_time\": \"11:03\", \"event_type\": \"Task\", \"recurrent\": false, \"recurrence_interval\": null, \"description\": \"This is a task\", \"priority_level\": \"low\"}', metadata={'source': '/var/genie-in-the-box/src/conf/long-term-memory/events.jsonl', 'seq_num': 17}),\n Document(page_content='{\"date\": \"2023-07-21\", \"start_time\": \"00:00\", \"end_time\": \"23:59\", \"event_type\": \"Birthday\", \"recurrent\": true, \"recurrence_interval\": \"1 year\", \"description\": \"Barbara Jane Ruiz (mother)\\'s birthday\", \"priority_level\": \"none\"}', metadata={'source': '/var/genie-in-the-box/src/conf/long-term-memory/events.jsonl', 'seq_num': 18}),\n Document(page_content='{\"date\": \"2023-07-20\", \"start_time\": \"01:23\", \"end_time\": \"18:51\", \"event_type\": \"Interview\", \"recurrent\": false, \"recurrence_interval\": null, \"description\": \"This is a interview\", \"priority_level\": \"high\"}', metadata={'source': '/var/genie-in-the-box/src/conf/long-term-memory/events.jsonl', 'seq_num': 19}),\n Document(page_content='{\"date\": \"2023-07-21\", \"start_time\": \"00:00\", \"end_time\": \"23:59\", \"event_type\": \"Anniversary\", \"recurrent\": true, \"recurrence_interval\": \"1 year\", \"description\": \"This is a anniversary\", \"priority_level\": \"highest\"}', metadata={'source': '/var/genie-in-the-box/src/conf/long-term-memory/events.jsonl', 'seq_num': 20}),\n Document(page_content='{\"date\": \"2023-09-08\", \"start_time\": \"16:36\", \"end_time\": \"13:55\", \"event_type\": \"Workshop\", \"recurrent\": false, \"recurrence_interval\": null, \"description\": \"This is a workshop\", \"priority_level\": \"high\"}', metadata={'source': '/var/genie-in-the-box/src/conf/long-term-memory/events.jsonl', 'seq_num': 21}),\n Document(page_content='{\"date\": \"2023-08-18\", \"start_time\": \"19:22\", \"end_time\": \"09:56\", \"event_type\": \"Workout\", \"recurrent\": false, \"recurrence_interval\": null, \"description\": \"This is a workout\", \"priority_level\": \"highest\"}', metadata={'source': '/var/genie-in-the-box/src/conf/long-term-memory/events.jsonl', 'seq_num': 22}),\n Document(page_content='{\"date\": \"2023-07-23\", \"start_time\": \"00:00\", \"end_time\": \"23:59\", \"event_type\": \"Concert\", \"recurrent\": false, \"recurrence_interval\": null, \"description\": \"This is a concert\", \"priority_level\": \"medium\"}', metadata={'source': '/var/genie-in-the-box/src/conf/long-term-memory/events.jsonl', 'seq_num': 23}),\n Document(page_content='{\"date\": \"2023-09-11\", \"start_time\": \"00:00\", \"end_time\": \"23:59\", \"event_type\": \"Subscription\", \"recurrent\": true, \"recurrence_interval\": \"4 month\", \"description\": \"This is a subscription\", \"priority_level\": \"highest\"}', metadata={'source': '/var/genie-in-the-box/src/conf/long-term-memory/events.jsonl', 'seq_num': 24}),\n Document(page_content='{\"date\": \"2023-09-04\", \"start_time\": \"00:00\", \"end_time\": \"23:59\", \"event_type\": \"Anniversary\", \"recurrent\": true, \"recurrence_interval\": \"1 year\", \"description\": \"This is a anniversary\", \"priority_level\": \"none\"}', metadata={'source': '/var/genie-in-the-box/src/conf/long-term-memory/events.jsonl', 'seq_num': 25}),\n Document(page_content='{\"date\": \"2023-07-23\", \"start_time\": \"00:00\", \"end_time\": \"23:59\", \"event_type\": \"Performance\", \"recurrent\": false, \"recurrence_interval\": null, \"description\": \"This is a performance\", \"priority_level\": \"high\"}', metadata={'source': '/var/genie-in-the-box/src/conf/long-term-memory/events.jsonl', 'seq_num': 26}),\n Document(page_content='{\"date\": \"2023-09-25\", \"start_time\": \"17:59\", \"end_time\": \"10:36\", \"event_type\": \"Meeting\", \"recurrent\": false, \"recurrence_interval\": null, \"description\": \"This is a meeting\", \"priority_level\": \"none\"}', metadata={'source': '/var/genie-in-the-box/src/conf/long-term-memory/events.jsonl', 'seq_num': 27}),\n Document(page_content='{\"date\": \"2023-08-11\", \"start_time\": \"00:55\", \"end_time\": \"05:01\", \"event_type\": \"Task\", \"recurrent\": false, \"recurrence_interval\": null, \"description\": \"This is a task\", \"priority_level\": \"none\"}', metadata={'source': '/var/genie-in-the-box/src/conf/long-term-memory/events.jsonl', 'seq_num': 28}),\n Document(page_content='{\"date\": \"2023-09-01\", \"start_time\": \"14:01\", \"end_time\": \"16:37\", \"event_type\": \"Workshop\", \"recurrent\": false, \"recurrence_interval\": null, \"description\": \"This is a workshop\", \"priority_level\": \"high\"}', metadata={'source': '/var/genie-in-the-box/src/conf/long-term-memory/events.jsonl', 'seq_num': 29}),\n Document(page_content='{\"date\": \"2023-09-15\", \"start_time\": \"22:14\", \"end_time\": \"02:08\", \"event_type\": \"TODO\", \"recurrent\": false, \"recurrence_interval\": null, \"description\": \"This is a todo\", \"priority_level\": \"none\"}', metadata={'source': '/var/genie-in-the-box/src/conf/long-term-memory/events.jsonl', 'seq_num': 30}),\n Document(page_content='{\"date\": \"2023-08-29\", \"start_time\": \"20:15\", \"end_time\": \"14:40\", \"event_type\": \"Workout\", \"recurrent\": false, \"recurrence_interval\": null, \"description\": \"This is a workout\", \"priority_level\": \"low\"}', metadata={'source': '/var/genie-in-the-box/src/conf/long-term-memory/events.jsonl', 'seq_num': 31}),\n Document(page_content='{\"date\": \"2023-09-21\", \"start_time\": \"00:00\", \"end_time\": \"23:59\", \"event_type\": \"Subscription\", \"recurrent\": true, \"recurrence_interval\": \"5 year\", \"description\": \"This is a subscription\", \"priority_level\": \"low\"}', metadata={'source': '/var/genie-in-the-box/src/conf/long-term-memory/events.jsonl', 'seq_num': 32}),\n Document(page_content='{\"date\": \"2023-09-22\", \"start_time\": \"11:06\", \"end_time\": \"19:05\", \"event_type\": \"Interview\", \"recurrent\": false, \"recurrence_interval\": null, \"description\": \"This is a interview\", \"priority_level\": \"high\"}', metadata={'source': '/var/genie-in-the-box/src/conf/long-term-memory/events.jsonl', 'seq_num': 33}),\n Document(page_content='{\"date\": \"2023-09-29\", \"start_time\": \"00:06\", \"end_time\": \"16:32\", \"event_type\": \"Appointment\", \"recurrent\": false, \"recurrence_interval\": null, \"description\": \"This is a appointment\", \"priority_level\": \"high\"}', metadata={'source': '/var/genie-in-the-box/src/conf/long-term-memory/events.jsonl', 'seq_num': 34}),\n Document(page_content='{\"date\": \"2023-09-01\", \"start_time\": \"00:00\", \"end_time\": \"23:59\", \"event_type\": \"Anniversary\", \"recurrent\": true, \"recurrence_interval\": \"1 year\", \"description\": \"This is a anniversary\", \"priority_level\": \"low\"}', metadata={'source': '/var/genie-in-the-box/src/conf/long-term-memory/events.jsonl', 'seq_num': 35}),\n Document(page_content='{\"date\": \"2023-07-28\", \"start_time\": \"07:41\", \"end_time\": \"01:48\", \"event_type\": \"Appointment\", \"recurrent\": false, \"recurrence_interval\": null, \"description\": \"This is a appointment\", \"priority_level\": \"low\"}', metadata={'source': '/var/genie-in-the-box/src/conf/long-term-memory/events.jsonl', 'seq_num': 36}),\n Document(page_content='{\"date\": \"2023-07-20\", \"start_time\": \"09:32\", \"end_time\": \"22:14\", \"event_type\": \"Interview\", \"recurrent\": false, \"recurrence_interval\": null, \"description\": \"This is a interview\", \"priority_level\": \"highest\"}', metadata={'source': '/var/genie-in-the-box/src/conf/long-term-memory/events.jsonl', 'seq_num': 37}),\n Document(page_content='{\"date\": \"2023-09-17\", \"start_time\": \"00:00\", \"end_time\": \"23:59\", \"event_type\": \"Subscription\", \"recurrent\": true, \"recurrence_interval\": \"4 year\", \"description\": \"This is a subscription\", \"priority_level\": \"low\"}', metadata={'source': '/var/genie-in-the-box/src/conf/long-term-memory/events.jsonl', 'seq_num': 38}),\n Document(page_content='{\"date\": \"2023-08-11\", \"start_time\": \"00:00\", \"end_time\": \"23:59\", \"event_type\": \"Concert\", \"recurrent\": false, \"recurrence_interval\": null, \"description\": \"This is a concert\", \"priority_level\": \"low\"}', metadata={'source': '/var/genie-in-the-box/src/conf/long-term-memory/events.jsonl', 'seq_num': 39}),\n Document(page_content='{\"date\": \"2023-08-30\", \"start_time\": \"10:51\", \"end_time\": \"02:40\", \"event_type\": \"Workout\", \"recurrent\": false, \"recurrence_interval\": null, \"description\": \"This is a workout\", \"priority_level\": \"high\"}', metadata={'source': '/var/genie-in-the-box/src/conf/long-term-memory/events.jsonl', 'seq_num': 40}),\n Document(page_content='{\"date\": \"2023-08-12\", \"start_time\": \"10:46\", \"end_time\": \"20:14\", \"event_type\": \"Task\", \"recurrent\": false, \"recurrence_interval\": null, \"description\": \"This is a task\", \"priority_level\": \"medium\"}', metadata={'source': '/var/genie-in-the-box/src/conf/long-term-memory/events.jsonl', 'seq_num': 41}),\n Document(page_content='{\"date\": \"2023-08-24\", \"start_time\": \"19:58\", \"end_time\": \"18:22\", \"event_type\": \"TODO\", \"recurrent\": false, \"recurrence_interval\": null, \"description\": \"This is a todo\", \"priority_level\": \"low\"}', metadata={'source': '/var/genie-in-the-box/src/conf/long-term-memory/events.jsonl', 'seq_num': 42}),\n Document(page_content='{\"date\": \"2023-07-29\", \"start_time\": \"10:21\", \"end_time\": \"02:10\", \"event_type\": \"TODO\", \"recurrent\": false, \"recurrence_interval\": null, \"description\": \"This is a todo\", \"priority_level\": \"high\"}', metadata={'source': '/var/genie-in-the-box/src/conf/long-term-memory/events.jsonl', 'seq_num': 43}),\n Document(page_content='{\"date\": \"2023-09-04\", \"start_time\": \"00:00\", \"end_time\": \"23:59\", \"event_type\": \"Concert\", \"recurrent\": false, \"recurrence_interval\": null, \"description\": \"This is a concert\", \"priority_level\": \"highest\"}', metadata={'source': '/var/genie-in-the-box/src/conf/long-term-memory/events.jsonl', 'seq_num': 44}),\n Document(page_content='{\"date\": \"2023-09-19\", \"start_time\": \"00:00\", \"end_time\": \"23:59\", \"event_type\": \"Anniversary\", \"recurrent\": true, \"recurrence_interval\": \"1 year\", \"description\": \"This is a anniversary\", \"priority_level\": \"medium\"}', metadata={'source': '/var/genie-in-the-box/src/conf/long-term-memory/events.jsonl', 'seq_num': 45}),\n Document(page_content='{\"date\": \"2023-09-22\", \"start_time\": \"10:43\", \"end_time\": \"00:01\", \"event_type\": \"Meeting\", \"recurrent\": false, \"recurrence_interval\": null, \"description\": \"This is a meeting\", \"priority_level\": \"highest\"}', metadata={'source': '/var/genie-in-the-box/src/conf/long-term-memory/events.jsonl', 'seq_num': 46}),\n Document(page_content='{\"date\": \"2023-09-24\", \"start_time\": \"00:08\", \"end_time\": \"17:24\", \"event_type\": \"TODO\", \"recurrent\": false, \"recurrence_interval\": null, \"description\": \"This is a todo\", \"priority_level\": \"highest\"}', metadata={'source': '/var/genie-in-the-box/src/conf/long-term-memory/events.jsonl', 'seq_num': 47}),\n Document(page_content='{\"date\": \"2023-08-08\", \"start_time\": \"13:08\", \"end_time\": \"13:27\", \"event_type\": \"TODO\", \"recurrent\": false, \"recurrence_interval\": null, \"description\": \"This is a todo\", \"priority_level\": \"high\"}', metadata={'source': '/var/genie-in-the-box/src/conf/long-term-memory/events.jsonl', 'seq_num': 48}),\n Document(page_content='{\"date\": \"2023-08-13\", \"start_time\": \"00:57\", \"end_time\": \"12:24\", \"event_type\": \"Interview\", \"recurrent\": false, \"recurrence_interval\": null, \"description\": \"This is a interview\", \"priority_level\": \"medium\"}', metadata={'source': '/var/genie-in-the-box/src/conf/long-term-memory/events.jsonl', 'seq_num': 49}),\n Document(page_content='{\"date\": \"2023-08-18\", \"start_time\": \"09:44\", \"end_time\": \"13:23\", \"event_type\": \"Workout\", \"recurrent\": false, \"recurrence_interval\": null, \"description\": \"This is a workout\", \"priority_level\": \"medium\"}', metadata={'source': '/var/genie-in-the-box/src/conf/long-term-memory/events.jsonl', 'seq_num': 50})]"
     },
     "execution_count": 57,
     "metadata": {},
     "output_type": "execute_result"
    }
   ],
   "source": [
    "data"
   ],
   "metadata": {
    "collapsed": false,
    "ExecuteTime": {
     "end_time": "2023-07-21T16:47:37.655445Z",
     "start_time": "2023-07-21T16:47:37.648318Z"
    }
   }
  },
  {
   "cell_type": "code",
   "execution_count": 69,
   "outputs": [
    {
     "ename": "TypeError",
     "evalue": "'Document' object is not subscriptable",
     "output_type": "error",
     "traceback": [
      "\u001B[0;31m---------------------------------------------------------------------------\u001B[0m",
      "\u001B[0;31mTypeError\u001B[0m                                 Traceback (most recent call last)",
      "Cell \u001B[0;32mIn[69], line 2\u001B[0m\n\u001B[1;32m      1\u001B[0m \u001B[38;5;66;03m# Sort data by date ascending\u001B[39;00m\n\u001B[0;32m----> 2\u001B[0m data \u001B[38;5;241m=\u001B[39m \u001B[38;5;28;43msorted\u001B[39;49m\u001B[43m(\u001B[49m\u001B[43m \u001B[49m\u001B[43mjsonl_data\u001B[49m\u001B[43m,\u001B[49m\u001B[43m \u001B[49m\u001B[43mkey\u001B[49m\u001B[38;5;241;43m=\u001B[39;49m\u001B[38;5;28;43;01mlambda\u001B[39;49;00m\u001B[43m \u001B[49m\u001B[43mpage_content\u001B[49m\u001B[43m:\u001B[49m\u001B[43m \u001B[49m\u001B[43mpage_content\u001B[49m\u001B[43m[\u001B[49m\u001B[43m \u001B[49m\u001B[38;5;124;43m\"\u001B[39;49m\u001B[38;5;124;43mdate\u001B[39;49m\u001B[38;5;124;43m\"\u001B[39;49m\u001B[43m \u001B[49m\u001B[43m]\u001B[49m\u001B[43m \u001B[49m\u001B[43m)\u001B[49m\n\u001B[1;32m      4\u001B[0m \u001B[38;5;28;01mfor\u001B[39;00m event \u001B[38;5;129;01min\u001B[39;00m jsonl_data:\n\u001B[1;32m      6\u001B[0m     \u001B[38;5;28;01mif\u001B[39;00m \u001B[38;5;124m\"\u001B[39m\u001B[38;5;124mTODO\u001B[39m\u001B[38;5;124m\"\u001B[39m \u001B[38;5;129;01min\u001B[39;00m event\u001B[38;5;241m.\u001B[39mpage_content:\n",
      "Cell \u001B[0;32mIn[69], line 2\u001B[0m, in \u001B[0;36m<lambda>\u001B[0;34m(page_content)\u001B[0m\n\u001B[1;32m      1\u001B[0m \u001B[38;5;66;03m# Sort data by date ascending\u001B[39;00m\n\u001B[0;32m----> 2\u001B[0m data \u001B[38;5;241m=\u001B[39m \u001B[38;5;28msorted\u001B[39m( jsonl_data, key\u001B[38;5;241m=\u001B[39m\u001B[38;5;28;01mlambda\u001B[39;00m page_content: \u001B[43mpage_content\u001B[49m\u001B[43m[\u001B[49m\u001B[43m \u001B[49m\u001B[38;5;124;43m\"\u001B[39;49m\u001B[38;5;124;43mdate\u001B[39;49m\u001B[38;5;124;43m\"\u001B[39;49m\u001B[43m \u001B[49m\u001B[43m]\u001B[49m )\n\u001B[1;32m      4\u001B[0m \u001B[38;5;28;01mfor\u001B[39;00m event \u001B[38;5;129;01min\u001B[39;00m jsonl_data:\n\u001B[1;32m      6\u001B[0m     \u001B[38;5;28;01mif\u001B[39;00m \u001B[38;5;124m\"\u001B[39m\u001B[38;5;124mTODO\u001B[39m\u001B[38;5;124m\"\u001B[39m \u001B[38;5;129;01min\u001B[39;00m event\u001B[38;5;241m.\u001B[39mpage_content:\n",
      "\u001B[0;31mTypeError\u001B[0m: 'Document' object is not subscriptable"
     ]
    }
   ],
   "source": [
    "# Sort data by date ascending\n",
    "# data = sorted( jsonl_data, key=lambda page_content: page_content[ \"date\" ] )\n",
    "\n",
    "for event in jsonl_data:\n",
    "\n",
    "    if \"TODO\" in event.page_content:\n",
    "        print( event.page_content )"
   ],
   "metadata": {
    "collapsed": false,
    "ExecuteTime": {
     "end_time": "2023-07-21T16:57:00.979392Z",
     "start_time": "2023-07-21T16:57:00.965620Z"
    }
   }
  },
  {
   "cell_type": "code",
   "execution_count": 67,
   "outputs": [
    {
     "data": {
      "text/plain": "<IPython.core.display.Markdown object>",
      "text/markdown": "\n\n2023-08-08, 13:08 - 13:27, TODO, false, null, \"This is a todo\", high\n2023-08-24, 19:58 - 18:22, TODO, false, null, \"This is a todo\", low\n2023-09-11, 13:22 - 19:13, TODO, false, null, \"This is a todo\", low\n2023-09-24, 00:08 - 17:24, TODO, false, null, \"This is a todo\", highest"
     },
     "metadata": {},
     "output_type": "display_data"
    }
   ],
   "source": [
    "query_jsonl_vectorstore( \"Show me all todo events, in ascending order by date.\" )"
   ],
   "metadata": {
    "collapsed": false,
    "ExecuteTime": {
     "end_time": "2023-07-21T16:53:37.824324Z",
     "start_time": "2023-07-21T16:53:32.339391Z"
    }
   }
  },
  {
   "cell_type": "code",
   "execution_count": 70,
   "outputs": [
    {
     "data": {
      "text/plain": "<IPython.core.display.Markdown object>",
      "text/markdown": "\n\n2023-07-31, Meeting, 15:09 - 23:06, This is a meeting, Low\n2023-09-22, Meeting, 10:43 - 00:01, This is a meeting, Highest\n2023-09-24, TODO, 00:08 - 17:24, This is a todo, Highest\n2023-09-25, Meeting, 17:59 - 10:36, This is a meeting, None"
     },
     "metadata": {},
     "output_type": "display_data"
    }
   ],
   "source": [
    "query_jsonl_vectorstore( \"Show me ALL events, in ascending order by date.\" )"
   ],
   "metadata": {
    "collapsed": false,
    "ExecuteTime": {
     "end_time": "2023-07-21T16:57:58.842745Z",
     "start_time": "2023-07-21T16:57:52.735896Z"
    }
   }
  },
  {
   "cell_type": "code",
   "execution_count": 24,
   "outputs": [
    {
     "data": {
      "text/plain": "<IPython.core.display.Markdown object>",
      "text/markdown": " No, I don't remember anything you've told or asked of me."
     },
     "metadata": {},
     "output_type": "display_data"
    }
   ],
   "source": [
    "query_jsonl_vectorstore( \"Do you remember anything I've told or asked of you?\" )"
   ],
   "metadata": {
    "collapsed": false,
    "ExecuteTime": {
     "end_time": "2023-07-21T16:23:09.142655Z",
     "start_time": "2023-07-21T16:23:08.044196Z"
    }
   }
  },
  {
   "cell_type": "code",
   "execution_count": 25,
   "outputs": [
    {
     "data": {
      "text/plain": "<IPython.core.display.Markdown object>",
      "text/markdown": " Today is 2023-08-12."
     },
     "metadata": {},
     "output_type": "display_data"
    }
   ],
   "source": [
    "query_jsonl_vectorstore( \"What day is today?\" )"
   ],
   "metadata": {
    "collapsed": false,
    "ExecuteTime": {
     "end_time": "2023-07-21T16:23:12.879726Z",
     "start_time": "2023-07-21T16:23:11.444359Z"
    }
   }
  },
  {
   "cell_type": "code",
   "execution_count": 79,
   "outputs": [
    {
     "data": {
      "text/plain": "<IPython.core.display.Markdown object>",
      "text/markdown": " There are four birthdays in this data set. They are Barbara Jane Ruiz (mother)'s birthday on July 30th, Alice (aunt)'s birthday on August 28th, Steve Ruiz (brother)'s birthday on September 17th, and Inash (girlfriend)'s birthday on September 5th."
     },
     "metadata": {},
     "output_type": "display_data"
    }
   ],
   "source": [
    "query_jsonl_vectorstore( \"How many birthdays in this data set? Display them in ascending order by date\" )"
   ],
   "metadata": {
    "collapsed": false,
    "ExecuteTime": {
     "end_time": "2023-07-21T17:24:44.261991Z",
     "start_time": "2023-07-21T17:24:41.027847Z"
    }
   }
  },
  {
   "cell_type": "code",
   "execution_count": 29,
   "outputs": [],
   "source": [
    "from chromadb.utils import embedding_functions"
   ],
   "metadata": {
    "collapsed": false,
    "ExecuteTime": {
     "end_time": "2023-07-21T16:25:31.770956Z",
     "start_time": "2023-07-21T16:25:31.755681Z"
    }
   }
  },
  {
   "cell_type": "code",
   "execution_count": 34,
   "outputs": [
    {
     "name": "stdout",
     "output_type": "stream",
     "text": [
      "Requirement already satisfied: openai[embeddings] in /usr/local/lib/python3.10/dist-packages (0.27.0)\r\n",
      "Requirement already satisfied: tqdm in /usr/local/lib/python3.10/dist-packages (from openai[embeddings]) (4.65.0)\r\n",
      "Requirement already satisfied: requests>=2.20 in /usr/local/lib/python3.10/dist-packages (from openai[embeddings]) (2.28.2)\r\n",
      "Requirement already satisfied: aiohttp in /usr/local/lib/python3.10/dist-packages (from openai[embeddings]) (3.8.4)\r\n",
      "Requirement already satisfied: tenacity>=8.0.1 in /usr/local/lib/python3.10/dist-packages (from openai[embeddings]) (8.2.2)\r\n",
      "Requirement already satisfied: scipy in /usr/local/lib/python3.10/dist-packages (from openai[embeddings]) (1.10.1)\r\n",
      "Requirement already satisfied: openpyxl>=3.0.7 in /usr/local/lib/python3.10/dist-packages (from openai[embeddings]) (3.1.1)\r\n",
      "Requirement already satisfied: numpy in /usr/local/lib/python3.10/dist-packages (from openai[embeddings]) (1.25.1)\r\n",
      "Requirement already satisfied: scikit-learn>=1.0.2 in /usr/local/lib/python3.10/dist-packages (from openai[embeddings]) (1.2.1)\r\n",
      "Requirement already satisfied: pandas-stubs>=1.1.0.11 in /usr/local/lib/python3.10/dist-packages (from openai[embeddings]) (2.0.2.230605)\r\n",
      "Requirement already satisfied: matplotlib in /usr/local/lib/python3.10/dist-packages (from openai[embeddings]) (3.5.2)\r\n",
      "Requirement already satisfied: pandas>=1.2.3 in /usr/local/lib/python3.10/dist-packages (from openai[embeddings]) (1.5.3)\r\n",
      "Requirement already satisfied: plotly in /usr/local/lib/python3.10/dist-packages (from openai[embeddings]) (5.15.0)\r\n",
      "Requirement already satisfied: et-xmlfile in /usr/local/lib/python3.10/dist-packages (from openpyxl>=3.0.7->openai[embeddings]) (1.1.0)\r\n",
      "Requirement already satisfied: python-dateutil>=2.8.1 in /usr/local/lib/python3.10/dist-packages (from pandas>=1.2.3->openai[embeddings]) (2.8.2)\r\n",
      "Requirement already satisfied: pytz>=2020.1 in /usr/local/lib/python3.10/dist-packages (from pandas>=1.2.3->openai[embeddings]) (2022.7.1)\r\n",
      "Requirement already satisfied: types-pytz>=2022.1.1 in /usr/local/lib/python3.10/dist-packages (from pandas-stubs>=1.1.0.11->openai[embeddings]) (2023.3.0.0)\r\n",
      "Requirement already satisfied: certifi>=2017.4.17 in /usr/local/lib/python3.10/dist-packages (from requests>=2.20->openai[embeddings]) (2022.12.7)\r\n",
      "Requirement already satisfied: idna<4,>=2.5 in /usr/local/lib/python3.10/dist-packages (from requests>=2.20->openai[embeddings]) (3.4)\r\n",
      "Requirement already satisfied: urllib3<1.27,>=1.21.1 in /usr/local/lib/python3.10/dist-packages (from requests>=2.20->openai[embeddings]) (1.26.14)\r\n",
      "Requirement already satisfied: charset-normalizer<4,>=2 in /usr/local/lib/python3.10/dist-packages (from requests>=2.20->openai[embeddings]) (3.0.1)\r\n",
      "Requirement already satisfied: joblib>=1.1.1 in /usr/local/lib/python3.10/dist-packages (from scikit-learn>=1.0.2->openai[embeddings]) (1.1.1)\r\n",
      "Requirement already satisfied: threadpoolctl>=2.0.0 in /usr/local/lib/python3.10/dist-packages (from scikit-learn>=1.0.2->openai[embeddings]) (3.1.0)\r\n",
      "Requirement already satisfied: aiosignal>=1.1.2 in /usr/local/lib/python3.10/dist-packages (from aiohttp->openai[embeddings]) (1.3.1)\r\n",
      "Requirement already satisfied: frozenlist>=1.1.1 in /usr/local/lib/python3.10/dist-packages (from aiohttp->openai[embeddings]) (1.3.3)\r\n",
      "Requirement already satisfied: multidict<7.0,>=4.5 in /usr/local/lib/python3.10/dist-packages (from aiohttp->openai[embeddings]) (6.0.4)\r\n",
      "Requirement already satisfied: async-timeout<5.0,>=4.0.0a3 in /usr/local/lib/python3.10/dist-packages (from aiohttp->openai[embeddings]) (4.0.2)\r\n",
      "Requirement already satisfied: yarl<2.0,>=1.0 in /usr/local/lib/python3.10/dist-packages (from aiohttp->openai[embeddings]) (1.8.2)\r\n",
      "Requirement already satisfied: attrs>=17.3.0 in /usr/local/lib/python3.10/dist-packages (from aiohttp->openai[embeddings]) (22.2.0)\r\n",
      "Requirement already satisfied: cycler>=0.10 in /usr/local/lib/python3.10/dist-packages (from matplotlib->openai[embeddings]) (0.11.0)\r\n",
      "Requirement already satisfied: packaging>=20.0 in /usr/local/lib/python3.10/dist-packages (from matplotlib->openai[embeddings]) (23.0)\r\n",
      "Requirement already satisfied: kiwisolver>=1.0.1 in /usr/local/lib/python3.10/dist-packages (from matplotlib->openai[embeddings]) (1.4.4)\r\n",
      "Requirement already satisfied: pyparsing>=2.2.1 in /usr/local/lib/python3.10/dist-packages (from matplotlib->openai[embeddings]) (3.0.9)\r\n",
      "Requirement already satisfied: fonttools>=4.22.0 in /usr/local/lib/python3.10/dist-packages (from matplotlib->openai[embeddings]) (4.38.0)\r\n",
      "Requirement already satisfied: pillow>=6.2.0 in /usr/local/lib/python3.10/dist-packages (from matplotlib->openai[embeddings]) (9.4.0)\r\n",
      "Requirement already satisfied: six>=1.5 in /usr/local/lib/python3.10/dist-packages (from python-dateutil>=2.8.1->pandas>=1.2.3->openai[embeddings]) (1.16.0)\r\n",
      "\u001B[33mWARNING: Running pip as the 'root' user can result in broken permissions and conflicting behaviour with the system package manager. It is recommended to use a virtual environment instead: https://pip.pypa.io/warnings/venv\u001B[0m\u001B[33m\r\n",
      "\u001B[0m\r\n",
      "\u001B[1m[\u001B[0m\u001B[34;49mnotice\u001B[0m\u001B[1;39;49m]\u001B[0m\u001B[39;49m A new release of pip is available: \u001B[0m\u001B[31;49m23.0.1\u001B[0m\u001B[39;49m -> \u001B[0m\u001B[32;49m23.2\u001B[0m\r\n",
      "\u001B[1m[\u001B[0m\u001B[34;49mnotice\u001B[0m\u001B[1;39;49m]\u001B[0m\u001B[39;49m To update, run: \u001B[0m\u001B[32;49mpython3 -m pip install --upgrade pip\u001B[0m\r\n"
     ]
    }
   ],
   "source": [
    "! pip install openai[embeddings]"
   ],
   "metadata": {
    "collapsed": false,
    "ExecuteTime": {
     "end_time": "2023-07-21T16:29:43.395401Z",
     "start_time": "2023-07-21T16:29:41.345313Z"
    }
   }
  },
  {
   "cell_type": "code",
   "execution_count": 36,
   "outputs": [],
   "source": [
    "openai_ef = embedding_functions.OpenAIEmbeddingFunction( model_name=\"gpt-3.5-turbo\" )"
   ],
   "metadata": {
    "collapsed": false,
    "ExecuteTime": {
     "end_time": "2023-07-21T16:33:33.474058Z",
     "start_time": "2023-07-21T16:33:33.472226Z"
    }
   }
  },
  {
   "cell_type": "code",
   "execution_count": 37,
   "outputs": [
    {
     "data": {
      "text/plain": "<chromadb.utils.embedding_functions.OpenAIEmbeddingFunction at 0x7effcc099bd0>"
     },
     "execution_count": 37,
     "metadata": {},
     "output_type": "execute_result"
    }
   ],
   "source": [
    "openai_ef"
   ],
   "metadata": {
    "collapsed": false,
    "ExecuteTime": {
     "end_time": "2023-07-21T16:33:35.353697Z",
     "start_time": "2023-07-21T16:33:35.351841Z"
    }
   }
  },
  {
   "cell_type": "code",
   "execution_count": 40,
   "outputs": [
    {
     "ename": "KeyboardInterrupt",
     "evalue": "",
     "output_type": "error",
     "traceback": [
      "\u001B[0;31m---------------------------------------------------------------------------\u001B[0m",
      "\u001B[0;31mKeyboardInterrupt\u001B[0m                         Traceback (most recent call last)",
      "Cell \u001B[0;32mIn[40], line 5\u001B[0m\n\u001B[1;32m      2\u001B[0m \u001B[38;5;28;01mfrom\u001B[39;00m \u001B[38;5;21;01mlangchain\u001B[39;00m\u001B[38;5;21;01m.\u001B[39;00m\u001B[38;5;21;01mvectorstores\u001B[39;00m \u001B[38;5;28;01mimport\u001B[39;00m Chroma\n\u001B[1;32m      4\u001B[0m embeddings \u001B[38;5;241m=\u001B[39m OpenAIEmbeddings()\n\u001B[0;32m----> 5\u001B[0m vectorstore \u001B[38;5;241m=\u001B[39m \u001B[43mChroma\u001B[49m\u001B[38;5;241;43m.\u001B[39;49m\u001B[43mfrom_documents\u001B[49m\u001B[43m(\u001B[49m\u001B[43m \u001B[49m\u001B[43mdata\u001B[49m\u001B[43m,\u001B[49m\u001B[43m \u001B[49m\u001B[43membeddings\u001B[49m\u001B[43m \u001B[49m\u001B[43m)\u001B[49m\n",
      "File \u001B[0;32m/usr/local/lib/python3.10/dist-packages/langchain/vectorstores/chroma.py:574\u001B[0m, in \u001B[0;36mChroma.from_documents\u001B[0;34m(cls, documents, embedding, ids, collection_name, persist_directory, client_settings, client, collection_metadata, **kwargs)\u001B[0m\n\u001B[1;32m    572\u001B[0m texts \u001B[38;5;241m=\u001B[39m [doc\u001B[38;5;241m.\u001B[39mpage_content \u001B[38;5;28;01mfor\u001B[39;00m doc \u001B[38;5;129;01min\u001B[39;00m documents]\n\u001B[1;32m    573\u001B[0m metadatas \u001B[38;5;241m=\u001B[39m [doc\u001B[38;5;241m.\u001B[39mmetadata \u001B[38;5;28;01mfor\u001B[39;00m doc \u001B[38;5;129;01min\u001B[39;00m documents]\n\u001B[0;32m--> 574\u001B[0m \u001B[38;5;28;01mreturn\u001B[39;00m \u001B[38;5;28;43mcls\u001B[39;49m\u001B[38;5;241;43m.\u001B[39;49m\u001B[43mfrom_texts\u001B[49m\u001B[43m(\u001B[49m\n\u001B[1;32m    575\u001B[0m \u001B[43m    \u001B[49m\u001B[43mtexts\u001B[49m\u001B[38;5;241;43m=\u001B[39;49m\u001B[43mtexts\u001B[49m\u001B[43m,\u001B[49m\n\u001B[1;32m    576\u001B[0m \u001B[43m    \u001B[49m\u001B[43membedding\u001B[49m\u001B[38;5;241;43m=\u001B[39;49m\u001B[43membedding\u001B[49m\u001B[43m,\u001B[49m\n\u001B[1;32m    577\u001B[0m \u001B[43m    \u001B[49m\u001B[43mmetadatas\u001B[49m\u001B[38;5;241;43m=\u001B[39;49m\u001B[43mmetadatas\u001B[49m\u001B[43m,\u001B[49m\n\u001B[1;32m    578\u001B[0m \u001B[43m    \u001B[49m\u001B[43mids\u001B[49m\u001B[38;5;241;43m=\u001B[39;49m\u001B[43mids\u001B[49m\u001B[43m,\u001B[49m\n\u001B[1;32m    579\u001B[0m \u001B[43m    \u001B[49m\u001B[43mcollection_name\u001B[49m\u001B[38;5;241;43m=\u001B[39;49m\u001B[43mcollection_name\u001B[49m\u001B[43m,\u001B[49m\n\u001B[1;32m    580\u001B[0m \u001B[43m    \u001B[49m\u001B[43mpersist_directory\u001B[49m\u001B[38;5;241;43m=\u001B[39;49m\u001B[43mpersist_directory\u001B[49m\u001B[43m,\u001B[49m\n\u001B[1;32m    581\u001B[0m \u001B[43m    \u001B[49m\u001B[43mclient_settings\u001B[49m\u001B[38;5;241;43m=\u001B[39;49m\u001B[43mclient_settings\u001B[49m\u001B[43m,\u001B[49m\n\u001B[1;32m    582\u001B[0m \u001B[43m    \u001B[49m\u001B[43mclient\u001B[49m\u001B[38;5;241;43m=\u001B[39;49m\u001B[43mclient\u001B[49m\u001B[43m,\u001B[49m\n\u001B[1;32m    583\u001B[0m \u001B[43m    \u001B[49m\u001B[43mcollection_metadata\u001B[49m\u001B[38;5;241;43m=\u001B[39;49m\u001B[43mcollection_metadata\u001B[49m\u001B[43m,\u001B[49m\n\u001B[1;32m    584\u001B[0m \u001B[43m    \u001B[49m\u001B[38;5;241;43m*\u001B[39;49m\u001B[38;5;241;43m*\u001B[39;49m\u001B[43mkwargs\u001B[49m\u001B[43m,\u001B[49m\n\u001B[1;32m    585\u001B[0m \u001B[43m\u001B[49m\u001B[43m)\u001B[49m\n",
      "File \u001B[0;32m/usr/local/lib/python3.10/dist-packages/langchain/vectorstores/chroma.py:538\u001B[0m, in \u001B[0;36mChroma.from_texts\u001B[0;34m(cls, texts, embedding, metadatas, ids, collection_name, persist_directory, client_settings, client, collection_metadata, **kwargs)\u001B[0m\n\u001B[1;32m    510\u001B[0m \u001B[38;5;250m\u001B[39m\u001B[38;5;124;03m\"\"\"Create a Chroma vectorstore from a raw documents.\u001B[39;00m\n\u001B[1;32m    511\u001B[0m \n\u001B[1;32m    512\u001B[0m \u001B[38;5;124;03mIf a persist_directory is specified, the collection will be persisted there.\u001B[39;00m\n\u001B[0;32m   (...)\u001B[0m\n\u001B[1;32m    527\u001B[0m \u001B[38;5;124;03m    Chroma: Chroma vectorstore.\u001B[39;00m\n\u001B[1;32m    528\u001B[0m \u001B[38;5;124;03m\"\"\"\u001B[39;00m\n\u001B[1;32m    529\u001B[0m chroma_collection \u001B[38;5;241m=\u001B[39m \u001B[38;5;28mcls\u001B[39m(\n\u001B[1;32m    530\u001B[0m     collection_name\u001B[38;5;241m=\u001B[39mcollection_name,\n\u001B[1;32m    531\u001B[0m     embedding_function\u001B[38;5;241m=\u001B[39membedding,\n\u001B[0;32m   (...)\u001B[0m\n\u001B[1;32m    536\u001B[0m     \u001B[38;5;241m*\u001B[39m\u001B[38;5;241m*\u001B[39mkwargs,\n\u001B[1;32m    537\u001B[0m )\n\u001B[0;32m--> 538\u001B[0m \u001B[43mchroma_collection\u001B[49m\u001B[38;5;241;43m.\u001B[39;49m\u001B[43madd_texts\u001B[49m\u001B[43m(\u001B[49m\u001B[43mtexts\u001B[49m\u001B[38;5;241;43m=\u001B[39;49m\u001B[43mtexts\u001B[49m\u001B[43m,\u001B[49m\u001B[43m \u001B[49m\u001B[43mmetadatas\u001B[49m\u001B[38;5;241;43m=\u001B[39;49m\u001B[43mmetadatas\u001B[49m\u001B[43m,\u001B[49m\u001B[43m \u001B[49m\u001B[43mids\u001B[49m\u001B[38;5;241;43m=\u001B[39;49m\u001B[43mids\u001B[49m\u001B[43m)\u001B[49m\n\u001B[1;32m    539\u001B[0m \u001B[38;5;28;01mreturn\u001B[39;00m chroma_collection\n",
      "File \u001B[0;32m/usr/local/lib/python3.10/dist-packages/langchain/vectorstores/chroma.py:171\u001B[0m, in \u001B[0;36mChroma.add_texts\u001B[0;34m(self, texts, metadatas, ids, **kwargs)\u001B[0m\n\u001B[1;32m    169\u001B[0m embeddings \u001B[38;5;241m=\u001B[39m \u001B[38;5;28;01mNone\u001B[39;00m\n\u001B[1;32m    170\u001B[0m \u001B[38;5;28;01mif\u001B[39;00m \u001B[38;5;28mself\u001B[39m\u001B[38;5;241m.\u001B[39m_embedding_function \u001B[38;5;129;01mis\u001B[39;00m \u001B[38;5;129;01mnot\u001B[39;00m \u001B[38;5;28;01mNone\u001B[39;00m:\n\u001B[0;32m--> 171\u001B[0m     embeddings \u001B[38;5;241m=\u001B[39m \u001B[38;5;28;43mself\u001B[39;49m\u001B[38;5;241;43m.\u001B[39;49m\u001B[43m_embedding_function\u001B[49m\u001B[38;5;241;43m.\u001B[39;49m\u001B[43membed_documents\u001B[49m\u001B[43m(\u001B[49m\u001B[38;5;28;43mlist\u001B[39;49m\u001B[43m(\u001B[49m\u001B[43mtexts\u001B[49m\u001B[43m)\u001B[49m\u001B[43m)\u001B[49m\n\u001B[1;32m    173\u001B[0m \u001B[38;5;28;01mif\u001B[39;00m metadatas:\n\u001B[1;32m    174\u001B[0m     texts \u001B[38;5;241m=\u001B[39m \u001B[38;5;28mlist\u001B[39m(texts)\n",
      "File \u001B[0;32m/usr/local/lib/python3.10/dist-packages/langchain/embeddings/openai.py:508\u001B[0m, in \u001B[0;36mOpenAIEmbeddings.embed_documents\u001B[0;34m(self, texts, chunk_size)\u001B[0m\n\u001B[1;32m    496\u001B[0m \u001B[38;5;250m\u001B[39m\u001B[38;5;124;03m\"\"\"Call out to OpenAI's embedding endpoint for embedding search docs.\u001B[39;00m\n\u001B[1;32m    497\u001B[0m \n\u001B[1;32m    498\u001B[0m \u001B[38;5;124;03mArgs:\u001B[39;00m\n\u001B[0;32m   (...)\u001B[0m\n\u001B[1;32m    504\u001B[0m \u001B[38;5;124;03m    List of embeddings, one for each text.\u001B[39;00m\n\u001B[1;32m    505\u001B[0m \u001B[38;5;124;03m\"\"\"\u001B[39;00m\n\u001B[1;32m    506\u001B[0m \u001B[38;5;66;03m# NOTE: to keep things simple, we assume the list may contain texts longer\u001B[39;00m\n\u001B[1;32m    507\u001B[0m \u001B[38;5;66;03m#       than the maximum context and use length-safe embedding function.\u001B[39;00m\n\u001B[0;32m--> 508\u001B[0m \u001B[38;5;28;01mreturn\u001B[39;00m \u001B[38;5;28;43mself\u001B[39;49m\u001B[38;5;241;43m.\u001B[39;49m\u001B[43m_get_len_safe_embeddings\u001B[49m\u001B[43m(\u001B[49m\u001B[43mtexts\u001B[49m\u001B[43m,\u001B[49m\u001B[43m \u001B[49m\u001B[43mengine\u001B[49m\u001B[38;5;241;43m=\u001B[39;49m\u001B[38;5;28;43mself\u001B[39;49m\u001B[38;5;241;43m.\u001B[39;49m\u001B[43mdeployment\u001B[49m\u001B[43m)\u001B[49m\n",
      "File \u001B[0;32m/usr/local/lib/python3.10/dist-packages/langchain/embeddings/openai.py:358\u001B[0m, in \u001B[0;36mOpenAIEmbeddings._get_len_safe_embeddings\u001B[0;34m(self, texts, engine, chunk_size)\u001B[0m\n\u001B[1;32m    355\u001B[0m     _iter \u001B[38;5;241m=\u001B[39m \u001B[38;5;28mrange\u001B[39m(\u001B[38;5;241m0\u001B[39m, \u001B[38;5;28mlen\u001B[39m(tokens), _chunk_size)\n\u001B[1;32m    357\u001B[0m \u001B[38;5;28;01mfor\u001B[39;00m i \u001B[38;5;129;01min\u001B[39;00m _iter:\n\u001B[0;32m--> 358\u001B[0m     response \u001B[38;5;241m=\u001B[39m \u001B[43membed_with_retry\u001B[49m\u001B[43m(\u001B[49m\n\u001B[1;32m    359\u001B[0m \u001B[43m        \u001B[49m\u001B[38;5;28;43mself\u001B[39;49m\u001B[43m,\u001B[49m\n\u001B[1;32m    360\u001B[0m \u001B[43m        \u001B[49m\u001B[38;5;28;43minput\u001B[39;49m\u001B[38;5;241;43m=\u001B[39;49m\u001B[43mtokens\u001B[49m\u001B[43m[\u001B[49m\u001B[43mi\u001B[49m\u001B[43m \u001B[49m\u001B[43m:\u001B[49m\u001B[43m \u001B[49m\u001B[43mi\u001B[49m\u001B[43m \u001B[49m\u001B[38;5;241;43m+\u001B[39;49m\u001B[43m \u001B[49m\u001B[43m_chunk_size\u001B[49m\u001B[43m]\u001B[49m\u001B[43m,\u001B[49m\n\u001B[1;32m    361\u001B[0m \u001B[43m        \u001B[49m\u001B[38;5;241;43m*\u001B[39;49m\u001B[38;5;241;43m*\u001B[39;49m\u001B[38;5;28;43mself\u001B[39;49m\u001B[38;5;241;43m.\u001B[39;49m\u001B[43m_invocation_params\u001B[49m\u001B[43m,\u001B[49m\n\u001B[1;32m    362\u001B[0m \u001B[43m    \u001B[49m\u001B[43m)\u001B[49m\n\u001B[1;32m    363\u001B[0m     batched_embeddings \u001B[38;5;241m+\u001B[39m\u001B[38;5;241m=\u001B[39m [r[\u001B[38;5;124m\"\u001B[39m\u001B[38;5;124membedding\u001B[39m\u001B[38;5;124m\"\u001B[39m] \u001B[38;5;28;01mfor\u001B[39;00m r \u001B[38;5;129;01min\u001B[39;00m response[\u001B[38;5;124m\"\u001B[39m\u001B[38;5;124mdata\u001B[39m\u001B[38;5;124m\"\u001B[39m]]\n\u001B[1;32m    365\u001B[0m results: List[List[List[\u001B[38;5;28mfloat\u001B[39m]]] \u001B[38;5;241m=\u001B[39m [[] \u001B[38;5;28;01mfor\u001B[39;00m _ \u001B[38;5;129;01min\u001B[39;00m \u001B[38;5;28mrange\u001B[39m(\u001B[38;5;28mlen\u001B[39m(texts))]\n",
      "File \u001B[0;32m/usr/local/lib/python3.10/dist-packages/langchain/embeddings/openai.py:108\u001B[0m, in \u001B[0;36membed_with_retry\u001B[0;34m(embeddings, **kwargs)\u001B[0m\n\u001B[1;32m    105\u001B[0m     response \u001B[38;5;241m=\u001B[39m embeddings\u001B[38;5;241m.\u001B[39mclient\u001B[38;5;241m.\u001B[39mcreate(\u001B[38;5;241m*\u001B[39m\u001B[38;5;241m*\u001B[39mkwargs)\n\u001B[1;32m    106\u001B[0m     \u001B[38;5;28;01mreturn\u001B[39;00m _check_response(response)\n\u001B[0;32m--> 108\u001B[0m \u001B[38;5;28;01mreturn\u001B[39;00m \u001B[43m_embed_with_retry\u001B[49m\u001B[43m(\u001B[49m\u001B[38;5;241;43m*\u001B[39;49m\u001B[38;5;241;43m*\u001B[39;49m\u001B[43mkwargs\u001B[49m\u001B[43m)\u001B[49m\n",
      "File \u001B[0;32m/usr/local/lib/python3.10/dist-packages/tenacity/__init__.py:289\u001B[0m, in \u001B[0;36mBaseRetrying.wraps.<locals>.wrapped_f\u001B[0;34m(*args, **kw)\u001B[0m\n\u001B[1;32m    287\u001B[0m \u001B[38;5;129m@functools\u001B[39m\u001B[38;5;241m.\u001B[39mwraps(f)\n\u001B[1;32m    288\u001B[0m \u001B[38;5;28;01mdef\u001B[39;00m \u001B[38;5;21mwrapped_f\u001B[39m(\u001B[38;5;241m*\u001B[39margs: t\u001B[38;5;241m.\u001B[39mAny, \u001B[38;5;241m*\u001B[39m\u001B[38;5;241m*\u001B[39mkw: t\u001B[38;5;241m.\u001B[39mAny) \u001B[38;5;241m-\u001B[39m\u001B[38;5;241m>\u001B[39m t\u001B[38;5;241m.\u001B[39mAny:\n\u001B[0;32m--> 289\u001B[0m     \u001B[38;5;28;01mreturn\u001B[39;00m \u001B[38;5;28;43mself\u001B[39;49m\u001B[43m(\u001B[49m\u001B[43mf\u001B[49m\u001B[43m,\u001B[49m\u001B[43m \u001B[49m\u001B[38;5;241;43m*\u001B[39;49m\u001B[43margs\u001B[49m\u001B[43m,\u001B[49m\u001B[43m \u001B[49m\u001B[38;5;241;43m*\u001B[39;49m\u001B[38;5;241;43m*\u001B[39;49m\u001B[43mkw\u001B[49m\u001B[43m)\u001B[49m\n",
      "File \u001B[0;32m/usr/local/lib/python3.10/dist-packages/tenacity/__init__.py:379\u001B[0m, in \u001B[0;36mRetrying.__call__\u001B[0;34m(self, fn, *args, **kwargs)\u001B[0m\n\u001B[1;32m    377\u001B[0m retry_state \u001B[38;5;241m=\u001B[39m RetryCallState(retry_object\u001B[38;5;241m=\u001B[39m\u001B[38;5;28mself\u001B[39m, fn\u001B[38;5;241m=\u001B[39mfn, args\u001B[38;5;241m=\u001B[39margs, kwargs\u001B[38;5;241m=\u001B[39mkwargs)\n\u001B[1;32m    378\u001B[0m \u001B[38;5;28;01mwhile\u001B[39;00m \u001B[38;5;28;01mTrue\u001B[39;00m:\n\u001B[0;32m--> 379\u001B[0m     do \u001B[38;5;241m=\u001B[39m \u001B[38;5;28;43mself\u001B[39;49m\u001B[38;5;241;43m.\u001B[39;49m\u001B[43miter\u001B[49m\u001B[43m(\u001B[49m\u001B[43mretry_state\u001B[49m\u001B[38;5;241;43m=\u001B[39;49m\u001B[43mretry_state\u001B[49m\u001B[43m)\u001B[49m\n\u001B[1;32m    380\u001B[0m     \u001B[38;5;28;01mif\u001B[39;00m \u001B[38;5;28misinstance\u001B[39m(do, DoAttempt):\n\u001B[1;32m    381\u001B[0m         \u001B[38;5;28;01mtry\u001B[39;00m:\n",
      "File \u001B[0;32m/usr/local/lib/python3.10/dist-packages/tenacity/__init__.py:314\u001B[0m, in \u001B[0;36mBaseRetrying.iter\u001B[0;34m(self, retry_state)\u001B[0m\n\u001B[1;32m    312\u001B[0m is_explicit_retry \u001B[38;5;241m=\u001B[39m fut\u001B[38;5;241m.\u001B[39mfailed \u001B[38;5;129;01mand\u001B[39;00m \u001B[38;5;28misinstance\u001B[39m(fut\u001B[38;5;241m.\u001B[39mexception(), TryAgain)\n\u001B[1;32m    313\u001B[0m \u001B[38;5;28;01mif\u001B[39;00m \u001B[38;5;129;01mnot\u001B[39;00m (is_explicit_retry \u001B[38;5;129;01mor\u001B[39;00m \u001B[38;5;28mself\u001B[39m\u001B[38;5;241m.\u001B[39mretry(retry_state)):\n\u001B[0;32m--> 314\u001B[0m     \u001B[38;5;28;01mreturn\u001B[39;00m \u001B[43mfut\u001B[49m\u001B[38;5;241;43m.\u001B[39;49m\u001B[43mresult\u001B[49m\u001B[43m(\u001B[49m\u001B[43m)\u001B[49m\n\u001B[1;32m    316\u001B[0m \u001B[38;5;28;01mif\u001B[39;00m \u001B[38;5;28mself\u001B[39m\u001B[38;5;241m.\u001B[39mafter \u001B[38;5;129;01mis\u001B[39;00m \u001B[38;5;129;01mnot\u001B[39;00m \u001B[38;5;28;01mNone\u001B[39;00m:\n\u001B[1;32m    317\u001B[0m     \u001B[38;5;28mself\u001B[39m\u001B[38;5;241m.\u001B[39mafter(retry_state)\n",
      "File \u001B[0;32m/usr/lib/python3.10/concurrent/futures/_base.py:451\u001B[0m, in \u001B[0;36mFuture.result\u001B[0;34m(self, timeout)\u001B[0m\n\u001B[1;32m    449\u001B[0m     \u001B[38;5;28;01mraise\u001B[39;00m CancelledError()\n\u001B[1;32m    450\u001B[0m \u001B[38;5;28;01melif\u001B[39;00m \u001B[38;5;28mself\u001B[39m\u001B[38;5;241m.\u001B[39m_state \u001B[38;5;241m==\u001B[39m FINISHED:\n\u001B[0;32m--> 451\u001B[0m     \u001B[38;5;28;01mreturn\u001B[39;00m \u001B[38;5;28;43mself\u001B[39;49m\u001B[38;5;241;43m.\u001B[39;49m\u001B[43m__get_result\u001B[49m\u001B[43m(\u001B[49m\u001B[43m)\u001B[49m\n\u001B[1;32m    453\u001B[0m \u001B[38;5;28mself\u001B[39m\u001B[38;5;241m.\u001B[39m_condition\u001B[38;5;241m.\u001B[39mwait(timeout)\n\u001B[1;32m    455\u001B[0m \u001B[38;5;28;01mif\u001B[39;00m \u001B[38;5;28mself\u001B[39m\u001B[38;5;241m.\u001B[39m_state \u001B[38;5;129;01min\u001B[39;00m [CANCELLED, CANCELLED_AND_NOTIFIED]:\n",
      "File \u001B[0;32m/usr/lib/python3.10/concurrent/futures/_base.py:403\u001B[0m, in \u001B[0;36mFuture.__get_result\u001B[0;34m(self)\u001B[0m\n\u001B[1;32m    401\u001B[0m \u001B[38;5;28;01mif\u001B[39;00m \u001B[38;5;28mself\u001B[39m\u001B[38;5;241m.\u001B[39m_exception:\n\u001B[1;32m    402\u001B[0m     \u001B[38;5;28;01mtry\u001B[39;00m:\n\u001B[0;32m--> 403\u001B[0m         \u001B[38;5;28;01mraise\u001B[39;00m \u001B[38;5;28mself\u001B[39m\u001B[38;5;241m.\u001B[39m_exception\n\u001B[1;32m    404\u001B[0m     \u001B[38;5;28;01mfinally\u001B[39;00m:\n\u001B[1;32m    405\u001B[0m         \u001B[38;5;66;03m# Break a reference cycle with the exception in self._exception\u001B[39;00m\n\u001B[1;32m    406\u001B[0m         \u001B[38;5;28mself\u001B[39m \u001B[38;5;241m=\u001B[39m \u001B[38;5;28;01mNone\u001B[39;00m\n",
      "File \u001B[0;32m/usr/local/lib/python3.10/dist-packages/tenacity/__init__.py:382\u001B[0m, in \u001B[0;36mRetrying.__call__\u001B[0;34m(self, fn, *args, **kwargs)\u001B[0m\n\u001B[1;32m    380\u001B[0m \u001B[38;5;28;01mif\u001B[39;00m \u001B[38;5;28misinstance\u001B[39m(do, DoAttempt):\n\u001B[1;32m    381\u001B[0m     \u001B[38;5;28;01mtry\u001B[39;00m:\n\u001B[0;32m--> 382\u001B[0m         result \u001B[38;5;241m=\u001B[39m \u001B[43mfn\u001B[49m\u001B[43m(\u001B[49m\u001B[38;5;241;43m*\u001B[39;49m\u001B[43margs\u001B[49m\u001B[43m,\u001B[49m\u001B[43m \u001B[49m\u001B[38;5;241;43m*\u001B[39;49m\u001B[38;5;241;43m*\u001B[39;49m\u001B[43mkwargs\u001B[49m\u001B[43m)\u001B[49m\n\u001B[1;32m    383\u001B[0m     \u001B[38;5;28;01mexcept\u001B[39;00m \u001B[38;5;167;01mBaseException\u001B[39;00m:  \u001B[38;5;66;03m# noqa: B902\u001B[39;00m\n\u001B[1;32m    384\u001B[0m         retry_state\u001B[38;5;241m.\u001B[39mset_exception(sys\u001B[38;5;241m.\u001B[39mexc_info())  \u001B[38;5;66;03m# type: ignore[arg-type]\u001B[39;00m\n",
      "File \u001B[0;32m/usr/local/lib/python3.10/dist-packages/langchain/embeddings/openai.py:105\u001B[0m, in \u001B[0;36membed_with_retry.<locals>._embed_with_retry\u001B[0;34m(**kwargs)\u001B[0m\n\u001B[1;32m    103\u001B[0m \u001B[38;5;129m@retry_decorator\u001B[39m\n\u001B[1;32m    104\u001B[0m \u001B[38;5;28;01mdef\u001B[39;00m \u001B[38;5;21m_embed_with_retry\u001B[39m(\u001B[38;5;241m*\u001B[39m\u001B[38;5;241m*\u001B[39mkwargs: Any) \u001B[38;5;241m-\u001B[39m\u001B[38;5;241m>\u001B[39m Any:\n\u001B[0;32m--> 105\u001B[0m     response \u001B[38;5;241m=\u001B[39m \u001B[43membeddings\u001B[49m\u001B[38;5;241;43m.\u001B[39;49m\u001B[43mclient\u001B[49m\u001B[38;5;241;43m.\u001B[39;49m\u001B[43mcreate\u001B[49m\u001B[43m(\u001B[49m\u001B[38;5;241;43m*\u001B[39;49m\u001B[38;5;241;43m*\u001B[39;49m\u001B[43mkwargs\u001B[49m\u001B[43m)\u001B[49m\n\u001B[1;32m    106\u001B[0m     \u001B[38;5;28;01mreturn\u001B[39;00m _check_response(response)\n",
      "File \u001B[0;32m/usr/local/lib/python3.10/dist-packages/openai/api_resources/embedding.py:33\u001B[0m, in \u001B[0;36mEmbedding.create\u001B[0;34m(cls, *args, **kwargs)\u001B[0m\n\u001B[1;32m     31\u001B[0m \u001B[38;5;28;01mwhile\u001B[39;00m \u001B[38;5;28;01mTrue\u001B[39;00m:\n\u001B[1;32m     32\u001B[0m     \u001B[38;5;28;01mtry\u001B[39;00m:\n\u001B[0;32m---> 33\u001B[0m         response \u001B[38;5;241m=\u001B[39m \u001B[38;5;28;43msuper\u001B[39;49m\u001B[43m(\u001B[49m\u001B[43m)\u001B[49m\u001B[38;5;241;43m.\u001B[39;49m\u001B[43mcreate\u001B[49m\u001B[43m(\u001B[49m\u001B[38;5;241;43m*\u001B[39;49m\u001B[43margs\u001B[49m\u001B[43m,\u001B[49m\u001B[43m \u001B[49m\u001B[38;5;241;43m*\u001B[39;49m\u001B[38;5;241;43m*\u001B[39;49m\u001B[43mkwargs\u001B[49m\u001B[43m)\u001B[49m\n\u001B[1;32m     35\u001B[0m         \u001B[38;5;66;03m# If a user specifies base64, we'll just return the encoded string.\u001B[39;00m\n\u001B[1;32m     36\u001B[0m         \u001B[38;5;66;03m# This is only for the default case.\u001B[39;00m\n\u001B[1;32m     37\u001B[0m         \u001B[38;5;28;01mif\u001B[39;00m \u001B[38;5;129;01mnot\u001B[39;00m user_provided_encoding_format:\n",
      "File \u001B[0;32m/usr/local/lib/python3.10/dist-packages/openai/api_resources/abstract/engine_api_resource.py:153\u001B[0m, in \u001B[0;36mEngineAPIResource.create\u001B[0;34m(cls, api_key, api_base, api_type, request_id, api_version, organization, **params)\u001B[0m\n\u001B[1;32m    127\u001B[0m \u001B[38;5;129m@classmethod\u001B[39m\n\u001B[1;32m    128\u001B[0m \u001B[38;5;28;01mdef\u001B[39;00m \u001B[38;5;21mcreate\u001B[39m(\n\u001B[1;32m    129\u001B[0m     \u001B[38;5;28mcls\u001B[39m,\n\u001B[0;32m   (...)\u001B[0m\n\u001B[1;32m    136\u001B[0m     \u001B[38;5;241m*\u001B[39m\u001B[38;5;241m*\u001B[39mparams,\n\u001B[1;32m    137\u001B[0m ):\n\u001B[1;32m    138\u001B[0m     (\n\u001B[1;32m    139\u001B[0m         deployment_id,\n\u001B[1;32m    140\u001B[0m         engine,\n\u001B[0;32m   (...)\u001B[0m\n\u001B[1;32m    150\u001B[0m         api_key, api_base, api_type, api_version, organization, \u001B[38;5;241m*\u001B[39m\u001B[38;5;241m*\u001B[39mparams\n\u001B[1;32m    151\u001B[0m     )\n\u001B[0;32m--> 153\u001B[0m     response, _, api_key \u001B[38;5;241m=\u001B[39m \u001B[43mrequestor\u001B[49m\u001B[38;5;241;43m.\u001B[39;49m\u001B[43mrequest\u001B[49m\u001B[43m(\u001B[49m\n\u001B[1;32m    154\u001B[0m \u001B[43m        \u001B[49m\u001B[38;5;124;43m\"\u001B[39;49m\u001B[38;5;124;43mpost\u001B[39;49m\u001B[38;5;124;43m\"\u001B[39;49m\u001B[43m,\u001B[49m\n\u001B[1;32m    155\u001B[0m \u001B[43m        \u001B[49m\u001B[43murl\u001B[49m\u001B[43m,\u001B[49m\n\u001B[1;32m    156\u001B[0m \u001B[43m        \u001B[49m\u001B[43mparams\u001B[49m\u001B[38;5;241;43m=\u001B[39;49m\u001B[43mparams\u001B[49m\u001B[43m,\u001B[49m\n\u001B[1;32m    157\u001B[0m \u001B[43m        \u001B[49m\u001B[43mheaders\u001B[49m\u001B[38;5;241;43m=\u001B[39;49m\u001B[43mheaders\u001B[49m\u001B[43m,\u001B[49m\n\u001B[1;32m    158\u001B[0m \u001B[43m        \u001B[49m\u001B[43mstream\u001B[49m\u001B[38;5;241;43m=\u001B[39;49m\u001B[43mstream\u001B[49m\u001B[43m,\u001B[49m\n\u001B[1;32m    159\u001B[0m \u001B[43m        \u001B[49m\u001B[43mrequest_id\u001B[49m\u001B[38;5;241;43m=\u001B[39;49m\u001B[43mrequest_id\u001B[49m\u001B[43m,\u001B[49m\n\u001B[1;32m    160\u001B[0m \u001B[43m        \u001B[49m\u001B[43mrequest_timeout\u001B[49m\u001B[38;5;241;43m=\u001B[39;49m\u001B[43mrequest_timeout\u001B[49m\u001B[43m,\u001B[49m\n\u001B[1;32m    161\u001B[0m \u001B[43m    \u001B[49m\u001B[43m)\u001B[49m\n\u001B[1;32m    163\u001B[0m     \u001B[38;5;28;01mif\u001B[39;00m stream:\n\u001B[1;32m    164\u001B[0m         \u001B[38;5;66;03m# must be an iterator\u001B[39;00m\n\u001B[1;32m    165\u001B[0m         \u001B[38;5;28;01massert\u001B[39;00m \u001B[38;5;129;01mnot\u001B[39;00m \u001B[38;5;28misinstance\u001B[39m(response, OpenAIResponse)\n",
      "File \u001B[0;32m/usr/local/lib/python3.10/dist-packages/openai/api_requestor.py:216\u001B[0m, in \u001B[0;36mAPIRequestor.request\u001B[0;34m(self, method, url, params, headers, files, stream, request_id, request_timeout)\u001B[0m\n\u001B[1;32m    205\u001B[0m \u001B[38;5;28;01mdef\u001B[39;00m \u001B[38;5;21mrequest\u001B[39m(\n\u001B[1;32m    206\u001B[0m     \u001B[38;5;28mself\u001B[39m,\n\u001B[1;32m    207\u001B[0m     method,\n\u001B[0;32m   (...)\u001B[0m\n\u001B[1;32m    214\u001B[0m     request_timeout: Optional[Union[\u001B[38;5;28mfloat\u001B[39m, Tuple[\u001B[38;5;28mfloat\u001B[39m, \u001B[38;5;28mfloat\u001B[39m]]] \u001B[38;5;241m=\u001B[39m \u001B[38;5;28;01mNone\u001B[39;00m,\n\u001B[1;32m    215\u001B[0m ) \u001B[38;5;241m-\u001B[39m\u001B[38;5;241m>\u001B[39m Tuple[Union[OpenAIResponse, Iterator[OpenAIResponse]], \u001B[38;5;28mbool\u001B[39m, \u001B[38;5;28mstr\u001B[39m]:\n\u001B[0;32m--> 216\u001B[0m     result \u001B[38;5;241m=\u001B[39m \u001B[38;5;28;43mself\u001B[39;49m\u001B[38;5;241;43m.\u001B[39;49m\u001B[43mrequest_raw\u001B[49m\u001B[43m(\u001B[49m\n\u001B[1;32m    217\u001B[0m \u001B[43m        \u001B[49m\u001B[43mmethod\u001B[49m\u001B[38;5;241;43m.\u001B[39;49m\u001B[43mlower\u001B[49m\u001B[43m(\u001B[49m\u001B[43m)\u001B[49m\u001B[43m,\u001B[49m\n\u001B[1;32m    218\u001B[0m \u001B[43m        \u001B[49m\u001B[43murl\u001B[49m\u001B[43m,\u001B[49m\n\u001B[1;32m    219\u001B[0m \u001B[43m        \u001B[49m\u001B[43mparams\u001B[49m\u001B[38;5;241;43m=\u001B[39;49m\u001B[43mparams\u001B[49m\u001B[43m,\u001B[49m\n\u001B[1;32m    220\u001B[0m \u001B[43m        \u001B[49m\u001B[43msupplied_headers\u001B[49m\u001B[38;5;241;43m=\u001B[39;49m\u001B[43mheaders\u001B[49m\u001B[43m,\u001B[49m\n\u001B[1;32m    221\u001B[0m \u001B[43m        \u001B[49m\u001B[43mfiles\u001B[49m\u001B[38;5;241;43m=\u001B[39;49m\u001B[43mfiles\u001B[49m\u001B[43m,\u001B[49m\n\u001B[1;32m    222\u001B[0m \u001B[43m        \u001B[49m\u001B[43mstream\u001B[49m\u001B[38;5;241;43m=\u001B[39;49m\u001B[43mstream\u001B[49m\u001B[43m,\u001B[49m\n\u001B[1;32m    223\u001B[0m \u001B[43m        \u001B[49m\u001B[43mrequest_id\u001B[49m\u001B[38;5;241;43m=\u001B[39;49m\u001B[43mrequest_id\u001B[49m\u001B[43m,\u001B[49m\n\u001B[1;32m    224\u001B[0m \u001B[43m        \u001B[49m\u001B[43mrequest_timeout\u001B[49m\u001B[38;5;241;43m=\u001B[39;49m\u001B[43mrequest_timeout\u001B[49m\u001B[43m,\u001B[49m\n\u001B[1;32m    225\u001B[0m \u001B[43m    \u001B[49m\u001B[43m)\u001B[49m\n\u001B[1;32m    226\u001B[0m     resp, got_stream \u001B[38;5;241m=\u001B[39m \u001B[38;5;28mself\u001B[39m\u001B[38;5;241m.\u001B[39m_interpret_response(result, stream)\n\u001B[1;32m    227\u001B[0m     \u001B[38;5;28;01mreturn\u001B[39;00m resp, got_stream, \u001B[38;5;28mself\u001B[39m\u001B[38;5;241m.\u001B[39mapi_key\n",
      "File \u001B[0;32m/usr/local/lib/python3.10/dist-packages/openai/api_requestor.py:516\u001B[0m, in \u001B[0;36mAPIRequestor.request_raw\u001B[0;34m(self, method, url, params, supplied_headers, files, stream, request_id, request_timeout)\u001B[0m\n\u001B[1;32m    514\u001B[0m     _thread_context\u001B[38;5;241m.\u001B[39msession \u001B[38;5;241m=\u001B[39m _make_session()\n\u001B[1;32m    515\u001B[0m \u001B[38;5;28;01mtry\u001B[39;00m:\n\u001B[0;32m--> 516\u001B[0m     result \u001B[38;5;241m=\u001B[39m \u001B[43m_thread_context\u001B[49m\u001B[38;5;241;43m.\u001B[39;49m\u001B[43msession\u001B[49m\u001B[38;5;241;43m.\u001B[39;49m\u001B[43mrequest\u001B[49m\u001B[43m(\u001B[49m\n\u001B[1;32m    517\u001B[0m \u001B[43m        \u001B[49m\u001B[43mmethod\u001B[49m\u001B[43m,\u001B[49m\n\u001B[1;32m    518\u001B[0m \u001B[43m        \u001B[49m\u001B[43mabs_url\u001B[49m\u001B[43m,\u001B[49m\n\u001B[1;32m    519\u001B[0m \u001B[43m        \u001B[49m\u001B[43mheaders\u001B[49m\u001B[38;5;241;43m=\u001B[39;49m\u001B[43mheaders\u001B[49m\u001B[43m,\u001B[49m\n\u001B[1;32m    520\u001B[0m \u001B[43m        \u001B[49m\u001B[43mdata\u001B[49m\u001B[38;5;241;43m=\u001B[39;49m\u001B[43mdata\u001B[49m\u001B[43m,\u001B[49m\n\u001B[1;32m    521\u001B[0m \u001B[43m        \u001B[49m\u001B[43mfiles\u001B[49m\u001B[38;5;241;43m=\u001B[39;49m\u001B[43mfiles\u001B[49m\u001B[43m,\u001B[49m\n\u001B[1;32m    522\u001B[0m \u001B[43m        \u001B[49m\u001B[43mstream\u001B[49m\u001B[38;5;241;43m=\u001B[39;49m\u001B[43mstream\u001B[49m\u001B[43m,\u001B[49m\n\u001B[1;32m    523\u001B[0m \u001B[43m        \u001B[49m\u001B[43mtimeout\u001B[49m\u001B[38;5;241;43m=\u001B[39;49m\u001B[43mrequest_timeout\u001B[49m\u001B[43m \u001B[49m\u001B[38;5;28;43;01mif\u001B[39;49;00m\u001B[43m \u001B[49m\u001B[43mrequest_timeout\u001B[49m\u001B[43m \u001B[49m\u001B[38;5;28;43;01melse\u001B[39;49;00m\u001B[43m \u001B[49m\u001B[43mTIMEOUT_SECS\u001B[49m\u001B[43m,\u001B[49m\n\u001B[1;32m    524\u001B[0m \u001B[43m    \u001B[49m\u001B[43m)\u001B[49m\n\u001B[1;32m    525\u001B[0m \u001B[38;5;28;01mexcept\u001B[39;00m requests\u001B[38;5;241m.\u001B[39mexceptions\u001B[38;5;241m.\u001B[39mTimeout \u001B[38;5;28;01mas\u001B[39;00m e:\n\u001B[1;32m    526\u001B[0m     \u001B[38;5;28;01mraise\u001B[39;00m error\u001B[38;5;241m.\u001B[39mTimeout(\u001B[38;5;124m\"\u001B[39m\u001B[38;5;124mRequest timed out: \u001B[39m\u001B[38;5;132;01m{}\u001B[39;00m\u001B[38;5;124m\"\u001B[39m\u001B[38;5;241m.\u001B[39mformat(e)) \u001B[38;5;28;01mfrom\u001B[39;00m \u001B[38;5;21;01me\u001B[39;00m\n",
      "File \u001B[0;32m/usr/local/lib/python3.10/dist-packages/requests/sessions.py:587\u001B[0m, in \u001B[0;36mSession.request\u001B[0;34m(self, method, url, params, data, headers, cookies, files, auth, timeout, allow_redirects, proxies, hooks, stream, verify, cert, json)\u001B[0m\n\u001B[1;32m    582\u001B[0m send_kwargs \u001B[38;5;241m=\u001B[39m {\n\u001B[1;32m    583\u001B[0m     \u001B[38;5;124m\"\u001B[39m\u001B[38;5;124mtimeout\u001B[39m\u001B[38;5;124m\"\u001B[39m: timeout,\n\u001B[1;32m    584\u001B[0m     \u001B[38;5;124m\"\u001B[39m\u001B[38;5;124mallow_redirects\u001B[39m\u001B[38;5;124m\"\u001B[39m: allow_redirects,\n\u001B[1;32m    585\u001B[0m }\n\u001B[1;32m    586\u001B[0m send_kwargs\u001B[38;5;241m.\u001B[39mupdate(settings)\n\u001B[0;32m--> 587\u001B[0m resp \u001B[38;5;241m=\u001B[39m \u001B[38;5;28;43mself\u001B[39;49m\u001B[38;5;241;43m.\u001B[39;49m\u001B[43msend\u001B[49m\u001B[43m(\u001B[49m\u001B[43mprep\u001B[49m\u001B[43m,\u001B[49m\u001B[43m \u001B[49m\u001B[38;5;241;43m*\u001B[39;49m\u001B[38;5;241;43m*\u001B[39;49m\u001B[43msend_kwargs\u001B[49m\u001B[43m)\u001B[49m\n\u001B[1;32m    589\u001B[0m \u001B[38;5;28;01mreturn\u001B[39;00m resp\n",
      "File \u001B[0;32m/usr/local/lib/python3.10/dist-packages/requests/sessions.py:701\u001B[0m, in \u001B[0;36mSession.send\u001B[0;34m(self, request, **kwargs)\u001B[0m\n\u001B[1;32m    698\u001B[0m start \u001B[38;5;241m=\u001B[39m preferred_clock()\n\u001B[1;32m    700\u001B[0m \u001B[38;5;66;03m# Send the request\u001B[39;00m\n\u001B[0;32m--> 701\u001B[0m r \u001B[38;5;241m=\u001B[39m \u001B[43madapter\u001B[49m\u001B[38;5;241;43m.\u001B[39;49m\u001B[43msend\u001B[49m\u001B[43m(\u001B[49m\u001B[43mrequest\u001B[49m\u001B[43m,\u001B[49m\u001B[43m \u001B[49m\u001B[38;5;241;43m*\u001B[39;49m\u001B[38;5;241;43m*\u001B[39;49m\u001B[43mkwargs\u001B[49m\u001B[43m)\u001B[49m\n\u001B[1;32m    703\u001B[0m \u001B[38;5;66;03m# Total elapsed time of the request (approximately)\u001B[39;00m\n\u001B[1;32m    704\u001B[0m elapsed \u001B[38;5;241m=\u001B[39m preferred_clock() \u001B[38;5;241m-\u001B[39m start\n",
      "File \u001B[0;32m/usr/local/lib/python3.10/dist-packages/requests/adapters.py:489\u001B[0m, in \u001B[0;36mHTTPAdapter.send\u001B[0;34m(self, request, stream, timeout, verify, cert, proxies)\u001B[0m\n\u001B[1;32m    487\u001B[0m \u001B[38;5;28;01mtry\u001B[39;00m:\n\u001B[1;32m    488\u001B[0m     \u001B[38;5;28;01mif\u001B[39;00m \u001B[38;5;129;01mnot\u001B[39;00m chunked:\n\u001B[0;32m--> 489\u001B[0m         resp \u001B[38;5;241m=\u001B[39m \u001B[43mconn\u001B[49m\u001B[38;5;241;43m.\u001B[39;49m\u001B[43murlopen\u001B[49m\u001B[43m(\u001B[49m\n\u001B[1;32m    490\u001B[0m \u001B[43m            \u001B[49m\u001B[43mmethod\u001B[49m\u001B[38;5;241;43m=\u001B[39;49m\u001B[43mrequest\u001B[49m\u001B[38;5;241;43m.\u001B[39;49m\u001B[43mmethod\u001B[49m\u001B[43m,\u001B[49m\n\u001B[1;32m    491\u001B[0m \u001B[43m            \u001B[49m\u001B[43murl\u001B[49m\u001B[38;5;241;43m=\u001B[39;49m\u001B[43murl\u001B[49m\u001B[43m,\u001B[49m\n\u001B[1;32m    492\u001B[0m \u001B[43m            \u001B[49m\u001B[43mbody\u001B[49m\u001B[38;5;241;43m=\u001B[39;49m\u001B[43mrequest\u001B[49m\u001B[38;5;241;43m.\u001B[39;49m\u001B[43mbody\u001B[49m\u001B[43m,\u001B[49m\n\u001B[1;32m    493\u001B[0m \u001B[43m            \u001B[49m\u001B[43mheaders\u001B[49m\u001B[38;5;241;43m=\u001B[39;49m\u001B[43mrequest\u001B[49m\u001B[38;5;241;43m.\u001B[39;49m\u001B[43mheaders\u001B[49m\u001B[43m,\u001B[49m\n\u001B[1;32m    494\u001B[0m \u001B[43m            \u001B[49m\u001B[43mredirect\u001B[49m\u001B[38;5;241;43m=\u001B[39;49m\u001B[38;5;28;43;01mFalse\u001B[39;49;00m\u001B[43m,\u001B[49m\n\u001B[1;32m    495\u001B[0m \u001B[43m            \u001B[49m\u001B[43massert_same_host\u001B[49m\u001B[38;5;241;43m=\u001B[39;49m\u001B[38;5;28;43;01mFalse\u001B[39;49;00m\u001B[43m,\u001B[49m\n\u001B[1;32m    496\u001B[0m \u001B[43m            \u001B[49m\u001B[43mpreload_content\u001B[49m\u001B[38;5;241;43m=\u001B[39;49m\u001B[38;5;28;43;01mFalse\u001B[39;49;00m\u001B[43m,\u001B[49m\n\u001B[1;32m    497\u001B[0m \u001B[43m            \u001B[49m\u001B[43mdecode_content\u001B[49m\u001B[38;5;241;43m=\u001B[39;49m\u001B[38;5;28;43;01mFalse\u001B[39;49;00m\u001B[43m,\u001B[49m\n\u001B[1;32m    498\u001B[0m \u001B[43m            \u001B[49m\u001B[43mretries\u001B[49m\u001B[38;5;241;43m=\u001B[39;49m\u001B[38;5;28;43mself\u001B[39;49m\u001B[38;5;241;43m.\u001B[39;49m\u001B[43mmax_retries\u001B[49m\u001B[43m,\u001B[49m\n\u001B[1;32m    499\u001B[0m \u001B[43m            \u001B[49m\u001B[43mtimeout\u001B[49m\u001B[38;5;241;43m=\u001B[39;49m\u001B[43mtimeout\u001B[49m\u001B[43m,\u001B[49m\n\u001B[1;32m    500\u001B[0m \u001B[43m        \u001B[49m\u001B[43m)\u001B[49m\n\u001B[1;32m    502\u001B[0m     \u001B[38;5;66;03m# Send the request.\u001B[39;00m\n\u001B[1;32m    503\u001B[0m     \u001B[38;5;28;01melse\u001B[39;00m:\n\u001B[1;32m    504\u001B[0m         \u001B[38;5;28;01mif\u001B[39;00m \u001B[38;5;28mhasattr\u001B[39m(conn, \u001B[38;5;124m\"\u001B[39m\u001B[38;5;124mproxy_pool\u001B[39m\u001B[38;5;124m\"\u001B[39m):\n",
      "File \u001B[0;32m/usr/local/lib/python3.10/dist-packages/urllib3/connectionpool.py:703\u001B[0m, in \u001B[0;36mHTTPConnectionPool.urlopen\u001B[0;34m(self, method, url, body, headers, retries, redirect, assert_same_host, timeout, pool_timeout, release_conn, chunked, body_pos, **response_kw)\u001B[0m\n\u001B[1;32m    700\u001B[0m     \u001B[38;5;28mself\u001B[39m\u001B[38;5;241m.\u001B[39m_prepare_proxy(conn)\n\u001B[1;32m    702\u001B[0m \u001B[38;5;66;03m# Make the request on the httplib connection object.\u001B[39;00m\n\u001B[0;32m--> 703\u001B[0m httplib_response \u001B[38;5;241m=\u001B[39m \u001B[38;5;28;43mself\u001B[39;49m\u001B[38;5;241;43m.\u001B[39;49m\u001B[43m_make_request\u001B[49m\u001B[43m(\u001B[49m\n\u001B[1;32m    704\u001B[0m \u001B[43m    \u001B[49m\u001B[43mconn\u001B[49m\u001B[43m,\u001B[49m\n\u001B[1;32m    705\u001B[0m \u001B[43m    \u001B[49m\u001B[43mmethod\u001B[49m\u001B[43m,\u001B[49m\n\u001B[1;32m    706\u001B[0m \u001B[43m    \u001B[49m\u001B[43murl\u001B[49m\u001B[43m,\u001B[49m\n\u001B[1;32m    707\u001B[0m \u001B[43m    \u001B[49m\u001B[43mtimeout\u001B[49m\u001B[38;5;241;43m=\u001B[39;49m\u001B[43mtimeout_obj\u001B[49m\u001B[43m,\u001B[49m\n\u001B[1;32m    708\u001B[0m \u001B[43m    \u001B[49m\u001B[43mbody\u001B[49m\u001B[38;5;241;43m=\u001B[39;49m\u001B[43mbody\u001B[49m\u001B[43m,\u001B[49m\n\u001B[1;32m    709\u001B[0m \u001B[43m    \u001B[49m\u001B[43mheaders\u001B[49m\u001B[38;5;241;43m=\u001B[39;49m\u001B[43mheaders\u001B[49m\u001B[43m,\u001B[49m\n\u001B[1;32m    710\u001B[0m \u001B[43m    \u001B[49m\u001B[43mchunked\u001B[49m\u001B[38;5;241;43m=\u001B[39;49m\u001B[43mchunked\u001B[49m\u001B[43m,\u001B[49m\n\u001B[1;32m    711\u001B[0m \u001B[43m\u001B[49m\u001B[43m)\u001B[49m\n\u001B[1;32m    713\u001B[0m \u001B[38;5;66;03m# If we're going to release the connection in ``finally:``, then\u001B[39;00m\n\u001B[1;32m    714\u001B[0m \u001B[38;5;66;03m# the response doesn't need to know about the connection. Otherwise\u001B[39;00m\n\u001B[1;32m    715\u001B[0m \u001B[38;5;66;03m# it will also try to release it and we'll have a double-release\u001B[39;00m\n\u001B[1;32m    716\u001B[0m \u001B[38;5;66;03m# mess.\u001B[39;00m\n\u001B[1;32m    717\u001B[0m response_conn \u001B[38;5;241m=\u001B[39m conn \u001B[38;5;28;01mif\u001B[39;00m \u001B[38;5;129;01mnot\u001B[39;00m release_conn \u001B[38;5;28;01melse\u001B[39;00m \u001B[38;5;28;01mNone\u001B[39;00m\n",
      "File \u001B[0;32m/usr/local/lib/python3.10/dist-packages/urllib3/connectionpool.py:449\u001B[0m, in \u001B[0;36mHTTPConnectionPool._make_request\u001B[0;34m(self, conn, method, url, timeout, chunked, **httplib_request_kw)\u001B[0m\n\u001B[1;32m    444\u001B[0m             httplib_response \u001B[38;5;241m=\u001B[39m conn\u001B[38;5;241m.\u001B[39mgetresponse()\n\u001B[1;32m    445\u001B[0m         \u001B[38;5;28;01mexcept\u001B[39;00m \u001B[38;5;167;01mBaseException\u001B[39;00m \u001B[38;5;28;01mas\u001B[39;00m e:\n\u001B[1;32m    446\u001B[0m             \u001B[38;5;66;03m# Remove the TypeError from the exception chain in\u001B[39;00m\n\u001B[1;32m    447\u001B[0m             \u001B[38;5;66;03m# Python 3 (including for exceptions like SystemExit).\u001B[39;00m\n\u001B[1;32m    448\u001B[0m             \u001B[38;5;66;03m# Otherwise it looks like a bug in the code.\u001B[39;00m\n\u001B[0;32m--> 449\u001B[0m             \u001B[43msix\u001B[49m\u001B[38;5;241;43m.\u001B[39;49m\u001B[43mraise_from\u001B[49m\u001B[43m(\u001B[49m\u001B[43me\u001B[49m\u001B[43m,\u001B[49m\u001B[43m \u001B[49m\u001B[38;5;28;43;01mNone\u001B[39;49;00m\u001B[43m)\u001B[49m\n\u001B[1;32m    450\u001B[0m \u001B[38;5;28;01mexcept\u001B[39;00m (SocketTimeout, BaseSSLError, SocketError) \u001B[38;5;28;01mas\u001B[39;00m e:\n\u001B[1;32m    451\u001B[0m     \u001B[38;5;28mself\u001B[39m\u001B[38;5;241m.\u001B[39m_raise_timeout(err\u001B[38;5;241m=\u001B[39me, url\u001B[38;5;241m=\u001B[39murl, timeout_value\u001B[38;5;241m=\u001B[39mread_timeout)\n",
      "File \u001B[0;32m<string>:3\u001B[0m, in \u001B[0;36mraise_from\u001B[0;34m(value, from_value)\u001B[0m\n",
      "File \u001B[0;32m/usr/local/lib/python3.10/dist-packages/urllib3/connectionpool.py:444\u001B[0m, in \u001B[0;36mHTTPConnectionPool._make_request\u001B[0;34m(self, conn, method, url, timeout, chunked, **httplib_request_kw)\u001B[0m\n\u001B[1;32m    441\u001B[0m \u001B[38;5;28;01mexcept\u001B[39;00m \u001B[38;5;167;01mTypeError\u001B[39;00m:\n\u001B[1;32m    442\u001B[0m     \u001B[38;5;66;03m# Python 3\u001B[39;00m\n\u001B[1;32m    443\u001B[0m     \u001B[38;5;28;01mtry\u001B[39;00m:\n\u001B[0;32m--> 444\u001B[0m         httplib_response \u001B[38;5;241m=\u001B[39m \u001B[43mconn\u001B[49m\u001B[38;5;241;43m.\u001B[39;49m\u001B[43mgetresponse\u001B[49m\u001B[43m(\u001B[49m\u001B[43m)\u001B[49m\n\u001B[1;32m    445\u001B[0m     \u001B[38;5;28;01mexcept\u001B[39;00m \u001B[38;5;167;01mBaseException\u001B[39;00m \u001B[38;5;28;01mas\u001B[39;00m e:\n\u001B[1;32m    446\u001B[0m         \u001B[38;5;66;03m# Remove the TypeError from the exception chain in\u001B[39;00m\n\u001B[1;32m    447\u001B[0m         \u001B[38;5;66;03m# Python 3 (including for exceptions like SystemExit).\u001B[39;00m\n\u001B[1;32m    448\u001B[0m         \u001B[38;5;66;03m# Otherwise it looks like a bug in the code.\u001B[39;00m\n\u001B[1;32m    449\u001B[0m         six\u001B[38;5;241m.\u001B[39mraise_from(e, \u001B[38;5;28;01mNone\u001B[39;00m)\n",
      "File \u001B[0;32m/usr/lib/python3.10/http/client.py:1374\u001B[0m, in \u001B[0;36mHTTPConnection.getresponse\u001B[0;34m(self)\u001B[0m\n\u001B[1;32m   1372\u001B[0m \u001B[38;5;28;01mtry\u001B[39;00m:\n\u001B[1;32m   1373\u001B[0m     \u001B[38;5;28;01mtry\u001B[39;00m:\n\u001B[0;32m-> 1374\u001B[0m         \u001B[43mresponse\u001B[49m\u001B[38;5;241;43m.\u001B[39;49m\u001B[43mbegin\u001B[49m\u001B[43m(\u001B[49m\u001B[43m)\u001B[49m\n\u001B[1;32m   1375\u001B[0m     \u001B[38;5;28;01mexcept\u001B[39;00m \u001B[38;5;167;01mConnectionError\u001B[39;00m:\n\u001B[1;32m   1376\u001B[0m         \u001B[38;5;28mself\u001B[39m\u001B[38;5;241m.\u001B[39mclose()\n",
      "File \u001B[0;32m/usr/lib/python3.10/http/client.py:318\u001B[0m, in \u001B[0;36mHTTPResponse.begin\u001B[0;34m(self)\u001B[0m\n\u001B[1;32m    316\u001B[0m \u001B[38;5;66;03m# read until we get a non-100 response\u001B[39;00m\n\u001B[1;32m    317\u001B[0m \u001B[38;5;28;01mwhile\u001B[39;00m \u001B[38;5;28;01mTrue\u001B[39;00m:\n\u001B[0;32m--> 318\u001B[0m     version, status, reason \u001B[38;5;241m=\u001B[39m \u001B[38;5;28;43mself\u001B[39;49m\u001B[38;5;241;43m.\u001B[39;49m\u001B[43m_read_status\u001B[49m\u001B[43m(\u001B[49m\u001B[43m)\u001B[49m\n\u001B[1;32m    319\u001B[0m     \u001B[38;5;28;01mif\u001B[39;00m status \u001B[38;5;241m!=\u001B[39m CONTINUE:\n\u001B[1;32m    320\u001B[0m         \u001B[38;5;28;01mbreak\u001B[39;00m\n",
      "File \u001B[0;32m/usr/lib/python3.10/http/client.py:279\u001B[0m, in \u001B[0;36mHTTPResponse._read_status\u001B[0;34m(self)\u001B[0m\n\u001B[1;32m    278\u001B[0m \u001B[38;5;28;01mdef\u001B[39;00m \u001B[38;5;21m_read_status\u001B[39m(\u001B[38;5;28mself\u001B[39m):\n\u001B[0;32m--> 279\u001B[0m     line \u001B[38;5;241m=\u001B[39m \u001B[38;5;28mstr\u001B[39m(\u001B[38;5;28;43mself\u001B[39;49m\u001B[38;5;241;43m.\u001B[39;49m\u001B[43mfp\u001B[49m\u001B[38;5;241;43m.\u001B[39;49m\u001B[43mreadline\u001B[49m\u001B[43m(\u001B[49m\u001B[43m_MAXLINE\u001B[49m\u001B[43m \u001B[49m\u001B[38;5;241;43m+\u001B[39;49m\u001B[43m \u001B[49m\u001B[38;5;241;43m1\u001B[39;49m\u001B[43m)\u001B[49m, \u001B[38;5;124m\"\u001B[39m\u001B[38;5;124miso-8859-1\u001B[39m\u001B[38;5;124m\"\u001B[39m)\n\u001B[1;32m    280\u001B[0m     \u001B[38;5;28;01mif\u001B[39;00m \u001B[38;5;28mlen\u001B[39m(line) \u001B[38;5;241m>\u001B[39m _MAXLINE:\n\u001B[1;32m    281\u001B[0m         \u001B[38;5;28;01mraise\u001B[39;00m LineTooLong(\u001B[38;5;124m\"\u001B[39m\u001B[38;5;124mstatus line\u001B[39m\u001B[38;5;124m\"\u001B[39m)\n",
      "File \u001B[0;32m/usr/lib/python3.10/socket.py:705\u001B[0m, in \u001B[0;36mSocketIO.readinto\u001B[0;34m(self, b)\u001B[0m\n\u001B[1;32m    703\u001B[0m \u001B[38;5;28;01mwhile\u001B[39;00m \u001B[38;5;28;01mTrue\u001B[39;00m:\n\u001B[1;32m    704\u001B[0m     \u001B[38;5;28;01mtry\u001B[39;00m:\n\u001B[0;32m--> 705\u001B[0m         \u001B[38;5;28;01mreturn\u001B[39;00m \u001B[38;5;28;43mself\u001B[39;49m\u001B[38;5;241;43m.\u001B[39;49m\u001B[43m_sock\u001B[49m\u001B[38;5;241;43m.\u001B[39;49m\u001B[43mrecv_into\u001B[49m\u001B[43m(\u001B[49m\u001B[43mb\u001B[49m\u001B[43m)\u001B[49m\n\u001B[1;32m    706\u001B[0m     \u001B[38;5;28;01mexcept\u001B[39;00m timeout:\n\u001B[1;32m    707\u001B[0m         \u001B[38;5;28mself\u001B[39m\u001B[38;5;241m.\u001B[39m_timeout_occurred \u001B[38;5;241m=\u001B[39m \u001B[38;5;28;01mTrue\u001B[39;00m\n",
      "File \u001B[0;32m/usr/lib/python3.10/ssl.py:1274\u001B[0m, in \u001B[0;36mSSLSocket.recv_into\u001B[0;34m(self, buffer, nbytes, flags)\u001B[0m\n\u001B[1;32m   1270\u001B[0m     \u001B[38;5;28;01mif\u001B[39;00m flags \u001B[38;5;241m!=\u001B[39m \u001B[38;5;241m0\u001B[39m:\n\u001B[1;32m   1271\u001B[0m         \u001B[38;5;28;01mraise\u001B[39;00m \u001B[38;5;167;01mValueError\u001B[39;00m(\n\u001B[1;32m   1272\u001B[0m           \u001B[38;5;124m\"\u001B[39m\u001B[38;5;124mnon-zero flags not allowed in calls to recv_into() on \u001B[39m\u001B[38;5;132;01m%s\u001B[39;00m\u001B[38;5;124m\"\u001B[39m \u001B[38;5;241m%\u001B[39m\n\u001B[1;32m   1273\u001B[0m           \u001B[38;5;28mself\u001B[39m\u001B[38;5;241m.\u001B[39m\u001B[38;5;18m__class__\u001B[39m)\n\u001B[0;32m-> 1274\u001B[0m     \u001B[38;5;28;01mreturn\u001B[39;00m \u001B[38;5;28;43mself\u001B[39;49m\u001B[38;5;241;43m.\u001B[39;49m\u001B[43mread\u001B[49m\u001B[43m(\u001B[49m\u001B[43mnbytes\u001B[49m\u001B[43m,\u001B[49m\u001B[43m \u001B[49m\u001B[43mbuffer\u001B[49m\u001B[43m)\u001B[49m\n\u001B[1;32m   1275\u001B[0m \u001B[38;5;28;01melse\u001B[39;00m:\n\u001B[1;32m   1276\u001B[0m     \u001B[38;5;28;01mreturn\u001B[39;00m \u001B[38;5;28msuper\u001B[39m()\u001B[38;5;241m.\u001B[39mrecv_into(buffer, nbytes, flags)\n",
      "File \u001B[0;32m/usr/lib/python3.10/ssl.py:1130\u001B[0m, in \u001B[0;36mSSLSocket.read\u001B[0;34m(self, len, buffer)\u001B[0m\n\u001B[1;32m   1128\u001B[0m \u001B[38;5;28;01mtry\u001B[39;00m:\n\u001B[1;32m   1129\u001B[0m     \u001B[38;5;28;01mif\u001B[39;00m buffer \u001B[38;5;129;01mis\u001B[39;00m \u001B[38;5;129;01mnot\u001B[39;00m \u001B[38;5;28;01mNone\u001B[39;00m:\n\u001B[0;32m-> 1130\u001B[0m         \u001B[38;5;28;01mreturn\u001B[39;00m \u001B[38;5;28;43mself\u001B[39;49m\u001B[38;5;241;43m.\u001B[39;49m\u001B[43m_sslobj\u001B[49m\u001B[38;5;241;43m.\u001B[39;49m\u001B[43mread\u001B[49m\u001B[43m(\u001B[49m\u001B[38;5;28;43mlen\u001B[39;49m\u001B[43m,\u001B[49m\u001B[43m \u001B[49m\u001B[43mbuffer\u001B[49m\u001B[43m)\u001B[49m\n\u001B[1;32m   1131\u001B[0m     \u001B[38;5;28;01melse\u001B[39;00m:\n\u001B[1;32m   1132\u001B[0m         \u001B[38;5;28;01mreturn\u001B[39;00m \u001B[38;5;28mself\u001B[39m\u001B[38;5;241m.\u001B[39m_sslobj\u001B[38;5;241m.\u001B[39mread(\u001B[38;5;28mlen\u001B[39m)\n",
      "\u001B[0;31mKeyboardInterrupt\u001B[0m: "
     ]
    }
   ],
   "source": [
    "from langchain.embeddings.openai import OpenAIEmbeddings\n",
    "from langchain.vectorstores import Chroma\n",
    "\n",
    "embeddings = OpenAIEmbeddings()\n",
    "vectorstore = Chroma.from_documents( jsonl_data, embeddings )"
   ],
   "metadata": {
    "collapsed": false,
    "ExecuteTime": {
     "end_time": "2023-07-21T16:37:37.806249Z",
     "start_time": "2023-07-21T16:34:07.030011Z"
    }
   }
  },
  {
   "cell_type": "code",
   "execution_count": null,
   "outputs": [],
   "source": [
    "type( vectorstore )"
   ],
   "metadata": {
    "collapsed": false,
    "ExecuteTime": {
     "start_time": "2023-07-21T16:37:37.805952Z"
    }
   }
  },
  {
   "cell_type": "code",
   "execution_count": 28,
   "outputs": [
    {
     "data": {
      "text/plain": "{'ids': ['e8bf7b6e-27e2-11ee-b763-0242ac110003',\n  'e8bf7c22-27e2-11ee-b763-0242ac110003',\n  'e8bf7c9a-27e2-11ee-b763-0242ac110003',\n  'e8bf7cf4-27e2-11ee-b763-0242ac110003',\n  'e8bf7d4e-27e2-11ee-b763-0242ac110003',\n  'e8bf7db2-27e2-11ee-b763-0242ac110003',\n  'e8bf7e0c-27e2-11ee-b763-0242ac110003',\n  'e8bf7e66-27e2-11ee-b763-0242ac110003',\n  'e8bf7ec0-27e2-11ee-b763-0242ac110003',\n  'e8bf7f1a-27e2-11ee-b763-0242ac110003',\n  'e8bf7f74-27e2-11ee-b763-0242ac110003',\n  'e8bf7fce-27e2-11ee-b763-0242ac110003',\n  'e8bf8028-27e2-11ee-b763-0242ac110003',\n  'e8bf8082-27e2-11ee-b763-0242ac110003',\n  'e8bf80dc-27e2-11ee-b763-0242ac110003',\n  'e8bf8136-27e2-11ee-b763-0242ac110003',\n  'e8bf819a-27e2-11ee-b763-0242ac110003',\n  'e8bf81f4-27e2-11ee-b763-0242ac110003',\n  'e8bf824e-27e2-11ee-b763-0242ac110003',\n  'e8bf82a8-27e2-11ee-b763-0242ac110003',\n  'e8bf8302-27e2-11ee-b763-0242ac110003',\n  'e8bf835c-27e2-11ee-b763-0242ac110003',\n  'e8bf83c0-27e2-11ee-b763-0242ac110003',\n  'e8bf841a-27e2-11ee-b763-0242ac110003',\n  'e8bf846a-27e2-11ee-b763-0242ac110003',\n  'e8bf84ce-27e2-11ee-b763-0242ac110003',\n  'e8bf8528-27e2-11ee-b763-0242ac110003',\n  'e8bf8582-27e2-11ee-b763-0242ac110003',\n  'e8bf85dc-27e2-11ee-b763-0242ac110003',\n  'e8bf8636-27e2-11ee-b763-0242ac110003',\n  'e8bf8690-27e2-11ee-b763-0242ac110003',\n  'e8bf86ea-27e2-11ee-b763-0242ac110003',\n  'e8bf8744-27e2-11ee-b763-0242ac110003',\n  'e8bf879e-27e2-11ee-b763-0242ac110003',\n  'e8bf87f8-27e2-11ee-b763-0242ac110003',\n  'e8bf8852-27e2-11ee-b763-0242ac110003',\n  'e8bf88ac-27e2-11ee-b763-0242ac110003',\n  'e8bf8906-27e2-11ee-b763-0242ac110003',\n  'e8bf8960-27e2-11ee-b763-0242ac110003',\n  'e8bf89ba-27e2-11ee-b763-0242ac110003',\n  'e8bf8a14-27e2-11ee-b763-0242ac110003',\n  'e8bf8a78-27e2-11ee-b763-0242ac110003',\n  'e8bf8ad2-27e2-11ee-b763-0242ac110003',\n  'e8bf8b2c-27e2-11ee-b763-0242ac110003',\n  'e8bf8b86-27e2-11ee-b763-0242ac110003',\n  'e8bf8be0-27e2-11ee-b763-0242ac110003',\n  'e8bf8c3a-27e2-11ee-b763-0242ac110003',\n  'e8bf8c94-27e2-11ee-b763-0242ac110003',\n  'e8bf8cee-27e2-11ee-b763-0242ac110003',\n  'e8bf8d48-27e2-11ee-b763-0242ac110003'],\n 'embeddings': None,\n 'metadatas': [{'seq_num': 1,\n   'source': '/var/genie-in-the-box/src/conf/long-term-memory/events.jsonl'},\n  {'seq_num': 2,\n   'source': '/var/genie-in-the-box/src/conf/long-term-memory/events.jsonl'},\n  {'seq_num': 3,\n   'source': '/var/genie-in-the-box/src/conf/long-term-memory/events.jsonl'},\n  {'seq_num': 4,\n   'source': '/var/genie-in-the-box/src/conf/long-term-memory/events.jsonl'},\n  {'seq_num': 5,\n   'source': '/var/genie-in-the-box/src/conf/long-term-memory/events.jsonl'},\n  {'seq_num': 6,\n   'source': '/var/genie-in-the-box/src/conf/long-term-memory/events.jsonl'},\n  {'seq_num': 7,\n   'source': '/var/genie-in-the-box/src/conf/long-term-memory/events.jsonl'},\n  {'seq_num': 8,\n   'source': '/var/genie-in-the-box/src/conf/long-term-memory/events.jsonl'},\n  {'seq_num': 9,\n   'source': '/var/genie-in-the-box/src/conf/long-term-memory/events.jsonl'},\n  {'seq_num': 10,\n   'source': '/var/genie-in-the-box/src/conf/long-term-memory/events.jsonl'},\n  {'seq_num': 11,\n   'source': '/var/genie-in-the-box/src/conf/long-term-memory/events.jsonl'},\n  {'seq_num': 12,\n   'source': '/var/genie-in-the-box/src/conf/long-term-memory/events.jsonl'},\n  {'seq_num': 13,\n   'source': '/var/genie-in-the-box/src/conf/long-term-memory/events.jsonl'},\n  {'seq_num': 14,\n   'source': '/var/genie-in-the-box/src/conf/long-term-memory/events.jsonl'},\n  {'seq_num': 15,\n   'source': '/var/genie-in-the-box/src/conf/long-term-memory/events.jsonl'},\n  {'seq_num': 16,\n   'source': '/var/genie-in-the-box/src/conf/long-term-memory/events.jsonl'},\n  {'seq_num': 17,\n   'source': '/var/genie-in-the-box/src/conf/long-term-memory/events.jsonl'},\n  {'seq_num': 18,\n   'source': '/var/genie-in-the-box/src/conf/long-term-memory/events.jsonl'},\n  {'seq_num': 19,\n   'source': '/var/genie-in-the-box/src/conf/long-term-memory/events.jsonl'},\n  {'seq_num': 20,\n   'source': '/var/genie-in-the-box/src/conf/long-term-memory/events.jsonl'},\n  {'seq_num': 21,\n   'source': '/var/genie-in-the-box/src/conf/long-term-memory/events.jsonl'},\n  {'seq_num': 22,\n   'source': '/var/genie-in-the-box/src/conf/long-term-memory/events.jsonl'},\n  {'seq_num': 23,\n   'source': '/var/genie-in-the-box/src/conf/long-term-memory/events.jsonl'},\n  {'seq_num': 24,\n   'source': '/var/genie-in-the-box/src/conf/long-term-memory/events.jsonl'},\n  {'seq_num': 25,\n   'source': '/var/genie-in-the-box/src/conf/long-term-memory/events.jsonl'},\n  {'seq_num': 26,\n   'source': '/var/genie-in-the-box/src/conf/long-term-memory/events.jsonl'},\n  {'seq_num': 27,\n   'source': '/var/genie-in-the-box/src/conf/long-term-memory/events.jsonl'},\n  {'seq_num': 28,\n   'source': '/var/genie-in-the-box/src/conf/long-term-memory/events.jsonl'},\n  {'seq_num': 29,\n   'source': '/var/genie-in-the-box/src/conf/long-term-memory/events.jsonl'},\n  {'seq_num': 30,\n   'source': '/var/genie-in-the-box/src/conf/long-term-memory/events.jsonl'},\n  {'seq_num': 31,\n   'source': '/var/genie-in-the-box/src/conf/long-term-memory/events.jsonl'},\n  {'seq_num': 32,\n   'source': '/var/genie-in-the-box/src/conf/long-term-memory/events.jsonl'},\n  {'seq_num': 33,\n   'source': '/var/genie-in-the-box/src/conf/long-term-memory/events.jsonl'},\n  {'seq_num': 34,\n   'source': '/var/genie-in-the-box/src/conf/long-term-memory/events.jsonl'},\n  {'seq_num': 35,\n   'source': '/var/genie-in-the-box/src/conf/long-term-memory/events.jsonl'},\n  {'seq_num': 36,\n   'source': '/var/genie-in-the-box/src/conf/long-term-memory/events.jsonl'},\n  {'seq_num': 37,\n   'source': '/var/genie-in-the-box/src/conf/long-term-memory/events.jsonl'},\n  {'seq_num': 38,\n   'source': '/var/genie-in-the-box/src/conf/long-term-memory/events.jsonl'},\n  {'seq_num': 39,\n   'source': '/var/genie-in-the-box/src/conf/long-term-memory/events.jsonl'},\n  {'seq_num': 40,\n   'source': '/var/genie-in-the-box/src/conf/long-term-memory/events.jsonl'},\n  {'seq_num': 41,\n   'source': '/var/genie-in-the-box/src/conf/long-term-memory/events.jsonl'},\n  {'seq_num': 42,\n   'source': '/var/genie-in-the-box/src/conf/long-term-memory/events.jsonl'},\n  {'seq_num': 43,\n   'source': '/var/genie-in-the-box/src/conf/long-term-memory/events.jsonl'},\n  {'seq_num': 44,\n   'source': '/var/genie-in-the-box/src/conf/long-term-memory/events.jsonl'},\n  {'seq_num': 45,\n   'source': '/var/genie-in-the-box/src/conf/long-term-memory/events.jsonl'},\n  {'seq_num': 46,\n   'source': '/var/genie-in-the-box/src/conf/long-term-memory/events.jsonl'},\n  {'seq_num': 47,\n   'source': '/var/genie-in-the-box/src/conf/long-term-memory/events.jsonl'},\n  {'seq_num': 48,\n   'source': '/var/genie-in-the-box/src/conf/long-term-memory/events.jsonl'},\n  {'seq_num': 49,\n   'source': '/var/genie-in-the-box/src/conf/long-term-memory/events.jsonl'},\n  {'seq_num': 50,\n   'source': '/var/genie-in-the-box/src/conf/long-term-memory/events.jsonl'}],\n 'documents': ['{\"date\": \"2023-08-22\", \"start_time\": \"08:02\", \"end_time\": \"03:28\", \"event_type\": \"Workout\", \"recurrent\": false, \"recurrence_interval\": null, \"description\": \"This is a workout\", \"priority_level\": \"medium\"}',\n  '{\"date\": \"2023-08-16\", \"start_time\": \"00:00\", \"end_time\": \"23:59\", \"event_type\": \"Subscription\", \"recurrent\": true, \"recurrence_interval\": \"5 month\", \"description\": \"This is a subscription\", \"priority_level\": \"low\"}',\n  '{\"date\": \"2023-07-24\", \"start_time\": \"00:00\", \"end_time\": \"23:59\", \"event_type\": \"Birthday\", \"recurrent\": true, \"recurrence_interval\": \"1 year\", \"description\": \"Alice (aunt)\\'s birthday\", \"priority_level\": \"low\"}',\n  '{\"date\": \"2023-07-23\", \"start_time\": \"00:00\", \"end_time\": \"23:59\", \"event_type\": \"Concert\", \"recurrent\": false, \"recurrence_interval\": null, \"description\": \"This is a concert\", \"priority_level\": \"none\"}',\n  '{\"date\": \"2023-09-02\", \"start_time\": \"00:00\", \"end_time\": \"23:59\", \"event_type\": \"Performance\", \"recurrent\": false, \"recurrence_interval\": null, \"description\": \"This is a performance\", \"priority_level\": \"medium\"}',\n  '{\"date\": \"2023-08-09\", \"start_time\": \"12:22\", \"end_time\": \"20:34\", \"event_type\": \"Task\", \"recurrent\": false, \"recurrence_interval\": null, \"description\": \"This is a task\", \"priority_level\": \"none\"}',\n  '{\"date\": \"2023-07-31\", \"start_time\": \"15:09\", \"end_time\": \"23:06\", \"event_type\": \"Meeting\", \"recurrent\": false, \"recurrence_interval\": null, \"description\": \"This is a meeting\", \"priority_level\": \"low\"}',\n  '{\"date\": \"2023-09-13\", \"start_time\": \"00:00\", \"end_time\": \"23:59\", \"event_type\": \"Concert\", \"recurrent\": false, \"recurrence_interval\": null, \"description\": \"This is a concert\", \"priority_level\": \"highest\"}',\n  '{\"date\": \"2023-08-29\", \"start_time\": \"00:00\", \"end_time\": \"23:59\", \"event_type\": \"Subscription\", \"recurrent\": true, \"recurrence_interval\": \"3 month\", \"description\": \"This is a subscription\", \"priority_level\": \"low\"}',\n  '{\"date\": \"2023-08-29\", \"start_time\": \"00:00\", \"end_time\": \"23:59\", \"event_type\": \"Birthday\", \"recurrent\": true, \"recurrence_interval\": \"1 year\", \"description\": \"Leroy Ruiz (father)\\'s birthday\", \"priority_level\": \"high\"}',\n  '{\"date\": \"2023-08-31\", \"start_time\": \"07:11\", \"end_time\": \"20:15\", \"event_type\": \"Workshop\", \"recurrent\": false, \"recurrence_interval\": null, \"description\": \"This is a workshop\", \"priority_level\": \"medium\"}',\n  '{\"date\": \"2023-08-24\", \"start_time\": \"00:00\", \"end_time\": \"23:59\", \"event_type\": \"Concert\", \"recurrent\": false, \"recurrence_interval\": null, \"description\": \"This is a concert\", \"priority_level\": \"low\"}',\n  '{\"date\": \"2023-09-14\", \"start_time\": \"03:06\", \"end_time\": \"13:25\", \"event_type\": \"Workout\", \"recurrent\": false, \"recurrence_interval\": null, \"description\": \"This is a workout\", \"priority_level\": \"high\"}',\n  '{\"date\": \"2023-09-11\", \"start_time\": \"13:22\", \"end_time\": \"19:13\", \"event_type\": \"TODO\", \"recurrent\": false, \"recurrence_interval\": null, \"description\": \"This is a todo\", \"priority_level\": \"low\"}',\n  '{\"date\": \"2023-07-25\", \"start_time\": \"01:58\", \"end_time\": \"00:19\", \"event_type\": \"Workout\", \"recurrent\": false, \"recurrence_interval\": null, \"description\": \"This is a workout\", \"priority_level\": \"medium\"}',\n  '{\"date\": \"2023-08-10\", \"start_time\": \"10:45\", \"end_time\": \"02:52\", \"event_type\": \"Workshop\", \"recurrent\": false, \"recurrence_interval\": null, \"description\": \"This is a workshop\", \"priority_level\": \"low\"}',\n  '{\"date\": \"2023-09-26\", \"start_time\": \"20:32\", \"end_time\": \"11:03\", \"event_type\": \"Task\", \"recurrent\": false, \"recurrence_interval\": null, \"description\": \"This is a task\", \"priority_level\": \"low\"}',\n  '{\"date\": \"2023-07-21\", \"start_time\": \"00:00\", \"end_time\": \"23:59\", \"event_type\": \"Birthday\", \"recurrent\": true, \"recurrence_interval\": \"1 year\", \"description\": \"Barbara Jane Ruiz (mother)\\'s birthday\", \"priority_level\": \"none\"}',\n  '{\"date\": \"2023-07-20\", \"start_time\": \"01:23\", \"end_time\": \"18:51\", \"event_type\": \"Interview\", \"recurrent\": false, \"recurrence_interval\": null, \"description\": \"This is a interview\", \"priority_level\": \"high\"}',\n  '{\"date\": \"2023-07-21\", \"start_time\": \"00:00\", \"end_time\": \"23:59\", \"event_type\": \"Anniversary\", \"recurrent\": true, \"recurrence_interval\": \"1 year\", \"description\": \"This is a anniversary\", \"priority_level\": \"highest\"}',\n  '{\"date\": \"2023-09-08\", \"start_time\": \"16:36\", \"end_time\": \"13:55\", \"event_type\": \"Workshop\", \"recurrent\": false, \"recurrence_interval\": null, \"description\": \"This is a workshop\", \"priority_level\": \"high\"}',\n  '{\"date\": \"2023-08-18\", \"start_time\": \"19:22\", \"end_time\": \"09:56\", \"event_type\": \"Workout\", \"recurrent\": false, \"recurrence_interval\": null, \"description\": \"This is a workout\", \"priority_level\": \"highest\"}',\n  '{\"date\": \"2023-07-23\", \"start_time\": \"00:00\", \"end_time\": \"23:59\", \"event_type\": \"Concert\", \"recurrent\": false, \"recurrence_interval\": null, \"description\": \"This is a concert\", \"priority_level\": \"medium\"}',\n  '{\"date\": \"2023-09-11\", \"start_time\": \"00:00\", \"end_time\": \"23:59\", \"event_type\": \"Subscription\", \"recurrent\": true, \"recurrence_interval\": \"4 month\", \"description\": \"This is a subscription\", \"priority_level\": \"highest\"}',\n  '{\"date\": \"2023-09-04\", \"start_time\": \"00:00\", \"end_time\": \"23:59\", \"event_type\": \"Anniversary\", \"recurrent\": true, \"recurrence_interval\": \"1 year\", \"description\": \"This is a anniversary\", \"priority_level\": \"none\"}',\n  '{\"date\": \"2023-07-23\", \"start_time\": \"00:00\", \"end_time\": \"23:59\", \"event_type\": \"Performance\", \"recurrent\": false, \"recurrence_interval\": null, \"description\": \"This is a performance\", \"priority_level\": \"high\"}',\n  '{\"date\": \"2023-09-25\", \"start_time\": \"17:59\", \"end_time\": \"10:36\", \"event_type\": \"Meeting\", \"recurrent\": false, \"recurrence_interval\": null, \"description\": \"This is a meeting\", \"priority_level\": \"none\"}',\n  '{\"date\": \"2023-08-11\", \"start_time\": \"00:55\", \"end_time\": \"05:01\", \"event_type\": \"Task\", \"recurrent\": false, \"recurrence_interval\": null, \"description\": \"This is a task\", \"priority_level\": \"none\"}',\n  '{\"date\": \"2023-09-01\", \"start_time\": \"14:01\", \"end_time\": \"16:37\", \"event_type\": \"Workshop\", \"recurrent\": false, \"recurrence_interval\": null, \"description\": \"This is a workshop\", \"priority_level\": \"high\"}',\n  '{\"date\": \"2023-09-15\", \"start_time\": \"22:14\", \"end_time\": \"02:08\", \"event_type\": \"TODO\", \"recurrent\": false, \"recurrence_interval\": null, \"description\": \"This is a todo\", \"priority_level\": \"none\"}',\n  '{\"date\": \"2023-08-29\", \"start_time\": \"20:15\", \"end_time\": \"14:40\", \"event_type\": \"Workout\", \"recurrent\": false, \"recurrence_interval\": null, \"description\": \"This is a workout\", \"priority_level\": \"low\"}',\n  '{\"date\": \"2023-09-21\", \"start_time\": \"00:00\", \"end_time\": \"23:59\", \"event_type\": \"Subscription\", \"recurrent\": true, \"recurrence_interval\": \"5 year\", \"description\": \"This is a subscription\", \"priority_level\": \"low\"}',\n  '{\"date\": \"2023-09-22\", \"start_time\": \"11:06\", \"end_time\": \"19:05\", \"event_type\": \"Interview\", \"recurrent\": false, \"recurrence_interval\": null, \"description\": \"This is a interview\", \"priority_level\": \"high\"}',\n  '{\"date\": \"2023-09-29\", \"start_time\": \"00:06\", \"end_time\": \"16:32\", \"event_type\": \"Appointment\", \"recurrent\": false, \"recurrence_interval\": null, \"description\": \"This is a appointment\", \"priority_level\": \"high\"}',\n  '{\"date\": \"2023-09-01\", \"start_time\": \"00:00\", \"end_time\": \"23:59\", \"event_type\": \"Anniversary\", \"recurrent\": true, \"recurrence_interval\": \"1 year\", \"description\": \"This is a anniversary\", \"priority_level\": \"low\"}',\n  '{\"date\": \"2023-07-28\", \"start_time\": \"07:41\", \"end_time\": \"01:48\", \"event_type\": \"Appointment\", \"recurrent\": false, \"recurrence_interval\": null, \"description\": \"This is a appointment\", \"priority_level\": \"low\"}',\n  '{\"date\": \"2023-07-20\", \"start_time\": \"09:32\", \"end_time\": \"22:14\", \"event_type\": \"Interview\", \"recurrent\": false, \"recurrence_interval\": null, \"description\": \"This is a interview\", \"priority_level\": \"highest\"}',\n  '{\"date\": \"2023-09-17\", \"start_time\": \"00:00\", \"end_time\": \"23:59\", \"event_type\": \"Subscription\", \"recurrent\": true, \"recurrence_interval\": \"4 year\", \"description\": \"This is a subscription\", \"priority_level\": \"low\"}',\n  '{\"date\": \"2023-08-11\", \"start_time\": \"00:00\", \"end_time\": \"23:59\", \"event_type\": \"Concert\", \"recurrent\": false, \"recurrence_interval\": null, \"description\": \"This is a concert\", \"priority_level\": \"low\"}',\n  '{\"date\": \"2023-08-30\", \"start_time\": \"10:51\", \"end_time\": \"02:40\", \"event_type\": \"Workout\", \"recurrent\": false, \"recurrence_interval\": null, \"description\": \"This is a workout\", \"priority_level\": \"high\"}',\n  '{\"date\": \"2023-08-12\", \"start_time\": \"10:46\", \"end_time\": \"20:14\", \"event_type\": \"Task\", \"recurrent\": false, \"recurrence_interval\": null, \"description\": \"This is a task\", \"priority_level\": \"medium\"}',\n  '{\"date\": \"2023-08-24\", \"start_time\": \"19:58\", \"end_time\": \"18:22\", \"event_type\": \"TODO\", \"recurrent\": false, \"recurrence_interval\": null, \"description\": \"This is a todo\", \"priority_level\": \"low\"}',\n  '{\"date\": \"2023-07-29\", \"start_time\": \"10:21\", \"end_time\": \"02:10\", \"event_type\": \"TODO\", \"recurrent\": false, \"recurrence_interval\": null, \"description\": \"This is a todo\", \"priority_level\": \"high\"}',\n  '{\"date\": \"2023-09-04\", \"start_time\": \"00:00\", \"end_time\": \"23:59\", \"event_type\": \"Concert\", \"recurrent\": false, \"recurrence_interval\": null, \"description\": \"This is a concert\", \"priority_level\": \"highest\"}',\n  '{\"date\": \"2023-09-19\", \"start_time\": \"00:00\", \"end_time\": \"23:59\", \"event_type\": \"Anniversary\", \"recurrent\": true, \"recurrence_interval\": \"1 year\", \"description\": \"This is a anniversary\", \"priority_level\": \"medium\"}',\n  '{\"date\": \"2023-09-22\", \"start_time\": \"10:43\", \"end_time\": \"00:01\", \"event_type\": \"Meeting\", \"recurrent\": false, \"recurrence_interval\": null, \"description\": \"This is a meeting\", \"priority_level\": \"highest\"}',\n  '{\"date\": \"2023-09-24\", \"start_time\": \"00:08\", \"end_time\": \"17:24\", \"event_type\": \"TODO\", \"recurrent\": false, \"recurrence_interval\": null, \"description\": \"This is a todo\", \"priority_level\": \"highest\"}',\n  '{\"date\": \"2023-08-08\", \"start_time\": \"13:08\", \"end_time\": \"13:27\", \"event_type\": \"TODO\", \"recurrent\": false, \"recurrence_interval\": null, \"description\": \"This is a todo\", \"priority_level\": \"high\"}',\n  '{\"date\": \"2023-08-13\", \"start_time\": \"00:57\", \"end_time\": \"12:24\", \"event_type\": \"Interview\", \"recurrent\": false, \"recurrence_interval\": null, \"description\": \"This is a interview\", \"priority_level\": \"medium\"}',\n  '{\"date\": \"2023-08-18\", \"start_time\": \"09:44\", \"end_time\": \"13:23\", \"event_type\": \"Workout\", \"recurrent\": false, \"recurrence_interval\": null, \"description\": \"This is a workout\", \"priority_level\": \"medium\"}']}"
     },
     "execution_count": 28,
     "metadata": {},
     "output_type": "execute_result"
    }
   ],
   "source": [
    "vectorstore.get()"
   ],
   "metadata": {
    "collapsed": false,
    "ExecuteTime": {
     "end_time": "2023-07-21T16:23:26.444078Z",
     "start_time": "2023-07-21T16:23:26.437590Z"
    }
   }
  },
  {
   "cell_type": "code",
   "execution_count": null,
   "outputs": [],
   "source": [],
   "metadata": {
    "collapsed": false
   }
  },
  {
   "cell_type": "code",
   "execution_count": 154,
   "outputs": [
    {
     "data": {
      "text/plain": "'{\"date_time\": \"2023-07-17 00:00\", \"duration\": \"1 week\", \"event_type\": \"Vacation\", \"recurrent\": false, \"recurrence_interval\": \"6 days\", \"description\": \"Sample description for event 1\"}'"
     },
     "execution_count": 154,
     "metadata": {},
     "output_type": "execute_result"
    }
   ],
   "source": [
    "type ( jsonl_data[ 0 ] )\n",
    "jsonl_data[ 0 ].page_content"
   ],
   "metadata": {
    "collapsed": false,
    "ExecuteTime": {
     "end_time": "2023-07-20T20:53:47.723619Z",
     "start_time": "2023-07-20T20:53:47.715218Z"
    }
   }
  },
  {
   "cell_type": "code",
   "execution_count": 129,
   "outputs": [],
   "source": [
    "from langchain.memory import ConversationBufferMemory\n",
    "from langchain.chains import ConversationalRetrievalChain\n",
    "\n",
    "memory = ConversationBufferMemory( memory_key=\"chat_history\", return_messages=True )"
   ],
   "metadata": {
    "collapsed": false,
    "ExecuteTime": {
     "end_time": "2023-07-20T20:30:35.465648Z",
     "start_time": "2023-07-20T20:30:35.462578Z"
    }
   }
  },
  {
   "cell_type": "code",
   "execution_count": 143,
   "outputs": [
    {
     "ename": "AttributeError",
     "evalue": "'VectorStoreIndexWrapper' object has no attribute 'as_retriever'",
     "output_type": "error",
     "traceback": [
      "\u001B[0;31m---------------------------------------------------------------------------\u001B[0m",
      "\u001B[0;31mAttributeError\u001B[0m                            Traceback (most recent call last)",
      "Cell \u001B[0;32mIn[143], line 3\u001B[0m\n\u001B[1;32m      1\u001B[0m qa \u001B[38;5;241m=\u001B[39m ConversationalRetrievalChain\u001B[38;5;241m.\u001B[39mfrom_llm(\n\u001B[1;32m      2\u001B[0m     llm,\n\u001B[0;32m----> 3\u001B[0m     \u001B[43min_memory_vectorstore\u001B[49m\u001B[38;5;241;43m.\u001B[39;49m\u001B[43mas_retriever\u001B[49m(),\n\u001B[1;32m      4\u001B[0m     memory\u001B[38;5;241m=\u001B[39mmemory\n\u001B[1;32m      5\u001B[0m )\n",
      "\u001B[0;31mAttributeError\u001B[0m: 'VectorStoreIndexWrapper' object has no attribute 'as_retriever'"
     ]
    }
   ],
   "source": [
    "qa = ConversationalRetrievalChain.from_llm(\n",
    "    llm,\n",
    "    in_memory_jsonl_vectorstore.as_retriever(),\n",
    "    memory=memory\n",
    ")"
   ],
   "metadata": {
    "collapsed": false,
    "ExecuteTime": {
     "end_time": "2023-07-20T20:38:31.178675Z",
     "start_time": "2023-07-20T20:38:31.154287Z"
    }
   }
  },
  {
   "cell_type": "code",
   "execution_count": 166,
   "outputs": [
    {
     "data": {
      "text/plain": "'There are four birthdays in this dataset.'"
     },
     "execution_count": 166,
     "metadata": {},
     "output_type": "execute_result"
    }
   ],
   "source": [
    "query = \"How many birthdays are in this dataset?\"\n",
    "result = qa( { \"question\": query } )\n",
    "result[ \"answer\" ]"
   ],
   "metadata": {
    "collapsed": false,
    "ExecuteTime": {
     "end_time": "2023-07-20T21:13:55.267055Z",
     "start_time": "2023-07-20T21:13:53.240778Z"
    }
   }
  },
  {
   "cell_type": "code",
   "execution_count": 167,
   "outputs": [
    {
     "data": {
      "text/plain": "{'question': 'How many birthdays are in this dataset?',\n 'chat_history': [HumanMessage(content='Do I have any events today?', additional_kwargs={}, example=False),\n  AIMessage(content=\"I don't have access to your personal calendar. Please check your calendar or provide me with the necessary information to answer your question.\", additional_kwargs={}, example=False),\n  HumanMessage(content='What day is today?', additional_kwargs={}, example=False),\n  AIMessage(content=\"I don't have access to real-time information, so I cannot provide the current date.\", additional_kwargs={}, example=False),\n  HumanMessage(content='How many birthdays are in this dataset?', additional_kwargs={}, example=False),\n  AIMessage(content='There are four birthdays in this dataset.', additional_kwargs={}, example=False),\n  HumanMessage(content='How many birthdays are in this dataset?', additional_kwargs={}, example=False),\n  AIMessage(content='There are four birthdays in this dataset.', additional_kwargs={}, example=False),\n  HumanMessage(content='How many birthdays are in this dataset?', additional_kwargs={}, example=False),\n  AIMessage(content='There are four birthdays in this dataset.', additional_kwargs={}, example=False)],\n 'answer': 'There are four birthdays in this dataset.'}"
     },
     "execution_count": 167,
     "metadata": {},
     "output_type": "execute_result"
    }
   ],
   "source": [
    "result"
   ],
   "metadata": {
    "collapsed": false,
    "ExecuteTime": {
     "end_time": "2023-07-20T21:14:06.075585Z",
     "start_time": "2023-07-20T21:14:06.070974Z"
    }
   }
  },
  {
   "cell_type": "code",
   "execution_count": 170,
   "outputs": [
    {
     "data": {
      "text/plain": "'Based on the given context, you have inquired about birthdays four times.'"
     },
     "execution_count": 170,
     "metadata": {},
     "output_type": "execute_result"
    }
   ],
   "source": [
    "def query_embeddings( query ):\n",
    "\n",
    "    result = qa( { \"question\": query } )\n",
    "\n",
    "    return result[ \"answer\" ]\n",
    "\n",
    "result = query_embeddings( \"How Many times have I asked you about birthdays?\" )\n",
    "result"
   ],
   "metadata": {
    "collapsed": false,
    "ExecuteTime": {
     "end_time": "2023-07-20T21:16:56.918668Z",
     "start_time": "2023-07-20T21:16:54.320301Z"
    }
   }
  },
  {
   "cell_type": "code",
   "execution_count": 172,
   "outputs": [
    {
     "data": {
      "text/plain": "'You have not asked about any other topics besides birthdays.'"
     },
     "execution_count": 172,
     "metadata": {},
     "output_type": "execute_result"
    }
   ],
   "source": [
    "query_embeddings( \"Other than birthdays, what else have i asked you about?\" )"
   ],
   "metadata": {
    "collapsed": false,
    "ExecuteTime": {
     "end_time": "2023-07-20T21:17:47.770930Z",
     "start_time": "2023-07-20T21:17:46.021754Z"
    }
   }
  },
  {
   "cell_type": "code",
   "execution_count": 173,
   "outputs": [
    {
     "data": {
      "text/plain": "\"Based on the given context, I don't have any information about events happening today.\""
     },
     "execution_count": 173,
     "metadata": {},
     "output_type": "execute_result"
    }
   ],
   "source": [
    "query_embeddings( \"Today is Thursday, July 20th, 2023. Do I have any events today?\" )"
   ],
   "metadata": {
    "collapsed": false,
    "ExecuteTime": {
     "end_time": "2023-07-20T21:18:24.029512Z",
     "start_time": "2023-07-20T21:18:22.346690Z"
    }
   }
  },
  {
   "cell_type": "code",
   "execution_count": 174,
   "outputs": [
    {
     "data": {
      "text/plain": "ConversationBufferMemory(chat_memory=ChatMessageHistory(messages=[HumanMessage(content='Do I have any events today?', additional_kwargs={}, example=False), AIMessage(content=\"I don't have access to your personal calendar. Please check your calendar or provide me with the necessary information to answer your question.\", additional_kwargs={}, example=False), HumanMessage(content='What day is today?', additional_kwargs={}, example=False), AIMessage(content=\"I don't have access to real-time information, so I cannot provide the current date.\", additional_kwargs={}, example=False), HumanMessage(content='How many birthdays are in this dataset?', additional_kwargs={}, example=False), AIMessage(content='There are four birthdays in this dataset.', additional_kwargs={}, example=False), HumanMessage(content='How many birthdays are in this dataset?', additional_kwargs={}, example=False), AIMessage(content='There are four birthdays in this dataset.', additional_kwargs={}, example=False), HumanMessage(content='How many birthdays are in this dataset?', additional_kwargs={}, example=False), AIMessage(content='There are four birthdays in this dataset.', additional_kwargs={}, example=False), HumanMessage(content='How Many times have I asked you about birthdays?', additional_kwargs={}, example=False), AIMessage(content='Based on the given context, you have inquired about birthdays four times.', additional_kwargs={}, example=False), HumanMessage(content='How Many times have I asked you about birthdays?', additional_kwargs={}, example=False), AIMessage(content='Based on the given context, you have inquired about birthdays four times.', additional_kwargs={}, example=False), HumanMessage(content='How Many times have I asked you about birthdays?', additional_kwargs={}, example=False), AIMessage(content='Based on the given context, you have inquired about birthdays four times.', additional_kwargs={}, example=False), HumanMessage(content='Other than birthdays, else have i asked you about?', additional_kwargs={}, example=False), AIMessage(content='You have asked about topics other than birthdays. Some examples include:\\n- Weather forecasts\\n- Sports scores\\n- Movie recommendations\\n- Historical events\\n- General knowledge questions', additional_kwargs={}, example=False), HumanMessage(content='Other than birthdays, what else have i asked you about?', additional_kwargs={}, example=False), AIMessage(content='You have not asked about any other topics besides birthdays.', additional_kwargs={}, example=False), HumanMessage(content='Today is Thursday, July 20th, 2023. Do I have any events today?', additional_kwargs={}, example=False), AIMessage(content=\"Based on the given context, I don't have any information about events happening today.\", additional_kwargs={}, example=False)]), output_key=None, input_key=None, return_messages=True, human_prefix='Human', ai_prefix='AI', memory_key='chat_history')"
     },
     "execution_count": 174,
     "metadata": {},
     "output_type": "execute_result"
    }
   ],
   "source": [
    "memory"
   ],
   "metadata": {
    "collapsed": false,
    "ExecuteTime": {
     "end_time": "2023-07-20T21:18:49.690573Z",
     "start_time": "2023-07-20T21:18:49.678114Z"
    }
   }
  },
  {
   "cell_type": "code",
   "execution_count": 175,
   "outputs": [
    {
     "data": {
      "text/plain": "'The person with a birthday in the month of July is John Doe. Here is the metadata for the event:\\n\\n- Date and Time: July 28, 2023, 00:00\\n- Duration: 24 hours\\n- Event Type: Birthday\\n- Recurrent: Yes\\n- Recurrence Interval: 12 months\\n- Description: Birthday of John Doe'"
     },
     "execution_count": 175,
     "metadata": {},
     "output_type": "execute_result"
    }
   ],
   "source": [
    "query_embeddings( \"What is the name of the person who has a birthday in the month of July? Return all metadata\" )"
   ],
   "metadata": {
    "collapsed": false,
    "ExecuteTime": {
     "end_time": "2023-07-20T21:19:22.700915Z",
     "start_time": "2023-07-20T21:19:16.963227Z"
    }
   }
  },
  {
   "cell_type": "code",
   "execution_count": 177,
   "outputs": [
    {
     "data": {
      "text/plain": "'| Name       | Date       |\\n|------------|------------|\\n| Grace Hall | 2023-07-18 |\\n| John Doe   | 2023-07-28 |'"
     },
     "execution_count": 177,
     "metadata": {},
     "output_type": "execute_result"
    }
   ],
   "source": [
    "query_embeddings( \"list all birthdays in July. Format as a table, using Markdown. Period include name and date.\" )"
   ],
   "metadata": {
    "collapsed": false,
    "ExecuteTime": {
     "end_time": "2023-07-20T21:22:30.189580Z",
     "start_time": "2023-07-20T21:22:27.551743Z"
    }
   }
  },
  {
   "cell_type": "code",
   "execution_count": null,
   "outputs": [],
   "source": [
    "query_embeddings( \"list all birthdays in August. Format as a table, using Markdown. Period include name and date.\" )"
   ],
   "metadata": {
    "collapsed": false
   }
  }
 ],
 "metadata": {
  "kernelspec": {
   "display_name": "Python 3",
   "language": "python",
   "name": "python3"
  },
  "language_info": {
   "codemirror_mode": {
    "name": "ipython",
    "version": 2
   },
   "file_extension": ".py",
   "mimetype": "text/x-python",
   "name": "python",
   "nbconvert_exporter": "python",
   "pygments_lexer": "ipython2",
   "version": "2.7.6"
  }
 },
 "nbformat": 4,
 "nbformat_minor": 0
}
