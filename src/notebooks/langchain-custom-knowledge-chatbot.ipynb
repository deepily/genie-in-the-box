{
 "cells": [
  {
   "cell_type": "code",
   "execution_count": 1,
   "outputs": [
    {
     "name": "stdout",
     "output_type": "stream",
     "text": [
      "total 40K\r\n",
      "drwxr-xr-x 2 1000 1000 4.0K Jul 21 17:24 .\r\n",
      "drwxr-xr-x 4 1000 1000 4.0K Jul 19 20:04 ..\r\n",
      "-rw-r--r-- 1 1000 1000 4.0K Jul 19 20:04 ._events.jsonl\r\n",
      "-rw-r--r-- 1 1000 1000  16K Jul 27 20:18 events.csv\r\n",
      "-rw-r--r-- 1 1000 1000  11K Jul 21 17:48 events.jsonl\r\n"
     ]
    }
   ],
   "source": [
    "! ls -alh /var/genie-in-the-box/src/conf/long-term-memory/"
   ],
   "metadata": {
    "collapsed": false,
    "ExecuteTime": {
     "end_time": "2023-08-08T18:04:41.442608Z",
     "start_time": "2023-08-08T18:04:41.335385Z"
    }
   }
  },
  {
   "cell_type": "code",
   "execution_count": 2,
   "outputs": [
    {
     "name": "stdout",
     "output_type": "stream",
     "text": [
      "Collecting langchain\r\n",
      "  Downloading langchain-0.0.257-py3-none-any.whl (1.4 MB)\r\n",
      "\u001B[2K     \u001B[90m━━━━━━━━━━━━━━━━━━━━━━━━━━━━━━━━━━━━━━━━\u001B[0m \u001B[32m1.4/1.4 MB\u001B[0m \u001B[31m15.6 MB/s\u001B[0m eta \u001B[36m0:00:00\u001B[0ma \u001B[36m0:00:01\u001B[0m\r\n",
      "\u001B[?25hCollecting numexpr<3.0.0,>=2.8.4\r\n",
      "  Downloading numexpr-2.8.5-cp310-cp310-manylinux_2_17_x86_64.manylinux2014_x86_64.whl (383 kB)\r\n",
      "\u001B[2K     \u001B[90m━━━━━━━━━━━━━━━━━━━━━━━━━━━━━━━━━━━━━━\u001B[0m \u001B[32m383.2/383.2 kB\u001B[0m \u001B[31m39.7 MB/s\u001B[0m eta \u001B[36m0:00:00\u001B[0m\r\n",
      "\u001B[?25hCollecting langsmith<0.1.0,>=0.0.11\r\n",
      "  Downloading langsmith-0.0.19-py3-none-any.whl (31 kB)\r\n",
      "Requirement already satisfied: aiohttp<4.0.0,>=3.8.3 in /usr/local/lib/python3.10/dist-packages (from langchain) (3.8.4)\r\n",
      "Requirement already satisfied: pydantic<2,>=1 in /usr/local/lib/python3.10/dist-packages (from langchain) (1.10.5)\r\n",
      "Requirement already satisfied: SQLAlchemy<3,>=1.4 in /usr/local/lib/python3.10/dist-packages (from langchain) (2.0.4)\r\n",
      "Collecting openapi-schema-pydantic<2.0,>=1.2\r\n",
      "  Downloading openapi_schema_pydantic-1.2.4-py3-none-any.whl (90 kB)\r\n",
      "\u001B[2K     \u001B[90m━━━━━━━━━━━━━━━━━━━━━━━━━━━━━━━━━━━━━━━━\u001B[0m \u001B[32m90.0/90.0 kB\u001B[0m \u001B[31m23.1 MB/s\u001B[0m eta \u001B[36m0:00:00\u001B[0m\r\n",
      "\u001B[?25hRequirement already satisfied: numpy<2,>=1 in /usr/local/lib/python3.10/dist-packages (from langchain) (1.23.5)\r\n",
      "Requirement already satisfied: PyYAML>=5.3 in /usr/local/lib/python3.10/dist-packages (from langchain) (6.0)\r\n",
      "Collecting tenacity<9.0.0,>=8.1.0\r\n",
      "  Downloading tenacity-8.2.2-py3-none-any.whl (24 kB)\r\n",
      "Requirement already satisfied: async-timeout<5.0.0,>=4.0.0 in /usr/local/lib/python3.10/dist-packages (from langchain) (4.0.2)\r\n",
      "Collecting dataclasses-json<0.6.0,>=0.5.7\r\n",
      "  Downloading dataclasses_json-0.5.14-py3-none-any.whl (26 kB)\r\n",
      "Requirement already satisfied: requests<3,>=2 in /usr/local/lib/python3.10/dist-packages (from langchain) (2.28.2)\r\n",
      "Requirement already satisfied: attrs>=17.3.0 in /usr/local/lib/python3.10/dist-packages (from aiohttp<4.0.0,>=3.8.3->langchain) (22.2.0)\r\n",
      "Requirement already satisfied: yarl<2.0,>=1.0 in /usr/local/lib/python3.10/dist-packages (from aiohttp<4.0.0,>=3.8.3->langchain) (1.8.2)\r\n",
      "Requirement already satisfied: aiosignal>=1.1.2 in /usr/local/lib/python3.10/dist-packages (from aiohttp<4.0.0,>=3.8.3->langchain) (1.3.1)\r\n",
      "Requirement already satisfied: frozenlist>=1.1.1 in /usr/local/lib/python3.10/dist-packages (from aiohttp<4.0.0,>=3.8.3->langchain) (1.3.3)\r\n",
      "Requirement already satisfied: charset-normalizer<4.0,>=2.0 in /usr/local/lib/python3.10/dist-packages (from aiohttp<4.0.0,>=3.8.3->langchain) (3.0.1)\r\n",
      "Requirement already satisfied: multidict<7.0,>=4.5 in /usr/local/lib/python3.10/dist-packages (from aiohttp<4.0.0,>=3.8.3->langchain) (6.0.4)\r\n",
      "Collecting marshmallow<4.0.0,>=3.18.0\r\n",
      "  Downloading marshmallow-3.20.1-py3-none-any.whl (49 kB)\r\n",
      "\u001B[2K     \u001B[90m━━━━━━━━━━━━━━━━━━━━━━━━━━━━━━━━━━━━━━━━\u001B[0m \u001B[32m49.4/49.4 kB\u001B[0m \u001B[31m8.9 MB/s\u001B[0m eta \u001B[36m0:00:00\u001B[0m\r\n",
      "\u001B[?25hCollecting typing-inspect<1,>=0.4.0\r\n",
      "  Downloading typing_inspect-0.9.0-py3-none-any.whl (8.8 kB)\r\n",
      "Requirement already satisfied: typing-extensions>=4.2.0 in /usr/local/lib/python3.10/dist-packages (from pydantic<2,>=1->langchain) (4.5.0)\r\n",
      "Requirement already satisfied: idna<4,>=2.5 in /usr/local/lib/python3.10/dist-packages (from requests<3,>=2->langchain) (3.4)\r\n",
      "Requirement already satisfied: urllib3<1.27,>=1.21.1 in /usr/local/lib/python3.10/dist-packages (from requests<3,>=2->langchain) (1.26.14)\r\n",
      "Requirement already satisfied: certifi>=2017.4.17 in /usr/local/lib/python3.10/dist-packages (from requests<3,>=2->langchain) (2022.12.7)\r\n",
      "Requirement already satisfied: greenlet!=0.4.17 in /usr/local/lib/python3.10/dist-packages (from SQLAlchemy<3,>=1.4->langchain) (2.0.2)\r\n",
      "Requirement already satisfied: packaging>=17.0 in /usr/local/lib/python3.10/dist-packages (from marshmallow<4.0.0,>=3.18.0->dataclasses-json<0.6.0,>=0.5.7->langchain) (23.0)\r\n",
      "Collecting mypy-extensions>=0.3.0\r\n",
      "  Downloading mypy_extensions-1.0.0-py3-none-any.whl (4.7 kB)\r\n",
      "Installing collected packages: tenacity, numexpr, mypy-extensions, marshmallow, typing-inspect, openapi-schema-pydantic, langsmith, dataclasses-json, langchain\r\n",
      "Successfully installed dataclasses-json-0.5.14 langchain-0.0.257 langsmith-0.0.19 marshmallow-3.20.1 mypy-extensions-1.0.0 numexpr-2.8.5 openapi-schema-pydantic-1.2.4 tenacity-8.2.2 typing-inspect-0.9.0\r\n",
      "\u001B[33mWARNING: Running pip as the 'root' user can result in broken permissions and conflicting behaviour with the system package manager. It is recommended to use a virtual environment instead: https://pip.pypa.io/warnings/venv\u001B[0m\u001B[33m\r\n",
      "\u001B[0m\r\n",
      "\u001B[1m[\u001B[0m\u001B[34;49mnotice\u001B[0m\u001B[1;39;49m]\u001B[0m\u001B[39;49m A new release of pip is available: \u001B[0m\u001B[31;49m23.0.1\u001B[0m\u001B[39;49m -> \u001B[0m\u001B[32;49m23.2.1\u001B[0m\r\n",
      "\u001B[1m[\u001B[0m\u001B[34;49mnotice\u001B[0m\u001B[1;39;49m]\u001B[0m\u001B[39;49m To update, run: \u001B[0m\u001B[32;49mpython3 -m pip install --upgrade pip\u001B[0m\r\n",
      "Requirement already satisfied: langchain[docarray] in /usr/local/lib/python3.10/dist-packages (0.0.257)\r\n",
      "Requirement already satisfied: dataclasses-json<0.6.0,>=0.5.7 in /usr/local/lib/python3.10/dist-packages (from langchain[docarray]) (0.5.14)\r\n",
      "Requirement already satisfied: langsmith<0.1.0,>=0.0.11 in /usr/local/lib/python3.10/dist-packages (from langchain[docarray]) (0.0.19)\r\n",
      "Requirement already satisfied: requests<3,>=2 in /usr/local/lib/python3.10/dist-packages (from langchain[docarray]) (2.28.2)\r\n",
      "Requirement already satisfied: tenacity<9.0.0,>=8.1.0 in /usr/local/lib/python3.10/dist-packages (from langchain[docarray]) (8.2.2)\r\n",
      "Requirement already satisfied: SQLAlchemy<3,>=1.4 in /usr/local/lib/python3.10/dist-packages (from langchain[docarray]) (2.0.4)\r\n",
      "Requirement already satisfied: pydantic<2,>=1 in /usr/local/lib/python3.10/dist-packages (from langchain[docarray]) (1.10.5)\r\n",
      "Requirement already satisfied: async-timeout<5.0.0,>=4.0.0 in /usr/local/lib/python3.10/dist-packages (from langchain[docarray]) (4.0.2)\r\n",
      "Requirement already satisfied: PyYAML>=5.3 in /usr/local/lib/python3.10/dist-packages (from langchain[docarray]) (6.0)\r\n",
      "Requirement already satisfied: aiohttp<4.0.0,>=3.8.3 in /usr/local/lib/python3.10/dist-packages (from langchain[docarray]) (3.8.4)\r\n",
      "Requirement already satisfied: numpy<2,>=1 in /usr/local/lib/python3.10/dist-packages (from langchain[docarray]) (1.23.5)\r\n",
      "Requirement already satisfied: openapi-schema-pydantic<2.0,>=1.2 in /usr/local/lib/python3.10/dist-packages (from langchain[docarray]) (1.2.4)\r\n",
      "Requirement already satisfied: numexpr<3.0.0,>=2.8.4 in /usr/local/lib/python3.10/dist-packages (from langchain[docarray]) (2.8.5)\r\n",
      "Collecting docarray[hnswlib]<0.33.0,>=0.32.0\r\n",
      "  Downloading docarray-0.32.1-py3-none-any.whl (215 kB)\r\n",
      "\u001B[2K     \u001B[90m━━━━━━━━━━━━━━━━━━━━━━━━━━━━━━━━━━━━━━━\u001B[0m \u001B[32m215.3/215.3 kB\u001B[0m \u001B[31m3.5 MB/s\u001B[0m eta \u001B[36m0:00:00\u001B[0ma \u001B[36m0:00:01\u001B[0m\r\n",
      "\u001B[?25hRequirement already satisfied: multidict<7.0,>=4.5 in /usr/local/lib/python3.10/dist-packages (from aiohttp<4.0.0,>=3.8.3->langchain[docarray]) (6.0.4)\r\n",
      "Requirement already satisfied: aiosignal>=1.1.2 in /usr/local/lib/python3.10/dist-packages (from aiohttp<4.0.0,>=3.8.3->langchain[docarray]) (1.3.1)\r\n",
      "Requirement already satisfied: yarl<2.0,>=1.0 in /usr/local/lib/python3.10/dist-packages (from aiohttp<4.0.0,>=3.8.3->langchain[docarray]) (1.8.2)\r\n",
      "Requirement already satisfied: frozenlist>=1.1.1 in /usr/local/lib/python3.10/dist-packages (from aiohttp<4.0.0,>=3.8.3->langchain[docarray]) (1.3.3)\r\n",
      "Requirement already satisfied: attrs>=17.3.0 in /usr/local/lib/python3.10/dist-packages (from aiohttp<4.0.0,>=3.8.3->langchain[docarray]) (22.2.0)\r\n",
      "Requirement already satisfied: charset-normalizer<4.0,>=2.0 in /usr/local/lib/python3.10/dist-packages (from aiohttp<4.0.0,>=3.8.3->langchain[docarray]) (3.0.1)\r\n",
      "Requirement already satisfied: marshmallow<4.0.0,>=3.18.0 in /usr/local/lib/python3.10/dist-packages (from dataclasses-json<0.6.0,>=0.5.7->langchain[docarray]) (3.20.1)\r\n",
      "Requirement already satisfied: typing-inspect<1,>=0.4.0 in /usr/local/lib/python3.10/dist-packages (from dataclasses-json<0.6.0,>=0.5.7->langchain[docarray]) (0.9.0)\r\n",
      "Collecting orjson>=3.8.2\r\n",
      "  Downloading orjson-3.9.4-cp310-cp310-manylinux_2_17_x86_64.manylinux2014_x86_64.whl (140 kB)\r\n",
      "\u001B[2K     \u001B[90m━━━━━━━━━━━━━━━━━━━━━━━━━━━━━━━━━━━━━━\u001B[0m \u001B[32m140.3/140.3 kB\u001B[0m \u001B[31m30.8 MB/s\u001B[0m eta \u001B[36m0:00:00\u001B[0m\r\n",
      "\u001B[?25hCollecting rich>=13.1.0\r\n",
      "  Downloading rich-13.5.2-py3-none-any.whl (239 kB)\r\n",
      "\u001B[2K     \u001B[90m━━━━━━━━━━━━━━━━━━━━━━━━━━━━━━━━━━━━━━\u001B[0m \u001B[32m239.7/239.7 kB\u001B[0m \u001B[31m38.8 MB/s\u001B[0m eta \u001B[36m0:00:00\u001B[0m\r\n",
      "\u001B[?25hCollecting types-requests>=2.28.11.6\r\n",
      "  Downloading types_requests-2.31.0.2-py3-none-any.whl (14 kB)\r\n",
      "Requirement already satisfied: protobuf>=3.19.0 in /usr/local/lib/python3.10/dist-packages (from docarray[hnswlib]<0.33.0,>=0.32.0->langchain[docarray]) (3.19.6)\r\n",
      "Collecting hnswlib>=0.6.2\r\n",
      "  Downloading hnswlib-0.7.0.tar.gz (33 kB)\r\n",
      "  Installing build dependencies ... \u001B[?25ldone\r\n",
      "\u001B[?25h  Getting requirements to build wheel ... \u001B[?25ldone\r\n",
      "\u001B[?25h  Preparing metadata (pyproject.toml) ... \u001B[?25ldone\r\n",
      "\u001B[?25hRequirement already satisfied: typing-extensions>=4.2.0 in /usr/local/lib/python3.10/dist-packages (from pydantic<2,>=1->langchain[docarray]) (4.5.0)\r\n",
      "Requirement already satisfied: idna<4,>=2.5 in /usr/local/lib/python3.10/dist-packages (from requests<3,>=2->langchain[docarray]) (3.4)\r\n",
      "Requirement already satisfied: certifi>=2017.4.17 in /usr/local/lib/python3.10/dist-packages (from requests<3,>=2->langchain[docarray]) (2022.12.7)\r\n",
      "Requirement already satisfied: urllib3<1.27,>=1.21.1 in /usr/local/lib/python3.10/dist-packages (from requests<3,>=2->langchain[docarray]) (1.26.14)\r\n",
      "Requirement already satisfied: greenlet!=0.4.17 in /usr/local/lib/python3.10/dist-packages (from SQLAlchemy<3,>=1.4->langchain[docarray]) (2.0.2)\r\n",
      "Requirement already satisfied: packaging>=17.0 in /usr/local/lib/python3.10/dist-packages (from marshmallow<4.0.0,>=3.18.0->dataclasses-json<0.6.0,>=0.5.7->langchain[docarray]) (23.0)\r\n",
      "Requirement already satisfied: pygments<3.0.0,>=2.13.0 in /usr/local/lib/python3.10/dist-packages (from rich>=13.1.0->docarray[hnswlib]<0.33.0,>=0.32.0->langchain[docarray]) (2.14.0)\r\n",
      "Collecting markdown-it-py>=2.2.0\r\n",
      "  Downloading markdown_it_py-3.0.0-py3-none-any.whl (87 kB)\r\n",
      "\u001B[2K     \u001B[90m━━━━━━━━━━━━━━━━━━━━━━━━━━━━━━━━━━━━━━━━\u001B[0m \u001B[32m87.5/87.5 kB\u001B[0m \u001B[31m13.5 MB/s\u001B[0m eta \u001B[36m0:00:00\u001B[0m\r\n",
      "\u001B[?25hCollecting types-urllib3\r\n",
      "  Downloading types_urllib3-1.26.25.14-py3-none-any.whl (15 kB)\r\n",
      "Requirement already satisfied: mypy-extensions>=0.3.0 in /usr/local/lib/python3.10/dist-packages (from typing-inspect<1,>=0.4.0->dataclasses-json<0.6.0,>=0.5.7->langchain[docarray]) (1.0.0)\r\n",
      "Collecting mdurl~=0.1\r\n",
      "  Downloading mdurl-0.1.2-py3-none-any.whl (10.0 kB)\r\n",
      "Building wheels for collected packages: hnswlib\r\n",
      "  Building wheel for hnswlib (pyproject.toml) ... \u001B[?25ldone\r\n",
      "\u001B[?25h  Created wheel for hnswlib: filename=hnswlib-0.7.0-cp310-cp310-linux_x86_64.whl size=2195304 sha256=c5b82907d7f70335ac81835df55502828302fc3c12c04bdc2eee662cd51721b6\r\n",
      "  Stored in directory: /root/.cache/pip/wheels/8a/ae/ec/235a682e0041fbaeee389843670581ec6c66872db856dfa9a4\r\n",
      "Successfully built hnswlib\r\n",
      "Installing collected packages: types-urllib3, types-requests, orjson, mdurl, hnswlib, markdown-it-py, rich, docarray\r\n",
      "Successfully installed docarray-0.32.1 hnswlib-0.7.0 markdown-it-py-3.0.0 mdurl-0.1.2 orjson-3.9.4 rich-13.5.2 types-requests-2.31.0.2 types-urllib3-1.26.25.14\r\n",
      "\u001B[33mWARNING: Running pip as the 'root' user can result in broken permissions and conflicting behaviour with the system package manager. It is recommended to use a virtual environment instead: https://pip.pypa.io/warnings/venv\u001B[0m\u001B[33m\r\n",
      "\u001B[0m\r\n",
      "\u001B[1m[\u001B[0m\u001B[34;49mnotice\u001B[0m\u001B[1;39;49m]\u001B[0m\u001B[39;49m A new release of pip is available: \u001B[0m\u001B[31;49m23.0.1\u001B[0m\u001B[39;49m -> \u001B[0m\u001B[32;49m23.2.1\u001B[0m\r\n",
      "\u001B[1m[\u001B[0m\u001B[34;49mnotice\u001B[0m\u001B[1;39;49m]\u001B[0m\u001B[39;49m To update, run: \u001B[0m\u001B[32;49mpython3 -m pip install --upgrade pip\u001B[0m\r\n",
      "Collecting tiktoken\r\n",
      "  Downloading tiktoken-0.4.0-cp310-cp310-manylinux_2_17_x86_64.manylinux2014_x86_64.whl (1.7 MB)\r\n",
      "\u001B[2K     \u001B[90m━━━━━━━━━━━━━━━━━━━━━━━━━━━━━━━━━━━━━━━━\u001B[0m \u001B[32m1.7/1.7 MB\u001B[0m \u001B[31m19.1 MB/s\u001B[0m eta \u001B[36m0:00:00\u001B[0ma \u001B[36m0:00:01\u001B[0m\r\n",
      "\u001B[?25hRequirement already satisfied: regex>=2022.1.18 in /usr/local/lib/python3.10/dist-packages (from tiktoken) (2022.10.31)\r\n",
      "Requirement already satisfied: requests>=2.26.0 in /usr/local/lib/python3.10/dist-packages (from tiktoken) (2.28.2)\r\n",
      "Requirement already satisfied: charset-normalizer<4,>=2 in /usr/local/lib/python3.10/dist-packages (from requests>=2.26.0->tiktoken) (3.0.1)\r\n",
      "Requirement already satisfied: idna<4,>=2.5 in /usr/local/lib/python3.10/dist-packages (from requests>=2.26.0->tiktoken) (3.4)\r\n",
      "Requirement already satisfied: urllib3<1.27,>=1.21.1 in /usr/local/lib/python3.10/dist-packages (from requests>=2.26.0->tiktoken) (1.26.14)\r\n",
      "Requirement already satisfied: certifi>=2017.4.17 in /usr/local/lib/python3.10/dist-packages (from requests>=2.26.0->tiktoken) (2022.12.7)\r\n",
      "Installing collected packages: tiktoken\r\n",
      "Successfully installed tiktoken-0.4.0\r\n",
      "\u001B[33mWARNING: Running pip as the 'root' user can result in broken permissions and conflicting behaviour with the system package manager. It is recommended to use a virtual environment instead: https://pip.pypa.io/warnings/venv\u001B[0m\u001B[33m\r\n",
      "\u001B[0m\r\n",
      "\u001B[1m[\u001B[0m\u001B[34;49mnotice\u001B[0m\u001B[1;39;49m]\u001B[0m\u001B[39;49m A new release of pip is available: \u001B[0m\u001B[31;49m23.0.1\u001B[0m\u001B[39;49m -> \u001B[0m\u001B[32;49m23.2.1\u001B[0m\r\n",
      "\u001B[1m[\u001B[0m\u001B[34;49mnotice\u001B[0m\u001B[1;39;49m]\u001B[0m\u001B[39;49m To update, run: \u001B[0m\u001B[32;49mpython3 -m pip install --upgrade pip\u001B[0m\r\n",
      "Collecting pinecone-client\r\n",
      "  Downloading pinecone_client-2.2.2-py3-none-any.whl (179 kB)\r\n",
      "\u001B[2K     \u001B[90m━━━━━━━━━━━━━━━━━━━━━━━━━━━━━━━━━━━━━━━\u001B[0m \u001B[32m179.1/179.1 kB\u001B[0m \u001B[31m4.1 MB/s\u001B[0m eta \u001B[36m0:00:00\u001B[0ma \u001B[36m0:00:01\u001B[0m\r\n",
      "\u001B[?25hRequirement already satisfied: urllib3>=1.21.1 in /usr/local/lib/python3.10/dist-packages (from pinecone-client) (1.26.14)\r\n",
      "Collecting dnspython>=2.0.0\r\n",
      "  Downloading dnspython-2.4.1-py3-none-any.whl (300 kB)\r\n",
      "\u001B[2K     \u001B[90m━━━━━━━━━━━━━━━━━━━━━━━━━━━━━━━━━━━━━━\u001B[0m \u001B[32m300.3/300.3 kB\u001B[0m \u001B[31m19.7 MB/s\u001B[0m eta \u001B[36m0:00:00\u001B[0m\r\n",
      "\u001B[?25hRequirement already satisfied: typing-extensions>=3.7.4 in /usr/local/lib/python3.10/dist-packages (from pinecone-client) (4.5.0)\r\n",
      "Requirement already satisfied: tqdm>=4.64.1 in /usr/local/lib/python3.10/dist-packages (from pinecone-client) (4.64.1)\r\n",
      "Requirement already satisfied: python-dateutil>=2.5.3 in /usr/local/lib/python3.10/dist-packages (from pinecone-client) (2.8.2)\r\n",
      "Requirement already satisfied: numpy>=1.22.0 in /usr/local/lib/python3.10/dist-packages (from pinecone-client) (1.23.5)\r\n",
      "Collecting loguru>=0.5.0\r\n",
      "  Downloading loguru-0.7.0-py3-none-any.whl (59 kB)\r\n",
      "\u001B[2K     \u001B[90m━━━━━━━━━━━━━━━━━━━━━━━━━━━━━━━━━━━━━━━━\u001B[0m \u001B[32m60.0/60.0 kB\u001B[0m \u001B[31m14.3 MB/s\u001B[0m eta \u001B[36m0:00:00\u001B[0m\r\n",
      "\u001B[?25hRequirement already satisfied: pyyaml>=5.4 in /usr/local/lib/python3.10/dist-packages (from pinecone-client) (6.0)\r\n",
      "Requirement already satisfied: requests>=2.19.0 in /usr/local/lib/python3.10/dist-packages (from pinecone-client) (2.28.2)\r\n",
      "Requirement already satisfied: six>=1.5 in /usr/local/lib/python3.10/dist-packages (from python-dateutil>=2.5.3->pinecone-client) (1.16.0)\r\n",
      "Requirement already satisfied: certifi>=2017.4.17 in /usr/local/lib/python3.10/dist-packages (from requests>=2.19.0->pinecone-client) (2022.12.7)\r\n",
      "Requirement already satisfied: charset-normalizer<4,>=2 in /usr/local/lib/python3.10/dist-packages (from requests>=2.19.0->pinecone-client) (3.0.1)\r\n",
      "Requirement already satisfied: idna<4,>=2.5 in /usr/local/lib/python3.10/dist-packages (from requests>=2.19.0->pinecone-client) (3.4)\r\n",
      "Installing collected packages: loguru, dnspython, pinecone-client\r\n",
      "Successfully installed dnspython-2.4.1 loguru-0.7.0 pinecone-client-2.2.2\r\n",
      "\u001B[33mWARNING: Running pip as the 'root' user can result in broken permissions and conflicting behaviour with the system package manager. It is recommended to use a virtual environment instead: https://pip.pypa.io/warnings/venv\u001B[0m\u001B[33m\r\n",
      "\u001B[0m\r\n",
      "\u001B[1m[\u001B[0m\u001B[34;49mnotice\u001B[0m\u001B[1;39;49m]\u001B[0m\u001B[39;49m A new release of pip is available: \u001B[0m\u001B[31;49m23.0.1\u001B[0m\u001B[39;49m -> \u001B[0m\u001B[32;49m23.2.1\u001B[0m\r\n",
      "\u001B[1m[\u001B[0m\u001B[34;49mnotice\u001B[0m\u001B[1;39;49m]\u001B[0m\u001B[39;49m To update, run: \u001B[0m\u001B[32;49mpython3 -m pip install --upgrade pip\u001B[0m\r\n",
      "Collecting jq\r\n",
      "  Downloading jq-1.4.1-cp310-cp310-manylinux_2_17_x86_64.manylinux2014_x86_64.whl (589 kB)\r\n",
      "\u001B[2K     \u001B[90m━━━━━━━━━━━━━━━━━━━━━━━━━━━━━━━━━━━━━━━\u001B[0m \u001B[32m589.1/589.1 kB\u001B[0m \u001B[31m9.2 MB/s\u001B[0m eta \u001B[36m0:00:00\u001B[0ma \u001B[36m0:00:01\u001B[0m\r\n",
      "\u001B[?25hInstalling collected packages: jq\r\n",
      "Successfully installed jq-1.4.1\r\n",
      "\u001B[33mWARNING: Running pip as the 'root' user can result in broken permissions and conflicting behaviour with the system package manager. It is recommended to use a virtual environment instead: https://pip.pypa.io/warnings/venv\u001B[0m\u001B[33m\r\n",
      "\u001B[0m\r\n",
      "\u001B[1m[\u001B[0m\u001B[34;49mnotice\u001B[0m\u001B[1;39;49m]\u001B[0m\u001B[39;49m A new release of pip is available: \u001B[0m\u001B[31;49m23.0.1\u001B[0m\u001B[39;49m -> \u001B[0m\u001B[32;49m23.2.1\u001B[0m\r\n",
      "\u001B[1m[\u001B[0m\u001B[34;49mnotice\u001B[0m\u001B[1;39;49m]\u001B[0m\u001B[39;49m To update, run: \u001B[0m\u001B[32;49mpython3 -m pip install --upgrade pip\u001B[0m\r\n",
      "Collecting chromadb\r\n",
      "  Downloading chromadb-0.4.5-py3-none-any.whl (402 kB)\r\n",
      "\u001B[2K     \u001B[90m━━━━━━━━━━━━━━━━━━━━━━━━━━━━━━━━━━━━━━━\u001B[0m \u001B[32m402.8/402.8 kB\u001B[0m \u001B[31m8.7 MB/s\u001B[0m eta \u001B[36m0:00:00\u001B[0ma \u001B[36m0:00:01\u001B[0m\r\n",
      "\u001B[?25hCollecting tqdm>=4.65.0\r\n",
      "  Downloading tqdm-4.65.1-py3-none-any.whl (93 kB)\r\n",
      "\u001B[2K     \u001B[90m━━━━━━━━━━━━━━━━━━━━━━━━━━━━━━━━━━━━━━━━\u001B[0m \u001B[32m93.2/93.2 kB\u001B[0m \u001B[31m25.5 MB/s\u001B[0m eta \u001B[36m0:00:00\u001B[0m\r\n",
      "\u001B[?25hCollecting fastapi<0.100.0,>=0.95.2\r\n",
      "  Downloading fastapi-0.99.1-py3-none-any.whl (58 kB)\r\n",
      "\u001B[2K     \u001B[90m━━━━━━━━━━━━━━━━━━━━━━━━━━━━━━━━━━━━━━━━\u001B[0m \u001B[32m58.4/58.4 kB\u001B[0m \u001B[31m13.9 MB/s\u001B[0m eta \u001B[36m0:00:00\u001B[0m\r\n",
      "\u001B[?25hRequirement already satisfied: numpy>=1.21.6 in /usr/local/lib/python3.10/dist-packages (from chromadb) (1.23.5)\r\n",
      "Collecting uvicorn[standard]>=0.18.3\r\n",
      "  Downloading uvicorn-0.23.2-py3-none-any.whl (59 kB)\r\n",
      "\u001B[2K     \u001B[90m━━━━━━━━━━━━━━━━━━━━━━━━━━━━━━━━━━━━━━━━\u001B[0m \u001B[32m59.5/59.5 kB\u001B[0m \u001B[31m16.1 MB/s\u001B[0m eta \u001B[36m0:00:00\u001B[0m\r\n",
      "\u001B[?25hRequirement already satisfied: tokenizers>=0.13.2 in /usr/local/lib/python3.10/dist-packages (from chromadb) (0.13.2)\r\n",
      "Requirement already satisfied: typing-extensions>=4.5.0 in /usr/local/lib/python3.10/dist-packages (from chromadb) (4.5.0)\r\n",
      "Collecting overrides>=7.3.1\r\n",
      "  Downloading overrides-7.4.0-py3-none-any.whl (17 kB)\r\n",
      "Collecting chroma-hnswlib==0.7.2\r\n",
      "  Downloading chroma-hnswlib-0.7.2.tar.gz (31 kB)\r\n",
      "  Installing build dependencies ... \u001B[?25ldone\r\n",
      "\u001B[?25h  Getting requirements to build wheel ... \u001B[?25ldone\r\n",
      "\u001B[?25h  Preparing metadata (pyproject.toml) ... \u001B[?25ldone\r\n",
      "\u001B[?25hCollecting pulsar-client>=3.1.0\r\n",
      "  Downloading pulsar_client-3.2.0-cp310-cp310-manylinux_2_17_x86_64.manylinux2014_x86_64.whl (5.3 MB)\r\n",
      "\u001B[2K     \u001B[90m━━━━━━━━━━━━━━━━━━━━━━━━━━━━━━━━━━━━━━━━\u001B[0m \u001B[32m5.3/5.3 MB\u001B[0m \u001B[31m31.4 MB/s\u001B[0m eta \u001B[36m0:00:00\u001B[0m00:01\u001B[0m00:01\u001B[0m\r\n",
      "\u001B[?25hRequirement already satisfied: requests>=2.28 in /usr/local/lib/python3.10/dist-packages (from chromadb) (2.28.2)\r\n",
      "Collecting onnxruntime>=1.14.1\r\n",
      "  Downloading onnxruntime-1.15.1-cp310-cp310-manylinux_2_17_x86_64.manylinux2014_x86_64.whl (5.9 MB)\r\n",
      "\u001B[2K     \u001B[90m━━━━━━━━━━━━━━━━━━━━━━━━━━━━━━━━━━━━━━━━\u001B[0m \u001B[32m5.9/5.9 MB\u001B[0m \u001B[31m51.3 MB/s\u001B[0m eta \u001B[36m0:00:00\u001B[0m00:01\u001B[0m00:01\u001B[0m\r\n",
      "\u001B[?25hRequirement already satisfied: pydantic<2.0,>=1.9 in /usr/local/lib/python3.10/dist-packages (from chromadb) (1.10.5)\r\n",
      "Collecting pypika>=0.48.9\r\n",
      "  Downloading PyPika-0.48.9.tar.gz (67 kB)\r\n",
      "\u001B[2K     \u001B[90m━━━━━━━━━━━━━━━━━━━━━━━━━━━━━━━━━━━━━━━━\u001B[0m \u001B[32m67.3/67.3 kB\u001B[0m \u001B[31m18.2 MB/s\u001B[0m eta \u001B[36m0:00:00\u001B[0m\r\n",
      "\u001B[?25h  Installing build dependencies ... \u001B[?25ldone\r\n",
      "\u001B[?25h  Getting requirements to build wheel ... \u001B[?25ldone\r\n",
      "\u001B[?25h  Preparing metadata (pyproject.toml) ... \u001B[?25ldone\r\n",
      "\u001B[?25hRequirement already satisfied: importlib-resources in /usr/local/lib/python3.10/dist-packages (from chromadb) (5.12.0)\r\n",
      "Collecting posthog>=2.4.0\r\n",
      "  Downloading posthog-3.0.1-py2.py3-none-any.whl (37 kB)\r\n",
      "Collecting starlette<0.28.0,>=0.27.0\r\n",
      "  Downloading starlette-0.27.0-py3-none-any.whl (66 kB)\r\n",
      "\u001B[2K     \u001B[90m━━━━━━━━━━━━━━━━━━━━━━━━━━━━━━━━━━━━━━━━\u001B[0m \u001B[32m67.0/67.0 kB\u001B[0m \u001B[31m17.7 MB/s\u001B[0m eta \u001B[36m0:00:00\u001B[0m\r\n",
      "\u001B[?25hCollecting sympy\r\n",
      "  Downloading sympy-1.12-py3-none-any.whl (5.7 MB)\r\n",
      "\u001B[2K     \u001B[90m━━━━━━━━━━━━━━━━━━━━━━━━━━━━━━━━━━━━━━━━\u001B[0m \u001B[32m5.7/5.7 MB\u001B[0m \u001B[31m63.0 MB/s\u001B[0m eta \u001B[36m0:00:00\u001B[0m00:01\u001B[0m00:01\u001B[0m\r\n",
      "\u001B[?25hRequirement already satisfied: packaging in /usr/local/lib/python3.10/dist-packages (from onnxruntime>=1.14.1->chromadb) (23.0)\r\n",
      "Requirement already satisfied: flatbuffers in /usr/local/lib/python3.10/dist-packages (from onnxruntime>=1.14.1->chromadb) (23.1.21)\r\n",
      "Requirement already satisfied: protobuf in /usr/local/lib/python3.10/dist-packages (from onnxruntime>=1.14.1->chromadb) (3.19.6)\r\n",
      "Collecting coloredlogs\r\n",
      "  Downloading coloredlogs-15.0.1-py2.py3-none-any.whl (46 kB)\r\n",
      "\u001B[2K     \u001B[90m━━━━━━━━━━━━━━━━━━━━━━━━━━━━━━━━━━━━━━━━\u001B[0m \u001B[32m46.0/46.0 kB\u001B[0m \u001B[31m11.7 MB/s\u001B[0m eta \u001B[36m0:00:00\u001B[0m\r\n",
      "\u001B[?25hCollecting backoff>=1.10.0\r\n",
      "  Downloading backoff-2.2.1-py3-none-any.whl (15 kB)\r\n",
      "Requirement already satisfied: six>=1.5 in /usr/local/lib/python3.10/dist-packages (from posthog>=2.4.0->chromadb) (1.16.0)\r\n",
      "Collecting monotonic>=1.5\r\n",
      "  Downloading monotonic-1.6-py2.py3-none-any.whl (8.2 kB)\r\n",
      "Requirement already satisfied: python-dateutil>2.1 in /usr/local/lib/python3.10/dist-packages (from posthog>=2.4.0->chromadb) (2.8.2)\r\n",
      "Requirement already satisfied: certifi in /usr/local/lib/python3.10/dist-packages (from pulsar-client>=3.1.0->chromadb) (2022.12.7)\r\n",
      "Requirement already satisfied: idna<4,>=2.5 in /usr/local/lib/python3.10/dist-packages (from requests>=2.28->chromadb) (3.4)\r\n",
      "Requirement already satisfied: charset-normalizer<4,>=2 in /usr/local/lib/python3.10/dist-packages (from requests>=2.28->chromadb) (3.0.1)\r\n",
      "Requirement already satisfied: urllib3<1.27,>=1.21.1 in /usr/local/lib/python3.10/dist-packages (from requests>=2.28->chromadb) (1.26.14)\r\n",
      "Requirement already satisfied: click>=7.0 in /usr/local/lib/python3.10/dist-packages (from uvicorn[standard]>=0.18.3->chromadb) (8.1.3)\r\n",
      "Collecting h11>=0.8\r\n",
      "  Downloading h11-0.14.0-py3-none-any.whl (58 kB)\r\n",
      "\u001B[2K     \u001B[90m━━━━━━━━━━━━━━━━━━━━━━━━━━━━━━━━━━━━━━━━\u001B[0m \u001B[32m58.3/58.3 kB\u001B[0m \u001B[31m15.4 MB/s\u001B[0m eta \u001B[36m0:00:00\u001B[0m\r\n",
      "\u001B[?25hCollecting uvloop!=0.15.0,!=0.15.1,>=0.14.0\r\n",
      "  Downloading uvloop-0.17.0-cp310-cp310-manylinux_2_17_x86_64.manylinux2014_x86_64.whl (4.1 MB)\r\n",
      "\u001B[2K     \u001B[90m━━━━━━━━━━━━━━━━━━━━━━━━━━━━━━━━━━━━━━━━\u001B[0m \u001B[32m4.1/4.1 MB\u001B[0m \u001B[31m72.8 MB/s\u001B[0m eta \u001B[36m0:00:00\u001B[0mta \u001B[36m0:00:01\u001B[0m\r\n",
      "\u001B[?25hCollecting watchfiles>=0.13\r\n",
      "  Downloading watchfiles-0.19.0-cp37-abi3-manylinux_2_17_x86_64.manylinux2014_x86_64.whl (1.3 MB)\r\n",
      "\u001B[2K     \u001B[90m━━━━━━━━━━━━━━━━━━━━━━━━━━━━━━━━━━━━━━━━\u001B[0m \u001B[32m1.3/1.3 MB\u001B[0m \u001B[31m80.7 MB/s\u001B[0m eta \u001B[36m0:00:00\u001B[0m\r\n",
      "\u001B[?25hCollecting python-dotenv>=0.13\r\n",
      "  Downloading python_dotenv-1.0.0-py3-none-any.whl (19 kB)\r\n",
      "Requirement already satisfied: pyyaml>=5.1 in /usr/local/lib/python3.10/dist-packages (from uvicorn[standard]>=0.18.3->chromadb) (6.0)\r\n",
      "Collecting httptools>=0.5.0\r\n",
      "  Downloading httptools-0.6.0-cp310-cp310-manylinux_2_5_x86_64.manylinux1_x86_64.manylinux_2_17_x86_64.manylinux2014_x86_64.whl (428 kB)\r\n",
      "\u001B[2K     \u001B[90m━━━━━━━━━━━━━━━━━━━━━━━━━━━━━━━━━━━━━━\u001B[0m \u001B[32m428.8/428.8 kB\u001B[0m \u001B[31m69.2 MB/s\u001B[0m eta \u001B[36m0:00:00\u001B[0m\r\n",
      "\u001B[?25hCollecting websockets>=10.4\r\n",
      "  Downloading websockets-11.0.3-cp310-cp310-manylinux_2_5_x86_64.manylinux1_x86_64.manylinux_2_17_x86_64.manylinux2014_x86_64.whl (129 kB)\r\n",
      "\u001B[2K     \u001B[90m━━━━━━━━━━━━━━━━━━━━━━━━━━━━━━━━━━━━━━\u001B[0m \u001B[32m129.9/129.9 kB\u001B[0m \u001B[31m34.1 MB/s\u001B[0m eta \u001B[36m0:00:00\u001B[0m\r\n",
      "\u001B[?25hRequirement already satisfied: anyio<5,>=3.4.0 in /usr/local/lib/python3.10/dist-packages (from starlette<0.28.0,>=0.27.0->fastapi<0.100.0,>=0.95.2->chromadb) (3.6.2)\r\n",
      "Collecting humanfriendly>=9.1\r\n",
      "  Downloading humanfriendly-10.0-py2.py3-none-any.whl (86 kB)\r\n",
      "\u001B[2K     \u001B[90m━━━━━━━━━━━━━━━━━━━━━━━━━━━━━━━━━━━━━━━━\u001B[0m \u001B[32m86.8/86.8 kB\u001B[0m \u001B[31m23.9 MB/s\u001B[0m eta \u001B[36m0:00:00\u001B[0m\r\n",
      "\u001B[?25hCollecting mpmath>=0.19\r\n",
      "  Downloading mpmath-1.3.0-py3-none-any.whl (536 kB)\r\n",
      "\u001B[2K     \u001B[90m━━━━━━━━━━━━━━━━━━━━━━━━━━━━━━━━━━━━━━\u001B[0m \u001B[32m536.2/536.2 kB\u001B[0m \u001B[31m64.8 MB/s\u001B[0m eta \u001B[36m0:00:00\u001B[0m\r\n",
      "\u001B[?25hRequirement already satisfied: sniffio>=1.1 in /usr/local/lib/python3.10/dist-packages (from anyio<5,>=3.4.0->starlette<0.28.0,>=0.27.0->fastapi<0.100.0,>=0.95.2->chromadb) (1.3.0)\r\n",
      "Building wheels for collected packages: chroma-hnswlib, pypika\r\n",
      "  Building wheel for chroma-hnswlib (pyproject.toml) ... \u001B[?25ldone\r\n",
      "\u001B[?25h  Created wheel for chroma-hnswlib: filename=chroma_hnswlib-0.7.2-cp310-cp310-linux_x86_64.whl size=2277725 sha256=2bcb87c4b6814ddd106c9e2b3563642d0f9e7dd00dc3fe724f1fa0f785ffc67d\r\n",
      "  Stored in directory: /root/.cache/pip/wheels/11/2b/0d/ee457f6782f75315bb5828d5c2dc5639d471afbd44a830b9dc\r\n",
      "  Building wheel for pypika (pyproject.toml) ... \u001B[?25ldone\r\n",
      "\u001B[?25h  Created wheel for pypika: filename=PyPika-0.48.9-py2.py3-none-any.whl size=53723 sha256=27f005abf0d66267f37437c76ea7f936c9f3cd14bdcffdd97b2a788f52b4faaa\r\n",
      "  Stored in directory: /root/.cache/pip/wheels/e1/26/51/d0bffb3d2fd82256676d7ad3003faea3bd6dddc9577af665f4\r\n",
      "Successfully built chroma-hnswlib pypika\r\n",
      "Installing collected packages: pypika, mpmath, monotonic, websockets, uvloop, tqdm, sympy, python-dotenv, pulsar-client, overrides, humanfriendly, httptools, h11, chroma-hnswlib, backoff, watchfiles, uvicorn, starlette, posthog, coloredlogs, onnxruntime, fastapi, chromadb\r\n",
      "  Attempting uninstall: tqdm\r\n",
      "    Found existing installation: tqdm 4.64.1\r\n",
      "    Uninstalling tqdm-4.64.1:\r\n",
      "      Successfully uninstalled tqdm-4.64.1\r\n",
      "Successfully installed backoff-2.2.1 chroma-hnswlib-0.7.2 chromadb-0.4.5 coloredlogs-15.0.1 fastapi-0.99.1 h11-0.14.0 httptools-0.6.0 humanfriendly-10.0 monotonic-1.6 mpmath-1.3.0 onnxruntime-1.15.1 overrides-7.4.0 posthog-3.0.1 pulsar-client-3.2.0 pypika-0.48.9 python-dotenv-1.0.0 starlette-0.27.0 sympy-1.12 tqdm-4.65.1 uvicorn-0.23.2 uvloop-0.17.0 watchfiles-0.19.0 websockets-11.0.3\r\n",
      "\u001B[33mWARNING: Running pip as the 'root' user can result in broken permissions and conflicting behaviour with the system package manager. It is recommended to use a virtual environment instead: https://pip.pypa.io/warnings/venv\u001B[0m\u001B[33m\r\n",
      "\u001B[0m\r\n",
      "\u001B[1m[\u001B[0m\u001B[34;49mnotice\u001B[0m\u001B[1;39;49m]\u001B[0m\u001B[39;49m A new release of pip is available: \u001B[0m\u001B[31;49m23.0.1\u001B[0m\u001B[39;49m -> \u001B[0m\u001B[32;49m23.2.1\u001B[0m\r\n",
      "\u001B[1m[\u001B[0m\u001B[34;49mnotice\u001B[0m\u001B[1;39;49m]\u001B[0m\u001B[39;49m To update, run: \u001B[0m\u001B[32;49mpython3 -m pip install --upgrade pip\u001B[0m\r\n"
     ]
    }
   ],
   "source": [
    "# ! pip install python-dotenv\n",
    "! pip install langchain\n",
    "! pip install langchain[docarray]\n",
    "! pip install tiktoken\n",
    "! pip install pinecone-client\n",
    "! pip install jq\n",
    "! pip install chromadb\n",
    "! pip install openai[embeddings]"
   ],
   "metadata": {
    "collapsed": false,
    "ExecuteTime": {
     "end_time": "2023-08-08T18:05:49.076506Z",
     "start_time": "2023-08-08T18:04:45.677232Z"
    }
   }
  },
  {
   "cell_type": "code",
   "execution_count": 3,
   "outputs": [],
   "source": [
    "import os"
   ],
   "metadata": {
    "collapsed": false,
    "ExecuteTime": {
     "end_time": "2023-08-08T18:05:49.087177Z",
     "start_time": "2023-08-08T18:05:49.081549Z"
    }
   }
  },
  {
   "cell_type": "code",
   "execution_count": 32,
   "outputs": [
    {
     "name": "stdout",
     "output_type": "stream",
     "text": [
      "Sure, here's a simple example of a Python script that trains a neural network using the Keras library with TensorFlow backend. The simulated data is generated using the numpy library. This script will create a simple feed-forward neural network that predicts a linear function.\n",
      "\n",
      "```python\n",
      "import numpy as np\n",
      "from keras.models import Sequential\n",
      "from keras.layers import Dense\n",
      "\n",
      "# Simulate some data\n",
      "np.random.seed(0)\n",
      "X = np.random.random((1000, 100))\n",
      "y = np.dot(X, np.random.random((100, 1))) + np.random.random((1000, 1))\n",
      "\n",
      "# Create a neural network model\n",
      "model = Sequential()\n",
      "model.add(Dense(32, activation='relu', input_dim=100))\n",
      "model.add(Dense(1))\n",
      "\n",
      "# Compile the model\n",
      "model.compile(optimizer='adam', loss='mean_squared_error')\n",
      "\n",
      "# Train the model\n",
      "model.fit(X, y, epochs=10, batch_size=32, validation_split=0.2)\n",
      "```\n",
      "\n",
      "This script first generates 1000 samples of 100-dimensional data, and then generates corresponding target values using a linear function with some noise. Then it creates a neural network with one hidden layer of 32 neurons, and an output layer of 1 neuron (since we're doing regression). The model is compiled with the Adam optimizer and the mean squared error loss function, which is a common choice for regression problems. Finally, the model is trained using the generated data, with 20% of the data used as a validation set.\n"
     ]
    }
   ],
   "source": [
    "from langchain.schema import (\n",
    "    AIMessage,\n",
    "    HumanMessage,\n",
    "    SystemMessage\n",
    ")\n",
    "from langchain.chat_models import ChatOpenAI\n",
    "\n",
    "\n",
    "llm = ChatOpenAI( model_name=\"gpt-4-0613\", temperature=0.3 )\n",
    "messages = [\n",
    "    SystemMessage( content=\"You are an expert data scientist\" ),\n",
    "    HumanMessage( content=\"Write a Python script that trains a neural network on simulated data \" )\n",
    "]\n",
    "response=llm( messages )\n",
    "\n",
    "print( response.content, end='\\n' )"
   ],
   "metadata": {
    "collapsed": false,
    "ExecuteTime": {
     "end_time": "2023-08-09T16:18:27.023424Z",
     "start_time": "2023-08-09T16:17:43.677035Z"
    }
   }
  },
  {
   "cell_type": "code",
   "execution_count": 33,
   "outputs": [
    {
     "name": "stdout",
     "output_type": "stream",
     "text": [
      "input_variables=['concept'] output_parser=None partial_variables={} messages=[HumanMessagePromptTemplate(prompt=PromptTemplate(input_variables=['concept'], output_parser=None, partial_variables={}, template='\\nYou are an expert data scientist with an expertise in building deep learning models.\\nExplain the concept of {concept} in a couple of lines\\n', template_format='f-string', validate_template=True), additional_kwargs={})]\n",
      "\n",
      "[HumanMessage(content='\\nYou are an expert data scientist with an expertise in building deep learning models.\\nExplain the concept of autoencoder in a couple of lines\\n', additional_kwargs={}, example=False)]\n",
      "\n",
      "[HumanMessage(content='\\nYou are an expert data scientist with an expertise in building deep learning models.\\nExplain the concept of regularization in a couple of lines\\n', additional_kwargs={}, example=False)]\n",
      "\n",
      "An autoencoder is a type of artificial neural network used for learning efficient codings of input data. It's designed to reconstruct its inputs, meaning it's trained to minimize the difference between the input and output, making it useful for dimensionality reduction, denoising, and anomaly detection.\n",
      "\n",
      "Regularization is a technique used in machine learning models to prevent overfitting by adding a penalty term to the loss function. This penalty discourages complex models by effectively reducing the number of parameters, thus making the model simpler and more generalizable to unseen data.\n",
      "\n"
     ]
    }
   ],
   "source": [
    "# Import prompt and define PromptTemplate\n",
    "\n",
    "from langchain.prompts import ChatPromptTemplate\n",
    "\n",
    "llm = ChatOpenAI( model_name=\"gpt-4-0613\", temperature=0.0 )\n",
    "llm\n",
    "\n",
    "template_string = \"\"\"\n",
    "You are an expert data scientist with an expertise in building deep learning models.\n",
    "Explain the concept of {concept} in a couple of lines\n",
    "\"\"\"\n",
    "\n",
    "event_prompt_template = ChatPromptTemplate.from_template( template_string )\n",
    "print( event_prompt_template, end=\"\\n\\n\" )\n",
    "\n",
    "prompt_autoencoder = event_prompt_template.format_messages( concept=\"autoencoder\" )\n",
    "print( prompt_autoencoder, end=\"\\n\\n\" )\n",
    "\n",
    "prompt_regularization = event_prompt_template.format_messages( concept=\"regularization\" )\n",
    "print( prompt_regularization, end=\"\\n\\n\" )\n",
    "\n",
    "response_autoencoder = llm( prompt_autoencoder )\n",
    "print( response_autoencoder.content, end=\"\\n\\n\" )\n",
    "\n",
    "response_regularization = llm( prompt_regularization )\n",
    "print( response_regularization.content, end=\"\\n\\n\" )"
   ],
   "metadata": {
    "collapsed": false,
    "ExecuteTime": {
     "end_time": "2023-08-09T16:20:22.783954Z",
     "start_time": "2023-08-09T16:20:10.174629Z"
    }
   }
  },
  {
   "cell_type": "code",
   "execution_count": 11,
   "outputs": [
    {
     "name": "stdout",
     "output_type": "stream",
     "text": [
      "Path [/var/genie-in-the-box/src/lib] already in sys.path\n"
     ]
    }
   ],
   "source": [
    "path = \"/var/genie-in-the-box/src/lib\"\n",
    "sys.path.append( path )\n",
    "import util as du\n",
    "du.add_to_path( path )\n",
    "# sys.path"
   ],
   "metadata": {
    "collapsed": false,
    "ExecuteTime": {
     "end_time": "2023-08-08T18:09:52.578437Z",
     "start_time": "2023-08-08T18:09:52.567198Z"
    }
   }
  },
  {
   "cell_type": "code",
   "execution_count": 12,
   "outputs": [
    {
     "name": "stdout",
     "output_type": "stream",
     "text": [
      "------------------------------------------------------------------------------------------------------------------------\n",
      "- foo?\n",
      "------------------------------------------------------------------------------------------------------------------------\n",
      "\n"
     ]
    }
   ],
   "source": [
    "# import util as du\n",
    "du.print_banner( \"foo?\" )"
   ],
   "metadata": {
    "collapsed": false,
    "ExecuteTime": {
     "end_time": "2023-08-08T18:09:54.363273Z",
     "start_time": "2023-08-08T18:09:54.345996Z"
    }
   }
  },
  {
   "cell_type": "code",
   "execution_count": 34,
   "outputs": [
    {
     "name": "stdout",
     "output_type": "stream",
     "text": [
      "An autoencoder is a type of artificial neural network used for learning efficient codings of input data. It's designed to reconstruct its input, where the model first encodes the input into a compressed representation, then decodes this representation back into the original format. Autoencoders are typically used for dimensionality reduction and feature extraction.\n"
     ]
    }
   ],
   "source": [
    "# Import LLMChain and define chain with language model and prompt as arguments.\n",
    "\n",
    "from langchain.chains import LLMChain\n",
    "chain = LLMChain( llm=llm, prompt=event_prompt_template )\n",
    "\n",
    "# Run the chain only specifying the input variable.\n",
    "print( chain.run( \"autoencoder\" ) )\n"
   ],
   "metadata": {
    "collapsed": false,
    "ExecuteTime": {
     "end_time": "2023-08-09T16:20:50.281928Z",
     "start_time": "2023-08-09T16:20:40.526725Z"
    }
   }
  },
  {
   "cell_type": "code",
   "execution_count": 35,
   "outputs": [],
   "source": [
    "from langchain.chains import RetrievalQA\n",
    "from langchain.document_loaders import JSONLoader\n",
    "from langchain.document_loaders import CSVLoader\n",
    "from langchain.vectorstores import DocArrayInMemorySearch\n",
    "from IPython.display import display, Markdown"
   ],
   "metadata": {
    "collapsed": false,
    "ExecuteTime": {
     "end_time": "2023-08-09T16:20:55.174256Z",
     "start_time": "2023-08-09T16:20:55.169754Z"
    }
   }
  },
  {
   "cell_type": "code",
   "execution_count": 36,
   "outputs": [],
   "source": [
    "import json\n",
    "from pathlib import Path\n",
    "from pprint import pprint\n",
    "\n",
    "file = '/var/genie-in-the-box/src/conf/long-term-memory/events.jsonl'\n",
    "jsonl_loader = JSONLoader( file_path=file, jq_schema=\"\", json_lines=True, text_content=False )\n",
    "\n",
    "file = '/var/genie-in-the-box/src/conf/long-term-memory/events.csv'\n",
    "csv_loader = CSVLoader( file_path=file )\n"
   ],
   "metadata": {
    "collapsed": false,
    "ExecuteTime": {
     "end_time": "2023-08-09T16:20:59.613237Z",
     "start_time": "2023-08-09T16:20:59.594625Z"
    }
   }
  },
  {
   "cell_type": "code",
   "execution_count": 16,
   "outputs": [
    {
     "name": "stdout",
     "output_type": "stream",
     "text": [
      "[Document(page_content='start_date: 2023-07-01\\nend_date: 2023-07-01\\nduration: 0\\nstart_time: 00:00\\nend_time: 23:59\\nevent_type: Conference\\nrecurrent: False\\nrecurrence_interval: \\ndescription: This is a conference.\\npriority_level: low', metadata={'source': '/var/genie-in-the-box/src/conf/long-term-memory/events.csv', 'row': 0}),\n",
      " Document(page_content='start_date: 2023-07-01\\nend_date: 2023-07-01\\nduration: 0\\nstart_time: 00:00\\nend_time: 23:59\\nevent_type: Performance\\nrecurrent: False\\nrecurrence_interval: \\ndescription: This is a performance.\\npriority_level: highest', metadata={'source': '/var/genie-in-the-box/src/conf/long-term-memory/events.csv', 'row': 1}),\n",
      " Document(page_content='start_date: 2023-07-02\\nend_date: 2023-07-02\\nduration: 0\\nstart_time: 00:00\\nend_time: 23:59\\nevent_type: Concert\\nrecurrent: False\\nrecurrence_interval: \\ndescription: This is a concert.\\npriority_level: low', metadata={'source': '/var/genie-in-the-box/src/conf/long-term-memory/events.csv', 'row': 2}),\n",
      " Document(page_content='start_date: 2023-07-02\\nend_date: 2023-07-05\\nduration: 3\\nstart_time: 02:38\\nend_time: 11:03\\nevent_type: Task\\nrecurrent: False\\nrecurrence_interval: \\ndescription: This is a task.\\npriority_level: highest', metadata={'source': '/var/genie-in-the-box/src/conf/long-term-memory/events.csv', 'row': 3}),\n",
      " Document(page_content='start_date: 2023-07-02\\nend_date: 2023-07-07\\nduration: 5\\nstart_time: 09:26\\nend_time: 04:56\\nevent_type: Workout\\nrecurrent: False\\nrecurrence_interval: \\ndescription: This is a workout.\\npriority_level: high', metadata={'source': '/var/genie-in-the-box/src/conf/long-term-memory/events.csv', 'row': 4}),\n",
      " Document(page_content='start_date: 2023-07-02\\nend_date: 2023-07-09\\nduration: 7\\nstart_time: 13:49\\nend_time: 06:49\\nevent_type: TODO\\nrecurrent: False\\nrecurrence_interval: \\ndescription: This is a todo.\\npriority_level: highest', metadata={'source': '/var/genie-in-the-box/src/conf/long-term-memory/events.csv', 'row': 5}),\n",
      " Document(page_content='start_date: 2023-07-02\\nend_date: 2023-07-05\\nduration: 3\\nstart_time: 20:45\\nend_time: 14:49\\nevent_type: Workout\\nrecurrent: False\\nrecurrence_interval: \\ndescription: This is a workout.\\npriority_level: none', metadata={'source': '/var/genie-in-the-box/src/conf/long-term-memory/events.csv', 'row': 6}),\n",
      " Document(page_content='start_date: 2023-07-03\\nend_date: 2023-07-04\\nduration: 1\\nstart_time: 03:20\\nend_time: 09:26\\nevent_type: TODO\\nrecurrent: False\\nrecurrence_interval: \\ndescription: This is a todo.\\npriority_level: highest', metadata={'source': '/var/genie-in-the-box/src/conf/long-term-memory/events.csv', 'row': 7}),\n",
      " Document(page_content='start_date: 2023-07-03\\nend_date: 2023-07-10\\nduration: 7\\nstart_time: 14:51\\nend_time: 03:18\\nevent_type: Task\\nrecurrent: False\\nrecurrence_interval: \\ndescription: This is a task.\\npriority_level: medium', metadata={'source': '/var/genie-in-the-box/src/conf/long-term-memory/events.csv', 'row': 8}),\n",
      " Document(page_content='start_date: 2023-07-03\\nend_date: 2023-07-10\\nduration: 7\\nstart_time: 16:52\\nend_time: 22:16\\nevent_type: Interview\\nrecurrent: False\\nrecurrence_interval: \\ndescription: This is a interview.\\npriority_level: none', metadata={'source': '/var/genie-in-the-box/src/conf/long-term-memory/events.csv', 'row': 9}),\n",
      " Document(page_content='start_date: 2023-07-04\\nend_date: 2023-07-04\\nduration: 0\\nstart_time: 10:00\\nend_time: 19:11\\nevent_type: TODO\\nrecurrent: False\\nrecurrence_interval: \\ndescription: This is a todo.\\npriority_level: high', metadata={'source': '/var/genie-in-the-box/src/conf/long-term-memory/events.csv', 'row': 10}),\n",
      " Document(page_content='start_date: 2023-07-04\\nend_date: 2023-07-09\\nduration: 5\\nstart_time: 18:06\\nend_time: 08:32\\nevent_type: Workout\\nrecurrent: False\\nrecurrence_interval: \\ndescription: This is a workout.\\npriority_level: medium', metadata={'source': '/var/genie-in-the-box/src/conf/long-term-memory/events.csv', 'row': 11}),\n",
      " Document(page_content='start_date: 2023-07-05\\nend_date: 2023-07-05\\nduration: 0\\nstart_time: 00:00\\nend_time: 23:59\\nevent_type: Performance\\nrecurrent: False\\nrecurrence_interval: \\ndescription: This is a performance.\\npriority_level: low', metadata={'source': '/var/genie-in-the-box/src/conf/long-term-memory/events.csv', 'row': 12}),\n",
      " Document(page_content='start_date: 2023-07-05\\nend_date: 2023-07-05\\nduration: 0\\nstart_time: 03:44\\nend_time: 03:41\\nevent_type: Meeting\\nrecurrent: False\\nrecurrence_interval: \\ndescription: This is a meeting.\\npriority_level: medium', metadata={'source': '/var/genie-in-the-box/src/conf/long-term-memory/events.csv', 'row': 13}),\n",
      " Document(page_content='start_date: 2023-07-05\\nend_date: 2023-07-05\\nduration: 0\\nstart_time: 09:52\\nend_time: 12:03\\nevent_type: Workshop\\nrecurrent: False\\nrecurrence_interval: \\ndescription: This is a workshop.\\npriority_level: none', metadata={'source': '/var/genie-in-the-box/src/conf/long-term-memory/events.csv', 'row': 14}),\n",
      " Document(page_content='start_date: 2023-07-05\\nend_date: 2023-07-05\\nduration: 0\\nstart_time: 14:04\\nend_time: 20:18\\nevent_type: Task\\nrecurrent: False\\nrecurrence_interval: \\ndescription: This is a task.\\npriority_level: highest', metadata={'source': '/var/genie-in-the-box/src/conf/long-term-memory/events.csv', 'row': 15}),\n",
      " Document(page_content='start_date: 2023-07-06\\nend_date: 2023-07-07\\nduration: 1\\nstart_time: 00:00\\nend_time: 23:59\\nevent_type: Concert\\nrecurrent: False\\nrecurrence_interval: \\ndescription: This is a concert.\\npriority_level: highest', metadata={'source': '/var/genie-in-the-box/src/conf/long-term-memory/events.csv', 'row': 16}),\n",
      " Document(page_content=\"start_date: 2023-07-06\\nend_date: 2023-07-06\\nduration: 0\\nstart_time: 00:00\\nend_time: 23:59\\nevent_type: Anniversary\\nrecurrent: True\\nrecurrence_interval: 1 day\\ndescription: Bob (brother)'s anniversary\\npriority_level: highest\", metadata={'source': '/var/genie-in-the-box/src/conf/long-term-memory/events.csv', 'row': 17}),\n",
      " Document(page_content=\"start_date: 2023-07-06\\nend_date: 2023-07-07\\nduration: 1\\nstart_time: 00:00\\nend_time: 23:59\\nevent_type: Birthday\\nrecurrent: True\\nrecurrence_interval: 2 year\\ndescription: Tom Ruiz (brother)'s birthday\\npriority_level: high\", metadata={'source': '/var/genie-in-the-box/src/conf/long-term-memory/events.csv', 'row': 18}),\n",
      " Document(page_content='start_date: 2023-07-06\\nend_date: 2023-07-07\\nduration: 1\\nstart_time: 17:13\\nend_time: 05:59\\nevent_type: TODO\\nrecurrent: False\\nrecurrence_interval: \\ndescription: This is a todo.\\npriority_level: highest', metadata={'source': '/var/genie-in-the-box/src/conf/long-term-memory/events.csv', 'row': 19}),\n",
      " Document(page_content='start_date: 2023-07-07\\nend_date: 2023-07-07\\nduration: 0\\nstart_time: 00:00\\nend_time: 23:59\\nevent_type: Conference\\nrecurrent: False\\nrecurrence_interval: \\ndescription: This is a conference.\\npriority_level: medium', metadata={'source': '/var/genie-in-the-box/src/conf/long-term-memory/events.csv', 'row': 20}),\n",
      " Document(page_content='start_date: 2023-07-07\\nend_date: 2023-07-08\\nduration: 1\\nstart_time: 00:00\\nend_time: 23:59\\nevent_type: Concert\\nrecurrent: False\\nrecurrence_interval: \\ndescription: This is a concert.\\npriority_level: high', metadata={'source': '/var/genie-in-the-box/src/conf/long-term-memory/events.csv', 'row': 21}),\n",
      " Document(page_content='start_date: 2023-07-07\\nend_date: 2023-07-14\\nduration: 7\\nstart_time: 00:00\\nend_time: 23:59\\nevent_type: Concert\\nrecurrent: False\\nrecurrence_interval: \\ndescription: This is a concert.\\npriority_level: highest', metadata={'source': '/var/genie-in-the-box/src/conf/long-term-memory/events.csv', 'row': 22}),\n",
      " Document(page_content='start_date: 2023-07-07\\nend_date: 2023-07-07\\nduration: 0\\nstart_time: 08:58\\nend_time: 23:53\\nevent_type: Meeting\\nrecurrent: False\\nrecurrence_interval: \\ndescription: This is a meeting.\\npriority_level: highest', metadata={'source': '/var/genie-in-the-box/src/conf/long-term-memory/events.csv', 'row': 23}),\n",
      " Document(page_content='start_date: 2023-07-07\\nend_date: 2023-07-10\\nduration: 3\\nstart_time: 08:59\\nend_time: 04:35\\nevent_type: Interview\\nrecurrent: False\\nrecurrence_interval: \\ndescription: This is a interview.\\npriority_level: none', metadata={'source': '/var/genie-in-the-box/src/conf/long-term-memory/events.csv', 'row': 24}),\n",
      " Document(page_content=\"start_date: 2023-07-08\\nend_date: 2023-07-08\\nduration: 0\\nstart_time: 00:00\\nend_time: 23:59\\nevent_type: Anniversary\\nrecurrent: True\\nrecurrence_interval: 3 year\\ndescription: Tom Ruiz (brother)'s anniversary\\npriority_level: low\", metadata={'source': '/var/genie-in-the-box/src/conf/long-term-memory/events.csv', 'row': 25}),\n",
      " Document(page_content=\"start_date: 2023-07-08\\nend_date: 2023-07-15\\nduration: 7\\nstart_time: 00:00\\nend_time: 23:59\\nevent_type: Anniversary\\nrecurrent: True\\nrecurrence_interval: 5 week\\ndescription: Bob (brother)'s anniversary\\npriority_level: medium\", metadata={'source': '/var/genie-in-the-box/src/conf/long-term-memory/events.csv', 'row': 26}),\n",
      " Document(page_content=\"start_date: 2023-07-08\\nend_date: 2023-07-08\\nduration: 0\\nstart_time: 00:00\\nend_time: 23:59\\nevent_type: Anniversary\\nrecurrent: True\\nrecurrence_interval: 5 year\\ndescription: John (coworker)'s anniversary\\npriority_level: low\", metadata={'source': '/var/genie-in-the-box/src/conf/long-term-memory/events.csv', 'row': 27}),\n",
      " Document(page_content='start_date: 2023-07-08\\nend_date: 2023-07-08\\nduration: 0\\nstart_time: 00:00\\nend_time: 23:59\\nevent_type: Concert\\nrecurrent: False\\nrecurrence_interval: \\ndescription: This is a concert.\\npriority_level: low', metadata={'source': '/var/genie-in-the-box/src/conf/long-term-memory/events.csv', 'row': 28}),\n",
      " Document(page_content='start_date: 2023-07-08\\nend_date: 2023-07-08\\nduration: 0\\nstart_time: 07:07\\nend_time: 01:59\\nevent_type: TODO\\nrecurrent: False\\nrecurrence_interval: \\ndescription: This is a todo.\\npriority_level: highest', metadata={'source': '/var/genie-in-the-box/src/conf/long-term-memory/events.csv', 'row': 29}),\n",
      " Document(page_content=\"start_date: 2023-07-09\\nend_date: 2023-07-09\\nduration: 0\\nstart_time: 00:00\\nend_time: 23:59\\nevent_type: Birthday\\nrecurrent: True\\nrecurrence_interval: 2 year\\ndescription: Bob (brother)'s birthday\\npriority_level: high\", metadata={'source': '/var/genie-in-the-box/src/conf/long-term-memory/events.csv', 'row': 30}),\n",
      " Document(page_content='start_date: 2023-07-09\\nend_date: 2023-07-14\\nduration: 5\\nstart_time: 00:35\\nend_time: 21:39\\nevent_type: Workshop\\nrecurrent: False\\nrecurrence_interval: \\ndescription: This is a workshop.\\npriority_level: low', metadata={'source': '/var/genie-in-the-box/src/conf/long-term-memory/events.csv', 'row': 31}),\n",
      " Document(page_content='start_date: 2023-07-09\\nend_date: 2023-07-09\\nduration: 0\\nstart_time: 03:56\\nend_time: 18:20\\nevent_type: Workout\\nrecurrent: False\\nrecurrence_interval: \\ndescription: This is a workout.\\npriority_level: none', metadata={'source': '/var/genie-in-the-box/src/conf/long-term-memory/events.csv', 'row': 32}),\n",
      " Document(page_content='start_date: 2023-07-09\\nend_date: 2023-07-09\\nduration: 0\\nstart_time: 13:02\\nend_time: 11:09\\nevent_type: Workout\\nrecurrent: False\\nrecurrence_interval: \\ndescription: This is a workout.\\npriority_level: none', metadata={'source': '/var/genie-in-the-box/src/conf/long-term-memory/events.csv', 'row': 33}),\n",
      " Document(page_content=\"start_date: 2023-07-10\\nend_date: 2023-07-15\\nduration: 5\\nstart_time: 00:00\\nend_time: 23:59\\nevent_type: Birthday\\nrecurrent: True\\nrecurrence_interval: 1 year\\ndescription: Jenny (coworker)'s birthday\\npriority_level: highest\", metadata={'source': '/var/genie-in-the-box/src/conf/long-term-memory/events.csv', 'row': 34}),\n",
      " Document(page_content='start_date: 2023-07-10\\nend_date: 2023-07-13\\nduration: 3\\nstart_time: 00:00\\nend_time: 23:59\\nevent_type: Concert\\nrecurrent: False\\nrecurrence_interval: \\ndescription: This is a concert.\\npriority_level: low', metadata={'source': '/var/genie-in-the-box/src/conf/long-term-memory/events.csv', 'row': 35}),\n",
      " Document(page_content='start_date: 2023-07-11\\nend_date: 2023-07-12\\nduration: 1\\nstart_time: 01:34\\nend_time: 18:35\\nevent_type: Interview\\nrecurrent: False\\nrecurrence_interval: \\ndescription: This is a interview.\\npriority_level: highest', metadata={'source': '/var/genie-in-the-box/src/conf/long-term-memory/events.csv', 'row': 36}),\n",
      " Document(page_content='start_date: 2023-07-12\\nend_date: 2023-07-17\\nduration: 5\\nstart_time: 00:00\\nend_time: 23:59\\nevent_type: Concert\\nrecurrent: False\\nrecurrence_interval: \\ndescription: This is a concert.\\npriority_level: highest', metadata={'source': '/var/genie-in-the-box/src/conf/long-term-memory/events.csv', 'row': 37}),\n",
      " Document(page_content=\"start_date: 2023-07-13\\nend_date: 2023-07-20\\nduration: 7\\nstart_time: 00:00\\nend_time: 23:59\\nevent_type: Birthday\\nrecurrent: True\\nrecurrence_interval: 5 day\\ndescription: Tom Ruiz (brother)'s birthday\\npriority_level: high\", metadata={'source': '/var/genie-in-the-box/src/conf/long-term-memory/events.csv', 'row': 38}),\n",
      " Document(page_content='start_date: 2023-07-13\\nend_date: 2023-07-13\\nduration: 0\\nstart_time: 00:00\\nend_time: 23:59\\nevent_type: Conference\\nrecurrent: False\\nrecurrence_interval: \\ndescription: This is a conference.\\npriority_level: none', metadata={'source': '/var/genie-in-the-box/src/conf/long-term-memory/events.csv', 'row': 39}),\n",
      " Document(page_content='start_date: 2023-07-13\\nend_date: 2023-07-13\\nduration: 0\\nstart_time: 08:20\\nend_time: 18:13\\nevent_type: Task\\nrecurrent: False\\nrecurrence_interval: \\ndescription: This is a task.\\npriority_level: high', metadata={'source': '/var/genie-in-the-box/src/conf/long-term-memory/events.csv', 'row': 40}),\n",
      " Document(page_content=\"start_date: 2023-07-14\\nend_date: 2023-07-14\\nduration: 0\\nstart_time: 00:00\\nend_time: 23:59\\nevent_type: Birthday\\nrecurrent: True\\nrecurrence_interval: 5 day\\ndescription: John (coworker)'s birthday\\npriority_level: highest\", metadata={'source': '/var/genie-in-the-box/src/conf/long-term-memory/events.csv', 'row': 41}),\n",
      " Document(page_content='start_date: 2023-07-15\\nend_date: 2023-07-15\\nduration: 0\\nstart_time: 16:54\\nend_time: 19:36\\nevent_type: Workshop\\nrecurrent: False\\nrecurrence_interval: \\ndescription: This is a workshop.\\npriority_level: none', metadata={'source': '/var/genie-in-the-box/src/conf/long-term-memory/events.csv', 'row': 42}),\n",
      " Document(page_content='start_date: 2023-07-16\\nend_date: 2023-07-16\\nduration: 0\\nstart_time: 01:25\\nend_time: 05:36\\nevent_type: Appointment\\nrecurrent: False\\nrecurrence_interval: \\ndescription: This is a appointment.\\npriority_level: highest', metadata={'source': '/var/genie-in-the-box/src/conf/long-term-memory/events.csv', 'row': 43}),\n",
      " Document(page_content='start_date: 2023-07-16\\nend_date: 2023-07-16\\nduration: 0\\nstart_time: 14:11\\nend_time: 18:11\\nevent_type: Interview\\nrecurrent: False\\nrecurrence_interval: \\ndescription: This is a interview.\\npriority_level: medium', metadata={'source': '/var/genie-in-the-box/src/conf/long-term-memory/events.csv', 'row': 44}),\n",
      " Document(page_content='start_date: 2023-07-16\\nend_date: 2023-07-16\\nduration: 0\\nstart_time: 20:05\\nend_time: 19:46\\nevent_type: Workshop\\nrecurrent: False\\nrecurrence_interval: \\ndescription: This is a workshop.\\npriority_level: highest', metadata={'source': '/var/genie-in-the-box/src/conf/long-term-memory/events.csv', 'row': 45}),\n",
      " Document(page_content='start_date: 2023-07-16\\nend_date: 2023-07-17\\nduration: 1\\nstart_time: 23:05\\nend_time: 00:01\\nevent_type: TODO\\nrecurrent: False\\nrecurrence_interval: \\ndescription: This is a todo.\\npriority_level: high', metadata={'source': '/var/genie-in-the-box/src/conf/long-term-memory/events.csv', 'row': 46}),\n",
      " Document(page_content=\"start_date: 2023-07-18\\nend_date: 2023-07-18\\nduration: 0\\nstart_time: 00:00\\nend_time: 23:59\\nevent_type: Birthday\\nrecurrent: True\\nrecurrence_interval: 3 year\\ndescription: Pablo (friend)'s birthday\\npriority_level: low\", metadata={'source': '/var/genie-in-the-box/src/conf/long-term-memory/events.csv', 'row': 47}),\n",
      " Document(page_content='start_date: 2023-07-18\\nend_date: 2023-07-18\\nduration: 0\\nstart_time: 00:00\\nend_time: 23:59\\nevent_type: Subscription\\nrecurrent: True\\nrecurrence_interval: 5 day\\ndescription: This is a subscription.\\npriority_level: highest', metadata={'source': '/var/genie-in-the-box/src/conf/long-term-memory/events.csv', 'row': 48}),\n",
      " Document(page_content='start_date: 2023-07-18\\nend_date: 2023-07-18\\nduration: 0\\nstart_time: 00:30\\nend_time: 04:55\\nevent_type: Appointment\\nrecurrent: False\\nrecurrence_interval: \\ndescription: This is a appointment.\\npriority_level: highest', metadata={'source': '/var/genie-in-the-box/src/conf/long-term-memory/events.csv', 'row': 49}),\n",
      " Document(page_content='start_date: 2023-07-18\\nend_date: 2023-07-25\\nduration: 7\\nstart_time: 03:11\\nend_time: 20:37\\nevent_type: Appointment\\nrecurrent: False\\nrecurrence_interval: \\ndescription: This is a appointment.\\npriority_level: none', metadata={'source': '/var/genie-in-the-box/src/conf/long-term-memory/events.csv', 'row': 50}),\n",
      " Document(page_content='start_date: 2023-07-19\\nend_date: 2023-07-20\\nduration: 1\\nstart_time: 22:13\\nend_time: 10:07\\nevent_type: Task\\nrecurrent: False\\nrecurrence_interval: \\ndescription: This is a task.\\npriority_level: high', metadata={'source': '/var/genie-in-the-box/src/conf/long-term-memory/events.csv', 'row': 51}),\n",
      " Document(page_content=\"start_date: 2023-07-20\\nend_date: 2023-07-20\\nduration: 0\\nstart_time: 00:00\\nend_time: 23:59\\nevent_type: Anniversary\\nrecurrent: True\\nrecurrence_interval: 5 day\\ndescription: Inash (girlfriend)'s anniversary\\npriority_level: low\", metadata={'source': '/var/genie-in-the-box/src/conf/long-term-memory/events.csv', 'row': 52}),\n",
      " Document(page_content='start_date: 2023-07-20\\nend_date: 2023-07-25\\nduration: 5\\nstart_time: 02:37\\nend_time: 21:54\\nevent_type: Workout\\nrecurrent: False\\nrecurrence_interval: \\ndescription: This is a workout.\\npriority_level: highest', metadata={'source': '/var/genie-in-the-box/src/conf/long-term-memory/events.csv', 'row': 53}),\n",
      " Document(page_content='start_date: 2023-07-20\\nend_date: 2023-07-27\\nduration: 7\\nstart_time: 10:06\\nend_time: 17:46\\nevent_type: Interview\\nrecurrent: False\\nrecurrence_interval: \\ndescription: This is a interview.\\npriority_level: high', metadata={'source': '/var/genie-in-the-box/src/conf/long-term-memory/events.csv', 'row': 54}),\n",
      " Document(page_content='start_date: 2023-07-21\\nend_date: 2023-07-28\\nduration: 7\\nstart_time: 16:14\\nend_time: 00:57\\nevent_type: Appointment\\nrecurrent: False\\nrecurrence_interval: \\ndescription: This is a appointment.\\npriority_level: none', metadata={'source': '/var/genie-in-the-box/src/conf/long-term-memory/events.csv', 'row': 55}),\n",
      " Document(page_content='start_date: 2023-07-22\\nend_date: 2023-07-22\\nduration: 0\\nstart_time: 00:00\\nend_time: 23:59\\nevent_type: Subscription\\nrecurrent: True\\nrecurrence_interval: 3 year\\ndescription: This is a subscription.\\npriority_level: medium', metadata={'source': '/var/genie-in-the-box/src/conf/long-term-memory/events.csv', 'row': 56}),\n",
      " Document(page_content='start_date: 2023-07-23\\nend_date: 2023-07-23\\nduration: 0\\nstart_time: 00:00\\nend_time: 23:59\\nevent_type: Concert\\nrecurrent: False\\nrecurrence_interval: \\ndescription: This is a concert.\\npriority_level: highest', metadata={'source': '/var/genie-in-the-box/src/conf/long-term-memory/events.csv', 'row': 57}),\n",
      " Document(page_content='start_date: 2023-07-23\\nend_date: 2023-07-26\\nduration: 3\\nstart_time: 00:00\\nend_time: 23:59\\nevent_type: Performance\\nrecurrent: False\\nrecurrence_interval: \\ndescription: This is a performance.\\npriority_level: high', metadata={'source': '/var/genie-in-the-box/src/conf/long-term-memory/events.csv', 'row': 58}),\n",
      " Document(page_content='start_date: 2023-07-23\\nend_date: 2023-07-23\\nduration: 0\\nstart_time: 10:52\\nend_time: 23:48\\nevent_type: Task\\nrecurrent: False\\nrecurrence_interval: \\ndescription: This is a task.\\npriority_level: medium', metadata={'source': '/var/genie-in-the-box/src/conf/long-term-memory/events.csv', 'row': 59}),\n",
      " Document(page_content='start_date: 2023-07-23\\nend_date: 2023-07-23\\nduration: 0\\nstart_time: 16:44\\nend_time: 22:50\\nevent_type: Appointment\\nrecurrent: False\\nrecurrence_interval: \\ndescription: This is a appointment.\\npriority_level: low', metadata={'source': '/var/genie-in-the-box/src/conf/long-term-memory/events.csv', 'row': 60}),\n",
      " Document(page_content='start_date: 2023-07-24\\nend_date: 2023-07-31\\nduration: 7\\nstart_time: 00:40\\nend_time: 05:37\\nevent_type: TODO\\nrecurrent: False\\nrecurrence_interval: \\ndescription: This is a todo.\\npriority_level: none', metadata={'source': '/var/genie-in-the-box/src/conf/long-term-memory/events.csv', 'row': 61}),\n",
      " Document(page_content='start_date: 2023-07-24\\nend_date: 2023-07-24\\nduration: 0\\nstart_time: 00:53\\nend_time: 07:08\\nevent_type: TODO\\nrecurrent: False\\nrecurrence_interval: \\ndescription: This is a todo.\\npriority_level: medium', metadata={'source': '/var/genie-in-the-box/src/conf/long-term-memory/events.csv', 'row': 62}),\n",
      " Document(page_content='start_date: 2023-07-24\\nend_date: 2023-07-25\\nduration: 1\\nstart_time: 05:36\\nend_time: 13:15\\nevent_type: Appointment\\nrecurrent: False\\nrecurrence_interval: \\ndescription: This is a appointment.\\npriority_level: highest', metadata={'source': '/var/genie-in-the-box/src/conf/long-term-memory/events.csv', 'row': 63}),\n",
      " Document(page_content='start_date: 2023-07-25\\nend_date: 2023-07-28\\nduration: 3\\nstart_time: 01:55\\nend_time: 09:49\\nevent_type: Workshop\\nrecurrent: False\\nrecurrence_interval: \\ndescription: This is a workshop.\\npriority_level: highest', metadata={'source': '/var/genie-in-the-box/src/conf/long-term-memory/events.csv', 'row': 64}),\n",
      " Document(page_content='start_date: 2023-07-25\\nend_date: 2023-07-25\\nduration: 0\\nstart_time: 02:16\\nend_time: 06:58\\nevent_type: Appointment\\nrecurrent: False\\nrecurrence_interval: \\ndescription: This is a appointment.\\npriority_level: high', metadata={'source': '/var/genie-in-the-box/src/conf/long-term-memory/events.csv', 'row': 65}),\n",
      " Document(page_content=\"start_date: 2023-07-26\\nend_date: 2023-07-31\\nduration: 5\\nstart_time: 00:00\\nend_time: 23:59\\nevent_type: Anniversary\\nrecurrent: True\\nrecurrence_interval: 4 year\\ndescription: Sally (sister)'s anniversary\\npriority_level: none\", metadata={'source': '/var/genie-in-the-box/src/conf/long-term-memory/events.csv', 'row': 66}),\n",
      " Document(page_content='start_date: 2023-07-26\\nend_date: 2023-07-26\\nduration: 0\\nstart_time: 00:00\\nend_time: 23:59\\nevent_type: Performance\\nrecurrent: False\\nrecurrence_interval: \\ndescription: This is a performance.\\npriority_level: none', metadata={'source': '/var/genie-in-the-box/src/conf/long-term-memory/events.csv', 'row': 67}),\n",
      " Document(page_content='start_date: 2023-07-26\\nend_date: 2023-07-31\\nduration: 5\\nstart_time: 00:00\\nend_time: 23:59\\nevent_type: Concert\\nrecurrent: False\\nrecurrence_interval: \\ndescription: This is a concert.\\npriority_level: low', metadata={'source': '/var/genie-in-the-box/src/conf/long-term-memory/events.csv', 'row': 68}),\n",
      " Document(page_content='start_date: 2023-07-26\\nend_date: 2023-07-26\\nduration: 0\\nstart_time: 00:00\\nend_time: 23:59\\nevent_type: Conference\\nrecurrent: False\\nrecurrence_interval: \\ndescription: This is a conference.\\npriority_level: highest', metadata={'source': '/var/genie-in-the-box/src/conf/long-term-memory/events.csv', 'row': 69}),\n",
      " Document(page_content='start_date: 2023-07-26\\nend_date: 2023-07-31\\nduration: 5\\nstart_time: 21:54\\nend_time: 06:08\\nevent_type: Workout\\nrecurrent: False\\nrecurrence_interval: \\ndescription: This is a workout.\\npriority_level: low', metadata={'source': '/var/genie-in-the-box/src/conf/long-term-memory/events.csv', 'row': 70}),\n",
      " Document(page_content=\"start_date: 2023-07-27\\nend_date: 2023-07-27\\nduration: 0\\nstart_time: 00:00\\nend_time: 23:59\\nevent_type: Anniversary\\nrecurrent: True\\nrecurrence_interval: 2 week\\ndescription: Gregorio (friend)'s anniversary\\npriority_level: high\", metadata={'source': '/var/genie-in-the-box/src/conf/long-term-memory/events.csv', 'row': 71}),\n",
      " Document(page_content='start_date: 2023-07-27\\nend_date: 2023-07-30\\nduration: 3\\nstart_time: 00:00\\nend_time: 23:59\\nevent_type: Subscription\\nrecurrent: True\\nrecurrence_interval: 3 day\\ndescription: This is a subscription.\\npriority_level: low', metadata={'source': '/var/genie-in-the-box/src/conf/long-term-memory/events.csv', 'row': 72}),\n",
      " Document(page_content='start_date: 2023-07-27\\nend_date: 2023-07-28\\nduration: 1\\nstart_time: 05:03\\nend_time: 06:50\\nevent_type: TODO\\nrecurrent: False\\nrecurrence_interval: \\ndescription: This is a todo.\\npriority_level: highest', metadata={'source': '/var/genie-in-the-box/src/conf/long-term-memory/events.csv', 'row': 73}),\n",
      " Document(page_content='start_date: 2023-07-27\\nend_date: 2023-07-27\\nduration: 0\\nstart_time: 22:07\\nend_time: 03:01\\nevent_type: TODO\\nrecurrent: False\\nrecurrence_interval: \\ndescription: This is a todo.\\npriority_level: low', metadata={'source': '/var/genie-in-the-box/src/conf/long-term-memory/events.csv', 'row': 74}),\n",
      " Document(page_content='start_date: 2023-07-28\\nend_date: 2023-08-04\\nduration: 7\\nstart_time: 00:00\\nend_time: 23:59\\nevent_type: Concert\\nrecurrent: False\\nrecurrence_interval: \\ndescription: This is a concert.\\npriority_level: high', metadata={'source': '/var/genie-in-the-box/src/conf/long-term-memory/events.csv', 'row': 75}),\n",
      " Document(page_content=\"start_date: 2023-07-28\\nend_date: 2023-07-28\\nduration: 0\\nstart_time: 00:00\\nend_time: 23:59\\nevent_type: Anniversary\\nrecurrent: True\\nrecurrence_interval: 2 week\\ndescription: Alice (aunt)'s anniversary\\npriority_level: none\", metadata={'source': '/var/genie-in-the-box/src/conf/long-term-memory/events.csv', 'row': 76}),\n",
      " Document(page_content='start_date: 2023-07-28\\nend_date: 2023-07-31\\nduration: 3\\nstart_time: 02:22\\nend_time: 08:46\\nevent_type: Workshop\\nrecurrent: False\\nrecurrence_interval: \\ndescription: This is a workshop.\\npriority_level: none', metadata={'source': '/var/genie-in-the-box/src/conf/long-term-memory/events.csv', 'row': 77}),\n",
      " Document(page_content='start_date: 2023-07-28\\nend_date: 2023-07-31\\nduration: 3\\nstart_time: 20:14\\nend_time: 01:33\\nevent_type: Interview\\nrecurrent: False\\nrecurrence_interval: \\ndescription: This is a interview.\\npriority_level: highest', metadata={'source': '/var/genie-in-the-box/src/conf/long-term-memory/events.csv', 'row': 78}),\n",
      " Document(page_content=\"start_date: 2023-07-29\\nend_date: 2023-07-29\\nduration: 0\\nstart_time: 00:00\\nend_time: 23:59\\nevent_type: Anniversary\\nrecurrent: True\\nrecurrence_interval: 4 week\\ndescription: Inash (girlfriend)'s anniversary\\npriority_level: low\", metadata={'source': '/var/genie-in-the-box/src/conf/long-term-memory/events.csv', 'row': 79}),\n",
      " Document(page_content='start_date: 2023-07-30\\nend_date: 2023-08-02\\nduration: 3\\nstart_time: 07:36\\nend_time: 00:01\\nevent_type: Workshop\\nrecurrent: False\\nrecurrence_interval: \\ndescription: This is a workshop.\\npriority_level: medium', metadata={'source': '/var/genie-in-the-box/src/conf/long-term-memory/events.csv', 'row': 80}),\n",
      " Document(page_content='start_date: 2023-07-30\\nend_date: 2023-07-30\\nduration: 0\\nstart_time: 22:13\\nend_time: 22:08\\nevent_type: Appointment\\nrecurrent: False\\nrecurrence_interval: \\ndescription: This is a appointment.\\npriority_level: medium', metadata={'source': '/var/genie-in-the-box/src/conf/long-term-memory/events.csv', 'row': 81}),\n",
      " Document(page_content='start_date: 2023-07-31\\nend_date: 2023-08-01\\nduration: 1\\nstart_time: 00:00\\nend_time: 23:59\\nevent_type: Concert\\nrecurrent: False\\nrecurrence_interval: \\ndescription: This is a concert.\\npriority_level: highest', metadata={'source': '/var/genie-in-the-box/src/conf/long-term-memory/events.csv', 'row': 82}),\n",
      " Document(page_content='start_date: 2023-07-31\\nend_date: 2023-08-03\\nduration: 3\\nstart_time: 22:00\\nend_time: 14:55\\nevent_type: Task\\nrecurrent: False\\nrecurrence_interval: \\ndescription: This is a task.\\npriority_level: none', metadata={'source': '/var/genie-in-the-box/src/conf/long-term-memory/events.csv', 'row': 83}),\n",
      " Document(page_content='start_date: 2023-08-01\\nend_date: 2023-08-01\\nduration: 0\\nstart_time: 00:00\\nend_time: 23:59\\nevent_type: Subscription\\nrecurrent: True\\nrecurrence_interval: 1 week\\ndescription: This is a subscription.\\npriority_level: none', metadata={'source': '/var/genie-in-the-box/src/conf/long-term-memory/events.csv', 'row': 84}),\n",
      " Document(page_content='start_date: 2023-08-01\\nend_date: 2023-08-01\\nduration: 0\\nstart_time: 00:00\\nend_time: 23:59\\nevent_type: Conference\\nrecurrent: False\\nrecurrence_interval: \\ndescription: This is a conference.\\npriority_level: none', metadata={'source': '/var/genie-in-the-box/src/conf/long-term-memory/events.csv', 'row': 85}),\n",
      " Document(page_content='start_date: 2023-08-01\\nend_date: 2023-08-01\\nduration: 0\\nstart_time: 00:00\\nend_time: 23:59\\nevent_type: Subscription\\nrecurrent: True\\nrecurrence_interval: 1 month\\ndescription: This is a subscription.\\npriority_level: medium', metadata={'source': '/var/genie-in-the-box/src/conf/long-term-memory/events.csv', 'row': 86}),\n",
      " Document(page_content='start_date: 2023-08-01\\nend_date: 2023-08-04\\nduration: 3\\nstart_time: 00:00\\nend_time: 23:59\\nevent_type: Performance\\nrecurrent: False\\nrecurrence_interval: \\ndescription: This is a performance.\\npriority_level: low', metadata={'source': '/var/genie-in-the-box/src/conf/long-term-memory/events.csv', 'row': 87}),\n",
      " Document(page_content='start_date: 2023-08-01\\nend_date: 2023-08-01\\nduration: 0\\nstart_time: 12:23\\nend_time: 16:05\\nevent_type: Interview\\nrecurrent: False\\nrecurrence_interval: \\ndescription: This is a interview.\\npriority_level: low', metadata={'source': '/var/genie-in-the-box/src/conf/long-term-memory/events.csv', 'row': 88}),\n",
      " Document(page_content=\"start_date: 2023-08-02\\nend_date: 2023-08-02\\nduration: 0\\nstart_time: 00:00\\nend_time: 23:59\\nevent_type: Birthday\\nrecurrent: True\\nrecurrence_interval: 5 month\\ndescription: Gregorio (friend)'s birthday\\npriority_level: none\", metadata={'source': '/var/genie-in-the-box/src/conf/long-term-memory/events.csv', 'row': 89}),\n",
      " Document(page_content='start_date: 2023-08-02\\nend_date: 2023-08-02\\nduration: 0\\nstart_time: 00:00\\nend_time: 23:59\\nevent_type: Subscription\\nrecurrent: True\\nrecurrence_interval: 5 month\\ndescription: This is a subscription.\\npriority_level: medium', metadata={'source': '/var/genie-in-the-box/src/conf/long-term-memory/events.csv', 'row': 90}),\n",
      " Document(page_content='start_date: 2023-08-02\\nend_date: 2023-08-07\\nduration: 5\\nstart_time: 00:00\\nend_time: 23:59\\nevent_type: Performance\\nrecurrent: False\\nrecurrence_interval: \\ndescription: This is a performance.\\npriority_level: low', metadata={'source': '/var/genie-in-the-box/src/conf/long-term-memory/events.csv', 'row': 91}),\n",
      " Document(page_content=\"start_date: 2023-08-02\\nend_date: 2023-08-02\\nduration: 0\\nstart_time: 00:00\\nend_time: 23:59\\nevent_type: Birthday\\nrecurrent: True\\nrecurrence_interval: 5 week\\ndescription: Sally (sister)'s birthday\\npriority_level: medium\", metadata={'source': '/var/genie-in-the-box/src/conf/long-term-memory/events.csv', 'row': 92}),\n",
      " Document(page_content='start_date: 2023-08-02\\nend_date: 2023-08-02\\nduration: 0\\nstart_time: 05:55\\nend_time: 00:20\\nevent_type: Workout\\nrecurrent: False\\nrecurrence_interval: \\ndescription: This is a workout.\\npriority_level: high', metadata={'source': '/var/genie-in-the-box/src/conf/long-term-memory/events.csv', 'row': 93}),\n",
      " Document(page_content='start_date: 2023-08-02\\nend_date: 2023-08-02\\nduration: 0\\nstart_time: 10:44\\nend_time: 00:13\\nevent_type: Interview\\nrecurrent: False\\nrecurrence_interval: \\ndescription: This is a interview.\\npriority_level: highest', metadata={'source': '/var/genie-in-the-box/src/conf/long-term-memory/events.csv', 'row': 94}),\n",
      " Document(page_content='start_date: 2023-08-02\\nend_date: 2023-08-09\\nduration: 7\\nstart_time: 19:15\\nend_time: 17:38\\nevent_type: Task\\nrecurrent: False\\nrecurrence_interval: \\ndescription: This is a task.\\npriority_level: high', metadata={'source': '/var/genie-in-the-box/src/conf/long-term-memory/events.csv', 'row': 95}),\n",
      " Document(page_content='start_date: 2023-08-02\\nend_date: 2023-08-03\\nduration: 1\\nstart_time: 22:51\\nend_time: 19:29\\nevent_type: TODO\\nrecurrent: False\\nrecurrence_interval: \\ndescription: This is a todo.\\npriority_level: low', metadata={'source': '/var/genie-in-the-box/src/conf/long-term-memory/events.csv', 'row': 96}),\n",
      " Document(page_content='start_date: 2023-08-03\\nend_date: 2023-08-03\\nduration: 0\\nstart_time: 00:00\\nend_time: 23:59\\nevent_type: Conference\\nrecurrent: False\\nrecurrence_interval: \\ndescription: This is a conference.\\npriority_level: highest', metadata={'source': '/var/genie-in-the-box/src/conf/long-term-memory/events.csv', 'row': 97}),\n",
      " Document(page_content='start_date: 2023-08-04\\nend_date: 2023-08-11\\nduration: 7\\nstart_time: 00:00\\nend_time: 23:59\\nevent_type: Performance\\nrecurrent: False\\nrecurrence_interval: \\ndescription: This is a performance.\\npriority_level: medium', metadata={'source': '/var/genie-in-the-box/src/conf/long-term-memory/events.csv', 'row': 98}),\n",
      " Document(page_content='start_date: 2023-08-04\\nend_date: 2023-08-07\\nduration: 3\\nstart_time: 00:00\\nend_time: 23:59\\nevent_type: Concert\\nrecurrent: False\\nrecurrence_interval: \\ndescription: This is a concert.\\npriority_level: low', metadata={'source': '/var/genie-in-the-box/src/conf/long-term-memory/events.csv', 'row': 99}),\n",
      " Document(page_content='start_date: 2023-08-04\\nend_date: 2023-08-07\\nduration: 3\\nstart_time: 00:00\\nend_time: 23:59\\nevent_type: Performance\\nrecurrent: False\\nrecurrence_interval: \\ndescription: This is a performance.\\npriority_level: low', metadata={'source': '/var/genie-in-the-box/src/conf/long-term-memory/events.csv', 'row': 100}),\n",
      " Document(page_content='start_date: 2023-08-04\\nend_date: 2023-08-05\\nduration: 1\\nstart_time: 00:00\\nend_time: 23:59\\nevent_type: Concert\\nrecurrent: False\\nrecurrence_interval: \\ndescription: This is a concert.\\npriority_level: highest', metadata={'source': '/var/genie-in-the-box/src/conf/long-term-memory/events.csv', 'row': 101}),\n",
      " Document(page_content='start_date: 2023-08-04\\nend_date: 2023-08-04\\nduration: 0\\nstart_time: 00:00\\nend_time: 23:59\\nevent_type: Concert\\nrecurrent: False\\nrecurrence_interval: \\ndescription: This is a concert.\\npriority_level: low', metadata={'source': '/var/genie-in-the-box/src/conf/long-term-memory/events.csv', 'row': 102}),\n",
      " Document(page_content='start_date: 2023-08-04\\nend_date: 2023-08-04\\nduration: 0\\nstart_time: 19:36\\nend_time: 06:52\\nevent_type: Interview\\nrecurrent: False\\nrecurrence_interval: \\ndescription: This is a interview.\\npriority_level: medium', metadata={'source': '/var/genie-in-the-box/src/conf/long-term-memory/events.csv', 'row': 103}),\n",
      " Document(page_content='start_date: 2023-08-05\\nend_date: 2023-08-12\\nduration: 7\\nstart_time: 00:00\\nend_time: 23:59\\nevent_type: Subscription\\nrecurrent: True\\nrecurrence_interval: 5 week\\ndescription: This is a subscription.\\npriority_level: low', metadata={'source': '/var/genie-in-the-box/src/conf/long-term-memory/events.csv', 'row': 104}),\n",
      " Document(page_content='start_date: 2023-08-05\\nend_date: 2023-08-06\\nduration: 1\\nstart_time: 06:18\\nend_time: 14:17\\nevent_type: Workout\\nrecurrent: False\\nrecurrence_interval: \\ndescription: This is a workout.\\npriority_level: highest', metadata={'source': '/var/genie-in-the-box/src/conf/long-term-memory/events.csv', 'row': 105}),\n",
      " Document(page_content='start_date: 2023-08-05\\nend_date: 2023-08-05\\nduration: 0\\nstart_time: 07:21\\nend_time: 06:27\\nevent_type: Task\\nrecurrent: False\\nrecurrence_interval: \\ndescription: This is a task.\\npriority_level: low', metadata={'source': '/var/genie-in-the-box/src/conf/long-term-memory/events.csv', 'row': 106}),\n",
      " Document(page_content='start_date: 2023-08-05\\nend_date: 2023-08-08\\nduration: 3\\nstart_time: 11:01\\nend_time: 09:50\\nevent_type: Interview\\nrecurrent: False\\nrecurrence_interval: \\ndescription: This is a interview.\\npriority_level: highest', metadata={'source': '/var/genie-in-the-box/src/conf/long-term-memory/events.csv', 'row': 107}),\n",
      " Document(page_content='start_date: 2023-08-05\\nend_date: 2023-08-08\\nduration: 3\\nstart_time: 16:00\\nend_time: 12:20\\nevent_type: TODO\\nrecurrent: False\\nrecurrence_interval: \\ndescription: This is a todo.\\npriority_level: low', metadata={'source': '/var/genie-in-the-box/src/conf/long-term-memory/events.csv', 'row': 108}),\n",
      " Document(page_content='start_date: 2023-08-06\\nend_date: 2023-08-13\\nduration: 7\\nstart_time: 20:51\\nend_time: 22:32\\nevent_type: Interview\\nrecurrent: False\\nrecurrence_interval: \\ndescription: This is a interview.\\npriority_level: low', metadata={'source': '/var/genie-in-the-box/src/conf/long-term-memory/events.csv', 'row': 109}),\n",
      " Document(page_content=\"start_date: 2023-08-07\\nend_date: 2023-08-07\\nduration: 0\\nstart_time: 00:00\\nend_time: 23:59\\nevent_type: Birthday\\nrecurrent: True\\nrecurrence_interval: 4 month\\ndescription: John (coworker)'s birthday\\npriority_level: low\", metadata={'source': '/var/genie-in-the-box/src/conf/long-term-memory/events.csv', 'row': 110}),\n",
      " Document(page_content='start_date: 2023-08-07\\nend_date: 2023-08-07\\nduration: 0\\nstart_time: 00:00\\nend_time: 23:59\\nevent_type: Performance\\nrecurrent: False\\nrecurrence_interval: \\ndescription: This is a performance.\\npriority_level: medium', metadata={'source': '/var/genie-in-the-box/src/conf/long-term-memory/events.csv', 'row': 111}),\n",
      " Document(page_content='start_date: 2023-08-07\\nend_date: 2023-08-07\\nduration: 0\\nstart_time: 04:59\\nend_time: 19:46\\nevent_type: Task\\nrecurrent: False\\nrecurrence_interval: \\ndescription: This is a task.\\npriority_level: low', metadata={'source': '/var/genie-in-the-box/src/conf/long-term-memory/events.csv', 'row': 112}),\n",
      " Document(page_content='start_date: 2023-08-07\\nend_date: 2023-08-07\\nduration: 0\\nstart_time: 05:21\\nend_time: 17:30\\nevent_type: Task\\nrecurrent: False\\nrecurrence_interval: \\ndescription: This is a task.\\npriority_level: medium', metadata={'source': '/var/genie-in-the-box/src/conf/long-term-memory/events.csv', 'row': 113}),\n",
      " Document(page_content='start_date: 2023-08-07\\nend_date: 2023-08-07\\nduration: 0\\nstart_time: 05:24\\nend_time: 00:12\\nevent_type: Meeting\\nrecurrent: False\\nrecurrence_interval: \\ndescription: This is a meeting.\\npriority_level: low', metadata={'source': '/var/genie-in-the-box/src/conf/long-term-memory/events.csv', 'row': 114}),\n",
      " Document(page_content='start_date: 2023-08-07\\nend_date: 2023-08-07\\nduration: 0\\nstart_time: 22:28\\nend_time: 13:49\\nevent_type: TODO\\nrecurrent: False\\nrecurrence_interval: \\ndescription: This is a todo.\\npriority_level: none', metadata={'source': '/var/genie-in-the-box/src/conf/long-term-memory/events.csv', 'row': 115}),\n",
      " Document(page_content='start_date: 2023-08-09\\nend_date: 2023-08-09\\nduration: 0\\nstart_time: 07:40\\nend_time: 15:42\\nevent_type: Workshop\\nrecurrent: False\\nrecurrence_interval: \\ndescription: This is a workshop.\\npriority_level: medium', metadata={'source': '/var/genie-in-the-box/src/conf/long-term-memory/events.csv', 'row': 116}),\n",
      " Document(page_content=\"start_date: 2023-08-10\\nend_date: 2023-08-10\\nduration: 0\\nstart_time: 00:00\\nend_time: 23:59\\nevent_type: Anniversary\\nrecurrent: True\\nrecurrence_interval: 4 month\\ndescription: Barbara Jane Ruiz (mother)'s anniversary\\npriority_level: none\", metadata={'source': '/var/genie-in-the-box/src/conf/long-term-memory/events.csv', 'row': 117}),\n",
      " Document(page_content=\"start_date: 2023-08-10\\nend_date: 2023-08-13\\nduration: 3\\nstart_time: 00:00\\nend_time: 23:59\\nevent_type: Anniversary\\nrecurrent: True\\nrecurrence_interval: 3 day\\ndescription: Alice (aunt)'s anniversary\\npriority_level: high\", metadata={'source': '/var/genie-in-the-box/src/conf/long-term-memory/events.csv', 'row': 118}),\n",
      " Document(page_content=\"start_date: 2023-08-10\\nend_date: 2023-08-11\\nduration: 1\\nstart_time: 00:00\\nend_time: 23:59\\nevent_type: Birthday\\nrecurrent: True\\nrecurrence_interval: 3 day\\ndescription: Pablo (friend)'s birthday\\npriority_level: low\", metadata={'source': '/var/genie-in-the-box/src/conf/long-term-memory/events.csv', 'row': 119}),\n",
      " Document(page_content='start_date: 2023-08-10\\nend_date: 2023-08-15\\nduration: 5\\nstart_time: 00:00\\nend_time: 23:59\\nevent_type: Conference\\nrecurrent: False\\nrecurrence_interval: \\ndescription: This is a conference.\\npriority_level: low', metadata={'source': '/var/genie-in-the-box/src/conf/long-term-memory/events.csv', 'row': 120}),\n",
      " Document(page_content='start_date: 2023-08-10\\nend_date: 2023-08-11\\nduration: 1\\nstart_time: 12:35\\nend_time: 04:36\\nevent_type: Interview\\nrecurrent: False\\nrecurrence_interval: \\ndescription: This is a interview.\\npriority_level: low', metadata={'source': '/var/genie-in-the-box/src/conf/long-term-memory/events.csv', 'row': 121}),\n",
      " Document(page_content='start_date: 2023-08-10\\nend_date: 2023-08-10\\nduration: 0\\nstart_time: 19:25\\nend_time: 10:18\\nevent_type: Appointment\\nrecurrent: False\\nrecurrence_interval: \\ndescription: This is a appointment.\\npriority_level: medium', metadata={'source': '/var/genie-in-the-box/src/conf/long-term-memory/events.csv', 'row': 122}),\n",
      " Document(page_content='start_date: 2023-08-10\\nend_date: 2023-08-13\\nduration: 3\\nstart_time: 19:54\\nend_time: 21:56\\nevent_type: TODO\\nrecurrent: False\\nrecurrence_interval: \\ndescription: This is a todo.\\npriority_level: none', metadata={'source': '/var/genie-in-the-box/src/conf/long-term-memory/events.csv', 'row': 123}),\n",
      " Document(page_content='start_date: 2023-08-11\\nend_date: 2023-08-18\\nduration: 7\\nstart_time: 00:00\\nend_time: 23:59\\nevent_type: Subscription\\nrecurrent: True\\nrecurrence_interval: 4 day\\ndescription: This is a subscription.\\npriority_level: low', metadata={'source': '/var/genie-in-the-box/src/conf/long-term-memory/events.csv', 'row': 124}),\n",
      " Document(page_content='start_date: 2023-08-11\\nend_date: 2023-08-12\\nduration: 1\\nstart_time: 06:52\\nend_time: 07:22\\nevent_type: Meeting\\nrecurrent: False\\nrecurrence_interval: \\ndescription: This is a meeting.\\npriority_level: medium', metadata={'source': '/var/genie-in-the-box/src/conf/long-term-memory/events.csv', 'row': 125}),\n",
      " Document(page_content='start_date: 2023-08-11\\nend_date: 2023-08-14\\nduration: 3\\nstart_time: 09:50\\nend_time: 08:20\\nevent_type: Interview\\nrecurrent: False\\nrecurrence_interval: \\ndescription: This is a interview.\\npriority_level: high', metadata={'source': '/var/genie-in-the-box/src/conf/long-term-memory/events.csv', 'row': 126}),\n",
      " Document(page_content='start_date: 2023-08-11\\nend_date: 2023-08-11\\nduration: 0\\nstart_time: 10:04\\nend_time: 06:02\\nevent_type: TODO\\nrecurrent: False\\nrecurrence_interval: \\ndescription: This is a todo.\\npriority_level: high', metadata={'source': '/var/genie-in-the-box/src/conf/long-term-memory/events.csv', 'row': 127}),\n",
      " Document(page_content='start_date: 2023-08-11\\nend_date: 2023-08-11\\nduration: 0\\nstart_time: 12:52\\nend_time: 12:21\\nevent_type: TODO\\nrecurrent: False\\nrecurrence_interval: \\ndescription: This is a todo.\\npriority_level: none', metadata={'source': '/var/genie-in-the-box/src/conf/long-term-memory/events.csv', 'row': 128}),\n",
      " Document(page_content='start_date: 2023-08-11\\nend_date: 2023-08-14\\nduration: 3\\nstart_time: 17:54\\nend_time: 14:36\\nevent_type: Workout\\nrecurrent: False\\nrecurrence_interval: \\ndescription: This is a workout.\\npriority_level: none', metadata={'source': '/var/genie-in-the-box/src/conf/long-term-memory/events.csv', 'row': 129}),\n",
      " Document(page_content='start_date: 2023-08-11\\nend_date: 2023-08-12\\nduration: 1\\nstart_time: 18:38\\nend_time: 14:02\\nevent_type: TODO\\nrecurrent: False\\nrecurrence_interval: \\ndescription: This is a todo.\\npriority_level: highest', metadata={'source': '/var/genie-in-the-box/src/conf/long-term-memory/events.csv', 'row': 130}),\n",
      " Document(page_content='start_date: 2023-08-11\\nend_date: 2023-08-11\\nduration: 0\\nstart_time: 21:07\\nend_time: 07:46\\nevent_type: Appointment\\nrecurrent: False\\nrecurrence_interval: \\ndescription: This is a appointment.\\npriority_level: highest', metadata={'source': '/var/genie-in-the-box/src/conf/long-term-memory/events.csv', 'row': 131}),\n",
      " Document(page_content=\"start_date: 2023-08-12\\nend_date: 2023-08-12\\nduration: 0\\nstart_time: 00:00\\nend_time: 23:59\\nevent_type: Birthday\\nrecurrent: True\\nrecurrence_interval: 3 day\\ndescription: Jenny (coworker)'s birthday\\npriority_level: medium\", metadata={'source': '/var/genie-in-the-box/src/conf/long-term-memory/events.csv', 'row': 132}),\n",
      " Document(page_content=\"start_date: 2023-08-12\\nend_date: 2023-08-15\\nduration: 3\\nstart_time: 00:00\\nend_time: 23:59\\nevent_type: Anniversary\\nrecurrent: True\\nrecurrence_interval: 1 day\\ndescription: Barbara Jane Ruiz (mother)'s anniversary\\npriority_level: none\", metadata={'source': '/var/genie-in-the-box/src/conf/long-term-memory/events.csv', 'row': 133}),\n",
      " Document(page_content='start_date: 2023-08-12\\nend_date: 2023-08-12\\nduration: 0\\nstart_time: 02:14\\nend_time: 09:39\\nevent_type: Workout\\nrecurrent: False\\nrecurrence_interval: \\ndescription: This is a workout.\\npriority_level: none', metadata={'source': '/var/genie-in-the-box/src/conf/long-term-memory/events.csv', 'row': 134}),\n",
      " Document(page_content=\"start_date: 2023-08-13\\nend_date: 2023-08-13\\nduration: 0\\nstart_time: 00:00\\nend_time: 23:59\\nevent_type: Birthday\\nrecurrent: True\\nrecurrence_interval: 4 year\\ndescription: Gregorio (friend)'s birthday\\npriority_level: medium\", metadata={'source': '/var/genie-in-the-box/src/conf/long-term-memory/events.csv', 'row': 135}),\n",
      " Document(page_content=\"start_date: 2023-08-13\\nend_date: 2023-08-20\\nduration: 7\\nstart_time: 00:00\\nend_time: 23:59\\nevent_type: Anniversary\\nrecurrent: True\\nrecurrence_interval: 3 day\\ndescription: Leroy Ruiz (father)'s anniversary\\npriority_level: high\", metadata={'source': '/var/genie-in-the-box/src/conf/long-term-memory/events.csv', 'row': 136}),\n",
      " Document(page_content='start_date: 2023-08-13\\nend_date: 2023-08-16\\nduration: 3\\nstart_time: 01:16\\nend_time: 11:42\\nevent_type: Meeting\\nrecurrent: False\\nrecurrence_interval: \\ndescription: This is a meeting.\\npriority_level: low', metadata={'source': '/var/genie-in-the-box/src/conf/long-term-memory/events.csv', 'row': 137}),\n",
      " Document(page_content='start_date: 2023-08-13\\nend_date: 2023-08-14\\nduration: 1\\nstart_time: 08:27\\nend_time: 14:06\\nevent_type: Meeting\\nrecurrent: False\\nrecurrence_interval: \\ndescription: This is a meeting.\\npriority_level: low', metadata={'source': '/var/genie-in-the-box/src/conf/long-term-memory/events.csv', 'row': 138}),\n",
      " Document(page_content='start_date: 2023-08-13\\nend_date: 2023-08-14\\nduration: 1\\nstart_time: 11:27\\nend_time: 05:03\\nevent_type: Meeting\\nrecurrent: False\\nrecurrence_interval: \\ndescription: This is a meeting.\\npriority_level: medium', metadata={'source': '/var/genie-in-the-box/src/conf/long-term-memory/events.csv', 'row': 139}),\n",
      " Document(page_content='start_date: 2023-08-14\\nend_date: 2023-08-14\\nduration: 0\\nstart_time: 00:00\\nend_time: 23:59\\nevent_type: Concert\\nrecurrent: False\\nrecurrence_interval: \\ndescription: This is a concert.\\npriority_level: highest', metadata={'source': '/var/genie-in-the-box/src/conf/long-term-memory/events.csv', 'row': 140}),\n",
      " Document(page_content='start_date: 2023-08-14\\nend_date: 2023-08-14\\nduration: 0\\nstart_time: 00:00\\nend_time: 23:59\\nevent_type: Concert\\nrecurrent: False\\nrecurrence_interval: \\ndescription: This is a concert.\\npriority_level: high', metadata={'source': '/var/genie-in-the-box/src/conf/long-term-memory/events.csv', 'row': 141}),\n",
      " Document(page_content='start_date: 2023-08-14\\nend_date: 2023-08-17\\nduration: 3\\nstart_time: 00:00\\nend_time: 23:59\\nevent_type: Subscription\\nrecurrent: True\\nrecurrence_interval: 3 week\\ndescription: This is a subscription.\\npriority_level: none', metadata={'source': '/var/genie-in-the-box/src/conf/long-term-memory/events.csv', 'row': 142}),\n",
      " Document(page_content=\"start_date: 2023-08-14\\nend_date: 2023-08-21\\nduration: 7\\nstart_time: 00:00\\nend_time: 23:59\\nevent_type: Birthday\\nrecurrent: True\\nrecurrence_interval: 3 year\\ndescription: Bob (brother)'s birthday\\npriority_level: low\", metadata={'source': '/var/genie-in-the-box/src/conf/long-term-memory/events.csv', 'row': 143}),\n",
      " Document(page_content='start_date: 2023-08-14\\nend_date: 2023-08-15\\nduration: 1\\nstart_time: 00:00\\nend_time: 23:59\\nevent_type: Performance\\nrecurrent: False\\nrecurrence_interval: \\ndescription: This is a performance.\\npriority_level: high', metadata={'source': '/var/genie-in-the-box/src/conf/long-term-memory/events.csv', 'row': 144}),\n",
      " Document(page_content='start_date: 2023-08-14\\nend_date: 2023-08-14\\nduration: 0\\nstart_time: 00:00\\nend_time: 23:59\\nevent_type: Subscription\\nrecurrent: True\\nrecurrence_interval: 1 year\\ndescription: This is a subscription.\\npriority_level: highest', metadata={'source': '/var/genie-in-the-box/src/conf/long-term-memory/events.csv', 'row': 145}),\n",
      " Document(page_content='start_date: 2023-08-14\\nend_date: 2023-08-14\\nduration: 0\\nstart_time: 19:47\\nend_time: 16:12\\nevent_type: Task\\nrecurrent: False\\nrecurrence_interval: \\ndescription: This is a task.\\npriority_level: none', metadata={'source': '/var/genie-in-the-box/src/conf/long-term-memory/events.csv', 'row': 146}),\n",
      " Document(page_content='start_date: 2023-08-15\\nend_date: 2023-08-15\\nduration: 0\\nstart_time: 00:00\\nend_time: 23:59\\nevent_type: Performance\\nrecurrent: False\\nrecurrence_interval: \\ndescription: This is a performance.\\npriority_level: none', metadata={'source': '/var/genie-in-the-box/src/conf/long-term-memory/events.csv', 'row': 147}),\n",
      " Document(page_content='start_date: 2023-08-15\\nend_date: 2023-08-15\\nduration: 0\\nstart_time: 00:00\\nend_time: 23:59\\nevent_type: Conference\\nrecurrent: False\\nrecurrence_interval: \\ndescription: This is a conference.\\npriority_level: none', metadata={'source': '/var/genie-in-the-box/src/conf/long-term-memory/events.csv', 'row': 148}),\n",
      " Document(page_content='start_date: 2023-08-15\\nend_date: 2023-08-15\\nduration: 0\\nstart_time: 00:00\\nend_time: 23:59\\nevent_type: Performance\\nrecurrent: False\\nrecurrence_interval: \\ndescription: This is a performance.\\npriority_level: none', metadata={'source': '/var/genie-in-the-box/src/conf/long-term-memory/events.csv', 'row': 149}),\n",
      " Document(page_content=\"start_date: 2023-08-15\\nend_date: 2023-08-15\\nduration: 0\\nstart_time: 00:00\\nend_time: 23:59\\nevent_type: Anniversary\\nrecurrent: True\\nrecurrence_interval: 4 month\\ndescription: Sally (sister)'s anniversary\\npriority_level: high\", metadata={'source': '/var/genie-in-the-box/src/conf/long-term-memory/events.csv', 'row': 150}),\n",
      " Document(page_content='start_date: 2023-08-15\\nend_date: 2023-08-18\\nduration: 3\\nstart_time: 02:33\\nend_time: 11:32\\nevent_type: Interview\\nrecurrent: False\\nrecurrence_interval: \\ndescription: This is a interview.\\npriority_level: low', metadata={'source': '/var/genie-in-the-box/src/conf/long-term-memory/events.csv', 'row': 151}),\n",
      " Document(page_content='start_date: 2023-08-15\\nend_date: 2023-08-15\\nduration: 0\\nstart_time: 17:27\\nend_time: 20:26\\nevent_type: Appointment\\nrecurrent: False\\nrecurrence_interval: \\ndescription: This is a appointment.\\npriority_level: low', metadata={'source': '/var/genie-in-the-box/src/conf/long-term-memory/events.csv', 'row': 152}),\n",
      " Document(page_content=\"start_date: 2023-08-16\\nend_date: 2023-08-16\\nduration: 0\\nstart_time: 00:00\\nend_time: 23:59\\nevent_type: Birthday\\nrecurrent: True\\nrecurrence_interval: 3 year\\ndescription: Pablo (friend)'s birthday\\npriority_level: none\", metadata={'source': '/var/genie-in-the-box/src/conf/long-term-memory/events.csv', 'row': 153}),\n",
      " Document(page_content=\"start_date: 2023-08-16\\nend_date: 2023-08-19\\nduration: 3\\nstart_time: 00:00\\nend_time: 23:59\\nevent_type: Anniversary\\nrecurrent: True\\nrecurrence_interval: 3 day\\ndescription: Alice (aunt)'s anniversary\\npriority_level: low\", metadata={'source': '/var/genie-in-the-box/src/conf/long-term-memory/events.csv', 'row': 154}),\n",
      " Document(page_content='start_date: 2023-08-17\\nend_date: 2023-08-18\\nduration: 1\\nstart_time: 02:22\\nend_time: 09:34\\nevent_type: Workout\\nrecurrent: False\\nrecurrence_interval: \\ndescription: This is a workout.\\npriority_level: none', metadata={'source': '/var/genie-in-the-box/src/conf/long-term-memory/events.csv', 'row': 155}),\n",
      " Document(page_content='start_date: 2023-08-17\\nend_date: 2023-08-24\\nduration: 7\\nstart_time: 09:36\\nend_time: 02:37\\nevent_type: Interview\\nrecurrent: False\\nrecurrence_interval: \\ndescription: This is a interview.\\npriority_level: medium', metadata={'source': '/var/genie-in-the-box/src/conf/long-term-memory/events.csv', 'row': 156}),\n",
      " Document(page_content='start_date: 2023-08-18\\nend_date: 2023-08-23\\nduration: 5\\nstart_time: 00:00\\nend_time: 23:59\\nevent_type: Performance\\nrecurrent: False\\nrecurrence_interval: \\ndescription: This is a performance.\\npriority_level: none', metadata={'source': '/var/genie-in-the-box/src/conf/long-term-memory/events.csv', 'row': 157}),\n",
      " Document(page_content='start_date: 2023-08-18\\nend_date: 2023-08-18\\nduration: 0\\nstart_time: 00:00\\nend_time: 23:59\\nevent_type: Subscription\\nrecurrent: True\\nrecurrence_interval: 4 year\\ndescription: This is a subscription.\\npriority_level: low', metadata={'source': '/var/genie-in-the-box/src/conf/long-term-memory/events.csv', 'row': 158}),\n",
      " Document(page_content='start_date: 2023-08-18\\nend_date: 2023-08-19\\nduration: 1\\nstart_time: 00:00\\nend_time: 23:59\\nevent_type: Performance\\nrecurrent: False\\nrecurrence_interval: \\ndescription: This is a performance.\\npriority_level: high', metadata={'source': '/var/genie-in-the-box/src/conf/long-term-memory/events.csv', 'row': 159}),\n",
      " Document(page_content='start_date: 2023-08-18\\nend_date: 2023-08-23\\nduration: 5\\nstart_time: 00:00\\nend_time: 23:59\\nevent_type: Concert\\nrecurrent: False\\nrecurrence_interval: \\ndescription: This is a concert.\\npriority_level: medium', metadata={'source': '/var/genie-in-the-box/src/conf/long-term-memory/events.csv', 'row': 160}),\n",
      " Document(page_content=\"start_date: 2023-08-19\\nend_date: 2023-08-20\\nduration: 1\\nstart_time: 00:00\\nend_time: 23:59\\nevent_type: Anniversary\\nrecurrent: True\\nrecurrence_interval: 2 month\\ndescription: Gregorio (friend)'s anniversary\\npriority_level: medium\", metadata={'source': '/var/genie-in-the-box/src/conf/long-term-memory/events.csv', 'row': 161}),\n",
      " Document(page_content='start_date: 2023-08-19\\nend_date: 2023-08-22\\nduration: 3\\nstart_time: 00:00\\nend_time: 23:59\\nevent_type: Conference\\nrecurrent: False\\nrecurrence_interval: \\ndescription: This is a conference.\\npriority_level: low', metadata={'source': '/var/genie-in-the-box/src/conf/long-term-memory/events.csv', 'row': 162}),\n",
      " Document(page_content='start_date: 2023-08-19\\nend_date: 2023-08-19\\nduration: 0\\nstart_time: 12:09\\nend_time: 10:58\\nevent_type: Interview\\nrecurrent: False\\nrecurrence_interval: \\ndescription: This is a interview.\\npriority_level: high', metadata={'source': '/var/genie-in-the-box/src/conf/long-term-memory/events.csv', 'row': 163}),\n",
      " Document(page_content='start_date: 2023-08-20\\nend_date: 2023-08-20\\nduration: 0\\nstart_time: 00:00\\nend_time: 23:59\\nevent_type: Concert\\nrecurrent: False\\nrecurrence_interval: \\ndescription: This is a concert.\\npriority_level: high', metadata={'source': '/var/genie-in-the-box/src/conf/long-term-memory/events.csv', 'row': 164}),\n",
      " Document(page_content='start_date: 2023-08-20\\nend_date: 2023-08-20\\nduration: 0\\nstart_time: 21:22\\nend_time: 15:33\\nevent_type: Task\\nrecurrent: False\\nrecurrence_interval: \\ndescription: This is a task.\\npriority_level: low', metadata={'source': '/var/genie-in-the-box/src/conf/long-term-memory/events.csv', 'row': 165}),\n",
      " Document(page_content=\"start_date: 2023-08-21\\nend_date: 2023-08-21\\nduration: 0\\nstart_time: 00:00\\nend_time: 23:59\\nevent_type: Anniversary\\nrecurrent: True\\nrecurrence_interval: 4 week\\ndescription: Tom Ruiz (brother)'s anniversary\\npriority_level: none\", metadata={'source': '/var/genie-in-the-box/src/conf/long-term-memory/events.csv', 'row': 166}),\n",
      " Document(page_content='start_date: 2023-08-21\\nend_date: 2023-08-21\\nduration: 0\\nstart_time: 06:12\\nend_time: 12:45\\nevent_type: Appointment\\nrecurrent: False\\nrecurrence_interval: \\ndescription: This is a appointment.\\npriority_level: high', metadata={'source': '/var/genie-in-the-box/src/conf/long-term-memory/events.csv', 'row': 167}),\n",
      " Document(page_content='start_date: 2023-08-21\\nend_date: 2023-08-21\\nduration: 0\\nstart_time: 10:50\\nend_time: 07:58\\nevent_type: Task\\nrecurrent: False\\nrecurrence_interval: \\ndescription: This is a task.\\npriority_level: high', metadata={'source': '/var/genie-in-the-box/src/conf/long-term-memory/events.csv', 'row': 168}),\n",
      " Document(page_content=\"start_date: 2023-08-22\\nend_date: 2023-08-29\\nduration: 7\\nstart_time: 00:00\\nend_time: 23:59\\nevent_type: Birthday\\nrecurrent: True\\nrecurrence_interval: 3 day\\ndescription: Bob (brother)'s birthday\\npriority_level: high\", metadata={'source': '/var/genie-in-the-box/src/conf/long-term-memory/events.csv', 'row': 169}),\n",
      " Document(page_content='start_date: 2023-08-22\\nend_date: 2023-08-23\\nduration: 1\\nstart_time: 00:00\\nend_time: 23:59\\nevent_type: Subscription\\nrecurrent: True\\nrecurrence_interval: 5 week\\ndescription: This is a subscription.\\npriority_level: low', metadata={'source': '/var/genie-in-the-box/src/conf/long-term-memory/events.csv', 'row': 170}),\n",
      " Document(page_content='start_date: 2023-08-22\\nend_date: 2023-08-25\\nduration: 3\\nstart_time: 09:57\\nend_time: 22:40\\nevent_type: Workout\\nrecurrent: False\\nrecurrence_interval: \\ndescription: This is a workout.\\npriority_level: low', metadata={'source': '/var/genie-in-the-box/src/conf/long-term-memory/events.csv', 'row': 171}),\n",
      " Document(page_content='start_date: 2023-08-22\\nend_date: 2023-08-22\\nduration: 0\\nstart_time: 14:52\\nend_time: 10:03\\nevent_type: Workshop\\nrecurrent: False\\nrecurrence_interval: \\ndescription: This is a workshop.\\npriority_level: highest', metadata={'source': '/var/genie-in-the-box/src/conf/long-term-memory/events.csv', 'row': 172}),\n",
      " Document(page_content='start_date: 2023-08-23\\nend_date: 2023-08-23\\nduration: 0\\nstart_time: 04:16\\nend_time: 18:51\\nevent_type: Workout\\nrecurrent: False\\nrecurrence_interval: \\ndescription: This is a workout.\\npriority_level: medium', metadata={'source': '/var/genie-in-the-box/src/conf/long-term-memory/events.csv', 'row': 173}),\n",
      " Document(page_content='start_date: 2023-08-23\\nend_date: 2023-08-28\\nduration: 5\\nstart_time: 20:11\\nend_time: 19:17\\nevent_type: Task\\nrecurrent: False\\nrecurrence_interval: \\ndescription: This is a task.\\npriority_level: medium', metadata={'source': '/var/genie-in-the-box/src/conf/long-term-memory/events.csv', 'row': 174}),\n",
      " Document(page_content=\"start_date: 2023-08-24\\nend_date: 2023-08-24\\nduration: 0\\nstart_time: 00:00\\nend_time: 23:59\\nevent_type: Birthday\\nrecurrent: True\\nrecurrence_interval: 3 month\\ndescription: Barbara Jane Ruiz (mother)'s birthday\\npriority_level: highest\", metadata={'source': '/var/genie-in-the-box/src/conf/long-term-memory/events.csv', 'row': 175}),\n",
      " Document(page_content='start_date: 2023-08-24\\nend_date: 2023-08-31\\nduration: 7\\nstart_time: 00:00\\nend_time: 23:59\\nevent_type: Subscription\\nrecurrent: True\\nrecurrence_interval: 3 year\\ndescription: This is a subscription.\\npriority_level: high', metadata={'source': '/var/genie-in-the-box/src/conf/long-term-memory/events.csv', 'row': 176}),\n",
      " Document(page_content=\"start_date: 2023-08-24\\nend_date: 2023-08-31\\nduration: 7\\nstart_time: 00:00\\nend_time: 23:59\\nevent_type: Anniversary\\nrecurrent: True\\nrecurrence_interval: 3 week\\ndescription: Barbara Jane Ruiz (mother)'s anniversary\\npriority_level: high\", metadata={'source': '/var/genie-in-the-box/src/conf/long-term-memory/events.csv', 'row': 177}),\n",
      " Document(page_content='start_date: 2023-08-24\\nend_date: 2023-08-31\\nduration: 7\\nstart_time: 22:08\\nend_time: 16:11\\nevent_type: Workout\\nrecurrent: False\\nrecurrence_interval: \\ndescription: This is a workout.\\npriority_level: low', metadata={'source': '/var/genie-in-the-box/src/conf/long-term-memory/events.csv', 'row': 178}),\n",
      " Document(page_content='start_date: 2023-08-25\\nend_date: 2023-08-25\\nduration: 0\\nstart_time: 00:00\\nend_time: 23:59\\nevent_type: Concert\\nrecurrent: False\\nrecurrence_interval: \\ndescription: This is a concert.\\npriority_level: none', metadata={'source': '/var/genie-in-the-box/src/conf/long-term-memory/events.csv', 'row': 179}),\n",
      " Document(page_content='start_date: 2023-08-25\\nend_date: 2023-08-25\\nduration: 0\\nstart_time: 05:28\\nend_time: 21:12\\nevent_type: Workshop\\nrecurrent: False\\nrecurrence_interval: \\ndescription: This is a workshop.\\npriority_level: low', metadata={'source': '/var/genie-in-the-box/src/conf/long-term-memory/events.csv', 'row': 180}),\n",
      " Document(page_content='start_date: 2023-08-25\\nend_date: 2023-08-26\\nduration: 1\\nstart_time: 07:11\\nend_time: 07:18\\nevent_type: TODO\\nrecurrent: False\\nrecurrence_interval: \\ndescription: This is a todo.\\npriority_level: none', metadata={'source': '/var/genie-in-the-box/src/conf/long-term-memory/events.csv', 'row': 181}),\n",
      " Document(page_content='start_date: 2023-08-25\\nend_date: 2023-08-25\\nduration: 0\\nstart_time: 08:21\\nend_time: 08:55\\nevent_type: Interview\\nrecurrent: False\\nrecurrence_interval: \\ndescription: This is a interview.\\npriority_level: none', metadata={'source': '/var/genie-in-the-box/src/conf/long-term-memory/events.csv', 'row': 182}),\n",
      " Document(page_content='start_date: 2023-08-25\\nend_date: 2023-08-25\\nduration: 0\\nstart_time: 23:16\\nend_time: 06:30\\nevent_type: TODO\\nrecurrent: False\\nrecurrence_interval: \\ndescription: This is a todo.\\npriority_level: low', metadata={'source': '/var/genie-in-the-box/src/conf/long-term-memory/events.csv', 'row': 183}),\n",
      " Document(page_content='start_date: 2023-08-26\\nend_date: 2023-08-26\\nduration: 0\\nstart_time: 01:21\\nend_time: 14:44\\nevent_type: Workout\\nrecurrent: False\\nrecurrence_interval: \\ndescription: This is a workout.\\npriority_level: highest', metadata={'source': '/var/genie-in-the-box/src/conf/long-term-memory/events.csv', 'row': 184}),\n",
      " Document(page_content='start_date: 2023-08-26\\nend_date: 2023-08-26\\nduration: 0\\nstart_time: 16:56\\nend_time: 05:52\\nevent_type: Workout\\nrecurrent: False\\nrecurrence_interval: \\ndescription: This is a workout.\\npriority_level: highest', metadata={'source': '/var/genie-in-the-box/src/conf/long-term-memory/events.csv', 'row': 185}),\n",
      " Document(page_content=\"start_date: 2023-08-27\\nend_date: 2023-08-30\\nduration: 3\\nstart_time: 00:00\\nend_time: 23:59\\nevent_type: Birthday\\nrecurrent: True\\nrecurrence_interval: 1 month\\ndescription: Inash (girlfriend)'s birthday\\npriority_level: highest\", metadata={'source': '/var/genie-in-the-box/src/conf/long-term-memory/events.csv', 'row': 186}),\n",
      " Document(page_content='start_date: 2023-08-28\\nend_date: 2023-08-28\\nduration: 0\\nstart_time: 00:00\\nend_time: 23:59\\nevent_type: Concert\\nrecurrent: False\\nrecurrence_interval: \\ndescription: This is a concert.\\npriority_level: none', metadata={'source': '/var/genie-in-the-box/src/conf/long-term-memory/events.csv', 'row': 187}),\n",
      " Document(page_content='start_date: 2023-08-28\\nend_date: 2023-09-02\\nduration: 5\\nstart_time: 07:44\\nend_time: 00:33\\nevent_type: Appointment\\nrecurrent: False\\nrecurrence_interval: \\ndescription: This is a appointment.\\npriority_level: high', metadata={'source': '/var/genie-in-the-box/src/conf/long-term-memory/events.csv', 'row': 188}),\n",
      " Document(page_content='start_date: 2023-08-29\\nend_date: 2023-09-03\\nduration: 5\\nstart_time: 00:00\\nend_time: 23:59\\nevent_type: Conference\\nrecurrent: False\\nrecurrence_interval: \\ndescription: This is a conference.\\npriority_level: high', metadata={'source': '/var/genie-in-the-box/src/conf/long-term-memory/events.csv', 'row': 189}),\n",
      " Document(page_content='start_date: 2023-08-29\\nend_date: 2023-08-29\\nduration: 0\\nstart_time: 16:06\\nend_time: 02:57\\nevent_type: TODO\\nrecurrent: False\\nrecurrence_interval: \\ndescription: This is a todo.\\npriority_level: highest', metadata={'source': '/var/genie-in-the-box/src/conf/long-term-memory/events.csv', 'row': 190}),\n",
      " Document(page_content='start_date: 2023-08-29\\nend_date: 2023-09-01\\nduration: 3\\nstart_time: 16:35\\nend_time: 11:57\\nevent_type: Task\\nrecurrent: False\\nrecurrence_interval: \\ndescription: This is a task.\\npriority_level: medium', metadata={'source': '/var/genie-in-the-box/src/conf/long-term-memory/events.csv', 'row': 191}),\n",
      " Document(page_content=\"start_date: 2023-08-30\\nend_date: 2023-08-30\\nduration: 0\\nstart_time: 00:00\\nend_time: 23:59\\nevent_type: Anniversary\\nrecurrent: True\\nrecurrence_interval: 4 week\\ndescription: Inash (girlfriend)'s anniversary\\npriority_level: none\", metadata={'source': '/var/genie-in-the-box/src/conf/long-term-memory/events.csv', 'row': 192}),\n",
      " Document(page_content='start_date: 2023-08-30\\nend_date: 2023-08-30\\nduration: 0\\nstart_time: 20:33\\nend_time: 09:25\\nevent_type: Task\\nrecurrent: False\\nrecurrence_interval: \\ndescription: This is a task.\\npriority_level: medium', metadata={'source': '/var/genie-in-the-box/src/conf/long-term-memory/events.csv', 'row': 193}),\n",
      " Document(page_content='start_date: 2023-08-31\\nend_date: 2023-08-31\\nduration: 0\\nstart_time: 00:00\\nend_time: 23:59\\nevent_type: Performance\\nrecurrent: False\\nrecurrence_interval: \\ndescription: This is a performance.\\npriority_level: high', metadata={'source': '/var/genie-in-the-box/src/conf/long-term-memory/events.csv', 'row': 194}),\n",
      " Document(page_content=\"start_date: 2023-08-31\\nend_date: 2023-09-05\\nduration: 5\\nstart_time: 00:00\\nend_time: 23:59\\nevent_type: Anniversary\\nrecurrent: True\\nrecurrence_interval: 5 year\\ndescription: John (coworker)'s anniversary\\npriority_level: highest\", metadata={'source': '/var/genie-in-the-box/src/conf/long-term-memory/events.csv', 'row': 195}),\n",
      " Document(page_content='start_date: 2023-09-01\\nend_date: 2023-09-06\\nduration: 5\\nstart_time: 04:10\\nend_time: 02:49\\nevent_type: Workshop\\nrecurrent: False\\nrecurrence_interval: \\ndescription: This is a workshop.\\npriority_level: none', metadata={'source': '/var/genie-in-the-box/src/conf/long-term-memory/events.csv', 'row': 196}),\n",
      " Document(page_content='start_date: 2023-09-01\\nend_date: 2023-09-01\\nduration: 0\\nstart_time: 12:14\\nend_time: 01:55\\nevent_type: Workout\\nrecurrent: False\\nrecurrence_interval: \\ndescription: This is a workout.\\npriority_level: low', metadata={'source': '/var/genie-in-the-box/src/conf/long-term-memory/events.csv', 'row': 197}),\n",
      " Document(page_content='start_date: 2023-09-01\\nend_date: 2023-09-08\\nduration: 7\\nstart_time: 15:50\\nend_time: 08:22\\nevent_type: TODO\\nrecurrent: False\\nrecurrence_interval: \\ndescription: This is a todo.\\npriority_level: none', metadata={'source': '/var/genie-in-the-box/src/conf/long-term-memory/events.csv', 'row': 198}),\n",
      " Document(page_content='start_date: 2023-09-01\\nend_date: 2023-09-08\\nduration: 7\\nstart_time: 18:50\\nend_time: 22:56\\nevent_type: Workshop\\nrecurrent: False\\nrecurrence_interval: \\ndescription: This is a workshop.\\npriority_level: none', metadata={'source': '/var/genie-in-the-box/src/conf/long-term-memory/events.csv', 'row': 199})]\n"
     ]
    }
   ],
   "source": [
    "csv_data = csv_loader.load()\n",
    "pprint( csv_data )"
   ],
   "metadata": {
    "collapsed": false,
    "ExecuteTime": {
     "end_time": "2023-08-09T03:11:38.489448Z",
     "start_time": "2023-08-09T03:11:38.465829Z"
    }
   }
  },
  {
   "cell_type": "code",
   "execution_count": 37,
   "outputs": [
    {
     "name": "stdout",
     "output_type": "stream",
     "text": [
      "[Document(page_content='{\"date\": \"2023-07-18\", \"start_time\": \"21:37\", \"end_time\": \"06:10\", \"event_type\": \"Meeting\", \"recurrent\": false, \"recurrence_interval\": null, \"description\": \"This is a meeting\", \"priority_level\": \"medium\"}', metadata={'source': '/var/genie-in-the-box/src/conf/long-term-memory/events.jsonl', 'seq_num': 1}),\n",
      " Document(page_content='{\"date\": \"2023-07-19\", \"start_time\": \"00:00\", \"end_time\": \"23:59\", \"event_type\": \"Concert\", \"recurrent\": false, \"recurrence_interval\": null, \"description\": \"This is a concert\", \"priority_level\": \"none\"}', metadata={'source': '/var/genie-in-the-box/src/conf/long-term-memory/events.jsonl', 'seq_num': 2}),\n",
      " Document(page_content='{\"date\": \"2023-07-20\", \"start_time\": \"00:00\", \"end_time\": \"23:59\", \"event_type\": \"Concert\", \"recurrent\": false, \"recurrence_interval\": null, \"description\": \"This is a concert\", \"priority_level\": \"none\"}', metadata={'source': '/var/genie-in-the-box/src/conf/long-term-memory/events.jsonl', 'seq_num': 3}),\n",
      " Document(page_content='{\"date\": \"2023-07-23\", \"start_time\": \"08:30\", \"end_time\": \"19:48\", \"event_type\": \"Appointment\", \"recurrent\": false, \"recurrence_interval\": null, \"description\": \"This is a appointment\", \"priority_level\": \"low\"}', metadata={'source': '/var/genie-in-the-box/src/conf/long-term-memory/events.jsonl', 'seq_num': 4}),\n",
      " Document(page_content='{\"date\": \"2023-07-23\", \"start_time\": \"00:00\", \"end_time\": \"23:59\", \"event_type\": \"Concert\", \"recurrent\": false, \"recurrence_interval\": null, \"description\": \"This is a concert\", \"priority_level\": \"highest\"}', metadata={'source': '/var/genie-in-the-box/src/conf/long-term-memory/events.jsonl', 'seq_num': 5}),\n",
      " Document(page_content='{\"date\": \"2023-07-25\", \"start_time\": \"01:59\", \"end_time\": \"20:16\", \"event_type\": \"TODO\", \"recurrent\": false, \"recurrence_interval\": null, \"description\": \"This is a todo\", \"priority_level\": \"high\"}', metadata={'source': '/var/genie-in-the-box/src/conf/long-term-memory/events.jsonl', 'seq_num': 6}),\n",
      " Document(page_content='{\"date\": \"2023-07-25\", \"start_time\": \"10:25\", \"end_time\": \"18:45\", \"event_type\": \"Interview\", \"recurrent\": false, \"recurrence_interval\": null, \"description\": \"This is a interview\", \"priority_level\": \"medium\"}', metadata={'source': '/var/genie-in-the-box/src/conf/long-term-memory/events.jsonl', 'seq_num': 7}),\n",
      " Document(page_content='{\"date\": \"2023-07-29\", \"start_time\": \"07:04\", \"end_time\": \"09:12\", \"event_type\": \"Meeting\", \"recurrent\": false, \"recurrence_interval\": null, \"description\": \"This is a meeting\", \"priority_level\": \"low\"}', metadata={'source': '/var/genie-in-the-box/src/conf/long-term-memory/events.jsonl', 'seq_num': 8}),\n",
      " Document(page_content='{\"date\": \"2023-07-30\", \"start_time\": \"00:00\", \"end_time\": \"23:59\", \"event_type\": \"Birthday\", \"recurrent\": true, \"recurrence_interval\": \"1 year\", \"description\": \"Barbara Jane Ruiz (mother)\\'s birthday\", \"priority_level\": \"high\"}', metadata={'source': '/var/genie-in-the-box/src/conf/long-term-memory/events.jsonl', 'seq_num': 9}),\n",
      " Document(page_content='{\"date\": \"2023-08-02\", \"start_time\": \"22:51\", \"end_time\": \"00:08\", \"event_type\": \"Workout\", \"recurrent\": false, \"recurrence_interval\": null, \"description\": \"This is a workout\", \"priority_level\": \"high\"}', metadata={'source': '/var/genie-in-the-box/src/conf/long-term-memory/events.jsonl', 'seq_num': 10}),\n",
      " Document(page_content='{\"date\": \"2023-08-03\", \"start_time\": \"00:00\", \"end_time\": \"23:59\", \"event_type\": \"Performance\", \"recurrent\": false, \"recurrence_interval\": null, \"description\": \"This is a performance\", \"priority_level\": \"none\"}', metadata={'source': '/var/genie-in-the-box/src/conf/long-term-memory/events.jsonl', 'seq_num': 11}),\n",
      " Document(page_content='{\"date\": \"2023-08-05\", \"start_time\": \"23:09\", \"end_time\": \"19:57\", \"event_type\": \"Interview\", \"recurrent\": false, \"recurrence_interval\": null, \"description\": \"This is a interview\", \"priority_level\": \"highest\"}', metadata={'source': '/var/genie-in-the-box/src/conf/long-term-memory/events.jsonl', 'seq_num': 12}),\n",
      " Document(page_content='{\"date\": \"2023-08-07\", \"start_time\": \"14:00\", \"end_time\": \"21:56\", \"event_type\": \"Workout\", \"recurrent\": false, \"recurrence_interval\": null, \"description\": \"This is a workout\", \"priority_level\": \"medium\"}', metadata={'source': '/var/genie-in-the-box/src/conf/long-term-memory/events.jsonl', 'seq_num': 13}),\n",
      " Document(page_content='{\"date\": \"2023-08-08\", \"start_time\": \"16:14\", \"end_time\": \"02:16\", \"event_type\": \"Task\", \"recurrent\": false, \"recurrence_interval\": null, \"description\": \"This is a task\", \"priority_level\": \"medium\"}', metadata={'source': '/var/genie-in-the-box/src/conf/long-term-memory/events.jsonl', 'seq_num': 14}),\n",
      " Document(page_content='{\"date\": \"2023-08-08\", \"start_time\": \"15:36\", \"end_time\": \"17:56\", \"event_type\": \"Task\", \"recurrent\": false, \"recurrence_interval\": null, \"description\": \"This is a task\", \"priority_level\": \"medium\"}', metadata={'source': '/var/genie-in-the-box/src/conf/long-term-memory/events.jsonl', 'seq_num': 15}),\n",
      " Document(page_content='{\"date\": \"2023-08-12\", \"start_time\": \"22:03\", \"end_time\": \"20:25\", \"event_type\": \"Meeting\", \"recurrent\": false, \"recurrence_interval\": null, \"description\": \"This is a meeting\", \"priority_level\": \"medium\"}', metadata={'source': '/var/genie-in-the-box/src/conf/long-term-memory/events.jsonl', 'seq_num': 16}),\n",
      " Document(page_content='{\"date\": \"2023-08-14\", \"start_time\": \"03:11\", \"end_time\": \"06:26\", \"event_type\": \"Workout\", \"recurrent\": false, \"recurrence_interval\": null, \"description\": \"This is a workout\", \"priority_level\": \"highest\"}', metadata={'source': '/var/genie-in-the-box/src/conf/long-term-memory/events.jsonl', 'seq_num': 17}),\n",
      " Document(page_content='{\"date\": \"2023-08-16\", \"start_time\": \"00:00\", \"end_time\": \"23:59\", \"event_type\": \"Subscription\", \"recurrent\": true, \"recurrence_interval\": \"2 month\", \"description\": \"This is a subscription\", \"priority_level\": \"low\"}', metadata={'source': '/var/genie-in-the-box/src/conf/long-term-memory/events.jsonl', 'seq_num': 18}),\n",
      " Document(page_content='{\"date\": \"2023-08-19\", \"start_time\": \"20:41\", \"end_time\": \"12:34\", \"event_type\": \"TODO\", \"recurrent\": false, \"recurrence_interval\": null, \"description\": \"This is a todo\", \"priority_level\": \"medium\"}', metadata={'source': '/var/genie-in-the-box/src/conf/long-term-memory/events.jsonl', 'seq_num': 19}),\n",
      " Document(page_content='{\"date\": \"2023-08-21\", \"start_time\": \"00:00\", \"end_time\": \"23:59\", \"event_type\": \"Concert\", \"recurrent\": false, \"recurrence_interval\": null, \"description\": \"This is a concert\", \"priority_level\": \"high\"}', metadata={'source': '/var/genie-in-the-box/src/conf/long-term-memory/events.jsonl', 'seq_num': 20}),\n",
      " Document(page_content='{\"date\": \"2023-08-21\", \"start_time\": \"00:00\", \"end_time\": \"23:59\", \"event_type\": \"Concert\", \"recurrent\": false, \"recurrence_interval\": null, \"description\": \"This is a concert\", \"priority_level\": \"low\"}', metadata={'source': '/var/genie-in-the-box/src/conf/long-term-memory/events.jsonl', 'seq_num': 21}),\n",
      " Document(page_content='{\"date\": \"2023-08-21\", \"start_time\": \"00:00\", \"end_time\": \"23:59\", \"event_type\": \"Performance\", \"recurrent\": false, \"recurrence_interval\": null, \"description\": \"This is a performance\", \"priority_level\": \"none\"}', metadata={'source': '/var/genie-in-the-box/src/conf/long-term-memory/events.jsonl', 'seq_num': 22}),\n",
      " Document(page_content='{\"date\": \"2023-08-23\", \"start_time\": \"12:22\", \"end_time\": \"19:23\", \"event_type\": \"TODO\", \"recurrent\": false, \"recurrence_interval\": null, \"description\": \"This is a todo\", \"priority_level\": \"none\"}', metadata={'source': '/var/genie-in-the-box/src/conf/long-term-memory/events.jsonl', 'seq_num': 23}),\n",
      " Document(page_content='{\"date\": \"2023-08-28\", \"start_time\": \"00:00\", \"end_time\": \"23:59\", \"event_type\": \"Birthday\", \"recurrent\": true, \"recurrence_interval\": \"1 year\", \"description\": \"Alice (aunt)\\'s birthday\", \"priority_level\": \"highest\"}', metadata={'source': '/var/genie-in-the-box/src/conf/long-term-memory/events.jsonl', 'seq_num': 24}),\n",
      " Document(page_content='{\"date\": \"2023-08-30\", \"start_time\": \"00:00\", \"end_time\": \"23:59\", \"event_type\": \"Anniversary\", \"recurrent\": true, \"recurrence_interval\": \"1 year\", \"description\": \"This is a anniversary\", \"priority_level\": \"highest\"}', metadata={'source': '/var/genie-in-the-box/src/conf/long-term-memory/events.jsonl', 'seq_num': 25}),\n",
      " Document(page_content='{\"date\": \"2023-09-03\", \"start_time\": \"00:00\", \"end_time\": \"23:59\", \"event_type\": \"Subscription\", \"recurrent\": true, \"recurrence_interval\": \"1 year\", \"description\": \"This is a subscription\", \"priority_level\": \"none\"}', metadata={'source': '/var/genie-in-the-box/src/conf/long-term-memory/events.jsonl', 'seq_num': 26}),\n",
      " Document(page_content='{\"date\": \"2023-09-04\", \"start_time\": \"15:26\", \"end_time\": \"07:57\", \"event_type\": \"Task\", \"recurrent\": false, \"recurrence_interval\": null, \"description\": \"This is a task\", \"priority_level\": \"medium\"}', metadata={'source': '/var/genie-in-the-box/src/conf/long-term-memory/events.jsonl', 'seq_num': 27}),\n",
      " Document(page_content='{\"date\": \"2023-09-05\", \"start_time\": \"00:00\", \"end_time\": \"23:59\", \"event_type\": \"Birthday\", \"recurrent\": true, \"recurrence_interval\": \"1 year\", \"description\": \"Inash (girlfriend)\\'s birthday\", \"priority_level\": \"highest\"}', metadata={'source': '/var/genie-in-the-box/src/conf/long-term-memory/events.jsonl', 'seq_num': 28}),\n",
      " Document(page_content='{\"date\": \"2023-09-11\", \"start_time\": \"17:55\", \"end_time\": \"23:40\", \"event_type\": \"Task\", \"recurrent\": false, \"recurrence_interval\": null, \"description\": \"This is a task\", \"priority_level\": \"low\"}', metadata={'source': '/var/genie-in-the-box/src/conf/long-term-memory/events.jsonl', 'seq_num': 29}),\n",
      " Document(page_content='{\"date\": \"2023-09-12\", \"start_time\": \"00:00\", \"end_time\": \"23:59\", \"event_type\": \"Subscription\", \"recurrent\": true, \"recurrence_interval\": \"5 year\", \"description\": \"This is a subscription\", \"priority_level\": \"medium\"}', metadata={'source': '/var/genie-in-the-box/src/conf/long-term-memory/events.jsonl', 'seq_num': 30}),\n",
      " Document(page_content='{\"date\": \"2023-09-12\", \"start_time\": \"14:07\", \"end_time\": \"11:15\", \"event_type\": \"Appointment\", \"recurrent\": false, \"recurrence_interval\": null, \"description\": \"This is a appointment\", \"priority_level\": \"highest\"}', metadata={'source': '/var/genie-in-the-box/src/conf/long-term-memory/events.jsonl', 'seq_num': 31}),\n",
      " Document(page_content='{\"date\": \"2023-09-13\", \"start_time\": \"00:00\", \"end_time\": \"23:59\", \"event_type\": \"Subscription\", \"recurrent\": true, \"recurrence_interval\": \"2 year\", \"description\": \"This is a subscription\", \"priority_level\": \"low\"}', metadata={'source': '/var/genie-in-the-box/src/conf/long-term-memory/events.jsonl', 'seq_num': 32}),\n",
      " Document(page_content='{\"date\": \"2023-09-13\", \"start_time\": \"07:53\", \"end_time\": \"20:56\", \"event_type\": \"Workshop\", \"recurrent\": false, \"recurrence_interval\": null, \"description\": \"This is a workshop\", \"priority_level\": \"low\"}', metadata={'source': '/var/genie-in-the-box/src/conf/long-term-memory/events.jsonl', 'seq_num': 33}),\n",
      " Document(page_content='{\"date\": \"2023-09-15\", \"start_time\": \"00:00\", \"end_time\": \"23:59\", \"event_type\": \"Conference\", \"recurrent\": false, \"recurrence_interval\": null, \"description\": \"This is a conference\", \"priority_level\": \"highest\"}', metadata={'source': '/var/genie-in-the-box/src/conf/long-term-memory/events.jsonl', 'seq_num': 34}),\n",
      " Document(page_content='{\"date\": \"2023-09-15\", \"start_time\": \"00:00\", \"end_time\": \"23:59\", \"event_type\": \"Concert\", \"recurrent\": false, \"recurrence_interval\": null, \"description\": \"This is a concert\", \"priority_level\": \"high\"}', metadata={'source': '/var/genie-in-the-box/src/conf/long-term-memory/events.jsonl', 'seq_num': 35}),\n",
      " Document(page_content='{\"date\": \"2023-09-16\", \"start_time\": \"00:00\", \"end_time\": \"23:59\", \"event_type\": \"Birthday\", \"recurrent\": true, \"recurrence_interval\": \"1 year\", \"description\": \"Tom Ruiz (brother)\\'s birthday\", \"priority_level\": \"none\"}', metadata={'source': '/var/genie-in-the-box/src/conf/long-term-memory/events.jsonl', 'seq_num': 36}),\n",
      " Document(page_content='{\"date\": \"2023-09-17\", \"start_time\": \"00:00\", \"end_time\": \"23:59\", \"event_type\": \"Birthday\", \"recurrent\": true, \"recurrence_interval\": \"1 year\", \"description\": \"Steve Ruiz (brother)\\'s birthday\", \"priority_level\": \"highest\"}', metadata={'source': '/var/genie-in-the-box/src/conf/long-term-memory/events.jsonl', 'seq_num': 37}),\n",
      " Document(page_content='{\"date\": \"2023-09-19\", \"start_time\": \"21:34\", \"end_time\": \"15:48\", \"event_type\": \"TODO\", \"recurrent\": false, \"recurrence_interval\": null, \"description\": \"This is a todo\", \"priority_level\": \"low\"}', metadata={'source': '/var/genie-in-the-box/src/conf/long-term-memory/events.jsonl', 'seq_num': 38}),\n",
      " Document(page_content='{\"date\": \"2023-09-19\", \"start_time\": \"23:48\", \"end_time\": \"13:32\", \"event_type\": \"Appointment\", \"recurrent\": false, \"recurrence_interval\": null, \"description\": \"This is a appointment\", \"priority_level\": \"none\"}', metadata={'source': '/var/genie-in-the-box/src/conf/long-term-memory/events.jsonl', 'seq_num': 39}),\n",
      " Document(page_content='{\"date\": \"2023-09-20\", \"start_time\": \"00:00\", \"end_time\": \"23:59\", \"event_type\": \"Concert\", \"recurrent\": false, \"recurrence_interval\": null, \"description\": \"This is a concert\", \"priority_level\": \"none\"}', metadata={'source': '/var/genie-in-the-box/src/conf/long-term-memory/events.jsonl', 'seq_num': 40}),\n",
      " Document(page_content='{\"date\": \"2023-09-22\", \"start_time\": \"00:00\", \"end_time\": \"23:59\", \"event_type\": \"Conference\", \"recurrent\": false, \"recurrence_interval\": null, \"description\": \"This is a conference\", \"priority_level\": \"medium\"}', metadata={'source': '/var/genie-in-the-box/src/conf/long-term-memory/events.jsonl', 'seq_num': 41}),\n",
      " Document(page_content='{\"date\": \"2023-09-23\", \"start_time\": \"15:24\", \"end_time\": \"02:10\", \"event_type\": \"Task\", \"recurrent\": false, \"recurrence_interval\": null, \"description\": \"This is a task\", \"priority_level\": \"high\"}', metadata={'source': '/var/genie-in-the-box/src/conf/long-term-memory/events.jsonl', 'seq_num': 42}),\n",
      " Document(page_content='{\"date\": \"2023-09-25\", \"start_time\": \"18:46\", \"end_time\": \"21:52\", \"event_type\": \"TODO\", \"recurrent\": false, \"recurrence_interval\": null, \"description\": \"This is a todo\", \"priority_level\": \"medium\"}', metadata={'source': '/var/genie-in-the-box/src/conf/long-term-memory/events.jsonl', 'seq_num': 43}),\n",
      " Document(page_content='{\"date\": \"2023-09-26\", \"start_time\": \"00:00\", \"end_time\": \"23:59\", \"event_type\": \"Subscription\", \"recurrent\": true, \"recurrence_interval\": \"4 year\", \"description\": \"This is a subscription\", \"priority_level\": \"medium\"}', metadata={'source': '/var/genie-in-the-box/src/conf/long-term-memory/events.jsonl', 'seq_num': 44}),\n",
      " Document(page_content='{\"date\": \"2023-09-26\", \"start_time\": \"00:00\", \"end_time\": \"23:59\", \"event_type\": \"Subscription\", \"recurrent\": true, \"recurrence_interval\": \"4 year\", \"description\": \"This is a subscription\", \"priority_level\": \"low\"}', metadata={'source': '/var/genie-in-the-box/src/conf/long-term-memory/events.jsonl', 'seq_num': 45}),\n",
      " Document(page_content='{\"date\": \"2023-09-28\", \"start_time\": \"22:45\", \"end_time\": \"11:15\", \"event_type\": \"TODO\", \"recurrent\": false, \"recurrence_interval\": null, \"description\": \"This is a todo\", \"priority_level\": \"highest\"}', metadata={'source': '/var/genie-in-the-box/src/conf/long-term-memory/events.jsonl', 'seq_num': 46}),\n",
      " Document(page_content='{\"date\": \"2023-09-29\", \"start_time\": \"00:00\", \"end_time\": \"23:59\", \"event_type\": \"Performance\", \"recurrent\": false, \"recurrence_interval\": null, \"description\": \"This is a performance\", \"priority_level\": \"medium\"}', metadata={'source': '/var/genie-in-the-box/src/conf/long-term-memory/events.jsonl', 'seq_num': 47}),\n",
      " Document(page_content='{\"date\": \"2023-09-29\", \"start_time\": \"02:52\", \"end_time\": \"15:51\", \"event_type\": \"Interview\", \"recurrent\": false, \"recurrence_interval\": null, \"description\": \"This is a interview\", \"priority_level\": \"medium\"}', metadata={'source': '/var/genie-in-the-box/src/conf/long-term-memory/events.jsonl', 'seq_num': 48}),\n",
      " Document(page_content='{\"date\": \"2023-09-29\", \"start_time\": \"13:45\", \"end_time\": \"06:39\", \"event_type\": \"Task\", \"recurrent\": false, \"recurrence_interval\": null, \"description\": \"This is a task\", \"priority_level\": \"low\"}', metadata={'source': '/var/genie-in-the-box/src/conf/long-term-memory/events.jsonl', 'seq_num': 49}),\n",
      " Document(page_content='{\"date\": \"2023-09-29\", \"start_time\": \"22:38\", \"end_time\": \"15:07\", \"event_type\": \"Meeting\", \"recurrent\": false, \"recurrence_interval\": null, \"description\": \"This is a meeting\", \"priority_level\": \"highest\"}', metadata={'source': '/var/genie-in-the-box/src/conf/long-term-memory/events.jsonl', 'seq_num': 50})]\n"
     ]
    }
   ],
   "source": [
    "jsonl_data = jsonl_loader.load()\n",
    "pprint( jsonl_data )"
   ],
   "metadata": {
    "collapsed": false,
    "ExecuteTime": {
     "end_time": "2023-08-09T16:21:05.524232Z",
     "start_time": "2023-08-09T16:21:05.510856Z"
    }
   }
  },
  {
   "cell_type": "code",
   "execution_count": 38,
   "outputs": [],
   "source": [
    "from langchain.indexes import VectorstoreIndexCreator"
   ],
   "metadata": {
    "collapsed": false,
    "ExecuteTime": {
     "end_time": "2023-08-09T16:21:09.477161Z",
     "start_time": "2023-08-09T16:21:09.472264Z"
    }
   }
  },
  {
   "cell_type": "code",
   "execution_count": 39,
   "outputs": [],
   "source": [
    "in_memory_csv_index = VectorstoreIndexCreator(\n",
    "    vectorstore_cls=DocArrayInMemorySearch\n",
    ").from_loaders( [ csv_loader ] )"
   ],
   "metadata": {
    "collapsed": false,
    "ExecuteTime": {
     "end_time": "2023-08-09T16:21:12.356312Z",
     "start_time": "2023-08-09T16:21:11.433649Z"
    }
   }
  },
  {
   "cell_type": "code",
   "execution_count": 40,
   "outputs": [],
   "source": [
    "in_memory_jsonl_index = VectorstoreIndexCreator(\n",
    "    vectorstore_cls=DocArrayInMemorySearch\n",
    ").from_loaders( [ jsonl_loader ] )"
   ],
   "metadata": {
    "collapsed": false,
    "ExecuteTime": {
     "end_time": "2023-08-09T16:21:14.969932Z",
     "start_time": "2023-08-09T16:21:14.169574Z"
    }
   }
  },
  {
   "cell_type": "code",
   "execution_count": 41,
   "outputs": [
    {
     "data": {
      "text/plain": "<IPython.core.display.Markdown object>",
      "text/markdown": " Barbara Jane Ruiz (mother). The metadata for her birthday is: date: 2023-07-30, start_time: 00:00, end_time: 23:59, event_type: Birthday, recurrent: true, recurrence_interval: 1 year, description: Barbara Jane Ruiz (mother)'s birthday, priority_level: high."
     },
     "metadata": {},
     "output_type": "display_data"
    }
   ],
   "source": [
    "# query = \"Do I have any birthdays in the month of July?\"\n",
    "query = \"What is the name of the person who has a birthday in the month of July? Return all metadata\"\n",
    "response = in_memory_jsonl_index.query( query )\n",
    "display( Markdown( response ) )"
   ],
   "metadata": {
    "collapsed": false,
    "ExecuteTime": {
     "end_time": "2023-08-09T16:21:17.559275Z",
     "start_time": "2023-08-09T16:21:15.844715Z"
    }
   }
  },
  {
   "cell_type": "code",
   "execution_count": 42,
   "outputs": [
    {
     "data": {
      "text/plain": "<IPython.core.display.Markdown object>",
      "text/markdown": " I don't know."
     },
     "metadata": {},
     "output_type": "display_data"
    }
   ],
   "source": [
    "# Create a function that allows us to query the index and print out a response\n",
    "def query_jsonl_index( query ):\n",
    "\n",
    "    response = in_memory_jsonl_index.query( query )\n",
    "    display( Markdown( response ) )\n",
    "\n",
    "# Where are the data for any upcoming concerts\n",
    "query_jsonl_index( \"How many TODO events do i have between July 25th, 2023 and September 28th, 2023? Return Date and description ordered by date ascending.  Format With markdown as a table. Format all dates as day of the week, month and year\" )"
   ],
   "metadata": {
    "collapsed": false,
    "ExecuteTime": {
     "end_time": "2023-08-09T16:21:24.187029Z",
     "start_time": "2023-08-09T16:21:23.596984Z"
    }
   }
  },
  {
   "cell_type": "code",
   "execution_count": 43,
   "outputs": [
    {
     "name": "stdout",
     "output_type": "stream",
     "text": [
      "{\"date\": \"2023-07-25\", \"start_time\": \"01:59\", \"end_time\": \"20:16\", \"event_type\": \"TODO\", \"recurrent\": false, \"recurrence_interval\": null, \"description\": \"This is a todo\", \"priority_level\": \"high\"}\n",
      "{\"date\": \"2023-08-19\", \"start_time\": \"20:41\", \"end_time\": \"12:34\", \"event_type\": \"TODO\", \"recurrent\": false, \"recurrence_interval\": null, \"description\": \"This is a todo\", \"priority_level\": \"medium\"}\n",
      "{\"date\": \"2023-08-23\", \"start_time\": \"12:22\", \"end_time\": \"19:23\", \"event_type\": \"TODO\", \"recurrent\": false, \"recurrence_interval\": null, \"description\": \"This is a todo\", \"priority_level\": \"none\"}\n",
      "{\"date\": \"2023-09-19\", \"start_time\": \"21:34\", \"end_time\": \"15:48\", \"event_type\": \"TODO\", \"recurrent\": false, \"recurrence_interval\": null, \"description\": \"This is a todo\", \"priority_level\": \"low\"}\n",
      "{\"date\": \"2023-09-25\", \"start_time\": \"18:46\", \"end_time\": \"21:52\", \"event_type\": \"TODO\", \"recurrent\": false, \"recurrence_interval\": null, \"description\": \"This is a todo\", \"priority_level\": \"medium\"}\n",
      "{\"date\": \"2023-09-28\", \"start_time\": \"22:45\", \"end_time\": \"11:15\", \"event_type\": \"TODO\", \"recurrent\": false, \"recurrence_interval\": null, \"description\": \"This is a todo\", \"priority_level\": \"highest\"}\n"
     ]
    }
   ],
   "source": [
    "# Sort data by date ascending\n",
    "# data = sorted( jsonl_data, key=lambda page_content: page_content[ \"date\" ] )\n",
    "\n",
    "for event in jsonl_data:\n",
    "\n",
    "    if \"TODO\" in event.page_content:\n",
    "        print( event.page_content )"
   ],
   "metadata": {
    "collapsed": false,
    "ExecuteTime": {
     "end_time": "2023-08-09T16:21:27.740195Z",
     "start_time": "2023-08-09T16:21:27.738166Z"
    }
   }
  },
  {
   "cell_type": "code",
   "execution_count": 44,
   "outputs": [
    {
     "data": {
      "text/plain": "<IPython.core.display.Markdown object>",
      "text/markdown": "\n\n2023-08-19: Start time: 20:41, End time: 12:34, Priority Level: medium\n2023-08-23: Start time: 12:22, End time: 19:23, Priority Level: none\n2023-09-19: Start time: 21:34, End time: 15:48, Priority Level: low\n2023-09-25: Start time: 18:46, End time: 21:52, Priority Level: medium"
     },
     "metadata": {},
     "output_type": "display_data"
    }
   ],
   "source": [
    "query_jsonl_index( \"Show me all TODO events, in ascending order by date.\" )"
   ],
   "metadata": {
    "collapsed": false,
    "ExecuteTime": {
     "end_time": "2023-08-09T16:21:31.953750Z",
     "start_time": "2023-08-09T16:21:29.744944Z"
    }
   }
  },
  {
   "cell_type": "code",
   "execution_count": 45,
   "outputs": [
    {
     "data": {
      "text/plain": "<IPython.core.display.Markdown object>",
      "text/markdown": " The events in ascending order by date are: \n2023-08-23: TODO (12:22 - 19:23, priority level: none)\n2023-09-15: Conference (00:00 - 23:59, priority level: highest)\n2023-09-22: Conference (00:00 - 23:59, priority level: medium)\n2023-09-29: Meeting (22:38 - 15:07, priority level: highest)"
     },
     "metadata": {},
     "output_type": "display_data"
    }
   ],
   "source": [
    "query_jsonl_index( \"Show me ALL events, in ascending order by date.\" )"
   ],
   "metadata": {
    "collapsed": false,
    "ExecuteTime": {
     "end_time": "2023-08-09T16:21:35.175166Z",
     "start_time": "2023-08-09T16:21:33.190793Z"
    }
   }
  },
  {
   "cell_type": "code",
   "execution_count": 46,
   "outputs": [
    {
     "data": {
      "text/plain": "<IPython.core.display.Markdown object>",
      "text/markdown": " No, I don't remember anything you've told or asked of me."
     },
     "metadata": {},
     "output_type": "display_data"
    }
   ],
   "source": [
    "query_jsonl_index( \"Do you remember anything I've told or asked of you?\" )"
   ],
   "metadata": {
    "collapsed": false,
    "ExecuteTime": {
     "end_time": "2023-08-09T16:21:39.646524Z",
     "start_time": "2023-08-09T16:21:38.553484Z"
    }
   }
  },
  {
   "cell_type": "code",
   "execution_count": 47,
   "outputs": [
    {
     "data": {
      "text/plain": "<IPython.core.display.Markdown object>",
      "text/markdown": " Today is September 11, 2023."
     },
     "metadata": {},
     "output_type": "display_data"
    }
   ],
   "source": [
    "query_jsonl_index( \"What day is today?\" )"
   ],
   "metadata": {
    "collapsed": false,
    "ExecuteTime": {
     "end_time": "2023-08-09T16:21:43.472352Z",
     "start_time": "2023-08-09T16:21:42.495453Z"
    }
   }
  },
  {
   "cell_type": "code",
   "execution_count": 29,
   "outputs": [
    {
     "data": {
      "text/plain": "<IPython.core.display.Markdown object>",
      "text/markdown": " There are four birthdays in this data set. They are Barbara Jane Ruiz (mother)'s birthday on July 30th, Alice (aunt)'s birthday on August 28th, Steve Ruiz (brother)'s birthday on September 17th, and Inash (girlfriend)'s birthday on September 5th."
     },
     "metadata": {},
     "output_type": "display_data"
    }
   ],
   "source": [
    "query_jsonl_index( \"How many birthdays in this data set? Display them in ascending order by date\" )"
   ],
   "metadata": {
    "collapsed": false,
    "ExecuteTime": {
     "end_time": "2023-08-09T03:13:44.404175Z",
     "start_time": "2023-08-09T03:13:41.274020Z"
    }
   }
  },
  {
   "cell_type": "code",
   "execution_count": 49,
   "outputs": [],
   "source": [
    "from chromadb.utils import embedding_functions"
   ],
   "metadata": {
    "collapsed": false,
    "ExecuteTime": {
     "end_time": "2023-08-09T16:22:30.332449Z",
     "start_time": "2023-08-09T16:22:30.280309Z"
    }
   }
  },
  {
   "cell_type": "code",
   "execution_count": 50,
   "outputs": [],
   "source": [
    "openai_ef = embedding_functions.OpenAIEmbeddingFunction( model_name=\"gpt-4-0613\" )"
   ],
   "metadata": {
    "collapsed": false,
    "ExecuteTime": {
     "end_time": "2023-08-09T16:22:48.882569Z",
     "start_time": "2023-08-09T16:22:48.878636Z"
    }
   }
  },
  {
   "cell_type": "code",
   "execution_count": 51,
   "outputs": [
    {
     "data": {
      "text/plain": "<chromadb.utils.embedding_functions.OpenAIEmbeddingFunction at 0x7f5d139ca770>"
     },
     "execution_count": 51,
     "metadata": {},
     "output_type": "execute_result"
    }
   ],
   "source": [
    "openai_ef"
   ],
   "metadata": {
    "collapsed": false,
    "ExecuteTime": {
     "end_time": "2023-08-09T16:22:50.989940Z",
     "start_time": "2023-08-09T16:22:50.980880Z"
    }
   }
  },
  {
   "cell_type": "code",
   "execution_count": 52,
   "outputs": [],
   "source": [
    "from langchain.embeddings.openai import OpenAIEmbeddings\n",
    "from langchain.vectorstores import Chroma\n",
    "\n",
    "embeddings = OpenAIEmbeddings()\n",
    "vectorstore = Chroma.from_documents( jsonl_data, embeddings )"
   ],
   "metadata": {
    "collapsed": false,
    "ExecuteTime": {
     "end_time": "2023-08-09T16:22:53.708246Z",
     "start_time": "2023-08-09T16:22:53.098859Z"
    }
   }
  },
  {
   "cell_type": "code",
   "execution_count": 53,
   "outputs": [
    {
     "data": {
      "text/plain": "langchain.vectorstores.chroma.Chroma"
     },
     "execution_count": 53,
     "metadata": {},
     "output_type": "execute_result"
    }
   ],
   "source": [
    "type( vectorstore )"
   ],
   "metadata": {
    "collapsed": false,
    "ExecuteTime": {
     "end_time": "2023-08-09T16:22:55.549862Z",
     "start_time": "2023-08-09T16:22:55.545500Z"
    }
   }
  },
  {
   "cell_type": "code",
   "execution_count": 54,
   "outputs": [
    {
     "data": {
      "text/plain": "{'ids': ['fdae21ae-36d0-11ee-bfaa-0242ac110002',\n  'fdae226c-36d0-11ee-bfaa-0242ac110002',\n  'fdae22da-36d0-11ee-bfaa-0242ac110002',\n  'fdae2334-36d0-11ee-bfaa-0242ac110002',\n  'fdae238e-36d0-11ee-bfaa-0242ac110002',\n  'fdae23e8-36d0-11ee-bfaa-0242ac110002',\n  'fdae2442-36d0-11ee-bfaa-0242ac110002',\n  'fdae249c-36d0-11ee-bfaa-0242ac110002',\n  'fdae24f6-36d0-11ee-bfaa-0242ac110002',\n  'fdae2546-36d0-11ee-bfaa-0242ac110002',\n  'fdae25a0-36d0-11ee-bfaa-0242ac110002',\n  'fdae25fa-36d0-11ee-bfaa-0242ac110002',\n  'fdae265e-36d0-11ee-bfaa-0242ac110002',\n  'fdae26b8-36d0-11ee-bfaa-0242ac110002',\n  'fdae2712-36d0-11ee-bfaa-0242ac110002',\n  'fdae276c-36d0-11ee-bfaa-0242ac110002',\n  'fdae27c6-36d0-11ee-bfaa-0242ac110002',\n  'fdae2820-36d0-11ee-bfaa-0242ac110002',\n  'fdae287a-36d0-11ee-bfaa-0242ac110002',\n  'fdae28d4-36d0-11ee-bfaa-0242ac110002',\n  'fdae2924-36d0-11ee-bfaa-0242ac110002',\n  'fdae297e-36d0-11ee-bfaa-0242ac110002',\n  'fdae29d8-36d0-11ee-bfaa-0242ac110002',\n  'fdae2a32-36d0-11ee-bfaa-0242ac110002',\n  'fdae2a82-36d0-11ee-bfaa-0242ac110002',\n  'fdae2adc-36d0-11ee-bfaa-0242ac110002',\n  'fdae2b36-36d0-11ee-bfaa-0242ac110002',\n  'fdae2b90-36d0-11ee-bfaa-0242ac110002',\n  'fdae2be0-36d0-11ee-bfaa-0242ac110002',\n  'fdae2c3a-36d0-11ee-bfaa-0242ac110002',\n  'fdae2c94-36d0-11ee-bfaa-0242ac110002',\n  'fdae2cee-36d0-11ee-bfaa-0242ac110002',\n  'fdae2ed8-36d0-11ee-bfaa-0242ac110002',\n  'fdae2f3c-36d0-11ee-bfaa-0242ac110002',\n  'fdae302c-36d0-11ee-bfaa-0242ac110002',\n  'fdae3086-36d0-11ee-bfaa-0242ac110002',\n  'fdae30d6-36d0-11ee-bfaa-0242ac110002',\n  'fdae3130-36d0-11ee-bfaa-0242ac110002',\n  'fdae3180-36d0-11ee-bfaa-0242ac110002',\n  'fdae31da-36d0-11ee-bfaa-0242ac110002',\n  'fdae3234-36d0-11ee-bfaa-0242ac110002',\n  'fdae328e-36d0-11ee-bfaa-0242ac110002',\n  'fdae32de-36d0-11ee-bfaa-0242ac110002',\n  'fdae3338-36d0-11ee-bfaa-0242ac110002',\n  'fdae3392-36d0-11ee-bfaa-0242ac110002',\n  'fdae33e2-36d0-11ee-bfaa-0242ac110002',\n  'fdae343c-36d0-11ee-bfaa-0242ac110002',\n  'fdae3496-36d0-11ee-bfaa-0242ac110002',\n  'fdae34e6-36d0-11ee-bfaa-0242ac110002',\n  'fdae3540-36d0-11ee-bfaa-0242ac110002'],\n 'embeddings': None,\n 'metadatas': [{'seq_num': 1,\n   'source': '/var/genie-in-the-box/src/conf/long-term-memory/events.jsonl'},\n  {'seq_num': 2,\n   'source': '/var/genie-in-the-box/src/conf/long-term-memory/events.jsonl'},\n  {'seq_num': 3,\n   'source': '/var/genie-in-the-box/src/conf/long-term-memory/events.jsonl'},\n  {'seq_num': 4,\n   'source': '/var/genie-in-the-box/src/conf/long-term-memory/events.jsonl'},\n  {'seq_num': 5,\n   'source': '/var/genie-in-the-box/src/conf/long-term-memory/events.jsonl'},\n  {'seq_num': 6,\n   'source': '/var/genie-in-the-box/src/conf/long-term-memory/events.jsonl'},\n  {'seq_num': 7,\n   'source': '/var/genie-in-the-box/src/conf/long-term-memory/events.jsonl'},\n  {'seq_num': 8,\n   'source': '/var/genie-in-the-box/src/conf/long-term-memory/events.jsonl'},\n  {'seq_num': 9,\n   'source': '/var/genie-in-the-box/src/conf/long-term-memory/events.jsonl'},\n  {'seq_num': 10,\n   'source': '/var/genie-in-the-box/src/conf/long-term-memory/events.jsonl'},\n  {'seq_num': 11,\n   'source': '/var/genie-in-the-box/src/conf/long-term-memory/events.jsonl'},\n  {'seq_num': 12,\n   'source': '/var/genie-in-the-box/src/conf/long-term-memory/events.jsonl'},\n  {'seq_num': 13,\n   'source': '/var/genie-in-the-box/src/conf/long-term-memory/events.jsonl'},\n  {'seq_num': 14,\n   'source': '/var/genie-in-the-box/src/conf/long-term-memory/events.jsonl'},\n  {'seq_num': 15,\n   'source': '/var/genie-in-the-box/src/conf/long-term-memory/events.jsonl'},\n  {'seq_num': 16,\n   'source': '/var/genie-in-the-box/src/conf/long-term-memory/events.jsonl'},\n  {'seq_num': 17,\n   'source': '/var/genie-in-the-box/src/conf/long-term-memory/events.jsonl'},\n  {'seq_num': 18,\n   'source': '/var/genie-in-the-box/src/conf/long-term-memory/events.jsonl'},\n  {'seq_num': 19,\n   'source': '/var/genie-in-the-box/src/conf/long-term-memory/events.jsonl'},\n  {'seq_num': 20,\n   'source': '/var/genie-in-the-box/src/conf/long-term-memory/events.jsonl'},\n  {'seq_num': 21,\n   'source': '/var/genie-in-the-box/src/conf/long-term-memory/events.jsonl'},\n  {'seq_num': 22,\n   'source': '/var/genie-in-the-box/src/conf/long-term-memory/events.jsonl'},\n  {'seq_num': 23,\n   'source': '/var/genie-in-the-box/src/conf/long-term-memory/events.jsonl'},\n  {'seq_num': 24,\n   'source': '/var/genie-in-the-box/src/conf/long-term-memory/events.jsonl'},\n  {'seq_num': 25,\n   'source': '/var/genie-in-the-box/src/conf/long-term-memory/events.jsonl'},\n  {'seq_num': 26,\n   'source': '/var/genie-in-the-box/src/conf/long-term-memory/events.jsonl'},\n  {'seq_num': 27,\n   'source': '/var/genie-in-the-box/src/conf/long-term-memory/events.jsonl'},\n  {'seq_num': 28,\n   'source': '/var/genie-in-the-box/src/conf/long-term-memory/events.jsonl'},\n  {'seq_num': 29,\n   'source': '/var/genie-in-the-box/src/conf/long-term-memory/events.jsonl'},\n  {'seq_num': 30,\n   'source': '/var/genie-in-the-box/src/conf/long-term-memory/events.jsonl'},\n  {'seq_num': 31,\n   'source': '/var/genie-in-the-box/src/conf/long-term-memory/events.jsonl'},\n  {'seq_num': 32,\n   'source': '/var/genie-in-the-box/src/conf/long-term-memory/events.jsonl'},\n  {'seq_num': 33,\n   'source': '/var/genie-in-the-box/src/conf/long-term-memory/events.jsonl'},\n  {'seq_num': 34,\n   'source': '/var/genie-in-the-box/src/conf/long-term-memory/events.jsonl'},\n  {'seq_num': 35,\n   'source': '/var/genie-in-the-box/src/conf/long-term-memory/events.jsonl'},\n  {'seq_num': 36,\n   'source': '/var/genie-in-the-box/src/conf/long-term-memory/events.jsonl'},\n  {'seq_num': 37,\n   'source': '/var/genie-in-the-box/src/conf/long-term-memory/events.jsonl'},\n  {'seq_num': 38,\n   'source': '/var/genie-in-the-box/src/conf/long-term-memory/events.jsonl'},\n  {'seq_num': 39,\n   'source': '/var/genie-in-the-box/src/conf/long-term-memory/events.jsonl'},\n  {'seq_num': 40,\n   'source': '/var/genie-in-the-box/src/conf/long-term-memory/events.jsonl'},\n  {'seq_num': 41,\n   'source': '/var/genie-in-the-box/src/conf/long-term-memory/events.jsonl'},\n  {'seq_num': 42,\n   'source': '/var/genie-in-the-box/src/conf/long-term-memory/events.jsonl'},\n  {'seq_num': 43,\n   'source': '/var/genie-in-the-box/src/conf/long-term-memory/events.jsonl'},\n  {'seq_num': 44,\n   'source': '/var/genie-in-the-box/src/conf/long-term-memory/events.jsonl'},\n  {'seq_num': 45,\n   'source': '/var/genie-in-the-box/src/conf/long-term-memory/events.jsonl'},\n  {'seq_num': 46,\n   'source': '/var/genie-in-the-box/src/conf/long-term-memory/events.jsonl'},\n  {'seq_num': 47,\n   'source': '/var/genie-in-the-box/src/conf/long-term-memory/events.jsonl'},\n  {'seq_num': 48,\n   'source': '/var/genie-in-the-box/src/conf/long-term-memory/events.jsonl'},\n  {'seq_num': 49,\n   'source': '/var/genie-in-the-box/src/conf/long-term-memory/events.jsonl'},\n  {'seq_num': 50,\n   'source': '/var/genie-in-the-box/src/conf/long-term-memory/events.jsonl'}],\n 'documents': ['{\"date\": \"2023-07-18\", \"start_time\": \"21:37\", \"end_time\": \"06:10\", \"event_type\": \"Meeting\", \"recurrent\": false, \"recurrence_interval\": null, \"description\": \"This is a meeting\", \"priority_level\": \"medium\"}',\n  '{\"date\": \"2023-07-19\", \"start_time\": \"00:00\", \"end_time\": \"23:59\", \"event_type\": \"Concert\", \"recurrent\": false, \"recurrence_interval\": null, \"description\": \"This is a concert\", \"priority_level\": \"none\"}',\n  '{\"date\": \"2023-07-20\", \"start_time\": \"00:00\", \"end_time\": \"23:59\", \"event_type\": \"Concert\", \"recurrent\": false, \"recurrence_interval\": null, \"description\": \"This is a concert\", \"priority_level\": \"none\"}',\n  '{\"date\": \"2023-07-23\", \"start_time\": \"08:30\", \"end_time\": \"19:48\", \"event_type\": \"Appointment\", \"recurrent\": false, \"recurrence_interval\": null, \"description\": \"This is a appointment\", \"priority_level\": \"low\"}',\n  '{\"date\": \"2023-07-23\", \"start_time\": \"00:00\", \"end_time\": \"23:59\", \"event_type\": \"Concert\", \"recurrent\": false, \"recurrence_interval\": null, \"description\": \"This is a concert\", \"priority_level\": \"highest\"}',\n  '{\"date\": \"2023-07-25\", \"start_time\": \"01:59\", \"end_time\": \"20:16\", \"event_type\": \"TODO\", \"recurrent\": false, \"recurrence_interval\": null, \"description\": \"This is a todo\", \"priority_level\": \"high\"}',\n  '{\"date\": \"2023-07-25\", \"start_time\": \"10:25\", \"end_time\": \"18:45\", \"event_type\": \"Interview\", \"recurrent\": false, \"recurrence_interval\": null, \"description\": \"This is a interview\", \"priority_level\": \"medium\"}',\n  '{\"date\": \"2023-07-29\", \"start_time\": \"07:04\", \"end_time\": \"09:12\", \"event_type\": \"Meeting\", \"recurrent\": false, \"recurrence_interval\": null, \"description\": \"This is a meeting\", \"priority_level\": \"low\"}',\n  '{\"date\": \"2023-07-30\", \"start_time\": \"00:00\", \"end_time\": \"23:59\", \"event_type\": \"Birthday\", \"recurrent\": true, \"recurrence_interval\": \"1 year\", \"description\": \"Barbara Jane Ruiz (mother)\\'s birthday\", \"priority_level\": \"high\"}',\n  '{\"date\": \"2023-08-02\", \"start_time\": \"22:51\", \"end_time\": \"00:08\", \"event_type\": \"Workout\", \"recurrent\": false, \"recurrence_interval\": null, \"description\": \"This is a workout\", \"priority_level\": \"high\"}',\n  '{\"date\": \"2023-08-03\", \"start_time\": \"00:00\", \"end_time\": \"23:59\", \"event_type\": \"Performance\", \"recurrent\": false, \"recurrence_interval\": null, \"description\": \"This is a performance\", \"priority_level\": \"none\"}',\n  '{\"date\": \"2023-08-05\", \"start_time\": \"23:09\", \"end_time\": \"19:57\", \"event_type\": \"Interview\", \"recurrent\": false, \"recurrence_interval\": null, \"description\": \"This is a interview\", \"priority_level\": \"highest\"}',\n  '{\"date\": \"2023-08-07\", \"start_time\": \"14:00\", \"end_time\": \"21:56\", \"event_type\": \"Workout\", \"recurrent\": false, \"recurrence_interval\": null, \"description\": \"This is a workout\", \"priority_level\": \"medium\"}',\n  '{\"date\": \"2023-08-08\", \"start_time\": \"16:14\", \"end_time\": \"02:16\", \"event_type\": \"Task\", \"recurrent\": false, \"recurrence_interval\": null, \"description\": \"This is a task\", \"priority_level\": \"medium\"}',\n  '{\"date\": \"2023-08-08\", \"start_time\": \"15:36\", \"end_time\": \"17:56\", \"event_type\": \"Task\", \"recurrent\": false, \"recurrence_interval\": null, \"description\": \"This is a task\", \"priority_level\": \"medium\"}',\n  '{\"date\": \"2023-08-12\", \"start_time\": \"22:03\", \"end_time\": \"20:25\", \"event_type\": \"Meeting\", \"recurrent\": false, \"recurrence_interval\": null, \"description\": \"This is a meeting\", \"priority_level\": \"medium\"}',\n  '{\"date\": \"2023-08-14\", \"start_time\": \"03:11\", \"end_time\": \"06:26\", \"event_type\": \"Workout\", \"recurrent\": false, \"recurrence_interval\": null, \"description\": \"This is a workout\", \"priority_level\": \"highest\"}',\n  '{\"date\": \"2023-08-16\", \"start_time\": \"00:00\", \"end_time\": \"23:59\", \"event_type\": \"Subscription\", \"recurrent\": true, \"recurrence_interval\": \"2 month\", \"description\": \"This is a subscription\", \"priority_level\": \"low\"}',\n  '{\"date\": \"2023-08-19\", \"start_time\": \"20:41\", \"end_time\": \"12:34\", \"event_type\": \"TODO\", \"recurrent\": false, \"recurrence_interval\": null, \"description\": \"This is a todo\", \"priority_level\": \"medium\"}',\n  '{\"date\": \"2023-08-21\", \"start_time\": \"00:00\", \"end_time\": \"23:59\", \"event_type\": \"Concert\", \"recurrent\": false, \"recurrence_interval\": null, \"description\": \"This is a concert\", \"priority_level\": \"high\"}',\n  '{\"date\": \"2023-08-21\", \"start_time\": \"00:00\", \"end_time\": \"23:59\", \"event_type\": \"Concert\", \"recurrent\": false, \"recurrence_interval\": null, \"description\": \"This is a concert\", \"priority_level\": \"low\"}',\n  '{\"date\": \"2023-08-21\", \"start_time\": \"00:00\", \"end_time\": \"23:59\", \"event_type\": \"Performance\", \"recurrent\": false, \"recurrence_interval\": null, \"description\": \"This is a performance\", \"priority_level\": \"none\"}',\n  '{\"date\": \"2023-08-23\", \"start_time\": \"12:22\", \"end_time\": \"19:23\", \"event_type\": \"TODO\", \"recurrent\": false, \"recurrence_interval\": null, \"description\": \"This is a todo\", \"priority_level\": \"none\"}',\n  '{\"date\": \"2023-08-28\", \"start_time\": \"00:00\", \"end_time\": \"23:59\", \"event_type\": \"Birthday\", \"recurrent\": true, \"recurrence_interval\": \"1 year\", \"description\": \"Alice (aunt)\\'s birthday\", \"priority_level\": \"highest\"}',\n  '{\"date\": \"2023-08-30\", \"start_time\": \"00:00\", \"end_time\": \"23:59\", \"event_type\": \"Anniversary\", \"recurrent\": true, \"recurrence_interval\": \"1 year\", \"description\": \"This is a anniversary\", \"priority_level\": \"highest\"}',\n  '{\"date\": \"2023-09-03\", \"start_time\": \"00:00\", \"end_time\": \"23:59\", \"event_type\": \"Subscription\", \"recurrent\": true, \"recurrence_interval\": \"1 year\", \"description\": \"This is a subscription\", \"priority_level\": \"none\"}',\n  '{\"date\": \"2023-09-04\", \"start_time\": \"15:26\", \"end_time\": \"07:57\", \"event_type\": \"Task\", \"recurrent\": false, \"recurrence_interval\": null, \"description\": \"This is a task\", \"priority_level\": \"medium\"}',\n  '{\"date\": \"2023-09-05\", \"start_time\": \"00:00\", \"end_time\": \"23:59\", \"event_type\": \"Birthday\", \"recurrent\": true, \"recurrence_interval\": \"1 year\", \"description\": \"Inash (girlfriend)\\'s birthday\", \"priority_level\": \"highest\"}',\n  '{\"date\": \"2023-09-11\", \"start_time\": \"17:55\", \"end_time\": \"23:40\", \"event_type\": \"Task\", \"recurrent\": false, \"recurrence_interval\": null, \"description\": \"This is a task\", \"priority_level\": \"low\"}',\n  '{\"date\": \"2023-09-12\", \"start_time\": \"00:00\", \"end_time\": \"23:59\", \"event_type\": \"Subscription\", \"recurrent\": true, \"recurrence_interval\": \"5 year\", \"description\": \"This is a subscription\", \"priority_level\": \"medium\"}',\n  '{\"date\": \"2023-09-12\", \"start_time\": \"14:07\", \"end_time\": \"11:15\", \"event_type\": \"Appointment\", \"recurrent\": false, \"recurrence_interval\": null, \"description\": \"This is a appointment\", \"priority_level\": \"highest\"}',\n  '{\"date\": \"2023-09-13\", \"start_time\": \"00:00\", \"end_time\": \"23:59\", \"event_type\": \"Subscription\", \"recurrent\": true, \"recurrence_interval\": \"2 year\", \"description\": \"This is a subscription\", \"priority_level\": \"low\"}',\n  '{\"date\": \"2023-09-13\", \"start_time\": \"07:53\", \"end_time\": \"20:56\", \"event_type\": \"Workshop\", \"recurrent\": false, \"recurrence_interval\": null, \"description\": \"This is a workshop\", \"priority_level\": \"low\"}',\n  '{\"date\": \"2023-09-15\", \"start_time\": \"00:00\", \"end_time\": \"23:59\", \"event_type\": \"Conference\", \"recurrent\": false, \"recurrence_interval\": null, \"description\": \"This is a conference\", \"priority_level\": \"highest\"}',\n  '{\"date\": \"2023-09-15\", \"start_time\": \"00:00\", \"end_time\": \"23:59\", \"event_type\": \"Concert\", \"recurrent\": false, \"recurrence_interval\": null, \"description\": \"This is a concert\", \"priority_level\": \"high\"}',\n  '{\"date\": \"2023-09-16\", \"start_time\": \"00:00\", \"end_time\": \"23:59\", \"event_type\": \"Birthday\", \"recurrent\": true, \"recurrence_interval\": \"1 year\", \"description\": \"Tom Ruiz (brother)\\'s birthday\", \"priority_level\": \"none\"}',\n  '{\"date\": \"2023-09-17\", \"start_time\": \"00:00\", \"end_time\": \"23:59\", \"event_type\": \"Birthday\", \"recurrent\": true, \"recurrence_interval\": \"1 year\", \"description\": \"Steve Ruiz (brother)\\'s birthday\", \"priority_level\": \"highest\"}',\n  '{\"date\": \"2023-09-19\", \"start_time\": \"21:34\", \"end_time\": \"15:48\", \"event_type\": \"TODO\", \"recurrent\": false, \"recurrence_interval\": null, \"description\": \"This is a todo\", \"priority_level\": \"low\"}',\n  '{\"date\": \"2023-09-19\", \"start_time\": \"23:48\", \"end_time\": \"13:32\", \"event_type\": \"Appointment\", \"recurrent\": false, \"recurrence_interval\": null, \"description\": \"This is a appointment\", \"priority_level\": \"none\"}',\n  '{\"date\": \"2023-09-20\", \"start_time\": \"00:00\", \"end_time\": \"23:59\", \"event_type\": \"Concert\", \"recurrent\": false, \"recurrence_interval\": null, \"description\": \"This is a concert\", \"priority_level\": \"none\"}',\n  '{\"date\": \"2023-09-22\", \"start_time\": \"00:00\", \"end_time\": \"23:59\", \"event_type\": \"Conference\", \"recurrent\": false, \"recurrence_interval\": null, \"description\": \"This is a conference\", \"priority_level\": \"medium\"}',\n  '{\"date\": \"2023-09-23\", \"start_time\": \"15:24\", \"end_time\": \"02:10\", \"event_type\": \"Task\", \"recurrent\": false, \"recurrence_interval\": null, \"description\": \"This is a task\", \"priority_level\": \"high\"}',\n  '{\"date\": \"2023-09-25\", \"start_time\": \"18:46\", \"end_time\": \"21:52\", \"event_type\": \"TODO\", \"recurrent\": false, \"recurrence_interval\": null, \"description\": \"This is a todo\", \"priority_level\": \"medium\"}',\n  '{\"date\": \"2023-09-26\", \"start_time\": \"00:00\", \"end_time\": \"23:59\", \"event_type\": \"Subscription\", \"recurrent\": true, \"recurrence_interval\": \"4 year\", \"description\": \"This is a subscription\", \"priority_level\": \"medium\"}',\n  '{\"date\": \"2023-09-26\", \"start_time\": \"00:00\", \"end_time\": \"23:59\", \"event_type\": \"Subscription\", \"recurrent\": true, \"recurrence_interval\": \"4 year\", \"description\": \"This is a subscription\", \"priority_level\": \"low\"}',\n  '{\"date\": \"2023-09-28\", \"start_time\": \"22:45\", \"end_time\": \"11:15\", \"event_type\": \"TODO\", \"recurrent\": false, \"recurrence_interval\": null, \"description\": \"This is a todo\", \"priority_level\": \"highest\"}',\n  '{\"date\": \"2023-09-29\", \"start_time\": \"00:00\", \"end_time\": \"23:59\", \"event_type\": \"Performance\", \"recurrent\": false, \"recurrence_interval\": null, \"description\": \"This is a performance\", \"priority_level\": \"medium\"}',\n  '{\"date\": \"2023-09-29\", \"start_time\": \"02:52\", \"end_time\": \"15:51\", \"event_type\": \"Interview\", \"recurrent\": false, \"recurrence_interval\": null, \"description\": \"This is a interview\", \"priority_level\": \"medium\"}',\n  '{\"date\": \"2023-09-29\", \"start_time\": \"13:45\", \"end_time\": \"06:39\", \"event_type\": \"Task\", \"recurrent\": false, \"recurrence_interval\": null, \"description\": \"This is a task\", \"priority_level\": \"low\"}',\n  '{\"date\": \"2023-09-29\", \"start_time\": \"22:38\", \"end_time\": \"15:07\", \"event_type\": \"Meeting\", \"recurrent\": false, \"recurrence_interval\": null, \"description\": \"This is a meeting\", \"priority_level\": \"highest\"}']}"
     },
     "execution_count": 54,
     "metadata": {},
     "output_type": "execute_result"
    }
   ],
   "source": [
    "vectorstore.get()"
   ],
   "metadata": {
    "collapsed": false,
    "ExecuteTime": {
     "end_time": "2023-08-09T16:22:59.212599Z",
     "start_time": "2023-08-09T16:22:59.205398Z"
    }
   }
  },
  {
   "cell_type": "code",
   "execution_count": 55,
   "outputs": [
    {
     "data": {
      "text/plain": "'{\"date\": \"2023-07-18\", \"start_time\": \"21:37\", \"end_time\": \"06:10\", \"event_type\": \"Meeting\", \"recurrent\": false, \"recurrence_interval\": null, \"description\": \"This is a meeting\", \"priority_level\": \"medium\"}'"
     },
     "execution_count": 55,
     "metadata": {},
     "output_type": "execute_result"
    }
   ],
   "source": [
    "type ( jsonl_data[ 0 ] )\n",
    "jsonl_data[ 0 ].page_content"
   ],
   "metadata": {
    "collapsed": false,
    "ExecuteTime": {
     "end_time": "2023-08-09T16:23:04.718173Z",
     "start_time": "2023-08-09T16:23:04.713079Z"
    }
   }
  },
  {
   "cell_type": "code",
   "execution_count": 56,
   "outputs": [],
   "source": [
    "from langchain.memory import ConversationBufferMemory\n",
    "from langchain.chains import ConversationalRetrievalChain\n",
    "\n",
    "memory = ConversationBufferMemory( memory_key=\"chat_history\", return_messages=True )"
   ],
   "metadata": {
    "collapsed": false,
    "ExecuteTime": {
     "end_time": "2023-08-09T16:23:07.164847Z",
     "start_time": "2023-08-09T16:23:07.157811Z"
    }
   }
  },
  {
   "cell_type": "code",
   "execution_count": 57,
   "outputs": [],
   "source": [
    "qa = ConversationalRetrievalChain.from_llm(\n",
    "    llm,\n",
    "    in_memory_jsonl_index.vectorstore.as_retriever(),\n",
    "    memory=memory\n",
    ")"
   ],
   "metadata": {
    "collapsed": false,
    "ExecuteTime": {
     "end_time": "2023-08-09T16:23:09.367552Z",
     "start_time": "2023-08-09T16:23:09.366016Z"
    }
   }
  },
  {
   "cell_type": "code",
   "execution_count": 58,
   "outputs": [
    {
     "data": {
      "text/plain": "'There are 4 birthdays in this dataset.'"
     },
     "execution_count": 58,
     "metadata": {},
     "output_type": "execute_result"
    }
   ],
   "source": [
    "query = \"How many birthdays are in this dataset?\"\n",
    "result = qa( { \"question\": query } )\n",
    "result[ \"answer\" ]"
   ],
   "metadata": {
    "collapsed": false,
    "ExecuteTime": {
     "end_time": "2023-08-09T16:23:14.004209Z",
     "start_time": "2023-08-09T16:23:11.383688Z"
    }
   }
  },
  {
   "cell_type": "code",
   "execution_count": 59,
   "outputs": [
    {
     "data": {
      "text/plain": "{'question': 'How many birthdays are in this dataset?',\n 'chat_history': [HumanMessage(content='How many birthdays are in this dataset?', additional_kwargs={}, example=False),\n  AIMessage(content='There are 4 birthdays in this dataset.', additional_kwargs={}, example=False)],\n 'answer': 'There are 4 birthdays in this dataset.'}"
     },
     "execution_count": 59,
     "metadata": {},
     "output_type": "execute_result"
    }
   ],
   "source": [
    "result"
   ],
   "metadata": {
    "collapsed": false,
    "ExecuteTime": {
     "end_time": "2023-08-09T16:23:17.889193Z",
     "start_time": "2023-08-09T16:23:17.881714Z"
    }
   }
  },
  {
   "cell_type": "code",
   "execution_count": 60,
   "outputs": [
    {
     "data": {
      "text/plain": "'The information provided does not specify how many times you have inquired about birthdays.'"
     },
     "execution_count": 60,
     "metadata": {},
     "output_type": "execute_result"
    }
   ],
   "source": [
    "def query_embeddings( query ):\n",
    "\n",
    "    result = qa( { \"question\": query } )\n",
    "\n",
    "    return result[ \"answer\" ]\n",
    "\n",
    "result = query_embeddings( \"How Many times have I asked you about birthdays?\" )\n",
    "result"
   ],
   "metadata": {
    "collapsed": false,
    "ExecuteTime": {
     "end_time": "2023-08-09T16:23:25.048857Z",
     "start_time": "2023-08-09T16:23:20.774096Z"
    }
   }
  },
  {
   "cell_type": "code",
   "execution_count": 61,
   "outputs": [
    {
     "data": {
      "text/plain": "\"The context doesn't provide information about today's date.\""
     },
     "execution_count": 61,
     "metadata": {},
     "output_type": "execute_result"
    }
   ],
   "source": [
    "query_embeddings( \"Today is Tuesday, July 25th, 2023.\" )"
   ],
   "metadata": {
    "collapsed": false,
    "ExecuteTime": {
     "end_time": "2023-08-09T16:23:38.509132Z",
     "start_time": "2023-08-09T16:23:34.221463Z"
    }
   }
  },
  {
   "cell_type": "code",
   "execution_count": 62,
   "outputs": [
    {
     "data": {
      "text/plain": "\"I'm sorry, I don't have the current date information.\""
     },
     "execution_count": 62,
     "metadata": {},
     "output_type": "execute_result"
    }
   ],
   "source": [
    "query_embeddings( \"What day is today?\" )"
   ],
   "metadata": {
    "collapsed": false,
    "ExecuteTime": {
     "end_time": "2023-08-09T16:23:47.363654Z",
     "start_time": "2023-08-09T16:23:41.485546Z"
    }
   }
  },
  {
   "cell_type": "code",
   "execution_count": 63,
   "outputs": [
    {
     "data": {
      "text/plain": "'Based on the provided context, there is no information about any other topics you have inquired about besides birthdays.'"
     },
     "execution_count": 63,
     "metadata": {},
     "output_type": "execute_result"
    }
   ],
   "source": [
    "query_embeddings( \"Other than birthdays, what else have i asked you about?\" )"
   ],
   "metadata": {
    "collapsed": false,
    "ExecuteTime": {
     "end_time": "2023-08-09T16:23:58.131379Z",
     "start_time": "2023-08-09T16:23:49.227348Z"
    }
   }
  },
  {
   "cell_type": "code",
   "execution_count": 64,
   "outputs": [
    {
     "data": {
      "text/plain": "'No, there are no events scheduled for Wednesday, August 9th, 2023.'"
     },
     "execution_count": 64,
     "metadata": {},
     "output_type": "execute_result"
    }
   ],
   "source": [
    "query_embeddings( \"Today is Wednesday, August 9th, 2023. Do I have any events today?\" )"
   ],
   "metadata": {
    "collapsed": false,
    "ExecuteTime": {
     "end_time": "2023-08-09T16:24:16.513354Z",
     "start_time": "2023-08-09T16:24:11.325668Z"
    }
   }
  },
  {
   "cell_type": "code",
   "execution_count": 66,
   "outputs": [
    {
     "data": {
      "text/plain": "ConversationBufferMemory(chat_memory=ChatMessageHistory(messages=[HumanMessage(content='How many birthdays are in this dataset?', additional_kwargs={}, example=False), AIMessage(content='There are 4 birthdays in this dataset.', additional_kwargs={}, example=False), HumanMessage(content='How Many times have I asked you about birthdays?', additional_kwargs={}, example=False), AIMessage(content='The information provided does not specify how many times you have inquired about birthdays.', additional_kwargs={}, example=False), HumanMessage(content='Today is Tuesday, July 25th, 2023.', additional_kwargs={}, example=False), AIMessage(content=\"The context doesn't provide information about today's date.\", additional_kwargs={}, example=False), HumanMessage(content='What day is today?', additional_kwargs={}, example=False), AIMessage(content=\"I'm sorry, I don't have the current date information.\", additional_kwargs={}, example=False), HumanMessage(content='Other than birthdays, what else have i asked you about?', additional_kwargs={}, example=False), AIMessage(content='Based on the provided context, there is no information about any other topics you have inquired about besides birthdays.', additional_kwargs={}, example=False), HumanMessage(content='Today is Wednesday, August 9th, 2023. Do I have any events today?', additional_kwargs={}, example=False), AIMessage(content='No, there are no events scheduled for Wednesday, August 9th, 2023.', additional_kwargs={}, example=False)]), output_key=None, input_key=None, return_messages=True, human_prefix='Human', ai_prefix='AI', memory_key='chat_history')"
     },
     "execution_count": 66,
     "metadata": {},
     "output_type": "execute_result"
    }
   ],
   "source": [
    "memory"
   ],
   "metadata": {
    "collapsed": false,
    "ExecuteTime": {
     "end_time": "2023-08-09T16:24:35.426213Z",
     "start_time": "2023-08-09T16:24:35.420431Z"
    }
   }
  },
  {
   "cell_type": "code",
   "execution_count": 67,
   "outputs": [
    {
     "data": {
      "text/plain": "\"The person with a birthday in the month of August in this dataset is Alice, who is an aunt. Here is all the available metadata:\\n\\n- Date: 2023-08-28\\n- Start time: 00:00\\n- End time: 23:59\\n- Event type: Birthday\\n- Recurrent: True\\n- Recurrence interval: 1 year\\n- Description: Alice (aunt)'s birthday\\n- Priority level: Highest\""
     },
     "execution_count": 67,
     "metadata": {},
     "output_type": "execute_result"
    }
   ],
   "source": [
    "query_embeddings( \"What is the name of the person who has a birthday in the month of August? Return all metadata\" )"
   ],
   "metadata": {
    "collapsed": false,
    "ExecuteTime": {
     "end_time": "2023-08-09T16:24:57.847636Z",
     "start_time": "2023-08-09T16:24:39.502796Z"
    }
   }
  },
  {
   "cell_type": "code",
   "execution_count": 68,
   "outputs": [
    {
     "data": {
      "text/plain": "\"Sure, here are the birthdays in the month of September:\\n\\n1. Inash (girlfriend)'s birthday on September 5th\\n2. Tom Ruiz (brother)'s birthday on September 16th\\n3. Steve Ruiz (brother)'s birthday on September 17th\""
     },
     "execution_count": 68,
     "metadata": {},
     "output_type": "execute_result"
    }
   ],
   "source": [
    "query_embeddings( \"list all birthdays in September, including name and date.\" )"
   ],
   "metadata": {
    "collapsed": false,
    "ExecuteTime": {
     "end_time": "2023-08-09T16:25:14.770653Z",
     "start_time": "2023-08-09T16:25:04.621442Z"
    }
   }
  },
  {
   "cell_type": "code",
   "execution_count": 69,
   "outputs": [
    {
     "data": {
      "text/plain": "ConversationBufferMemory(chat_memory=ChatMessageHistory(messages=[HumanMessage(content='How many birthdays are in this dataset?', additional_kwargs={}, example=False), AIMessage(content='There are 4 birthdays in this dataset.', additional_kwargs={}, example=False), HumanMessage(content='How Many times have I asked you about birthdays?', additional_kwargs={}, example=False), AIMessage(content='The information provided does not specify how many times you have inquired about birthdays.', additional_kwargs={}, example=False), HumanMessage(content='Today is Tuesday, July 25th, 2023.', additional_kwargs={}, example=False), AIMessage(content=\"The context doesn't provide information about today's date.\", additional_kwargs={}, example=False), HumanMessage(content='What day is today?', additional_kwargs={}, example=False), AIMessage(content=\"I'm sorry, I don't have the current date information.\", additional_kwargs={}, example=False), HumanMessage(content='Other than birthdays, what else have i asked you about?', additional_kwargs={}, example=False), AIMessage(content='Based on the provided context, there is no information about any other topics you have inquired about besides birthdays.', additional_kwargs={}, example=False), HumanMessage(content='Today is Wednesday, August 9th, 2023. Do I have any events today?', additional_kwargs={}, example=False), AIMessage(content='No, there are no events scheduled for Wednesday, August 9th, 2023.', additional_kwargs={}, example=False), HumanMessage(content='What is the name of the person who has a birthday in the month of August? Return all metadata', additional_kwargs={}, example=False), AIMessage(content=\"The person with a birthday in the month of August in this dataset is Alice, who is an aunt. Here is all the available metadata:\\n\\n- Date: 2023-08-28\\n- Start time: 00:00\\n- End time: 23:59\\n- Event type: Birthday\\n- Recurrent: True\\n- Recurrence interval: 1 year\\n- Description: Alice (aunt)'s birthday\\n- Priority level: Highest\", additional_kwargs={}, example=False), HumanMessage(content='list all birthdays in September, including name and date.', additional_kwargs={}, example=False), AIMessage(content=\"Sure, here are the birthdays in the month of September:\\n\\n1. Inash (girlfriend)'s birthday on September 5th\\n2. Tom Ruiz (brother)'s birthday on September 16th\\n3. Steve Ruiz (brother)'s birthday on September 17th\", additional_kwargs={}, example=False)]), output_key=None, input_key=None, return_messages=True, human_prefix='Human', ai_prefix='AI', memory_key='chat_history')"
     },
     "execution_count": 69,
     "metadata": {},
     "output_type": "execute_result"
    }
   ],
   "source": [
    "memory"
   ],
   "metadata": {
    "collapsed": false,
    "ExecuteTime": {
     "end_time": "2023-08-09T16:25:19.272514Z",
     "start_time": "2023-08-09T16:25:19.268897Z"
    }
   }
  },
  {
   "cell_type": "code",
   "execution_count": 70,
   "outputs": [
    {
     "data": {
      "text/plain": "\"No, Inash's birthday is not in the month of July. It is on September 5th.\""
     },
     "execution_count": 70,
     "metadata": {},
     "output_type": "execute_result"
    }
   ],
   "source": [
    "query_embeddings( \"Does Inash have a birthday in July?\" )"
   ],
   "metadata": {
    "collapsed": false,
    "ExecuteTime": {
     "end_time": "2023-08-09T16:25:26.559557Z",
     "start_time": "2023-08-09T16:25:21.532834Z"
    }
   }
  },
  {
   "cell_type": "code",
   "execution_count": 71,
   "outputs": [],
   "source": [
    "import pandas as pd"
   ],
   "metadata": {
    "collapsed": false,
    "ExecuteTime": {
     "end_time": "2023-08-09T16:25:29.848584Z",
     "start_time": "2023-08-09T16:25:29.841419Z"
    }
   }
  },
  {
   "cell_type": "code",
   "execution_count": 72,
   "outputs": [
    {
     "name": "stdout",
     "output_type": "stream",
     "text": [
      "<class 'pandas.core.frame.DataFrame'>\n",
      "RangeIndex: 200 entries, 0 to 199\n",
      "Data columns (total 10 columns):\n",
      " #   Column               Non-Null Count  Dtype \n",
      "---  ------               --------------  ----- \n",
      " 0   start_date           200 non-null    object\n",
      " 1   end_date             200 non-null    object\n",
      " 2   duration             200 non-null    int64 \n",
      " 3   start_time           200 non-null    object\n",
      " 4   end_time             200 non-null    object\n",
      " 5   event_type           200 non-null    object\n",
      " 6   recurrent            200 non-null    bool  \n",
      " 7   recurrence_interval  50 non-null     object\n",
      " 8   description          200 non-null    object\n",
      " 9   priority_level       200 non-null    object\n",
      "dtypes: bool(1), int64(1), object(8)\n",
      "memory usage: 14.4+ KB\n"
     ]
    }
   ],
   "source": [
    "# Load CSV data From file into the Pandas DataFrame.\n",
    "df = pd.read_csv( du.get_project_root() + \"/src/conf/long-term-memory/events.csv\" )\n",
    "df.info()"
   ],
   "metadata": {
    "collapsed": false,
    "ExecuteTime": {
     "end_time": "2023-08-09T16:25:34.274492Z",
     "start_time": "2023-08-09T16:25:34.111156Z"
    }
   }
  },
  {
   "cell_type": "code",
   "execution_count": 73,
   "outputs": [],
   "source": [
    "df.recurrence_interval = df.recurrence_interval.fillna( \"None\" )\n",
    "df.replace( { \"recurrent\": { True: \"Yes\", False: \"No\" } }, inplace=True )"
   ],
   "metadata": {
    "collapsed": false,
    "ExecuteTime": {
     "end_time": "2023-08-09T16:25:42.840167Z",
     "start_time": "2023-08-09T16:25:42.836860Z"
    }
   }
  },
  {
   "cell_type": "code",
   "execution_count": 74,
   "outputs": [
    {
     "data": {
      "text/plain": "     start_date    end_date  duration start_time end_time   event_type  \\\n0    2023-07-01  2023-07-01         0      00:00    23:59   Conference   \n1    2023-07-01  2023-07-01         0      00:00    23:59  Performance   \n2    2023-07-02  2023-07-02         0      00:00    23:59      Concert   \n3    2023-07-02  2023-07-05         3      02:38    11:03         Task   \n4    2023-07-02  2023-07-07         5      09:26    04:56      Workout   \n..          ...         ...       ...        ...      ...          ...   \n195  2023-08-31  2023-09-05         5      00:00    23:59  Anniversary   \n196  2023-09-01  2023-09-06         5      04:10    02:49     Workshop   \n197  2023-09-01  2023-09-01         0      12:14    01:55      Workout   \n198  2023-09-01  2023-09-08         7      15:50    08:22         TODO   \n199  2023-09-01  2023-09-08         7      18:50    22:56     Workshop   \n\n    recurrent recurrence_interval                    description  \\\n0          No                None          This is a conference.   \n1          No                None         This is a performance.   \n2          No                None             This is a concert.   \n3          No                None                This is a task.   \n4          No                None             This is a workout.   \n..        ...                 ...                            ...   \n195       Yes              5 year  John (coworker)'s anniversary   \n196        No                None            This is a workshop.   \n197        No                None             This is a workout.   \n198        No                None                This is a todo.   \n199        No                None            This is a workshop.   \n\n    priority_level  \n0              low  \n1          highest  \n2              low  \n3          highest  \n4             high  \n..             ...  \n195        highest  \n196           none  \n197            low  \n198           none  \n199           none  \n\n[200 rows x 10 columns]",
      "text/html": "<div>\n<style scoped>\n    .dataframe tbody tr th:only-of-type {\n        vertical-align: middle;\n    }\n\n    .dataframe tbody tr th {\n        vertical-align: top;\n    }\n\n    .dataframe thead th {\n        text-align: right;\n    }\n</style>\n<table border=\"1\" class=\"dataframe\">\n  <thead>\n    <tr style=\"text-align: right;\">\n      <th></th>\n      <th>start_date</th>\n      <th>end_date</th>\n      <th>duration</th>\n      <th>start_time</th>\n      <th>end_time</th>\n      <th>event_type</th>\n      <th>recurrent</th>\n      <th>recurrence_interval</th>\n      <th>description</th>\n      <th>priority_level</th>\n    </tr>\n  </thead>\n  <tbody>\n    <tr>\n      <th>0</th>\n      <td>2023-07-01</td>\n      <td>2023-07-01</td>\n      <td>0</td>\n      <td>00:00</td>\n      <td>23:59</td>\n      <td>Conference</td>\n      <td>No</td>\n      <td>None</td>\n      <td>This is a conference.</td>\n      <td>low</td>\n    </tr>\n    <tr>\n      <th>1</th>\n      <td>2023-07-01</td>\n      <td>2023-07-01</td>\n      <td>0</td>\n      <td>00:00</td>\n      <td>23:59</td>\n      <td>Performance</td>\n      <td>No</td>\n      <td>None</td>\n      <td>This is a performance.</td>\n      <td>highest</td>\n    </tr>\n    <tr>\n      <th>2</th>\n      <td>2023-07-02</td>\n      <td>2023-07-02</td>\n      <td>0</td>\n      <td>00:00</td>\n      <td>23:59</td>\n      <td>Concert</td>\n      <td>No</td>\n      <td>None</td>\n      <td>This is a concert.</td>\n      <td>low</td>\n    </tr>\n    <tr>\n      <th>3</th>\n      <td>2023-07-02</td>\n      <td>2023-07-05</td>\n      <td>3</td>\n      <td>02:38</td>\n      <td>11:03</td>\n      <td>Task</td>\n      <td>No</td>\n      <td>None</td>\n      <td>This is a task.</td>\n      <td>highest</td>\n    </tr>\n    <tr>\n      <th>4</th>\n      <td>2023-07-02</td>\n      <td>2023-07-07</td>\n      <td>5</td>\n      <td>09:26</td>\n      <td>04:56</td>\n      <td>Workout</td>\n      <td>No</td>\n      <td>None</td>\n      <td>This is a workout.</td>\n      <td>high</td>\n    </tr>\n    <tr>\n      <th>...</th>\n      <td>...</td>\n      <td>...</td>\n      <td>...</td>\n      <td>...</td>\n      <td>...</td>\n      <td>...</td>\n      <td>...</td>\n      <td>...</td>\n      <td>...</td>\n      <td>...</td>\n    </tr>\n    <tr>\n      <th>195</th>\n      <td>2023-08-31</td>\n      <td>2023-09-05</td>\n      <td>5</td>\n      <td>00:00</td>\n      <td>23:59</td>\n      <td>Anniversary</td>\n      <td>Yes</td>\n      <td>5 year</td>\n      <td>John (coworker)'s anniversary</td>\n      <td>highest</td>\n    </tr>\n    <tr>\n      <th>196</th>\n      <td>2023-09-01</td>\n      <td>2023-09-06</td>\n      <td>5</td>\n      <td>04:10</td>\n      <td>02:49</td>\n      <td>Workshop</td>\n      <td>No</td>\n      <td>None</td>\n      <td>This is a workshop.</td>\n      <td>none</td>\n    </tr>\n    <tr>\n      <th>197</th>\n      <td>2023-09-01</td>\n      <td>2023-09-01</td>\n      <td>0</td>\n      <td>12:14</td>\n      <td>01:55</td>\n      <td>Workout</td>\n      <td>No</td>\n      <td>None</td>\n      <td>This is a workout.</td>\n      <td>low</td>\n    </tr>\n    <tr>\n      <th>198</th>\n      <td>2023-09-01</td>\n      <td>2023-09-08</td>\n      <td>7</td>\n      <td>15:50</td>\n      <td>08:22</td>\n      <td>TODO</td>\n      <td>No</td>\n      <td>None</td>\n      <td>This is a todo.</td>\n      <td>none</td>\n    </tr>\n    <tr>\n      <th>199</th>\n      <td>2023-09-01</td>\n      <td>2023-09-08</td>\n      <td>7</td>\n      <td>18:50</td>\n      <td>22:56</td>\n      <td>Workshop</td>\n      <td>No</td>\n      <td>None</td>\n      <td>This is a workshop.</td>\n      <td>none</td>\n    </tr>\n  </tbody>\n</table>\n<p>200 rows × 10 columns</p>\n</div>"
     },
     "execution_count": 74,
     "metadata": {},
     "output_type": "execute_result"
    }
   ],
   "source": [
    "df"
   ],
   "metadata": {
    "collapsed": false,
    "ExecuteTime": {
     "end_time": "2023-08-09T16:25:48.350130Z",
     "start_time": "2023-08-09T16:25:48.327309Z"
    }
   }
  },
  {
   "cell_type": "code",
   "execution_count": 76,
   "outputs": [
    {
     "data": {
      "text/plain": "0      Date: 2023-07-01 Event: Conference, Start Time...\n1      Date: 2023-07-01 Event: Performance, Start Tim...\n2      Date: 2023-07-02 Event: Concert, Start Time: 0...\n3      Date: 2023-07-02 Event: Task, Start Time: 02:3...\n4      Date: 2023-07-02 Event: Workout, Start Time: 0...\n                             ...                        \n195    Date: 2023-08-31 Event: Anniversary, Start Tim...\n196    Date: 2023-09-01 Event: Workshop, Start Time: ...\n197    Date: 2023-09-01 Event: Workout, Start Time: 1...\n198    Date: 2023-09-01 Event: TODO, Start Time: 15:5...\n199    Date: 2023-09-01 Event: Workshop, Start Time: ...\nName: text, Length: 200, dtype: object"
     },
     "execution_count": 76,
     "metadata": {},
     "output_type": "execute_result"
    }
   ],
   "source": [
    "df[ \"text\" ] = \"Date: \" + df.start_date + \" Event: \" + df.event_type + \", Start Time: \" + df.start_time + \", End Time: \" + df.end_time + \". Description: \" + df.description + \" Priority: \" + df.priority_level + \", Recurrent: \" + df.recurrent.astype( str ) + \", Interval: \" + df.recurrence_interval\n",
    "df.text"
   ],
   "metadata": {
    "collapsed": false,
    "ExecuteTime": {
     "end_time": "2023-08-09T16:26:13.539523Z",
     "start_time": "2023-08-09T16:26:13.528282Z"
    }
   }
  },
  {
   "cell_type": "code",
   "execution_count": 77,
   "outputs": [],
   "source": [
    "from langchain.document_loaders import DataFrameLoader"
   ],
   "metadata": {
    "collapsed": false,
    "ExecuteTime": {
     "end_time": "2023-08-09T16:26:18.825542Z",
     "start_time": "2023-08-09T16:26:18.820541Z"
    }
   }
  },
  {
   "cell_type": "code",
   "execution_count": 78,
   "outputs": [
    {
     "name": "stdout",
     "output_type": "stream",
     "text": [
      "[Document(page_content='Date: 2023-07-01 Event: Conference, Start Time: 00:00, End Time: 23:59. Description: This is a conference. Priority: low, Recurrent: No, Interval: None', metadata={'start_date': '2023-07-01', 'end_date': '2023-07-01', 'duration': 0, 'start_time': '00:00', 'end_time': '23:59', 'event_type': 'Conference', 'recurrent': 'No', 'recurrence_interval': 'None', 'description': 'This is a conference.', 'priority_level': 'low'}),\n",
      " Document(page_content='Date: 2023-07-01 Event: Performance, Start Time: 00:00, End Time: 23:59. Description: This is a performance. Priority: highest, Recurrent: No, Interval: None', metadata={'start_date': '2023-07-01', 'end_date': '2023-07-01', 'duration': 0, 'start_time': '00:00', 'end_time': '23:59', 'event_type': 'Performance', 'recurrent': 'No', 'recurrence_interval': 'None', 'description': 'This is a performance.', 'priority_level': 'highest'}),\n",
      " Document(page_content='Date: 2023-07-02 Event: Concert, Start Time: 00:00, End Time: 23:59. Description: This is a concert. Priority: low, Recurrent: No, Interval: None', metadata={'start_date': '2023-07-02', 'end_date': '2023-07-02', 'duration': 0, 'start_time': '00:00', 'end_time': '23:59', 'event_type': 'Concert', 'recurrent': 'No', 'recurrence_interval': 'None', 'description': 'This is a concert.', 'priority_level': 'low'}),\n",
      " Document(page_content='Date: 2023-07-02 Event: Task, Start Time: 02:38, End Time: 11:03. Description: This is a task. Priority: highest, Recurrent: No, Interval: None', metadata={'start_date': '2023-07-02', 'end_date': '2023-07-05', 'duration': 3, 'start_time': '02:38', 'end_time': '11:03', 'event_type': 'Task', 'recurrent': 'No', 'recurrence_interval': 'None', 'description': 'This is a task.', 'priority_level': 'highest'}),\n",
      " Document(page_content='Date: 2023-07-02 Event: Workout, Start Time: 09:26, End Time: 04:56. Description: This is a workout. Priority: high, Recurrent: No, Interval: None', metadata={'start_date': '2023-07-02', 'end_date': '2023-07-07', 'duration': 5, 'start_time': '09:26', 'end_time': '04:56', 'event_type': 'Workout', 'recurrent': 'No', 'recurrence_interval': 'None', 'description': 'This is a workout.', 'priority_level': 'high'}),\n",
      " Document(page_content='Date: 2023-07-02 Event: TODO, Start Time: 13:49, End Time: 06:49. Description: This is a todo. Priority: highest, Recurrent: No, Interval: None', metadata={'start_date': '2023-07-02', 'end_date': '2023-07-09', 'duration': 7, 'start_time': '13:49', 'end_time': '06:49', 'event_type': 'TODO', 'recurrent': 'No', 'recurrence_interval': 'None', 'description': 'This is a todo.', 'priority_level': 'highest'}),\n",
      " Document(page_content='Date: 2023-07-02 Event: Workout, Start Time: 20:45, End Time: 14:49. Description: This is a workout. Priority: none, Recurrent: No, Interval: None', metadata={'start_date': '2023-07-02', 'end_date': '2023-07-05', 'duration': 3, 'start_time': '20:45', 'end_time': '14:49', 'event_type': 'Workout', 'recurrent': 'No', 'recurrence_interval': 'None', 'description': 'This is a workout.', 'priority_level': 'none'}),\n",
      " Document(page_content='Date: 2023-07-03 Event: TODO, Start Time: 03:20, End Time: 09:26. Description: This is a todo. Priority: highest, Recurrent: No, Interval: None', metadata={'start_date': '2023-07-03', 'end_date': '2023-07-04', 'duration': 1, 'start_time': '03:20', 'end_time': '09:26', 'event_type': 'TODO', 'recurrent': 'No', 'recurrence_interval': 'None', 'description': 'This is a todo.', 'priority_level': 'highest'}),\n",
      " Document(page_content='Date: 2023-07-03 Event: Task, Start Time: 14:51, End Time: 03:18. Description: This is a task. Priority: medium, Recurrent: No, Interval: None', metadata={'start_date': '2023-07-03', 'end_date': '2023-07-10', 'duration': 7, 'start_time': '14:51', 'end_time': '03:18', 'event_type': 'Task', 'recurrent': 'No', 'recurrence_interval': 'None', 'description': 'This is a task.', 'priority_level': 'medium'}),\n",
      " Document(page_content='Date: 2023-07-03 Event: Interview, Start Time: 16:52, End Time: 22:16. Description: This is a interview. Priority: none, Recurrent: No, Interval: None', metadata={'start_date': '2023-07-03', 'end_date': '2023-07-10', 'duration': 7, 'start_time': '16:52', 'end_time': '22:16', 'event_type': 'Interview', 'recurrent': 'No', 'recurrence_interval': 'None', 'description': 'This is a interview.', 'priority_level': 'none'}),\n",
      " Document(page_content='Date: 2023-07-04 Event: TODO, Start Time: 10:00, End Time: 19:11. Description: This is a todo. Priority: high, Recurrent: No, Interval: None', metadata={'start_date': '2023-07-04', 'end_date': '2023-07-04', 'duration': 0, 'start_time': '10:00', 'end_time': '19:11', 'event_type': 'TODO', 'recurrent': 'No', 'recurrence_interval': 'None', 'description': 'This is a todo.', 'priority_level': 'high'}),\n",
      " Document(page_content='Date: 2023-07-04 Event: Workout, Start Time: 18:06, End Time: 08:32. Description: This is a workout. Priority: medium, Recurrent: No, Interval: None', metadata={'start_date': '2023-07-04', 'end_date': '2023-07-09', 'duration': 5, 'start_time': '18:06', 'end_time': '08:32', 'event_type': 'Workout', 'recurrent': 'No', 'recurrence_interval': 'None', 'description': 'This is a workout.', 'priority_level': 'medium'}),\n",
      " Document(page_content='Date: 2023-07-05 Event: Performance, Start Time: 00:00, End Time: 23:59. Description: This is a performance. Priority: low, Recurrent: No, Interval: None', metadata={'start_date': '2023-07-05', 'end_date': '2023-07-05', 'duration': 0, 'start_time': '00:00', 'end_time': '23:59', 'event_type': 'Performance', 'recurrent': 'No', 'recurrence_interval': 'None', 'description': 'This is a performance.', 'priority_level': 'low'}),\n",
      " Document(page_content='Date: 2023-07-05 Event: Meeting, Start Time: 03:44, End Time: 03:41. Description: This is a meeting. Priority: medium, Recurrent: No, Interval: None', metadata={'start_date': '2023-07-05', 'end_date': '2023-07-05', 'duration': 0, 'start_time': '03:44', 'end_time': '03:41', 'event_type': 'Meeting', 'recurrent': 'No', 'recurrence_interval': 'None', 'description': 'This is a meeting.', 'priority_level': 'medium'}),\n",
      " Document(page_content='Date: 2023-07-05 Event: Workshop, Start Time: 09:52, End Time: 12:03. Description: This is a workshop. Priority: none, Recurrent: No, Interval: None', metadata={'start_date': '2023-07-05', 'end_date': '2023-07-05', 'duration': 0, 'start_time': '09:52', 'end_time': '12:03', 'event_type': 'Workshop', 'recurrent': 'No', 'recurrence_interval': 'None', 'description': 'This is a workshop.', 'priority_level': 'none'}),\n",
      " Document(page_content='Date: 2023-07-05 Event: Task, Start Time: 14:04, End Time: 20:18. Description: This is a task. Priority: highest, Recurrent: No, Interval: None', metadata={'start_date': '2023-07-05', 'end_date': '2023-07-05', 'duration': 0, 'start_time': '14:04', 'end_time': '20:18', 'event_type': 'Task', 'recurrent': 'No', 'recurrence_interval': 'None', 'description': 'This is a task.', 'priority_level': 'highest'}),\n",
      " Document(page_content='Date: 2023-07-06 Event: Concert, Start Time: 00:00, End Time: 23:59. Description: This is a concert. Priority: highest, Recurrent: No, Interval: None', metadata={'start_date': '2023-07-06', 'end_date': '2023-07-07', 'duration': 1, 'start_time': '00:00', 'end_time': '23:59', 'event_type': 'Concert', 'recurrent': 'No', 'recurrence_interval': 'None', 'description': 'This is a concert.', 'priority_level': 'highest'}),\n",
      " Document(page_content=\"Date: 2023-07-06 Event: Anniversary, Start Time: 00:00, End Time: 23:59. Description: Bob (brother)'s anniversary Priority: highest, Recurrent: Yes, Interval: 1 day\", metadata={'start_date': '2023-07-06', 'end_date': '2023-07-06', 'duration': 0, 'start_time': '00:00', 'end_time': '23:59', 'event_type': 'Anniversary', 'recurrent': 'Yes', 'recurrence_interval': '1 day', 'description': \"Bob (brother)'s anniversary\", 'priority_level': 'highest'}),\n",
      " Document(page_content=\"Date: 2023-07-06 Event: Birthday, Start Time: 00:00, End Time: 23:59. Description: Tom Ruiz (brother)'s birthday Priority: high, Recurrent: Yes, Interval: 2 year\", metadata={'start_date': '2023-07-06', 'end_date': '2023-07-07', 'duration': 1, 'start_time': '00:00', 'end_time': '23:59', 'event_type': 'Birthday', 'recurrent': 'Yes', 'recurrence_interval': '2 year', 'description': \"Tom Ruiz (brother)'s birthday\", 'priority_level': 'high'}),\n",
      " Document(page_content='Date: 2023-07-06 Event: TODO, Start Time: 17:13, End Time: 05:59. Description: This is a todo. Priority: highest, Recurrent: No, Interval: None', metadata={'start_date': '2023-07-06', 'end_date': '2023-07-07', 'duration': 1, 'start_time': '17:13', 'end_time': '05:59', 'event_type': 'TODO', 'recurrent': 'No', 'recurrence_interval': 'None', 'description': 'This is a todo.', 'priority_level': 'highest'}),\n",
      " Document(page_content='Date: 2023-07-07 Event: Conference, Start Time: 00:00, End Time: 23:59. Description: This is a conference. Priority: medium, Recurrent: No, Interval: None', metadata={'start_date': '2023-07-07', 'end_date': '2023-07-07', 'duration': 0, 'start_time': '00:00', 'end_time': '23:59', 'event_type': 'Conference', 'recurrent': 'No', 'recurrence_interval': 'None', 'description': 'This is a conference.', 'priority_level': 'medium'}),\n",
      " Document(page_content='Date: 2023-07-07 Event: Concert, Start Time: 00:00, End Time: 23:59. Description: This is a concert. Priority: high, Recurrent: No, Interval: None', metadata={'start_date': '2023-07-07', 'end_date': '2023-07-08', 'duration': 1, 'start_time': '00:00', 'end_time': '23:59', 'event_type': 'Concert', 'recurrent': 'No', 'recurrence_interval': 'None', 'description': 'This is a concert.', 'priority_level': 'high'}),\n",
      " Document(page_content='Date: 2023-07-07 Event: Concert, Start Time: 00:00, End Time: 23:59. Description: This is a concert. Priority: highest, Recurrent: No, Interval: None', metadata={'start_date': '2023-07-07', 'end_date': '2023-07-14', 'duration': 7, 'start_time': '00:00', 'end_time': '23:59', 'event_type': 'Concert', 'recurrent': 'No', 'recurrence_interval': 'None', 'description': 'This is a concert.', 'priority_level': 'highest'}),\n",
      " Document(page_content='Date: 2023-07-07 Event: Meeting, Start Time: 08:58, End Time: 23:53. Description: This is a meeting. Priority: highest, Recurrent: No, Interval: None', metadata={'start_date': '2023-07-07', 'end_date': '2023-07-07', 'duration': 0, 'start_time': '08:58', 'end_time': '23:53', 'event_type': 'Meeting', 'recurrent': 'No', 'recurrence_interval': 'None', 'description': 'This is a meeting.', 'priority_level': 'highest'}),\n",
      " Document(page_content='Date: 2023-07-07 Event: Interview, Start Time: 08:59, End Time: 04:35. Description: This is a interview. Priority: none, Recurrent: No, Interval: None', metadata={'start_date': '2023-07-07', 'end_date': '2023-07-10', 'duration': 3, 'start_time': '08:59', 'end_time': '04:35', 'event_type': 'Interview', 'recurrent': 'No', 'recurrence_interval': 'None', 'description': 'This is a interview.', 'priority_level': 'none'}),\n",
      " Document(page_content=\"Date: 2023-07-08 Event: Anniversary, Start Time: 00:00, End Time: 23:59. Description: Tom Ruiz (brother)'s anniversary Priority: low, Recurrent: Yes, Interval: 3 year\", metadata={'start_date': '2023-07-08', 'end_date': '2023-07-08', 'duration': 0, 'start_time': '00:00', 'end_time': '23:59', 'event_type': 'Anniversary', 'recurrent': 'Yes', 'recurrence_interval': '3 year', 'description': \"Tom Ruiz (brother)'s anniversary\", 'priority_level': 'low'}),\n",
      " Document(page_content=\"Date: 2023-07-08 Event: Anniversary, Start Time: 00:00, End Time: 23:59. Description: Bob (brother)'s anniversary Priority: medium, Recurrent: Yes, Interval: 5 week\", metadata={'start_date': '2023-07-08', 'end_date': '2023-07-15', 'duration': 7, 'start_time': '00:00', 'end_time': '23:59', 'event_type': 'Anniversary', 'recurrent': 'Yes', 'recurrence_interval': '5 week', 'description': \"Bob (brother)'s anniversary\", 'priority_level': 'medium'}),\n",
      " Document(page_content=\"Date: 2023-07-08 Event: Anniversary, Start Time: 00:00, End Time: 23:59. Description: John (coworker)'s anniversary Priority: low, Recurrent: Yes, Interval: 5 year\", metadata={'start_date': '2023-07-08', 'end_date': '2023-07-08', 'duration': 0, 'start_time': '00:00', 'end_time': '23:59', 'event_type': 'Anniversary', 'recurrent': 'Yes', 'recurrence_interval': '5 year', 'description': \"John (coworker)'s anniversary\", 'priority_level': 'low'}),\n",
      " Document(page_content='Date: 2023-07-08 Event: Concert, Start Time: 00:00, End Time: 23:59. Description: This is a concert. Priority: low, Recurrent: No, Interval: None', metadata={'start_date': '2023-07-08', 'end_date': '2023-07-08', 'duration': 0, 'start_time': '00:00', 'end_time': '23:59', 'event_type': 'Concert', 'recurrent': 'No', 'recurrence_interval': 'None', 'description': 'This is a concert.', 'priority_level': 'low'}),\n",
      " Document(page_content='Date: 2023-07-08 Event: TODO, Start Time: 07:07, End Time: 01:59. Description: This is a todo. Priority: highest, Recurrent: No, Interval: None', metadata={'start_date': '2023-07-08', 'end_date': '2023-07-08', 'duration': 0, 'start_time': '07:07', 'end_time': '01:59', 'event_type': 'TODO', 'recurrent': 'No', 'recurrence_interval': 'None', 'description': 'This is a todo.', 'priority_level': 'highest'}),\n",
      " Document(page_content=\"Date: 2023-07-09 Event: Birthday, Start Time: 00:00, End Time: 23:59. Description: Bob (brother)'s birthday Priority: high, Recurrent: Yes, Interval: 2 year\", metadata={'start_date': '2023-07-09', 'end_date': '2023-07-09', 'duration': 0, 'start_time': '00:00', 'end_time': '23:59', 'event_type': 'Birthday', 'recurrent': 'Yes', 'recurrence_interval': '2 year', 'description': \"Bob (brother)'s birthday\", 'priority_level': 'high'}),\n",
      " Document(page_content='Date: 2023-07-09 Event: Workshop, Start Time: 00:35, End Time: 21:39. Description: This is a workshop. Priority: low, Recurrent: No, Interval: None', metadata={'start_date': '2023-07-09', 'end_date': '2023-07-14', 'duration': 5, 'start_time': '00:35', 'end_time': '21:39', 'event_type': 'Workshop', 'recurrent': 'No', 'recurrence_interval': 'None', 'description': 'This is a workshop.', 'priority_level': 'low'}),\n",
      " Document(page_content='Date: 2023-07-09 Event: Workout, Start Time: 03:56, End Time: 18:20. Description: This is a workout. Priority: none, Recurrent: No, Interval: None', metadata={'start_date': '2023-07-09', 'end_date': '2023-07-09', 'duration': 0, 'start_time': '03:56', 'end_time': '18:20', 'event_type': 'Workout', 'recurrent': 'No', 'recurrence_interval': 'None', 'description': 'This is a workout.', 'priority_level': 'none'}),\n",
      " Document(page_content='Date: 2023-07-09 Event: Workout, Start Time: 13:02, End Time: 11:09. Description: This is a workout. Priority: none, Recurrent: No, Interval: None', metadata={'start_date': '2023-07-09', 'end_date': '2023-07-09', 'duration': 0, 'start_time': '13:02', 'end_time': '11:09', 'event_type': 'Workout', 'recurrent': 'No', 'recurrence_interval': 'None', 'description': 'This is a workout.', 'priority_level': 'none'}),\n",
      " Document(page_content=\"Date: 2023-07-10 Event: Birthday, Start Time: 00:00, End Time: 23:59. Description: Jenny (coworker)'s birthday Priority: highest, Recurrent: Yes, Interval: 1 year\", metadata={'start_date': '2023-07-10', 'end_date': '2023-07-15', 'duration': 5, 'start_time': '00:00', 'end_time': '23:59', 'event_type': 'Birthday', 'recurrent': 'Yes', 'recurrence_interval': '1 year', 'description': \"Jenny (coworker)'s birthday\", 'priority_level': 'highest'}),\n",
      " Document(page_content='Date: 2023-07-10 Event: Concert, Start Time: 00:00, End Time: 23:59. Description: This is a concert. Priority: low, Recurrent: No, Interval: None', metadata={'start_date': '2023-07-10', 'end_date': '2023-07-13', 'duration': 3, 'start_time': '00:00', 'end_time': '23:59', 'event_type': 'Concert', 'recurrent': 'No', 'recurrence_interval': 'None', 'description': 'This is a concert.', 'priority_level': 'low'}),\n",
      " Document(page_content='Date: 2023-07-11 Event: Interview, Start Time: 01:34, End Time: 18:35. Description: This is a interview. Priority: highest, Recurrent: No, Interval: None', metadata={'start_date': '2023-07-11', 'end_date': '2023-07-12', 'duration': 1, 'start_time': '01:34', 'end_time': '18:35', 'event_type': 'Interview', 'recurrent': 'No', 'recurrence_interval': 'None', 'description': 'This is a interview.', 'priority_level': 'highest'}),\n",
      " Document(page_content='Date: 2023-07-12 Event: Concert, Start Time: 00:00, End Time: 23:59. Description: This is a concert. Priority: highest, Recurrent: No, Interval: None', metadata={'start_date': '2023-07-12', 'end_date': '2023-07-17', 'duration': 5, 'start_time': '00:00', 'end_time': '23:59', 'event_type': 'Concert', 'recurrent': 'No', 'recurrence_interval': 'None', 'description': 'This is a concert.', 'priority_level': 'highest'}),\n",
      " Document(page_content=\"Date: 2023-07-13 Event: Birthday, Start Time: 00:00, End Time: 23:59. Description: Tom Ruiz (brother)'s birthday Priority: high, Recurrent: Yes, Interval: 5 day\", metadata={'start_date': '2023-07-13', 'end_date': '2023-07-20', 'duration': 7, 'start_time': '00:00', 'end_time': '23:59', 'event_type': 'Birthday', 'recurrent': 'Yes', 'recurrence_interval': '5 day', 'description': \"Tom Ruiz (brother)'s birthday\", 'priority_level': 'high'}),\n",
      " Document(page_content='Date: 2023-07-13 Event: Conference, Start Time: 00:00, End Time: 23:59. Description: This is a conference. Priority: none, Recurrent: No, Interval: None', metadata={'start_date': '2023-07-13', 'end_date': '2023-07-13', 'duration': 0, 'start_time': '00:00', 'end_time': '23:59', 'event_type': 'Conference', 'recurrent': 'No', 'recurrence_interval': 'None', 'description': 'This is a conference.', 'priority_level': 'none'}),\n",
      " Document(page_content='Date: 2023-07-13 Event: Task, Start Time: 08:20, End Time: 18:13. Description: This is a task. Priority: high, Recurrent: No, Interval: None', metadata={'start_date': '2023-07-13', 'end_date': '2023-07-13', 'duration': 0, 'start_time': '08:20', 'end_time': '18:13', 'event_type': 'Task', 'recurrent': 'No', 'recurrence_interval': 'None', 'description': 'This is a task.', 'priority_level': 'high'}),\n",
      " Document(page_content=\"Date: 2023-07-14 Event: Birthday, Start Time: 00:00, End Time: 23:59. Description: John (coworker)'s birthday Priority: highest, Recurrent: Yes, Interval: 5 day\", metadata={'start_date': '2023-07-14', 'end_date': '2023-07-14', 'duration': 0, 'start_time': '00:00', 'end_time': '23:59', 'event_type': 'Birthday', 'recurrent': 'Yes', 'recurrence_interval': '5 day', 'description': \"John (coworker)'s birthday\", 'priority_level': 'highest'}),\n",
      " Document(page_content='Date: 2023-07-15 Event: Workshop, Start Time: 16:54, End Time: 19:36. Description: This is a workshop. Priority: none, Recurrent: No, Interval: None', metadata={'start_date': '2023-07-15', 'end_date': '2023-07-15', 'duration': 0, 'start_time': '16:54', 'end_time': '19:36', 'event_type': 'Workshop', 'recurrent': 'No', 'recurrence_interval': 'None', 'description': 'This is a workshop.', 'priority_level': 'none'}),\n",
      " Document(page_content='Date: 2023-07-16 Event: Appointment, Start Time: 01:25, End Time: 05:36. Description: This is a appointment. Priority: highest, Recurrent: No, Interval: None', metadata={'start_date': '2023-07-16', 'end_date': '2023-07-16', 'duration': 0, 'start_time': '01:25', 'end_time': '05:36', 'event_type': 'Appointment', 'recurrent': 'No', 'recurrence_interval': 'None', 'description': 'This is a appointment.', 'priority_level': 'highest'}),\n",
      " Document(page_content='Date: 2023-07-16 Event: Interview, Start Time: 14:11, End Time: 18:11. Description: This is a interview. Priority: medium, Recurrent: No, Interval: None', metadata={'start_date': '2023-07-16', 'end_date': '2023-07-16', 'duration': 0, 'start_time': '14:11', 'end_time': '18:11', 'event_type': 'Interview', 'recurrent': 'No', 'recurrence_interval': 'None', 'description': 'This is a interview.', 'priority_level': 'medium'}),\n",
      " Document(page_content='Date: 2023-07-16 Event: Workshop, Start Time: 20:05, End Time: 19:46. Description: This is a workshop. Priority: highest, Recurrent: No, Interval: None', metadata={'start_date': '2023-07-16', 'end_date': '2023-07-16', 'duration': 0, 'start_time': '20:05', 'end_time': '19:46', 'event_type': 'Workshop', 'recurrent': 'No', 'recurrence_interval': 'None', 'description': 'This is a workshop.', 'priority_level': 'highest'}),\n",
      " Document(page_content='Date: 2023-07-16 Event: TODO, Start Time: 23:05, End Time: 00:01. Description: This is a todo. Priority: high, Recurrent: No, Interval: None', metadata={'start_date': '2023-07-16', 'end_date': '2023-07-17', 'duration': 1, 'start_time': '23:05', 'end_time': '00:01', 'event_type': 'TODO', 'recurrent': 'No', 'recurrence_interval': 'None', 'description': 'This is a todo.', 'priority_level': 'high'}),\n",
      " Document(page_content=\"Date: 2023-07-18 Event: Birthday, Start Time: 00:00, End Time: 23:59. Description: Pablo (friend)'s birthday Priority: low, Recurrent: Yes, Interval: 3 year\", metadata={'start_date': '2023-07-18', 'end_date': '2023-07-18', 'duration': 0, 'start_time': '00:00', 'end_time': '23:59', 'event_type': 'Birthday', 'recurrent': 'Yes', 'recurrence_interval': '3 year', 'description': \"Pablo (friend)'s birthday\", 'priority_level': 'low'}),\n",
      " Document(page_content='Date: 2023-07-18 Event: Subscription, Start Time: 00:00, End Time: 23:59. Description: This is a subscription. Priority: highest, Recurrent: Yes, Interval: 5 day', metadata={'start_date': '2023-07-18', 'end_date': '2023-07-18', 'duration': 0, 'start_time': '00:00', 'end_time': '23:59', 'event_type': 'Subscription', 'recurrent': 'Yes', 'recurrence_interval': '5 day', 'description': 'This is a subscription.', 'priority_level': 'highest'}),\n",
      " Document(page_content='Date: 2023-07-18 Event: Appointment, Start Time: 00:30, End Time: 04:55. Description: This is a appointment. Priority: highest, Recurrent: No, Interval: None', metadata={'start_date': '2023-07-18', 'end_date': '2023-07-18', 'duration': 0, 'start_time': '00:30', 'end_time': '04:55', 'event_type': 'Appointment', 'recurrent': 'No', 'recurrence_interval': 'None', 'description': 'This is a appointment.', 'priority_level': 'highest'}),\n",
      " Document(page_content='Date: 2023-07-18 Event: Appointment, Start Time: 03:11, End Time: 20:37. Description: This is a appointment. Priority: none, Recurrent: No, Interval: None', metadata={'start_date': '2023-07-18', 'end_date': '2023-07-25', 'duration': 7, 'start_time': '03:11', 'end_time': '20:37', 'event_type': 'Appointment', 'recurrent': 'No', 'recurrence_interval': 'None', 'description': 'This is a appointment.', 'priority_level': 'none'}),\n",
      " Document(page_content='Date: 2023-07-19 Event: Task, Start Time: 22:13, End Time: 10:07. Description: This is a task. Priority: high, Recurrent: No, Interval: None', metadata={'start_date': '2023-07-19', 'end_date': '2023-07-20', 'duration': 1, 'start_time': '22:13', 'end_time': '10:07', 'event_type': 'Task', 'recurrent': 'No', 'recurrence_interval': 'None', 'description': 'This is a task.', 'priority_level': 'high'}),\n",
      " Document(page_content=\"Date: 2023-07-20 Event: Anniversary, Start Time: 00:00, End Time: 23:59. Description: Inash (girlfriend)'s anniversary Priority: low, Recurrent: Yes, Interval: 5 day\", metadata={'start_date': '2023-07-20', 'end_date': '2023-07-20', 'duration': 0, 'start_time': '00:00', 'end_time': '23:59', 'event_type': 'Anniversary', 'recurrent': 'Yes', 'recurrence_interval': '5 day', 'description': \"Inash (girlfriend)'s anniversary\", 'priority_level': 'low'}),\n",
      " Document(page_content='Date: 2023-07-20 Event: Workout, Start Time: 02:37, End Time: 21:54. Description: This is a workout. Priority: highest, Recurrent: No, Interval: None', metadata={'start_date': '2023-07-20', 'end_date': '2023-07-25', 'duration': 5, 'start_time': '02:37', 'end_time': '21:54', 'event_type': 'Workout', 'recurrent': 'No', 'recurrence_interval': 'None', 'description': 'This is a workout.', 'priority_level': 'highest'}),\n",
      " Document(page_content='Date: 2023-07-20 Event: Interview, Start Time: 10:06, End Time: 17:46. Description: This is a interview. Priority: high, Recurrent: No, Interval: None', metadata={'start_date': '2023-07-20', 'end_date': '2023-07-27', 'duration': 7, 'start_time': '10:06', 'end_time': '17:46', 'event_type': 'Interview', 'recurrent': 'No', 'recurrence_interval': 'None', 'description': 'This is a interview.', 'priority_level': 'high'}),\n",
      " Document(page_content='Date: 2023-07-21 Event: Appointment, Start Time: 16:14, End Time: 00:57. Description: This is a appointment. Priority: none, Recurrent: No, Interval: None', metadata={'start_date': '2023-07-21', 'end_date': '2023-07-28', 'duration': 7, 'start_time': '16:14', 'end_time': '00:57', 'event_type': 'Appointment', 'recurrent': 'No', 'recurrence_interval': 'None', 'description': 'This is a appointment.', 'priority_level': 'none'}),\n",
      " Document(page_content='Date: 2023-07-22 Event: Subscription, Start Time: 00:00, End Time: 23:59. Description: This is a subscription. Priority: medium, Recurrent: Yes, Interval: 3 year', metadata={'start_date': '2023-07-22', 'end_date': '2023-07-22', 'duration': 0, 'start_time': '00:00', 'end_time': '23:59', 'event_type': 'Subscription', 'recurrent': 'Yes', 'recurrence_interval': '3 year', 'description': 'This is a subscription.', 'priority_level': 'medium'}),\n",
      " Document(page_content='Date: 2023-07-23 Event: Concert, Start Time: 00:00, End Time: 23:59. Description: This is a concert. Priority: highest, Recurrent: No, Interval: None', metadata={'start_date': '2023-07-23', 'end_date': '2023-07-23', 'duration': 0, 'start_time': '00:00', 'end_time': '23:59', 'event_type': 'Concert', 'recurrent': 'No', 'recurrence_interval': 'None', 'description': 'This is a concert.', 'priority_level': 'highest'}),\n",
      " Document(page_content='Date: 2023-07-23 Event: Performance, Start Time: 00:00, End Time: 23:59. Description: This is a performance. Priority: high, Recurrent: No, Interval: None', metadata={'start_date': '2023-07-23', 'end_date': '2023-07-26', 'duration': 3, 'start_time': '00:00', 'end_time': '23:59', 'event_type': 'Performance', 'recurrent': 'No', 'recurrence_interval': 'None', 'description': 'This is a performance.', 'priority_level': 'high'}),\n",
      " Document(page_content='Date: 2023-07-23 Event: Task, Start Time: 10:52, End Time: 23:48. Description: This is a task. Priority: medium, Recurrent: No, Interval: None', metadata={'start_date': '2023-07-23', 'end_date': '2023-07-23', 'duration': 0, 'start_time': '10:52', 'end_time': '23:48', 'event_type': 'Task', 'recurrent': 'No', 'recurrence_interval': 'None', 'description': 'This is a task.', 'priority_level': 'medium'}),\n",
      " Document(page_content='Date: 2023-07-23 Event: Appointment, Start Time: 16:44, End Time: 22:50. Description: This is a appointment. Priority: low, Recurrent: No, Interval: None', metadata={'start_date': '2023-07-23', 'end_date': '2023-07-23', 'duration': 0, 'start_time': '16:44', 'end_time': '22:50', 'event_type': 'Appointment', 'recurrent': 'No', 'recurrence_interval': 'None', 'description': 'This is a appointment.', 'priority_level': 'low'}),\n",
      " Document(page_content='Date: 2023-07-24 Event: TODO, Start Time: 00:40, End Time: 05:37. Description: This is a todo. Priority: none, Recurrent: No, Interval: None', metadata={'start_date': '2023-07-24', 'end_date': '2023-07-31', 'duration': 7, 'start_time': '00:40', 'end_time': '05:37', 'event_type': 'TODO', 'recurrent': 'No', 'recurrence_interval': 'None', 'description': 'This is a todo.', 'priority_level': 'none'}),\n",
      " Document(page_content='Date: 2023-07-24 Event: TODO, Start Time: 00:53, End Time: 07:08. Description: This is a todo. Priority: medium, Recurrent: No, Interval: None', metadata={'start_date': '2023-07-24', 'end_date': '2023-07-24', 'duration': 0, 'start_time': '00:53', 'end_time': '07:08', 'event_type': 'TODO', 'recurrent': 'No', 'recurrence_interval': 'None', 'description': 'This is a todo.', 'priority_level': 'medium'}),\n",
      " Document(page_content='Date: 2023-07-24 Event: Appointment, Start Time: 05:36, End Time: 13:15. Description: This is a appointment. Priority: highest, Recurrent: No, Interval: None', metadata={'start_date': '2023-07-24', 'end_date': '2023-07-25', 'duration': 1, 'start_time': '05:36', 'end_time': '13:15', 'event_type': 'Appointment', 'recurrent': 'No', 'recurrence_interval': 'None', 'description': 'This is a appointment.', 'priority_level': 'highest'}),\n",
      " Document(page_content='Date: 2023-07-25 Event: Workshop, Start Time: 01:55, End Time: 09:49. Description: This is a workshop. Priority: highest, Recurrent: No, Interval: None', metadata={'start_date': '2023-07-25', 'end_date': '2023-07-28', 'duration': 3, 'start_time': '01:55', 'end_time': '09:49', 'event_type': 'Workshop', 'recurrent': 'No', 'recurrence_interval': 'None', 'description': 'This is a workshop.', 'priority_level': 'highest'}),\n",
      " Document(page_content='Date: 2023-07-25 Event: Appointment, Start Time: 02:16, End Time: 06:58. Description: This is a appointment. Priority: high, Recurrent: No, Interval: None', metadata={'start_date': '2023-07-25', 'end_date': '2023-07-25', 'duration': 0, 'start_time': '02:16', 'end_time': '06:58', 'event_type': 'Appointment', 'recurrent': 'No', 'recurrence_interval': 'None', 'description': 'This is a appointment.', 'priority_level': 'high'}),\n",
      " Document(page_content=\"Date: 2023-07-26 Event: Anniversary, Start Time: 00:00, End Time: 23:59. Description: Sally (sister)'s anniversary Priority: none, Recurrent: Yes, Interval: 4 year\", metadata={'start_date': '2023-07-26', 'end_date': '2023-07-31', 'duration': 5, 'start_time': '00:00', 'end_time': '23:59', 'event_type': 'Anniversary', 'recurrent': 'Yes', 'recurrence_interval': '4 year', 'description': \"Sally (sister)'s anniversary\", 'priority_level': 'none'}),\n",
      " Document(page_content='Date: 2023-07-26 Event: Performance, Start Time: 00:00, End Time: 23:59. Description: This is a performance. Priority: none, Recurrent: No, Interval: None', metadata={'start_date': '2023-07-26', 'end_date': '2023-07-26', 'duration': 0, 'start_time': '00:00', 'end_time': '23:59', 'event_type': 'Performance', 'recurrent': 'No', 'recurrence_interval': 'None', 'description': 'This is a performance.', 'priority_level': 'none'}),\n",
      " Document(page_content='Date: 2023-07-26 Event: Concert, Start Time: 00:00, End Time: 23:59. Description: This is a concert. Priority: low, Recurrent: No, Interval: None', metadata={'start_date': '2023-07-26', 'end_date': '2023-07-31', 'duration': 5, 'start_time': '00:00', 'end_time': '23:59', 'event_type': 'Concert', 'recurrent': 'No', 'recurrence_interval': 'None', 'description': 'This is a concert.', 'priority_level': 'low'}),\n",
      " Document(page_content='Date: 2023-07-26 Event: Conference, Start Time: 00:00, End Time: 23:59. Description: This is a conference. Priority: highest, Recurrent: No, Interval: None', metadata={'start_date': '2023-07-26', 'end_date': '2023-07-26', 'duration': 0, 'start_time': '00:00', 'end_time': '23:59', 'event_type': 'Conference', 'recurrent': 'No', 'recurrence_interval': 'None', 'description': 'This is a conference.', 'priority_level': 'highest'}),\n",
      " Document(page_content='Date: 2023-07-26 Event: Workout, Start Time: 21:54, End Time: 06:08. Description: This is a workout. Priority: low, Recurrent: No, Interval: None', metadata={'start_date': '2023-07-26', 'end_date': '2023-07-31', 'duration': 5, 'start_time': '21:54', 'end_time': '06:08', 'event_type': 'Workout', 'recurrent': 'No', 'recurrence_interval': 'None', 'description': 'This is a workout.', 'priority_level': 'low'}),\n",
      " Document(page_content=\"Date: 2023-07-27 Event: Anniversary, Start Time: 00:00, End Time: 23:59. Description: Gregorio (friend)'s anniversary Priority: high, Recurrent: Yes, Interval: 2 week\", metadata={'start_date': '2023-07-27', 'end_date': '2023-07-27', 'duration': 0, 'start_time': '00:00', 'end_time': '23:59', 'event_type': 'Anniversary', 'recurrent': 'Yes', 'recurrence_interval': '2 week', 'description': \"Gregorio (friend)'s anniversary\", 'priority_level': 'high'}),\n",
      " Document(page_content='Date: 2023-07-27 Event: Subscription, Start Time: 00:00, End Time: 23:59. Description: This is a subscription. Priority: low, Recurrent: Yes, Interval: 3 day', metadata={'start_date': '2023-07-27', 'end_date': '2023-07-30', 'duration': 3, 'start_time': '00:00', 'end_time': '23:59', 'event_type': 'Subscription', 'recurrent': 'Yes', 'recurrence_interval': '3 day', 'description': 'This is a subscription.', 'priority_level': 'low'}),\n",
      " Document(page_content='Date: 2023-07-27 Event: TODO, Start Time: 05:03, End Time: 06:50. Description: This is a todo. Priority: highest, Recurrent: No, Interval: None', metadata={'start_date': '2023-07-27', 'end_date': '2023-07-28', 'duration': 1, 'start_time': '05:03', 'end_time': '06:50', 'event_type': 'TODO', 'recurrent': 'No', 'recurrence_interval': 'None', 'description': 'This is a todo.', 'priority_level': 'highest'}),\n",
      " Document(page_content='Date: 2023-07-27 Event: TODO, Start Time: 22:07, End Time: 03:01. Description: This is a todo. Priority: low, Recurrent: No, Interval: None', metadata={'start_date': '2023-07-27', 'end_date': '2023-07-27', 'duration': 0, 'start_time': '22:07', 'end_time': '03:01', 'event_type': 'TODO', 'recurrent': 'No', 'recurrence_interval': 'None', 'description': 'This is a todo.', 'priority_level': 'low'}),\n",
      " Document(page_content='Date: 2023-07-28 Event: Concert, Start Time: 00:00, End Time: 23:59. Description: This is a concert. Priority: high, Recurrent: No, Interval: None', metadata={'start_date': '2023-07-28', 'end_date': '2023-08-04', 'duration': 7, 'start_time': '00:00', 'end_time': '23:59', 'event_type': 'Concert', 'recurrent': 'No', 'recurrence_interval': 'None', 'description': 'This is a concert.', 'priority_level': 'high'}),\n",
      " Document(page_content=\"Date: 2023-07-28 Event: Anniversary, Start Time: 00:00, End Time: 23:59. Description: Alice (aunt)'s anniversary Priority: none, Recurrent: Yes, Interval: 2 week\", metadata={'start_date': '2023-07-28', 'end_date': '2023-07-28', 'duration': 0, 'start_time': '00:00', 'end_time': '23:59', 'event_type': 'Anniversary', 'recurrent': 'Yes', 'recurrence_interval': '2 week', 'description': \"Alice (aunt)'s anniversary\", 'priority_level': 'none'}),\n",
      " Document(page_content='Date: 2023-07-28 Event: Workshop, Start Time: 02:22, End Time: 08:46. Description: This is a workshop. Priority: none, Recurrent: No, Interval: None', metadata={'start_date': '2023-07-28', 'end_date': '2023-07-31', 'duration': 3, 'start_time': '02:22', 'end_time': '08:46', 'event_type': 'Workshop', 'recurrent': 'No', 'recurrence_interval': 'None', 'description': 'This is a workshop.', 'priority_level': 'none'}),\n",
      " Document(page_content='Date: 2023-07-28 Event: Interview, Start Time: 20:14, End Time: 01:33. Description: This is a interview. Priority: highest, Recurrent: No, Interval: None', metadata={'start_date': '2023-07-28', 'end_date': '2023-07-31', 'duration': 3, 'start_time': '20:14', 'end_time': '01:33', 'event_type': 'Interview', 'recurrent': 'No', 'recurrence_interval': 'None', 'description': 'This is a interview.', 'priority_level': 'highest'}),\n",
      " Document(page_content=\"Date: 2023-07-29 Event: Anniversary, Start Time: 00:00, End Time: 23:59. Description: Inash (girlfriend)'s anniversary Priority: low, Recurrent: Yes, Interval: 4 week\", metadata={'start_date': '2023-07-29', 'end_date': '2023-07-29', 'duration': 0, 'start_time': '00:00', 'end_time': '23:59', 'event_type': 'Anniversary', 'recurrent': 'Yes', 'recurrence_interval': '4 week', 'description': \"Inash (girlfriend)'s anniversary\", 'priority_level': 'low'}),\n",
      " Document(page_content='Date: 2023-07-30 Event: Workshop, Start Time: 07:36, End Time: 00:01. Description: This is a workshop. Priority: medium, Recurrent: No, Interval: None', metadata={'start_date': '2023-07-30', 'end_date': '2023-08-02', 'duration': 3, 'start_time': '07:36', 'end_time': '00:01', 'event_type': 'Workshop', 'recurrent': 'No', 'recurrence_interval': 'None', 'description': 'This is a workshop.', 'priority_level': 'medium'}),\n",
      " Document(page_content='Date: 2023-07-30 Event: Appointment, Start Time: 22:13, End Time: 22:08. Description: This is a appointment. Priority: medium, Recurrent: No, Interval: None', metadata={'start_date': '2023-07-30', 'end_date': '2023-07-30', 'duration': 0, 'start_time': '22:13', 'end_time': '22:08', 'event_type': 'Appointment', 'recurrent': 'No', 'recurrence_interval': 'None', 'description': 'This is a appointment.', 'priority_level': 'medium'}),\n",
      " Document(page_content='Date: 2023-07-31 Event: Concert, Start Time: 00:00, End Time: 23:59. Description: This is a concert. Priority: highest, Recurrent: No, Interval: None', metadata={'start_date': '2023-07-31', 'end_date': '2023-08-01', 'duration': 1, 'start_time': '00:00', 'end_time': '23:59', 'event_type': 'Concert', 'recurrent': 'No', 'recurrence_interval': 'None', 'description': 'This is a concert.', 'priority_level': 'highest'}),\n",
      " Document(page_content='Date: 2023-07-31 Event: Task, Start Time: 22:00, End Time: 14:55. Description: This is a task. Priority: none, Recurrent: No, Interval: None', metadata={'start_date': '2023-07-31', 'end_date': '2023-08-03', 'duration': 3, 'start_time': '22:00', 'end_time': '14:55', 'event_type': 'Task', 'recurrent': 'No', 'recurrence_interval': 'None', 'description': 'This is a task.', 'priority_level': 'none'}),\n",
      " Document(page_content='Date: 2023-08-01 Event: Subscription, Start Time: 00:00, End Time: 23:59. Description: This is a subscription. Priority: none, Recurrent: Yes, Interval: 1 week', metadata={'start_date': '2023-08-01', 'end_date': '2023-08-01', 'duration': 0, 'start_time': '00:00', 'end_time': '23:59', 'event_type': 'Subscription', 'recurrent': 'Yes', 'recurrence_interval': '1 week', 'description': 'This is a subscription.', 'priority_level': 'none'}),\n",
      " Document(page_content='Date: 2023-08-01 Event: Conference, Start Time: 00:00, End Time: 23:59. Description: This is a conference. Priority: none, Recurrent: No, Interval: None', metadata={'start_date': '2023-08-01', 'end_date': '2023-08-01', 'duration': 0, 'start_time': '00:00', 'end_time': '23:59', 'event_type': 'Conference', 'recurrent': 'No', 'recurrence_interval': 'None', 'description': 'This is a conference.', 'priority_level': 'none'}),\n",
      " Document(page_content='Date: 2023-08-01 Event: Subscription, Start Time: 00:00, End Time: 23:59. Description: This is a subscription. Priority: medium, Recurrent: Yes, Interval: 1 month', metadata={'start_date': '2023-08-01', 'end_date': '2023-08-01', 'duration': 0, 'start_time': '00:00', 'end_time': '23:59', 'event_type': 'Subscription', 'recurrent': 'Yes', 'recurrence_interval': '1 month', 'description': 'This is a subscription.', 'priority_level': 'medium'}),\n",
      " Document(page_content='Date: 2023-08-01 Event: Performance, Start Time: 00:00, End Time: 23:59. Description: This is a performance. Priority: low, Recurrent: No, Interval: None', metadata={'start_date': '2023-08-01', 'end_date': '2023-08-04', 'duration': 3, 'start_time': '00:00', 'end_time': '23:59', 'event_type': 'Performance', 'recurrent': 'No', 'recurrence_interval': 'None', 'description': 'This is a performance.', 'priority_level': 'low'}),\n",
      " Document(page_content='Date: 2023-08-01 Event: Interview, Start Time: 12:23, End Time: 16:05. Description: This is a interview. Priority: low, Recurrent: No, Interval: None', metadata={'start_date': '2023-08-01', 'end_date': '2023-08-01', 'duration': 0, 'start_time': '12:23', 'end_time': '16:05', 'event_type': 'Interview', 'recurrent': 'No', 'recurrence_interval': 'None', 'description': 'This is a interview.', 'priority_level': 'low'}),\n",
      " Document(page_content=\"Date: 2023-08-02 Event: Birthday, Start Time: 00:00, End Time: 23:59. Description: Gregorio (friend)'s birthday Priority: none, Recurrent: Yes, Interval: 5 month\", metadata={'start_date': '2023-08-02', 'end_date': '2023-08-02', 'duration': 0, 'start_time': '00:00', 'end_time': '23:59', 'event_type': 'Birthday', 'recurrent': 'Yes', 'recurrence_interval': '5 month', 'description': \"Gregorio (friend)'s birthday\", 'priority_level': 'none'}),\n",
      " Document(page_content='Date: 2023-08-02 Event: Subscription, Start Time: 00:00, End Time: 23:59. Description: This is a subscription. Priority: medium, Recurrent: Yes, Interval: 5 month', metadata={'start_date': '2023-08-02', 'end_date': '2023-08-02', 'duration': 0, 'start_time': '00:00', 'end_time': '23:59', 'event_type': 'Subscription', 'recurrent': 'Yes', 'recurrence_interval': '5 month', 'description': 'This is a subscription.', 'priority_level': 'medium'}),\n",
      " Document(page_content='Date: 2023-08-02 Event: Performance, Start Time: 00:00, End Time: 23:59. Description: This is a performance. Priority: low, Recurrent: No, Interval: None', metadata={'start_date': '2023-08-02', 'end_date': '2023-08-07', 'duration': 5, 'start_time': '00:00', 'end_time': '23:59', 'event_type': 'Performance', 'recurrent': 'No', 'recurrence_interval': 'None', 'description': 'This is a performance.', 'priority_level': 'low'}),\n",
      " Document(page_content=\"Date: 2023-08-02 Event: Birthday, Start Time: 00:00, End Time: 23:59. Description: Sally (sister)'s birthday Priority: medium, Recurrent: Yes, Interval: 5 week\", metadata={'start_date': '2023-08-02', 'end_date': '2023-08-02', 'duration': 0, 'start_time': '00:00', 'end_time': '23:59', 'event_type': 'Birthday', 'recurrent': 'Yes', 'recurrence_interval': '5 week', 'description': \"Sally (sister)'s birthday\", 'priority_level': 'medium'}),\n",
      " Document(page_content='Date: 2023-08-02 Event: Workout, Start Time: 05:55, End Time: 00:20. Description: This is a workout. Priority: high, Recurrent: No, Interval: None', metadata={'start_date': '2023-08-02', 'end_date': '2023-08-02', 'duration': 0, 'start_time': '05:55', 'end_time': '00:20', 'event_type': 'Workout', 'recurrent': 'No', 'recurrence_interval': 'None', 'description': 'This is a workout.', 'priority_level': 'high'}),\n",
      " Document(page_content='Date: 2023-08-02 Event: Interview, Start Time: 10:44, End Time: 00:13. Description: This is a interview. Priority: highest, Recurrent: No, Interval: None', metadata={'start_date': '2023-08-02', 'end_date': '2023-08-02', 'duration': 0, 'start_time': '10:44', 'end_time': '00:13', 'event_type': 'Interview', 'recurrent': 'No', 'recurrence_interval': 'None', 'description': 'This is a interview.', 'priority_level': 'highest'}),\n",
      " Document(page_content='Date: 2023-08-02 Event: Task, Start Time: 19:15, End Time: 17:38. Description: This is a task. Priority: high, Recurrent: No, Interval: None', metadata={'start_date': '2023-08-02', 'end_date': '2023-08-09', 'duration': 7, 'start_time': '19:15', 'end_time': '17:38', 'event_type': 'Task', 'recurrent': 'No', 'recurrence_interval': 'None', 'description': 'This is a task.', 'priority_level': 'high'}),\n",
      " Document(page_content='Date: 2023-08-02 Event: TODO, Start Time: 22:51, End Time: 19:29. Description: This is a todo. Priority: low, Recurrent: No, Interval: None', metadata={'start_date': '2023-08-02', 'end_date': '2023-08-03', 'duration': 1, 'start_time': '22:51', 'end_time': '19:29', 'event_type': 'TODO', 'recurrent': 'No', 'recurrence_interval': 'None', 'description': 'This is a todo.', 'priority_level': 'low'}),\n",
      " Document(page_content='Date: 2023-08-03 Event: Conference, Start Time: 00:00, End Time: 23:59. Description: This is a conference. Priority: highest, Recurrent: No, Interval: None', metadata={'start_date': '2023-08-03', 'end_date': '2023-08-03', 'duration': 0, 'start_time': '00:00', 'end_time': '23:59', 'event_type': 'Conference', 'recurrent': 'No', 'recurrence_interval': 'None', 'description': 'This is a conference.', 'priority_level': 'highest'}),\n",
      " Document(page_content='Date: 2023-08-04 Event: Performance, Start Time: 00:00, End Time: 23:59. Description: This is a performance. Priority: medium, Recurrent: No, Interval: None', metadata={'start_date': '2023-08-04', 'end_date': '2023-08-11', 'duration': 7, 'start_time': '00:00', 'end_time': '23:59', 'event_type': 'Performance', 'recurrent': 'No', 'recurrence_interval': 'None', 'description': 'This is a performance.', 'priority_level': 'medium'}),\n",
      " Document(page_content='Date: 2023-08-04 Event: Concert, Start Time: 00:00, End Time: 23:59. Description: This is a concert. Priority: low, Recurrent: No, Interval: None', metadata={'start_date': '2023-08-04', 'end_date': '2023-08-07', 'duration': 3, 'start_time': '00:00', 'end_time': '23:59', 'event_type': 'Concert', 'recurrent': 'No', 'recurrence_interval': 'None', 'description': 'This is a concert.', 'priority_level': 'low'}),\n",
      " Document(page_content='Date: 2023-08-04 Event: Performance, Start Time: 00:00, End Time: 23:59. Description: This is a performance. Priority: low, Recurrent: No, Interval: None', metadata={'start_date': '2023-08-04', 'end_date': '2023-08-07', 'duration': 3, 'start_time': '00:00', 'end_time': '23:59', 'event_type': 'Performance', 'recurrent': 'No', 'recurrence_interval': 'None', 'description': 'This is a performance.', 'priority_level': 'low'}),\n",
      " Document(page_content='Date: 2023-08-04 Event: Concert, Start Time: 00:00, End Time: 23:59. Description: This is a concert. Priority: highest, Recurrent: No, Interval: None', metadata={'start_date': '2023-08-04', 'end_date': '2023-08-05', 'duration': 1, 'start_time': '00:00', 'end_time': '23:59', 'event_type': 'Concert', 'recurrent': 'No', 'recurrence_interval': 'None', 'description': 'This is a concert.', 'priority_level': 'highest'}),\n",
      " Document(page_content='Date: 2023-08-04 Event: Concert, Start Time: 00:00, End Time: 23:59. Description: This is a concert. Priority: low, Recurrent: No, Interval: None', metadata={'start_date': '2023-08-04', 'end_date': '2023-08-04', 'duration': 0, 'start_time': '00:00', 'end_time': '23:59', 'event_type': 'Concert', 'recurrent': 'No', 'recurrence_interval': 'None', 'description': 'This is a concert.', 'priority_level': 'low'}),\n",
      " Document(page_content='Date: 2023-08-04 Event: Interview, Start Time: 19:36, End Time: 06:52. Description: This is a interview. Priority: medium, Recurrent: No, Interval: None', metadata={'start_date': '2023-08-04', 'end_date': '2023-08-04', 'duration': 0, 'start_time': '19:36', 'end_time': '06:52', 'event_type': 'Interview', 'recurrent': 'No', 'recurrence_interval': 'None', 'description': 'This is a interview.', 'priority_level': 'medium'}),\n",
      " Document(page_content='Date: 2023-08-05 Event: Subscription, Start Time: 00:00, End Time: 23:59. Description: This is a subscription. Priority: low, Recurrent: Yes, Interval: 5 week', metadata={'start_date': '2023-08-05', 'end_date': '2023-08-12', 'duration': 7, 'start_time': '00:00', 'end_time': '23:59', 'event_type': 'Subscription', 'recurrent': 'Yes', 'recurrence_interval': '5 week', 'description': 'This is a subscription.', 'priority_level': 'low'}),\n",
      " Document(page_content='Date: 2023-08-05 Event: Workout, Start Time: 06:18, End Time: 14:17. Description: This is a workout. Priority: highest, Recurrent: No, Interval: None', metadata={'start_date': '2023-08-05', 'end_date': '2023-08-06', 'duration': 1, 'start_time': '06:18', 'end_time': '14:17', 'event_type': 'Workout', 'recurrent': 'No', 'recurrence_interval': 'None', 'description': 'This is a workout.', 'priority_level': 'highest'}),\n",
      " Document(page_content='Date: 2023-08-05 Event: Task, Start Time: 07:21, End Time: 06:27. Description: This is a task. Priority: low, Recurrent: No, Interval: None', metadata={'start_date': '2023-08-05', 'end_date': '2023-08-05', 'duration': 0, 'start_time': '07:21', 'end_time': '06:27', 'event_type': 'Task', 'recurrent': 'No', 'recurrence_interval': 'None', 'description': 'This is a task.', 'priority_level': 'low'}),\n",
      " Document(page_content='Date: 2023-08-05 Event: Interview, Start Time: 11:01, End Time: 09:50. Description: This is a interview. Priority: highest, Recurrent: No, Interval: None', metadata={'start_date': '2023-08-05', 'end_date': '2023-08-08', 'duration': 3, 'start_time': '11:01', 'end_time': '09:50', 'event_type': 'Interview', 'recurrent': 'No', 'recurrence_interval': 'None', 'description': 'This is a interview.', 'priority_level': 'highest'}),\n",
      " Document(page_content='Date: 2023-08-05 Event: TODO, Start Time: 16:00, End Time: 12:20. Description: This is a todo. Priority: low, Recurrent: No, Interval: None', metadata={'start_date': '2023-08-05', 'end_date': '2023-08-08', 'duration': 3, 'start_time': '16:00', 'end_time': '12:20', 'event_type': 'TODO', 'recurrent': 'No', 'recurrence_interval': 'None', 'description': 'This is a todo.', 'priority_level': 'low'}),\n",
      " Document(page_content='Date: 2023-08-06 Event: Interview, Start Time: 20:51, End Time: 22:32. Description: This is a interview. Priority: low, Recurrent: No, Interval: None', metadata={'start_date': '2023-08-06', 'end_date': '2023-08-13', 'duration': 7, 'start_time': '20:51', 'end_time': '22:32', 'event_type': 'Interview', 'recurrent': 'No', 'recurrence_interval': 'None', 'description': 'This is a interview.', 'priority_level': 'low'}),\n",
      " Document(page_content=\"Date: 2023-08-07 Event: Birthday, Start Time: 00:00, End Time: 23:59. Description: John (coworker)'s birthday Priority: low, Recurrent: Yes, Interval: 4 month\", metadata={'start_date': '2023-08-07', 'end_date': '2023-08-07', 'duration': 0, 'start_time': '00:00', 'end_time': '23:59', 'event_type': 'Birthday', 'recurrent': 'Yes', 'recurrence_interval': '4 month', 'description': \"John (coworker)'s birthday\", 'priority_level': 'low'}),\n",
      " Document(page_content='Date: 2023-08-07 Event: Performance, Start Time: 00:00, End Time: 23:59. Description: This is a performance. Priority: medium, Recurrent: No, Interval: None', metadata={'start_date': '2023-08-07', 'end_date': '2023-08-07', 'duration': 0, 'start_time': '00:00', 'end_time': '23:59', 'event_type': 'Performance', 'recurrent': 'No', 'recurrence_interval': 'None', 'description': 'This is a performance.', 'priority_level': 'medium'}),\n",
      " Document(page_content='Date: 2023-08-07 Event: Task, Start Time: 04:59, End Time: 19:46. Description: This is a task. Priority: low, Recurrent: No, Interval: None', metadata={'start_date': '2023-08-07', 'end_date': '2023-08-07', 'duration': 0, 'start_time': '04:59', 'end_time': '19:46', 'event_type': 'Task', 'recurrent': 'No', 'recurrence_interval': 'None', 'description': 'This is a task.', 'priority_level': 'low'}),\n",
      " Document(page_content='Date: 2023-08-07 Event: Task, Start Time: 05:21, End Time: 17:30. Description: This is a task. Priority: medium, Recurrent: No, Interval: None', metadata={'start_date': '2023-08-07', 'end_date': '2023-08-07', 'duration': 0, 'start_time': '05:21', 'end_time': '17:30', 'event_type': 'Task', 'recurrent': 'No', 'recurrence_interval': 'None', 'description': 'This is a task.', 'priority_level': 'medium'}),\n",
      " Document(page_content='Date: 2023-08-07 Event: Meeting, Start Time: 05:24, End Time: 00:12. Description: This is a meeting. Priority: low, Recurrent: No, Interval: None', metadata={'start_date': '2023-08-07', 'end_date': '2023-08-07', 'duration': 0, 'start_time': '05:24', 'end_time': '00:12', 'event_type': 'Meeting', 'recurrent': 'No', 'recurrence_interval': 'None', 'description': 'This is a meeting.', 'priority_level': 'low'}),\n",
      " Document(page_content='Date: 2023-08-07 Event: TODO, Start Time: 22:28, End Time: 13:49. Description: This is a todo. Priority: none, Recurrent: No, Interval: None', metadata={'start_date': '2023-08-07', 'end_date': '2023-08-07', 'duration': 0, 'start_time': '22:28', 'end_time': '13:49', 'event_type': 'TODO', 'recurrent': 'No', 'recurrence_interval': 'None', 'description': 'This is a todo.', 'priority_level': 'none'}),\n",
      " Document(page_content='Date: 2023-08-09 Event: Workshop, Start Time: 07:40, End Time: 15:42. Description: This is a workshop. Priority: medium, Recurrent: No, Interval: None', metadata={'start_date': '2023-08-09', 'end_date': '2023-08-09', 'duration': 0, 'start_time': '07:40', 'end_time': '15:42', 'event_type': 'Workshop', 'recurrent': 'No', 'recurrence_interval': 'None', 'description': 'This is a workshop.', 'priority_level': 'medium'}),\n",
      " Document(page_content=\"Date: 2023-08-10 Event: Anniversary, Start Time: 00:00, End Time: 23:59. Description: Barbara Jane Ruiz (mother)'s anniversary Priority: none, Recurrent: Yes, Interval: 4 month\", metadata={'start_date': '2023-08-10', 'end_date': '2023-08-10', 'duration': 0, 'start_time': '00:00', 'end_time': '23:59', 'event_type': 'Anniversary', 'recurrent': 'Yes', 'recurrence_interval': '4 month', 'description': \"Barbara Jane Ruiz (mother)'s anniversary\", 'priority_level': 'none'}),\n",
      " Document(page_content=\"Date: 2023-08-10 Event: Anniversary, Start Time: 00:00, End Time: 23:59. Description: Alice (aunt)'s anniversary Priority: high, Recurrent: Yes, Interval: 3 day\", metadata={'start_date': '2023-08-10', 'end_date': '2023-08-13', 'duration': 3, 'start_time': '00:00', 'end_time': '23:59', 'event_type': 'Anniversary', 'recurrent': 'Yes', 'recurrence_interval': '3 day', 'description': \"Alice (aunt)'s anniversary\", 'priority_level': 'high'}),\n",
      " Document(page_content=\"Date: 2023-08-10 Event: Birthday, Start Time: 00:00, End Time: 23:59. Description: Pablo (friend)'s birthday Priority: low, Recurrent: Yes, Interval: 3 day\", metadata={'start_date': '2023-08-10', 'end_date': '2023-08-11', 'duration': 1, 'start_time': '00:00', 'end_time': '23:59', 'event_type': 'Birthday', 'recurrent': 'Yes', 'recurrence_interval': '3 day', 'description': \"Pablo (friend)'s birthday\", 'priority_level': 'low'}),\n",
      " Document(page_content='Date: 2023-08-10 Event: Conference, Start Time: 00:00, End Time: 23:59. Description: This is a conference. Priority: low, Recurrent: No, Interval: None', metadata={'start_date': '2023-08-10', 'end_date': '2023-08-15', 'duration': 5, 'start_time': '00:00', 'end_time': '23:59', 'event_type': 'Conference', 'recurrent': 'No', 'recurrence_interval': 'None', 'description': 'This is a conference.', 'priority_level': 'low'}),\n",
      " Document(page_content='Date: 2023-08-10 Event: Interview, Start Time: 12:35, End Time: 04:36. Description: This is a interview. Priority: low, Recurrent: No, Interval: None', metadata={'start_date': '2023-08-10', 'end_date': '2023-08-11', 'duration': 1, 'start_time': '12:35', 'end_time': '04:36', 'event_type': 'Interview', 'recurrent': 'No', 'recurrence_interval': 'None', 'description': 'This is a interview.', 'priority_level': 'low'}),\n",
      " Document(page_content='Date: 2023-08-10 Event: Appointment, Start Time: 19:25, End Time: 10:18. Description: This is a appointment. Priority: medium, Recurrent: No, Interval: None', metadata={'start_date': '2023-08-10', 'end_date': '2023-08-10', 'duration': 0, 'start_time': '19:25', 'end_time': '10:18', 'event_type': 'Appointment', 'recurrent': 'No', 'recurrence_interval': 'None', 'description': 'This is a appointment.', 'priority_level': 'medium'}),\n",
      " Document(page_content='Date: 2023-08-10 Event: TODO, Start Time: 19:54, End Time: 21:56. Description: This is a todo. Priority: none, Recurrent: No, Interval: None', metadata={'start_date': '2023-08-10', 'end_date': '2023-08-13', 'duration': 3, 'start_time': '19:54', 'end_time': '21:56', 'event_type': 'TODO', 'recurrent': 'No', 'recurrence_interval': 'None', 'description': 'This is a todo.', 'priority_level': 'none'}),\n",
      " Document(page_content='Date: 2023-08-11 Event: Subscription, Start Time: 00:00, End Time: 23:59. Description: This is a subscription. Priority: low, Recurrent: Yes, Interval: 4 day', metadata={'start_date': '2023-08-11', 'end_date': '2023-08-18', 'duration': 7, 'start_time': '00:00', 'end_time': '23:59', 'event_type': 'Subscription', 'recurrent': 'Yes', 'recurrence_interval': '4 day', 'description': 'This is a subscription.', 'priority_level': 'low'}),\n",
      " Document(page_content='Date: 2023-08-11 Event: Meeting, Start Time: 06:52, End Time: 07:22. Description: This is a meeting. Priority: medium, Recurrent: No, Interval: None', metadata={'start_date': '2023-08-11', 'end_date': '2023-08-12', 'duration': 1, 'start_time': '06:52', 'end_time': '07:22', 'event_type': 'Meeting', 'recurrent': 'No', 'recurrence_interval': 'None', 'description': 'This is a meeting.', 'priority_level': 'medium'}),\n",
      " Document(page_content='Date: 2023-08-11 Event: Interview, Start Time: 09:50, End Time: 08:20. Description: This is a interview. Priority: high, Recurrent: No, Interval: None', metadata={'start_date': '2023-08-11', 'end_date': '2023-08-14', 'duration': 3, 'start_time': '09:50', 'end_time': '08:20', 'event_type': 'Interview', 'recurrent': 'No', 'recurrence_interval': 'None', 'description': 'This is a interview.', 'priority_level': 'high'}),\n",
      " Document(page_content='Date: 2023-08-11 Event: TODO, Start Time: 10:04, End Time: 06:02. Description: This is a todo. Priority: high, Recurrent: No, Interval: None', metadata={'start_date': '2023-08-11', 'end_date': '2023-08-11', 'duration': 0, 'start_time': '10:04', 'end_time': '06:02', 'event_type': 'TODO', 'recurrent': 'No', 'recurrence_interval': 'None', 'description': 'This is a todo.', 'priority_level': 'high'}),\n",
      " Document(page_content='Date: 2023-08-11 Event: TODO, Start Time: 12:52, End Time: 12:21. Description: This is a todo. Priority: none, Recurrent: No, Interval: None', metadata={'start_date': '2023-08-11', 'end_date': '2023-08-11', 'duration': 0, 'start_time': '12:52', 'end_time': '12:21', 'event_type': 'TODO', 'recurrent': 'No', 'recurrence_interval': 'None', 'description': 'This is a todo.', 'priority_level': 'none'}),\n",
      " Document(page_content='Date: 2023-08-11 Event: Workout, Start Time: 17:54, End Time: 14:36. Description: This is a workout. Priority: none, Recurrent: No, Interval: None', metadata={'start_date': '2023-08-11', 'end_date': '2023-08-14', 'duration': 3, 'start_time': '17:54', 'end_time': '14:36', 'event_type': 'Workout', 'recurrent': 'No', 'recurrence_interval': 'None', 'description': 'This is a workout.', 'priority_level': 'none'}),\n",
      " Document(page_content='Date: 2023-08-11 Event: TODO, Start Time: 18:38, End Time: 14:02. Description: This is a todo. Priority: highest, Recurrent: No, Interval: None', metadata={'start_date': '2023-08-11', 'end_date': '2023-08-12', 'duration': 1, 'start_time': '18:38', 'end_time': '14:02', 'event_type': 'TODO', 'recurrent': 'No', 'recurrence_interval': 'None', 'description': 'This is a todo.', 'priority_level': 'highest'}),\n",
      " Document(page_content='Date: 2023-08-11 Event: Appointment, Start Time: 21:07, End Time: 07:46. Description: This is a appointment. Priority: highest, Recurrent: No, Interval: None', metadata={'start_date': '2023-08-11', 'end_date': '2023-08-11', 'duration': 0, 'start_time': '21:07', 'end_time': '07:46', 'event_type': 'Appointment', 'recurrent': 'No', 'recurrence_interval': 'None', 'description': 'This is a appointment.', 'priority_level': 'highest'}),\n",
      " Document(page_content=\"Date: 2023-08-12 Event: Birthday, Start Time: 00:00, End Time: 23:59. Description: Jenny (coworker)'s birthday Priority: medium, Recurrent: Yes, Interval: 3 day\", metadata={'start_date': '2023-08-12', 'end_date': '2023-08-12', 'duration': 0, 'start_time': '00:00', 'end_time': '23:59', 'event_type': 'Birthday', 'recurrent': 'Yes', 'recurrence_interval': '3 day', 'description': \"Jenny (coworker)'s birthday\", 'priority_level': 'medium'}),\n",
      " Document(page_content=\"Date: 2023-08-12 Event: Anniversary, Start Time: 00:00, End Time: 23:59. Description: Barbara Jane Ruiz (mother)'s anniversary Priority: none, Recurrent: Yes, Interval: 1 day\", metadata={'start_date': '2023-08-12', 'end_date': '2023-08-15', 'duration': 3, 'start_time': '00:00', 'end_time': '23:59', 'event_type': 'Anniversary', 'recurrent': 'Yes', 'recurrence_interval': '1 day', 'description': \"Barbara Jane Ruiz (mother)'s anniversary\", 'priority_level': 'none'}),\n",
      " Document(page_content='Date: 2023-08-12 Event: Workout, Start Time: 02:14, End Time: 09:39. Description: This is a workout. Priority: none, Recurrent: No, Interval: None', metadata={'start_date': '2023-08-12', 'end_date': '2023-08-12', 'duration': 0, 'start_time': '02:14', 'end_time': '09:39', 'event_type': 'Workout', 'recurrent': 'No', 'recurrence_interval': 'None', 'description': 'This is a workout.', 'priority_level': 'none'}),\n",
      " Document(page_content=\"Date: 2023-08-13 Event: Birthday, Start Time: 00:00, End Time: 23:59. Description: Gregorio (friend)'s birthday Priority: medium, Recurrent: Yes, Interval: 4 year\", metadata={'start_date': '2023-08-13', 'end_date': '2023-08-13', 'duration': 0, 'start_time': '00:00', 'end_time': '23:59', 'event_type': 'Birthday', 'recurrent': 'Yes', 'recurrence_interval': '4 year', 'description': \"Gregorio (friend)'s birthday\", 'priority_level': 'medium'}),\n",
      " Document(page_content=\"Date: 2023-08-13 Event: Anniversary, Start Time: 00:00, End Time: 23:59. Description: Leroy Ruiz (father)'s anniversary Priority: high, Recurrent: Yes, Interval: 3 day\", metadata={'start_date': '2023-08-13', 'end_date': '2023-08-20', 'duration': 7, 'start_time': '00:00', 'end_time': '23:59', 'event_type': 'Anniversary', 'recurrent': 'Yes', 'recurrence_interval': '3 day', 'description': \"Leroy Ruiz (father)'s anniversary\", 'priority_level': 'high'}),\n",
      " Document(page_content='Date: 2023-08-13 Event: Meeting, Start Time: 01:16, End Time: 11:42. Description: This is a meeting. Priority: low, Recurrent: No, Interval: None', metadata={'start_date': '2023-08-13', 'end_date': '2023-08-16', 'duration': 3, 'start_time': '01:16', 'end_time': '11:42', 'event_type': 'Meeting', 'recurrent': 'No', 'recurrence_interval': 'None', 'description': 'This is a meeting.', 'priority_level': 'low'}),\n",
      " Document(page_content='Date: 2023-08-13 Event: Meeting, Start Time: 08:27, End Time: 14:06. Description: This is a meeting. Priority: low, Recurrent: No, Interval: None', metadata={'start_date': '2023-08-13', 'end_date': '2023-08-14', 'duration': 1, 'start_time': '08:27', 'end_time': '14:06', 'event_type': 'Meeting', 'recurrent': 'No', 'recurrence_interval': 'None', 'description': 'This is a meeting.', 'priority_level': 'low'}),\n",
      " Document(page_content='Date: 2023-08-13 Event: Meeting, Start Time: 11:27, End Time: 05:03. Description: This is a meeting. Priority: medium, Recurrent: No, Interval: None', metadata={'start_date': '2023-08-13', 'end_date': '2023-08-14', 'duration': 1, 'start_time': '11:27', 'end_time': '05:03', 'event_type': 'Meeting', 'recurrent': 'No', 'recurrence_interval': 'None', 'description': 'This is a meeting.', 'priority_level': 'medium'}),\n",
      " Document(page_content='Date: 2023-08-14 Event: Concert, Start Time: 00:00, End Time: 23:59. Description: This is a concert. Priority: highest, Recurrent: No, Interval: None', metadata={'start_date': '2023-08-14', 'end_date': '2023-08-14', 'duration': 0, 'start_time': '00:00', 'end_time': '23:59', 'event_type': 'Concert', 'recurrent': 'No', 'recurrence_interval': 'None', 'description': 'This is a concert.', 'priority_level': 'highest'}),\n",
      " Document(page_content='Date: 2023-08-14 Event: Concert, Start Time: 00:00, End Time: 23:59. Description: This is a concert. Priority: high, Recurrent: No, Interval: None', metadata={'start_date': '2023-08-14', 'end_date': '2023-08-14', 'duration': 0, 'start_time': '00:00', 'end_time': '23:59', 'event_type': 'Concert', 'recurrent': 'No', 'recurrence_interval': 'None', 'description': 'This is a concert.', 'priority_level': 'high'}),\n",
      " Document(page_content='Date: 2023-08-14 Event: Subscription, Start Time: 00:00, End Time: 23:59. Description: This is a subscription. Priority: none, Recurrent: Yes, Interval: 3 week', metadata={'start_date': '2023-08-14', 'end_date': '2023-08-17', 'duration': 3, 'start_time': '00:00', 'end_time': '23:59', 'event_type': 'Subscription', 'recurrent': 'Yes', 'recurrence_interval': '3 week', 'description': 'This is a subscription.', 'priority_level': 'none'}),\n",
      " Document(page_content=\"Date: 2023-08-14 Event: Birthday, Start Time: 00:00, End Time: 23:59. Description: Bob (brother)'s birthday Priority: low, Recurrent: Yes, Interval: 3 year\", metadata={'start_date': '2023-08-14', 'end_date': '2023-08-21', 'duration': 7, 'start_time': '00:00', 'end_time': '23:59', 'event_type': 'Birthday', 'recurrent': 'Yes', 'recurrence_interval': '3 year', 'description': \"Bob (brother)'s birthday\", 'priority_level': 'low'}),\n",
      " Document(page_content='Date: 2023-08-14 Event: Performance, Start Time: 00:00, End Time: 23:59. Description: This is a performance. Priority: high, Recurrent: No, Interval: None', metadata={'start_date': '2023-08-14', 'end_date': '2023-08-15', 'duration': 1, 'start_time': '00:00', 'end_time': '23:59', 'event_type': 'Performance', 'recurrent': 'No', 'recurrence_interval': 'None', 'description': 'This is a performance.', 'priority_level': 'high'}),\n",
      " Document(page_content='Date: 2023-08-14 Event: Subscription, Start Time: 00:00, End Time: 23:59. Description: This is a subscription. Priority: highest, Recurrent: Yes, Interval: 1 year', metadata={'start_date': '2023-08-14', 'end_date': '2023-08-14', 'duration': 0, 'start_time': '00:00', 'end_time': '23:59', 'event_type': 'Subscription', 'recurrent': 'Yes', 'recurrence_interval': '1 year', 'description': 'This is a subscription.', 'priority_level': 'highest'}),\n",
      " Document(page_content='Date: 2023-08-14 Event: Task, Start Time: 19:47, End Time: 16:12. Description: This is a task. Priority: none, Recurrent: No, Interval: None', metadata={'start_date': '2023-08-14', 'end_date': '2023-08-14', 'duration': 0, 'start_time': '19:47', 'end_time': '16:12', 'event_type': 'Task', 'recurrent': 'No', 'recurrence_interval': 'None', 'description': 'This is a task.', 'priority_level': 'none'}),\n",
      " Document(page_content='Date: 2023-08-15 Event: Performance, Start Time: 00:00, End Time: 23:59. Description: This is a performance. Priority: none, Recurrent: No, Interval: None', metadata={'start_date': '2023-08-15', 'end_date': '2023-08-15', 'duration': 0, 'start_time': '00:00', 'end_time': '23:59', 'event_type': 'Performance', 'recurrent': 'No', 'recurrence_interval': 'None', 'description': 'This is a performance.', 'priority_level': 'none'}),\n",
      " Document(page_content='Date: 2023-08-15 Event: Conference, Start Time: 00:00, End Time: 23:59. Description: This is a conference. Priority: none, Recurrent: No, Interval: None', metadata={'start_date': '2023-08-15', 'end_date': '2023-08-15', 'duration': 0, 'start_time': '00:00', 'end_time': '23:59', 'event_type': 'Conference', 'recurrent': 'No', 'recurrence_interval': 'None', 'description': 'This is a conference.', 'priority_level': 'none'}),\n",
      " Document(page_content='Date: 2023-08-15 Event: Performance, Start Time: 00:00, End Time: 23:59. Description: This is a performance. Priority: none, Recurrent: No, Interval: None', metadata={'start_date': '2023-08-15', 'end_date': '2023-08-15', 'duration': 0, 'start_time': '00:00', 'end_time': '23:59', 'event_type': 'Performance', 'recurrent': 'No', 'recurrence_interval': 'None', 'description': 'This is a performance.', 'priority_level': 'none'}),\n",
      " Document(page_content=\"Date: 2023-08-15 Event: Anniversary, Start Time: 00:00, End Time: 23:59. Description: Sally (sister)'s anniversary Priority: high, Recurrent: Yes, Interval: 4 month\", metadata={'start_date': '2023-08-15', 'end_date': '2023-08-15', 'duration': 0, 'start_time': '00:00', 'end_time': '23:59', 'event_type': 'Anniversary', 'recurrent': 'Yes', 'recurrence_interval': '4 month', 'description': \"Sally (sister)'s anniversary\", 'priority_level': 'high'}),\n",
      " Document(page_content='Date: 2023-08-15 Event: Interview, Start Time: 02:33, End Time: 11:32. Description: This is a interview. Priority: low, Recurrent: No, Interval: None', metadata={'start_date': '2023-08-15', 'end_date': '2023-08-18', 'duration': 3, 'start_time': '02:33', 'end_time': '11:32', 'event_type': 'Interview', 'recurrent': 'No', 'recurrence_interval': 'None', 'description': 'This is a interview.', 'priority_level': 'low'}),\n",
      " Document(page_content='Date: 2023-08-15 Event: Appointment, Start Time: 17:27, End Time: 20:26. Description: This is a appointment. Priority: low, Recurrent: No, Interval: None', metadata={'start_date': '2023-08-15', 'end_date': '2023-08-15', 'duration': 0, 'start_time': '17:27', 'end_time': '20:26', 'event_type': 'Appointment', 'recurrent': 'No', 'recurrence_interval': 'None', 'description': 'This is a appointment.', 'priority_level': 'low'}),\n",
      " Document(page_content=\"Date: 2023-08-16 Event: Birthday, Start Time: 00:00, End Time: 23:59. Description: Pablo (friend)'s birthday Priority: none, Recurrent: Yes, Interval: 3 year\", metadata={'start_date': '2023-08-16', 'end_date': '2023-08-16', 'duration': 0, 'start_time': '00:00', 'end_time': '23:59', 'event_type': 'Birthday', 'recurrent': 'Yes', 'recurrence_interval': '3 year', 'description': \"Pablo (friend)'s birthday\", 'priority_level': 'none'}),\n",
      " Document(page_content=\"Date: 2023-08-16 Event: Anniversary, Start Time: 00:00, End Time: 23:59. Description: Alice (aunt)'s anniversary Priority: low, Recurrent: Yes, Interval: 3 day\", metadata={'start_date': '2023-08-16', 'end_date': '2023-08-19', 'duration': 3, 'start_time': '00:00', 'end_time': '23:59', 'event_type': 'Anniversary', 'recurrent': 'Yes', 'recurrence_interval': '3 day', 'description': \"Alice (aunt)'s anniversary\", 'priority_level': 'low'}),\n",
      " Document(page_content='Date: 2023-08-17 Event: Workout, Start Time: 02:22, End Time: 09:34. Description: This is a workout. Priority: none, Recurrent: No, Interval: None', metadata={'start_date': '2023-08-17', 'end_date': '2023-08-18', 'duration': 1, 'start_time': '02:22', 'end_time': '09:34', 'event_type': 'Workout', 'recurrent': 'No', 'recurrence_interval': 'None', 'description': 'This is a workout.', 'priority_level': 'none'}),\n",
      " Document(page_content='Date: 2023-08-17 Event: Interview, Start Time: 09:36, End Time: 02:37. Description: This is a interview. Priority: medium, Recurrent: No, Interval: None', metadata={'start_date': '2023-08-17', 'end_date': '2023-08-24', 'duration': 7, 'start_time': '09:36', 'end_time': '02:37', 'event_type': 'Interview', 'recurrent': 'No', 'recurrence_interval': 'None', 'description': 'This is a interview.', 'priority_level': 'medium'}),\n",
      " Document(page_content='Date: 2023-08-18 Event: Performance, Start Time: 00:00, End Time: 23:59. Description: This is a performance. Priority: none, Recurrent: No, Interval: None', metadata={'start_date': '2023-08-18', 'end_date': '2023-08-23', 'duration': 5, 'start_time': '00:00', 'end_time': '23:59', 'event_type': 'Performance', 'recurrent': 'No', 'recurrence_interval': 'None', 'description': 'This is a performance.', 'priority_level': 'none'}),\n",
      " Document(page_content='Date: 2023-08-18 Event: Subscription, Start Time: 00:00, End Time: 23:59. Description: This is a subscription. Priority: low, Recurrent: Yes, Interval: 4 year', metadata={'start_date': '2023-08-18', 'end_date': '2023-08-18', 'duration': 0, 'start_time': '00:00', 'end_time': '23:59', 'event_type': 'Subscription', 'recurrent': 'Yes', 'recurrence_interval': '4 year', 'description': 'This is a subscription.', 'priority_level': 'low'}),\n",
      " Document(page_content='Date: 2023-08-18 Event: Performance, Start Time: 00:00, End Time: 23:59. Description: This is a performance. Priority: high, Recurrent: No, Interval: None', metadata={'start_date': '2023-08-18', 'end_date': '2023-08-19', 'duration': 1, 'start_time': '00:00', 'end_time': '23:59', 'event_type': 'Performance', 'recurrent': 'No', 'recurrence_interval': 'None', 'description': 'This is a performance.', 'priority_level': 'high'}),\n",
      " Document(page_content='Date: 2023-08-18 Event: Concert, Start Time: 00:00, End Time: 23:59. Description: This is a concert. Priority: medium, Recurrent: No, Interval: None', metadata={'start_date': '2023-08-18', 'end_date': '2023-08-23', 'duration': 5, 'start_time': '00:00', 'end_time': '23:59', 'event_type': 'Concert', 'recurrent': 'No', 'recurrence_interval': 'None', 'description': 'This is a concert.', 'priority_level': 'medium'}),\n",
      " Document(page_content=\"Date: 2023-08-19 Event: Anniversary, Start Time: 00:00, End Time: 23:59. Description: Gregorio (friend)'s anniversary Priority: medium, Recurrent: Yes, Interval: 2 month\", metadata={'start_date': '2023-08-19', 'end_date': '2023-08-20', 'duration': 1, 'start_time': '00:00', 'end_time': '23:59', 'event_type': 'Anniversary', 'recurrent': 'Yes', 'recurrence_interval': '2 month', 'description': \"Gregorio (friend)'s anniversary\", 'priority_level': 'medium'}),\n",
      " Document(page_content='Date: 2023-08-19 Event: Conference, Start Time: 00:00, End Time: 23:59. Description: This is a conference. Priority: low, Recurrent: No, Interval: None', metadata={'start_date': '2023-08-19', 'end_date': '2023-08-22', 'duration': 3, 'start_time': '00:00', 'end_time': '23:59', 'event_type': 'Conference', 'recurrent': 'No', 'recurrence_interval': 'None', 'description': 'This is a conference.', 'priority_level': 'low'}),\n",
      " Document(page_content='Date: 2023-08-19 Event: Interview, Start Time: 12:09, End Time: 10:58. Description: This is a interview. Priority: high, Recurrent: No, Interval: None', metadata={'start_date': '2023-08-19', 'end_date': '2023-08-19', 'duration': 0, 'start_time': '12:09', 'end_time': '10:58', 'event_type': 'Interview', 'recurrent': 'No', 'recurrence_interval': 'None', 'description': 'This is a interview.', 'priority_level': 'high'}),\n",
      " Document(page_content='Date: 2023-08-20 Event: Concert, Start Time: 00:00, End Time: 23:59. Description: This is a concert. Priority: high, Recurrent: No, Interval: None', metadata={'start_date': '2023-08-20', 'end_date': '2023-08-20', 'duration': 0, 'start_time': '00:00', 'end_time': '23:59', 'event_type': 'Concert', 'recurrent': 'No', 'recurrence_interval': 'None', 'description': 'This is a concert.', 'priority_level': 'high'}),\n",
      " Document(page_content='Date: 2023-08-20 Event: Task, Start Time: 21:22, End Time: 15:33. Description: This is a task. Priority: low, Recurrent: No, Interval: None', metadata={'start_date': '2023-08-20', 'end_date': '2023-08-20', 'duration': 0, 'start_time': '21:22', 'end_time': '15:33', 'event_type': 'Task', 'recurrent': 'No', 'recurrence_interval': 'None', 'description': 'This is a task.', 'priority_level': 'low'}),\n",
      " Document(page_content=\"Date: 2023-08-21 Event: Anniversary, Start Time: 00:00, End Time: 23:59. Description: Tom Ruiz (brother)'s anniversary Priority: none, Recurrent: Yes, Interval: 4 week\", metadata={'start_date': '2023-08-21', 'end_date': '2023-08-21', 'duration': 0, 'start_time': '00:00', 'end_time': '23:59', 'event_type': 'Anniversary', 'recurrent': 'Yes', 'recurrence_interval': '4 week', 'description': \"Tom Ruiz (brother)'s anniversary\", 'priority_level': 'none'}),\n",
      " Document(page_content='Date: 2023-08-21 Event: Appointment, Start Time: 06:12, End Time: 12:45. Description: This is a appointment. Priority: high, Recurrent: No, Interval: None', metadata={'start_date': '2023-08-21', 'end_date': '2023-08-21', 'duration': 0, 'start_time': '06:12', 'end_time': '12:45', 'event_type': 'Appointment', 'recurrent': 'No', 'recurrence_interval': 'None', 'description': 'This is a appointment.', 'priority_level': 'high'}),\n",
      " Document(page_content='Date: 2023-08-21 Event: Task, Start Time: 10:50, End Time: 07:58. Description: This is a task. Priority: high, Recurrent: No, Interval: None', metadata={'start_date': '2023-08-21', 'end_date': '2023-08-21', 'duration': 0, 'start_time': '10:50', 'end_time': '07:58', 'event_type': 'Task', 'recurrent': 'No', 'recurrence_interval': 'None', 'description': 'This is a task.', 'priority_level': 'high'}),\n",
      " Document(page_content=\"Date: 2023-08-22 Event: Birthday, Start Time: 00:00, End Time: 23:59. Description: Bob (brother)'s birthday Priority: high, Recurrent: Yes, Interval: 3 day\", metadata={'start_date': '2023-08-22', 'end_date': '2023-08-29', 'duration': 7, 'start_time': '00:00', 'end_time': '23:59', 'event_type': 'Birthday', 'recurrent': 'Yes', 'recurrence_interval': '3 day', 'description': \"Bob (brother)'s birthday\", 'priority_level': 'high'}),\n",
      " Document(page_content='Date: 2023-08-22 Event: Subscription, Start Time: 00:00, End Time: 23:59. Description: This is a subscription. Priority: low, Recurrent: Yes, Interval: 5 week', metadata={'start_date': '2023-08-22', 'end_date': '2023-08-23', 'duration': 1, 'start_time': '00:00', 'end_time': '23:59', 'event_type': 'Subscription', 'recurrent': 'Yes', 'recurrence_interval': '5 week', 'description': 'This is a subscription.', 'priority_level': 'low'}),\n",
      " Document(page_content='Date: 2023-08-22 Event: Workout, Start Time: 09:57, End Time: 22:40. Description: This is a workout. Priority: low, Recurrent: No, Interval: None', metadata={'start_date': '2023-08-22', 'end_date': '2023-08-25', 'duration': 3, 'start_time': '09:57', 'end_time': '22:40', 'event_type': 'Workout', 'recurrent': 'No', 'recurrence_interval': 'None', 'description': 'This is a workout.', 'priority_level': 'low'}),\n",
      " Document(page_content='Date: 2023-08-22 Event: Workshop, Start Time: 14:52, End Time: 10:03. Description: This is a workshop. Priority: highest, Recurrent: No, Interval: None', metadata={'start_date': '2023-08-22', 'end_date': '2023-08-22', 'duration': 0, 'start_time': '14:52', 'end_time': '10:03', 'event_type': 'Workshop', 'recurrent': 'No', 'recurrence_interval': 'None', 'description': 'This is a workshop.', 'priority_level': 'highest'}),\n",
      " Document(page_content='Date: 2023-08-23 Event: Workout, Start Time: 04:16, End Time: 18:51. Description: This is a workout. Priority: medium, Recurrent: No, Interval: None', metadata={'start_date': '2023-08-23', 'end_date': '2023-08-23', 'duration': 0, 'start_time': '04:16', 'end_time': '18:51', 'event_type': 'Workout', 'recurrent': 'No', 'recurrence_interval': 'None', 'description': 'This is a workout.', 'priority_level': 'medium'}),\n",
      " Document(page_content='Date: 2023-08-23 Event: Task, Start Time: 20:11, End Time: 19:17. Description: This is a task. Priority: medium, Recurrent: No, Interval: None', metadata={'start_date': '2023-08-23', 'end_date': '2023-08-28', 'duration': 5, 'start_time': '20:11', 'end_time': '19:17', 'event_type': 'Task', 'recurrent': 'No', 'recurrence_interval': 'None', 'description': 'This is a task.', 'priority_level': 'medium'}),\n",
      " Document(page_content=\"Date: 2023-08-24 Event: Birthday, Start Time: 00:00, End Time: 23:59. Description: Barbara Jane Ruiz (mother)'s birthday Priority: highest, Recurrent: Yes, Interval: 3 month\", metadata={'start_date': '2023-08-24', 'end_date': '2023-08-24', 'duration': 0, 'start_time': '00:00', 'end_time': '23:59', 'event_type': 'Birthday', 'recurrent': 'Yes', 'recurrence_interval': '3 month', 'description': \"Barbara Jane Ruiz (mother)'s birthday\", 'priority_level': 'highest'}),\n",
      " Document(page_content='Date: 2023-08-24 Event: Subscription, Start Time: 00:00, End Time: 23:59. Description: This is a subscription. Priority: high, Recurrent: Yes, Interval: 3 year', metadata={'start_date': '2023-08-24', 'end_date': '2023-08-31', 'duration': 7, 'start_time': '00:00', 'end_time': '23:59', 'event_type': 'Subscription', 'recurrent': 'Yes', 'recurrence_interval': '3 year', 'description': 'This is a subscription.', 'priority_level': 'high'}),\n",
      " Document(page_content=\"Date: 2023-08-24 Event: Anniversary, Start Time: 00:00, End Time: 23:59. Description: Barbara Jane Ruiz (mother)'s anniversary Priority: high, Recurrent: Yes, Interval: 3 week\", metadata={'start_date': '2023-08-24', 'end_date': '2023-08-31', 'duration': 7, 'start_time': '00:00', 'end_time': '23:59', 'event_type': 'Anniversary', 'recurrent': 'Yes', 'recurrence_interval': '3 week', 'description': \"Barbara Jane Ruiz (mother)'s anniversary\", 'priority_level': 'high'}),\n",
      " Document(page_content='Date: 2023-08-24 Event: Workout, Start Time: 22:08, End Time: 16:11. Description: This is a workout. Priority: low, Recurrent: No, Interval: None', metadata={'start_date': '2023-08-24', 'end_date': '2023-08-31', 'duration': 7, 'start_time': '22:08', 'end_time': '16:11', 'event_type': 'Workout', 'recurrent': 'No', 'recurrence_interval': 'None', 'description': 'This is a workout.', 'priority_level': 'low'}),\n",
      " Document(page_content='Date: 2023-08-25 Event: Concert, Start Time: 00:00, End Time: 23:59. Description: This is a concert. Priority: none, Recurrent: No, Interval: None', metadata={'start_date': '2023-08-25', 'end_date': '2023-08-25', 'duration': 0, 'start_time': '00:00', 'end_time': '23:59', 'event_type': 'Concert', 'recurrent': 'No', 'recurrence_interval': 'None', 'description': 'This is a concert.', 'priority_level': 'none'}),\n",
      " Document(page_content='Date: 2023-08-25 Event: Workshop, Start Time: 05:28, End Time: 21:12. Description: This is a workshop. Priority: low, Recurrent: No, Interval: None', metadata={'start_date': '2023-08-25', 'end_date': '2023-08-25', 'duration': 0, 'start_time': '05:28', 'end_time': '21:12', 'event_type': 'Workshop', 'recurrent': 'No', 'recurrence_interval': 'None', 'description': 'This is a workshop.', 'priority_level': 'low'}),\n",
      " Document(page_content='Date: 2023-08-25 Event: TODO, Start Time: 07:11, End Time: 07:18. Description: This is a todo. Priority: none, Recurrent: No, Interval: None', metadata={'start_date': '2023-08-25', 'end_date': '2023-08-26', 'duration': 1, 'start_time': '07:11', 'end_time': '07:18', 'event_type': 'TODO', 'recurrent': 'No', 'recurrence_interval': 'None', 'description': 'This is a todo.', 'priority_level': 'none'}),\n",
      " Document(page_content='Date: 2023-08-25 Event: Interview, Start Time: 08:21, End Time: 08:55. Description: This is a interview. Priority: none, Recurrent: No, Interval: None', metadata={'start_date': '2023-08-25', 'end_date': '2023-08-25', 'duration': 0, 'start_time': '08:21', 'end_time': '08:55', 'event_type': 'Interview', 'recurrent': 'No', 'recurrence_interval': 'None', 'description': 'This is a interview.', 'priority_level': 'none'}),\n",
      " Document(page_content='Date: 2023-08-25 Event: TODO, Start Time: 23:16, End Time: 06:30. Description: This is a todo. Priority: low, Recurrent: No, Interval: None', metadata={'start_date': '2023-08-25', 'end_date': '2023-08-25', 'duration': 0, 'start_time': '23:16', 'end_time': '06:30', 'event_type': 'TODO', 'recurrent': 'No', 'recurrence_interval': 'None', 'description': 'This is a todo.', 'priority_level': 'low'}),\n",
      " Document(page_content='Date: 2023-08-26 Event: Workout, Start Time: 01:21, End Time: 14:44. Description: This is a workout. Priority: highest, Recurrent: No, Interval: None', metadata={'start_date': '2023-08-26', 'end_date': '2023-08-26', 'duration': 0, 'start_time': '01:21', 'end_time': '14:44', 'event_type': 'Workout', 'recurrent': 'No', 'recurrence_interval': 'None', 'description': 'This is a workout.', 'priority_level': 'highest'}),\n",
      " Document(page_content='Date: 2023-08-26 Event: Workout, Start Time: 16:56, End Time: 05:52. Description: This is a workout. Priority: highest, Recurrent: No, Interval: None', metadata={'start_date': '2023-08-26', 'end_date': '2023-08-26', 'duration': 0, 'start_time': '16:56', 'end_time': '05:52', 'event_type': 'Workout', 'recurrent': 'No', 'recurrence_interval': 'None', 'description': 'This is a workout.', 'priority_level': 'highest'}),\n",
      " Document(page_content=\"Date: 2023-08-27 Event: Birthday, Start Time: 00:00, End Time: 23:59. Description: Inash (girlfriend)'s birthday Priority: highest, Recurrent: Yes, Interval: 1 month\", metadata={'start_date': '2023-08-27', 'end_date': '2023-08-30', 'duration': 3, 'start_time': '00:00', 'end_time': '23:59', 'event_type': 'Birthday', 'recurrent': 'Yes', 'recurrence_interval': '1 month', 'description': \"Inash (girlfriend)'s birthday\", 'priority_level': 'highest'}),\n",
      " Document(page_content='Date: 2023-08-28 Event: Concert, Start Time: 00:00, End Time: 23:59. Description: This is a concert. Priority: none, Recurrent: No, Interval: None', metadata={'start_date': '2023-08-28', 'end_date': '2023-08-28', 'duration': 0, 'start_time': '00:00', 'end_time': '23:59', 'event_type': 'Concert', 'recurrent': 'No', 'recurrence_interval': 'None', 'description': 'This is a concert.', 'priority_level': 'none'}),\n",
      " Document(page_content='Date: 2023-08-28 Event: Appointment, Start Time: 07:44, End Time: 00:33. Description: This is a appointment. Priority: high, Recurrent: No, Interval: None', metadata={'start_date': '2023-08-28', 'end_date': '2023-09-02', 'duration': 5, 'start_time': '07:44', 'end_time': '00:33', 'event_type': 'Appointment', 'recurrent': 'No', 'recurrence_interval': 'None', 'description': 'This is a appointment.', 'priority_level': 'high'}),\n",
      " Document(page_content='Date: 2023-08-29 Event: Conference, Start Time: 00:00, End Time: 23:59. Description: This is a conference. Priority: high, Recurrent: No, Interval: None', metadata={'start_date': '2023-08-29', 'end_date': '2023-09-03', 'duration': 5, 'start_time': '00:00', 'end_time': '23:59', 'event_type': 'Conference', 'recurrent': 'No', 'recurrence_interval': 'None', 'description': 'This is a conference.', 'priority_level': 'high'}),\n",
      " Document(page_content='Date: 2023-08-29 Event: TODO, Start Time: 16:06, End Time: 02:57. Description: This is a todo. Priority: highest, Recurrent: No, Interval: None', metadata={'start_date': '2023-08-29', 'end_date': '2023-08-29', 'duration': 0, 'start_time': '16:06', 'end_time': '02:57', 'event_type': 'TODO', 'recurrent': 'No', 'recurrence_interval': 'None', 'description': 'This is a todo.', 'priority_level': 'highest'}),\n",
      " Document(page_content='Date: 2023-08-29 Event: Task, Start Time: 16:35, End Time: 11:57. Description: This is a task. Priority: medium, Recurrent: No, Interval: None', metadata={'start_date': '2023-08-29', 'end_date': '2023-09-01', 'duration': 3, 'start_time': '16:35', 'end_time': '11:57', 'event_type': 'Task', 'recurrent': 'No', 'recurrence_interval': 'None', 'description': 'This is a task.', 'priority_level': 'medium'}),\n",
      " Document(page_content=\"Date: 2023-08-30 Event: Anniversary, Start Time: 00:00, End Time: 23:59. Description: Inash (girlfriend)'s anniversary Priority: none, Recurrent: Yes, Interval: 4 week\", metadata={'start_date': '2023-08-30', 'end_date': '2023-08-30', 'duration': 0, 'start_time': '00:00', 'end_time': '23:59', 'event_type': 'Anniversary', 'recurrent': 'Yes', 'recurrence_interval': '4 week', 'description': \"Inash (girlfriend)'s anniversary\", 'priority_level': 'none'}),\n",
      " Document(page_content='Date: 2023-08-30 Event: Task, Start Time: 20:33, End Time: 09:25. Description: This is a task. Priority: medium, Recurrent: No, Interval: None', metadata={'start_date': '2023-08-30', 'end_date': '2023-08-30', 'duration': 0, 'start_time': '20:33', 'end_time': '09:25', 'event_type': 'Task', 'recurrent': 'No', 'recurrence_interval': 'None', 'description': 'This is a task.', 'priority_level': 'medium'}),\n",
      " Document(page_content='Date: 2023-08-31 Event: Performance, Start Time: 00:00, End Time: 23:59. Description: This is a performance. Priority: high, Recurrent: No, Interval: None', metadata={'start_date': '2023-08-31', 'end_date': '2023-08-31', 'duration': 0, 'start_time': '00:00', 'end_time': '23:59', 'event_type': 'Performance', 'recurrent': 'No', 'recurrence_interval': 'None', 'description': 'This is a performance.', 'priority_level': 'high'}),\n",
      " Document(page_content=\"Date: 2023-08-31 Event: Anniversary, Start Time: 00:00, End Time: 23:59. Description: John (coworker)'s anniversary Priority: highest, Recurrent: Yes, Interval: 5 year\", metadata={'start_date': '2023-08-31', 'end_date': '2023-09-05', 'duration': 5, 'start_time': '00:00', 'end_time': '23:59', 'event_type': 'Anniversary', 'recurrent': 'Yes', 'recurrence_interval': '5 year', 'description': \"John (coworker)'s anniversary\", 'priority_level': 'highest'}),\n",
      " Document(page_content='Date: 2023-09-01 Event: Workshop, Start Time: 04:10, End Time: 02:49. Description: This is a workshop. Priority: none, Recurrent: No, Interval: None', metadata={'start_date': '2023-09-01', 'end_date': '2023-09-06', 'duration': 5, 'start_time': '04:10', 'end_time': '02:49', 'event_type': 'Workshop', 'recurrent': 'No', 'recurrence_interval': 'None', 'description': 'This is a workshop.', 'priority_level': 'none'}),\n",
      " Document(page_content='Date: 2023-09-01 Event: Workout, Start Time: 12:14, End Time: 01:55. Description: This is a workout. Priority: low, Recurrent: No, Interval: None', metadata={'start_date': '2023-09-01', 'end_date': '2023-09-01', 'duration': 0, 'start_time': '12:14', 'end_time': '01:55', 'event_type': 'Workout', 'recurrent': 'No', 'recurrence_interval': 'None', 'description': 'This is a workout.', 'priority_level': 'low'}),\n",
      " Document(page_content='Date: 2023-09-01 Event: TODO, Start Time: 15:50, End Time: 08:22. Description: This is a todo. Priority: none, Recurrent: No, Interval: None', metadata={'start_date': '2023-09-01', 'end_date': '2023-09-08', 'duration': 7, 'start_time': '15:50', 'end_time': '08:22', 'event_type': 'TODO', 'recurrent': 'No', 'recurrence_interval': 'None', 'description': 'This is a todo.', 'priority_level': 'none'}),\n",
      " Document(page_content='Date: 2023-09-01 Event: Workshop, Start Time: 18:50, End Time: 22:56. Description: This is a workshop. Priority: none, Recurrent: No, Interval: None', metadata={'start_date': '2023-09-01', 'end_date': '2023-09-08', 'duration': 7, 'start_time': '18:50', 'end_time': '22:56', 'event_type': 'Workshop', 'recurrent': 'No', 'recurrence_interval': 'None', 'description': 'This is a workshop.', 'priority_level': 'none'})]\n"
     ]
    }
   ],
   "source": [
    "df_loader = DataFrameLoader( df )\n",
    "\n",
    "df_data = df_loader.load()\n",
    "pprint( df_data )\n",
    "\n",
    "in_memory_df_index = VectorstoreIndexCreator(\n",
    "    vectorstore_cls=DocArrayInMemorySearch\n",
    ").from_loaders( [ df_loader ] )"
   ],
   "metadata": {
    "collapsed": false,
    "ExecuteTime": {
     "end_time": "2023-08-09T16:26:25.179202Z",
     "start_time": "2023-08-09T16:26:24.263399Z"
    }
   }
  },
  {
   "cell_type": "code",
   "execution_count": 79,
   "outputs": [],
   "source": [
    "embeddings = OpenAIEmbeddings()\n",
    "vectorstore = Chroma.from_documents( df_data, embeddings )"
   ],
   "metadata": {
    "collapsed": false,
    "ExecuteTime": {
     "end_time": "2023-08-09T16:26:28.211126Z",
     "start_time": "2023-08-09T16:26:27.310118Z"
    }
   }
  },
  {
   "cell_type": "code",
   "execution_count": 80,
   "outputs": [
    {
     "data": {
      "text/plain": "' This data set contains four events: a workout on 2023-07-20, a workout on 2023-08-23, a workout on 2023-08-26, and a workout on 2023-08-11. Each event has a start time, end time, description, priority, and interval.'"
     },
     "execution_count": 80,
     "metadata": {},
     "output_type": "execute_result"
    }
   ],
   "source": [
    "in_memory_df_index.query( \"What's in this data set?\" )"
   ],
   "metadata": {
    "collapsed": false,
    "ExecuteTime": {
     "end_time": "2023-08-09T16:26:31.619244Z",
     "start_time": "2023-08-09T16:26:29.780264Z"
    }
   }
  },
  {
   "cell_type": "code",
   "execution_count": 83,
   "outputs": [
    {
     "data": {
      "text/plain": "' There are four TODO events in this data set.'"
     },
     "execution_count": 83,
     "metadata": {},
     "output_type": "execute_result"
    }
   ],
   "source": [
    "in_memory_df_index.query( \"How many TODO events in this data set?\" )"
   ],
   "metadata": {
    "collapsed": false,
    "ExecuteTime": {
     "end_time": "2023-08-09T16:27:06.975795Z",
     "start_time": "2023-08-09T16:27:06.264090Z"
    }
   }
  },
  {
   "cell_type": "markdown",
   "source": [
    "### Count events by type, manually. Brute force!"
   ],
   "metadata": {
    "collapsed": false
   }
  },
  {
   "cell_type": "code",
   "execution_count": 115,
   "outputs": [
    {
     "name": "stdout",
     "output_type": "stream",
     "text": [
      "Counting [Birthday] events...\n",
      "\n",
      "Date: 2023-07-06 Event: Birthday, Start Time: 00:00, End Time: 23:59. Description: Tom Ruiz (brother)'s birthday Priority: high, Recurrent: Yes, Interval: 2 year\n",
      "Date: 2023-07-09 Event: Birthday, Start Time: 00:00, End Time: 23:59. Description: Bob (brother)'s birthday Priority: high, Recurrent: Yes, Interval: 2 year\n",
      "Date: 2023-07-10 Event: Birthday, Start Time: 00:00, End Time: 23:59. Description: Jenny (coworker)'s birthday Priority: highest, Recurrent: Yes, Interval: 1 year\n",
      "Date: 2023-07-13 Event: Birthday, Start Time: 00:00, End Time: 23:59. Description: Tom Ruiz (brother)'s birthday Priority: high, Recurrent: Yes, Interval: 5 day\n",
      "Date: 2023-07-14 Event: Birthday, Start Time: 00:00, End Time: 23:59. Description: John (coworker)'s birthday Priority: highest, Recurrent: Yes, Interval: 5 day\n",
      "Date: 2023-07-18 Event: Birthday, Start Time: 00:00, End Time: 23:59. Description: Pablo (friend)'s birthday Priority: low, Recurrent: Yes, Interval: 3 year\n",
      "Date: 2023-08-02 Event: Birthday, Start Time: 00:00, End Time: 23:59. Description: Gregorio (friend)'s birthday Priority: none, Recurrent: Yes, Interval: 5 month\n",
      "Date: 2023-08-02 Event: Birthday, Start Time: 00:00, End Time: 23:59. Description: Sally (sister)'s birthday Priority: medium, Recurrent: Yes, Interval: 5 week\n",
      "Date: 2023-08-07 Event: Birthday, Start Time: 00:00, End Time: 23:59. Description: John (coworker)'s birthday Priority: low, Recurrent: Yes, Interval: 4 month\n",
      "Date: 2023-08-10 Event: Birthday, Start Time: 00:00, End Time: 23:59. Description: Pablo (friend)'s birthday Priority: low, Recurrent: Yes, Interval: 3 day\n",
      "Date: 2023-08-12 Event: Birthday, Start Time: 00:00, End Time: 23:59. Description: Jenny (coworker)'s birthday Priority: medium, Recurrent: Yes, Interval: 3 day\n",
      "Date: 2023-08-13 Event: Birthday, Start Time: 00:00, End Time: 23:59. Description: Gregorio (friend)'s birthday Priority: medium, Recurrent: Yes, Interval: 4 year\n",
      "Date: 2023-08-14 Event: Birthday, Start Time: 00:00, End Time: 23:59. Description: Bob (brother)'s birthday Priority: low, Recurrent: Yes, Interval: 3 year\n",
      "Date: 2023-08-16 Event: Birthday, Start Time: 00:00, End Time: 23:59. Description: Pablo (friend)'s birthday Priority: none, Recurrent: Yes, Interval: 3 year\n",
      "Date: 2023-08-22 Event: Birthday, Start Time: 00:00, End Time: 23:59. Description: Bob (brother)'s birthday Priority: high, Recurrent: Yes, Interval: 3 day\n",
      "Date: 2023-08-24 Event: Birthday, Start Time: 00:00, End Time: 23:59. Description: Barbara Jane Ruiz (mother)'s birthday Priority: highest, Recurrent: Yes, Interval: 3 month\n",
      "Date: 2023-08-27 Event: Birthday, Start Time: 00:00, End Time: 23:59. Description: Inash (girlfriend)'s birthday Priority: highest, Recurrent: Yes, Interval: 1 month\n",
      "\n",
      "Done! Total 17 Birthday events\n"
     ]
    }
   ],
   "source": [
    "def get_event_count( df, event ):\n",
    "\n",
    "    print( \"Counting [{}] events...\".format( event ), end=\"\\n\\n\" )\n",
    "\n",
    "    count = 0\n",
    "    for row in df:\n",
    "        if event in row.page_content:\n",
    "            print( row.page_content )\n",
    "            count += 1\n",
    "\n",
    "    print()\n",
    "    print( \"Done! Total {} {} events\".format( count, event ) )\n",
    "\n",
    "get_event_count( df_data, \"Birthday\" )"
   ],
   "metadata": {
    "collapsed": false,
    "ExecuteTime": {
     "end_time": "2023-08-09T19:01:32.348779Z",
     "start_time": "2023-08-09T19:01:32.341722Z"
    }
   }
  },
  {
   "cell_type": "code",
   "execution_count": 93,
   "outputs": [
    {
     "data": {
      "text/plain": "\"I'm sorry, but I don't have information about how many times you've asked about birthdays.\""
     },
     "execution_count": 93,
     "metadata": {},
     "output_type": "execute_result"
    }
   ],
   "source": [
    "memory = ConversationBufferMemory( memory_key=\"chat_history\", return_messages=True )\n",
    "\n",
    "qa = ConversationalRetrievalChain.from_llm(\n",
    "    llm,\n",
    "    vectorstore.as_retriever(),\n",
    "    memory=memory\n",
    ")\n",
    "def query_qa_chain( query ):\n",
    "\n",
    "    result = qa( { \"question\": query } )\n",
    "\n",
    "    return result[ \"answer\" ]\n",
    "\n",
    "result = query_qa_chain( \"How Many times have I asked you about birthdays?\" )\n",
    "result"
   ],
   "metadata": {
    "collapsed": false,
    "ExecuteTime": {
     "end_time": "2023-08-09T18:41:31.305619Z",
     "start_time": "2023-08-09T18:41:27.038034Z"
    }
   }
  },
  {
   "cell_type": "code",
   "execution_count": 94,
   "outputs": [
    {
     "data": {
      "text/plain": "ConversationBufferMemory(chat_memory=ChatMessageHistory(messages=[HumanMessage(content='How Many times have I asked you about birthdays?', additional_kwargs={}, example=False), AIMessage(content=\"I'm sorry, but I don't have information about how many times you've asked about birthdays.\", additional_kwargs={}, example=False)]), output_key=None, input_key=None, return_messages=True, human_prefix='Human', ai_prefix='AI', memory_key='chat_history')"
     },
     "execution_count": 94,
     "metadata": {},
     "output_type": "execute_result"
    }
   ],
   "source": [
    "memory"
   ],
   "metadata": {
    "collapsed": false,
    "ExecuteTime": {
     "end_time": "2023-08-09T18:41:34.477845Z",
     "start_time": "2023-08-09T18:41:34.451327Z"
    }
   }
  },
  {
   "cell_type": "code",
   "execution_count": 95,
   "outputs": [
    {
     "data": {
      "text/plain": "'The information provided does not specify any topics that have been discussed.'"
     },
     "execution_count": 95,
     "metadata": {},
     "output_type": "execute_result"
    }
   ],
   "source": [
    "query_qa_chain( \"What have we talked about thus far?\" )"
   ],
   "metadata": {
    "collapsed": false,
    "ExecuteTime": {
     "end_time": "2023-08-09T18:41:41.503068Z",
     "start_time": "2023-08-09T18:41:37.790876Z"
    }
   }
  },
  {
   "cell_type": "code",
   "execution_count": 96,
   "outputs": [
    {
     "data": {
      "text/plain": "'There are 4 records in the entire data set.'"
     },
     "execution_count": 96,
     "metadata": {},
     "output_type": "execute_result"
    }
   ],
   "source": [
    "query_qa_chain( \"Can you tell me how many records are in the entire data set?\" )"
   ],
   "metadata": {
    "collapsed": false,
    "ExecuteTime": {
     "end_time": "2023-08-09T18:41:50.261644Z",
     "start_time": "2023-08-09T18:41:45.989414Z"
    }
   }
  },
  {
   "cell_type": "code",
   "execution_count": 97,
   "outputs": [
    {
     "data": {
      "text/plain": "'Sure, here are all the records in the data set:\\n\\n1. Date: 2023-07-01, Event: Performance, Start Time: 00:00, End Time: 23:59. Description: This is a performance. Priority: highest, Recurrent: No, Interval: None\\n\\n2. Date: 2023-08-15, Event: Performance, Start Time: 00:00, End Time: 23:59. Description: This is a performance. Priority: none, Recurrent: No, Interval: None\\n\\n3. Date: 2023-08-15, Event: Performance, Start Time: 00:00, End Time: 23:59. Description: This is a performance. Priority: none, Recurrent: No, Interval: None\\n\\n4. Date: 2023-08-31, Event: Performance, Start Time: 00:00, End Time: 23:59. Description: This is a performance. Priority: high, Recurrent: No, Interval: None'"
     },
     "execution_count": 97,
     "metadata": {},
     "output_type": "execute_result"
    }
   ],
   "source": [
    "query_qa_chain( \"Can you show me all the records in this data set?\" )"
   ],
   "metadata": {
    "collapsed": false,
    "ExecuteTime": {
     "end_time": "2023-08-09T18:42:22.170338Z",
     "start_time": "2023-08-09T18:41:55.062288Z"
    }
   }
  },
  {
   "cell_type": "code",
   "execution_count": 116,
   "outputs": [],
   "source": [
    "from langchain.agents.agent_toolkits.pandas.base import create_pandas_dataframe_agent\n",
    "\n",
    "llm = ChatOpenAI( model_name=\"gpt-4-0613\", temperature=0.0 )\n",
    "\n",
    "raw_df = pd.read_csv( du.get_project_root() + \"/src/conf/long-term-memory/events.csv\" )\n"
   ],
   "metadata": {
    "collapsed": false,
    "ExecuteTime": {
     "end_time": "2023-08-09T19:33:41.830557Z",
     "start_time": "2023-08-09T19:33:41.830069Z"
    }
   }
  },
  {
   "cell_type": "code",
   "execution_count": 121,
   "outputs": [
    {
     "name": "stdout",
     "output_type": "stream",
     "text": [
      "[HumanMessage(content=\"\\nYou are an event planner with proven capacity for querying pandas dataframes.\\nI expect you to query the dataframe provided and answer in plain English unless specifically requested to do otherwise.\\nNEVER display raw dataframe content, unless specifically requested to do otherwise.\\nAll dates and temporal references like 'today', 'yesterday', 'next week' should all be calculated by using Python's datetime library.\\nWhen I ask you about events contained in this dataframe, you will always sort the events in ascending order, 1 per line, unless specifically requested to do otherwise.\\nWhen asked a question about this dataframe, if you don't know the answer simply say that you are unable to answer that question due to a lack of information or specificity.\\nIf the question is vague or difficult to answer, please ask for clarification delimited by three hash symbols ###.\\nGiven that, answer the following question: ###How many records are in this dataset?###\\n\", additional_kwargs={}, example=False)]\n",
      "\n"
     ]
    }
   ],
   "source": [
    "template_string = \"\"\"\n",
    "You are an event planner with proven capacity for querying pandas dataframes.\n",
    "I expect you to query the dataframe provided and answer in plain English unless specifically requested to do otherwise.\n",
    "NEVER display raw dataframe content, unless specifically requested to do otherwise.\n",
    "All dates and temporal references like 'today', 'yesterday', 'next week' should all be calculated by using Python's datetime library.\n",
    "When I ask you about events contained in this dataframe, you will always sort the events in ascending order, 1 per line, unless specifically requested to do otherwise.\n",
    "When asked a question about this dataframe, if you don't know the answer simply say that you are unable to answer that question due to a lack of information or specificity.\n",
    "If the question is vague or difficult to answer, please ask for clarification delimited by three hash symbols ###.\n",
    "Given that, answer the following question: ###{question}###\n",
    "\"\"\"\n",
    "\n",
    "event_prompt_template = ChatPromptTemplate.from_template( template_string )\n",
    "# print( prompt_template, end=\"\\n\\n\" )\n",
    "\n",
    "event_prompt = event_prompt_template.format_messages( question=\"How many records are in this dataset?\" )\n",
    "print( event_prompt, end=\"\\n\\n\" )\n",
    "\n",
    "# response_autoencoder = llm( prompt_autoencoder )\n",
    "# print( response_autoencoder.content, end=\"\\n\\n\" )"
   ],
   "metadata": {
    "collapsed": false,
    "ExecuteTime": {
     "end_time": "2023-08-09T19:53:19.586443Z",
     "start_time": "2023-08-09T19:53:19.575874Z"
    }
   }
  },
  {
   "cell_type": "code",
   "execution_count": 123,
   "outputs": [],
   "source": [
    "df_agent = create_pandas_dataframe_agent( llm, raw_df, verbose=True )"
   ],
   "metadata": {
    "collapsed": false,
    "ExecuteTime": {
     "end_time": "2023-08-09T19:54:18.046531Z",
     "start_time": "2023-08-09T19:54:18.041012Z"
    }
   }
  },
  {
   "cell_type": "code",
   "execution_count": 126,
   "outputs": [
    {
     "name": "stdout",
     "output_type": "stream",
     "text": [
      "\n",
      "\n",
      "\u001B[1m> Entering new AgentExecutor chain...\u001B[0m\n",
      "\u001B[32;1m\u001B[1;3mThought: To find out how many records are in the dataset, I can use the shape attribute of the dataframe. The shape attribute returns a tuple representing the dimensionality of the DataFrame. The first element of the tuple will give us the number of rows, which is the number of records in the dataset.\n",
      "Action: python_repl_ast\n",
      "Action Input: df.shape[0]\u001B[0m\n",
      "Observation: \u001B[36;1m\u001B[1;3m200\u001B[0m\n",
      "Thought:\u001B[32;1m\u001B[1;3mI now know the final answer\n",
      "Final Answer: There are 200 records in this dataset.\u001B[0m\n",
      "\n",
      "\u001B[1m> Finished chain.\u001B[0m\n"
     ]
    },
    {
     "data": {
      "text/plain": "'There are 200 records in this dataset.'"
     },
     "execution_count": 126,
     "metadata": {},
     "output_type": "execute_result"
    }
   ],
   "source": [
    "event_prompt = event_prompt_template.format_messages( question=\"How many records are in this dataset?\" )\n",
    "df_agent.run( event_prompt )"
   ],
   "metadata": {
    "collapsed": false,
    "ExecuteTime": {
     "end_time": "2023-08-09T19:55:07.048053Z",
     "start_time": "2023-08-09T19:54:56.353737Z"
    }
   }
  },
  {
   "cell_type": "code",
   "execution_count": 127,
   "outputs": [
    {
     "name": "stdout",
     "output_type": "stream",
     "text": [
      "\n",
      "\n",
      "\u001B[1m> Entering new AgentExecutor chain...\u001B[0m\n",
      "\u001B[32;1m\u001B[1;3mThought: The question is asking for today's date, yesterday's date, and tomorrow's date. I can use Python's datetime library to get these dates.\n",
      "Action: python_repl_ast\n",
      "Action Input: \n",
      "```python\n",
      "from datetime import datetime, timedelta\n",
      "\n",
      "# Get today's date\n",
      "today = datetime.now()\n",
      "\n",
      "# Get yesterday's date\n",
      "yesterday = today - timedelta(days=1)\n",
      "\n",
      "# Get tomorrow's date\n",
      "tomorrow = today + timedelta(days=1)\n",
      "\n",
      "today, yesterday, tomorrow\n",
      "```\u001B[0m\n",
      "Observation: \u001B[36;1m\u001B[1;3m(datetime.datetime(2023, 8, 9, 19, 57, 23, 563721), datetime.datetime(2023, 8, 8, 19, 57, 23, 563721), datetime.datetime(2023, 8, 10, 19, 57, 23, 563721))\u001B[0m\n",
      "Thought:\u001B[32;1m\u001B[1;3mI now know the dates for today, yesterday, and tomorrow.\n",
      "Final Answer: Today is August 9, 2023. Yesterday was August 8, 2023. Tomorrow will be August 10, 2023.\u001B[0m\n",
      "\n",
      "\u001B[1m> Finished chain.\u001B[0m\n"
     ]
    },
    {
     "data": {
      "text/plain": "'Today is August 9, 2023. Yesterday was August 8, 2023. Tomorrow will be August 10, 2023.'"
     },
     "execution_count": 127,
     "metadata": {},
     "output_type": "execute_result"
    }
   ],
   "source": [
    "# Create function to take a question and call the data frame agent.\n",
    "def query_dataframe( question ):\n",
    "\n",
    "    event_prompt = event_prompt_template.format_messages( question=question )\n",
    "    response = df_agent.run( event_prompt )\n",
    "\n",
    "    return response\n",
    "\n",
    "response = query_dataframe( \"What day is today? What day was yesterday? What day is tomorrow?\" )\n",
    "response"
   ],
   "metadata": {
    "collapsed": false,
    "ExecuteTime": {
     "end_time": "2023-08-09T19:57:32.606306Z",
     "start_time": "2023-08-09T19:57:10.737644Z"
    }
   }
  },
  {
   "cell_type": "code",
   "execution_count": null,
   "outputs": [],
   "source": [
    "df_agent.run( \"How many different types of events are in the event_type column\" )"
   ],
   "metadata": {
    "collapsed": false,
    "ExecuteTime": {
     "start_time": "2023-08-09T19:54:52.749538Z"
    }
   }
  },
  {
   "cell_type": "code",
   "execution_count": 108,
   "outputs": [
    {
     "name": "stdout",
     "output_type": "stream",
     "text": [
      "\n",
      "\n",
      "\u001B[1m> Entering new AgentExecutor chain...\u001B[0m\n",
      "\u001B[32;1m\u001B[1;3mThought: To find out how many TODO events are in the dataset, I need to filter the dataframe where the event_type is 'TODO' and then count the number of rows.\n",
      "Action: python_repl_ast\n",
      "Action Input: df[df['event_type'] == 'TODO'].shape[0]\u001B[0m\n",
      "Observation: \u001B[36;1m\u001B[1;3m21\u001B[0m\n",
      "Thought:\u001B[32;1m\u001B[1;3mI now know the final answer.\n",
      "Final Answer: There are 21 TODO events in this dataset.\u001B[0m\n",
      "\n",
      "\u001B[1m> Finished chain.\u001B[0m\n"
     ]
    },
    {
     "data": {
      "text/plain": "'There are 21 TODO events in this dataset.'"
     },
     "execution_count": 108,
     "metadata": {},
     "output_type": "execute_result"
    }
   ],
   "source": [
    "df_agent.run( \"How many TODO events are in this dataset?\" )"
   ],
   "metadata": {
    "collapsed": false,
    "ExecuteTime": {
     "end_time": "2023-08-09T18:47:06.260175Z",
     "start_time": "2023-08-09T18:46:52.267432Z"
    }
   }
  },
  {
   "cell_type": "code",
   "execution_count": 109,
   "outputs": [
    {
     "name": "stdout",
     "output_type": "stream",
     "text": [
      "\n",
      "\n",
      "\u001B[1m> Entering new AgentExecutor chain...\u001B[0m\n",
      "\u001B[32;1m\u001B[1;3mThought: To answer this question, I need to filter the dataframe to only include rows where the `event_type` is \"Birthday\" and the `start_date` is in August. I can do this by first creating a new column that represents the month of the `start_date`, and then using this column to filter the dataframe. \n",
      "Action: python_repl_ast\n",
      "Action Input: df['start_date'] = pd.to_datetime(df['start_date'])\u001B[0m\n",
      "Observation: \u001B[36;1m\u001B[1;3mNameError: name 'pd' is not defined\u001B[0m\n",
      "Thought:\u001B[32;1m\u001B[1;3mI forgot to import the pandas library. I need to import it before I can use it to convert the 'start_date' column to datetime.\n",
      "Action: python_repl_ast\n",
      "Action Input: import pandas as pd\n",
      "df['start_date'] = pd.to_datetime(df['start_date'])\u001B[0m\n",
      "Observation: \u001B[36;1m\u001B[1;3m\u001B[0m\n",
      "Thought:\u001B[32;1m\u001B[1;3mNow that the 'start_date' column is in datetime format, I can extract the month from it and create a new column 'month'. Then, I can filter the dataframe to only include rows where the 'event_type' is 'Birthday' and the 'month' is 8 (which represents August).\n",
      "Action: python_repl_ast\n",
      "Action Input: df['month'] = df['start_date'].dt.month\n",
      "birthday_in_august = df[(df['event_type'] == 'Birthday') & (df['month'] == 8)]\n",
      "birthday_in_august.shape[0]\u001B[0m\n",
      "Observation: \u001B[36;1m\u001B[1;3m11\u001B[0m\n",
      "Thought:\u001B[32;1m\u001B[1;3mI now know the final answer\n",
      "Final Answer: There are 11 birthday events in August.\u001B[0m\n",
      "\n",
      "\u001B[1m> Finished chain.\u001B[0m\n"
     ]
    },
    {
     "data": {
      "text/plain": "'There are 11 birthday events in August.'"
     },
     "execution_count": 109,
     "metadata": {},
     "output_type": "execute_result"
    }
   ],
   "source": [
    "df_agent.run( \"How many birthday events are in August?\" )"
   ],
   "metadata": {
    "collapsed": false,
    "ExecuteTime": {
     "end_time": "2023-08-09T18:48:10.510566Z",
     "start_time": "2023-08-09T18:47:35.460301Z"
    }
   }
  },
  {
   "cell_type": "code",
   "execution_count": 110,
   "outputs": [
    {
     "name": "stdout",
     "output_type": "stream",
     "text": [
      "\n",
      "\n",
      "\u001B[1m> Entering new AgentExecutor chain...\u001B[0m\n",
      "\u001B[32;1m\u001B[1;3mThought: To answer this question, I need to filter the dataframe to only include rows where the event_type is 'Birthday' and the start_date is in August. Then, I need to sort the filtered dataframe in ascending order by start_date.\n",
      "Action: python_repl_ast\n",
      "Action Input: df[(df['event_type'] == 'Birthday') & (df['start_date'].dt.month == 8)].sort_values('start_date')\u001B[0m\n",
      "Observation: \u001B[36;1m\u001B[1;3m    start_date    end_date  duration start_time end_time event_type  \\\n",
      "89  2023-08-02  2023-08-02         0      00:00    23:59   Birthday   \n",
      "92  2023-08-02  2023-08-02         0      00:00    23:59   Birthday   \n",
      "110 2023-08-07  2023-08-07         0      00:00    23:59   Birthday   \n",
      "119 2023-08-10  2023-08-11         1      00:00    23:59   Birthday   \n",
      "132 2023-08-12  2023-08-12         0      00:00    23:59   Birthday   \n",
      "135 2023-08-13  2023-08-13         0      00:00    23:59   Birthday   \n",
      "143 2023-08-14  2023-08-21         7      00:00    23:59   Birthday   \n",
      "153 2023-08-16  2023-08-16         0      00:00    23:59   Birthday   \n",
      "169 2023-08-22  2023-08-29         7      00:00    23:59   Birthday   \n",
      "175 2023-08-24  2023-08-24         0      00:00    23:59   Birthday   \n",
      "186 2023-08-27  2023-08-30         3      00:00    23:59   Birthday   \n",
      "\n",
      "     recurrent recurrence_interval                            description  \\\n",
      "89        True             5 month           Gregorio (friend)'s birthday   \n",
      "92        True              5 week              Sally (sister)'s birthday   \n",
      "110       True             4 month             John (coworker)'s birthday   \n",
      "119       True               3 day              Pablo (friend)'s birthday   \n",
      "132       True               3 day            Jenny (coworker)'s birthday   \n",
      "135       True              4 year           Gregorio (friend)'s birthday   \n",
      "143       True              3 year               Bob (brother)'s birthday   \n",
      "153       True              3 year              Pablo (friend)'s birthday   \n",
      "169       True               3 day               Bob (brother)'s birthday   \n",
      "175       True             3 month  Barbara Jane Ruiz (mother)'s birthday   \n",
      "186       True             1 month          Inash (girlfriend)'s birthday   \n",
      "\n",
      "    priority_level  month  \n",
      "89            none      8  \n",
      "92          medium      8  \n",
      "110            low      8  \n",
      "119            low      8  \n",
      "132         medium      8  \n",
      "135         medium      8  \n",
      "143            low      8  \n",
      "153           none      8  \n",
      "169           high      8  \n",
      "175        highest      8  \n",
      "186        highest      8  \u001B[0m\n",
      "Thought:\u001B[32;1m\u001B[1;3mI now know the final answer\n",
      "Final Answer: The birthday events in August, in ascending order, are as follows:\n",
      "\n",
      "|    | start_date   | end_date   |   duration | start_time   | end_time   | event_type   | recurrent   |   recurrence_interval | description            | priority_level   |\n",
      "|---:|:-------------|:-----------|-----------:|:-------------|:-----------|:-------------|:------------|----------------------:|:-----------------------|:-----------------|\n",
      "|  89 | 2023-08-02   | 2023-08-02 |          0 | 00:00        | 23:59      | Birthday   | True       | 5 month | Gregorio (friend)'s birthday  | none              |\n",
      "|  92 | 2023-08-02   | 2023-08-02 |          0 | 00:00        | 23:59      | Birthday  | True       | 5 week | Sally (sister)'s birthday | medium          |\n",
      "|  110 | 2023-08-07   | 2023-08-07 |          0 | 00:00        | 23:59      | Birthday      | True       | 4 month | John (coworker)'s birthday | low              |\n",
      "|  119 | 2023-08-10   | 2023-08-11 |          1 | 00:00        | 23:59      | Birthday         | True       | 3 day | Pablo (friend)'s birthday | low          |\n",
      "|  132 | 2023-08-12   | 2023-08-12 |          0 | 00:00        | 23:59      | Birthday      | True       | 3 day | Jenny (coworker)'s birthday | medium             |\n",
      "|  135 | 2023-08-13   | 2023-08-13 |          0 | 00:00        | 23:59      | Birthday  | True       | 4 year | Gregorio (friend)'s birthday | medium              |\n",
      "|  143 | 2023-08-14   | 2023-08-21 |          7 | 00:00        | 23:59      | Birthday  | True       | 3 year | Bob (brother)'s birthday | low          |\n",
      "|  153 | 2023-08-16   | 2023-08-16 |          0 | 00:00        | 23:59      | Birthday      | True       | 3 year | Pablo (friend)'s birthday | none              |\n",
      "|  169 | 2023-08-22   | 2023-08-29 |          7 | 00:00        | 23:59      | Birthday         | True       | 3 day | Bob (brother)'s birthday | high          |\n",
      "|  175 | 2023-08-24   | 2023-08-24 |          0 | 00:00        | 23:59      | Birthday      | True       | 3 month | Barbara Jane Ruiz (mother)'s birthday | highest             |\n",
      "|  186 | 2023-08-27   | 2023-08-30 |          3 | 00:00        | 23:59      | Birthday  | True       | 1 month | Inash (girlfriend)'s birthday | highest              |\u001B[0m\n",
      "\n",
      "\u001B[1m> Finished chain.\u001B[0m\n"
     ]
    },
    {
     "data": {
      "text/plain": "\"The birthday events in August, in ascending order, are as follows:\\n\\n|    | start_date   | end_date   |   duration | start_time   | end_time   | event_type   | recurrent   |   recurrence_interval | description            | priority_level   |\\n|---:|:-------------|:-----------|-----------:|:-------------|:-----------|:-------------|:------------|----------------------:|:-----------------------|:-----------------|\\n|  89 | 2023-08-02   | 2023-08-02 |          0 | 00:00        | 23:59      | Birthday   | True       | 5 month | Gregorio (friend)'s birthday  | none              |\\n|  92 | 2023-08-02   | 2023-08-02 |          0 | 00:00        | 23:59      | Birthday  | True       | 5 week | Sally (sister)'s birthday | medium          |\\n|  110 | 2023-08-07   | 2023-08-07 |          0 | 00:00        | 23:59      | Birthday      | True       | 4 month | John (coworker)'s birthday | low              |\\n|  119 | 2023-08-10   | 2023-08-11 |          1 | 00:00        | 23:59      | Birthday         | True       | 3 day | Pablo (friend)'s birthday | low          |\\n|  132 | 2023-08-12   | 2023-08-12 |          0 | 00:00        | 23:59      | Birthday      | True       | 3 day | Jenny (coworker)'s birthday | medium             |\\n|  135 | 2023-08-13   | 2023-08-13 |          0 | 00:00        | 23:59      | Birthday  | True       | 4 year | Gregorio (friend)'s birthday | medium              |\\n|  143 | 2023-08-14   | 2023-08-21 |          7 | 00:00        | 23:59      | Birthday  | True       | 3 year | Bob (brother)'s birthday | low          |\\n|  153 | 2023-08-16   | 2023-08-16 |          0 | 00:00        | 23:59      | Birthday      | True       | 3 year | Pablo (friend)'s birthday | none              |\\n|  169 | 2023-08-22   | 2023-08-29 |          7 | 00:00        | 23:59      | Birthday         | True       | 3 day | Bob (brother)'s birthday | high          |\\n|  175 | 2023-08-24   | 2023-08-24 |          0 | 00:00        | 23:59      | Birthday      | True       | 3 month | Barbara Jane Ruiz (mother)'s birthday | highest             |\\n|  186 | 2023-08-27   | 2023-08-30 |          3 | 00:00        | 23:59      | Birthday  | True       | 1 month | Inash (girlfriend)'s birthday | highest              |\""
     },
     "execution_count": 110,
     "metadata": {},
     "output_type": "execute_result"
    }
   ],
   "source": [
    "df_agent.run( \"Show me all birthday events in August, in ascending order\" )"
   ],
   "metadata": {
    "collapsed": false,
    "ExecuteTime": {
     "end_time": "2023-08-09T18:51:42.075037Z",
     "start_time": "2023-08-09T18:49:52.294546Z"
    }
   }
  },
  {
   "cell_type": "code",
   "execution_count": 111,
   "outputs": [
    {
     "name": "stdout",
     "output_type": "stream",
     "text": [
      "\n",
      "\n",
      "\u001B[1m> Entering new AgentExecutor chain...\u001B[0m\n",
      "\u001B[32;1m\u001B[1;3mThought: The question is asking for events that are birthdays in August. However, the dataframe does not have a column that directly indicates whether an event is a birthday or not. The closest thing we have is the 'description' column, which might contain the word 'birthday'. We also don't have any events in August in the provided data. However, assuming we have a larger dataset, we can filter the dataframe for events that contain the word 'birthday' in the 'description' column and occur in August. We can then print the 'description' and 'start_date' of these events in descending order. \n",
      "\n",
      "Action: python_repl_ast\n",
      "Action Input: df[df['description'].str.contains('birthday') & (df['start_date'].str.slice(5, 7) == '08')][['description', 'start_date']].sort_values('start_date', ascending=False)\u001B[0m\n",
      "Observation: \u001B[36;1m\u001B[1;3mAttributeError: Can only use .str accessor with string values!\u001B[0m\n",
      "Thought:\u001B[32;1m\u001B[1;3mThe error suggests that not all values in the 'description' column are strings. We need to convert this column to string type before we can use the .str accessor.\n",
      "\n",
      "Action: python_repl_ast\n",
      "Action Input: df['description'] = df['description'].astype(str)\u001B[0m\n",
      "Observation: \u001B[36;1m\u001B[1;3m\u001B[0m\n",
      "Thought:\u001B[32;1m\u001B[1;3mNow that the 'description' column is converted to string type, we can try filtering the dataframe again.\n",
      "\n",
      "Action: python_repl_ast\n",
      "Action Input: df[df['description'].str.contains('birthday') & (df['start_date'].str.slice(5, 7) == '08')][['description', 'start_date']].sort_values('start_date', ascending=False)\u001B[0m\n",
      "Observation: \u001B[36;1m\u001B[1;3mAttributeError: Can only use .str accessor with string values!\u001B[0m\n",
      "Thought:\u001B[32;1m\u001B[1;3mThe error suggests that not all values in the 'start_date' column are strings. We need to convert this column to string type before we can use the .str accessor.\n",
      "\n",
      "Action: python_repl_ast\n",
      "Action Input: df['start_date'] = df['start_date'].astype(str)\u001B[0m\n",
      "Observation: \u001B[36;1m\u001B[1;3m\u001B[0m\n",
      "Thought:\u001B[32;1m\u001B[1;3mNow that the 'start_date' column is converted to string type, we can try filtering the dataframe again.\n",
      "\n",
      "Action: python_repl_ast\n",
      "Action Input: df[df['description'].str.contains('birthday') & (df['start_date'].str.slice(5, 7) == '08')][['description', 'start_date']].sort_values('start_date', ascending=False)\u001B[0m\n",
      "Observation: \u001B[36;1m\u001B[1;3m                               description  start_date\n",
      "186          Inash (girlfriend)'s birthday  2023-08-27\n",
      "175  Barbara Jane Ruiz (mother)'s birthday  2023-08-24\n",
      "169               Bob (brother)'s birthday  2023-08-22\n",
      "153              Pablo (friend)'s birthday  2023-08-16\n",
      "143               Bob (brother)'s birthday  2023-08-14\n",
      "135           Gregorio (friend)'s birthday  2023-08-13\n",
      "132            Jenny (coworker)'s birthday  2023-08-12\n",
      "119              Pablo (friend)'s birthday  2023-08-10\n",
      "110             John (coworker)'s birthday  2023-08-07\n",
      "89            Gregorio (friend)'s birthday  2023-08-02\n",
      "92               Sally (sister)'s birthday  2023-08-02\u001B[0m\n",
      "Thought:\u001B[32;1m\u001B[1;3mI now know the final answer\n",
      "Final Answer: Here are the August birthday events in descending order:\n",
      "\n",
      "Inash (girlfriend)'s birthday on August 27, 2023\n",
      "Barbara Jane Ruiz (mother)'s birthday on August 24, 2023\n",
      "Bob (brother)'s birthday on August 22, 2023\n",
      "Pablo (friend)'s birthday on August 16, 2023\n",
      "Bob (brother)'s birthday on August 14, 2023\n",
      "Gregorio (friend)'s birthday on August 13, 2023\n",
      "Jenny (coworker)'s birthday on August 12, 2023\n",
      "Pablo (friend)'s birthday on August 10, 2023\n",
      "John (coworker)'s birthday on August 7, 2023\n",
      "Gregorio (friend)'s birthday on August 2, 2023\n",
      "Sally (sister)'s birthday on August 2, 2023\u001B[0m\n",
      "\n",
      "\u001B[1m> Finished chain.\u001B[0m\n"
     ]
    },
    {
     "data": {
      "text/plain": "\"Here are the August birthday events in descending order:\\n\\nInash (girlfriend)'s birthday on August 27, 2023\\nBarbara Jane Ruiz (mother)'s birthday on August 24, 2023\\nBob (brother)'s birthday on August 22, 2023\\nPablo (friend)'s birthday on August 16, 2023\\nBob (brother)'s birthday on August 14, 2023\\nGregorio (friend)'s birthday on August 13, 2023\\nJenny (coworker)'s birthday on August 12, 2023\\nPablo (friend)'s birthday on August 10, 2023\\nJohn (coworker)'s birthday on August 7, 2023\\nGregorio (friend)'s birthday on August 2, 2023\\nSally (sister)'s birthday on August 2, 2023\""
     },
     "execution_count": 111,
     "metadata": {},
     "output_type": "execute_result"
    }
   ],
   "source": [
    "df_agent.run( \"Do you remember the August birthday events you just showed me? If so, only print their name and their date in plain english, in descending order, one per line\" )"
   ],
   "metadata": {
    "collapsed": false,
    "ExecuteTime": {
     "end_time": "2023-08-09T18:54:59.277775Z",
     "start_time": "2023-08-09T18:53:44.549518Z"
    }
   }
  },
  {
   "cell_type": "code",
   "execution_count": 114,
   "outputs": [
    {
     "name": "stdout",
     "output_type": "stream",
     "text": [
      "Sally (sister)'s birthday on August 2, 2023\n",
      "Gregorio (friend)'s birthday on August 2, 2023\n",
      "John (coworker)'s birthday on August 7, 2023\n",
      "Pablo (friend)'s birthday on August 10, 2023\n",
      "Jenny (coworker)'s birthday on August 12, 2023\n",
      "Gregorio (friend)'s birthday on August 13, 2023\n",
      "Bob (brother)'s birthday on August 14, 2023\n",
      "Pablo (friend)'s birthday on August 16, 2023\n",
      "Bob (brother)'s birthday on August 22, 2023\n",
      "Barbara Jane Ruiz (mother)'s birthday on August 24, 2023\n",
      "Inash (girlfriend)'s birthday on August 27, 2023\n",
      "\n",
      "Here are the August birthday events in descending order:\n"
     ]
    }
   ],
   "source": [
    "foo = \"Here are the August birthday events in descending order:\\n\\nInash (girlfriend)'s birthday on August 27, 2023\\nBarbara Jane Ruiz (mother)'s birthday on August 24, 2023\\nBob (brother)'s birthday on August 22, 2023\\nPablo (friend)'s birthday on August 16, 2023\\nBob (brother)'s birthday on August 14, 2023\\nGregorio (friend)'s birthday on August 13, 2023\\nJenny (coworker)'s birthday on August 12, 2023\\nPablo (friend)'s birthday on August 10, 2023\\nJohn (coworker)'s birthday on August 7, 2023\\nGregorio (friend)'s birthday on August 2, 2023\\nSally (sister)'s birthday on August 2, 2023\"\n",
    "\n",
    "foo = foo.split( \"\\n\" )\n",
    "foo.reverse()\n",
    "\n",
    "for f in foo:\n",
    "    print( f )"
   ],
   "metadata": {
    "collapsed": false,
    "ExecuteTime": {
     "end_time": "2023-08-09T18:56:10.980948Z",
     "start_time": "2023-08-09T18:56:10.973070Z"
    }
   }
  },
  {
   "cell_type": "code",
   "execution_count": 104,
   "outputs": [],
   "source": [
    "from langchain.agents.agent_toolkits.csv.base import create_csv_agent\n",
    "\n",
    "csv_agent = create_csv_agent( llm=llm, path=du.get_project_root() + \"/src/conf/long-term-memory/events.csv\", verbose=True )"
   ],
   "metadata": {
    "collapsed": false,
    "ExecuteTime": {
     "end_time": "2023-08-09T18:45:19.025676Z",
     "start_time": "2023-08-09T18:45:19.020504Z"
    }
   }
  },
  {
   "cell_type": "code",
   "execution_count": 105,
   "outputs": [
    {
     "name": "stdout",
     "output_type": "stream",
     "text": [
      "\n",
      "\n",
      "\u001B[1m> Entering new AgentExecutor chain...\u001B[0m\n",
      "\u001B[32;1m\u001B[1;3mThought: To find out the number of records in the dataset, I can use the `shape` attribute of the dataframe. The first element of the shape attribute will give me the number of rows, which is the number of records in the dataset.\n",
      "Action: python_repl_ast\n",
      "Action Input: df.shape[0]\u001B[0m\n",
      "Observation: \u001B[36;1m\u001B[1;3m200\u001B[0m\n",
      "Thought:\u001B[32;1m\u001B[1;3mI now know the final answer.\n",
      "Final Answer: There are 200 records in this dataset.\u001B[0m\n",
      "\n",
      "\u001B[1m> Finished chain.\u001B[0m\n"
     ]
    },
    {
     "data": {
      "text/plain": "'There are 200 records in this dataset.'"
     },
     "execution_count": 105,
     "metadata": {},
     "output_type": "execute_result"
    }
   ],
   "source": [
    "csv_agent.run( \"How many records are in this dataset?\" )"
   ],
   "metadata": {
    "collapsed": false,
    "ExecuteTime": {
     "end_time": "2023-08-09T18:45:36.692404Z",
     "start_time": "2023-08-09T18:45:22.338709Z"
    }
   }
  },
  {
   "cell_type": "code",
   "execution_count": 106,
   "outputs": [
    {
     "name": "stdout",
     "output_type": "stream",
     "text": [
      "\n",
      "\n",
      "\u001B[1m> Entering new AgentExecutor chain...\u001B[0m\n",
      "\u001B[32;1m\u001B[1;3mThought: To find out how many birthday events are in the dataset, I need to filter the dataframe by the 'event_type' column and count the number of rows where 'event_type' is 'Birthday'.\n",
      "Action: python_repl_ast\n",
      "Action Input: df[df['event_type'] == 'Birthday'].shape[0]\u001B[0m\n",
      "Observation: \u001B[36;1m\u001B[1;3m17\u001B[0m\n",
      "Thought:\u001B[32;1m\u001B[1;3mI now know the final answer.\n",
      "Final Answer: There are 17 birthday events in this dataset.\u001B[0m\n",
      "\n",
      "\u001B[1m> Finished chain.\u001B[0m\n"
     ]
    },
    {
     "data": {
      "text/plain": "'There are 17 birthday events in this dataset.'"
     },
     "execution_count": 106,
     "metadata": {},
     "output_type": "execute_result"
    }
   ],
   "source": [
    "csv_agent.run( \"How many birthday events are in this dataset?\" )"
   ],
   "metadata": {
    "collapsed": false,
    "ExecuteTime": {
     "end_time": "2023-08-09T18:45:48.127707Z",
     "start_time": "2023-08-09T18:45:36.693405Z"
    }
   }
  },
  {
   "cell_type": "code",
   "execution_count": 107,
   "outputs": [
    {
     "name": "stdout",
     "output_type": "stream",
     "text": [
      "\n",
      "\n",
      "\u001B[1m> Entering new AgentExecutor chain...\u001B[0m\n"
     ]
    },
    {
     "ename": "OutputParserException",
     "evalue": "Could not parse LLM output: `Thought: The dataframe does not contain any column that directly indicates whether an event is a birthday or not. Therefore, it is not possible to filter out birthdays in August from this dataframe.`",
     "output_type": "error",
     "traceback": [
      "\u001B[0;31m---------------------------------------------------------------------------\u001B[0m",
      "\u001B[0;31mOutputParserException\u001B[0m                     Traceback (most recent call last)",
      "Cell \u001B[0;32mIn[107], line 1\u001B[0m\n\u001B[0;32m----> 1\u001B[0m \u001B[43mcsv_agent\u001B[49m\u001B[38;5;241;43m.\u001B[39;49m\u001B[43mrun\u001B[49m\u001B[43m(\u001B[49m\u001B[43m \u001B[49m\u001B[38;5;124;43m\"\u001B[39;49m\u001B[38;5;124;43mShow me all birthdays in August\u001B[39;49m\u001B[38;5;124;43m\"\u001B[39;49m\u001B[43m \u001B[49m\u001B[43m)\u001B[49m\n",
      "File \u001B[0;32m/usr/local/lib/python3.10/dist-packages/langchain/chains/base.py:451\u001B[0m, in \u001B[0;36mChain.run\u001B[0;34m(self, callbacks, tags, metadata, *args, **kwargs)\u001B[0m\n\u001B[1;32m    449\u001B[0m     \u001B[38;5;28;01mif\u001B[39;00m \u001B[38;5;28mlen\u001B[39m(args) \u001B[38;5;241m!=\u001B[39m \u001B[38;5;241m1\u001B[39m:\n\u001B[1;32m    450\u001B[0m         \u001B[38;5;28;01mraise\u001B[39;00m \u001B[38;5;167;01mValueError\u001B[39;00m(\u001B[38;5;124m\"\u001B[39m\u001B[38;5;124m`run` supports only one positional argument.\u001B[39m\u001B[38;5;124m\"\u001B[39m)\n\u001B[0;32m--> 451\u001B[0m     \u001B[38;5;28;01mreturn\u001B[39;00m \u001B[38;5;28;43mself\u001B[39;49m\u001B[43m(\u001B[49m\u001B[43margs\u001B[49m\u001B[43m[\u001B[49m\u001B[38;5;241;43m0\u001B[39;49m\u001B[43m]\u001B[49m\u001B[43m,\u001B[49m\u001B[43m \u001B[49m\u001B[43mcallbacks\u001B[49m\u001B[38;5;241;43m=\u001B[39;49m\u001B[43mcallbacks\u001B[49m\u001B[43m,\u001B[49m\u001B[43m \u001B[49m\u001B[43mtags\u001B[49m\u001B[38;5;241;43m=\u001B[39;49m\u001B[43mtags\u001B[49m\u001B[43m,\u001B[49m\u001B[43m \u001B[49m\u001B[43mmetadata\u001B[49m\u001B[38;5;241;43m=\u001B[39;49m\u001B[43mmetadata\u001B[49m\u001B[43m)\u001B[49m[\n\u001B[1;32m    452\u001B[0m         _output_key\n\u001B[1;32m    453\u001B[0m     ]\n\u001B[1;32m    455\u001B[0m \u001B[38;5;28;01mif\u001B[39;00m kwargs \u001B[38;5;129;01mand\u001B[39;00m \u001B[38;5;129;01mnot\u001B[39;00m args:\n\u001B[1;32m    456\u001B[0m     \u001B[38;5;28;01mreturn\u001B[39;00m \u001B[38;5;28mself\u001B[39m(kwargs, callbacks\u001B[38;5;241m=\u001B[39mcallbacks, tags\u001B[38;5;241m=\u001B[39mtags, metadata\u001B[38;5;241m=\u001B[39mmetadata)[\n\u001B[1;32m    457\u001B[0m         _output_key\n\u001B[1;32m    458\u001B[0m     ]\n",
      "File \u001B[0;32m/usr/local/lib/python3.10/dist-packages/langchain/chains/base.py:258\u001B[0m, in \u001B[0;36mChain.__call__\u001B[0;34m(self, inputs, return_only_outputs, callbacks, tags, metadata, include_run_info)\u001B[0m\n\u001B[1;32m    256\u001B[0m \u001B[38;5;28;01mexcept\u001B[39;00m (\u001B[38;5;167;01mKeyboardInterrupt\u001B[39;00m, \u001B[38;5;167;01mException\u001B[39;00m) \u001B[38;5;28;01mas\u001B[39;00m e:\n\u001B[1;32m    257\u001B[0m     run_manager\u001B[38;5;241m.\u001B[39mon_chain_error(e)\n\u001B[0;32m--> 258\u001B[0m     \u001B[38;5;28;01mraise\u001B[39;00m e\n\u001B[1;32m    259\u001B[0m run_manager\u001B[38;5;241m.\u001B[39mon_chain_end(outputs)\n\u001B[1;32m    260\u001B[0m final_outputs: Dict[\u001B[38;5;28mstr\u001B[39m, Any] \u001B[38;5;241m=\u001B[39m \u001B[38;5;28mself\u001B[39m\u001B[38;5;241m.\u001B[39mprep_outputs(\n\u001B[1;32m    261\u001B[0m     inputs, outputs, return_only_outputs\n\u001B[1;32m    262\u001B[0m )\n",
      "File \u001B[0;32m/usr/local/lib/python3.10/dist-packages/langchain/chains/base.py:252\u001B[0m, in \u001B[0;36mChain.__call__\u001B[0;34m(self, inputs, return_only_outputs, callbacks, tags, metadata, include_run_info)\u001B[0m\n\u001B[1;32m    246\u001B[0m run_manager \u001B[38;5;241m=\u001B[39m callback_manager\u001B[38;5;241m.\u001B[39mon_chain_start(\n\u001B[1;32m    247\u001B[0m     dumpd(\u001B[38;5;28mself\u001B[39m),\n\u001B[1;32m    248\u001B[0m     inputs,\n\u001B[1;32m    249\u001B[0m )\n\u001B[1;32m    250\u001B[0m \u001B[38;5;28;01mtry\u001B[39;00m:\n\u001B[1;32m    251\u001B[0m     outputs \u001B[38;5;241m=\u001B[39m (\n\u001B[0;32m--> 252\u001B[0m         \u001B[38;5;28;43mself\u001B[39;49m\u001B[38;5;241;43m.\u001B[39;49m\u001B[43m_call\u001B[49m\u001B[43m(\u001B[49m\u001B[43minputs\u001B[49m\u001B[43m,\u001B[49m\u001B[43m \u001B[49m\u001B[43mrun_manager\u001B[49m\u001B[38;5;241;43m=\u001B[39;49m\u001B[43mrun_manager\u001B[49m\u001B[43m)\u001B[49m\n\u001B[1;32m    253\u001B[0m         \u001B[38;5;28;01mif\u001B[39;00m new_arg_supported\n\u001B[1;32m    254\u001B[0m         \u001B[38;5;28;01melse\u001B[39;00m \u001B[38;5;28mself\u001B[39m\u001B[38;5;241m.\u001B[39m_call(inputs)\n\u001B[1;32m    255\u001B[0m     )\n\u001B[1;32m    256\u001B[0m \u001B[38;5;28;01mexcept\u001B[39;00m (\u001B[38;5;167;01mKeyboardInterrupt\u001B[39;00m, \u001B[38;5;167;01mException\u001B[39;00m) \u001B[38;5;28;01mas\u001B[39;00m e:\n\u001B[1;32m    257\u001B[0m     run_manager\u001B[38;5;241m.\u001B[39mon_chain_error(e)\n",
      "File \u001B[0;32m/usr/local/lib/python3.10/dist-packages/langchain/agents/agent.py:1035\u001B[0m, in \u001B[0;36mAgentExecutor._call\u001B[0;34m(self, inputs, run_manager)\u001B[0m\n\u001B[1;32m   1033\u001B[0m \u001B[38;5;66;03m# We now enter the agent loop (until it returns something).\u001B[39;00m\n\u001B[1;32m   1034\u001B[0m \u001B[38;5;28;01mwhile\u001B[39;00m \u001B[38;5;28mself\u001B[39m\u001B[38;5;241m.\u001B[39m_should_continue(iterations, time_elapsed):\n\u001B[0;32m-> 1035\u001B[0m     next_step_output \u001B[38;5;241m=\u001B[39m \u001B[38;5;28;43mself\u001B[39;49m\u001B[38;5;241;43m.\u001B[39;49m\u001B[43m_take_next_step\u001B[49m\u001B[43m(\u001B[49m\n\u001B[1;32m   1036\u001B[0m \u001B[43m        \u001B[49m\u001B[43mname_to_tool_map\u001B[49m\u001B[43m,\u001B[49m\n\u001B[1;32m   1037\u001B[0m \u001B[43m        \u001B[49m\u001B[43mcolor_mapping\u001B[49m\u001B[43m,\u001B[49m\n\u001B[1;32m   1038\u001B[0m \u001B[43m        \u001B[49m\u001B[43minputs\u001B[49m\u001B[43m,\u001B[49m\n\u001B[1;32m   1039\u001B[0m \u001B[43m        \u001B[49m\u001B[43mintermediate_steps\u001B[49m\u001B[43m,\u001B[49m\n\u001B[1;32m   1040\u001B[0m \u001B[43m        \u001B[49m\u001B[43mrun_manager\u001B[49m\u001B[38;5;241;43m=\u001B[39;49m\u001B[43mrun_manager\u001B[49m\u001B[43m,\u001B[49m\n\u001B[1;32m   1041\u001B[0m \u001B[43m    \u001B[49m\u001B[43m)\u001B[49m\n\u001B[1;32m   1042\u001B[0m     \u001B[38;5;28;01mif\u001B[39;00m \u001B[38;5;28misinstance\u001B[39m(next_step_output, AgentFinish):\n\u001B[1;32m   1043\u001B[0m         \u001B[38;5;28;01mreturn\u001B[39;00m \u001B[38;5;28mself\u001B[39m\u001B[38;5;241m.\u001B[39m_return(\n\u001B[1;32m   1044\u001B[0m             next_step_output, intermediate_steps, run_manager\u001B[38;5;241m=\u001B[39mrun_manager\n\u001B[1;32m   1045\u001B[0m         )\n",
      "File \u001B[0;32m/usr/local/lib/python3.10/dist-packages/langchain/agents/agent.py:843\u001B[0m, in \u001B[0;36mAgentExecutor._take_next_step\u001B[0;34m(self, name_to_tool_map, color_mapping, inputs, intermediate_steps, run_manager)\u001B[0m\n\u001B[1;32m    841\u001B[0m     raise_error \u001B[38;5;241m=\u001B[39m \u001B[38;5;28;01mFalse\u001B[39;00m\n\u001B[1;32m    842\u001B[0m \u001B[38;5;28;01mif\u001B[39;00m raise_error:\n\u001B[0;32m--> 843\u001B[0m     \u001B[38;5;28;01mraise\u001B[39;00m e\n\u001B[1;32m    844\u001B[0m text \u001B[38;5;241m=\u001B[39m \u001B[38;5;28mstr\u001B[39m(e)\n\u001B[1;32m    845\u001B[0m \u001B[38;5;28;01mif\u001B[39;00m \u001B[38;5;28misinstance\u001B[39m(\u001B[38;5;28mself\u001B[39m\u001B[38;5;241m.\u001B[39mhandle_parsing_errors, \u001B[38;5;28mbool\u001B[39m):\n",
      "File \u001B[0;32m/usr/local/lib/python3.10/dist-packages/langchain/agents/agent.py:832\u001B[0m, in \u001B[0;36mAgentExecutor._take_next_step\u001B[0;34m(self, name_to_tool_map, color_mapping, inputs, intermediate_steps, run_manager)\u001B[0m\n\u001B[1;32m    829\u001B[0m     intermediate_steps \u001B[38;5;241m=\u001B[39m \u001B[38;5;28mself\u001B[39m\u001B[38;5;241m.\u001B[39m_prepare_intermediate_steps(intermediate_steps)\n\u001B[1;32m    831\u001B[0m     \u001B[38;5;66;03m# Call the LLM to see what to do.\u001B[39;00m\n\u001B[0;32m--> 832\u001B[0m     output \u001B[38;5;241m=\u001B[39m \u001B[38;5;28;43mself\u001B[39;49m\u001B[38;5;241;43m.\u001B[39;49m\u001B[43magent\u001B[49m\u001B[38;5;241;43m.\u001B[39;49m\u001B[43mplan\u001B[49m\u001B[43m(\u001B[49m\n\u001B[1;32m    833\u001B[0m \u001B[43m        \u001B[49m\u001B[43mintermediate_steps\u001B[49m\u001B[43m,\u001B[49m\n\u001B[1;32m    834\u001B[0m \u001B[43m        \u001B[49m\u001B[43mcallbacks\u001B[49m\u001B[38;5;241;43m=\u001B[39;49m\u001B[43mrun_manager\u001B[49m\u001B[38;5;241;43m.\u001B[39;49m\u001B[43mget_child\u001B[49m\u001B[43m(\u001B[49m\u001B[43m)\u001B[49m\u001B[43m \u001B[49m\u001B[38;5;28;43;01mif\u001B[39;49;00m\u001B[43m \u001B[49m\u001B[43mrun_manager\u001B[49m\u001B[43m \u001B[49m\u001B[38;5;28;43;01melse\u001B[39;49;00m\u001B[43m \u001B[49m\u001B[38;5;28;43;01mNone\u001B[39;49;00m\u001B[43m,\u001B[49m\n\u001B[1;32m    835\u001B[0m \u001B[43m        \u001B[49m\u001B[38;5;241;43m*\u001B[39;49m\u001B[38;5;241;43m*\u001B[39;49m\u001B[43minputs\u001B[49m\u001B[43m,\u001B[49m\n\u001B[1;32m    836\u001B[0m \u001B[43m    \u001B[49m\u001B[43m)\u001B[49m\n\u001B[1;32m    837\u001B[0m \u001B[38;5;28;01mexcept\u001B[39;00m OutputParserException \u001B[38;5;28;01mas\u001B[39;00m e:\n\u001B[1;32m    838\u001B[0m     \u001B[38;5;28;01mif\u001B[39;00m \u001B[38;5;28misinstance\u001B[39m(\u001B[38;5;28mself\u001B[39m\u001B[38;5;241m.\u001B[39mhandle_parsing_errors, \u001B[38;5;28mbool\u001B[39m):\n",
      "File \u001B[0;32m/usr/local/lib/python3.10/dist-packages/langchain/agents/agent.py:457\u001B[0m, in \u001B[0;36mAgent.plan\u001B[0;34m(self, intermediate_steps, callbacks, **kwargs)\u001B[0m\n\u001B[1;32m    455\u001B[0m full_inputs \u001B[38;5;241m=\u001B[39m \u001B[38;5;28mself\u001B[39m\u001B[38;5;241m.\u001B[39mget_full_inputs(intermediate_steps, \u001B[38;5;241m*\u001B[39m\u001B[38;5;241m*\u001B[39mkwargs)\n\u001B[1;32m    456\u001B[0m full_output \u001B[38;5;241m=\u001B[39m \u001B[38;5;28mself\u001B[39m\u001B[38;5;241m.\u001B[39mllm_chain\u001B[38;5;241m.\u001B[39mpredict(callbacks\u001B[38;5;241m=\u001B[39mcallbacks, \u001B[38;5;241m*\u001B[39m\u001B[38;5;241m*\u001B[39mfull_inputs)\n\u001B[0;32m--> 457\u001B[0m \u001B[38;5;28;01mreturn\u001B[39;00m \u001B[38;5;28;43mself\u001B[39;49m\u001B[38;5;241;43m.\u001B[39;49m\u001B[43moutput_parser\u001B[49m\u001B[38;5;241;43m.\u001B[39;49m\u001B[43mparse\u001B[49m\u001B[43m(\u001B[49m\u001B[43mfull_output\u001B[49m\u001B[43m)\u001B[49m\n",
      "File \u001B[0;32m/usr/local/lib/python3.10/dist-packages/langchain/agents/mrkl/output_parser.py:52\u001B[0m, in \u001B[0;36mMRKLOutputParser.parse\u001B[0;34m(self, text)\u001B[0m\n\u001B[1;32m     47\u001B[0m     \u001B[38;5;28;01mreturn\u001B[39;00m AgentFinish(\n\u001B[1;32m     48\u001B[0m         {\u001B[38;5;124m\"\u001B[39m\u001B[38;5;124moutput\u001B[39m\u001B[38;5;124m\"\u001B[39m: text\u001B[38;5;241m.\u001B[39msplit(FINAL_ANSWER_ACTION)[\u001B[38;5;241m-\u001B[39m\u001B[38;5;241m1\u001B[39m]\u001B[38;5;241m.\u001B[39mstrip()}, text\n\u001B[1;32m     49\u001B[0m     )\n\u001B[1;32m     51\u001B[0m \u001B[38;5;28;01mif\u001B[39;00m \u001B[38;5;129;01mnot\u001B[39;00m re\u001B[38;5;241m.\u001B[39msearch(\u001B[38;5;124mr\u001B[39m\u001B[38;5;124m\"\u001B[39m\u001B[38;5;124mAction\u001B[39m\u001B[38;5;124m\\\u001B[39m\u001B[38;5;124ms*\u001B[39m\u001B[38;5;124m\\\u001B[39m\u001B[38;5;124md*\u001B[39m\u001B[38;5;124m\\\u001B[39m\u001B[38;5;124ms*:[\u001B[39m\u001B[38;5;124m\\\u001B[39m\u001B[38;5;124ms]*(.*?)\u001B[39m\u001B[38;5;124m\"\u001B[39m, text, re\u001B[38;5;241m.\u001B[39mDOTALL):\n\u001B[0;32m---> 52\u001B[0m     \u001B[38;5;28;01mraise\u001B[39;00m OutputParserException(\n\u001B[1;32m     53\u001B[0m         \u001B[38;5;124mf\u001B[39m\u001B[38;5;124m\"\u001B[39m\u001B[38;5;124mCould not parse LLM output: `\u001B[39m\u001B[38;5;132;01m{\u001B[39;00mtext\u001B[38;5;132;01m}\u001B[39;00m\u001B[38;5;124m`\u001B[39m\u001B[38;5;124m\"\u001B[39m,\n\u001B[1;32m     54\u001B[0m         observation\u001B[38;5;241m=\u001B[39mMISSING_ACTION_AFTER_THOUGHT_ERROR_MESSAGE,\n\u001B[1;32m     55\u001B[0m         llm_output\u001B[38;5;241m=\u001B[39mtext,\n\u001B[1;32m     56\u001B[0m         send_to_llm\u001B[38;5;241m=\u001B[39m\u001B[38;5;28;01mTrue\u001B[39;00m,\n\u001B[1;32m     57\u001B[0m     )\n\u001B[1;32m     58\u001B[0m \u001B[38;5;28;01melif\u001B[39;00m \u001B[38;5;129;01mnot\u001B[39;00m re\u001B[38;5;241m.\u001B[39msearch(\n\u001B[1;32m     59\u001B[0m     \u001B[38;5;124mr\u001B[39m\u001B[38;5;124m\"\u001B[39m\u001B[38;5;124m[\u001B[39m\u001B[38;5;124m\\\u001B[39m\u001B[38;5;124ms]*Action\u001B[39m\u001B[38;5;124m\\\u001B[39m\u001B[38;5;124ms*\u001B[39m\u001B[38;5;124m\\\u001B[39m\u001B[38;5;124md*\u001B[39m\u001B[38;5;124m\\\u001B[39m\u001B[38;5;124ms*Input\u001B[39m\u001B[38;5;124m\\\u001B[39m\u001B[38;5;124ms*\u001B[39m\u001B[38;5;124m\\\u001B[39m\u001B[38;5;124md*\u001B[39m\u001B[38;5;124m\\\u001B[39m\u001B[38;5;124ms*:[\u001B[39m\u001B[38;5;124m\\\u001B[39m\u001B[38;5;124ms]*(.*)\u001B[39m\u001B[38;5;124m\"\u001B[39m, text, re\u001B[38;5;241m.\u001B[39mDOTALL\n\u001B[1;32m     60\u001B[0m ):\n\u001B[1;32m     61\u001B[0m     \u001B[38;5;28;01mraise\u001B[39;00m OutputParserException(\n\u001B[1;32m     62\u001B[0m         \u001B[38;5;124mf\u001B[39m\u001B[38;5;124m\"\u001B[39m\u001B[38;5;124mCould not parse LLM output: `\u001B[39m\u001B[38;5;132;01m{\u001B[39;00mtext\u001B[38;5;132;01m}\u001B[39;00m\u001B[38;5;124m`\u001B[39m\u001B[38;5;124m\"\u001B[39m,\n\u001B[1;32m     63\u001B[0m         observation\u001B[38;5;241m=\u001B[39mMISSING_ACTION_INPUT_AFTER_ACTION_ERROR_MESSAGE,\n\u001B[1;32m     64\u001B[0m         llm_output\u001B[38;5;241m=\u001B[39mtext,\n\u001B[1;32m     65\u001B[0m         send_to_llm\u001B[38;5;241m=\u001B[39m\u001B[38;5;28;01mTrue\u001B[39;00m,\n\u001B[1;32m     66\u001B[0m     )\n",
      "\u001B[0;31mOutputParserException\u001B[0m: Could not parse LLM output: `Thought: The dataframe does not contain any column that directly indicates whether an event is a birthday or not. Therefore, it is not possible to filter out birthdays in August from this dataframe.`"
     ]
    }
   ],
   "source": [
    "csv_agent.run( \"Show me all birthdays in August\" )"
   ],
   "metadata": {
    "collapsed": false,
    "ExecuteTime": {
     "end_time": "2023-08-09T18:46:14.821657Z",
     "start_time": "2023-08-09T18:46:09.750158Z"
    }
   }
  },
  {
   "cell_type": "code",
   "execution_count": 143,
   "outputs": [
    {
     "name": "stdout",
     "output_type": "stream",
     "text": [
      "\n",
      "\n",
      "\u001B[1m> Entering new AgentExecutor chain...\u001B[0m\n",
      "\u001B[32;1m\u001B[1;3mThought: I need to filter the dataframe to only include events that are happening today. Then I can select the columns I need and format the output using Markdown.\n",
      "\n",
      "Action: python_repl_ast\n",
      "Action Input: df['date'] == '2023-07-29'\u001B[0m\n",
      "Observation: \u001B[36;1m\u001B[1;3m0     False\n",
      "1     False\n",
      "2     False\n",
      "3     False\n",
      "4     False\n",
      "5     False\n",
      "6     False\n",
      "7     False\n",
      "8     False\n",
      "9      True\n",
      "10    False\n",
      "11    False\n",
      "12    False\n",
      "13    False\n",
      "14    False\n",
      "15    False\n",
      "16    False\n",
      "17    False\n",
      "18     True\n",
      "19    False\n",
      "20    False\n",
      "21    False\n",
      "22    False\n",
      "23    False\n",
      "24    False\n",
      "25    False\n",
      "26    False\n",
      "27    False\n",
      "28    False\n",
      "29    False\n",
      "30    False\n",
      "31    False\n",
      "32    False\n",
      "33    False\n",
      "34    False\n",
      "35    False\n",
      "36    False\n",
      "37    False\n",
      "38    False\n",
      "39    False\n",
      "40    False\n",
      "41    False\n",
      "42    False\n",
      "43    False\n",
      "44    False\n",
      "45    False\n",
      "46    False\n",
      "47    False\n",
      "48    False\n",
      "49    False\n",
      "50    False\n",
      "51    False\n",
      "52    False\n",
      "53    False\n",
      "54    False\n",
      "55    False\n",
      "56    False\n",
      "57    False\n",
      "58    False\n",
      "59    False\n",
      "Name: date, dtype: bool\u001B[0m\n",
      "Thought:\u001B[32;1m\u001B[1;3mThe boolean series shows that only two rows have a date of '2023-07-29'. I can use this boolean series to filter the dataframe and select the desired columns.\n",
      "\n",
      "Action: python_repl_ast\n",
      "Action Input: df[df['date'] == '2023-07-29'][['date', 'start_time', 'event_type', 'description']]\u001B[0m\n",
      "Observation: \u001B[36;1m\u001B[1;3m          date start_time    event_type                     description\n",
      "9   2023-07-29      00:00      Birthday  Leroy Ruiz (father)'s birthday\n",
      "18  2023-07-29      00:00  Subscription         This is a subscription.\u001B[0m\n",
      "Thought:\u001B[32;1m\u001B[1;3mI have filtered the dataframe to only include events happening on July 29th, 2023. I have also selected the columns 'date', 'start_time', 'event_type', and 'description' for these events.\n",
      "\n",
      "Final Answer: The events for today are:\n",
      "\n",
      "|    | date       | start_time   | event_type   | description                |\n",
      "|---:|:-----------|:-------------|:-------------|:---------------------------|\n",
      "|  9 | 2023-07-29 | 00:00        | Birthday     | Leroy Ruiz (father)'s birthday |\n",
      "| 18 | 2023-07-29 | 00:00        | Subscription | This is a subscription.    |\u001B[0m\n",
      "\n",
      "\u001B[1m> Finished chain.\u001B[0m\n"
     ]
    },
    {
     "data": {
      "text/plain": "\"The events for today are:\\n\\n|    | date       | start_time   | event_type   | description                |\\n|---:|:-----------|:-------------|:-------------|:---------------------------|\\n|  9 | 2023-07-29 | 00:00        | Birthday     | Leroy Ruiz (father)'s birthday |\\n| 18 | 2023-07-29 | 00:00        | Subscription | This is a subscription.    |\""
     },
     "execution_count": 143,
     "metadata": {},
     "output_type": "execute_result"
    }
   ],
   "source": [
    "csv_agent.run( \"Today is July 29th, 2023. Show me what events I have for today. Show me the date, start time, event type, and description for all events. Format using Markdown. Use tool python_repl_ast.\" )"
   ],
   "metadata": {
    "collapsed": false,
    "ExecuteTime": {
     "end_time": "2023-07-26T03:32:18.584896Z",
     "start_time": "2023-07-26T03:32:09.258311Z"
    }
   }
  },
  {
   "cell_type": "code",
   "execution_count": null,
   "outputs": [],
   "source": [],
   "metadata": {
    "collapsed": false
   }
  }
 ],
 "metadata": {
  "kernelspec": {
   "display_name": "Python 3",
   "language": "python",
   "name": "python3"
  },
  "language_info": {
   "codemirror_mode": {
    "name": "ipython",
    "version": 2
   },
   "file_extension": ".py",
   "mimetype": "text/x-python",
   "name": "python",
   "nbconvert_exporter": "python",
   "pygments_lexer": "ipython2",
   "version": "2.7.6"
  }
 },
 "nbformat": 4,
 "nbformat_minor": 0
}
