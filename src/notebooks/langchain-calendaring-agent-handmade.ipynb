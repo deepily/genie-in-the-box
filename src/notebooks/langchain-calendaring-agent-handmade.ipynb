{
 "cells": [
  {
   "cell_type": "code",
   "execution_count": 12,
   "outputs": [],
   "source": [
    "# ! pip install python-dotenv\n",
    "# ! pip install langchain --upgrade --no-cache-dir\n",
    "# ! pip install wandb --upgrade --no-cache-dir"
   ],
   "metadata": {
    "collapsed": false,
    "ExecuteTime": {
     "end_time": "2023-09-26T23:46:50.596424Z",
     "start_time": "2023-09-26T23:46:50.569873Z"
    }
   },
   "id": "b8665cade92a3a56"
  },
  {
   "cell_type": "code",
   "execution_count": 3,
   "outputs": [
    {
     "name": "stdout",
     "output_type": "stream",
     "text": [
      "Requirement already satisfied: tabulate in /usr/local/lib/python3.10/site-packages (0.9.0)\r\n",
      "\u001B[33mWARNING: Running pip as the 'root' user can result in broken permissions and conflicting behaviour with the system package manager. It is recommended to use a virtual environment instead: https://pip.pypa.io/warnings/venv\u001B[0m\u001B[33m\r\n",
      "\u001B[0mNote: you may need to restart the kernel to use updated packages.\n"
     ]
    }
   ],
   "source": [
    "pip install tabulate"
   ],
   "metadata": {
    "collapsed": false,
    "ExecuteTime": {
     "end_time": "2023-09-28T19:56:09.855416Z",
     "start_time": "2023-09-28T19:56:07.779410Z"
    }
   },
   "id": "e6eaa73ca09ced5b"
  },
  {
   "cell_type": "code",
   "execution_count": 4,
   "outputs": [],
   "source": [
    "%load_ext autoreload"
   ],
   "metadata": {
    "collapsed": false,
    "ExecuteTime": {
     "end_time": "2023-09-28T19:56:09.954250Z",
     "start_time": "2023-09-28T19:56:09.933926Z"
    }
   },
   "id": "14c1efa189e09521"
  },
  {
   "cell_type": "code",
   "execution_count": 5,
   "outputs": [
    {
     "name": "stdout",
     "output_type": "stream",
     "text": [
      "['/Applications/PyCharm.app/Contents/plugins/python/helpers-pro/jupyter_debug', '/Applications/PyCharm.app/Contents/plugins/python/helpers/pydev', '/var/genie-in-the-box/src/notebooks', '/usr/local/lib/python310.zip', '/usr/local/lib/python3.10', '/usr/local/lib/python3.10/lib-dynload', '', '/usr/local/lib/python3.10/site-packages', '/var/genie-in-the-box/src/lib']\n",
      "Added [/var/genie-in-the-box/src] to sys.path\n",
      "pwd [/var/genie-in-the-box/src/notebooks]\n",
      "\n",
      "/Applications/PyCharm.app/Contents/plugins/python/helpers-pro/jupyter_debug\n",
      "/Applications/PyCharm.app/Contents/plugins/python/helpers/pydev\n",
      "/usr/local/lib/python3.10\n",
      "/usr/local/lib/python3.10/lib-dynload\n",
      "/usr/local/lib/python3.10/site-packages\n",
      "/usr/local/lib/python310.zip\n",
      "/var/genie-in-the-box/src\n",
      "/var/genie-in-the-box/src/lib\n",
      "/var/genie-in-the-box/src/notebooks\n"
     ]
    }
   ],
   "source": [
    "%autoreload\n",
    "\n",
    "import sys\n",
    "import os\n",
    "import json\n",
    "\n",
    "# os.environ[ \"LANGCHAIN_WANDB_TRACING\" ] = \"true\"\n",
    "# # wandb documentation to configure wandb using env variables\n",
    "# # https://docs.wandb.ai/guides/track/advanced/environment-variables\n",
    "# # here we are configuring the wandb project name\n",
    "# os.environ[ \"WANDB_PROJECT\" ] = \"deepily-dataframe-agent\"\n",
    "\n",
    "path = \"/var/genie-in-the-box/src/lib\"\n",
    "if path not in sys.path:\n",
    "    sys.path.append( path )\n",
    "else:\n",
    "    print( f\"[{path}] already in sys.path\" )\n",
    "\n",
    "print( sys.path )\n",
    "\n",
    "import util as du\n",
    "\n",
    "path = \"/var/genie-in-the-box/src\"\n",
    "du.add_to_path( path )\n",
    "\n",
    "import util_pandas    as up\n",
    "import util_stopwatch as sw\n",
    "import util_langchain as ulc\n",
    "import genie_client   as gc\n",
    "\n",
    "from langchain.schema import (\n",
    "    AIMessage,\n",
    "    HumanMessage,\n",
    "    SystemMessage\n",
    ")\n",
    "import langchain\n",
    "from langchain.chat_models import ChatOpenAI\n",
    "from langchain.memory import ConversationBufferMemory\n",
    "from langchain.chains import ConversationalRetrievalChain\n",
    "from langchain.agents.agent_toolkits.pandas.base import create_pandas_dataframe_agent\n",
    "\n",
    "from langchain.prompts import PromptTemplate\n",
    "from langchain.chains import LLMChain\n",
    "\n",
    "import pandas as pd\n",
    "\n",
    "# from IPython.display import display, Markdown\n",
    "\n",
    "debug = True\n",
    "verbose = True\n"
   ],
   "metadata": {
    "collapsed": false,
    "ExecuteTime": {
     "end_time": "2023-09-28T19:56:18.271645Z",
     "start_time": "2023-09-28T19:56:16.716801Z"
    }
   },
   "id": "e4a94b9494513834"
  },
  {
   "cell_type": "code",
   "execution_count": 6,
   "outputs": [],
   "source": [
    "pandas_prompt_template = \"\"\"\n",
    "You are working with a pandas dataframe in Python. The name of the dataframe is `df`.\n",
    "\n",
    "This is the ouput from `print(df.head().to_csv())`, in CSV format:\n",
    "\n",
    "\"start_date\",\"end_date\",\"start_time\",\"end_time\",\"event_type\",\"recurrent\",\"recurrence_interval\",\"priority_level\",\"name\",\"relationship\",\"description_who_what_where\"\n",
    "\"2023-07-01\",\"2023-07-04\",\"00:00\",\"23:59\",\"Concert\",False,\"\",\"none\",\"Jenny\",\"coworker\",\"Concert of Jenny at the city center\"\n",
    "\"2023-07-01\",\"2023-07-01\",\"05:25\",\"17:22\",\"TODO\",False,\"\",\"highest\",\"Gregorio\",\"friend\",\"Send out invitations for the party for Gregorio\"\n",
    "\"2023-07-01\",\"2023-07-01\",\"13:27\",\"01:59\",\"Appointment\",False,\"\",\"high\",\"Leroy Ruiz\",\"father\",\"Appointment with Leroy Ruiz at the clinic\"\n",
    "\"2023-07-03\",\"2023-07-04\",\"00:00\",\"23:59\",\"Subscription\",True,\"1 year\",\"highest\",\"Leroy Ruiz\",\"father\",\"Renewal of Leroy Ruiz's subscription\"\n",
    "\"2023-07-03\",\"2023-07-04\",\"00:00\",\"23:59\",\"Anniversary\",True,\"4 week\",\"none\",\"Juan\",\"neighbor\",\"Juan's anniversary celebration at the park\"\n",
    "\"2023-07-04\",\"2023-07-04\",\"00:00\",\"23:59\",\"Anniversary\",True,\"4 week\",\"medium\",\"Leroy Ruiz\",\"father\",\"Leroy Ruiz's anniversary celebration at the park\"\n",
    "\n",
    "This is the from `print(df.dtypes)`:\n",
    "\n",
    "start_date                    datetime64[ns]\n",
    "end_date                      datetime64[ns]\n",
    "start_time                            object\n",
    "end_time                              object\n",
    "event_type                            object\n",
    "recurrent                               bool\n",
    "recurrence_interval                   object\n",
    "priority_level                        object\n",
    "name                                  object\n",
    "relationship                          object\n",
    "description_who_what_where            object\n",
    "dtype: object\n",
    "\n",
    "As you generate the python code needed to answer the question asked of you below, I want you to:\n",
    "\n",
    "1) Question: Ask yourself If you understand the question I am asking you?\n",
    "2) Think: Before you do anything, think out loud about what I'm asking you to do, including listing the steps you need to take to solve this problem. What are the things you need to consider? Be critical of your thought process!\n",
    "3) Code: Generate a verbatim list of code that you used to arrive at your answer, one line of code per item on the list. The code must be complete, syntactically correct, and run to completion. The last line of your code must be the variable `solution`, which represents the answer.\n",
    "4) Return: Report on the object type of the variable `solution` in your last line of code.\n",
    "5) Explain: Briefly and succinctly explain your code in plain English.\n",
    "\n",
    "Format: return your response as a JSON object with the following fields:\n",
    "{{\n",
    "    \"question\": \"the question that your code answers\",\n",
    "    \"thoughts\": \"your thoughts\",\n",
    "    \"code\": [],\n",
    "    \"return\": \"Object type of the variable `solution`\",\n",
    "    \"explanation\": \"your brief explanation of your code\"\n",
    "}}\n",
    "\n",
    "Begin!\n",
    "\n",
    "Question: {question}\n",
    "\"\"\""
   ],
   "metadata": {
    "collapsed": false,
    "ExecuteTime": {
     "end_time": "2023-09-28T19:56:43.146301Z",
     "start_time": "2023-09-28T19:56:43.140636Z"
    }
   },
   "id": "8d1a455d75c4458b"
  },
  {
   "cell_type": "code",
   "execution_count": 7,
   "outputs": [
    {
     "name": "stdout",
     "output_type": "stream",
     "text": [
      "\n",
      "------------------------------------------------------------------------------------------------------------------------\n",
      "- df.dtypes:\n",
      "------------------------------------------------------------------------------------------------------------------------\n",
      "start_date                    datetime64[ns]\n",
      "end_date                      datetime64[ns]\n",
      "start_time                            object\n",
      "end_time                              object\n",
      "event_type                            object\n",
      "recurrent                               bool\n",
      "recurrence_interval                   object\n",
      "priority_level                        object\n",
      "name                                  object\n",
      "relationship                          object\n",
      "description_who_what_where            object\n",
      "dtype: object\n"
     ]
    }
   ],
   "source": [
    "langchain.debug = debug\n",
    "langchain.verbose = verbose\n",
    "\n",
    "llm_4 = ChatOpenAI( model_name=\"gpt-4-0613\", temperature=0.0 )\n",
    "memory = ConversationBufferMemory( memory_key=\"chat_history\", return_messages=True, verbose=verbose )\n",
    "df = pd.read_csv( du.get_project_root() + \"/src/conf/long-term-memory/events.csv\" )\n",
    "df = up.cast_to_datetime( df, debug=debug )\n",
    "\n",
    "calendar_agent = create_pandas_dataframe_agent( llm_4, df, verbose=verbose )\n",
    "\n",
    "calendar_prompt = PromptTemplate(\n",
    "    template=pandas_prompt_template,\n",
    "    input_variables=[ \"question\" ]\n",
    ")\n",
    "calendar_chain = LLMChain(\n",
    "    prompt=calendar_prompt,\n",
    "    llm=llm_4\n",
    ")\n",
    "calendar_agent.memory = memory"
   ],
   "metadata": {
    "collapsed": false,
    "ExecuteTime": {
     "end_time": "2023-09-28T19:56:43.874965Z",
     "start_time": "2023-09-28T19:56:43.839993Z"
    }
   },
   "id": "95185c545cf33d54"
  },
  {
   "cell_type": "code",
   "execution_count": 8,
   "outputs": [
    {
     "data": {
      "text/plain": "start_date                    datetime64[ns]\nend_date                      datetime64[ns]\nstart_time                            object\nend_time                              object\nevent_type                            object\nrecurrent                               bool\nrecurrence_interval                   object\npriority_level                        object\nname                                  object\nrelationship                          object\ndescription_who_what_where            object\ndtype: object"
     },
     "execution_count": 8,
     "metadata": {},
     "output_type": "execute_result"
    }
   ],
   "source": [
    "df.dtypes"
   ],
   "metadata": {
    "collapsed": false,
    "ExecuteTime": {
     "end_time": "2023-09-28T19:56:46.146488Z",
     "start_time": "2023-09-28T19:56:46.140922Z"
    }
   },
   "id": "78ef5267b32336d1"
  },
  {
   "cell_type": "code",
   "execution_count": 9,
   "outputs": [
    {
     "name": "stdout",
     "output_type": "stream",
     "text": [
      "<class 'pandas.core.frame.DataFrame'>\n",
      "RangeIndex: 200 entries, 0 to 199\n",
      "Data columns (total 11 columns):\n",
      " #   Column                      Non-Null Count  Dtype         \n",
      "---  ------                      --------------  -----         \n",
      " 0   start_date                  200 non-null    datetime64[ns]\n",
      " 1   end_date                    200 non-null    datetime64[ns]\n",
      " 2   start_time                  200 non-null    object        \n",
      " 3   end_time                    200 non-null    object        \n",
      " 4   event_type                  200 non-null    object        \n",
      " 5   recurrent                   200 non-null    bool          \n",
      " 6   recurrence_interval         47 non-null     object        \n",
      " 7   priority_level              200 non-null    object        \n",
      " 8   name                        200 non-null    object        \n",
      " 9   relationship                200 non-null    object        \n",
      " 10  description_who_what_where  200 non-null    object        \n",
      "dtypes: bool(1), datetime64[ns](2), object(8)\n",
      "memory usage: 15.9+ KB\n"
     ]
    }
   ],
   "source": [
    "foo = df.info()\n",
    "# print( foo )\n",
    "foo"
   ],
   "metadata": {
    "collapsed": false,
    "ExecuteTime": {
     "end_time": "2023-09-28T19:56:49.010785Z",
     "start_time": "2023-09-28T19:56:49.005729Z"
    }
   },
   "id": "cd51c5244ba12d4"
  },
  {
   "cell_type": "code",
   "execution_count": 10,
   "outputs": [
    {
     "name": "stdout",
     "output_type": "stream",
     "text": [
      "\n",
      "    Question: What events do I have today?  \n",
      "    \n",
      "    Hint: An event that I have today may have started before today and may end tomorrow or next week, so be careful how you filter on dates.\n",
      "    Hint: When filtering by dates, use `pd.Timestamp( day )` to convert a Python datetime object into a Pandas `datetime64[ns]` value.\n",
      "    Hint: If your code returns any records, they should include all columns in the dataframe.\n",
      "    \n"
     ]
    }
   ],
   "source": [
    "def get_question_and_coda( event_query ):\n",
    "    \n",
    "    question_plus_coda_template = \"\"\"\n",
    "    Question: {event_query}  \n",
    "    \n",
    "    Hint: An event that I have today may have started before today and may end tomorrow or next week, so be careful how you filter on dates.\n",
    "    Hint: When filtering by dates, use `pd.Timestamp( day )` to convert a Python datetime object into a Pandas `datetime64[ns]` value.\n",
    "    Hint: If your code returns any records, they should include all columns in the dataframe.\n",
    "    \"\"\"\n",
    "    \n",
    "    return question_plus_coda_template.format( event_query=event_query )\n",
    "\n",
    "\n",
    "event_query = \"What events do I have today?\"\n",
    "question = get_question_and_coda( event_query )\n",
    "\n",
    "for line in question.split( \"\\n\" ):\n",
    "    print( line )\n"
   ],
   "metadata": {
    "collapsed": false,
    "ExecuteTime": {
     "end_time": "2023-09-28T19:56:52.388135Z",
     "start_time": "2023-09-28T19:56:52.379206Z"
    }
   },
   "id": "9dc4c544beaaef2c"
  },
  {
   "cell_type": "code",
   "execution_count": 11,
   "outputs": [
    {
     "name": "stdout",
     "output_type": "stream",
     "text": [
      "Running pandas prompt...\n",
      "\u001B[32;1m\u001B[1;3m[chain/start]\u001B[0m \u001B[1m[1:chain:LLMChain] Entering Chain run with input:\n",
      "\u001B[0m{\n",
      "  \"question\": \"\\n    Question: What events do I have today?  \\n    \\n    Hint: An event that I have today may have started before today and may end tomorrow or next week, so be careful how you filter on dates.\\n    Hint: When filtering by dates, use `pd.Timestamp( day )` to convert a Python datetime object into a Pandas `datetime64[ns]` value.\\n    Hint: If your code returns any records, they should include all columns in the dataframe.\\n    \"\n",
      "}\n",
      "\u001B[32;1m\u001B[1;3m[llm/start]\u001B[0m \u001B[1m[1:chain:LLMChain > 2:llm:ChatOpenAI] Entering LLM run with input:\n",
      "\u001B[0m{\n",
      "  \"prompts\": [\n",
      "    \"Human: \\nYou are working with a pandas dataframe in Python. The name of the dataframe is `df`.\\n\\nThis is the ouput from `print(df.head().to_csv())`, in CSV format:\\n\\n\\\"start_date\\\",\\\"end_date\\\",\\\"start_time\\\",\\\"end_time\\\",\\\"event_type\\\",\\\"recurrent\\\",\\\"recurrence_interval\\\",\\\"priority_level\\\",\\\"name\\\",\\\"relationship\\\",\\\"description_who_what_where\\\"\\n\\\"2023-07-01\\\",\\\"2023-07-04\\\",\\\"00:00\\\",\\\"23:59\\\",\\\"Concert\\\",False,\\\"\\\",\\\"none\\\",\\\"Jenny\\\",\\\"coworker\\\",\\\"Concert of Jenny at the city center\\\"\\n\\\"2023-07-01\\\",\\\"2023-07-01\\\",\\\"05:25\\\",\\\"17:22\\\",\\\"TODO\\\",False,\\\"\\\",\\\"highest\\\",\\\"Gregorio\\\",\\\"friend\\\",\\\"Send out invitations for the party for Gregorio\\\"\\n\\\"2023-07-01\\\",\\\"2023-07-01\\\",\\\"13:27\\\",\\\"01:59\\\",\\\"Appointment\\\",False,\\\"\\\",\\\"high\\\",\\\"Leroy Ruiz\\\",\\\"father\\\",\\\"Appointment with Leroy Ruiz at the clinic\\\"\\n\\\"2023-07-03\\\",\\\"2023-07-04\\\",\\\"00:00\\\",\\\"23:59\\\",\\\"Subscription\\\",True,\\\"1 year\\\",\\\"highest\\\",\\\"Leroy Ruiz\\\",\\\"father\\\",\\\"Renewal of Leroy Ruiz's subscription\\\"\\n\\\"2023-07-03\\\",\\\"2023-07-04\\\",\\\"00:00\\\",\\\"23:59\\\",\\\"Anniversary\\\",True,\\\"4 week\\\",\\\"none\\\",\\\"Juan\\\",\\\"neighbor\\\",\\\"Juan's anniversary celebration at the park\\\"\\n\\\"2023-07-04\\\",\\\"2023-07-04\\\",\\\"00:00\\\",\\\"23:59\\\",\\\"Anniversary\\\",True,\\\"4 week\\\",\\\"medium\\\",\\\"Leroy Ruiz\\\",\\\"father\\\",\\\"Leroy Ruiz's anniversary celebration at the park\\\"\\n\\nThis is the from `print(df.dtypes)`:\\n\\nstart_date                    datetime64[ns]\\nend_date                      datetime64[ns]\\nstart_time                            object\\nend_time                              object\\nevent_type                            object\\nrecurrent                               bool\\nrecurrence_interval                   object\\npriority_level                        object\\nname                                  object\\nrelationship                          object\\ndescription_who_what_where            object\\ndtype: object\\n\\nAs you generate the python code needed to answer the question asked of you below, I want you to:\\n\\n1) Question: Ask yourself If you understand the question I am asking you?\\n2) Think: Before you do anything, think out loud about what I'm asking you to do, including listing the steps you need to take to solve this problem. What are the things you need to consider? Be critical of your thought process!\\n3) Code: Generate a verbatim list of code that you used to arrive at your answer, one line of code per item on the list. The code must be complete, syntactically correct, and run to completion. The last line of your code must be the variable `solution`, which represents the answer.\\n4) Return: Report on the object type of the variable `solution` in your last line of code.\\n5) Explain: Briefly and succinctly explain your code in plain English.\\n\\nFormat: return your response as a JSON object with the following fields:\\n{\\n    \\\"question\\\": \\\"the question that your code answers\\\",\\n    \\\"thoughts\\\": \\\"your thoughts\\\",\\n    \\\"code\\\": [],\\n    \\\"return\\\": \\\"Object type of the variable `solution`\\\",\\n    \\\"explanation\\\": \\\"your brief explanation of your code\\\"\\n}\\n\\nBegin!\\n\\nQuestion: \\n    Question: What events do I have today?  \\n    \\n    Hint: An event that I have today may have started before today and may end tomorrow or next week, so be careful how you filter on dates.\\n    Hint: When filtering by dates, use `pd.Timestamp( day )` to convert a Python datetime object into a Pandas `datetime64[ns]` value.\\n    Hint: If your code returns any records, they should include all columns in the dataframe.\"\n",
      "  ]\n",
      "}\n",
      "\u001B[36;1m\u001B[1;3m[llm/end]\u001B[0m \u001B[1m[1:chain:LLMChain > 2:llm:ChatOpenAI] [25.28s] Exiting LLM run with output:\n",
      "\u001B[0m{\n",
      "  \"generations\": [\n",
      "    [\n",
      "      {\n",
      "        \"text\": \"{\\n    \\\"question\\\": \\\"What events do I have today?\\\",\\n    \\\"thoughts\\\": \\\"To answer this question, I need to filter the dataframe to only include events that are happening today. This means that the event's start date is on or before today and the end date is on or after today. I will use the pandas Timestamp function to convert today's date into a format that can be compared with the start_date and end_date columns in the dataframe. I will then use boolean indexing to filter the dataframe.\\\",\\n    \\\"code\\\": [\\n        \\\"import pandas as pd\\\",\\n        \\\"today = pd.Timestamp('today').normalize()\\\",\\n        \\\"solution = df[(df['start_date'] <= today) & (df['end_date'] >= today)]\\\"\\n    ],\\n    \\\"return\\\": \\\"pandas.core.frame.DataFrame\\\",\\n    \\\"explanation\\\": \\\"The code first imports the pandas library. Then it creates a variable 'today' which holds the current date in a format that can be compared with the dates in the dataframe. The normalize() function is used to set the time part of the Timestamp to midnight, as we are only interested in the date. The last line of code filters the dataframe to only include rows where the start date is on or before today and the end date is on or after today. The result is a new dataframe that only includes the events happening today.\\\"\\n}\",\n",
      "        \"generation_info\": {\n",
      "          \"finish_reason\": \"stop\"\n",
      "        },\n",
      "        \"message\": {\n",
      "          \"lc\": 1,\n",
      "          \"type\": \"constructor\",\n",
      "          \"id\": [\n",
      "            \"langchain\",\n",
      "            \"schema\",\n",
      "            \"messages\",\n",
      "            \"AIMessage\"\n",
      "          ],\n",
      "          \"kwargs\": {\n",
      "            \"content\": \"{\\n    \\\"question\\\": \\\"What events do I have today?\\\",\\n    \\\"thoughts\\\": \\\"To answer this question, I need to filter the dataframe to only include events that are happening today. This means that the event's start date is on or before today and the end date is on or after today. I will use the pandas Timestamp function to convert today's date into a format that can be compared with the start_date and end_date columns in the dataframe. I will then use boolean indexing to filter the dataframe.\\\",\\n    \\\"code\\\": [\\n        \\\"import pandas as pd\\\",\\n        \\\"today = pd.Timestamp('today').normalize()\\\",\\n        \\\"solution = df[(df['start_date'] <= today) & (df['end_date'] >= today)]\\\"\\n    ],\\n    \\\"return\\\": \\\"pandas.core.frame.DataFrame\\\",\\n    \\\"explanation\\\": \\\"The code first imports the pandas library. Then it creates a variable 'today' which holds the current date in a format that can be compared with the dates in the dataframe. The normalize() function is used to set the time part of the Timestamp to midnight, as we are only interested in the date. The last line of code filters the dataframe to only include rows where the start date is on or before today and the end date is on or after today. The result is a new dataframe that only includes the events happening today.\\\"\\n}\",\n",
      "            \"additional_kwargs\": {}\n",
      "          }\n",
      "        }\n",
      "      }\n",
      "    ]\n",
      "  ],\n",
      "  \"llm_output\": {\n",
      "    \"token_usage\": {\n",
      "      \"prompt_tokens\": 805,\n",
      "      \"completion_tokens\": 279,\n",
      "      \"total_tokens\": 1084\n",
      "    },\n",
      "    \"model_name\": \"gpt-4-0613\"\n",
      "  },\n",
      "  \"run\": null\n",
      "}\n",
      "\u001B[36;1m\u001B[1;3m[chain/end]\u001B[0m \u001B[1m[1:chain:LLMChain] [25.28s] Exiting Chain run with output:\n",
      "\u001B[0m{\n",
      "  \"text\": \"{\\n    \\\"question\\\": \\\"What events do I have today?\\\",\\n    \\\"thoughts\\\": \\\"To answer this question, I need to filter the dataframe to only include events that are happening today. This means that the event's start date is on or before today and the end date is on or after today. I will use the pandas Timestamp function to convert today's date into a format that can be compared with the start_date and end_date columns in the dataframe. I will then use boolean indexing to filter the dataframe.\\\",\\n    \\\"code\\\": [\\n        \\\"import pandas as pd\\\",\\n        \\\"today = pd.Timestamp('today').normalize()\\\",\\n        \\\"solution = df[(df['start_date'] <= today) & (df['end_date'] >= today)]\\\"\\n    ],\\n    \\\"return\\\": \\\"pandas.core.frame.DataFrame\\\",\\n    \\\"explanation\\\": \\\"The code first imports the pandas library. Then it creates a variable 'today' which holds the current date in a format that can be compared with the dates in the dataframe. The normalize() function is used to set the time part of the Timestamp to midnight, as we are only interested in the date. The last line of code filters the dataframe to only include rows where the start date is on or before today and the end date is on or after today. The result is a new dataframe that only includes the events happening today.\\\"\\n}\"\n",
      "}\n",
      "Running pandas prompt... Done! in 25 seconds\n"
     ]
    }
   ],
   "source": [
    "timer = sw.Stopwatch( \"Running pandas prompt...\" )\n",
    "event_query = \"What events do I have today?\"\n",
    "question = get_question_and_coda( event_query )\n",
    "my_response = calendar_chain.run( question=question )\n",
    "timer.print( \"Done!\" )"
   ],
   "metadata": {
    "collapsed": false,
    "ExecuteTime": {
     "end_time": "2023-09-28T19:57:30.876490Z",
     "start_time": "2023-09-28T19:57:05.594480Z"
    }
   },
   "id": "70d619c76c79198b"
  },
  {
   "cell_type": "code",
   "execution_count": 12,
   "outputs": [
    {
     "data": {
      "text/plain": "{'question': 'What events do I have today?',\n 'thoughts': \"To answer this question, I need to filter the dataframe to only include events that are happening today. This means that the event's start date is on or before today and the end date is on or after today. I will use the pandas Timestamp function to convert today's date into a format that can be compared with the start_date and end_date columns in the dataframe. I will then use boolean indexing to filter the dataframe.\",\n 'code': ['import pandas as pd',\n  \"today = pd.Timestamp('today').normalize()\",\n  \"solution = df[(df['start_date'] <= today) & (df['end_date'] >= today)]\"],\n 'return': 'pandas.core.frame.DataFrame',\n 'explanation': \"The code first imports the pandas library. Then it creates a variable 'today' which holds the current date in a format that can be compared with the dates in the dataframe. The normalize() function is used to set the time part of the Timestamp to midnight, as we are only interested in the date. The last line of code filters the dataframe to only include rows where the start date is on or before today and the end date is on or after today. The result is a new dataframe that only includes the events happening today.\"}"
     },
     "execution_count": 12,
     "metadata": {},
     "output_type": "execute_result"
    }
   ],
   "source": [
    "response_dict = json.loads( my_response )\n",
    "response_dict"
   ],
   "metadata": {
    "collapsed": false,
    "ExecuteTime": {
     "end_time": "2023-09-28T19:57:30.879219Z",
     "start_time": "2023-09-28T19:57:30.875751Z"
    }
   },
   "id": "dbc489db0923f81f"
  },
  {
   "cell_type": "code",
   "execution_count": 13,
   "outputs": [
    {
     "name": "stdout",
     "output_type": "stream",
     "text": [
      "import pandas as pd\n",
      "today = pd.Timestamp('today').normalize()\n",
      "solution = df[(df['start_date'] <= today) & (df['end_date'] >= today)]\n"
     ]
    }
   ],
   "source": [
    "# response_dict[ \"code\" ] = response_dict[ \"code\" ][ 0:4 ]\n",
    "# # response_dict[ \"code\" ].append( \"solution = df_today\" )\n",
    "for line in response_dict[ \"code\" ]:\n",
    "    print( line )\n"
   ],
   "metadata": {
    "collapsed": false,
    "ExecuteTime": {
     "end_time": "2023-09-28T19:57:30.887608Z",
     "start_time": "2023-09-28T19:57:30.880277Z"
    }
   },
   "id": "b5383fbafb417247"
  },
  {
   "cell_type": "code",
   "execution_count": 14,
   "outputs": [
    {
     "name": "stdout",
     "output_type": "stream",
     "text": [
      "\n",
      "{\"start_date\":1695254400000,\"end_date\":1695859200000,\"start_time\":\"00:00\",\"end_time\":\"23:59\",\"event_type\":\"Concert\",\"recurrent\":false,\"recurrence_interval\":null,\"priority_level\":\"high\",\"name\":\"Juan\",\"relationship\":\"neighbor\",\"description_who_what_where\":\"Concert of Juan at the city center\"}\n",
      "{\"start_date\":1695340800000,\"end_date\":1695945600000,\"start_time\":\"00:00\",\"end_time\":\"23:59\",\"event_type\":\"Conference\",\"recurrent\":false,\"recurrence_interval\":null,\"priority_level\":\"none\",\"name\":\"Barbara Jane Ruiz\",\"relationship\":\"mother\",\"description_who_what_where\":\"Conference with Barbara Jane Ruiz on AI advancements\"}\n",
      "{\"start_date\":1695513600000,\"end_date\":1696032000000,\"start_time\":\"12:01\",\"end_time\":\"04:55\",\"event_type\":\"TODO\",\"recurrent\":false,\"recurrence_interval\":null,\"priority_level\":\"medium\",\"name\":\"Juan\",\"relationship\":\"neighbor\",\"description_who_what_where\":\"Prepare presentation for next week's meeting for Juan (neighbor)\"}\n",
      "{\"start_date\":1695600000000,\"end_date\":1696118400000,\"start_time\":\"21:58\",\"end_time\":\"00:54\",\"event_type\":\"Meeting\",\"recurrent\":false,\"recurrence_interval\":null,\"priority_level\":\"low\",\"name\":\"Sally\",\"relationship\":\"sister\",\"description_who_what_where\":\"Another boring meeting with Sally\"}\n",
      "{\"start_date\":1695772800000,\"end_date\":1696118400000,\"start_time\":\"00:00\",\"end_time\":\"23:59\",\"event_type\":\"Conference\",\"recurrent\":false,\"recurrence_interval\":null,\"priority_level\":\"highest\",\"name\":\"Leroy Ruiz\",\"relationship\":\"father\",\"description_who_what_where\":\"Conference with Leroy Ruiz on AI advancements\"}\n",
      "{\"start_date\":1695772800000,\"end_date\":1695859200000,\"start_time\":\"00:00\",\"end_time\":\"23:59\",\"event_type\":\"Birthday\",\"recurrent\":true,\"recurrence_interval\":\"2 month\",\"priority_level\":\"none\",\"name\":\"Juan\",\"relationship\":\"neighbor\",\"description_who_what_where\":\"Juan's birthday party at their favorite bar\"}\n",
      "{\"start_date\":1695772800000,\"end_date\":1696291200000,\"start_time\":\"00:00\",\"end_time\":\"23:59\",\"event_type\":\"Birthday\",\"recurrent\":true,\"recurrence_interval\":\"1 year\",\"priority_level\":\"none\",\"name\":\"Gregorio\",\"relationship\":\"friend\",\"description_who_what_where\":\"Gregorio's birthday party at their favorite bar\"}\n",
      "{\"start_date\":1695859200000,\"end_date\":1696377600000,\"start_time\":\"00:00\",\"end_time\":\"23:59\",\"event_type\":\"Concert\",\"recurrent\":false,\"recurrence_interval\":null,\"priority_level\":\"low\",\"name\":\"Leroy Ruiz\",\"relationship\":\"father\",\"description_who_what_where\":\"Concert of Leroy Ruiz at the city center\"}\n",
      "{\"start_date\":1695859200000,\"end_date\":1695859200000,\"start_time\":\"00:00\",\"end_time\":\"23:59\",\"event_type\":\"Concert\",\"recurrent\":false,\"recurrence_interval\":null,\"priority_level\":\"low\",\"name\":\"Sally\",\"relationship\":\"sister\",\"description_who_what_where\":\"Concert of Sally at the city center\"}\n",
      "{\"start_date\":1695859200000,\"end_date\":1695859200000,\"start_time\":\"20:06\",\"end_time\":\"08:32\",\"event_type\":\"Appointment\",\"recurrent\":false,\"recurrence_interval\":null,\"priority_level\":\"high\",\"name\":\"Juan\",\"relationship\":\"neighbor\",\"description_who_what_where\":\"Appointment with Juan at the clinic\"}\n"
     ]
    }
   ],
   "source": [
    "%autoreload\n",
    "# Let's copy it until we get the code munging right\n",
    "response_dict_copy = response_dict[ \"code\" ][ : ]\n",
    "\n",
    "response = ulc.assemble_and_run_solution(\n",
    "    response_dict_copy, path=\"/src/conf/long-term-memory/events.csv\",\n",
    "    solution_code_returns=response_dict[ \"return\" ], debug=False\n",
    ")\n",
    "print()\n",
    "for line in response[ \"response\" ].split( \"\\n\" ):\n",
    "    print( line )"
   ],
   "metadata": {
    "collapsed": false,
    "ExecuteTime": {
     "end_time": "2023-09-28T19:57:31.170134Z",
     "start_time": "2023-09-28T19:57:30.888070Z"
    }
   },
   "id": "968357a41db502e1"
  },
  {
   "cell_type": "code",
   "execution_count": 15,
   "outputs": [
    {
     "data": {
      "text/plain": "10"
     },
     "execution_count": 15,
     "metadata": {},
     "output_type": "execute_result"
    }
   ],
   "source": [
    "len( response[ \"response\" ].split( \"\\n\" ) )"
   ],
   "metadata": {
    "collapsed": false,
    "ExecuteTime": {
     "end_time": "2023-09-28T19:57:31.179708Z",
     "start_time": "2023-09-28T19:57:31.174047Z"
    }
   },
   "id": "2384bb3c637ea2a7"
  },
  {
   "cell_type": "code",
   "execution_count": 16,
   "outputs": [
    {
     "name": "stdout",
     "output_type": "stream",
     "text": [
      "\n",
      "I'm going to show you 10 rows of JSONL output from a query on a pandas dataframe. \n",
      "\n",
      "JSONL output:\n",
      "\n",
      "{\"start_date\":1695254400000,\"end_date\":1695859200000,\"start_time\":\"00:00\",\"end_time\":\"23:59\",\"event_type\":\"Concert\",\"recurrent\":false,\"recurrence_interval\":null,\"priority_level\":\"high\",\"name\":\"Juan\",\"relationship\":\"neighbor\",\"description_who_what_where\":\"Concert of Juan at the city center\"}\n",
      "{\"start_date\":1695340800000,\"end_date\":1695945600000,\"start_time\":\"00:00\",\"end_time\":\"23:59\",\"event_type\":\"Conference\",\"recurrent\":false,\"recurrence_interval\":null,\"priority_level\":\"none\",\"name\":\"Barbara Jane Ruiz\",\"relationship\":\"mother\",\"description_who_what_where\":\"Conference with Barbara Jane Ruiz on AI advancements\"}\n",
      "{\"start_date\":1695513600000,\"end_date\":1696032000000,\"start_time\":\"12:01\",\"end_time\":\"04:55\",\"event_type\":\"TODO\",\"recurrent\":false,\"recurrence_interval\":null,\"priority_level\":\"medium\",\"name\":\"Juan\",\"relationship\":\"neighbor\",\"description_who_what_where\":\"Prepare presentation for next week's meeting for Juan (neighbor)\"}\n",
      "{\"start_date\":1695600000000,\"end_date\":1696118400000,\"start_time\":\"21:58\",\"end_time\":\"00:54\",\"event_type\":\"Meeting\",\"recurrent\":false,\"recurrence_interval\":null,\"priority_level\":\"low\",\"name\":\"Sally\",\"relationship\":\"sister\",\"description_who_what_where\":\"Another boring meeting with Sally\"}\n",
      "{\"start_date\":1695772800000,\"end_date\":1696118400000,\"start_time\":\"00:00\",\"end_time\":\"23:59\",\"event_type\":\"Conference\",\"recurrent\":false,\"recurrence_interval\":null,\"priority_level\":\"highest\",\"name\":\"Leroy Ruiz\",\"relationship\":\"father\",\"description_who_what_where\":\"Conference with Leroy Ruiz on AI advancements\"}\n",
      "{\"start_date\":1695772800000,\"end_date\":1695859200000,\"start_time\":\"00:00\",\"end_time\":\"23:59\",\"event_type\":\"Birthday\",\"recurrent\":true,\"recurrence_interval\":\"2 month\",\"priority_level\":\"none\",\"name\":\"Juan\",\"relationship\":\"neighbor\",\"description_who_what_where\":\"Juan's birthday party at their favorite bar\"}\n",
      "{\"start_date\":1695772800000,\"end_date\":1696291200000,\"start_time\":\"00:00\",\"end_time\":\"23:59\",\"event_type\":\"Birthday\",\"recurrent\":true,\"recurrence_interval\":\"1 year\",\"priority_level\":\"none\",\"name\":\"Gregorio\",\"relationship\":\"friend\",\"description_who_what_where\":\"Gregorio's birthday party at their favorite bar\"}\n",
      "{\"start_date\":1695859200000,\"end_date\":1696377600000,\"start_time\":\"00:00\",\"end_time\":\"23:59\",\"event_type\":\"Concert\",\"recurrent\":false,\"recurrence_interval\":null,\"priority_level\":\"low\",\"name\":\"Leroy Ruiz\",\"relationship\":\"father\",\"description_who_what_where\":\"Concert of Leroy Ruiz at the city center\"}\n",
      "{\"start_date\":1695859200000,\"end_date\":1695859200000,\"start_time\":\"00:00\",\"end_time\":\"23:59\",\"event_type\":\"Concert\",\"recurrent\":false,\"recurrence_interval\":null,\"priority_level\":\"low\",\"name\":\"Sally\",\"relationship\":\"sister\",\"description_who_what_where\":\"Concert of Sally at the city center\"}\n",
      "{\"start_date\":1695859200000,\"end_date\":1695859200000,\"start_time\":\"20:06\",\"end_time\":\"08:32\",\"event_type\":\"Appointment\",\"recurrent\":false,\"recurrence_interval\":null,\"priority_level\":\"high\",\"name\":\"Juan\",\"relationship\":\"neighbor\",\"description_who_what_where\":\"Appointment with Juan at the clinic\"}\n"
     ]
    }
   ],
   "source": [
    "rows = len( response[ \"response\" ].split( \"\\n\" ) )\n",
    "preamble = f\"\"\"\n",
    "I'm going to show you {rows} rows of JSONL output from a query on a pandas dataframe. \n",
    "\n",
    "JSONL output:\n",
    "\n",
    "{response[ \"response\" ]}\n",
    "\"\"\"\n",
    "#for line in preamble:\n",
    "#     print( line )\n",
    "print( preamble )"
   ],
   "metadata": {
    "collapsed": false,
    "ExecuteTime": {
     "end_time": "2023-09-28T19:57:31.182941Z",
     "start_time": "2023-09-28T19:57:31.177189Z"
    }
   },
   "id": "4b39305b328bf00f"
  },
  {
   "cell_type": "code",
   "execution_count": 17,
   "outputs": [
    {
     "name": "stdout",
     "output_type": "stream",
     "text": [
      "\n",
      "Reformat and rephrase the JSONL data above in conversational English so that it answers this question: `What events do I have today?`\n",
      "\n",
      "Your output should contain one line per event.\n"
     ]
    }
   ],
   "source": [
    "instructions = f\"\"\"\n",
    "Reformat and rephrase the JSONL data above in conversational English so that it answers this question: `{event_query}`\n",
    "\n",
    "Your output should contain one line per event.\n",
    "\"\"\"\n",
    "for line in instructions.split( \"\\n\" ):\n",
    "    print( line )"
   ],
   "metadata": {
    "collapsed": false,
    "ExecuteTime": {
     "end_time": "2023-09-28T19:57:32.675130Z",
     "start_time": "2023-09-28T19:57:32.633625Z"
    }
   },
   "id": "b2ee50870ed779f8"
  },
  {
   "cell_type": "code",
   "execution_count": 18,
   "outputs": [
    {
     "name": "stderr",
     "output_type": "stream",
     "text": [
      "ALSA lib confmisc.c:855:(parse_card) cannot find card '0'\n",
      "ALSA lib conf.c:5180:(_snd_config_evaluate) function snd_func_card_inum returned error: No such file or directory\n",
      "ALSA lib confmisc.c:422:(snd_func_concat) error evaluating strings\n",
      "ALSA lib conf.c:5180:(_snd_config_evaluate) function snd_func_concat returned error: No such file or directory\n",
      "ALSA lib confmisc.c:1334:(snd_func_refer) error evaluating name\n",
      "ALSA lib conf.c:5180:(_snd_config_evaluate) function snd_func_refer returned error: No such file or directory\n",
      "ALSA lib conf.c:5703:(snd_config_expand) Evaluate error: No such file or directory\n",
      "ALSA lib pcm.c:2666:(snd_pcm_open_noupdate) Unknown PCM sysdefault\n",
      "ALSA lib confmisc.c:855:(parse_card) cannot find card '0'\n",
      "ALSA lib conf.c:5180:(_snd_config_evaluate) function snd_func_card_inum returned error: No such file or directory\n",
      "ALSA lib confmisc.c:422:(snd_func_concat) error evaluating strings\n",
      "ALSA lib conf.c:5180:(_snd_config_evaluate) function snd_func_concat returned error: No such file or directory\n",
      "ALSA lib confmisc.c:1334:(snd_func_refer) error evaluating name\n",
      "ALSA lib conf.c:5180:(_snd_config_evaluate) function snd_func_refer returned error: No such file or directory\n",
      "ALSA lib conf.c:5703:(snd_config_expand) Evaluate error: No such file or directory\n",
      "ALSA lib pcm.c:2666:(snd_pcm_open_noupdate) Unknown PCM sysdefault\n",
      "ALSA lib pcm.c:2666:(snd_pcm_open_noupdate) Unknown PCM cards.pcm.front\n",
      "ALSA lib pcm.c:2666:(snd_pcm_open_noupdate) Unknown PCM cards.pcm.rear\n",
      "ALSA lib pcm.c:2666:(snd_pcm_open_noupdate) Unknown PCM cards.pcm.center_lfe\n",
      "ALSA lib pcm.c:2666:(snd_pcm_open_noupdate) Unknown PCM cards.pcm.side\n",
      "ALSA lib pcm.c:2666:(snd_pcm_open_noupdate) Unknown PCM cards.pcm.surround21\n",
      "ALSA lib pcm.c:2666:(snd_pcm_open_noupdate) Unknown PCM cards.pcm.surround21\n",
      "ALSA lib pcm.c:2666:(snd_pcm_open_noupdate) Unknown PCM cards.pcm.surround40\n",
      "ALSA lib pcm.c:2666:(snd_pcm_open_noupdate) Unknown PCM cards.pcm.surround41\n",
      "ALSA lib pcm.c:2666:(snd_pcm_open_noupdate) Unknown PCM cards.pcm.surround50\n",
      "ALSA lib pcm.c:2666:(snd_pcm_open_noupdate) Unknown PCM cards.pcm.surround51\n",
      "ALSA lib pcm.c:2666:(snd_pcm_open_noupdate) Unknown PCM cards.pcm.surround71\n",
      "ALSA lib pcm.c:2666:(snd_pcm_open_noupdate) Unknown PCM cards.pcm.iec958\n",
      "ALSA lib pcm.c:2666:(snd_pcm_open_noupdate) Unknown PCM cards.pcm.iec958\n",
      "ALSA lib pcm.c:2666:(snd_pcm_open_noupdate) Unknown PCM cards.pcm.iec958\n",
      "ALSA lib pcm.c:2666:(snd_pcm_open_noupdate) Unknown PCM cards.pcm.hdmi\n",
      "ALSA lib pcm.c:2666:(snd_pcm_open_noupdate) Unknown PCM cards.pcm.hdmi\n",
      "ALSA lib pcm.c:2666:(snd_pcm_open_noupdate) Unknown PCM cards.pcm.modem\n",
      "ALSA lib pcm.c:2666:(snd_pcm_open_noupdate) Unknown PCM cards.pcm.modem\n",
      "ALSA lib pcm.c:2666:(snd_pcm_open_noupdate) Unknown PCM cards.pcm.phoneline\n",
      "ALSA lib pcm.c:2666:(snd_pcm_open_noupdate) Unknown PCM cards.pcm.phoneline\n",
      "ALSA lib confmisc.c:855:(parse_card) cannot find card '0'\n",
      "ALSA lib conf.c:5180:(_snd_config_evaluate) function snd_func_card_inum returned error: No such file or directory\n",
      "ALSA lib confmisc.c:422:(snd_func_concat) error evaluating strings\n",
      "ALSA lib conf.c:5180:(_snd_config_evaluate) function snd_func_concat returned error: No such file or directory\n",
      "ALSA lib confmisc.c:1334:(snd_func_refer) error evaluating name\n",
      "ALSA lib conf.c:5180:(_snd_config_evaluate) function snd_func_refer returned error: No such file or directory\n",
      "ALSA lib conf.c:5703:(snd_config_expand) Evaluate error: No such file or directory\n",
      "ALSA lib pcm.c:2666:(snd_pcm_open_noupdate) Unknown PCM default\n",
      "ALSA lib confmisc.c:855:(parse_card) cannot find card '0'\n",
      "ALSA lib conf.c:5180:(_snd_config_evaluate) function snd_func_card_inum returned error: No such file or directory\n",
      "ALSA lib confmisc.c:422:(snd_func_concat) error evaluating strings\n",
      "ALSA lib conf.c:5180:(_snd_config_evaluate) function snd_func_concat returned error: No such file or directory\n",
      "ALSA lib confmisc.c:1334:(snd_func_refer) error evaluating name\n",
      "ALSA lib conf.c:5180:(_snd_config_evaluate) function snd_func_refer returned error: No such file or directory\n",
      "ALSA lib conf.c:5703:(snd_config_expand) Evaluate error: No such file or directory\n",
      "ALSA lib pcm.c:2666:(snd_pcm_open_noupdate) Unknown PCM default\n",
      "ALSA lib confmisc.c:855:(parse_card) cannot find card '0'\n",
      "ALSA lib conf.c:5180:(_snd_config_evaluate) function snd_func_card_id returned error: No such file or directory\n",
      "ALSA lib confmisc.c:422:(snd_func_concat) error evaluating strings\n",
      "ALSA lib conf.c:5180:(_snd_config_evaluate) function snd_func_concat returned error: No such file or directory\n",
      "ALSA lib confmisc.c:1334:(snd_func_refer) error evaluating name\n",
      "ALSA lib conf.c:5180:(_snd_config_evaluate) function snd_func_refer returned error: No such file or directory\n",
      "ALSA lib conf.c:5703:(snd_config_expand) Evaluate error: No such file or directory\n",
      "ALSA lib pcm.c:2666:(snd_pcm_open_noupdate) Unknown PCM dmix\n",
      "Cannot connect to server socket err = No such file or directory\n",
      "Cannot connect to server request channel\n",
      "jack server is not running or cannot be started\n",
      "JackShmReadWritePtr::~JackShmReadWritePtr - Init not done for -1, skipping unlock\n",
      "JackShmReadWritePtr::~JackShmReadWritePtr - Init not done for -1, skipping unlock\n"
     ]
    },
    {
     "name": "stdout",
     "output_type": "stream",
     "text": [
      "Asking ChatGPT [gpt-4-0613]...Done! in 29,840 ms\n"
     ]
    }
   ],
   "source": [
    "%autoreload\n",
    "genie_client = gc.GenieClient()\n",
    "answer_conversational = genie_client.ask_chat_gpt_text( instructions, preamble=preamble, model=gc.GPT_4 )"
   ],
   "metadata": {
    "collapsed": false,
    "ExecuteTime": {
     "end_time": "2023-09-28T19:58:07.076627Z",
     "start_time": "2023-09-28T19:57:37.200494Z"
    }
   },
   "id": "9886d04725a7ab2a"
  },
  {
   "cell_type": "code",
   "execution_count": 19,
   "outputs": [
    {
     "name": "stdout",
     "output_type": "stream",
     "text": [
      "Assuming today's date corresponds to the start_date in the JSONL data, here are your events:\n",
      "\n",
      "1. You have a concert featuring Juan at the city center. It's a high-priority event that lasts the whole day.\n",
      "2. There's a conference with your mother, Barbara Jane Ruiz, on AI advancements. This event doesn't have a priority level and also lasts the entire day.\n",
      "3. You need to prepare a presentation for next week's meeting for your neighbor, Juan. This task is of medium priority and starts at 12:01 and ends at 04:55.\n",
      "4. You have another meeting with your sister, Sally. It's a low-priority event that starts at 21:58 and ends at 00:54.\n",
      "5. There's a conference with your father, Leroy Ruiz, on AI advancements. This is your highest priority event and it lasts the entire day.\n",
      "6. It's your neighbor Juan's birthday party at their favorite bar. This is a recurring event every 2 months and it lasts the whole day.\n",
      "7. It's also your friend Gregorio's birthday party at their favorite bar. This is a recurring event every year and it lasts the whole day.\n",
      "8. There's a concert featuring your father, Leroy Ruiz, at the city center. This is a low-priority event that lasts the whole day.\n",
      "9. There's a concert featuring your sister, Sally, at the city center. This is a low-priority event that lasts the whole day.\n",
      "10. You have an appointment with your neighbor, Juan, at the clinic. This is a high-priority event that starts at 20:06 and ends at 08:32.\n"
     ]
    }
   ],
   "source": [
    "for line in answer_conversational.split( \"\\n\" ):\n",
    "    print( line )"
   ],
   "metadata": {
    "collapsed": false,
    "ExecuteTime": {
     "end_time": "2023-09-28T19:58:07.094588Z",
     "start_time": "2023-09-28T19:58:07.075743Z"
    }
   },
   "id": "3153996e5d3a6598"
  },
  {
   "cell_type": "code",
   "execution_count": 23,
   "outputs": [
    {
     "name": "stdout",
     "output_type": "stream",
     "text": [
      "Asking ChatGPT [gpt-3.5-turbo-0613]...Done! in 8,810 ms\n"
     ]
    }
   ],
   "source": [
    "genie_client = gc.GenieClient()\n",
    "answer_conversational = genie_client.ask_chat_gpt_text( instructions, preamble=preamble, model=gc.GPT_3_5 )"
   ],
   "metadata": {
    "collapsed": false,
    "ExecuteTime": {
     "end_time": "2023-09-28T19:58:37.908385Z",
     "start_time": "2023-09-28T19:58:29.093639Z"
    }
   },
   "id": "c0f08c25d9a59c70"
  },
  {
   "cell_type": "code",
   "execution_count": 24,
   "outputs": [],
   "source": [
    "import regex as re"
   ],
   "metadata": {
    "collapsed": false,
    "ExecuteTime": {
     "end_time": "2023-09-28T19:58:37.922735Z",
     "start_time": "2023-09-28T19:58:37.911323Z"
    }
   },
   "id": "691c2f2eab89b8ee"
  },
  {
   "cell_type": "code",
   "execution_count": 25,
   "outputs": [
    {
     "name": "stdout",
     "output_type": "stream",
     "text": [
      "[Today, you have the following events:]\n",
      "[]\n",
      "[Event Type: Concert]\n",
      "[   - Start Date: [Date]]\n",
      "[   - Start Time: 00:00]\n",
      "[   - End Time: 23:59]\n",
      "[   - Description: Concert of Juan at the city center]\n",
      "[]\n",
      "[Event Type: Conference]\n",
      "[   - Start Date: [Date]]\n",
      "[   - Start Time: 00:00]\n",
      "[   - End Time: 23:59]\n",
      "[   - Description: Conference with Barbara Jane Ruiz on AI advancements]\n",
      "[]\n",
      "[Event Type: TODO]\n",
      "[   - Start Date: [Date]]\n",
      "[   - Start Time: 12:01]\n",
      "[   - End Time: 04:55]\n",
      "[   - Description: Prepare presentation for next week's meeting for Juan (neighbor)]\n",
      "[]\n",
      "[Event Type: Meeting]\n",
      "[   - Start Date: [Date]]\n",
      "[   - Start Time: 21:58]\n",
      "[   - End Time: 00:54]\n",
      "[   - Description: Another boring meeting with Sally]\n",
      "[]\n",
      "[Please note that the [Date] should be replaced with the actual date.]\n"
     ]
    }
   ],
   "source": [
    "# https://chat.openai.com/share/eca4c68e-73b1-4c5c-81c2-151e2216442f\n",
    "# The very last interaction contains these instructions:\n",
    "#\n",
    "# Use the regular expression pattern ^\\d+\\.\\s*:\n",
    "# \n",
    "#     ^: asserts position at the start of a line.\n",
    "#     \\d+: matches one or more digits.\n",
    "#     \\.: matches a literal period (dot).\n",
    "#     \\s*: matches zero or more whitespace characters.\n",
    "\n",
    "for line in answer_conversational.split( \"\\n\" ):\n",
    "    line = re.sub( r\"^\\d+\\.\\s*\", \"\", line )\n",
    "    print( f\"[{line}]\" )"
   ],
   "metadata": {
    "collapsed": false,
    "ExecuteTime": {
     "end_time": "2023-09-28T19:58:37.923128Z",
     "start_time": "2023-09-28T19:58:37.917788Z"
    }
   },
   "id": "d39eb3a62263bfcf"
  },
  {
   "cell_type": "code",
   "execution_count": null,
   "outputs": [],
   "source": [],
   "metadata": {
    "collapsed": false
   },
   "id": "5c02ba35efae3ec2"
  },
  {
   "cell_type": "markdown",
   "source": [
    "# Prototyping the calendar agent object"
   ],
   "metadata": {
    "collapsed": false
   },
   "id": "108ca567a4e3664f"
  },
  {
   "cell_type": "code",
   "execution_count": 26,
   "outputs": [],
   "source": [
    "import openai"
   ],
   "metadata": {
    "collapsed": false,
    "ExecuteTime": {
     "end_time": "2023-09-28T19:58:45.897420Z",
     "start_time": "2023-09-28T19:58:45.885359Z"
    }
   },
   "id": "85be5e959203f83e"
  },
  {
   "cell_type": "code",
   "execution_count": 125,
   "outputs": [
    {
     "name": "stdout",
     "output_type": "stream",
     "text": [
      "Asking ChatGPT [gpt-4-0613]...\n",
      "Asking ChatGPT [gpt-4-0613]... in 796 ms\n"
     ]
    },
    {
     "data": {
      "text/plain": "\"My name is OpenAI's GPT-3, but you can call me ChatGPT.\""
     },
     "execution_count": 125,
     "metadata": {},
     "output_type": "execute_result"
    }
   ],
   "source": [
    "GPT_4   = \"gpt-4-0613\"\n",
    "GPT_3_5 = \"gpt-3.5-turbo-0613\"\n",
    "\n",
    "def ask_chat_gpt_text( preamble, query, model=GPT_4 ):\n",
    "\n",
    "    openai.api_key = os.getenv( \"FALSE_POSITIVE_API_KEY\" )\n",
    "    \n",
    "    timer = sw.Stopwatch( msg=f\"Asking ChatGPT [{model}]...\".format( model ) )\n",
    "    \n",
    "    response = openai.ChatCompletion.create(\n",
    "        model=model,\n",
    "        messages=[ \n",
    "            { \"role\": \"system\", \"content\": preamble },\n",
    "            { \"role\": \"user\",   \"content\": query } \n",
    "        ],\n",
    "        temperature=0,\n",
    "        max_tokens=2400,\n",
    "        top_p=1.0,\n",
    "        frequency_penalty=0.0,\n",
    "        presence_penalty=0.0\n",
    "    )\n",
    "    timer.print( use_millis=True )\n",
    "    \n",
    "    return response[ \"choices\" ][ 0 ][ \"message\" ][ \"content\" ].strip()\n",
    "\n",
    "preamble = \"You are chatGPT, a helpful chatbot\"\n",
    "question = \"What's your name?\"\n",
    "\n",
    "ask_chat_gpt_text( preamble, question, model=GPT_4 )"
   ],
   "metadata": {
    "collapsed": false,
    "ExecuteTime": {
     "end_time": "2023-09-28T22:43:02.804428Z",
     "start_time": "2023-09-28T22:43:02.001353Z"
    }
   },
   "id": "15c33434a5136979"
  },
  {
   "cell_type": "code",
   "execution_count": 115,
   "outputs": [],
   "source": [
    "%autoreload\n",
    "\n",
    "import os\n",
    "import json\n",
    "\n",
    "import lib.util           as du\n",
    "import lib.util_pandas    as dup\n",
    "import lib.util_stopwatch as sw\n",
    "import genie_client       as gc\n",
    "\n",
    "import pandas as pd\n",
    "\n",
    "class CalendaringAgent:\n",
    "    \n",
    "    def __init__( self, path_to_df, debug=False, verbose=False ):\n",
    "        \n",
    "        self.debug                = debug\n",
    "        self.verbose              = verbose\n",
    "        self.path_to_df           = du.get_project_root() + path_to_df\n",
    "        self.df                   = pd.read_csv( self.path_to_df )\n",
    "        self.df                   = dup.cast_to_datetime( self.df )\n",
    "    \n",
    "        self.pandas_system_prompt = self._get_pandas_system_prompt()\n",
    "        \n",
    "        self.response_dict        = None \n",
    "        self.question             = None\n",
    "        \n",
    "    def _get_pandas_system_prompt( self ):\n",
    "        \n",
    "        csv = self.df.head( 3 ).to_csv( header=True, index=False)\n",
    "        csv = csv + self.df.tail( 3 ).to_csv( header=False, index=False )\n",
    "        \n",
    "        pandas_system_prompt = f\"\"\"\n",
    "        You are an expert software engineer working with a pandas dataframe in Python containing calendaring and events information. The name of the dataframe is `df`.\n",
    "\n",
    "        This is the ouput from `print(df.head().to_csv())`, in CSV format:\n",
    "\n",
    "        {csv}\n",
    "        \n",
    "        This is the output from `print(self.df.event_type.value_counts())`:\n",
    "\n",
    "        {self.df.event_type.value_counts()}\n",
    "\n",
    "        As you generate the python code needed to answer the events and calendaring question asked of you below, I want you to:\n",
    "\n",
    "        1) Question: Ask yourself if you understand the question that I am asking you.  Pay attention to the details!\n",
    "        2) Think: Before you do anything, think out loud about what I'm asking you to do, including what are the steps that you will need to take to solve this problem. Be critical of your thought process!\n",
    "        3) Code: Generate a verbatim list of code that you used to arrive at your answer, one line of code per item on the list. The code must be complete, syntactically correct, and capable of runnning to completion. The last line of your code must be the variable `solution`, which represents the answer. Make sure that any filtering you perform matches the question asked of you by the user!\n",
    "        4) Return: Report on the object type of the variable `solution` in your last line of code. Use one word to represent the object type.\n",
    "        5) Explain: Briefly and succinctly explain your code in plain English.\n",
    "        \n",
    "        Format: return your response as a JSON object in the following fields:\n",
    "        {{\n",
    "            \"question\": \"The question, verbatim and without modification, that your code attempts to answer\",\n",
    "            \"thoughts\": \"Your thoughts\",\n",
    "            \"code\": [],\n",
    "            \"return\": \"Object type of the variable `solution`\",\n",
    "            \"explanation\": \"A brief explanation of your code\",\n",
    "        }}\n",
    "\n",
    "        Hint: An event that I have today may have started before today and may end tomorrow or next week, so be careful how you filter on dates.\n",
    "        Hint: When filtering by dates, use `pd.Timestamp( day )` to convert a Python datetime object into a Pandas `datetime64[ns]` value.\n",
    "        Hint: If your solution variable is a dataframe, it should include all columns in the dataframe.\n",
    "        \n",
    "        The question follows shortly, please wait to answer it until you see it.\n",
    "        \"\"\"\n",
    "        if self.debug: print( pandas_system_prompt )\n",
    "        \n",
    "        return pandas_system_prompt\n",
    "    \n",
    "    def run_prompt( self, question ):\n",
    "        \n",
    "        # timer = sw.Stopwatch( \"Running pandas prompt...\" )\n",
    "        self.question      = question\n",
    "        self.response      = ask_chat_gpt_text( self.pandas_system_prompt, self.question, model=GPT_4 )\n",
    "        self.response_dict = json.loads( self.response )\n",
    "        # timer.print( \"Done!\" )\n",
    "        \n",
    "        if self.debug: print( json.dumps( self.response_dict, indent=4 ) )\n",
    "        \n",
    "        return self.response_dict\n",
    "        \n",
    "    def run_code( self ):\n",
    "        \n",
    "        # Let's copy it until we get the code munging right\n",
    "        response_dict_copy = self.response_dict[ \"code\" ][ : ]\n",
    "        \n",
    "        self.code_response = ulc.assemble_and_run_solution(\n",
    "            response_dict_copy, path=\"/src/conf/long-term-memory/events.csv\",\n",
    "            solution_code_returns=response_dict[ \"return\" ], debug=False\n",
    "        )\n",
    "        if self.debug and self.verbose:\n",
    "            du.print_banner( \"Code output\", prepend_nl=True )\n",
    "            for line in self.code_response[ \"output\" ].split( \"\\n\" ):\n",
    "                print( line )\n",
    "                \n",
    "        return self.code_response     \n",
    "    \n",
    "    def format_output( self ):\n",
    "        \n",
    "        preamble     = self.get_formatting_preamble()\n",
    "        instructions = self.get_formatting_instructions()\n",
    "        \n",
    "        self.formatted_output = ask_chat_gpt_text( preamble, instructions, model=GPT_3_5 )\n",
    "        \n",
    "        return self.formatted_output\n",
    "\n",
    "    def get_formatting_preamble( self ):\n",
    "        \n",
    "        rows        = self.code_response[ \"output\" ].split( \"\\n\" )\n",
    "        row_count   = len( rows )\n",
    "        \n",
    "        lines       = []\n",
    "        line_number = 1\n",
    "        \n",
    "        for row in rows:\n",
    "            \n",
    "            lines.append( f\"{line_number}) {row}\" )\n",
    "            line_number += 1\n",
    "            \n",
    "        lines = \"\\n\".join( lines )\n",
    "        \n",
    "        preamble = f\"\"\"\n",
    "        You are an expert in converting raw data into conversational English.\n",
    "        \n",
    "        The following {row_count} rows of JSONL formatted data are the output from a query on a pandas dataframe about events on my calendar. \n",
    "        \n",
    "        JSONL output:\n",
    "        \n",
    "        {lines}\n",
    "        \"\"\"\n",
    "        return preamble\n",
    "    \n",
    "    def get_formatting_instructions( self ):\n",
    "        \n",
    "        instructions = f\"\"\"\n",
    "        Reformat and rephrase the JSONL data that I just showed you in conversational English so that it answers this question: `{self.question}`\n",
    "        \n",
    "        Use this format: \"You have a two hour lunch date with your friend Bob at noon today at Burgerland.\n",
    "        \n",
    "        Each line of the output that you create should contain one event.\n",
    "        If the query returned zero rows of JSONL data, then say \"You have no EVENT_TYPE events today/tomorrow/this week.\"\n",
    "        \"\"\"\n",
    "        return instructions"
   ],
   "metadata": {
    "collapsed": false,
    "ExecuteTime": {
     "end_time": "2023-09-28T22:34:22.520050Z",
     "start_time": "2023-09-28T22:34:22.469112Z"
    }
   },
   "id": "7dccb7c4862a8c77"
  },
  {
   "cell_type": "code",
   "execution_count": 116,
   "outputs": [
    {
     "name": "stdout",
     "output_type": "stream",
     "text": [
      "\n",
      "        You are an expert software engineer working with a pandas dataframe in Python containing calendaring and events information. The name of the dataframe is `df`.\n",
      "\n",
      "        This is the ouput from `print(df.head().to_csv())`, in CSV format:\n",
      "\n",
      "        start_date,end_date,start_time,end_time,event_type,recurrent,recurrence_interval,priority_level,name,relationship,description_who_what_where\n",
      "2023-08-01,2023-08-04,00:00,23:59,Concert,False,,none,Jenny,coworker,Concert of Jenny at the city center\n",
      "2023-08-01,2023-08-01,05:25,17:22,TODO,False,,highest,Gregorio,friend,Send out invitations for the party for Gregorio\n",
      "2023-08-01,2023-08-01,13:27,01:59,Appointment,False,,high,Leroy Ruiz,father,Appointment with Leroy Ruiz at the clinic\n",
      "2023-10-01,2023-10-01,00:00,23:59,Birthday,True,3 day,low,Bob,brother,Bob's birthday party at their favorite bar\n",
      "2023-10-01,2023-10-01,00:00,23:59,Anniversary,True,3 week,highest,Tom Ruiz,brother,Tom Ruiz's anniversary celebration at the park\n",
      "2023-10-01,2023-10-04,00:00,23:59,Concert,False,,highest,John,coworker,Concert of John at the city center\n",
      "\n",
      "        \n",
      "        This is the output from `print(self.df.event_type.value_counts())`:\n",
      "\n",
      "        event_type\n",
      "Conference      24\n",
      "Concert         22\n",
      "Performance     21\n",
      "Appointment     17\n",
      "Anniversary     17\n",
      "Workout         17\n",
      "Birthday        16\n",
      "Workshop        15\n",
      "TODO            14\n",
      "Subscription    14\n",
      "Meeting         12\n",
      "Interview       11\n",
      "Name: count, dtype: int64\n",
      "\n",
      "        As you generate the python code needed to answer the events and calendaring question asked of you below, I want you to:\n",
      "\n",
      "        1) Question: Ask yourself if you understand the question that I am asking you.  Pay attention to the details!\n",
      "        2) Think: Before you do anything, think out loud about what I'm asking you to do, including what are the steps that you will need to take to solve this problem. Be critical of your thought process!\n",
      "        3) Code: Generate a verbatim list of code that you used to arrive at your answer, one line of code per item on the list. The code must be complete, syntactically correct, and capable of runnning to completion. The last line of your code must be the variable `solution`, which represents the answer. Make sure that any filtering you perform matches the question asked of you by the user!\n",
      "        4) Return: Report on the object type of the variable `solution` in your last line of code. Use one word to represent the object type.\n",
      "        5) Explain: Briefly and succinctly explain your code in plain English.\n",
      "        \n",
      "        Format: return your response as a JSON object in the following fields:\n",
      "        {\n",
      "            \"question\": \"The question, verbatim and without modification, that your code attempts to answer\",\n",
      "            \"thoughts\": \"Your thoughts\",\n",
      "            \"code\": [],\n",
      "            \"return\": \"Object type of the variable `solution`\",\n",
      "            \"explanation\": \"A brief explanation of your code\",\n",
      "        }\n",
      "\n",
      "        Hint: An event that I have today may have started before today and may end tomorrow or next week, so be careful how you filter on dates.\n",
      "        Hint: When filtering by dates, use `pd.Timestamp( day )` to convert a Python datetime object into a Pandas `datetime64[ns]` value.\n",
      "        Hint: If your solution variable is a dataframe, it should include all columns in the dataframe.\n",
      "        \n",
      "        The question follows shortly, please wait to answer it until you see it.\n",
      "        \n",
      "Asking ChatGPT [gpt-4-0613] [What todo items do I have on my calendar for this week?]...\n",
      "Asking ChatGPT [gpt-4-0613] [What todo items do I have on my calendar for this week?]... Done! in 23,441 ms\n",
      "\n",
      "{\n",
      "    \"question\": \"What todo items do I have on my calendar for this week?\",\n",
      "    \"thoughts\": \"To answer this question, I need to filter the dataframe for rows where the event_type is 'TODO' and the event's start_date and end_date fall within this week. I will use the current date to determine the start and end of the week. I will then return the filtered dataframe.\",\n",
      "    \"code\": [\n",
      "        \"import pandas as pd\",\n",
      "        \"from datetime import datetime, timedelta\",\n",
      "        \"today = datetime.today()\",\n",
      "        \"start_of_week = today - timedelta(days=today.weekday())\",\n",
      "        \"end_of_week = start_of_week + timedelta(days=6)\",\n",
      "        \"start_of_week = pd.Timestamp(start_of_week)\",\n",
      "        \"end_of_week = pd.Timestamp(end_of_week)\",\n",
      "        \"df['start_date'] = pd.to_datetime(df['start_date'])\",\n",
      "        \"df['end_date'] = pd.to_datetime(df['end_date'])\",\n",
      "        \"solution = df[(df['event_type'] == 'TODO') & (df['start_date'] <= end_of_week) & (df['end_date'] >= start_of_week)]\"\n",
      "    ],\n",
      "    \"return\": \"DataFrame\",\n",
      "    \"explanation\": \"The code first calculates the start and end of the current week. It then converts these dates to pandas Timestamps. It also converts the start_date and end_date columns in the dataframe to datetime format. Finally, it filters the dataframe for rows where the event_type is 'TODO' and the event's start_date and end_date fall within the current week.\"\n",
      "}\n"
     ]
    }
   ],
   "source": [
    "agent         = CalendaringAgent( path_to_df=\"/src/conf/long-term-memory/events.csv\", debug=True )\n",
    "\n",
    "response_dict = agent.run_prompt( \"What todo items do I have on my calendar for this week?\" )\n",
    "# print( response_dict )"
   ],
   "metadata": {
    "collapsed": false,
    "ExecuteTime": {
     "end_time": "2023-09-28T22:35:04.216558Z",
     "start_time": "2023-09-28T22:34:40.754855Z"
    }
   },
   "id": "cc28b3c862c436f4"
  },
  {
   "cell_type": "code",
   "execution_count": 126,
   "outputs": [
    {
     "data": {
      "text/plain": "'{\"start_date\":1695513600000,\"end_date\":1696032000000,\"start_time\":\"12:01\",\"end_time\":\"04:55\",\"event_type\":\"TODO\",\"recurrent\":false,\"recurrence_interval\":null,\"priority_level\":\"medium\",\"name\":\"Juan\",\"relationship\":\"neighbor\",\"description_who_what_where\":\"Prepare presentation for next week\\'s meeting for Juan (neighbor)\"}\\n{\"start_date\":1695772800000,\"end_date\":1695772800000,\"start_time\":\"18:55\",\"end_time\":\"05:58\",\"event_type\":\"TODO\",\"recurrent\":false,\"recurrence_interval\":null,\"priority_level\":\"low\",\"name\":\"Pablo\",\"relationship\":\"friend\",\"description_who_what_where\":\"Prepare presentation for next week\\'s meeting for Pablo\"}\\n{\"start_date\":1695945600000,\"end_date\":1696464000000,\"start_time\":\"16:58\",\"end_time\":\"13:49\",\"event_type\":\"TODO\",\"recurrent\":false,\"recurrence_interval\":null,\"priority_level\":\"medium\",\"name\":\"Juan\",\"relationship\":\"neighbor\",\"description_who_what_where\":\"Renew gym membership for Juan (neighbor)\"}'"
     },
     "execution_count": 126,
     "metadata": {},
     "output_type": "execute_result"
    }
   ],
   "source": [
    "%autoreload\n",
    "code_response = agent.run_code()\n",
    "code_response[ \"output\" ]"
   ],
   "metadata": {
    "collapsed": false,
    "ExecuteTime": {
     "end_time": "2023-09-28T22:44:25.440435Z",
     "start_time": "2023-09-28T22:44:25.164152Z"
    }
   },
   "id": "8631eff6791e5cad"
  },
  {
   "cell_type": "code",
   "execution_count": 133,
   "outputs": [
    {
     "name": "stdout",
     "output_type": "stream",
     "text": [
      "\n",
      "        You are an expert in converting raw data into conversational English.\n",
      "        \n",
      "        The following 3 rows of JSONL formatted data are the output from a query on a pandas dataframe about events on my calendar. \n",
      "        \n",
      "        JSONL output:\n",
      "        \n",
      "        1) {\"start_date\":1695513600000,\"end_date\":1696032000000,\"start_time\":\"12:01\",\"end_time\":\"04:55\",\"event_type\":\"TODO\",\"recurrent\":false,\"recurrence_interval\":null,\"priority_level\":\"medium\",\"name\":\"Juan\",\"relationship\":\"neighbor\",\"description_who_what_where\":\"Prepare presentation for next week's meeting for Juan (neighbor)\"}\n",
      "2) {\"start_date\":1695772800000,\"end_date\":1695772800000,\"start_time\":\"18:55\",\"end_time\":\"05:58\",\"event_type\":\"TODO\",\"recurrent\":false,\"recurrence_interval\":null,\"priority_level\":\"low\",\"name\":\"Pablo\",\"relationship\":\"friend\",\"description_who_what_where\":\"Prepare presentation for next week's meeting for Pablo\"}\n",
      "3) {\"start_date\":1695945600000,\"end_date\":1696464000000,\"start_time\":\"16:58\",\"end_time\":\"13:49\",\"event_type\":\"TODO\",\"recurrent\":false,\"recurrence_interval\":null,\"priority_level\":\"medium\",\"name\":\"Juan\",\"relationship\":\"neighbor\",\"description_who_what_where\":\"Renew gym membership for Juan (neighbor)\"}\n",
      "        \n"
     ]
    }
   ],
   "source": [
    "%autoreload\n",
    "for line in agent.get_formatting_preamble().split( \"\\n\" ):\n",
    "    print( line )"
   ],
   "metadata": {
    "collapsed": false,
    "ExecuteTime": {
     "end_time": "2023-09-28T23:10:33.441866Z",
     "start_time": "2023-09-28T23:10:33.395446Z"
    }
   },
   "id": "8e8f375945563557"
  },
  {
   "cell_type": "code",
   "execution_count": 134,
   "outputs": [
    {
     "name": "stdout",
     "output_type": "stream",
     "text": [
      "\n",
      "        Reformat and rephrase the JSONL data that I just showed you in conversational English so that it answers this question: `What todo items do I have on my calendar for this week?`\n",
      "        \n",
      "        Use this format: \"You have a two hour lunch date with your friend Bob at noon today at Burgerland.\n",
      "        \n",
      "        Each line of the output that you create should contain one event.\n",
      "        If the query returned zero rows of JSONL data, then say \"You have no EVENT_TYPE events today/tomorrow/this week.\"\n",
      "        \n"
     ]
    }
   ],
   "source": [
    "for line in agent.get_formatting_instructions().split( \"\\n\" ):\n",
    "    print( line )"
   ],
   "metadata": {
    "collapsed": false,
    "ExecuteTime": {
     "end_time": "2023-09-28T23:11:16.621446Z",
     "start_time": "2023-09-28T23:11:16.585842Z"
    }
   },
   "id": "a399a6c392b0abce"
  },
  {
   "cell_type": "code",
   "execution_count": 131,
   "outputs": [
    {
     "name": "stdout",
     "output_type": "stream",
     "text": [
      "Asking ChatGPT [gpt-3.5-turbo-0613]...\n",
      "Asking ChatGPT [gpt-3.5-turbo-0613]... in 7,206 ms\n"
     ]
    },
    {
     "data": {
      "text/plain": "\"You have a medium priority TODO item on your calendar for this week. It is to prepare a presentation for next week's meeting for your neighbor Juan. The event starts on Monday, January 24th at 12:01 PM and ends on Friday, January 28th at 4:55 AM.\\n\\nYou have a low priority TODO item on your calendar for this week. It is to prepare a presentation for next week's meeting for your friend Pablo. The event starts and ends on Tuesday, January 25th. It starts at 6:55 PM and ends at 5:58 AM.\\n\\nYou have a medium priority TODO item on your calendar for this week. It is to renew your gym membership for your neighbor Juan. The event starts on Thursday, January 27th at 4:58 PM and ends on Monday, January 31st at 1:49 PM.\""
     },
     "execution_count": 131,
     "metadata": {},
     "output_type": "execute_result"
    }
   ],
   "source": [
    "agent.format_output()"
   ],
   "metadata": {
    "collapsed": false,
    "ExecuteTime": {
     "end_time": "2023-09-28T22:45:15.607482Z",
     "start_time": "2023-09-28T22:45:08.391719Z"
    }
   },
   "id": "df1ecff5967d5cf2"
  },
  {
   "cell_type": "code",
   "execution_count": 132,
   "outputs": [
    {
     "name": "stdout",
     "output_type": "stream",
     "text": [
      "You have a medium priority TODO item on your calendar for this week. It is to prepare a presentation for next week's meeting for your neighbor Juan. The event starts on Monday, January 24th at 12:01 PM and ends on Friday, January 28th at 4:55 AM.\n",
      "\n",
      "You have a low priority TODO item on your calendar for this week. It is to prepare a presentation for next week's meeting for your friend Pablo. The event starts and ends on Tuesday, January 25th. It starts at 6:55 PM and ends at 5:58 AM.\n",
      "\n",
      "You have a medium priority TODO item on your calendar for this week. It is to renew your gym membership for your neighbor Juan. The event starts on Thursday, January 27th at 4:58 PM and ends on Monday, January 31st at 1:49 PM.\n"
     ]
    }
   ],
   "source": [
    "for line in agent.formatted_output.split( \"\\n\" ): \n",
    "    print( line )"
   ],
   "metadata": {
    "collapsed": false,
    "ExecuteTime": {
     "end_time": "2023-09-28T22:45:15.608444Z",
     "start_time": "2023-09-28T22:45:15.603680Z"
    }
   },
   "id": "21d2873963b8a960"
  },
  {
   "cell_type": "code",
   "execution_count": null,
   "outputs": [],
   "source": [],
   "metadata": {
    "collapsed": false
   },
   "id": "1897f5d29385afe5"
  }
 ],
 "metadata": {
  "kernelspec": {
   "display_name": "Python 3",
   "language": "python",
   "name": "python3"
  },
  "language_info": {
   "codemirror_mode": {
    "name": "ipython",
    "version": 2
   },
   "file_extension": ".py",
   "mimetype": "text/x-python",
   "name": "python",
   "nbconvert_exporter": "python",
   "pygments_lexer": "ipython2",
   "version": "2.7.6"
  }
 },
 "nbformat": 4,
 "nbformat_minor": 5
}
