{
 "cells": [
  {
   "cell_type": "code",
   "execution_count": 1,
   "outputs": [
    {
     "name": "stdout",
     "output_type": "stream",
     "text": [
      "Requirement already satisfied: wandb in /usr/local/lib/python3.10/dist-packages (0.15.10)\r\n",
      "Requirement already satisfied: setproctitle in /usr/local/lib/python3.10/dist-packages (from wandb) (1.3.2)\r\n",
      "Requirement already satisfied: pathtools in /usr/local/lib/python3.10/dist-packages (from wandb) (0.1.2)\r\n",
      "Requirement already satisfied: GitPython!=3.1.29,>=1.0.0 in /usr/local/lib/python3.10/dist-packages (from wandb) (3.1.31)\r\n",
      "Requirement already satisfied: setuptools in /usr/lib/python3/dist-packages (from wandb) (59.6.0)\r\n",
      "Requirement already satisfied: psutil>=5.0.0 in /usr/local/lib/python3.10/dist-packages (from wandb) (5.9.4)\r\n",
      "Requirement already satisfied: Click!=8.0.0,>=7.1 in /usr/local/lib/python3.10/dist-packages (from wandb) (8.1.3)\r\n",
      "Requirement already satisfied: sentry-sdk>=1.0.0 in /usr/local/lib/python3.10/dist-packages (from wandb) (1.30.0)\r\n",
      "Requirement already satisfied: PyYAML in /usr/local/lib/python3.10/dist-packages (from wandb) (6.0)\r\n",
      "Requirement already satisfied: requests<3,>=2.0.0 in /usr/local/lib/python3.10/dist-packages (from wandb) (2.28.2)\r\n",
      "Requirement already satisfied: protobuf!=4.21.0,<5,>=3.19.0 in /usr/local/lib/python3.10/dist-packages (from wandb) (3.19.6)\r\n",
      "Requirement already satisfied: appdirs>=1.4.3 in /usr/local/lib/python3.10/dist-packages (from wandb) (1.4.4)\r\n",
      "Requirement already satisfied: docker-pycreds>=0.4.0 in /usr/local/lib/python3.10/dist-packages (from wandb) (0.4.0)\r\n",
      "Requirement already satisfied: six>=1.4.0 in /usr/local/lib/python3.10/dist-packages (from docker-pycreds>=0.4.0->wandb) (1.16.0)\r\n",
      "Requirement already satisfied: gitdb<5,>=4.0.1 in /usr/local/lib/python3.10/dist-packages (from GitPython!=3.1.29,>=1.0.0->wandb) (4.0.10)\r\n",
      "Requirement already satisfied: charset-normalizer<4,>=2 in /usr/local/lib/python3.10/dist-packages (from requests<3,>=2.0.0->wandb) (3.0.1)\r\n",
      "Requirement already satisfied: idna<4,>=2.5 in /usr/local/lib/python3.10/dist-packages (from requests<3,>=2.0.0->wandb) (3.4)\r\n",
      "Requirement already satisfied: certifi>=2017.4.17 in /usr/local/lib/python3.10/dist-packages (from requests<3,>=2.0.0->wandb) (2022.12.7)\r\n",
      "Requirement already satisfied: urllib3<1.27,>=1.21.1 in /usr/local/lib/python3.10/dist-packages (from requests<3,>=2.0.0->wandb) (1.26.14)\r\n",
      "Requirement already satisfied: smmap<6,>=3.0.1 in /usr/local/lib/python3.10/dist-packages (from gitdb<5,>=4.0.1->GitPython!=3.1.29,>=1.0.0->wandb) (5.0.0)\r\n",
      "\u001B[33mWARNING: Running pip as the 'root' user can result in broken permissions and conflicting behaviour with the system package manager. It is recommended to use a virtual environment instead: https://pip.pypa.io/warnings/venv\u001B[0m\u001B[33m\r\n",
      "\u001B[0m\r\n",
      "\u001B[1m[\u001B[0m\u001B[34;49mnotice\u001B[0m\u001B[1;39;49m]\u001B[0m\u001B[39;49m A new release of pip is available: \u001B[0m\u001B[31;49m23.0.1\u001B[0m\u001B[39;49m -> \u001B[0m\u001B[32;49m23.2.1\u001B[0m\r\n",
      "\u001B[1m[\u001B[0m\u001B[34;49mnotice\u001B[0m\u001B[1;39;49m]\u001B[0m\u001B[39;49m To update, run: \u001B[0m\u001B[32;49mpython3 -m pip install --upgrade pip\u001B[0m\r\n"
     ]
    }
   ],
   "source": [
    "# ! pip install python-dotenv\n",
    "# ! pip install langchain --upgrade --no-cache-dir\n",
    "! pip install wandb --upgrade --no-cache-dir"
   ],
   "metadata": {
    "collapsed": false,
    "ExecuteTime": {
     "end_time": "2023-09-07T21:22:52.296144Z",
     "start_time": "2023-09-07T21:22:50.033867Z"
    }
   },
   "id": "b8665cade92a3a56"
  },
  {
   "cell_type": "code",
   "execution_count": 4,
   "outputs": [],
   "source": [
    "%load_ext autoreload"
   ],
   "metadata": {
    "collapsed": false,
    "ExecuteTime": {
     "end_time": "2023-09-08T14:24:04.254070Z",
     "start_time": "2023-09-08T14:24:04.242843Z"
    }
   },
   "id": "14c1efa189e09521"
  },
  {
   "cell_type": "code",
   "execution_count": 5,
   "outputs": [
    {
     "name": "stdout",
     "output_type": "stream",
     "text": [
      "['/Applications/PyCharm.app/Contents/plugins/python/helpers-pro/jupyter_debug', '/Applications/PyCharm.app/Contents/plugins/python/helpers/pydev', '/var', '/usr/lib/python310.zip', '/usr/lib/python3.10', '/usr/lib/python3.10/lib-dynload', '', '/usr/local/lib/python3.10/dist-packages', '/usr/lib/python3/dist-packages', '/var/genie-in-the-box/src/lib']\n",
      "Added [/var/genie-in-the-box/src] to sys.path\n"
     ]
    }
   ],
   "source": [
    "%autoreload\n",
    "\n",
    "import sys\n",
    "import os\n",
    "import json\n",
    "\n",
    "os.environ[ \"LANGCHAIN_WANDB_TRACING\" ] = \"true\"\n",
    "# wandb documentation to configure wandb using env variables\n",
    "# https://docs.wandb.ai/guides/track/advanced/environment-variables\n",
    "# here we are configuring the wandb project name\n",
    "os.environ[ \"WANDB_PROJECT\" ] = \"langchain-dataframe-agent\"\n",
    "\n",
    "path = \"/var/genie-in-the-box/src/lib\"\n",
    "if path not in sys.path:\n",
    "    sys.path.append( path )\n",
    "else:\n",
    "    print( f\"[{path}] already in sys.path\" )\n",
    "\n",
    "print( sys.path )\n",
    "\n",
    "import util as du\n",
    "\n",
    "path = \"/var/genie-in-the-box/src\"\n",
    "du.add_to_path( path )\n",
    "\n",
    "import util_stopwatch as sw\n",
    "import util_langchain as ulc\n",
    "import genie_client as gc\n",
    "\n",
    "from langchain.schema import (\n",
    "    AIMessage,\n",
    "    HumanMessage,\n",
    "    SystemMessage\n",
    ")\n",
    "import langchain\n",
    "from langchain.chat_models import ChatOpenAI\n",
    "from langchain.memory import ConversationBufferMemory\n",
    "from langchain.chains import ConversationalRetrievalChain\n",
    "from langchain.agents.agent_toolkits.pandas.base import create_pandas_dataframe_agent\n",
    "\n",
    "from langchain import PromptTemplate\n",
    "from langchain import LLMChain\n",
    "\n",
    "import pandas as pd\n",
    "\n",
    "from IPython.display import display, Markdown\n"
   ],
   "metadata": {
    "collapsed": false,
    "ExecuteTime": {
     "end_time": "2023-09-08T14:24:06.551951Z",
     "start_time": "2023-09-08T14:24:05.190359Z"
    }
   },
   "id": "e4a94b9494513834"
  },
  {
   "cell_type": "code",
   "execution_count": 116,
   "outputs": [],
   "source": [
    "pandas_prompt_template = \"\"\"\n",
    "You are working with a pandas dataframe in Python. The name of the dataframe is `df`.\n",
    "\n",
    "This is the ouput from `print(df.head().to_csv())`, in CSV format:\n",
    "\n",
    "\"start_date\",\"end_date\",\"start_time\",\"end_time\",\"event_type\",\"recurrent\",\"recurrence_interval\",\"priority_level\",\"name\",\"relationship\",\"description_who_what_where\"\n",
    "\"2023-07-01\",\"2023-07-04\",\"00:00\",\"23:59\",\"Concert\",False,\"\",\"none\",\"Jenny\",\"coworker\",\"Concert of Jenny at the city center\"\n",
    "\"2023-07-01\",\"2023-07-01\",\"05:25\",\"17:22\",\"TODO\",False,\"\",\"highest\",\"Gregorio\",\"friend\",\"Send out invitations for the party for Gregorio\"\n",
    "\"2023-07-01\",\"2023-07-01\",\"13:27\",\"01:59\",\"Appointment\",False,\"\",\"high\",\"Leroy Ruiz\",\"father\",\"Appointment with Leroy Ruiz at the clinic\"\n",
    "\"2023-07-03\",\"2023-07-04\",\"00:00\",\"23:59\",\"Subscription\",True,\"1 year\",\"highest\",\"Leroy Ruiz\",\"father\",\"Renewal of Leroy Ruiz's subscription\"\n",
    "\"2023-07-03\",\"2023-07-04\",\"00:00\",\"23:59\",\"Anniversary\",True,\"4 week\",\"none\",\"Juan\",\"neighbor\",\"Juan's anniversary celebration at the park\"\n",
    "\"2023-07-04\",\"2023-07-04\",\"00:00\",\"23:59\",\"Anniversary\",True,\"4 week\",\"medium\",\"Leroy Ruiz\",\"father\",\"Leroy Ruiz's anniversary celebration at the park\"\n",
    "\n",
    "This is the from `print(df.dtypes)`:\n",
    "\n",
    "start_date                    datetime64[ns]\n",
    "end_date                      datetime64[ns]\n",
    "start_time                            object\n",
    "end_time                              object\n",
    "event_type                            object\n",
    "recurrent                               bool\n",
    "recurrence_interval                   object\n",
    "priority_level                        object\n",
    "name                                  object\n",
    "relationship                          object\n",
    "description_who_what_where            object\n",
    "dtype: object\n",
    "\n",
    "As you generate the python code needed to answer the question asked of you below, I want you to:\n",
    "\n",
    "1) Question: Ask yourself If you understand the question that I am asking you?\n",
    "2) Think: Before you do anything, think out loud about what I'm asking you to do, including what are the steps you need to take to solve this problem? What are the things you need to consider? Be critical of your thought process!\n",
    "3) Code: Generate a verbatim list of code that you used to arrive at your answer, one line of code per item on the list. The code must be complete, syntactically correct, and run to completion. The last line of your code must be the variable `solution`, which represents the answer.\n",
    "4) Return: Report on the object type of the variable `solution` in your last line of code.\n",
    "5) Explain: Briefly and succinctly explain your code in plain English.\n",
    "6) Answer: Answer the question in a short, simple, terse sentence.\n",
    "\n",
    "Format: return your response as a JSON object in the following fields:\n",
    "{{\n",
    "    \"question\": \"the question that your code answers\",\n",
    "    \"thoughts\": \"your thoughts\",\n",
    "    \"code\": [],\n",
    "    \"return\": \"Object type of the variable `solution`\",\n",
    "    \"explanation\": \"your brief explanation of your code\",\n",
    "    \"answer\": \"your very succinct answer, in conversational English, one sentence only.\"    \n",
    "}}\n",
    "\n",
    "Begin!\n",
    "\n",
    "Question: {question}\n",
    "\"\"\""
   ],
   "metadata": {
    "collapsed": false,
    "ExecuteTime": {
     "end_time": "2023-09-08T19:11:48.506958Z",
     "start_time": "2023-09-08T19:11:48.051166Z"
    }
   },
   "id": "8d1a455d75c4458b"
  },
  {
   "cell_type": "code",
   "execution_count": 117,
   "outputs": [],
   "source": [
    "langchain.debug = True\n",
    "langchain.verbose = True\n",
    "\n",
    "llm_4 = ChatOpenAI( model_name=\"gpt-4-0613\", temperature=0.0 )\n",
    "memory = ConversationBufferMemory( memory_key=\"chat_history\", return_messages=True, verbose=True )\n",
    "raw_df = pd.read_csv( du.get_project_root() + \"/src/conf/long-term-memory/events.csv\" )\n",
    "\n",
    "df_agent = create_pandas_dataframe_agent( llm_4, raw_df, verbose=True )\n",
    "\n",
    "prompt = PromptTemplate(\n",
    "    template=pandas_prompt_template,\n",
    "    input_variables=[ \"question\" ]\n",
    ")\n",
    "llm_chain = LLMChain(\n",
    "    prompt=prompt,\n",
    "    llm=llm_4\n",
    ")\n",
    "df_agent.memory = memory"
   ],
   "metadata": {
    "collapsed": false,
    "ExecuteTime": {
     "end_time": "2023-09-08T19:11:50.981642Z",
     "start_time": "2023-09-08T19:11:50.959538Z"
    }
   },
   "id": "95185c545cf33d54"
  },
  {
   "cell_type": "code",
   "execution_count": 157,
   "outputs": [
    {
     "name": "stdout",
     "output_type": "stream",
     "text": [
      "\n",
      "    Question: What events do I have today?  \n",
      "    \n",
      "    Hint: An event that I have today may have started before today and may end tomorrow or next week, so be careful how you filter on dates.\n",
      "    Hint: When filtering by dates, use `pd.Timestamp( day )` to convert a Python datetime object into a Pandas `datetime64[ns]` value.\n",
      "    Hint: If your code returns any records, they should include all columns in the dataframe.\n",
      "    \n"
     ]
    }
   ],
   "source": [
    "def get_question_and_coda( event_query ):\n",
    "    question_plus_coda_template = \"\"\"\n",
    "    Question: {event_query}  \n",
    "    \n",
    "    Hint: An event that I have today may have started before today and may end tomorrow or next week, so be careful how you filter on dates.\n",
    "    Hint: When filtering by dates, use `pd.Timestamp( day )` to convert a Python datetime object into a Pandas `datetime64[ns]` value.\n",
    "    Hint: If your code returns any records, they should include all columns in the dataframe.\n",
    "    \"\"\"\n",
    "    # You must verify that your code runs to completion, once it does, return your response as a JSON string containing only these three fields: \n",
    "    # 1) answer: A simple, terse answer to the question '{event_query}'\n",
    "    # 2) code: The Python code you generated in python list form, one line of code per item in the list, and \n",
    "    # 3) explanation: A brief explanation as to how the code works\"\"\"\n",
    "    \n",
    "    return question_plus_coda_template.format( event_query=event_query )\n",
    "\n",
    "\n",
    "event_query = \"What events do I have today?\"\n",
    "question = get_question_and_coda( event_query )\n",
    "\n",
    "for line in question.split( \"\\n\" ):\n",
    "    print( line )\n"
   ],
   "metadata": {
    "collapsed": false,
    "ExecuteTime": {
     "end_time": "2023-09-09T00:10:39.793176Z",
     "start_time": "2023-09-09T00:10:39.787749Z"
    }
   },
   "id": "9dc4c544beaaef2c"
  },
  {
   "cell_type": "code",
   "execution_count": 158,
   "outputs": [
    {
     "name": "stderr",
     "output_type": "stream",
     "text": [
      "Retrying langchain.chat_models.openai.ChatOpenAI.completion_with_retry.<locals>._completion_with_retry in 4.0 seconds as it raised APIConnectionError: Error communicating with OpenAI: ('Connection aborted.', RemoteDisconnected('Remote end closed connection without response')).\n"
     ]
    },
    {
     "name": "stdout",
     "output_type": "stream",
     "text": [
      "Running pandas prompt...\n",
      "\u001B[32;1m\u001B[1;3m[chain/start]\u001B[0m \u001B[1m[1:chain:LLMChain] Entering Chain run with input:\n",
      "\u001B[0m{\n",
      "  \"question\": \"\\n    Question: What events do I have today?  \\n    \\n    Hint: An event that I have today may have started before today and may end tomorrow or next week, so be careful how you filter on dates.\\n    Hint: When filtering by dates, use `pd.Timestamp( day )` to convert a Python datetime object into a Pandas `datetime64[ns]` value.\\n    Hint: If your code returns any records, they should include all columns in the dataframe.\\n    \"\n",
      "}\n",
      "\u001B[32;1m\u001B[1;3m[llm/start]\u001B[0m \u001B[1m[1:chain:LLMChain > 2:llm:ChatOpenAI] Entering LLM run with input:\n",
      "\u001B[0m{\n",
      "  \"prompts\": [\n",
      "    \"Human: \\nYou are working with a pandas dataframe in Python. The name of the dataframe is `df`.\\n\\nThis is the ouput from `print(df.head().to_csv())`, in CSV format:\\n\\n\\\"start_date\\\",\\\"end_date\\\",\\\"start_time\\\",\\\"end_time\\\",\\\"event_type\\\",\\\"recurrent\\\",\\\"recurrence_interval\\\",\\\"priority_level\\\",\\\"name\\\",\\\"relationship\\\",\\\"description_who_what_where\\\"\\n\\\"2023-07-01\\\",\\\"2023-07-04\\\",\\\"00:00\\\",\\\"23:59\\\",\\\"Concert\\\",False,\\\"\\\",\\\"none\\\",\\\"Jenny\\\",\\\"coworker\\\",\\\"Concert of Jenny at the city center\\\"\\n\\\"2023-07-01\\\",\\\"2023-07-01\\\",\\\"05:25\\\",\\\"17:22\\\",\\\"TODO\\\",False,\\\"\\\",\\\"highest\\\",\\\"Gregorio\\\",\\\"friend\\\",\\\"Send out invitations for the party for Gregorio\\\"\\n\\\"2023-07-01\\\",\\\"2023-07-01\\\",\\\"13:27\\\",\\\"01:59\\\",\\\"Appointment\\\",False,\\\"\\\",\\\"high\\\",\\\"Leroy Ruiz\\\",\\\"father\\\",\\\"Appointment with Leroy Ruiz at the clinic\\\"\\n\\\"2023-07-03\\\",\\\"2023-07-04\\\",\\\"00:00\\\",\\\"23:59\\\",\\\"Subscription\\\",True,\\\"1 year\\\",\\\"highest\\\",\\\"Leroy Ruiz\\\",\\\"father\\\",\\\"Renewal of Leroy Ruiz's subscription\\\"\\n\\\"2023-07-03\\\",\\\"2023-07-04\\\",\\\"00:00\\\",\\\"23:59\\\",\\\"Anniversary\\\",True,\\\"4 week\\\",\\\"none\\\",\\\"Juan\\\",\\\"neighbor\\\",\\\"Juan's anniversary celebration at the park\\\"\\n\\\"2023-07-04\\\",\\\"2023-07-04\\\",\\\"00:00\\\",\\\"23:59\\\",\\\"Anniversary\\\",True,\\\"4 week\\\",\\\"medium\\\",\\\"Leroy Ruiz\\\",\\\"father\\\",\\\"Leroy Ruiz's anniversary celebration at the park\\\"\\n\\nThis is the from `print(df.dtypes)`:\\n\\nstart_date                    datetime64[ns]\\nend_date                      datetime64[ns]\\nstart_time                            object\\nend_time                              object\\nevent_type                            object\\nrecurrent                               bool\\nrecurrence_interval                   object\\npriority_level                        object\\nname                                  object\\nrelationship                          object\\ndescription_who_what_where            object\\ndtype: object\\n\\nAs you generate the python code needed to answer the question asked of you below, I want you to:\\n\\n1) Question: Ask yourself If you understand the question that I am asking you?\\n2) Think: Before you do anything, think out loud about what I'm asking you to do, including what are the steps you need to take to solve this problem? What are the things you need to consider? Be critical of your thought process!\\n3) Code: Generate a verbatim list of code that you used to arrive at your answer, one line of code per item on the list. The code must be complete, syntactically correct, and run to completion. The last line of your code must be the variable `solution`, which represents the answer.\\n4) Return: Report on the object type of the variable `solution` in your last line of code.\\n5) Explain: Briefly and succinctly explain your code in plain English.\\n6) Answer: Answer the question in a short, simple, terse sentence.\\n\\nFormat: return your response as a JSON object in the following fields:\\n{\\n    \\\"question\\\": \\\"the question that your code answers\\\",\\n    \\\"thoughts\\\": \\\"your thoughts\\\",\\n    \\\"code\\\": [],\\n    \\\"return\\\": \\\"Object type of the variable `solution`\\\",\\n    \\\"explanation\\\": \\\"your brief explanation of your code\\\",\\n    \\\"answer\\\": \\\"your very succinct answer, in conversational English, one sentence only.\\\"    \\n}\\n\\nBegin!\\n\\nQuestion: \\n    Question: What events do I have today?  \\n    \\n    Hint: An event that I have today may have started before today and may end tomorrow or next week, so be careful how you filter on dates.\\n    Hint: When filtering by dates, use `pd.Timestamp( day )` to convert a Python datetime object into a Pandas `datetime64[ns]` value.\\n    Hint: If your code returns any records, they should include all columns in the dataframe.\"\n",
      "  ]\n",
      "}\n",
      "\u001B[36;1m\u001B[1;3m[llm/end]\u001B[0m \u001B[1m[1:chain:LLMChain > 2:llm:ChatOpenAI] [20.43s] Exiting LLM run with output:\n",
      "\u001B[0m{\n",
      "  \"generations\": [\n",
      "    [\n",
      "      {\n",
      "        \"text\": \"{\\n    \\\"question\\\": \\\"What events do I have today?\\\",\\n    \\\"thoughts\\\": \\\"To answer this question, I need to filter the dataframe to only include events that are happening today. This means that the event's start date is on or before today and the end date is on or after today. I will use the pandas Timestamp function to convert today's date into a format that can be compared with the start_date and end_date columns in the dataframe.\\\",\\n    \\\"code\\\": [\\n        \\\"import pandas as pd\\\",\\n        \\\"today = pd.Timestamp('today').normalize()\\\",\\n        \\\"solution = df[(df['start_date'] <= today) & (df['end_date'] >= today)]\\\"\\n    ],\\n    \\\"return\\\": \\\"pandas.core.frame.DataFrame\\\",\\n    \\\"explanation\\\": \\\"First, I import the pandas library. Then, I create a variable 'today' and assign it the current date, normalized to remove the time component. Finally, I filter the dataframe to only include rows where the start date is on or before today and the end date is on or after today. The result is assigned to the variable 'solution'.\\\",\\n    \\\"answer\\\": \\\"The events I have today are represented by the rows in the 'solution' dataframe.\\\"\\n}\",\n",
      "        \"generation_info\": {\n",
      "          \"finish_reason\": \"stop\"\n",
      "        },\n",
      "        \"message\": {\n",
      "          \"lc\": 1,\n",
      "          \"type\": \"constructor\",\n",
      "          \"id\": [\n",
      "            \"langchain\",\n",
      "            \"schema\",\n",
      "            \"messages\",\n",
      "            \"AIMessage\"\n",
      "          ],\n",
      "          \"kwargs\": {\n",
      "            \"content\": \"{\\n    \\\"question\\\": \\\"What events do I have today?\\\",\\n    \\\"thoughts\\\": \\\"To answer this question, I need to filter the dataframe to only include events that are happening today. This means that the event's start date is on or before today and the end date is on or after today. I will use the pandas Timestamp function to convert today's date into a format that can be compared with the start_date and end_date columns in the dataframe.\\\",\\n    \\\"code\\\": [\\n        \\\"import pandas as pd\\\",\\n        \\\"today = pd.Timestamp('today').normalize()\\\",\\n        \\\"solution = df[(df['start_date'] <= today) & (df['end_date'] >= today)]\\\"\\n    ],\\n    \\\"return\\\": \\\"pandas.core.frame.DataFrame\\\",\\n    \\\"explanation\\\": \\\"First, I import the pandas library. Then, I create a variable 'today' and assign it the current date, normalized to remove the time component. Finally, I filter the dataframe to only include rows where the start date is on or before today and the end date is on or after today. The result is assigned to the variable 'solution'.\\\",\\n    \\\"answer\\\": \\\"The events I have today are represented by the rows in the 'solution' dataframe.\\\"\\n}\",\n",
      "            \"additional_kwargs\": {}\n",
      "          }\n",
      "        }\n",
      "      }\n",
      "    ]\n",
      "  ],\n",
      "  \"llm_output\": {\n",
      "    \"token_usage\": {\n",
      "      \"prompt_tokens\": 843,\n",
      "      \"completion_tokens\": 255,\n",
      "      \"total_tokens\": 1098\n",
      "    },\n",
      "    \"model_name\": \"gpt-4-0613\"\n",
      "  },\n",
      "  \"run\": null\n",
      "}\n",
      "\u001B[36;1m\u001B[1;3m[chain/end]\u001B[0m \u001B[1m[1:chain:LLMChain] [20.43s] Exiting Chain run with output:\n",
      "\u001B[0m{\n",
      "  \"text\": \"{\\n    \\\"question\\\": \\\"What events do I have today?\\\",\\n    \\\"thoughts\\\": \\\"To answer this question, I need to filter the dataframe to only include events that are happening today. This means that the event's start date is on or before today and the end date is on or after today. I will use the pandas Timestamp function to convert today's date into a format that can be compared with the start_date and end_date columns in the dataframe.\\\",\\n    \\\"code\\\": [\\n        \\\"import pandas as pd\\\",\\n        \\\"today = pd.Timestamp('today').normalize()\\\",\\n        \\\"solution = df[(df['start_date'] <= today) & (df['end_date'] >= today)]\\\"\\n    ],\\n    \\\"return\\\": \\\"pandas.core.frame.DataFrame\\\",\\n    \\\"explanation\\\": \\\"First, I import the pandas library. Then, I create a variable 'today' and assign it the current date, normalized to remove the time component. Finally, I filter the dataframe to only include rows where the start date is on or before today and the end date is on or after today. The result is assigned to the variable 'solution'.\\\",\\n    \\\"answer\\\": \\\"The events I have today are represented by the rows in the 'solution' dataframe.\\\"\\n}\"\n",
      "}\n",
      "Running pandas prompt... Done! in 20 seconds\n"
     ]
    }
   ],
   "source": [
    "timer = sw.Stopwatch( \"Running pandas prompt...\" )\n",
    "event_query = \"What events do I have today?\"\n",
    "question = get_question_and_coda( event_query )\n",
    "my_response = llm_chain.run( question=question )\n",
    "timer.print( \"Done!\" )"
   ],
   "metadata": {
    "collapsed": false,
    "ExecuteTime": {
     "end_time": "2023-09-09T00:11:17.184452Z",
     "start_time": "2023-09-09T00:10:56.743485Z"
    }
   },
   "id": "70d619c76c79198b"
  },
  {
   "cell_type": "code",
   "execution_count": 166,
   "outputs": [
    {
     "data": {
      "text/plain": "{'question': 'What events do I have today?',\n 'thoughts': \"To answer this question, I need to filter the dataframe to only include events that are happening today. This means that the event's start date is on or before today and the end date is on or after today. I will use the pandas Timestamp function to convert today's date into a format that can be compared with the start_date and end_date columns in the dataframe.\",\n 'code': ['import pandas as pd',\n  \"today = pd.Timestamp('today').normalize()\",\n  \"solution = df[(df['start_date'] <= today) & (df['end_date'] >= today)]\"],\n 'return': 'pandas.core.frame.DataFrame',\n 'explanation': \"First, I import the pandas library. Then, I create a variable 'today' and assign it the current date, normalized to remove the time component. Finally, I filter the dataframe to only include rows where the start date is on or before today and the end date is on or after today. The result is assigned to the variable 'solution'.\",\n 'answer': \"The events I have today are represented by the rows in the 'solution' dataframe.\"}"
     },
     "execution_count": 166,
     "metadata": {},
     "output_type": "execute_result"
    }
   ],
   "source": [
    "response_dict = json.loads( my_response )\n",
    "response_dict"
   ],
   "metadata": {
    "collapsed": false,
    "ExecuteTime": {
     "end_time": "2023-09-09T00:23:01.581015Z",
     "start_time": "2023-09-09T00:23:01.575517Z"
    }
   },
   "id": "dbc489db0923f81f"
  },
  {
   "cell_type": "code",
   "execution_count": 134,
   "outputs": [
    {
     "name": "stdout",
     "output_type": "stream",
     "text": [
      "import pandas as pd\n",
      "today = pd.Timestamp('today').normalize()\n",
      "df_today = df[(df['start_date'] <= today) & (df['end_date'] >= today)]\n",
      "solution = df_today\n"
     ]
    }
   ],
   "source": [
    "# response_dict[ \"code\" ] = response_dict[ \"code\" ][ 0:4 ]\n",
    "# # response_dict[ \"code\" ].append( \"solution = df_today\" )\n",
    "# for line in response_dict[ \"code\" ]:\n",
    "#     print( line )\n",
    "#     "
   ],
   "metadata": {
    "collapsed": false,
    "ExecuteTime": {
     "end_time": "2023-09-08T19:41:13.673308Z",
     "start_time": "2023-09-08T19:41:13.196096Z"
    }
   },
   "id": "b5383fbafb417247"
  },
  {
   "cell_type": "code",
   "execution_count": 171,
   "outputs": [
    {
     "name": "stdout",
     "output_type": "stream",
     "text": [
      "\"start_date\",\"end_date\",\"start_time\",\"end_time\",\"event_type\",\"recurrent\",\"recurrence_interval\",\"priority_level\",\"name\",\"relationship\",\"description_who_what_where\"\n",
      "\"2023-09-03\",\"2023-09-10\",\"19:38\",\"05:22\",\"Interview\",False,\"\",\"none\",\"Leroy Ruiz\",\"father\",\"Job interview with Leroy Ruiz at Google\"\n",
      "\"2023-09-04\",\"2023-09-09\",\"15:26\",\"12:23\",\"Interview\",False,\"\",\"highest\",\"Inash\",\"girlfriend\",\"Job interview with Inash at Google\"\n",
      "\"2023-09-07\",\"2023-09-14\",\"00:00\",\"23:59\",\"Conference\",False,\"\",\"low\",\"Bob\",\"brother\",\"Conference with Bob on AI advancements\"\n",
      "\"2023-09-07\",\"2023-09-14\",\"18:33\",\"18:28\",\"Meeting\",False,\"\",\"low\",\"Gregorio\",\"friend\",\"Another boring meeting with Gregorio\"\n",
      "\"2023-09-09\",\"2023-09-09\",\"00:00\",\"23:59\",\"Birthday\",True,\"3 day\",\"highest\",\"Alice\",\"aunt\",\"Alice's birthday party at their favorite bar\"\n",
      "\"2023-09-09\",\"2023-09-09\",\"00:00\",\"23:59\",\"Conference\",False,\"\",\"medium\",\"Inash\",\"girlfriend\",\"Conference with Inash on AI advancements\"\n"
     ]
    }
   ],
   "source": [
    "%autoreload\n",
    "# Let's copy it until we get the code munging right\n",
    "response_dict_copy = response_dict[ \"code\" ][ : ]\n",
    "\n",
    "response = ulc.assemble_and_run_solution(\n",
    "    response_dict_copy, path=du.get_project_root() + \"/src/conf/long-term-memory/events.csv\",\n",
    "    solution_code_returns=response_dict[ \"return\" ], debug=False\n",
    ")\n",
    "for line in response[ \"response\" ].split( \"\\n\" ):\n",
    "    print( line )"
   ],
   "metadata": {
    "collapsed": false,
    "ExecuteTime": {
     "end_time": "2023-09-09T00:34:39.896111Z",
     "start_time": "2023-09-09T00:34:39.490404Z"
    }
   },
   "id": "968357a41db502e1"
  },
  {
   "cell_type": "code",
   "execution_count": 179,
   "outputs": [
    {
     "name": "stdout",
     "output_type": "stream",
     "text": [
      "{\"start_date\":\"2023-08-01\",\"end_date\":\"2023-08-04\",\"start_time\":\"00:00\",\"end_time\":\"23:59\",\"event_type\":\"Concert\",\"recurrent\":false,\"recurrence_interval\":null,\"priority_level\":\"none\",\"name\":\"Jenny\",\"relationship\":\"coworker\",\"description_who_what_where\":\"Concert of Jenny at the city center\"}\n",
      "\n",
      "{\"start_date\":\"2023-08-01\",\"end_date\":\"2023-08-01\",\"start_time\":\"05:25\",\"end_time\":\"17:22\",\"event_type\":\"TODO\",\"recurrent\":false,\"recurrence_interval\":null,\"priority_level\":\"highest\",\"name\":\"Gregorio\",\"relationship\":\"friend\",\"description_who_what_where\":\"Send out invitations for the party for Gregorio\"}\n",
      "\n",
      "{\"start_date\":\"2023-08-01\",\"end_date\":\"2023-08-01\",\"start_time\":\"13:27\",\"end_time\":\"01:59\",\"event_type\":\"Appointment\",\"recurrent\":false,\"recurrence_interval\":null,\"priority_level\":\"high\",\"name\":\"Leroy Ruiz\",\"relationship\":\"father\",\"description_who_what_where\":\"Appointment with Leroy Ruiz at the clinic\"}\n",
      "\n",
      "{\"start_date\":\"2023-08-02\",\"end_date\":\"2023-08-03\",\"start_time\":\"13:18\",\"end_time\":\"02:40\",\"event_type\":\"Interview\",\"recurrent\":false,\"recurrence_interval\":null,\"priority_level\":\"highest\",\"name\":\"John\",\"relationship\":\"coworker\",\"description_who_what_where\":\"Job interview with John at Google\"}\n",
      "\n",
      "{\"start_date\":\"2023-08-03\",\"end_date\":\"2023-08-04\",\"start_time\":\"00:00\",\"end_time\":\"23:59\",\"event_type\":\"Performance\",\"recurrent\":false,\"recurrence_interval\":null,\"priority_level\":\"medium\",\"name\":\"Sue\",\"relationship\":\"sister\",\"description_who_what_where\":\"Theatre performance with Sue\"}\n"
     ]
    }
   ],
   "source": [
    "for line in raw_df.head().to_json( orient=\"records\", lines=True ).split( \"\\n\" ):\n",
    "    print( line, end=\"\\n\\n\" )\n"
   ],
   "metadata": {
    "collapsed": false,
    "ExecuteTime": {
     "end_time": "2023-09-09T00:38:55.174682Z",
     "start_time": "2023-09-09T00:38:54.727362Z"
    }
   },
   "id": "8a57d4c4b9916e59"
  },
  {
   "cell_type": "code",
   "execution_count": 181,
   "outputs": [
    {
     "name": "stdout",
     "output_type": "stream",
     "text": [
      "\n",
      "I'm going to show you JSONL output from a query on a pandas dataframe. \n",
      "\n",
      "JSONL output:\n",
      "\n",
      "\"start_date\",\"end_date\",\"start_time\",\"end_time\",\"event_type\",\"recurrent\",\"recurrence_interval\",\"priority_level\",\"name\",\"relationship\",\"description_who_what_where\"\n",
      "\"2023-09-03\",\"2023-09-10\",\"19:38\",\"05:22\",\"Interview\",False,\"\",\"none\",\"Leroy Ruiz\",\"father\",\"Job interview with Leroy Ruiz at Google\"\n",
      "\"2023-09-04\",\"2023-09-09\",\"15:26\",\"12:23\",\"Interview\",False,\"\",\"highest\",\"Inash\",\"girlfriend\",\"Job interview with Inash at Google\"\n",
      "\"2023-09-07\",\"2023-09-14\",\"00:00\",\"23:59\",\"Conference\",False,\"\",\"low\",\"Bob\",\"brother\",\"Conference with Bob on AI advancements\"\n",
      "\"2023-09-07\",\"2023-09-14\",\"18:33\",\"18:28\",\"Meeting\",False,\"\",\"low\",\"Gregorio\",\"friend\",\"Another boring meeting with Gregorio\"\n",
      "\"2023-09-09\",\"2023-09-09\",\"00:00\",\"23:59\",\"Birthday\",True,\"3 day\",\"highest\",\"Alice\",\"aunt\",\"Alice's birthday party at their favorite bar\"\n",
      "\"2023-09-09\",\"2023-09-09\",\"00:00\",\"23:59\",\"Conference\",False,\"\",\"medium\",\"Inash\",\"girlfriend\",\"Conference with Inash on AI advancements\"\n"
     ]
    }
   ],
   "source": [
    "preamble = f\"\"\"\n",
    "I'm going to show you JSONL output from a query on a pandas dataframe. \n",
    "\n",
    "JSONL output:\n",
    "\n",
    "{response[ \"response\" ]}\n",
    "\"\"\"\n",
    "#for line in preamble:\n",
    "#     print( line )\n",
    "print( preamble )"
   ],
   "metadata": {
    "collapsed": false,
    "ExecuteTime": {
     "end_time": "2023-09-09T00:40:27.513952Z",
     "start_time": "2023-09-09T00:40:27.480646Z"
    }
   },
   "id": "4b39305b328bf00f"
  },
  {
   "cell_type": "code",
   "execution_count": 152,
   "outputs": [
    {
     "name": "stdout",
     "output_type": "stream",
     "text": [
      "\n",
      "I'm going to show you raw CSV output from a query on a pandas events dataframe. \n",
      "\n",
      "Raw CSV output:\n",
      "\n",
      "start_date   end_date  ... relationship               description_who_what_where\n",
      "108 2023-09-03 2023-09-08  ...     coworker       Exciting workshop with John on AGI\n",
      "109 2023-09-03 2023-09-10  ...       father  Job interview with Leroy Ruiz at Google\n",
      "112 2023-09-04 2023-09-09  ...   girlfriend       Job interview with Inash at Google\n",
      "115 2023-09-07 2023-09-14  ...      brother   Conference with Bob on AI advancements\n",
      "119 2023-09-07 2023-09-14  ...       friend     Another boring meeting with Gregorio\n",
      "\n",
      "[5 rows x 11 columns]\n"
     ]
    }
   ],
   "source": [
    "# preamble = f\"\"\"\n",
    "# I'm going to show you raw CSV output from a query on a pandas events dataframe. \n",
    "# \n",
    "# Raw CSV output:\n",
    "# \n",
    "# {response[ \"response\" ]}\n",
    "# \"\"\"\n",
    "# #for line in preamble:\n",
    "# #     print( line )\n",
    "# print( preamble )"
   ],
   "metadata": {
    "collapsed": false,
    "ExecuteTime": {
     "end_time": "2023-09-08T19:47:11.663829Z",
     "start_time": "2023-09-08T19:47:11.656886Z"
    }
   },
   "id": "4e080f3d468b7cb7"
  },
  {
   "cell_type": "code",
   "execution_count": 182,
   "outputs": [
    {
     "name": "stdout",
     "output_type": "stream",
     "text": [
      "\n",
      "Rephrase this JSONL data in conversational English in such a way that answers this question `What events do I have today?`\n",
      "\n",
      "Your output should contain one line per event.\n"
     ]
    }
   ],
   "source": [
    "instructions = f\"\"\"\n",
    "Rephrase this JSONL data in conversational English in such a way that answers this question `{event_query}`\n",
    "\n",
    "Your output should contain one line per event.\n",
    "\"\"\"\n",
    "for line in instructions.split( \"\\n\" ):\n",
    "    print( line )"
   ],
   "metadata": {
    "collapsed": false,
    "ExecuteTime": {
     "end_time": "2023-09-09T00:41:03.700125Z",
     "start_time": "2023-09-09T00:41:03.229267Z"
    }
   },
   "id": "b2ee50870ed779f8"
  },
  {
   "cell_type": "code",
   "execution_count": 184,
   "outputs": [
    {
     "name": "stdout",
     "output_type": "stream",
     "text": [
      "Asking ChatGPT [gpt-4-0613]...Done! in 5,908 ms\n"
     ]
    }
   ],
   "source": [
    "%autoreload\n",
    "genie_client = gc.GenieClient()\n",
    "answer_conversational = genie_client.ask_chat_gpt_text( instructions, preamble=preamble, model=gc.GPT_4 )"
   ],
   "metadata": {
    "collapsed": false,
    "ExecuteTime": {
     "end_time": "2023-09-09T00:41:21.663953Z",
     "start_time": "2023-09-09T00:41:15.723718Z"
    }
   },
   "id": "9886d04725a7ab2a"
  },
  {
   "cell_type": "code",
   "execution_count": 185,
   "outputs": [
    {
     "name": "stdout",
     "output_type": "stream",
     "text": [
      "Assuming today's date is \"2023-09-07\", here are your events:\n",
      "\n",
      "1. You have a conference on AI advancements with your brother, Bob, that will last all day.\n",
      "2. You also have a meeting with your friend, Gregorio, starting at 6:33 PM and ending at 6:28 PM. It seems like it might be a bit boring.\n"
     ]
    }
   ],
   "source": [
    "for line in answer_conversational.split( \"\\n\" ):\n",
    "    print( line )"
   ],
   "metadata": {
    "collapsed": false,
    "ExecuteTime": {
     "end_time": "2023-09-09T00:41:24.424424Z",
     "start_time": "2023-09-09T00:41:24.406153Z"
    }
   },
   "id": "3153996e5d3a6598"
  },
  {
   "cell_type": "code",
   "execution_count": 186,
   "outputs": [
    {
     "name": "stdout",
     "output_type": "stream",
     "text": [
      "Asking ChatGPT [gpt-3.5-turbo-0613]...Done! in 3,532 ms\n"
     ]
    }
   ],
   "source": [
    "genie_client = gc.GenieClient()\n",
    "answer_conversational = genie_client.ask_chat_gpt_text( instructions, preamble=preamble, model=gc.GPT_3_5 )"
   ],
   "metadata": {
    "collapsed": false,
    "ExecuteTime": {
     "end_time": "2023-09-09T00:41:36.407264Z",
     "start_time": "2023-09-09T00:41:32.856202Z"
    }
   },
   "id": "c0f08c25d9a59c70"
  },
  {
   "cell_type": "code",
   "execution_count": 187,
   "outputs": [
    {
     "name": "stdout",
     "output_type": "stream",
     "text": [
      "[You have the following events today:]\n",
      "[]\n",
      "[Interview with Leroy Ruiz at Google from 19:38 to 05:22.]\n",
      "[Interview with Inash at Google from 15:26 to 12:23.]\n",
      "[Conference with Bob on AI advancements from 00:00 to 23:59.]\n",
      "[Meeting with Gregorio from 18:33 to 18:28.]\n",
      "[Alice's birthday party at their favorite bar, which is a recurring event starting today and lasting for 3 days.]\n",
      "[Conference with Inash on AI advancements from 00:00 to 23:59.]\n"
     ]
    }
   ],
   "source": [
    "# https://chat.openai.com/share/eca4c68e-73b1-4c5c-81c2-151e2216442f\n",
    "# The very last interaction contains these instructions:\n",
    "#\n",
    "# Use the regular expression pattern ^\\d+\\.\\s*:\n",
    "# \n",
    "#     ^: asserts position at the start of a line.\n",
    "#     \\d+: matches one or more digits.\n",
    "#     \\.: matches a literal period (dot).\n",
    "#     \\s*: matches zero or more whitespace characters.\n",
    "\n",
    "for line in answer_conversational.split( \"\\n\" ):\n",
    "    line = re.sub( r\"^\\d+\\.\\s*\", \"\", line )\n",
    "    print( f\"[{line}]\" )"
   ],
   "metadata": {
    "collapsed": false,
    "ExecuteTime": {
     "end_time": "2023-09-09T00:41:46.271335Z",
     "start_time": "2023-09-09T00:41:46.264888Z"
    }
   },
   "id": "d39eb3a62263bfcf"
  },
  {
   "cell_type": "code",
   "execution_count": null,
   "outputs": [],
   "source": [],
   "metadata": {
    "collapsed": false
   },
   "id": "10e0473c981c973d"
  },
  {
   "cell_type": "code",
   "execution_count": null,
   "outputs": [],
   "source": [],
   "metadata": {
    "collapsed": false
   },
   "id": "b48bb17333347f56"
  },
  {
   "cell_type": "code",
   "execution_count": null,
   "outputs": [],
   "source": [],
   "metadata": {
    "collapsed": false
   },
   "id": "e78072ebcaae2a8c"
  },
  {
   "cell_type": "code",
   "execution_count": null,
   "outputs": [],
   "source": [],
   "metadata": {
    "collapsed": false
   },
   "id": "5c02ba35efae3ec2"
  },
  {
   "cell_type": "markdown",
   "source": [
    "# Prototyping the calendar agent object"
   ],
   "metadata": {
    "collapsed": false
   },
   "id": "108ca567a4e3664f"
  },
  {
   "cell_type": "code",
   "execution_count": 190,
   "outputs": [
    {
     "name": "stderr",
     "output_type": "stream",
     "text": [
      "Retrying langchain.chat_models.openai.ChatOpenAI.completion_with_retry.<locals>._completion_with_retry in 4.0 seconds as it raised APIConnectionError: Error communicating with OpenAI: ('Connection aborted.', RemoteDisconnected('Remote end closed connection without response')).\n"
     ]
    },
    {
     "name": "stdout",
     "output_type": "stream",
     "text": [
      "Running pandas prompt...\n",
      "Running pandas prompt... Done! in 20 seconds\n"
     ]
    }
   ],
   "source": [
    "import sys\n",
    "import os\n",
    "# import json\n",
    "# \n",
    "# os.environ[ \"LANGCHAIN_WANDB_TRACING\" ] = \"true\"\n",
    "# # wandb documentation to configure wandb using env variables\n",
    "# # https://docs.wandb.ai/guides/track/advanced/environment-variables\n",
    "# # here we are configuring the wandb project name\n",
    "# os.environ[ \"WANDB_PROJECT\" ] = \"langchain-dataframe-agent\"\n",
    "# \n",
    "# path = \"/var/genie-in-the-box/src/lib\"\n",
    "# if path not in sys.path:\n",
    "#     sys.path.append( path )\n",
    "# else:\n",
    "#     print( f\"[{path}] already in sys.path\" )\n",
    "# \n",
    "# print( sys.path )\n",
    "# \n",
    "# import lib.util as du\n",
    "# \n",
    "# path = \"/var/genie-in-the-box/src\"\n",
    "# du.add_to_path( path )\n",
    "# \n",
    "# import lib.util_stopwatch as sw\n",
    "# # import util_langchain as ulc\n",
    "# import genie_client as gc\n",
    "# \n",
    "# from langchain.schema import (\n",
    "#     AIMessage,\n",
    "#     HumanMessage,\n",
    "#     SystemMessage\n",
    "# )\n",
    "import langchain\n",
    "# from langchain.chat_models import ChatOpenAI\n",
    "# from langchain.memory import ConversationBufferMemory\n",
    "# from langchain.chains import ConversationalRetrievalChain\n",
    "# from langchain.agents.agent_toolkits.pandas.base import create_pandas_dataframe_agent\n",
    "# \n",
    "# from langchain import PromptTemplate\n",
    "# from langchain import LLMChain\n",
    "\n",
    "import pandas as pd\n",
    "\n",
    "\n",
    "class CalendaringAgent:\n",
    "    \n",
    "    def __init__( self, path_to_df, debug=False, verbose=False ):\n",
    "        langchain.debug = debug\n",
    "        langchain.verbose = verbose\n",
    "        \n",
    "        self.path_to_df = path_to_df\n",
    "        self.debug = debug\n",
    "        self.verbose = verbose\n",
    "        self.df = pd.read_csv( du.get_project_root() + \"/src/conf/long-term-memory/events.csv\" )\n",
    "        \n",
    "        # Please can stay private for the time being, right?!?\n",
    "        llm_4 = ChatOpenAI( model_name=gc.GPT_4, temperature=0.0 )\n",
    "        events_df = pd.read_csv( du.get_project_root() + \"/src/conf/long-term-memory/events.csv\" )\n",
    "        memory = ConversationBufferMemory( memory_key=\"chat_history\", return_messages=True, verbose=verbose )\n",
    "        \n",
    "        self.df_agent = create_pandas_dataframe_agent( llm_4, events_df, verbose=verbose )\n",
    "        self.df_agent.memory = memory\n",
    "        \n",
    "        prompt = PromptTemplate(\n",
    "            template=self._get_pandas_prompt_template(),\n",
    "            input_variables=[ \"question\" ]\n",
    "        )\n",
    "        self.llm_chain = LLMChain( prompt=prompt, llm=llm_4 )\n",
    "    \n",
    "    def run_prompt( self, question ):\n",
    "        timer = sw.Stopwatch( \"Running pandas prompt...\" )\n",
    "        question_plus_coda = self._get_question_plus_coda( question )\n",
    "        self.response = self.llm_chain.run( question=question_plus_coda )\n",
    "        timer.print( \"Done!\" )\n",
    "        \n",
    "        # TODO: Add error handling, because you *know* that something's gonna come back malformed\n",
    "        # Convert the response to a dictionary, blindly...\n",
    "        self.response_dict = json.loads( self.response )\n",
    "        \n",
    "        return self.response_dict\n",
    "    \n",
    "    def _get_pandas_prompt_template( self ):\n",
    "        pandas_prompt_template = \"\"\"\n",
    "        You are working with a pandas dataframe in Python. The name of the dataframe is `df`.\n",
    "\n",
    "        This is the ouput from `print(df.head().to_csv())`, in CSV format:\n",
    "\n",
    "        \"start_date\",\"end_date\",\"start_time\",\"end_time\",\"event_type\",\"recurrent\",\"recurrence_interval\",\"priority_level\",\"name\",\"relationship\",\"description_who_what_where\"\n",
    "        \"2023-07-01\",\"2023-07-04\",\"00:00\",\"23:59\",\"Concert\",False,\"\",\"none\",\"Jenny\",\"coworker\",\"Concert of Jenny at the city center\"\n",
    "        \"2023-07-01\",\"2023-07-01\",\"05:25\",\"17:22\",\"TODO\",False,\"\",\"highest\",\"Gregorio\",\"friend\",\"Send out invitations for the party for Gregorio\"\n",
    "        \"2023-07-01\",\"2023-07-01\",\"13:27\",\"01:59\",\"Appointment\",False,\"\",\"high\",\"Leroy Ruiz\",\"father\",\"Appointment with Leroy Ruiz at the clinic\"\n",
    "        \"2023-07-03\",\"2023-07-04\",\"00:00\",\"23:59\",\"Subscription\",True,\"1 year\",\"highest\",\"Leroy Ruiz\",\"father\",\"Renewal of Leroy Ruiz's subscription\"\n",
    "        \"2023-07-03\",\"2023-07-04\",\"00:00\",\"23:59\",\"Anniversary\",True,\"4 week\",\"none\",\"Juan\",\"neighbor\",\"Juan's anniversary celebration at the park\"\n",
    "        \"2023-07-04\",\"2023-07-04\",\"00:00\",\"23:59\",\"Anniversary\",True,\"4 week\",\"medium\",\"Leroy Ruiz\",\"father\",\"Leroy Ruiz's anniversary celebration at the park\"\n",
    "\n",
    "        This is the from `print(df.dtypes)`:\n",
    "\n",
    "        start_date                    datetime64[ns]\n",
    "        end_date                      datetime64[ns]\n",
    "        start_time                            object\n",
    "        end_time                              object\n",
    "        event_type                            object\n",
    "        recurrent                               bool\n",
    "        recurrence_interval                   object\n",
    "        priority_level                        object\n",
    "        name                                  object\n",
    "        relationship                          object\n",
    "        description_who_what_where            object\n",
    "        dtype: object\n",
    "\n",
    "        As you generate the python code needed to answer the question asked of you below, I want you to:\n",
    "\n",
    "        1) Question: Ask yourself If you understand the question that I am asking you?\n",
    "        2) Think: Before you do anything, think out loud about what I'm asking you to do, including what are the steps you need to take to solve this problem? What are the things you need to consider? Be critical of your thought process!\n",
    "        3) Code: Generate a verbatim list of code that you used to arrive at your answer, one line of code per item on the list. The code must be complete, syntactically correct, and run to completion. The last line of your code must be the variable `solution`, which represents the answer.\n",
    "        4) Return: Report on the object type of the variable `solution` in your last line of code.\n",
    "        5) Explain: Briefly and succinctly explain your code in plain English.\n",
    "        6) Answer: Answer the question in a short, simple, terse sentence.\n",
    "\n",
    "        Format: return your response as a JSON object in the following fields:\n",
    "        {{\n",
    "            \"question\": \"the question that your code answers\",\n",
    "            \"thoughts\": \"your thoughts\",\n",
    "            \"code\": [],\n",
    "            \"return\": \"Object type of the variable `solution`\",\n",
    "            \"explanation\": \"your brief explanation of your code\",\n",
    "            \"answer\": \"your very succinct answer, in conversational English, one sentence only.\"\n",
    "        }}\n",
    "\n",
    "        Begin!\n",
    "\n",
    "        Question: {question}\n",
    "        \"\"\"\n",
    "        return pandas_prompt_template\n",
    "    \n",
    "    def _get_question_plus_coda( self, event_query ):\n",
    "        question_plus_coda_template = f\"\"\"\n",
    "        Question: {event_query}\n",
    "\n",
    "        Hint: An event that I have today may have started before today and may end tomorrow or next week, so be careful how you filter on dates.\n",
    "        Hint: When filtering by dates, use `pd.Timestamp( day )` to convert a Python datetime object into a Pandas `datetime64[ns]` value.\n",
    "        Hint: If your code returns any records, they should include all columns in the dataframe.\n",
    "        \"\"\"\n",
    "        return question_plus_coda_template\n",
    "\n",
    "\n",
    "# Add main method\n",
    "# if __name__ == \"__main__\":\n",
    "\n",
    "agent = CalendaringAgent( path_to_df=du.get_project_root() + \"/src/conf/long-term-memory/events.csv\", debug=False )\n",
    "response = agent.run_prompt( \"What events do I have today?\" )"
   ],
   "metadata": {
    "collapsed": false,
    "ExecuteTime": {
     "end_time": "2023-09-09T04:10:13.496853Z",
     "start_time": "2023-09-09T04:09:53.271669Z"
    }
   },
   "id": "7dccb7c4862a8c77"
  },
  {
   "cell_type": "code",
   "execution_count": 194,
   "outputs": [
    {
     "name": "stdout",
     "output_type": "stream",
     "text": [
      "{\n",
      "    \"question\": \"What events do I have today?\",\n",
      "    \"thoughts\": \"To answer this question, I need to filter the dataframe to only include events that are happening today. This means that the event's start date is on or before today and the end date is on or after today. I will use the pandas Timestamp function to convert today's date into a format that can be compared with the dates in the dataframe. I will then use boolean indexing to filter the dataframe.\",\n",
      "    \"code\": [\n",
      "        \"import pandas as pd\",\n",
      "        \"from datetime import datetime\",\n",
      "        \"today = pd.Timestamp(datetime.now())\",\n",
      "        \"solution = df[(df['start_date'] <= today) & (df['end_date'] >= today)]\"\n",
      "    ],\n",
      "    \"return\": \"pandas.core.frame.DataFrame\",\n",
      "    \"explanation\": \"The code first imports the necessary libraries. It then gets today's date and time and converts it into a pandas Timestamp object. The dataframe is then filtered to only include rows where the start date is on or before today and the end date is on or after today. The result is a dataframe that includes all columns and only the rows that meet the specified conditions.\",\n",
      "    \"answer\": \"The events I have today are those returned in the 'solution' dataframe.\"\n",
      "}\n"
     ]
    }
   ],
   "source": [
    "response = json.loads( response )\n",
    "print( json.dumps( response, indent=4 ) )"
   ],
   "metadata": {
    "collapsed": false,
    "ExecuteTime": {
     "end_time": "2023-09-09T04:18:10.147248Z",
     "start_time": "2023-09-09T04:18:09.903036Z"
    }
   },
   "id": "dee0fdea9e83a1cf"
  },
  {
   "cell_type": "code",
   "execution_count": 193,
   "outputs": [
    {
     "data": {
      "text/plain": "['import pandas as pd',\n 'from datetime import datetime',\n 'today = pd.Timestamp(datetime.now())',\n \"solution = df[(df['start_date'] <= today) & (df['end_date'] >= today)]\"]"
     },
     "execution_count": 193,
     "metadata": {},
     "output_type": "execute_result"
    }
   ],
   "source": [
    "response_dict = json.loads( response )\n",
    "response_dict[ \"code\" ]"
   ],
   "metadata": {
    "collapsed": false,
    "ExecuteTime": {
     "end_time": "2023-09-09T04:11:12.374343Z",
     "start_time": "2023-09-09T04:11:12.127703Z"
    }
   },
   "id": "bd5da53af17247a4"
  },
  {
   "cell_type": "code",
   "execution_count": null,
   "outputs": [],
   "source": [],
   "metadata": {
    "collapsed": false
   },
   "id": "5ba5929faef04d18"
  }
 ],
 "metadata": {
  "kernelspec": {
   "display_name": "Python 3",
   "language": "python",
   "name": "python3"
  },
  "language_info": {
   "codemirror_mode": {
    "name": "ipython",
    "version": 2
   },
   "file_extension": ".py",
   "mimetype": "text/x-python",
   "name": "python",
   "nbconvert_exporter": "python",
   "pygments_lexer": "ipython2",
   "version": "2.7.6"
  }
 },
 "nbformat": 4,
 "nbformat_minor": 5
}
