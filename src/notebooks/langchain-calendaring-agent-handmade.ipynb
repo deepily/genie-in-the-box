{
 "cells": [
  {
   "cell_type": "code",
   "execution_count": 12,
   "outputs": [],
   "source": [
    "# ! pip install python-dotenv\n",
    "# ! pip install langchain --upgrade --no-cache-dir\n",
    "# ! pip install wandb --upgrade --no-cache-dir"
   ],
   "metadata": {
    "collapsed": false,
    "ExecuteTime": {
     "end_time": "2023-09-26T23:46:50.596424Z",
     "start_time": "2023-09-26T23:46:50.569873Z"
    }
   },
   "id": "b8665cade92a3a56"
  },
  {
   "cell_type": "code",
   "execution_count": 8,
   "outputs": [
    {
     "name": "stdout",
     "output_type": "stream",
     "text": [
      "Collecting tabulate\r\n",
      "  Downloading tabulate-0.9.0-py3-none-any.whl (35 kB)\r\n",
      "Installing collected packages: tabulate\r\n",
      "Successfully installed tabulate-0.9.0\r\n",
      "\u001B[33mWARNING: Running pip as the 'root' user can result in broken permissions and conflicting behaviour with the system package manager. It is recommended to use a virtual environment instead: https://pip.pypa.io/warnings/venv\u001B[0m\u001B[33m\r\n",
      "\u001B[0mNote: you may need to restart the kernel to use updated packages.\n"
     ]
    }
   ],
   "source": [
    "pip install tabulate"
   ],
   "metadata": {
    "collapsed": false,
    "ExecuteTime": {
     "end_time": "2023-09-26T23:42:05.851104Z",
     "start_time": "2023-09-26T23:42:03.574078Z"
    }
   },
   "id": "e6eaa73ca09ced5b"
  },
  {
   "cell_type": "code",
   "execution_count": 1,
   "outputs": [],
   "source": [
    "%load_ext autoreload"
   ],
   "metadata": {
    "collapsed": false,
    "ExecuteTime": {
     "end_time": "2023-09-26T23:48:26.649449Z",
     "start_time": "2023-09-26T23:48:26.641619Z"
    }
   },
   "id": "14c1efa189e09521"
  },
  {
   "cell_type": "code",
   "execution_count": 2,
   "outputs": [
    {
     "name": "stdout",
     "output_type": "stream",
     "text": [
      "['/Applications/PyCharm.app/Contents/plugins/python/helpers-pro/jupyter_debug', '/Applications/PyCharm.app/Contents/plugins/python/helpers/pydev', '/var/genie-in-the-box/src/notebooks', '/usr/local/lib/python310.zip', '/usr/local/lib/python3.10', '/usr/local/lib/python3.10/lib-dynload', '', '/usr/local/lib/python3.10/site-packages', '/var/genie-in-the-box/src/lib']\n",
      "Added [/var/genie-in-the-box/src] to sys.path\n",
      "pwd [/var/genie-in-the-box/src/notebooks]\n",
      "\n",
      "/Applications/PyCharm.app/Contents/plugins/python/helpers-pro/jupyter_debug\n",
      "/Applications/PyCharm.app/Contents/plugins/python/helpers/pydev\n",
      "/usr/local/lib/python3.10\n",
      "/usr/local/lib/python3.10/lib-dynload\n",
      "/usr/local/lib/python3.10/site-packages\n",
      "/usr/local/lib/python310.zip\n",
      "/var/genie-in-the-box/src\n",
      "/var/genie-in-the-box/src/lib\n",
      "/var/genie-in-the-box/src/notebooks\n"
     ]
    }
   ],
   "source": [
    "%autoreload\n",
    "\n",
    "import sys\n",
    "import os\n",
    "import json\n",
    "\n",
    "# os.environ[ \"LANGCHAIN_WANDB_TRACING\" ] = \"true\"\n",
    "# # wandb documentation to configure wandb using env variables\n",
    "# # https://docs.wandb.ai/guides/track/advanced/environment-variables\n",
    "# # here we are configuring the wandb project name\n",
    "# os.environ[ \"WANDB_PROJECT\" ] = \"deepily-dataframe-agent\"\n",
    "\n",
    "path = \"/var/genie-in-the-box/src/lib\"\n",
    "if path not in sys.path:\n",
    "    sys.path.append( path )\n",
    "else:\n",
    "    print( f\"[{path}] already in sys.path\" )\n",
    "\n",
    "print( sys.path )\n",
    "\n",
    "import util as du\n",
    "\n",
    "path = \"/var/genie-in-the-box/src\"\n",
    "du.add_to_path( path )\n",
    "\n",
    "import util_stopwatch as sw\n",
    "import util_langchain as ulc\n",
    "import genie_client as gc\n",
    "\n",
    "from langchain.schema import (\n",
    "    AIMessage,\n",
    "    HumanMessage,\n",
    "    SystemMessage\n",
    ")\n",
    "import langchain\n",
    "from langchain.chat_models import ChatOpenAI\n",
    "from langchain.memory import ConversationBufferMemory\n",
    "from langchain.chains import ConversationalRetrievalChain\n",
    "from langchain.agents.agent_toolkits.pandas.base import create_pandas_dataframe_agent\n",
    "\n",
    "from langchain.prompts import PromptTemplate\n",
    "from langchain.chains import LLMChain\n",
    "\n",
    "import pandas as pd\n",
    "\n",
    "# from IPython.display import display, Markdown\n"
   ],
   "metadata": {
    "collapsed": false,
    "ExecuteTime": {
     "end_time": "2023-09-26T23:48:29.091316Z",
     "start_time": "2023-09-26T23:48:27.544691Z"
    }
   },
   "id": "e4a94b9494513834"
  },
  {
   "cell_type": "code",
   "execution_count": 3,
   "outputs": [],
   "source": [
    "pandas_prompt_template = \"\"\"\n",
    "You are working with a pandas dataframe in Python. The name of the dataframe is `df`.\n",
    "\n",
    "This is the ouput from `print(df.head().to_csv())`, in CSV format:\n",
    "\n",
    "\"start_date\",\"end_date\",\"start_time\",\"end_time\",\"event_type\",\"recurrent\",\"recurrence_interval\",\"priority_level\",\"name\",\"relationship\",\"description_who_what_where\"\n",
    "\"2023-07-01\",\"2023-07-04\",\"00:00\",\"23:59\",\"Concert\",False,\"\",\"none\",\"Jenny\",\"coworker\",\"Concert of Jenny at the city center\"\n",
    "\"2023-07-01\",\"2023-07-01\",\"05:25\",\"17:22\",\"TODO\",False,\"\",\"highest\",\"Gregorio\",\"friend\",\"Send out invitations for the party for Gregorio\"\n",
    "\"2023-07-01\",\"2023-07-01\",\"13:27\",\"01:59\",\"Appointment\",False,\"\",\"high\",\"Leroy Ruiz\",\"father\",\"Appointment with Leroy Ruiz at the clinic\"\n",
    "\"2023-07-03\",\"2023-07-04\",\"00:00\",\"23:59\",\"Subscription\",True,\"1 year\",\"highest\",\"Leroy Ruiz\",\"father\",\"Renewal of Leroy Ruiz's subscription\"\n",
    "\"2023-07-03\",\"2023-07-04\",\"00:00\",\"23:59\",\"Anniversary\",True,\"4 week\",\"none\",\"Juan\",\"neighbor\",\"Juan's anniversary celebration at the park\"\n",
    "\"2023-07-04\",\"2023-07-04\",\"00:00\",\"23:59\",\"Anniversary\",True,\"4 week\",\"medium\",\"Leroy Ruiz\",\"father\",\"Leroy Ruiz's anniversary celebration at the park\"\n",
    "\n",
    "This is the from `print(df.dtypes)`:\n",
    "\n",
    "start_date                    datetime64[ns]\n",
    "end_date                      datetime64[ns]\n",
    "start_time                            object\n",
    "end_time                              object\n",
    "event_type                            object\n",
    "recurrent                               bool\n",
    "recurrence_interval                   object\n",
    "priority_level                        object\n",
    "name                                  object\n",
    "relationship                          object\n",
    "description_who_what_where            object\n",
    "dtype: object\n",
    "\n",
    "As you generate the python code needed to answer the question asked of you below, I want you to:\n",
    "\n",
    "1) Question: Ask yourself If you understand the question I am asking you?\n",
    "2) Think: Before you do anything, think out loud about what I'm asking you to do, including listing the steps you need to take to solve this problem. What are the things you need to consider? Be critical of your thought process!\n",
    "3) Code: Generate a verbatim list of code that you used to arrive at your answer, one line of code per item on the list. The code must be complete, syntactically correct, and run to completion. The last line of your code must be the variable `solution`, which represents the answer.\n",
    "4) Return: Report on the object type of the variable `solution` in your last line of code.\n",
    "5) Explain: Briefly and succinctly explain your code in plain English.\n",
    "6) Answer: Answer the question in a short, simple, terse sentence.\n",
    "\n",
    "Format: return your response as a JSON object with the following fields:\n",
    "{{\n",
    "    \"question\": \"the question that your code answers\",\n",
    "    \"thoughts\": \"your thoughts\",\n",
    "    \"code\": [],\n",
    "    \"return\": \"Object type of the variable `solution`\",\n",
    "    \"explanation\": \"your brief explanation of your code\",\n",
    "    \"answer\": \"your very succinct answer, in conversational English, one sentence only.\"    \n",
    "}}\n",
    "\n",
    "Begin!\n",
    "\n",
    "Question: {question}\n",
    "\"\"\""
   ],
   "metadata": {
    "collapsed": false,
    "ExecuteTime": {
     "end_time": "2023-09-26T23:48:29.097114Z",
     "start_time": "2023-09-26T23:48:29.093904Z"
    }
   },
   "id": "8d1a455d75c4458b"
  },
  {
   "cell_type": "code",
   "execution_count": 4,
   "outputs": [],
   "source": [
    "langchain.debug = True\n",
    "langchain.verbose = True\n",
    "\n",
    "llm_4 = ChatOpenAI( model_name=\"gpt-4-0613\", temperature=0.0 )\n",
    "memory = ConversationBufferMemory( memory_key=\"chat_history\", return_messages=True, verbose=True )\n",
    "raw_df = pd.read_csv( du.get_project_root() + \"/src/conf/long-term-memory/events.csv\" )\n",
    "\n",
    "df_agent = create_pandas_dataframe_agent( llm_4, raw_df, verbose=True )\n",
    "\n",
    "prompt = PromptTemplate(\n",
    "    template=pandas_prompt_template,\n",
    "    input_variables=[ \"question\" ]\n",
    ")\n",
    "llm_chain = LLMChain(\n",
    "    prompt=prompt,\n",
    "    llm=llm_4\n",
    ")\n",
    "df_agent.memory = memory"
   ],
   "metadata": {
    "collapsed": false,
    "ExecuteTime": {
     "end_time": "2023-09-26T23:48:31.747335Z",
     "start_time": "2023-09-26T23:48:31.739838Z"
    }
   },
   "id": "95185c545cf33d54"
  },
  {
   "cell_type": "code",
   "execution_count": 5,
   "outputs": [
    {
     "name": "stdout",
     "output_type": "stream",
     "text": [
      "\n",
      "    Question: What events do I have today?  \n",
      "    \n",
      "    Hint: An event that I have today may have started before today and may end tomorrow or next week, so be careful how you filter on dates.\n",
      "    Hint: When filtering by dates, use `pd.Timestamp( day )` to convert a Python datetime object into a Pandas `datetime64[ns]` value.\n",
      "    Hint: If your code returns any records, they should include all columns in the dataframe.\n",
      "    \n"
     ]
    }
   ],
   "source": [
    "def get_question_and_coda( event_query ):\n",
    "    question_plus_coda_template = \"\"\"\n",
    "    Question: {event_query}  \n",
    "    \n",
    "    Hint: An event that I have today may have started before today and may end tomorrow or next week, so be careful how you filter on dates.\n",
    "    Hint: When filtering by dates, use `pd.Timestamp( day )` to convert a Python datetime object into a Pandas `datetime64[ns]` value.\n",
    "    Hint: If your code returns any records, they should include all columns in the dataframe.\n",
    "    \"\"\"\n",
    "    \n",
    "    return question_plus_coda_template.format( event_query=event_query )\n",
    "\n",
    "\n",
    "event_query = \"What events do I have today?\"\n",
    "question = get_question_and_coda( event_query )\n",
    "\n",
    "for line in question.split( \"\\n\" ):\n",
    "    print( line )\n"
   ],
   "metadata": {
    "collapsed": false,
    "ExecuteTime": {
     "end_time": "2023-09-26T23:48:32.774434Z",
     "start_time": "2023-09-26T23:48:32.768625Z"
    }
   },
   "id": "9dc4c544beaaef2c"
  },
  {
   "cell_type": "code",
   "execution_count": 48,
   "outputs": [
    {
     "name": "stdout",
     "output_type": "stream",
     "text": [
      "Running pandas prompt...\n",
      "\u001B[32;1m\u001B[1;3m[chain/start]\u001B[0m \u001B[1m[1:chain:LLMChain] Entering Chain run with input:\n",
      "\u001B[0m{\n",
      "  \"question\": \"\\n    Question: What concerts do I have today?  \\n    \\n    Hint: An event that I have today may have started before today and may end tomorrow or next week, so be careful how you filter on dates.\\n    Hint: When filtering by dates, use `pd.Timestamp( day )` to convert a Python datetime object into a Pandas `datetime64[ns]` value.\\n    Hint: If your code returns any records, they should include all columns in the dataframe.\\n    \"\n",
      "}\n",
      "\u001B[32;1m\u001B[1;3m[llm/start]\u001B[0m \u001B[1m[1:chain:LLMChain > 2:llm:ChatOpenAI] Entering LLM run with input:\n",
      "\u001B[0m{\n",
      "  \"prompts\": [\n",
      "    \"Human: \\nYou are working with a pandas dataframe in Python. The name of the dataframe is `df`.\\n\\nThis is the ouput from `print(df.head().to_csv())`, in CSV format:\\n\\n\\\"start_date\\\",\\\"end_date\\\",\\\"start_time\\\",\\\"end_time\\\",\\\"event_type\\\",\\\"recurrent\\\",\\\"recurrence_interval\\\",\\\"priority_level\\\",\\\"name\\\",\\\"relationship\\\",\\\"description_who_what_where\\\"\\n\\\"2023-07-01\\\",\\\"2023-07-04\\\",\\\"00:00\\\",\\\"23:59\\\",\\\"Concert\\\",False,\\\"\\\",\\\"none\\\",\\\"Jenny\\\",\\\"coworker\\\",\\\"Concert of Jenny at the city center\\\"\\n\\\"2023-07-01\\\",\\\"2023-07-01\\\",\\\"05:25\\\",\\\"17:22\\\",\\\"TODO\\\",False,\\\"\\\",\\\"highest\\\",\\\"Gregorio\\\",\\\"friend\\\",\\\"Send out invitations for the party for Gregorio\\\"\\n\\\"2023-07-01\\\",\\\"2023-07-01\\\",\\\"13:27\\\",\\\"01:59\\\",\\\"Appointment\\\",False,\\\"\\\",\\\"high\\\",\\\"Leroy Ruiz\\\",\\\"father\\\",\\\"Appointment with Leroy Ruiz at the clinic\\\"\\n\\\"2023-07-03\\\",\\\"2023-07-04\\\",\\\"00:00\\\",\\\"23:59\\\",\\\"Subscription\\\",True,\\\"1 year\\\",\\\"highest\\\",\\\"Leroy Ruiz\\\",\\\"father\\\",\\\"Renewal of Leroy Ruiz's subscription\\\"\\n\\\"2023-07-03\\\",\\\"2023-07-04\\\",\\\"00:00\\\",\\\"23:59\\\",\\\"Anniversary\\\",True,\\\"4 week\\\",\\\"none\\\",\\\"Juan\\\",\\\"neighbor\\\",\\\"Juan's anniversary celebration at the park\\\"\\n\\\"2023-07-04\\\",\\\"2023-07-04\\\",\\\"00:00\\\",\\\"23:59\\\",\\\"Anniversary\\\",True,\\\"4 week\\\",\\\"medium\\\",\\\"Leroy Ruiz\\\",\\\"father\\\",\\\"Leroy Ruiz's anniversary celebration at the park\\\"\\n\\nThis is the from `print(df.dtypes)`:\\n\\nstart_date                    datetime64[ns]\\nend_date                      datetime64[ns]\\nstart_time                            object\\nend_time                              object\\nevent_type                            object\\nrecurrent                               bool\\nrecurrence_interval                   object\\npriority_level                        object\\nname                                  object\\nrelationship                          object\\ndescription_who_what_where            object\\ndtype: object\\n\\nAs you generate the python code needed to answer the question asked of you below, I want you to:\\n\\n1) Question: Ask yourself If you understand the question I am asking you?\\n2) Think: Before you do anything, think out loud about what I'm asking you to do, including listing the steps you need to take to solve this problem. What are the things you need to consider? Be critical of your thought process!\\n3) Code: Generate a verbatim list of code that you used to arrive at your answer, one line of code per item on the list. The code must be complete, syntactically correct, and run to completion. The last line of your code must be the variable `solution`, which represents the answer.\\n4) Return: Report on the object type of the variable `solution` in your last line of code.\\n5) Explain: Briefly and succinctly explain your code in plain English.\\n6) Answer: Answer the question in a short, simple, terse sentence.\\n\\nFormat: return your response as a JSON object in the following fields:\\n{\\n    \\\"question\\\": \\\"the question that your code answers\\\",\\n    \\\"thoughts\\\": \\\"your thoughts\\\",\\n    \\\"code\\\": [],\\n    \\\"return\\\": \\\"Object type of the variable `solution`\\\",\\n    \\\"explanation\\\": \\\"your brief explanation of your code\\\",\\n    \\\"answer\\\": \\\"your very succinct answer, in conversational English, one sentence only.\\\"    \\n}\\n\\nBegin!\\n\\nQuestion: \\n    Question: What concerts do I have today?  \\n    \\n    Hint: An event that I have today may have started before today and may end tomorrow or next week, so be careful how you filter on dates.\\n    Hint: When filtering by dates, use `pd.Timestamp( day )` to convert a Python datetime object into a Pandas `datetime64[ns]` value.\\n    Hint: If your code returns any records, they should include all columns in the dataframe.\"\n",
      "  ]\n",
      "}\n",
      "\u001B[36;1m\u001B[1;3m[llm/end]\u001B[0m \u001B[1m[1:chain:LLMChain > 2:llm:ChatOpenAI] [35.41s] Exiting LLM run with output:\n",
      "\u001B[0m{\n",
      "  \"generations\": [\n",
      "    [\n",
      "      {\n",
      "        \"text\": \"{\\n    \\\"question\\\": \\\"What concerts do I have today?\\\",\\n    \\\"thoughts\\\": \\\"First, I need to filter the dataframe to only include rows where the event_type is 'Concert'. Then, I need to filter the dataframe to only include rows where the start_date is on or before today and the end_date is on or after today. I will use the pandas Timestamp function to convert today's date to a datetime64[ns] value for comparison with the start_date and end_date columns. The final result should be a dataframe that includes all columns and only the rows that meet these criteria.\\\",\\n    \\\"code\\\": [\\n        \\\"import pandas as pd\\\",\\n        \\\"today = pd.Timestamp('today').normalize()\\\",\\n        \\\"concerts = df[df['event_type'] == 'Concert']\\\",\\n        \\\"concerts_today = concerts[(concerts['start_date'] <= today) & (concerts['end_date'] >= today)]\\\",\\n        \\\"solution = concerts_today\\\"\\n    ],\\n    \\\"return\\\": \\\"pandas.core.frame.DataFrame\\\",\\n    \\\"explanation\\\": \\\"The code first imports the pandas library. Then, it creates a Timestamp object representing today's date. It filters the dataframe to only include rows where the event_type is 'Concert'. Then, it filters this subset of the dataframe to only include rows where the start_date is on or before today and the end_date is on or after today. The final result is a dataframe that includes all columns and only the rows that meet these criteria.\\\",\\n    \\\"answer\\\": \\\"The concerts I have today are represented by the rows in the 'solution' dataframe.\\\"\\n}\",\n",
      "        \"generation_info\": {\n",
      "          \"finish_reason\": \"stop\"\n",
      "        },\n",
      "        \"message\": {\n",
      "          \"lc\": 1,\n",
      "          \"type\": \"constructor\",\n",
      "          \"id\": [\n",
      "            \"langchain\",\n",
      "            \"schema\",\n",
      "            \"messages\",\n",
      "            \"AIMessage\"\n",
      "          ],\n",
      "          \"kwargs\": {\n",
      "            \"content\": \"{\\n    \\\"question\\\": \\\"What concerts do I have today?\\\",\\n    \\\"thoughts\\\": \\\"First, I need to filter the dataframe to only include rows where the event_type is 'Concert'. Then, I need to filter the dataframe to only include rows where the start_date is on or before today and the end_date is on or after today. I will use the pandas Timestamp function to convert today's date to a datetime64[ns] value for comparison with the start_date and end_date columns. The final result should be a dataframe that includes all columns and only the rows that meet these criteria.\\\",\\n    \\\"code\\\": [\\n        \\\"import pandas as pd\\\",\\n        \\\"today = pd.Timestamp('today').normalize()\\\",\\n        \\\"concerts = df[df['event_type'] == 'Concert']\\\",\\n        \\\"concerts_today = concerts[(concerts['start_date'] <= today) & (concerts['end_date'] >= today)]\\\",\\n        \\\"solution = concerts_today\\\"\\n    ],\\n    \\\"return\\\": \\\"pandas.core.frame.DataFrame\\\",\\n    \\\"explanation\\\": \\\"The code first imports the pandas library. Then, it creates a Timestamp object representing today's date. It filters the dataframe to only include rows where the event_type is 'Concert'. Then, it filters this subset of the dataframe to only include rows where the start_date is on or before today and the end_date is on or after today. The final result is a dataframe that includes all columns and only the rows that meet these criteria.\\\",\\n    \\\"answer\\\": \\\"The concerts I have today are represented by the rows in the 'solution' dataframe.\\\"\\n}\",\n",
      "            \"additional_kwargs\": {}\n",
      "          }\n",
      "        }\n",
      "      }\n",
      "    ]\n",
      "  ],\n",
      "  \"llm_output\": {\n",
      "    \"token_usage\": {\n",
      "      \"prompt_tokens\": 841,\n",
      "      \"completion_tokens\": 329,\n",
      "      \"total_tokens\": 1170\n",
      "    },\n",
      "    \"model_name\": \"gpt-4-0613\"\n",
      "  },\n",
      "  \"run\": null\n",
      "}\n",
      "\u001B[36;1m\u001B[1;3m[chain/end]\u001B[0m \u001B[1m[1:chain:LLMChain] [35.41s] Exiting Chain run with output:\n",
      "\u001B[0m{\n",
      "  \"text\": \"{\\n    \\\"question\\\": \\\"What concerts do I have today?\\\",\\n    \\\"thoughts\\\": \\\"First, I need to filter the dataframe to only include rows where the event_type is 'Concert'. Then, I need to filter the dataframe to only include rows where the start_date is on or before today and the end_date is on or after today. I will use the pandas Timestamp function to convert today's date to a datetime64[ns] value for comparison with the start_date and end_date columns. The final result should be a dataframe that includes all columns and only the rows that meet these criteria.\\\",\\n    \\\"code\\\": [\\n        \\\"import pandas as pd\\\",\\n        \\\"today = pd.Timestamp('today').normalize()\\\",\\n        \\\"concerts = df[df['event_type'] == 'Concert']\\\",\\n        \\\"concerts_today = concerts[(concerts['start_date'] <= today) & (concerts['end_date'] >= today)]\\\",\\n        \\\"solution = concerts_today\\\"\\n    ],\\n    \\\"return\\\": \\\"pandas.core.frame.DataFrame\\\",\\n    \\\"explanation\\\": \\\"The code first imports the pandas library. Then, it creates a Timestamp object representing today's date. It filters the dataframe to only include rows where the event_type is 'Concert'. Then, it filters this subset of the dataframe to only include rows where the start_date is on or before today and the end_date is on or after today. The final result is a dataframe that includes all columns and only the rows that meet these criteria.\\\",\\n    \\\"answer\\\": \\\"The concerts I have today are represented by the rows in the 'solution' dataframe.\\\"\\n}\"\n",
      "}\n",
      "Running pandas prompt... Done! in 35 seconds\n"
     ]
    }
   ],
   "source": [
    "timer = sw.Stopwatch( \"Running pandas prompt...\" )\n",
    "event_query = \"What concerts do I have today?\"\n",
    "question = get_question_and_coda( event_query )\n",
    "my_response = llm_chain.run( question=question )\n",
    "timer.print( \"Done!\" )"
   ],
   "metadata": {
    "collapsed": false,
    "ExecuteTime": {
     "end_time": "2023-09-27T02:50:35.933671Z",
     "start_time": "2023-09-27T02:50:00.514080Z"
    }
   },
   "id": "70d619c76c79198b"
  },
  {
   "cell_type": "code",
   "execution_count": 49,
   "outputs": [
    {
     "data": {
      "text/plain": "{'question': 'What concerts do I have today?',\n 'thoughts': \"First, I need to filter the dataframe to only include rows where the event_type is 'Concert'. Then, I need to filter the dataframe to only include rows where the start_date is on or before today and the end_date is on or after today. I will use the pandas Timestamp function to convert today's date to a datetime64[ns] value for comparison with the start_date and end_date columns. The final result should be a dataframe that includes all columns and only the rows that meet these criteria.\",\n 'code': ['import pandas as pd',\n  \"today = pd.Timestamp('today').normalize()\",\n  \"concerts = df[df['event_type'] == 'Concert']\",\n  \"concerts_today = concerts[(concerts['start_date'] <= today) & (concerts['end_date'] >= today)]\",\n  'solution = concerts_today'],\n 'return': 'pandas.core.frame.DataFrame',\n 'explanation': \"The code first imports the pandas library. Then, it creates a Timestamp object representing today's date. It filters the dataframe to only include rows where the event_type is 'Concert'. Then, it filters this subset of the dataframe to only include rows where the start_date is on or before today and the end_date is on or after today. The final result is a dataframe that includes all columns and only the rows that meet these criteria.\",\n 'answer': \"The concerts I have today are represented by the rows in the 'solution' dataframe.\"}"
     },
     "execution_count": 49,
     "metadata": {},
     "output_type": "execute_result"
    }
   ],
   "source": [
    "response_dict = json.loads( my_response )\n",
    "response_dict"
   ],
   "metadata": {
    "collapsed": false,
    "ExecuteTime": {
     "end_time": "2023-09-27T02:50:55.860113Z",
     "start_time": "2023-09-27T02:50:55.854995Z"
    }
   },
   "id": "dbc489db0923f81f"
  },
  {
   "cell_type": "code",
   "execution_count": 50,
   "outputs": [
    {
     "name": "stdout",
     "output_type": "stream",
     "text": [
      "import pandas as pd\n",
      "today = pd.Timestamp('today').normalize()\n",
      "concerts = df[df['event_type'] == 'Concert']\n",
      "concerts_today = concerts[(concerts['start_date'] <= today) & (concerts['end_date'] >= today)]\n",
      "solution = concerts_today\n"
     ]
    }
   ],
   "source": [
    "# response_dict[ \"code\" ] = response_dict[ \"code\" ][ 0:4 ]\n",
    "# # response_dict[ \"code\" ].append( \"solution = df_today\" )\n",
    "for line in response_dict[ \"code\" ]:\n",
    "    print( line )\n"
   ],
   "metadata": {
    "collapsed": false,
    "ExecuteTime": {
     "end_time": "2023-09-27T02:50:58.505399Z",
     "start_time": "2023-09-27T02:50:58.499935Z"
    }
   },
   "id": "b5383fbafb417247"
  },
  {
   "cell_type": "code",
   "execution_count": 51,
   "outputs": [
    {
     "name": "stdout",
     "output_type": "stream",
     "text": [
      "\n",
      "{\"start_date\":1695254400000,\"end_date\":1695859200000,\"start_time\":\"00:00\",\"end_time\":\"23:59\",\"event_type\":\"Concert\",\"recurrent\":false,\"recurrence_interval\":null,\"priority_level\":\"high\",\"name\":\"Juan\",\"relationship\":\"neighbor\",\"description_who_what_where\":\"Concert of Juan at the city center\"}\n",
      "{\"start_date\":1695340800000,\"end_date\":1695772800000,\"start_time\":\"00:00\",\"end_time\":\"23:59\",\"event_type\":\"Concert\",\"recurrent\":false,\"recurrence_interval\":null,\"priority_level\":\"none\",\"name\":\"Gregorio\",\"relationship\":\"friend\",\"description_who_what_where\":\"Concert of Gregorio at the city center\"}\n"
     ]
    }
   ],
   "source": [
    "%autoreload\n",
    "# Let's copy it until we get the code munging right\n",
    "response_dict_copy = response_dict[ \"code\" ][ : ]\n",
    "\n",
    "response = ulc.assemble_and_run_solution(\n",
    "    response_dict_copy, path=\"/src/conf/long-term-memory/events.csv\",\n",
    "    solution_code_returns=response_dict[ \"return\" ], debug=False\n",
    ")\n",
    "print()\n",
    "for line in response[ \"response\" ].split( \"\\n\" ):\n",
    "    print( line )"
   ],
   "metadata": {
    "collapsed": false,
    "ExecuteTime": {
     "end_time": "2023-09-27T02:51:02.538958Z",
     "start_time": "2023-09-27T02:51:02.256333Z"
    }
   },
   "id": "968357a41db502e1"
  },
  {
   "cell_type": "code",
   "execution_count": 30,
   "outputs": [
    {
     "name": "stdout",
     "output_type": "stream",
     "text": [
      "5\n",
      "{\"start_date\":\"2023-08-01\",\"end_date\":\"2023-08-04\",\"start_time\":\"00:00\",\"end_time\":\"23:59\",\"event_type\":\"Concert\",\"recurrent\":false,\"recurrence_interval\":null,\"priority_level\":\"none\",\"name\":\"Jenny\",\"relationship\":\"coworker\",\"description_who_what_where\":\"Concert of Jenny at the city center\"}\n",
      "{\"start_date\":\"2023-08-01\",\"end_date\":\"2023-08-01\",\"start_time\":\"05:25\",\"end_time\":\"17:22\",\"event_type\":\"TODO\",\"recurrent\":false,\"recurrence_interval\":null,\"priority_level\":\"highest\",\"name\":\"Gregorio\",\"relationship\":\"friend\",\"description_who_what_where\":\"Send out invitations for the party for Gregorio\"}\n",
      "{\"start_date\":\"2023-08-01\",\"end_date\":\"2023-08-01\",\"start_time\":\"13:27\",\"end_time\":\"01:59\",\"event_type\":\"Appointment\",\"recurrent\":false,\"recurrence_interval\":null,\"priority_level\":\"high\",\"name\":\"Leroy Ruiz\",\"relationship\":\"father\",\"description_who_what_where\":\"Appointment with Leroy Ruiz at the clinic\"}\n",
      "{\"start_date\":\"2023-08-02\",\"end_date\":\"2023-08-03\",\"start_time\":\"13:18\",\"end_time\":\"02:40\",\"event_type\":\"Interview\",\"recurrent\":false,\"recurrence_interval\":null,\"priority_level\":\"highest\",\"name\":\"John\",\"relationship\":\"coworker\",\"description_who_what_where\":\"Job interview with John at Google\"}\n",
      "{\"start_date\":\"2023-08-03\",\"end_date\":\"2023-08-04\",\"start_time\":\"00:00\",\"end_time\":\"23:59\",\"event_type\":\"Performance\",\"recurrent\":false,\"recurrence_interval\":null,\"priority_level\":\"medium\",\"name\":\"Sue\",\"relationship\":\"sister\",\"description_who_what_where\":\"Theatre performance with Sue\"}\n"
     ]
    }
   ],
   "source": [
    "lines = raw_df.head( 5 ).to_json( orient=\"records\", lines=True )\n",
    "print( len( lines.split( \"\\n\" ) ) - 1 )\n",
    "print( lines )"
   ],
   "metadata": {
    "collapsed": false,
    "ExecuteTime": {
     "end_time": "2023-09-27T02:36:02.155289Z",
     "start_time": "2023-09-27T02:36:02.120815Z"
    }
   },
   "id": "875ed8eec6cdb4a6"
  },
  {
   "cell_type": "code",
   "execution_count": 36,
   "outputs": [],
   "source": [
    "# for line in raw_df.head().to_json( orient=\"records\", lines=True ).split( \"\\n\" ):\n",
    "#     print( line, end=\"\\n\\n\" )\n"
   ],
   "metadata": {
    "collapsed": false,
    "ExecuteTime": {
     "end_time": "2023-09-27T02:43:02.623443Z",
     "start_time": "2023-09-27T02:43:02.598198Z"
    }
   },
   "id": "8a57d4c4b9916e59"
  },
  {
   "cell_type": "code",
   "execution_count": 35,
   "outputs": [
    {
     "data": {
      "text/plain": "10"
     },
     "execution_count": 35,
     "metadata": {},
     "output_type": "execute_result"
    }
   ],
   "source": [
    "len( response[ \"response\" ].split( \"\\n\" ) )"
   ],
   "metadata": {
    "collapsed": false,
    "ExecuteTime": {
     "end_time": "2023-09-27T02:42:31.273362Z",
     "start_time": "2023-09-27T02:42:31.240685Z"
    }
   },
   "id": "2384bb3c637ea2a7"
  },
  {
   "cell_type": "code",
   "execution_count": 52,
   "outputs": [
    {
     "name": "stdout",
     "output_type": "stream",
     "text": [
      "\n",
      "I'm going to show you 2 rows of JSONL output from a query on a pandas dataframe. \n",
      "\n",
      "JSONL output:\n",
      "\n",
      "{\"start_date\":1695254400000,\"end_date\":1695859200000,\"start_time\":\"00:00\",\"end_time\":\"23:59\",\"event_type\":\"Concert\",\"recurrent\":false,\"recurrence_interval\":null,\"priority_level\":\"high\",\"name\":\"Juan\",\"relationship\":\"neighbor\",\"description_who_what_where\":\"Concert of Juan at the city center\"}\n",
      "{\"start_date\":1695340800000,\"end_date\":1695772800000,\"start_time\":\"00:00\",\"end_time\":\"23:59\",\"event_type\":\"Concert\",\"recurrent\":false,\"recurrence_interval\":null,\"priority_level\":\"none\",\"name\":\"Gregorio\",\"relationship\":\"friend\",\"description_who_what_where\":\"Concert of Gregorio at the city center\"}\n"
     ]
    }
   ],
   "source": [
    "rows = len( response[ \"response\" ].split( \"\\n\" ) )\n",
    "preamble = f\"\"\"\n",
    "I'm going to show you {rows} rows of JSONL output from a query on a pandas dataframe. \n",
    "\n",
    "JSONL output:\n",
    "\n",
    "{response[ \"response\" ]}\n",
    "\"\"\"\n",
    "#for line in preamble:\n",
    "#     print( line )\n",
    "print( preamble )"
   ],
   "metadata": {
    "collapsed": false,
    "ExecuteTime": {
     "end_time": "2023-09-27T02:51:15.457917Z",
     "start_time": "2023-09-27T02:51:15.453425Z"
    }
   },
   "id": "4b39305b328bf00f"
  },
  {
   "cell_type": "code",
   "execution_count": 12,
   "outputs": [
    {
     "name": "stdout",
     "output_type": "stream",
     "text": [
      "\n",
      "I'm going to show you raw CSV output from a query on a pandas events dataframe. \n",
      "\n",
      "Raw CSV output:\n",
      "\n",
      "\"start_date\",\"end_date\",\"start_time\",\"end_time\",\"event_type\",\"recurrent\",\"recurrence_interval\",\"priority_level\",\"name\",\"relationship\",\"description_who_what_where\"\n",
      "\"2023-09-19\",\"2023-09-26\",\"00:00\",\"23:59\",\"Conference\",False,\"\",\"medium\",\"Sue\",\"sister\",\"Conference with Sue on AI advancements\"\n",
      "\"2023-09-20\",\"2023-09-27\",\"00:00\",\"23:59\",\"Birthday\",True,\"2 week\",\"medium\",\"Gregorio\",\"friend\",\"Gregorio's birthday party at their favorite bar\"\n",
      "\"2023-09-21\",\"2023-09-28\",\"00:00\",\"23:59\",\"Concert\",False,\"\",\"high\",\"Juan\",\"neighbor\",\"Concert of Juan at the city center\"\n",
      "\"2023-09-22\",\"2023-09-27\",\"00:00\",\"23:59\",\"Concert\",False,\"\",\"none\",\"Gregorio\",\"friend\",\"Concert of Gregorio at the city center\"\n",
      "\"2023-09-22\",\"2023-09-29\",\"00:00\",\"23:59\",\"Conference\",False,\"\",\"none\",\"Barbara Jane Ruiz\",\"mother\",\"Conference with Barbara Jane Ruiz on AI advancements\"\n",
      "\"2023-09-24\",\"2023-09-30\",\"12:01\",\"04:55\",\"TODO\",False,\"\",\"medium\",\"Juan\",\"neighbor\",\"Prepare presentation for next week's meeting for Juan (neighbor)\"\n",
      "\"2023-09-25\",\"2023-09-26\",\"21:49\",\"12:57\",\"Appointment\",False,\"\",\"medium\",\"Sally\",\"sister\",\"Appointment with Sally at the clinic\"\n",
      "\"2023-09-25\",\"2023-10-01\",\"21:58\",\"00:54\",\"Meeting\",False,\"\",\"low\",\"Sally\",\"sister\",\"Another boring meeting with Sally\"\n",
      "\"2023-09-26\",\"2023-09-26\",\"00:00\",\"23:59\",\"Conference\",False,\"\",\"high\",\"Pablo\",\"friend\",\"Conference with Pablo on AI advancements\"\n"
     ]
    }
   ],
   "source": [
    "preamble = f\"\"\"\n",
    "I'm going to show you raw CSV output from a query on a pandas events dataframe. \n",
    "\n",
    "Raw CSV output:\n",
    "\n",
    "{response[ \"response\" ]}\n",
    "\"\"\"\n",
    "#for line in preamble:\n",
    "#     print( line )\n",
    "print( preamble )"
   ],
   "metadata": {
    "collapsed": false,
    "ExecuteTime": {
     "end_time": "2023-09-26T23:52:01.381914Z",
     "start_time": "2023-09-26T23:52:01.335424Z"
    }
   },
   "id": "4e080f3d468b7cb7"
  },
  {
   "cell_type": "code",
   "execution_count": 53,
   "outputs": [
    {
     "name": "stdout",
     "output_type": "stream",
     "text": [
      "\n",
      "Rephrase this JSONL data in conversational English in such a way that answers this question `What concerts do I have today?`\n",
      "\n",
      "Your output should contain one line per event.\n"
     ]
    }
   ],
   "source": [
    "instructions = f\"\"\"\n",
    "Rephrase this JSONL data in conversational English in such a way that answers this question `{event_query}`\n",
    "\n",
    "Your output should contain one line per event.\n",
    "\"\"\"\n",
    "for line in instructions.split( \"\\n\" ):\n",
    "    print( line )"
   ],
   "metadata": {
    "collapsed": false,
    "ExecuteTime": {
     "end_time": "2023-09-27T02:51:28.012867Z",
     "start_time": "2023-09-27T02:51:28.006502Z"
    }
   },
   "id": "b2ee50870ed779f8"
  },
  {
   "cell_type": "code",
   "execution_count": 54,
   "outputs": [
    {
     "name": "stdout",
     "output_type": "stream",
     "text": [
      "Asking ChatGPT [gpt-4-0613]...Done! in 9,549 ms\n"
     ]
    }
   ],
   "source": [
    "%autoreload\n",
    "genie_client = gc.GenieClient()\n",
    "answer_conversational = genie_client.ask_chat_gpt_text( instructions, preamble=preamble, model=gc.GPT_4 )"
   ],
   "metadata": {
    "collapsed": false,
    "ExecuteTime": {
     "end_time": "2023-09-27T02:51:44.473182Z",
     "start_time": "2023-09-27T02:51:34.885357Z"
    }
   },
   "id": "9886d04725a7ab2a"
  },
  {
   "cell_type": "code",
   "execution_count": 55,
   "outputs": [
    {
     "name": "stdout",
     "output_type": "stream",
     "text": [
      "Sure, here are the concerts you have today:\n",
      "\n",
      "1. There's a high-priority concert by your neighbor, Juan, at the city center. It starts at midnight and ends at 11:59 PM.\n",
      "\n",
      "2. There's also a concert by your friend, Gregorio, at the city center. This one also starts at midnight and ends at 11:59 PM, but it doesn't have a priority level assigned.\n"
     ]
    }
   ],
   "source": [
    "for line in answer_conversational.split( \"\\n\" ):\n",
    "    print( line )"
   ],
   "metadata": {
    "collapsed": false,
    "ExecuteTime": {
     "end_time": "2023-09-27T02:51:44.478595Z",
     "start_time": "2023-09-27T02:51:44.473084Z"
    }
   },
   "id": "3153996e5d3a6598"
  },
  {
   "cell_type": "code",
   "execution_count": 56,
   "outputs": [
    {
     "name": "stdout",
     "output_type": "stream",
     "text": [
      "Asking ChatGPT [gpt-3.5-turbo-0613]...Done! in 1,770 ms\n"
     ]
    }
   ],
   "source": [
    "genie_client = gc.GenieClient()\n",
    "answer_conversational = genie_client.ask_chat_gpt_text( instructions, preamble=preamble, model=gc.GPT_3_5 )"
   ],
   "metadata": {
    "collapsed": false,
    "ExecuteTime": {
     "end_time": "2023-09-27T02:51:46.257914Z",
     "start_time": "2023-09-27T02:51:44.478547Z"
    }
   },
   "id": "c0f08c25d9a59c70"
  },
  {
   "cell_type": "code",
   "execution_count": 57,
   "outputs": [],
   "source": [
    "import regex as re"
   ],
   "metadata": {
    "collapsed": false,
    "ExecuteTime": {
     "end_time": "2023-09-27T02:51:46.264596Z",
     "start_time": "2023-09-27T02:51:46.260413Z"
    }
   },
   "id": "691c2f2eab89b8ee"
  },
  {
   "cell_type": "code",
   "execution_count": 58,
   "outputs": [
    {
     "name": "stdout",
     "output_type": "stream",
     "text": [
      "[You have two concerts today. The first one is a high priority concert by Juan, your neighbor, at the city center. The second concert is by Gregorio, your friend, also at the city center.]\n"
     ]
    }
   ],
   "source": [
    "# https://chat.openai.com/share/eca4c68e-73b1-4c5c-81c2-151e2216442f\n",
    "# The very last interaction contains these instructions:\n",
    "#\n",
    "# Use the regular expression pattern ^\\d+\\.\\s*:\n",
    "# \n",
    "#     ^: asserts position at the start of a line.\n",
    "#     \\d+: matches one or more digits.\n",
    "#     \\.: matches a literal period (dot).\n",
    "#     \\s*: matches zero or more whitespace characters.\n",
    "\n",
    "for line in answer_conversational.split( \"\\n\" ):\n",
    "    line = re.sub( r\"^\\d+\\.\\s*\", \"\", line )\n",
    "    print( f\"[{line}]\" )"
   ],
   "metadata": {
    "collapsed": false,
    "ExecuteTime": {
     "end_time": "2023-09-27T02:51:46.272298Z",
     "start_time": "2023-09-27T02:51:46.265851Z"
    }
   },
   "id": "d39eb3a62263bfcf"
  },
  {
   "cell_type": "code",
   "execution_count": null,
   "outputs": [],
   "source": [],
   "metadata": {
    "collapsed": false
   },
   "id": "10e0473c981c973d"
  },
  {
   "cell_type": "code",
   "execution_count": null,
   "outputs": [],
   "source": [],
   "metadata": {
    "collapsed": false
   },
   "id": "b48bb17333347f56"
  },
  {
   "cell_type": "code",
   "execution_count": null,
   "outputs": [],
   "source": [],
   "metadata": {
    "collapsed": false
   },
   "id": "e78072ebcaae2a8c"
  },
  {
   "cell_type": "code",
   "execution_count": null,
   "outputs": [],
   "source": [],
   "metadata": {
    "collapsed": false
   },
   "id": "5c02ba35efae3ec2"
  },
  {
   "cell_type": "markdown",
   "source": [
    "# Prototyping the calendar agent object"
   ],
   "metadata": {
    "collapsed": false
   },
   "id": "108ca567a4e3664f"
  },
  {
   "cell_type": "code",
   "execution_count": 190,
   "outputs": [
    {
     "name": "stderr",
     "output_type": "stream",
     "text": [
      "Retrying langchain.chat_models.openai.ChatOpenAI.completion_with_retry.<locals>._completion_with_retry in 4.0 seconds as it raised APIConnectionError: Error communicating with OpenAI: ('Connection aborted.', RemoteDisconnected('Remote end closed connection without response')).\n"
     ]
    },
    {
     "name": "stdout",
     "output_type": "stream",
     "text": [
      "Running pandas prompt...\n",
      "Running pandas prompt... Done! in 20 seconds\n"
     ]
    }
   ],
   "source": [
    "import sys\n",
    "import os\n",
    "# import json\n",
    "# \n",
    "# os.environ[ \"LANGCHAIN_WANDB_TRACING\" ] = \"true\"\n",
    "# # wandb documentation to configure wandb using env variables\n",
    "# # https://docs.wandb.ai/guides/track/advanced/environment-variables\n",
    "# # here we are configuring the wandb project name\n",
    "# os.environ[ \"WANDB_PROJECT\" ] = \"langchain-dataframe-agent\"\n",
    "# \n",
    "# path = \"/var/genie-in-the-box/src/lib\"\n",
    "# if path not in sys.path:\n",
    "#     sys.path.append( path )\n",
    "# else:\n",
    "#     print( f\"[{path}] already in sys.path\" )\n",
    "# \n",
    "# print( sys.path )\n",
    "# \n",
    "# import lib.util as du\n",
    "# \n",
    "# path = \"/var/genie-in-the-box/src\"\n",
    "# du.add_to_path( path )\n",
    "# \n",
    "# import lib.util_stopwatch as sw\n",
    "# # import util_langchain as ulc\n",
    "# import genie_client as gc\n",
    "# \n",
    "# from langchain.schema import (\n",
    "#     AIMessage,\n",
    "#     HumanMessage,\n",
    "#     SystemMessage\n",
    "# )\n",
    "import langchain\n",
    "# from langchain.chat_models import ChatOpenAI\n",
    "# from langchain.memory import ConversationBufferMemory\n",
    "# from langchain.chains import ConversationalRetrievalChain\n",
    "# from langchain.agents.agent_toolkits.pandas.base import create_pandas_dataframe_agent\n",
    "# \n",
    "# from langchain import PromptTemplate\n",
    "# from langchain import LLMChain\n",
    "\n",
    "import pandas as pd\n",
    "\n",
    "\n",
    "class CalendaringAgent:\n",
    "    \n",
    "    def __init__( self, path_to_df, debug=False, verbose=False ):\n",
    "        langchain.debug = debug\n",
    "        langchain.verbose = verbose\n",
    "        \n",
    "        self.path_to_df = path_to_df\n",
    "        self.debug = debug\n",
    "        self.verbose = verbose\n",
    "        self.df = pd.read_csv( du.get_project_root() + \"/src/conf/long-term-memory/events.csv\" )\n",
    "        \n",
    "        # Please can stay private for the time being, right?!?\n",
    "        llm_4 = ChatOpenAI( model_name=gc.GPT_4, temperature=0.0 )\n",
    "        events_df = pd.read_csv( du.get_project_root() + \"/src/conf/long-term-memory/events.csv\" )\n",
    "        memory = ConversationBufferMemory( memory_key=\"chat_history\", return_messages=True, verbose=verbose )\n",
    "        \n",
    "        self.df_agent = create_pandas_dataframe_agent( llm_4, events_df, verbose=verbose )\n",
    "        self.df_agent.memory = memory\n",
    "        \n",
    "        prompt = PromptTemplate(\n",
    "            template=self._get_pandas_prompt_template(),\n",
    "            input_variables=[ \"question\" ]\n",
    "        )\n",
    "        self.llm_chain = LLMChain( prompt=prompt, llm=llm_4 )\n",
    "    \n",
    "    def run_prompt( self, question ):\n",
    "        timer = sw.Stopwatch( \"Running pandas prompt...\" )\n",
    "        question_plus_coda = self._get_question_plus_coda( question )\n",
    "        self.response = self.llm_chain.run( question=question_plus_coda )\n",
    "        timer.print( \"Done!\" )\n",
    "        \n",
    "        # TODO: Add error handling, because you *know* that something's gonna come back malformed\n",
    "        # Convert the response to a dictionary, blindly...\n",
    "        self.response_dict = json.loads( self.response )\n",
    "        \n",
    "        return self.response_dict\n",
    "    \n",
    "    def _get_pandas_prompt_template( self ):\n",
    "        pandas_prompt_template = \"\"\"\n",
    "        You are working with a pandas dataframe in Python. The name of the dataframe is `df`.\n",
    "\n",
    "        This is the ouput from `print(df.head().to_csv())`, in CSV format:\n",
    "\n",
    "        \"start_date\",\"end_date\",\"start_time\",\"end_time\",\"event_type\",\"recurrent\",\"recurrence_interval\",\"priority_level\",\"name\",\"relationship\",\"description_who_what_where\"\n",
    "        \"2023-07-01\",\"2023-07-04\",\"00:00\",\"23:59\",\"Concert\",False,\"\",\"none\",\"Jenny\",\"coworker\",\"Concert of Jenny at the city center\"\n",
    "        \"2023-07-01\",\"2023-07-01\",\"05:25\",\"17:22\",\"TODO\",False,\"\",\"highest\",\"Gregorio\",\"friend\",\"Send out invitations for the party for Gregorio\"\n",
    "        \"2023-07-01\",\"2023-07-01\",\"13:27\",\"01:59\",\"Appointment\",False,\"\",\"high\",\"Leroy Ruiz\",\"father\",\"Appointment with Leroy Ruiz at the clinic\"\n",
    "        \"2023-07-03\",\"2023-07-04\",\"00:00\",\"23:59\",\"Subscription\",True,\"1 year\",\"highest\",\"Leroy Ruiz\",\"father\",\"Renewal of Leroy Ruiz's subscription\"\n",
    "        \"2023-07-03\",\"2023-07-04\",\"00:00\",\"23:59\",\"Anniversary\",True,\"4 week\",\"none\",\"Juan\",\"neighbor\",\"Juan's anniversary celebration at the park\"\n",
    "        \"2023-07-04\",\"2023-07-04\",\"00:00\",\"23:59\",\"Anniversary\",True,\"4 week\",\"medium\",\"Leroy Ruiz\",\"father\",\"Leroy Ruiz's anniversary celebration at the park\"\n",
    "\n",
    "        This is the from `print(df.dtypes)`:\n",
    "\n",
    "        start_date                    datetime64[ns]\n",
    "        end_date                      datetime64[ns]\n",
    "        start_time                            object\n",
    "        end_time                              object\n",
    "        event_type                            object\n",
    "        recurrent                               bool\n",
    "        recurrence_interval                   object\n",
    "        priority_level                        object\n",
    "        name                                  object\n",
    "        relationship                          object\n",
    "        description_who_what_where            object\n",
    "        dtype: object\n",
    "\n",
    "        As you generate the python code needed to answer the question asked of you below, I want you to:\n",
    "\n",
    "        1) Question: Ask yourself If you understand the question that I am asking you?\n",
    "        2) Think: Before you do anything, think out loud about what I'm asking you to do, including what are the steps you need to take to solve this problem? What are the things you need to consider? Be critical of your thought process!\n",
    "        3) Code: Generate a verbatim list of code that you used to arrive at your answer, one line of code per item on the list. The code must be complete, syntactically correct, and run to completion. The last line of your code must be the variable `solution`, which represents the answer.\n",
    "        4) Return: Report on the object type of the variable `solution` in your last line of code.\n",
    "        5) Explain: Briefly and succinctly explain your code in plain English.\n",
    "        6) Answer: Answer the question in a short, simple, terse sentence.\n",
    "\n",
    "        Format: return your response as a JSON object in the following fields:\n",
    "        {{\n",
    "            \"question\": \"the question that your code answers\",\n",
    "            \"thoughts\": \"your thoughts\",\n",
    "            \"code\": [],\n",
    "            \"return\": \"Object type of the variable `solution`\",\n",
    "            \"explanation\": \"your brief explanation of your code\",\n",
    "            \"answer\": \"your very succinct answer, in conversational English, one sentence only.\"\n",
    "        }}\n",
    "\n",
    "        Begin!\n",
    "\n",
    "        Question: {question}\n",
    "        \"\"\"\n",
    "        return pandas_prompt_template\n",
    "    \n",
    "    def _get_question_plus_coda( self, event_query ):\n",
    "        question_plus_coda_template = f\"\"\"\n",
    "        Question: {event_query}\n",
    "\n",
    "        Hint: An event that I have today may have started before today and may end tomorrow or next week, so be careful how you filter on dates.\n",
    "        Hint: When filtering by dates, use `pd.Timestamp( day )` to convert a Python datetime object into a Pandas `datetime64[ns]` value.\n",
    "        Hint: If your code returns any records, they should include all columns in the dataframe.\n",
    "        \"\"\"\n",
    "        return question_plus_coda_template\n",
    "\n",
    "\n",
    "# Add main method\n",
    "# if __name__ == \"__main__\":\n",
    "\n",
    "agent = CalendaringAgent( path_to_df=du.get_project_root() + \"/src/conf/long-term-memory/events.csv\", debug=False )\n",
    "response = agent.run_prompt( \"What events do I have today?\" )"
   ],
   "metadata": {
    "collapsed": false,
    "ExecuteTime": {
     "end_time": "2023-09-09T04:10:13.496853Z",
     "start_time": "2023-09-09T04:09:53.271669Z"
    }
   },
   "id": "7dccb7c4862a8c77"
  },
  {
   "cell_type": "code",
   "execution_count": 194,
   "outputs": [
    {
     "name": "stdout",
     "output_type": "stream",
     "text": [
      "{\n",
      "    \"question\": \"What events do I have today?\",\n",
      "    \"thoughts\": \"To answer this question, I need to filter the dataframe to only include events that are happening today. This means that the event's start date is on or before today and the end date is on or after today. I will use the pandas Timestamp function to convert today's date into a format that can be compared with the dates in the dataframe. I will then use boolean indexing to filter the dataframe.\",\n",
      "    \"code\": [\n",
      "        \"import pandas as pd\",\n",
      "        \"from datetime import datetime\",\n",
      "        \"today = pd.Timestamp(datetime.now())\",\n",
      "        \"solution = df[(df['start_date'] <= today) & (df['end_date'] >= today)]\"\n",
      "    ],\n",
      "    \"return\": \"pandas.core.frame.DataFrame\",\n",
      "    \"explanation\": \"The code first imports the necessary libraries. It then gets today's date and time and converts it into a pandas Timestamp object. The dataframe is then filtered to only include rows where the start date is on or before today and the end date is on or after today. The result is a dataframe that includes all columns and only the rows that meet the specified conditions.\",\n",
      "    \"answer\": \"The events I have today are those returned in the 'solution' dataframe.\"\n",
      "}\n"
     ]
    }
   ],
   "source": [
    "response = json.loads( response )\n",
    "print( json.dumps( response, indent=4 ) )"
   ],
   "metadata": {
    "collapsed": false,
    "ExecuteTime": {
     "end_time": "2023-09-09T04:18:10.147248Z",
     "start_time": "2023-09-09T04:18:09.903036Z"
    }
   },
   "id": "dee0fdea9e83a1cf"
  },
  {
   "cell_type": "code",
   "execution_count": 193,
   "outputs": [
    {
     "data": {
      "text/plain": "['import pandas as pd',\n 'from datetime import datetime',\n 'today = pd.Timestamp(datetime.now())',\n \"solution = df[(df['start_date'] <= today) & (df['end_date'] >= today)]\"]"
     },
     "execution_count": 193,
     "metadata": {},
     "output_type": "execute_result"
    }
   ],
   "source": [
    "response_dict = json.loads( response )\n",
    "response_dict[ \"code\" ]"
   ],
   "metadata": {
    "collapsed": false,
    "ExecuteTime": {
     "end_time": "2023-09-09T04:11:12.374343Z",
     "start_time": "2023-09-09T04:11:12.127703Z"
    }
   },
   "id": "bd5da53af17247a4"
  },
  {
   "cell_type": "code",
   "execution_count": null,
   "outputs": [],
   "source": [],
   "metadata": {
    "collapsed": false
   },
   "id": "5ba5929faef04d18"
  }
 ],
 "metadata": {
  "kernelspec": {
   "display_name": "Python 3",
   "language": "python",
   "name": "python3"
  },
  "language_info": {
   "codemirror_mode": {
    "name": "ipython",
    "version": 2
   },
   "file_extension": ".py",
   "mimetype": "text/x-python",
   "name": "python",
   "nbconvert_exporter": "python",
   "pygments_lexer": "ipython2",
   "version": "2.7.6"
  }
 },
 "nbformat": 4,
 "nbformat_minor": 5
}
