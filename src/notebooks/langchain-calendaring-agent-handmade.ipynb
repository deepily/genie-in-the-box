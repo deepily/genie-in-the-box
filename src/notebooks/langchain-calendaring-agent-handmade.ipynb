{
 "cells": [
  {
   "cell_type": "code",
   "execution_count": 1,
   "outputs": [
    {
     "name": "stdout",
     "output_type": "stream",
     "text": [
      "Collecting tabulate\r\n",
      "  Downloading tabulate-0.9.0-py3-none-any.whl (35 kB)\r\n",
      "Installing collected packages: tabulate\r\n",
      "Successfully installed tabulate-0.9.0\r\n",
      "\u001B[33mWARNING: Running pip as the 'root' user can result in broken permissions and conflicting behaviour with the system package manager. It is recommended to use a virtual environment instead: https://pip.pypa.io/warnings/venv\u001B[0m\u001B[33m\r\n",
      "\u001B[0m"
     ]
    }
   ],
   "source": [
    "! pip install tabulate"
   ],
   "metadata": {
    "collapsed": false,
    "ExecuteTime": {
     "end_time": "2023-09-29T14:29:18.126651Z",
     "start_time": "2023-09-29T14:29:15.747111Z"
    }
   },
   "id": "e6eaa73ca09ced5b"
  },
  {
   "cell_type": "code",
   "execution_count": 6,
   "outputs": [],
   "source": [
    "%load_ext autoreload"
   ],
   "metadata": {
    "collapsed": false,
    "ExecuteTime": {
     "end_time": "2023-10-02T15:33:36.408974Z",
     "start_time": "2023-10-02T15:33:36.363141Z"
    }
   },
   "id": "14c1efa189e09521"
  },
  {
   "cell_type": "code",
   "execution_count": 7,
   "outputs": [
    {
     "name": "stdout",
     "output_type": "stream",
     "text": [
      "['/Applications/PyCharm.app/Contents/plugins/python/helpers-pro/jupyter_debug', '/Applications/PyCharm.app/Contents/plugins/python/helpers/pydev', '/var/genie-in-the-box/src/notebooks', '/usr/local/lib/python310.zip', '/usr/local/lib/python3.10', '/usr/local/lib/python3.10/lib-dynload', '', '/usr/local/lib/python3.10/site-packages', '/var/genie-in-the-box/src/lib']\n",
      "Added [/var/genie-in-the-box/src] to sys.path\n",
      "pwd [/var/genie-in-the-box/src/notebooks]\n",
      "\n",
      "/Applications/PyCharm.app/Contents/plugins/python/helpers-pro/jupyter_debug\n",
      "/Applications/PyCharm.app/Contents/plugins/python/helpers/pydev\n",
      "/usr/local/lib/python3.10\n",
      "/usr/local/lib/python3.10/lib-dynload\n",
      "/usr/local/lib/python3.10/site-packages\n",
      "/usr/local/lib/python310.zip\n",
      "/var/genie-in-the-box/src\n",
      "/var/genie-in-the-box/src/lib\n",
      "/var/genie-in-the-box/src/notebooks\n"
     ]
    }
   ],
   "source": [
    "%autoreload\n",
    "\n",
    "import sys\n",
    "import os\n",
    "import json\n",
    "\n",
    "# os.environ[ \"LANGCHAIN_WANDB_TRACING\" ] = \"true\"\n",
    "# # wandb documentation to configure wandb using env variables\n",
    "# # https://docs.wandb.ai/guides/track/advanced/environment-variables\n",
    "# # here we are configuring the wandb project name\n",
    "# os.environ[ \"WANDB_PROJECT\" ] = \"deepily-dataframe-agent\"\n",
    "\n",
    "path = \"/var/genie-in-the-box/src/lib\"\n",
    "if path not in sys.path:\n",
    "    sys.path.append( path )\n",
    "else:\n",
    "    print( f\"[{path}] already in sys.path\" )\n",
    "\n",
    "print( sys.path )\n",
    "\n",
    "import util as du\n",
    "\n",
    "path = \"/var/genie-in-the-box/src\"\n",
    "du.add_to_path( path )\n",
    "\n",
    "import util_pandas    as up\n",
    "import util_stopwatch as sw\n",
    "import util_langchain as ulc\n",
    "import genie_client   as gc\n",
    "\n",
    "import pandas as pd\n",
    "\n",
    "debug = True\n",
    "verbose = True\n"
   ],
   "metadata": {
    "collapsed": false,
    "ExecuteTime": {
     "end_time": "2023-10-02T15:33:38.712485Z",
     "start_time": "2023-10-02T15:33:38.401296Z"
    }
   },
   "id": "e4a94b9494513834"
  },
  {
   "cell_type": "code",
   "execution_count": 8,
   "outputs": [
    {
     "name": "stdout",
     "output_type": "stream",
     "text": [
      "\n",
      "------------------------------------------------------------------------------------------------------------------------\n",
      "- df.dtypes:\n",
      "------------------------------------------------------------------------------------------------------------------------\n",
      "start_date                    datetime64[ns]\n",
      "end_date                      datetime64[ns]\n",
      "start_time                            object\n",
      "end_time                              object\n",
      "event_type                            object\n",
      "recurrent                               bool\n",
      "recurrence_interval                   object\n",
      "priority_level                        object\n",
      "name                                  object\n",
      "relationship                          object\n",
      "description_who_what_where            object\n",
      "dtype: object\n"
     ]
    }
   ],
   "source": [
    "df = pd.read_csv( du.get_project_root() + \"/src/conf/long-term-memory/events.csv\" )\n",
    "df = up.cast_to_datetime( df, debug=debug )"
   ],
   "metadata": {
    "collapsed": false,
    "ExecuteTime": {
     "end_time": "2023-10-02T15:33:54.810854Z",
     "start_time": "2023-10-02T15:33:54.791693Z"
    }
   },
   "id": "a7a55136a8e498ed"
  },
  {
   "cell_type": "code",
   "execution_count": 9,
   "outputs": [],
   "source": [
    "import openai"
   ],
   "metadata": {
    "collapsed": false,
    "ExecuteTime": {
     "end_time": "2023-10-02T15:33:56.530953Z",
     "start_time": "2023-10-02T15:33:56.527808Z"
    }
   },
   "id": "ab33b4a5bfb6636c"
  },
  {
   "cell_type": "code",
   "execution_count": 10,
   "outputs": [
    {
     "name": "stdout",
     "output_type": "stream",
     "text": [
      "Asking ChatGPT [gpt-4-0613]...\n",
      "Asking ChatGPT [gpt-4-0613]... in 1,670 ms\n"
     ]
    },
    {
     "data": {
      "text/plain": "'My name is ChatGPT.'"
     },
     "execution_count": 10,
     "metadata": {},
     "output_type": "execute_result"
    }
   ],
   "source": [
    "GPT_4   = \"gpt-4-0613\"\n",
    "GPT_3_5 = \"gpt-3.5-turbo-0613\"\n",
    "\n",
    "def ask_chat_gpt_text( preamble, query, model=GPT_4, debug=False ):\n",
    "\n",
    "    openai.api_key = os.getenv( \"FALSE_POSITIVE_API_KEY\" )\n",
    "    \n",
    "    timer = sw.Stopwatch( msg=f\"Asking ChatGPT [{model}]...\".format( model ) )\n",
    "    \n",
    "    response = openai.ChatCompletion.create(\n",
    "        model=model,\n",
    "        messages=[ \n",
    "            { \"role\": \"system\", \"content\": preamble },\n",
    "            { \"role\": \"user\",   \"content\": query } \n",
    "        ],\n",
    "        temperature=0,\n",
    "        max_tokens=2400,\n",
    "        top_p=1.0,\n",
    "        frequency_penalty=0.0,\n",
    "        presence_penalty=0.0\n",
    "    )\n",
    "    timer.print( use_millis=True )\n",
    "    \n",
    "    if debug: print( json.dumps( response, indent=4 ) )\n",
    "    \n",
    "    return response[ \"choices\" ][ 0 ][ \"message\" ][ \"content\" ].strip()\n",
    "\n",
    "preamble = \"You are chatGPT, a helpful chatbot\"\n",
    "question = \"What's your name?\"\n",
    "\n",
    "ask_chat_gpt_text( preamble, question, model=GPT_4 )"
   ],
   "metadata": {
    "collapsed": false,
    "ExecuteTime": {
     "end_time": "2023-10-02T15:34:01.049022Z",
     "start_time": "2023-10-02T15:33:59.368458Z"
    }
   },
   "id": "15c33434a5136979"
  },
  {
   "cell_type": "code",
   "execution_count": 18,
   "outputs": [],
   "source": [
    "%autoreload\n",
    "\n",
    "import os\n",
    "import json\n",
    "\n",
    "import lib.util           as du\n",
    "import lib.util_pandas    as dup\n",
    "import lib.util_stopwatch as sw\n",
    "import genie_client       as gc\n",
    "\n",
    "import pandas as pd\n",
    "import tiktoken\n",
    "\n",
    "class CalendaringAgent:\n",
    "    \n",
    "    def __init__( self, path_to_df, debug=False, verbose=False ):\n",
    "        \n",
    "        self.debug                = debug\n",
    "        self.verbose              = verbose\n",
    "        self.path_to_df           = du.get_project_root() + path_to_df\n",
    "        self.df                   = pd.read_csv( self.path_to_df )\n",
    "        self.df                   = dup.cast_to_datetime( self.df )\n",
    "    \n",
    "        self.pandas_system_prompt = self._get_pandas_system_prompt()\n",
    "        \n",
    "        self.response_dict        = None \n",
    "        self.question             = None\n",
    "        \n",
    "    def get_token_count( self, to_be_tokenized, model=GPT_4 ):\n",
    "        \n",
    "        encoding   = tiktoken.encoding_for_model( model )\n",
    "        num_tokens = len( encoding.encode( to_be_tokenized ) )\n",
    "        \n",
    "        return num_tokens\n",
    "        \n",
    "    def _get_pandas_system_prompt( self ):\n",
    "        \n",
    "        csv = self.df.head( 3 ).to_csv( header=True, index=False)\n",
    "        csv = csv + self.df.tail( 3 ).to_csv( header=False, index=False )\n",
    "        \n",
    "        pandas_system_prompt = f\"\"\"\n",
    "        You are an expert software engineer working with a pandas dataframe in Python containing calendaring and events information. The name of the dataframe is `df`.\n",
    "\n",
    "        This is the ouput from `print(df.head().to_csv())`, in CSV format:\n",
    "\n",
    "        {csv}\n",
    "        \n",
    "        This is the output from `print(self.df.event_type.value_counts())`:\n",
    "\n",
    "        {self.df.event_type.value_counts()}\n",
    "\n",
    "        As you generate the python code needed to answer the events and calendaring question asked of you below, I want you to:\n",
    "\n",
    "        1) Question: Ask yourself if you understand the question that I am asking you.  Pay attention to the details!\n",
    "        2) Think: Before you do anything, think out loud about what I'm asking you to do, including what are the steps that you will need to take to solve this problem. Be critical of your thought process!\n",
    "        3) Code: Generate a verbatim list of code that you used to arrive at your answer, one line of code per item on the list. The code must be complete, syntactically correct, and capable of runnning to completion. The last line of your code must be the variable `solution`, which represents the answer. Make sure that any filtering you perform matches the question asked of you by the user!\n",
    "        4) Return: Report on the object type of the variable `solution` in your last line of code. Use one word to represent the object type.\n",
    "        5) Explain: Briefly and succinctly explain your code in plain English.\n",
    "        \n",
    "        Format: return your response as a JSON object in the following fields:\n",
    "        {{\n",
    "            \"question\": \"The question, verbatim and without modification, that your code attempts to answer\",\n",
    "            \"thoughts\": \"Your thoughts\",\n",
    "            \"code\": [],\n",
    "            \"return\": \"Object type of the variable `solution`\",\n",
    "            \"explanation\": \"A brief explanation of your code\",\n",
    "        }}\n",
    "\n",
    "        Hint: An event that I have today may have started before today and may end tomorrow or next week, so be careful how you filter on dates.\n",
    "        Hint: When filtering by dates, use `pd.Timestamp( day )` to convert a Python datetime object into a Pandas `datetime64[ns]` value.\n",
    "        Hint: If your solution variable is a dataframe, it should include all columns in the dataframe.\n",
    "        \n",
    "        Wait until you're presented with the question to begin.\n",
    "        \"\"\"\n",
    "        if self.debug: print( pandas_system_prompt )\n",
    "        \n",
    "        count = self.get_token_count( pandas_system_prompt )\n",
    "        print( f\"Token count for pandas_system_prompt: [{count}]\" )\n",
    "        \n",
    "        return pandas_system_prompt\n",
    "    \n",
    "    def run_prompt( self, question ):\n",
    "        \n",
    "        # timer = sw.Stopwatch( \"Running pandas prompt...\" )\n",
    "        self.question      = question\n",
    "        self.response      = ask_chat_gpt_text( self.pandas_system_prompt, self.question, model=GPT_4 )\n",
    "        self.response_dict = json.loads( self.response )\n",
    "        # timer.print( \"Done!\" )\n",
    "        \n",
    "        if self.debug: print( json.dumps( self.response_dict, indent=4 ) )\n",
    "        \n",
    "        return self.response_dict\n",
    "        \n",
    "    def run_code( self ):\n",
    "        \n",
    "        # Let's copy it until we get the code munging right\n",
    "        response_dict_copy = self.response_dict[ \"code\" ][ : ]\n",
    "        \n",
    "        self.code_response = ulc.assemble_and_run_solution(\n",
    "            response_dict_copy, path=\"/src/conf/long-term-memory/events.csv\",\n",
    "            solution_code_returns=response_dict_copy[ \"return\" ], debug=False\n",
    "        )\n",
    "        if self.debug and self.verbose:\n",
    "            du.print_banner( \"Code output\", prepend_nl=True )\n",
    "            for line in self.code_response[ \"output\" ].split( \"\\n\" ):\n",
    "                print( line )\n",
    "                \n",
    "        return self.code_response     \n",
    "    \n",
    "    def format_output( self ):\n",
    "        \n",
    "        preamble     = self.get_formatting_preamble()\n",
    "        instructions = self.get_formatting_instructions()\n",
    "        \n",
    "        self.formatted_output = ask_chat_gpt_text( preamble, instructions, model=GPT_3_5, debug=True )\n",
    "        \n",
    "        return self.formatted_output\n",
    "\n",
    "    def get_formatting_preamble( self ):\n",
    "        \n",
    "        rows        = self.code_response[ \"output\" ].split( \"\\n\" )\n",
    "        row_count   = len( rows )\n",
    "        \n",
    "        lines       = []\n",
    "        line_number = 1\n",
    "        \n",
    "        for row in rows:\n",
    "            \n",
    "            lines.append( f\"{line_number}) {row}\" )\n",
    "            line_number += 1\n",
    "            \n",
    "        lines = \"\\n\".join( lines )\n",
    "        \n",
    "        preamble = f\"\"\"\n",
    "        You are an expert in converting raw data into conversational English.\n",
    "        \n",
    "        The following {row_count} rows of JSONL formatted data are the output from a query on a pandas dataframe about events on my calendar. \n",
    "        \n",
    "        JSONL output:\n",
    "        \n",
    "        {lines}\n",
    "        \"\"\"\n",
    "        return preamble\n",
    "    \n",
    "    def get_formatting_instructions( self ):\n",
    "        \n",
    "        instructions = f\"\"\"\n",
    "        Reformat and rephrase the JSONL data that I just showed you in conversational English so that it answers this question: `{self.question}`\n",
    "        \n",
    "        Use this format: \"You have a two hour lunch date with your friend Bob at noon today at Burgerland.\n",
    "        \n",
    "        Each line of the output that you create should contain one event.\n",
    "        There is no need to discuss priority of events.\n",
    "        If the query returned zero rows of JSONL data, then say \"You have no EVENT_TYPE events today/tomorrow/this week, etc.\"\n",
    "        \"\"\"\n",
    "        return instructions"
   ],
   "metadata": {
    "collapsed": false,
    "ExecuteTime": {
     "end_time": "2023-10-02T15:36:15.222683Z",
     "start_time": "2023-10-02T15:36:15.171821Z"
    }
   },
   "id": "7dccb7c4862a8c77"
  },
  {
   "cell_type": "code",
   "execution_count": 12,
   "outputs": [
    {
     "name": "stdout",
     "output_type": "stream",
     "text": [
      "Requirement already satisfied: tiktoken in /usr/local/lib/python3.10/site-packages (0.3.3)\r\n",
      "Requirement already satisfied: regex>=2022.1.18 in /usr/local/lib/python3.10/site-packages (from tiktoken) (2023.8.8)\r\n",
      "Requirement already satisfied: requests>=2.26.0 in /usr/local/lib/python3.10/site-packages (from tiktoken) (2.31.0)\r\n",
      "Requirement already satisfied: charset-normalizer<4,>=2 in /usr/local/lib/python3.10/site-packages (from requests>=2.26.0->tiktoken) (3.2.0)\r\n",
      "Requirement already satisfied: idna<4,>=2.5 in /usr/local/lib/python3.10/site-packages (from requests>=2.26.0->tiktoken) (3.4)\r\n",
      "Requirement already satisfied: urllib3<3,>=1.21.1 in /usr/local/lib/python3.10/site-packages (from requests>=2.26.0->tiktoken) (2.0.5)\r\n",
      "Requirement already satisfied: certifi>=2017.4.17 in /usr/local/lib/python3.10/site-packages (from requests>=2.26.0->tiktoken) (2023.7.22)\r\n",
      "\u001B[33mWARNING: Running pip as the 'root' user can result in broken permissions and conflicting behaviour with the system package manager. It is recommended to use a virtual environment instead: https://pip.pypa.io/warnings/venv\u001B[0m\u001B[33m\r\n",
      "\u001B[0m"
     ]
    }
   ],
   "source": [
    "! pip install tiktoken"
   ],
   "metadata": {
    "collapsed": false,
    "ExecuteTime": {
     "end_time": "2023-10-02T15:34:10.593323Z",
     "start_time": "2023-10-02T15:34:08.406073Z"
    }
   },
   "id": "445e53cff96cd9ac"
  },
  {
   "cell_type": "code",
   "execution_count": 19,
   "outputs": [
    {
     "name": "stdout",
     "output_type": "stream",
     "text": [
      "\n",
      "        You are an expert software engineer working with a pandas dataframe in Python containing calendaring and events information. The name of the dataframe is `df`.\n",
      "\n",
      "        This is the ouput from `print(df.head().to_csv())`, in CSV format:\n",
      "\n",
      "        start_date,end_date,start_time,end_time,event_type,recurrent,recurrence_interval,priority_level,name,relationship,description_who_what_where\n",
      "2023-08-01,2023-08-04,00:00,23:59,Concert,False,,none,Jenny,coworker,Concert of Jenny at the city center\n",
      "2023-08-01,2023-08-01,05:25,17:22,TODO,False,,highest,Gregorio,friend,Send out invitations for the party for Gregorio\n",
      "2023-08-01,2023-08-01,13:27,01:59,Appointment,False,,high,Leroy Ruiz,father,Appointment with Leroy Ruiz at the clinic\n",
      "2023-10-01,2023-10-01,00:00,23:59,Birthday,True,3 day,low,Bob,brother,Bob's birthday party at their favorite bar\n",
      "2023-10-01,2023-10-01,00:00,23:59,Anniversary,True,3 week,highest,Tom Ruiz,brother,Tom Ruiz's anniversary celebration at the park\n",
      "2023-10-01,2023-10-04,00:00,23:59,Concert,False,,highest,John,coworker,Concert of John at the city center\n",
      "\n",
      "        \n",
      "        This is the output from `print(self.df.event_type.value_counts())`:\n",
      "\n",
      "        event_type\n",
      "Conference      24\n",
      "Concert         22\n",
      "Performance     21\n",
      "Appointment     17\n",
      "Anniversary     17\n",
      "Workout         17\n",
      "Birthday        16\n",
      "Workshop        15\n",
      "TODO            14\n",
      "Subscription    14\n",
      "Meeting         12\n",
      "Interview       11\n",
      "Name: count, dtype: int64\n",
      "\n",
      "        As you generate the python code needed to answer the events and calendaring question asked of you below, I want you to:\n",
      "\n",
      "        1) Question: Ask yourself if you understand the question that I am asking you.  Pay attention to the details!\n",
      "        2) Think: Before you do anything, think out loud about what I'm asking you to do, including what are the steps that you will need to take to solve this problem. Be critical of your thought process!\n",
      "        3) Code: Generate a verbatim list of code that you used to arrive at your answer, one line of code per item on the list. The code must be complete, syntactically correct, and capable of runnning to completion. The last line of your code must be the variable `solution`, which represents the answer. Make sure that any filtering you perform matches the question asked of you by the user!\n",
      "        4) Return: Report on the object type of the variable `solution` in your last line of code. Use one word to represent the object type.\n",
      "        5) Explain: Briefly and succinctly explain your code in plain English.\n",
      "        \n",
      "        Format: return your response as a JSON object in the following fields:\n",
      "        {\n",
      "            \"question\": \"The question, verbatim and without modification, that your code attempts to answer\",\n",
      "            \"thoughts\": \"Your thoughts\",\n",
      "            \"code\": [],\n",
      "            \"return\": \"Object type of the variable `solution`\",\n",
      "            \"explanation\": \"A brief explanation of your code\",\n",
      "        }\n",
      "\n",
      "        Hint: An event that I have today may have started before today and may end tomorrow or next week, so be careful how you filter on dates.\n",
      "        Hint: When filtering by dates, use `pd.Timestamp( day )` to convert a Python datetime object into a Pandas `datetime64[ns]` value.\n",
      "        Hint: If your solution variable is a dataframe, it should include all columns in the dataframe.\n",
      "        \n",
      "        Wait until you're presented with the question to begin.\n",
      "        \n",
      "Token count for pandas_system_prompt: [856]\n"
     ]
    }
   ],
   "source": [
    "agent         = CalendaringAgent( path_to_df=\"/src/conf/long-term-memory/events.csv\", debug=True )\n",
    "\n",
    "# response_dict = agent.run_prompt( \"What todo items do I have on my calendar for this week?\" )\n",
    "# print( response_dict )"
   ],
   "metadata": {
    "collapsed": false,
    "ExecuteTime": {
     "end_time": "2023-10-02T15:36:18.276344Z",
     "start_time": "2023-10-02T15:36:17.390645Z"
    }
   },
   "id": "cc28b3c862c436f4"
  },
  {
   "cell_type": "code",
   "execution_count": 25,
   "outputs": [
    {
     "data": {
      "text/plain": "True"
     },
     "execution_count": 25,
     "metadata": {},
     "output_type": "execute_result"
    }
   ],
   "source": [
    "type( agent ) == CalendaringAgent "
   ],
   "metadata": {
    "collapsed": false,
    "ExecuteTime": {
     "end_time": "2023-10-02T15:38:13.371993Z",
     "start_time": "2023-10-02T15:38:13.343889Z"
    }
   },
   "id": "9ac5d71fc1584c11"
  },
  {
   "cell_type": "code",
   "execution_count": 29,
   "outputs": [
    {
     "data": {
      "text/plain": "'Calendar'"
     },
     "execution_count": 29,
     "metadata": {},
     "output_type": "execute_result"
    }
   ],
   "source": [
    "\"Calendar\"[ :11 ]"
   ],
   "metadata": {
    "collapsed": false,
    "ExecuteTime": {
     "end_time": "2023-10-02T15:57:00.550937Z",
     "start_time": "2023-10-02T15:57:00.529992Z"
    }
   },
   "id": "f9ae5472c442444"
  },
  {
   "cell_type": "code",
   "execution_count": 41,
   "outputs": [
    {
     "data": {
      "text/plain": "'{\"start_date\":1695513600000,\"end_date\":1696032000000,\"start_time\":\"12:01\",\"end_time\":\"04:55\",\"event_type\":\"TODO\",\"recurrent\":false,\"recurrence_interval\":null,\"priority_level\":\"medium\",\"name\":\"Juan\",\"relationship\":\"neighbor\",\"description_who_what_where\":\"Prepare presentation for next week\\'s meeting for Juan (neighbor)\"}\\n{\"start_date\":1695772800000,\"end_date\":1695772800000,\"start_time\":\"18:55\",\"end_time\":\"05:58\",\"event_type\":\"TODO\",\"recurrent\":false,\"recurrence_interval\":null,\"priority_level\":\"low\",\"name\":\"Pablo\",\"relationship\":\"friend\",\"description_who_what_where\":\"Prepare presentation for next week\\'s meeting for Pablo\"}\\n{\"start_date\":1695945600000,\"end_date\":1696464000000,\"start_time\":\"16:58\",\"end_time\":\"13:49\",\"event_type\":\"TODO\",\"recurrent\":false,\"recurrence_interval\":null,\"priority_level\":\"medium\",\"name\":\"Juan\",\"relationship\":\"neighbor\",\"description_who_what_where\":\"Renew gym membership for Juan (neighbor)\"}'"
     },
     "execution_count": 41,
     "metadata": {},
     "output_type": "execute_result"
    }
   ],
   "source": [
    "%autoreload\n",
    "code_response = agent.run_code()\n",
    "code_response[ \"output\" ]"
   ],
   "metadata": {
    "collapsed": false,
    "ExecuteTime": {
     "end_time": "2023-09-29T15:00:24.981150Z",
     "start_time": "2023-09-29T15:00:24.689039Z"
    }
   },
   "id": "8631eff6791e5cad"
  },
  {
   "cell_type": "code",
   "execution_count": 42,
   "outputs": [
    {
     "name": "stdout",
     "output_type": "stream",
     "text": [
      "\n",
      "        You are an expert in converting raw data into conversational English.\n",
      "        \n",
      "        The following 3 rows of JSONL formatted data are the output from a query on a pandas dataframe about events on my calendar. \n",
      "        \n",
      "        JSONL output:\n",
      "        \n",
      "        1) {\"start_date\":1695513600000,\"end_date\":1696032000000,\"start_time\":\"12:01\",\"end_time\":\"04:55\",\"event_type\":\"TODO\",\"recurrent\":false,\"recurrence_interval\":null,\"priority_level\":\"medium\",\"name\":\"Juan\",\"relationship\":\"neighbor\",\"description_who_what_where\":\"Prepare presentation for next week's meeting for Juan (neighbor)\"}\n",
      "2) {\"start_date\":1695772800000,\"end_date\":1695772800000,\"start_time\":\"18:55\",\"end_time\":\"05:58\",\"event_type\":\"TODO\",\"recurrent\":false,\"recurrence_interval\":null,\"priority_level\":\"low\",\"name\":\"Pablo\",\"relationship\":\"friend\",\"description_who_what_where\":\"Prepare presentation for next week's meeting for Pablo\"}\n",
      "3) {\"start_date\":1695945600000,\"end_date\":1696464000000,\"start_time\":\"16:58\",\"end_time\":\"13:49\",\"event_type\":\"TODO\",\"recurrent\":false,\"recurrence_interval\":null,\"priority_level\":\"medium\",\"name\":\"Juan\",\"relationship\":\"neighbor\",\"description_who_what_where\":\"Renew gym membership for Juan (neighbor)\"}\n",
      "        \n"
     ]
    }
   ],
   "source": [
    "%autoreload\n",
    "for line in agent.get_formatting_preamble().split( \"\\n\" ):\n",
    "    print( line )"
   ],
   "metadata": {
    "collapsed": false,
    "ExecuteTime": {
     "end_time": "2023-09-29T15:00:28.509357Z",
     "start_time": "2023-09-29T15:00:28.469707Z"
    }
   },
   "id": "8e8f375945563557"
  },
  {
   "cell_type": "code",
   "execution_count": 43,
   "outputs": [
    {
     "name": "stdout",
     "output_type": "stream",
     "text": [
      "\n",
      "        Reformat and rephrase the JSONL data that I just showed you in conversational English so that it answers this question: `What todo items do I have on my calendar for this week?`\n",
      "        \n",
      "        Use this format: \"You have a two hour lunch date with your friend Bob at noon today at Burgerland.\n",
      "        \n",
      "        Each line of the output that you create should contain one event.\n",
      "        There is no need to discuss priority of events.\n",
      "        If the query returned zero rows of JSONL data, then say \"You have no EVENT_TYPE events today/tomorrow/this week, etc.\"\n",
      "        \n"
     ]
    }
   ],
   "source": [
    "for line in agent.get_formatting_instructions().split( \"\\n\" ):\n",
    "    print( line )"
   ],
   "metadata": {
    "collapsed": false,
    "ExecuteTime": {
     "end_time": "2023-09-29T15:00:41.278330Z",
     "start_time": "2023-09-29T15:00:41.268386Z"
    }
   },
   "id": "a399a6c392b0abce"
  },
  {
   "cell_type": "code",
   "execution_count": 44,
   "outputs": [
    {
     "name": "stdout",
     "output_type": "stream",
     "text": [
      "Asking ChatGPT [gpt-3.5-turbo-0613]...\n",
      "Asking ChatGPT [gpt-3.5-turbo-0613]... in 6,304 ms\n"
     ]
    },
    {
     "data": {
      "text/plain": "\"You have a medium priority task to prepare a presentation for next week's meeting with your neighbor Juan. This task is scheduled from 12:01 PM to 4:55 PM today.\\n\\nYou have a low priority task to prepare a presentation for next week's meeting with your friend Pablo. This task is scheduled from 6:55 PM today to 5:58 AM tomorrow.\\n\\nYou have a medium priority task to renew your gym membership for your neighbor Juan. This task is scheduled from 4:58 PM today to 1:49 PM on the day after tomorrow.\""
     },
     "execution_count": 44,
     "metadata": {},
     "output_type": "execute_result"
    }
   ],
   "source": [
    "agent.format_output()"
   ],
   "metadata": {
    "collapsed": false,
    "ExecuteTime": {
     "end_time": "2023-09-29T15:00:49.357117Z",
     "start_time": "2023-09-29T15:00:43.045367Z"
    }
   },
   "id": "df1ecff5967d5cf2"
  },
  {
   "cell_type": "code",
   "execution_count": 45,
   "outputs": [
    {
     "name": "stdout",
     "output_type": "stream",
     "text": [
      "You have a medium priority task to prepare a presentation for next week's meeting with your neighbor Juan. This task is scheduled from 12:01 PM to 4:55 PM today.\n",
      "\n",
      "You have a low priority task to prepare a presentation for next week's meeting with your friend Pablo. This task is scheduled from 6:55 PM today to 5:58 AM tomorrow.\n",
      "\n",
      "You have a medium priority task to renew your gym membership for your neighbor Juan. This task is scheduled from 4:58 PM today to 1:49 PM on the day after tomorrow.\n"
     ]
    }
   ],
   "source": [
    "for line in agent.formatted_output.split( \"\\n\" ): \n",
    "    print( line )"
   ],
   "metadata": {
    "collapsed": false,
    "ExecuteTime": {
     "end_time": "2023-09-29T15:00:53.602716Z",
     "start_time": "2023-09-29T15:00:53.598255Z"
    }
   },
   "id": "21d2873963b8a960"
  },
  {
   "cell_type": "code",
   "execution_count": 30,
   "outputs": [
    {
     "name": "stdout",
     "output_type": "stream",
     "text": [
      "Generating embedding for []...\n",
      "Generating embedding for []... Done! in 397 ms\n"
     ]
    }
   ],
   "source": [
    "import solution_snapshot as ss\n",
    "\n",
    "new_snapshot = ss.SolutionSnapshot( agent )"
   ],
   "metadata": {
    "collapsed": false,
    "ExecuteTime": {
     "end_time": "2023-10-02T18:08:30.074903Z",
     "start_time": "2023-10-02T18:08:29.643019Z"
    }
   },
   "id": "1897f5d29385afe5"
  },
  {
   "cell_type": "code",
   "execution_count": 31,
   "outputs": [
    {
     "data": {
      "text/plain": "<solution_snapshot.SolutionSnapshot at 0x7f2019c8ff10>"
     },
     "execution_count": 31,
     "metadata": {},
     "output_type": "execute_result"
    }
   ],
   "source": [],
   "metadata": {
    "collapsed": false,
    "ExecuteTime": {
     "end_time": "2023-10-02T18:08:46.734740Z",
     "start_time": "2023-10-02T18:08:46.696531Z"
    }
   },
   "id": "606b6226400ac340"
  },
  {
   "cell_type": "code",
   "execution_count": null,
   "outputs": [],
   "source": [],
   "metadata": {
    "collapsed": false
   },
   "id": "aba56569b5ba169e"
  }
 ],
 "metadata": {
  "kernelspec": {
   "display_name": "Python 3",
   "language": "python",
   "name": "python3"
  },
  "language_info": {
   "codemirror_mode": {
    "name": "ipython",
    "version": 2
   },
   "file_extension": ".py",
   "mimetype": "text/x-python",
   "name": "python",
   "nbconvert_exporter": "python",
   "pygments_lexer": "ipython2",
   "version": "2.7.6"
  }
 },
 "nbformat": 4,
 "nbformat_minor": 5
}
