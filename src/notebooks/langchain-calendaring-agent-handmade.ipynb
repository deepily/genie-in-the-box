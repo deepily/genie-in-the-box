{
 "cells": [
  {
   "cell_type": "code",
   "execution_count": 1,
   "outputs": [
    {
     "name": "stdout",
     "output_type": "stream",
     "text": [
      "Requirement already satisfied: wandb in /usr/local/lib/python3.10/dist-packages (0.15.10)\r\n",
      "Requirement already satisfied: setproctitle in /usr/local/lib/python3.10/dist-packages (from wandb) (1.3.2)\r\n",
      "Requirement already satisfied: pathtools in /usr/local/lib/python3.10/dist-packages (from wandb) (0.1.2)\r\n",
      "Requirement already satisfied: GitPython!=3.1.29,>=1.0.0 in /usr/local/lib/python3.10/dist-packages (from wandb) (3.1.31)\r\n",
      "Requirement already satisfied: setuptools in /usr/lib/python3/dist-packages (from wandb) (59.6.0)\r\n",
      "Requirement already satisfied: psutil>=5.0.0 in /usr/local/lib/python3.10/dist-packages (from wandb) (5.9.4)\r\n",
      "Requirement already satisfied: Click!=8.0.0,>=7.1 in /usr/local/lib/python3.10/dist-packages (from wandb) (8.1.3)\r\n",
      "Requirement already satisfied: sentry-sdk>=1.0.0 in /usr/local/lib/python3.10/dist-packages (from wandb) (1.30.0)\r\n",
      "Requirement already satisfied: PyYAML in /usr/local/lib/python3.10/dist-packages (from wandb) (6.0)\r\n",
      "Requirement already satisfied: requests<3,>=2.0.0 in /usr/local/lib/python3.10/dist-packages (from wandb) (2.28.2)\r\n",
      "Requirement already satisfied: protobuf!=4.21.0,<5,>=3.19.0 in /usr/local/lib/python3.10/dist-packages (from wandb) (3.19.6)\r\n",
      "Requirement already satisfied: appdirs>=1.4.3 in /usr/local/lib/python3.10/dist-packages (from wandb) (1.4.4)\r\n",
      "Requirement already satisfied: docker-pycreds>=0.4.0 in /usr/local/lib/python3.10/dist-packages (from wandb) (0.4.0)\r\n",
      "Requirement already satisfied: six>=1.4.0 in /usr/local/lib/python3.10/dist-packages (from docker-pycreds>=0.4.0->wandb) (1.16.0)\r\n",
      "Requirement already satisfied: gitdb<5,>=4.0.1 in /usr/local/lib/python3.10/dist-packages (from GitPython!=3.1.29,>=1.0.0->wandb) (4.0.10)\r\n",
      "Requirement already satisfied: charset-normalizer<4,>=2 in /usr/local/lib/python3.10/dist-packages (from requests<3,>=2.0.0->wandb) (3.0.1)\r\n",
      "Requirement already satisfied: idna<4,>=2.5 in /usr/local/lib/python3.10/dist-packages (from requests<3,>=2.0.0->wandb) (3.4)\r\n",
      "Requirement already satisfied: certifi>=2017.4.17 in /usr/local/lib/python3.10/dist-packages (from requests<3,>=2.0.0->wandb) (2022.12.7)\r\n",
      "Requirement already satisfied: urllib3<1.27,>=1.21.1 in /usr/local/lib/python3.10/dist-packages (from requests<3,>=2.0.0->wandb) (1.26.14)\r\n",
      "Requirement already satisfied: smmap<6,>=3.0.1 in /usr/local/lib/python3.10/dist-packages (from gitdb<5,>=4.0.1->GitPython!=3.1.29,>=1.0.0->wandb) (5.0.0)\r\n",
      "\u001B[33mWARNING: Running pip as the 'root' user can result in broken permissions and conflicting behaviour with the system package manager. It is recommended to use a virtual environment instead: https://pip.pypa.io/warnings/venv\u001B[0m\u001B[33m\r\n",
      "\u001B[0m\r\n",
      "\u001B[1m[\u001B[0m\u001B[34;49mnotice\u001B[0m\u001B[1;39;49m]\u001B[0m\u001B[39;49m A new release of pip is available: \u001B[0m\u001B[31;49m23.0.1\u001B[0m\u001B[39;49m -> \u001B[0m\u001B[32;49m23.2.1\u001B[0m\r\n",
      "\u001B[1m[\u001B[0m\u001B[34;49mnotice\u001B[0m\u001B[1;39;49m]\u001B[0m\u001B[39;49m To update, run: \u001B[0m\u001B[32;49mpython3 -m pip install --upgrade pip\u001B[0m\r\n"
     ]
    }
   ],
   "source": [
    "# ! pip install python-dotenv\n",
    "# ! pip install langchain --upgrade --no-cache-dir\n",
    "! pip install wandb --upgrade --no-cache-dir"
   ],
   "metadata": {
    "collapsed": false,
    "ExecuteTime": {
     "end_time": "2023-09-07T21:22:52.296144Z",
     "start_time": "2023-09-07T21:22:50.033867Z"
    }
   },
   "id": "b8665cade92a3a56"
  },
  {
   "cell_type": "code",
   "execution_count": 2,
   "outputs": [],
   "source": [
    "%load_ext autoreload"
   ],
   "metadata": {
    "collapsed": false,
    "ExecuteTime": {
     "end_time": "2023-09-07T21:22:55.547220Z",
     "start_time": "2023-09-07T21:22:55.533157Z"
    }
   },
   "id": "14c1efa189e09521"
  },
  {
   "cell_type": "code",
   "execution_count": 18,
   "outputs": [
    {
     "name": "stdout",
     "output_type": "stream",
     "text": [
      "[/var/genie-in-the-box/src/lib] already in sys.path\n",
      "['/Applications/PyCharm.app/Contents/plugins/python/helpers-pro/jupyter_debug', '/Applications/PyCharm.app/Contents/plugins/python/helpers/pydev', '/var', '/usr/lib/python310.zip', '/usr/lib/python3.10', '/usr/lib/python3.10/lib-dynload', '', '/usr/local/lib/python3.10/dist-packages', '/usr/lib/python3/dist-packages', '/var/genie-in-the-box/src/lib', '/var/genie-in-the-box/src']\n",
      "Path [/var/genie-in-the-box/src] already in sys.path\n"
     ]
    }
   ],
   "source": [
    "%autoreload\n",
    "\n",
    "import sys\n",
    "import os\n",
    "import json\n",
    "\n",
    "os.environ[\"LANGCHAIN_WANDB_TRACING\"] = \"true\"\n",
    "# wandb documentation to configure wandb using env variables\n",
    "# https://docs.wandb.ai/guides/track/advanced/environment-variables\n",
    "# here we are configuring the wandb project name\n",
    "os.environ[\"WANDB_PROJECT\"] = \"langchain-dataframe-agent\"\n",
    "\n",
    "path = \"/var/genie-in-the-box/src/lib\"\n",
    "if path not in sys.path:\n",
    "    sys.path.append( path )\n",
    "else:\n",
    "    print( f\"[{path}] already in sys.path\" ) \n",
    "    \n",
    "print( sys.path )\n",
    "\n",
    "import util as du\n",
    "path = \"/var/genie-in-the-box/src\"\n",
    "du.add_to_path( path )\n",
    "\n",
    "import util_stopwatch as sw\n",
    "import util_langchain as ulc\n",
    "import genie_client as gc\n",
    "\n",
    "from langchain.schema import (\n",
    "    AIMessage,\n",
    "    HumanMessage,\n",
    "    SystemMessage\n",
    ")\n",
    "import langchain\n",
    "from langchain.chat_models import ChatOpenAI\n",
    "from langchain.memory import ConversationBufferMemory\n",
    "from langchain.chains import ConversationalRetrievalChain\n",
    "from langchain.agents.agent_toolkits.pandas.base import create_pandas_dataframe_agent\n",
    "\n",
    "from langchain import PromptTemplate\n",
    "from langchain import LLMChain\n",
    "\n",
    "import pandas as pd\n",
    "\n",
    "\n",
    "from IPython.display import display, Markdown\n"
   ],
   "metadata": {
    "collapsed": false,
    "ExecuteTime": {
     "end_time": "2023-09-07T21:29:39.945803Z",
     "start_time": "2023-09-07T21:29:39.902153Z"
    }
   },
   "id": "e4a94b9494513834"
  },
  {
   "cell_type": "code",
   "execution_count": 19,
   "outputs": [],
   "source": [
    "pandas_prompt_template = \"\"\"\n",
    "You are working with a pandas dataframe in Python. The name of the dataframe is `df`.\n",
    "\n",
    "This is the result of `print(df.head())`:\n",
    "\n",
    "\"start_date\",\"end_date\",\"start_time\",\"end_time\",\"event_type\",\"recurrent\",\"recurrence_interval\",\"priority_level\",\"name\",\"relationship\",\"description_who_what_where\"\n",
    "\"2023-07-01\",\"2023-07-04\",\"00:00\",\"23:59\",\"Concert\",False,\"\",\"none\",\"Jenny\",\"coworker\",\"Concert of Jenny at the city center\"\n",
    "\"2023-07-01\",\"2023-07-01\",\"05:25\",\"17:22\",\"TODO\",False,\"\",\"highest\",\"Gregorio\",\"friend\",\"Send out invitations for the party for Gregorio\"\n",
    "\"2023-07-01\",\"2023-07-01\",\"13:27\",\"01:59\",\"Appointment\",False,\"\",\"high\",\"Leroy Ruiz\",\"father\",\"Appointment with Leroy Ruiz at the clinic\"\n",
    "\"2023-07-03\",\"2023-07-04\",\"00:00\",\"23:59\",\"Subscription\",True,\"1 year\",\"highest\",\"Leroy Ruiz\",\"father\",\"Renewal of Leroy Ruiz's subscription\"\n",
    "\"2023-07-03\",\"2023-07-04\",\"00:00\",\"23:59\",\"Anniversary\",True,\"4 week\",\"none\",\"Juan\",\"neighbor\",\"Juan's anniversary celebration at the park\"\n",
    "\"2023-07-04\",\"2023-07-04\",\"00:00\",\"23:59\",\"Anniversary\",True,\"4 week\",\"medium\",\"Leroy Ruiz\",\"father\",\"Leroy Ruiz's anniversary celebration at the park\"\n",
    "\n",
    "I want you to do three things for me:\n",
    "1) Thoughts: Think out loud about what I'm asking you and how you're going to translate the question below into working python code that can be used to query `df` for the answer.\n",
    "2) Code: A verbatim list of code, one line of code per item on the list\n",
    "3) Explanation: Briefly and succinctly explain your code in plain English.\n",
    "\n",
    "Format: return your response as a JSON object in the following fields:\n",
    "{{\n",
    "    \"thoughts\": \"your thoughts\",\n",
    "    \"code\": [\n",
    "        \"count = df.shape[ 0 ]\",\n",
    "        \"print( count )\"\n",
    "    ],\n",
    "    \"explanation\": \"your explanation\"\n",
    "}}\n",
    "\n",
    "Begin!\n",
    "\n",
    "Question: {question}\n",
    "\"\"\""
   ],
   "metadata": {
    "collapsed": false,
    "ExecuteTime": {
     "end_time": "2023-09-07T21:29:41.979940Z",
     "start_time": "2023-09-07T21:29:41.976055Z"
    }
   },
   "id": "8d1a455d75c4458b"
  },
  {
   "cell_type": "code",
   "execution_count": 27,
   "outputs": [],
   "source": [
    "langchain.debug = True\n",
    "langchain.verbose = True\n",
    "\n",
    "llm = ChatOpenAI( model_name=\"gpt-4-0613\", temperature=0.0 )\n",
    "memory = ConversationBufferMemory( memory_key=\"chat_history\", return_messages=True, verbose=True )\n",
    "raw_df = pd.read_csv( du.get_project_root() + \"/src/conf/long-term-memory/events.csv\" )\n",
    "\n",
    "df_agent = create_pandas_dataframe_agent( llm, raw_df, verbose=True )\n",
    "\n",
    "prompt = PromptTemplate(\n",
    "    template=pandas_prompt_template,\n",
    "    input_variables=[\"question\"]\n",
    ")\n",
    "llm_chain = LLMChain(\n",
    "   prompt=prompt,\n",
    "   llm=llm\n",
    ")\n",
    "df_agent.memory = memory"
   ],
   "metadata": {
    "collapsed": false,
    "ExecuteTime": {
     "end_time": "2023-09-07T21:35:22.001817Z",
     "start_time": "2023-09-07T21:35:21.955099Z"
    }
   },
   "id": "95185c545cf33d54"
  },
  {
   "cell_type": "code",
   "execution_count": 33,
   "outputs": [
    {
     "name": "stdout",
     "output_type": "stream",
     "text": [
      "\n",
      "    What events do I have today?  \n",
      "    \n",
      "    Hint: An event that I have today may have started before today and may end tomorrow or next week, so be careful how you filter on dates.\n",
      "    Hint: The fields `start_date` and `end_date` are stored as strings. Make sure that you use the same data types when comparing or filtering dates.\n",
      "    Hint: If your code returns any records, they should include all columns in the dataframe\n",
      "    \n",
      "    You must verify that your code runs to completion, once it does, return your response as a JSON string containing only these three fields: \n",
      "    1) answer: A simple, terse answer to the question 'What events do I have today?'\n",
      "    2) code: The Python code you generated in python list form, one line of code per item in the list, and \n",
      "    3) explanation: A brief explanation as to how the code works\n"
     ]
    }
   ],
   "source": [
    "def get_question_and_coda( event_query ):\n",
    "    \n",
    "    question_plus_coda_template = \"\"\"\n",
    "    {event_query}  \n",
    "    \n",
    "    Hint: An event that I have today may have started before today and may end tomorrow or next week, so be careful how you filter on dates.\n",
    "    Hint: The fields `start_date` and `end_date` are stored as strings. Make sure that you use the same data types when comparing or filtering dates.\n",
    "    Hint: If your code returns any records, they should include all columns in the dataframe\n",
    "    \n",
    "    You must verify that your code runs to completion, once it does, return your response as a JSON string containing only these three fields: \n",
    "    1) answer: A simple, terse answer to the question '{event_query}'\n",
    "    2) code: The Python code you generated in python list form, one line of code per item in the list, and \n",
    "    3) explanation: A brief explanation as to how the code works\"\"\"\n",
    "    \n",
    "    question = question_plus_coda_template.format( event_query=event_query )\n",
    "    return question\n",
    "\n",
    "question = get_question_and_coda( \"What events do I have today?\" )\n",
    "\n",
    "for line in question.split( \"\\n\" ): \n",
    "    print( line )\n"
   ],
   "metadata": {
    "collapsed": false,
    "ExecuteTime": {
     "end_time": "2023-09-07T22:13:35.992682Z",
     "start_time": "2023-09-07T22:13:35.970996Z"
    }
   },
   "id": "9dc4c544beaaef2c"
  },
  {
   "cell_type": "code",
   "execution_count": 34,
   "outputs": [
    {
     "name": "stderr",
     "output_type": "stream",
     "text": [
      "Retrying langchain.chat_models.openai.ChatOpenAI.completion_with_retry.<locals>._completion_with_retry in 4.0 seconds as it raised APIConnectionError: Error communicating with OpenAI: ('Connection aborted.', RemoteDisconnected('Remote end closed connection without response')).\n"
     ]
    },
    {
     "name": "stdout",
     "output_type": "stream",
     "text": [
      "Running pandas prompt...\n",
      "\u001B[32;1m\u001B[1;3m[chain/start]\u001B[0m \u001B[1m[1:chain:LLMChain] Entering Chain run with input:\n",
      "\u001B[0m{\n",
      "  \"question\": \"\\n    What events do I have today?  \\n    \\n    Hint: An event that I have today may have started before today and may end tomorrow or next week, so be careful how you filter on dates.\\n    Hint: The fields `start_date` and `end_date` are stored as strings. Make sure that you use the same data types when comparing or filtering dates.\\n    Hint: If your code returns any records, they should include all columns in the dataframe\\n    \\n    You must verify that your code runs to completion, once it does, return your response as a JSON string containing only these three fields: \\n    1) answer: A simple, terse answer to the question 'What events do I have today?'\\n    2) code: The Python code you generated in python list form, one line of code per item in the list, and \\n    3) explanation: A brief explanation as to how the code works\"\n",
      "}\n",
      "\u001B[32;1m\u001B[1;3m[llm/start]\u001B[0m \u001B[1m[1:chain:LLMChain > 2:llm:ChatOpenAI] Entering LLM run with input:\n",
      "\u001B[0m{\n",
      "  \"prompts\": [\n",
      "    \"Human: \\nYou are working with a pandas dataframe in Python. The name of the dataframe is `df`.\\n\\nThis is the result of `print(df.head())`:\\n\\n\\\"start_date\\\",\\\"end_date\\\",\\\"start_time\\\",\\\"end_time\\\",\\\"event_type\\\",\\\"recurrent\\\",\\\"recurrence_interval\\\",\\\"priority_level\\\",\\\"name\\\",\\\"relationship\\\",\\\"description_who_what_where\\\"\\n\\\"2023-07-01\\\",\\\"2023-07-04\\\",\\\"00:00\\\",\\\"23:59\\\",\\\"Concert\\\",False,\\\"\\\",\\\"none\\\",\\\"Jenny\\\",\\\"coworker\\\",\\\"Concert of Jenny at the city center\\\"\\n\\\"2023-07-01\\\",\\\"2023-07-01\\\",\\\"05:25\\\",\\\"17:22\\\",\\\"TODO\\\",False,\\\"\\\",\\\"highest\\\",\\\"Gregorio\\\",\\\"friend\\\",\\\"Send out invitations for the party for Gregorio\\\"\\n\\\"2023-07-01\\\",\\\"2023-07-01\\\",\\\"13:27\\\",\\\"01:59\\\",\\\"Appointment\\\",False,\\\"\\\",\\\"high\\\",\\\"Leroy Ruiz\\\",\\\"father\\\",\\\"Appointment with Leroy Ruiz at the clinic\\\"\\n\\\"2023-07-03\\\",\\\"2023-07-04\\\",\\\"00:00\\\",\\\"23:59\\\",\\\"Subscription\\\",True,\\\"1 year\\\",\\\"highest\\\",\\\"Leroy Ruiz\\\",\\\"father\\\",\\\"Renewal of Leroy Ruiz's subscription\\\"\\n\\\"2023-07-03\\\",\\\"2023-07-04\\\",\\\"00:00\\\",\\\"23:59\\\",\\\"Anniversary\\\",True,\\\"4 week\\\",\\\"none\\\",\\\"Juan\\\",\\\"neighbor\\\",\\\"Juan's anniversary celebration at the park\\\"\\n\\\"2023-07-04\\\",\\\"2023-07-04\\\",\\\"00:00\\\",\\\"23:59\\\",\\\"Anniversary\\\",True,\\\"4 week\\\",\\\"medium\\\",\\\"Leroy Ruiz\\\",\\\"father\\\",\\\"Leroy Ruiz's anniversary celebration at the park\\\"\\n\\nI want you to do three things for me:\\n1) Thoughts: Think out loud about what I'm asking you and how you're going to translate the question below into working python code that can be used to query `df` for the answer.\\n2) Code: A verbatim list of code, one line of code per item on the list\\n3) Explanation: Briefly and succinctly explain your code in plain English.\\n\\nFormat: return your response as a JSON object in the following fields:\\n{\\n    \\\"thoughts\\\": \\\"your thoughts\\\",\\n    \\\"code\\\": [\\n        \\\"count = df.shape[ 0 ]\\\",\\n        \\\"print( count )\\\"\\n    ],\\n    \\\"explanation\\\": \\\"your explanation\\\"\\n}\\n\\nBegin!\\n\\nQuestion: \\n    What events do I have today?  \\n    \\n    Hint: An event that I have today may have started before today and may end tomorrow or next week, so be careful how you filter on dates.\\n    Hint: The fields `start_date` and `end_date` are stored as strings. Make sure that you use the same data types when comparing or filtering dates.\\n    Hint: If your code returns any records, they should include all columns in the dataframe\\n    \\n    You must verify that your code runs to completion, once it does, return your response as a JSON string containing only these three fields: \\n    1) answer: A simple, terse answer to the question 'What events do I have today?'\\n    2) code: The Python code you generated in python list form, one line of code per item in the list, and \\n    3) explanation: A brief explanation as to how the code works\"\n",
      "  ]\n",
      "}\n",
      "\u001B[36;1m\u001B[1;3m[llm/end]\u001B[0m \u001B[1m[1:chain:LLMChain > 2:llm:ChatOpenAI] [22.51s] Exiting LLM run with output:\n",
      "\u001B[0m{\n",
      "  \"generations\": [\n",
      "    [\n",
      "      {\n",
      "        \"text\": \"{\\n    \\\"thoughts\\\": \\\"First, I need to convert the 'start_date' and 'end_date' columns from string to datetime format. Then, I will filter the dataframe to only include rows where today's date falls within the start and end dates of the event. I will use the pandas 'to_datetime' function to convert the date columns and the 'datetime.now' function to get today's date. I will also use the 'between' function to filter the dataframe.\\\",\\n    \\\"code\\\": [\\n        \\\"df['start_date'] = pd.to_datetime(df['start_date'])\\\",\\n        \\\"df['end_date'] = pd.to_datetime(df['end_date'])\\\",\\n        \\\"today = pd.to_datetime('today')\\\",\\n        \\\"events_today = df[(df['start_date'] <= today) & (df['end_date'] >= today)]\\\",\\n        \\\"print(events_today)\\\"\\n    ],\\n    \\\"explanation\\\": \\\"The code first converts the 'start_date' and 'end_date' columns to datetime format. Then it gets today's date. After that, it filters the dataframe to only include rows where today's date is between the start and end dates of the event. Finally, it prints the filtered dataframe, which includes all events happening today.\\\"\\n}\",\n",
      "        \"generation_info\": {\n",
      "          \"finish_reason\": \"stop\"\n",
      "        },\n",
      "        \"message\": {\n",
      "          \"lc\": 1,\n",
      "          \"type\": \"constructor\",\n",
      "          \"id\": [\n",
      "            \"langchain\",\n",
      "            \"schema\",\n",
      "            \"messages\",\n",
      "            \"AIMessage\"\n",
      "          ],\n",
      "          \"kwargs\": {\n",
      "            \"content\": \"{\\n    \\\"thoughts\\\": \\\"First, I need to convert the 'start_date' and 'end_date' columns from string to datetime format. Then, I will filter the dataframe to only include rows where today's date falls within the start and end dates of the event. I will use the pandas 'to_datetime' function to convert the date columns and the 'datetime.now' function to get today's date. I will also use the 'between' function to filter the dataframe.\\\",\\n    \\\"code\\\": [\\n        \\\"df['start_date'] = pd.to_datetime(df['start_date'])\\\",\\n        \\\"df['end_date'] = pd.to_datetime(df['end_date'])\\\",\\n        \\\"today = pd.to_datetime('today')\\\",\\n        \\\"events_today = df[(df['start_date'] <= today) & (df['end_date'] >= today)]\\\",\\n        \\\"print(events_today)\\\"\\n    ],\\n    \\\"explanation\\\": \\\"The code first converts the 'start_date' and 'end_date' columns to datetime format. Then it gets today's date. After that, it filters the dataframe to only include rows where today's date is between the start and end dates of the event. Finally, it prints the filtered dataframe, which includes all events happening today.\\\"\\n}\",\n",
      "            \"additional_kwargs\": {}\n",
      "          }\n",
      "        }\n",
      "      }\n",
      "    ]\n",
      "  ],\n",
      "  \"llm_output\": {\n",
      "    \"token_usage\": {\n",
      "      \"prompt_tokens\": 699,\n",
      "      \"completion_tokens\": 256,\n",
      "      \"total_tokens\": 955\n",
      "    },\n",
      "    \"model_name\": \"gpt-4-0613\"\n",
      "  },\n",
      "  \"run\": null\n",
      "}\n",
      "\u001B[36;1m\u001B[1;3m[chain/end]\u001B[0m \u001B[1m[1:chain:LLMChain] [22.52s] Exiting Chain run with output:\n",
      "\u001B[0m{\n",
      "  \"text\": \"{\\n    \\\"thoughts\\\": \\\"First, I need to convert the 'start_date' and 'end_date' columns from string to datetime format. Then, I will filter the dataframe to only include rows where today's date falls within the start and end dates of the event. I will use the pandas 'to_datetime' function to convert the date columns and the 'datetime.now' function to get today's date. I will also use the 'between' function to filter the dataframe.\\\",\\n    \\\"code\\\": [\\n        \\\"df['start_date'] = pd.to_datetime(df['start_date'])\\\",\\n        \\\"df['end_date'] = pd.to_datetime(df['end_date'])\\\",\\n        \\\"today = pd.to_datetime('today')\\\",\\n        \\\"events_today = df[(df['start_date'] <= today) & (df['end_date'] >= today)]\\\",\\n        \\\"print(events_today)\\\"\\n    ],\\n    \\\"explanation\\\": \\\"The code first converts the 'start_date' and 'end_date' columns to datetime format. Then it gets today's date. After that, it filters the dataframe to only include rows where today's date is between the start and end dates of the event. Finally, it prints the filtered dataframe, which includes all events happening today.\\\"\\n}\"\n",
      "}\n",
      "Running pandas prompt... Done! in 22 seconds\n"
     ]
    }
   ],
   "source": [
    "timer = sw.Stopwatch( \"Running pandas prompt...\" )\n",
    "question = get_question_and_coda( \"What events do I have today?\" )\n",
    "my_response = llm_chain.run( question=question )\n",
    "timer.print( \"Done!\" )"
   ],
   "metadata": {
    "collapsed": false,
    "ExecuteTime": {
     "end_time": "2023-09-07T22:14:02.662781Z",
     "start_time": "2023-09-07T22:13:40.140352Z"
    }
   },
   "id": "70d619c76c79198b"
  },
  {
   "cell_type": "code",
   "execution_count": 35,
   "outputs": [
    {
     "data": {
      "text/plain": "{'thoughts': \"First, I need to convert the 'start_date' and 'end_date' columns from string to datetime format. Then, I will filter the dataframe to only include rows where today's date falls within the start and end dates of the event. I will use the pandas 'to_datetime' function to convert the date columns and the 'datetime.now' function to get today's date. I will also use the 'between' function to filter the dataframe.\",\n 'code': [\"df['start_date'] = pd.to_datetime(df['start_date'])\",\n  \"df['end_date'] = pd.to_datetime(df['end_date'])\",\n  \"today = pd.to_datetime('today')\",\n  \"events_today = df[(df['start_date'] <= today) & (df['end_date'] >= today)]\",\n  'print(events_today)'],\n 'explanation': \"The code first converts the 'start_date' and 'end_date' columns to datetime format. Then it gets today's date. After that, it filters the dataframe to only include rows where today's date is between the start and end dates of the event. Finally, it prints the filtered dataframe, which includes all events happening today.\"}"
     },
     "execution_count": 35,
     "metadata": {},
     "output_type": "execute_result"
    }
   ],
   "source": [
    "response_dict = json.loads( my_response )\n",
    "response_dict"
   ],
   "metadata": {
    "collapsed": false,
    "ExecuteTime": {
     "end_time": "2023-09-07T22:14:02.666812Z",
     "start_time": "2023-09-07T22:14:02.662507Z"
    }
   },
   "id": "dbc489db0923f81f"
  },
  {
   "cell_type": "code",
   "execution_count": 36,
   "outputs": [
    {
     "data": {
      "text/plain": "[\"df['start_date'] = pd.to_datetime(df['start_date'])\",\n \"df['end_date'] = pd.to_datetime(df['end_date'])\",\n \"today = pd.to_datetime('today')\",\n \"events_today = df[(df['start_date'] <= today) & (df['end_date'] >= today)]\",\n 'print(events_today)']"
     },
     "execution_count": 36,
     "metadata": {},
     "output_type": "execute_result"
    }
   ],
   "source": [
    "response_dict[ \"code\" ]"
   ],
   "metadata": {
    "collapsed": false,
    "ExecuteTime": {
     "end_time": "2023-09-07T22:14:02.682133Z",
     "start_time": "2023-09-07T22:14:02.665917Z"
    }
   },
   "id": "c6ddd9b1b78ec7cc"
  },
  {
   "cell_type": "code",
   "execution_count": 37,
   "outputs": [
    {
     "name": "stdout",
     "output_type": "stream",
     "text": [
      "Empty DataFrame\n",
      "Columns: [start_date, end_date, start_time, end_time, event_type, recurrent, recurrence_interval, priority_level, name, relationship, description_who_what_where]\n",
      "Index: []\n"
     ]
    }
   ],
   "source": [
    "response = ulc.assemble_and_run_solution( response_dict[ \"code\" ], path=du.get_project_root() + \"/src/conf/long-term-memory/events.csv\" )\n",
    "for line in response[ \"response\" ].split( \"\\n\" ):\n",
    "    print( line )"
   ],
   "metadata": {
    "collapsed": false,
    "ExecuteTime": {
     "end_time": "2023-09-07T22:14:03.033536Z",
     "start_time": "2023-09-07T22:14:02.672971Z"
    }
   },
   "id": "968357a41db502e1"
  },
  {
   "cell_type": "code",
   "execution_count": null,
   "outputs": [],
   "source": [],
   "metadata": {
    "collapsed": false
   },
   "id": "9886d04725a7ab2a"
  }
 ],
 "metadata": {
  "kernelspec": {
   "display_name": "Python 3",
   "language": "python",
   "name": "python3"
  },
  "language_info": {
   "codemirror_mode": {
    "name": "ipython",
    "version": 2
   },
   "file_extension": ".py",
   "mimetype": "text/x-python",
   "name": "python",
   "nbconvert_exporter": "python",
   "pygments_lexer": "ipython2",
   "version": "2.7.6"
  }
 },
 "nbformat": 4,
 "nbformat_minor": 5
}
