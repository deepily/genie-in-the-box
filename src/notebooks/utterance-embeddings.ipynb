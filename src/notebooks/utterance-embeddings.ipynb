{
 "cells": [
  {
   "cell_type": "code",
   "execution_count": 14,
   "outputs": [
    {
     "name": "stdout",
     "output_type": "stream",
     "text": [
      "Path [/var/genie-in-the-box/src/lib] already in sys.path\n"
     ]
    }
   ],
   "source": [
    "import sys\n",
    "\n",
    "\n",
    "path = \"/var/genie-in-the-box/src/lib\"\n",
    "sys.path.append( path )\n",
    "\n",
    "import util as du\n",
    "du.add_to_path( path )"
   ],
   "metadata": {
    "collapsed": false,
    "ExecuteTime": {
     "end_time": "2023-08-16T20:43:56.994696Z",
     "start_time": "2023-08-16T20:43:56.969707Z"
    }
   }
  },
  {
   "cell_type": "code",
   "execution_count": 8,
   "outputs": [
    {
     "name": "stdout",
     "output_type": "stream",
     "text": [
      "Elapsed time: 1001 milliseconds\n"
     ]
    }
   ],
   "source": [
    "import time\n",
    "\n",
    "class Stopwatch:\n",
    "\n",
    "    def __enter__( self ):\n",
    "\n",
    "        self.start = time.time()\n",
    "\n",
    "        return self\n",
    "\n",
    "    def __exit__( self, *args ):\n",
    "\n",
    "        self.end      = time.time()\n",
    "        self.interval = int( ( self.end - self.start ) * 1000 )\n",
    "\n",
    "        print( f'Elapsed time: {self.interval} milliseconds' )\n",
    "\n",
    "with Stopwatch() as sw:\n",
    "\n",
    "    time.sleep( 1 )"
   ],
   "metadata": {
    "collapsed": false,
    "ExecuteTime": {
     "end_time": "2023-08-16T20:36:44.926286Z",
     "start_time": "2023-08-16T20:36:43.921558Z"
    }
   }
  },
  {
   "cell_type": "code",
   "execution_count": 22,
   "metadata": {
    "collapsed": true,
    "ExecuteTime": {
     "end_time": "2023-08-16T21:15:25.615336Z",
     "start_time": "2023-08-16T21:15:25.077840Z"
    }
   },
   "outputs": [
    {
     "name": "stdout",
     "output_type": "stream",
     "text": [
      "Elapsed time: 232 milliseconds\n",
      "Elapsed time: 156 milliseconds\n",
      "Elapsed time: 138 milliseconds\n"
     ]
    }
   ],
   "source": [
    "import os\n",
    "import glob\n",
    "import json\n",
    "import openai\n",
    "import numpy as np\n",
    "\n",
    "class SolutionSnapshot:\n",
    "\n",
    "    def __init__( self, problem, solution_summary=\"\", code=\"\", programming_language=\"python\", language_version=\"3.10\", embedding=[], solution_directory=\"/src/conf/long-term-memory/solutions/\" ):\n",
    "\n",
    "        self.problem              = problem\n",
    "        self.embedding            = embedding\n",
    "        self.solution_summary     = solution_summary\n",
    "        self.code                 = code\n",
    "        self.programming_language = programming_language\n",
    "        self.language_version     = language_version\n",
    "        self.solution_directory   = solution_directory\n",
    "\n",
    "        self._generate_embedding()\n",
    "    \n",
    "    def _generate_embedding( self ):\n",
    "\n",
    "        with Stopwatch() as sw:\n",
    "            response = openai.Embedding.create(\n",
    "                input=self.problem,\n",
    "                model=\"text-embedding-ada-002\"\n",
    "            )\n",
    "        self.embedding = response[ \"data\" ][ 0 ][ \"embedding\" ]\n",
    "\n",
    "        # arr = np.array( self.embedding )\n",
    "        # print( f\"Embedding shape: {arr.shape}\" )\n",
    "        # print( f\"Embedding len: {len( self.embedding )}\" )\n",
    "\n",
    "    def compare_embedding( self, other_snapshot ):\n",
    "\n",
    "        if not self.embedding or not other_snapshot.embedding:\n",
    "            raise ValueError( \"Both snapshots must have an embedding to compare.\" )\n",
    "\n",
    "        return np.dot( self.embedding, other_snapshot.embedding )\n",
    "\n",
    "    def to_json( self ):\n",
    "\n",
    "        return json.dumps( self.__dict__ )\n",
    "\n",
    "    def write_to_file( self ):\n",
    "\n",
    "        # Generate filename based on first 64 characters of the problem\n",
    "        filename_base = self.problem[ :64 ]\n",
    "        # Replace any character that is not alphanumeric or underscore with underscore\n",
    "        filename_base = \"\".join( c if c.isalnum() else \"-\" for c in filename_base )\n",
    "        # Get the project root directory\n",
    "        project_root = du.get_project_root()\n",
    "        # Define the directory where the file will be saved\n",
    "        directory = f\"{project_root}{self.solution_directory}\"\n",
    "        # Get a list of all files that start with the filename base\n",
    "        existing_files = glob.glob( f\"{directory}{filename_base}-*.json\" )\n",
    "        # The count of existing files will be used to make the filename unique\n",
    "        file_count = len( existing_files )\n",
    "        # Generate the full file path\n",
    "        file_path = f\"{directory}{filename_base}-{file_count}.json\"\n",
    "        # Print the file path for debugging purposes\n",
    "        print( f\"File path: {file_path}\" )\n",
    "\n",
    "        # Write the JSON string to the file\n",
    "        with open( file_path, \"w\" ) as f:\n",
    "            f.write( self.to_json() )\n",
    "\n",
    "today     = SolutionSnapshot( problem=\"what day is today\" )\n",
    "tommorrow = SolutionSnapshot( problem=\"what day is tommorrow\" )\n",
    "blah      = SolutionSnapshot( problem=\"i feel so blah today\" )\n",
    "\n",
    "# snapshot.write_to_file()\n",
    "# snapshot.to_json()"
   ]
  },
  {
   "cell_type": "code",
   "execution_count": 23,
   "outputs": [
    {
     "name": "stdout",
     "output_type": "stream",
     "text": [
      "Score: [0.9999999187991976] for [what day is today] == [what day is today]\n",
      "Score: [0.8773281083641067] for [what day is tommorrow] == [what day is today]\n",
      "Score: [0.7907040929132791] for [i feel so blah today] == [what day is today]\n"
     ]
    }
   ],
   "source": [
    "snapshots = [ today, tommorrow, blah ]\n",
    "\n",
    "for snapshot in snapshots:\n",
    "\n",
    "    score = today.compare_embedding( snapshot )\n",
    "    # print( f\"Score: {score}\" ) Print out both problem values\n",
    "    print( f\"Score: [{score}] for [{snapshot.problem}] == [{today.problem}]\" )"
   ],
   "metadata": {
    "collapsed": false,
    "ExecuteTime": {
     "end_time": "2023-08-16T21:15:27.224153Z",
     "start_time": "2023-08-16T21:15:27.222429Z"
    }
   }
  },
  {
   "cell_type": "code",
   "execution_count": null,
   "outputs": [],
   "source": [],
   "metadata": {
    "collapsed": false
   }
  }
 ],
 "metadata": {
  "kernelspec": {
   "display_name": "Python 3",
   "language": "python",
   "name": "python3"
  },
  "language_info": {
   "codemirror_mode": {
    "name": "ipython",
    "version": 2
   },
   "file_extension": ".py",
   "mimetype": "text/x-python",
   "name": "python",
   "nbconvert_exporter": "python",
   "pygments_lexer": "ipython2",
   "version": "2.7.6"
  }
 },
 "nbformat": 4,
 "nbformat_minor": 0
}
