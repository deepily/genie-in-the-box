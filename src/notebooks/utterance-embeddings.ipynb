{
 "cells": [
  {
   "cell_type": "code",
   "execution_count": 14,
   "outputs": [
    {
     "name": "stdout",
     "output_type": "stream",
     "text": [
      "Path [/var/genie-in-the-box/src/lib] already in sys.path\n"
     ]
    }
   ],
   "source": [
    "import sys\n",
    "\n",
    "\n",
    "path = \"/var/genie-in-the-box/src/lib\"\n",
    "sys.path.append( path )\n",
    "\n",
    "import util as du\n",
    "du.add_to_path( path )"
   ],
   "metadata": {
    "collapsed": false,
    "ExecuteTime": {
     "end_time": "2023-08-16T20:43:56.994696Z",
     "start_time": "2023-08-16T20:43:56.969707Z"
    }
   }
  },
  {
   "cell_type": "code",
   "execution_count": 51,
   "outputs": [
    {
     "name": "stdout",
     "output_type": "stream",
     "text": [
      "Done in 1,001 milliseconds\n"
     ]
    }
   ],
   "source": [
    "import time\n",
    "\n",
    "class Stopwatch:\n",
    "\n",
    "    def __enter__( self ):\n",
    "\n",
    "        self.start = time.time()\n",
    "\n",
    "        return self\n",
    "\n",
    "    def __exit__( self, *args ):\n",
    "\n",
    "        self.end      = time.time()\n",
    "        self.interval = int( ( self.end - self.start ) * 1000 )\n",
    "\n",
    "        print( f'Done in {self.interval:,} milliseconds' )\n",
    "\n",
    "with Stopwatch() as sw:\n",
    "\n",
    "    time.sleep( 1 )"
   ],
   "metadata": {
    "collapsed": false,
    "ExecuteTime": {
     "end_time": "2023-08-17T17:35:35.039955Z",
     "start_time": "2023-08-17T17:35:34.031907Z"
    }
   }
  },
  {
   "cell_type": "code",
   "execution_count": 58,
   "metadata": {
    "collapsed": true,
    "ExecuteTime": {
     "end_time": "2023-08-17T17:45:55.676744Z",
     "start_time": "2023-08-17T17:45:55.414394Z"
    }
   },
   "outputs": [
    {
     "name": "stdout",
     "output_type": "stream",
     "text": [
      "Generating embedding for [what day is today]... Done in 214 milliseconds\n",
      "NO solution_file value provided (Must be a new object). Generating a unique file name...\n",
      "File path: /var/genie-in-the-box/src/conf/long-term-memory/solutions/what-day-is-today-4.json\n"
     ]
    }
   ],
   "source": [
    "import os\n",
    "import glob\n",
    "import json\n",
    "from datetime import datetime\n",
    "\n",
    "import openai\n",
    "import numpy as np\n",
    "\n",
    "class SolutionSnapshot:\n",
    "\n",
    "    @staticmethod\n",
    "    def get_timestamp():\n",
    "\n",
    "        now = datetime.now()\n",
    "        return now.strftime( \"%Y-%m-%d @ %H-%M-%S\" )\n",
    "\n",
    "    def __init__( self, problem, created_date=get_timestamp(), updated_date=get_timestamp(), solution_summary=\"\", code=\"\",\n",
    "                  programming_language=\"python\", language_version=\"3.10\",\n",
    "                  problem_embedding=[], solution_embedding=[ ], code_embedding=[ ],\n",
    "                  solution_directory=\"/src/conf/long-term-memory/solutions/\", solution_file=None\n",
    "        ):\n",
    "\n",
    "        self.created_date         = created_date\n",
    "        self.updated_date         = updated_date\n",
    "        self.problem              = problem\n",
    "        self.solution_summary     = solution_summary\n",
    "        self.code                 = code\n",
    "        self.programming_language = programming_language\n",
    "        self.language_version     = language_version\n",
    "        self.solution_directory   = solution_directory\n",
    "        self.solution_file        = solution_file\n",
    "\n",
    "        # If the problem embedding is empty, generate it\n",
    "        if not problem_embedding:\n",
    "            self.problem_embedding = self._generate_embedding( problem )\n",
    "        else:\n",
    "            self.problem_embedding = problem_embedding\n",
    "\n",
    "        self.solution_embedding   = solution_embedding\n",
    "        self.code_embedding       = code_embedding\n",
    "\n",
    "\n",
    "    def set_solution_summary( self, solution_summary ):\n",
    "\n",
    "        self.solution_summary   = solution_summary\n",
    "        self.solution_embedding = self._generate_embedding( solution_summary )\n",
    "        self.updated_date       = self._get_timestamp()\n",
    "\n",
    "    def set_code( self, code ):\n",
    "\n",
    "        self.code           = code\n",
    "        self.code_embedding = self._generate_embedding( code )\n",
    "        self.updated_date   = self._get_timestamp()\n",
    "\n",
    "    def _generate_embedding( self, text ):\n",
    "\n",
    "        print( f\"Generating embedding for [{text}]... \", end=\"\" )\n",
    "        with Stopwatch() as sw:\n",
    "            response = openai.Embedding.create(\n",
    "                input=text,\n",
    "                model=\"text-embedding-ada-002\"\n",
    "            )\n",
    "        return response[ \"data\" ][ 0 ][ \"embedding\" ]\n",
    "\n",
    "    def get_problem_similarity( self, other_snapshot ):\n",
    "\n",
    "        if not self.problem_embedding or not other_snapshot.problem_embedding:\n",
    "            raise ValueError( \"Both snapshots must have a problem embedding to compare.\" )\n",
    "        return np.dot( self.problem_embedding, other_snapshot.problem_embedding )\n",
    "\n",
    "    def get_solution_summary_similarity( self, other_snapshot ):\n",
    "\n",
    "        if not self.solution_embedding or not other_snapshot.solution_embedding:\n",
    "            raise ValueError( \"Both snapshots must have a solution summary embedding to compare.\" )\n",
    "\n",
    "        return np.dot( self.solution_embedding, other_snapshot.solution_embedding )\n",
    "\n",
    "    def get_code_similarity( self, other_snapshot ):\n",
    "\n",
    "        if not self.code_embedding or not other_snapshot.code_embedding:\n",
    "            raise ValueError( \"Both snapshots must have a code embedding to compare.\" )\n",
    "\n",
    "        return np.dot( self.code_embedding, other_snapshot.code_embedding )\n",
    "\n",
    "    def to_json( self ):\n",
    "\n",
    "        return json.dumps( self.__dict__ )\n",
    "\n",
    "    def write_to_file( self ):\n",
    "\n",
    "        # Get the project root directory\n",
    "        project_root = du.get_project_root()\n",
    "        # Define the directory where the file will be saved\n",
    "        directory = f\"{project_root}{self.solution_directory}\"\n",
    "\n",
    "        if self.solution_file is None:\n",
    "\n",
    "            print( \"NO solution_file value provided (Must be a new object). Generating a unique file name...\" )\n",
    "            # Generate filename based on first 64 characters of the problem\n",
    "            filename_base = self.problem[ :64 ]\n",
    "            # Replace any character that is not alphanumeric or underscore with underscore\n",
    "            filename_base = \"\".join( c if c.isalnum() else \"-\" for c in filename_base )\n",
    "            # Get a list of all files that start with the filename base\n",
    "            existing_files = glob.glob( f\"{directory}{filename_base}-*.json\" )\n",
    "            # The count of existing files will be used to make the filename unique\n",
    "            file_count = len( existing_files )\n",
    "            # generate the file name\n",
    "            filename = f\"{filename_base}-{file_count}.json\"\n",
    "            self.solution_file = filename\n",
    "\n",
    "        else:\n",
    "\n",
    "            print( f\"solution_file value provided: [{self.solution_file}]...\" )\n",
    "\n",
    "        # Generate the full file path\n",
    "        file_path = f\"{directory}{self.solution_file}\"\n",
    "        # Print the file path for debugging purposes\n",
    "        print( f\"File path: {file_path}\" )\n",
    "        # Write the JSON string to the file\n",
    "        with open( file_path, \"w\" ) as f:\n",
    "            f.write( self.to_json() )\n",
    "\n",
    "    @classmethod\n",
    "    def from_json_file( cls, filename ):\n",
    "\n",
    "        with open( filename, 'r' ) as f:\n",
    "            data = json.load( f )\n",
    "        return cls( **data )\n",
    "\n",
    "today     = SolutionSnapshot( problem=\"what day is today\" )\n",
    "# tommorrow = SolutionSnapshot( problem=\"what day is tomorrow\" )\n",
    "# blah      = SolutionSnapshot( problem=\"i feel so blah today\" )\n",
    "# color     = SolutionSnapshot( problem=\"what color is the sky\" )\n",
    "# date      = SolutionSnapshot( problem=\"what is today's date\" )\n",
    "\n",
    "today.write_to_file()\n",
    "# snapshot.to_json()"
   ]
  },
  {
   "cell_type": "code",
   "execution_count": 59,
   "outputs": [
    {
     "data": {
      "text/plain": "<__main__.SolutionSnapshot at 0x7f7ed9ef9b10>"
     },
     "execution_count": 59,
     "metadata": {},
     "output_type": "execute_result"
    }
   ],
   "source": [
    "foo = SolutionSnapshot.from_json_file( \"/var/genie-in-the-box/src/conf/long-term-memory/solutions/what-day-is-today-4.json\" )\n",
    "foo"
   ],
   "metadata": {
    "collapsed": false,
    "ExecuteTime": {
     "end_time": "2023-08-17T17:46:14.753573Z",
     "start_time": "2023-08-17T17:46:14.737595Z"
    }
   }
  },
  {
   "cell_type": "code",
   "execution_count": 60,
   "outputs": [
    {
     "name": "stdout",
     "output_type": "stream",
     "text": [
      "solution_file value provided: [what-day-is-today-4.json]...\n",
      "File path: /var/genie-in-the-box/src/conf/long-term-memory/solutions/what-day-is-today-4.json\n"
     ]
    }
   ],
   "source": [
    "foo.write_to_file()"
   ],
   "metadata": {
    "collapsed": false,
    "ExecuteTime": {
     "end_time": "2023-08-17T17:46:36.390432Z",
     "start_time": "2023-08-17T17:46:36.360304Z"
    }
   }
  },
  {
   "cell_type": "code",
   "execution_count": 34,
   "outputs": [
    {
     "name": "stdout",
     "output_type": "stream",
     "text": [
      "Score: [1.0000000721124376] for [what day is today] == [what day is today]\n",
      "Score: [0.9080752829638264] for [what day is tomorrow] == [what day is today]\n",
      "Score: [0.7907710414102591] for [i feel so blah today] == [what day is today]\n",
      "Score: [0.7562339112211474] for [what color is the sky] == [what day is today]\n",
      "Score: [0.9328160982290687] for [what is today's date] == [what day is today]\n"
     ]
    }
   ],
   "source": [
    "snapshots = [ today, tommorrow, blah, color, date ]\n",
    "\n",
    "for snapshot in snapshots:\n",
    "\n",
    "    score = today.get_problem_similarity( snapshot )\n",
    "    print( f\"Score: [{score}] for [{snapshot.problem}] == [{today.problem}]\" )"
   ],
   "metadata": {
    "collapsed": false,
    "ExecuteTime": {
     "end_time": "2023-08-17T16:54:03.890307Z",
     "start_time": "2023-08-17T16:54:03.889648Z"
    }
   }
  },
  {
   "cell_type": "code",
   "execution_count": null,
   "outputs": [],
   "source": [],
   "metadata": {
    "collapsed": false
   }
  }
 ],
 "metadata": {
  "kernelspec": {
   "display_name": "Python 3",
   "language": "python",
   "name": "python3"
  },
  "language_info": {
   "codemirror_mode": {
    "name": "ipython",
    "version": 2
   },
   "file_extension": ".py",
   "mimetype": "text/x-python",
   "name": "python",
   "nbconvert_exporter": "python",
   "pygments_lexer": "ipython2",
   "version": "2.7.6"
  }
 },
 "nbformat": 4,
 "nbformat_minor": 0
}
