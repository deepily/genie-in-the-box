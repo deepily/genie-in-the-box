{
 "cells": [
  {
   "cell_type": "code",
   "execution_count": 1,
   "outputs": [
    {
     "name": "stdout",
     "output_type": "stream",
     "text": [
      "total 40K\r\n",
      "drwxr-xr-x 2 1000 1000 4.0K Aug  9 19:33 .\r\n",
      "drwxr-xr-x 4 1000 1000 4.0K Jul 19 20:04 ..\r\n",
      "-rw-r--r-- 1 1000 1000 4.0K Jul 19 20:04 ._events.jsonl\r\n",
      "-rw-r--r-- 1 1000 1000  16K Aug  9 19:33 events.csv\r\n",
      "-rw-r--r-- 1 1000 1000 9.9K Aug  9 19:33 events.jsonl\r\n"
     ]
    }
   ],
   "source": [
    "! ls -alh /var/genie-in-the-box/src/conf/long-term-memory/"
   ],
   "metadata": {
    "collapsed": false,
    "ExecuteTime": {
     "end_time": "2023-08-10T17:56:27.655154Z",
     "start_time": "2023-08-10T17:56:27.539861Z"
    }
   }
  },
  {
   "cell_type": "code",
   "execution_count": 2,
   "outputs": [
    {
     "name": "stdout",
     "output_type": "stream",
     "text": [
      "Collecting langchain\r\n",
      "  Downloading langchain-0.0.257-py3-none-any.whl (1.4 MB)\r\n",
      "\u001B[2K     \u001B[90m━━━━━━━━━━━━━━━━━━━━━━━━━━━━━━━━━━━━━━━━\u001B[0m \u001B[32m1.4/1.4 MB\u001B[0m \u001B[31m15.6 MB/s\u001B[0m eta \u001B[36m0:00:00\u001B[0ma \u001B[36m0:00:01\u001B[0m\r\n",
      "\u001B[?25hCollecting numexpr<3.0.0,>=2.8.4\r\n",
      "  Downloading numexpr-2.8.5-cp310-cp310-manylinux_2_17_x86_64.manylinux2014_x86_64.whl (383 kB)\r\n",
      "\u001B[2K     \u001B[90m━━━━━━━━━━━━━━━━━━━━━━━━━━━━━━━━━━━━━━\u001B[0m \u001B[32m383.2/383.2 kB\u001B[0m \u001B[31m39.7 MB/s\u001B[0m eta \u001B[36m0:00:00\u001B[0m\r\n",
      "\u001B[?25hCollecting langsmith<0.1.0,>=0.0.11\r\n",
      "  Downloading langsmith-0.0.19-py3-none-any.whl (31 kB)\r\n",
      "Requirement already satisfied: aiohttp<4.0.0,>=3.8.3 in /usr/local/lib/python3.10/dist-packages (from langchain) (3.8.4)\r\n",
      "Requirement already satisfied: pydantic<2,>=1 in /usr/local/lib/python3.10/dist-packages (from langchain) (1.10.5)\r\n",
      "Requirement already satisfied: SQLAlchemy<3,>=1.4 in /usr/local/lib/python3.10/dist-packages (from langchain) (2.0.4)\r\n",
      "Collecting openapi-schema-pydantic<2.0,>=1.2\r\n",
      "  Downloading openapi_schema_pydantic-1.2.4-py3-none-any.whl (90 kB)\r\n",
      "\u001B[2K     \u001B[90m━━━━━━━━━━━━━━━━━━━━━━━━━━━━━━━━━━━━━━━━\u001B[0m \u001B[32m90.0/90.0 kB\u001B[0m \u001B[31m23.1 MB/s\u001B[0m eta \u001B[36m0:00:00\u001B[0m\r\n",
      "\u001B[?25hRequirement already satisfied: numpy<2,>=1 in /usr/local/lib/python3.10/dist-packages (from langchain) (1.23.5)\r\n",
      "Requirement already satisfied: PyYAML>=5.3 in /usr/local/lib/python3.10/dist-packages (from langchain) (6.0)\r\n",
      "Collecting tenacity<9.0.0,>=8.1.0\r\n",
      "  Downloading tenacity-8.2.2-py3-none-any.whl (24 kB)\r\n",
      "Requirement already satisfied: async-timeout<5.0.0,>=4.0.0 in /usr/local/lib/python3.10/dist-packages (from langchain) (4.0.2)\r\n",
      "Collecting dataclasses-json<0.6.0,>=0.5.7\r\n",
      "  Downloading dataclasses_json-0.5.14-py3-none-any.whl (26 kB)\r\n",
      "Requirement already satisfied: requests<3,>=2 in /usr/local/lib/python3.10/dist-packages (from langchain) (2.28.2)\r\n",
      "Requirement already satisfied: attrs>=17.3.0 in /usr/local/lib/python3.10/dist-packages (from aiohttp<4.0.0,>=3.8.3->langchain) (22.2.0)\r\n",
      "Requirement already satisfied: yarl<2.0,>=1.0 in /usr/local/lib/python3.10/dist-packages (from aiohttp<4.0.0,>=3.8.3->langchain) (1.8.2)\r\n",
      "Requirement already satisfied: aiosignal>=1.1.2 in /usr/local/lib/python3.10/dist-packages (from aiohttp<4.0.0,>=3.8.3->langchain) (1.3.1)\r\n",
      "Requirement already satisfied: frozenlist>=1.1.1 in /usr/local/lib/python3.10/dist-packages (from aiohttp<4.0.0,>=3.8.3->langchain) (1.3.3)\r\n",
      "Requirement already satisfied: charset-normalizer<4.0,>=2.0 in /usr/local/lib/python3.10/dist-packages (from aiohttp<4.0.0,>=3.8.3->langchain) (3.0.1)\r\n",
      "Requirement already satisfied: multidict<7.0,>=4.5 in /usr/local/lib/python3.10/dist-packages (from aiohttp<4.0.0,>=3.8.3->langchain) (6.0.4)\r\n",
      "Collecting marshmallow<4.0.0,>=3.18.0\r\n",
      "  Downloading marshmallow-3.20.1-py3-none-any.whl (49 kB)\r\n",
      "\u001B[2K     \u001B[90m━━━━━━━━━━━━━━━━━━━━━━━━━━━━━━━━━━━━━━━━\u001B[0m \u001B[32m49.4/49.4 kB\u001B[0m \u001B[31m8.9 MB/s\u001B[0m eta \u001B[36m0:00:00\u001B[0m\r\n",
      "\u001B[?25hCollecting typing-inspect<1,>=0.4.0\r\n",
      "  Downloading typing_inspect-0.9.0-py3-none-any.whl (8.8 kB)\r\n",
      "Requirement already satisfied: typing-extensions>=4.2.0 in /usr/local/lib/python3.10/dist-packages (from pydantic<2,>=1->langchain) (4.5.0)\r\n",
      "Requirement already satisfied: idna<4,>=2.5 in /usr/local/lib/python3.10/dist-packages (from requests<3,>=2->langchain) (3.4)\r\n",
      "Requirement already satisfied: urllib3<1.27,>=1.21.1 in /usr/local/lib/python3.10/dist-packages (from requests<3,>=2->langchain) (1.26.14)\r\n",
      "Requirement already satisfied: certifi>=2017.4.17 in /usr/local/lib/python3.10/dist-packages (from requests<3,>=2->langchain) (2022.12.7)\r\n",
      "Requirement already satisfied: greenlet!=0.4.17 in /usr/local/lib/python3.10/dist-packages (from SQLAlchemy<3,>=1.4->langchain) (2.0.2)\r\n",
      "Requirement already satisfied: packaging>=17.0 in /usr/local/lib/python3.10/dist-packages (from marshmallow<4.0.0,>=3.18.0->dataclasses-json<0.6.0,>=0.5.7->langchain) (23.0)\r\n",
      "Collecting mypy-extensions>=0.3.0\r\n",
      "  Downloading mypy_extensions-1.0.0-py3-none-any.whl (4.7 kB)\r\n",
      "Installing collected packages: tenacity, numexpr, mypy-extensions, marshmallow, typing-inspect, openapi-schema-pydantic, langsmith, dataclasses-json, langchain\r\n",
      "Successfully installed dataclasses-json-0.5.14 langchain-0.0.257 langsmith-0.0.19 marshmallow-3.20.1 mypy-extensions-1.0.0 numexpr-2.8.5 openapi-schema-pydantic-1.2.4 tenacity-8.2.2 typing-inspect-0.9.0\r\n",
      "\u001B[33mWARNING: Running pip as the 'root' user can result in broken permissions and conflicting behaviour with the system package manager. It is recommended to use a virtual environment instead: https://pip.pypa.io/warnings/venv\u001B[0m\u001B[33m\r\n",
      "\u001B[0m\r\n",
      "\u001B[1m[\u001B[0m\u001B[34;49mnotice\u001B[0m\u001B[1;39;49m]\u001B[0m\u001B[39;49m A new release of pip is available: \u001B[0m\u001B[31;49m23.0.1\u001B[0m\u001B[39;49m -> \u001B[0m\u001B[32;49m23.2.1\u001B[0m\r\n",
      "\u001B[1m[\u001B[0m\u001B[34;49mnotice\u001B[0m\u001B[1;39;49m]\u001B[0m\u001B[39;49m To update, run: \u001B[0m\u001B[32;49mpython3 -m pip install --upgrade pip\u001B[0m\r\n",
      "Requirement already satisfied: langchain[docarray] in /usr/local/lib/python3.10/dist-packages (0.0.257)\r\n",
      "Requirement already satisfied: dataclasses-json<0.6.0,>=0.5.7 in /usr/local/lib/python3.10/dist-packages (from langchain[docarray]) (0.5.14)\r\n",
      "Requirement already satisfied: langsmith<0.1.0,>=0.0.11 in /usr/local/lib/python3.10/dist-packages (from langchain[docarray]) (0.0.19)\r\n",
      "Requirement already satisfied: requests<3,>=2 in /usr/local/lib/python3.10/dist-packages (from langchain[docarray]) (2.28.2)\r\n",
      "Requirement already satisfied: tenacity<9.0.0,>=8.1.0 in /usr/local/lib/python3.10/dist-packages (from langchain[docarray]) (8.2.2)\r\n",
      "Requirement already satisfied: SQLAlchemy<3,>=1.4 in /usr/local/lib/python3.10/dist-packages (from langchain[docarray]) (2.0.4)\r\n",
      "Requirement already satisfied: pydantic<2,>=1 in /usr/local/lib/python3.10/dist-packages (from langchain[docarray]) (1.10.5)\r\n",
      "Requirement already satisfied: async-timeout<5.0.0,>=4.0.0 in /usr/local/lib/python3.10/dist-packages (from langchain[docarray]) (4.0.2)\r\n",
      "Requirement already satisfied: PyYAML>=5.3 in /usr/local/lib/python3.10/dist-packages (from langchain[docarray]) (6.0)\r\n",
      "Requirement already satisfied: aiohttp<4.0.0,>=3.8.3 in /usr/local/lib/python3.10/dist-packages (from langchain[docarray]) (3.8.4)\r\n",
      "Requirement already satisfied: numpy<2,>=1 in /usr/local/lib/python3.10/dist-packages (from langchain[docarray]) (1.23.5)\r\n",
      "Requirement already satisfied: openapi-schema-pydantic<2.0,>=1.2 in /usr/local/lib/python3.10/dist-packages (from langchain[docarray]) (1.2.4)\r\n",
      "Requirement already satisfied: numexpr<3.0.0,>=2.8.4 in /usr/local/lib/python3.10/dist-packages (from langchain[docarray]) (2.8.5)\r\n",
      "Collecting docarray[hnswlib]<0.33.0,>=0.32.0\r\n",
      "  Downloading docarray-0.32.1-py3-none-any.whl (215 kB)\r\n",
      "\u001B[2K     \u001B[90m━━━━━━━━━━━━━━━━━━━━━━━━━━━━━━━━━━━━━━━\u001B[0m \u001B[32m215.3/215.3 kB\u001B[0m \u001B[31m3.5 MB/s\u001B[0m eta \u001B[36m0:00:00\u001B[0ma \u001B[36m0:00:01\u001B[0m\r\n",
      "\u001B[?25hRequirement already satisfied: multidict<7.0,>=4.5 in /usr/local/lib/python3.10/dist-packages (from aiohttp<4.0.0,>=3.8.3->langchain[docarray]) (6.0.4)\r\n",
      "Requirement already satisfied: aiosignal>=1.1.2 in /usr/local/lib/python3.10/dist-packages (from aiohttp<4.0.0,>=3.8.3->langchain[docarray]) (1.3.1)\r\n",
      "Requirement already satisfied: yarl<2.0,>=1.0 in /usr/local/lib/python3.10/dist-packages (from aiohttp<4.0.0,>=3.8.3->langchain[docarray]) (1.8.2)\r\n",
      "Requirement already satisfied: frozenlist>=1.1.1 in /usr/local/lib/python3.10/dist-packages (from aiohttp<4.0.0,>=3.8.3->langchain[docarray]) (1.3.3)\r\n",
      "Requirement already satisfied: attrs>=17.3.0 in /usr/local/lib/python3.10/dist-packages (from aiohttp<4.0.0,>=3.8.3->langchain[docarray]) (22.2.0)\r\n",
      "Requirement already satisfied: charset-normalizer<4.0,>=2.0 in /usr/local/lib/python3.10/dist-packages (from aiohttp<4.0.0,>=3.8.3->langchain[docarray]) (3.0.1)\r\n",
      "Requirement already satisfied: marshmallow<4.0.0,>=3.18.0 in /usr/local/lib/python3.10/dist-packages (from dataclasses-json<0.6.0,>=0.5.7->langchain[docarray]) (3.20.1)\r\n",
      "Requirement already satisfied: typing-inspect<1,>=0.4.0 in /usr/local/lib/python3.10/dist-packages (from dataclasses-json<0.6.0,>=0.5.7->langchain[docarray]) (0.9.0)\r\n",
      "Collecting orjson>=3.8.2\r\n",
      "  Downloading orjson-3.9.4-cp310-cp310-manylinux_2_17_x86_64.manylinux2014_x86_64.whl (140 kB)\r\n",
      "\u001B[2K     \u001B[90m━━━━━━━━━━━━━━━━━━━━━━━━━━━━━━━━━━━━━━\u001B[0m \u001B[32m140.3/140.3 kB\u001B[0m \u001B[31m30.8 MB/s\u001B[0m eta \u001B[36m0:00:00\u001B[0m\r\n",
      "\u001B[?25hCollecting rich>=13.1.0\r\n",
      "  Downloading rich-13.5.2-py3-none-any.whl (239 kB)\r\n",
      "\u001B[2K     \u001B[90m━━━━━━━━━━━━━━━━━━━━━━━━━━━━━━━━━━━━━━\u001B[0m \u001B[32m239.7/239.7 kB\u001B[0m \u001B[31m38.8 MB/s\u001B[0m eta \u001B[36m0:00:00\u001B[0m\r\n",
      "\u001B[?25hCollecting types-requests>=2.28.11.6\r\n",
      "  Downloading types_requests-2.31.0.2-py3-none-any.whl (14 kB)\r\n",
      "Requirement already satisfied: protobuf>=3.19.0 in /usr/local/lib/python3.10/dist-packages (from docarray[hnswlib]<0.33.0,>=0.32.0->langchain[docarray]) (3.19.6)\r\n",
      "Collecting hnswlib>=0.6.2\r\n",
      "  Downloading hnswlib-0.7.0.tar.gz (33 kB)\r\n",
      "  Installing build dependencies ... \u001B[?25ldone\r\n",
      "\u001B[?25h  Getting requirements to build wheel ... \u001B[?25ldone\r\n",
      "\u001B[?25h  Preparing metadata (pyproject.toml) ... \u001B[?25ldone\r\n",
      "\u001B[?25hRequirement already satisfied: typing-extensions>=4.2.0 in /usr/local/lib/python3.10/dist-packages (from pydantic<2,>=1->langchain[docarray]) (4.5.0)\r\n",
      "Requirement already satisfied: idna<4,>=2.5 in /usr/local/lib/python3.10/dist-packages (from requests<3,>=2->langchain[docarray]) (3.4)\r\n",
      "Requirement already satisfied: certifi>=2017.4.17 in /usr/local/lib/python3.10/dist-packages (from requests<3,>=2->langchain[docarray]) (2022.12.7)\r\n",
      "Requirement already satisfied: urllib3<1.27,>=1.21.1 in /usr/local/lib/python3.10/dist-packages (from requests<3,>=2->langchain[docarray]) (1.26.14)\r\n",
      "Requirement already satisfied: greenlet!=0.4.17 in /usr/local/lib/python3.10/dist-packages (from SQLAlchemy<3,>=1.4->langchain[docarray]) (2.0.2)\r\n",
      "Requirement already satisfied: packaging>=17.0 in /usr/local/lib/python3.10/dist-packages (from marshmallow<4.0.0,>=3.18.0->dataclasses-json<0.6.0,>=0.5.7->langchain[docarray]) (23.0)\r\n",
      "Requirement already satisfied: pygments<3.0.0,>=2.13.0 in /usr/local/lib/python3.10/dist-packages (from rich>=13.1.0->docarray[hnswlib]<0.33.0,>=0.32.0->langchain[docarray]) (2.14.0)\r\n",
      "Collecting markdown-it-py>=2.2.0\r\n",
      "  Downloading markdown_it_py-3.0.0-py3-none-any.whl (87 kB)\r\n",
      "\u001B[2K     \u001B[90m━━━━━━━━━━━━━━━━━━━━━━━━━━━━━━━━━━━━━━━━\u001B[0m \u001B[32m87.5/87.5 kB\u001B[0m \u001B[31m13.5 MB/s\u001B[0m eta \u001B[36m0:00:00\u001B[0m\r\n",
      "\u001B[?25hCollecting types-urllib3\r\n",
      "  Downloading types_urllib3-1.26.25.14-py3-none-any.whl (15 kB)\r\n",
      "Requirement already satisfied: mypy-extensions>=0.3.0 in /usr/local/lib/python3.10/dist-packages (from typing-inspect<1,>=0.4.0->dataclasses-json<0.6.0,>=0.5.7->langchain[docarray]) (1.0.0)\r\n",
      "Collecting mdurl~=0.1\r\n",
      "  Downloading mdurl-0.1.2-py3-none-any.whl (10.0 kB)\r\n",
      "Building wheels for collected packages: hnswlib\r\n",
      "  Building wheel for hnswlib (pyproject.toml) ... \u001B[?25ldone\r\n",
      "\u001B[?25h  Created wheel for hnswlib: filename=hnswlib-0.7.0-cp310-cp310-linux_x86_64.whl size=2195304 sha256=c5b82907d7f70335ac81835df55502828302fc3c12c04bdc2eee662cd51721b6\r\n",
      "  Stored in directory: /root/.cache/pip/wheels/8a/ae/ec/235a682e0041fbaeee389843670581ec6c66872db856dfa9a4\r\n",
      "Successfully built hnswlib\r\n",
      "Installing collected packages: types-urllib3, types-requests, orjson, mdurl, hnswlib, markdown-it-py, rich, docarray\r\n",
      "Successfully installed docarray-0.32.1 hnswlib-0.7.0 markdown-it-py-3.0.0 mdurl-0.1.2 orjson-3.9.4 rich-13.5.2 types-requests-2.31.0.2 types-urllib3-1.26.25.14\r\n",
      "\u001B[33mWARNING: Running pip as the 'root' user can result in broken permissions and conflicting behaviour with the system package manager. It is recommended to use a virtual environment instead: https://pip.pypa.io/warnings/venv\u001B[0m\u001B[33m\r\n",
      "\u001B[0m\r\n",
      "\u001B[1m[\u001B[0m\u001B[34;49mnotice\u001B[0m\u001B[1;39;49m]\u001B[0m\u001B[39;49m A new release of pip is available: \u001B[0m\u001B[31;49m23.0.1\u001B[0m\u001B[39;49m -> \u001B[0m\u001B[32;49m23.2.1\u001B[0m\r\n",
      "\u001B[1m[\u001B[0m\u001B[34;49mnotice\u001B[0m\u001B[1;39;49m]\u001B[0m\u001B[39;49m To update, run: \u001B[0m\u001B[32;49mpython3 -m pip install --upgrade pip\u001B[0m\r\n",
      "Collecting tiktoken\r\n",
      "  Downloading tiktoken-0.4.0-cp310-cp310-manylinux_2_17_x86_64.manylinux2014_x86_64.whl (1.7 MB)\r\n",
      "\u001B[2K     \u001B[90m━━━━━━━━━━━━━━━━━━━━━━━━━━━━━━━━━━━━━━━━\u001B[0m \u001B[32m1.7/1.7 MB\u001B[0m \u001B[31m19.1 MB/s\u001B[0m eta \u001B[36m0:00:00\u001B[0ma \u001B[36m0:00:01\u001B[0m\r\n",
      "\u001B[?25hRequirement already satisfied: regex>=2022.1.18 in /usr/local/lib/python3.10/dist-packages (from tiktoken) (2022.10.31)\r\n",
      "Requirement already satisfied: requests>=2.26.0 in /usr/local/lib/python3.10/dist-packages (from tiktoken) (2.28.2)\r\n",
      "Requirement already satisfied: charset-normalizer<4,>=2 in /usr/local/lib/python3.10/dist-packages (from requests>=2.26.0->tiktoken) (3.0.1)\r\n",
      "Requirement already satisfied: idna<4,>=2.5 in /usr/local/lib/python3.10/dist-packages (from requests>=2.26.0->tiktoken) (3.4)\r\n",
      "Requirement already satisfied: urllib3<1.27,>=1.21.1 in /usr/local/lib/python3.10/dist-packages (from requests>=2.26.0->tiktoken) (1.26.14)\r\n",
      "Requirement already satisfied: certifi>=2017.4.17 in /usr/local/lib/python3.10/dist-packages (from requests>=2.26.0->tiktoken) (2022.12.7)\r\n",
      "Installing collected packages: tiktoken\r\n",
      "Successfully installed tiktoken-0.4.0\r\n",
      "\u001B[33mWARNING: Running pip as the 'root' user can result in broken permissions and conflicting behaviour with the system package manager. It is recommended to use a virtual environment instead: https://pip.pypa.io/warnings/venv\u001B[0m\u001B[33m\r\n",
      "\u001B[0m\r\n",
      "\u001B[1m[\u001B[0m\u001B[34;49mnotice\u001B[0m\u001B[1;39;49m]\u001B[0m\u001B[39;49m A new release of pip is available: \u001B[0m\u001B[31;49m23.0.1\u001B[0m\u001B[39;49m -> \u001B[0m\u001B[32;49m23.2.1\u001B[0m\r\n",
      "\u001B[1m[\u001B[0m\u001B[34;49mnotice\u001B[0m\u001B[1;39;49m]\u001B[0m\u001B[39;49m To update, run: \u001B[0m\u001B[32;49mpython3 -m pip install --upgrade pip\u001B[0m\r\n",
      "Collecting pinecone-client\r\n",
      "  Downloading pinecone_client-2.2.2-py3-none-any.whl (179 kB)\r\n",
      "\u001B[2K     \u001B[90m━━━━━━━━━━━━━━━━━━━━━━━━━━━━━━━━━━━━━━━\u001B[0m \u001B[32m179.1/179.1 kB\u001B[0m \u001B[31m4.1 MB/s\u001B[0m eta \u001B[36m0:00:00\u001B[0ma \u001B[36m0:00:01\u001B[0m\r\n",
      "\u001B[?25hRequirement already satisfied: urllib3>=1.21.1 in /usr/local/lib/python3.10/dist-packages (from pinecone-client) (1.26.14)\r\n",
      "Collecting dnspython>=2.0.0\r\n",
      "  Downloading dnspython-2.4.1-py3-none-any.whl (300 kB)\r\n",
      "\u001B[2K     \u001B[90m━━━━━━━━━━━━━━━━━━━━━━━━━━━━━━━━━━━━━━\u001B[0m \u001B[32m300.3/300.3 kB\u001B[0m \u001B[31m19.7 MB/s\u001B[0m eta \u001B[36m0:00:00\u001B[0m\r\n",
      "\u001B[?25hRequirement already satisfied: typing-extensions>=3.7.4 in /usr/local/lib/python3.10/dist-packages (from pinecone-client) (4.5.0)\r\n",
      "Requirement already satisfied: tqdm>=4.64.1 in /usr/local/lib/python3.10/dist-packages (from pinecone-client) (4.64.1)\r\n",
      "Requirement already satisfied: python-dateutil>=2.5.3 in /usr/local/lib/python3.10/dist-packages (from pinecone-client) (2.8.2)\r\n",
      "Requirement already satisfied: numpy>=1.22.0 in /usr/local/lib/python3.10/dist-packages (from pinecone-client) (1.23.5)\r\n",
      "Collecting loguru>=0.5.0\r\n",
      "  Downloading loguru-0.7.0-py3-none-any.whl (59 kB)\r\n",
      "\u001B[2K     \u001B[90m━━━━━━━━━━━━━━━━━━━━━━━━━━━━━━━━━━━━━━━━\u001B[0m \u001B[32m60.0/60.0 kB\u001B[0m \u001B[31m14.3 MB/s\u001B[0m eta \u001B[36m0:00:00\u001B[0m\r\n",
      "\u001B[?25hRequirement already satisfied: pyyaml>=5.4 in /usr/local/lib/python3.10/dist-packages (from pinecone-client) (6.0)\r\n",
      "Requirement already satisfied: requests>=2.19.0 in /usr/local/lib/python3.10/dist-packages (from pinecone-client) (2.28.2)\r\n",
      "Requirement already satisfied: six>=1.5 in /usr/local/lib/python3.10/dist-packages (from python-dateutil>=2.5.3->pinecone-client) (1.16.0)\r\n",
      "Requirement already satisfied: certifi>=2017.4.17 in /usr/local/lib/python3.10/dist-packages (from requests>=2.19.0->pinecone-client) (2022.12.7)\r\n",
      "Requirement already satisfied: charset-normalizer<4,>=2 in /usr/local/lib/python3.10/dist-packages (from requests>=2.19.0->pinecone-client) (3.0.1)\r\n",
      "Requirement already satisfied: idna<4,>=2.5 in /usr/local/lib/python3.10/dist-packages (from requests>=2.19.0->pinecone-client) (3.4)\r\n",
      "Installing collected packages: loguru, dnspython, pinecone-client\r\n",
      "Successfully installed dnspython-2.4.1 loguru-0.7.0 pinecone-client-2.2.2\r\n",
      "\u001B[33mWARNING: Running pip as the 'root' user can result in broken permissions and conflicting behaviour with the system package manager. It is recommended to use a virtual environment instead: https://pip.pypa.io/warnings/venv\u001B[0m\u001B[33m\r\n",
      "\u001B[0m\r\n",
      "\u001B[1m[\u001B[0m\u001B[34;49mnotice\u001B[0m\u001B[1;39;49m]\u001B[0m\u001B[39;49m A new release of pip is available: \u001B[0m\u001B[31;49m23.0.1\u001B[0m\u001B[39;49m -> \u001B[0m\u001B[32;49m23.2.1\u001B[0m\r\n",
      "\u001B[1m[\u001B[0m\u001B[34;49mnotice\u001B[0m\u001B[1;39;49m]\u001B[0m\u001B[39;49m To update, run: \u001B[0m\u001B[32;49mpython3 -m pip install --upgrade pip\u001B[0m\r\n",
      "Collecting jq\r\n",
      "  Downloading jq-1.4.1-cp310-cp310-manylinux_2_17_x86_64.manylinux2014_x86_64.whl (589 kB)\r\n",
      "\u001B[2K     \u001B[90m━━━━━━━━━━━━━━━━━━━━━━━━━━━━━━━━━━━━━━━\u001B[0m \u001B[32m589.1/589.1 kB\u001B[0m \u001B[31m9.2 MB/s\u001B[0m eta \u001B[36m0:00:00\u001B[0ma \u001B[36m0:00:01\u001B[0m\r\n",
      "\u001B[?25hInstalling collected packages: jq\r\n",
      "Successfully installed jq-1.4.1\r\n",
      "\u001B[33mWARNING: Running pip as the 'root' user can result in broken permissions and conflicting behaviour with the system package manager. It is recommended to use a virtual environment instead: https://pip.pypa.io/warnings/venv\u001B[0m\u001B[33m\r\n",
      "\u001B[0m\r\n",
      "\u001B[1m[\u001B[0m\u001B[34;49mnotice\u001B[0m\u001B[1;39;49m]\u001B[0m\u001B[39;49m A new release of pip is available: \u001B[0m\u001B[31;49m23.0.1\u001B[0m\u001B[39;49m -> \u001B[0m\u001B[32;49m23.2.1\u001B[0m\r\n",
      "\u001B[1m[\u001B[0m\u001B[34;49mnotice\u001B[0m\u001B[1;39;49m]\u001B[0m\u001B[39;49m To update, run: \u001B[0m\u001B[32;49mpython3 -m pip install --upgrade pip\u001B[0m\r\n",
      "Collecting chromadb\r\n",
      "  Downloading chromadb-0.4.5-py3-none-any.whl (402 kB)\r\n",
      "\u001B[2K     \u001B[90m━━━━━━━━━━━━━━━━━━━━━━━━━━━━━━━━━━━━━━━\u001B[0m \u001B[32m402.8/402.8 kB\u001B[0m \u001B[31m8.7 MB/s\u001B[0m eta \u001B[36m0:00:00\u001B[0ma \u001B[36m0:00:01\u001B[0m\r\n",
      "\u001B[?25hCollecting tqdm>=4.65.0\r\n",
      "  Downloading tqdm-4.65.1-py3-none-any.whl (93 kB)\r\n",
      "\u001B[2K     \u001B[90m━━━━━━━━━━━━━━━━━━━━━━━━━━━━━━━━━━━━━━━━\u001B[0m \u001B[32m93.2/93.2 kB\u001B[0m \u001B[31m25.5 MB/s\u001B[0m eta \u001B[36m0:00:00\u001B[0m\r\n",
      "\u001B[?25hCollecting fastapi<0.100.0,>=0.95.2\r\n",
      "  Downloading fastapi-0.99.1-py3-none-any.whl (58 kB)\r\n",
      "\u001B[2K     \u001B[90m━━━━━━━━━━━━━━━━━━━━━━━━━━━━━━━━━━━━━━━━\u001B[0m \u001B[32m58.4/58.4 kB\u001B[0m \u001B[31m13.9 MB/s\u001B[0m eta \u001B[36m0:00:00\u001B[0m\r\n",
      "\u001B[?25hRequirement already satisfied: numpy>=1.21.6 in /usr/local/lib/python3.10/dist-packages (from chromadb) (1.23.5)\r\n",
      "Collecting uvicorn[standard]>=0.18.3\r\n",
      "  Downloading uvicorn-0.23.2-py3-none-any.whl (59 kB)\r\n",
      "\u001B[2K     \u001B[90m━━━━━━━━━━━━━━━━━━━━━━━━━━━━━━━━━━━━━━━━\u001B[0m \u001B[32m59.5/59.5 kB\u001B[0m \u001B[31m16.1 MB/s\u001B[0m eta \u001B[36m0:00:00\u001B[0m\r\n",
      "\u001B[?25hRequirement already satisfied: tokenizers>=0.13.2 in /usr/local/lib/python3.10/dist-packages (from chromadb) (0.13.2)\r\n",
      "Requirement already satisfied: typing-extensions>=4.5.0 in /usr/local/lib/python3.10/dist-packages (from chromadb) (4.5.0)\r\n",
      "Collecting overrides>=7.3.1\r\n",
      "  Downloading overrides-7.4.0-py3-none-any.whl (17 kB)\r\n",
      "Collecting chroma-hnswlib==0.7.2\r\n",
      "  Downloading chroma-hnswlib-0.7.2.tar.gz (31 kB)\r\n",
      "  Installing build dependencies ... \u001B[?25ldone\r\n",
      "\u001B[?25h  Getting requirements to build wheel ... \u001B[?25ldone\r\n",
      "\u001B[?25h  Preparing metadata (pyproject.toml) ... \u001B[?25ldone\r\n",
      "\u001B[?25hCollecting pulsar-client>=3.1.0\r\n",
      "  Downloading pulsar_client-3.2.0-cp310-cp310-manylinux_2_17_x86_64.manylinux2014_x86_64.whl (5.3 MB)\r\n",
      "\u001B[2K     \u001B[90m━━━━━━━━━━━━━━━━━━━━━━━━━━━━━━━━━━━━━━━━\u001B[0m \u001B[32m5.3/5.3 MB\u001B[0m \u001B[31m31.4 MB/s\u001B[0m eta \u001B[36m0:00:00\u001B[0m00:01\u001B[0m00:01\u001B[0m\r\n",
      "\u001B[?25hRequirement already satisfied: requests>=2.28 in /usr/local/lib/python3.10/dist-packages (from chromadb) (2.28.2)\r\n",
      "Collecting onnxruntime>=1.14.1\r\n",
      "  Downloading onnxruntime-1.15.1-cp310-cp310-manylinux_2_17_x86_64.manylinux2014_x86_64.whl (5.9 MB)\r\n",
      "\u001B[2K     \u001B[90m━━━━━━━━━━━━━━━━━━━━━━━━━━━━━━━━━━━━━━━━\u001B[0m \u001B[32m5.9/5.9 MB\u001B[0m \u001B[31m51.3 MB/s\u001B[0m eta \u001B[36m0:00:00\u001B[0m00:01\u001B[0m00:01\u001B[0m\r\n",
      "\u001B[?25hRequirement already satisfied: pydantic<2.0,>=1.9 in /usr/local/lib/python3.10/dist-packages (from chromadb) (1.10.5)\r\n",
      "Collecting pypika>=0.48.9\r\n",
      "  Downloading PyPika-0.48.9.tar.gz (67 kB)\r\n",
      "\u001B[2K     \u001B[90m━━━━━━━━━━━━━━━━━━━━━━━━━━━━━━━━━━━━━━━━\u001B[0m \u001B[32m67.3/67.3 kB\u001B[0m \u001B[31m18.2 MB/s\u001B[0m eta \u001B[36m0:00:00\u001B[0m\r\n",
      "\u001B[?25h  Installing build dependencies ... \u001B[?25ldone\r\n",
      "\u001B[?25h  Getting requirements to build wheel ... \u001B[?25ldone\r\n",
      "\u001B[?25h  Preparing metadata (pyproject.toml) ... \u001B[?25ldone\r\n",
      "\u001B[?25hRequirement already satisfied: importlib-resources in /usr/local/lib/python3.10/dist-packages (from chromadb) (5.12.0)\r\n",
      "Collecting posthog>=2.4.0\r\n",
      "  Downloading posthog-3.0.1-py2.py3-none-any.whl (37 kB)\r\n",
      "Collecting starlette<0.28.0,>=0.27.0\r\n",
      "  Downloading starlette-0.27.0-py3-none-any.whl (66 kB)\r\n",
      "\u001B[2K     \u001B[90m━━━━━━━━━━━━━━━━━━━━━━━━━━━━━━━━━━━━━━━━\u001B[0m \u001B[32m67.0/67.0 kB\u001B[0m \u001B[31m17.7 MB/s\u001B[0m eta \u001B[36m0:00:00\u001B[0m\r\n",
      "\u001B[?25hCollecting sympy\r\n",
      "  Downloading sympy-1.12-py3-none-any.whl (5.7 MB)\r\n",
      "\u001B[2K     \u001B[90m━━━━━━━━━━━━━━━━━━━━━━━━━━━━━━━━━━━━━━━━\u001B[0m \u001B[32m5.7/5.7 MB\u001B[0m \u001B[31m63.0 MB/s\u001B[0m eta \u001B[36m0:00:00\u001B[0m00:01\u001B[0m00:01\u001B[0m\r\n",
      "\u001B[?25hRequirement already satisfied: packaging in /usr/local/lib/python3.10/dist-packages (from onnxruntime>=1.14.1->chromadb) (23.0)\r\n",
      "Requirement already satisfied: flatbuffers in /usr/local/lib/python3.10/dist-packages (from onnxruntime>=1.14.1->chromadb) (23.1.21)\r\n",
      "Requirement already satisfied: protobuf in /usr/local/lib/python3.10/dist-packages (from onnxruntime>=1.14.1->chromadb) (3.19.6)\r\n",
      "Collecting coloredlogs\r\n",
      "  Downloading coloredlogs-15.0.1-py2.py3-none-any.whl (46 kB)\r\n",
      "\u001B[2K     \u001B[90m━━━━━━━━━━━━━━━━━━━━━━━━━━━━━━━━━━━━━━━━\u001B[0m \u001B[32m46.0/46.0 kB\u001B[0m \u001B[31m11.7 MB/s\u001B[0m eta \u001B[36m0:00:00\u001B[0m\r\n",
      "\u001B[?25hCollecting backoff>=1.10.0\r\n",
      "  Downloading backoff-2.2.1-py3-none-any.whl (15 kB)\r\n",
      "Requirement already satisfied: six>=1.5 in /usr/local/lib/python3.10/dist-packages (from posthog>=2.4.0->chromadb) (1.16.0)\r\n",
      "Collecting monotonic>=1.5\r\n",
      "  Downloading monotonic-1.6-py2.py3-none-any.whl (8.2 kB)\r\n",
      "Requirement already satisfied: python-dateutil>2.1 in /usr/local/lib/python3.10/dist-packages (from posthog>=2.4.0->chromadb) (2.8.2)\r\n",
      "Requirement already satisfied: certifi in /usr/local/lib/python3.10/dist-packages (from pulsar-client>=3.1.0->chromadb) (2022.12.7)\r\n",
      "Requirement already satisfied: idna<4,>=2.5 in /usr/local/lib/python3.10/dist-packages (from requests>=2.28->chromadb) (3.4)\r\n",
      "Requirement already satisfied: charset-normalizer<4,>=2 in /usr/local/lib/python3.10/dist-packages (from requests>=2.28->chromadb) (3.0.1)\r\n",
      "Requirement already satisfied: urllib3<1.27,>=1.21.1 in /usr/local/lib/python3.10/dist-packages (from requests>=2.28->chromadb) (1.26.14)\r\n",
      "Requirement already satisfied: click>=7.0 in /usr/local/lib/python3.10/dist-packages (from uvicorn[standard]>=0.18.3->chromadb) (8.1.3)\r\n",
      "Collecting h11>=0.8\r\n",
      "  Downloading h11-0.14.0-py3-none-any.whl (58 kB)\r\n",
      "\u001B[2K     \u001B[90m━━━━━━━━━━━━━━━━━━━━━━━━━━━━━━━━━━━━━━━━\u001B[0m \u001B[32m58.3/58.3 kB\u001B[0m \u001B[31m15.4 MB/s\u001B[0m eta \u001B[36m0:00:00\u001B[0m\r\n",
      "\u001B[?25hCollecting uvloop!=0.15.0,!=0.15.1,>=0.14.0\r\n",
      "  Downloading uvloop-0.17.0-cp310-cp310-manylinux_2_17_x86_64.manylinux2014_x86_64.whl (4.1 MB)\r\n",
      "\u001B[2K     \u001B[90m━━━━━━━━━━━━━━━━━━━━━━━━━━━━━━━━━━━━━━━━\u001B[0m \u001B[32m4.1/4.1 MB\u001B[0m \u001B[31m72.8 MB/s\u001B[0m eta \u001B[36m0:00:00\u001B[0mta \u001B[36m0:00:01\u001B[0m\r\n",
      "\u001B[?25hCollecting watchfiles>=0.13\r\n",
      "  Downloading watchfiles-0.19.0-cp37-abi3-manylinux_2_17_x86_64.manylinux2014_x86_64.whl (1.3 MB)\r\n",
      "\u001B[2K     \u001B[90m━━━━━━━━━━━━━━━━━━━━━━━━━━━━━━━━━━━━━━━━\u001B[0m \u001B[32m1.3/1.3 MB\u001B[0m \u001B[31m80.7 MB/s\u001B[0m eta \u001B[36m0:00:00\u001B[0m\r\n",
      "\u001B[?25hCollecting python-dotenv>=0.13\r\n",
      "  Downloading python_dotenv-1.0.0-py3-none-any.whl (19 kB)\r\n",
      "Requirement already satisfied: pyyaml>=5.1 in /usr/local/lib/python3.10/dist-packages (from uvicorn[standard]>=0.18.3->chromadb) (6.0)\r\n",
      "Collecting httptools>=0.5.0\r\n",
      "  Downloading httptools-0.6.0-cp310-cp310-manylinux_2_5_x86_64.manylinux1_x86_64.manylinux_2_17_x86_64.manylinux2014_x86_64.whl (428 kB)\r\n",
      "\u001B[2K     \u001B[90m━━━━━━━━━━━━━━━━━━━━━━━━━━━━━━━━━━━━━━\u001B[0m \u001B[32m428.8/428.8 kB\u001B[0m \u001B[31m69.2 MB/s\u001B[0m eta \u001B[36m0:00:00\u001B[0m\r\n",
      "\u001B[?25hCollecting websockets>=10.4\r\n",
      "  Downloading websockets-11.0.3-cp310-cp310-manylinux_2_5_x86_64.manylinux1_x86_64.manylinux_2_17_x86_64.manylinux2014_x86_64.whl (129 kB)\r\n",
      "\u001B[2K     \u001B[90m━━━━━━━━━━━━━━━━━━━━━━━━━━━━━━━━━━━━━━\u001B[0m \u001B[32m129.9/129.9 kB\u001B[0m \u001B[31m34.1 MB/s\u001B[0m eta \u001B[36m0:00:00\u001B[0m\r\n",
      "\u001B[?25hRequirement already satisfied: anyio<5,>=3.4.0 in /usr/local/lib/python3.10/dist-packages (from starlette<0.28.0,>=0.27.0->fastapi<0.100.0,>=0.95.2->chromadb) (3.6.2)\r\n",
      "Collecting humanfriendly>=9.1\r\n",
      "  Downloading humanfriendly-10.0-py2.py3-none-any.whl (86 kB)\r\n",
      "\u001B[2K     \u001B[90m━━━━━━━━━━━━━━━━━━━━━━━━━━━━━━━━━━━━━━━━\u001B[0m \u001B[32m86.8/86.8 kB\u001B[0m \u001B[31m23.9 MB/s\u001B[0m eta \u001B[36m0:00:00\u001B[0m\r\n",
      "\u001B[?25hCollecting mpmath>=0.19\r\n",
      "  Downloading mpmath-1.3.0-py3-none-any.whl (536 kB)\r\n",
      "\u001B[2K     \u001B[90m━━━━━━━━━━━━━━━━━━━━━━━━━━━━━━━━━━━━━━\u001B[0m \u001B[32m536.2/536.2 kB\u001B[0m \u001B[31m64.8 MB/s\u001B[0m eta \u001B[36m0:00:00\u001B[0m\r\n",
      "\u001B[?25hRequirement already satisfied: sniffio>=1.1 in /usr/local/lib/python3.10/dist-packages (from anyio<5,>=3.4.0->starlette<0.28.0,>=0.27.0->fastapi<0.100.0,>=0.95.2->chromadb) (1.3.0)\r\n",
      "Building wheels for collected packages: chroma-hnswlib, pypika\r\n",
      "  Building wheel for chroma-hnswlib (pyproject.toml) ... \u001B[?25ldone\r\n",
      "\u001B[?25h  Created wheel for chroma-hnswlib: filename=chroma_hnswlib-0.7.2-cp310-cp310-linux_x86_64.whl size=2277725 sha256=2bcb87c4b6814ddd106c9e2b3563642d0f9e7dd00dc3fe724f1fa0f785ffc67d\r\n",
      "  Stored in directory: /root/.cache/pip/wheels/11/2b/0d/ee457f6782f75315bb5828d5c2dc5639d471afbd44a830b9dc\r\n",
      "  Building wheel for pypika (pyproject.toml) ... \u001B[?25ldone\r\n",
      "\u001B[?25h  Created wheel for pypika: filename=PyPika-0.48.9-py2.py3-none-any.whl size=53723 sha256=27f005abf0d66267f37437c76ea7f936c9f3cd14bdcffdd97b2a788f52b4faaa\r\n",
      "  Stored in directory: /root/.cache/pip/wheels/e1/26/51/d0bffb3d2fd82256676d7ad3003faea3bd6dddc9577af665f4\r\n",
      "Successfully built chroma-hnswlib pypika\r\n",
      "Installing collected packages: pypika, mpmath, monotonic, websockets, uvloop, tqdm, sympy, python-dotenv, pulsar-client, overrides, humanfriendly, httptools, h11, chroma-hnswlib, backoff, watchfiles, uvicorn, starlette, posthog, coloredlogs, onnxruntime, fastapi, chromadb\r\n",
      "  Attempting uninstall: tqdm\r\n",
      "    Found existing installation: tqdm 4.64.1\r\n",
      "    Uninstalling tqdm-4.64.1:\r\n",
      "      Successfully uninstalled tqdm-4.64.1\r\n",
      "Successfully installed backoff-2.2.1 chroma-hnswlib-0.7.2 chromadb-0.4.5 coloredlogs-15.0.1 fastapi-0.99.1 h11-0.14.0 httptools-0.6.0 humanfriendly-10.0 monotonic-1.6 mpmath-1.3.0 onnxruntime-1.15.1 overrides-7.4.0 posthog-3.0.1 pulsar-client-3.2.0 pypika-0.48.9 python-dotenv-1.0.0 starlette-0.27.0 sympy-1.12 tqdm-4.65.1 uvicorn-0.23.2 uvloop-0.17.0 watchfiles-0.19.0 websockets-11.0.3\r\n",
      "\u001B[33mWARNING: Running pip as the 'root' user can result in broken permissions and conflicting behaviour with the system package manager. It is recommended to use a virtual environment instead: https://pip.pypa.io/warnings/venv\u001B[0m\u001B[33m\r\n",
      "\u001B[0m\r\n",
      "\u001B[1m[\u001B[0m\u001B[34;49mnotice\u001B[0m\u001B[1;39;49m]\u001B[0m\u001B[39;49m A new release of pip is available: \u001B[0m\u001B[31;49m23.0.1\u001B[0m\u001B[39;49m -> \u001B[0m\u001B[32;49m23.2.1\u001B[0m\r\n",
      "\u001B[1m[\u001B[0m\u001B[34;49mnotice\u001B[0m\u001B[1;39;49m]\u001B[0m\u001B[39;49m To update, run: \u001B[0m\u001B[32;49mpython3 -m pip install --upgrade pip\u001B[0m\r\n"
     ]
    }
   ],
   "source": [
    "# ! pip install python-dotenv\n",
    "! pip install langchain\n",
    "! pip install langchain[docarray]\n",
    "! pip install tiktoken\n",
    "! pip install pinecone-client\n",
    "! pip install jq\n",
    "! pip install chromadb\n",
    "! pip install openai[embeddings]"
   ],
   "metadata": {
    "collapsed": false,
    "ExecuteTime": {
     "end_time": "2023-08-08T18:05:49.076506Z",
     "start_time": "2023-08-08T18:04:45.677232Z"
    }
   }
  },
  {
   "cell_type": "code",
   "execution_count": 3,
   "outputs": [],
   "source": [
    "import os"
   ],
   "metadata": {
    "collapsed": false,
    "ExecuteTime": {
     "end_time": "2023-08-08T18:05:49.087177Z",
     "start_time": "2023-08-08T18:05:49.081549Z"
    }
   }
  },
  {
   "cell_type": "code",
   "execution_count": 3,
   "outputs": [],
   "source": [
    "# Import prompt and define PromptTemplate\n",
    "\n",
    "from langchain.prompts import ChatPromptTemplate\n",
    "from langchain.chat_models import ChatOpenAI\n",
    "\n",
    "llm = ChatOpenAI( model_name=\"gpt-4-0613\", temperature=0.0 )\n"
   ],
   "metadata": {
    "collapsed": false,
    "ExecuteTime": {
     "end_time": "2023-08-10T17:58:38.273384Z",
     "start_time": "2023-08-10T17:58:38.057594Z"
    }
   }
  },
  {
   "cell_type": "code",
   "execution_count": 4,
   "outputs": [
    {
     "name": "stdout",
     "output_type": "stream",
     "text": [
      "Path [/var/genie-in-the-box/src/lib] already in sys.path\n"
     ]
    }
   ],
   "source": [
    "path = \"/var/genie-in-the-box/src/lib\"\n",
    "sys.path.append( path )\n",
    "import util as du\n",
    "du.add_to_path( path )\n",
    "# sys.path"
   ],
   "metadata": {
    "collapsed": false,
    "ExecuteTime": {
     "end_time": "2023-08-10T17:58:44.053477Z",
     "start_time": "2023-08-10T17:58:44.033798Z"
    }
   }
  },
  {
   "cell_type": "code",
   "execution_count": 5,
   "outputs": [
    {
     "name": "stdout",
     "output_type": "stream",
     "text": [
      "------------------------------------------------------------------------------------------------------------------------\n",
      "- foo?\n",
      "------------------------------------------------------------------------------------------------------------------------\n",
      "\n"
     ]
    }
   ],
   "source": [
    "# import util as du\n",
    "du.print_banner( \"foo?\" )"
   ],
   "metadata": {
    "collapsed": false,
    "ExecuteTime": {
     "end_time": "2023-08-10T17:58:49.543737Z",
     "start_time": "2023-08-10T17:58:49.535753Z"
    }
   }
  },
  {
   "cell_type": "code",
   "execution_count": 56,
   "outputs": [],
   "source": [
    "from langchain.memory import ConversationBufferMemory\n",
    "from langchain.chains import ConversationalRetrievalChain\n",
    "\n",
    "memory = ConversationBufferMemory( memory_key=\"chat_history\", return_messages=True )"
   ],
   "metadata": {
    "collapsed": false,
    "ExecuteTime": {
     "end_time": "2023-08-09T16:23:07.164847Z",
     "start_time": "2023-08-09T16:23:07.157811Z"
    }
   }
  },
  {
   "cell_type": "code",
   "execution_count": 57,
   "outputs": [],
   "source": [
    "qa = ConversationalRetrievalChain.from_llm(\n",
    "    llm,\n",
    "    in_memory_jsonl_index.vectorstore.as_retriever(),\n",
    "    memory=memory\n",
    ")"
   ],
   "metadata": {
    "collapsed": false,
    "ExecuteTime": {
     "end_time": "2023-08-09T16:23:09.367552Z",
     "start_time": "2023-08-09T16:23:09.366016Z"
    }
   }
  },
  {
   "cell_type": "code",
   "execution_count": 6,
   "outputs": [],
   "source": [
    "import pandas as pd"
   ],
   "metadata": {
    "collapsed": false,
    "ExecuteTime": {
     "end_time": "2023-08-10T18:01:44.885900Z",
     "start_time": "2023-08-10T18:01:44.870005Z"
    }
   }
  },
  {
   "cell_type": "code",
   "execution_count": 7,
   "outputs": [
    {
     "name": "stdout",
     "output_type": "stream",
     "text": [
      "<class 'pandas.core.frame.DataFrame'>\n",
      "RangeIndex: 200 entries, 0 to 199\n",
      "Data columns (total 10 columns):\n",
      " #   Column               Non-Null Count  Dtype \n",
      "---  ------               --------------  ----- \n",
      " 0   start_date           200 non-null    object\n",
      " 1   end_date             200 non-null    object\n",
      " 2   duration             200 non-null    int64 \n",
      " 3   start_time           200 non-null    object\n",
      " 4   end_time             200 non-null    object\n",
      " 5   event                200 non-null    object\n",
      " 6   recurrent            200 non-null    bool  \n",
      " 7   recurrence_interval  50 non-null     object\n",
      " 8   description          200 non-null    object\n",
      " 9   priority_level       200 non-null    object\n",
      "dtypes: bool(1), int64(1), object(8)\n",
      "memory usage: 14.4+ KB\n"
     ]
    }
   ],
   "source": [
    "# Load CSV data From file into the Pandas DataFrame.\n",
    "df = pd.read_csv( du.get_project_root() + \"/src/conf/long-term-memory/events.csv\" )\n",
    "df.info()"
   ],
   "metadata": {
    "collapsed": false,
    "ExecuteTime": {
     "end_time": "2023-08-10T18:01:45.027019Z",
     "start_time": "2023-08-10T18:01:44.969945Z"
    }
   }
  },
  {
   "cell_type": "markdown",
   "source": [
    "### Count events by type, manually. Brute force!"
   ],
   "metadata": {
    "collapsed": false
   }
  },
  {
   "cell_type": "code",
   "execution_count": 9,
   "outputs": [
    {
     "name": "stdout",
     "output_type": "stream",
     "text": [
      "Counting [Birthday] events...\n",
      "\n",
      "\n",
      "Done! Total 17 Birthday events\n"
     ]
    }
   ],
   "source": [
    "def get_event_count( df, event ):\n",
    "\n",
    "    print( \"Counting [{}] events...\".format( event ), end=\"\\n\\n\" )\n",
    "\n",
    "    count = df[ df.event == event ].shape[ 0 ]\n",
    "\n",
    "    print()\n",
    "    print( \"Done! Total {} {} events\".format( count, event ) )\n",
    "\n",
    "get_event_count( df, \"Birthday\" )"
   ],
   "metadata": {
    "collapsed": false,
    "ExecuteTime": {
     "end_time": "2023-08-10T18:02:56.086909Z",
     "start_time": "2023-08-10T18:02:56.081553Z"
    }
   }
  },
  {
   "cell_type": "code",
   "execution_count": 10,
   "outputs": [],
   "source": [
    "from langchain.agents.agent_toolkits.pandas.base import create_pandas_dataframe_agent\n",
    "\n",
    "llm = ChatOpenAI( model_name=\"gpt-4-0613\", temperature=0.0 )\n",
    "\n",
    "raw_df = pd.read_csv( du.get_project_root() + \"/src/conf/long-term-memory/events.csv\" )\n"
   ],
   "metadata": {
    "collapsed": false,
    "ExecuteTime": {
     "end_time": "2023-08-10T18:03:30.145097Z",
     "start_time": "2023-08-10T18:03:30.132886Z"
    }
   }
  },
  {
   "cell_type": "code",
   "execution_count": 30,
   "outputs": [
    {
     "name": "stdout",
     "output_type": "stream",
     "text": [
      "[HumanMessage(content=\"\\nYou are an event planner with proven capacity for querying pandas dataframes.\\nI expect you to query the dataframe provided and answer in plain English unless specifically requested to do otherwise.\\nNEVER display raw dataframe content, unless specifically requested to do otherwise.\\nAll dates and temporal references like 'today', 'yesterday', 'next week' should all be calculated by using Python's datetime library.\\nWhen I ask you about events contained in this dataframe, you will always sort the events in ascending order, 1 per line, unless specifically requested to do otherwise.\\nIf the question, delimited by three hash symbols ###, is vague or difficult to answer, please ask for clarification.\\nGiven that, answer the following question: ###How many records are in this dataset?###\\n\", additional_kwargs={}, example=False)]\n",
      "\n"
     ]
    }
   ],
   "source": [
    "template_string = \"\"\"\n",
    "You are an event planner with proven capacity for querying pandas dataframes.\n",
    "I expect you to query the dataframe provided and answer in plain English unless specifically requested to do otherwise.\n",
    "NEVER display raw dataframe content, unless specifically requested to do otherwise.\n",
    "All dates and temporal references like 'today', 'yesterday', 'next week' should all be calculated by using Python's datetime library.\n",
    "When I ask you about events contained in this dataframe, you will always sort the events in ascending order, 1 per line, unless specifically requested to do otherwise.\n",
    "If the question, delimited by three hash symbols ###, is vague or difficult to answer, please ask for clarification.\n",
    "Given that, answer the following question: ###{question}###\n",
    "\"\"\"\n",
    "\n",
    "event_prompt_template = ChatPromptTemplate.from_template( template_string )\n",
    "# print( prompt_template, end=\"\\n\\n\" )\n",
    "\n",
    "event_prompt = event_prompt_template.format_messages( question=\"How many records are in this dataset?\" )\n",
    "print( event_prompt, end=\"\\n\\n\" )\n",
    "\n",
    "# response_autoencoder = llm( prompt_autoencoder )\n",
    "# print( response_autoencoder.content, end=\"\\n\\n\" )"
   ],
   "metadata": {
    "collapsed": false,
    "ExecuteTime": {
     "end_time": "2023-08-10T18:42:48.483196Z",
     "start_time": "2023-08-10T18:42:48.478024Z"
    }
   }
  },
  {
   "cell_type": "code",
   "execution_count": 31,
   "outputs": [],
   "source": [
    "df_agent = create_pandas_dataframe_agent( llm, raw_df, verbose=True )"
   ],
   "metadata": {
    "collapsed": false,
    "ExecuteTime": {
     "end_time": "2023-08-10T18:42:51.293476Z",
     "start_time": "2023-08-10T18:42:51.290561Z"
    }
   }
  },
  {
   "cell_type": "code",
   "execution_count": 14,
   "outputs": [
    {
     "name": "stdout",
     "output_type": "stream",
     "text": [
      "\n",
      "\n",
      "\u001B[1m> Entering new AgentExecutor chain...\u001B[0m\n",
      "\u001B[32;1m\u001B[1;3mThought: To find out how many records are in the dataset, I can use the `shape` attribute of the dataframe. The `shape` attribute returns a tuple representing the dimensionality of the DataFrame. The first element of the tuple will give us the number of rows, which is the number of records in the dataset.\n",
      "Action: python_repl_ast\n",
      "Action Input: df.shape[0]\u001B[0m\n",
      "Observation: \u001B[36;1m\u001B[1;3m200\u001B[0m\n",
      "Thought:\u001B[32;1m\u001B[1;3mI now know the final answer\n",
      "Final Answer: There are 200 records in this dataset.\u001B[0m\n",
      "\n",
      "\u001B[1m> Finished chain.\u001B[0m\n"
     ]
    },
    {
     "data": {
      "text/plain": "'There are 200 records in this dataset.'"
     },
     "execution_count": 14,
     "metadata": {},
     "output_type": "execute_result"
    }
   ],
   "source": [
    "event_prompt = event_prompt_template.format_messages( question=\"How many records are in this dataset?\" )\n",
    "df_agent.run( event_prompt )"
   ],
   "metadata": {
    "collapsed": false,
    "ExecuteTime": {
     "end_time": "2023-08-10T18:06:27.259421Z",
     "start_time": "2023-08-10T18:06:09.592487Z"
    }
   }
  },
  {
   "cell_type": "code",
   "execution_count": 32,
   "outputs": [
    {
     "name": "stdout",
     "output_type": "stream",
     "text": [
      "\n",
      "\n",
      "\u001B[1m> Entering new AgentExecutor chain...\u001B[0m\n",
      "\u001B[32;1m\u001B[1;3mThought: The question is asking for today's date, yesterday's date, and tomorrow's date. I can use Python's datetime library to get these dates.\n",
      "Action: python_repl_ast\n",
      "Action Input: \n",
      "```python\n",
      "from datetime import datetime, timedelta\n",
      "\n",
      "# Get today's date\n",
      "today = datetime.now()\n",
      "\n",
      "# Get yesterday's date\n",
      "yesterday = today - timedelta(days=1)\n",
      "\n",
      "# Get tomorrow's date\n",
      "tomorrow = today + timedelta(days=1)\n",
      "\n",
      "today, yesterday, tomorrow\n",
      "```\u001B[0m\n",
      "Observation: \u001B[36;1m\u001B[1;3m(datetime.datetime(2023, 8, 10, 18, 43, 8, 736252), datetime.datetime(2023, 8, 9, 18, 43, 8, 736252), datetime.datetime(2023, 8, 11, 18, 43, 8, 736252))\u001B[0m\n",
      "Thought:\u001B[32;1m\u001B[1;3mI now know the dates for today, yesterday, and tomorrow.\n",
      "Final Answer: Today is August 10, 2023. Yesterday was August 9, 2023. Tomorrow will be August 11, 2023.\u001B[0m\n",
      "\n",
      "\u001B[1m> Finished chain.\u001B[0m\n"
     ]
    },
    {
     "data": {
      "text/plain": "'Today is August 10, 2023. Yesterday was August 9, 2023. Tomorrow will be August 11, 2023.'"
     },
     "execution_count": 32,
     "metadata": {},
     "output_type": "execute_result"
    }
   ],
   "source": [
    "# Create function to take a question and call the data frame agent.\n",
    "def query_dataframe( question ):\n",
    "\n",
    "    event_prompt = event_prompt_template.format_messages( question=question )\n",
    "    response = df_agent.run( event_prompt )\n",
    "\n",
    "    return response\n",
    "\n",
    "response = query_dataframe( \"What day is today? What day was yesterday? What day is tomorrow?\" )\n",
    "response"
   ],
   "metadata": {
    "collapsed": false,
    "ExecuteTime": {
     "end_time": "2023-08-10T18:43:12.295149Z",
     "start_time": "2023-08-10T18:42:57.636377Z"
    }
   }
  },
  {
   "cell_type": "code",
   "execution_count": 16,
   "outputs": [
    {
     "name": "stdout",
     "output_type": "stream",
     "text": [
      "\n",
      "\n",
      "\u001B[1m> Entering new AgentExecutor chain...\u001B[0m\n",
      "\u001B[32;1m\u001B[1;3mThought: To find out how many different types of events there are, I need to find the unique values in the 'event' column of the dataframe.\n",
      "Action: python_repl_ast\n",
      "Action Input: df['event'].nunique()\u001B[0m\n",
      "Observation: \u001B[36;1m\u001B[1;3m13\u001B[0m\n",
      "Thought:\u001B[32;1m\u001B[1;3mI now know the final answer\n",
      "Final Answer: There are 13 different types of events.\u001B[0m\n",
      "\n",
      "\u001B[1m> Finished chain.\u001B[0m\n"
     ]
    },
    {
     "data": {
      "text/plain": "'There are 13 different types of events.'"
     },
     "execution_count": 16,
     "metadata": {},
     "output_type": "execute_result"
    }
   ],
   "source": [
    "response = query_dataframe( \"How many different types of events do I have?\" )\n",
    "response"
   ],
   "metadata": {
    "collapsed": false,
    "ExecuteTime": {
     "end_time": "2023-08-10T18:08:51.216094Z",
     "start_time": "2023-08-10T18:08:42.424191Z"
    }
   }
  },
  {
   "cell_type": "code",
   "execution_count": 17,
   "outputs": [
    {
     "name": "stdout",
     "output_type": "stream",
     "text": [
      "\n",
      "\n",
      "\u001B[1m> Entering new AgentExecutor chain...\u001B[0m\n",
      "\u001B[32;1m\u001B[1;3mThought: To find out how many TODO events there are, I need to filter the dataframe where the 'event' column is equal to 'TODO' and then count the number of rows.\n",
      "Action: python_repl_ast\n",
      "Action Input: df[df['event'] == 'TODO'].shape[0]\u001B[0m\n",
      "Observation: \u001B[36;1m\u001B[1;3m21\u001B[0m\n",
      "Thought:\u001B[32;1m\u001B[1;3mI now know the final answer\n",
      "Final Answer: You have 21 TODO events.\u001B[0m\n",
      "\n",
      "\u001B[1m> Finished chain.\u001B[0m\n"
     ]
    },
    {
     "data": {
      "text/plain": "'You have 21 TODO events.'"
     },
     "execution_count": 17,
     "metadata": {},
     "output_type": "execute_result"
    }
   ],
   "source": [
    "response = query_dataframe( \"How many TODO events do I have?\" )\n",
    "response"
   ],
   "metadata": {
    "collapsed": false,
    "ExecuteTime": {
     "end_time": "2023-08-10T18:09:59.489410Z",
     "start_time": "2023-08-10T18:09:50.050562Z"
    }
   }
  },
  {
   "cell_type": "code",
   "execution_count": 18,
   "outputs": [
    {
     "name": "stdout",
     "output_type": "stream",
     "text": [
      "Counting [TODO] events...\n",
      "\n",
      "\n",
      "Done! Total 21 TODO events\n"
     ]
    }
   ],
   "source": [
    "get_event_count( df, \"TODO\" )"
   ],
   "metadata": {
    "collapsed": false,
    "ExecuteTime": {
     "end_time": "2023-08-10T18:10:42.469827Z",
     "start_time": "2023-08-10T18:10:42.463759Z"
    }
   }
  },
  {
   "cell_type": "code",
   "execution_count": 20,
   "outputs": [
    {
     "name": "stdout",
     "output_type": "stream",
     "text": [
      "\n",
      "\n",
      "\u001B[1m> Entering new AgentExecutor chain...\u001B[0m\n",
      "\u001B[32;1m\u001B[1;3mThought: To answer this question, I need to filter the dataframe to only include events that occur in August and have 'birthday' in their description. Then, I can count the number of these events.\n",
      "Action: python_repl_ast\n",
      "Action Input: df[(df['start_date'].str.contains('-08-')) & (df['description'].str.contains('birthday'))].shape[0]\u001B[0m\n",
      "Observation: \u001B[36;1m\u001B[1;3mAttributeError: Can only use .str accessor with string values!\u001B[0m\n",
      "Thought:\u001B[32;1m\u001B[1;3mThe error suggests that the 'start_date' column is not of string type. I need to convert it to string before applying the str.contains() function.\n",
      "Action: python_repl_ast\n",
      "Action Input: df['start_date'] = df['start_date'].astype(str)\n",
      "df[(df['start_date'].str.contains('-08-')) & (df['description'].str.contains('birthday'))].shape[0]\u001B[0m\n",
      "Observation: \u001B[36;1m\u001B[1;3m11\u001B[0m\n",
      "Thought:\u001B[32;1m\u001B[1;3mI now know the final answer\n",
      "Final Answer: There are 11 birthday events in August.\u001B[0m\n",
      "\n",
      "\u001B[1m> Finished chain.\u001B[0m\n"
     ]
    },
    {
     "data": {
      "text/plain": "'There are 11 birthday events in August.'"
     },
     "execution_count": 20,
     "metadata": {},
     "output_type": "execute_result"
    }
   ],
   "source": [
    "response = query_dataframe( \"Count and display my birthday events in August\" )\n",
    "response"
   ],
   "metadata": {
    "collapsed": false,
    "ExecuteTime": {
     "end_time": "2023-08-10T18:13:03.772385Z",
     "start_time": "2023-08-10T18:12:36.354023Z"
    }
   }
  },
  {
   "cell_type": "code",
   "execution_count": 35,
   "outputs": [
    {
     "name": "stdout",
     "output_type": "stream",
     "text": [
      "\n",
      "\n",
      "\u001B[1m> Entering new AgentExecutor chain...\u001B[0m\n",
      "\u001B[32;1m\u001B[1;3mThought: To answer this question, I need to filter the dataframe to only include rows where the 'event' column is 'Birthday' and the 'start_date' is in August. I can use the pandas `str.contains` method to filter for 'Birthday' events and the `dt.month` attribute to filter for August dates.\n",
      "Action: python_repl_ast\n",
      "Action Input: df[(df['event'].str.contains('Birthday')) & (pd.to_datetime(df['start_date']).dt.month == 8)].sort_values('start_date')\u001B[0m\n",
      "Observation: \u001B[36;1m\u001B[1;3mNameError: name 'pd' is not defined\u001B[0m\n",
      "Thought:\u001B[32;1m\u001B[1;3mI forgot to import the pandas library. I need to import it before I can use it.\n",
      "Action: python_repl_ast\n",
      "Action Input: import pandas as pd\u001B[0m\n",
      "Observation: \u001B[36;1m\u001B[1;3m\u001B[0m\n",
      "Thought:\u001B[32;1m\u001B[1;3mNow that I have imported the pandas library, I can try to filter the dataframe again.\n",
      "Action: python_repl_ast\n",
      "Action Input: df[(df['event'].str.contains('Birthday')) & (pd.to_datetime(df['start_date']).dt.month == 8)].sort_values('start_date')\u001B[0m\n",
      "Observation: \u001B[36;1m\u001B[1;3m     start_date    end_date  duration start_time end_time     event  \\\n",
      "89   2023-08-02  2023-08-02         0      00:00    23:59  Birthday   \n",
      "92   2023-08-02  2023-08-02         0      00:00    23:59  Birthday   \n",
      "110  2023-08-07  2023-08-07         0      00:00    23:59  Birthday   \n",
      "119  2023-08-10  2023-08-11         1      00:00    23:59  Birthday   \n",
      "132  2023-08-12  2023-08-12         0      00:00    23:59  Birthday   \n",
      "135  2023-08-13  2023-08-13         0      00:00    23:59  Birthday   \n",
      "143  2023-08-14  2023-08-21         7      00:00    23:59  Birthday   \n",
      "153  2023-08-16  2023-08-16         0      00:00    23:59  Birthday   \n",
      "169  2023-08-22  2023-08-29         7      00:00    23:59  Birthday   \n",
      "175  2023-08-24  2023-08-24         0      00:00    23:59  Birthday   \n",
      "186  2023-08-27  2023-08-30         3      00:00    23:59  Birthday   \n",
      "\n",
      "     recurrent recurrence_interval                            description  \\\n",
      "89        True             5 month           Gregorio (friend)'s birthday   \n",
      "92        True              5 week              Sally (sister)'s birthday   \n",
      "110       True             4 month             John (coworker)'s birthday   \n",
      "119       True               3 day              Pablo (friend)'s birthday   \n",
      "132       True               3 day            Jenny (coworker)'s birthday   \n",
      "135       True              4 year           Gregorio (friend)'s birthday   \n",
      "143       True              3 year               Bob (brother)'s birthday   \n",
      "153       True              3 year              Pablo (friend)'s birthday   \n",
      "169       True               3 day               Bob (brother)'s birthday   \n",
      "175       True             3 month  Barbara Jane Ruiz (mother)'s birthday   \n",
      "186       True             1 month          Inash (girlfriend)'s birthday   \n",
      "\n",
      "    priority_level  \n",
      "89            none  \n",
      "92          medium  \n",
      "110            low  \n",
      "119            low  \n",
      "132         medium  \n",
      "135         medium  \n",
      "143            low  \n",
      "153           none  \n",
      "169           high  \n",
      "175        highest  \n",
      "186        highest  \u001B[0m\n",
      "Thought:\u001B[32;1m\u001B[1;3mI now have a list of birthday events in August. I will format this information in a readable way to provide the final answer.\n",
      "Final Answer: Here are the birthday events in August:\n",
      "\n",
      "1. Gregorio (friend)'s birthday on 2023-08-02\n",
      "2. Sally (sister)'s birthday on 2023-08-02\n",
      "3. John (coworker)'s birthday on 2023-08-07\n",
      "4. Pablo (friend)'s birthday from 2023-08-10 to 2023-08-11\n",
      "5. Jenny (coworker)'s birthday on 2023-08-12\n",
      "6. Gregorio (friend)'s birthday on 2023-08-13\n",
      "7. Bob (brother)'s birthday from 2023-08-14 to 2023-08-21\n",
      "8. Pablo (friend)'s birthday on 2023-08-16\n",
      "9. Bob (brother)'s birthday from 2023-08-22 to 2023-08-29\n",
      "10. Barbara Jane Ruiz (mother)'s birthday on 2023-08-24\n",
      "11. Inash (girlfriend)'s birthday from 2023-08-27 to 2023-08-30\u001B[0m\n",
      "\n",
      "\u001B[1m> Finished chain.\u001B[0m\n"
     ]
    },
    {
     "data": {
      "text/plain": "\"Here are the birthday events in August:\\n\\n1. Gregorio (friend)'s birthday on 2023-08-02\\n2. Sally (sister)'s birthday on 2023-08-02\\n3. John (coworker)'s birthday on 2023-08-07\\n4. Pablo (friend)'s birthday from 2023-08-10 to 2023-08-11\\n5. Jenny (coworker)'s birthday on 2023-08-12\\n6. Gregorio (friend)'s birthday on 2023-08-13\\n7. Bob (brother)'s birthday from 2023-08-14 to 2023-08-21\\n8. Pablo (friend)'s birthday on 2023-08-16\\n9. Bob (brother)'s birthday from 2023-08-22 to 2023-08-29\\n10. Barbara Jane Ruiz (mother)'s birthday on 2023-08-24\\n11. Inash (girlfriend)'s birthday from 2023-08-27 to 2023-08-30\""
     },
     "execution_count": 35,
     "metadata": {},
     "output_type": "execute_result"
    }
   ],
   "source": [
    "response = query_dataframe( \"Show me birthday events in August\" )\n",
    "response"
   ],
   "metadata": {
    "collapsed": false,
    "ExecuteTime": {
     "end_time": "2023-08-10T18:45:24.983535Z",
     "start_time": "2023-08-10T18:44:24.242926Z"
    }
   }
  },
  {
   "cell_type": "code",
   "execution_count": 43,
   "outputs": [
    {
     "name": "stdout",
     "output_type": "stream",
     "text": [
      "1. Gregorio (friend)'s birthday on 2023-08-02\n",
      "2. Sally (sister)'s birthday on 2023-08-02\n",
      "3. John (coworker)'s birthday on 2023-08-07\n",
      "4. Pablo (friend)'s birthday from 2023-08-10 to 2023-08-11\n",
      "5. Jenny (coworker)'s birthday on 2023-08-12\n",
      "6. Gregorio (friend)'s birthday on 2023-08-13\n",
      "7. Bob (brother)'s birthday from 2023-08-14 to 2023-08-21\n",
      "8. Pablo (friend)'s birthday on 2023-08-16\n",
      "9. Bob (brother)'s birthday from 2023-08-22 to 2023-08-29\n",
      "10. Barbara Jane Ruiz (mother)'s birthday on 2023-08-24\n",
      "11. Inash (girlfriend)'s birthday from 2023-08-27 to 2023-08-30\n"
     ]
    }
   ],
   "source": [
    "events = response.split( \"\\n\\n\" )[ 1: ]\n",
    "for event in events: print( event )"
   ],
   "metadata": {
    "collapsed": false,
    "ExecuteTime": {
     "end_time": "2023-08-10T18:49:05.926953Z",
     "start_time": "2023-08-10T18:49:05.917910Z"
    }
   }
  },
  {
   "cell_type": "code",
   "execution_count": 34,
   "outputs": [
    {
     "name": "stdout",
     "output_type": "stream",
     "text": [
      "\n",
      "\n",
      "\u001B[1m> Entering new AgentExecutor chain...\u001B[0m\n",
      "\u001B[32;1m\u001B[1;3mThought: The question is asking for a summary of what has been asked so far. Since this is the first question, nothing has been asked about the dataframe yet.\n",
      "Final Answer: You haven't asked anything about the dataframe yet.\u001B[0m\n",
      "\n",
      "\u001B[1m> Finished chain.\u001B[0m\n"
     ]
    },
    {
     "data": {
      "text/plain": "\"You haven't asked anything about the dataframe yet.\""
     },
     "execution_count": 34,
     "metadata": {},
     "output_type": "execute_result"
    }
   ],
   "source": [
    "\n",
    "response = query_dataframe( \"What have I asked you about thus far?\" )\n",
    "response"
   ],
   "metadata": {
    "collapsed": false,
    "ExecuteTime": {
     "end_time": "2023-08-10T18:43:40.500311Z",
     "start_time": "2023-08-10T18:43:34.416379Z"
    }
   }
  },
  {
   "cell_type": "code",
   "execution_count": 111,
   "outputs": [
    {
     "name": "stdout",
     "output_type": "stream",
     "text": [
      "\n",
      "\n",
      "\u001B[1m> Entering new AgentExecutor chain...\u001B[0m\n",
      "\u001B[32;1m\u001B[1;3mThought: The question is asking for events that are birthdays in August. However, the dataframe does not have a column that directly indicates whether an event is a birthday or not. The closest thing we have is the 'description' column, which might contain the word 'birthday'. We also don't have any events in August in the provided data. However, assuming we have a larger dataset, we can filter the dataframe for events that contain the word 'birthday' in the 'description' column and occur in August. We can then print the 'description' and 'start_date' of these events in descending order. \n",
      "\n",
      "Action: python_repl_ast\n",
      "Action Input: df[df['description'].str.contains('birthday') & (df['start_date'].str.slice(5, 7) == '08')][['description', 'start_date']].sort_values('start_date', ascending=False)\u001B[0m\n",
      "Observation: \u001B[36;1m\u001B[1;3mAttributeError: Can only use .str accessor with string values!\u001B[0m\n",
      "Thought:\u001B[32;1m\u001B[1;3mThe error suggests that not all values in the 'description' column are strings. We need to convert this column to string type before we can use the .str accessor.\n",
      "\n",
      "Action: python_repl_ast\n",
      "Action Input: df['description'] = df['description'].astype(str)\u001B[0m\n",
      "Observation: \u001B[36;1m\u001B[1;3m\u001B[0m\n",
      "Thought:\u001B[32;1m\u001B[1;3mNow that the 'description' column is converted to string type, we can try filtering the dataframe again.\n",
      "\n",
      "Action: python_repl_ast\n",
      "Action Input: df[df['description'].str.contains('birthday') & (df['start_date'].str.slice(5, 7) == '08')][['description', 'start_date']].sort_values('start_date', ascending=False)\u001B[0m\n",
      "Observation: \u001B[36;1m\u001B[1;3mAttributeError: Can only use .str accessor with string values!\u001B[0m\n",
      "Thought:\u001B[32;1m\u001B[1;3mThe error suggests that not all values in the 'start_date' column are strings. We need to convert this column to string type before we can use the .str accessor.\n",
      "\n",
      "Action: python_repl_ast\n",
      "Action Input: df['start_date'] = df['start_date'].astype(str)\u001B[0m\n",
      "Observation: \u001B[36;1m\u001B[1;3m\u001B[0m\n",
      "Thought:\u001B[32;1m\u001B[1;3mNow that the 'start_date' column is converted to string type, we can try filtering the dataframe again.\n",
      "\n",
      "Action: python_repl_ast\n",
      "Action Input: df[df['description'].str.contains('birthday') & (df['start_date'].str.slice(5, 7) == '08')][['description', 'start_date']].sort_values('start_date', ascending=False)\u001B[0m\n",
      "Observation: \u001B[36;1m\u001B[1;3m                               description  start_date\n",
      "186          Inash (girlfriend)'s birthday  2023-08-27\n",
      "175  Barbara Jane Ruiz (mother)'s birthday  2023-08-24\n",
      "169               Bob (brother)'s birthday  2023-08-22\n",
      "153              Pablo (friend)'s birthday  2023-08-16\n",
      "143               Bob (brother)'s birthday  2023-08-14\n",
      "135           Gregorio (friend)'s birthday  2023-08-13\n",
      "132            Jenny (coworker)'s birthday  2023-08-12\n",
      "119              Pablo (friend)'s birthday  2023-08-10\n",
      "110             John (coworker)'s birthday  2023-08-07\n",
      "89            Gregorio (friend)'s birthday  2023-08-02\n",
      "92               Sally (sister)'s birthday  2023-08-02\u001B[0m\n",
      "Thought:\u001B[32;1m\u001B[1;3mI now know the final answer\n",
      "Final Answer: Here are the August birthday events in descending order:\n",
      "\n",
      "Inash (girlfriend)'s birthday on August 27, 2023\n",
      "Barbara Jane Ruiz (mother)'s birthday on August 24, 2023\n",
      "Bob (brother)'s birthday on August 22, 2023\n",
      "Pablo (friend)'s birthday on August 16, 2023\n",
      "Bob (brother)'s birthday on August 14, 2023\n",
      "Gregorio (friend)'s birthday on August 13, 2023\n",
      "Jenny (coworker)'s birthday on August 12, 2023\n",
      "Pablo (friend)'s birthday on August 10, 2023\n",
      "John (coworker)'s birthday on August 7, 2023\n",
      "Gregorio (friend)'s birthday on August 2, 2023\n",
      "Sally (sister)'s birthday on August 2, 2023\u001B[0m\n",
      "\n",
      "\u001B[1m> Finished chain.\u001B[0m\n"
     ]
    },
    {
     "data": {
      "text/plain": "\"Here are the August birthday events in descending order:\\n\\nInash (girlfriend)'s birthday on August 27, 2023\\nBarbara Jane Ruiz (mother)'s birthday on August 24, 2023\\nBob (brother)'s birthday on August 22, 2023\\nPablo (friend)'s birthday on August 16, 2023\\nBob (brother)'s birthday on August 14, 2023\\nGregorio (friend)'s birthday on August 13, 2023\\nJenny (coworker)'s birthday on August 12, 2023\\nPablo (friend)'s birthday on August 10, 2023\\nJohn (coworker)'s birthday on August 7, 2023\\nGregorio (friend)'s birthday on August 2, 2023\\nSally (sister)'s birthday on August 2, 2023\""
     },
     "execution_count": 111,
     "metadata": {},
     "output_type": "execute_result"
    }
   ],
   "source": [
    "df_agent.run( \"Do you remember the August birthday events you just showed me? If so, only print their name and their date in plain english, in descending order, one per line\" )"
   ],
   "metadata": {
    "collapsed": false,
    "ExecuteTime": {
     "end_time": "2023-08-09T18:54:59.277775Z",
     "start_time": "2023-08-09T18:53:44.549518Z"
    }
   }
  },
  {
   "cell_type": "code",
   "execution_count": 114,
   "outputs": [
    {
     "name": "stdout",
     "output_type": "stream",
     "text": [
      "Sally (sister)'s birthday on August 2, 2023\n",
      "Gregorio (friend)'s birthday on August 2, 2023\n",
      "John (coworker)'s birthday on August 7, 2023\n",
      "Pablo (friend)'s birthday on August 10, 2023\n",
      "Jenny (coworker)'s birthday on August 12, 2023\n",
      "Gregorio (friend)'s birthday on August 13, 2023\n",
      "Bob (brother)'s birthday on August 14, 2023\n",
      "Pablo (friend)'s birthday on August 16, 2023\n",
      "Bob (brother)'s birthday on August 22, 2023\n",
      "Barbara Jane Ruiz (mother)'s birthday on August 24, 2023\n",
      "Inash (girlfriend)'s birthday on August 27, 2023\n",
      "\n",
      "Here are the August birthday events in descending order:\n"
     ]
    }
   ],
   "source": [
    "foo = \"Here are the August birthday events in descending order:\\n\\nInash (girlfriend)'s birthday on August 27, 2023\\nBarbara Jane Ruiz (mother)'s birthday on August 24, 2023\\nBob (brother)'s birthday on August 22, 2023\\nPablo (friend)'s birthday on August 16, 2023\\nBob (brother)'s birthday on August 14, 2023\\nGregorio (friend)'s birthday on August 13, 2023\\nJenny (coworker)'s birthday on August 12, 2023\\nPablo (friend)'s birthday on August 10, 2023\\nJohn (coworker)'s birthday on August 7, 2023\\nGregorio (friend)'s birthday on August 2, 2023\\nSally (sister)'s birthday on August 2, 2023\"\n",
    "\n",
    "foo = foo.split( \"\\n\" )\n",
    "foo.reverse()\n",
    "\n",
    "for f in foo:\n",
    "    print( f )"
   ],
   "metadata": {
    "collapsed": false,
    "ExecuteTime": {
     "end_time": "2023-08-09T18:56:10.980948Z",
     "start_time": "2023-08-09T18:56:10.973070Z"
    }
   }
  },
  {
   "cell_type": "code",
   "execution_count": 104,
   "outputs": [],
   "source": [
    "from langchain.agents.agent_toolkits.csv.base import create_csv_agent\n",
    "\n",
    "csv_agent = create_csv_agent( llm=llm, path=du.get_project_root() + \"/src/conf/long-term-memory/events.csv\", verbose=True )"
   ],
   "metadata": {
    "collapsed": false,
    "ExecuteTime": {
     "end_time": "2023-08-09T18:45:19.025676Z",
     "start_time": "2023-08-09T18:45:19.020504Z"
    }
   }
  },
  {
   "cell_type": "code",
   "execution_count": 105,
   "outputs": [
    {
     "name": "stdout",
     "output_type": "stream",
     "text": [
      "\n",
      "\n",
      "\u001B[1m> Entering new AgentExecutor chain...\u001B[0m\n",
      "\u001B[32;1m\u001B[1;3mThought: To find out the number of records in the dataset, I can use the `shape` attribute of the dataframe. The first element of the shape attribute will give me the number of rows, which is the number of records in the dataset.\n",
      "Action: python_repl_ast\n",
      "Action Input: df.shape[0]\u001B[0m\n",
      "Observation: \u001B[36;1m\u001B[1;3m200\u001B[0m\n",
      "Thought:\u001B[32;1m\u001B[1;3mI now know the final answer.\n",
      "Final Answer: There are 200 records in this dataset.\u001B[0m\n",
      "\n",
      "\u001B[1m> Finished chain.\u001B[0m\n"
     ]
    },
    {
     "data": {
      "text/plain": "'There are 200 records in this dataset.'"
     },
     "execution_count": 105,
     "metadata": {},
     "output_type": "execute_result"
    }
   ],
   "source": [
    "csv_agent.run( \"How many records are in this dataset?\" )"
   ],
   "metadata": {
    "collapsed": false,
    "ExecuteTime": {
     "end_time": "2023-08-09T18:45:36.692404Z",
     "start_time": "2023-08-09T18:45:22.338709Z"
    }
   }
  },
  {
   "cell_type": "code",
   "execution_count": 106,
   "outputs": [
    {
     "name": "stdout",
     "output_type": "stream",
     "text": [
      "\n",
      "\n",
      "\u001B[1m> Entering new AgentExecutor chain...\u001B[0m\n",
      "\u001B[32;1m\u001B[1;3mThought: To find out how many birthday events are in the dataset, I need to filter the dataframe by the 'event_type' column and count the number of rows where 'event_type' is 'Birthday'.\n",
      "Action: python_repl_ast\n",
      "Action Input: df[df['event_type'] == 'Birthday'].shape[0]\u001B[0m\n",
      "Observation: \u001B[36;1m\u001B[1;3m17\u001B[0m\n",
      "Thought:\u001B[32;1m\u001B[1;3mI now know the final answer.\n",
      "Final Answer: There are 17 birthday events in this dataset.\u001B[0m\n",
      "\n",
      "\u001B[1m> Finished chain.\u001B[0m\n"
     ]
    },
    {
     "data": {
      "text/plain": "'There are 17 birthday events in this dataset.'"
     },
     "execution_count": 106,
     "metadata": {},
     "output_type": "execute_result"
    }
   ],
   "source": [
    "csv_agent.run( \"How many birthday events are in this dataset?\" )"
   ],
   "metadata": {
    "collapsed": false,
    "ExecuteTime": {
     "end_time": "2023-08-09T18:45:48.127707Z",
     "start_time": "2023-08-09T18:45:36.693405Z"
    }
   }
  },
  {
   "cell_type": "code",
   "execution_count": 107,
   "outputs": [
    {
     "name": "stdout",
     "output_type": "stream",
     "text": [
      "\n",
      "\n",
      "\u001B[1m> Entering new AgentExecutor chain...\u001B[0m\n"
     ]
    },
    {
     "ename": "OutputParserException",
     "evalue": "Could not parse LLM output: `Thought: The dataframe does not contain any column that directly indicates whether an event is a birthday or not. Therefore, it is not possible to filter out birthdays in August from this dataframe.`",
     "output_type": "error",
     "traceback": [
      "\u001B[0;31m---------------------------------------------------------------------------\u001B[0m",
      "\u001B[0;31mOutputParserException\u001B[0m                     Traceback (most recent call last)",
      "Cell \u001B[0;32mIn[107], line 1\u001B[0m\n\u001B[0;32m----> 1\u001B[0m \u001B[43mcsv_agent\u001B[49m\u001B[38;5;241;43m.\u001B[39;49m\u001B[43mrun\u001B[49m\u001B[43m(\u001B[49m\u001B[43m \u001B[49m\u001B[38;5;124;43m\"\u001B[39;49m\u001B[38;5;124;43mShow me all birthdays in August\u001B[39;49m\u001B[38;5;124;43m\"\u001B[39;49m\u001B[43m \u001B[49m\u001B[43m)\u001B[49m\n",
      "File \u001B[0;32m/usr/local/lib/python3.10/dist-packages/langchain/chains/base.py:451\u001B[0m, in \u001B[0;36mChain.run\u001B[0;34m(self, callbacks, tags, metadata, *args, **kwargs)\u001B[0m\n\u001B[1;32m    449\u001B[0m     \u001B[38;5;28;01mif\u001B[39;00m \u001B[38;5;28mlen\u001B[39m(args) \u001B[38;5;241m!=\u001B[39m \u001B[38;5;241m1\u001B[39m:\n\u001B[1;32m    450\u001B[0m         \u001B[38;5;28;01mraise\u001B[39;00m \u001B[38;5;167;01mValueError\u001B[39;00m(\u001B[38;5;124m\"\u001B[39m\u001B[38;5;124m`run` supports only one positional argument.\u001B[39m\u001B[38;5;124m\"\u001B[39m)\n\u001B[0;32m--> 451\u001B[0m     \u001B[38;5;28;01mreturn\u001B[39;00m \u001B[38;5;28;43mself\u001B[39;49m\u001B[43m(\u001B[49m\u001B[43margs\u001B[49m\u001B[43m[\u001B[49m\u001B[38;5;241;43m0\u001B[39;49m\u001B[43m]\u001B[49m\u001B[43m,\u001B[49m\u001B[43m \u001B[49m\u001B[43mcallbacks\u001B[49m\u001B[38;5;241;43m=\u001B[39;49m\u001B[43mcallbacks\u001B[49m\u001B[43m,\u001B[49m\u001B[43m \u001B[49m\u001B[43mtags\u001B[49m\u001B[38;5;241;43m=\u001B[39;49m\u001B[43mtags\u001B[49m\u001B[43m,\u001B[49m\u001B[43m \u001B[49m\u001B[43mmetadata\u001B[49m\u001B[38;5;241;43m=\u001B[39;49m\u001B[43mmetadata\u001B[49m\u001B[43m)\u001B[49m[\n\u001B[1;32m    452\u001B[0m         _output_key\n\u001B[1;32m    453\u001B[0m     ]\n\u001B[1;32m    455\u001B[0m \u001B[38;5;28;01mif\u001B[39;00m kwargs \u001B[38;5;129;01mand\u001B[39;00m \u001B[38;5;129;01mnot\u001B[39;00m args:\n\u001B[1;32m    456\u001B[0m     \u001B[38;5;28;01mreturn\u001B[39;00m \u001B[38;5;28mself\u001B[39m(kwargs, callbacks\u001B[38;5;241m=\u001B[39mcallbacks, tags\u001B[38;5;241m=\u001B[39mtags, metadata\u001B[38;5;241m=\u001B[39mmetadata)[\n\u001B[1;32m    457\u001B[0m         _output_key\n\u001B[1;32m    458\u001B[0m     ]\n",
      "File \u001B[0;32m/usr/local/lib/python3.10/dist-packages/langchain/chains/base.py:258\u001B[0m, in \u001B[0;36mChain.__call__\u001B[0;34m(self, inputs, return_only_outputs, callbacks, tags, metadata, include_run_info)\u001B[0m\n\u001B[1;32m    256\u001B[0m \u001B[38;5;28;01mexcept\u001B[39;00m (\u001B[38;5;167;01mKeyboardInterrupt\u001B[39;00m, \u001B[38;5;167;01mException\u001B[39;00m) \u001B[38;5;28;01mas\u001B[39;00m e:\n\u001B[1;32m    257\u001B[0m     run_manager\u001B[38;5;241m.\u001B[39mon_chain_error(e)\n\u001B[0;32m--> 258\u001B[0m     \u001B[38;5;28;01mraise\u001B[39;00m e\n\u001B[1;32m    259\u001B[0m run_manager\u001B[38;5;241m.\u001B[39mon_chain_end(outputs)\n\u001B[1;32m    260\u001B[0m final_outputs: Dict[\u001B[38;5;28mstr\u001B[39m, Any] \u001B[38;5;241m=\u001B[39m \u001B[38;5;28mself\u001B[39m\u001B[38;5;241m.\u001B[39mprep_outputs(\n\u001B[1;32m    261\u001B[0m     inputs, outputs, return_only_outputs\n\u001B[1;32m    262\u001B[0m )\n",
      "File \u001B[0;32m/usr/local/lib/python3.10/dist-packages/langchain/chains/base.py:252\u001B[0m, in \u001B[0;36mChain.__call__\u001B[0;34m(self, inputs, return_only_outputs, callbacks, tags, metadata, include_run_info)\u001B[0m\n\u001B[1;32m    246\u001B[0m run_manager \u001B[38;5;241m=\u001B[39m callback_manager\u001B[38;5;241m.\u001B[39mon_chain_start(\n\u001B[1;32m    247\u001B[0m     dumpd(\u001B[38;5;28mself\u001B[39m),\n\u001B[1;32m    248\u001B[0m     inputs,\n\u001B[1;32m    249\u001B[0m )\n\u001B[1;32m    250\u001B[0m \u001B[38;5;28;01mtry\u001B[39;00m:\n\u001B[1;32m    251\u001B[0m     outputs \u001B[38;5;241m=\u001B[39m (\n\u001B[0;32m--> 252\u001B[0m         \u001B[38;5;28;43mself\u001B[39;49m\u001B[38;5;241;43m.\u001B[39;49m\u001B[43m_call\u001B[49m\u001B[43m(\u001B[49m\u001B[43minputs\u001B[49m\u001B[43m,\u001B[49m\u001B[43m \u001B[49m\u001B[43mrun_manager\u001B[49m\u001B[38;5;241;43m=\u001B[39;49m\u001B[43mrun_manager\u001B[49m\u001B[43m)\u001B[49m\n\u001B[1;32m    253\u001B[0m         \u001B[38;5;28;01mif\u001B[39;00m new_arg_supported\n\u001B[1;32m    254\u001B[0m         \u001B[38;5;28;01melse\u001B[39;00m \u001B[38;5;28mself\u001B[39m\u001B[38;5;241m.\u001B[39m_call(inputs)\n\u001B[1;32m    255\u001B[0m     )\n\u001B[1;32m    256\u001B[0m \u001B[38;5;28;01mexcept\u001B[39;00m (\u001B[38;5;167;01mKeyboardInterrupt\u001B[39;00m, \u001B[38;5;167;01mException\u001B[39;00m) \u001B[38;5;28;01mas\u001B[39;00m e:\n\u001B[1;32m    257\u001B[0m     run_manager\u001B[38;5;241m.\u001B[39mon_chain_error(e)\n",
      "File \u001B[0;32m/usr/local/lib/python3.10/dist-packages/langchain/agents/agent.py:1035\u001B[0m, in \u001B[0;36mAgentExecutor._call\u001B[0;34m(self, inputs, run_manager)\u001B[0m\n\u001B[1;32m   1033\u001B[0m \u001B[38;5;66;03m# We now enter the agent loop (until it returns something).\u001B[39;00m\n\u001B[1;32m   1034\u001B[0m \u001B[38;5;28;01mwhile\u001B[39;00m \u001B[38;5;28mself\u001B[39m\u001B[38;5;241m.\u001B[39m_should_continue(iterations, time_elapsed):\n\u001B[0;32m-> 1035\u001B[0m     next_step_output \u001B[38;5;241m=\u001B[39m \u001B[38;5;28;43mself\u001B[39;49m\u001B[38;5;241;43m.\u001B[39;49m\u001B[43m_take_next_step\u001B[49m\u001B[43m(\u001B[49m\n\u001B[1;32m   1036\u001B[0m \u001B[43m        \u001B[49m\u001B[43mname_to_tool_map\u001B[49m\u001B[43m,\u001B[49m\n\u001B[1;32m   1037\u001B[0m \u001B[43m        \u001B[49m\u001B[43mcolor_mapping\u001B[49m\u001B[43m,\u001B[49m\n\u001B[1;32m   1038\u001B[0m \u001B[43m        \u001B[49m\u001B[43minputs\u001B[49m\u001B[43m,\u001B[49m\n\u001B[1;32m   1039\u001B[0m \u001B[43m        \u001B[49m\u001B[43mintermediate_steps\u001B[49m\u001B[43m,\u001B[49m\n\u001B[1;32m   1040\u001B[0m \u001B[43m        \u001B[49m\u001B[43mrun_manager\u001B[49m\u001B[38;5;241;43m=\u001B[39;49m\u001B[43mrun_manager\u001B[49m\u001B[43m,\u001B[49m\n\u001B[1;32m   1041\u001B[0m \u001B[43m    \u001B[49m\u001B[43m)\u001B[49m\n\u001B[1;32m   1042\u001B[0m     \u001B[38;5;28;01mif\u001B[39;00m \u001B[38;5;28misinstance\u001B[39m(next_step_output, AgentFinish):\n\u001B[1;32m   1043\u001B[0m         \u001B[38;5;28;01mreturn\u001B[39;00m \u001B[38;5;28mself\u001B[39m\u001B[38;5;241m.\u001B[39m_return(\n\u001B[1;32m   1044\u001B[0m             next_step_output, intermediate_steps, run_manager\u001B[38;5;241m=\u001B[39mrun_manager\n\u001B[1;32m   1045\u001B[0m         )\n",
      "File \u001B[0;32m/usr/local/lib/python3.10/dist-packages/langchain/agents/agent.py:843\u001B[0m, in \u001B[0;36mAgentExecutor._take_next_step\u001B[0;34m(self, name_to_tool_map, color_mapping, inputs, intermediate_steps, run_manager)\u001B[0m\n\u001B[1;32m    841\u001B[0m     raise_error \u001B[38;5;241m=\u001B[39m \u001B[38;5;28;01mFalse\u001B[39;00m\n\u001B[1;32m    842\u001B[0m \u001B[38;5;28;01mif\u001B[39;00m raise_error:\n\u001B[0;32m--> 843\u001B[0m     \u001B[38;5;28;01mraise\u001B[39;00m e\n\u001B[1;32m    844\u001B[0m text \u001B[38;5;241m=\u001B[39m \u001B[38;5;28mstr\u001B[39m(e)\n\u001B[1;32m    845\u001B[0m \u001B[38;5;28;01mif\u001B[39;00m \u001B[38;5;28misinstance\u001B[39m(\u001B[38;5;28mself\u001B[39m\u001B[38;5;241m.\u001B[39mhandle_parsing_errors, \u001B[38;5;28mbool\u001B[39m):\n",
      "File \u001B[0;32m/usr/local/lib/python3.10/dist-packages/langchain/agents/agent.py:832\u001B[0m, in \u001B[0;36mAgentExecutor._take_next_step\u001B[0;34m(self, name_to_tool_map, color_mapping, inputs, intermediate_steps, run_manager)\u001B[0m\n\u001B[1;32m    829\u001B[0m     intermediate_steps \u001B[38;5;241m=\u001B[39m \u001B[38;5;28mself\u001B[39m\u001B[38;5;241m.\u001B[39m_prepare_intermediate_steps(intermediate_steps)\n\u001B[1;32m    831\u001B[0m     \u001B[38;5;66;03m# Call the LLM to see what to do.\u001B[39;00m\n\u001B[0;32m--> 832\u001B[0m     output \u001B[38;5;241m=\u001B[39m \u001B[38;5;28;43mself\u001B[39;49m\u001B[38;5;241;43m.\u001B[39;49m\u001B[43magent\u001B[49m\u001B[38;5;241;43m.\u001B[39;49m\u001B[43mplan\u001B[49m\u001B[43m(\u001B[49m\n\u001B[1;32m    833\u001B[0m \u001B[43m        \u001B[49m\u001B[43mintermediate_steps\u001B[49m\u001B[43m,\u001B[49m\n\u001B[1;32m    834\u001B[0m \u001B[43m        \u001B[49m\u001B[43mcallbacks\u001B[49m\u001B[38;5;241;43m=\u001B[39;49m\u001B[43mrun_manager\u001B[49m\u001B[38;5;241;43m.\u001B[39;49m\u001B[43mget_child\u001B[49m\u001B[43m(\u001B[49m\u001B[43m)\u001B[49m\u001B[43m \u001B[49m\u001B[38;5;28;43;01mif\u001B[39;49;00m\u001B[43m \u001B[49m\u001B[43mrun_manager\u001B[49m\u001B[43m \u001B[49m\u001B[38;5;28;43;01melse\u001B[39;49;00m\u001B[43m \u001B[49m\u001B[38;5;28;43;01mNone\u001B[39;49;00m\u001B[43m,\u001B[49m\n\u001B[1;32m    835\u001B[0m \u001B[43m        \u001B[49m\u001B[38;5;241;43m*\u001B[39;49m\u001B[38;5;241;43m*\u001B[39;49m\u001B[43minputs\u001B[49m\u001B[43m,\u001B[49m\n\u001B[1;32m    836\u001B[0m \u001B[43m    \u001B[49m\u001B[43m)\u001B[49m\n\u001B[1;32m    837\u001B[0m \u001B[38;5;28;01mexcept\u001B[39;00m OutputParserException \u001B[38;5;28;01mas\u001B[39;00m e:\n\u001B[1;32m    838\u001B[0m     \u001B[38;5;28;01mif\u001B[39;00m \u001B[38;5;28misinstance\u001B[39m(\u001B[38;5;28mself\u001B[39m\u001B[38;5;241m.\u001B[39mhandle_parsing_errors, \u001B[38;5;28mbool\u001B[39m):\n",
      "File \u001B[0;32m/usr/local/lib/python3.10/dist-packages/langchain/agents/agent.py:457\u001B[0m, in \u001B[0;36mAgent.plan\u001B[0;34m(self, intermediate_steps, callbacks, **kwargs)\u001B[0m\n\u001B[1;32m    455\u001B[0m full_inputs \u001B[38;5;241m=\u001B[39m \u001B[38;5;28mself\u001B[39m\u001B[38;5;241m.\u001B[39mget_full_inputs(intermediate_steps, \u001B[38;5;241m*\u001B[39m\u001B[38;5;241m*\u001B[39mkwargs)\n\u001B[1;32m    456\u001B[0m full_output \u001B[38;5;241m=\u001B[39m \u001B[38;5;28mself\u001B[39m\u001B[38;5;241m.\u001B[39mllm_chain\u001B[38;5;241m.\u001B[39mpredict(callbacks\u001B[38;5;241m=\u001B[39mcallbacks, \u001B[38;5;241m*\u001B[39m\u001B[38;5;241m*\u001B[39mfull_inputs)\n\u001B[0;32m--> 457\u001B[0m \u001B[38;5;28;01mreturn\u001B[39;00m \u001B[38;5;28;43mself\u001B[39;49m\u001B[38;5;241;43m.\u001B[39;49m\u001B[43moutput_parser\u001B[49m\u001B[38;5;241;43m.\u001B[39;49m\u001B[43mparse\u001B[49m\u001B[43m(\u001B[49m\u001B[43mfull_output\u001B[49m\u001B[43m)\u001B[49m\n",
      "File \u001B[0;32m/usr/local/lib/python3.10/dist-packages/langchain/agents/mrkl/output_parser.py:52\u001B[0m, in \u001B[0;36mMRKLOutputParser.parse\u001B[0;34m(self, text)\u001B[0m\n\u001B[1;32m     47\u001B[0m     \u001B[38;5;28;01mreturn\u001B[39;00m AgentFinish(\n\u001B[1;32m     48\u001B[0m         {\u001B[38;5;124m\"\u001B[39m\u001B[38;5;124moutput\u001B[39m\u001B[38;5;124m\"\u001B[39m: text\u001B[38;5;241m.\u001B[39msplit(FINAL_ANSWER_ACTION)[\u001B[38;5;241m-\u001B[39m\u001B[38;5;241m1\u001B[39m]\u001B[38;5;241m.\u001B[39mstrip()}, text\n\u001B[1;32m     49\u001B[0m     )\n\u001B[1;32m     51\u001B[0m \u001B[38;5;28;01mif\u001B[39;00m \u001B[38;5;129;01mnot\u001B[39;00m re\u001B[38;5;241m.\u001B[39msearch(\u001B[38;5;124mr\u001B[39m\u001B[38;5;124m\"\u001B[39m\u001B[38;5;124mAction\u001B[39m\u001B[38;5;124m\\\u001B[39m\u001B[38;5;124ms*\u001B[39m\u001B[38;5;124m\\\u001B[39m\u001B[38;5;124md*\u001B[39m\u001B[38;5;124m\\\u001B[39m\u001B[38;5;124ms*:[\u001B[39m\u001B[38;5;124m\\\u001B[39m\u001B[38;5;124ms]*(.*?)\u001B[39m\u001B[38;5;124m\"\u001B[39m, text, re\u001B[38;5;241m.\u001B[39mDOTALL):\n\u001B[0;32m---> 52\u001B[0m     \u001B[38;5;28;01mraise\u001B[39;00m OutputParserException(\n\u001B[1;32m     53\u001B[0m         \u001B[38;5;124mf\u001B[39m\u001B[38;5;124m\"\u001B[39m\u001B[38;5;124mCould not parse LLM output: `\u001B[39m\u001B[38;5;132;01m{\u001B[39;00mtext\u001B[38;5;132;01m}\u001B[39;00m\u001B[38;5;124m`\u001B[39m\u001B[38;5;124m\"\u001B[39m,\n\u001B[1;32m     54\u001B[0m         observation\u001B[38;5;241m=\u001B[39mMISSING_ACTION_AFTER_THOUGHT_ERROR_MESSAGE,\n\u001B[1;32m     55\u001B[0m         llm_output\u001B[38;5;241m=\u001B[39mtext,\n\u001B[1;32m     56\u001B[0m         send_to_llm\u001B[38;5;241m=\u001B[39m\u001B[38;5;28;01mTrue\u001B[39;00m,\n\u001B[1;32m     57\u001B[0m     )\n\u001B[1;32m     58\u001B[0m \u001B[38;5;28;01melif\u001B[39;00m \u001B[38;5;129;01mnot\u001B[39;00m re\u001B[38;5;241m.\u001B[39msearch(\n\u001B[1;32m     59\u001B[0m     \u001B[38;5;124mr\u001B[39m\u001B[38;5;124m\"\u001B[39m\u001B[38;5;124m[\u001B[39m\u001B[38;5;124m\\\u001B[39m\u001B[38;5;124ms]*Action\u001B[39m\u001B[38;5;124m\\\u001B[39m\u001B[38;5;124ms*\u001B[39m\u001B[38;5;124m\\\u001B[39m\u001B[38;5;124md*\u001B[39m\u001B[38;5;124m\\\u001B[39m\u001B[38;5;124ms*Input\u001B[39m\u001B[38;5;124m\\\u001B[39m\u001B[38;5;124ms*\u001B[39m\u001B[38;5;124m\\\u001B[39m\u001B[38;5;124md*\u001B[39m\u001B[38;5;124m\\\u001B[39m\u001B[38;5;124ms*:[\u001B[39m\u001B[38;5;124m\\\u001B[39m\u001B[38;5;124ms]*(.*)\u001B[39m\u001B[38;5;124m\"\u001B[39m, text, re\u001B[38;5;241m.\u001B[39mDOTALL\n\u001B[1;32m     60\u001B[0m ):\n\u001B[1;32m     61\u001B[0m     \u001B[38;5;28;01mraise\u001B[39;00m OutputParserException(\n\u001B[1;32m     62\u001B[0m         \u001B[38;5;124mf\u001B[39m\u001B[38;5;124m\"\u001B[39m\u001B[38;5;124mCould not parse LLM output: `\u001B[39m\u001B[38;5;132;01m{\u001B[39;00mtext\u001B[38;5;132;01m}\u001B[39;00m\u001B[38;5;124m`\u001B[39m\u001B[38;5;124m\"\u001B[39m,\n\u001B[1;32m     63\u001B[0m         observation\u001B[38;5;241m=\u001B[39mMISSING_ACTION_INPUT_AFTER_ACTION_ERROR_MESSAGE,\n\u001B[1;32m     64\u001B[0m         llm_output\u001B[38;5;241m=\u001B[39mtext,\n\u001B[1;32m     65\u001B[0m         send_to_llm\u001B[38;5;241m=\u001B[39m\u001B[38;5;28;01mTrue\u001B[39;00m,\n\u001B[1;32m     66\u001B[0m     )\n",
      "\u001B[0;31mOutputParserException\u001B[0m: Could not parse LLM output: `Thought: The dataframe does not contain any column that directly indicates whether an event is a birthday or not. Therefore, it is not possible to filter out birthdays in August from this dataframe.`"
     ]
    }
   ],
   "source": [
    "csv_agent.run( \"Show me all birthdays in August\" )"
   ],
   "metadata": {
    "collapsed": false,
    "ExecuteTime": {
     "end_time": "2023-08-09T18:46:14.821657Z",
     "start_time": "2023-08-09T18:46:09.750158Z"
    }
   }
  },
  {
   "cell_type": "code",
   "execution_count": 143,
   "outputs": [
    {
     "name": "stdout",
     "output_type": "stream",
     "text": [
      "\n",
      "\n",
      "\u001B[1m> Entering new AgentExecutor chain...\u001B[0m\n",
      "\u001B[32;1m\u001B[1;3mThought: I need to filter the dataframe to only include events that are happening today. Then I can select the columns I need and format the output using Markdown.\n",
      "\n",
      "Action: python_repl_ast\n",
      "Action Input: df['date'] == '2023-07-29'\u001B[0m\n",
      "Observation: \u001B[36;1m\u001B[1;3m0     False\n",
      "1     False\n",
      "2     False\n",
      "3     False\n",
      "4     False\n",
      "5     False\n",
      "6     False\n",
      "7     False\n",
      "8     False\n",
      "9      True\n",
      "10    False\n",
      "11    False\n",
      "12    False\n",
      "13    False\n",
      "14    False\n",
      "15    False\n",
      "16    False\n",
      "17    False\n",
      "18     True\n",
      "19    False\n",
      "20    False\n",
      "21    False\n",
      "22    False\n",
      "23    False\n",
      "24    False\n",
      "25    False\n",
      "26    False\n",
      "27    False\n",
      "28    False\n",
      "29    False\n",
      "30    False\n",
      "31    False\n",
      "32    False\n",
      "33    False\n",
      "34    False\n",
      "35    False\n",
      "36    False\n",
      "37    False\n",
      "38    False\n",
      "39    False\n",
      "40    False\n",
      "41    False\n",
      "42    False\n",
      "43    False\n",
      "44    False\n",
      "45    False\n",
      "46    False\n",
      "47    False\n",
      "48    False\n",
      "49    False\n",
      "50    False\n",
      "51    False\n",
      "52    False\n",
      "53    False\n",
      "54    False\n",
      "55    False\n",
      "56    False\n",
      "57    False\n",
      "58    False\n",
      "59    False\n",
      "Name: date, dtype: bool\u001B[0m\n",
      "Thought:\u001B[32;1m\u001B[1;3mThe boolean series shows that only two rows have a date of '2023-07-29'. I can use this boolean series to filter the dataframe and select the desired columns.\n",
      "\n",
      "Action: python_repl_ast\n",
      "Action Input: df[df['date'] == '2023-07-29'][['date', 'start_time', 'event_type', 'description']]\u001B[0m\n",
      "Observation: \u001B[36;1m\u001B[1;3m          date start_time    event_type                     description\n",
      "9   2023-07-29      00:00      Birthday  Leroy Ruiz (father)'s birthday\n",
      "18  2023-07-29      00:00  Subscription         This is a subscription.\u001B[0m\n",
      "Thought:\u001B[32;1m\u001B[1;3mI have filtered the dataframe to only include events happening on July 29th, 2023. I have also selected the columns 'date', 'start_time', 'event_type', and 'description' for these events.\n",
      "\n",
      "Final Answer: The events for today are:\n",
      "\n",
      "|    | date       | start_time   | event_type   | description                |\n",
      "|---:|:-----------|:-------------|:-------------|:---------------------------|\n",
      "|  9 | 2023-07-29 | 00:00        | Birthday     | Leroy Ruiz (father)'s birthday |\n",
      "| 18 | 2023-07-29 | 00:00        | Subscription | This is a subscription.    |\u001B[0m\n",
      "\n",
      "\u001B[1m> Finished chain.\u001B[0m\n"
     ]
    },
    {
     "data": {
      "text/plain": "\"The events for today are:\\n\\n|    | date       | start_time   | event_type   | description                |\\n|---:|:-----------|:-------------|:-------------|:---------------------------|\\n|  9 | 2023-07-29 | 00:00        | Birthday     | Leroy Ruiz (father)'s birthday |\\n| 18 | 2023-07-29 | 00:00        | Subscription | This is a subscription.    |\""
     },
     "execution_count": 143,
     "metadata": {},
     "output_type": "execute_result"
    }
   ],
   "source": [
    "csv_agent.run( \"Today is July 29th, 2023. Show me what events I have for today. Show me the date, start time, event type, and description for all events. Format using Markdown. Use tool python_repl_ast.\" )"
   ],
   "metadata": {
    "collapsed": false,
    "ExecuteTime": {
     "end_time": "2023-07-26T03:32:18.584896Z",
     "start_time": "2023-07-26T03:32:09.258311Z"
    }
   }
  },
  {
   "cell_type": "code",
   "execution_count": null,
   "outputs": [],
   "source": [],
   "metadata": {
    "collapsed": false
   }
  }
 ],
 "metadata": {
  "kernelspec": {
   "display_name": "Python 3",
   "language": "python",
   "name": "python3"
  },
  "language_info": {
   "codemirror_mode": {
    "name": "ipython",
    "version": 2
   },
   "file_extension": ".py",
   "mimetype": "text/x-python",
   "name": "python",
   "nbconvert_exporter": "python",
   "pygments_lexer": "ipython2",
   "version": "2.7.6"
  }
 },
 "nbformat": 4,
 "nbformat_minor": 0
}
