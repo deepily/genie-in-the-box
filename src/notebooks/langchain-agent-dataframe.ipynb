{
 "cells": [
  {
   "cell_type": "code",
   "execution_count": 1,
   "outputs": [
    {
     "name": "stdout",
     "output_type": "stream",
     "text": [
      "total 40K\r\n",
      "drwxr-xr-x 2 1000 1000 4.0K Aug  9 19:33 .\r\n",
      "drwxr-xr-x 4 1000 1000 4.0K Jul 19 20:04 ..\r\n",
      "-rw-r--r-- 1 1000 1000 4.0K Jul 19 20:04 ._events.jsonl\r\n",
      "-rw-r--r-- 1 1000 1000  16K Aug  9 19:33 events.csv\r\n",
      "-rw-r--r-- 1 1000 1000 9.9K Aug  9 19:33 events.jsonl\r\n"
     ]
    }
   ],
   "source": [
    "! ls -alh /var/genie-in-the-box/src/conf/long-term-memory/"
   ],
   "metadata": {
    "collapsed": false,
    "ExecuteTime": {
     "end_time": "2023-08-10T17:56:27.655154Z",
     "start_time": "2023-08-10T17:56:27.539861Z"
    }
   }
  },
  {
   "cell_type": "code",
   "execution_count": 2,
   "outputs": [
    {
     "name": "stdout",
     "output_type": "stream",
     "text": [
      "Collecting langchain\r\n",
      "  Downloading langchain-0.0.257-py3-none-any.whl (1.4 MB)\r\n",
      "\u001B[2K     \u001B[90m━━━━━━━━━━━━━━━━━━━━━━━━━━━━━━━━━━━━━━━━\u001B[0m \u001B[32m1.4/1.4 MB\u001B[0m \u001B[31m15.6 MB/s\u001B[0m eta \u001B[36m0:00:00\u001B[0ma \u001B[36m0:00:01\u001B[0m\r\n",
      "\u001B[?25hCollecting numexpr<3.0.0,>=2.8.4\r\n",
      "  Downloading numexpr-2.8.5-cp310-cp310-manylinux_2_17_x86_64.manylinux2014_x86_64.whl (383 kB)\r\n",
      "\u001B[2K     \u001B[90m━━━━━━━━━━━━━━━━━━━━━━━━━━━━━━━━━━━━━━\u001B[0m \u001B[32m383.2/383.2 kB\u001B[0m \u001B[31m39.7 MB/s\u001B[0m eta \u001B[36m0:00:00\u001B[0m\r\n",
      "\u001B[?25hCollecting langsmith<0.1.0,>=0.0.11\r\n",
      "  Downloading langsmith-0.0.19-py3-none-any.whl (31 kB)\r\n",
      "Requirement already satisfied: aiohttp<4.0.0,>=3.8.3 in /usr/local/lib/python3.10/dist-packages (from langchain) (3.8.4)\r\n",
      "Requirement already satisfied: pydantic<2,>=1 in /usr/local/lib/python3.10/dist-packages (from langchain) (1.10.5)\r\n",
      "Requirement already satisfied: SQLAlchemy<3,>=1.4 in /usr/local/lib/python3.10/dist-packages (from langchain) (2.0.4)\r\n",
      "Collecting openapi-schema-pydantic<2.0,>=1.2\r\n",
      "  Downloading openapi_schema_pydantic-1.2.4-py3-none-any.whl (90 kB)\r\n",
      "\u001B[2K     \u001B[90m━━━━━━━━━━━━━━━━━━━━━━━━━━━━━━━━━━━━━━━━\u001B[0m \u001B[32m90.0/90.0 kB\u001B[0m \u001B[31m23.1 MB/s\u001B[0m eta \u001B[36m0:00:00\u001B[0m\r\n",
      "\u001B[?25hRequirement already satisfied: numpy<2,>=1 in /usr/local/lib/python3.10/dist-packages (from langchain) (1.23.5)\r\n",
      "Requirement already satisfied: PyYAML>=5.3 in /usr/local/lib/python3.10/dist-packages (from langchain) (6.0)\r\n",
      "Collecting tenacity<9.0.0,>=8.1.0\r\n",
      "  Downloading tenacity-8.2.2-py3-none-any.whl (24 kB)\r\n",
      "Requirement already satisfied: async-timeout<5.0.0,>=4.0.0 in /usr/local/lib/python3.10/dist-packages (from langchain) (4.0.2)\r\n",
      "Collecting dataclasses-json<0.6.0,>=0.5.7\r\n",
      "  Downloading dataclasses_json-0.5.14-py3-none-any.whl (26 kB)\r\n",
      "Requirement already satisfied: requests<3,>=2 in /usr/local/lib/python3.10/dist-packages (from langchain) (2.28.2)\r\n",
      "Requirement already satisfied: attrs>=17.3.0 in /usr/local/lib/python3.10/dist-packages (from aiohttp<4.0.0,>=3.8.3->langchain) (22.2.0)\r\n",
      "Requirement already satisfied: yarl<2.0,>=1.0 in /usr/local/lib/python3.10/dist-packages (from aiohttp<4.0.0,>=3.8.3->langchain) (1.8.2)\r\n",
      "Requirement already satisfied: aiosignal>=1.1.2 in /usr/local/lib/python3.10/dist-packages (from aiohttp<4.0.0,>=3.8.3->langchain) (1.3.1)\r\n",
      "Requirement already satisfied: frozenlist>=1.1.1 in /usr/local/lib/python3.10/dist-packages (from aiohttp<4.0.0,>=3.8.3->langchain) (1.3.3)\r\n",
      "Requirement already satisfied: charset-normalizer<4.0,>=2.0 in /usr/local/lib/python3.10/dist-packages (from aiohttp<4.0.0,>=3.8.3->langchain) (3.0.1)\r\n",
      "Requirement already satisfied: multidict<7.0,>=4.5 in /usr/local/lib/python3.10/dist-packages (from aiohttp<4.0.0,>=3.8.3->langchain) (6.0.4)\r\n",
      "Collecting marshmallow<4.0.0,>=3.18.0\r\n",
      "  Downloading marshmallow-3.20.1-py3-none-any.whl (49 kB)\r\n",
      "\u001B[2K     \u001B[90m━━━━━━━━━━━━━━━━━━━━━━━━━━━━━━━━━━━━━━━━\u001B[0m \u001B[32m49.4/49.4 kB\u001B[0m \u001B[31m8.9 MB/s\u001B[0m eta \u001B[36m0:00:00\u001B[0m\r\n",
      "\u001B[?25hCollecting typing-inspect<1,>=0.4.0\r\n",
      "  Downloading typing_inspect-0.9.0-py3-none-any.whl (8.8 kB)\r\n",
      "Requirement already satisfied: typing-extensions>=4.2.0 in /usr/local/lib/python3.10/dist-packages (from pydantic<2,>=1->langchain) (4.5.0)\r\n",
      "Requirement already satisfied: idna<4,>=2.5 in /usr/local/lib/python3.10/dist-packages (from requests<3,>=2->langchain) (3.4)\r\n",
      "Requirement already satisfied: urllib3<1.27,>=1.21.1 in /usr/local/lib/python3.10/dist-packages (from requests<3,>=2->langchain) (1.26.14)\r\n",
      "Requirement already satisfied: certifi>=2017.4.17 in /usr/local/lib/python3.10/dist-packages (from requests<3,>=2->langchain) (2022.12.7)\r\n",
      "Requirement already satisfied: greenlet!=0.4.17 in /usr/local/lib/python3.10/dist-packages (from SQLAlchemy<3,>=1.4->langchain) (2.0.2)\r\n",
      "Requirement already satisfied: packaging>=17.0 in /usr/local/lib/python3.10/dist-packages (from marshmallow<4.0.0,>=3.18.0->dataclasses-json<0.6.0,>=0.5.7->langchain) (23.0)\r\n",
      "Collecting mypy-extensions>=0.3.0\r\n",
      "  Downloading mypy_extensions-1.0.0-py3-none-any.whl (4.7 kB)\r\n",
      "Installing collected packages: tenacity, numexpr, mypy-extensions, marshmallow, typing-inspect, openapi-schema-pydantic, langsmith, dataclasses-json, langchain\r\n",
      "Successfully installed dataclasses-json-0.5.14 langchain-0.0.257 langsmith-0.0.19 marshmallow-3.20.1 mypy-extensions-1.0.0 numexpr-2.8.5 openapi-schema-pydantic-1.2.4 tenacity-8.2.2 typing-inspect-0.9.0\r\n",
      "\u001B[33mWARNING: Running pip as the 'root' user can result in broken permissions and conflicting behaviour with the system package manager. It is recommended to use a virtual environment instead: https://pip.pypa.io/warnings/venv\u001B[0m\u001B[33m\r\n",
      "\u001B[0m\r\n",
      "\u001B[1m[\u001B[0m\u001B[34;49mnotice\u001B[0m\u001B[1;39;49m]\u001B[0m\u001B[39;49m A new release of pip is available: \u001B[0m\u001B[31;49m23.0.1\u001B[0m\u001B[39;49m -> \u001B[0m\u001B[32;49m23.2.1\u001B[0m\r\n",
      "\u001B[1m[\u001B[0m\u001B[34;49mnotice\u001B[0m\u001B[1;39;49m]\u001B[0m\u001B[39;49m To update, run: \u001B[0m\u001B[32;49mpython3 -m pip install --upgrade pip\u001B[0m\r\n",
      "Requirement already satisfied: langchain[docarray] in /usr/local/lib/python3.10/dist-packages (0.0.257)\r\n",
      "Requirement already satisfied: dataclasses-json<0.6.0,>=0.5.7 in /usr/local/lib/python3.10/dist-packages (from langchain[docarray]) (0.5.14)\r\n",
      "Requirement already satisfied: langsmith<0.1.0,>=0.0.11 in /usr/local/lib/python3.10/dist-packages (from langchain[docarray]) (0.0.19)\r\n",
      "Requirement already satisfied: requests<3,>=2 in /usr/local/lib/python3.10/dist-packages (from langchain[docarray]) (2.28.2)\r\n",
      "Requirement already satisfied: tenacity<9.0.0,>=8.1.0 in /usr/local/lib/python3.10/dist-packages (from langchain[docarray]) (8.2.2)\r\n",
      "Requirement already satisfied: SQLAlchemy<3,>=1.4 in /usr/local/lib/python3.10/dist-packages (from langchain[docarray]) (2.0.4)\r\n",
      "Requirement already satisfied: pydantic<2,>=1 in /usr/local/lib/python3.10/dist-packages (from langchain[docarray]) (1.10.5)\r\n",
      "Requirement already satisfied: async-timeout<5.0.0,>=4.0.0 in /usr/local/lib/python3.10/dist-packages (from langchain[docarray]) (4.0.2)\r\n",
      "Requirement already satisfied: PyYAML>=5.3 in /usr/local/lib/python3.10/dist-packages (from langchain[docarray]) (6.0)\r\n",
      "Requirement already satisfied: aiohttp<4.0.0,>=3.8.3 in /usr/local/lib/python3.10/dist-packages (from langchain[docarray]) (3.8.4)\r\n",
      "Requirement already satisfied: numpy<2,>=1 in /usr/local/lib/python3.10/dist-packages (from langchain[docarray]) (1.23.5)\r\n",
      "Requirement already satisfied: openapi-schema-pydantic<2.0,>=1.2 in /usr/local/lib/python3.10/dist-packages (from langchain[docarray]) (1.2.4)\r\n",
      "Requirement already satisfied: numexpr<3.0.0,>=2.8.4 in /usr/local/lib/python3.10/dist-packages (from langchain[docarray]) (2.8.5)\r\n",
      "Collecting docarray[hnswlib]<0.33.0,>=0.32.0\r\n",
      "  Downloading docarray-0.32.1-py3-none-any.whl (215 kB)\r\n",
      "\u001B[2K     \u001B[90m━━━━━━━━━━━━━━━━━━━━━━━━━━━━━━━━━━━━━━━\u001B[0m \u001B[32m215.3/215.3 kB\u001B[0m \u001B[31m3.5 MB/s\u001B[0m eta \u001B[36m0:00:00\u001B[0ma \u001B[36m0:00:01\u001B[0m\r\n",
      "\u001B[?25hRequirement already satisfied: multidict<7.0,>=4.5 in /usr/local/lib/python3.10/dist-packages (from aiohttp<4.0.0,>=3.8.3->langchain[docarray]) (6.0.4)\r\n",
      "Requirement already satisfied: aiosignal>=1.1.2 in /usr/local/lib/python3.10/dist-packages (from aiohttp<4.0.0,>=3.8.3->langchain[docarray]) (1.3.1)\r\n",
      "Requirement already satisfied: yarl<2.0,>=1.0 in /usr/local/lib/python3.10/dist-packages (from aiohttp<4.0.0,>=3.8.3->langchain[docarray]) (1.8.2)\r\n",
      "Requirement already satisfied: frozenlist>=1.1.1 in /usr/local/lib/python3.10/dist-packages (from aiohttp<4.0.0,>=3.8.3->langchain[docarray]) (1.3.3)\r\n",
      "Requirement already satisfied: attrs>=17.3.0 in /usr/local/lib/python3.10/dist-packages (from aiohttp<4.0.0,>=3.8.3->langchain[docarray]) (22.2.0)\r\n",
      "Requirement already satisfied: charset-normalizer<4.0,>=2.0 in /usr/local/lib/python3.10/dist-packages (from aiohttp<4.0.0,>=3.8.3->langchain[docarray]) (3.0.1)\r\n",
      "Requirement already satisfied: marshmallow<4.0.0,>=3.18.0 in /usr/local/lib/python3.10/dist-packages (from dataclasses-json<0.6.0,>=0.5.7->langchain[docarray]) (3.20.1)\r\n",
      "Requirement already satisfied: typing-inspect<1,>=0.4.0 in /usr/local/lib/python3.10/dist-packages (from dataclasses-json<0.6.0,>=0.5.7->langchain[docarray]) (0.9.0)\r\n",
      "Collecting orjson>=3.8.2\r\n",
      "  Downloading orjson-3.9.4-cp310-cp310-manylinux_2_17_x86_64.manylinux2014_x86_64.whl (140 kB)\r\n",
      "\u001B[2K     \u001B[90m━━━━━━━━━━━━━━━━━━━━━━━━━━━━━━━━━━━━━━\u001B[0m \u001B[32m140.3/140.3 kB\u001B[0m \u001B[31m30.8 MB/s\u001B[0m eta \u001B[36m0:00:00\u001B[0m\r\n",
      "\u001B[?25hCollecting rich>=13.1.0\r\n",
      "  Downloading rich-13.5.2-py3-none-any.whl (239 kB)\r\n",
      "\u001B[2K     \u001B[90m━━━━━━━━━━━━━━━━━━━━━━━━━━━━━━━━━━━━━━\u001B[0m \u001B[32m239.7/239.7 kB\u001B[0m \u001B[31m38.8 MB/s\u001B[0m eta \u001B[36m0:00:00\u001B[0m\r\n",
      "\u001B[?25hCollecting types-requests>=2.28.11.6\r\n",
      "  Downloading types_requests-2.31.0.2-py3-none-any.whl (14 kB)\r\n",
      "Requirement already satisfied: protobuf>=3.19.0 in /usr/local/lib/python3.10/dist-packages (from docarray[hnswlib]<0.33.0,>=0.32.0->langchain[docarray]) (3.19.6)\r\n",
      "Collecting hnswlib>=0.6.2\r\n",
      "  Downloading hnswlib-0.7.0.tar.gz (33 kB)\r\n",
      "  Installing build dependencies ... \u001B[?25ldone\r\n",
      "\u001B[?25h  Getting requirements to build wheel ... \u001B[?25ldone\r\n",
      "\u001B[?25h  Preparing metadata (pyproject.toml) ... \u001B[?25ldone\r\n",
      "\u001B[?25hRequirement already satisfied: typing-extensions>=4.2.0 in /usr/local/lib/python3.10/dist-packages (from pydantic<2,>=1->langchain[docarray]) (4.5.0)\r\n",
      "Requirement already satisfied: idna<4,>=2.5 in /usr/local/lib/python3.10/dist-packages (from requests<3,>=2->langchain[docarray]) (3.4)\r\n",
      "Requirement already satisfied: certifi>=2017.4.17 in /usr/local/lib/python3.10/dist-packages (from requests<3,>=2->langchain[docarray]) (2022.12.7)\r\n",
      "Requirement already satisfied: urllib3<1.27,>=1.21.1 in /usr/local/lib/python3.10/dist-packages (from requests<3,>=2->langchain[docarray]) (1.26.14)\r\n",
      "Requirement already satisfied: greenlet!=0.4.17 in /usr/local/lib/python3.10/dist-packages (from SQLAlchemy<3,>=1.4->langchain[docarray]) (2.0.2)\r\n",
      "Requirement already satisfied: packaging>=17.0 in /usr/local/lib/python3.10/dist-packages (from marshmallow<4.0.0,>=3.18.0->dataclasses-json<0.6.0,>=0.5.7->langchain[docarray]) (23.0)\r\n",
      "Requirement already satisfied: pygments<3.0.0,>=2.13.0 in /usr/local/lib/python3.10/dist-packages (from rich>=13.1.0->docarray[hnswlib]<0.33.0,>=0.32.0->langchain[docarray]) (2.14.0)\r\n",
      "Collecting markdown-it-py>=2.2.0\r\n",
      "  Downloading markdown_it_py-3.0.0-py3-none-any.whl (87 kB)\r\n",
      "\u001B[2K     \u001B[90m━━━━━━━━━━━━━━━━━━━━━━━━━━━━━━━━━━━━━━━━\u001B[0m \u001B[32m87.5/87.5 kB\u001B[0m \u001B[31m13.5 MB/s\u001B[0m eta \u001B[36m0:00:00\u001B[0m\r\n",
      "\u001B[?25hCollecting types-urllib3\r\n",
      "  Downloading types_urllib3-1.26.25.14-py3-none-any.whl (15 kB)\r\n",
      "Requirement already satisfied: mypy-extensions>=0.3.0 in /usr/local/lib/python3.10/dist-packages (from typing-inspect<1,>=0.4.0->dataclasses-json<0.6.0,>=0.5.7->langchain[docarray]) (1.0.0)\r\n",
      "Collecting mdurl~=0.1\r\n",
      "  Downloading mdurl-0.1.2-py3-none-any.whl (10.0 kB)\r\n",
      "Building wheels for collected packages: hnswlib\r\n",
      "  Building wheel for hnswlib (pyproject.toml) ... \u001B[?25ldone\r\n",
      "\u001B[?25h  Created wheel for hnswlib: filename=hnswlib-0.7.0-cp310-cp310-linux_x86_64.whl size=2195304 sha256=c5b82907d7f70335ac81835df55502828302fc3c12c04bdc2eee662cd51721b6\r\n",
      "  Stored in directory: /root/.cache/pip/wheels/8a/ae/ec/235a682e0041fbaeee389843670581ec6c66872db856dfa9a4\r\n",
      "Successfully built hnswlib\r\n",
      "Installing collected packages: types-urllib3, types-requests, orjson, mdurl, hnswlib, markdown-it-py, rich, docarray\r\n",
      "Successfully installed docarray-0.32.1 hnswlib-0.7.0 markdown-it-py-3.0.0 mdurl-0.1.2 orjson-3.9.4 rich-13.5.2 types-requests-2.31.0.2 types-urllib3-1.26.25.14\r\n",
      "\u001B[33mWARNING: Running pip as the 'root' user can result in broken permissions and conflicting behaviour with the system package manager. It is recommended to use a virtual environment instead: https://pip.pypa.io/warnings/venv\u001B[0m\u001B[33m\r\n",
      "\u001B[0m\r\n",
      "\u001B[1m[\u001B[0m\u001B[34;49mnotice\u001B[0m\u001B[1;39;49m]\u001B[0m\u001B[39;49m A new release of pip is available: \u001B[0m\u001B[31;49m23.0.1\u001B[0m\u001B[39;49m -> \u001B[0m\u001B[32;49m23.2.1\u001B[0m\r\n",
      "\u001B[1m[\u001B[0m\u001B[34;49mnotice\u001B[0m\u001B[1;39;49m]\u001B[0m\u001B[39;49m To update, run: \u001B[0m\u001B[32;49mpython3 -m pip install --upgrade pip\u001B[0m\r\n",
      "Collecting tiktoken\r\n",
      "  Downloading tiktoken-0.4.0-cp310-cp310-manylinux_2_17_x86_64.manylinux2014_x86_64.whl (1.7 MB)\r\n",
      "\u001B[2K     \u001B[90m━━━━━━━━━━━━━━━━━━━━━━━━━━━━━━━━━━━━━━━━\u001B[0m \u001B[32m1.7/1.7 MB\u001B[0m \u001B[31m19.1 MB/s\u001B[0m eta \u001B[36m0:00:00\u001B[0ma \u001B[36m0:00:01\u001B[0m\r\n",
      "\u001B[?25hRequirement already satisfied: regex>=2022.1.18 in /usr/local/lib/python3.10/dist-packages (from tiktoken) (2022.10.31)\r\n",
      "Requirement already satisfied: requests>=2.26.0 in /usr/local/lib/python3.10/dist-packages (from tiktoken) (2.28.2)\r\n",
      "Requirement already satisfied: charset-normalizer<4,>=2 in /usr/local/lib/python3.10/dist-packages (from requests>=2.26.0->tiktoken) (3.0.1)\r\n",
      "Requirement already satisfied: idna<4,>=2.5 in /usr/local/lib/python3.10/dist-packages (from requests>=2.26.0->tiktoken) (3.4)\r\n",
      "Requirement already satisfied: urllib3<1.27,>=1.21.1 in /usr/local/lib/python3.10/dist-packages (from requests>=2.26.0->tiktoken) (1.26.14)\r\n",
      "Requirement already satisfied: certifi>=2017.4.17 in /usr/local/lib/python3.10/dist-packages (from requests>=2.26.0->tiktoken) (2022.12.7)\r\n",
      "Installing collected packages: tiktoken\r\n",
      "Successfully installed tiktoken-0.4.0\r\n",
      "\u001B[33mWARNING: Running pip as the 'root' user can result in broken permissions and conflicting behaviour with the system package manager. It is recommended to use a virtual environment instead: https://pip.pypa.io/warnings/venv\u001B[0m\u001B[33m\r\n",
      "\u001B[0m\r\n",
      "\u001B[1m[\u001B[0m\u001B[34;49mnotice\u001B[0m\u001B[1;39;49m]\u001B[0m\u001B[39;49m A new release of pip is available: \u001B[0m\u001B[31;49m23.0.1\u001B[0m\u001B[39;49m -> \u001B[0m\u001B[32;49m23.2.1\u001B[0m\r\n",
      "\u001B[1m[\u001B[0m\u001B[34;49mnotice\u001B[0m\u001B[1;39;49m]\u001B[0m\u001B[39;49m To update, run: \u001B[0m\u001B[32;49mpython3 -m pip install --upgrade pip\u001B[0m\r\n",
      "Collecting pinecone-client\r\n",
      "  Downloading pinecone_client-2.2.2-py3-none-any.whl (179 kB)\r\n",
      "\u001B[2K     \u001B[90m━━━━━━━━━━━━━━━━━━━━━━━━━━━━━━━━━━━━━━━\u001B[0m \u001B[32m179.1/179.1 kB\u001B[0m \u001B[31m4.1 MB/s\u001B[0m eta \u001B[36m0:00:00\u001B[0ma \u001B[36m0:00:01\u001B[0m\r\n",
      "\u001B[?25hRequirement already satisfied: urllib3>=1.21.1 in /usr/local/lib/python3.10/dist-packages (from pinecone-client) (1.26.14)\r\n",
      "Collecting dnspython>=2.0.0\r\n",
      "  Downloading dnspython-2.4.1-py3-none-any.whl (300 kB)\r\n",
      "\u001B[2K     \u001B[90m━━━━━━━━━━━━━━━━━━━━━━━━━━━━━━━━━━━━━━\u001B[0m \u001B[32m300.3/300.3 kB\u001B[0m \u001B[31m19.7 MB/s\u001B[0m eta \u001B[36m0:00:00\u001B[0m\r\n",
      "\u001B[?25hRequirement already satisfied: typing-extensions>=3.7.4 in /usr/local/lib/python3.10/dist-packages (from pinecone-client) (4.5.0)\r\n",
      "Requirement already satisfied: tqdm>=4.64.1 in /usr/local/lib/python3.10/dist-packages (from pinecone-client) (4.64.1)\r\n",
      "Requirement already satisfied: python-dateutil>=2.5.3 in /usr/local/lib/python3.10/dist-packages (from pinecone-client) (2.8.2)\r\n",
      "Requirement already satisfied: numpy>=1.22.0 in /usr/local/lib/python3.10/dist-packages (from pinecone-client) (1.23.5)\r\n",
      "Collecting loguru>=0.5.0\r\n",
      "  Downloading loguru-0.7.0-py3-none-any.whl (59 kB)\r\n",
      "\u001B[2K     \u001B[90m━━━━━━━━━━━━━━━━━━━━━━━━━━━━━━━━━━━━━━━━\u001B[0m \u001B[32m60.0/60.0 kB\u001B[0m \u001B[31m14.3 MB/s\u001B[0m eta \u001B[36m0:00:00\u001B[0m\r\n",
      "\u001B[?25hRequirement already satisfied: pyyaml>=5.4 in /usr/local/lib/python3.10/dist-packages (from pinecone-client) (6.0)\r\n",
      "Requirement already satisfied: requests>=2.19.0 in /usr/local/lib/python3.10/dist-packages (from pinecone-client) (2.28.2)\r\n",
      "Requirement already satisfied: six>=1.5 in /usr/local/lib/python3.10/dist-packages (from python-dateutil>=2.5.3->pinecone-client) (1.16.0)\r\n",
      "Requirement already satisfied: certifi>=2017.4.17 in /usr/local/lib/python3.10/dist-packages (from requests>=2.19.0->pinecone-client) (2022.12.7)\r\n",
      "Requirement already satisfied: charset-normalizer<4,>=2 in /usr/local/lib/python3.10/dist-packages (from requests>=2.19.0->pinecone-client) (3.0.1)\r\n",
      "Requirement already satisfied: idna<4,>=2.5 in /usr/local/lib/python3.10/dist-packages (from requests>=2.19.0->pinecone-client) (3.4)\r\n",
      "Installing collected packages: loguru, dnspython, pinecone-client\r\n",
      "Successfully installed dnspython-2.4.1 loguru-0.7.0 pinecone-client-2.2.2\r\n",
      "\u001B[33mWARNING: Running pip as the 'root' user can result in broken permissions and conflicting behaviour with the system package manager. It is recommended to use a virtual environment instead: https://pip.pypa.io/warnings/venv\u001B[0m\u001B[33m\r\n",
      "\u001B[0m\r\n",
      "\u001B[1m[\u001B[0m\u001B[34;49mnotice\u001B[0m\u001B[1;39;49m]\u001B[0m\u001B[39;49m A new release of pip is available: \u001B[0m\u001B[31;49m23.0.1\u001B[0m\u001B[39;49m -> \u001B[0m\u001B[32;49m23.2.1\u001B[0m\r\n",
      "\u001B[1m[\u001B[0m\u001B[34;49mnotice\u001B[0m\u001B[1;39;49m]\u001B[0m\u001B[39;49m To update, run: \u001B[0m\u001B[32;49mpython3 -m pip install --upgrade pip\u001B[0m\r\n",
      "Collecting jq\r\n",
      "  Downloading jq-1.4.1-cp310-cp310-manylinux_2_17_x86_64.manylinux2014_x86_64.whl (589 kB)\r\n",
      "\u001B[2K     \u001B[90m━━━━━━━━━━━━━━━━━━━━━━━━━━━━━━━━━━━━━━━\u001B[0m \u001B[32m589.1/589.1 kB\u001B[0m \u001B[31m9.2 MB/s\u001B[0m eta \u001B[36m0:00:00\u001B[0ma \u001B[36m0:00:01\u001B[0m\r\n",
      "\u001B[?25hInstalling collected packages: jq\r\n",
      "Successfully installed jq-1.4.1\r\n",
      "\u001B[33mWARNING: Running pip as the 'root' user can result in broken permissions and conflicting behaviour with the system package manager. It is recommended to use a virtual environment instead: https://pip.pypa.io/warnings/venv\u001B[0m\u001B[33m\r\n",
      "\u001B[0m\r\n",
      "\u001B[1m[\u001B[0m\u001B[34;49mnotice\u001B[0m\u001B[1;39;49m]\u001B[0m\u001B[39;49m A new release of pip is available: \u001B[0m\u001B[31;49m23.0.1\u001B[0m\u001B[39;49m -> \u001B[0m\u001B[32;49m23.2.1\u001B[0m\r\n",
      "\u001B[1m[\u001B[0m\u001B[34;49mnotice\u001B[0m\u001B[1;39;49m]\u001B[0m\u001B[39;49m To update, run: \u001B[0m\u001B[32;49mpython3 -m pip install --upgrade pip\u001B[0m\r\n",
      "Collecting chromadb\r\n",
      "  Downloading chromadb-0.4.5-py3-none-any.whl (402 kB)\r\n",
      "\u001B[2K     \u001B[90m━━━━━━━━━━━━━━━━━━━━━━━━━━━━━━━━━━━━━━━\u001B[0m \u001B[32m402.8/402.8 kB\u001B[0m \u001B[31m8.7 MB/s\u001B[0m eta \u001B[36m0:00:00\u001B[0ma \u001B[36m0:00:01\u001B[0m\r\n",
      "\u001B[?25hCollecting tqdm>=4.65.0\r\n",
      "  Downloading tqdm-4.65.1-py3-none-any.whl (93 kB)\r\n",
      "\u001B[2K     \u001B[90m━━━━━━━━━━━━━━━━━━━━━━━━━━━━━━━━━━━━━━━━\u001B[0m \u001B[32m93.2/93.2 kB\u001B[0m \u001B[31m25.5 MB/s\u001B[0m eta \u001B[36m0:00:00\u001B[0m\r\n",
      "\u001B[?25hCollecting fastapi<0.100.0,>=0.95.2\r\n",
      "  Downloading fastapi-0.99.1-py3-none-any.whl (58 kB)\r\n",
      "\u001B[2K     \u001B[90m━━━━━━━━━━━━━━━━━━━━━━━━━━━━━━━━━━━━━━━━\u001B[0m \u001B[32m58.4/58.4 kB\u001B[0m \u001B[31m13.9 MB/s\u001B[0m eta \u001B[36m0:00:00\u001B[0m\r\n",
      "\u001B[?25hRequirement already satisfied: numpy>=1.21.6 in /usr/local/lib/python3.10/dist-packages (from chromadb) (1.23.5)\r\n",
      "Collecting uvicorn[standard]>=0.18.3\r\n",
      "  Downloading uvicorn-0.23.2-py3-none-any.whl (59 kB)\r\n",
      "\u001B[2K     \u001B[90m━━━━━━━━━━━━━━━━━━━━━━━━━━━━━━━━━━━━━━━━\u001B[0m \u001B[32m59.5/59.5 kB\u001B[0m \u001B[31m16.1 MB/s\u001B[0m eta \u001B[36m0:00:00\u001B[0m\r\n",
      "\u001B[?25hRequirement already satisfied: tokenizers>=0.13.2 in /usr/local/lib/python3.10/dist-packages (from chromadb) (0.13.2)\r\n",
      "Requirement already satisfied: typing-extensions>=4.5.0 in /usr/local/lib/python3.10/dist-packages (from chromadb) (4.5.0)\r\n",
      "Collecting overrides>=7.3.1\r\n",
      "  Downloading overrides-7.4.0-py3-none-any.whl (17 kB)\r\n",
      "Collecting chroma-hnswlib==0.7.2\r\n",
      "  Downloading chroma-hnswlib-0.7.2.tar.gz (31 kB)\r\n",
      "  Installing build dependencies ... \u001B[?25ldone\r\n",
      "\u001B[?25h  Getting requirements to build wheel ... \u001B[?25ldone\r\n",
      "\u001B[?25h  Preparing metadata (pyproject.toml) ... \u001B[?25ldone\r\n",
      "\u001B[?25hCollecting pulsar-client>=3.1.0\r\n",
      "  Downloading pulsar_client-3.2.0-cp310-cp310-manylinux_2_17_x86_64.manylinux2014_x86_64.whl (5.3 MB)\r\n",
      "\u001B[2K     \u001B[90m━━━━━━━━━━━━━━━━━━━━━━━━━━━━━━━━━━━━━━━━\u001B[0m \u001B[32m5.3/5.3 MB\u001B[0m \u001B[31m31.4 MB/s\u001B[0m eta \u001B[36m0:00:00\u001B[0m00:01\u001B[0m00:01\u001B[0m\r\n",
      "\u001B[?25hRequirement already satisfied: requests>=2.28 in /usr/local/lib/python3.10/dist-packages (from chromadb) (2.28.2)\r\n",
      "Collecting onnxruntime>=1.14.1\r\n",
      "  Downloading onnxruntime-1.15.1-cp310-cp310-manylinux_2_17_x86_64.manylinux2014_x86_64.whl (5.9 MB)\r\n",
      "\u001B[2K     \u001B[90m━━━━━━━━━━━━━━━━━━━━━━━━━━━━━━━━━━━━━━━━\u001B[0m \u001B[32m5.9/5.9 MB\u001B[0m \u001B[31m51.3 MB/s\u001B[0m eta \u001B[36m0:00:00\u001B[0m00:01\u001B[0m00:01\u001B[0m\r\n",
      "\u001B[?25hRequirement already satisfied: pydantic<2.0,>=1.9 in /usr/local/lib/python3.10/dist-packages (from chromadb) (1.10.5)\r\n",
      "Collecting pypika>=0.48.9\r\n",
      "  Downloading PyPika-0.48.9.tar.gz (67 kB)\r\n",
      "\u001B[2K     \u001B[90m━━━━━━━━━━━━━━━━━━━━━━━━━━━━━━━━━━━━━━━━\u001B[0m \u001B[32m67.3/67.3 kB\u001B[0m \u001B[31m18.2 MB/s\u001B[0m eta \u001B[36m0:00:00\u001B[0m\r\n",
      "\u001B[?25h  Installing build dependencies ... \u001B[?25ldone\r\n",
      "\u001B[?25h  Getting requirements to build wheel ... \u001B[?25ldone\r\n",
      "\u001B[?25h  Preparing metadata (pyproject.toml) ... \u001B[?25ldone\r\n",
      "\u001B[?25hRequirement already satisfied: importlib-resources in /usr/local/lib/python3.10/dist-packages (from chromadb) (5.12.0)\r\n",
      "Collecting posthog>=2.4.0\r\n",
      "  Downloading posthog-3.0.1-py2.py3-none-any.whl (37 kB)\r\n",
      "Collecting starlette<0.28.0,>=0.27.0\r\n",
      "  Downloading starlette-0.27.0-py3-none-any.whl (66 kB)\r\n",
      "\u001B[2K     \u001B[90m━━━━━━━━━━━━━━━━━━━━━━━━━━━━━━━━━━━━━━━━\u001B[0m \u001B[32m67.0/67.0 kB\u001B[0m \u001B[31m17.7 MB/s\u001B[0m eta \u001B[36m0:00:00\u001B[0m\r\n",
      "\u001B[?25hCollecting sympy\r\n",
      "  Downloading sympy-1.12-py3-none-any.whl (5.7 MB)\r\n",
      "\u001B[2K     \u001B[90m━━━━━━━━━━━━━━━━━━━━━━━━━━━━━━━━━━━━━━━━\u001B[0m \u001B[32m5.7/5.7 MB\u001B[0m \u001B[31m63.0 MB/s\u001B[0m eta \u001B[36m0:00:00\u001B[0m00:01\u001B[0m00:01\u001B[0m\r\n",
      "\u001B[?25hRequirement already satisfied: packaging in /usr/local/lib/python3.10/dist-packages (from onnxruntime>=1.14.1->chromadb) (23.0)\r\n",
      "Requirement already satisfied: flatbuffers in /usr/local/lib/python3.10/dist-packages (from onnxruntime>=1.14.1->chromadb) (23.1.21)\r\n",
      "Requirement already satisfied: protobuf in /usr/local/lib/python3.10/dist-packages (from onnxruntime>=1.14.1->chromadb) (3.19.6)\r\n",
      "Collecting coloredlogs\r\n",
      "  Downloading coloredlogs-15.0.1-py2.py3-none-any.whl (46 kB)\r\n",
      "\u001B[2K     \u001B[90m━━━━━━━━━━━━━━━━━━━━━━━━━━━━━━━━━━━━━━━━\u001B[0m \u001B[32m46.0/46.0 kB\u001B[0m \u001B[31m11.7 MB/s\u001B[0m eta \u001B[36m0:00:00\u001B[0m\r\n",
      "\u001B[?25hCollecting backoff>=1.10.0\r\n",
      "  Downloading backoff-2.2.1-py3-none-any.whl (15 kB)\r\n",
      "Requirement already satisfied: six>=1.5 in /usr/local/lib/python3.10/dist-packages (from posthog>=2.4.0->chromadb) (1.16.0)\r\n",
      "Collecting monotonic>=1.5\r\n",
      "  Downloading monotonic-1.6-py2.py3-none-any.whl (8.2 kB)\r\n",
      "Requirement already satisfied: python-dateutil>2.1 in /usr/local/lib/python3.10/dist-packages (from posthog>=2.4.0->chromadb) (2.8.2)\r\n",
      "Requirement already satisfied: certifi in /usr/local/lib/python3.10/dist-packages (from pulsar-client>=3.1.0->chromadb) (2022.12.7)\r\n",
      "Requirement already satisfied: idna<4,>=2.5 in /usr/local/lib/python3.10/dist-packages (from requests>=2.28->chromadb) (3.4)\r\n",
      "Requirement already satisfied: charset-normalizer<4,>=2 in /usr/local/lib/python3.10/dist-packages (from requests>=2.28->chromadb) (3.0.1)\r\n",
      "Requirement already satisfied: urllib3<1.27,>=1.21.1 in /usr/local/lib/python3.10/dist-packages (from requests>=2.28->chromadb) (1.26.14)\r\n",
      "Requirement already satisfied: click>=7.0 in /usr/local/lib/python3.10/dist-packages (from uvicorn[standard]>=0.18.3->chromadb) (8.1.3)\r\n",
      "Collecting h11>=0.8\r\n",
      "  Downloading h11-0.14.0-py3-none-any.whl (58 kB)\r\n",
      "\u001B[2K     \u001B[90m━━━━━━━━━━━━━━━━━━━━━━━━━━━━━━━━━━━━━━━━\u001B[0m \u001B[32m58.3/58.3 kB\u001B[0m \u001B[31m15.4 MB/s\u001B[0m eta \u001B[36m0:00:00\u001B[0m\r\n",
      "\u001B[?25hCollecting uvloop!=0.15.0,!=0.15.1,>=0.14.0\r\n",
      "  Downloading uvloop-0.17.0-cp310-cp310-manylinux_2_17_x86_64.manylinux2014_x86_64.whl (4.1 MB)\r\n",
      "\u001B[2K     \u001B[90m━━━━━━━━━━━━━━━━━━━━━━━━━━━━━━━━━━━━━━━━\u001B[0m \u001B[32m4.1/4.1 MB\u001B[0m \u001B[31m72.8 MB/s\u001B[0m eta \u001B[36m0:00:00\u001B[0mta \u001B[36m0:00:01\u001B[0m\r\n",
      "\u001B[?25hCollecting watchfiles>=0.13\r\n",
      "  Downloading watchfiles-0.19.0-cp37-abi3-manylinux_2_17_x86_64.manylinux2014_x86_64.whl (1.3 MB)\r\n",
      "\u001B[2K     \u001B[90m━━━━━━━━━━━━━━━━━━━━━━━━━━━━━━━━━━━━━━━━\u001B[0m \u001B[32m1.3/1.3 MB\u001B[0m \u001B[31m80.7 MB/s\u001B[0m eta \u001B[36m0:00:00\u001B[0m\r\n",
      "\u001B[?25hCollecting python-dotenv>=0.13\r\n",
      "  Downloading python_dotenv-1.0.0-py3-none-any.whl (19 kB)\r\n",
      "Requirement already satisfied: pyyaml>=5.1 in /usr/local/lib/python3.10/dist-packages (from uvicorn[standard]>=0.18.3->chromadb) (6.0)\r\n",
      "Collecting httptools>=0.5.0\r\n",
      "  Downloading httptools-0.6.0-cp310-cp310-manylinux_2_5_x86_64.manylinux1_x86_64.manylinux_2_17_x86_64.manylinux2014_x86_64.whl (428 kB)\r\n",
      "\u001B[2K     \u001B[90m━━━━━━━━━━━━━━━━━━━━━━━━━━━━━━━━━━━━━━\u001B[0m \u001B[32m428.8/428.8 kB\u001B[0m \u001B[31m69.2 MB/s\u001B[0m eta \u001B[36m0:00:00\u001B[0m\r\n",
      "\u001B[?25hCollecting websockets>=10.4\r\n",
      "  Downloading websockets-11.0.3-cp310-cp310-manylinux_2_5_x86_64.manylinux1_x86_64.manylinux_2_17_x86_64.manylinux2014_x86_64.whl (129 kB)\r\n",
      "\u001B[2K     \u001B[90m━━━━━━━━━━━━━━━━━━━━━━━━━━━━━━━━━━━━━━\u001B[0m \u001B[32m129.9/129.9 kB\u001B[0m \u001B[31m34.1 MB/s\u001B[0m eta \u001B[36m0:00:00\u001B[0m\r\n",
      "\u001B[?25hRequirement already satisfied: anyio<5,>=3.4.0 in /usr/local/lib/python3.10/dist-packages (from starlette<0.28.0,>=0.27.0->fastapi<0.100.0,>=0.95.2->chromadb) (3.6.2)\r\n",
      "Collecting humanfriendly>=9.1\r\n",
      "  Downloading humanfriendly-10.0-py2.py3-none-any.whl (86 kB)\r\n",
      "\u001B[2K     \u001B[90m━━━━━━━━━━━━━━━━━━━━━━━━━━━━━━━━━━━━━━━━\u001B[0m \u001B[32m86.8/86.8 kB\u001B[0m \u001B[31m23.9 MB/s\u001B[0m eta \u001B[36m0:00:00\u001B[0m\r\n",
      "\u001B[?25hCollecting mpmath>=0.19\r\n",
      "  Downloading mpmath-1.3.0-py3-none-any.whl (536 kB)\r\n",
      "\u001B[2K     \u001B[90m━━━━━━━━━━━━━━━━━━━━━━━━━━━━━━━━━━━━━━\u001B[0m \u001B[32m536.2/536.2 kB\u001B[0m \u001B[31m64.8 MB/s\u001B[0m eta \u001B[36m0:00:00\u001B[0m\r\n",
      "\u001B[?25hRequirement already satisfied: sniffio>=1.1 in /usr/local/lib/python3.10/dist-packages (from anyio<5,>=3.4.0->starlette<0.28.0,>=0.27.0->fastapi<0.100.0,>=0.95.2->chromadb) (1.3.0)\r\n",
      "Building wheels for collected packages: chroma-hnswlib, pypika\r\n",
      "  Building wheel for chroma-hnswlib (pyproject.toml) ... \u001B[?25ldone\r\n",
      "\u001B[?25h  Created wheel for chroma-hnswlib: filename=chroma_hnswlib-0.7.2-cp310-cp310-linux_x86_64.whl size=2277725 sha256=2bcb87c4b6814ddd106c9e2b3563642d0f9e7dd00dc3fe724f1fa0f785ffc67d\r\n",
      "  Stored in directory: /root/.cache/pip/wheels/11/2b/0d/ee457f6782f75315bb5828d5c2dc5639d471afbd44a830b9dc\r\n",
      "  Building wheel for pypika (pyproject.toml) ... \u001B[?25ldone\r\n",
      "\u001B[?25h  Created wheel for pypika: filename=PyPika-0.48.9-py2.py3-none-any.whl size=53723 sha256=27f005abf0d66267f37437c76ea7f936c9f3cd14bdcffdd97b2a788f52b4faaa\r\n",
      "  Stored in directory: /root/.cache/pip/wheels/e1/26/51/d0bffb3d2fd82256676d7ad3003faea3bd6dddc9577af665f4\r\n",
      "Successfully built chroma-hnswlib pypika\r\n",
      "Installing collected packages: pypika, mpmath, monotonic, websockets, uvloop, tqdm, sympy, python-dotenv, pulsar-client, overrides, humanfriendly, httptools, h11, chroma-hnswlib, backoff, watchfiles, uvicorn, starlette, posthog, coloredlogs, onnxruntime, fastapi, chromadb\r\n",
      "  Attempting uninstall: tqdm\r\n",
      "    Found existing installation: tqdm 4.64.1\r\n",
      "    Uninstalling tqdm-4.64.1:\r\n",
      "      Successfully uninstalled tqdm-4.64.1\r\n",
      "Successfully installed backoff-2.2.1 chroma-hnswlib-0.7.2 chromadb-0.4.5 coloredlogs-15.0.1 fastapi-0.99.1 h11-0.14.0 httptools-0.6.0 humanfriendly-10.0 monotonic-1.6 mpmath-1.3.0 onnxruntime-1.15.1 overrides-7.4.0 posthog-3.0.1 pulsar-client-3.2.0 pypika-0.48.9 python-dotenv-1.0.0 starlette-0.27.0 sympy-1.12 tqdm-4.65.1 uvicorn-0.23.2 uvloop-0.17.0 watchfiles-0.19.0 websockets-11.0.3\r\n",
      "\u001B[33mWARNING: Running pip as the 'root' user can result in broken permissions and conflicting behaviour with the system package manager. It is recommended to use a virtual environment instead: https://pip.pypa.io/warnings/venv\u001B[0m\u001B[33m\r\n",
      "\u001B[0m\r\n",
      "\u001B[1m[\u001B[0m\u001B[34;49mnotice\u001B[0m\u001B[1;39;49m]\u001B[0m\u001B[39;49m A new release of pip is available: \u001B[0m\u001B[31;49m23.0.1\u001B[0m\u001B[39;49m -> \u001B[0m\u001B[32;49m23.2.1\u001B[0m\r\n",
      "\u001B[1m[\u001B[0m\u001B[34;49mnotice\u001B[0m\u001B[1;39;49m]\u001B[0m\u001B[39;49m To update, run: \u001B[0m\u001B[32;49mpython3 -m pip install --upgrade pip\u001B[0m\r\n"
     ]
    }
   ],
   "source": [
    "# ! pip install python-dotenv\n",
    "! pip install langchain\n",
    "! pip install langchain[docarray]\n",
    "! pip install tiktoken\n",
    "! pip install pinecone-client\n",
    "! pip install jq\n",
    "! pip install chromadb\n",
    "! pip install openai[embeddings]"
   ],
   "metadata": {
    "collapsed": false,
    "ExecuteTime": {
     "end_time": "2023-08-08T18:05:49.076506Z",
     "start_time": "2023-08-08T18:04:45.677232Z"
    }
   }
  },
  {
   "cell_type": "code",
   "execution_count": 13,
   "outputs": [],
   "source": [
    "import os\n",
    "\n",
    "import pandas as pd\n",
    "\n",
    "from langchain.agents.agent_toolkits.pandas.base import create_pandas_dataframe_agent\n",
    "from langchain.chat_models import ChatOpenAI\n",
    "from langchain.prompts import ChatPromptTemplate"
   ],
   "metadata": {
    "collapsed": false,
    "ExecuteTime": {
     "end_time": "2023-08-11T15:53:42.056479Z",
     "start_time": "2023-08-11T15:53:42.052590Z"
    }
   }
  },
  {
   "cell_type": "code",
   "execution_count": 5,
   "outputs": [
    {
     "name": "stdout",
     "output_type": "stream",
     "text": [
      "Path [/var/genie-in-the-box/src/lib] already in sys.path\n"
     ]
    }
   ],
   "source": [
    "path = \"/var/genie-in-the-box/src/lib\"\n",
    "sys.path.append( path )\n",
    "import util as du\n",
    "du.add_to_path( path )\n",
    "# sys.path"
   ],
   "metadata": {
    "collapsed": false,
    "ExecuteTime": {
     "end_time": "2023-08-11T15:47:52.330284Z",
     "start_time": "2023-08-11T15:47:52.325816Z"
    }
   }
  },
  {
   "cell_type": "code",
   "execution_count": 1,
   "outputs": [
    {
     "ename": "NameError",
     "evalue": "name 'du' is not defined",
     "output_type": "error",
     "traceback": [
      "\u001B[0;31m---------------------------------------------------------------------------\u001B[0m",
      "\u001B[0;31mNameError\u001B[0m                                 Traceback (most recent call last)",
      "Cell \u001B[0;32mIn[1], line 2\u001B[0m\n\u001B[1;32m      1\u001B[0m \u001B[38;5;66;03m# import util as du\u001B[39;00m\n\u001B[0;32m----> 2\u001B[0m \u001B[43mdu\u001B[49m\u001B[38;5;241m.\u001B[39mprint_banner( \u001B[38;5;124m\"\u001B[39m\u001B[38;5;124mfoo?\u001B[39m\u001B[38;5;124m\"\u001B[39m )\n",
      "\u001B[0;31mNameError\u001B[0m: name 'du' is not defined"
     ]
    }
   ],
   "source": [
    "# import util as du\n",
    "du.print_banner( \"foo?\" )"
   ],
   "metadata": {
    "collapsed": false,
    "ExecuteTime": {
     "end_time": "2023-08-16T00:07:04.320134Z",
     "start_time": "2023-08-16T00:07:04.169153Z"
    }
   }
  },
  {
   "cell_type": "code",
   "execution_count": 14,
   "outputs": [
    {
     "name": "stdout",
     "output_type": "stream",
     "text": [
      "<class 'pandas.core.frame.DataFrame'>\n",
      "RangeIndex: 200 entries, 0 to 199\n",
      "Data columns (total 11 columns):\n",
      " #   Column                      Non-Null Count  Dtype \n",
      "---  ------                      --------------  ----- \n",
      " 0   start_date                  200 non-null    object\n",
      " 1   end_date                    200 non-null    object\n",
      " 2   start_time                  200 non-null    object\n",
      " 3   end_time                    200 non-null    object\n",
      " 4   event_type                  200 non-null    object\n",
      " 5   recurrent                   200 non-null    bool  \n",
      " 6   recurrence_interval         47 non-null     object\n",
      " 7   priority_level              200 non-null    object\n",
      " 8   name                        200 non-null    object\n",
      " 9   relationship                200 non-null    object\n",
      " 10  description_who_what_where  200 non-null    object\n",
      "dtypes: bool(1), object(10)\n",
      "memory usage: 15.9+ KB\n"
     ]
    }
   ],
   "source": [
    "# Load CSV data From file into the Pandas DataFrame.\n",
    "df = pd.read_csv( du.get_project_root() + \"/src/conf/long-term-memory/events.csv\" )\n",
    "df.info()"
   ],
   "metadata": {
    "collapsed": false,
    "ExecuteTime": {
     "end_time": "2023-08-11T15:53:51.167822Z",
     "start_time": "2023-08-11T15:53:50.955142Z"
    }
   }
  },
  {
   "cell_type": "code",
   "execution_count": 15,
   "outputs": [
    {
     "data": {
      "text/plain": "   start_date    end_date start_time end_time   event_type  recurrent  \\\n0  2023-07-01  2023-07-04      00:00    23:59      Concert      False   \n1  2023-07-01  2023-07-01      05:25    17:22         TODO      False   \n2  2023-07-01  2023-07-01      13:27    01:59  Appointment      False   \n3  2023-07-02  2023-07-03      13:18    02:40    Interview      False   \n4  2023-07-03  2023-07-04      00:00    23:59  Performance      False   \n\n  recurrence_interval priority_level        name relationship  \\\n0                 NaN           none       Jenny     coworker   \n1                 NaN        highest    Gregorio       friend   \n2                 NaN           high  Leroy Ruiz       father   \n3                 NaN        highest        John     coworker   \n4                 NaN         medium         Sue       sister   \n\n                          description_who_what_where  \n0                Concert of Jenny at the city center  \n1  Send out invitations for the party for Gregori...  \n2          Appointment with Leroy Ruiz at the clinic  \n3                  Job interview with John at Google  \n4                       Theatre performance with Sue  ",
      "text/html": "<div>\n<style scoped>\n    .dataframe tbody tr th:only-of-type {\n        vertical-align: middle;\n    }\n\n    .dataframe tbody tr th {\n        vertical-align: top;\n    }\n\n    .dataframe thead th {\n        text-align: right;\n    }\n</style>\n<table border=\"1\" class=\"dataframe\">\n  <thead>\n    <tr style=\"text-align: right;\">\n      <th></th>\n      <th>start_date</th>\n      <th>end_date</th>\n      <th>start_time</th>\n      <th>end_time</th>\n      <th>event_type</th>\n      <th>recurrent</th>\n      <th>recurrence_interval</th>\n      <th>priority_level</th>\n      <th>name</th>\n      <th>relationship</th>\n      <th>description_who_what_where</th>\n    </tr>\n  </thead>\n  <tbody>\n    <tr>\n      <th>0</th>\n      <td>2023-07-01</td>\n      <td>2023-07-04</td>\n      <td>00:00</td>\n      <td>23:59</td>\n      <td>Concert</td>\n      <td>False</td>\n      <td>NaN</td>\n      <td>none</td>\n      <td>Jenny</td>\n      <td>coworker</td>\n      <td>Concert of Jenny at the city center</td>\n    </tr>\n    <tr>\n      <th>1</th>\n      <td>2023-07-01</td>\n      <td>2023-07-01</td>\n      <td>05:25</td>\n      <td>17:22</td>\n      <td>TODO</td>\n      <td>False</td>\n      <td>NaN</td>\n      <td>highest</td>\n      <td>Gregorio</td>\n      <td>friend</td>\n      <td>Send out invitations for the party for Gregori...</td>\n    </tr>\n    <tr>\n      <th>2</th>\n      <td>2023-07-01</td>\n      <td>2023-07-01</td>\n      <td>13:27</td>\n      <td>01:59</td>\n      <td>Appointment</td>\n      <td>False</td>\n      <td>NaN</td>\n      <td>high</td>\n      <td>Leroy Ruiz</td>\n      <td>father</td>\n      <td>Appointment with Leroy Ruiz at the clinic</td>\n    </tr>\n    <tr>\n      <th>3</th>\n      <td>2023-07-02</td>\n      <td>2023-07-03</td>\n      <td>13:18</td>\n      <td>02:40</td>\n      <td>Interview</td>\n      <td>False</td>\n      <td>NaN</td>\n      <td>highest</td>\n      <td>John</td>\n      <td>coworker</td>\n      <td>Job interview with John at Google</td>\n    </tr>\n    <tr>\n      <th>4</th>\n      <td>2023-07-03</td>\n      <td>2023-07-04</td>\n      <td>00:00</td>\n      <td>23:59</td>\n      <td>Performance</td>\n      <td>False</td>\n      <td>NaN</td>\n      <td>medium</td>\n      <td>Sue</td>\n      <td>sister</td>\n      <td>Theatre performance with Sue</td>\n    </tr>\n  </tbody>\n</table>\n</div>"
     },
     "execution_count": 15,
     "metadata": {},
     "output_type": "execute_result"
    }
   ],
   "source": [
    "df.head()"
   ],
   "metadata": {
    "collapsed": false,
    "ExecuteTime": {
     "end_time": "2023-08-11T15:54:03.117585Z",
     "start_time": "2023-08-11T15:54:03.105656Z"
    }
   }
  },
  {
   "cell_type": "markdown",
   "source": [
    "### Count events by type"
   ],
   "metadata": {
    "collapsed": false
   }
  },
  {
   "cell_type": "code",
   "execution_count": 16,
   "outputs": [
    {
     "name": "stdout",
     "output_type": "stream",
     "text": [
      "Counting [Birthday] events...\n",
      "\n",
      "\n",
      "Done! Total 16 Birthday events\n"
     ]
    }
   ],
   "source": [
    "def get_event_count( df, event ):\n",
    "\n",
    "    print( \"Counting [{}] events...\".format( event ), end=\"\\n\\n\" )\n",
    "\n",
    "    count = df[ df.event_type == event ].shape[ 0 ]\n",
    "\n",
    "    print()\n",
    "    print( \"Done! Total {} {} events\".format( count, event ) )\n",
    "\n",
    "get_event_count( df, \"Birthday\" )"
   ],
   "metadata": {
    "collapsed": false,
    "ExecuteTime": {
     "end_time": "2023-08-11T15:54:30.283235Z",
     "start_time": "2023-08-11T15:54:30.279154Z"
    }
   }
  },
  {
   "cell_type": "code",
   "execution_count": 28,
   "outputs": [
    {
     "name": "stdout",
     "output_type": "stream",
     "text": [
      "[HumanMessage(content=\"\\nYou are an event planner with proven capacity for querying pandas dataframes.\\nThe dataframe that I am providing you for inspection contains two important fields:\\n1) event_type: tells us what kind of event is taking place, such as birthday, conference, meetings, etc.\\n2) description_who_what_where: tells us who, what and/or where the event is about, as in 'my friend's birthday at their favorite bar', the name of a conference, or what a meeting is about, e.g.: 'yet another boring meeting with the boss'.\\nI expect you to query the dataframe provided and answer in plain English unless specifically requested to do otherwise.\\nI expect you to remember query techniques and solutions that work, so that you do not have to begin from zero.\\nWhen you recognize a new query as similar to a previous query, say so\\nNEVER display raw dataframe content, unless specifically requested to do otherwise.\\nAll dates and temporal references like 'today', 'yesterday', 'next week' should all be calculated by using Python's datetime library.\\nWhen I ask you about events contained in this dataframe, you will always sort the events in ascending order, 1 per line, unless specifically requested to do otherwise.\\nWhen summarizing your results you will include the event type, start time, date (e.g.: today, tomorrow, Wednesday the 10th, etc.), and what the event is about, using conversational English, unless specifically requested to do otherwise.\\nDO NOT prepend numbers to a list of events, unless specifically requested to do otherwise.\\nIf the question, delimited by three hash symbols ###, is vague or difficult to answer, please ask for clarification.\\nGiven that, answer the following question: ###How many records are in this dataset?###\\n\", additional_kwargs={}, example=False)]\n",
      "\n"
     ]
    }
   ],
   "source": [
    "template_string = \"\"\"\n",
    "You are an event planner with proven capacity for querying pandas dataframes.\n",
    "The dataframe that I am providing you for inspection contains two important fields:\n",
    "1) event_type: tells us what kind of event is taking place, such as birthday, conference, meetings, etc.\n",
    "2) description_who_what_where: tells us who, what and/or where the event is about, as in 'my friend's birthday at their favorite bar', the name of a conference, or what a meeting is about, e.g.: 'yet another boring meeting with the boss'.\n",
    "I expect you to query the dataframe provided and answer in plain English unless specifically requested to do otherwise.\n",
    "I expect you to remember query techniques and solutions that work, so that you do not have to begin from zero.\n",
    "When you recognize a new query as similar to a previous query, say so\n",
    "NEVER display raw dataframe content, unless specifically requested to do otherwise.\n",
    "All dates and temporal references like 'today', 'yesterday', 'next week' should all be calculated by using Python's datetime library.\n",
    "When I ask you about events contained in this dataframe, you will always sort the events in ascending order, 1 per line, unless specifically requested to do otherwise.\n",
    "When summarizing your results you will include the event type, start time, date (e.g.: today, tomorrow, Wednesday the 10th, etc.), and what the event is about, using conversational English, unless specifically requested to do otherwise.\n",
    "DO NOT prepend numbers to a list of events, unless specifically requested to do otherwise.\n",
    "If the question, delimited by three hash symbols ###, is vague or difficult to answer, please ask for clarification.\n",
    "Given that, answer the following question: ###{question}###\n",
    "\"\"\"\n",
    "\n",
    "event_prompt_template = ChatPromptTemplate.from_template( template_string )\n",
    "# print( prompt_template, end=\"\\n\\n\" )\n",
    "\n",
    "event_prompt = event_prompt_template.format_messages( question=\"How many records are in this dataset?\" )\n",
    "print( event_prompt, end=\"\\n\\n\" )\n",
    "\n",
    "# response_autoencoder = llm( prompt_autoencoder )\n",
    "# print( response_autoencoder.content, end=\"\\n\\n\" )"
   ],
   "metadata": {
    "collapsed": false,
    "ExecuteTime": {
     "end_time": "2023-08-11T16:27:49.968517Z",
     "start_time": "2023-08-11T16:27:49.965840Z"
    }
   }
  },
  {
   "cell_type": "code",
   "execution_count": 29,
   "outputs": [],
   "source": [
    "llm      = ChatOpenAI( model_name=\"gpt-4-0613\", temperature=0.0 )\n",
    "df_agent = create_pandas_dataframe_agent( llm, df, verbose=True )"
   ],
   "metadata": {
    "collapsed": false,
    "ExecuteTime": {
     "end_time": "2023-08-11T16:27:55.085273Z",
     "start_time": "2023-08-11T16:27:55.083533Z"
    }
   }
  },
  {
   "cell_type": "code",
   "execution_count": 1,
   "outputs": [],
   "source": [
    "import time\n",
    "\n",
    "class Stopwatch:\n",
    "\n",
    "    def __enter__( self ):\n",
    "\n",
    "        self.start = time.time()\n",
    "\n",
    "        return self\n",
    "\n",
    "    def __exit__( self, *args ):\n",
    "\n",
    "        self.end      = time.time()\n",
    "        self.interval = int( ( self.end - self.start ) * 1000 )\n",
    "\n",
    "        print( f'Elapsed time: {self.interval} milliseconds' )\n",
    "\n"
   ],
   "metadata": {
    "collapsed": false,
    "ExecuteTime": {
     "end_time": "2023-08-16T20:36:12.402351Z",
     "start_time": "2023-08-16T20:36:12.398875Z"
    }
   }
  },
  {
   "cell_type": "code",
   "execution_count": 54,
   "outputs": [],
   "source": [
    "def print_events( response ):\n",
    "\n",
    "    events = response.split( \"\\n\" )#[ 1: ]\n",
    "\n",
    "    for event in events: print( \"[{}]\".format( event ) )"
   ],
   "metadata": {
    "collapsed": false,
    "ExecuteTime": {
     "end_time": "2023-08-11T17:03:35.394492Z",
     "start_time": "2023-08-11T17:03:35.388545Z"
    }
   }
  },
  {
   "cell_type": "code",
   "execution_count": 55,
   "outputs": [
    {
     "name": "stdout",
     "output_type": "stream",
     "text": [
      "\n",
      "\n",
      "\u001B[1m> Entering new AgentExecutor chain...\u001B[0m\n",
      "\u001B[32;1m\u001B[1;3mThought: The question is asking for the current date, the date of yesterday, and the date of tomorrow. I can use Python's datetime library to get these dates.\n",
      "Action: python_repl_ast\n",
      "Action Input: \n",
      "```python\n",
      "from datetime import datetime, timedelta\n",
      "\n",
      "# Get today's date\n",
      "today = datetime.now()\n",
      "\n",
      "# Get yesterday's date\n",
      "yesterday = today - timedelta(days=1)\n",
      "\n",
      "# Get tomorrow's date\n",
      "tomorrow = today + timedelta(days=1)\n",
      "\n",
      "today, yesterday, tomorrow\n",
      "```\n",
      "\u001B[0m\n",
      "Observation: \u001B[36;1m\u001B[1;3m(datetime.datetime(2023, 8, 11, 17, 4, 31, 178022), datetime.datetime(2023, 8, 10, 17, 4, 31, 178022), datetime.datetime(2023, 8, 12, 17, 4, 31, 178022))\u001B[0m\n",
      "Thought:\u001B[32;1m\u001B[1;3mI now know the dates for today, yesterday, and tomorrow.\n",
      "Final Answer: Today is August 11, 2023. Yesterday was August 10, 2023. Tomorrow will be August 12, 2023.\u001B[0m\n",
      "\n",
      "\u001B[1m> Finished chain.\u001B[0m\n",
      "Elapsed time: 16195 milliseconds\n"
     ]
    },
    {
     "data": {
      "text/plain": "'Today is August 11, 2023. Yesterday was August 10, 2023. Tomorrow will be August 12, 2023.'"
     },
     "execution_count": 55,
     "metadata": {},
     "output_type": "execute_result"
    }
   ],
   "source": [
    "# Create function to take a question and call the data frame agent.\n",
    "def query_dataframe( question ):\n",
    "\n",
    "    with Stopwatch() as t:\n",
    "\n",
    "        event_prompt = event_prompt_template.format_messages( question=question )\n",
    "        response = df_agent.run( event_prompt )\n",
    "\n",
    "    return response\n",
    "\n",
    "response = query_dataframe( \"What day is today? What day was yesterday? What day is tomorrow?\" )\n",
    "response"
   ],
   "metadata": {
    "collapsed": false,
    "ExecuteTime": {
     "end_time": "2023-08-11T17:04:35.105406Z",
     "start_time": "2023-08-11T17:04:18.892885Z"
    }
   }
  },
  {
   "cell_type": "code",
   "execution_count": 21,
   "outputs": [
    {
     "name": "stdout",
     "output_type": "stream",
     "text": [
      "\n",
      "\n",
      "\u001B[1m> Entering new AgentExecutor chain...\u001B[0m\n",
      "\u001B[32;1m\u001B[1;3mThought: The question is asking for the total number of records in the dataframe. This can be achieved by using the `shape` attribute of the dataframe, which returns a tuple where the first element is the number of rows (records) and the second element is the number of columns.\n",
      "Action: python_repl_ast\n",
      "Action Input: df.shape[0]\u001B[0m\n",
      "Observation: \u001B[36;1m\u001B[1;3m200\u001B[0m\n",
      "Thought:\u001B[32;1m\u001B[1;3mI now know the final answer\n",
      "Final Answer: There are 200 records in this dataset.\u001B[0m\n",
      "\n",
      "\u001B[1m> Finished chain.\u001B[0m\n"
     ]
    },
    {
     "data": {
      "text/plain": "'There are 200 records in this dataset.'"
     },
     "execution_count": 21,
     "metadata": {},
     "output_type": "execute_result"
    }
   ],
   "source": [
    "response = query_dataframe( \"How many records are in this dataset?\" )\n",
    "response"
   ],
   "metadata": {
    "collapsed": false,
    "ExecuteTime": {
     "end_time": "2023-08-11T16:20:42.189933Z",
     "start_time": "2023-08-11T16:20:32.579850Z"
    }
   }
  },
  {
   "cell_type": "code",
   "execution_count": 22,
   "outputs": [
    {
     "name": "stdout",
     "output_type": "stream",
     "text": [
      "\n",
      "\n",
      "\u001B[1m> Entering new AgentExecutor chain...\u001B[0m\n",
      "\u001B[32;1m\u001B[1;3mThought: To find out how many different types of events are in the dataframe, I need to look at the unique values in the 'event_type' column.\n",
      "Action: python_repl_ast\n",
      "Action Input: df['event_type'].nunique()\u001B[0m\n",
      "Observation: \u001B[36;1m\u001B[1;3m12\u001B[0m\n",
      "Thought:\u001B[32;1m\u001B[1;3mI now know the final answer\n",
      "Final Answer: There are 12 different types of events.\u001B[0m\n",
      "\n",
      "\u001B[1m> Finished chain.\u001B[0m\n"
     ]
    },
    {
     "data": {
      "text/plain": "'There are 12 different types of events.'"
     },
     "execution_count": 22,
     "metadata": {},
     "output_type": "execute_result"
    }
   ],
   "source": [
    "response = query_dataframe( \"How many different types of events do I have?\" )\n",
    "response"
   ],
   "metadata": {
    "collapsed": false,
    "ExecuteTime": {
     "end_time": "2023-08-11T16:20:57.117388Z",
     "start_time": "2023-08-11T16:20:49.514475Z"
    }
   }
  },
  {
   "cell_type": "code",
   "execution_count": 23,
   "outputs": [
    {
     "name": "stdout",
     "output_type": "stream",
     "text": [
      "\n",
      "\n",
      "\u001B[1m> Entering new AgentExecutor chain...\u001B[0m\n",
      "\u001B[32;1m\u001B[1;3mThought: I need to count the number of rows in the dataframe where the event_type is 'TODO'.\n",
      "Action: python_repl_ast\n",
      "Action Input: df[df['event_type'] == 'TODO'].shape[0]\u001B[0m\n",
      "Observation: \u001B[36;1m\u001B[1;3m14\u001B[0m\n",
      "Thought:\u001B[32;1m\u001B[1;3mI now know the final answer\n",
      "Final Answer: You have 14 TODO events.\u001B[0m\n",
      "\n",
      "\u001B[1m> Finished chain.\u001B[0m\n"
     ]
    },
    {
     "data": {
      "text/plain": "'You have 14 TODO events.'"
     },
     "execution_count": 23,
     "metadata": {},
     "output_type": "execute_result"
    }
   ],
   "source": [
    "response = query_dataframe( \"How many TODO events do I have?\" )\n",
    "response"
   ],
   "metadata": {
    "collapsed": false,
    "ExecuteTime": {
     "end_time": "2023-08-11T16:21:12.903826Z",
     "start_time": "2023-08-11T16:21:03.996844Z"
    }
   }
  },
  {
   "cell_type": "code",
   "execution_count": 24,
   "outputs": [
    {
     "name": "stdout",
     "output_type": "stream",
     "text": [
      "Counting [TODO] events...\n",
      "\n",
      "\n",
      "Done! Total 14 TODO events\n"
     ]
    }
   ],
   "source": [
    "get_event_count( df, \"TODO\" )"
   ],
   "metadata": {
    "collapsed": false,
    "ExecuteTime": {
     "end_time": "2023-08-11T16:21:12.912366Z",
     "start_time": "2023-08-11T16:21:12.909666Z"
    }
   }
  },
  {
   "cell_type": "code",
   "execution_count": 20,
   "outputs": [
    {
     "name": "stdout",
     "output_type": "stream",
     "text": [
      "\n",
      "\n",
      "\u001B[1m> Entering new AgentExecutor chain...\u001B[0m\n",
      "\u001B[32;1m\u001B[1;3mThought: To answer this question, I need to filter the dataframe to only include events that occur in August and have 'birthday' in their description. Then, I can count the number of these events.\n",
      "Action: python_repl_ast\n",
      "Action Input: df[(df['start_date'].str.contains('-08-')) & (df['description'].str.contains('birthday'))].shape[0]\u001B[0m\n",
      "Observation: \u001B[36;1m\u001B[1;3mAttributeError: Can only use .str accessor with string values!\u001B[0m\n",
      "Thought:\u001B[32;1m\u001B[1;3mThe error suggests that the 'start_date' column is not of string type. I need to convert it to string before applying the str.contains() function.\n",
      "Action: python_repl_ast\n",
      "Action Input: df['start_date'] = df['start_date'].astype(str)\n",
      "df[(df['start_date'].str.contains('-08-')) & (df['description'].str.contains('birthday'))].shape[0]\u001B[0m\n",
      "Observation: \u001B[36;1m\u001B[1;3m11\u001B[0m\n",
      "Thought:\u001B[32;1m\u001B[1;3mI now know the final answer\n",
      "Final Answer: There are 11 birthday events in August.\u001B[0m\n",
      "\n",
      "\u001B[1m> Finished chain.\u001B[0m\n"
     ]
    },
    {
     "data": {
      "text/plain": "'There are 11 birthday events in August.'"
     },
     "execution_count": 20,
     "metadata": {},
     "output_type": "execute_result"
    }
   ],
   "source": [
    "response = query_dataframe( \"Count and display my birthday events in August\" )\n",
    "response"
   ],
   "metadata": {
    "collapsed": false,
    "ExecuteTime": {
     "end_time": "2023-08-10T18:13:03.772385Z",
     "start_time": "2023-08-10T18:12:36.354023Z"
    }
   }
  },
  {
   "cell_type": "code",
   "execution_count": 25,
   "outputs": [
    {
     "name": "stdout",
     "output_type": "stream",
     "text": [
      "\n",
      "\n",
      "\u001B[1m> Entering new AgentExecutor chain...\u001B[0m\n",
      "\u001B[32;1m\u001B[1;3mThought: To find out who has a birthday in August, I need to filter the dataframe where the event_type is 'Birthday' and the start_date or end_date is in August. However, I don't see any 'Birthday' event in the given dataframe. I will first check if there are any 'Birthday' events in the dataframe.\n",
      "Action: python_repl_ast\n",
      "Action Input: df['event_type'].unique()\u001B[0m\n",
      "Observation: \u001B[36;1m\u001B[1;3m['Concert' 'TODO' 'Appointment' 'Interview' 'Performance' 'Subscription'\n",
      " 'Anniversary' 'Birthday' 'Workout' 'Workshop' 'Conference' 'Meeting']\u001B[0m\n",
      "Thought:\u001B[32;1m\u001B[1;3mThere are 'Birthday' events in the dataframe. Now I will filter the dataframe for 'Birthday' events and check if any of them are in August.\n",
      "Action: python_repl_ast\n",
      "Action Input: df_birthday = df[df['event_type'] == 'Birthday']\n",
      "df_birthday['start_date'] = pd.to_datetime(df_birthday['start_date'])\n",
      "df_birthday_august = df_birthday[df_birthday['start_date'].dt.month == 8]\n",
      "df_birthday_august['description_who_what_where']\u001B[0m\n",
      "Observation: \u001B[36;1m\u001B[1;3mNameError: name 'pd' is not defined\u001B[0m\n",
      "Thought:\u001B[32;1m\u001B[1;3mI forgot to import the pandas library. I will import it and then run the previous command again.\n",
      "Action: python_repl_ast\n",
      "Action Input: import pandas as pd\n",
      "df_birthday = df[df['event_type'] == 'Birthday']\n",
      "df_birthday['start_date'] = pd.to_datetime(df_birthday['start_date'])\n",
      "df_birthday_august = df_birthday[df_birthday['start_date'].dt.month == 8]\n",
      "df_birthday_august['description_who_what_where']\u001B[0m\n",
      "Observation: \u001B[36;1m\u001B[1;3m101    Barbara Jane Ruiz's birthday party at their fa...\n",
      "103    Leroy Ruiz's birthday party at their favorite bar\n",
      "110    Barbara Jane Ruiz's birthday party at their fa...\n",
      "120         Alice's birthday party at their favorite bar\n",
      "125           Sue's birthday party at their favorite bar\n",
      "126    Leroy Ruiz's birthday party at their favorite bar\n",
      "134          Juan's birthday party at their favorite bar\n",
      "147      Gregorio's birthday party at their favorite bar\n",
      "167      Gregorio's birthday party at their favorite bar\n",
      "184          Juan's birthday party at their favorite bar\n",
      "185      Gregorio's birthday party at their favorite bar\n",
      "Name: description_who_what_where, dtype: object\u001B[0m\n",
      "Thought:"
     ]
    },
    {
     "name": "stderr",
     "output_type": "stream",
     "text": [
      "<string>:3: SettingWithCopyWarning: \n",
      "A value is trying to be set on a copy of a slice from a DataFrame.\n",
      "Try using .loc[row_indexer,col_indexer] = value instead\n",
      "\n",
      "See the caveats in the documentation: https://pandas.pydata.org/pandas-docs/stable/user_guide/indexing.html#returning-a-view-versus-a-copy\n"
     ]
    },
    {
     "name": "stdout",
     "output_type": "stream",
     "text": [
      "\u001B[32;1m\u001B[1;3mI now have a list of people who have a birthday in August. The list includes Barbara Jane Ruiz, Leroy Ruiz, Alice, Sue, Juan, and Gregorio. \n",
      "Final Answer: The people who have a birthday in August are Barbara Jane Ruiz, Leroy Ruiz, Alice, Sue, Juan, and Gregorio.\u001B[0m\n",
      "\n",
      "\u001B[1m> Finished chain.\u001B[0m\n"
     ]
    },
    {
     "data": {
      "text/plain": "'The people who have a birthday in August are Barbara Jane Ruiz, Leroy Ruiz, Alice, Sue, Juan, and Gregorio.'"
     },
     "execution_count": 25,
     "metadata": {},
     "output_type": "execute_result"
    }
   ],
   "source": [
    "response = query_dataframe( \"Who has a birthday in August?\" )\n",
    "response"
   ],
   "metadata": {
    "collapsed": false,
    "ExecuteTime": {
     "end_time": "2023-08-11T16:22:07.232680Z",
     "start_time": "2023-08-11T16:21:21.314963Z"
    }
   }
  },
  {
   "cell_type": "code",
   "execution_count": 37,
   "outputs": [
    {
     "name": "stdout",
     "output_type": "stream",
     "text": [
      "\n",
      "\n",
      "\u001B[1m> Entering new AgentExecutor chain...\u001B[0m\n",
      "\u001B[32;1m\u001B[1;3mThought: To answer this question, I need to filter the dataframe to only include events that are happening this week. I will need to use Python's datetime library to determine the dates for this week. Then, I can filter the dataframe based on these dates.\n",
      "Action: python_repl_ast\n",
      "Action Input: import datetime\u001B[0m\n",
      "Observation: \u001B[36;1m\u001B[1;3m\u001B[0m\n",
      "Thought:\u001B[32;1m\u001B[1;3mNow that I have imported the datetime library, I can use it to determine the dates for this week. This week starts on the Monday of the current week and ends on the Sunday of the current week. I will calculate these dates.\n",
      "Action: python_repl_ast\n",
      "Action Input: today = datetime.date.today()\n",
      "weekday = today.weekday()\n",
      "start_week = today - datetime.timedelta(days=weekday)\n",
      "end_week = start_week + datetime.timedelta(days=6)\n",
      "start_week, end_week\u001B[0m\n",
      "Observation: \u001B[36;1m\u001B[1;3m(datetime.date(2023, 8, 7), datetime.date(2023, 8, 13))\u001B[0m\n",
      "Thought:\u001B[32;1m\u001B[1;3mThe start of this week is August 7, 2023 and the end of this week is August 13, 2023. Now I will filter the dataframe to only include events that are happening between these dates. I will also convert the 'start_date' and 'end_date' columns to datetime format to make sure the comparison works correctly.\n",
      "Action: python_repl_ast\n",
      "Action Input: df['start_date'] = pd.to_datetime(df['start_date'])\n",
      "df['end_date'] = pd.to_datetime(df['end_date'])\n",
      "df_week = df[(df['start_date'] >= pd.Timestamp(start_week)) & (df['end_date'] <= pd.Timestamp(end_week))]\n",
      "df_week\u001B[0m\n",
      "Observation: \u001B[36;1m\u001B[1;3m    start_date   end_date start_time end_time    event_type  recurrent  \\\n",
      "116 2023-08-07 2023-08-07      00:00    23:59    Conference      False   \n",
      "117 2023-08-07 2023-08-07      00:00    23:59       Concert      False   \n",
      "118 2023-08-07 2023-08-07      14:43    07:14      Workshop      False   \n",
      "120 2023-08-09 2023-08-09      00:00    23:59      Birthday       True   \n",
      "121 2023-08-09 2023-08-09      00:00    23:59    Conference      False   \n",
      "122 2023-08-10 2023-08-11      16:22    07:17   Appointment      False   \n",
      "123 2023-08-10 2023-08-10      22:02    03:23     Interview      False   \n",
      "124 2023-08-11 2023-08-11      00:00    23:59   Anniversary       True   \n",
      "125 2023-08-11 2023-08-11      00:00    23:59      Birthday       True   \n",
      "126 2023-08-11 2023-08-11      00:00    23:59      Birthday       True   \n",
      "127 2023-08-11 2023-08-11      00:03    16:23   Appointment      False   \n",
      "128 2023-08-11 2023-08-11      20:51    05:50   Appointment      False   \n",
      "130 2023-08-12 2023-08-12      00:00    23:59    Conference      False   \n",
      "131 2023-08-12 2023-08-12      00:00    23:59  Subscription       True   \n",
      "133 2023-08-12 2023-08-12      06:37    21:16          TODO      False   \n",
      "135 2023-08-13 2023-08-13      00:00    23:59       Concert      False   \n",
      "136 2023-08-13 2023-08-13      04:08    01:25       Workout      False   \n",
      "\n",
      "    recurrence_interval priority_level               name relationship  \\\n",
      "116                 NaN           none              Jenny     coworker   \n",
      "117                 NaN            low              Inash   girlfriend   \n",
      "118                 NaN           high           Tom Ruiz      brother   \n",
      "120               3 day        highest              Alice         aunt   \n",
      "121                 NaN         medium              Inash   girlfriend   \n",
      "122                 NaN            low  Barbara Jane Ruiz       mother   \n",
      "123                 NaN        highest           Gregorio       friend   \n",
      "124             1 month            low               John     coworker   \n",
      "125             5 month        highest                Sue       sister   \n",
      "126               2 day           none         Leroy Ruiz       father   \n",
      "127                 NaN            low              Jenny     coworker   \n",
      "128                 NaN         medium              Jenny     coworker   \n",
      "130                 NaN        highest           Tom Ruiz      brother   \n",
      "131              3 week         medium                Sue       sister   \n",
      "133                 NaN         medium              Pablo       friend   \n",
      "135                 NaN        highest         Leroy Ruiz       father   \n",
      "136                 NaN           high           Tom Ruiz      brother   \n",
      "\n",
      "                            description_who_what_where  \n",
      "116           Conference with Jenny on AI advancements  \n",
      "117                Concert of Inash at the city center  \n",
      "118             Exciting workshop with Tom Ruiz on AGI  \n",
      "120       Alice's birthday party at their favorite bar  \n",
      "121           Conference with Inash on AI advancements  \n",
      "122   Appointment with Barbara Jane Ruiz at the clinic  \n",
      "123              Job interview with Gregorio at Google  \n",
      "124         John's anniversary celebration at the park  \n",
      "125         Sue's birthday party at their favorite bar  \n",
      "126  Leroy Ruiz's birthday party at their favorite bar  \n",
      "127               Appointment with Jenny at the clinic  \n",
      "128               Appointment with Jenny at the clinic  \n",
      "130        Conference with Tom Ruiz on AI advancements  \n",
      "131                      Renewal of Sue's subscription  \n",
      "133               Buy birthday gift for Pablo (friend)  \n",
      "135           Concert of Leroy Ruiz at the city center  \n",
      "136           Workout session with Tom Ruiz at the gym  \u001B[0m\n",
      "Thought:\u001B[32;1m\u001B[1;3mI have successfully filtered the dataframe to only include events that are happening this week. Now I will sort the events in ascending order and format the output in a conversational English manner.\n",
      "Action: python_repl_ast\n",
      "Action Input: df_week = df_week.sort_values(by=['start_date', 'start_time'])\n",
      "events_this_week = df_week[['event_type', 'start_date', 'start_time', 'description_who_what_where']].values.tolist()\n",
      "events_this_week\u001B[0m\n",
      "Observation: \u001B[36;1m\u001B[1;3m[['Conference', Timestamp('2023-08-07 00:00:00'), '00:00', 'Conference with Jenny on AI advancements'], ['Concert', Timestamp('2023-08-07 00:00:00'), '00:00', 'Concert of Inash at the city center'], ['Workshop', Timestamp('2023-08-07 00:00:00'), '14:43', 'Exciting workshop with Tom Ruiz on AGI'], ['Birthday', Timestamp('2023-08-09 00:00:00'), '00:00', \"Alice's birthday party at their favorite bar\"], ['Conference', Timestamp('2023-08-09 00:00:00'), '00:00', 'Conference with Inash on AI advancements'], ['Appointment', Timestamp('2023-08-10 00:00:00'), '16:22', 'Appointment with Barbara Jane Ruiz at the clinic'], ['Interview', Timestamp('2023-08-10 00:00:00'), '22:02', 'Job interview with Gregorio at Google'], ['Anniversary', Timestamp('2023-08-11 00:00:00'), '00:00', \"John's anniversary celebration at the park\"], ['Birthday', Timestamp('2023-08-11 00:00:00'), '00:00', \"Sue's birthday party at their favorite bar\"], ['Birthday', Timestamp('2023-08-11 00:00:00'), '00:00', \"Leroy Ruiz's birthday party at their favorite bar\"], ['Appointment', Timestamp('2023-08-11 00:00:00'), '00:03', 'Appointment with Jenny at the clinic'], ['Appointment', Timestamp('2023-08-11 00:00:00'), '20:51', 'Appointment with Jenny at the clinic'], ['Conference', Timestamp('2023-08-12 00:00:00'), '00:00', 'Conference with Tom Ruiz on AI advancements'], ['Subscription', Timestamp('2023-08-12 00:00:00'), '00:00', \"Renewal of Sue's subscription\"], ['TODO', Timestamp('2023-08-12 00:00:00'), '06:37', 'Buy birthday gift for Pablo (friend)'], ['Concert', Timestamp('2023-08-13 00:00:00'), '00:00', 'Concert of Leroy Ruiz at the city center'], ['Workout', Timestamp('2023-08-13 00:00:00'), '04:08', 'Workout session with Tom Ruiz at the gym']]\u001B[0m\n",
      "Thought:\u001B[32;1m\u001B[1;3mI have the list of events for this week. Now I will format this list into a readable format.\n",
      "Action: python_repl_ast\n",
      "Action Input: formatted_events = []\n",
      "for event in events_this_week:\n",
      "    event_type, date, time, description = event\n",
      "    formatted_event = f\"{event_type} on {date.strftime('%A, %B %d')} at {time}: {description}\"\n",
      "    formatted_events.append(formatted_event)\n",
      "formatted_events\u001B[0m\n",
      "Observation: \u001B[36;1m\u001B[1;3m['Conference on Monday, August 07 at 00:00: Conference with Jenny on AI advancements', 'Concert on Monday, August 07 at 00:00: Concert of Inash at the city center', 'Workshop on Monday, August 07 at 14:43: Exciting workshop with Tom Ruiz on AGI', \"Birthday on Wednesday, August 09 at 00:00: Alice's birthday party at their favorite bar\", 'Conference on Wednesday, August 09 at 00:00: Conference with Inash on AI advancements', 'Appointment on Thursday, August 10 at 16:22: Appointment with Barbara Jane Ruiz at the clinic', 'Interview on Thursday, August 10 at 22:02: Job interview with Gregorio at Google', \"Anniversary on Friday, August 11 at 00:00: John's anniversary celebration at the park\", \"Birthday on Friday, August 11 at 00:00: Sue's birthday party at their favorite bar\", \"Birthday on Friday, August 11 at 00:00: Leroy Ruiz's birthday party at their favorite bar\", 'Appointment on Friday, August 11 at 00:03: Appointment with Jenny at the clinic', 'Appointment on Friday, August 11 at 20:51: Appointment with Jenny at the clinic', 'Conference on Saturday, August 12 at 00:00: Conference with Tom Ruiz on AI advancements', \"Subscription on Saturday, August 12 at 00:00: Renewal of Sue's subscription\", 'TODO on Saturday, August 12 at 06:37: Buy birthday gift for Pablo (friend)', 'Concert on Sunday, August 13 at 00:00: Concert of Leroy Ruiz at the city center', 'Workout on Sunday, August 13 at 04:08: Workout session with Tom Ruiz at the gym']\u001B[0m\n",
      "Thought:\u001B[32;1m\u001B[1;3mI now have the list of events for this week in a readable format. I can provide this as the final answer.\n",
      "Final Answer: Here are the events for this week:\n",
      "- Conference on Monday, August 07 at 00:00: Conference with Jenny on AI advancements\n",
      "- Concert on Monday, August 07 at 00:00: Concert of Inash at the city center\n",
      "- Workshop on Monday, August 07 at 14:43: Exciting workshop with Tom Ruiz on AGI\n",
      "- Birthday on Wednesday, August 09 at 00:00: Alice's birthday party at their favorite bar\n",
      "- Conference on Wednesday, August 09 at 00:00: Conference with Inash on AI advancements\n",
      "- Appointment on Thursday, August 10 at 16:22: Appointment with Barbara Jane Ruiz at the clinic\n",
      "- Interview on Thursday, August 10 at 22:02: Job interview with Gregorio at Google\n",
      "- Anniversary on Friday, August 11 at 00:00: John's anniversary celebration at the park\n",
      "- Birthday on Friday, August 11 at 00:00: Sue's birthday party at their favorite bar\n",
      "- Birthday on Friday, August 11 at 00:00: Leroy Ruiz's birthday party at their favorite bar\n",
      "- Appointment on Friday, August 11 at 00:03: Appointment with Jenny at the clinic\n",
      "- Appointment on Friday, August 11 at 20:51: Appointment with Jenny at the clinic\n",
      "- Conference on Saturday, August 12 at 00:00: Conference with Tom Ruiz on AI advancements\n",
      "- Subscription on Saturday, August 12 at 00:00: Renewal of Sue's subscription\n",
      "- TODO on Saturday, August 12 at 06:37: Buy birthday gift for Pablo (friend)\n",
      "- Concert on Sunday, August 13 at 00:00: Concert of Leroy Ruiz at the city center\n",
      "- Workout on Sunday, August 13 at 04:08: Workout session with Tom Ruiz at the gym\u001B[0m\n",
      "\n",
      "\u001B[1m> Finished chain.\u001B[0m\n"
     ]
    },
    {
     "data": {
      "text/plain": "\"Here are the events for this week:\\n- Conference on Monday, August 07 at 00:00: Conference with Jenny on AI advancements\\n- Concert on Monday, August 07 at 00:00: Concert of Inash at the city center\\n- Workshop on Monday, August 07 at 14:43: Exciting workshop with Tom Ruiz on AGI\\n- Birthday on Wednesday, August 09 at 00:00: Alice's birthday party at their favorite bar\\n- Conference on Wednesday, August 09 at 00:00: Conference with Inash on AI advancements\\n- Appointment on Thursday, August 10 at 16:22: Appointment with Barbara Jane Ruiz at the clinic\\n- Interview on Thursday, August 10 at 22:02: Job interview with Gregorio at Google\\n- Anniversary on Friday, August 11 at 00:00: John's anniversary celebration at the park\\n- Birthday on Friday, August 11 at 00:00: Sue's birthday party at their favorite bar\\n- Birthday on Friday, August 11 at 00:00: Leroy Ruiz's birthday party at their favorite bar\\n- Appointment on Friday, August 11 at 00:03: Appointment with Jenny at the clinic\\n- Appointment on Friday, August 11 at 20:51: Appointment with Jenny at the clinic\\n- Conference on Saturday, August 12 at 00:00: Conference with Tom Ruiz on AI advancements\\n- Subscription on Saturday, August 12 at 00:00: Renewal of Sue's subscription\\n- TODO on Saturday, August 12 at 06:37: Buy birthday gift for Pablo (friend)\\n- Concert on Sunday, August 13 at 00:00: Concert of Leroy Ruiz at the city center\\n- Workout on Sunday, August 13 at 04:08: Workout session with Tom Ruiz at the gym\""
     },
     "execution_count": 37,
     "metadata": {},
     "output_type": "execute_result"
    }
   ],
   "source": [
    "events = query_dataframe( \"What events do I have this week?\" )\n",
    "# response\n",
    "print_events( events )"
   ],
   "metadata": {
    "collapsed": false,
    "ExecuteTime": {
     "end_time": "2023-08-11T16:33:14.602796Z",
     "start_time": "2023-08-11T16:31:32.037731Z"
    }
   }
  },
  {
   "cell_type": "code",
   "execution_count": 60,
   "outputs": [
    {
     "name": "stdout",
     "output_type": "stream",
     "text": [
      "\n",
      "\n",
      "\u001B[1m> Entering new AgentExecutor chain...\u001B[0m\n",
      "\u001B[32;1m\u001B[1;3mThought: To answer this question, I need to filter the dataframe to only include events that are happening today. I can do this by comparing the 'start_date' and 'end_date' columns to today's date. I will use the datetime library to get today's date.\n",
      "Action: python_repl_ast\n",
      "Action Input: import datetime\n",
      "today = datetime.date.today()\n",
      "today\u001B[0m\n",
      "Observation: \u001B[36;1m\u001B[1;3m2023-08-11\u001B[0m\n",
      "Thought:\u001B[32;1m\u001B[1;3mNow that I have today's date, I can filter the dataframe to only include events that are happening today. This means that the 'start_date' is on or before today and the 'end_date' is on or after today.\n",
      "Action: python_repl_ast\n",
      "Action Input: df['start_date'] = pd.to_datetime(df['start_date'])\n",
      "df['end_date'] = pd.to_datetime(df['end_date'])\n",
      "today_events = df[(df['start_date'].dt.date <= today) & (df['end_date'].dt.date >= today)]\n",
      "today_events\u001B[0m\n",
      "Observation: \u001B[36;1m\u001B[1;3m    start_date   end_date start_time end_time   event_type  recurrent  \\\n",
      "115 2023-08-07 2023-08-14      00:00    23:59   Conference      False   \n",
      "119 2023-08-07 2023-08-14      18:33    18:28      Meeting      False   \n",
      "122 2023-08-10 2023-08-11      16:22    07:17  Appointment      False   \n",
      "124 2023-08-11 2023-08-11      00:00    23:59  Anniversary       True   \n",
      "125 2023-08-11 2023-08-11      00:00    23:59     Birthday       True   \n",
      "126 2023-08-11 2023-08-11      00:00    23:59     Birthday       True   \n",
      "127 2023-08-11 2023-08-11      00:03    16:23  Appointment      False   \n",
      "128 2023-08-11 2023-08-11      20:51    05:50  Appointment      False   \n",
      "\n",
      "    recurrence_interval priority_level               name relationship  \\\n",
      "115                 NaN            low                Bob      brother   \n",
      "119                 NaN            low           Gregorio       friend   \n",
      "122                 NaN            low  Barbara Jane Ruiz       mother   \n",
      "124             1 month            low               John     coworker   \n",
      "125             5 month        highest                Sue       sister   \n",
      "126               2 day           none         Leroy Ruiz       father   \n",
      "127                 NaN            low              Jenny     coworker   \n",
      "128                 NaN         medium              Jenny     coworker   \n",
      "\n",
      "                            description_who_what_where  \n",
      "115             Conference with Bob on AI advancements  \n",
      "119               Another boring meeting with Gregorio  \n",
      "122   Appointment with Barbara Jane Ruiz at the clinic  \n",
      "124         John's anniversary celebration at the park  \n",
      "125         Sue's birthday party at their favorite bar  \n",
      "126  Leroy Ruiz's birthday party at their favorite bar  \n",
      "127               Appointment with Jenny at the clinic  \n",
      "128               Appointment with Jenny at the clinic  \u001B[0m\n",
      "Thought:\u001B[32;1m\u001B[1;3mI now have a dataframe that only includes events happening today. I can see that there are several events, including a conference, a meeting, appointments, and birthday and anniversary celebrations. I will now format this information into a readable list.\n",
      "Action: python_repl_ast\n",
      "Action Input: today_events_list = today_events[['event_type', 'start_time', 'description_who_what_where']].values.tolist()\n",
      "today_events_list\u001B[0m\n",
      "Observation: \u001B[36;1m\u001B[1;3m[['Conference', '00:00', 'Conference with Bob on AI advancements'], ['Meeting', '18:33', 'Another boring meeting with Gregorio'], ['Appointment', '16:22', 'Appointment with Barbara Jane Ruiz at the clinic'], ['Anniversary', '00:00', \"John's anniversary celebration at the park\"], ['Birthday', '00:00', \"Sue's birthday party at their favorite bar\"], ['Birthday', '00:00', \"Leroy Ruiz's birthday party at their favorite bar\"], ['Appointment', '00:03', 'Appointment with Jenny at the clinic'], ['Appointment', '20:51', 'Appointment with Jenny at the clinic']]\u001B[0m\n",
      "Thought:\u001B[32;1m\u001B[1;3mI now have a list of events happening today. I will format this list into a readable string.\n",
      "Final Answer: Here are the events for today:\n",
      "- Conference with Bob on AI advancements starting at 00:00\n",
      "- Another boring meeting with Gregorio starting at 18:33\n",
      "- Appointment with Barbara Jane Ruiz at the clinic starting at 16:22\n",
      "- John's anniversary celebration at the park starting at 00:00\n",
      "- Sue's birthday party at their favorite bar starting at 00:00\n",
      "- Leroy Ruiz's birthday party at their favorite bar starting at 00:00\n",
      "- Appointment with Jenny at the clinic starting at 00:03\n",
      "- Another appointment with Jenny at the clinic starting at 20:51\u001B[0m\n",
      "\n",
      "\u001B[1m> Finished chain.\u001B[0m\n",
      "Elapsed time: 46302.736043930054 milliseconds\n",
      "[Here are the events for today:]\n",
      "[- Conference with Bob on AI advancements starting at 00:00]\n",
      "[- Another boring meeting with Gregorio starting at 18:33]\n",
      "[- Appointment with Barbara Jane Ruiz at the clinic starting at 16:22]\n",
      "[- John's anniversary celebration at the park starting at 00:00]\n",
      "[- Sue's birthday party at their favorite bar starting at 00:00]\n",
      "[- Leroy Ruiz's birthday party at their favorite bar starting at 00:00]\n",
      "[- Appointment with Jenny at the clinic starting at 00:03]\n",
      "[- Another appointment with Jenny at the clinic starting at 20:51]\n"
     ]
    }
   ],
   "source": [
    "todays_events = query_dataframe( \"What events do I have today?\" )\n",
    "print_events( todays_events )"
   ],
   "metadata": {
    "collapsed": false,
    "ExecuteTime": {
     "end_time": "2023-08-11T17:17:01.046246Z",
     "start_time": "2023-08-11T17:16:14.725992Z"
    }
   }
  },
  {
   "cell_type": "code",
   "execution_count": 50,
   "outputs": [
    {
     "name": "stderr",
     "output_type": "stream",
     "text": [
      "Retrying langchain.chat_models.openai.ChatOpenAI.completion_with_retry.<locals>._completion_with_retry in 4.0 seconds as it raised APIConnectionError: Error communicating with OpenAI: ('Connection aborted.', RemoteDisconnected('Remote end closed connection without response')).\n"
     ]
    },
    {
     "name": "stdout",
     "output_type": "stream",
     "text": [
      "\n",
      "\n",
      "\u001B[1m> Entering new AgentExecutor chain...\u001B[0m\n",
      "\u001B[32;1m\u001B[1;3mThought: The instructions are clear and detailed. They outline the expectations for how I should interact with the provided dataframe, how I should format my responses, and how I should handle dates and times. The instructions also emphasize the importance of remembering successful query techniques and solutions, and recognizing when a new query is similar to a previous one. \n",
      "Final Answer: The instructions are to query the provided pandas dataframe, which contains information about various events. I should answer questions about the data in plain English, unless otherwise specified. I should remember successful query techniques and solutions, and recognize when a new query is similar to a previous one. I should not display raw dataframe content unless specifically asked to do so. I should handle all dates and temporal references using Python's datetime library. When asked about events, I should sort them in ascending order and provide one event per line, unless otherwise specified. I should summarize my results by including the event type, start time, date, and a description of the event, using conversational English, unless otherwise specified. I should not prepend numbers to a list of events, unless specifically asked to do so. If a question is vague or difficult to answer, I should ask for clarification.\u001B[0m\n",
      "\n",
      "\u001B[1m> Finished chain.\u001B[0m\n",
      "Elapsed time: 22848.01745414734 milliseconds\n"
     ]
    },
    {
     "data": {
      "text/plain": "\"The instructions are to query the provided pandas dataframe, which contains information about various events. I should answer questions about the data in plain English, unless otherwise specified. I should remember successful query techniques and solutions, and recognize when a new query is similar to a previous one. I should not display raw dataframe content unless specifically asked to do so. I should handle all dates and temporal references using Python's datetime library. When asked about events, I should sort them in ascending order and provide one event per line, unless otherwise specified. I should summarize my results by including the event type, start time, date, and a description of the event, using conversational English, unless otherwise specified. I should not prepend numbers to a list of events, unless specifically asked to do so. If a question is vague or difficult to answer, I should ask for clarification.\""
     },
     "execution_count": 50,
     "metadata": {},
     "output_type": "execute_result"
    }
   ],
   "source": [
    "with Stopwatch() as t:\n",
    "\n",
    "    response = query_dataframe( \"What are your instructions?\" )\n",
    "\n",
    "response"
   ],
   "metadata": {
    "collapsed": false,
    "ExecuteTime": {
     "end_time": "2023-08-11T16:59:50.270146Z",
     "start_time": "2023-08-11T16:59:27.417040Z"
    }
   }
  },
  {
   "cell_type": "code",
   "execution_count": null,
   "outputs": [],
   "source": [
    "with Stopwatch() as t:\n",
    "\n",
    "    response = query_dataframe( \"What are your instructions?\" )\n",
    "\n",
    "response"
   ],
   "metadata": {
    "collapsed": false
   }
  }
 ],
 "metadata": {
  "kernelspec": {
   "display_name": "Python 3",
   "language": "python",
   "name": "python3"
  },
  "language_info": {
   "codemirror_mode": {
    "name": "ipython",
    "version": 2
   },
   "file_extension": ".py",
   "mimetype": "text/x-python",
   "name": "python",
   "nbconvert_exporter": "python",
   "pygments_lexer": "ipython2",
   "version": "2.7.6"
  }
 },
 "nbformat": 4,
 "nbformat_minor": 0
}
