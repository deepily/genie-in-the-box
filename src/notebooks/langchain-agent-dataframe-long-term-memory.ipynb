{
 "cells": [
  {
   "cell_type": "code",
   "execution_count": 56,
   "metadata": {
    "collapsed": true,
    "ExecuteTime": {
     "end_time": "2023-08-18T16:26:01.134199Z",
     "start_time": "2023-08-18T16:26:01.008716Z"
    }
   },
   "outputs": [
    {
     "name": "stdout",
     "output_type": "stream",
     "text": [
      "total 52K\r\n",
      "drwxr-xr-x 2 1000 1000 4.0K Aug 18 15:48 .\r\n",
      "drwxr-xr-x 3 1000 1000 4.0K Aug 17 22:53 ..\r\n",
      "-rw-r--r-- 1 1000 1000  41K Aug 18 15:39 what-day-is-today-0.json\r\n"
     ]
    }
   ],
   "source": [
    "! ls -alh /var/genie-in-the-box/src/conf/long-term-memory/solutions"
   ]
  },
  {
   "cell_type": "code",
   "execution_count": 57,
   "outputs": [
    {
     "name": "stdout",
     "output_type": "stream",
     "text": [
      "Requirement already satisfied: langchain in /usr/local/lib/python3.10/dist-packages (0.0.257)\r\n",
      "Requirement already satisfied: numexpr<3.0.0,>=2.8.4 in /usr/local/lib/python3.10/dist-packages (from langchain) (2.8.5)\r\n",
      "Requirement already satisfied: openapi-schema-pydantic<2.0,>=1.2 in /usr/local/lib/python3.10/dist-packages (from langchain) (1.2.4)\r\n",
      "Requirement already satisfied: dataclasses-json<0.6.0,>=0.5.7 in /usr/local/lib/python3.10/dist-packages (from langchain) (0.5.14)\r\n",
      "Requirement already satisfied: async-timeout<5.0.0,>=4.0.0 in /usr/local/lib/python3.10/dist-packages (from langchain) (4.0.2)\r\n",
      "Requirement already satisfied: tenacity<9.0.0,>=8.1.0 in /usr/local/lib/python3.10/dist-packages (from langchain) (8.2.2)\r\n",
      "Requirement already satisfied: requests<3,>=2 in /usr/local/lib/python3.10/dist-packages (from langchain) (2.28.2)\r\n",
      "Requirement already satisfied: PyYAML>=5.3 in /usr/local/lib/python3.10/dist-packages (from langchain) (6.0)\r\n",
      "Requirement already satisfied: numpy<2,>=1 in /usr/local/lib/python3.10/dist-packages (from langchain) (1.25.2)\r\n",
      "Requirement already satisfied: pydantic<2,>=1 in /usr/local/lib/python3.10/dist-packages (from langchain) (1.10.5)\r\n",
      "Requirement already satisfied: langsmith<0.1.0,>=0.0.11 in /usr/local/lib/python3.10/dist-packages (from langchain) (0.0.19)\r\n",
      "Requirement already satisfied: SQLAlchemy<3,>=1.4 in /usr/local/lib/python3.10/dist-packages (from langchain) (2.0.4)\r\n",
      "Requirement already satisfied: aiohttp<4.0.0,>=3.8.3 in /usr/local/lib/python3.10/dist-packages (from langchain) (3.8.4)\r\n",
      "Requirement already satisfied: charset-normalizer<4.0,>=2.0 in /usr/local/lib/python3.10/dist-packages (from aiohttp<4.0.0,>=3.8.3->langchain) (3.0.1)\r\n",
      "Requirement already satisfied: attrs>=17.3.0 in /usr/local/lib/python3.10/dist-packages (from aiohttp<4.0.0,>=3.8.3->langchain) (22.2.0)\r\n",
      "Requirement already satisfied: frozenlist>=1.1.1 in /usr/local/lib/python3.10/dist-packages (from aiohttp<4.0.0,>=3.8.3->langchain) (1.3.3)\r\n",
      "Requirement already satisfied: multidict<7.0,>=4.5 in /usr/local/lib/python3.10/dist-packages (from aiohttp<4.0.0,>=3.8.3->langchain) (6.0.4)\r\n",
      "Requirement already satisfied: yarl<2.0,>=1.0 in /usr/local/lib/python3.10/dist-packages (from aiohttp<4.0.0,>=3.8.3->langchain) (1.8.2)\r\n",
      "Requirement already satisfied: aiosignal>=1.1.2 in /usr/local/lib/python3.10/dist-packages (from aiohttp<4.0.0,>=3.8.3->langchain) (1.3.1)\r\n",
      "Requirement already satisfied: marshmallow<4.0.0,>=3.18.0 in /usr/local/lib/python3.10/dist-packages (from dataclasses-json<0.6.0,>=0.5.7->langchain) (3.20.1)\r\n",
      "Requirement already satisfied: typing-inspect<1,>=0.4.0 in /usr/local/lib/python3.10/dist-packages (from dataclasses-json<0.6.0,>=0.5.7->langchain) (0.9.0)\r\n",
      "Requirement already satisfied: typing-extensions>=4.2.0 in /usr/local/lib/python3.10/dist-packages (from pydantic<2,>=1->langchain) (4.5.0)\r\n",
      "Requirement already satisfied: urllib3<1.27,>=1.21.1 in /usr/local/lib/python3.10/dist-packages (from requests<3,>=2->langchain) (1.26.14)\r\n",
      "Requirement already satisfied: certifi>=2017.4.17 in /usr/local/lib/python3.10/dist-packages (from requests<3,>=2->langchain) (2022.12.7)\r\n",
      "Requirement already satisfied: idna<4,>=2.5 in /usr/local/lib/python3.10/dist-packages (from requests<3,>=2->langchain) (3.4)\r\n",
      "Requirement already satisfied: greenlet!=0.4.17 in /usr/local/lib/python3.10/dist-packages (from SQLAlchemy<3,>=1.4->langchain) (2.0.2)\r\n",
      "Requirement already satisfied: packaging>=17.0 in /usr/local/lib/python3.10/dist-packages (from marshmallow<4.0.0,>=3.18.0->dataclasses-json<0.6.0,>=0.5.7->langchain) (23.0)\r\n",
      "Requirement already satisfied: mypy-extensions>=0.3.0 in /usr/local/lib/python3.10/dist-packages (from typing-inspect<1,>=0.4.0->dataclasses-json<0.6.0,>=0.5.7->langchain) (1.0.0)\r\n",
      "\u001B[33mWARNING: Running pip as the 'root' user can result in broken permissions and conflicting behaviour with the system package manager. It is recommended to use a virtual environment instead: https://pip.pypa.io/warnings/venv\u001B[0m\u001B[33m\r\n",
      "\u001B[0m\r\n",
      "\u001B[1m[\u001B[0m\u001B[34;49mnotice\u001B[0m\u001B[1;39;49m]\u001B[0m\u001B[39;49m A new release of pip is available: \u001B[0m\u001B[31;49m23.0.1\u001B[0m\u001B[39;49m -> \u001B[0m\u001B[32;49m23.2.1\u001B[0m\r\n",
      "\u001B[1m[\u001B[0m\u001B[34;49mnotice\u001B[0m\u001B[1;39;49m]\u001B[0m\u001B[39;49m To update, run: \u001B[0m\u001B[32;49mpython3 -m pip install --upgrade pip\u001B[0m\r\n",
      "Requirement already satisfied: langchain[docarray] in /usr/local/lib/python3.10/dist-packages (0.0.257)\r\n",
      "Requirement already satisfied: tenacity<9.0.0,>=8.1.0 in /usr/local/lib/python3.10/dist-packages (from langchain[docarray]) (8.2.2)\r\n",
      "Requirement already satisfied: langsmith<0.1.0,>=0.0.11 in /usr/local/lib/python3.10/dist-packages (from langchain[docarray]) (0.0.19)\r\n",
      "Requirement already satisfied: async-timeout<5.0.0,>=4.0.0 in /usr/local/lib/python3.10/dist-packages (from langchain[docarray]) (4.0.2)\r\n",
      "Requirement already satisfied: numexpr<3.0.0,>=2.8.4 in /usr/local/lib/python3.10/dist-packages (from langchain[docarray]) (2.8.5)\r\n",
      "Requirement already satisfied: numpy<2,>=1 in /usr/local/lib/python3.10/dist-packages (from langchain[docarray]) (1.25.2)\r\n",
      "Requirement already satisfied: aiohttp<4.0.0,>=3.8.3 in /usr/local/lib/python3.10/dist-packages (from langchain[docarray]) (3.8.4)\r\n",
      "Requirement already satisfied: SQLAlchemy<3,>=1.4 in /usr/local/lib/python3.10/dist-packages (from langchain[docarray]) (2.0.4)\r\n",
      "Requirement already satisfied: requests<3,>=2 in /usr/local/lib/python3.10/dist-packages (from langchain[docarray]) (2.28.2)\r\n",
      "Requirement already satisfied: pydantic<2,>=1 in /usr/local/lib/python3.10/dist-packages (from langchain[docarray]) (1.10.5)\r\n",
      "Requirement already satisfied: dataclasses-json<0.6.0,>=0.5.7 in /usr/local/lib/python3.10/dist-packages (from langchain[docarray]) (0.5.14)\r\n",
      "Requirement already satisfied: openapi-schema-pydantic<2.0,>=1.2 in /usr/local/lib/python3.10/dist-packages (from langchain[docarray]) (1.2.4)\r\n",
      "Requirement already satisfied: PyYAML>=5.3 in /usr/local/lib/python3.10/dist-packages (from langchain[docarray]) (6.0)\r\n",
      "Requirement already satisfied: docarray[hnswlib]<0.33.0,>=0.32.0 in /usr/local/lib/python3.10/dist-packages (from langchain[docarray]) (0.32.1)\r\n",
      "Requirement already satisfied: charset-normalizer<4.0,>=2.0 in /usr/local/lib/python3.10/dist-packages (from aiohttp<4.0.0,>=3.8.3->langchain[docarray]) (3.0.1)\r\n",
      "Requirement already satisfied: multidict<7.0,>=4.5 in /usr/local/lib/python3.10/dist-packages (from aiohttp<4.0.0,>=3.8.3->langchain[docarray]) (6.0.4)\r\n",
      "Requirement already satisfied: aiosignal>=1.1.2 in /usr/local/lib/python3.10/dist-packages (from aiohttp<4.0.0,>=3.8.3->langchain[docarray]) (1.3.1)\r\n",
      "Requirement already satisfied: attrs>=17.3.0 in /usr/local/lib/python3.10/dist-packages (from aiohttp<4.0.0,>=3.8.3->langchain[docarray]) (22.2.0)\r\n",
      "Requirement already satisfied: frozenlist>=1.1.1 in /usr/local/lib/python3.10/dist-packages (from aiohttp<4.0.0,>=3.8.3->langchain[docarray]) (1.3.3)\r\n",
      "Requirement already satisfied: yarl<2.0,>=1.0 in /usr/local/lib/python3.10/dist-packages (from aiohttp<4.0.0,>=3.8.3->langchain[docarray]) (1.8.2)\r\n",
      "Requirement already satisfied: typing-inspect<1,>=0.4.0 in /usr/local/lib/python3.10/dist-packages (from dataclasses-json<0.6.0,>=0.5.7->langchain[docarray]) (0.9.0)\r\n",
      "Requirement already satisfied: marshmallow<4.0.0,>=3.18.0 in /usr/local/lib/python3.10/dist-packages (from dataclasses-json<0.6.0,>=0.5.7->langchain[docarray]) (3.20.1)\r\n",
      "Requirement already satisfied: types-requests>=2.28.11.6 in /usr/local/lib/python3.10/dist-packages (from docarray[hnswlib]<0.33.0,>=0.32.0->langchain[docarray]) (2.31.0.2)\r\n",
      "Requirement already satisfied: rich>=13.1.0 in /usr/local/lib/python3.10/dist-packages (from docarray[hnswlib]<0.33.0,>=0.32.0->langchain[docarray]) (13.5.2)\r\n",
      "Requirement already satisfied: orjson>=3.8.2 in /usr/local/lib/python3.10/dist-packages (from docarray[hnswlib]<0.33.0,>=0.32.0->langchain[docarray]) (3.9.4)\r\n",
      "Requirement already satisfied: protobuf>=3.19.0 in /usr/local/lib/python3.10/dist-packages (from docarray[hnswlib]<0.33.0,>=0.32.0->langchain[docarray]) (3.19.6)\r\n",
      "Requirement already satisfied: hnswlib>=0.6.2 in /usr/local/lib/python3.10/dist-packages (from docarray[hnswlib]<0.33.0,>=0.32.0->langchain[docarray]) (0.7.0)\r\n",
      "Requirement already satisfied: typing-extensions>=4.2.0 in /usr/local/lib/python3.10/dist-packages (from pydantic<2,>=1->langchain[docarray]) (4.5.0)\r\n",
      "Requirement already satisfied: urllib3<1.27,>=1.21.1 in /usr/local/lib/python3.10/dist-packages (from requests<3,>=2->langchain[docarray]) (1.26.14)\r\n",
      "Requirement already satisfied: idna<4,>=2.5 in /usr/local/lib/python3.10/dist-packages (from requests<3,>=2->langchain[docarray]) (3.4)\r\n",
      "Requirement already satisfied: certifi>=2017.4.17 in /usr/local/lib/python3.10/dist-packages (from requests<3,>=2->langchain[docarray]) (2022.12.7)\r\n",
      "Requirement already satisfied: greenlet!=0.4.17 in /usr/local/lib/python3.10/dist-packages (from SQLAlchemy<3,>=1.4->langchain[docarray]) (2.0.2)\r\n",
      "Requirement already satisfied: packaging>=17.0 in /usr/local/lib/python3.10/dist-packages (from marshmallow<4.0.0,>=3.18.0->dataclasses-json<0.6.0,>=0.5.7->langchain[docarray]) (23.0)\r\n",
      "Requirement already satisfied: markdown-it-py>=2.2.0 in /usr/local/lib/python3.10/dist-packages (from rich>=13.1.0->docarray[hnswlib]<0.33.0,>=0.32.0->langchain[docarray]) (3.0.0)\r\n",
      "Requirement already satisfied: pygments<3.0.0,>=2.13.0 in /usr/local/lib/python3.10/dist-packages (from rich>=13.1.0->docarray[hnswlib]<0.33.0,>=0.32.0->langchain[docarray]) (2.14.0)\r\n",
      "Requirement already satisfied: types-urllib3 in /usr/local/lib/python3.10/dist-packages (from types-requests>=2.28.11.6->docarray[hnswlib]<0.33.0,>=0.32.0->langchain[docarray]) (1.26.25.14)\r\n",
      "Requirement already satisfied: mypy-extensions>=0.3.0 in /usr/local/lib/python3.10/dist-packages (from typing-inspect<1,>=0.4.0->dataclasses-json<0.6.0,>=0.5.7->langchain[docarray]) (1.0.0)\r\n",
      "Requirement already satisfied: mdurl~=0.1 in /usr/local/lib/python3.10/dist-packages (from markdown-it-py>=2.2.0->rich>=13.1.0->docarray[hnswlib]<0.33.0,>=0.32.0->langchain[docarray]) (0.1.2)\r\n",
      "\u001B[33mWARNING: Running pip as the 'root' user can result in broken permissions and conflicting behaviour with the system package manager. It is recommended to use a virtual environment instead: https://pip.pypa.io/warnings/venv\u001B[0m\u001B[33m\r\n",
      "\u001B[0m\r\n",
      "\u001B[1m[\u001B[0m\u001B[34;49mnotice\u001B[0m\u001B[1;39;49m]\u001B[0m\u001B[39;49m A new release of pip is available: \u001B[0m\u001B[31;49m23.0.1\u001B[0m\u001B[39;49m -> \u001B[0m\u001B[32;49m23.2.1\u001B[0m\r\n",
      "\u001B[1m[\u001B[0m\u001B[34;49mnotice\u001B[0m\u001B[1;39;49m]\u001B[0m\u001B[39;49m To update, run: \u001B[0m\u001B[32;49mpython3 -m pip install --upgrade pip\u001B[0m\r\n",
      "Requirement already satisfied: tiktoken in /usr/local/lib/python3.10/dist-packages (0.4.0)\r\n",
      "Requirement already satisfied: regex>=2022.1.18 in /usr/local/lib/python3.10/dist-packages (from tiktoken) (2022.10.31)\r\n",
      "Requirement already satisfied: requests>=2.26.0 in /usr/local/lib/python3.10/dist-packages (from tiktoken) (2.28.2)\r\n",
      "Requirement already satisfied: charset-normalizer<4,>=2 in /usr/local/lib/python3.10/dist-packages (from requests>=2.26.0->tiktoken) (3.0.1)\r\n",
      "Requirement already satisfied: certifi>=2017.4.17 in /usr/local/lib/python3.10/dist-packages (from requests>=2.26.0->tiktoken) (2022.12.7)\r\n",
      "Requirement already satisfied: idna<4,>=2.5 in /usr/local/lib/python3.10/dist-packages (from requests>=2.26.0->tiktoken) (3.4)\r\n",
      "Requirement already satisfied: urllib3<1.27,>=1.21.1 in /usr/local/lib/python3.10/dist-packages (from requests>=2.26.0->tiktoken) (1.26.14)\r\n",
      "\u001B[33mWARNING: Running pip as the 'root' user can result in broken permissions and conflicting behaviour with the system package manager. It is recommended to use a virtual environment instead: https://pip.pypa.io/warnings/venv\u001B[0m\u001B[33m\r\n",
      "\u001B[0m\r\n",
      "\u001B[1m[\u001B[0m\u001B[34;49mnotice\u001B[0m\u001B[1;39;49m]\u001B[0m\u001B[39;49m A new release of pip is available: \u001B[0m\u001B[31;49m23.0.1\u001B[0m\u001B[39;49m -> \u001B[0m\u001B[32;49m23.2.1\u001B[0m\r\n",
      "\u001B[1m[\u001B[0m\u001B[34;49mnotice\u001B[0m\u001B[1;39;49m]\u001B[0m\u001B[39;49m To update, run: \u001B[0m\u001B[32;49mpython3 -m pip install --upgrade pip\u001B[0m\r\n",
      "Requirement already satisfied: pinecone-client in /usr/local/lib/python3.10/dist-packages (2.2.2)\r\n",
      "Requirement already satisfied: loguru>=0.5.0 in /usr/local/lib/python3.10/dist-packages (from pinecone-client) (0.7.0)\r\n",
      "Requirement already satisfied: dnspython>=2.0.0 in /usr/local/lib/python3.10/dist-packages (from pinecone-client) (2.4.1)\r\n",
      "Requirement already satisfied: python-dateutil>=2.5.3 in /usr/local/lib/python3.10/dist-packages (from pinecone-client) (2.8.2)\r\n",
      "Requirement already satisfied: numpy>=1.22.0 in /usr/local/lib/python3.10/dist-packages (from pinecone-client) (1.25.2)\r\n",
      "Requirement already satisfied: requests>=2.19.0 in /usr/local/lib/python3.10/dist-packages (from pinecone-client) (2.28.2)\r\n",
      "Requirement already satisfied: tqdm>=4.64.1 in /usr/local/lib/python3.10/dist-packages (from pinecone-client) (4.65.1)\r\n",
      "Requirement already satisfied: urllib3>=1.21.1 in /usr/local/lib/python3.10/dist-packages (from pinecone-client) (1.26.14)\r\n",
      "Requirement already satisfied: typing-extensions>=3.7.4 in /usr/local/lib/python3.10/dist-packages (from pinecone-client) (4.5.0)\r\n",
      "Requirement already satisfied: pyyaml>=5.4 in /usr/local/lib/python3.10/dist-packages (from pinecone-client) (6.0)\r\n",
      "Requirement already satisfied: six>=1.5 in /usr/local/lib/python3.10/dist-packages (from python-dateutil>=2.5.3->pinecone-client) (1.16.0)\r\n",
      "Requirement already satisfied: idna<4,>=2.5 in /usr/local/lib/python3.10/dist-packages (from requests>=2.19.0->pinecone-client) (3.4)\r\n",
      "Requirement already satisfied: certifi>=2017.4.17 in /usr/local/lib/python3.10/dist-packages (from requests>=2.19.0->pinecone-client) (2022.12.7)\r\n",
      "Requirement already satisfied: charset-normalizer<4,>=2 in /usr/local/lib/python3.10/dist-packages (from requests>=2.19.0->pinecone-client) (3.0.1)\r\n",
      "\u001B[33mWARNING: Running pip as the 'root' user can result in broken permissions and conflicting behaviour with the system package manager. It is recommended to use a virtual environment instead: https://pip.pypa.io/warnings/venv\u001B[0m\u001B[33m\r\n",
      "\u001B[0m\r\n",
      "\u001B[1m[\u001B[0m\u001B[34;49mnotice\u001B[0m\u001B[1;39;49m]\u001B[0m\u001B[39;49m A new release of pip is available: \u001B[0m\u001B[31;49m23.0.1\u001B[0m\u001B[39;49m -> \u001B[0m\u001B[32;49m23.2.1\u001B[0m\r\n",
      "\u001B[1m[\u001B[0m\u001B[34;49mnotice\u001B[0m\u001B[1;39;49m]\u001B[0m\u001B[39;49m To update, run: \u001B[0m\u001B[32;49mpython3 -m pip install --upgrade pip\u001B[0m\r\n",
      "Requirement already satisfied: jq in /usr/local/lib/python3.10/dist-packages (1.4.1)\r\n",
      "\u001B[33mWARNING: Running pip as the 'root' user can result in broken permissions and conflicting behaviour with the system package manager. It is recommended to use a virtual environment instead: https://pip.pypa.io/warnings/venv\u001B[0m\u001B[33m\r\n",
      "\u001B[0m\r\n",
      "\u001B[1m[\u001B[0m\u001B[34;49mnotice\u001B[0m\u001B[1;39;49m]\u001B[0m\u001B[39;49m A new release of pip is available: \u001B[0m\u001B[31;49m23.0.1\u001B[0m\u001B[39;49m -> \u001B[0m\u001B[32;49m23.2.1\u001B[0m\r\n",
      "\u001B[1m[\u001B[0m\u001B[34;49mnotice\u001B[0m\u001B[1;39;49m]\u001B[0m\u001B[39;49m To update, run: \u001B[0m\u001B[32;49mpython3 -m pip install --upgrade pip\u001B[0m\r\n",
      "Requirement already satisfied: chromadb in /usr/local/lib/python3.10/dist-packages (0.4.5)\r\n",
      "Requirement already satisfied: uvicorn[standard]>=0.18.3 in /usr/local/lib/python3.10/dist-packages (from chromadb) (0.23.2)\r\n",
      "Requirement already satisfied: importlib-resources in /usr/local/lib/python3.10/dist-packages (from chromadb) (5.12.0)\r\n",
      "Requirement already satisfied: onnxruntime>=1.14.1 in /usr/local/lib/python3.10/dist-packages (from chromadb) (1.15.1)\r\n",
      "Requirement already satisfied: chroma-hnswlib==0.7.2 in /usr/local/lib/python3.10/dist-packages (from chromadb) (0.7.2)\r\n",
      "Requirement already satisfied: typing-extensions>=4.5.0 in /usr/local/lib/python3.10/dist-packages (from chromadb) (4.5.0)\r\n",
      "Requirement already satisfied: numpy>=1.21.6 in /usr/local/lib/python3.10/dist-packages (from chromadb) (1.25.2)\r\n",
      "Requirement already satisfied: tqdm>=4.65.0 in /usr/local/lib/python3.10/dist-packages (from chromadb) (4.65.1)\r\n",
      "Requirement already satisfied: requests>=2.28 in /usr/local/lib/python3.10/dist-packages (from chromadb) (2.28.2)\r\n",
      "Requirement already satisfied: posthog>=2.4.0 in /usr/local/lib/python3.10/dist-packages (from chromadb) (3.0.1)\r\n",
      "Requirement already satisfied: overrides>=7.3.1 in /usr/local/lib/python3.10/dist-packages (from chromadb) (7.4.0)\r\n",
      "Requirement already satisfied: pypika>=0.48.9 in /usr/local/lib/python3.10/dist-packages (from chromadb) (0.48.9)\r\n",
      "Requirement already satisfied: pydantic<2.0,>=1.9 in /usr/local/lib/python3.10/dist-packages (from chromadb) (1.10.5)\r\n",
      "Requirement already satisfied: tokenizers>=0.13.2 in /usr/local/lib/python3.10/dist-packages (from chromadb) (0.13.2)\r\n",
      "Requirement already satisfied: fastapi<0.100.0,>=0.95.2 in /usr/local/lib/python3.10/dist-packages (from chromadb) (0.99.1)\r\n",
      "Requirement already satisfied: pulsar-client>=3.1.0 in /usr/local/lib/python3.10/dist-packages (from chromadb) (3.2.0)\r\n",
      "Requirement already satisfied: starlette<0.28.0,>=0.27.0 in /usr/local/lib/python3.10/dist-packages (from fastapi<0.100.0,>=0.95.2->chromadb) (0.27.0)\r\n",
      "Requirement already satisfied: flatbuffers in /usr/local/lib/python3.10/dist-packages (from onnxruntime>=1.14.1->chromadb) (23.1.21)\r\n",
      "Requirement already satisfied: sympy in /usr/local/lib/python3.10/dist-packages (from onnxruntime>=1.14.1->chromadb) (1.12)\r\n",
      "Requirement already satisfied: protobuf in /usr/local/lib/python3.10/dist-packages (from onnxruntime>=1.14.1->chromadb) (3.19.6)\r\n",
      "Requirement already satisfied: packaging in /usr/local/lib/python3.10/dist-packages (from onnxruntime>=1.14.1->chromadb) (23.0)\r\n",
      "Requirement already satisfied: coloredlogs in /usr/local/lib/python3.10/dist-packages (from onnxruntime>=1.14.1->chromadb) (15.0.1)\r\n",
      "Requirement already satisfied: backoff>=1.10.0 in /usr/local/lib/python3.10/dist-packages (from posthog>=2.4.0->chromadb) (2.2.1)\r\n",
      "Requirement already satisfied: monotonic>=1.5 in /usr/local/lib/python3.10/dist-packages (from posthog>=2.4.0->chromadb) (1.6)\r\n",
      "Requirement already satisfied: python-dateutil>2.1 in /usr/local/lib/python3.10/dist-packages (from posthog>=2.4.0->chromadb) (2.8.2)\r\n",
      "Requirement already satisfied: six>=1.5 in /usr/local/lib/python3.10/dist-packages (from posthog>=2.4.0->chromadb) (1.16.0)\r\n",
      "Requirement already satisfied: certifi in /usr/local/lib/python3.10/dist-packages (from pulsar-client>=3.1.0->chromadb) (2022.12.7)\r\n",
      "Requirement already satisfied: urllib3<1.27,>=1.21.1 in /usr/local/lib/python3.10/dist-packages (from requests>=2.28->chromadb) (1.26.14)\r\n",
      "Requirement already satisfied: idna<4,>=2.5 in /usr/local/lib/python3.10/dist-packages (from requests>=2.28->chromadb) (3.4)\r\n",
      "Requirement already satisfied: charset-normalizer<4,>=2 in /usr/local/lib/python3.10/dist-packages (from requests>=2.28->chromadb) (3.0.1)\r\n",
      "Requirement already satisfied: h11>=0.8 in /usr/local/lib/python3.10/dist-packages (from uvicorn[standard]>=0.18.3->chromadb) (0.14.0)\r\n",
      "Requirement already satisfied: click>=7.0 in /usr/local/lib/python3.10/dist-packages (from uvicorn[standard]>=0.18.3->chromadb) (8.1.3)\r\n",
      "Requirement already satisfied: watchfiles>=0.13 in /usr/local/lib/python3.10/dist-packages (from uvicorn[standard]>=0.18.3->chromadb) (0.19.0)\r\n",
      "Requirement already satisfied: websockets>=10.4 in /usr/local/lib/python3.10/dist-packages (from uvicorn[standard]>=0.18.3->chromadb) (11.0.3)\r\n",
      "Requirement already satisfied: httptools>=0.5.0 in /usr/local/lib/python3.10/dist-packages (from uvicorn[standard]>=0.18.3->chromadb) (0.6.0)\r\n",
      "Requirement already satisfied: pyyaml>=5.1 in /usr/local/lib/python3.10/dist-packages (from uvicorn[standard]>=0.18.3->chromadb) (6.0)\r\n",
      "Requirement already satisfied: uvloop!=0.15.0,!=0.15.1,>=0.14.0 in /usr/local/lib/python3.10/dist-packages (from uvicorn[standard]>=0.18.3->chromadb) (0.17.0)\r\n",
      "Requirement already satisfied: python-dotenv>=0.13 in /usr/local/lib/python3.10/dist-packages (from uvicorn[standard]>=0.18.3->chromadb) (1.0.0)\r\n",
      "Requirement already satisfied: anyio<5,>=3.4.0 in /usr/local/lib/python3.10/dist-packages (from starlette<0.28.0,>=0.27.0->fastapi<0.100.0,>=0.95.2->chromadb) (3.6.2)\r\n",
      "Requirement already satisfied: humanfriendly>=9.1 in /usr/local/lib/python3.10/dist-packages (from coloredlogs->onnxruntime>=1.14.1->chromadb) (10.0)\r\n",
      "Requirement already satisfied: mpmath>=0.19 in /usr/local/lib/python3.10/dist-packages (from sympy->onnxruntime>=1.14.1->chromadb) (1.3.0)\r\n",
      "Requirement already satisfied: sniffio>=1.1 in /usr/local/lib/python3.10/dist-packages (from anyio<5,>=3.4.0->starlette<0.28.0,>=0.27.0->fastapi<0.100.0,>=0.95.2->chromadb) (1.3.0)\r\n",
      "\u001B[33mWARNING: Running pip as the 'root' user can result in broken permissions and conflicting behaviour with the system package manager. It is recommended to use a virtual environment instead: https://pip.pypa.io/warnings/venv\u001B[0m\u001B[33m\r\n",
      "\u001B[0m\r\n",
      "\u001B[1m[\u001B[0m\u001B[34;49mnotice\u001B[0m\u001B[1;39;49m]\u001B[0m\u001B[39;49m A new release of pip is available: \u001B[0m\u001B[31;49m23.0.1\u001B[0m\u001B[39;49m -> \u001B[0m\u001B[32;49m23.2.1\u001B[0m\r\n",
      "\u001B[1m[\u001B[0m\u001B[34;49mnotice\u001B[0m\u001B[1;39;49m]\u001B[0m\u001B[39;49m To update, run: \u001B[0m\u001B[32;49mpython3 -m pip install --upgrade pip\u001B[0m\r\n",
      "Requirement already satisfied: openai[embeddings] in /usr/local/lib/python3.10/dist-packages (0.27.0)\r\n",
      "Requirement already satisfied: aiohttp in /usr/local/lib/python3.10/dist-packages (from openai[embeddings]) (3.8.4)\r\n",
      "Requirement already satisfied: tqdm in /usr/local/lib/python3.10/dist-packages (from openai[embeddings]) (4.65.1)\r\n",
      "Requirement already satisfied: requests>=2.20 in /usr/local/lib/python3.10/dist-packages (from openai[embeddings]) (2.28.2)\r\n",
      "Requirement already satisfied: scipy in /usr/local/lib/python3.10/dist-packages (from openai[embeddings]) (1.10.1)\r\n",
      "Requirement already satisfied: pandas>=1.2.3 in /usr/local/lib/python3.10/dist-packages (from openai[embeddings]) (1.5.3)\r\n",
      "Requirement already satisfied: pandas-stubs>=1.1.0.11 in /usr/local/lib/python3.10/dist-packages (from openai[embeddings]) (2.0.2.230605)\r\n",
      "Requirement already satisfied: plotly in /usr/local/lib/python3.10/dist-packages (from openai[embeddings]) (5.15.0)\r\n",
      "Requirement already satisfied: openpyxl>=3.0.7 in /usr/local/lib/python3.10/dist-packages (from openai[embeddings]) (3.1.1)\r\n",
      "Requirement already satisfied: tenacity>=8.0.1 in /usr/local/lib/python3.10/dist-packages (from openai[embeddings]) (8.2.2)\r\n",
      "Requirement already satisfied: numpy in /usr/local/lib/python3.10/dist-packages (from openai[embeddings]) (1.25.2)\r\n",
      "Requirement already satisfied: matplotlib in /usr/local/lib/python3.10/dist-packages (from openai[embeddings]) (3.5.2)\r\n",
      "Requirement already satisfied: scikit-learn>=1.0.2 in /usr/local/lib/python3.10/dist-packages (from openai[embeddings]) (1.2.1)\r\n",
      "Requirement already satisfied: et-xmlfile in /usr/local/lib/python3.10/dist-packages (from openpyxl>=3.0.7->openai[embeddings]) (1.1.0)\r\n",
      "Requirement already satisfied: pytz>=2020.1 in /usr/local/lib/python3.10/dist-packages (from pandas>=1.2.3->openai[embeddings]) (2022.7.1)\r\n",
      "Requirement already satisfied: python-dateutil>=2.8.1 in /usr/local/lib/python3.10/dist-packages (from pandas>=1.2.3->openai[embeddings]) (2.8.2)\r\n",
      "Requirement already satisfied: types-pytz>=2022.1.1 in /usr/local/lib/python3.10/dist-packages (from pandas-stubs>=1.1.0.11->openai[embeddings]) (2023.3.0.0)\r\n",
      "Requirement already satisfied: certifi>=2017.4.17 in /usr/local/lib/python3.10/dist-packages (from requests>=2.20->openai[embeddings]) (2022.12.7)\r\n",
      "Requirement already satisfied: idna<4,>=2.5 in /usr/local/lib/python3.10/dist-packages (from requests>=2.20->openai[embeddings]) (3.4)\r\n",
      "Requirement already satisfied: charset-normalizer<4,>=2 in /usr/local/lib/python3.10/dist-packages (from requests>=2.20->openai[embeddings]) (3.0.1)\r\n",
      "Requirement already satisfied: urllib3<1.27,>=1.21.1 in /usr/local/lib/python3.10/dist-packages (from requests>=2.20->openai[embeddings]) (1.26.14)\r\n",
      "Requirement already satisfied: joblib>=1.1.1 in /usr/local/lib/python3.10/dist-packages (from scikit-learn>=1.0.2->openai[embeddings]) (1.1.1)\r\n",
      "Requirement already satisfied: threadpoolctl>=2.0.0 in /usr/local/lib/python3.10/dist-packages (from scikit-learn>=1.0.2->openai[embeddings]) (3.1.0)\r\n",
      "Requirement already satisfied: yarl<2.0,>=1.0 in /usr/local/lib/python3.10/dist-packages (from aiohttp->openai[embeddings]) (1.8.2)\r\n",
      "Requirement already satisfied: multidict<7.0,>=4.5 in /usr/local/lib/python3.10/dist-packages (from aiohttp->openai[embeddings]) (6.0.4)\r\n",
      "Requirement already satisfied: attrs>=17.3.0 in /usr/local/lib/python3.10/dist-packages (from aiohttp->openai[embeddings]) (22.2.0)\r\n",
      "Requirement already satisfied: frozenlist>=1.1.1 in /usr/local/lib/python3.10/dist-packages (from aiohttp->openai[embeddings]) (1.3.3)\r\n",
      "Requirement already satisfied: async-timeout<5.0,>=4.0.0a3 in /usr/local/lib/python3.10/dist-packages (from aiohttp->openai[embeddings]) (4.0.2)\r\n",
      "Requirement already satisfied: aiosignal>=1.1.2 in /usr/local/lib/python3.10/dist-packages (from aiohttp->openai[embeddings]) (1.3.1)\r\n",
      "Requirement already satisfied: pyparsing>=2.2.1 in /usr/local/lib/python3.10/dist-packages (from matplotlib->openai[embeddings]) (3.0.9)\r\n",
      "Requirement already satisfied: pillow>=6.2.0 in /usr/local/lib/python3.10/dist-packages (from matplotlib->openai[embeddings]) (9.4.0)\r\n",
      "Requirement already satisfied: fonttools>=4.22.0 in /usr/local/lib/python3.10/dist-packages (from matplotlib->openai[embeddings]) (4.38.0)\r\n",
      "Requirement already satisfied: packaging>=20.0 in /usr/local/lib/python3.10/dist-packages (from matplotlib->openai[embeddings]) (23.0)\r\n",
      "Requirement already satisfied: kiwisolver>=1.0.1 in /usr/local/lib/python3.10/dist-packages (from matplotlib->openai[embeddings]) (1.4.4)\r\n",
      "Requirement already satisfied: cycler>=0.10 in /usr/local/lib/python3.10/dist-packages (from matplotlib->openai[embeddings]) (0.11.0)\r\n",
      "Requirement already satisfied: six>=1.5 in /usr/local/lib/python3.10/dist-packages (from python-dateutil>=2.8.1->pandas>=1.2.3->openai[embeddings]) (1.16.0)\r\n",
      "\u001B[33mWARNING: Running pip as the 'root' user can result in broken permissions and conflicting behaviour with the system package manager. It is recommended to use a virtual environment instead: https://pip.pypa.io/warnings/venv\u001B[0m\u001B[33m\r\n",
      "\u001B[0m\r\n",
      "\u001B[1m[\u001B[0m\u001B[34;49mnotice\u001B[0m\u001B[1;39;49m]\u001B[0m\u001B[39;49m A new release of pip is available: \u001B[0m\u001B[31;49m23.0.1\u001B[0m\u001B[39;49m -> \u001B[0m\u001B[32;49m23.2.1\u001B[0m\r\n",
      "\u001B[1m[\u001B[0m\u001B[34;49mnotice\u001B[0m\u001B[1;39;49m]\u001B[0m\u001B[39;49m To update, run: \u001B[0m\u001B[32;49mpython3 -m pip install --upgrade pip\u001B[0m\r\n"
     ]
    }
   ],
   "source": [
    "# ! pip install python-dotenv\n",
    "! pip install langchain\n",
    "! pip install langchain[docarray]\n",
    "! pip install tiktoken\n",
    "! pip install pinecone-client\n",
    "! pip install jq\n",
    "! pip install chromadb\n",
    "! pip install openai[embeddings]"
   ],
   "metadata": {
    "collapsed": false,
    "ExecuteTime": {
     "end_time": "2023-08-18T16:26:19.815891Z",
     "start_time": "2023-08-18T16:26:05.852888Z"
    }
   }
  },
  {
   "cell_type": "code",
   "execution_count": 67,
   "outputs": [
    {
     "name": "stdout",
     "output_type": "stream",
     "text": [
      "Path [/var/genie-in-the-box/src] already in sys.path\n"
     ]
    },
    {
     "data": {
      "text/plain": "['/Applications/PyCharm.app/Contents/plugins/python/helpers-pro/jupyter_debug',\n '/Applications/PyCharm.app/Contents/plugins/python/helpers/pydev',\n '/var',\n '/usr/lib/python310.zip',\n '/usr/lib/python3.10',\n '/usr/lib/python3.10/lib-dynload',\n '',\n '/usr/local/lib/python3.10/dist-packages',\n '/usr/lib/python3/dist-packages',\n '/var/genie-in-the-box/src/lib',\n '/var/genie-in-the-box/src/lib',\n '/var/genie-in-the-box/src']"
     },
     "execution_count": 67,
     "metadata": {},
     "output_type": "execute_result"
    }
   ],
   "source": [
    "import sys\n",
    "import os\n",
    "\n",
    "import pandas as pd\n",
    "import json\n",
    "\n",
    "path = \"/var/genie-in-the-box/src/lib\"\n",
    "if path not in sys.path:\n",
    "    sys.path.append( path )\n",
    "\n",
    "import util as du\n",
    "import util_stopwatch as sw\n",
    "import solution_snapshot_mgr as ssm\n",
    "import solution_snapshot as ss\n",
    "\n",
    "path = \"/var/genie-in-the-box/src\"\n",
    "du.add_to_path( path )\n",
    "sys.path"
   ],
   "metadata": {
    "collapsed": false,
    "ExecuteTime": {
     "end_time": "2023-08-18T16:30:02.652550Z",
     "start_time": "2023-08-18T16:30:02.649559Z"
    }
   }
  },
  {
   "cell_type": "code",
   "execution_count": 68,
   "outputs": [
    {
     "name": "stdout",
     "output_type": "stream",
     "text": [
      "Foo completed! in 0 ms\n",
      "\n"
     ]
    }
   ],
   "source": [
    "timer = sw.Stopwatch()\n",
    "timer.print( \"Foo completed!\", use_millis=True )"
   ],
   "metadata": {
    "collapsed": false,
    "ExecuteTime": {
     "end_time": "2023-08-18T16:30:06.991680Z",
     "start_time": "2023-08-18T16:30:06.988626Z"
    }
   }
  },
  {
   "cell_type": "code",
   "execution_count": 69,
   "outputs": [
    {
     "name": "stdout",
     "output_type": "stream",
     "text": [
      "The autoreload extension is already loaded. To reload it, use:\n",
      "  %reload_ext autoreload\n"
     ]
    }
   ],
   "source": [
    "# reload source code using inline magic for Jupiter notebook\n",
    "%load_ext autoreload"
   ],
   "metadata": {
    "collapsed": false,
    "ExecuteTime": {
     "end_time": "2023-08-18T16:30:09.528234Z",
     "start_time": "2023-08-18T16:30:09.524025Z"
    }
   }
  },
  {
   "cell_type": "code",
   "execution_count": 73,
   "outputs": [
    {
     "name": "stdout",
     "output_type": "stream",
     "text": [
      "[1] snapshots by question loaded from [/var/genie-in-the-box/src/conf/long-term-memory/solutions/]\n"
     ]
    }
   ],
   "source": [
    "%autoreload\n",
    "path_to_snapshots = os.path.join( du.get_project_root(), \"src/conf/long-term-memory/solutions/\" )\n",
    "ss_manager = ssm.SolutionSnapshotManager( path_to_snapshots )\n",
    "print( ss_manager )"
   ],
   "metadata": {
    "collapsed": false,
    "ExecuteTime": {
     "end_time": "2023-08-18T16:32:57.243794Z",
     "start_time": "2023-08-18T16:32:57.174746Z"
    }
   }
  },
  {
   "cell_type": "code",
   "execution_count": 71,
   "outputs": [],
   "source": [
    "from langchain.agents.agent_toolkits.pandas.base import create_pandas_dataframe_agent\n",
    "from langchain.chat_models import ChatOpenAI\n",
    "from langchain.prompts import ChatPromptTemplate"
   ],
   "metadata": {
    "collapsed": false,
    "ExecuteTime": {
     "end_time": "2023-08-18T16:30:17.015723Z",
     "start_time": "2023-08-18T16:30:17.007521Z"
    }
   }
  },
  {
   "cell_type": "code",
   "execution_count": 63,
   "outputs": [
    {
     "name": "stdout",
     "output_type": "stream",
     "text": [
      "<class 'pandas.core.frame.DataFrame'>\n",
      "RangeIndex: 200 entries, 0 to 199\n",
      "Data columns (total 11 columns):\n",
      " #   Column                      Non-Null Count  Dtype \n",
      "---  ------                      --------------  ----- \n",
      " 0   start_date                  200 non-null    object\n",
      " 1   end_date                    200 non-null    object\n",
      " 2   start_time                  200 non-null    object\n",
      " 3   end_time                    200 non-null    object\n",
      " 4   event_type                  200 non-null    object\n",
      " 5   recurrent                   200 non-null    bool  \n",
      " 6   recurrence_interval         47 non-null     object\n",
      " 7   priority_level              200 non-null    object\n",
      " 8   name                        200 non-null    object\n",
      " 9   relationship                200 non-null    object\n",
      " 10  description_who_what_where  200 non-null    object\n",
      "dtypes: bool(1), object(10)\n",
      "memory usage: 15.9+ KB\n"
     ]
    }
   ],
   "source": [
    "# Load CSV data From file into the Pandas DataFrame.\n",
    "df = pd.read_csv( du.get_project_root() + \"/src/conf/long-term-memory/events.csv\" )\n",
    "df.info()"
   ],
   "metadata": {
    "collapsed": false,
    "ExecuteTime": {
     "end_time": "2023-08-18T16:26:50.780511Z",
     "start_time": "2023-08-18T16:26:50.768239Z"
    }
   }
  },
  {
   "cell_type": "code",
   "execution_count": 64,
   "outputs": [
    {
     "name": "stdout",
     "output_type": "stream",
     "text": [
      "Counting [Birthday] events...\n",
      "\n",
      "\n",
      "Done! Total 16 Birthday events\n"
     ]
    }
   ],
   "source": [
    "def get_event_count( df, event ):\n",
    "\n",
    "    print( \"Counting [{}] events...\".format( event ), end=\"\\n\\n\" )\n",
    "\n",
    "    count = df[ df.event_type == event ].shape[ 0 ]\n",
    "\n",
    "    print()\n",
    "    print( \"Done! Total {} {} events\".format( count, event ) )\n",
    "\n",
    "get_event_count( df, \"Birthday\" )"
   ],
   "metadata": {
    "collapsed": false,
    "ExecuteTime": {
     "end_time": "2023-08-18T16:26:52.949724Z",
     "start_time": "2023-08-18T16:26:52.946237Z"
    }
   }
  },
  {
   "cell_type": "code",
   "execution_count": 105,
   "outputs": [],
   "source": [
    "event_prompt_template_string = \"\"\"\n",
    "You are an event planner with proven capacity for querying pandas dataframes.\n",
    "The dataframe that I am providing you for inspection contains two important fields:\n",
    "1) event_type: tells us what kind of event is taking place, such as birthday, conference, meetings, etc.\n",
    "2) description_who_what_where: tells us who, what and/or where the event is about, as in 'my friend's birthday at their favorite bar', the name of a conference, or what a meeting is about, e.g.: 'yet another boring meeting with the boss'.\n",
    "I expect you to query the dataframe provided and answer in plain English unless specifically requested to do otherwise.\n",
    "I expect you to remember query techniques and solutions that work, so that you do not have to begin from zero.\n",
    "When you recognize a new query as similar to a previous query, say so\n",
    "NEVER display raw dataframe content, unless specifically requested to do otherwise.\n",
    "All dates and temporal references like 'today', 'yesterday', 'next week' should all be calculated by using Python's datetime library.\n",
    "When I ask you about events contained in this dataframe, you will always sort the events in ascending order, 1 per line, unless specifically requested to do otherwise.\n",
    "When summarizing your results you will include the event type, start time, date (e.g.: today, tomorrow, Wednesday the 10th, etc.), and what the event is about, using conversational English, unless specifically requested to do otherwise.\n",
    "DO NOT prepend numbers to a list of events, unless specifically requested to do otherwise.\n",
    "If the question, delimited by three hash symbols ###, is vague or difficult to answer, please ask for clarification.\n",
    "\n",
    "{history}\n",
    "\n",
    "Given these instructions, answer the following question: ###{question}###\n",
    "\n",
    "Format your response as a json object containing the following fields\n",
    "1) question: the question that was asked\n",
    "2) answer: the answer to the question\n",
    "3) solution_summary: a plain english summary of the solution used to answer the question\n",
    "4) code: the code used to answer the question, formatted as a list of strings, one string per line.\n",
    "5) programming_language: the programming language used to answer the question\n",
    "6) language_version: the programming language version used to answer the question\n",
    "\"\"\"\n",
    "\n",
    "solution_history_string = \"\"\"\n",
    "You have successfully answered either this exact question or a question similar to this before.\n",
    "\n",
    "This is your summary of the solution:\n",
    "\n",
    "{solution_summary}\n",
    "\n",
    "This is the code you used to answer the question:\n",
    "\n",
    "{solution_code}\n",
    "\n",
    "Please examine the summary and the code and then modify the code if you think it is necessary.\n",
    "Once you have done that, execute the code. If it fails, debug it.\n",
    "\"\"\"\n",
    "\n",
    "event_prompt_template     = ChatPromptTemplate.from_template( event_prompt_template_string )\n",
    "# solution_history_template = ChatPromptTemplate.from_template( solution_history_string )"
   ],
   "metadata": {
    "collapsed": false,
    "ExecuteTime": {
     "end_time": "2023-08-18T17:39:51.483401Z",
     "start_time": "2023-08-18T17:39:51.476690Z"
    }
   }
  },
  {
   "cell_type": "code",
   "execution_count": 106,
   "outputs": [
    {
     "name": "stdout",
     "output_type": "stream",
     "text": [
      "get_snapshots_by_question( 'what day is today' )...\n",
      "Exact match: Snapshot with question [what day is today] exists!\n",
      "Found [1] similar snapshots\n",
      "score [100.0] for [what day is today] == [what day is today]\n"
     ]
    },
    {
     "data": {
      "text/plain": "\"\\nYou have successfully answered either this exact question or a question similar to this before.\\n\\nThis is your summary of the solution:\\n\\nI used Python's datetime library to get the current date.\\n\\nThis is the code you used to answer the question:\\n\\nimport datetime\\ntoday = datetime.date.today()\\ntoday\\n\\nPlease examine the summary and the code and then modify the code if you think it is necessary.\\nOnce you have done that, execute the code. If it fails, debug it.\\n\""
     },
     "execution_count": 106,
     "metadata": {},
     "output_type": "execute_result"
    }
   ],
   "source": [
    "def get_history( question ):\n",
    "\n",
    "    similar_snapshots = ss_manager.get_snapshots_by_question( question )\n",
    "\n",
    "    if len( similar_snapshots ) > 0:\n",
    "\n",
    "        solution_summary = similar_snapshots[ 0 ][ 1 ].solution_summary\n",
    "        solution_code    = \"\\n\".join( similar_snapshots[ 0 ][ 1 ].code )\n",
    "\n",
    "        solution_history = solution_history_string.format( solution_summary=solution_summary, solution_code=solution_code )\n",
    "    else:\n",
    "        solution_history = \"\"\n",
    "\n",
    "    return solution_history\n",
    "\n",
    "question = \"What day is today?\"\n",
    "# question = \"Why is the sky blue?\"\n",
    "\n",
    "# solution_summary, solution_code = get_history( question )\n",
    "solution_history = get_history( question )\n",
    "\n",
    "solution_history"
   ],
   "metadata": {
    "collapsed": false,
    "ExecuteTime": {
     "end_time": "2023-08-18T17:39:57.171341Z",
     "start_time": "2023-08-18T17:39:57.166957Z"
    }
   }
  },
  {
   "cell_type": "code",
   "execution_count": 107,
   "outputs": [
    {
     "name": "stdout",
     "output_type": "stream",
     "text": [
      "get_snapshots_by_question( 'what day is today' )...\n",
      "Exact match: Snapshot with question [what day is today] exists!\n",
      "Found [1] similar snapshots\n",
      "score [100.0] for [what day is today] == [what day is today]\n",
      "[HumanMessage(content=\"\\nYou are an event planner with proven capacity for querying pandas dataframes.\\nThe dataframe that I am providing you for inspection contains two important fields:\\n1) event_type: tells us what kind of event is taking place, such as birthday, conference, meetings, etc.\\n2) description_who_what_where: tells us who, what and/or where the event is about, as in 'my friend's birthday at their favorite bar', the name of a conference, or what a meeting is about, e.g.: 'yet another boring meeting with the boss'.\\nI expect you to query the dataframe provided and answer in plain English unless specifically requested to do otherwise.\\nI expect you to remember query techniques and solutions that work, so that you do not have to begin from zero.\\nWhen you recognize a new query as similar to a previous query, say so\\nNEVER display raw dataframe content, unless specifically requested to do otherwise.\\nAll dates and temporal references like 'today', 'yesterday', 'next week' should all be calculated by using Python's datetime library.\\nWhen I ask you about events contained in this dataframe, you will always sort the events in ascending order, 1 per line, unless specifically requested to do otherwise.\\nWhen summarizing your results you will include the event type, start time, date (e.g.: today, tomorrow, Wednesday the 10th, etc.), and what the event is about, using conversational English, unless specifically requested to do otherwise.\\nDO NOT prepend numbers to a list of events, unless specifically requested to do otherwise.\\nIf the question, delimited by three hash symbols ###, is vague or difficult to answer, please ask for clarification.\\n\\n\\nYou have successfully answered either this exact question or a question similar to this before.\\n\\nThis is your summary of the solution:\\n\\nI used Python's datetime library to get the current date.\\n\\nThis is the code you used to answer the question:\\n\\nimport datetime\\ntoday = datetime.date.today()\\ntoday\\n\\nPlease examine the summary and the code and then modify the code if you think it is necessary.\\nOnce you have done that, execute the code. If it fails, debug it.\\n\\n\\nGiven these instructions, answer the following question: ###what day is today###\\n\\nFormat your response as a json object containing the following fields\\n1) question: the question that was asked\\n2) answer: the answer to the question\\n3) solution_summary: a plain english summary of the solution used to answer the question\\n4) code: the code used to answer the question, formatted as a list of strings, one string per line.\\n5) programming_language: the programming language used to answer the question\\n6) language_version: the programming language version used to answer the question\\n\", additional_kwargs={}, example=False)]\n",
      "\n"
     ]
    }
   ],
   "source": [
    "def get_event_prompt( question ):\n",
    "\n",
    "    question = ss.SolutionSnapshot.clean_question( question )\n",
    "    history  = get_history( question )\n",
    "\n",
    "    event_prompt = event_prompt_template.format_messages( question=question, history=history )\n",
    "\n",
    "    return event_prompt\n",
    "\n",
    "event_prompt = get_event_prompt( \"What day is today?\" )\n",
    "# event_prompt = get_event_prompt( \"Why is the sky blue?\" )\n",
    "\n",
    "print( event_prompt, end=\"\\n\\n\" )"
   ],
   "metadata": {
    "collapsed": false,
    "ExecuteTime": {
     "end_time": "2023-08-18T17:40:30.728048Z",
     "start_time": "2023-08-18T17:40:30.724961Z"
    }
   }
  },
  {
   "cell_type": "code",
   "execution_count": 28,
   "outputs": [],
   "source": [
    "llm      = ChatOpenAI( model_name=\"gpt-4-0613\", temperature=0.0 )\n",
    "df_agent = create_pandas_dataframe_agent( llm, df, verbose=True )"
   ],
   "metadata": {
    "collapsed": false,
    "ExecuteTime": {
     "end_time": "2023-08-18T14:45:53.012316Z",
     "start_time": "2023-08-18T14:45:52.988983Z"
    }
   }
  },
  {
   "cell_type": "code",
   "execution_count": 108,
   "outputs": [
    {
     "name": "stdout",
     "output_type": "stream",
     "text": [
      "get_snapshots_by_question( 'what day is today' )...\n",
      "Exact match: Snapshot with question [what day is today] exists!\n",
      "Found [1] similar snapshots\n",
      "score [100.0] for [what day is today] == [what day is today]\n",
      "\n",
      "\n",
      "\u001B[1m> Entering new AgentExecutor chain...\u001B[0m\n",
      "\u001B[32;1m\u001B[1;3mThought: The question is asking for the current date. I can use the datetime library in Python to get this information. The solution summary and code provided are correct for this question, so no modification is necessary.\n",
      "Action: python_repl_ast\n",
      "Action Input: import datetime\n",
      "today = datetime.date.today()\n",
      "today\u001B[0m\n",
      "Observation: \u001B[36;1m\u001B[1;3m2023-08-18\u001B[0m\n",
      "Thought:\u001B[32;1m\u001B[1;3mThe current date is 2023-08-18. Now I will format the response as a json object.\n",
      "Final Answer: {\"question\": \"what day is today\", \"answer\": \"2023-08-18\", \"solution_summary\": \"I used Python's datetime library to get the current date.\", \"code\": [\"import datetime\", \"today = datetime.date.today()\", \"today\"], \"programming_language\": \"Python\", \"language_version\": \"3.7\"}\u001B[0m\n",
      "\n",
      "\u001B[1m> Finished chain.\u001B[0m\n",
      "Query completed! in 22,426 ms\n",
      "\n"
     ]
    },
    {
     "data": {
      "text/plain": "'{\"question\": \"what day is today\", \"answer\": \"2023-08-18\", \"solution_summary\": \"I used Python\\'s datetime library to get the current date.\", \"code\": [\"import datetime\", \"today = datetime.date.today()\", \"today\"], \"programming_language\": \"Python\", \"language_version\": \"3.7\"}'"
     },
     "execution_count": 108,
     "metadata": {},
     "output_type": "execute_result"
    }
   ],
   "source": [
    "# Create function to take a question and call the data frame agent.\n",
    "def query_dataframe( question ):\n",
    "\n",
    "    timer = sw.Stopwatch()\n",
    "\n",
    "    # event_prompt = event_prompt_template.format_messages( question=question )\n",
    "    event_prompt = get_event_prompt( question )\n",
    "    response = df_agent.run( event_prompt )\n",
    "\n",
    "    timer.print( \"Query completed!\", use_millis=True )\n",
    "\n",
    "    return response\n",
    "\n",
    "response = query_dataframe( \"What day is today?\" )\n",
    "# response = query_dataframe( \"What day was yesterday?\" )\n",
    "# response = query_dataframe( \"What day is tomorrow?\" )\n",
    "\n",
    "response"
   ],
   "metadata": {
    "collapsed": false,
    "ExecuteTime": {
     "end_time": "2023-08-18T17:41:52.367222Z",
     "start_time": "2023-08-18T17:41:29.935316Z"
    }
   }
  },
  {
   "cell_type": "code",
   "execution_count": 109,
   "outputs": [
    {
     "data": {
      "text/plain": "'{\"question\": \"what day is today\", \"answer\": \"2023-08-18\", \"solution_summary\": \"I used Python\\'s datetime library to get the current date.\", \"code\": [\"import datetime\", \"today = datetime.date.today()\", \"today\"], \"programming_language\": \"Python\", \"language_version\": \"3.7\"}'"
     },
     "execution_count": 109,
     "metadata": {},
     "output_type": "execute_result"
    }
   ],
   "source": [
    "response"
   ],
   "metadata": {
    "collapsed": false,
    "ExecuteTime": {
     "end_time": "2023-08-18T17:42:05.333027Z",
     "start_time": "2023-08-18T17:42:05.327407Z"
    }
   }
  },
  {
   "cell_type": "code",
   "execution_count": 110,
   "outputs": [
    {
     "data": {
      "text/plain": "{'question': 'what day is today',\n 'answer': '2023-08-18',\n 'solution_summary': \"I used Python's datetime library to get the current date.\",\n 'code': ['import datetime', 'today = datetime.date.today()', 'today'],\n 'programming_language': 'Python',\n 'language_version': '3.7'}"
     },
     "execution_count": 110,
     "metadata": {},
     "output_type": "execute_result"
    }
   ],
   "source": [
    "# parse the json string into a Python dictionary\n",
    "response_dict = json.loads( response )\n",
    "response_dict"
   ],
   "metadata": {
    "collapsed": false,
    "ExecuteTime": {
     "end_time": "2023-08-18T17:42:08.774346Z",
     "start_time": "2023-08-18T17:42:08.769555Z"
    }
   }
  },
  {
   "cell_type": "code",
   "execution_count": 98,
   "outputs": [
    {
     "ename": "TypeError",
     "evalue": "string indices must be integers",
     "output_type": "error",
     "traceback": [
      "\u001B[0;31m---------------------------------------------------------------------------\u001B[0m",
      "\u001B[0;31mTypeError\u001B[0m                                 Traceback (most recent call last)",
      "Cell \u001B[0;32mIn[98], line 1\u001B[0m\n\u001B[0;32m----> 1\u001B[0m raw_summary \u001B[38;5;241m=\u001B[39m \u001B[43mresponse\u001B[49m\u001B[43m[\u001B[49m\u001B[43m \u001B[49m\u001B[38;5;124;43m\"\u001B[39;49m\u001B[38;5;124;43msolution_code\u001B[39;49m\u001B[38;5;124;43m\"\u001B[39;49m\u001B[43m \u001B[49m\u001B[43m]\u001B[49m\n\u001B[1;32m      2\u001B[0m summary \u001B[38;5;241m=\u001B[39m raw_summary\u001B[38;5;241m.\u001B[39msplit( \u001B[38;5;124m\"\u001B[39m\u001B[38;5;130;01m\\n\u001B[39;00m\u001B[38;5;124m\"\u001B[39m )\n\u001B[1;32m      3\u001B[0m summary\n",
      "\u001B[0;31mTypeError\u001B[0m: string indices must be integers"
     ]
    }
   ],
   "source": [
    "raw_summary = response[ \"solution_code\" ]\n",
    "summary = raw_summary.split( \"\\n\" )\n",
    "summary"
   ],
   "metadata": {
    "collapsed": false,
    "ExecuteTime": {
     "end_time": "2023-08-18T17:33:18.029511Z",
     "start_time": "2023-08-18T17:33:18.009128Z"
    }
   }
  },
  {
   "cell_type": "code",
   "execution_count": 99,
   "outputs": [
    {
     "data": {
      "text/plain": "'[\"import datetime\", \"today = datetime.date.today()\", \"today\"]'"
     },
     "execution_count": 99,
     "metadata": {},
     "output_type": "execute_result"
    }
   ],
   "source": [
    "foo = [ \"import datetime\", \"today = datetime.date.today()\", \"today\" ]\n",
    "\n",
    "# Get foo as a json string\n",
    "import json\n",
    "foo_json = json.dumps( foo )\n",
    "foo_json"
   ],
   "metadata": {
    "collapsed": false,
    "ExecuteTime": {
     "end_time": "2023-08-18T17:33:20.213440Z",
     "start_time": "2023-08-18T17:33:20.210394Z"
    }
   }
  },
  {
   "cell_type": "code",
   "execution_count": 40,
   "outputs": [
    {
     "data": {
      "text/plain": "['import datetime', 'today = datetime.date.today()', 'today']"
     },
     "execution_count": 40,
     "metadata": {},
     "output_type": "execute_result"
    }
   ],
   "source": [
    "foo"
   ],
   "metadata": {
    "collapsed": false,
    "ExecuteTime": {
     "end_time": "2023-08-18T15:36:46.328430Z",
     "start_time": "2023-08-18T15:36:46.308741Z"
    }
   }
  },
  {
   "cell_type": "code",
   "execution_count": null,
   "outputs": [],
   "source": [],
   "metadata": {
    "collapsed": false
   }
  }
 ],
 "metadata": {
  "kernelspec": {
   "display_name": "Python 3",
   "language": "python",
   "name": "python3"
  },
  "language_info": {
   "codemirror_mode": {
    "name": "ipython",
    "version": 2
   },
   "file_extension": ".py",
   "mimetype": "text/x-python",
   "name": "python",
   "nbconvert_exporter": "python",
   "pygments_lexer": "ipython2",
   "version": "2.7.6"
  }
 },
 "nbformat": 4,
 "nbformat_minor": 0
}
