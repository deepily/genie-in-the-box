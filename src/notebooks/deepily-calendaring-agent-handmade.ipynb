{
 "cells": [
  {
   "cell_type": "code",
   "execution_count": 4,
   "outputs": [],
   "source": [
    "%load_ext autoreload"
   ],
   "metadata": {
    "collapsed": false,
    "ExecuteTime": {
     "end_time": "2023-10-09T14:59:47.533403Z",
     "start_time": "2023-10-09T14:59:47.507579Z"
    }
   },
   "id": "14c1efa189e09521"
  },
  {
   "cell_type": "code",
   "execution_count": 5,
   "outputs": [
    {
     "name": "stdout",
     "output_type": "stream",
     "text": [
      "/var/genie-in-the-box/src/notebooks\n",
      "/var/genie-in-the-box/src\n"
     ]
    }
   ],
   "source": [
    "import os\n",
    "print( os.getcwd() )\n",
    "os.chdir( \"/var/genie-in-the-box/src\" )\n",
    "print( os.getcwd() )"
   ],
   "metadata": {
    "collapsed": false,
    "ExecuteTime": {
     "end_time": "2023-10-09T14:59:48.099682Z",
     "start_time": "2023-10-09T14:59:48.095347Z"
    }
   },
   "id": "b117e3a7855590eb"
  },
  {
   "cell_type": "code",
   "execution_count": 6,
   "outputs": [
    {
     "name": "stdout",
     "output_type": "stream",
     "text": [
      "['/Applications/PyCharm.app/Contents/plugins/python/helpers-pro/jupyter_debug', '/Applications/PyCharm.app/Contents/plugins/python/helpers/pydev', '/var/genie-in-the-box/src/notebooks', '/usr/local/lib/python310.zip', '/usr/local/lib/python3.10', '/usr/local/lib/python3.10/lib-dynload', '', '/usr/local/lib/python3.10/site-packages', '/var/genie-in-the-box/src/lib']\n",
      "Added [/var/genie-in-the-box/src] to sys.path\n",
      "pwd [/var/genie-in-the-box/src]\n",
      "\n",
      "/Applications/PyCharm.app/Contents/plugins/python/helpers-pro/jupyter_debug\n",
      "/Applications/PyCharm.app/Contents/plugins/python/helpers/pydev\n",
      "/usr/local/lib/python3.10\n",
      "/usr/local/lib/python3.10/lib-dynload\n",
      "/usr/local/lib/python3.10/site-packages\n",
      "/usr/local/lib/python310.zip\n",
      "/var/genie-in-the-box/src\n",
      "/var/genie-in-the-box/src/lib\n",
      "/var/genie-in-the-box/src/notebooks\n"
     ]
    }
   ],
   "source": [
    "%autoreload\n",
    "\n",
    "import sys\n",
    "import os\n",
    "import json\n",
    "\n",
    "\n",
    "# os.environ[ \"LANGCHAIN_WANDB_TRACING\" ] = \"true\"\n",
    "# # wandb documentation to configure wandb using env variables\n",
    "# # https://docs.wandb.ai/guides/track/advanced/environment-variables\n",
    "# # here we are configuring the wandb project name\n",
    "# os.environ[ \"WANDB_PROJECT\" ] = \"deepily-dataframe-agent\"\n",
    "\n",
    "path = \"/var/genie-in-the-box/src/lib\"\n",
    "if path not in sys.path:\n",
    "    sys.path.append( path )\n",
    "else:\n",
    "    print( f\"[{path}] already in sys.path\" )\n",
    "\n",
    "print( sys.path )\n",
    "\n",
    "\n",
    "import lib.util             as du\n",
    "path = \"/var/genie-in-the-box/src\"\n",
    "du.add_to_path( path )\n",
    "\n",
    "import lib.util_pandas      as up\n",
    "import lib.util_stopwatch   as sw\n",
    "import lib.util_code_runner as ucr\n",
    "\n",
    "from solution_snapshot_mgr import SolutionSnapshotManager\n",
    "from agent_refactoring     import RefactoringAgent\n",
    "\n",
    "import openai\n",
    "\n",
    "debug   = True\n",
    "verbose = True\n"
   ],
   "metadata": {
    "collapsed": false,
    "ExecuteTime": {
     "end_time": "2023-10-09T14:59:50.300275Z",
     "start_time": "2023-10-09T14:59:49.992599Z"
    }
   },
   "id": "e4a94b9494513834"
  },
  {
   "cell_type": "code",
   "execution_count": 77,
   "outputs": [
    {
     "name": "stdout",
     "output_type": "stream",
     "text": [
      "Asking ChatGPT [gpt-4-0613]...\n",
      "Asking ChatGPT [gpt-4-0613]... in 1,656 ms\n"
     ]
    },
    {
     "data": {
      "text/plain": "\"My name is ChatGPT. I'm an artificial intelligence designed to assist with information and conversation.\""
     },
     "execution_count": 77,
     "metadata": {},
     "output_type": "execute_result"
    }
   ],
   "source": [
    "GPT_4   = \"gpt-4-0613\"\n",
    "GPT_3_5 = \"gpt-3.5-turbo-0613\"\n",
    "\n",
    "def ask_chat_gpt_text( preamble, query, model=GPT_4, debug=False ):\n",
    "\n",
    "    openai.api_key = os.getenv( \"FALSE_POSITIVE_API_KEY\" )\n",
    "    \n",
    "    timer = sw.Stopwatch( msg=f\"Asking ChatGPT [{model}]...\".format( model ) )\n",
    "    \n",
    "    response = openai.ChatCompletion.create(\n",
    "        model=model,\n",
    "        messages=[ \n",
    "            { \"role\": \"system\", \"content\": preamble },\n",
    "            { \"role\": \"user\",   \"content\": query } \n",
    "        ],\n",
    "        temperature=0,\n",
    "        max_tokens=2400,\n",
    "        top_p=1.0,\n",
    "        frequency_penalty=0.0,\n",
    "        presence_penalty=0.0\n",
    "    )\n",
    "    timer.print( use_millis=True )\n",
    "    \n",
    "    if debug: print( json.dumps( response, indent=4 ) )\n",
    "    \n",
    "    return response[ \"choices\" ][ 0 ][ \"message\" ][ \"content\" ].strip()\n",
    "\n",
    "preamble = \"You are chatGPT, a helpful chatbot\"\n",
    "question = \"What's your name?\"\n",
    "\n",
    "ask_chat_gpt_text( preamble, question, model=GPT_4 )"
   ],
   "metadata": {
    "collapsed": false,
    "ExecuteTime": {
     "end_time": "2023-10-09T18:33:39.063076Z",
     "start_time": "2023-10-09T18:33:37.404224Z"
    }
   },
   "id": "15c33434a5136979"
  },
  {
   "cell_type": "code",
   "execution_count": 167,
   "outputs": [
    {
     "data": {
      "text/plain": "start_date\n2023-11-01    2\n2023-10-28    2\n2023-09-30    2\n2023-10-13    1\n2023-10-30    1\n2023-10-22    1\n2023-10-21    1\n2023-10-20    1\n2023-10-19    1\n2023-10-15    1\n2023-09-01    1\n2023-09-06    1\n2023-10-03    1\n2023-09-28    1\n2023-09-27    1\n2023-09-20    1\n2023-09-12    1\n2023-09-09    1\n2023-10-07    1\nName: count, dtype: int64"
     },
     "execution_count": 167,
     "metadata": {},
     "output_type": "execute_result"
    }
   ],
   "source": [
    "import pandas as pd\n",
    "df = pd.read_csv( du.get_project_root() + \"/src/conf/long-term-memory/events.csv\" )\n",
    "df[ ( df.event_type == 'Concert' ) ].start_date.value_counts()\n"
   ],
   "metadata": {
    "collapsed": false,
    "ExecuteTime": {
     "end_time": "2023-10-09T20:54:06.213866Z",
     "start_time": "2023-10-09T20:54:06.191741Z"
    }
   },
   "id": "9d135abbb37b4379"
  },
  {
   "cell_type": "code",
   "execution_count": 168,
   "outputs": [
    {
     "data": {
      "text/plain": "event_type\nConference      24\nConcert         22\nPerformance     21\nAppointment     17\nAnniversary     17\nWorkout         17\nBirthday        16\nWorkshop        15\nSubscription    14\nMeeting         12\nInterview       11\nTODO             7\nTodo             7\nName: count, dtype: int64"
     },
     "execution_count": 168,
     "metadata": {},
     "output_type": "execute_result"
    }
   ],
   "source": [
    "df.event_type.value_counts()"
   ],
   "metadata": {
    "collapsed": false,
    "ExecuteTime": {
     "end_time": "2023-10-09T20:54:07.766783Z",
     "start_time": "2023-10-09T20:54:07.758716Z"
    }
   },
   "id": "cec3fcbd7c2ab05a"
  },
  {
   "cell_type": "code",
   "execution_count": 252,
   "outputs": [
    {
     "name": "stdout",
     "output_type": "stream",
     "text": [
      "\n",
      "------------------------------------------------------------------------------------------------------------------------\n",
      "- Found [35] synonymous questions\n",
      "------------------------------------------------------------------------------------------------------------------------\n",
      "\n",
      "Synonymous question [when is juans birthday] for snapshot.question [when is juans birthday]\n",
      "Synonymous question [what day is today] for snapshot.question [what day is today]\n",
      "Synonymous question [whats todays date] for snapshot.question [what day is today]\n",
      "Synonymous question [whats todays day and date] for snapshot.question [what day is today]\n",
      "Synonymous question [what is the day and date for today] for snapshot.question [what day is today]\n",
      "Synonymous question [whats the date] for snapshot.question [what day is today]\n",
      "Synonymous question [say what day is today] for snapshot.question [what day is today]\n",
      "Synonymous question [hey what day is today] for snapshot.question [what day is today]\n",
      "Synonymous question [whats todays day] for snapshot.question [what day is today]\n",
      "Synonymous question [what day is it] for snapshot.question [what day is today]\n",
      "Synonymous question [what time is it] for snapshot.question [what time is it]\n",
      "Synonymous question [got the time] for snapshot.question [what time is it]\n",
      "Synonymous question [whats the time] for snapshot.question [what time is it]\n",
      "Synonymous question [yo what time is it] for snapshot.question [what time is it]\n",
      "Synonymous question [hey you got the time] for snapshot.question [what time is it]\n",
      "Synonymous question [hey you what time is it] for snapshot.question [what time is it]\n",
      "Synonymous question [hey what time is it] for snapshot.question [what time is it]\n",
      "Synonymous question [what performances do i have today] for snapshot.question [what performances do i have today]\n",
      "Synonymous question [what appointments do i have today] for snapshot.question [what appointments do i have today]\n",
      "Synonymous question [when is anitas birthday] for snapshot.question [when is anitas birthday]\n",
      "Synonymous question [when is jimmys birthday] for snapshot.question [when is jimmys birthday]\n",
      "Synonymous question [wins jimmys birthday] for snapshot.question [when is jimmys birthday]\n",
      "Synonymous question [whens jimmys birthday] for snapshot.question [when is jimmys birthday]\n",
      "Synonymous question [what birthdays do i have this week] for snapshot.question [what birthdays do i have this week]\n",
      "Synonymous question [what conferences do i have today] for snapshot.question [what conferences do i have today]\n",
      "Synonymous question [when is bobby's birthday?] for snapshot.question [when is bobbys birthday]\n",
      "Synonymous question [how many records in this dataframe] for snapshot.question [how many records in this dataframe]\n",
      "Synonymous question [how many rows in this table] for snapshot.question [how many records in this dataframe]\n",
      "Synonymous question [how many records in this table] for snapshot.question [how many records in this dataframe]\n",
      "Synonymous question [how many records in this csv file] for snapshot.question [how many records in this dataframe]\n",
      "Synonymous question [how many records in that table] for snapshot.question [how many records in this dataframe]\n",
      "Synonymous question [how many rows in that data frame] for snapshot.question [how many records in this dataframe]\n",
      "Synonymous question [how many records in that database] for snapshot.question [how many records in this dataframe]\n",
      "Synonymous question [how many records do i have in that table] for snapshot.question [how many records in this dataframe]\n",
      "Synonymous question [what concerts do i have this week] for snapshot.question [what concerts do i have this week]\n",
      "\n",
      "Loading question embeddings dictionary ................................................................................. Done!\n",
      "\n",
      "Code similarity score [100.00001832355703] for [when is juans birthday] == [when is juans birthday]\n",
      "Code similarity score [93.99821701886533] for [when is juans birthday] == [when is jimmys birthday]\n",
      "Code similarity score [93.78797902470781] for [when is juans birthday] == [when is bobbys birthday]\n",
      "Code similarity score [93.47826991609367] for [when is juans birthday] == [when is anitas birthday]\n",
      "\n",
      "Snippet 1 for question `when is juans birthday`: \n",
      "\n",
      "juan_birthday_df = df[(df['event_type'] == 'Birthday') & (df['name'] == 'Juan')]\n",
      "solution = juan_birthday_df['start_date'].values[0] if not juan_birthday_df.empty else 'No birthday found for Juan'\n",
      "print( solution )\n",
      "\n",
      "Snippet 2 for question `when is jimmys birthday`: \n",
      "\n",
      "jimmy_birthday_df = df[(df['name'] == 'Jimmy') & (df['event_type'] == 'Birthday')]\n",
      "solution = jimmy_birthday_df['start_date'].values[0] if not jimmy_birthday_df.empty else None\n",
      "print( solution )\n",
      "\n",
      "Snippet 3 for question `when is bobbys birthday`: \n",
      "\n",
      "bobby_birthday_df = df[(df['name'] == 'Bobby') & (df['event_type'] == 'Birthday')]\n",
      "solution = bobby_birthday_df['start_date'].values[0] if not bobby_birthday_df.empty else 'No birthday found for Bobby'\n",
      "print( solution )\n",
      "\n",
      "Snippet 4 for question `when is anitas birthday`: \n",
      "\n",
      "anita_birthday_df = df[(df['event_type'] == 'Birthday') & (df['name'] == 'Anita')]\n",
      "solution = anita_birthday_df['start_date'].values[0] if not anita_birthday_df.empty else 'No birthday found for Anita'\n",
      "print( solution )\n",
      "\n",
      "\n",
      "------------------------------------------------------------------------------------------------------------------------\n",
      "- Token count for self.system_message: [743]\n",
      "------------------------------------------------------------------------------------------------------------------------\n",
      "\n",
      "\n",
      "        I'm going to show you 4 Python code snippets that are similar, along with the questions they were created to answer.\n",
      "        How would you coalesce or refactor them so that you only need to call one function in all 4 scenarios?\n",
      "        How would you name the function in a way that clearly explains exactly what the date range is, e.g., 'get_this_months_events_by_type', as well as what the function does?\n",
      "        Descriptive function names MUST look like: `get_birthday_by_name`, or `get_todays_events`, `get_todays_events_by_type`, `get_tomorrows_events`, `get_this_weeks_events`, `get_this_weeks_events_by_type`,`get_this_months_events_by_type`, etc.,\n",
      "\n",
      "        As you generate the Python 3.10 code needed to answer this question, I want you to:\n",
      "\n",
      "        1) Think: Before you do anything, think out loud about what I'm asking you to do, including the steps that you will need to take to solve this problem.\n",
      "        Be critical of your thought process! How will you handle the edge cases? For example, what will you do if your query does not return a result?\n",
      "        2) Code: Generate a verbatim list of code that you used to arrive at your answer, one line of code per item on the list. The code must be complete,\n",
      "        syntactically correct, and capable of running to completion. You must allow for the possibility that your query may not return a result.\n",
      "        3) Document: Create a GPT function signature (gpt_function_signatures) that can be used by GPT to call the function you create. The function signature must be syntactically correct.\n",
      "        4) Generate examples: Generate a dictionary containing the code examples needed to call the function you created, one line of code per question provided.\n",
      "        The example function calls must be complete, syntactically correct, and capable of running to completion. Each example must be wrapped in a print statement.\n",
      "        5) Explain: Briefly and succinctly explain your code in plain English.\n",
      "\n",
      "        Format: return your response as a syntactically correct JSON object with the following fields and formatting:\n",
      "        {\n",
      "            \"thoughts\": \"Your thoughts\",\n",
      "            \"code\": [],\n",
      "            \"function_name\": \"The name of your function. It must describe the time being filtered, e.g., `get_tomorrows_events`\",\n",
      "            \"parameters\": \"The parameters to your function, only two are allowed: the 1st will always be `df` and the 2nd is of your choosing.\",\n",
      "            \"gpt_function_signatures\":\"[\n",
      "            {\n",
      "                \"name\": \"get_current_weather\",\n",
      "                \"description\": \"Gets the current weather in a given location\",\n",
      "                \"parameters\": {\n",
      "                    \"type\": \"object\",\n",
      "                    \"properties\": {\n",
      "                        \"location\": {\n",
      "                            \"type\": \"string\",\n",
      "                            \"description\": \"The city and state, e.g. San Francisco, CA\",\n",
      "                        },\n",
      "                        \"unit\": {\"type\": \"string\", \"enum\": [\"celsius\", \"fahrenheit\"]},\n",
      "                    },\n",
      "                    \"required\": [\"location\"],\n",
      "                },\n",
      "            }]\",\n",
      "            \"returns\": \"Object type of the variable `solution`\",\n",
      "            \"examples\": {}, a dictionary containing the questions and example code, one line of code per question provided.\n",
      "            \"python_version\": \"3.10\",\n",
      "            \"explanation\": \"A brief explanation of your code\",\n",
      "            \"error\": \"Verbatim stack trace or description of issues encountered while attempting to carry out this task.\"\n",
      "        }\n",
      "\n",
      "------------------------------------------------------------------------------------------------------------------------\n",
      "- Token count for self.user_message: [305]\n",
      "------------------------------------------------------------------------------------------------------------------------\n",
      "\n",
      "\n",
      "        Snippet 1 for question `when is juans birthday`: \n",
      "\n",
      "juan_birthday_df = df[(df['event_type'] == 'Birthday') & (df['name'] == 'Juan')]\n",
      "solution = juan_birthday_df['start_date'].values[0] if not juan_birthday_df.empty else 'No birthday found for Juan'\n",
      "print( solution )\n",
      "\n",
      "Snippet 2 for question `when is jimmys birthday`: \n",
      "\n",
      "jimmy_birthday_df = df[(df['name'] == 'Jimmy') & (df['event_type'] == 'Birthday')]\n",
      "solution = jimmy_birthday_df['start_date'].values[0] if not jimmy_birthday_df.empty else None\n",
      "print( solution )\n",
      "\n",
      "Snippet 3 for question `when is bobbys birthday`: \n",
      "\n",
      "bobby_birthday_df = df[(df['name'] == 'Bobby') & (df['event_type'] == 'Birthday')]\n",
      "solution = bobby_birthday_df['start_date'].values[0] if not bobby_birthday_df.empty else 'No birthday found for Bobby'\n",
      "print( solution )\n",
      "\n",
      "Snippet 4 for question `when is anitas birthday`: \n",
      "\n",
      "anita_birthday_df = df[(df['event_type'] == 'Birthday') & (df['name'] == 'Anita')]\n",
      "solution = anita_birthday_df['start_date'].values[0] if not anita_birthday_df.empty else 'No birthday found for Anita'\n",
      "print( solution )\n",
      "\n",
      "        Begin!\n",
      "        \n",
      "Asking ChatGPT [gpt-4-0613]...\n",
      "Asking ChatGPT [gpt-4-0613]... in 38,702 ms\n",
      "\n",
      "{\n",
      "    \"id\": \"chatcmpl-87w7dntqlaAlKKIbJSA8AUx4etmeR\",\n",
      "    \"object\": \"chat.completion\",\n",
      "    \"created\": 1696902409,\n",
      "    \"model\": \"gpt-4-0613\",\n",
      "    \"choices\": [\n",
      "        {\n",
      "            \"index\": 0,\n",
      "            \"message\": {\n",
      "                \"role\": \"assistant\",\n",
      "                \"content\": \"{\\n    \\\"thoughts\\\": \\\"The four code snippets are essentially doing the same thing: they are filtering a dataframe for a specific event type ('Birthday') and a specific name, and then returning the 'start_date' of the event. If no such event is found, they return a message indicating that no birthday was found for the specified person. The only difference between the snippets is the name of the person. This suggests that we can create a single function that takes the dataframe and the name as parameters, and performs the same operation. The function will be named 'get_birthday_by_name' to clearly indicate its purpose. If the query does not return a result, the function will return a message indicating that no birthday was found for the specified person.\\\",\\n\\n    \\\"code\\\": [\\n        \\\"def get_birthday_by_name(df, name):\\\",\\n        \\\"    birthday_df = df[(df['event_type'] == 'Birthday') & (df['name'] == name)]\\\",\\n        \\\"    return birthday_df['start_date'].values[0] if not birthday_df.empty else f'No birthday found for {name}'\\\"\\n    ],\\n\\n    \\\"function_name\\\": \\\"get_birthday_by_name\\\",\\n\\n    \\\"parameters\\\": \\\"df, name\\\",\\n\\n    \\\"gpt_function_signatures\\\":\\\"[ { 'name': 'get_birthday_by_name', 'description': 'Gets the birthday of a specified person from a dataframe', 'parameters': { 'type': 'object', 'properties': { 'df': { 'type': 'object', 'description': 'The dataframe containing the event data' }, 'name': { 'type': 'string', 'description': 'The name of the person whose birthday is to be retrieved' } }, 'required': ['df', 'name'] } } ]\\\",\\n\\n    \\\"returns\\\": \\\"String\\\",\\n\\n    \\\"examples\\\": {\\n        \\\"when is juans birthday\\\": \\\"print(get_birthday_by_name(df, 'Juan'))\\\",\\n        \\\"when is jimmys birthday\\\": \\\"print(get_birthday_by_name(df, 'Jimmy'))\\\",\\n        \\\"when is bobbys birthday\\\": \\\"print(get_birthday_by_name(df, 'Bobby'))\\\",\\n        \\\"when is anitas birthday\\\": \\\"print(get_birthday_by_name(df, 'Anita'))\\\"\\n    },\\n\\n    \\\"python_version\\\": \\\"3.10\\\",\\n\\n    \\\"explanation\\\": \\\"The function 'get_birthday_by_name' takes a dataframe and a name as parameters. It filters the dataframe for rows where the 'event_type' is 'Birthday' and the 'name' matches the specified name. If such a row is found, it returns the 'start_date' of the event, which is the person's birthday. If no such row is found, it returns a message indicating that no birthday was found for the specified person.\\\",\\n\\n    \\\"error\\\": \\\"No errors were encountered while carrying out this task.\\\"\\n}\"\n",
      "            },\n",
      "            \"finish_reason\": \"stop\"\n",
      "        }\n",
      "    ],\n",
      "    \"usage\": {\n",
      "        \"prompt_tokens\": 1059,\n",
      "        \"completion_tokens\": 588,\n",
      "        \"total_tokens\": 1647\n",
      "    }\n",
      "}\n",
      "{\n",
      "    \"thoughts\": \"The four code snippets are essentially doing the same thing: they are filtering a dataframe for a specific event type ('Birthday') and a specific name, and then returning the 'start_date' of the event. If no such event is found, they return a message indicating that no birthday was found for the specified person. The only difference between the snippets is the name of the person. This suggests that we can create a single function that takes the dataframe and the name as parameters, and performs the same operation. The function will be named 'get_birthday_by_name' to clearly indicate its purpose. If the query does not return a result, the function will return a message indicating that no birthday was found for the specified person.\",\n",
      "    \"code\": [\n",
      "        \"def get_birthday_by_name(df, name):\",\n",
      "        \"    birthday_df = df[(df['event_type'] == 'Birthday') & (df['name'] == name)]\",\n",
      "        \"    return birthday_df['start_date'].values[0] if not birthday_df.empty else f'No birthday found for {name}'\"\n",
      "    ],\n",
      "    \"function_name\": \"get_birthday_by_name\",\n",
      "    \"parameters\": \"df, name\",\n",
      "    \"gpt_function_signatures\": \"[ { 'name': 'get_birthday_by_name', 'description': 'Gets the birthday of a specified person from a dataframe', 'parameters': { 'type': 'object', 'properties': { 'df': { 'type': 'object', 'description': 'The dataframe containing the event data' }, 'name': { 'type': 'string', 'description': 'The name of the person whose birthday is to be retrieved' } }, 'required': ['df', 'name'] } } ]\",\n",
      "    \"returns\": \"String\",\n",
      "    \"examples\": {\n",
      "        \"when is juans birthday\": \"print(get_birthday_by_name(df, 'Juan'))\",\n",
      "        \"when is jimmys birthday\": \"print(get_birthday_by_name(df, 'Jimmy'))\",\n",
      "        \"when is bobbys birthday\": \"print(get_birthday_by_name(df, 'Bobby'))\",\n",
      "        \"when is anitas birthday\": \"print(get_birthday_by_name(df, 'Anita'))\"\n",
      "    },\n",
      "    \"python_version\": \"3.10\",\n",
      "    \"explanation\": \"The function 'get_birthday_by_name' takes a dataframe and a name as parameters. It filters the dataframe for rows where the 'event_type' is 'Birthday' and the 'name' matches the specified name. If such a row is found, it returns the 'start_date' of the event, which is the person's birthday. If no such row is found, it returns a message indicating that no birthday was found for the specified person.\",\n",
      "    \"error\": \"No errors were encountered while carrying out this task.\"\n",
      "}\n"
     ]
    }
   ],
   "source": [
    "%autoreload\n",
    "    \n",
    "def begin_refactoring_similar_questions( question, debug=False ):\n",
    "    \n",
    "    path_to_snapshots = du.get_project_root() + \"/src/conf/long-term-memory/solutions/\"\n",
    "    snapshot_mgr      = SolutionSnapshotManager( path_to_snapshots, debug=debug )\n",
    "    exemplar_snapshot = snapshot_mgr.get_snapshots_by_question( question )[ 0 ][ 1 ]\n",
    "    similar_snapshots = snapshot_mgr.get_snapshots_by_code_similarity( exemplar_snapshot, threshold=90.0 )\n",
    "        \n",
    "    agent = RefactoringAgent( \n",
    "        similar_snapshots=similar_snapshots, \n",
    "        path_to_solutions=\"/src/conf/long-term-memory/solutions\", \n",
    "        debug=True, verbose=True \n",
    "    )\n",
    "    \n",
    "    if not agent.is_promptable():\n",
    "        print( f\"No similar snapshots found for [{du.truncate_string( exemplar_snapshot.question, max_len=32 )}]\" )\n",
    "    else:\n",
    "        agent.run_prompt()\n",
    "        \n",
    "    return agent\n",
    "    \n",
    "agent = begin_refactoring_similar_questions( \"When is Juan's birthday?\" )    \n",
    "    "
   ],
   "metadata": {
    "collapsed": false,
    "ExecuteTime": {
     "end_time": "2023-10-10T01:47:27.522445Z",
     "start_time": "2023-10-10T01:46:48.783896Z"
    }
   },
   "id": "7c9f282bab6e449"
  },
  {
   "cell_type": "code",
   "execution_count": 253,
   "outputs": [
    {
     "name": "stdout",
     "output_type": "stream",
     "text": [
      "Writing file [/var/genie-in-the-box/src/lib/autogen/util_calendaring_2.py]... Done!\n",
      "Writing file [/var/genie-in-the-box/src/lib/autogen/util_calendaring_2.json]... Done!\n",
      "Writing file [/var/genie-in-the-box/io/lib/autogen/util_calendaring_2.py]... Done!\n",
      "\n",
      "File     count: [2]\n",
      "File file_name: [util_calendaring_2.py]\n",
      "File repo_path: [/var/genie-in-the-box/src/lib/autogen/util_calendaring_2.json]\n",
      "File   io_path: [/var/genie-in-the-box/io/lib/autogen/util_calendaring_2.py]\n",
      "File    abbrev: [uc2]\n",
      "File    import: [import lib.autogen.util_calendaring_2 as uc2]\n",
      "File call_template: [uc2.get_birthday_by_name( df, 'name' )]\n",
      "File     signature: [{'name': 'get_birthday_by_name', 'description': 'Gets the birthday of a specified person from a dataframe', 'parameters': {'type': 'object', 'properties': {'df': {'type': 'object', 'description': 'The dataframe containing the event data'}, 'name': {'type': 'string', 'description': 'The name of the person whose birthday is to be retrieved'}}, 'required': ['df', 'name']}, 'call_template': \"uc2.get_birthday_by_name( df, 'name' )\", 'import_as': 'import lib.autogen.util_calendaring_2 as uc2'}]\n",
      "\n",
      "------------------------------------------------------------------------------------------------------------------------\n",
      "- BEFORE updating `when is juans birthday`...\n",
      "------------------------------------------------------------------------------------------------------------------------\n",
      "\n",
      "juan_birthday_df = df[(df['event_type'] == 'Birthday') & (df['name'] == 'Juan')]\n",
      "solution = juan_birthday_df['start_date'].values[0] if not juan_birthday_df.empty else 'No birthday found for Juan'\n",
      "print( solution )\n",
      "\n",
      "\n",
      "Generating embedding for [import lib.autogen.util_calendaring_2 as uc2 print(uc2.get_birth...]...\n",
      "Generating embedding for [import lib.autogen.util_calendaring_2 as uc2 print(uc2.get_birth...]... Done! in 135 ms\n",
      "\n",
      "solution_file value provided: [when-is-juans-birthday-0.json]...\n",
      "File path: /var/genie-in-the-box/src/conf/long-term-memory/solutions/when-is-juans-birthday-0.json\n",
      "------------------------------------------------------------------------------------------------------------------------\n",
      "-  AFTER updating `when is juans birthday`...\n",
      "------------------------------------------------------------------------------------------------------------------------\n",
      "\n",
      "import lib.autogen.util_calendaring_2 as uc2\n",
      "print(uc2.get_birthday_by_name(df, 'Juan'))\n",
      "\n",
      "\n",
      "------------------------------------------------------------------------------------------------------------------------\n",
      "- BEFORE updating `when is jimmys birthday`...\n",
      "------------------------------------------------------------------------------------------------------------------------\n",
      "\n",
      "jimmy_birthday_df = df[(df['name'] == 'Jimmy') & (df['event_type'] == 'Birthday')]\n",
      "solution = jimmy_birthday_df['start_date'].values[0] if not jimmy_birthday_df.empty else None\n",
      "print( solution )\n",
      "\n",
      "\n",
      "Generating embedding for [import lib.autogen.util_calendaring_2 as uc2 print(uc2.get_birth...]...\n",
      "Generating embedding for [import lib.autogen.util_calendaring_2 as uc2 print(uc2.get_birth...]... Done! in 128 ms\n",
      "\n",
      "solution_file value provided: [when-is-jimmys-birthday-0.json]...\n",
      "File path: /var/genie-in-the-box/src/conf/long-term-memory/solutions/when-is-jimmys-birthday-0.json\n",
      "------------------------------------------------------------------------------------------------------------------------\n",
      "-  AFTER updating `when is jimmys birthday`...\n",
      "------------------------------------------------------------------------------------------------------------------------\n",
      "\n",
      "import lib.autogen.util_calendaring_2 as uc2\n",
      "print(uc2.get_birthday_by_name(df, 'Jimmy'))\n",
      "\n",
      "\n",
      "------------------------------------------------------------------------------------------------------------------------\n",
      "- BEFORE updating `when is bobbys birthday`...\n",
      "------------------------------------------------------------------------------------------------------------------------\n",
      "\n",
      "bobby_birthday_df = df[(df['name'] == 'Bobby') & (df['event_type'] == 'Birthday')]\n",
      "solution = bobby_birthday_df['start_date'].values[0] if not bobby_birthday_df.empty else 'No birthday found for Bobby'\n",
      "print( solution )\n",
      "\n",
      "\n",
      "Generating embedding for [import lib.autogen.util_calendaring_2 as uc2 print(uc2.get_birth...]...\n",
      "Generating embedding for [import lib.autogen.util_calendaring_2 as uc2 print(uc2.get_birth...]... Done! in 815 ms\n",
      "\n",
      "solution_file value provided: [when-is-bobbys-birthday-0.json]...\n",
      "File path: /var/genie-in-the-box/src/conf/long-term-memory/solutions/when-is-bobbys-birthday-0.json\n",
      "------------------------------------------------------------------------------------------------------------------------\n",
      "-  AFTER updating `when is bobbys birthday`...\n",
      "------------------------------------------------------------------------------------------------------------------------\n",
      "\n",
      "import lib.autogen.util_calendaring_2 as uc2\n",
      "print(uc2.get_birthday_by_name(df, 'Bobby'))\n",
      "\n",
      "\n",
      "------------------------------------------------------------------------------------------------------------------------\n",
      "- BEFORE updating `when is anitas birthday`...\n",
      "------------------------------------------------------------------------------------------------------------------------\n",
      "\n",
      "anita_birthday_df = df[(df['event_type'] == 'Birthday') & (df['name'] == 'Anita')]\n",
      "solution = anita_birthday_df['start_date'].values[0] if not anita_birthday_df.empty else 'No birthday found for Anita'\n",
      "print( solution )\n",
      "\n",
      "\n",
      "Generating embedding for [import lib.autogen.util_calendaring_2 as uc2 print(uc2.get_birth...]...\n",
      "Generating embedding for [import lib.autogen.util_calendaring_2 as uc2 print(uc2.get_birth...]... Done! in 436 ms\n",
      "\n",
      "solution_file value provided: [when-is-anitas-birthday-0.json]...\n",
      "File path: /var/genie-in-the-box/src/conf/long-term-memory/solutions/when-is-anitas-birthday-0.json\n",
      "------------------------------------------------------------------------------------------------------------------------\n",
      "-  AFTER updating `when is anitas birthday`...\n",
      "------------------------------------------------------------------------------------------------------------------------\n",
      "\n",
      "import lib.autogen.util_calendaring_2 as uc2\n",
      "print(uc2.get_birthday_by_name(df, 'Anita'))\n"
     ]
    }
   ],
   "source": [
    "%autoreload\n",
    "agent.refactor_code( debug=True )"
   ],
   "metadata": {
    "collapsed": false,
    "ExecuteTime": {
     "end_time": "2023-10-10T01:48:22.648577Z",
     "start_time": "2023-10-10T01:48:21.080699Z"
    }
   },
   "id": "6e6a93bdf59e157c"
  },
  {
   "cell_type": "code",
   "execution_count": 254,
   "outputs": [
    {
     "name": "stdout",
     "output_type": "stream",
     "text": [
      "last command, before [print(uc2.get_birthday_by_name(df, 'Juan'))]:\n",
      "return_type [string]\n",
      "ERROR: return_type [string] and last command [print(uc2.get_birthday_by_name(df, 'Juan'))] are incompatible!\n",
      "last command,  after [print(uc2.get_birthday_by_name(df, 'Juan'))]:\n",
      "import pandas as pd\n",
      "import lib.util as du\n",
      "import lib.util_pandas as dup\n",
      "\n",
      "debug = True\n",
      "\n",
      "df = pd.read_csv( du.get_project_root() + '/src/conf/long-term-memory/events.csv' )\n",
      "df = dup.cast_to_datetime( df, debug=debug )\n",
      "import lib.autogen.util_calendaring_2 as uc2\n",
      "print(uc2.get_birthday_by_name(df, 'Juan'))\n",
      "\n",
      "Executing /var/genie-in-the-box/io/code.py... Done!\n",
      "\n",
      "------------------------------------------------------------------------------------------------------------------------\n",
      "- Code output\n",
      "------------------------------------------------------------------------------------------------------------------------\n",
      "\n",
      "2023-10-13T00:00:00.000000000\n",
      "\n",
      "last command, before [print(uc2.get_birthday_by_name(df, 'Jimmy'))]:\n",
      "return_type [string]\n",
      "ERROR: return_type [string] and last command [print(uc2.get_birthday_by_name(df, 'Jimmy'))] are incompatible!\n",
      "last command,  after [print(uc2.get_birthday_by_name(df, 'Jimmy'))]:\n",
      "import pandas as pd\n",
      "import lib.util as du\n",
      "import lib.util_pandas as dup\n",
      "\n",
      "debug = True\n",
      "\n",
      "df = pd.read_csv( du.get_project_root() + '/src/conf/long-term-memory/events.csv' )\n",
      "df = dup.cast_to_datetime( df, debug=debug )\n",
      "import lib.autogen.util_calendaring_2 as uc2\n",
      "print(uc2.get_birthday_by_name(df, 'Jimmy'))\n",
      "\n",
      "Executing /var/genie-in-the-box/io/code.py... Done!\n",
      "\n",
      "------------------------------------------------------------------------------------------------------------------------\n",
      "- Code output\n",
      "------------------------------------------------------------------------------------------------------------------------\n",
      "\n",
      "No birthday found for Jimmy\n",
      "\n",
      "last command, before [print(uc2.get_birthday_by_name(df, 'Bobby'))]:\n",
      "return_type [string]\n",
      "ERROR: return_type [string] and last command [print(uc2.get_birthday_by_name(df, 'Bobby'))] are incompatible!\n",
      "last command,  after [print(uc2.get_birthday_by_name(df, 'Bobby'))]:\n",
      "import pandas as pd\n",
      "import lib.util as du\n",
      "import lib.util_pandas as dup\n",
      "\n",
      "debug = True\n",
      "\n",
      "df = pd.read_csv( du.get_project_root() + '/src/conf/long-term-memory/events.csv' )\n",
      "df = dup.cast_to_datetime( df, debug=debug )\n",
      "import lib.autogen.util_calendaring_2 as uc2\n",
      "print(uc2.get_birthday_by_name(df, 'Bobby'))\n",
      "\n",
      "Executing /var/genie-in-the-box/io/code.py... Done!\n",
      "\n",
      "------------------------------------------------------------------------------------------------------------------------\n",
      "- Code output\n",
      "------------------------------------------------------------------------------------------------------------------------\n",
      "\n",
      "No birthday found for Bobby\n",
      "\n",
      "last command, before [print(uc2.get_birthday_by_name(df, 'Anita'))]:\n",
      "return_type [string]\n",
      "ERROR: return_type [string] and last command [print(uc2.get_birthday_by_name(df, 'Anita'))] are incompatible!\n",
      "last command,  after [print(uc2.get_birthday_by_name(df, 'Anita'))]:\n",
      "import pandas as pd\n",
      "import lib.util as du\n",
      "import lib.util_pandas as dup\n",
      "\n",
      "debug = True\n",
      "\n",
      "df = pd.read_csv( du.get_project_root() + '/src/conf/long-term-memory/events.csv' )\n",
      "df = dup.cast_to_datetime( df, debug=debug )\n",
      "import lib.autogen.util_calendaring_2 as uc2\n",
      "print(uc2.get_birthday_by_name(df, 'Anita'))\n",
      "\n",
      "Executing /var/genie-in-the-box/io/code.py... Done!\n",
      "\n",
      "------------------------------------------------------------------------------------------------------------------------\n",
      "- Code output\n",
      "------------------------------------------------------------------------------------------------------------------------\n",
      "\n",
      "No birthday found for Anita\n"
     ]
    },
    {
     "data": {
      "text/plain": "[{'return_code': 0, 'output': '2023-10-13T00:00:00.000000000'},\n {'return_code': 0, 'output': 'No birthday found for Jimmy'},\n {'return_code': 0, 'output': 'No birthday found for Bobby'},\n {'return_code': 0, 'output': 'No birthday found for Anita'}]"
     },
     "execution_count": 254,
     "metadata": {},
     "output_type": "execute_result"
    }
   ],
   "source": [
    "%autoreload\n",
    "agent.run_code()"
   ],
   "metadata": {
    "collapsed": false,
    "ExecuteTime": {
     "end_time": "2023-10-10T01:49:27.957322Z",
     "start_time": "2023-10-10T01:49:26.932963Z"
    }
   },
   "id": "253ecb3cc15e64f2"
  },
  {
   "cell_type": "code",
   "execution_count": null,
   "outputs": [],
   "source": [],
   "metadata": {
    "collapsed": false
   },
   "id": "c80d5134e2d319a2"
  },
  {
   "cell_type": "markdown",
   "source": [
    "### Prototype new function prompt"
   ],
   "metadata": {
    "collapsed": false
   },
   "id": "d74b076f8c6f6421"
  },
  {
   "cell_type": "code",
   "execution_count": 148,
   "outputs": [
    {
     "name": "stdout",
     "output_type": "stream",
     "text": [
      "{'name': 'get_this_weeks_events_by_type', 'description': 'Gets the events of a specific type for the current week', 'parameters': {'type': 'object', 'properties': {'df': {'type': 'object', 'description': 'The DataFrame containing the events data'}, 'event_type': {'type': 'string', 'description': 'The type of event to filter by'}}, 'required': ['df', 'event_type']}, 'call_template': \"uc0.get_this_weeks_events_by_type( df, 'event_type' )\", 'import_as': 'import lib.autogen.util_calendaring_0 as uc0'}\n"
     ]
    },
    {
     "data": {
      "text/plain": "{'get_this_weeks_events_by_type': {'name': 'get_this_weeks_events_by_type',\n  'description': 'Gets the events of a specific type for the current week',\n  'parameters': {'type': 'object',\n   'properties': {'df': {'type': 'object',\n     'description': 'The DataFrame containing the events data'},\n    'event_type': {'type': 'string',\n     'description': 'The type of event to filter by'}},\n   'required': ['df', 'event_type']},\n  'call_template': \"uc0.get_this_weeks_events_by_type( df, 'event_type' )\",\n  'import_as': 'import lib.autogen.util_calendaring_0 as uc0'}}"
     },
     "execution_count": 148,
     "metadata": {},
     "output_type": "execute_result"
    }
   ],
   "source": [
    "%autoreload\n",
    "signature_paths = du.find_files_with_prefix_and_suffix( du.get_project_root() + \"/src/lib/autogen/\", \"util_calendaring\", \".json\" )\n",
    "# Given a list of file paths, load each file into a string and append to a list\n",
    "\n",
    "signatures = du.get_files_as_strings( signature_paths )\n",
    "signatures = [ json.loads( s ) for s in signatures ]\n",
    "du.print_list( signatures )\n",
    "\n",
    "signature_dict = {}\n",
    "for signature in signatures:\n",
    "    signature_dict[ signature[ \"name\" ] ] = signature\n",
    "    \n",
    "signature_dict"
   ],
   "metadata": {
    "collapsed": false,
    "ExecuteTime": {
     "end_time": "2023-10-09T20:42:30.166729Z",
     "start_time": "2023-10-09T20:42:30.066728Z"
    }
   },
   "id": "afa3ab4af43ebf6f"
  },
  {
   "cell_type": "code",
   "execution_count": 235,
   "outputs": [
    {
     "name": "stdout",
     "output_type": "stream",
     "text": [
      "Asking ChatGPT [gpt-4-0613]...\n",
      "Asking ChatGPT [gpt-4-0613]... in 2,386 ms\n"
     ]
    }
   ],
   "source": [
    "GPT_4   = \"gpt-4-0613\"\n",
    "GPT_3_5 = \"gpt-3.5-turbo-0613\"\n",
    "\n",
    "# example: https://www.mlq.ai/gpt-function-calling-getting-started/#:~:text=Step%201%3A%20Defining%20functions%20for,available%20functions%20it%20can%20call\n",
    "def get_function_from_gpt( preamble, query, functions, model=GPT_4, debug=False ):\n",
    "\n",
    "    openai.api_key = os.getenv( \"FALSE_POSITIVE_API_KEY\" )\n",
    "    \n",
    "    timer = sw.Stopwatch( msg=f\"Asking ChatGPT [{model}]...\".format( model ) )\n",
    "    \n",
    "    response = openai.ChatCompletion.create(\n",
    "        model=model,\n",
    "        messages=[ \n",
    "            { \"role\": \"system\", \"content\": preamble },\n",
    "            { \"role\": \"user\",   \"content\": query } \n",
    "        ],\n",
    "        functions=functions,\n",
    "        function_call=\"auto\",\n",
    "        temperature=0,\n",
    "        max_tokens=2000,\n",
    "        top_p=1.0,\n",
    "        frequency_penalty=0.0,\n",
    "        presence_penalty=0.0\n",
    "    )\n",
    "    timer.print( use_millis=True )\n",
    "    \n",
    "    if debug: print( json.dumps( response, indent=4 ) )\n",
    "    \n",
    "    message = response[ \"choices\" ][ 0 ][ \"message\" ]\n",
    "    \n",
    "    results_dict = {\n",
    "        \"is_function_call\": False,\n",
    "                 # \"message\": message,\n",
    "           \"function_name\": None,   \n",
    "           \"function_args\": None,\n",
    "                 \"content\": None\n",
    "    }\n",
    "    \n",
    "    if message.get( \"function_call\" ):\n",
    "        results_dict[ \"is_function_call\" ] = True\n",
    "        results_dict[ \"function_name\"    ] = message[ \"function_call\" ][ \"name\" ]\n",
    "        results_dict[ \"function_args\"    ] = json.loads( message[ \"function_call\" ][ \"arguments\" ] )\n",
    "        # title case the event_type value\n",
    "        results_dict[ \"function_args\"    ][ \"event_type\"]  = results_dict[ \"function_args\" ][ \"event_type\"].title()\n",
    "    else:\n",
    "        results_dict[ \"content\" ] = response[ \"choices\" ][ 0 ][ \"message\" ][ \"content\" ].strip()\n",
    "    \n",
    "    return results_dict\n",
    "\n",
    "preamble = \"You are designed to take a question and map it to a function.\"\n",
    "# question = \"Do I have any appointments this week?\"\n",
    "question = \"What appointments Do I have this week?\"\n",
    "\n",
    "gpt_function_signature_results = get_function_from_gpt( preamble, question, list( signature_dict.values() ), model=GPT_4, debug=False )\n"
   ],
   "metadata": {
    "collapsed": false,
    "ExecuteTime": {
     "end_time": "2023-10-10T00:08:05.545217Z",
     "start_time": "2023-10-10T00:08:03.150884Z"
    }
   },
   "id": "820a4cf4e11b73ba"
  },
  {
   "cell_type": "code",
   "execution_count": 236,
   "outputs": [
    {
     "data": {
      "text/plain": "{'is_function_call': True,\n 'function_name': 'get_this_weeks_events_by_type',\n 'function_args': {'event_type': 'Appointment'},\n 'content': None}"
     },
     "execution_count": 236,
     "metadata": {},
     "output_type": "execute_result"
    }
   ],
   "source": [
    "gpt_function_signature_results"
   ],
   "metadata": {
    "collapsed": false,
    "ExecuteTime": {
     "end_time": "2023-10-10T00:08:08.188508Z",
     "start_time": "2023-10-10T00:08:08.179831Z"
    }
   },
   "id": "4366b511ec6c612a"
  },
  {
   "cell_type": "code",
   "execution_count": 208,
   "outputs": [
    {
     "data": {
      "text/plain": "\"uc0.get_this_weeks_events_by_type( df, 'event_type' )\""
     },
     "execution_count": 208,
     "metadata": {},
     "output_type": "execute_result"
    }
   ],
   "source": [
    "import_as     = signature_dict[ gpt_function_signature_results[ \"function_name\" ] ][ \"import_as\" ]\n",
    "call_template = signature_dict[ gpt_function_signature_results[ \"function_name\" ] ][ \"call_template\" ]\n",
    "call_template"
   ],
   "metadata": {
    "collapsed": false,
    "ExecuteTime": {
     "end_time": "2023-10-09T23:26:09.911951Z",
     "start_time": "2023-10-09T23:26:09.906096Z"
    }
   },
   "id": "66665d5ea626f7b"
  },
  {
   "cell_type": "code",
   "execution_count": 209,
   "outputs": [
    {
     "name": "stdout",
     "output_type": "stream",
     "text": [
      "uc0.get_this_weeks_events_by_type( df, 'Appointment' )\n"
     ]
    }
   ],
   "source": [
    "# For now this only replaces one argument name with a value, in the future it may handle multiple non-'df' arguments\n",
    "for arg, value in gpt_function_signature_results[ \"function_args\" ].items():\n",
    "    # print( arg, value )\n",
    "    call_template = call_template.replace( arg, f\"{value}\" )\n",
    "    print( call_template )"
   ],
   "metadata": {
    "collapsed": false,
    "ExecuteTime": {
     "end_time": "2023-10-09T23:26:13.107234Z",
     "start_time": "2023-10-09T23:26:13.103535Z"
    }
   },
   "id": "3008dcf5b36bfb89"
  },
  {
   "cell_type": "code",
   "execution_count": 210,
   "outputs": [
    {
     "name": "stdout",
     "output_type": "stream",
     "text": [
      "import lib.autogen.util_calendaring_0 as uc0\n",
      "uc0.get_this_weeks_events_by_type( df, 'Appointment' )\n"
     ]
    }
   ],
   "source": [
    "code = [\n",
    "    import_as,\n",
    "    call_template\n",
    "]\n",
    "du.print_list( code )"
   ],
   "metadata": {
    "collapsed": false,
    "ExecuteTime": {
     "end_time": "2023-10-09T23:26:13.934706Z",
     "start_time": "2023-10-09T23:26:13.929050Z"
    }
   },
   "id": "eb3d76f00d6e79ba"
  },
  {
   "cell_type": "code",
   "execution_count": 211,
   "outputs": [
    {
     "data": {
      "text/plain": "{'get_this_weeks_events_by_type': {'name': 'get_this_weeks_events_by_type',\n  'description': 'Gets the events of a specific type for the current week',\n  'parameters': {'type': 'object',\n   'properties': {'df': {'type': 'object',\n     'description': 'The DataFrame containing the events data'},\n    'event_type': {'type': 'string',\n     'description': 'The type of event to filter by'}},\n   'required': ['df', 'event_type']},\n  'call_template': \"uc0.get_this_weeks_events_by_type( df, 'event_type' )\",\n  'import_as': 'import lib.autogen.util_calendaring_0 as uc0'}}"
     },
     "execution_count": 211,
     "metadata": {},
     "output_type": "execute_result"
    }
   ],
   "source": [
    "%autoreload\n",
    "\n",
    "def get_function_signatures( debug=False ):\n",
    "    \n",
    "    signature_paths = du.find_files_with_prefix_and_suffix( du.get_project_root() + \"/src/lib/autogen/\", \"util_calendaring\", \".json\" )\n",
    "    # Given a list of file paths, load each file into a string and append to a list\n",
    "    \n",
    "    signatures = du.get_files_as_strings( signature_paths )\n",
    "    signatures = [ json.loads( s ) for s in signatures ]\n",
    "    if debug: du.print_list( signatures )\n",
    "    \n",
    "    signature_dict = {}\n",
    "    for signature in signatures:\n",
    "        signature_dict[ signature[ \"name\" ] ] = signature\n",
    "        \n",
    "    return signature_dict\n",
    "\n",
    "signature_dict = get_function_signatures()\n",
    "signature_dict"
   ],
   "metadata": {
    "collapsed": false,
    "ExecuteTime": {
     "end_time": "2023-10-09T23:26:17.262221Z",
     "start_time": "2023-10-09T23:26:17.239268Z"
    }
   },
   "id": "a4de7f263119ccc4"
  },
  {
   "cell_type": "code",
   "execution_count": null,
   "outputs": [],
   "source": [
    "question = \"what appointments do i have today\""
   ],
   "metadata": {
    "collapsed": false
   },
   "id": "77695dbc0cc40d57"
  },
  {
   "cell_type": "code",
   "execution_count": null,
   "outputs": [],
   "source": [],
   "metadata": {
    "collapsed": false
   },
   "id": "c2d9df23bcbbb720"
  },
  {
   "cell_type": "code",
   "execution_count": null,
   "outputs": [],
   "source": [],
   "metadata": {
    "collapsed": false
   },
   "id": "59372c63a43a4b86"
  },
  {
   "cell_type": "code",
   "execution_count": null,
   "outputs": [],
   "source": [],
   "metadata": {
    "collapsed": false
   },
   "id": "35789b2d4be35c63"
  },
  {
   "cell_type": "code",
   "execution_count": null,
   "outputs": [],
   "source": [],
   "metadata": {
    "collapsed": false
   },
   "id": "925f0bc41d37a1d"
  },
  {
   "cell_type": "code",
   "execution_count": 255,
   "outputs": [
    {
     "name": "stdout",
     "output_type": "stream",
     "text": [
      "Asking ChatGPT [gpt-4-0613]...\n",
      "Asking ChatGPT [gpt-4-0613]... in 3,408 ms\n"
     ]
    },
    {
     "ename": "KeyError",
     "evalue": "'event_type'",
     "output_type": "error",
     "traceback": [
      "\u001B[0;31m---------------------------------------------------------------------------\u001B[0m",
      "\u001B[0;31mKeyError\u001B[0m                                  Traceback (most recent call last)",
      "Cell \u001B[0;32mIn[255], line 48\u001B[0m\n\u001B[1;32m     43\u001B[0m         \u001B[38;5;28;01mreturn\u001B[39;00m code\n\u001B[1;32m     45\u001B[0m \u001B[38;5;66;03m# code = get_code_for_question( \"What appointments do I have this week?\" )\u001B[39;00m\n\u001B[1;32m     46\u001B[0m \u001B[38;5;66;03m# code = get_code_for_question( \"What todos do I have this week?\" )\u001B[39;00m\n\u001B[1;32m     47\u001B[0m \u001B[38;5;66;03m# code = get_code_for_question( \"What should I have for dinner tonight?\" )\u001B[39;00m\n\u001B[0;32m---> 48\u001B[0m code \u001B[38;5;241m=\u001B[39m \u001B[43mget_code_for_question\u001B[49m\u001B[43m(\u001B[49m\u001B[43m \u001B[49m\u001B[38;5;124;43m\"\u001B[39;49m\u001B[38;5;124;43mWhen is Fernando\u001B[39;49m\u001B[38;5;124;43m'\u001B[39;49m\u001B[38;5;124;43ms birthday?\u001B[39;49m\u001B[38;5;124;43m\"\u001B[39;49m\u001B[43m \u001B[49m\u001B[43m)\u001B[49m\n\u001B[1;32m     49\u001B[0m code\n",
      "Cell \u001B[0;32mIn[255], line 19\u001B[0m, in \u001B[0;36mget_code_for_question\u001B[0;34m(question, debug)\u001B[0m\n\u001B[1;32m     16\u001B[0m \u001B[38;5;28;01mdef\u001B[39;00m \u001B[38;5;21mget_code_for_question\u001B[39m( question, debug\u001B[38;5;241m=\u001B[39m\u001B[38;5;28;01mFalse\u001B[39;00m ):\n\u001B[1;32m     18\u001B[0m     signature_dict                 \u001B[38;5;241m=\u001B[39m get_function_signatures()\n\u001B[0;32m---> 19\u001B[0m     gpt_function_signature_results \u001B[38;5;241m=\u001B[39m \u001B[43mget_function_from_gpt\u001B[49m\u001B[43m(\u001B[49m\u001B[43m \u001B[49m\u001B[43mpreamble\u001B[49m\u001B[43m,\u001B[49m\u001B[43m \u001B[49m\u001B[43mquestion\u001B[49m\u001B[43m,\u001B[49m\u001B[43m \u001B[49m\u001B[38;5;28;43mlist\u001B[39;49m\u001B[43m(\u001B[49m\u001B[43m \u001B[49m\u001B[43msignature_dict\u001B[49m\u001B[38;5;241;43m.\u001B[39;49m\u001B[43mvalues\u001B[49m\u001B[43m(\u001B[49m\u001B[43m)\u001B[49m\u001B[43m \u001B[49m\u001B[43m)\u001B[49m\u001B[43m,\u001B[49m\u001B[43m \u001B[49m\u001B[43mmodel\u001B[49m\u001B[38;5;241;43m=\u001B[39;49m\u001B[43mGPT_4\u001B[49m\u001B[43m,\u001B[49m\u001B[43m \u001B[49m\u001B[43mdebug\u001B[49m\u001B[38;5;241;43m=\u001B[39;49m\u001B[43mdebug\u001B[49m\u001B[43m \u001B[49m\u001B[43m)\u001B[49m\n\u001B[1;32m     21\u001B[0m     \u001B[38;5;66;03m# If the response is not a function call, return an empty list\u001B[39;00m\n\u001B[1;32m     22\u001B[0m     \u001B[38;5;28;01mif\u001B[39;00m \u001B[38;5;129;01mnot\u001B[39;00m gpt_function_signature_results[ \u001B[38;5;124m\"\u001B[39m\u001B[38;5;124mis_function_call\u001B[39m\u001B[38;5;124m\"\u001B[39m ]:\n",
      "Cell \u001B[0;32mIn[235], line 44\u001B[0m, in \u001B[0;36mget_function_from_gpt\u001B[0;34m(preamble, query, functions, model, debug)\u001B[0m\n\u001B[1;32m     42\u001B[0m     results_dict[ \u001B[38;5;124m\"\u001B[39m\u001B[38;5;124mfunction_args\u001B[39m\u001B[38;5;124m\"\u001B[39m    ] \u001B[38;5;241m=\u001B[39m json\u001B[38;5;241m.\u001B[39mloads( message[ \u001B[38;5;124m\"\u001B[39m\u001B[38;5;124mfunction_call\u001B[39m\u001B[38;5;124m\"\u001B[39m ][ \u001B[38;5;124m\"\u001B[39m\u001B[38;5;124marguments\u001B[39m\u001B[38;5;124m\"\u001B[39m ] )\n\u001B[1;32m     43\u001B[0m     \u001B[38;5;66;03m# title case the event_type value\u001B[39;00m\n\u001B[0;32m---> 44\u001B[0m     results_dict[ \u001B[38;5;124m\"\u001B[39m\u001B[38;5;124mfunction_args\u001B[39m\u001B[38;5;124m\"\u001B[39m    ][ \u001B[38;5;124m\"\u001B[39m\u001B[38;5;124mevent_type\u001B[39m\u001B[38;5;124m\"\u001B[39m]  \u001B[38;5;241m=\u001B[39m \u001B[43mresults_dict\u001B[49m\u001B[43m[\u001B[49m\u001B[43m \u001B[49m\u001B[38;5;124;43m\"\u001B[39;49m\u001B[38;5;124;43mfunction_args\u001B[39;49m\u001B[38;5;124;43m\"\u001B[39;49m\u001B[43m \u001B[49m\u001B[43m]\u001B[49m\u001B[43m[\u001B[49m\u001B[43m \u001B[49m\u001B[38;5;124;43m\"\u001B[39;49m\u001B[38;5;124;43mevent_type\u001B[39;49m\u001B[38;5;124;43m\"\u001B[39;49m\u001B[43m]\u001B[49m\u001B[38;5;241m.\u001B[39mtitle()\n\u001B[1;32m     45\u001B[0m \u001B[38;5;28;01melse\u001B[39;00m:\n\u001B[1;32m     46\u001B[0m     results_dict[ \u001B[38;5;124m\"\u001B[39m\u001B[38;5;124mcontent\u001B[39m\u001B[38;5;124m\"\u001B[39m ] \u001B[38;5;241m=\u001B[39m response[ \u001B[38;5;124m\"\u001B[39m\u001B[38;5;124mchoices\u001B[39m\u001B[38;5;124m\"\u001B[39m ][ \u001B[38;5;241m0\u001B[39m ][ \u001B[38;5;124m\"\u001B[39m\u001B[38;5;124mmessage\u001B[39m\u001B[38;5;124m\"\u001B[39m ][ \u001B[38;5;124m\"\u001B[39m\u001B[38;5;124mcontent\u001B[39m\u001B[38;5;124m\"\u001B[39m ]\u001B[38;5;241m.\u001B[39mstrip()\n",
      "\u001B[0;31mKeyError\u001B[0m: 'event_type'"
     ]
    }
   ],
   "source": [
    "def get_function_signatures( debug=False ):\n",
    "    \n",
    "    signature_paths = du.find_files_with_prefix_and_suffix( du.get_project_root() + \"/src/lib/autogen/\", \"util_calendaring\", \".json\" )\n",
    "    # Given a list of file paths, load each file into a string and append to a list\n",
    "    \n",
    "    signatures = du.get_files_as_strings( signature_paths )\n",
    "    signatures = [ json.loads( s ) for s in signatures ]\n",
    "    if debug: du.print_list( signatures )\n",
    "    \n",
    "    signature_dict = {}\n",
    "    for signature in signatures:\n",
    "        signature_dict[ signature[ \"name\" ] ] = signature\n",
    "        \n",
    "    return signature_dict\n",
    "    \n",
    "def get_code_for_question( question, debug=False ):\n",
    "    \n",
    "    signature_dict                 = get_function_signatures()\n",
    "    gpt_function_signature_results = get_function_from_gpt( preamble, question, list( signature_dict.values() ), model=GPT_4, debug=debug )\n",
    "    \n",
    "    # If the response is not a function call, return an empty list\n",
    "    if not gpt_function_signature_results[ \"is_function_call\" ]:\n",
    "        \n",
    "        du.print_banner( f\"Not a function call [{question}]\" )\n",
    "        print( gpt_function_signature_results[ \"content\" ] )\n",
    "        \n",
    "        return []\n",
    "    else:\n",
    "        import_as     = signature_dict[ gpt_function_signature_results[ \"function_name\" ] ][ \"import_as\" ]\n",
    "        call_template = signature_dict[ gpt_function_signature_results[ \"function_name\" ] ][ \"call_template\" ]\n",
    "        \n",
    "        # For now this only replaces one argument name with a value, in the future it may handle multiple non-'df' arguments\n",
    "        for arg, value in gpt_function_signature_results[ \"function_args\" ].items():\n",
    "            # print( arg, value )\n",
    "            call_template = call_template.replace( arg, f\"{value}\" )\n",
    "        \n",
    "        code = [\n",
    "            import_as,\n",
    "            call_template\n",
    "        ]\n",
    "        # du.print_list( code )\n",
    "        \n",
    "        return code\n",
    "    \n",
    "# code = get_code_for_question( \"What appointments do I have this week?\" )\n",
    "# code = get_code_for_question( \"What todos do I have this week?\" )\n",
    "# code = get_code_for_question( \"What should I have for dinner tonight?\" )\n",
    "code = get_code_for_question( \"When is Fernando's birthday?\" )\n",
    "code"
   ],
   "metadata": {
    "collapsed": false,
    "ExecuteTime": {
     "end_time": "2023-10-10T01:51:08.516730Z",
     "start_time": "2023-10-10T01:51:05.031408Z"
    }
   },
   "id": "6667d4cee6cdb6e"
  },
  {
   "cell_type": "code",
   "execution_count": 230,
   "outputs": [
    {
     "name": "stdout",
     "output_type": "stream",
     "text": [
      "Asking ChatGPT [gpt-4-0613]...\n",
      "Asking ChatGPT [gpt-4-0613]... in 1,923 ms\n",
      "\n",
      "------------------------------------------------------------------------------------------------------------------------\n",
      "- Not a function call [What Happy hours do I have this week?]\n",
      "------------------------------------------------------------------------------------------------------------------------\n",
      "\n",
      "{\n",
      "  \"function\": \"functions.get_this_weeks_events_by_type\",\n",
      "  \"arguments\": {\n",
      "    \"event_type\": \"Happy hours\"\n",
      "  }\n",
      "}\n"
     ]
    },
    {
     "data": {
      "text/plain": "[]"
     },
     "execution_count": 230,
     "metadata": {},
     "output_type": "execute_result"
    }
   ],
   "source": [
    "code = get_code_for_question( \"What Happy hours do I have this week?\" )\n",
    "code"
   ],
   "metadata": {
    "collapsed": false,
    "ExecuteTime": {
     "end_time": "2023-10-10T00:06:12.645922Z",
     "start_time": "2023-10-10T00:06:10.712775Z"
    }
   },
   "id": "85c087bfa0136be2"
  },
  {
   "cell_type": "code",
   "execution_count": 238,
   "outputs": [
    {
     "name": "stdout",
     "output_type": "stream",
     "text": [
      "Asking ChatGPT [gpt-4-0613]...\n",
      "Asking ChatGPT [gpt-4-0613]... in 1,335 ms\n",
      "\n",
      "------------------------------------------------------------------------------------------------------------------------\n",
      "- Not a function call [Do I have any appointments for tomorrow?]\n",
      "------------------------------------------------------------------------------------------------------------------------\n",
      "\n",
      "I'm sorry, but I can only provide information about events for the current week or today.\n"
     ]
    },
    {
     "data": {
      "text/plain": "[]"
     },
     "execution_count": 238,
     "metadata": {},
     "output_type": "execute_result"
    }
   ],
   "source": [
    "code = get_code_for_question( \"Do I have any appointments for tomorrow?\" )\n",
    "code"
   ],
   "metadata": {
    "collapsed": false,
    "ExecuteTime": {
     "end_time": "2023-10-10T00:08:32.873960Z",
     "start_time": "2023-10-10T00:08:31.526320Z"
    }
   },
   "id": "53b64830b531b3f0"
  },
  {
   "cell_type": "code",
   "execution_count": 239,
   "outputs": [
    {
     "name": "stdout",
     "output_type": "stream",
     "text": [
      "Asking ChatGPT [gpt-4-0613]...\n",
      "Asking ChatGPT [gpt-4-0613]... in 2,427 ms\n",
      "\n",
      "{\n",
      "    \"id\": \"chatcmpl-87uadFBSwYqfpDoooWSPSdXq0Gtsx\",\n",
      "    \"object\": \"chat.completion\",\n",
      "    \"created\": 1696896519,\n",
      "    \"model\": \"gpt-4-0613\",\n",
      "    \"choices\": [\n",
      "        {\n",
      "            \"index\": 0,\n",
      "            \"message\": {\n",
      "                \"role\": \"assistant\",\n",
      "                \"content\": null,\n",
      "                \"function_call\": {\n",
      "                    \"name\": \"get_todays_events_by_type\",\n",
      "                    \"arguments\": \"{\\n  \\\"event_type\\\": \\\"appointment\\\"\\n}\"\n",
      "                }\n",
      "            },\n",
      "            \"finish_reason\": \"function_call\"\n",
      "        }\n",
      "    ],\n",
      "    \"usage\": {\n",
      "        \"prompt_tokens\": 131,\n",
      "        \"completion_tokens\": 21,\n",
      "        \"total_tokens\": 152\n",
      "    }\n",
      "}\n"
     ]
    },
    {
     "data": {
      "text/plain": "['import lib.autogen.util_calendaring_1 as uc1',\n \"uc1.get_todays_events_by_type( df, 'Appointment' )\"]"
     },
     "execution_count": 239,
     "metadata": {},
     "output_type": "execute_result"
    }
   ],
   "source": [
    "code = get_code_for_question( \"Do I have any appointments for today?\", debug=True )\n",
    "code"
   ],
   "metadata": {
    "collapsed": false,
    "ExecuteTime": {
     "end_time": "2023-10-10T00:08:42.157536Z",
     "start_time": "2023-10-10T00:08:39.717229Z"
    }
   },
   "id": "510fcfc5ecb7ffb7"
  },
  {
   "cell_type": "code",
   "execution_count": 240,
   "outputs": [
    {
     "name": "stdout",
     "output_type": "stream",
     "text": [
      "last command, before [uc1.get_todays_events_by_type( df, 'Appointment' )]:\n",
      "return_type [string]\n",
      "ERROR: return_type [string] and last command [uc1.get_todays_events_by_type( df, 'Appointment' )] are incompatible!\n",
      "last command,  after [uc1.get_todays_events_by_type( df, 'Appointment' )]:\n",
      "import pandas as pd\n",
      "import lib.util as du\n",
      "import lib.util_pandas as dup\n",
      "\n",
      "debug = True\n",
      "\n",
      "df = pd.read_csv( du.get_project_root() + '/src/conf/long-term-memory/events.csv' )\n",
      "df = dup.cast_to_datetime( df, debug=debug )\n",
      "import lib.autogen.util_calendaring_1 as uc1\n",
      "uc1.get_todays_events_by_type( df, 'Appointment' )\n",
      "\n",
      "Executing /var/genie-in-the-box/io/code.py... Done!\n"
     ]
    },
    {
     "data": {
      "text/plain": "{'return_code': 0, 'output': 'No results returned'}"
     },
     "execution_count": 240,
     "metadata": {},
     "output_type": "execute_result"
    }
   ],
   "source": [
    "# execute code\n",
    "import lib.util_code_runner as ucr\n",
    "response = ucr.assemble_and_run_solution( code, path=\"/src/conf/long-term-memory/events.csv\" )\n",
    "response"
   ],
   "metadata": {
    "collapsed": false,
    "ExecuteTime": {
     "end_time": "2023-10-10T00:10:10.715202Z",
     "start_time": "2023-10-10T00:10:10.467789Z"
    }
   },
   "id": "1d1376a60e5f83d3"
  },
  {
   "cell_type": "code",
   "execution_count": 182,
   "outputs": [
    {
     "name": "stdout",
     "output_type": "stream",
     "text": [
      "{'name': 'get_this_weeks_events_by_type', 'description': 'Gets the events of a specific type for the current week', 'parameters': {'type': 'object', 'properties': {'df': {'type': 'object', 'description': 'The DataFrame containing the events data'}, 'event_type': {'type': 'string', 'description': 'The type of event to filter by'}}, 'required': ['df', 'event_type']}, 'call_template': \"uc0.get_this_weeks_events_by_type( df, 'event_type' )\", 'import_as': 'import lib.autogen.util_calendaring_0 as uc0'}\n",
      "Asking ChatGPT [gpt-3.5-turbo-0613]...\n",
      "Asking ChatGPT [gpt-3.5-turbo-0613]... in 1,160 ms\n"
     ]
    },
    {
     "data": {
      "text/plain": "['import lib.autogen.util_calendaring_0 as uc0',\n \"uc0.get_this_weeks_events_by_type( df, 'Todo' )\"]"
     },
     "execution_count": 182,
     "metadata": {},
     "output_type": "execute_result"
    }
   ],
   "source": [
    "code = get_code_for_question( \"What todos do I have this week?\" )\n",
    "code"
   ],
   "metadata": {
    "collapsed": false,
    "ExecuteTime": {
     "end_time": "2023-10-09T21:06:32.136125Z",
     "start_time": "2023-10-09T21:06:30.967783Z"
    }
   },
   "id": "d3ed88e62f4c7b7"
  },
  {
   "cell_type": "code",
   "execution_count": 186,
   "outputs": [
    {
     "name": "stdout",
     "output_type": "stream",
     "text": [
      "{'name': 'get_this_weeks_events_by_type', 'description': 'Gets the events of a specific type for the current week', 'parameters': {'type': 'object', 'properties': {'df': {'type': 'object', 'description': 'The DataFrame containing the events data'}, 'event_type': {'type': 'string', 'description': 'The type of event to filter by'}}, 'required': ['df', 'event_type']}, 'call_template': \"uc0.get_this_weeks_events_by_type( df, 'event_type' )\", 'import_as': 'import lib.autogen.util_calendaring_0 as uc0'}\n",
      "Asking ChatGPT [gpt-3.5-turbo-0613]...\n",
      "Asking ChatGPT [gpt-3.5-turbo-0613]... in 619 ms\n"
     ]
    },
    {
     "data": {
      "text/plain": "['import lib.autogen.util_calendaring_0 as uc0',\n \"uc0.get_this_weeks_events_by_type( df, 'Tv' )\"]"
     },
     "execution_count": 186,
     "metadata": {},
     "output_type": "execute_result"
    }
   ],
   "source": [
    "code = get_code_for_question( \"What Should I watch on TV tonight?\" )\n",
    "code"
   ],
   "metadata": {
    "collapsed": false,
    "ExecuteTime": {
     "end_time": "2023-10-09T21:07:59.691763Z",
     "start_time": "2023-10-09T21:07:59.069376Z"
    }
   },
   "id": "ad956a73f65e4903"
  },
  {
   "cell_type": "code",
   "execution_count": 195,
   "outputs": [
    {
     "name": "stdout",
     "output_type": "stream",
     "text": [
      "Asking ChatGPT [gpt-3.5-turbo-0613]...\n",
      "Asking ChatGPT [gpt-3.5-turbo-0613]... in 1,378 ms\n"
     ]
    },
    {
     "data": {
      "text/plain": "['import lib.autogen.util_calendaring_0 as uc0',\n \"uc0.get_this_weeks_events_by_type( df, 'Dinner' )\"]"
     },
     "execution_count": 195,
     "metadata": {},
     "output_type": "execute_result"
    }
   ],
   "source": [
    "code = get_code_for_question( \"What Should I eat tonight?\" )\n",
    "code"
   ],
   "metadata": {
    "collapsed": false,
    "ExecuteTime": {
     "end_time": "2023-10-09T23:19:51.634526Z",
     "start_time": "2023-10-09T23:19:50.251720Z"
    }
   },
   "id": "9e7cdf33f79d705a"
  },
  {
   "cell_type": "code",
   "execution_count": 183,
   "outputs": [
    {
     "name": "stdout",
     "output_type": "stream",
     "text": [
      "last command, before [uc0.get_this_weeks_events_by_type( df, 'Todo' )]:\n",
      "return_type [string]\n",
      "ERROR: return_type [string] and last command [uc0.get_this_weeks_events_by_type( df, 'Todo' )] are incompatible!\n",
      "last command,  after [uc0.get_this_weeks_events_by_type( df, 'Todo' )]:\n",
      "import pandas as pd\n",
      "import lib.util as du\n",
      "import lib.util_pandas as dup\n",
      "\n",
      "debug = True\n",
      "\n",
      "df = pd.read_csv( du.get_project_root() + '/src/conf/long-term-memory/events.csv' )\n",
      "df = dup.cast_to_datetime( df, debug=debug )\n",
      "import lib.autogen.util_calendaring_0 as uc0\n",
      "uc0.get_this_weeks_events_by_type( df, 'Todo' )\n",
      "\n",
      "Executing /var/genie-in-the-box/io/code.py... Done!\n"
     ]
    },
    {
     "data": {
      "text/plain": "{'return_code': 0, 'output': 'No results returned'}"
     },
     "execution_count": 183,
     "metadata": {},
     "output_type": "execute_result"
    }
   ],
   "source": [
    "import lib.util_code_runner as ucr\n",
    "\n",
    "code_response = ucr.assemble_and_run_solution( code, path=\"/src/conf/long-term-memory/events.csv\" )\n",
    "code_response"
   ],
   "metadata": {
    "collapsed": false,
    "ExecuteTime": {
     "start_time": "2023-10-09T21:06:34.042796Z"
    }
   },
   "id": "913db9833d8e08d4"
  },
  {
   "cell_type": "code",
   "execution_count": 225,
   "outputs": [
    {
     "name": "stdout",
     "output_type": "stream",
     "text": [
      "\n",
      "------------------------------------------------------------------------------------------------------------------------\n",
      "- Found [36] synonymous questions\n",
      "------------------------------------------------------------------------------------------------------------------------\n",
      "\n",
      "Synonymous question [when is juans birthday] for snapshot.question [when is juans birthday]\n",
      "Synonymous question [what day is today] for snapshot.question [what day is today]\n",
      "Synonymous question [whats todays date] for snapshot.question [what day is today]\n",
      "Synonymous question [whats todays day and date] for snapshot.question [what day is today]\n",
      "Synonymous question [what is the day and date for today] for snapshot.question [what day is today]\n",
      "Synonymous question [whats the date] for snapshot.question [what day is today]\n",
      "Synonymous question [say what day is today] for snapshot.question [what day is today]\n",
      "Synonymous question [hey what day is today] for snapshot.question [what day is today]\n",
      "Synonymous question [whats todays day] for snapshot.question [what day is today]\n",
      "Synonymous question [what day is it] for snapshot.question [what day is today]\n",
      "Synonymous question [what time is it] for snapshot.question [what time is it]\n",
      "Synonymous question [got the time] for snapshot.question [what time is it]\n",
      "Synonymous question [whats the time] for snapshot.question [what time is it]\n",
      "Synonymous question [yo what time is it] for snapshot.question [what time is it]\n",
      "Synonymous question [hey you got the time] for snapshot.question [what time is it]\n",
      "Synonymous question [hey you what time is it] for snapshot.question [what time is it]\n",
      "Synonymous question [hey what time is it] for snapshot.question [what time is it]\n",
      "Synonymous question [what performances do i have today] for snapshot.question [what performances do i have today]\n",
      "Synonymous question [what appointments do i have today] for snapshot.question [what appointments do i have today]\n",
      "Synonymous question [when is anitas birthday] for snapshot.question [when is anitas birthday]\n",
      "Synonymous question [when is jimmys birthday] for snapshot.question [when is jimmys birthday]\n",
      "Synonymous question [wins jimmys birthday] for snapshot.question [when is jimmys birthday]\n",
      "Synonymous question [whens jimmys birthday] for snapshot.question [when is jimmys birthday]\n",
      "Synonymous question [what birthdays do i have this week] for snapshot.question [what birthdays do i have this week]\n",
      "Synonymous question [what conferences do i have today] for snapshot.question [what conferences do i have today]\n",
      "Synonymous question [when is bobby's birthday?] for snapshot.question [when is bobbys birthday]\n",
      "Synonymous question [how many records in this dataframe] for snapshot.question [how many records in this dataframe]\n",
      "Synonymous question [how many rows in this table] for snapshot.question [how many records in this dataframe]\n",
      "Synonymous question [how many records in this table] for snapshot.question [how many records in this dataframe]\n",
      "Synonymous question [how many records in this csv file] for snapshot.question [how many records in this dataframe]\n",
      "Synonymous question [how many records in that table] for snapshot.question [how many records in this dataframe]\n",
      "Synonymous question [how many rows in that data frame] for snapshot.question [how many records in this dataframe]\n",
      "Synonymous question [how many records in that database] for snapshot.question [how many records in this dataframe]\n",
      "Synonymous question [how many records do i have in that table] for snapshot.question [how many records in this dataframe]\n",
      "Synonymous question [What concerts do I have this week?] for snapshot.question [what concerts do i have this week]\n",
      "Synonymous question [what concerts do i have this week] for snapshot.question [what concerts do i have this week]\n",
      "\n",
      "Loading question embeddings dictionary ............................................................................... Done!\n",
      "No exact match or synonymous question found, searching for similar questions...\n",
      "Generating embedding for [what appointments do i have this today]...\n",
      "Generating embedding for [what appointments do i have this today]... Done! in 136 ms\n",
      "\n",
      "Pickling question embeddings dictionary...\n",
      "\n",
      "Code similarity score [99.99999754843626] for [what concerts do i have this wee...] == [what appointments do i have toda...]\n",
      "Code similarity score [95.76898669907767] for [what concerts do i have this wee...] == [what conferences do i have today]\n",
      "Code similarity score [94.58216023609141] for [what concerts do i have this wee...] == [what performances do i have toda...]\n",
      "Snippet 1 for question `what appointments do i have today`: \n",
      "\n",
      "import pandas as pd\n",
      "today = pd.Timestamp('now').normalize()\n",
      "appointments_today = df[(df['event_type'] == 'Appointment') & (df['start_date'] <= today) & (df['end_date'] >= today)]\n",
      "solution = appointments_today\n",
      "print( solution.to_json( orient='records', lines=True ) )\n",
      "\n",
      "Snippet 2 for question `what conferences do i have today`: \n",
      "\n",
      "import pandas as pd\n",
      "today = pd.Timestamp('now').normalize()\n",
      "conferences_today = df[(df['event_type'] == 'Conference') & (df['start_date'] <= today) & (df['end_date'] >= today)]\n",
      "solution = conferences_today\n",
      "print( solution.to_json( orient='records', lines=True ) )\n",
      "\n",
      "Snippet 3 for question `what performances do i have today`: \n",
      "\n",
      "import pandas as pd\n",
      "from datetime import datetime\n",
      "today = pd.Timestamp(datetime.now())\n",
      "performances_today = df[(df['event_type'] == 'Performance') & (df['start_date'] <= today) & (df['end_date'] >= today)]\n",
      "solution = performances_today\n",
      "print( solution.to_json( orient='records', lines=True ) )\n",
      "\n",
      "\n",
      "------------------------------------------------------------------------------------------------------------------------\n",
      "- Token count for self.system_message: [743]\n",
      "------------------------------------------------------------------------------------------------------------------------\n",
      "\n",
      "\n",
      "        I'm going to show you 3 Python code snippets that are similar, along with the questions they were created to answer.\n",
      "        How would you coalesce or refactor them so that you only need to call one function in all 3 scenarios?\n",
      "        How would you name the function in a way that clearly explains exactly what the date range is, e.g., 'get_this_months_events_by_type', as well as what the function does?\n",
      "        Descriptive function names MUST look like: `get_birthday_by_name`, or `get_todays_events`, `get_todays_events_by_type`, `get_tomorrows_events`, `get_this_weeks_events`, `get_this_weeks_events_by_type`,`get_this_months_events_by_type`, etc.,\n",
      "\n",
      "        As you generate the Python 3.10 code needed to answer this question, I want you to:\n",
      "\n",
      "        1) Think: Before you do anything, think out loud about what I'm asking you to do, including the steps that you will need to take to solve this problem.\n",
      "        Be critical of your thought process! How will you handle the edge cases? For example, what will you do if your query does not return a result?\n",
      "        2) Code: Generate a verbatim list of code that you used to arrive at your answer, one line of code per item on the list. The code must be complete,\n",
      "        syntactically correct, and capable of running to completion. You must allow for the possibility that your query may not return a result.\n",
      "        3) Document: Create a GPT function signature (gpt_function_signatures) that can be used by GPT to call the function you create. The function signature must be syntactically correct.\n",
      "        4) Generate examples: Generate a dictionary containing the code examples needed to call the function you created, one line of code per question provided.\n",
      "        The example function calls must be complete, syntactically correct, and capable of running to completion. Each example must be wrapped in a print statement.\n",
      "        5) Explain: Briefly and succinctly explain your code in plain English.\n",
      "\n",
      "        Format: return your response as a syntactically correct JSON object with the following fields and formatting:\n",
      "        {\n",
      "            \"thoughts\": \"Your thoughts\",\n",
      "            \"code\": [],\n",
      "            \"function_name\": \"The name of your function. It must describe the time being filtered, e.g., `get_tomorrows_events`\",\n",
      "            \"parameters\": \"The parameters to your function, only two are allowed: the 1st will always be `df` and the 2nd is of your choosing.\",\n",
      "            \"gpt_function_signatures\":\"[\n",
      "            {\n",
      "                \"name\": \"get_current_weather\",\n",
      "                \"description\": \"Gets the current weather in a given location\",\n",
      "                \"parameters\": {\n",
      "                    \"type\": \"object\",\n",
      "                    \"properties\": {\n",
      "                        \"location\": {\n",
      "                            \"type\": \"string\",\n",
      "                            \"description\": \"The city and state, e.g. San Francisco, CA\",\n",
      "                        },\n",
      "                        \"unit\": {\"type\": \"string\", \"enum\": [\"celsius\", \"fahrenheit\"]},\n",
      "                    },\n",
      "                    \"required\": [\"location\"],\n",
      "                },\n",
      "            }]\",\n",
      "            \"returns\": \"Object type of the variable `solution`\",\n",
      "            \"examples\": {}, a dictionary containing the questions and example code, one line of code per question provided.\n",
      "            \"python_version\": \"3.10\",\n",
      "            \"explanation\": \"A brief explanation of your code\",\n",
      "            \"error\": \"Verbatim stack trace or description of issues encountered while attempting to carry out this task.\"\n",
      "        }\n",
      "\n",
      "------------------------------------------------------------------------------------------------------------------------\n",
      "- Token count for self.user_message: [256]\n",
      "------------------------------------------------------------------------------------------------------------------------\n",
      "\n",
      "\n",
      "        Snippet 1 for question `what appointments do i have today`: \n",
      "\n",
      "import pandas as pd\n",
      "today = pd.Timestamp('now').normalize()\n",
      "appointments_today = df[(df['event_type'] == 'Appointment') & (df['start_date'] <= today) & (df['end_date'] >= today)]\n",
      "solution = appointments_today\n",
      "print( solution.to_json( orient='records', lines=True ) )\n",
      "\n",
      "Snippet 2 for question `what conferences do i have today`: \n",
      "\n",
      "import pandas as pd\n",
      "today = pd.Timestamp('now').normalize()\n",
      "conferences_today = df[(df['event_type'] == 'Conference') & (df['start_date'] <= today) & (df['end_date'] >= today)]\n",
      "solution = conferences_today\n",
      "print( solution.to_json( orient='records', lines=True ) )\n",
      "\n",
      "Snippet 3 for question `what performances do i have today`: \n",
      "\n",
      "import pandas as pd\n",
      "from datetime import datetime\n",
      "today = pd.Timestamp(datetime.now())\n",
      "performances_today = df[(df['event_type'] == 'Performance') & (df['start_date'] <= today) & (df['end_date'] >= today)]\n",
      "solution = performances_today\n",
      "print( solution.to_json( orient='records', lines=True ) )\n",
      "\n",
      "        Begin!\n",
      "        \n",
      "Asking ChatGPT [gpt-4-0613]...\n",
      "Asking ChatGPT [gpt-4-0613]... in 32,829 ms\n",
      "\n",
      "{\n",
      "    \"id\": \"chatcmpl-87uOi7YK8AX6hWvkRmrITGKcfwYwq\",\n",
      "    \"object\": \"chat.completion\",\n",
      "    \"created\": 1696895780,\n",
      "    \"model\": \"gpt-4-0613\",\n",
      "    \"choices\": [\n",
      "        {\n",
      "            \"index\": 0,\n",
      "            \"message\": {\n",
      "                \"role\": \"assistant\",\n",
      "                \"content\": \"{\\n    \\\"thoughts\\\": \\\"The three code snippets are very similar, they all filter a DataFrame based on the current date and a specific event type. The only difference between them is the event type. Therefore, we can create a single function that takes the DataFrame and the event type as parameters, and returns the filtered DataFrame. If the query does not return a result, the function will return an empty DataFrame.\\\",\\n    \\\"code\\\": [\\n        \\\"import pandas as pd\\\",\\n        \\\"def get_todays_events_by_type(df, event_type):\\\",\\n        \\\"    today = pd.Timestamp('now').normalize()\\\",\\n        \\\"    events_today = df[(df['event_type'] == event_type) & (df['start_date'] <= today) & (df['end_date'] >= today)]\\\",\\n        \\\"    return events_today\\\"\\n    ],\\n    \\\"function_name\\\": \\\"get_todays_events_by_type\\\",\\n    \\\"parameters\\\": \\\"df, event_type\\\",\\n    \\\"gpt_function_signatures\\\":\\\"[ { 'name': 'get_todays_events_by_type', 'description': 'Gets the events of a specific type that are happening today', 'parameters': { 'type': 'object', 'properties': { 'df': { 'type': 'object', 'description': 'The DataFrame containing the events data' }, 'event_type': { 'type': 'string', 'description': 'The type of event to filter by' } }, 'required': ['df', 'event_type'] } } ]\\\",\\n    \\\"returns\\\": \\\"DataFrame\\\",\\n    \\\"examples\\\": {\\n        \\\"what appointments do i have today\\\": \\\"print(get_todays_events_by_type(df, 'Appointment').to_json(orient='records', lines=True))\\\",\\n        \\\"what conferences do i have today\\\": \\\"print(get_todays_events_by_type(df, 'Conference').to_json(orient='records', lines=True))\\\",\\n        \\\"what performances do i have today\\\": \\\"print(get_todays_events_by_type(df, 'Performance').to_json(orient='records', lines=True))\\\"\\n    },\\n    \\\"python_version\\\": \\\"3.10\\\",\\n    \\\"explanation\\\": \\\"The function `get_todays_events_by_type` takes a DataFrame and an event type as parameters. It filters the DataFrame to only include events of the specified type that are happening today. The current date is obtained using `pd.Timestamp('now').normalize()`. The function returns the filtered DataFrame. If no events of the specified type are happening today, the function will return an empty DataFrame.\\\",\\n    \\\"error\\\": \\\"\\\"\\n}\"\n",
      "            },\n",
      "            \"finish_reason\": \"stop\"\n",
      "        }\n",
      "    ],\n",
      "    \"usage\": {\n",
      "        \"prompt_tokens\": 1010,\n",
      "        \"completion_tokens\": 524,\n",
      "        \"total_tokens\": 1534\n",
      "    }\n",
      "}\n",
      "{\n",
      "    \"thoughts\": \"The three code snippets are very similar, they all filter a DataFrame based on the current date and a specific event type. The only difference between them is the event type. Therefore, we can create a single function that takes the DataFrame and the event type as parameters, and returns the filtered DataFrame. If the query does not return a result, the function will return an empty DataFrame.\",\n",
      "    \"code\": [\n",
      "        \"import pandas as pd\",\n",
      "        \"def get_todays_events_by_type(df, event_type):\",\n",
      "        \"    today = pd.Timestamp('now').normalize()\",\n",
      "        \"    events_today = df[(df['event_type'] == event_type) & (df['start_date'] <= today) & (df['end_date'] >= today)]\",\n",
      "        \"    return events_today\"\n",
      "    ],\n",
      "    \"function_name\": \"get_todays_events_by_type\",\n",
      "    \"parameters\": \"df, event_type\",\n",
      "    \"gpt_function_signatures\": \"[ { 'name': 'get_todays_events_by_type', 'description': 'Gets the events of a specific type that are happening today', 'parameters': { 'type': 'object', 'properties': { 'df': { 'type': 'object', 'description': 'The DataFrame containing the events data' }, 'event_type': { 'type': 'string', 'description': 'The type of event to filter by' } }, 'required': ['df', 'event_type'] } } ]\",\n",
      "    \"returns\": \"DataFrame\",\n",
      "    \"examples\": {\n",
      "        \"what appointments do i have today\": \"print(get_todays_events_by_type(df, 'Appointment').to_json(orient='records', lines=True))\",\n",
      "        \"what conferences do i have today\": \"print(get_todays_events_by_type(df, 'Conference').to_json(orient='records', lines=True))\",\n",
      "        \"what performances do i have today\": \"print(get_todays_events_by_type(df, 'Performance').to_json(orient='records', lines=True))\"\n",
      "    },\n",
      "    \"python_version\": \"3.10\",\n",
      "    \"explanation\": \"The function `get_todays_events_by_type` takes a DataFrame and an event type as parameters. It filters the DataFrame to only include events of the specified type that are happening today. The current date is obtained using `pd.Timestamp('now').normalize()`. The function returns the filtered DataFrame. If no events of the specified type are happening today, the function will return an empty DataFrame.\",\n",
      "    \"error\": \"\"\n",
      "}\n"
     ]
    },
    {
     "data": {
      "text/plain": "<agent_refactoring.RefactoringAgent at 0x7fe8020c09a0>"
     },
     "execution_count": 225,
     "metadata": {},
     "output_type": "execute_result"
    }
   ],
   "source": [
    "agent = begin_refactoring_similar_questions( \"What appointments do I have today?\" )\n",
    "agent."
   ],
   "metadata": {
    "collapsed": false,
    "ExecuteTime": {
     "end_time": "2023-10-09T23:56:52.778093Z",
     "start_time": "2023-10-09T23:56:19.740114Z"
    }
   },
   "id": "6021192ecc93d3c9"
  },
  {
   "cell_type": "code",
   "execution_count": 244,
   "outputs": [
    {
     "data": {
      "text/plain": "{'thoughts': 'The three code snippets are very similar, they all filter a DataFrame based on the current date and a specific event type. The only difference between them is the event type. Therefore, we can create a single function that takes the DataFrame and the event type as parameters, and returns the filtered DataFrame. If the query does not return a result, the function will return an empty DataFrame.',\n 'code': ['import pandas as pd',\n  'def get_todays_events_by_type(df, event_type):',\n  \"    today = pd.Timestamp('now').normalize()\",\n  \"    events_today = df[(df['event_type'] == event_type) & (df['start_date'] <= today) & (df['end_date'] >= today)]\",\n  '    return events_today'],\n 'function_name': 'get_todays_events_by_type',\n 'parameters': 'df, event_type',\n 'gpt_function_signatures': \"[ { 'name': 'get_todays_events_by_type', 'description': 'Gets the events of a specific type that are happening today', 'parameters': { 'type': 'object', 'properties': { 'df': { 'type': 'object', 'description': 'The DataFrame containing the events data' }, 'event_type': { 'type': 'string', 'description': 'The type of event to filter by' } }, 'required': ['df', 'event_type'] } } ]\",\n 'returns': 'DataFrame',\n 'examples': {'what appointments do i have today': ['import lib.autogen.util_calendaring_1 as uc1',\n   \"print(uc1.get_todays_events_by_type(df, 'Appointment').to_json(orient='records', lines=True))\"],\n  'what conferences do i have today': ['import lib.autogen.util_calendaring_1 as uc1',\n   \"print(uc1.get_todays_events_by_type(df, 'Conference').to_json(orient='records', lines=True))\"],\n  'what performances do i have today': ['import lib.autogen.util_calendaring_1 as uc1',\n   \"print(uc1.get_todays_events_by_type(df, 'Performance').to_json(orient='records', lines=True))\"]},\n 'python_version': '3.10',\n 'explanation': \"The function `get_todays_events_by_type` takes a DataFrame and an event type as parameters. It filters the DataFrame to only include events of the specified type that are happening today. The current date is obtained using `pd.Timestamp('now').normalize()`. The function returns the filtered DataFrame. If no events of the specified type are happening today, the function will return an empty DataFrame.\",\n 'error': ''}"
     },
     "execution_count": 244,
     "metadata": {},
     "output_type": "execute_result"
    }
   ],
   "source": [
    "agent.response_dict"
   ],
   "metadata": {
    "collapsed": false,
    "ExecuteTime": {
     "end_time": "2023-10-10T00:19:43.275456Z",
     "start_time": "2023-10-10T00:19:43.238990Z"
    }
   },
   "id": "2f5046a8dbbd8f73"
  },
  {
   "cell_type": "code",
   "execution_count": 226,
   "outputs": [
    {
     "name": "stdout",
     "output_type": "stream",
     "text": [
      "Writing file [/var/genie-in-the-box/src/lib/autogen/util_calendaring_1.py]... Done!\n",
      "Writing file [/var/genie-in-the-box/src/lib/autogen/util_calendaring_1.json]... Done!\n",
      "Writing file [/var/genie-in-the-box/io/lib/autogen/util_calendaring_1.py]... Done!\n",
      "\n",
      "File     count: [1]\n",
      "File file_name: [util_calendaring_1.py]\n",
      "File repo_path: [/var/genie-in-the-box/src/lib/autogen/util_calendaring_1.json]\n",
      "File   io_path: [/var/genie-in-the-box/io/lib/autogen/util_calendaring_1.py]\n",
      "File    abbrev: [uc1]\n",
      "File    import: [import lib.autogen.util_calendaring_1 as uc1]\n",
      "File call_template: [uc1.get_todays_events_by_type( df, 'event_type' )]\n",
      "File     signature: [{'name': 'get_todays_events_by_type', 'description': 'Gets the events of a specific type that are happening today', 'parameters': {'type': 'object', 'properties': {'df': {'type': 'object', 'description': 'The DataFrame containing the events data'}, 'event_type': {'type': 'string', 'description': 'The type of event to filter by'}}, 'required': ['df', 'event_type']}, 'call_template': \"uc1.get_todays_events_by_type( df, 'event_type' )\", 'import_as': 'import lib.autogen.util_calendaring_1 as uc1'}]\n",
      "\n",
      "------------------------------------------------------------------------------------------------------------------------\n",
      "- BEFORE updating `what appointments do i have today`...\n",
      "------------------------------------------------------------------------------------------------------------------------\n",
      "\n",
      "import pandas as pd\n",
      "today = pd.Timestamp('now').normalize()\n",
      "appointments_today = df[(df['event_type'] == 'Appointment') & (df['start_date'] <= today) & (df['end_date'] >= today)]\n",
      "solution = appointments_today\n",
      "print( solution.to_json( orient='records', lines=True ) )\n",
      "\n",
      "\n",
      "Generating embedding for [import lib.autogen.util_calendaring_1 as uc1 print(uc1.get_today...]...\n",
      "Generating embedding for [import lib.autogen.util_calendaring_1 as uc1 print(uc1.get_today...]... Done! in 229 ms\n",
      "\n",
      "solution_file value provided: [what-appointments-do-i-have-today-0.json]...\n",
      "File path: /var/genie-in-the-box/src/conf/long-term-memory/solutions/what-appointments-do-i-have-today-0.json\n",
      "------------------------------------------------------------------------------------------------------------------------\n",
      "-  AFTER updating `what appointments do i have today`...\n",
      "------------------------------------------------------------------------------------------------------------------------\n",
      "\n",
      "import lib.autogen.util_calendaring_1 as uc1\n",
      "print(uc1.get_todays_events_by_type(df, 'Appointment').to_json(orient='records', lines=True))\n",
      "\n",
      "\n",
      "------------------------------------------------------------------------------------------------------------------------\n",
      "- BEFORE updating `what conferences do i have today`...\n",
      "------------------------------------------------------------------------------------------------------------------------\n",
      "\n",
      "import pandas as pd\n",
      "today = pd.Timestamp('now').normalize()\n",
      "conferences_today = df[(df['event_type'] == 'Conference') & (df['start_date'] <= today) & (df['end_date'] >= today)]\n",
      "solution = conferences_today\n",
      "print( solution.to_json( orient='records', lines=True ) )\n",
      "\n",
      "\n",
      "Generating embedding for [import lib.autogen.util_calendaring_1 as uc1 print(uc1.get_today...]...\n",
      "Generating embedding for [import lib.autogen.util_calendaring_1 as uc1 print(uc1.get_today...]... Done! in 135 ms\n",
      "\n",
      "solution_file value provided: [what-conferences-do-i-have-today-0.json]...\n",
      "File path: /var/genie-in-the-box/src/conf/long-term-memory/solutions/what-conferences-do-i-have-today-0.json\n",
      "------------------------------------------------------------------------------------------------------------------------\n",
      "-  AFTER updating `what conferences do i have today`...\n",
      "------------------------------------------------------------------------------------------------------------------------\n",
      "\n",
      "import lib.autogen.util_calendaring_1 as uc1\n",
      "print(uc1.get_todays_events_by_type(df, 'Conference').to_json(orient='records', lines=True))\n",
      "\n",
      "\n",
      "------------------------------------------------------------------------------------------------------------------------\n",
      "- BEFORE updating `what performances do i have today`...\n",
      "------------------------------------------------------------------------------------------------------------------------\n",
      "\n",
      "import pandas as pd\n",
      "from datetime import datetime\n",
      "today = pd.Timestamp(datetime.now())\n",
      "performances_today = df[(df['event_type'] == 'Performance') & (df['start_date'] <= today) & (df['end_date'] >= today)]\n",
      "solution = performances_today\n",
      "print( solution.to_json( orient='records', lines=True ) )\n",
      "\n",
      "\n",
      "Generating embedding for [import lib.autogen.util_calendaring_1 as uc1 print(uc1.get_today...]...\n",
      "Generating embedding for [import lib.autogen.util_calendaring_1 as uc1 print(uc1.get_today...]... Done! in 149 ms\n",
      "\n",
      "solution_file value provided: [what-performances-do-i-have-today-0.json]...\n",
      "File path: /var/genie-in-the-box/src/conf/long-term-memory/solutions/what-performances-do-i-have-today-0.json\n",
      "------------------------------------------------------------------------------------------------------------------------\n",
      "-  AFTER updating `what performances do i have today`...\n",
      "------------------------------------------------------------------------------------------------------------------------\n",
      "\n",
      "import lib.autogen.util_calendaring_1 as uc1\n",
      "print(uc1.get_todays_events_by_type(df, 'Performance').to_json(orient='records', lines=True))\n"
     ]
    }
   ],
   "source": [
    "agent.refactor_code( debug=True )"
   ],
   "metadata": {
    "collapsed": false,
    "ExecuteTime": {
     "end_time": "2023-10-09T23:58:12.189153Z",
     "start_time": "2023-10-09T23:58:11.648696Z"
    }
   },
   "id": "7e4fc9e4e831b3ab"
  },
  {
   "cell_type": "code",
   "execution_count": 227,
   "outputs": [
    {
     "name": "stdout",
     "output_type": "stream",
     "text": [
      "last command, before [print(uc1.get_todays_events_by_type(df, 'Appointment').to_json(orient='records', lines=True))]:\n",
      "return_type [string]\n",
      "ERROR: return_type [string] and last command [print(uc1.get_todays_events_by_type(df, 'Appointment').to_json(orient='records', lines=True))] are incompatible!\n",
      "last command,  after [print(uc1.get_todays_events_by_type(df, 'Appointment').to_json(orient='records', lines=True))]:\n",
      "import pandas as pd\n",
      "import lib.util as du\n",
      "import lib.util_pandas as dup\n",
      "\n",
      "debug = True\n",
      "\n",
      "df = pd.read_csv( du.get_project_root() + '/src/conf/long-term-memory/events.csv' )\n",
      "df = dup.cast_to_datetime( df, debug=debug )\n",
      "import lib.autogen.util_calendaring_1 as uc1\n",
      "print(uc1.get_todays_events_by_type(df, 'Appointment').to_json(orient='records', lines=True))\n",
      "\n",
      "Executing /var/genie-in-the-box/io/code.py... Done!\n",
      "\n",
      "------------------------------------------------------------------------------------------------------------------------\n",
      "- Code output\n",
      "------------------------------------------------------------------------------------------------------------------------\n",
      "\n",
      "{\"start_date\":1696896000000,\"end_date\":1696982400000,\"start_time\":\"16:22\",\"end_time\":\"07:17\",\"event_type\":\"Appointment\",\"recurrent\":false,\"recurrence_interval\":null,\"priority_level\":\"low\",\"name\":\"Barbara Jane Ruiz\",\"relationship\":\"mother\",\"description_who_what_where\":\"Appointment with Barbara Jane Ruiz at the clinic\"}\n",
      "\n",
      "last command, before [print(uc1.get_todays_events_by_type(df, 'Conference').to_json(orient='records', lines=True))]:\n",
      "return_type [string]\n",
      "ERROR: return_type [string] and last command [print(uc1.get_todays_events_by_type(df, 'Conference').to_json(orient='records', lines=True))] are incompatible!\n",
      "last command,  after [print(uc1.get_todays_events_by_type(df, 'Conference').to_json(orient='records', lines=True))]:\n",
      "import pandas as pd\n",
      "import lib.util as du\n",
      "import lib.util_pandas as dup\n",
      "\n",
      "debug = True\n",
      "\n",
      "df = pd.read_csv( du.get_project_root() + '/src/conf/long-term-memory/events.csv' )\n",
      "df = dup.cast_to_datetime( df, debug=debug )\n",
      "import lib.autogen.util_calendaring_1 as uc1\n",
      "print(uc1.get_todays_events_by_type(df, 'Conference').to_json(orient='records', lines=True))\n",
      "\n",
      "Executing /var/genie-in-the-box/io/code.py... Done!\n",
      "\n",
      "------------------------------------------------------------------------------------------------------------------------\n",
      "- Code output\n",
      "------------------------------------------------------------------------------------------------------------------------\n",
      "\n",
      "{\"start_date\":1696636800000,\"end_date\":1697241600000,\"start_time\":\"00:00\",\"end_time\":\"23:59\",\"event_type\":\"Conference\",\"recurrent\":false,\"recurrence_interval\":null,\"priority_level\":\"low\",\"name\":\"Bob\",\"relationship\":\"brother\",\"description_who_what_where\":\"Conference with Bob on AI advancements\"}\n",
      "\n",
      "last command, before [print(uc1.get_todays_events_by_type(df, 'Performance').to_json(orient='records', lines=True))]:\n",
      "return_type [string]\n",
      "ERROR: return_type [string] and last command [print(uc1.get_todays_events_by_type(df, 'Performance').to_json(orient='records', lines=True))] are incompatible!\n",
      "last command,  after [print(uc1.get_todays_events_by_type(df, 'Performance').to_json(orient='records', lines=True))]:\n",
      "import pandas as pd\n",
      "import lib.util as du\n",
      "import lib.util_pandas as dup\n",
      "\n",
      "debug = True\n",
      "\n",
      "df = pd.read_csv( du.get_project_root() + '/src/conf/long-term-memory/events.csv' )\n",
      "df = dup.cast_to_datetime( df, debug=debug )\n",
      "import lib.autogen.util_calendaring_1 as uc1\n",
      "print(uc1.get_todays_events_by_type(df, 'Performance').to_json(orient='records', lines=True))\n",
      "\n",
      "Executing /var/genie-in-the-box/io/code.py... Done!\n",
      "\n",
      "------------------------------------------------------------------------------------------------------------------------\n",
      "- Code output\n",
      "------------------------------------------------------------------------------------------------------------------------\n",
      "\n",
      "No results returned\n"
     ]
    },
    {
     "data": {
      "text/plain": "[{'return_code': 0,\n  'output': '{\"start_date\":1696896000000,\"end_date\":1696982400000,\"start_time\":\"16:22\",\"end_time\":\"07:17\",\"event_type\":\"Appointment\",\"recurrent\":false,\"recurrence_interval\":null,\"priority_level\":\"low\",\"name\":\"Barbara Jane Ruiz\",\"relationship\":\"mother\",\"description_who_what_where\":\"Appointment with Barbara Jane Ruiz at the clinic\"}'},\n {'return_code': 0,\n  'output': '{\"start_date\":1696636800000,\"end_date\":1697241600000,\"start_time\":\"00:00\",\"end_time\":\"23:59\",\"event_type\":\"Conference\",\"recurrent\":false,\"recurrence_interval\":null,\"priority_level\":\"low\",\"name\":\"Bob\",\"relationship\":\"brother\",\"description_who_what_where\":\"Conference with Bob on AI advancements\"}'},\n {'return_code': 0, 'output': 'No results returned'}]"
     },
     "execution_count": 227,
     "metadata": {},
     "output_type": "execute_result"
    }
   ],
   "source": [
    "agent.run_code()"
   ],
   "metadata": {
    "collapsed": false,
    "ExecuteTime": {
     "end_time": "2023-10-10T00:00:18.486065Z",
     "start_time": "2023-10-10T00:00:17.724079Z"
    }
   },
   "id": "96fcae1a47ecd770"
  },
  {
   "cell_type": "code",
   "execution_count": 242,
   "outputs": [
    {
     "name": "stdout",
     "output_type": "stream",
     "text": [
      "Asking ChatGPT [gpt-4-0613]...\n",
      "Asking ChatGPT [gpt-4-0613]... in 4,573 ms\n",
      "\n",
      "last command, before [uc1.get_todays_events_by_type( df, 'Appointment' )]:\n",
      "return_type [string]\n",
      "ERROR: return_type [string] and last command [uc1.get_todays_events_by_type( df, 'Appointment' )] are incompatible!\n",
      "last command,  after [uc1.get_todays_events_by_type( df, 'Appointment' )]:\n",
      "import pandas as pd\n",
      "import lib.util as du\n",
      "import lib.util_pandas as dup\n",
      "\n",
      "debug = True\n",
      "\n",
      "df = pd.read_csv( du.get_project_root() + '/src/conf/long-term-memory/events.csv' )\n",
      "df = dup.cast_to_datetime( df, debug=debug )\n",
      "import lib.autogen.util_calendaring_1 as uc1\n",
      "uc1.get_todays_events_by_type( df, 'Appointment' )\n",
      "\n",
      "Executing /var/genie-in-the-box/io/code.py... Done!\n"
     ]
    }
   ],
   "source": [
    "def get_and_run_code_for_question( question ):\n",
    "    \n",
    "    code = get_code_for_question( question )\n",
    "    \n",
    "    if code:\n",
    "        code_response = ucr.assemble_and_run_solution( code, path=\"/src/conf/long-term-memory/events.csv\" )\n",
    "        return code_response\n",
    "    else:\n",
    "        return None\n",
    "    \n",
    "code_response = get_and_run_code_for_question( \"Do I have any appointments today?\" )"
   ],
   "metadata": {
    "collapsed": false,
    "ExecuteTime": {
     "end_time": "2023-10-10T00:11:29.839958Z",
     "start_time": "2023-10-10T00:11:25.013617Z"
    }
   },
   "id": "c73a973aebdc97e"
  },
  {
   "cell_type": "code",
   "execution_count": 243,
   "outputs": [
    {
     "data": {
      "text/plain": "{'return_code': 0, 'output': 'No results returned'}"
     },
     "execution_count": 243,
     "metadata": {},
     "output_type": "execute_result"
    }
   ],
   "source": [
    "code_response"
   ],
   "metadata": {
    "collapsed": false,
    "ExecuteTime": {
     "end_time": "2023-10-10T00:11:41.349945Z",
     "start_time": "2023-10-10T00:11:41.325364Z"
    }
   },
   "id": "4c63f13f315fed34"
  },
  {
   "cell_type": "code",
   "execution_count": 247,
   "outputs": [
    {
     "ename": "TypeError",
     "evalue": "begin_refactoring_similar_questions() got an unexpected keyword argument 'debug'",
     "output_type": "error",
     "traceback": [
      "\u001B[0;31m---------------------------------------------------------------------------\u001B[0m",
      "\u001B[0;31mTypeError\u001B[0m                                 Traceback (most recent call last)",
      "Cell \u001B[0;32mIn[247], line 1\u001B[0m\n\u001B[0;32m----> 1\u001B[0m agent \u001B[38;5;241m=\u001B[39m \u001B[43mbegin_refactoring_similar_questions\u001B[49m\u001B[43m(\u001B[49m\u001B[43m \u001B[49m\u001B[38;5;124;43m\"\u001B[39;49m\u001B[38;5;124;43mWhen is juans birthday?\u001B[39;49m\u001B[38;5;124;43m\"\u001B[39;49m\u001B[43m,\u001B[49m\u001B[43m \u001B[49m\u001B[43mdebug\u001B[49m\u001B[38;5;241;43m=\u001B[39;49m\u001B[38;5;28;43;01mTrue\u001B[39;49;00m\u001B[43m \u001B[49m\u001B[43m)\u001B[49m\n",
      "\u001B[0;31mTypeError\u001B[0m: begin_refactoring_similar_questions() got an unexpected keyword argument 'debug'"
     ]
    }
   ],
   "source": [
    "agent = begin_refactoring_similar_questions( \"When is juans birthday?\", debug=True )"
   ],
   "metadata": {
    "collapsed": false,
    "ExecuteTime": {
     "end_time": "2023-10-10T01:41:03.081876Z",
     "start_time": "2023-10-10T01:41:03.026018Z"
    }
   },
   "id": "3c06c45e1eb47d3b"
  },
  {
   "cell_type": "code",
   "execution_count": null,
   "outputs": [],
   "source": [],
   "metadata": {
    "collapsed": false
   },
   "id": "63e4cb32f588a1c5"
  }
 ],
 "metadata": {
  "kernelspec": {
   "display_name": "Python 3",
   "language": "python",
   "name": "python3"
  },
  "language_info": {
   "codemirror_mode": {
    "name": "ipython",
    "version": 2
   },
   "file_extension": ".py",
   "mimetype": "text/x-python",
   "name": "python",
   "nbconvert_exporter": "python",
   "pygments_lexer": "ipython2",
   "version": "2.7.6"
  }
 },
 "nbformat": 4,
 "nbformat_minor": 5
}
