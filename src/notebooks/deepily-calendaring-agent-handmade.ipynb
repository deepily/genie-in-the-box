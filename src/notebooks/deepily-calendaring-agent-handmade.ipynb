{
 "cells": [
  {
   "cell_type": "code",
   "execution_count": 4,
   "outputs": [],
   "source": [
    "%load_ext autoreload"
   ],
   "metadata": {
    "collapsed": false,
    "ExecuteTime": {
     "end_time": "2023-10-09T14:59:47.533403Z",
     "start_time": "2023-10-09T14:59:47.507579Z"
    }
   },
   "id": "14c1efa189e09521"
  },
  {
   "cell_type": "code",
   "execution_count": 5,
   "outputs": [
    {
     "name": "stdout",
     "output_type": "stream",
     "text": [
      "/var/genie-in-the-box/src/notebooks\n",
      "/var/genie-in-the-box/src\n"
     ]
    }
   ],
   "source": [
    "import os\n",
    "print( os.getcwd() )\n",
    "os.chdir( \"/var/genie-in-the-box/src\" )\n",
    "print( os.getcwd() )"
   ],
   "metadata": {
    "collapsed": false,
    "ExecuteTime": {
     "end_time": "2023-10-09T14:59:48.099682Z",
     "start_time": "2023-10-09T14:59:48.095347Z"
    }
   },
   "id": "b117e3a7855590eb"
  },
  {
   "cell_type": "code",
   "execution_count": 6,
   "outputs": [
    {
     "name": "stdout",
     "output_type": "stream",
     "text": [
      "['/Applications/PyCharm.app/Contents/plugins/python/helpers-pro/jupyter_debug', '/Applications/PyCharm.app/Contents/plugins/python/helpers/pydev', '/var/genie-in-the-box/src/notebooks', '/usr/local/lib/python310.zip', '/usr/local/lib/python3.10', '/usr/local/lib/python3.10/lib-dynload', '', '/usr/local/lib/python3.10/site-packages', '/var/genie-in-the-box/src/lib']\n",
      "Added [/var/genie-in-the-box/src] to sys.path\n",
      "pwd [/var/genie-in-the-box/src]\n",
      "\n",
      "/Applications/PyCharm.app/Contents/plugins/python/helpers-pro/jupyter_debug\n",
      "/Applications/PyCharm.app/Contents/plugins/python/helpers/pydev\n",
      "/usr/local/lib/python3.10\n",
      "/usr/local/lib/python3.10/lib-dynload\n",
      "/usr/local/lib/python3.10/site-packages\n",
      "/usr/local/lib/python310.zip\n",
      "/var/genie-in-the-box/src\n",
      "/var/genie-in-the-box/src/lib\n",
      "/var/genie-in-the-box/src/notebooks\n"
     ]
    }
   ],
   "source": [
    "%autoreload\n",
    "\n",
    "import sys\n",
    "import os\n",
    "import json\n",
    "\n",
    "\n",
    "# os.environ[ \"LANGCHAIN_WANDB_TRACING\" ] = \"true\"\n",
    "# # wandb documentation to configure wandb using env variables\n",
    "# # https://docs.wandb.ai/guides/track/advanced/environment-variables\n",
    "# # here we are configuring the wandb project name\n",
    "# os.environ[ \"WANDB_PROJECT\" ] = \"deepily-dataframe-agent\"\n",
    "\n",
    "path = \"/var/genie-in-the-box/src/lib\"\n",
    "if path not in sys.path:\n",
    "    sys.path.append( path )\n",
    "else:\n",
    "    print( f\"[{path}] already in sys.path\" )\n",
    "\n",
    "print( sys.path )\n",
    "\n",
    "\n",
    "import lib.util             as du\n",
    "path = \"/var/genie-in-the-box/src\"\n",
    "du.add_to_path( path )\n",
    "\n",
    "import lib.util_pandas      as up\n",
    "import lib.util_stopwatch   as sw\n",
    "import lib.util_code_runner as ucr\n",
    "\n",
    "from solution_snapshot_mgr import SolutionSnapshotManager\n",
    "from agent_refactoring     import RefactoringAgent\n",
    "\n",
    "import openai\n",
    "\n",
    "debug   = True\n",
    "verbose = True\n"
   ],
   "metadata": {
    "collapsed": false,
    "ExecuteTime": {
     "end_time": "2023-10-09T14:59:50.300275Z",
     "start_time": "2023-10-09T14:59:49.992599Z"
    }
   },
   "id": "e4a94b9494513834"
  },
  {
   "cell_type": "code",
   "execution_count": 77,
   "outputs": [
    {
     "name": "stdout",
     "output_type": "stream",
     "text": [
      "Asking ChatGPT [gpt-4-0613]...\n",
      "Asking ChatGPT [gpt-4-0613]... in 1,656 ms\n"
     ]
    },
    {
     "data": {
      "text/plain": "\"My name is ChatGPT. I'm an artificial intelligence designed to assist with information and conversation.\""
     },
     "execution_count": 77,
     "metadata": {},
     "output_type": "execute_result"
    }
   ],
   "source": [
    "GPT_4   = \"gpt-4-0613\"\n",
    "GPT_3_5 = \"gpt-3.5-turbo-0613\"\n",
    "\n",
    "def ask_chat_gpt_text( preamble, query, model=GPT_4, debug=False ):\n",
    "\n",
    "    openai.api_key = os.getenv( \"FALSE_POSITIVE_API_KEY\" )\n",
    "    \n",
    "    timer = sw.Stopwatch( msg=f\"Asking ChatGPT [{model}]...\".format( model ) )\n",
    "    \n",
    "    response = openai.ChatCompletion.create(\n",
    "        model=model,\n",
    "        messages=[ \n",
    "            { \"role\": \"system\", \"content\": preamble },\n",
    "            { \"role\": \"user\",   \"content\": query } \n",
    "        ],\n",
    "        temperature=0,\n",
    "        max_tokens=2400,\n",
    "        top_p=1.0,\n",
    "        frequency_penalty=0.0,\n",
    "        presence_penalty=0.0\n",
    "    )\n",
    "    timer.print( use_millis=True )\n",
    "    \n",
    "    if debug: print( json.dumps( response, indent=4 ) )\n",
    "    \n",
    "    return response[ \"choices\" ][ 0 ][ \"message\" ][ \"content\" ].strip()\n",
    "\n",
    "preamble = \"You are chatGPT, a helpful chatbot\"\n",
    "question = \"What's your name?\"\n",
    "\n",
    "ask_chat_gpt_text( preamble, question, model=GPT_4 )"
   ],
   "metadata": {
    "collapsed": false,
    "ExecuteTime": {
     "end_time": "2023-10-09T18:33:39.063076Z",
     "start_time": "2023-10-09T18:33:37.404224Z"
    }
   },
   "id": "15c33434a5136979"
  },
  {
   "cell_type": "code",
   "execution_count": 78,
   "outputs": [
    {
     "data": {
      "text/plain": "start_date\n2023-11-01    2\n2023-10-28    2\n2023-09-30    2\n2023-10-13    1\n2023-10-30    1\n2023-10-22    1\n2023-10-21    1\n2023-10-20    1\n2023-10-19    1\n2023-10-15    1\n2023-09-01    1\n2023-09-06    1\n2023-10-03    1\n2023-09-28    1\n2023-09-27    1\n2023-09-20    1\n2023-09-12    1\n2023-09-09    1\n2023-10-07    1\nName: count, dtype: int64"
     },
     "execution_count": 78,
     "metadata": {},
     "output_type": "execute_result"
    }
   ],
   "source": [
    "import pandas as pd\n",
    "df = pd.read_csv( du.get_project_root() + \"/src/conf/long-term-memory/events.csv\" )\n",
    "df[ ( df.event_type == 'Concert' ) ].start_date.value_counts()\n"
   ],
   "metadata": {
    "collapsed": false,
    "ExecuteTime": {
     "end_time": "2023-10-09T18:33:40.778041Z",
     "start_time": "2023-10-09T18:33:40.760507Z"
    }
   },
   "id": "9d135abbb37b4379"
  },
  {
   "cell_type": "code",
   "execution_count": 76,
   "outputs": [
    {
     "data": {
      "text/plain": "event_type\nConference      24\nConcert         22\nPerformance     21\nAppointment     17\nAnniversary     17\nWorkout         17\nBirthday        16\nWorkshop        15\nTODO            14\nSubscription    14\nMeeting         12\nInterview       11\nName: count, dtype: int64"
     },
     "execution_count": 76,
     "metadata": {},
     "output_type": "execute_result"
    }
   ],
   "source": [
    "df.event_type.value_counts()"
   ],
   "metadata": {
    "collapsed": false,
    "ExecuteTime": {
     "end_time": "2023-10-09T17:17:11.733557Z",
     "start_time": "2023-10-09T17:17:11.699390Z"
    }
   },
   "id": "cec3fcbd7c2ab05a"
  },
  {
   "cell_type": "code",
   "execution_count": 28,
   "outputs": [
    {
     "name": "stdout",
     "output_type": "stream",
     "text": [
      "\n",
      "------------------------------------------------------------------------------------------------------------------------\n",
      "- Found [37] synonymous questions\n",
      "------------------------------------------------------------------------------------------------------------------------\n",
      "\n",
      "Synonymous question [when is juans birthday] for snapshot.question [when is juans birthday]\n",
      "Synonymous question [when was juan born] for snapshot.question [when is juans birthday]\n",
      "Synonymous question [what day is today] for snapshot.question [what day is today]\n",
      "Synonymous question [whats todays date] for snapshot.question [what day is today]\n",
      "Synonymous question [whats todays day and date] for snapshot.question [what day is today]\n",
      "Synonymous question [what is the day and date for today] for snapshot.question [what day is today]\n",
      "Synonymous question [whats the date] for snapshot.question [what day is today]\n",
      "Synonymous question [say what day is today] for snapshot.question [what day is today]\n",
      "Synonymous question [hey what day is today] for snapshot.question [what day is today]\n",
      "Synonymous question [whats todays day] for snapshot.question [what day is today]\n",
      "Synonymous question [what day is it] for snapshot.question [what day is today]\n",
      "Synonymous question [what time is it] for snapshot.question [what time is it]\n",
      "Synonymous question [got the time] for snapshot.question [what time is it]\n",
      "Synonymous question [whats the time] for snapshot.question [what time is it]\n",
      "Synonymous question [yo what time is it] for snapshot.question [what time is it]\n",
      "Synonymous question [hey you got the time] for snapshot.question [what time is it]\n",
      "Synonymous question [hey you what time is it] for snapshot.question [what time is it]\n",
      "Synonymous question [hey what time is it] for snapshot.question [what time is it]\n",
      "Synonymous question [when is anitas birthday] for snapshot.question [when is anitas birthday]\n",
      "Synonymous question [when is jimmys birthday] for snapshot.question [when is jimmys birthday]\n",
      "Synonymous question [when was jimmy born] for snapshot.question [when is jimmys birthday]\n",
      "Synonymous question [wins jimmys birthday] for snapshot.question [when is jimmys birthday]\n",
      "Synonymous question [whens jimmys birthday] for snapshot.question [when is jimmys birthday]\n",
      "Synonymous question [what birthdays do i have this week] for snapshot.question [what birthdays do i have this week]\n",
      "Synonymous question [When is Bobby's birthday?] for snapshot.question [when is bobbys birthday]\n",
      "Synonymous question [how many records in this dataframe] for snapshot.question [how many records in this dataframe]\n",
      "Synonymous question [how many rows in this table] for snapshot.question [how many records in this dataframe]\n",
      "Synonymous question [how many records in this table] for snapshot.question [how many records in this dataframe]\n",
      "Synonymous question [how many records in this csv file] for snapshot.question [how many records in this dataframe]\n",
      "Synonymous question [how many records in that table] for snapshot.question [how many records in this dataframe]\n",
      "Synonymous question [how many rows in that data frame] for snapshot.question [how many records in this dataframe]\n",
      "Synonymous question [how many records in that database] for snapshot.question [how many records in this dataframe]\n",
      "Synonymous question [how many records do i have in that table] for snapshot.question [how many records in this dataframe]\n",
      "Synonymous question [What concerts do I have this week?] for snapshot.question [what concerts do i have this week]\n",
      "Synonymous question [what concerts do i have this week] for snapshot.question [what concerts do i have this week]\n",
      "Synonymous question [When is Yvette's birthday?] for snapshot.question [when is yvettes birthday]\n",
      "Synonymous question [when is yvettes birthday] for snapshot.question [when is yvettes birthday]\n",
      "\n",
      "Loading question embeddings dictionary ........................................................................... Done!\n",
      "\n",
      "Code similarity score [99.99998363078215] for [when is yvettes birthday] == [what concerts do i have this wee...]\n",
      "Code similarity score [93.02580949890351] for [when is yvettes birthday] == [what birthdays do i have this we...]\n",
      "Snippet 1 for question `what concerts do i have this week`: \n",
      "\n",
      "df['start_date'] = pd.to_datetime(df['start_date'])\n",
      "df['end_date'] = pd.to_datetime(df['end_date'])\n",
      "now = pd.Timestamp.now()\n",
      "start_of_week = now - pd.to_timedelta(now.dayofweek, unit='d')\n",
      "end_of_week = start_of_week + pd.to_timedelta(6, unit='d')\n",
      "solution = df[(df['event_type'] == 'Concert') & (df['start_date'] <= end_of_week) & (df['end_date'] >= start_of_week)]\n",
      "print( solution.to_json( orient='records', lines=True ) )\n",
      "\n",
      "Snippet 2 for question `what birthdays do i have this week`: \n",
      "\n",
      "import pandas as pd\n",
      "from datetime import datetime, timedelta\n",
      "start_of_week = pd.Timestamp(datetime.now().date() - timedelta(days=datetime.now().weekday()))\n",
      "end_of_week = start_of_week + pd.DateOffset(days=6)\n",
      "birthday_mask = df['event_type'] == 'Birthday'\n",
      "date_mask = (df['start_date'] <= end_of_week) & (df['end_date'] >= start_of_week)\n",
      "solution = df[birthday_mask & date_mask]\n",
      "print( solution.to_json( orient='records', lines=True ) )\n",
      "\n",
      "\n",
      "------------------------------------------------------------------------------------------------------------------------\n",
      "- Token count for self.system_message: [743]\n",
      "------------------------------------------------------------------------------------------------------------------------\n",
      "\n",
      "\n",
      "        I'm going to show you 2 Python code snippets that are similar, along with the questions they were created to answer.\n",
      "        How would you coalesce or refactor them so that you only need to call one function in all 2 scenarios?\n",
      "        How would you name the function in a way that clearly explains exactly what the date range is, e.g., 'get_this_months_events_by_type', as well as what the function does?\n",
      "        Descriptive function names MUST look like: `get_birthday_by_name`, or `get_todays_events`, `get_todays_events_by_type`, `get_tomorrows_events`, `get_this_weeks_events`, `get_this_weeks_events_by_type`,`get_this_months_events_by_type`, etc.,\n",
      "\n",
      "        As you generate the Python 3.10 code needed to answer this question, I want you to:\n",
      "\n",
      "        1) Think: Before you do anything, think out loud about what I'm asking you to do, including the steps that you will need to take to solve this problem.\n",
      "        Be critical of your thought process! How will you handle the edge cases? For example, what will you do if your query does not return a result?\n",
      "        2) Code: Generate a verbatim list of code that you used to arrive at your answer, one line of code per item on the list. The code must be complete,\n",
      "        syntactically correct, and capable of running to completion. You must allow for the possibility that your query may not return a result.\n",
      "        3) Document: Create a GPT function signature (gpt_function_signatures) that can be used by GPT to call the function you create. The function signature must be syntactically correct.\n",
      "        4) Generate examples: Generate a dictionary containing the code examples needed to call the function you created, one line of code per question provided.\n",
      "        The example function calls must be complete, syntactically correct, and capable of running to completion. Each example must be wrapped in a print statement.\n",
      "        5) Explain: Briefly and succinctly explain your code in plain English.\n",
      "\n",
      "        Format: return your response as a syntactically correct JSON object with the following fields and formatting:\n",
      "        {\n",
      "            \"thoughts\": \"Your thoughts\",\n",
      "            \"code\": [],\n",
      "            \"function_name\": \"The name of your function. It must describe the time being filtered, e.g., `get_tomorrows_events`\",\n",
      "            \"parameters\": \"The parameters to your function, only two are allowed: the 1st will always be `df` and the 2nd is of your choosing.\",\n",
      "            \"gpt_function_signatures\":\"[\n",
      "            {\n",
      "                \"name\": \"get_current_weather\",\n",
      "                \"description\": \"Gets the current weather in a given location\",\n",
      "                \"parameters\": {\n",
      "                    \"type\": \"object\",\n",
      "                    \"properties\": {\n",
      "                        \"location\": {\n",
      "                            \"type\": \"string\",\n",
      "                            \"description\": \"The city and state, e.g. San Francisco, CA\",\n",
      "                        },\n",
      "                        \"unit\": {\"type\": \"string\", \"enum\": [\"celsius\", \"fahrenheit\"]},\n",
      "                    },\n",
      "                    \"required\": [\"location\"],\n",
      "                },\n",
      "            }]\",\n",
      "            \"returns\": \"Object type of the variable `solution`\",\n",
      "            \"examples\": {}, a dictionary containing the questions and example code, one line of code per question provided.\n",
      "            \"python_version\": \"3.10\",\n",
      "            \"explanation\": \"A brief explanation of your code\",\n",
      "            \"error\": \"Verbatim stack trace or description of issues encountered while attempting to carry out this task.\"\n",
      "        }\n",
      "\n",
      "------------------------------------------------------------------------------------------------------------------------\n",
      "- Token count for self.user_message: [269]\n",
      "------------------------------------------------------------------------------------------------------------------------\n",
      "\n",
      "\n",
      "        Snippet 1 for question `what concerts do i have this week`: \n",
      "\n",
      "df['start_date'] = pd.to_datetime(df['start_date'])\n",
      "df['end_date'] = pd.to_datetime(df['end_date'])\n",
      "now = pd.Timestamp.now()\n",
      "start_of_week = now - pd.to_timedelta(now.dayofweek, unit='d')\n",
      "end_of_week = start_of_week + pd.to_timedelta(6, unit='d')\n",
      "solution = df[(df['event_type'] == 'Concert') & (df['start_date'] <= end_of_week) & (df['end_date'] >= start_of_week)]\n",
      "print( solution.to_json( orient='records', lines=True ) )\n",
      "\n",
      "Snippet 2 for question `what birthdays do i have this week`: \n",
      "\n",
      "import pandas as pd\n",
      "from datetime import datetime, timedelta\n",
      "start_of_week = pd.Timestamp(datetime.now().date() - timedelta(days=datetime.now().weekday()))\n",
      "end_of_week = start_of_week + pd.DateOffset(days=6)\n",
      "birthday_mask = df['event_type'] == 'Birthday'\n",
      "date_mask = (df['start_date'] <= end_of_week) & (df['end_date'] >= start_of_week)\n",
      "solution = df[birthday_mask & date_mask]\n",
      "print( solution.to_json( orient='records', lines=True ) )\n",
      "\n",
      "        Begin!\n",
      "        \n",
      "Asking ChatGPT [gpt-4-0613]...\n",
      "Asking ChatGPT [gpt-4-0613]... in 57,987 ms\n",
      "\n",
      "{\n",
      "    \"id\": \"chatcmpl-87mMdrcfACZWseg0Fl67rjeyQGWZR\",\n",
      "    \"object\": \"chat.completion\",\n",
      "    \"created\": 1696864899,\n",
      "    \"model\": \"gpt-4-0613\",\n",
      "    \"choices\": [\n",
      "        {\n",
      "            \"index\": 0,\n",
      "            \"message\": {\n",
      "                \"role\": \"assistant\",\n",
      "                \"content\": \"{\\n    \\\"thoughts\\\": \\\"The two code snippets are very similar, both are filtering a DataFrame based on the event type and the date range. The only difference is the event type. Therefore, we can refactor the code into a single function that takes the event type as a parameter. We also need to handle the case where the query does not return a result. In this case, we can return an empty DataFrame.\\\",\\n    \\\"code\\\": [\\n        \\\"import pandas as pd\\\",\\n        \\\"from datetime import datetime, timedelta\\\",\\n        \\\"def get_this_weeks_events_by_type(df, event_type):\\\",\\n        \\\"    df['start_date'] = pd.to_datetime(df['start_date'])\\\",\\n        \\\"    df['end_date'] = pd.to_datetime(df['end_date'])\\\",\\n        \\\"    now = pd.Timestamp.now()\\\",\\n        \\\"    start_of_week = now - pd.to_timedelta(now.dayofweek, unit='d')\\\",\\n        \\\"    end_of_week = start_of_week + pd.to_timedelta(6, unit='d')\\\",\\n        \\\"    mask = (df['event_type'] == event_type) & (df['start_date'] <= end_of_week) & (df['end_date'] >= start_of_week)\\\",\\n        \\\"    solution = df[mask]\\\",\\n        \\\"    return solution.to_json(orient='records', lines=True) if not solution.empty else pd.DataFrame().to_json(orient='records', lines=True)\\\"\\n    ],\\n    \\\"function_name\\\": \\\"get_this_weeks_events_by_type\\\",\\n    \\\"parameters\\\": \\\"df, event_type\\\",\\n    \\\"gpt_function_signatures\\\":\\\"[ { 'name': 'get_this_weeks_events_by_type', 'description': 'Gets the events of a specific type for the current week', 'parameters': { 'type': 'object', 'properties': { 'df': { 'type': 'object', 'description': 'The DataFrame containing the events data' }, 'event_type': { 'type': 'string', 'description': 'The type of event to filter by' } }, 'required': ['df', 'event_type'] } } ]\\\",\\n    \\\"returns\\\": \\\"JSON string\\\",\\n    \\\"examples\\\": {\\n        \\\"what concerts do i have this week\\\": \\\"print(get_this_weeks_events_by_type(df, 'Concert'))\\\",\\n        \\\"what birthdays do i have this week\\\": \\\"print(get_this_weeks_events_by_type(df, 'Birthday'))\\\"\\n    },\\n    \\\"python_version\\\": \\\"3.10\\\",\\n    \\\"explanation\\\": \\\"The function 'get_this_weeks_events_by_type' takes a DataFrame and an event type as parameters. It first converts the 'start_date' and 'end_date' columns to datetime. Then it calculates the start and end of the current week. It creates a mask that filters the DataFrame based on the event type and the date range. It applies this mask to the DataFrame and returns the result as a JSON string. If the result is empty, it returns an empty DataFrame as a JSON string.\\\",\\n    \\\"error\\\": \\\"No errors encountered.\\\"\\n}\"\n",
      "            },\n",
      "            \"finish_reason\": \"stop\"\n",
      "        }\n",
      "    ],\n",
      "    \"usage\": {\n",
      "        \"prompt_tokens\": 1023,\n",
      "        \"completion_tokens\": 625,\n",
      "        \"total_tokens\": 1648\n",
      "    }\n",
      "}\n",
      "{\n",
      "    \"thoughts\": \"The two code snippets are very similar, both are filtering a DataFrame based on the event type and the date range. The only difference is the event type. Therefore, we can refactor the code into a single function that takes the event type as a parameter. We also need to handle the case where the query does not return a result. In this case, we can return an empty DataFrame.\",\n",
      "    \"code\": [\n",
      "        \"import pandas as pd\",\n",
      "        \"from datetime import datetime, timedelta\",\n",
      "        \"def get_this_weeks_events_by_type(df, event_type):\",\n",
      "        \"    df['start_date'] = pd.to_datetime(df['start_date'])\",\n",
      "        \"    df['end_date'] = pd.to_datetime(df['end_date'])\",\n",
      "        \"    now = pd.Timestamp.now()\",\n",
      "        \"    start_of_week = now - pd.to_timedelta(now.dayofweek, unit='d')\",\n",
      "        \"    end_of_week = start_of_week + pd.to_timedelta(6, unit='d')\",\n",
      "        \"    mask = (df['event_type'] == event_type) & (df['start_date'] <= end_of_week) & (df['end_date'] >= start_of_week)\",\n",
      "        \"    solution = df[mask]\",\n",
      "        \"    return solution.to_json(orient='records', lines=True) if not solution.empty else pd.DataFrame().to_json(orient='records', lines=True)\"\n",
      "    ],\n",
      "    \"function_name\": \"get_this_weeks_events_by_type\",\n",
      "    \"parameters\": \"df, event_type\",\n",
      "    \"gpt_function_signatures\": \"[ { 'name': 'get_this_weeks_events_by_type', 'description': 'Gets the events of a specific type for the current week', 'parameters': { 'type': 'object', 'properties': { 'df': { 'type': 'object', 'description': 'The DataFrame containing the events data' }, 'event_type': { 'type': 'string', 'description': 'The type of event to filter by' } }, 'required': ['df', 'event_type'] } } ]\",\n",
      "    \"returns\": \"JSON string\",\n",
      "    \"examples\": {\n",
      "        \"what concerts do i have this week\": \"print(get_this_weeks_events_by_type(df, 'Concert'))\",\n",
      "        \"what birthdays do i have this week\": \"print(get_this_weeks_events_by_type(df, 'Birthday'))\"\n",
      "    },\n",
      "    \"python_version\": \"3.10\",\n",
      "    \"explanation\": \"The function 'get_this_weeks_events_by_type' takes a DataFrame and an event type as parameters. It first converts the 'start_date' and 'end_date' columns to datetime. Then it calculates the start and end of the current week. It creates a mask that filters the DataFrame based on the event type and the date range. It applies this mask to the DataFrame and returns the result as a JSON string. If the result is empty, it returns an empty DataFrame as a JSON string.\",\n",
      "    \"error\": \"No errors encountered.\"\n",
      "}\n"
     ]
    }
   ],
   "source": [
    "%autoreload\n",
    "    \n",
    "def refactor_similar_questions( question ):\n",
    "    \n",
    "    path_to_snapshots = du.get_project_root() + \"/src/conf/long-term-memory/solutions/\"\n",
    "    snapshot_mgr      = SolutionSnapshotManager( path_to_snapshots, debug=False )\n",
    "    exemplar_snapshot = snapshot_mgr.get_snapshots_by_question( question )[ 0 ][ 1 ]\n",
    "    similar_snapshots = snapshot_mgr.get_snapshots_by_code_similarity( exemplar_snapshot, threshold=90.0 )\n",
    "    \n",
    "    agent = RefactoringAgent( \n",
    "        similar_snapshots=similar_snapshots, \n",
    "        path_to_solutions=\"/src/conf/long-term-memory/solutions\", \n",
    "        debug=True, verbose=True \n",
    "    )\n",
    "    agent.run_prompt()\n",
    "    \n",
    "    return agent\n",
    "    \n",
    "agent = refactor_similar_questions( \"What concerts do I have this week?\" )    "
   ],
   "metadata": {
    "collapsed": false,
    "ExecuteTime": {
     "end_time": "2023-10-09T15:22:37.535928Z",
     "start_time": "2023-10-09T15:21:39.479438Z"
    }
   },
   "id": "7c9f282bab6e449"
  },
  {
   "cell_type": "code",
   "execution_count": 79,
   "outputs": [
    {
     "name": "stdout",
     "output_type": "stream",
     "text": [
      "[ { \"name\": \"get_this_weeks_events_by_type\", \"description\": \"Gets the events of a specific type for the current week\", \"parameters\": { \"type\": \"object\", \"properties\": { \"df\": { \"type\": \"object\", \"description\": \"The DataFrame containing the events data\" }, \"event_type\": { \"type\": \"string\", \"description\": \"The type of event to filter by\" } }, \"required\": [\"df\", \"event_type\"] } } ]\n"
     ]
    }
   ],
   "source": [
    "# Print dictionary to console, formatted with indentation, etc.\n",
    "print( json.dumps( agent.response_dict[ \"gpt_function_signatures\" ], indent=4 ).replace( \"'\", '\"' ).strip( '\"' ) )\n"
   ],
   "metadata": {
    "collapsed": false,
    "ExecuteTime": {
     "end_time": "2023-10-09T18:33:48.652505Z",
     "start_time": "2023-10-09T18:33:48.648836Z"
    }
   },
   "id": "9856ef36e85f5ad7"
  },
  {
   "cell_type": "code",
   "execution_count": 80,
   "outputs": [
    {
     "name": "stdout",
     "output_type": "stream",
     "text": [
      "pwd [/var/genie-in-the-box/io]\n",
      "\n",
      "/Applications/PyCharm.app/Contents/plugins/python/helpers-pro/jupyter_debug\n",
      "/Applications/PyCharm.app/Contents/plugins/python/helpers/pydev\n",
      "/usr/local/lib/python3.10\n",
      "/usr/local/lib/python3.10/lib-dynload\n",
      "/usr/local/lib/python3.10/site-packages\n",
      "/usr/local/lib/python310.zip\n",
      "/var/genie-in-the-box/src\n",
      "/var/genie-in-the-box/src/lib\n",
      "/var/genie-in-the-box/src/notebooks\n",
      "Writing file [/var/genie-in-the-box/src/lib/autogen/util_calendaring_0.py]... Done!\n",
      "Writing file [/var/genie-in-the-box/src/lib/autogen/util_calendaring_0.json]... Done!\n",
      "Writing file [/var/genie-in-the-box/io/lib/autogen/util_calendaring_0.py]... Done!\n",
      "\n",
      "Generating embedding for [import lib.autogen.util_calendaring_0 as uc0 print(uc0.get_this_...]...\n",
      "Generating embedding for [import lib.autogen.util_calendaring_0 as uc0 print(uc0.get_this_...]... Done! in 181 ms\n",
      "\n",
      "solution_file value provided: [what-concerts-do-i-have-this-week-0.json]...\n",
      "File path: /var/genie-in-the-box/src/conf/long-term-memory/solutions/what-concerts-do-i-have-this-week-0.json\n",
      "Generating embedding for [import lib.autogen.util_calendaring_0 as uc0 print(uc0.get_this_...]...\n",
      "Generating embedding for [import lib.autogen.util_calendaring_0 as uc0 print(uc0.get_this_...]... Done! in 232 ms\n",
      "\n",
      "solution_file value provided: [what-birthdays-do-i-have-this-week-0.json]...\n",
      "File path: /var/genie-in-the-box/src/conf/long-term-memory/solutions/what-birthdays-do-i-have-this-week-0.json\n"
     ]
    }
   ],
   "source": [
    "%autoreload\n",
    "agent.refactor_code( debug=False )"
   ],
   "metadata": {
    "collapsed": false,
    "ExecuteTime": {
     "end_time": "2023-10-09T18:33:51.777435Z",
     "start_time": "2023-10-09T18:33:51.332773Z"
    }
   },
   "id": "6e6a93bdf59e157c"
  },
  {
   "cell_type": "code",
   "execution_count": 81,
   "outputs": [
    {
     "name": "stdout",
     "output_type": "stream",
     "text": [
      "last command, before [print(uc0.get_this_weeks_events_by_type(df, 'Concert'))]:\n",
      "return_type [string]\n",
      "ERROR: return_type [string] and last command [print(uc0.get_this_weeks_events_by_type(df, 'Concert'))] are incompatible!\n",
      "last command,  after [print(uc0.get_this_weeks_events_by_type(df, 'Concert'))]:\n",
      "import pandas as pd\n",
      "import lib.util as du\n",
      "import lib.util_pandas as dup\n",
      "\n",
      "debug = True\n",
      "\n",
      "df = pd.read_csv( du.get_project_root() + '/src/conf/long-term-memory/events.csv' )\n",
      "df = dup.cast_to_datetime( df, debug=debug )\n",
      "import lib.autogen.util_calendaring_0 as uc0\n",
      "print(uc0.get_this_weeks_events_by_type(df, 'Concert'))\n",
      "\n",
      "Executing /var/genie-in-the-box/io/code.py... Done!\n",
      "\n",
      "------------------------------------------------------------------------------------------------------------------------\n",
      "- Code output\n",
      "------------------------------------------------------------------------------------------------------------------------\n",
      "\n",
      "{\"start_date\":1697155200000,\"end_date\":1697155200000,\"start_time\":\"00:00\",\"end_time\":\"23:59\",\"event_type\":\"Concert\",\"recurrent\":false,\"recurrence_interval\":null,\"priority_level\":\"highest\",\"name\":\"Leroy Ruiz\",\"relationship\":\"father\",\"description_who_what_where\":\"Concert of Leroy Ruiz at the city center\"}\n",
      "{\"start_date\":1697328000000,\"end_date\":1697328000000,\"start_time\":\"00:00\",\"end_time\":\"23:59\",\"event_type\":\"Concert\",\"recurrent\":false,\"recurrence_interval\":null,\"priority_level\":\"high\",\"name\":\"Tom Ruiz\",\"relationship\":\"brother\",\"description_who_what_where\":\"Concert of Tom Ruiz at the city center\"}\n",
      "\n",
      "last command, before [print(uc0.get_this_weeks_events_by_type(df, 'Birthday'))]:\n",
      "return_type [string]\n",
      "ERROR: return_type [string] and last command [print(uc0.get_this_weeks_events_by_type(df, 'Birthday'))] are incompatible!\n",
      "last command,  after [print(uc0.get_this_weeks_events_by_type(df, 'Birthday'))]:\n",
      "import pandas as pd\n",
      "import lib.util as du\n",
      "import lib.util_pandas as dup\n",
      "\n",
      "debug = True\n",
      "\n",
      "df = pd.read_csv( du.get_project_root() + '/src/conf/long-term-memory/events.csv' )\n",
      "df = dup.cast_to_datetime( df, debug=debug )\n",
      "import lib.autogen.util_calendaring_0 as uc0\n",
      "print(uc0.get_this_weeks_events_by_type(df, 'Birthday'))\n",
      "\n",
      "Executing /var/genie-in-the-box/io/code.py... Done!\n",
      "\n",
      "------------------------------------------------------------------------------------------------------------------------\n",
      "- Code output\n",
      "------------------------------------------------------------------------------------------------------------------------\n",
      "\n",
      "{\"start_date\":1696982400000,\"end_date\":1696982400000,\"start_time\":\"00:00\",\"end_time\":\"23:59\",\"event_type\":\"Birthday\",\"recurrent\":true,\"recurrence_interval\":\"5 month\",\"priority_level\":\"highest\",\"name\":\"Sue\",\"relationship\":\"sister\",\"description_who_what_where\":\"Sue's birthday party at their favorite bar\"}\n",
      "{\"start_date\":1696982400000,\"end_date\":1696982400000,\"start_time\":\"00:00\",\"end_time\":\"23:59\",\"event_type\":\"Birthday\",\"recurrent\":true,\"recurrence_interval\":\"2 day\",\"priority_level\":\"none\",\"name\":\"Leroy Ruiz\",\"relationship\":\"father\",\"description_who_what_where\":\"Leroy Ruiz's birthday party at their favorite bar\"}\n",
      "{\"start_date\":1697155200000,\"end_date\":1697414400000,\"start_time\":\"00:00\",\"end_time\":\"23:59\",\"event_type\":\"Birthday\",\"recurrent\":true,\"recurrence_interval\":\"1 year\",\"priority_level\":\"highest\",\"name\":\"Juan\",\"relationship\":\"neighbor\",\"description_who_what_where\":\"Juan's birthday party at their favorite bar\"}\n",
      "{\"start_date\":1697328000000,\"end_date\":1697414400000,\"start_time\":\"00:00\",\"end_time\":\"23:59\",\"event_type\":\"Birthday\",\"recurrent\":true,\"recurrence_interval\":\"4 day\",\"priority_level\":\"low\",\"name\":\"Gregorio\",\"relationship\":\"friend\",\"description_who_what_where\":\"Gregorio's birthday party at their favorite bar\"}\n"
     ]
    },
    {
     "data": {
      "text/plain": "[{'return_code': 0,\n  'output': '{\"start_date\":1697155200000,\"end_date\":1697155200000,\"start_time\":\"00:00\",\"end_time\":\"23:59\",\"event_type\":\"Concert\",\"recurrent\":false,\"recurrence_interval\":null,\"priority_level\":\"highest\",\"name\":\"Leroy Ruiz\",\"relationship\":\"father\",\"description_who_what_where\":\"Concert of Leroy Ruiz at the city center\"}\\n{\"start_date\":1697328000000,\"end_date\":1697328000000,\"start_time\":\"00:00\",\"end_time\":\"23:59\",\"event_type\":\"Concert\",\"recurrent\":false,\"recurrence_interval\":null,\"priority_level\":\"high\",\"name\":\"Tom Ruiz\",\"relationship\":\"brother\",\"description_who_what_where\":\"Concert of Tom Ruiz at the city center\"}'},\n {'return_code': 0,\n  'output': '{\"start_date\":1696982400000,\"end_date\":1696982400000,\"start_time\":\"00:00\",\"end_time\":\"23:59\",\"event_type\":\"Birthday\",\"recurrent\":true,\"recurrence_interval\":\"5 month\",\"priority_level\":\"highest\",\"name\":\"Sue\",\"relationship\":\"sister\",\"description_who_what_where\":\"Sue\\'s birthday party at their favorite bar\"}\\n{\"start_date\":1696982400000,\"end_date\":1696982400000,\"start_time\":\"00:00\",\"end_time\":\"23:59\",\"event_type\":\"Birthday\",\"recurrent\":true,\"recurrence_interval\":\"2 day\",\"priority_level\":\"none\",\"name\":\"Leroy Ruiz\",\"relationship\":\"father\",\"description_who_what_where\":\"Leroy Ruiz\\'s birthday party at their favorite bar\"}\\n{\"start_date\":1697155200000,\"end_date\":1697414400000,\"start_time\":\"00:00\",\"end_time\":\"23:59\",\"event_type\":\"Birthday\",\"recurrent\":true,\"recurrence_interval\":\"1 year\",\"priority_level\":\"highest\",\"name\":\"Juan\",\"relationship\":\"neighbor\",\"description_who_what_where\":\"Juan\\'s birthday party at their favorite bar\"}\\n{\"start_date\":1697328000000,\"end_date\":1697414400000,\"start_time\":\"00:00\",\"end_time\":\"23:59\",\"event_type\":\"Birthday\",\"recurrent\":true,\"recurrence_interval\":\"4 day\",\"priority_level\":\"low\",\"name\":\"Gregorio\",\"relationship\":\"friend\",\"description_who_what_where\":\"Gregorio\\'s birthday party at their favorite bar\"}'}]"
     },
     "execution_count": 81,
     "metadata": {},
     "output_type": "execute_result"
    }
   ],
   "source": [
    "%autoreload\n",
    "agent.run_code()"
   ],
   "metadata": {
    "collapsed": false,
    "ExecuteTime": {
     "end_time": "2023-10-09T18:33:56.595927Z",
     "start_time": "2023-10-09T18:33:56.050718Z"
    }
   },
   "id": "253ecb3cc15e64f2"
  },
  {
   "cell_type": "code",
   "execution_count": null,
   "outputs": [],
   "source": [],
   "metadata": {
    "collapsed": false
   },
   "id": "c80d5134e2d319a2"
  },
  {
   "cell_type": "markdown",
   "source": [
    "### Prototype new function prompt"
   ],
   "metadata": {
    "collapsed": false
   },
   "id": "d74b076f8c6f6421"
  },
  {
   "cell_type": "code",
   "execution_count": 67,
   "outputs": [
    {
     "name": "stdout",
     "output_type": "stream",
     "text": [
      "{'name': 'get_this_weeks_events_by_type', 'description': 'Gets the events of a specific type for the current week', 'parameters': {'type': 'object', 'properties': {'df': {'type': 'object', 'description': 'The DataFrame containing the events data'}, 'event_type': {'type': 'string', 'description': 'The type of event to filter by'}}, 'required': ['df', 'event_type']}}\n"
     ]
    }
   ],
   "source": [
    "%autoreload\n",
    "signature_paths = du.find_files_with_prefix_and_suffix( du.get_project_root() + \"/src/lib/autogen/\", \"util_calendaring\", \".json\" )\n",
    "# Given a list of file paths, load each file into a string and append to a list\n",
    "\n",
    "signatures = du.get_files_as_strings( signature_paths )\n",
    "signatures = [ json.loads( s ) for s in signatures ]\n",
    "du.print_list( signatures )"
   ],
   "metadata": {
    "collapsed": false,
    "ExecuteTime": {
     "end_time": "2023-10-09T16:32:55.017711Z",
     "start_time": "2023-10-09T16:32:54.945356Z"
    }
   },
   "id": "afa3ab4af43ebf6f"
  },
  {
   "cell_type": "code",
   "execution_count": 75,
   "outputs": [
    {
     "name": "stdout",
     "output_type": "stream",
     "text": [
      "Asking ChatGPT [gpt-4-0613]...\n",
      "Asking ChatGPT [gpt-4-0613]... in 2,254 ms\n",
      "\n",
      "{\n",
      "    \"id\": \"chatcmpl-87neNgwKvp9PGuqxdYQ612lNjzS2Z\",\n",
      "    \"object\": \"chat.completion\",\n",
      "    \"created\": 1696869843,\n",
      "    \"model\": \"gpt-4-0613\",\n",
      "    \"choices\": [\n",
      "        {\n",
      "            \"index\": 0,\n",
      "            \"message\": {\n",
      "                \"role\": \"assistant\",\n",
      "                \"content\": \"Sure, let me check that for you.\",\n",
      "                \"function_call\": {\n",
      "                    \"name\": \"get_this_weeks_events_by_type\",\n",
      "                    \"arguments\": \"{\\n  \\\"event_type\\\": \\\"appointment\\\"\\n}\"\n",
      "                }\n",
      "            },\n",
      "            \"finish_reason\": \"function_call\"\n",
      "        }\n",
      "    ],\n",
      "    \"usage\": {\n",
      "        \"prompt_tokens\": 73,\n",
      "        \"completion_tokens\": 31,\n",
      "        \"total_tokens\": 104\n",
      "    }\n",
      "}\n"
     ]
    },
    {
     "data": {
      "text/plain": "('get_this_weeks_events_by_type', {'event_type': 'appointment'})"
     },
     "execution_count": 75,
     "metadata": {},
     "output_type": "execute_result"
    }
   ],
   "source": [
    "GPT_4   = \"gpt-4-0613\"\n",
    "GPT_3_5 = \"gpt-3.5-turbo-0613\"\n",
    "\n",
    "def get_function_from_gpt( query, functions, model=GPT_4, debug=False ):\n",
    "\n",
    "    openai.api_key = os.getenv( \"FALSE_POSITIVE_API_KEY\" )\n",
    "    \n",
    "    timer = sw.Stopwatch( msg=f\"Asking ChatGPT [{model}]...\".format( model ) )\n",
    "    \n",
    "    response = openai.ChatCompletion.create(\n",
    "        model=model,\n",
    "        messages=[ \n",
    "            # { \"role\": \"system\", \"content\": preamble },\n",
    "            { \"role\": \"user\",   \"content\": query } \n",
    "        ],\n",
    "        functions=functions,\n",
    "        function_call=\"auto\",\n",
    "        temperature=0,\n",
    "        max_tokens=2400,\n",
    "        top_p=1.0,\n",
    "        frequency_penalty=0.0,\n",
    "        presence_penalty=0.0\n",
    "    )\n",
    "    timer.print( use_millis=True )\n",
    "    \n",
    "    if debug: print( json.dumps( response, indent=4 ) )\n",
    "    \n",
    "    message = response[ \"choices\" ][ 0 ][ \"message\" ]\n",
    "    if message.get( \"function_call\" ):\n",
    "        function_name = message[ \"function_call\" ][ \"name\" ]\n",
    "        function_args = json.loads( message[ \"function_call\" ][ \"arguments\" ] )\n",
    "        return function_name, function_args\n",
    "    \n",
    "    else:\n",
    "        return None, None\n",
    "\n",
    "    \n",
    "    # return response[ \"choices\" ][ 0 ][ \"message\" ][ \"content\" ].strip()\n",
    "\n",
    "preamble = \"You are designed to take a question and map it to a function.\"\n",
    "question = \"Do I have any appointments today?\"\n",
    "\n",
    "get_function_from_gpt( question, signatures, model=GPT_4, debug=True )"
   ],
   "metadata": {
    "collapsed": false,
    "ExecuteTime": {
     "end_time": "2023-10-09T16:44:05.584114Z",
     "start_time": "2023-10-09T16:44:03.317131Z"
    }
   },
   "id": "820a4cf4e11b73ba"
  },
  {
   "cell_type": "code",
   "execution_count": null,
   "outputs": [],
   "source": [
    "signature_prompt = \"\"\"\n",
    "\n",
    "\"\"\""
   ],
   "metadata": {
    "collapsed": false
   },
   "id": "eb3d76f00d6e79ba"
  }
 ],
 "metadata": {
  "kernelspec": {
   "display_name": "Python 3",
   "language": "python",
   "name": "python3"
  },
  "language_info": {
   "codemirror_mode": {
    "name": "ipython",
    "version": 2
   },
   "file_extension": ".py",
   "mimetype": "text/x-python",
   "name": "python",
   "nbconvert_exporter": "python",
   "pygments_lexer": "ipython2",
   "version": "2.7.6"
  }
 },
 "nbformat": 4,
 "nbformat_minor": 5
}
