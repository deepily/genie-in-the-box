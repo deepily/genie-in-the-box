{
 "cells": [
  {
   "cell_type": "code",
   "execution_count": 4,
   "outputs": [],
   "source": [
    "%load_ext autoreload"
   ],
   "metadata": {
    "collapsed": false,
    "ExecuteTime": {
     "end_time": "2023-10-09T14:59:47.533403Z",
     "start_time": "2023-10-09T14:59:47.507579Z"
    }
   },
   "id": "14c1efa189e09521"
  },
  {
   "cell_type": "code",
   "execution_count": 5,
   "outputs": [
    {
     "name": "stdout",
     "output_type": "stream",
     "text": [
      "/var/genie-in-the-box/src/notebooks\n",
      "/var/genie-in-the-box/src\n"
     ]
    }
   ],
   "source": [
    "import os\n",
    "print( os.getcwd() )\n",
    "os.chdir( \"/var/genie-in-the-box/src\" )\n",
    "print( os.getcwd() )"
   ],
   "metadata": {
    "collapsed": false,
    "ExecuteTime": {
     "end_time": "2023-10-09T14:59:48.099682Z",
     "start_time": "2023-10-09T14:59:48.095347Z"
    }
   },
   "id": "b117e3a7855590eb"
  },
  {
   "cell_type": "code",
   "execution_count": 6,
   "outputs": [
    {
     "name": "stdout",
     "output_type": "stream",
     "text": [
      "['/Applications/PyCharm.app/Contents/plugins/python/helpers-pro/jupyter_debug', '/Applications/PyCharm.app/Contents/plugins/python/helpers/pydev', '/var/genie-in-the-box/src/notebooks', '/usr/local/lib/python310.zip', '/usr/local/lib/python3.10', '/usr/local/lib/python3.10/lib-dynload', '', '/usr/local/lib/python3.10/site-packages', '/var/genie-in-the-box/src/lib']\n",
      "Added [/var/genie-in-the-box/src] to sys.path\n",
      "pwd [/var/genie-in-the-box/src]\n",
      "\n",
      "/Applications/PyCharm.app/Contents/plugins/python/helpers-pro/jupyter_debug\n",
      "/Applications/PyCharm.app/Contents/plugins/python/helpers/pydev\n",
      "/usr/local/lib/python3.10\n",
      "/usr/local/lib/python3.10/lib-dynload\n",
      "/usr/local/lib/python3.10/site-packages\n",
      "/usr/local/lib/python310.zip\n",
      "/var/genie-in-the-box/src\n",
      "/var/genie-in-the-box/src/lib\n",
      "/var/genie-in-the-box/src/notebooks\n"
     ]
    }
   ],
   "source": [
    "%autoreload\n",
    "\n",
    "import sys\n",
    "import os\n",
    "import json\n",
    "\n",
    "\n",
    "# os.environ[ \"LANGCHAIN_WANDB_TRACING\" ] = \"true\"\n",
    "# # wandb documentation to configure wandb using env variables\n",
    "# # https://docs.wandb.ai/guides/track/advanced/environment-variables\n",
    "# # here we are configuring the wandb project name\n",
    "# os.environ[ \"WANDB_PROJECT\" ] = \"deepily-dataframe-agent\"\n",
    "\n",
    "path = \"/var/genie-in-the-box/src/lib\"\n",
    "if path not in sys.path:\n",
    "    sys.path.append( path )\n",
    "else:\n",
    "    print( f\"[{path}] already in sys.path\" )\n",
    "\n",
    "print( sys.path )\n",
    "\n",
    "\n",
    "import lib.util             as du\n",
    "path = \"/var/genie-in-the-box/src\"\n",
    "du.add_to_path( path )\n",
    "\n",
    "import lib.util_pandas      as up\n",
    "import lib.util_stopwatch   as sw\n",
    "import lib.util_code_runner as ucr\n",
    "\n",
    "from solution_snapshot_mgr import SolutionSnapshotManager\n",
    "from agent_refactoring     import RefactoringAgent\n",
    "\n",
    "import openai\n",
    "\n",
    "debug   = True\n",
    "verbose = True\n"
   ],
   "metadata": {
    "collapsed": false,
    "ExecuteTime": {
     "end_time": "2023-10-09T14:59:50.300275Z",
     "start_time": "2023-10-09T14:59:49.992599Z"
    }
   },
   "id": "e4a94b9494513834"
  },
  {
   "cell_type": "code",
   "execution_count": 77,
   "outputs": [
    {
     "name": "stdout",
     "output_type": "stream",
     "text": [
      "Asking ChatGPT [gpt-4-0613]...\n",
      "Asking ChatGPT [gpt-4-0613]... in 1,656 ms\n"
     ]
    },
    {
     "data": {
      "text/plain": "\"My name is ChatGPT. I'm an artificial intelligence designed to assist with information and conversation.\""
     },
     "execution_count": 77,
     "metadata": {},
     "output_type": "execute_result"
    }
   ],
   "source": [
    "GPT_4   = \"gpt-4-0613\"\n",
    "GPT_3_5 = \"gpt-3.5-turbo-0613\"\n",
    "\n",
    "def ask_chat_gpt_text( preamble, query, model=GPT_4, debug=False ):\n",
    "\n",
    "    openai.api_key = os.getenv( \"FALSE_POSITIVE_API_KEY\" )\n",
    "    \n",
    "    timer = sw.Stopwatch( msg=f\"Asking ChatGPT [{model}]...\".format( model ) )\n",
    "    \n",
    "    response = openai.ChatCompletion.create(\n",
    "        model=model,\n",
    "        messages=[ \n",
    "            { \"role\": \"system\", \"content\": preamble },\n",
    "            { \"role\": \"user\",   \"content\": query } \n",
    "        ],\n",
    "        temperature=0,\n",
    "        max_tokens=2400,\n",
    "        top_p=1.0,\n",
    "        frequency_penalty=0.0,\n",
    "        presence_penalty=0.0\n",
    "    )\n",
    "    timer.print( use_millis=True )\n",
    "    \n",
    "    if debug: print( json.dumps( response, indent=4 ) )\n",
    "    \n",
    "    return response[ \"choices\" ][ 0 ][ \"message\" ][ \"content\" ].strip()\n",
    "\n",
    "preamble = \"You are chatGPT, a helpful chatbot\"\n",
    "question = \"What's your name?\"\n",
    "\n",
    "ask_chat_gpt_text( preamble, question, model=GPT_4 )"
   ],
   "metadata": {
    "collapsed": false,
    "ExecuteTime": {
     "end_time": "2023-10-09T18:33:39.063076Z",
     "start_time": "2023-10-09T18:33:37.404224Z"
    }
   },
   "id": "15c33434a5136979"
  },
  {
   "cell_type": "code",
   "execution_count": 167,
   "outputs": [
    {
     "data": {
      "text/plain": "start_date\n2023-11-01    2\n2023-10-28    2\n2023-09-30    2\n2023-10-13    1\n2023-10-30    1\n2023-10-22    1\n2023-10-21    1\n2023-10-20    1\n2023-10-19    1\n2023-10-15    1\n2023-09-01    1\n2023-09-06    1\n2023-10-03    1\n2023-09-28    1\n2023-09-27    1\n2023-09-20    1\n2023-09-12    1\n2023-09-09    1\n2023-10-07    1\nName: count, dtype: int64"
     },
     "execution_count": 167,
     "metadata": {},
     "output_type": "execute_result"
    }
   ],
   "source": [
    "import pandas as pd\n",
    "df = pd.read_csv( du.get_project_root() + \"/src/conf/long-term-memory/events.csv\" )\n",
    "df[ ( df.event_type == 'Concert' ) ].start_date.value_counts()\n"
   ],
   "metadata": {
    "collapsed": false,
    "ExecuteTime": {
     "end_time": "2023-10-09T20:54:06.213866Z",
     "start_time": "2023-10-09T20:54:06.191741Z"
    }
   },
   "id": "9d135abbb37b4379"
  },
  {
   "cell_type": "code",
   "execution_count": 168,
   "outputs": [
    {
     "data": {
      "text/plain": "event_type\nConference      24\nConcert         22\nPerformance     21\nAppointment     17\nAnniversary     17\nWorkout         17\nBirthday        16\nWorkshop        15\nSubscription    14\nMeeting         12\nInterview       11\nTODO             7\nTodo             7\nName: count, dtype: int64"
     },
     "execution_count": 168,
     "metadata": {},
     "output_type": "execute_result"
    }
   ],
   "source": [
    "df.event_type.value_counts()"
   ],
   "metadata": {
    "collapsed": false,
    "ExecuteTime": {
     "end_time": "2023-10-09T20:54:07.766783Z",
     "start_time": "2023-10-09T20:54:07.758716Z"
    }
   },
   "id": "cec3fcbd7c2ab05a"
  },
  {
   "cell_type": "code",
   "execution_count": 223,
   "outputs": [
    {
     "name": "stdout",
     "output_type": "stream",
     "text": [
      "\n",
      "------------------------------------------------------------------------------------------------------------------------\n",
      "- Found [36] synonymous questions\n",
      "------------------------------------------------------------------------------------------------------------------------\n",
      "\n",
      "Synonymous question [when is juans birthday] for snapshot.question [when is juans birthday]\n",
      "Synonymous question [what day is today] for snapshot.question [what day is today]\n",
      "Synonymous question [whats todays date] for snapshot.question [what day is today]\n",
      "Synonymous question [whats todays day and date] for snapshot.question [what day is today]\n",
      "Synonymous question [what is the day and date for today] for snapshot.question [what day is today]\n",
      "Synonymous question [whats the date] for snapshot.question [what day is today]\n",
      "Synonymous question [say what day is today] for snapshot.question [what day is today]\n",
      "Synonymous question [hey what day is today] for snapshot.question [what day is today]\n",
      "Synonymous question [whats todays day] for snapshot.question [what day is today]\n",
      "Synonymous question [what day is it] for snapshot.question [what day is today]\n",
      "Synonymous question [what time is it] for snapshot.question [what time is it]\n",
      "Synonymous question [got the time] for snapshot.question [what time is it]\n",
      "Synonymous question [whats the time] for snapshot.question [what time is it]\n",
      "Synonymous question [yo what time is it] for snapshot.question [what time is it]\n",
      "Synonymous question [hey you got the time] for snapshot.question [what time is it]\n",
      "Synonymous question [hey you what time is it] for snapshot.question [what time is it]\n",
      "Synonymous question [hey what time is it] for snapshot.question [what time is it]\n",
      "Synonymous question [what performances do i have today] for snapshot.question [what performances do i have today]\n",
      "Synonymous question [what appointments do i have today] for snapshot.question [what appointments do i have today]\n",
      "Synonymous question [when is anitas birthday] for snapshot.question [when is anitas birthday]\n",
      "Synonymous question [when is jimmys birthday] for snapshot.question [when is jimmys birthday]\n",
      "Synonymous question [wins jimmys birthday] for snapshot.question [when is jimmys birthday]\n",
      "Synonymous question [whens jimmys birthday] for snapshot.question [when is jimmys birthday]\n",
      "Synonymous question [what birthdays do i have this week] for snapshot.question [what birthdays do i have this week]\n",
      "Synonymous question [what conferences do i have today] for snapshot.question [what conferences do i have today]\n",
      "Synonymous question [when is bobby's birthday?] for snapshot.question [when is bobbys birthday]\n",
      "Synonymous question [how many records in this dataframe] for snapshot.question [how many records in this dataframe]\n",
      "Synonymous question [how many rows in this table] for snapshot.question [how many records in this dataframe]\n",
      "Synonymous question [how many records in this table] for snapshot.question [how many records in this dataframe]\n",
      "Synonymous question [how many records in this csv file] for snapshot.question [how many records in this dataframe]\n",
      "Synonymous question [how many records in that table] for snapshot.question [how many records in this dataframe]\n",
      "Synonymous question [how many rows in that data frame] for snapshot.question [how many records in this dataframe]\n",
      "Synonymous question [how many records in that database] for snapshot.question [how many records in this dataframe]\n",
      "Synonymous question [how many records do i have in that table] for snapshot.question [how many records in this dataframe]\n",
      "Synonymous question [What concerts do I have this week?] for snapshot.question [what concerts do i have this week]\n",
      "Synonymous question [what concerts do i have this week] for snapshot.question [what concerts do i have this week]\n",
      "\n",
      "Loading question embeddings dictionary ............................................................................... Done!\n",
      "\n",
      "Code similarity score [100.00000955795616] for [what concerts do i have this wee...] == [what concerts do i have this wee...]\n",
      "Code similarity score [95.40317942990735] for [what concerts do i have this wee...] == [what birthdays do i have this we...]\n",
      "Snippet 1 for question `what concerts do i have this week`: \n",
      "\n",
      "import lib.autogen.util_calendaring_0 as uc0\n",
      "print(uc0.get_this_weeks_events_by_type(df, 'Concert'))\n",
      "\n",
      "Snippet 2 for question `what birthdays do i have this week`: \n",
      "\n",
      "import lib.autogen.util_calendaring_0 as uc0\n",
      "print(uc0.get_this_weeks_events_by_type(df, 'Birthday'))\n",
      "\n",
      "\n",
      "------------------------------------------------------------------------------------------------------------------------\n",
      "- Token count for self.system_message: [743]\n",
      "------------------------------------------------------------------------------------------------------------------------\n",
      "\n",
      "\n",
      "        I'm going to show you 2 Python code snippets that are similar, along with the questions they were created to answer.\n",
      "        How would you coalesce or refactor them so that you only need to call one function in all 2 scenarios?\n",
      "        How would you name the function in a way that clearly explains exactly what the date range is, e.g., 'get_this_months_events_by_type', as well as what the function does?\n",
      "        Descriptive function names MUST look like: `get_birthday_by_name`, or `get_todays_events`, `get_todays_events_by_type`, `get_tomorrows_events`, `get_this_weeks_events`, `get_this_weeks_events_by_type`,`get_this_months_events_by_type`, etc.,\n",
      "\n",
      "        As you generate the Python 3.10 code needed to answer this question, I want you to:\n",
      "\n",
      "        1) Think: Before you do anything, think out loud about what I'm asking you to do, including the steps that you will need to take to solve this problem.\n",
      "        Be critical of your thought process! How will you handle the edge cases? For example, what will you do if your query does not return a result?\n",
      "        2) Code: Generate a verbatim list of code that you used to arrive at your answer, one line of code per item on the list. The code must be complete,\n",
      "        syntactically correct, and capable of running to completion. You must allow for the possibility that your query may not return a result.\n",
      "        3) Document: Create a GPT function signature (gpt_function_signatures) that can be used by GPT to call the function you create. The function signature must be syntactically correct.\n",
      "        4) Generate examples: Generate a dictionary containing the code examples needed to call the function you created, one line of code per question provided.\n",
      "        The example function calls must be complete, syntactically correct, and capable of running to completion. Each example must be wrapped in a print statement.\n",
      "        5) Explain: Briefly and succinctly explain your code in plain English.\n",
      "\n",
      "        Format: return your response as a syntactically correct JSON object with the following fields and formatting:\n",
      "        {\n",
      "            \"thoughts\": \"Your thoughts\",\n",
      "            \"code\": [],\n",
      "            \"function_name\": \"The name of your function. It must describe the time being filtered, e.g., `get_tomorrows_events`\",\n",
      "            \"parameters\": \"The parameters to your function, only two are allowed: the 1st will always be `df` and the 2nd is of your choosing.\",\n",
      "            \"gpt_function_signatures\":\"[\n",
      "            {\n",
      "                \"name\": \"get_current_weather\",\n",
      "                \"description\": \"Gets the current weather in a given location\",\n",
      "                \"parameters\": {\n",
      "                    \"type\": \"object\",\n",
      "                    \"properties\": {\n",
      "                        \"location\": {\n",
      "                            \"type\": \"string\",\n",
      "                            \"description\": \"The city and state, e.g. San Francisco, CA\",\n",
      "                        },\n",
      "                        \"unit\": {\"type\": \"string\", \"enum\": [\"celsius\", \"fahrenheit\"]},\n",
      "                    },\n",
      "                    \"required\": [\"location\"],\n",
      "                },\n",
      "            }]\",\n",
      "            \"returns\": \"Object type of the variable `solution`\",\n",
      "            \"examples\": {}, a dictionary containing the questions and example code, one line of code per question provided.\n",
      "            \"python_version\": \"3.10\",\n",
      "            \"explanation\": \"A brief explanation of your code\",\n",
      "            \"error\": \"Verbatim stack trace or description of issues encountered while attempting to carry out this task.\"\n",
      "        }\n",
      "\n",
      "------------------------------------------------------------------------------------------------------------------------\n",
      "- Token count for self.user_message: [98]\n",
      "------------------------------------------------------------------------------------------------------------------------\n",
      "\n",
      "\n",
      "        Snippet 1 for question `what concerts do i have this week`: \n",
      "\n",
      "import lib.autogen.util_calendaring_0 as uc0\n",
      "print(uc0.get_this_weeks_events_by_type(df, 'Concert'))\n",
      "\n",
      "Snippet 2 for question `what birthdays do i have this week`: \n",
      "\n",
      "import lib.autogen.util_calendaring_0 as uc0\n",
      "print(uc0.get_this_weeks_events_by_type(df, 'Birthday'))\n",
      "\n",
      "        Begin!\n",
      "        \n",
      "Asking ChatGPT [gpt-4-0613]...\n",
      "Asking ChatGPT [gpt-4-0613]... in 42,127 ms\n",
      "\n",
      "{\n",
      "    \"id\": \"chatcmpl-87uN43PQ5eiWSBgX0l4ILk2MA5ocH\",\n",
      "    \"object\": \"chat.completion\",\n",
      "    \"created\": 1696895678,\n",
      "    \"model\": \"gpt-4-0613\",\n",
      "    \"choices\": [\n",
      "        {\n",
      "            \"index\": 0,\n",
      "            \"message\": {\n",
      "                \"role\": \"assistant\",\n",
      "                \"content\": \"{\\n    \\\"thoughts\\\": \\\"The two code snippets are very similar, they both call the same function `get_this_weeks_events_by_type` from the same module `lib.autogen.util_calendaring_0` with the same first argument `df` but different second arguments. The second argument is the type of the event. The function seems to return the events of a certain type that occur in the current week. To refactor the code, I would keep the function as it is, but I would create a wrapper function that takes the event type as an argument and calls the original function with the appropriate arguments. This would make the code more concise and easier to understand. If the query does not return a result, the function should return an empty list or a message indicating that there are no events of the specified type in the current week.\\\",\\n\\n    \\\"code\\\": [\\n        \\\"import lib.autogen.util_calendaring_0 as uc0\\\",\\n        \\\"def get_this_weeks_events_by_type(df, event_type):\\\",\\n        \\\"    return uc0.get_this_weeks_events_by_type(df, event_type)\\\"\\n    ],\\n\\n    \\\"function_name\\\": \\\"get_this_weeks_events_by_type\\\",\\n\\n    \\\"parameters\\\": \\\"df, event_type\\\",\\n\\n    \\\"gpt_function_signatures\\\":\\\"[{\\n        'name': 'get_this_weeks_events_by_type',\\n        'description': 'Gets the events of a certain type that occur in the current week',\\n        'parameters': {\\n            'type': 'object',\\n            'properties': {\\n                'df': {\\n                    'type': 'object',\\n                    'description': 'The dataframe containing the events',\\n                },\\n                'event_type': {\\n                    'type': 'string',\\n                    'description': 'The type of the event',\\n                },\\n            },\\n            'required': ['df', 'event_type'],\\n        },\\n    }]\\\",\\n\\n    \\\"returns\\\": \\\"List of events of the specified type that occur in the current week\\\",\\n\\n    \\\"examples\\\": {\\n        \\\"what concerts do i have this week\\\": \\\"print(get_this_weeks_events_by_type(df, 'Concert'))\\\",\\n        \\\"what birthdays do i have this week\\\": \\\"print(get_this_weeks_events_by_type(df, 'Birthday'))\\\"\\n    },\\n\\n    \\\"python_version\\\": \\\"3.10\\\",\\n\\n    \\\"explanation\\\": \\\"The function `get_this_weeks_events_by_type` takes a dataframe `df` and a string `event_type` as arguments. It calls the function `get_this_weeks_events_by_type` from the module `lib.autogen.util_calendaring_0` with the same arguments and returns the result. The function returns the events of the specified type that occur in the current week. If there are no such events, it returns an empty list or a message indicating that there are no such events.\\\",\\n\\n    \\\"error\\\": \\\"No errors encountered.\\\"\\n}\"\n",
      "            },\n",
      "            \"finish_reason\": \"stop\"\n",
      "        }\n",
      "    ],\n",
      "    \"usage\": {\n",
      "        \"prompt_tokens\": 852,\n",
      "        \"completion_tokens\": 588,\n",
      "        \"total_tokens\": 1440\n",
      "    }\n",
      "}\n",
      "{\n",
      "    \"thoughts\": \"The two code snippets are very similar, they both call the same function `get_this_weeks_events_by_type` from the same module `lib.autogen.util_calendaring_0` with the same first argument `df` but different second arguments. The second argument is the type of the event. The function seems to return the events of a certain type that occur in the current week. To refactor the code, I would keep the function as it is, but I would create a wrapper function that takes the event type as an argument and calls the original function with the appropriate arguments. This would make the code more concise and easier to understand. If the query does not return a result, the function should return an empty list or a message indicating that there are no events of the specified type in the current week.\",\n",
      "    \"code\": [\n",
      "        \"import lib.autogen.util_calendaring_0 as uc0\",\n",
      "        \"def get_this_weeks_events_by_type(df, event_type):\",\n",
      "        \"    return uc0.get_this_weeks_events_by_type(df, event_type)\"\n",
      "    ],\n",
      "    \"function_name\": \"get_this_weeks_events_by_type\",\n",
      "    \"parameters\": \"df, event_type\",\n",
      "    \"gpt_function_signatures\": \"[{        'name': 'get_this_weeks_events_by_type',        'description': 'Gets the events of a certain type that occur in the current week',        'parameters': {            'type': 'object',            'properties': {                'df': {                    'type': 'object',                    'description': 'The dataframe containing the events',                },                'event_type': {                    'type': 'string',                    'description': 'The type of the event',                },            },            'required': ['df', 'event_type'],        },    }]\",\n",
      "    \"returns\": \"List of events of the specified type that occur in the current week\",\n",
      "    \"examples\": {\n",
      "        \"what concerts do i have this week\": \"print(get_this_weeks_events_by_type(df, 'Concert'))\",\n",
      "        \"what birthdays do i have this week\": \"print(get_this_weeks_events_by_type(df, 'Birthday'))\"\n",
      "    },\n",
      "    \"python_version\": \"3.10\",\n",
      "    \"explanation\": \"The function `get_this_weeks_events_by_type` takes a dataframe `df` and a string `event_type` as arguments. It calls the function `get_this_weeks_events_by_type` from the module `lib.autogen.util_calendaring_0` with the same arguments and returns the result. The function returns the events of the specified type that occur in the current week. If there are no such events, it returns an empty list or a message indicating that there are no such events.\",\n",
      "    \"error\": \"No errors encountered.\"\n",
      "}\n"
     ]
    }
   ],
   "source": [
    "%autoreload\n",
    "    \n",
    "def begin_refactoring_similar_questions( question ):\n",
    "    \n",
    "    path_to_snapshots = du.get_project_root() + \"/src/conf/long-term-memory/solutions/\"\n",
    "    snapshot_mgr      = SolutionSnapshotManager( path_to_snapshots, debug=False )\n",
    "    exemplar_snapshot = snapshot_mgr.get_snapshots_by_question( question )[ 0 ][ 1 ]\n",
    "    similar_snapshots = snapshot_mgr.get_snapshots_by_code_similarity( exemplar_snapshot, threshold=90.0 )\n",
    "        \n",
    "    agent = RefactoringAgent( \n",
    "        similar_snapshots=similar_snapshots, \n",
    "        path_to_solutions=\"/src/conf/long-term-memory/solutions\", \n",
    "        debug=True, verbose=True \n",
    "    )\n",
    "    \n",
    "    if not agent.is_promptable():\n",
    "        print( f\"No similar snapshots found for [{du.truncate_string( exemplar_snapshot.question, max_len=32 )}]\" )\n",
    "    else:\n",
    "        agent.run_prompt()\n",
    "        \n",
    "    return agent\n",
    "    \n",
    "agent = begin_refactoring_similar_questions( \"What concerts do I have this week?\" )    \n",
    "    "
   ],
   "metadata": {
    "collapsed": false,
    "ExecuteTime": {
     "end_time": "2023-10-09T23:55:20.263408Z",
     "start_time": "2023-10-09T23:54:38.022032Z"
    }
   },
   "id": "7c9f282bab6e449"
  },
  {
   "cell_type": "code",
   "execution_count": 224,
   "outputs": [
    {
     "name": "stdout",
     "output_type": "stream",
     "text": [
      "[{        \"name\": \"get_this_weeks_events_by_type\",        \"description\": \"Gets the events of a certain type that occur in the current week\",        \"parameters\": {            \"type\": \"object\",            \"properties\": {                \"df\": {                    \"type\": \"object\",                    \"description\": \"The dataframe containing the events\",                },                \"event_type\": {                    \"type\": \"string\",                    \"description\": \"The type of the event\",                },            },            \"required\": [\"df\", \"event_type\"],        },    }]\n"
     ]
    }
   ],
   "source": [
    "# Print dictionary to console, formatted with indentation, etc.\n",
    "print( json.dumps( agent.response_dict[ \"gpt_function_signatures\" ], indent=4 ).replace( \"'\", '\"' ).strip( '\"' ) )\n"
   ],
   "metadata": {
    "collapsed": false,
    "ExecuteTime": {
     "end_time": "2023-10-09T23:55:38.773183Z",
     "start_time": "2023-10-09T23:55:38.735622Z"
    }
   },
   "id": "9856ef36e85f5ad7"
  },
  {
   "cell_type": "code",
   "execution_count": 141,
   "outputs": [
    {
     "name": "stdout",
     "output_type": "stream",
     "text": [
      "Writing file [/var/genie-in-the-box/src/lib/autogen/util_calendaring_0.py]... Done!\n",
      "Writing file [/var/genie-in-the-box/src/lib/autogen/util_calendaring_0.json]... Done!\n",
      "Writing file [/var/genie-in-the-box/io/lib/autogen/util_calendaring_0.py]... Done!\n",
      "\n",
      "File     count: [0]\n",
      "File file_name: [util_calendaring_0.py]\n",
      "File repo_path: [/var/genie-in-the-box/src/lib/autogen/util_calendaring_0.json]\n",
      "File   io_path: [/var/genie-in-the-box/io/lib/autogen/util_calendaring_0.py]\n",
      "File    abbrev: [uc0]\n",
      "File    import: [import lib.autogen.util_calendaring_0 as uc0]\n",
      "File call_template: [uc0.get_this_weeks_events_by_type( df, 'event_type' )]\n",
      "File     signature: [{'name': 'get_this_weeks_events_by_type', 'description': 'Gets the events of a specific type for the current week', 'parameters': {'type': 'object', 'properties': {'df': {'type': 'object', 'description': 'The DataFrame containing the events data'}, 'event_type': {'type': 'string', 'description': 'The type of event to filter by'}}, 'required': ['df', 'event_type']}, 'call_template': \"uc0.get_this_weeks_events_by_type( df, 'event_type' )\", 'import': 'import lib.autogen.util_calendaring_0 as uc0'}]\n",
      "\n",
      "------------------------------------------------------------------------------------------------------------------------\n",
      "- BEFORE updating `what concerts do i have this week`...\n",
      "------------------------------------------------------------------------------------------------------------------------\n",
      "\n",
      "import lib.autogen.util_calendaring_0 as uc0\n",
      "print(uc0.get_this_weeks_events_by_type(df, 'Concert'))\n",
      "\n",
      "\n",
      "Generating embedding for [import lib.autogen.util_calendaring_0 as uc0 print(uc0.get_this_...]...\n",
      "Generating embedding for [import lib.autogen.util_calendaring_0 as uc0 print(uc0.get_this_...]... Done! in 221 ms\n",
      "\n",
      "solution_file value provided: [what-concerts-do-i-have-this-week-0.json]...\n",
      "File path: /var/genie-in-the-box/src/conf/long-term-memory/solutions/what-concerts-do-i-have-this-week-0.json\n",
      "------------------------------------------------------------------------------------------------------------------------\n",
      "-  AFTER updating `what concerts do i have this week`...\n",
      "------------------------------------------------------------------------------------------------------------------------\n",
      "\n",
      "import lib.autogen.util_calendaring_0 as uc0\n",
      "print(uc0.get_this_weeks_events_by_type(df, 'Concert'))\n",
      "\n",
      "\n",
      "------------------------------------------------------------------------------------------------------------------------\n",
      "- BEFORE updating `what birthdays do i have this week`...\n",
      "------------------------------------------------------------------------------------------------------------------------\n",
      "\n",
      "import lib.autogen.util_calendaring_0 as uc0\n",
      "print(uc0.get_this_weeks_events_by_type(df, 'Birthday'))\n",
      "\n",
      "\n",
      "Generating embedding for [import lib.autogen.util_calendaring_0 as uc0 print(uc0.get_this_...]...\n",
      "Generating embedding for [import lib.autogen.util_calendaring_0 as uc0 print(uc0.get_this_...]... Done! in 166 ms\n",
      "\n",
      "solution_file value provided: [what-birthdays-do-i-have-this-week-0.json]...\n",
      "File path: /var/genie-in-the-box/src/conf/long-term-memory/solutions/what-birthdays-do-i-have-this-week-0.json\n",
      "------------------------------------------------------------------------------------------------------------------------\n",
      "-  AFTER updating `what birthdays do i have this week`...\n",
      "------------------------------------------------------------------------------------------------------------------------\n",
      "\n",
      "import lib.autogen.util_calendaring_0 as uc0\n",
      "print(uc0.get_this_weeks_events_by_type(df, 'Birthday'))\n"
     ]
    }
   ],
   "source": [
    "%autoreload\n",
    "agent.refactor_code( debug=True )"
   ],
   "metadata": {
    "collapsed": false,
    "ExecuteTime": {
     "end_time": "2023-10-09T20:39:56.224630Z",
     "start_time": "2023-10-09T20:39:55.744248Z"
    }
   },
   "id": "6e6a93bdf59e157c"
  },
  {
   "cell_type": "code",
   "execution_count": 81,
   "outputs": [
    {
     "name": "stdout",
     "output_type": "stream",
     "text": [
      "last command, before [print(uc0.get_this_weeks_events_by_type(df, 'Concert'))]:\n",
      "return_type [string]\n",
      "ERROR: return_type [string] and last command [print(uc0.get_this_weeks_events_by_type(df, 'Concert'))] are incompatible!\n",
      "last command,  after [print(uc0.get_this_weeks_events_by_type(df, 'Concert'))]:\n",
      "import pandas as pd\n",
      "import lib.util as du\n",
      "import lib.util_pandas as dup\n",
      "\n",
      "debug = True\n",
      "\n",
      "df = pd.read_csv( du.get_project_root() + '/src/conf/long-term-memory/events.csv' )\n",
      "df = dup.cast_to_datetime( df, debug=debug )\n",
      "import lib.autogen.util_calendaring_0 as uc0\n",
      "print(uc0.get_this_weeks_events_by_type(df, 'Concert'))\n",
      "\n",
      "Executing /var/genie-in-the-box/io/code.py... Done!\n",
      "\n",
      "------------------------------------------------------------------------------------------------------------------------\n",
      "- Code output\n",
      "------------------------------------------------------------------------------------------------------------------------\n",
      "\n",
      "{\"start_date\":1697155200000,\"end_date\":1697155200000,\"start_time\":\"00:00\",\"end_time\":\"23:59\",\"event_type\":\"Concert\",\"recurrent\":false,\"recurrence_interval\":null,\"priority_level\":\"highest\",\"name\":\"Leroy Ruiz\",\"relationship\":\"father\",\"description_who_what_where\":\"Concert of Leroy Ruiz at the city center\"}\n",
      "{\"start_date\":1697328000000,\"end_date\":1697328000000,\"start_time\":\"00:00\",\"end_time\":\"23:59\",\"event_type\":\"Concert\",\"recurrent\":false,\"recurrence_interval\":null,\"priority_level\":\"high\",\"name\":\"Tom Ruiz\",\"relationship\":\"brother\",\"description_who_what_where\":\"Concert of Tom Ruiz at the city center\"}\n",
      "\n",
      "last command, before [print(uc0.get_this_weeks_events_by_type(df, 'Birthday'))]:\n",
      "return_type [string]\n",
      "ERROR: return_type [string] and last command [print(uc0.get_this_weeks_events_by_type(df, 'Birthday'))] are incompatible!\n",
      "last command,  after [print(uc0.get_this_weeks_events_by_type(df, 'Birthday'))]:\n",
      "import pandas as pd\n",
      "import lib.util as du\n",
      "import lib.util_pandas as dup\n",
      "\n",
      "debug = True\n",
      "\n",
      "df = pd.read_csv( du.get_project_root() + '/src/conf/long-term-memory/events.csv' )\n",
      "df = dup.cast_to_datetime( df, debug=debug )\n",
      "import lib.autogen.util_calendaring_0 as uc0\n",
      "print(uc0.get_this_weeks_events_by_type(df, 'Birthday'))\n",
      "\n",
      "Executing /var/genie-in-the-box/io/code.py... Done!\n",
      "\n",
      "------------------------------------------------------------------------------------------------------------------------\n",
      "- Code output\n",
      "------------------------------------------------------------------------------------------------------------------------\n",
      "\n",
      "{\"start_date\":1696982400000,\"end_date\":1696982400000,\"start_time\":\"00:00\",\"end_time\":\"23:59\",\"event_type\":\"Birthday\",\"recurrent\":true,\"recurrence_interval\":\"5 month\",\"priority_level\":\"highest\",\"name\":\"Sue\",\"relationship\":\"sister\",\"description_who_what_where\":\"Sue's birthday party at their favorite bar\"}\n",
      "{\"start_date\":1696982400000,\"end_date\":1696982400000,\"start_time\":\"00:00\",\"end_time\":\"23:59\",\"event_type\":\"Birthday\",\"recurrent\":true,\"recurrence_interval\":\"2 day\",\"priority_level\":\"none\",\"name\":\"Leroy Ruiz\",\"relationship\":\"father\",\"description_who_what_where\":\"Leroy Ruiz's birthday party at their favorite bar\"}\n",
      "{\"start_date\":1697155200000,\"end_date\":1697414400000,\"start_time\":\"00:00\",\"end_time\":\"23:59\",\"event_type\":\"Birthday\",\"recurrent\":true,\"recurrence_interval\":\"1 year\",\"priority_level\":\"highest\",\"name\":\"Juan\",\"relationship\":\"neighbor\",\"description_who_what_where\":\"Juan's birthday party at their favorite bar\"}\n",
      "{\"start_date\":1697328000000,\"end_date\":1697414400000,\"start_time\":\"00:00\",\"end_time\":\"23:59\",\"event_type\":\"Birthday\",\"recurrent\":true,\"recurrence_interval\":\"4 day\",\"priority_level\":\"low\",\"name\":\"Gregorio\",\"relationship\":\"friend\",\"description_who_what_where\":\"Gregorio's birthday party at their favorite bar\"}\n"
     ]
    },
    {
     "data": {
      "text/plain": "[{'return_code': 0,\n  'output': '{\"start_date\":1697155200000,\"end_date\":1697155200000,\"start_time\":\"00:00\",\"end_time\":\"23:59\",\"event_type\":\"Concert\",\"recurrent\":false,\"recurrence_interval\":null,\"priority_level\":\"highest\",\"name\":\"Leroy Ruiz\",\"relationship\":\"father\",\"description_who_what_where\":\"Concert of Leroy Ruiz at the city center\"}\\n{\"start_date\":1697328000000,\"end_date\":1697328000000,\"start_time\":\"00:00\",\"end_time\":\"23:59\",\"event_type\":\"Concert\",\"recurrent\":false,\"recurrence_interval\":null,\"priority_level\":\"high\",\"name\":\"Tom Ruiz\",\"relationship\":\"brother\",\"description_who_what_where\":\"Concert of Tom Ruiz at the city center\"}'},\n {'return_code': 0,\n  'output': '{\"start_date\":1696982400000,\"end_date\":1696982400000,\"start_time\":\"00:00\",\"end_time\":\"23:59\",\"event_type\":\"Birthday\",\"recurrent\":true,\"recurrence_interval\":\"5 month\",\"priority_level\":\"highest\",\"name\":\"Sue\",\"relationship\":\"sister\",\"description_who_what_where\":\"Sue\\'s birthday party at their favorite bar\"}\\n{\"start_date\":1696982400000,\"end_date\":1696982400000,\"start_time\":\"00:00\",\"end_time\":\"23:59\",\"event_type\":\"Birthday\",\"recurrent\":true,\"recurrence_interval\":\"2 day\",\"priority_level\":\"none\",\"name\":\"Leroy Ruiz\",\"relationship\":\"father\",\"description_who_what_where\":\"Leroy Ruiz\\'s birthday party at their favorite bar\"}\\n{\"start_date\":1697155200000,\"end_date\":1697414400000,\"start_time\":\"00:00\",\"end_time\":\"23:59\",\"event_type\":\"Birthday\",\"recurrent\":true,\"recurrence_interval\":\"1 year\",\"priority_level\":\"highest\",\"name\":\"Juan\",\"relationship\":\"neighbor\",\"description_who_what_where\":\"Juan\\'s birthday party at their favorite bar\"}\\n{\"start_date\":1697328000000,\"end_date\":1697414400000,\"start_time\":\"00:00\",\"end_time\":\"23:59\",\"event_type\":\"Birthday\",\"recurrent\":true,\"recurrence_interval\":\"4 day\",\"priority_level\":\"low\",\"name\":\"Gregorio\",\"relationship\":\"friend\",\"description_who_what_where\":\"Gregorio\\'s birthday party at their favorite bar\"}'}]"
     },
     "execution_count": 81,
     "metadata": {},
     "output_type": "execute_result"
    }
   ],
   "source": [
    "%autoreload\n",
    "agent.run_code()"
   ],
   "metadata": {
    "collapsed": false,
    "ExecuteTime": {
     "end_time": "2023-10-09T18:33:56.595927Z",
     "start_time": "2023-10-09T18:33:56.050718Z"
    }
   },
   "id": "253ecb3cc15e64f2"
  },
  {
   "cell_type": "code",
   "execution_count": null,
   "outputs": [],
   "source": [],
   "metadata": {
    "collapsed": false
   },
   "id": "c80d5134e2d319a2"
  },
  {
   "cell_type": "markdown",
   "source": [
    "### Prototype new function prompt"
   ],
   "metadata": {
    "collapsed": false
   },
   "id": "d74b076f8c6f6421"
  },
  {
   "cell_type": "code",
   "execution_count": 148,
   "outputs": [
    {
     "name": "stdout",
     "output_type": "stream",
     "text": [
      "{'name': 'get_this_weeks_events_by_type', 'description': 'Gets the events of a specific type for the current week', 'parameters': {'type': 'object', 'properties': {'df': {'type': 'object', 'description': 'The DataFrame containing the events data'}, 'event_type': {'type': 'string', 'description': 'The type of event to filter by'}}, 'required': ['df', 'event_type']}, 'call_template': \"uc0.get_this_weeks_events_by_type( df, 'event_type' )\", 'import_as': 'import lib.autogen.util_calendaring_0 as uc0'}\n"
     ]
    },
    {
     "data": {
      "text/plain": "{'get_this_weeks_events_by_type': {'name': 'get_this_weeks_events_by_type',\n  'description': 'Gets the events of a specific type for the current week',\n  'parameters': {'type': 'object',\n   'properties': {'df': {'type': 'object',\n     'description': 'The DataFrame containing the events data'},\n    'event_type': {'type': 'string',\n     'description': 'The type of event to filter by'}},\n   'required': ['df', 'event_type']},\n  'call_template': \"uc0.get_this_weeks_events_by_type( df, 'event_type' )\",\n  'import_as': 'import lib.autogen.util_calendaring_0 as uc0'}}"
     },
     "execution_count": 148,
     "metadata": {},
     "output_type": "execute_result"
    }
   ],
   "source": [
    "%autoreload\n",
    "signature_paths = du.find_files_with_prefix_and_suffix( du.get_project_root() + \"/src/lib/autogen/\", \"util_calendaring\", \".json\" )\n",
    "# Given a list of file paths, load each file into a string and append to a list\n",
    "\n",
    "signatures = du.get_files_as_strings( signature_paths )\n",
    "signatures = [ json.loads( s ) for s in signatures ]\n",
    "du.print_list( signatures )\n",
    "\n",
    "signature_dict = {}\n",
    "for signature in signatures:\n",
    "    signature_dict[ signature[ \"name\" ] ] = signature\n",
    "    \n",
    "signature_dict"
   ],
   "metadata": {
    "collapsed": false,
    "ExecuteTime": {
     "end_time": "2023-10-09T20:42:30.166729Z",
     "start_time": "2023-10-09T20:42:30.066728Z"
    }
   },
   "id": "afa3ab4af43ebf6f"
  },
  {
   "cell_type": "code",
   "execution_count": 235,
   "outputs": [
    {
     "name": "stdout",
     "output_type": "stream",
     "text": [
      "Asking ChatGPT [gpt-4-0613]...\n",
      "Asking ChatGPT [gpt-4-0613]... in 2,386 ms\n"
     ]
    }
   ],
   "source": [
    "GPT_4   = \"gpt-4-0613\"\n",
    "GPT_3_5 = \"gpt-3.5-turbo-0613\"\n",
    "\n",
    "# example: https://www.mlq.ai/gpt-function-calling-getting-started/#:~:text=Step%201%3A%20Defining%20functions%20for,available%20functions%20it%20can%20call\n",
    "def get_function_from_gpt( preamble, query, functions, model=GPT_4, debug=False ):\n",
    "\n",
    "    openai.api_key = os.getenv( \"FALSE_POSITIVE_API_KEY\" )\n",
    "    \n",
    "    timer = sw.Stopwatch( msg=f\"Asking ChatGPT [{model}]...\".format( model ) )\n",
    "    \n",
    "    response = openai.ChatCompletion.create(\n",
    "        model=model,\n",
    "        messages=[ \n",
    "            { \"role\": \"system\", \"content\": preamble },\n",
    "            { \"role\": \"user\",   \"content\": query } \n",
    "        ],\n",
    "        functions=functions,\n",
    "        function_call=\"auto\",\n",
    "        temperature=0,\n",
    "        max_tokens=2000,\n",
    "        top_p=1.0,\n",
    "        frequency_penalty=0.0,\n",
    "        presence_penalty=0.0\n",
    "    )\n",
    "    timer.print( use_millis=True )\n",
    "    \n",
    "    if debug: print( json.dumps( response, indent=4 ) )\n",
    "    \n",
    "    message = response[ \"choices\" ][ 0 ][ \"message\" ]\n",
    "    \n",
    "    results_dict = {\n",
    "        \"is_function_call\": False,\n",
    "                 # \"message\": message,\n",
    "           \"function_name\": None,   \n",
    "           \"function_args\": None,\n",
    "                 \"content\": None\n",
    "    }\n",
    "    \n",
    "    if message.get( \"function_call\" ):\n",
    "        results_dict[ \"is_function_call\" ] = True\n",
    "        results_dict[ \"function_name\"    ] = message[ \"function_call\" ][ \"name\" ]\n",
    "        results_dict[ \"function_args\"    ] = json.loads( message[ \"function_call\" ][ \"arguments\" ] )\n",
    "        # title case the event_type value\n",
    "        results_dict[ \"function_args\"    ][ \"event_type\"]  = results_dict[ \"function_args\" ][ \"event_type\"].title()\n",
    "    else:\n",
    "        results_dict[ \"content\" ] = response[ \"choices\" ][ 0 ][ \"message\" ][ \"content\" ].strip()\n",
    "    \n",
    "    return results_dict\n",
    "\n",
    "preamble = \"You are designed to take a question and map it to a function.\"\n",
    "# question = \"Do I have any appointments this week?\"\n",
    "question = \"What appointments Do I have this week?\"\n",
    "\n",
    "gpt_function_signature_results = get_function_from_gpt( preamble, question, list( signature_dict.values() ), model=GPT_4, debug=False )\n"
   ],
   "metadata": {
    "collapsed": false,
    "ExecuteTime": {
     "end_time": "2023-10-10T00:08:05.545217Z",
     "start_time": "2023-10-10T00:08:03.150884Z"
    }
   },
   "id": "820a4cf4e11b73ba"
  },
  {
   "cell_type": "code",
   "execution_count": 236,
   "outputs": [
    {
     "data": {
      "text/plain": "{'is_function_call': True,\n 'function_name': 'get_this_weeks_events_by_type',\n 'function_args': {'event_type': 'Appointment'},\n 'content': None}"
     },
     "execution_count": 236,
     "metadata": {},
     "output_type": "execute_result"
    }
   ],
   "source": [
    "gpt_function_signature_results"
   ],
   "metadata": {
    "collapsed": false,
    "ExecuteTime": {
     "end_time": "2023-10-10T00:08:08.188508Z",
     "start_time": "2023-10-10T00:08:08.179831Z"
    }
   },
   "id": "4366b511ec6c612a"
  },
  {
   "cell_type": "code",
   "execution_count": 208,
   "outputs": [
    {
     "data": {
      "text/plain": "\"uc0.get_this_weeks_events_by_type( df, 'event_type' )\""
     },
     "execution_count": 208,
     "metadata": {},
     "output_type": "execute_result"
    }
   ],
   "source": [
    "import_as     = signature_dict[ gpt_function_signature_results[ \"function_name\" ] ][ \"import_as\" ]\n",
    "call_template = signature_dict[ gpt_function_signature_results[ \"function_name\" ] ][ \"call_template\" ]\n",
    "call_template"
   ],
   "metadata": {
    "collapsed": false,
    "ExecuteTime": {
     "end_time": "2023-10-09T23:26:09.911951Z",
     "start_time": "2023-10-09T23:26:09.906096Z"
    }
   },
   "id": "66665d5ea626f7b"
  },
  {
   "cell_type": "code",
   "execution_count": 209,
   "outputs": [
    {
     "name": "stdout",
     "output_type": "stream",
     "text": [
      "uc0.get_this_weeks_events_by_type( df, 'Appointment' )\n"
     ]
    }
   ],
   "source": [
    "# For now this only replaces one argument name with a value, in the future it may handle multiple non-'df' arguments\n",
    "for arg, value in gpt_function_signature_results[ \"function_args\" ].items():\n",
    "    # print( arg, value )\n",
    "    call_template = call_template.replace( arg, f\"{value}\" )\n",
    "    print( call_template )"
   ],
   "metadata": {
    "collapsed": false,
    "ExecuteTime": {
     "end_time": "2023-10-09T23:26:13.107234Z",
     "start_time": "2023-10-09T23:26:13.103535Z"
    }
   },
   "id": "3008dcf5b36bfb89"
  },
  {
   "cell_type": "code",
   "execution_count": 210,
   "outputs": [
    {
     "name": "stdout",
     "output_type": "stream",
     "text": [
      "import lib.autogen.util_calendaring_0 as uc0\n",
      "uc0.get_this_weeks_events_by_type( df, 'Appointment' )\n"
     ]
    }
   ],
   "source": [
    "code = [\n",
    "    import_as,\n",
    "    call_template\n",
    "]\n",
    "du.print_list( code )"
   ],
   "metadata": {
    "collapsed": false,
    "ExecuteTime": {
     "end_time": "2023-10-09T23:26:13.934706Z",
     "start_time": "2023-10-09T23:26:13.929050Z"
    }
   },
   "id": "eb3d76f00d6e79ba"
  },
  {
   "cell_type": "code",
   "execution_count": 211,
   "outputs": [
    {
     "data": {
      "text/plain": "{'get_this_weeks_events_by_type': {'name': 'get_this_weeks_events_by_type',\n  'description': 'Gets the events of a specific type for the current week',\n  'parameters': {'type': 'object',\n   'properties': {'df': {'type': 'object',\n     'description': 'The DataFrame containing the events data'},\n    'event_type': {'type': 'string',\n     'description': 'The type of event to filter by'}},\n   'required': ['df', 'event_type']},\n  'call_template': \"uc0.get_this_weeks_events_by_type( df, 'event_type' )\",\n  'import_as': 'import lib.autogen.util_calendaring_0 as uc0'}}"
     },
     "execution_count": 211,
     "metadata": {},
     "output_type": "execute_result"
    }
   ],
   "source": [
    "%autoreload\n",
    "\n",
    "def get_function_signatures( debug=False ):\n",
    "    \n",
    "    signature_paths = du.find_files_with_prefix_and_suffix( du.get_project_root() + \"/src/lib/autogen/\", \"util_calendaring\", \".json\" )\n",
    "    # Given a list of file paths, load each file into a string and append to a list\n",
    "    \n",
    "    signatures = du.get_files_as_strings( signature_paths )\n",
    "    signatures = [ json.loads( s ) for s in signatures ]\n",
    "    if debug: du.print_list( signatures )\n",
    "    \n",
    "    signature_dict = {}\n",
    "    for signature in signatures:\n",
    "        signature_dict[ signature[ \"name\" ] ] = signature\n",
    "        \n",
    "    return signature_dict\n",
    "\n",
    "signature_dict = get_function_signatures()\n",
    "signature_dict"
   ],
   "metadata": {
    "collapsed": false,
    "ExecuteTime": {
     "end_time": "2023-10-09T23:26:17.262221Z",
     "start_time": "2023-10-09T23:26:17.239268Z"
    }
   },
   "id": "a4de7f263119ccc4"
  },
  {
   "cell_type": "code",
   "execution_count": null,
   "outputs": [],
   "source": [
    "question = \"what appointments do i have today\""
   ],
   "metadata": {
    "collapsed": false
   },
   "id": "77695dbc0cc40d57"
  },
  {
   "cell_type": "code",
   "execution_count": null,
   "outputs": [],
   "source": [],
   "metadata": {
    "collapsed": false
   },
   "id": "c2d9df23bcbbb720"
  },
  {
   "cell_type": "code",
   "execution_count": null,
   "outputs": [],
   "source": [],
   "metadata": {
    "collapsed": false
   },
   "id": "59372c63a43a4b86"
  },
  {
   "cell_type": "code",
   "execution_count": null,
   "outputs": [],
   "source": [],
   "metadata": {
    "collapsed": false
   },
   "id": "35789b2d4be35c63"
  },
  {
   "cell_type": "code",
   "execution_count": null,
   "outputs": [],
   "source": [],
   "metadata": {
    "collapsed": false
   },
   "id": "925f0bc41d37a1d"
  },
  {
   "cell_type": "code",
   "execution_count": 237,
   "outputs": [
    {
     "name": "stdout",
     "output_type": "stream",
     "text": [
      "Asking ChatGPT [gpt-4-0613]...\n",
      "Asking ChatGPT [gpt-4-0613]... in 1,052 ms\n",
      "\n",
      "------------------------------------------------------------------------------------------------------------------------\n",
      "- Not a function call [What should I have for dinner tonight?]\n",
      "------------------------------------------------------------------------------------------------------------------------\n",
      "\n",
      "Sorry, I can't assist with that.\n"
     ]
    },
    {
     "data": {
      "text/plain": "[]"
     },
     "execution_count": 237,
     "metadata": {},
     "output_type": "execute_result"
    }
   ],
   "source": [
    "def get_function_signatures( debug=False ):\n",
    "    \n",
    "    signature_paths = du.find_files_with_prefix_and_suffix( du.get_project_root() + \"/src/lib/autogen/\", \"util_calendaring\", \".json\" )\n",
    "    # Given a list of file paths, load each file into a string and append to a list\n",
    "    \n",
    "    signatures = du.get_files_as_strings( signature_paths )\n",
    "    signatures = [ json.loads( s ) for s in signatures ]\n",
    "    if debug: du.print_list( signatures )\n",
    "    \n",
    "    signature_dict = {}\n",
    "    for signature in signatures:\n",
    "        signature_dict[ signature[ \"name\" ] ] = signature\n",
    "        \n",
    "    return signature_dict\n",
    "    \n",
    "def get_code_for_question( question, debug=False ):\n",
    "    \n",
    "    signature_dict                 = get_function_signatures()\n",
    "    gpt_function_signature_results = get_function_from_gpt( preamble, question, list( signature_dict.values() ), model=GPT_4, debug=debug )\n",
    "    \n",
    "    # If the response is not a function call, return an empty list\n",
    "    if not gpt_function_signature_results[ \"is_function_call\" ]:\n",
    "        \n",
    "        du.print_banner( f\"Not a function call [{question}]\" )\n",
    "        print( gpt_function_signature_results[ \"content\" ] )\n",
    "        \n",
    "        return []\n",
    "    else:\n",
    "        import_as     = signature_dict[ gpt_function_signature_results[ \"function_name\" ] ][ \"import_as\" ]\n",
    "        call_template = signature_dict[ gpt_function_signature_results[ \"function_name\" ] ][ \"call_template\" ]\n",
    "        \n",
    "        # For now this only replaces one argument name with a value, in the future it may handle multiple non-'df' arguments\n",
    "        for arg, value in gpt_function_signature_results[ \"function_args\" ].items():\n",
    "            # print( arg, value )\n",
    "            call_template = call_template.replace( arg, f\"{value}\" )\n",
    "        \n",
    "        code = [\n",
    "            import_as,\n",
    "            call_template\n",
    "        ]\n",
    "        # du.print_list( code )\n",
    "        \n",
    "        return code\n",
    "    \n",
    "# code = get_code_for_question( \"What appointments do I have this week?\" )\n",
    "# code = get_code_for_question( \"What todos do I have this week?\" )\n",
    "code = get_code_for_question( \"What should I have for dinner tonight?\" )\n",
    "code"
   ],
   "metadata": {
    "collapsed": false,
    "ExecuteTime": {
     "end_time": "2023-10-10T00:08:26.521366Z",
     "start_time": "2023-10-10T00:08:25.457501Z"
    }
   },
   "id": "6667d4cee6cdb6e"
  },
  {
   "cell_type": "code",
   "execution_count": 230,
   "outputs": [
    {
     "name": "stdout",
     "output_type": "stream",
     "text": [
      "Asking ChatGPT [gpt-4-0613]...\n",
      "Asking ChatGPT [gpt-4-0613]... in 1,923 ms\n",
      "\n",
      "------------------------------------------------------------------------------------------------------------------------\n",
      "- Not a function call [What Happy hours do I have this week?]\n",
      "------------------------------------------------------------------------------------------------------------------------\n",
      "\n",
      "{\n",
      "  \"function\": \"functions.get_this_weeks_events_by_type\",\n",
      "  \"arguments\": {\n",
      "    \"event_type\": \"Happy hours\"\n",
      "  }\n",
      "}\n"
     ]
    },
    {
     "data": {
      "text/plain": "[]"
     },
     "execution_count": 230,
     "metadata": {},
     "output_type": "execute_result"
    }
   ],
   "source": [
    "code = get_code_for_question( \"What Happy hours do I have this week?\" )\n",
    "code"
   ],
   "metadata": {
    "collapsed": false,
    "ExecuteTime": {
     "end_time": "2023-10-10T00:06:12.645922Z",
     "start_time": "2023-10-10T00:06:10.712775Z"
    }
   },
   "id": "85c087bfa0136be2"
  },
  {
   "cell_type": "code",
   "execution_count": 238,
   "outputs": [
    {
     "name": "stdout",
     "output_type": "stream",
     "text": [
      "Asking ChatGPT [gpt-4-0613]...\n",
      "Asking ChatGPT [gpt-4-0613]... in 1,335 ms\n",
      "\n",
      "------------------------------------------------------------------------------------------------------------------------\n",
      "- Not a function call [Do I have any appointments for tomorrow?]\n",
      "------------------------------------------------------------------------------------------------------------------------\n",
      "\n",
      "I'm sorry, but I can only provide information about events for the current week or today.\n"
     ]
    },
    {
     "data": {
      "text/plain": "[]"
     },
     "execution_count": 238,
     "metadata": {},
     "output_type": "execute_result"
    }
   ],
   "source": [
    "code = get_code_for_question( \"Do I have any appointments for tomorrow?\" )\n",
    "code"
   ],
   "metadata": {
    "collapsed": false,
    "ExecuteTime": {
     "end_time": "2023-10-10T00:08:32.873960Z",
     "start_time": "2023-10-10T00:08:31.526320Z"
    }
   },
   "id": "53b64830b531b3f0"
  },
  {
   "cell_type": "code",
   "execution_count": 239,
   "outputs": [
    {
     "name": "stdout",
     "output_type": "stream",
     "text": [
      "Asking ChatGPT [gpt-4-0613]...\n",
      "Asking ChatGPT [gpt-4-0613]... in 2,427 ms\n",
      "\n",
      "{\n",
      "    \"id\": \"chatcmpl-87uadFBSwYqfpDoooWSPSdXq0Gtsx\",\n",
      "    \"object\": \"chat.completion\",\n",
      "    \"created\": 1696896519,\n",
      "    \"model\": \"gpt-4-0613\",\n",
      "    \"choices\": [\n",
      "        {\n",
      "            \"index\": 0,\n",
      "            \"message\": {\n",
      "                \"role\": \"assistant\",\n",
      "                \"content\": null,\n",
      "                \"function_call\": {\n",
      "                    \"name\": \"get_todays_events_by_type\",\n",
      "                    \"arguments\": \"{\\n  \\\"event_type\\\": \\\"appointment\\\"\\n}\"\n",
      "                }\n",
      "            },\n",
      "            \"finish_reason\": \"function_call\"\n",
      "        }\n",
      "    ],\n",
      "    \"usage\": {\n",
      "        \"prompt_tokens\": 131,\n",
      "        \"completion_tokens\": 21,\n",
      "        \"total_tokens\": 152\n",
      "    }\n",
      "}\n"
     ]
    },
    {
     "data": {
      "text/plain": "['import lib.autogen.util_calendaring_1 as uc1',\n \"uc1.get_todays_events_by_type( df, 'Appointment' )\"]"
     },
     "execution_count": 239,
     "metadata": {},
     "output_type": "execute_result"
    }
   ],
   "source": [
    "code = get_code_for_question( \"Do I have any appointments for today?\", debug=True )\n",
    "code"
   ],
   "metadata": {
    "collapsed": false,
    "ExecuteTime": {
     "end_time": "2023-10-10T00:08:42.157536Z",
     "start_time": "2023-10-10T00:08:39.717229Z"
    }
   },
   "id": "510fcfc5ecb7ffb7"
  },
  {
   "cell_type": "code",
   "execution_count": 240,
   "outputs": [
    {
     "name": "stdout",
     "output_type": "stream",
     "text": [
      "last command, before [uc1.get_todays_events_by_type( df, 'Appointment' )]:\n",
      "return_type [string]\n",
      "ERROR: return_type [string] and last command [uc1.get_todays_events_by_type( df, 'Appointment' )] are incompatible!\n",
      "last command,  after [uc1.get_todays_events_by_type( df, 'Appointment' )]:\n",
      "import pandas as pd\n",
      "import lib.util as du\n",
      "import lib.util_pandas as dup\n",
      "\n",
      "debug = True\n",
      "\n",
      "df = pd.read_csv( du.get_project_root() + '/src/conf/long-term-memory/events.csv' )\n",
      "df = dup.cast_to_datetime( df, debug=debug )\n",
      "import lib.autogen.util_calendaring_1 as uc1\n",
      "uc1.get_todays_events_by_type( df, 'Appointment' )\n",
      "\n",
      "Executing /var/genie-in-the-box/io/code.py... Done!\n"
     ]
    },
    {
     "data": {
      "text/plain": "{'return_code': 0, 'output': 'No results returned'}"
     },
     "execution_count": 240,
     "metadata": {},
     "output_type": "execute_result"
    }
   ],
   "source": [
    "# execute code\n",
    "import lib.util_code_runner as ucr\n",
    "response = ucr.assemble_and_run_solution( code, path=\"/src/conf/long-term-memory/events.csv\" )\n",
    "response"
   ],
   "metadata": {
    "collapsed": false,
    "ExecuteTime": {
     "end_time": "2023-10-10T00:10:10.715202Z",
     "start_time": "2023-10-10T00:10:10.467789Z"
    }
   },
   "id": "1d1376a60e5f83d3"
  },
  {
   "cell_type": "code",
   "execution_count": 182,
   "outputs": [
    {
     "name": "stdout",
     "output_type": "stream",
     "text": [
      "{'name': 'get_this_weeks_events_by_type', 'description': 'Gets the events of a specific type for the current week', 'parameters': {'type': 'object', 'properties': {'df': {'type': 'object', 'description': 'The DataFrame containing the events data'}, 'event_type': {'type': 'string', 'description': 'The type of event to filter by'}}, 'required': ['df', 'event_type']}, 'call_template': \"uc0.get_this_weeks_events_by_type( df, 'event_type' )\", 'import_as': 'import lib.autogen.util_calendaring_0 as uc0'}\n",
      "Asking ChatGPT [gpt-3.5-turbo-0613]...\n",
      "Asking ChatGPT [gpt-3.5-turbo-0613]... in 1,160 ms\n"
     ]
    },
    {
     "data": {
      "text/plain": "['import lib.autogen.util_calendaring_0 as uc0',\n \"uc0.get_this_weeks_events_by_type( df, 'Todo' )\"]"
     },
     "execution_count": 182,
     "metadata": {},
     "output_type": "execute_result"
    }
   ],
   "source": [
    "code = get_code_for_question( \"What todos do I have this week?\" )\n",
    "code"
   ],
   "metadata": {
    "collapsed": false,
    "ExecuteTime": {
     "end_time": "2023-10-09T21:06:32.136125Z",
     "start_time": "2023-10-09T21:06:30.967783Z"
    }
   },
   "id": "d3ed88e62f4c7b7"
  },
  {
   "cell_type": "code",
   "execution_count": 186,
   "outputs": [
    {
     "name": "stdout",
     "output_type": "stream",
     "text": [
      "{'name': 'get_this_weeks_events_by_type', 'description': 'Gets the events of a specific type for the current week', 'parameters': {'type': 'object', 'properties': {'df': {'type': 'object', 'description': 'The DataFrame containing the events data'}, 'event_type': {'type': 'string', 'description': 'The type of event to filter by'}}, 'required': ['df', 'event_type']}, 'call_template': \"uc0.get_this_weeks_events_by_type( df, 'event_type' )\", 'import_as': 'import lib.autogen.util_calendaring_0 as uc0'}\n",
      "Asking ChatGPT [gpt-3.5-turbo-0613]...\n",
      "Asking ChatGPT [gpt-3.5-turbo-0613]... in 619 ms\n"
     ]
    },
    {
     "data": {
      "text/plain": "['import lib.autogen.util_calendaring_0 as uc0',\n \"uc0.get_this_weeks_events_by_type( df, 'Tv' )\"]"
     },
     "execution_count": 186,
     "metadata": {},
     "output_type": "execute_result"
    }
   ],
   "source": [
    "code = get_code_for_question( \"What Should I watch on TV tonight?\" )\n",
    "code"
   ],
   "metadata": {
    "collapsed": false,
    "ExecuteTime": {
     "end_time": "2023-10-09T21:07:59.691763Z",
     "start_time": "2023-10-09T21:07:59.069376Z"
    }
   },
   "id": "ad956a73f65e4903"
  },
  {
   "cell_type": "code",
   "execution_count": 195,
   "outputs": [
    {
     "name": "stdout",
     "output_type": "stream",
     "text": [
      "Asking ChatGPT [gpt-3.5-turbo-0613]...\n",
      "Asking ChatGPT [gpt-3.5-turbo-0613]... in 1,378 ms\n"
     ]
    },
    {
     "data": {
      "text/plain": "['import lib.autogen.util_calendaring_0 as uc0',\n \"uc0.get_this_weeks_events_by_type( df, 'Dinner' )\"]"
     },
     "execution_count": 195,
     "metadata": {},
     "output_type": "execute_result"
    }
   ],
   "source": [
    "code = get_code_for_question( \"What Should I eat tonight?\" )\n",
    "code"
   ],
   "metadata": {
    "collapsed": false,
    "ExecuteTime": {
     "end_time": "2023-10-09T23:19:51.634526Z",
     "start_time": "2023-10-09T23:19:50.251720Z"
    }
   },
   "id": "9e7cdf33f79d705a"
  },
  {
   "cell_type": "code",
   "execution_count": 183,
   "outputs": [
    {
     "name": "stdout",
     "output_type": "stream",
     "text": [
      "last command, before [uc0.get_this_weeks_events_by_type( df, 'Todo' )]:\n",
      "return_type [string]\n",
      "ERROR: return_type [string] and last command [uc0.get_this_weeks_events_by_type( df, 'Todo' )] are incompatible!\n",
      "last command,  after [uc0.get_this_weeks_events_by_type( df, 'Todo' )]:\n",
      "import pandas as pd\n",
      "import lib.util as du\n",
      "import lib.util_pandas as dup\n",
      "\n",
      "debug = True\n",
      "\n",
      "df = pd.read_csv( du.get_project_root() + '/src/conf/long-term-memory/events.csv' )\n",
      "df = dup.cast_to_datetime( df, debug=debug )\n",
      "import lib.autogen.util_calendaring_0 as uc0\n",
      "uc0.get_this_weeks_events_by_type( df, 'Todo' )\n",
      "\n",
      "Executing /var/genie-in-the-box/io/code.py... Done!\n"
     ]
    },
    {
     "data": {
      "text/plain": "{'return_code': 0, 'output': 'No results returned'}"
     },
     "execution_count": 183,
     "metadata": {},
     "output_type": "execute_result"
    }
   ],
   "source": [
    "import lib.util_code_runner as ucr\n",
    "\n",
    "code_response = ucr.assemble_and_run_solution( code, path=\"/src/conf/long-term-memory/events.csv\" )\n",
    "code_response"
   ],
   "metadata": {
    "collapsed": false,
    "ExecuteTime": {
     "start_time": "2023-10-09T21:06:34.042796Z"
    }
   },
   "id": "913db9833d8e08d4"
  },
  {
   "cell_type": "code",
   "execution_count": 225,
   "outputs": [
    {
     "name": "stdout",
     "output_type": "stream",
     "text": [
      "\n",
      "------------------------------------------------------------------------------------------------------------------------\n",
      "- Found [36] synonymous questions\n",
      "------------------------------------------------------------------------------------------------------------------------\n",
      "\n",
      "Synonymous question [when is juans birthday] for snapshot.question [when is juans birthday]\n",
      "Synonymous question [what day is today] for snapshot.question [what day is today]\n",
      "Synonymous question [whats todays date] for snapshot.question [what day is today]\n",
      "Synonymous question [whats todays day and date] for snapshot.question [what day is today]\n",
      "Synonymous question [what is the day and date for today] for snapshot.question [what day is today]\n",
      "Synonymous question [whats the date] for snapshot.question [what day is today]\n",
      "Synonymous question [say what day is today] for snapshot.question [what day is today]\n",
      "Synonymous question [hey what day is today] for snapshot.question [what day is today]\n",
      "Synonymous question [whats todays day] for snapshot.question [what day is today]\n",
      "Synonymous question [what day is it] for snapshot.question [what day is today]\n",
      "Synonymous question [what time is it] for snapshot.question [what time is it]\n",
      "Synonymous question [got the time] for snapshot.question [what time is it]\n",
      "Synonymous question [whats the time] for snapshot.question [what time is it]\n",
      "Synonymous question [yo what time is it] for snapshot.question [what time is it]\n",
      "Synonymous question [hey you got the time] for snapshot.question [what time is it]\n",
      "Synonymous question [hey you what time is it] for snapshot.question [what time is it]\n",
      "Synonymous question [hey what time is it] for snapshot.question [what time is it]\n",
      "Synonymous question [what performances do i have today] for snapshot.question [what performances do i have today]\n",
      "Synonymous question [what appointments do i have today] for snapshot.question [what appointments do i have today]\n",
      "Synonymous question [when is anitas birthday] for snapshot.question [when is anitas birthday]\n",
      "Synonymous question [when is jimmys birthday] for snapshot.question [when is jimmys birthday]\n",
      "Synonymous question [wins jimmys birthday] for snapshot.question [when is jimmys birthday]\n",
      "Synonymous question [whens jimmys birthday] for snapshot.question [when is jimmys birthday]\n",
      "Synonymous question [what birthdays do i have this week] for snapshot.question [what birthdays do i have this week]\n",
      "Synonymous question [what conferences do i have today] for snapshot.question [what conferences do i have today]\n",
      "Synonymous question [when is bobby's birthday?] for snapshot.question [when is bobbys birthday]\n",
      "Synonymous question [how many records in this dataframe] for snapshot.question [how many records in this dataframe]\n",
      "Synonymous question [how many rows in this table] for snapshot.question [how many records in this dataframe]\n",
      "Synonymous question [how many records in this table] for snapshot.question [how many records in this dataframe]\n",
      "Synonymous question [how many records in this csv file] for snapshot.question [how many records in this dataframe]\n",
      "Synonymous question [how many records in that table] for snapshot.question [how many records in this dataframe]\n",
      "Synonymous question [how many rows in that data frame] for snapshot.question [how many records in this dataframe]\n",
      "Synonymous question [how many records in that database] for snapshot.question [how many records in this dataframe]\n",
      "Synonymous question [how many records do i have in that table] for snapshot.question [how many records in this dataframe]\n",
      "Synonymous question [What concerts do I have this week?] for snapshot.question [what concerts do i have this week]\n",
      "Synonymous question [what concerts do i have this week] for snapshot.question [what concerts do i have this week]\n",
      "\n",
      "Loading question embeddings dictionary ............................................................................... Done!\n",
      "No exact match or synonymous question found, searching for similar questions...\n",
      "Generating embedding for [what appointments do i have this today]...\n",
      "Generating embedding for [what appointments do i have this today]... Done! in 136 ms\n",
      "\n",
      "Pickling question embeddings dictionary...\n",
      "\n",
      "Code similarity score [99.99999754843626] for [what concerts do i have this wee...] == [what appointments do i have toda...]\n",
      "Code similarity score [95.76898669907767] for [what concerts do i have this wee...] == [what conferences do i have today]\n",
      "Code similarity score [94.58216023609141] for [what concerts do i have this wee...] == [what performances do i have toda...]\n",
      "Snippet 1 for question `what appointments do i have today`: \n",
      "\n",
      "import pandas as pd\n",
      "today = pd.Timestamp('now').normalize()\n",
      "appointments_today = df[(df['event_type'] == 'Appointment') & (df['start_date'] <= today) & (df['end_date'] >= today)]\n",
      "solution = appointments_today\n",
      "print( solution.to_json( orient='records', lines=True ) )\n",
      "\n",
      "Snippet 2 for question `what conferences do i have today`: \n",
      "\n",
      "import pandas as pd\n",
      "today = pd.Timestamp('now').normalize()\n",
      "conferences_today = df[(df['event_type'] == 'Conference') & (df['start_date'] <= today) & (df['end_date'] >= today)]\n",
      "solution = conferences_today\n",
      "print( solution.to_json( orient='records', lines=True ) )\n",
      "\n",
      "Snippet 3 for question `what performances do i have today`: \n",
      "\n",
      "import pandas as pd\n",
      "from datetime import datetime\n",
      "today = pd.Timestamp(datetime.now())\n",
      "performances_today = df[(df['event_type'] == 'Performance') & (df['start_date'] <= today) & (df['end_date'] >= today)]\n",
      "solution = performances_today\n",
      "print( solution.to_json( orient='records', lines=True ) )\n",
      "\n",
      "\n",
      "------------------------------------------------------------------------------------------------------------------------\n",
      "- Token count for self.system_message: [743]\n",
      "------------------------------------------------------------------------------------------------------------------------\n",
      "\n",
      "\n",
      "        I'm going to show you 3 Python code snippets that are similar, along with the questions they were created to answer.\n",
      "        How would you coalesce or refactor them so that you only need to call one function in all 3 scenarios?\n",
      "        How would you name the function in a way that clearly explains exactly what the date range is, e.g., 'get_this_months_events_by_type', as well as what the function does?\n",
      "        Descriptive function names MUST look like: `get_birthday_by_name`, or `get_todays_events`, `get_todays_events_by_type`, `get_tomorrows_events`, `get_this_weeks_events`, `get_this_weeks_events_by_type`,`get_this_months_events_by_type`, etc.,\n",
      "\n",
      "        As you generate the Python 3.10 code needed to answer this question, I want you to:\n",
      "\n",
      "        1) Think: Before you do anything, think out loud about what I'm asking you to do, including the steps that you will need to take to solve this problem.\n",
      "        Be critical of your thought process! How will you handle the edge cases? For example, what will you do if your query does not return a result?\n",
      "        2) Code: Generate a verbatim list of code that you used to arrive at your answer, one line of code per item on the list. The code must be complete,\n",
      "        syntactically correct, and capable of running to completion. You must allow for the possibility that your query may not return a result.\n",
      "        3) Document: Create a GPT function signature (gpt_function_signatures) that can be used by GPT to call the function you create. The function signature must be syntactically correct.\n",
      "        4) Generate examples: Generate a dictionary containing the code examples needed to call the function you created, one line of code per question provided.\n",
      "        The example function calls must be complete, syntactically correct, and capable of running to completion. Each example must be wrapped in a print statement.\n",
      "        5) Explain: Briefly and succinctly explain your code in plain English.\n",
      "\n",
      "        Format: return your response as a syntactically correct JSON object with the following fields and formatting:\n",
      "        {\n",
      "            \"thoughts\": \"Your thoughts\",\n",
      "            \"code\": [],\n",
      "            \"function_name\": \"The name of your function. It must describe the time being filtered, e.g., `get_tomorrows_events`\",\n",
      "            \"parameters\": \"The parameters to your function, only two are allowed: the 1st will always be `df` and the 2nd is of your choosing.\",\n",
      "            \"gpt_function_signatures\":\"[\n",
      "            {\n",
      "                \"name\": \"get_current_weather\",\n",
      "                \"description\": \"Gets the current weather in a given location\",\n",
      "                \"parameters\": {\n",
      "                    \"type\": \"object\",\n",
      "                    \"properties\": {\n",
      "                        \"location\": {\n",
      "                            \"type\": \"string\",\n",
      "                            \"description\": \"The city and state, e.g. San Francisco, CA\",\n",
      "                        },\n",
      "                        \"unit\": {\"type\": \"string\", \"enum\": [\"celsius\", \"fahrenheit\"]},\n",
      "                    },\n",
      "                    \"required\": [\"location\"],\n",
      "                },\n",
      "            }]\",\n",
      "            \"returns\": \"Object type of the variable `solution`\",\n",
      "            \"examples\": {}, a dictionary containing the questions and example code, one line of code per question provided.\n",
      "            \"python_version\": \"3.10\",\n",
      "            \"explanation\": \"A brief explanation of your code\",\n",
      "            \"error\": \"Verbatim stack trace or description of issues encountered while attempting to carry out this task.\"\n",
      "        }\n",
      "\n",
      "------------------------------------------------------------------------------------------------------------------------\n",
      "- Token count for self.user_message: [256]\n",
      "------------------------------------------------------------------------------------------------------------------------\n",
      "\n",
      "\n",
      "        Snippet 1 for question `what appointments do i have today`: \n",
      "\n",
      "import pandas as pd\n",
      "today = pd.Timestamp('now').normalize()\n",
      "appointments_today = df[(df['event_type'] == 'Appointment') & (df['start_date'] <= today) & (df['end_date'] >= today)]\n",
      "solution = appointments_today\n",
      "print( solution.to_json( orient='records', lines=True ) )\n",
      "\n",
      "Snippet 2 for question `what conferences do i have today`: \n",
      "\n",
      "import pandas as pd\n",
      "today = pd.Timestamp('now').normalize()\n",
      "conferences_today = df[(df['event_type'] == 'Conference') & (df['start_date'] <= today) & (df['end_date'] >= today)]\n",
      "solution = conferences_today\n",
      "print( solution.to_json( orient='records', lines=True ) )\n",
      "\n",
      "Snippet 3 for question `what performances do i have today`: \n",
      "\n",
      "import pandas as pd\n",
      "from datetime import datetime\n",
      "today = pd.Timestamp(datetime.now())\n",
      "performances_today = df[(df['event_type'] == 'Performance') & (df['start_date'] <= today) & (df['end_date'] >= today)]\n",
      "solution = performances_today\n",
      "print( solution.to_json( orient='records', lines=True ) )\n",
      "\n",
      "        Begin!\n",
      "        \n",
      "Asking ChatGPT [gpt-4-0613]...\n",
      "Asking ChatGPT [gpt-4-0613]... in 32,829 ms\n",
      "\n",
      "{\n",
      "    \"id\": \"chatcmpl-87uOi7YK8AX6hWvkRmrITGKcfwYwq\",\n",
      "    \"object\": \"chat.completion\",\n",
      "    \"created\": 1696895780,\n",
      "    \"model\": \"gpt-4-0613\",\n",
      "    \"choices\": [\n",
      "        {\n",
      "            \"index\": 0,\n",
      "            \"message\": {\n",
      "                \"role\": \"assistant\",\n",
      "                \"content\": \"{\\n    \\\"thoughts\\\": \\\"The three code snippets are very similar, they all filter a DataFrame based on the current date and a specific event type. The only difference between them is the event type. Therefore, we can create a single function that takes the DataFrame and the event type as parameters, and returns the filtered DataFrame. If the query does not return a result, the function will return an empty DataFrame.\\\",\\n    \\\"code\\\": [\\n        \\\"import pandas as pd\\\",\\n        \\\"def get_todays_events_by_type(df, event_type):\\\",\\n        \\\"    today = pd.Timestamp('now').normalize()\\\",\\n        \\\"    events_today = df[(df['event_type'] == event_type) & (df['start_date'] <= today) & (df['end_date'] >= today)]\\\",\\n        \\\"    return events_today\\\"\\n    ],\\n    \\\"function_name\\\": \\\"get_todays_events_by_type\\\",\\n    \\\"parameters\\\": \\\"df, event_type\\\",\\n    \\\"gpt_function_signatures\\\":\\\"[ { 'name': 'get_todays_events_by_type', 'description': 'Gets the events of a specific type that are happening today', 'parameters': { 'type': 'object', 'properties': { 'df': { 'type': 'object', 'description': 'The DataFrame containing the events data' }, 'event_type': { 'type': 'string', 'description': 'The type of event to filter by' } }, 'required': ['df', 'event_type'] } } ]\\\",\\n    \\\"returns\\\": \\\"DataFrame\\\",\\n    \\\"examples\\\": {\\n        \\\"what appointments do i have today\\\": \\\"print(get_todays_events_by_type(df, 'Appointment').to_json(orient='records', lines=True))\\\",\\n        \\\"what conferences do i have today\\\": \\\"print(get_todays_events_by_type(df, 'Conference').to_json(orient='records', lines=True))\\\",\\n        \\\"what performances do i have today\\\": \\\"print(get_todays_events_by_type(df, 'Performance').to_json(orient='records', lines=True))\\\"\\n    },\\n    \\\"python_version\\\": \\\"3.10\\\",\\n    \\\"explanation\\\": \\\"The function `get_todays_events_by_type` takes a DataFrame and an event type as parameters. It filters the DataFrame to only include events of the specified type that are happening today. The current date is obtained using `pd.Timestamp('now').normalize()`. The function returns the filtered DataFrame. If no events of the specified type are happening today, the function will return an empty DataFrame.\\\",\\n    \\\"error\\\": \\\"\\\"\\n}\"\n",
      "            },\n",
      "            \"finish_reason\": \"stop\"\n",
      "        }\n",
      "    ],\n",
      "    \"usage\": {\n",
      "        \"prompt_tokens\": 1010,\n",
      "        \"completion_tokens\": 524,\n",
      "        \"total_tokens\": 1534\n",
      "    }\n",
      "}\n",
      "{\n",
      "    \"thoughts\": \"The three code snippets are very similar, they all filter a DataFrame based on the current date and a specific event type. The only difference between them is the event type. Therefore, we can create a single function that takes the DataFrame and the event type as parameters, and returns the filtered DataFrame. If the query does not return a result, the function will return an empty DataFrame.\",\n",
      "    \"code\": [\n",
      "        \"import pandas as pd\",\n",
      "        \"def get_todays_events_by_type(df, event_type):\",\n",
      "        \"    today = pd.Timestamp('now').normalize()\",\n",
      "        \"    events_today = df[(df['event_type'] == event_type) & (df['start_date'] <= today) & (df['end_date'] >= today)]\",\n",
      "        \"    return events_today\"\n",
      "    ],\n",
      "    \"function_name\": \"get_todays_events_by_type\",\n",
      "    \"parameters\": \"df, event_type\",\n",
      "    \"gpt_function_signatures\": \"[ { 'name': 'get_todays_events_by_type', 'description': 'Gets the events of a specific type that are happening today', 'parameters': { 'type': 'object', 'properties': { 'df': { 'type': 'object', 'description': 'The DataFrame containing the events data' }, 'event_type': { 'type': 'string', 'description': 'The type of event to filter by' } }, 'required': ['df', 'event_type'] } } ]\",\n",
      "    \"returns\": \"DataFrame\",\n",
      "    \"examples\": {\n",
      "        \"what appointments do i have today\": \"print(get_todays_events_by_type(df, 'Appointment').to_json(orient='records', lines=True))\",\n",
      "        \"what conferences do i have today\": \"print(get_todays_events_by_type(df, 'Conference').to_json(orient='records', lines=True))\",\n",
      "        \"what performances do i have today\": \"print(get_todays_events_by_type(df, 'Performance').to_json(orient='records', lines=True))\"\n",
      "    },\n",
      "    \"python_version\": \"3.10\",\n",
      "    \"explanation\": \"The function `get_todays_events_by_type` takes a DataFrame and an event type as parameters. It filters the DataFrame to only include events of the specified type that are happening today. The current date is obtained using `pd.Timestamp('now').normalize()`. The function returns the filtered DataFrame. If no events of the specified type are happening today, the function will return an empty DataFrame.\",\n",
      "    \"error\": \"\"\n",
      "}\n"
     ]
    },
    {
     "data": {
      "text/plain": "<agent_refactoring.RefactoringAgent at 0x7fe8020c09a0>"
     },
     "execution_count": 225,
     "metadata": {},
     "output_type": "execute_result"
    }
   ],
   "source": [
    "agent = begin_refactoring_similar_questions( \"What appointments do I have today?\" )\n",
    "agent."
   ],
   "metadata": {
    "collapsed": false,
    "ExecuteTime": {
     "end_time": "2023-10-09T23:56:52.778093Z",
     "start_time": "2023-10-09T23:56:19.740114Z"
    }
   },
   "id": "6021192ecc93d3c9"
  },
  {
   "cell_type": "code",
   "execution_count": 244,
   "outputs": [
    {
     "data": {
      "text/plain": "{'thoughts': 'The three code snippets are very similar, they all filter a DataFrame based on the current date and a specific event type. The only difference between them is the event type. Therefore, we can create a single function that takes the DataFrame and the event type as parameters, and returns the filtered DataFrame. If the query does not return a result, the function will return an empty DataFrame.',\n 'code': ['import pandas as pd',\n  'def get_todays_events_by_type(df, event_type):',\n  \"    today = pd.Timestamp('now').normalize()\",\n  \"    events_today = df[(df['event_type'] == event_type) & (df['start_date'] <= today) & (df['end_date'] >= today)]\",\n  '    return events_today'],\n 'function_name': 'get_todays_events_by_type',\n 'parameters': 'df, event_type',\n 'gpt_function_signatures': \"[ { 'name': 'get_todays_events_by_type', 'description': 'Gets the events of a specific type that are happening today', 'parameters': { 'type': 'object', 'properties': { 'df': { 'type': 'object', 'description': 'The DataFrame containing the events data' }, 'event_type': { 'type': 'string', 'description': 'The type of event to filter by' } }, 'required': ['df', 'event_type'] } } ]\",\n 'returns': 'DataFrame',\n 'examples': {'what appointments do i have today': ['import lib.autogen.util_calendaring_1 as uc1',\n   \"print(uc1.get_todays_events_by_type(df, 'Appointment').to_json(orient='records', lines=True))\"],\n  'what conferences do i have today': ['import lib.autogen.util_calendaring_1 as uc1',\n   \"print(uc1.get_todays_events_by_type(df, 'Conference').to_json(orient='records', lines=True))\"],\n  'what performances do i have today': ['import lib.autogen.util_calendaring_1 as uc1',\n   \"print(uc1.get_todays_events_by_type(df, 'Performance').to_json(orient='records', lines=True))\"]},\n 'python_version': '3.10',\n 'explanation': \"The function `get_todays_events_by_type` takes a DataFrame and an event type as parameters. It filters the DataFrame to only include events of the specified type that are happening today. The current date is obtained using `pd.Timestamp('now').normalize()`. The function returns the filtered DataFrame. If no events of the specified type are happening today, the function will return an empty DataFrame.\",\n 'error': ''}"
     },
     "execution_count": 244,
     "metadata": {},
     "output_type": "execute_result"
    }
   ],
   "source": [
    "agent.response_dict"
   ],
   "metadata": {
    "collapsed": false,
    "ExecuteTime": {
     "end_time": "2023-10-10T00:19:43.275456Z",
     "start_time": "2023-10-10T00:19:43.238990Z"
    }
   },
   "id": "2f5046a8dbbd8f73"
  },
  {
   "cell_type": "code",
   "execution_count": 226,
   "outputs": [
    {
     "name": "stdout",
     "output_type": "stream",
     "text": [
      "Writing file [/var/genie-in-the-box/src/lib/autogen/util_calendaring_1.py]... Done!\n",
      "Writing file [/var/genie-in-the-box/src/lib/autogen/util_calendaring_1.json]... Done!\n",
      "Writing file [/var/genie-in-the-box/io/lib/autogen/util_calendaring_1.py]... Done!\n",
      "\n",
      "File     count: [1]\n",
      "File file_name: [util_calendaring_1.py]\n",
      "File repo_path: [/var/genie-in-the-box/src/lib/autogen/util_calendaring_1.json]\n",
      "File   io_path: [/var/genie-in-the-box/io/lib/autogen/util_calendaring_1.py]\n",
      "File    abbrev: [uc1]\n",
      "File    import: [import lib.autogen.util_calendaring_1 as uc1]\n",
      "File call_template: [uc1.get_todays_events_by_type( df, 'event_type' )]\n",
      "File     signature: [{'name': 'get_todays_events_by_type', 'description': 'Gets the events of a specific type that are happening today', 'parameters': {'type': 'object', 'properties': {'df': {'type': 'object', 'description': 'The DataFrame containing the events data'}, 'event_type': {'type': 'string', 'description': 'The type of event to filter by'}}, 'required': ['df', 'event_type']}, 'call_template': \"uc1.get_todays_events_by_type( df, 'event_type' )\", 'import_as': 'import lib.autogen.util_calendaring_1 as uc1'}]\n",
      "\n",
      "------------------------------------------------------------------------------------------------------------------------\n",
      "- BEFORE updating `what appointments do i have today`...\n",
      "------------------------------------------------------------------------------------------------------------------------\n",
      "\n",
      "import pandas as pd\n",
      "today = pd.Timestamp('now').normalize()\n",
      "appointments_today = df[(df['event_type'] == 'Appointment') & (df['start_date'] <= today) & (df['end_date'] >= today)]\n",
      "solution = appointments_today\n",
      "print( solution.to_json( orient='records', lines=True ) )\n",
      "\n",
      "\n",
      "Generating embedding for [import lib.autogen.util_calendaring_1 as uc1 print(uc1.get_today...]...\n",
      "Generating embedding for [import lib.autogen.util_calendaring_1 as uc1 print(uc1.get_today...]... Done! in 229 ms\n",
      "\n",
      "solution_file value provided: [what-appointments-do-i-have-today-0.json]...\n",
      "File path: /var/genie-in-the-box/src/conf/long-term-memory/solutions/what-appointments-do-i-have-today-0.json\n",
      "------------------------------------------------------------------------------------------------------------------------\n",
      "-  AFTER updating `what appointments do i have today`...\n",
      "------------------------------------------------------------------------------------------------------------------------\n",
      "\n",
      "import lib.autogen.util_calendaring_1 as uc1\n",
      "print(uc1.get_todays_events_by_type(df, 'Appointment').to_json(orient='records', lines=True))\n",
      "\n",
      "\n",
      "------------------------------------------------------------------------------------------------------------------------\n",
      "- BEFORE updating `what conferences do i have today`...\n",
      "------------------------------------------------------------------------------------------------------------------------\n",
      "\n",
      "import pandas as pd\n",
      "today = pd.Timestamp('now').normalize()\n",
      "conferences_today = df[(df['event_type'] == 'Conference') & (df['start_date'] <= today) & (df['end_date'] >= today)]\n",
      "solution = conferences_today\n",
      "print( solution.to_json( orient='records', lines=True ) )\n",
      "\n",
      "\n",
      "Generating embedding for [import lib.autogen.util_calendaring_1 as uc1 print(uc1.get_today...]...\n",
      "Generating embedding for [import lib.autogen.util_calendaring_1 as uc1 print(uc1.get_today...]... Done! in 135 ms\n",
      "\n",
      "solution_file value provided: [what-conferences-do-i-have-today-0.json]...\n",
      "File path: /var/genie-in-the-box/src/conf/long-term-memory/solutions/what-conferences-do-i-have-today-0.json\n",
      "------------------------------------------------------------------------------------------------------------------------\n",
      "-  AFTER updating `what conferences do i have today`...\n",
      "------------------------------------------------------------------------------------------------------------------------\n",
      "\n",
      "import lib.autogen.util_calendaring_1 as uc1\n",
      "print(uc1.get_todays_events_by_type(df, 'Conference').to_json(orient='records', lines=True))\n",
      "\n",
      "\n",
      "------------------------------------------------------------------------------------------------------------------------\n",
      "- BEFORE updating `what performances do i have today`...\n",
      "------------------------------------------------------------------------------------------------------------------------\n",
      "\n",
      "import pandas as pd\n",
      "from datetime import datetime\n",
      "today = pd.Timestamp(datetime.now())\n",
      "performances_today = df[(df['event_type'] == 'Performance') & (df['start_date'] <= today) & (df['end_date'] >= today)]\n",
      "solution = performances_today\n",
      "print( solution.to_json( orient='records', lines=True ) )\n",
      "\n",
      "\n",
      "Generating embedding for [import lib.autogen.util_calendaring_1 as uc1 print(uc1.get_today...]...\n",
      "Generating embedding for [import lib.autogen.util_calendaring_1 as uc1 print(uc1.get_today...]... Done! in 149 ms\n",
      "\n",
      "solution_file value provided: [what-performances-do-i-have-today-0.json]...\n",
      "File path: /var/genie-in-the-box/src/conf/long-term-memory/solutions/what-performances-do-i-have-today-0.json\n",
      "------------------------------------------------------------------------------------------------------------------------\n",
      "-  AFTER updating `what performances do i have today`...\n",
      "------------------------------------------------------------------------------------------------------------------------\n",
      "\n",
      "import lib.autogen.util_calendaring_1 as uc1\n",
      "print(uc1.get_todays_events_by_type(df, 'Performance').to_json(orient='records', lines=True))\n"
     ]
    }
   ],
   "source": [
    "agent.refactor_code( debug=True )"
   ],
   "metadata": {
    "collapsed": false,
    "ExecuteTime": {
     "end_time": "2023-10-09T23:58:12.189153Z",
     "start_time": "2023-10-09T23:58:11.648696Z"
    }
   },
   "id": "7e4fc9e4e831b3ab"
  },
  {
   "cell_type": "code",
   "execution_count": 227,
   "outputs": [
    {
     "name": "stdout",
     "output_type": "stream",
     "text": [
      "last command, before [print(uc1.get_todays_events_by_type(df, 'Appointment').to_json(orient='records', lines=True))]:\n",
      "return_type [string]\n",
      "ERROR: return_type [string] and last command [print(uc1.get_todays_events_by_type(df, 'Appointment').to_json(orient='records', lines=True))] are incompatible!\n",
      "last command,  after [print(uc1.get_todays_events_by_type(df, 'Appointment').to_json(orient='records', lines=True))]:\n",
      "import pandas as pd\n",
      "import lib.util as du\n",
      "import lib.util_pandas as dup\n",
      "\n",
      "debug = True\n",
      "\n",
      "df = pd.read_csv( du.get_project_root() + '/src/conf/long-term-memory/events.csv' )\n",
      "df = dup.cast_to_datetime( df, debug=debug )\n",
      "import lib.autogen.util_calendaring_1 as uc1\n",
      "print(uc1.get_todays_events_by_type(df, 'Appointment').to_json(orient='records', lines=True))\n",
      "\n",
      "Executing /var/genie-in-the-box/io/code.py... Done!\n",
      "\n",
      "------------------------------------------------------------------------------------------------------------------------\n",
      "- Code output\n",
      "------------------------------------------------------------------------------------------------------------------------\n",
      "\n",
      "{\"start_date\":1696896000000,\"end_date\":1696982400000,\"start_time\":\"16:22\",\"end_time\":\"07:17\",\"event_type\":\"Appointment\",\"recurrent\":false,\"recurrence_interval\":null,\"priority_level\":\"low\",\"name\":\"Barbara Jane Ruiz\",\"relationship\":\"mother\",\"description_who_what_where\":\"Appointment with Barbara Jane Ruiz at the clinic\"}\n",
      "\n",
      "last command, before [print(uc1.get_todays_events_by_type(df, 'Conference').to_json(orient='records', lines=True))]:\n",
      "return_type [string]\n",
      "ERROR: return_type [string] and last command [print(uc1.get_todays_events_by_type(df, 'Conference').to_json(orient='records', lines=True))] are incompatible!\n",
      "last command,  after [print(uc1.get_todays_events_by_type(df, 'Conference').to_json(orient='records', lines=True))]:\n",
      "import pandas as pd\n",
      "import lib.util as du\n",
      "import lib.util_pandas as dup\n",
      "\n",
      "debug = True\n",
      "\n",
      "df = pd.read_csv( du.get_project_root() + '/src/conf/long-term-memory/events.csv' )\n",
      "df = dup.cast_to_datetime( df, debug=debug )\n",
      "import lib.autogen.util_calendaring_1 as uc1\n",
      "print(uc1.get_todays_events_by_type(df, 'Conference').to_json(orient='records', lines=True))\n",
      "\n",
      "Executing /var/genie-in-the-box/io/code.py... Done!\n",
      "\n",
      "------------------------------------------------------------------------------------------------------------------------\n",
      "- Code output\n",
      "------------------------------------------------------------------------------------------------------------------------\n",
      "\n",
      "{\"start_date\":1696636800000,\"end_date\":1697241600000,\"start_time\":\"00:00\",\"end_time\":\"23:59\",\"event_type\":\"Conference\",\"recurrent\":false,\"recurrence_interval\":null,\"priority_level\":\"low\",\"name\":\"Bob\",\"relationship\":\"brother\",\"description_who_what_where\":\"Conference with Bob on AI advancements\"}\n",
      "\n",
      "last command, before [print(uc1.get_todays_events_by_type(df, 'Performance').to_json(orient='records', lines=True))]:\n",
      "return_type [string]\n",
      "ERROR: return_type [string] and last command [print(uc1.get_todays_events_by_type(df, 'Performance').to_json(orient='records', lines=True))] are incompatible!\n",
      "last command,  after [print(uc1.get_todays_events_by_type(df, 'Performance').to_json(orient='records', lines=True))]:\n",
      "import pandas as pd\n",
      "import lib.util as du\n",
      "import lib.util_pandas as dup\n",
      "\n",
      "debug = True\n",
      "\n",
      "df = pd.read_csv( du.get_project_root() + '/src/conf/long-term-memory/events.csv' )\n",
      "df = dup.cast_to_datetime( df, debug=debug )\n",
      "import lib.autogen.util_calendaring_1 as uc1\n",
      "print(uc1.get_todays_events_by_type(df, 'Performance').to_json(orient='records', lines=True))\n",
      "\n",
      "Executing /var/genie-in-the-box/io/code.py... Done!\n",
      "\n",
      "------------------------------------------------------------------------------------------------------------------------\n",
      "- Code output\n",
      "------------------------------------------------------------------------------------------------------------------------\n",
      "\n",
      "No results returned\n"
     ]
    },
    {
     "data": {
      "text/plain": "[{'return_code': 0,\n  'output': '{\"start_date\":1696896000000,\"end_date\":1696982400000,\"start_time\":\"16:22\",\"end_time\":\"07:17\",\"event_type\":\"Appointment\",\"recurrent\":false,\"recurrence_interval\":null,\"priority_level\":\"low\",\"name\":\"Barbara Jane Ruiz\",\"relationship\":\"mother\",\"description_who_what_where\":\"Appointment with Barbara Jane Ruiz at the clinic\"}'},\n {'return_code': 0,\n  'output': '{\"start_date\":1696636800000,\"end_date\":1697241600000,\"start_time\":\"00:00\",\"end_time\":\"23:59\",\"event_type\":\"Conference\",\"recurrent\":false,\"recurrence_interval\":null,\"priority_level\":\"low\",\"name\":\"Bob\",\"relationship\":\"brother\",\"description_who_what_where\":\"Conference with Bob on AI advancements\"}'},\n {'return_code': 0, 'output': 'No results returned'}]"
     },
     "execution_count": 227,
     "metadata": {},
     "output_type": "execute_result"
    }
   ],
   "source": [
    "agent.run_code()"
   ],
   "metadata": {
    "collapsed": false,
    "ExecuteTime": {
     "end_time": "2023-10-10T00:00:18.486065Z",
     "start_time": "2023-10-10T00:00:17.724079Z"
    }
   },
   "id": "96fcae1a47ecd770"
  },
  {
   "cell_type": "code",
   "execution_count": 242,
   "outputs": [
    {
     "name": "stdout",
     "output_type": "stream",
     "text": [
      "Asking ChatGPT [gpt-4-0613]...\n",
      "Asking ChatGPT [gpt-4-0613]... in 4,573 ms\n",
      "\n",
      "last command, before [uc1.get_todays_events_by_type( df, 'Appointment' )]:\n",
      "return_type [string]\n",
      "ERROR: return_type [string] and last command [uc1.get_todays_events_by_type( df, 'Appointment' )] are incompatible!\n",
      "last command,  after [uc1.get_todays_events_by_type( df, 'Appointment' )]:\n",
      "import pandas as pd\n",
      "import lib.util as du\n",
      "import lib.util_pandas as dup\n",
      "\n",
      "debug = True\n",
      "\n",
      "df = pd.read_csv( du.get_project_root() + '/src/conf/long-term-memory/events.csv' )\n",
      "df = dup.cast_to_datetime( df, debug=debug )\n",
      "import lib.autogen.util_calendaring_1 as uc1\n",
      "uc1.get_todays_events_by_type( df, 'Appointment' )\n",
      "\n",
      "Executing /var/genie-in-the-box/io/code.py... Done!\n"
     ]
    }
   ],
   "source": [
    "def get_and_run_code_for_question( question ):\n",
    "    \n",
    "    code = get_code_for_question( question )\n",
    "    \n",
    "    if code:\n",
    "        code_response = ucr.assemble_and_run_solution( code, path=\"/src/conf/long-term-memory/events.csv\" )\n",
    "        return code_response\n",
    "    else:\n",
    "        return None\n",
    "    \n",
    "code_response = get_and_run_code_for_question( \"Do I have any appointments today?\" )"
   ],
   "metadata": {
    "collapsed": false,
    "ExecuteTime": {
     "end_time": "2023-10-10T00:11:29.839958Z",
     "start_time": "2023-10-10T00:11:25.013617Z"
    }
   },
   "id": "c73a973aebdc97e"
  },
  {
   "cell_type": "code",
   "execution_count": 243,
   "outputs": [
    {
     "data": {
      "text/plain": "{'return_code': 0, 'output': 'No results returned'}"
     },
     "execution_count": 243,
     "metadata": {},
     "output_type": "execute_result"
    }
   ],
   "source": [
    "code_response"
   ],
   "metadata": {
    "collapsed": false,
    "ExecuteTime": {
     "end_time": "2023-10-10T00:11:41.349945Z",
     "start_time": "2023-10-10T00:11:41.325364Z"
    }
   },
   "id": "4c63f13f315fed34"
  },
  {
   "cell_type": "code",
   "execution_count": null,
   "outputs": [],
   "source": [],
   "metadata": {
    "collapsed": false
   },
   "id": "3c06c45e1eb47d3b"
  }
 ],
 "metadata": {
  "kernelspec": {
   "display_name": "Python 3",
   "language": "python",
   "name": "python3"
  },
  "language_info": {
   "codemirror_mode": {
    "name": "ipython",
    "version": 2
   },
   "file_extension": ".py",
   "mimetype": "text/x-python",
   "name": "python",
   "nbconvert_exporter": "python",
   "pygments_lexer": "ipython2",
   "version": "2.7.6"
  }
 },
 "nbformat": 4,
 "nbformat_minor": 5
}
