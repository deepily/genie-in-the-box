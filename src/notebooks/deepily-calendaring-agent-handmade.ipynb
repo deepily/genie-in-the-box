{
 "cells": [
  {
   "cell_type": "code",
   "execution_count": 1,
   "outputs": [],
   "source": [
    "%load_ext autoreload"
   ],
   "metadata": {
    "collapsed": false,
    "ExecuteTime": {
     "end_time": "2023-10-05T15:20:31.162393Z",
     "start_time": "2023-10-05T15:20:31.140525Z"
    }
   },
   "id": "14c1efa189e09521"
  },
  {
   "cell_type": "code",
   "execution_count": 2,
   "outputs": [
    {
     "name": "stdout",
     "output_type": "stream",
     "text": [
      "['/Applications/PyCharm.app/Contents/plugins/python/helpers-pro/jupyter_debug', '/Applications/PyCharm.app/Contents/plugins/python/helpers/pydev', '/var/genie-in-the-box/src/notebooks', '/usr/local/lib/python310.zip', '/usr/local/lib/python3.10', '/usr/local/lib/python3.10/lib-dynload', '', '/usr/local/lib/python3.10/site-packages', '/var/genie-in-the-box/src/lib']\n",
      "Added [/var/genie-in-the-box/src] to sys.path\n"
     ]
    },
    {
     "ename": "ModuleNotFoundError",
     "evalue": "No module named 'util_langchain'",
     "output_type": "error",
     "traceback": [
      "\u001B[0;31m---------------------------------------------------------------------------\u001B[0m",
      "\u001B[0;31mModuleNotFoundError\u001B[0m                       Traceback (most recent call last)",
      "Cell \u001B[0;32mIn[2], line 28\u001B[0m\n\u001B[1;32m     26\u001B[0m \u001B[38;5;28;01mimport\u001B[39;00m \u001B[38;5;21;01mutil_pandas\u001B[39;00m    \u001B[38;5;28;01mas\u001B[39;00m \u001B[38;5;21;01mup\u001B[39;00m\n\u001B[1;32m     27\u001B[0m \u001B[38;5;28;01mimport\u001B[39;00m \u001B[38;5;21;01mutil_stopwatch\u001B[39;00m \u001B[38;5;28;01mas\u001B[39;00m \u001B[38;5;21;01msw\u001B[39;00m\n\u001B[0;32m---> 28\u001B[0m \u001B[38;5;28;01mimport\u001B[39;00m \u001B[38;5;21;01mutil_langchain\u001B[39;00m \u001B[38;5;28;01mas\u001B[39;00m \u001B[38;5;21;01mulc\u001B[39;00m\n\u001B[1;32m     29\u001B[0m \u001B[38;5;28;01mimport\u001B[39;00m \u001B[38;5;21;01mgenie_client\u001B[39;00m   \u001B[38;5;28;01mas\u001B[39;00m \u001B[38;5;21;01mgc\u001B[39;00m\n\u001B[1;32m     31\u001B[0m \u001B[38;5;28;01mimport\u001B[39;00m \u001B[38;5;21;01mpandas\u001B[39;00m \u001B[38;5;28;01mas\u001B[39;00m \u001B[38;5;21;01mpd\u001B[39;00m\n",
      "\u001B[0;31mModuleNotFoundError\u001B[0m: No module named 'util_langchain'"
     ]
    }
   ],
   "source": [
    "%autoreload\n",
    "\n",
    "import sys\n",
    "import os\n",
    "import json\n",
    "\n",
    "# os.environ[ \"LANGCHAIN_WANDB_TRACING\" ] = \"true\"\n",
    "# # wandb documentation to configure wandb using env variables\n",
    "# # https://docs.wandb.ai/guides/track/advanced/environment-variables\n",
    "# # here we are configuring the wandb project name\n",
    "# os.environ[ \"WANDB_PROJECT\" ] = \"deepily-dataframe-agent\"\n",
    "\n",
    "io_path = \"/var/genie-in-the-box/src/lib\"\n",
    "if path not in sys.path:\n",
    "    sys.path.append( path )\n",
    "else:\n",
    "    print( f\"[{path}] already in sys.path\" )\n",
    "\n",
    "print( sys.path )\n",
    "\n",
    "import util as du\n",
    "\n",
    "path = \"/var/genie-in-the-box/src\"\n",
    "du.add_to_path( path )\n",
    "\n",
    "import util_pandas      as up\n",
    "import util_stopwatch   as sw\n",
    "import util_code_runner as ucr\n",
    "\n",
    "import pandas as pd\n",
    "\n",
    "debug = True\n",
    "verbose = True\n"
   ],
   "metadata": {
    "collapsed": false,
    "ExecuteTime": {
     "end_time": "2023-10-05T15:20:32.183037Z",
     "start_time": "2023-10-05T15:20:31.952110Z"
    }
   },
   "id": "e4a94b9494513834"
  },
  {
   "cell_type": "code",
   "execution_count": 8,
   "outputs": [
    {
     "name": "stdout",
     "output_type": "stream",
     "text": [
      "\n",
      "------------------------------------------------------------------------------------------------------------------------\n",
      "- df.dtypes:\n",
      "------------------------------------------------------------------------------------------------------------------------\n",
      "start_date                    datetime64[ns]\n",
      "end_date                      datetime64[ns]\n",
      "start_time                            object\n",
      "end_time                              object\n",
      "event_type                            object\n",
      "recurrent                               bool\n",
      "recurrence_interval                   object\n",
      "priority_level                        object\n",
      "name                                  object\n",
      "relationship                          object\n",
      "description_who_what_where            object\n",
      "dtype: object\n"
     ]
    }
   ],
   "source": [
    "df = pd.read_csv( du.get_project_root() + \"/src/conf/long-term-memory/events.csv\" )\n",
    "df = up.cast_to_datetime( df, debug=debug )"
   ],
   "metadata": {
    "collapsed": false,
    "ExecuteTime": {
     "end_time": "2023-10-02T15:33:54.810854Z",
     "start_time": "2023-10-02T15:33:54.791693Z"
    }
   },
   "id": "a7a55136a8e498ed"
  },
  {
   "cell_type": "code",
   "execution_count": 9,
   "outputs": [],
   "source": [
    "import openai"
   ],
   "metadata": {
    "collapsed": false,
    "ExecuteTime": {
     "end_time": "2023-10-02T15:33:56.530953Z",
     "start_time": "2023-10-02T15:33:56.527808Z"
    }
   },
   "id": "ab33b4a5bfb6636c"
  },
  {
   "cell_type": "code",
   "execution_count": 10,
   "outputs": [
    {
     "name": "stdout",
     "output_type": "stream",
     "text": [
      "Asking ChatGPT [gpt-4-0613]...\n",
      "Asking ChatGPT [gpt-4-0613]... in 1,670 ms\n"
     ]
    },
    {
     "data": {
      "text/plain": "'My name is ChatGPT.'"
     },
     "execution_count": 10,
     "metadata": {},
     "output_type": "execute_result"
    }
   ],
   "source": [
    "GPT_4   = \"gpt-4-0613\"\n",
    "GPT_3_5 = \"gpt-3.5-turbo-0613\"\n",
    "\n",
    "def ask_chat_gpt_text( preamble, query, model=GPT_4, debug=False ):\n",
    "\n",
    "    openai.api_key = os.getenv( \"FALSE_POSITIVE_API_KEY\" )\n",
    "    \n",
    "    timer = sw.Stopwatch( msg=f\"Asking ChatGPT [{model}]...\".format( model ) )\n",
    "    \n",
    "    response = openai.ChatCompletion.create(\n",
    "        model=model,\n",
    "        messages=[ \n",
    "            { \"role\": \"system\", \"content\": preamble },\n",
    "            { \"role\": \"user\",   \"content\": query } \n",
    "        ],\n",
    "        temperature=0,\n",
    "        max_tokens=2400,\n",
    "        top_p=1.0,\n",
    "        frequency_penalty=0.0,\n",
    "        presence_penalty=0.0\n",
    "    )\n",
    "    timer.print( use_millis=True )\n",
    "    \n",
    "    if debug: print( json.dumps( response, indent=4 ) )\n",
    "    \n",
    "    return response[ \"choices\" ][ 0 ][ \"message\" ][ \"content\" ].strip()\n",
    "\n",
    "preamble = \"You are chatGPT, a helpful chatbot\"\n",
    "question = \"What's your name?\"\n",
    "\n",
    "ask_chat_gpt_text( preamble, question, model=GPT_4 )"
   ],
   "metadata": {
    "collapsed": false,
    "ExecuteTime": {
     "end_time": "2023-10-02T15:34:01.049022Z",
     "start_time": "2023-10-02T15:33:59.368458Z"
    }
   },
   "id": "15c33434a5136979"
  },
  {
   "cell_type": "code",
   "execution_count": 18,
   "outputs": [],
   "source": [
    "%autoreload\n",
    "\n",
    "import os\n",
    "import json\n",
    "\n",
    "import lib.util           as du\n",
    "import lib.util_pandas    as dup\n",
    "import lib.util_stopwatch as sw\n",
    "import genie_client       as gc\n",
    "\n",
    "import pandas as pd\n",
    "import tiktoken\n",
    "\n",
    "class CalendaringAgent:\n",
    "    \n",
    "    def __init__( self, path_to_df, debug=False, verbose=False ):\n",
    "        \n",
    "        self.debug                = debug\n",
    "        self.verbose              = verbose\n",
    "        self.path_to_df           = du.get_project_root() + path_to_df\n",
    "        self.df                   = pd.read_csv( self.path_to_df )\n",
    "        self.df                   = dup.cast_to_datetime( self.df )\n",
    "    \n",
    "        self.pandas_system_prompt = self._get_pandas_system_prompt()\n",
    "        \n",
    "        self.response_dict        = None \n",
    "        self.question             = None\n",
    "        \n",
    "    def get_token_count( self, to_be_tokenized, model=GPT_4 ):\n",
    "        \n",
    "        encoding   = tiktoken.encoding_for_model( model )\n",
    "        num_tokens = len( encoding.encode( to_be_tokenized ) )\n",
    "        \n",
    "        return num_tokens\n",
    "        \n",
    "    def _get_pandas_system_prompt( self ):\n",
    "        \n",
    "        csv = self.df.head( 3 ).to_csv( header=True, index=False)\n",
    "        csv = csv + self.df.tail( 3 ).to_csv( header=False, index=False )\n",
    "        \n",
    "        pandas_system_prompt = f\"\"\"\n",
    "        You are an expert software engineer working with a pandas dataframe in Python containing calendaring and events information. The name of the dataframe is `df`.\n",
    "\n",
    "        This is the ouput from `print(df.head().to_csv())`, in CSV format:\n",
    "\n",
    "        {csv}\n",
    "        \n",
    "        This is the output from `print(self.df.event_type.value_counts())`:\n",
    "\n",
    "        {self.df.event_type.value_counts()}\n",
    "\n",
    "        As you generate the python code needed to answer the events and calendaring question asked of you below, I want you to:\n",
    "\n",
    "        1) Question: Ask yourself if you understand the question that I am asking you.  Pay attention to the details!\n",
    "        2) Think: Before you do anything, think out loud about what I'm asking you to do, including what are the steps that you will need to take to solve this problem. Be critical of your thought process!\n",
    "        3) Code: Generate a verbatim list of code that you used to arrive at your answer, one line of code per item on the list. The code must be complete, syntactically correct, and capable of runnning to completion. The last line of your code must be the variable `solution`, which represents the answer. Make sure that any filtering you perform matches the question asked of you by the user!\n",
    "        4) Return: Report on the object type of the variable `solution` in your last line of code. Use one word to represent the object type.\n",
    "        5) Explain: Briefly and succinctly explain your code in plain English.\n",
    "        \n",
    "        Format: return your response as a JSON object in the following fields:\n",
    "        {{\n",
    "            \"question\": \"The question, verbatim and without modification, that your code attempts to answer\",\n",
    "            \"thoughts\": \"Your thoughts\",\n",
    "            \"code\": [],\n",
    "            \"return\": \"Object type of the variable `solution`\",\n",
    "            \"explanation\": \"A brief explanation of your code\",\n",
    "        }}\n",
    "\n",
    "        Hint: An event that I have today may have started before today and may end tomorrow or next week, so be careful how you filter on dates.\n",
    "        Hint: When filtering by dates, use `pd.Timestamp( day )` to convert a Python datetime object into a Pandas `datetime64[ns]` value.\n",
    "        Hint: If your solution variable is a dataframe, it should include all columns in the dataframe.\n",
    "        \n",
    "        Wait until you're presented with the question to begin.\n",
    "        \"\"\"\n",
    "        if self.debug: print( pandas_system_prompt )\n",
    "        \n",
    "        count = self.get_token_count( pandas_system_prompt )\n",
    "        print( f\"Token count for pandas_system_prompt: [{count}]\" )\n",
    "        \n",
    "        return pandas_system_prompt\n",
    "    \n",
    "    def run_prompt( self, question ):\n",
    "        \n",
    "        # timer = sw.Stopwatch( \"Running pandas prompt...\" )\n",
    "        self.question      = question\n",
    "        self.response      = ask_chat_gpt_text( self.pandas_system_prompt, self.question, model=GPT_4 )\n",
    "        self.response_dict = json.loads( self.response )\n",
    "        # timer.print( \"Done!\" )\n",
    "        \n",
    "        if self.debug: print( json.dumps( self.response_dict, indent=4 ) )\n",
    "        \n",
    "        return self.response_dict\n",
    "        \n",
    "    def run_code( self ):\n",
    "        \n",
    "        # Let's copy it until we get the code munging right\n",
    "        response_dict_copy = self.response_dict[ \"code\" ][ : ]\n",
    "        \n",
    "        self.code_response = ucr.assemble_and_run_solution(\n",
    "            response_dict_copy, path=\"/src/conf/long-term-memory/events.csv\",\n",
    "            solution_code_returns=response_dict_copy[ \"return\" ], debug=False\n",
    "        )\n",
    "        if self.debug and self.verbose:\n",
    "            du.print_banner( \"Code output\", prepend_nl=True )\n",
    "            for line in self.code_response[ \"output\" ].split( \"\\n\" ):\n",
    "                print( line )\n",
    "                \n",
    "        return self.code_response     \n",
    "    \n",
    "    def format_output( self ):\n",
    "        \n",
    "        preamble     = self.get_formatting_preamble()\n",
    "        instructions = self.get_formatting_instructions()\n",
    "        \n",
    "        self.formatted_output = ask_chat_gpt_text( preamble, instructions, model=GPT_3_5, debug=True )\n",
    "        \n",
    "        return self.formatted_output\n",
    "\n",
    "    def get_formatting_preamble( self ):\n",
    "        \n",
    "        rows        = self.code_response[ \"output\" ].split( \"\\n\" )\n",
    "        row_count   = len( rows )\n",
    "        \n",
    "        lines       = []\n",
    "        line_number = 1\n",
    "        \n",
    "        for row in rows:\n",
    "            \n",
    "            lines.append( f\"{line_number}) {row}\" )\n",
    "            line_number += 1\n",
    "            \n",
    "        lines = \"\\n\".join( lines )\n",
    "        \n",
    "        preamble = f\"\"\"\n",
    "        You are an expert in converting raw data into conversational English.\n",
    "        \n",
    "        The following {row_count} rows of JSONL formatted data are the output from a query on a pandas dataframe about events on my calendar. \n",
    "        \n",
    "        JSONL output:\n",
    "        \n",
    "        {lines}\n",
    "        \"\"\"\n",
    "        return preamble\n",
    "    \n",
    "    def get_formatting_instructions( self ):\n",
    "        \n",
    "        instructions = f\"\"\"\n",
    "        Reformat and rephrase the JSONL data that I just showed you in conversational English so that it answers this question: `{self.question}`\n",
    "        \n",
    "        Use this format: \"You have a two hour lunch date with your friend Bob at noon today at Burgerland.\n",
    "        \n",
    "        Each line of the output that you create should contain one event.\n",
    "        There is no need to discuss priority of events.\n",
    "        If the query returned zero rows of JSONL data, then say \"You have no EVENT_TYPE events today/tomorrow/this week, etc.\"\n",
    "        \"\"\"\n",
    "        return instructions"
   ],
   "metadata": {
    "collapsed": false,
    "ExecuteTime": {
     "end_time": "2023-10-02T15:36:15.222683Z",
     "start_time": "2023-10-02T15:36:15.171821Z"
    }
   },
   "id": "7dccb7c4862a8c77"
  },
  {
   "cell_type": "code",
   "execution_count": 12,
   "outputs": [
    {
     "name": "stdout",
     "output_type": "stream",
     "text": [
      "Requirement already satisfied: tiktoken in /usr/local/lib/python3.10/site-packages (0.3.3)\r\n",
      "Requirement already satisfied: regex>=2022.1.18 in /usr/local/lib/python3.10/site-packages (from tiktoken) (2023.8.8)\r\n",
      "Requirement already satisfied: requests>=2.26.0 in /usr/local/lib/python3.10/site-packages (from tiktoken) (2.31.0)\r\n",
      "Requirement already satisfied: charset-normalizer<4,>=2 in /usr/local/lib/python3.10/site-packages (from requests>=2.26.0->tiktoken) (3.2.0)\r\n",
      "Requirement already satisfied: idna<4,>=2.5 in /usr/local/lib/python3.10/site-packages (from requests>=2.26.0->tiktoken) (3.4)\r\n",
      "Requirement already satisfied: urllib3<3,>=1.21.1 in /usr/local/lib/python3.10/site-packages (from requests>=2.26.0->tiktoken) (2.0.5)\r\n",
      "Requirement already satisfied: certifi>=2017.4.17 in /usr/local/lib/python3.10/site-packages (from requests>=2.26.0->tiktoken) (2023.7.22)\r\n",
      "\u001B[33mWARNING: Running pip as the 'root' user can result in broken permissions and conflicting behaviour with the system package manager. It is recommended to use a virtual environment instead: https://pip.pypa.io/warnings/venv\u001B[0m\u001B[33m\r\n",
      "\u001B[0m"
     ]
    }
   ],
   "source": [
    "! pip install tiktoken"
   ],
   "metadata": {
    "collapsed": false,
    "ExecuteTime": {
     "end_time": "2023-10-02T15:34:10.593323Z",
     "start_time": "2023-10-02T15:34:08.406073Z"
    }
   },
   "id": "445e53cff96cd9ac"
  },
  {
   "cell_type": "code",
   "execution_count": 19,
   "outputs": [
    {
     "name": "stdout",
     "output_type": "stream",
     "text": [
      "\n",
      "        You are an expert software engineer working with a pandas dataframe in Python containing calendaring and events information. The name of the dataframe is `df`.\n",
      "\n",
      "        This is the ouput from `print(df.head().to_csv())`, in CSV format:\n",
      "\n",
      "        start_date,end_date,start_time,end_time,event_type,recurrent,recurrence_interval,priority_level,name,relationship,description_who_what_where\n",
      "2023-08-01,2023-08-04,00:00,23:59,Concert,False,,none,Jenny,coworker,Concert of Jenny at the city center\n",
      "2023-08-01,2023-08-01,05:25,17:22,TODO,False,,highest,Gregorio,friend,Send out invitations for the party for Gregorio\n",
      "2023-08-01,2023-08-01,13:27,01:59,Appointment,False,,high,Leroy Ruiz,father,Appointment with Leroy Ruiz at the clinic\n",
      "2023-10-01,2023-10-01,00:00,23:59,Birthday,True,3 day,low,Bob,brother,Bob's birthday party at their favorite bar\n",
      "2023-10-01,2023-10-01,00:00,23:59,Anniversary,True,3 week,highest,Tom Ruiz,brother,Tom Ruiz's anniversary celebration at the park\n",
      "2023-10-01,2023-10-04,00:00,23:59,Concert,False,,highest,John,coworker,Concert of John at the city center\n",
      "\n",
      "        \n",
      "        This is the output from `print(self.df.event_type.value_counts())`:\n",
      "\n",
      "        event_type\n",
      "Conference      24\n",
      "Concert         22\n",
      "Performance     21\n",
      "Appointment     17\n",
      "Anniversary     17\n",
      "Workout         17\n",
      "Birthday        16\n",
      "Workshop        15\n",
      "TODO            14\n",
      "Subscription    14\n",
      "Meeting         12\n",
      "Interview       11\n",
      "Name: count, dtype: int64\n",
      "\n",
      "        As you generate the python code needed to answer the events and calendaring question asked of you below, I want you to:\n",
      "\n",
      "        1) Question: Ask yourself if you understand the question that I am asking you.  Pay attention to the details!\n",
      "        2) Think: Before you do anything, think out loud about what I'm asking you to do, including what are the steps that you will need to take to solve this problem. Be critical of your thought process!\n",
      "        3) Code: Generate a verbatim list of code that you used to arrive at your answer, one line of code per item on the list. The code must be complete, syntactically correct, and capable of runnning to completion. The last line of your code must be the variable `solution`, which represents the answer. Make sure that any filtering you perform matches the question asked of you by the user!\n",
      "        4) Return: Report on the object type of the variable `solution` in your last line of code. Use one word to represent the object type.\n",
      "        5) Explain: Briefly and succinctly explain your code in plain English.\n",
      "        \n",
      "        Format: return your response as a JSON object in the following fields:\n",
      "        {\n",
      "            \"question\": \"The question, verbatim and without modification, that your code attempts to answer\",\n",
      "            \"thoughts\": \"Your thoughts\",\n",
      "            \"code\": [],\n",
      "            \"return\": \"Object type of the variable `solution`\",\n",
      "            \"explanation\": \"A brief explanation of your code\",\n",
      "        }\n",
      "\n",
      "        Hint: An event that I have today may have started before today and may end tomorrow or next week, so be careful how you filter on dates.\n",
      "        Hint: When filtering by dates, use `pd.Timestamp( day )` to convert a Python datetime object into a Pandas `datetime64[ns]` value.\n",
      "        Hint: If your solution variable is a dataframe, it should include all columns in the dataframe.\n",
      "        \n",
      "        Wait until you're presented with the question to begin.\n",
      "        \n",
      "Token count for pandas_system_prompt: [856]\n"
     ]
    }
   ],
   "source": [
    "agent         = CalendaringAgent( path_to_df=\"/src/conf/long-term-memory/events.csv\", debug=True )\n",
    "\n",
    "# response_dict = agent.run_prompt( \"What todo items do I have on my calendar for this week?\" )\n",
    "# print( response_dict )"
   ],
   "metadata": {
    "collapsed": false,
    "ExecuteTime": {
     "end_time": "2023-10-02T15:36:18.276344Z",
     "start_time": "2023-10-02T15:36:17.390645Z"
    }
   },
   "id": "cc28b3c862c436f4"
  },
  {
   "cell_type": "code",
   "execution_count": 25,
   "outputs": [
    {
     "data": {
      "text/plain": "True"
     },
     "execution_count": 25,
     "metadata": {},
     "output_type": "execute_result"
    }
   ],
   "source": [
    "type( agent ) == CalendaringAgent "
   ],
   "metadata": {
    "collapsed": false,
    "ExecuteTime": {
     "end_time": "2023-10-02T15:38:13.371993Z",
     "start_time": "2023-10-02T15:38:13.343889Z"
    }
   },
   "id": "9ac5d71fc1584c11"
  },
  {
   "cell_type": "code",
   "execution_count": 29,
   "outputs": [
    {
     "data": {
      "text/plain": "'Calendar'"
     },
     "execution_count": 29,
     "metadata": {},
     "output_type": "execute_result"
    }
   ],
   "source": [
    "\"Calendar\"[ :11 ]"
   ],
   "metadata": {
    "collapsed": false,
    "ExecuteTime": {
     "end_time": "2023-10-02T15:57:00.550937Z",
     "start_time": "2023-10-02T15:57:00.529992Z"
    }
   },
   "id": "f9ae5472c442444"
  },
  {
   "cell_type": "code",
   "execution_count": 41,
   "outputs": [
    {
     "data": {
      "text/plain": "'{\"start_date\":1695513600000,\"end_date\":1696032000000,\"start_time\":\"12:01\",\"end_time\":\"04:55\",\"event_type\":\"TODO\",\"recurrent\":false,\"recurrence_interval\":null,\"priority_level\":\"medium\",\"name\":\"Juan\",\"relationship\":\"neighbor\",\"description_who_what_where\":\"Prepare presentation for next week\\'s meeting for Juan (neighbor)\"}\\n{\"start_date\":1695772800000,\"end_date\":1695772800000,\"start_time\":\"18:55\",\"end_time\":\"05:58\",\"event_type\":\"TODO\",\"recurrent\":false,\"recurrence_interval\":null,\"priority_level\":\"low\",\"name\":\"Pablo\",\"relationship\":\"friend\",\"description_who_what_where\":\"Prepare presentation for next week\\'s meeting for Pablo\"}\\n{\"start_date\":1695945600000,\"end_date\":1696464000000,\"start_time\":\"16:58\",\"end_time\":\"13:49\",\"event_type\":\"TODO\",\"recurrent\":false,\"recurrence_interval\":null,\"priority_level\":\"medium\",\"name\":\"Juan\",\"relationship\":\"neighbor\",\"description_who_what_where\":\"Renew gym membership for Juan (neighbor)\"}'"
     },
     "execution_count": 41,
     "metadata": {},
     "output_type": "execute_result"
    }
   ],
   "source": [
    "%autoreload\n",
    "code_response = agent.run_code()\n",
    "code_response[ \"output\" ]"
   ],
   "metadata": {
    "collapsed": false,
    "ExecuteTime": {
     "end_time": "2023-09-29T15:00:24.981150Z",
     "start_time": "2023-09-29T15:00:24.689039Z"
    }
   },
   "id": "8631eff6791e5cad"
  },
  {
   "cell_type": "code",
   "execution_count": 42,
   "outputs": [
    {
     "name": "stdout",
     "output_type": "stream",
     "text": [
      "\n",
      "        You are an expert in converting raw data into conversational English.\n",
      "        \n",
      "        The following 3 rows of JSONL formatted data are the output from a query on a pandas dataframe about events on my calendar. \n",
      "        \n",
      "        JSONL output:\n",
      "        \n",
      "        1) {\"start_date\":1695513600000,\"end_date\":1696032000000,\"start_time\":\"12:01\",\"end_time\":\"04:55\",\"event_type\":\"TODO\",\"recurrent\":false,\"recurrence_interval\":null,\"priority_level\":\"medium\",\"name\":\"Juan\",\"relationship\":\"neighbor\",\"description_who_what_where\":\"Prepare presentation for next week's meeting for Juan (neighbor)\"}\n",
      "2) {\"start_date\":1695772800000,\"end_date\":1695772800000,\"start_time\":\"18:55\",\"end_time\":\"05:58\",\"event_type\":\"TODO\",\"recurrent\":false,\"recurrence_interval\":null,\"priority_level\":\"low\",\"name\":\"Pablo\",\"relationship\":\"friend\",\"description_who_what_where\":\"Prepare presentation for next week's meeting for Pablo\"}\n",
      "3) {\"start_date\":1695945600000,\"end_date\":1696464000000,\"start_time\":\"16:58\",\"end_time\":\"13:49\",\"event_type\":\"TODO\",\"recurrent\":false,\"recurrence_interval\":null,\"priority_level\":\"medium\",\"name\":\"Juan\",\"relationship\":\"neighbor\",\"description_who_what_where\":\"Renew gym membership for Juan (neighbor)\"}\n",
      "        \n"
     ]
    }
   ],
   "source": [
    "%autoreload\n",
    "for line in agent.get_formatting_preamble().split( \"\\n\" ):\n",
    "    print( line )"
   ],
   "metadata": {
    "collapsed": false,
    "ExecuteTime": {
     "end_time": "2023-09-29T15:00:28.509357Z",
     "start_time": "2023-09-29T15:00:28.469707Z"
    }
   },
   "id": "8e8f375945563557"
  },
  {
   "cell_type": "code",
   "execution_count": 43,
   "outputs": [
    {
     "name": "stdout",
     "output_type": "stream",
     "text": [
      "\n",
      "        Reformat and rephrase the JSONL data that I just showed you in conversational English so that it answers this question: `What todo items do I have on my calendar for this week?`\n",
      "        \n",
      "        Use this format: \"You have a two hour lunch date with your friend Bob at noon today at Burgerland.\n",
      "        \n",
      "        Each line of the output that you create should contain one event.\n",
      "        There is no need to discuss priority of events.\n",
      "        If the query returned zero rows of JSONL data, then say \"You have no EVENT_TYPE events today/tomorrow/this week, etc.\"\n",
      "        \n"
     ]
    }
   ],
   "source": [
    "for line in agent.get_formatting_instructions().split( \"\\n\" ):\n",
    "    print( line )"
   ],
   "metadata": {
    "collapsed": false,
    "ExecuteTime": {
     "end_time": "2023-09-29T15:00:41.278330Z",
     "start_time": "2023-09-29T15:00:41.268386Z"
    }
   },
   "id": "a399a6c392b0abce"
  },
  {
   "cell_type": "code",
   "execution_count": 44,
   "outputs": [
    {
     "name": "stdout",
     "output_type": "stream",
     "text": [
      "Asking ChatGPT [gpt-3.5-turbo-0613]...\n",
      "Asking ChatGPT [gpt-3.5-turbo-0613]... in 6,304 ms\n"
     ]
    },
    {
     "data": {
      "text/plain": "\"You have a medium priority task to prepare a presentation for next week's meeting with your neighbor Juan. This task is scheduled from 12:01 PM to 4:55 PM today.\\n\\nYou have a low priority task to prepare a presentation for next week's meeting with your friend Pablo. This task is scheduled from 6:55 PM today to 5:58 AM tomorrow.\\n\\nYou have a medium priority task to renew your gym membership for your neighbor Juan. This task is scheduled from 4:58 PM today to 1:49 PM on the day after tomorrow.\""
     },
     "execution_count": 44,
     "metadata": {},
     "output_type": "execute_result"
    }
   ],
   "source": [
    "agent.format_output()"
   ],
   "metadata": {
    "collapsed": false,
    "ExecuteTime": {
     "end_time": "2023-09-29T15:00:49.357117Z",
     "start_time": "2023-09-29T15:00:43.045367Z"
    }
   },
   "id": "df1ecff5967d5cf2"
  },
  {
   "cell_type": "code",
   "execution_count": 45,
   "outputs": [
    {
     "name": "stdout",
     "output_type": "stream",
     "text": [
      "You have a medium priority task to prepare a presentation for next week's meeting with your neighbor Juan. This task is scheduled from 12:01 PM to 4:55 PM today.\n",
      "\n",
      "You have a low priority task to prepare a presentation for next week's meeting with your friend Pablo. This task is scheduled from 6:55 PM today to 5:58 AM tomorrow.\n",
      "\n",
      "You have a medium priority task to renew your gym membership for your neighbor Juan. This task is scheduled from 4:58 PM today to 1:49 PM on the day after tomorrow.\n"
     ]
    }
   ],
   "source": [
    "for line in agent.formatted_output.split( \"\\n\" ): \n",
    "    print( line )"
   ],
   "metadata": {
    "collapsed": false,
    "ExecuteTime": {
     "end_time": "2023-09-29T15:00:53.602716Z",
     "start_time": "2023-09-29T15:00:53.598255Z"
    }
   },
   "id": "21d2873963b8a960"
  },
  {
   "cell_type": "code",
   "execution_count": 4,
   "outputs": [
    {
     "data": {
      "text/plain": "['/Applications/PyCharm.app/Contents/plugins/python/helpers-pro/jupyter_debug',\n '/Applications/PyCharm.app/Contents/plugins/python/helpers/pydev',\n '/var/genie-in-the-box/src/notebooks',\n '/usr/local/lib/python310.zip',\n '/usr/local/lib/python3.10',\n '/usr/local/lib/python3.10/lib-dynload',\n '',\n '/usr/local/lib/python3.10/site-packages',\n '/var/genie-in-the-box/src']"
     },
     "execution_count": 4,
     "metadata": {},
     "output_type": "execute_result"
    }
   ],
   "source": [
    "path = \"/var/genie-in-the-box/src\"\n",
    "if path not in sys.path:\n",
    "    sys.path.append( path )\n",
    "    \n",
    "sys.path"
   ],
   "metadata": {
    "collapsed": false,
    "ExecuteTime": {
     "end_time": "2023-10-04T02:09:35.507475Z",
     "start_time": "2023-10-04T02:09:35.457901Z"
    }
   },
   "id": "c501420cfe32be2"
  },
  {
   "cell_type": "code",
   "execution_count": 6,
   "outputs": [
    {
     "name": "stdout",
     "output_type": "stream",
     "text": [
      "\n",
      "------------------------------------------------------------------------------------------------------------------------\n",
      "- Found [32] synonymous questions\n",
      "------------------------------------------------------------------------------------------------------------------------\n",
      "\n",
      "Synonymous question [when is juans birthday] for snapshot.question [when is juans birthday]\n",
      "Synonymous question [when was juan born] for snapshot.question [when is juans birthday]\n",
      "Synonymous question [what day is today] for snapshot.question [what day is today]\n",
      "Synonymous question [whats todays date] for snapshot.question [what day is today]\n",
      "Synonymous question [whats todays day and date] for snapshot.question [what day is today]\n",
      "Synonymous question [what is the day and date for today] for snapshot.question [what day is today]\n",
      "Synonymous question [whats the date] for snapshot.question [what day is today]\n",
      "Synonymous question [say what day is today] for snapshot.question [what day is today]\n",
      "Synonymous question [hey what day is today] for snapshot.question [what day is today]\n",
      "Synonymous question [whats todays day] for snapshot.question [what day is today]\n",
      "Synonymous question [what day is it] for snapshot.question [what day is today]\n",
      "Synonymous question [what time is it] for snapshot.question [what time is it]\n",
      "Synonymous question [got the time] for snapshot.question [what time is it]\n",
      "Synonymous question [whats the time] for snapshot.question [what time is it]\n",
      "Synonymous question [yo what time is it] for snapshot.question [what time is it]\n",
      "Synonymous question [hey you got the time] for snapshot.question [what time is it]\n",
      "Synonymous question [hey you what time is it] for snapshot.question [what time is it]\n",
      "Synonymous question [hey what time is it] for snapshot.question [what time is it]\n",
      "Synonymous question [when is anitas birthday] for snapshot.question [when is anitas birthday]\n",
      "Synonymous question [when is jimmys birthday] for snapshot.question [when is jimmys birthday]\n",
      "Synonymous question [when was jimmy born] for snapshot.question [when is jimmys birthday]\n",
      "Synonymous question [what birthdays do i have this week] for snapshot.question [what birthdays do i have this week]\n",
      "Synonymous question [how many records in this dataframe] for snapshot.question [how many records in this dataframe]\n",
      "Synonymous question [how many rows in this table] for snapshot.question [how many records in this dataframe]\n",
      "Synonymous question [how many records in this table] for snapshot.question [how many records in this dataframe]\n",
      "Synonymous question [how many records in this csv file] for snapshot.question [how many records in this dataframe]\n",
      "Synonymous question [how many records in that table] for snapshot.question [how many records in this dataframe]\n",
      "Synonymous question [how many rows in that data frame] for snapshot.question [how many records in this dataframe]\n",
      "Synonymous question [how many records in that database] for snapshot.question [how many records in this dataframe]\n",
      "Synonymous question [how many records do i have in that table] for snapshot.question [how many records in this dataframe]\n",
      "Synonymous question [What concerts do I have this week?] for snapshot.question [what concerts do i have this week]\n",
      "Synonymous question [what concerts do i have this week] for snapshot.question [what concerts do i have this week]\n",
      "\n",
      "Loading question embeddings dictionary ..................................................................... Done!\n",
      "\n",
      "Code similarity score [99.99998363078215] for [what concerts do i have this wee...] == [what concerts do i have this wee...]\n",
      "Code similarity score [93.02580949890351] for [what concerts do i have this wee...] == [what birthdays do i have this we...]\n"
     ]
    }
   ],
   "source": [
    "import solution_snapshot_mgr as ssm\n",
    "import lib.util              as du\n",
    "\n",
    "path_to_snapshots = du.get_project_root() + \"/src/conf/long-term-memory/solutions/\"\n",
    "snapshot_mgr = ssm.SolutionSnapshotManager( path_to_snapshots, debug=False )\n",
    "# print( snapshot_mgr )\n",
    "\n",
    "snapshot = snapshot_mgr.get_snapshots_by_question( \"What concerts do I have this week?\" )[ 0 ][ 1 ]\n",
    "\n",
    "similar_snapshots = snapshot_mgr.get_snapshots_by_code_similarity( snapshot.question, snapshot.code, snapshot.code_embedding, threshold=90.0, limit=-1 )"
   ],
   "metadata": {
    "collapsed": false,
    "ExecuteTime": {
     "end_time": "2023-10-04T02:10:08.657795Z",
     "start_time": "2023-10-04T02:10:08.617350Z"
    }
   },
   "id": "aba56569b5ba169e"
  },
  {
   "cell_type": "code",
   "execution_count": 21,
   "outputs": [
    {
     "name": "stdout",
     "output_type": "stream",
     "text": [
      "Snippet 1: \n",
      "\n",
      "df['start_date'] = pd.to_datetime(df['start_date'])\n",
      "df['end_date'] = pd.to_datetime(df['end_date'])\n",
      "now = pd.Timestamp.now()\n",
      "start_of_week = now - pd.to_timedelta(now.dayofweek, unit='d')\n",
      "end_of_week = start_of_week + pd.to_timedelta(6, unit='d')\n",
      "solution = df[(df['event_type'] == 'Concert') & (df['start_date'] <= end_of_week) & (df['end_date'] >= start_of_week)]\n",
      "print( solution.to_json( orient='records', lines=True ) )\n",
      "\n",
      "Snippet 2: \n",
      "\n",
      "import pandas as pd\n",
      "from datetime import datetime, timedelta\n",
      "start_of_week = pd.Timestamp(datetime.now().date() - timedelta(days=datetime.now().weekday()))\n",
      "end_of_week = start_of_week + pd.DateOffset(days=6)\n",
      "birthday_mask = df['event_type'] == 'Birthday'\n",
      "date_mask = (df['start_date'] <= end_of_week) & (df['end_date'] >= start_of_week)\n",
      "solution = df[birthday_mask & date_mask]\n",
      "print( solution.to_json( orient='records', lines=True ) )\n"
     ]
    }
   ],
   "source": [
    "snippets = []\n",
    "i = 1\n",
    "for snapshot in similar_snapshots:    \n",
    "    snippet = \"\\n\".join( snapshot[ 1 ].code ) \n",
    "    snippet = f\"Snippet {i}: \\n\\n{snippet}\"\n",
    "    print( snippet, end=\"\\n\\n\" )\n",
    "    snippets.append( snippet )\n",
    "    i += 1\n",
    "    \n",
    "snippets_string = \"\\n\\n\".join( snippets )    "
   ],
   "metadata": {
    "collapsed": false,
    "ExecuteTime": {
     "end_time": "2023-10-04T02:33:06.713078Z",
     "start_time": "2023-10-04T02:33:06.686342Z"
    }
   },
   "id": "c300d8da04de6068"
  },
  {
   "cell_type": "code",
   "execution_count": 37,
   "outputs": [
    {
     "name": "stdout",
     "output_type": "stream",
     "text": [
      "\n",
      "I'm going to show you 2 Python code snippets that are similar. How would you coalesce or refactor them so that you only need to run one code snippet for all 2 scenarios?\n",
      "\n",
      "As you generate the python code needed to answer this question, I want you to:\n",
      "\n",
      "1) Think: Before you do anything, think out loud about what I'm asking you to do, including the steps that you will need to take to solve this problem. Be critical of your thought process!\n",
      "2) Code: Generate a verbatim list of code that you used to arrive at your answer, one line of code per item on the list. The code must be complete, syntactically correct, and capable of running to completion. \n",
      "3) Return: Report on the object type returned by your last line of code. Use one word to represent the object type.\n",
      "4) Test: Generate a verbatim list of code needed to test your code solution\n",
      "5) Explain: Briefly and succinctly explain your code in plain English.\n",
      "\n",
      "Format: return your response as a JSON object in the following fields:\n",
      "{\n",
      "    \"thoughts\": \"Your thoughts\",\n",
      "    \"code\": [],\n",
      "    \"returns\": \"Object type of the variable `solution`\",\n",
      "    \"tests\": []\n",
      "    \"explanation\": \"A brief explanation of your code\",\n",
      "    \"error\": \"Verbatim stack trace or description of issues encountered while attempting to carry out this task.\"\n",
      "}\n",
      "\n",
      "Snippet 1: \n",
      "\n",
      "df['start_date'] = pd.to_datetime(df['start_date'])\n",
      "df['end_date'] = pd.to_datetime(df['end_date'])\n",
      "now = pd.Timestamp.now()\n",
      "start_of_week = now - pd.to_timedelta(now.dayofweek, unit='d')\n",
      "end_of_week = start_of_week + pd.to_timedelta(6, unit='d')\n",
      "solution = df[(df['event_type'] == 'Concert') & (df['start_date'] <= end_of_week) & (df['end_date'] >= start_of_week)]\n",
      "print( solution.to_json( orient='records', lines=True ) )\n",
      "\n",
      "Snippet 2: \n",
      "\n",
      "import pandas as pd\n",
      "from datetime import datetime, timedelta\n",
      "start_of_week = pd.Timestamp(datetime.now().date() - timedelta(days=datetime.now().weekday()))\n",
      "end_of_week = start_of_week + pd.DateOffset(days=6)\n",
      "birthday_mask = df['event_type'] == 'Birthday'\n",
      "date_mask = (df['start_date'] <= end_of_week) & (df['end_date'] >= start_of_week)\n",
      "solution = df[birthday_mask & date_mask]\n",
      "print( solution.to_json( orient='records', lines=True ) )\n",
      "\n",
      "Begin!\n"
     ]
    }
   ],
   "source": [
    "system_message = f\"\"\"\n",
    "I'm going to show you {len( snippets )} Python code snippets that are similar. How would you coalesce or refactor them so that you only need to run one code snippet for all {len( snippets )} scenarios?\n",
    "\n",
    "As you generate the python code needed to answer this question, I want you to:\n",
    "\n",
    "1) Think: Before you do anything, think out loud about what I'm asking you to do, including the steps that you will need to take to solve this problem. Be critical of your thought process!\n",
    "2) Code: Generate a verbatim list of code that you used to arrive at your answer, one line of code per item on the list. The code must be complete, syntactically correct, and capable of running to completion. \n",
    "3) Return: Report on the object type returned by your last line of code. Use one word to represent the object type.\n",
    "4) Test: Generate a verbatim list of code needed to test your code solution\n",
    "5) Explain: Briefly and succinctly explain your code in plain English.\n",
    "\n",
    "Format: return your response as a JSON object in the following fields:\n",
    "{{\n",
    "    \"thoughts\": \"Your thoughts\",\n",
    "    \"code\": [],\n",
    "    \"returns\": \"Object type of the variable `solution`\",\n",
    "    \"tests\": []\n",
    "    \"explanation\": \"A brief explanation of your code\",\n",
    "    \"error\": \"Verbatim stack trace or description of issues encountered while attempting to carry out this task.\"\n",
    "}}\"\"\"\n",
    "user_message = f\"\"\"\n",
    "{snippets_string}\n",
    "\n",
    "Begin!\n",
    "\"\"\"\n",
    "\n",
    "for line in system_message.split( \"\\n\" ):\n",
    "    print( line )\n",
    "    \n",
    "for line in user_message.split( \"\\n\" ):\n",
    "    print( line )"
   ],
   "metadata": {
    "collapsed": false,
    "ExecuteTime": {
     "end_time": "2023-10-04T02:52:50.782166Z",
     "start_time": "2023-10-04T02:52:50.749710Z"
    }
   },
   "id": "2e62c83e9d94bfb7"
  },
  {
   "cell_type": "code",
   "execution_count": 38,
   "outputs": [
    {
     "name": "stdout",
     "output_type": "stream",
     "text": [
      "Asking ChatGPT [gpt-4-0613]...\n",
      "Asking ChatGPT [gpt-4-0613]... in 32,907 ms\n",
      "\n",
      "{\n",
      "    \"id\": \"chatcmpl-85mITKkUJcx85SLh26k9341VuC4ht\",\n",
      "    \"object\": \"chat.completion\",\n",
      "    \"created\": 1696387985,\n",
      "    \"model\": \"gpt-4-0613\",\n",
      "    \"choices\": [\n",
      "        {\n",
      "            \"index\": 0,\n",
      "            \"message\": {\n",
      "                \"role\": \"assistant\",\n",
      "                \"content\": \"{\\n    \\\"thoughts\\\": \\\"The two snippets are doing similar operations but with different event types. The first snippet is filtering the dataframe for 'Concert' events that are happening within the current week. The second snippet is doing the same but for 'Birthday' events. The main difference is in how they calculate the start and end of the week. The first snippet uses pandas' to_timedelta function while the second uses datetime's timedelta. I can refactor the code by creating a function that takes the event type as a parameter and uses one method to calculate the start and end of the week.\\\",\\n    \\\"code\\\": [\\n        \\\"import pandas as pd\\\",\\n        \\\"from datetime import datetime, timedelta\\\",\\n        \\\"def filter_events(df, event_type):\\\",\\n        \\\"    now = pd.Timestamp.now()\\\",\\n        \\\"    start_of_week = now - pd.to_timedelta(now.dayofweek, unit='d')\\\",\\n        \\\"    end_of_week = start_of_week + pd.to_timedelta(6, unit='d')\\\",\\n        \\\"    event_mask = df['event_type'] == event_type\\\",\\n        \\\"    date_mask = (df['start_date'] <= end_of_week) & (df['end_date'] >= start_of_week)\\\",\\n        \\\"    solution = df[event_mask & date_mask]\\\",\\n        \\\"    return solution.to_json(orient='records', lines=True)\\\"\\n    ],\\n    \\\"returns\\\": \\\"str\\\",\\n    \\\"tests\\\": [\\n        \\\"df = pd.DataFrame({'event_type': ['Concert', 'Birthday', 'Concert', 'Birthday'], 'start_date': ['2022-01-03', '2022-01-04', '2022-01-05', '2022-01-06'], 'end_date': ['2022-01-07', '2022-01-08', '2022-01-09', '2022-01-10']})\\\",\\n        \\\"df['start_date'] = pd.to_datetime(df['start_date'])\\\",\\n        \\\"df['end_date'] = pd.to_datetime(df['end_date'])\\\",\\n        \\\"print(filter_events(df, 'Concert'))\\\",\\n        \\\"print(filter_events(df, 'Birthday'))\\\"\\n    ],\\n    \\\"explanation\\\": \\\"The code defines a function filter_events that takes a dataframe and an event type as parameters. It calculates the start and end of the current week using pandas' to_timedelta function. It then creates a mask for the event type and a mask for the date range. It filters the dataframe using these masks and returns the filtered dataframe as a JSON string.\\\",\\n    \\\"error\\\": \\\"\\\"\\n}\"\n",
      "            },\n",
      "            \"finish_reason\": \"stop\"\n",
      "        }\n",
      "    ],\n",
      "    \"usage\": {\n",
      "        \"prompt_tokens\": 548,\n",
      "        \"completion_tokens\": 532,\n",
      "        \"total_tokens\": 1080\n",
      "    }\n",
      "}\n"
     ]
    },
    {
     "data": {
      "text/plain": "'{\\n    \"thoughts\": \"The two snippets are doing similar operations but with different event types. The first snippet is filtering the dataframe for \\'Concert\\' events that are happening within the current week. The second snippet is doing the same but for \\'Birthday\\' events. The main difference is in how they calculate the start and end of the week. The first snippet uses pandas\\' to_timedelta function while the second uses datetime\\'s timedelta. I can refactor the code by creating a function that takes the event type as a parameter and uses one method to calculate the start and end of the week.\",\\n    \"code\": [\\n        \"import pandas as pd\",\\n        \"from datetime import datetime, timedelta\",\\n        \"def filter_events(df, event_type):\",\\n        \"    now = pd.Timestamp.now()\",\\n        \"    start_of_week = now - pd.to_timedelta(now.dayofweek, unit=\\'d\\')\",\\n        \"    end_of_week = start_of_week + pd.to_timedelta(6, unit=\\'d\\')\",\\n        \"    event_mask = df[\\'event_type\\'] == event_type\",\\n        \"    date_mask = (df[\\'start_date\\'] <= end_of_week) & (df[\\'end_date\\'] >= start_of_week)\",\\n        \"    solution = df[event_mask & date_mask]\",\\n        \"    return solution.to_json(orient=\\'records\\', lines=True)\"\\n    ],\\n    \"returns\": \"str\",\\n    \"tests\": [\\n        \"df = pd.DataFrame({\\'event_type\\': [\\'Concert\\', \\'Birthday\\', \\'Concert\\', \\'Birthday\\'], \\'start_date\\': [\\'2022-01-03\\', \\'2022-01-04\\', \\'2022-01-05\\', \\'2022-01-06\\'], \\'end_date\\': [\\'2022-01-07\\', \\'2022-01-08\\', \\'2022-01-09\\', \\'2022-01-10\\']})\",\\n        \"df[\\'start_date\\'] = pd.to_datetime(df[\\'start_date\\'])\",\\n        \"df[\\'end_date\\'] = pd.to_datetime(df[\\'end_date\\'])\",\\n        \"print(filter_events(df, \\'Concert\\'))\",\\n        \"print(filter_events(df, \\'Birthday\\'))\"\\n    ],\\n    \"explanation\": \"The code defines a function filter_events that takes a dataframe and an event type as parameters. It calculates the start and end of the current week using pandas\\' to_timedelta function. It then creates a mask for the event type and a mask for the date range. It filters the dataframe using these masks and returns the filtered dataframe as a JSON string.\",\\n    \"error\": \"\"\\n}'"
     },
     "execution_count": 38,
     "metadata": {},
     "output_type": "execute_result"
    }
   ],
   "source": [
    "import os \n",
    "import json\n",
    "import openai\n",
    "import lib.util_stopwatch as sw\n",
    "\n",
    "GPT_4   = \"gpt-4-0613\"\n",
    "GPT_3_5 = \"gpt-3.5-turbo-0613\"\n",
    "\n",
    "def query_gpt( preamble, query, model=GPT_4, debug=False ):\n",
    "    \n",
    "    openai.api_key = os.getenv( \"FALSE_POSITIVE_API_KEY\" )\n",
    "    \n",
    "    if debug:\n",
    "        timer = sw.Stopwatch( msg=f\"Asking ChatGPT [{model}]...\".format( model ) )\n",
    "    \n",
    "    response = openai.ChatCompletion.create(\n",
    "        model=model,\n",
    "        messages=[\n",
    "            { \"role\": \"system\", \"content\": preamble },\n",
    "            { \"role\": \"user\", \"content\": query }\n",
    "        ],\n",
    "        temperature=0,\n",
    "        max_tokens=2000,\n",
    "        top_p=1.0,\n",
    "        frequency_penalty=0.0,\n",
    "        presence_penalty=0.0\n",
    "    )\n",
    "    if debug:\n",
    "        timer.print( use_millis=True )\n",
    "        print( json.dumps( response, indent=4 ) )\n",
    "    \n",
    "    return response[ \"choices\" ][ 0 ][ \"message\" ][ \"content\" ].strip()\n",
    "\n",
    "response = query_gpt( system_message, user_message, debug=True )\n",
    "response"
   ],
   "metadata": {
    "collapsed": false,
    "ExecuteTime": {
     "end_time": "2023-10-04T02:53:38.412714Z",
     "start_time": "2023-10-04T02:53:05.501785Z"
    }
   },
   "id": "b7c0802ce683d053"
  },
  {
   "cell_type": "code",
   "execution_count": 39,
   "outputs": [
    {
     "data": {
      "text/plain": "{'thoughts': \"The two snippets are doing similar operations but with different event types. The first snippet is filtering the dataframe for 'Concert' events that are happening within the current week. The second snippet is doing the same but for 'Birthday' events. The main difference is in how they calculate the start and end of the week. The first snippet uses pandas' to_timedelta function while the second uses datetime's timedelta. I can refactor the code by creating a function that takes the event type as a parameter and uses one method to calculate the start and end of the week.\",\n 'code': ['import pandas as pd',\n  'from datetime import datetime, timedelta',\n  'def filter_events(df, event_type):',\n  '    now = pd.Timestamp.now()',\n  \"    start_of_week = now - pd.to_timedelta(now.dayofweek, unit='d')\",\n  \"    end_of_week = start_of_week + pd.to_timedelta(6, unit='d')\",\n  \"    event_mask = df['event_type'] == event_type\",\n  \"    date_mask = (df['start_date'] <= end_of_week) & (df['end_date'] >= start_of_week)\",\n  '    solution = df[event_mask & date_mask]',\n  \"    return solution.to_json(orient='records', lines=True)\"],\n 'returns': 'str',\n 'tests': [\"df = pd.DataFrame({'event_type': ['Concert', 'Birthday', 'Concert', 'Birthday'], 'start_date': ['2022-01-03', '2022-01-04', '2022-01-05', '2022-01-06'], 'end_date': ['2022-01-07', '2022-01-08', '2022-01-09', '2022-01-10']})\",\n  \"df['start_date'] = pd.to_datetime(df['start_date'])\",\n  \"df['end_date'] = pd.to_datetime(df['end_date'])\",\n  \"print(filter_events(df, 'Concert'))\",\n  \"print(filter_events(df, 'Birthday'))\"],\n 'explanation': \"The code defines a function filter_events that takes a dataframe and an event type as parameters. It calculates the start and end of the current week using pandas' to_timedelta function. It then creates a mask for the event type and a mask for the date range. It filters the dataframe using these masks and returns the filtered dataframe as a JSON string.\",\n 'error': ''}"
     },
     "execution_count": 39,
     "metadata": {},
     "output_type": "execute_result"
    }
   ],
   "source": [
    "response_dict = json.loads( response )\n",
    "response_dict\n"
   ],
   "metadata": {
    "collapsed": false,
    "ExecuteTime": {
     "end_time": "2023-10-04T02:53:38.423004Z",
     "start_time": "2023-10-04T02:53:38.414696Z"
    }
   },
   "id": "6ea98871df657c00"
  },
  {
   "cell_type": "code",
   "execution_count": 40,
   "outputs": [
    {
     "name": "stdout",
     "output_type": "stream",
     "text": [
      "import pandas as pd\n",
      "from datetime import datetime, timedelta\n",
      "def filter_events(df, event_type):\n",
      "    now = pd.Timestamp.now()\n",
      "    start_of_week = now - pd.to_timedelta(now.dayofweek, unit='d')\n",
      "    end_of_week = start_of_week + pd.to_timedelta(6, unit='d')\n",
      "    event_mask = df['event_type'] == event_type\n",
      "    date_mask = (df['start_date'] <= end_of_week) & (df['end_date'] >= start_of_week)\n",
      "    solution = df[event_mask & date_mask]\n",
      "    return solution.to_json(orient='records', lines=True)\n"
     ]
    }
   ],
   "source": [
    "for line in response_dict[ \"code\" ]: print( line )"
   ],
   "metadata": {
    "collapsed": false,
    "ExecuteTime": {
     "end_time": "2023-10-04T02:57:28.835479Z",
     "start_time": "2023-10-04T02:57:28.773101Z"
    }
   },
   "id": "a67a7a4e6bcadf8e"
  },
  {
   "cell_type": "code",
   "execution_count": 42,
   "outputs": [],
   "source": [
    "import pandas as pd\n",
    "from datetime import datetime, timedelta\n",
    "def filter_events(df, event_type):\n",
    "    now = pd.Timestamp.now()\n",
    "    start_of_week = now - pd.to_timedelta(now.dayofweek, unit='d')\n",
    "    end_of_week = start_of_week + pd.to_timedelta(6, unit='d')\n",
    "    event_mask = df['event_type'] == event_type\n",
    "    date_mask = (df['start_date'] <= end_of_week) & (df['end_date'] >= start_of_week)\n",
    "    solution = df[event_mask & date_mask]\n",
    "    return solution.to_json(orient='records', lines=True)"
   ],
   "metadata": {
    "collapsed": false,
    "ExecuteTime": {
     "end_time": "2023-10-04T02:58:15.655116Z",
     "start_time": "2023-10-04T02:58:15.494790Z"
    }
   },
   "id": "a387c6f70e95b329"
  },
  {
   "cell_type": "code",
   "execution_count": 43,
   "outputs": [
    {
     "name": "stdout",
     "output_type": "stream",
     "text": [
      "df = pd.DataFrame({'event_type': ['Concert', 'Birthday', 'Concert', 'Birthday'], 'start_date': ['2022-01-03', '2022-01-04', '2022-01-05', '2022-01-06'], 'end_date': ['2022-01-07', '2022-01-08', '2022-01-09', '2022-01-10']})\n",
      "df['start_date'] = pd.to_datetime(df['start_date'])\n",
      "df['end_date'] = pd.to_datetime(df['end_date'])\n",
      "print(filter_events(df, 'Concert'))\n",
      "print(filter_events(df, 'Birthday'))\n"
     ]
    }
   ],
   "source": [
    "for line in response_dict[ \"tests\" ]: print( line )"
   ],
   "metadata": {
    "collapsed": false,
    "ExecuteTime": {
     "end_time": "2023-10-04T02:58:17.237160Z",
     "start_time": "2023-10-04T02:58:17.228447Z"
    }
   },
   "id": "fc474aebd9af869a"
  },
  {
   "cell_type": "code",
   "execution_count": 53,
   "outputs": [
    {
     "name": "stdout",
     "output_type": "stream",
     "text": [
      "{\"event_type\":\"Concert\",\"start_date\":1696118400000,\"end_date\":1696636800000}\n",
      "{\"event_type\":\"Concert\",\"start_date\":1696291200000,\"end_date\":1696809600000}\n",
      "\n",
      "{\"event_type\":\"Birthday\",\"start_date\":1696204800000,\"end_date\":1696723200000}\n",
      "{\"event_type\":\"Birthday\",\"start_date\":1696291200000,\"end_date\":1696896000000}\n"
     ]
    }
   ],
   "source": [
    "df = pd.DataFrame({'event_type': ['Concert', 'Birthday', 'Concert', 'Birthday'], 'start_date': ['2023-10-01', '2023-10-02', '2023-10-03', '2023-10-03'], 'end_date': ['2023-10-07', '2023-10-08', '2023-10-09', '2023-10-10']})\n",
    "df['start_date'] = pd.to_datetime(df['start_date'])\n",
    "df['end_date'] = pd.to_datetime(df['end_date'])\n",
    "print(filter_events(df, 'Concert'))\n",
    "print(filter_events(df, 'Birthday'))"
   ],
   "metadata": {
    "collapsed": false,
    "ExecuteTime": {
     "end_time": "2023-10-04T03:02:50.765792Z",
     "start_time": "2023-10-04T03:02:50.731164Z"
    }
   },
   "id": "5b59b684002cc78a"
  },
  {
   "cell_type": "code",
   "execution_count": 54,
   "outputs": [
    {
     "data": {
      "text/plain": "  event_type start_date   end_date\n0    Concert 2023-10-01 2023-10-07\n1   Birthday 2023-10-02 2023-10-08\n2    Concert 2023-10-03 2023-10-09\n3   Birthday 2023-10-03 2023-10-10",
      "text/html": "<div>\n<style scoped>\n    .dataframe tbody tr th:only-of-type {\n        vertical-align: middle;\n    }\n\n    .dataframe tbody tr th {\n        vertical-align: top;\n    }\n\n    .dataframe thead th {\n        text-align: right;\n    }\n</style>\n<table border=\"1\" class=\"dataframe\">\n  <thead>\n    <tr style=\"text-align: right;\">\n      <th></th>\n      <th>event_type</th>\n      <th>start_date</th>\n      <th>end_date</th>\n    </tr>\n  </thead>\n  <tbody>\n    <tr>\n      <th>0</th>\n      <td>Concert</td>\n      <td>2023-10-01</td>\n      <td>2023-10-07</td>\n    </tr>\n    <tr>\n      <th>1</th>\n      <td>Birthday</td>\n      <td>2023-10-02</td>\n      <td>2023-10-08</td>\n    </tr>\n    <tr>\n      <th>2</th>\n      <td>Concert</td>\n      <td>2023-10-03</td>\n      <td>2023-10-09</td>\n    </tr>\n    <tr>\n      <th>3</th>\n      <td>Birthday</td>\n      <td>2023-10-03</td>\n      <td>2023-10-10</td>\n    </tr>\n  </tbody>\n</table>\n</div>"
     },
     "execution_count": 54,
     "metadata": {},
     "output_type": "execute_result"
    }
   ],
   "source": [
    "df"
   ],
   "metadata": {
    "collapsed": false,
    "ExecuteTime": {
     "end_time": "2023-10-04T03:02:59.773434Z",
     "start_time": "2023-10-04T03:02:59.769106Z"
    }
   },
   "id": "618dec093214ef4c"
  },
  {
   "cell_type": "code",
   "execution_count": 55,
   "outputs": [
    {
     "name": "stdout",
     "output_type": "stream",
     "text": [
      "{\"event_type\":\"Birthday\",\"start_date\":1696204800000,\"end_date\":1696723200000}\n",
      "{\"event_type\":\"Birthday\",\"start_date\":1696291200000,\"end_date\":1696896000000}\n"
     ]
    }
   ],
   "source": [
    "for line in filter_events(df, 'Birthday').split( \"\\n\" ): print( line )"
   ],
   "metadata": {
    "collapsed": false,
    "ExecuteTime": {
     "end_time": "2023-10-04T03:03:02.799406Z",
     "start_time": "2023-10-04T03:03:02.788221Z"
    }
   },
   "id": "681829a685a12164"
  },
  {
   "cell_type": "code",
   "execution_count": 4,
   "outputs": [
    {
     "name": "stdout",
     "output_type": "stream",
     "text": [
      "pwd [/var/genie-in-the-box/src/notebooks]\n",
      "\n",
      "/Applications/PyCharm.app/Contents/plugins/python/helpers-pro/jupyter_debug\n",
      "/Applications/PyCharm.app/Contents/plugins/python/helpers/pydev\n",
      "/usr/local/lib/python3.10\n",
      "/usr/local/lib/python3.10/lib-dynload\n",
      "/usr/local/lib/python3.10/site-packages\n",
      "/usr/local/lib/python310.zip\n",
      "/var/genie-in-the-box/src\n",
      "/var/genie-in-the-box/src/lib\n",
      "/var/genie-in-the-box/src/notebooks\n"
     ]
    }
   ],
   "source": [
    "from solution_snapshot_mgr import SolutionSnapshotManager\n",
    "from agent_refactoring     import RefactoringAgent"
   ],
   "metadata": {
    "collapsed": false,
    "ExecuteTime": {
     "end_time": "2023-10-05T15:25:25.104926Z",
     "start_time": "2023-10-05T15:25:25.000030Z"
    }
   },
   "id": "9b9de1037797d123"
  },
  {
   "cell_type": "code",
   "execution_count": 113,
   "outputs": [
    {
     "name": "stdout",
     "output_type": "stream",
     "text": [
      "\n",
      "------------------------------------------------------------------------------------------------------------------------\n",
      "- Found [32] synonymous questions\n",
      "------------------------------------------------------------------------------------------------------------------------\n",
      "\n",
      "Synonymous question [when is juans birthday] for snapshot.question [when is juans birthday]\n",
      "Synonymous question [when was juan born] for snapshot.question [when is juans birthday]\n",
      "Synonymous question [what day is today] for snapshot.question [what day is today]\n",
      "Synonymous question [whats todays date] for snapshot.question [what day is today]\n",
      "Synonymous question [whats todays day and date] for snapshot.question [what day is today]\n",
      "Synonymous question [what is the day and date for today] for snapshot.question [what day is today]\n",
      "Synonymous question [whats the date] for snapshot.question [what day is today]\n",
      "Synonymous question [say what day is today] for snapshot.question [what day is today]\n",
      "Synonymous question [hey what day is today] for snapshot.question [what day is today]\n",
      "Synonymous question [whats todays day] for snapshot.question [what day is today]\n",
      "Synonymous question [what day is it] for snapshot.question [what day is today]\n",
      "Synonymous question [what time is it] for snapshot.question [what time is it]\n",
      "Synonymous question [got the time] for snapshot.question [what time is it]\n",
      "Synonymous question [whats the time] for snapshot.question [what time is it]\n",
      "Synonymous question [yo what time is it] for snapshot.question [what time is it]\n",
      "Synonymous question [hey you got the time] for snapshot.question [what time is it]\n",
      "Synonymous question [hey you what time is it] for snapshot.question [what time is it]\n",
      "Synonymous question [hey what time is it] for snapshot.question [what time is it]\n",
      "Synonymous question [when is anitas birthday] for snapshot.question [when is anitas birthday]\n",
      "Synonymous question [when is jimmys birthday] for snapshot.question [when is jimmys birthday]\n",
      "Synonymous question [when was jimmy born] for snapshot.question [when is jimmys birthday]\n",
      "Synonymous question [what birthdays do i have this week] for snapshot.question [what birthdays do i have this week]\n",
      "Synonymous question [how many records in this dataframe] for snapshot.question [how many records in this dataframe]\n",
      "Synonymous question [how many rows in this table] for snapshot.question [how many records in this dataframe]\n",
      "Synonymous question [how many records in this table] for snapshot.question [how many records in this dataframe]\n",
      "Synonymous question [how many records in this csv file] for snapshot.question [how many records in this dataframe]\n",
      "Synonymous question [how many records in that table] for snapshot.question [how many records in this dataframe]\n",
      "Synonymous question [how many rows in that data frame] for snapshot.question [how many records in this dataframe]\n",
      "Synonymous question [how many records in that database] for snapshot.question [how many records in this dataframe]\n",
      "Synonymous question [how many records do i have in that table] for snapshot.question [how many records in this dataframe]\n",
      "Synonymous question [What concerts do I have this week?] for snapshot.question [what concerts do i have this week]\n",
      "Synonymous question [what concerts do i have this week] for snapshot.question [what concerts do i have this week]\n",
      "\n",
      "Loading question embeddings dictionary ..................................................................... Done!\n",
      "\n",
      "Code similarity score [99.99998363078215] for [what concerts do i have this wee...] == [what concerts do i have this wee...]\n",
      "Code similarity score [93.02580949890351] for [what concerts do i have this wee...] == [what birthdays do i have this we...]\n",
      "Snippet 1 for question `what concerts do i have this week`: \n",
      "\n",
      "df['start_date'] = pd.to_datetime(df['start_date'])\n",
      "df['end_date'] = pd.to_datetime(df['end_date'])\n",
      "now = pd.Timestamp.now()\n",
      "start_of_week = now - pd.to_timedelta(now.dayofweek, unit='d')\n",
      "end_of_week = start_of_week + pd.to_timedelta(6, unit='d')\n",
      "solution = df[(df['event_type'] == 'Concert') & (df['start_date'] <= end_of_week) & (df['end_date'] >= start_of_week)]\n",
      "print( solution.to_json( orient='records', lines=True ) )\n",
      "\n",
      "Snippet 2 for question `what birthdays do i have this week`: \n",
      "\n",
      "import pandas as pd\n",
      "from datetime import datetime, timedelta\n",
      "start_of_week = pd.Timestamp(datetime.now().date() - timedelta(days=datetime.now().weekday()))\n",
      "end_of_week = start_of_week + pd.DateOffset(days=6)\n",
      "birthday_mask = df['event_type'] == 'Birthday'\n",
      "date_mask = (df['start_date'] <= end_of_week) & (df['end_date'] >= start_of_week)\n",
      "solution = df[birthday_mask & date_mask]\n",
      "print( solution.to_json( orient='records', lines=True ) )\n",
      "\n",
      "\n",
      "------------------------------------------------------------------------------------------------------------------------\n",
      "- Token count for self.system_message: [501]\n",
      "------------------------------------------------------------------------------------------------------------------------\n",
      "\n",
      "\n",
      "        I'm going to show you 2 Python code snippets that are similar, along with the questions they were created to answer.\n",
      "        How would you coalesce or refactor them so that you only need to call one function in all 2 scenarios?\n",
      "        How would you name the function in a way that clearly explains exactly what the function does?\n",
      "        Descriptive function names look like: `get_birthday_by_name`, or `get_birthdays_by_day`, `get_events_by_week_and_type`,`get_events_by_day_and_type`, etc.,\n",
      "\n",
      "        As you generate the Python 3.10 code needed to answer this question, I want you to:\n",
      "\n",
      "        1) Think: Before you do anything, think out loud about what I'm asking you to do, including the steps that you will need to take to solve this problem.\n",
      "        Be critical of your thought process! How will you handle the edge cases? For example, what will you do if your query does not return a result?\n",
      "        2) Code: Generate a verbatim list of code that you used to arrive at your answer, one line of code per item on the list. The code must be complete,\n",
      "        syntactically correct, and capable of running to completion. You must allow for the possibility that your query may not return a result.\n",
      "        3) Return: Report on the object type returned by your last line of code. Use one word to represent the object type.\n",
      "        4) Generate examples: Generate a dictionary containing the code examples needed to call the function you created, one line of code per question provided.\n",
      "        The example function calls must be complete, syntactically correct, and capable of running to completion. Each example must be wrapped in a print statement.\n",
      "        5) Explain: Briefly and succinctly explain your code in plain English.\n",
      "\n",
      "        Format: return your response as a JSON object in the following fields:\n",
      "        {\n",
      "            \"thoughts\": \"Your thoughts\",\n",
      "            \"code\": [],\n",
      "            \"function_name\": \"The name of your function\",\n",
      "            \"returns\": \"Object type of the variable `solution`\",\n",
      "            \"examples\": {}, a dictionary containing the questions and example code, one line of code per question provided.\n",
      "            \"python_version\": \"3.10\",\n",
      "            \"explanation\": \"A brief explanation of your code\",\n",
      "            \"error\": \"Verbatim stack trace or description of issues encountered while attempting to carry out this task.\"\n",
      "        }\n",
      "\n",
      "------------------------------------------------------------------------------------------------------------------------\n",
      "- Token count for self.user_message: [269]\n",
      "------------------------------------------------------------------------------------------------------------------------\n",
      "\n",
      "\n",
      "        Snippet 1 for question `what concerts do i have this week`: \n",
      "\n",
      "df['start_date'] = pd.to_datetime(df['start_date'])\n",
      "df['end_date'] = pd.to_datetime(df['end_date'])\n",
      "now = pd.Timestamp.now()\n",
      "start_of_week = now - pd.to_timedelta(now.dayofweek, unit='d')\n",
      "end_of_week = start_of_week + pd.to_timedelta(6, unit='d')\n",
      "solution = df[(df['event_type'] == 'Concert') & (df['start_date'] <= end_of_week) & (df['end_date'] >= start_of_week)]\n",
      "print( solution.to_json( orient='records', lines=True ) )\n",
      "\n",
      "Snippet 2 for question `what birthdays do i have this week`: \n",
      "\n",
      "import pandas as pd\n",
      "from datetime import datetime, timedelta\n",
      "start_of_week = pd.Timestamp(datetime.now().date() - timedelta(days=datetime.now().weekday()))\n",
      "end_of_week = start_of_week + pd.DateOffset(days=6)\n",
      "birthday_mask = df['event_type'] == 'Birthday'\n",
      "date_mask = (df['start_date'] <= end_of_week) & (df['end_date'] >= start_of_week)\n",
      "solution = df[birthday_mask & date_mask]\n",
      "print( solution.to_json( orient='records', lines=True ) )\n",
      "\n",
      "        Begin!\n",
      "        \n",
      "Asking ChatGPT [gpt-4-0613]...\n",
      "Asking ChatGPT [gpt-4-0613]... in 20,727 ms\n",
      "\n",
      "{\n",
      "    \"id\": \"chatcmpl-86PsWy1b3bizD9G67OcP0xH11XBvo\",\n",
      "    \"object\": \"chat.completion\",\n",
      "    \"created\": 1696540136,\n",
      "    \"model\": \"gpt-4-0613\",\n",
      "    \"choices\": [\n",
      "        {\n",
      "            \"index\": 0,\n",
      "            \"message\": {\n",
      "                \"role\": \"assistant\",\n",
      "                \"content\": \"\\n        {\\n            \\\"thoughts\\\": \\\"Both snippets are doing similar things: they are filtering a DataFrame based on the event type and the date. The main difference is the event type they are filtering for. I can create a function that takes the event type as a parameter and then performs the filtering. This way, we can use the same function for both scenarios. If the query does not return a result, the function will return an empty DataFrame. This is a valid scenario and does not need special handling.\\\",\\n            \\\"code\\\": [\\n                \\\"import pandas as pd\\\",\\n                \\\"from datetime import datetime, timedelta\\\",\\n                \\\"def get_events_by_week_and_type(df, event_type):\\\",\\n                \\\"    start_of_week = pd.Timestamp(datetime.now().date() - timedelta(days=datetime.now().weekday()))\\\",\\n                \\\"    end_of_week = start_of_week + pd.DateOffset(days=6)\\\",\\n                \\\"    event_mask = df['event_type'] == event_type\\\",\\n                \\\"    date_mask = (df['start_date'] <= end_of_week) & (df['end_date'] >= start_of_week)\\\",\\n                \\\"    solution = df[event_mask & date_mask]\\\",\\n                \\\"    return solution.to_json(orient='records', lines=True)\\\"\\n            ],\\n            \\\"function_name\\\": \\\"get_events_by_week_and_type\\\",\\n            \\\"returns\\\": \\\"string\\\",\\n            \\\"examples\\\": {\\n                \\\"what concerts do i have this week\\\": \\\"print(get_events_by_week_and_type(df, 'Concert'))\\\",\\n                \\\"what birthdays do i have this week\\\": \\\"print(get_events_by_week_and_type(df, 'Birthday'))\\\"\\n            },\\n            \\\"python_version\\\": \\\"3.10\\\",\\n            \\\"explanation\\\": \\\"The function `get_events_by_week_and_type` takes a DataFrame and an event type as parameters. It calculates the start and end of the current week. Then it creates a mask for the event type and a mask for the date range. It applies both masks to the DataFrame to filter the events. Finally, it returns the filtered events as a JSON string.\\\",\\n            \\\"error\\\": \\\"No errors encountered.\\\"\\n        }\"\n",
      "            },\n",
      "            \"finish_reason\": \"stop\"\n",
      "        }\n",
      "    ],\n",
      "    \"usage\": {\n",
      "        \"prompt_tokens\": 781,\n",
      "        \"completion_tokens\": 428,\n",
      "        \"total_tokens\": 1209\n",
      "    }\n",
      "}\n",
      "{\n",
      "    \"thoughts\": \"Both snippets are doing similar things: they are filtering a DataFrame based on the event type and the date. The main difference is the event type they are filtering for. I can create a function that takes the event type as a parameter and then performs the filtering. This way, we can use the same function for both scenarios. If the query does not return a result, the function will return an empty DataFrame. This is a valid scenario and does not need special handling.\",\n",
      "    \"code\": [\n",
      "        \"import pandas as pd\",\n",
      "        \"from datetime import datetime, timedelta\",\n",
      "        \"def get_events_by_week_and_type(df, event_type):\",\n",
      "        \"    start_of_week = pd.Timestamp(datetime.now().date() - timedelta(days=datetime.now().weekday()))\",\n",
      "        \"    end_of_week = start_of_week + pd.DateOffset(days=6)\",\n",
      "        \"    event_mask = df['event_type'] == event_type\",\n",
      "        \"    date_mask = (df['start_date'] <= end_of_week) & (df['end_date'] >= start_of_week)\",\n",
      "        \"    solution = df[event_mask & date_mask]\",\n",
      "        \"    return solution.to_json(orient='records', lines=True)\"\n",
      "    ],\n",
      "    \"function_name\": \"get_events_by_week_and_type\",\n",
      "    \"returns\": \"string\",\n",
      "    \"examples\": {\n",
      "        \"what concerts do i have this week\": \"print(get_events_by_week_and_type(df, 'Concert'))\",\n",
      "        \"what birthdays do i have this week\": \"print(get_events_by_week_and_type(df, 'Birthday'))\"\n",
      "    },\n",
      "    \"python_version\": \"3.10\",\n",
      "    \"explanation\": \"The function `get_events_by_week_and_type` takes a DataFrame and an event type as parameters. It calculates the start and end of the current week. Then it creates a mask for the event type and a mask for the date range. It applies both masks to the DataFrame to filter the events. Finally, it returns the filtered events as a JSON string.\",\n",
      "    \"error\": \"No errors encountered.\"\n",
      "}\n"
     ]
    }
   ],
   "source": [
    "%autoreload\n",
    "\n",
    "path_to_snapshots = du.get_project_root() + \"/src/conf/long-term-memory/solutions/\"\n",
    "snapshot_mgr      = SolutionSnapshotManager( path_to_snapshots, debug=False )\n",
    "exemplar_snapshot = snapshot_mgr.get_snapshots_by_question( \"What concerts do I have this week?\" )[ 0 ][ 1 ]\n",
    "similar_snapshots = snapshot_mgr.get_snapshots_by_code_similarity( exemplar_snapshot, threshold=90.0 )\n",
    "\n",
    "agent         = RefactoringAgent( similar_snapshots=similar_snapshots, path_to_solutions=\"/src/conf/long-term-memory/solutions\", debug=True, verbose=True )\n",
    "response_dict = agent.run_prompt()"
   ],
   "metadata": {
    "collapsed": false,
    "ExecuteTime": {
     "end_time": "2023-10-05T21:09:16.879487Z",
     "start_time": "2023-10-05T21:08:56.112155Z"
    }
   },
   "id": "7c9f282bab6e449"
  },
  {
   "cell_type": "code",
   "execution_count": 117,
   "outputs": [
    {
     "name": "stdout",
     "output_type": "stream",
     "text": [
      "Writing file [/var/genie-in-the-box/src/lib/autogen/util_calendaring_4.py]... Done!\n",
      "Writing file [/var/genie-in-the-box/io/lib/autogen/util_calendaring_4.py]... Done!\n",
      "\n",
      "File     count: [4]\n",
      "File file_name: [util_calendaring_4.py]\n",
      "File repo_path: [/var/genie-in-the-box/src/lib/autogen/util_calendaring_4.py]\n",
      "File   io_path: [/var/genie-in-the-box/io/lib/autogen/util_calendaring_4.py]\n",
      "File    abbrev: [uc4]\n",
      "File    import: [import lib.autogen.util_calendaring_4 as uc4]\n",
      "\n",
      "------------------------------------------------------------------------------------------------------------------------\n",
      "- BEFORE updating `what concerts do i have this week`...\n",
      "------------------------------------------------------------------------------------------------------------------------\n",
      "\n",
      "import lib.autogen.util_calendaring_2 as uc2\n",
      "print(uc2.get_events_by_week_and_type(df, 'Concert'))\n",
      "\n",
      "\n",
      "Generating embedding for [import lib.autogen.util_calendaring_2 as uc2 print(uc2.get_event...]...\n",
      "Generating embedding for [import lib.autogen.util_calendaring_2 as uc2 print(uc2.get_event...]... Done! in 1,409 ms\n",
      "\n",
      "solution_file value provided: [what-concerts-do-i-have-this-week-0.json]...\n",
      "File path: /var/genie-in-the-box/src/conf/long-term-memory/solutions/what-concerts-do-i-have-this-week-0.json\n",
      "------------------------------------------------------------------------------------------------------------------------\n",
      "-  AFTER updating `what concerts do i have this week`...\n",
      "------------------------------------------------------------------------------------------------------------------------\n",
      "\n",
      "import lib.autogen.util_calendaring_2 as uc2\n",
      "print(uc2.get_events_by_week_and_type(df, 'Concert'))\n",
      "\n",
      "\n",
      "------------------------------------------------------------------------------------------------------------------------\n",
      "- BEFORE updating `what birthdays do i have this week`...\n",
      "------------------------------------------------------------------------------------------------------------------------\n",
      "\n",
      "import lib.autogen.util_calendaring_2 as uc2\n",
      "print(uc2.get_events_by_week_and_type(df, 'Birthday'))\n",
      "\n",
      "\n",
      "Generating embedding for [import lib.autogen.util_calendaring_2 as uc2 print(uc2.get_event...]...\n",
      "Generating embedding for [import lib.autogen.util_calendaring_2 as uc2 print(uc2.get_event...]... Done! in 221 ms\n",
      "\n",
      "solution_file value provided: [what-birthdays-do-i-have-this-week-0.json]...\n",
      "File path: /var/genie-in-the-box/src/conf/long-term-memory/solutions/what-birthdays-do-i-have-this-week-0.json\n",
      "------------------------------------------------------------------------------------------------------------------------\n",
      "-  AFTER updating `what birthdays do i have this week`...\n",
      "------------------------------------------------------------------------------------------------------------------------\n",
      "\n",
      "import lib.autogen.util_calendaring_2 as uc2\n",
      "print(uc2.get_events_by_week_and_type(df, 'Birthday'))\n",
      "\n"
     ]
    }
   ],
   "source": [
    "%autoreload\n",
    "agent.update_code( debug=True )"
   ],
   "metadata": {
    "collapsed": false,
    "ExecuteTime": {
     "end_time": "2023-10-05T21:15:48.692353Z",
     "start_time": "2023-10-05T21:15:46.958770Z"
    }
   },
   "id": "6e6a93bdf59e157c"
  },
  {
   "cell_type": "code",
   "execution_count": null,
   "outputs": [],
   "source": [
    "%autoreload\n",
    "agent.update_examples( debug=True )"
   ],
   "metadata": {
    "collapsed": false
   },
   "id": "5a63062013186096"
  },
  {
   "cell_type": "markdown",
   "source": [
    "### Write the freshly minted function to both the repo and the Io directories, and create all the meditator necessary to execute the code"
   ],
   "metadata": {
    "collapsed": false
   },
   "id": "2f395d528edd149d"
  },
  {
   "cell_type": "code",
   "execution_count": 74,
   "outputs": [
    {
     "name": "stdout",
     "output_type": "stream",
     "text": [
      "Writing file [/var/genie-in-the-box/src/lib/autogen/util_calendaring_4.py]... Done!\n",
      "Writing file [/var/genie-in-the-box/io/lib/autogen/util_calendaring_4.py]... Done!\n",
      "\n",
      "File     count: [4]\n",
      "File file_name: [util_calendaring_4.py]\n",
      "File repo_path: [/var/genie-in-the-box/src/lib/autogen/util_calendaring_4.py]\n",
      "File   io_path: [/var/genie-in-the-box/io/lib/autogen/util_calendaring_4.py]\n",
      "File    abbrev: [uc4]\n",
      "File    import: [import lib.autogen.util_calendaring_4 as uc4]\n"
     ]
    }
   ],
   "source": [
    "import os\n",
    "\n",
    "def write_code_to_unique_files( lines, agent_src_root, agent_lib_chunk, file_name_prefix, suffix=\".py\" ):\n",
    "    \n",
    "    # Get the list of files in the agent_lib_path directory\n",
    "    files = os.listdir( agent_src_root + agent_lib_chunk )\n",
    "    \n",
    "    # Count the number of files with the name {file_name_prefix}{}{suffix}\"\n",
    "    count = sum( 1 for file in files if file.startswith( file_name_prefix ) and file.endswith( suffix ) )\n",
    "    \n",
    "    # Format the file name with the count\n",
    "    file_name = f\"{file_name_prefix}{count}{suffix}\"\n",
    "    util_name = f\"{file_name_prefix}{count}\" \n",
    "    \n",
    "    # Write the file to the repo path\n",
    "    repo_path = os.path.join( agent_src_root, agent_lib_chunk, file_name )\n",
    "    print( f\"Writing file [{repo_path}]... \", end=\"\" )\n",
    "    du.write_lines_to_file( repo_path, lines )\n",
    "    # Set the permissions of the file to be world-readable and writable\n",
    "    os.chmod( repo_path, 0o666 )\n",
    "    print( \"Done!\" )\n",
    "    \n",
    "    # Write the file to the io/execution path\n",
    "    io_path = f\"{du.get_project_root()}/io/{agent_lib_chunk}{file_name}\"\n",
    "    print( f\"Writing file [{io_path}]... \", end=\"\" )\n",
    "    du.write_lines_to_file( io_path, lines )\n",
    "    # Set the permissions of the file to be world-readable and writable\n",
    "    os.chmod( io_path, 0o666 )\n",
    "    print( \"Done!\", end=\"\\n\\n\" )\n",
    "    \n",
    "    # Build import 'as' string:\n",
    "    non_digits   = \"util_calendaring_2\".split( \"_\" )[ :-1 ]\n",
    "    first_digits = \"\".join( [ item[ 0 ] for item in non_digits ] )\n",
    "    abbrev       = f\"{first_digits}{count}\"\n",
    "    as_chunk     = f\"as {abbrev}\"\n",
    "    import_str   = f\"import {agent_lib_chunk.replace( '/', '.' )}{util_name} {as_chunk}\"\n",
    "    \n",
    "    results = { \n",
    "        \"file_name\": file_name,\n",
    "        \"repo_path\": repo_path,\n",
    "          \"io_path\": io_path,\n",
    "            \"count\": count,\n",
    "           \"abbrev\": abbrev,\n",
    "           \"import\": import_str\n",
    "    }\n",
    "\n",
    "    return results\n",
    "\n",
    "# Usage example\n",
    "agent_src_root  = du.get_project_root() + \"/src/\" \n",
    "agent_lib_chunk = \"lib/autogen/\"\n",
    "foo = [ \"import os\", \"import json\" ]\n",
    "\n",
    "code_write_metadata = write_code_to_unique_files( response_dict[ \"code\" ], agent_src_root, agent_lib_chunk, \"util_calendaring_\", suffix=\".py\" )\n",
    "# \n",
    "print( f\"File     count: [{code_write_metadata[ 'count' ]}]\" )\n",
    "print( f\"File file_name: [{code_write_metadata[ 'file_name' ]}]\" )\n",
    "print( f\"File repo_path: [{code_write_metadata[ 'repo_path' ]}]\" )\n",
    "print( f\"File   io_path: [{code_write_metadata[ 'io_path' ]}]\" )\n",
    "print( f\"File    abbrev: [{code_write_metadata[ 'abbrev' ]}]\" )\n",
    "print( f\"File    import: [{code_write_metadata[ 'import' ]}]\" )"
   ],
   "metadata": {
    "collapsed": false,
    "ExecuteTime": {
     "end_time": "2023-10-05T19:59:41.656972Z",
     "start_time": "2023-10-05T19:59:41.629133Z"
    }
   },
   "id": "535927937386723d"
  },
  {
   "cell_type": "markdown",
   "source": [
    "## Update the examples dictionary so that it contains a list of source code needed to execute the freshly minted function"
   ],
   "metadata": {
    "collapsed": false
   },
   "id": "10ede36ad5d5a55b"
  },
  {
   "cell_type": "code",
   "execution_count": 80,
   "outputs": [
    {
     "name": "stdout",
     "output_type": "stream",
     "text": [
      "No need to update [['import lib.autogen.util_calendaring_3 as uc3', \"print(uc3.get_events_by_week_and_type(df, 'Concert').to_json(orient='records', lines=True))\"]]\n",
      "No need to update [['import lib.autogen.util_calendaring_3 as uc3', \"print(uc3.get_events_by_week_and_type(df, 'Birthday').to_json(orient='records', lines=True))\"]]\n"
     ]
    },
    {
     "data": {
      "text/plain": "{'thoughts': 'The two code snippets are very similar. They both filter a DataFrame based on the event type and the date range of the current week. The only difference is the event type they are filtering for. Therefore, we can create a function that takes the event type as a parameter and filters the DataFrame accordingly. We will also need to handle the case where the DataFrame is empty after filtering, in which case we will return an empty DataFrame.',\n 'code': ['import pandas as pd',\n  'from datetime import datetime, timedelta',\n  'def get_events_by_week_and_type(df, event_type):',\n  \"    df['start_date'] = pd.to_datetime(df['start_date'])\",\n  \"    df['end_date'] = pd.to_datetime(df['end_date'])\",\n  '    now = pd.Timestamp.now()',\n  \"    start_of_week = now - pd.to_timedelta(now.dayofweek, unit='d')\",\n  \"    end_of_week = start_of_week + pd.to_timedelta(6, unit='d')\",\n  \"    event_mask = df['event_type'] == event_type\",\n  \"    date_mask = (df['start_date'] <= end_of_week) & (df['end_date'] >= start_of_week)\",\n  '    solution = df[event_mask & date_mask]',\n  '    return solution if not solution.empty else pd.DataFrame()'],\n 'function_name': 'get_events_by_week_and_type',\n 'returns': 'DataFrame',\n 'examples': {'what concerts do i have this week': ['import lib.autogen.util_calendaring_3 as uc3',\n   \"print(uc3.get_events_by_week_and_type(df, 'Concert').to_json(orient='records', lines=True))\"],\n  'what birthdays do i have this week': ['import lib.autogen.util_calendaring_3 as uc3',\n   \"print(uc3.get_events_by_week_and_type(df, 'Birthday').to_json(orient='records', lines=True))\"]},\n 'python_version': '3.10',\n 'explanation': \"The function `get_events_by_week_and_type` takes a DataFrame and an event type as parameters. It first converts the 'start_date' and 'end_date' columns to datetime. Then it calculates the start and end of the current week. It creates a mask for the event type and a mask for the date range of the current week. It then filters the DataFrame using these masks and returns the result. If the result is empty, it returns an empty DataFrame.\",\n 'error': 'No errors encountered.'}"
     },
     "execution_count": 80,
     "metadata": {},
     "output_type": "execute_result"
    }
   ],
   "source": [
    "def update_example_code( refactoring_response_dict, code_metadata, debug=False ):\n",
    "    \n",
    "    function_name = refactoring_response_dict[ \"function_name\" ]\n",
    "    \n",
    "    # Update the examples dictionary so that it contains a list of source code needed to execute the freshly minted function\n",
    "    for key, value in refactoring_response_dict[ \"examples\" ].items():\n",
    "        \n",
    "        if debug: print( f\"Before: {key}: {value}\" )\n",
    "        if type( value ) is not list:\n",
    "            value = value.replace( function_name, f\"{code_metadata[ 'abbrev' ]}.{function_name}\" )\n",
    "            value = [ code_metadata[ 'import' ], value ]\n",
    "        else:\n",
    "            print( f\"No need to update [{value}]\" )\n",
    "        if debug: print( f\" After: {key}: {value}\" )\n",
    "        \n",
    "        refactoring_response_dict[ \"examples\" ][ key ] = value\n",
    "        \n",
    "    return refactoring_response_dict\n",
    "\n",
    "response_dict = update_example_code( response_dict.copy(), code_write_metadata )\n",
    "response_dict\n",
    "    "
   ],
   "metadata": {
    "collapsed": false,
    "ExecuteTime": {
     "end_time": "2023-10-05T20:01:22.638983Z",
     "start_time": "2023-10-05T20:01:22.614229Z"
    }
   },
   "id": "7077d93d001efefd"
  },
  {
   "cell_type": "code",
   "execution_count": 82,
   "outputs": [
    {
     "data": {
      "text/plain": "{'what concerts do i have this week': ['import lib.autogen.util_calendaring_3 as uc3',\n  \"print(uc3.get_events_by_week_and_type(df, 'Concert').to_json(orient='records', lines=True))\"],\n 'what birthdays do i have this week': ['import lib.autogen.util_calendaring_3 as uc3',\n  \"print(uc3.get_events_by_week_and_type(df, 'Birthday').to_json(orient='records', lines=True))\"]}"
     },
     "execution_count": 82,
     "metadata": {},
     "output_type": "execute_result"
    }
   ],
   "source": [
    "response_dict[ \"examples\" ]"
   ],
   "metadata": {
    "collapsed": false,
    "ExecuteTime": {
     "end_time": "2023-10-05T20:03:13.169592Z",
     "start_time": "2023-10-05T20:03:13.136362Z"
    }
   },
   "id": "e303638e1fbbfbc8"
  },
  {
   "cell_type": "code",
   "execution_count": 101,
   "outputs": [],
   "source": [
    "import solution_snapshot as ss"
   ],
   "metadata": {
    "collapsed": false,
    "ExecuteTime": {
     "end_time": "2023-10-05T20:19:44.488632Z",
     "start_time": "2023-10-05T20:19:44.448779Z"
    }
   },
   "id": "64ed591a12df7958"
  },
  {
   "cell_type": "code",
   "execution_count": 102,
   "outputs": [
    {
     "name": "stdout",
     "output_type": "stream",
     "text": [
      "------------------------------------------------------------------------------------------------------------------------\n",
      "- BEFORE updating `what concerts do i have this week`...\n",
      "------------------------------------------------------------------------------------------------------------------------\n",
      "\n",
      "import lib.autogen.util_calendaring_3 as uc3\n",
      "print(uc3.get_events_by_week_and_type(df, 'Concert').to_json(orient='records', lines=True))\n",
      "\n",
      "\n",
      "Generating embedding for [import lib.autogen.util_calendaring_3 as uc3 print(uc3.get_event...]...\n",
      "Generating embedding for [import lib.autogen.util_calendaring_3 as uc3 print(uc3.get_event...]... Done! in 322 ms\n",
      "\n",
      "solution_file value provided: [what-concerts-do-i-have-this-week-0.json]...\n",
      "File path: /var/genie-in-the-box/src/conf/long-term-memory/solutions/what-concerts-do-i-have-this-week-0.json\n",
      "------------------------------------------------------------------------------------------------------------------------\n",
      "-  AFTER updating `what concerts do i have this week`...\n",
      "------------------------------------------------------------------------------------------------------------------------\n",
      "\n",
      "import lib.autogen.util_calendaring_3 as uc3\n",
      "print(uc3.get_events_by_week_and_type(df, 'Concert').to_json(orient='records', lines=True))\n",
      "\n",
      "\n",
      "------------------------------------------------------------------------------------------------------------------------\n",
      "- BEFORE updating `what birthdays do i have this week`...\n",
      "------------------------------------------------------------------------------------------------------------------------\n",
      "\n",
      "import lib.autogen.util_calendaring_3 as uc3\n",
      "print(uc3.get_events_by_week_and_type(df, 'Birthday').to_json(orient='records', lines=True))\n",
      "\n",
      "\n",
      "Generating embedding for [import lib.autogen.util_calendaring_3 as uc3 print(uc3.get_event...]...\n",
      "Generating embedding for [import lib.autogen.util_calendaring_3 as uc3 print(uc3.get_event...]... Done! in 165 ms\n",
      "\n",
      "solution_file value provided: [what-birthdays-do-i-have-this-week-0.json]...\n",
      "File path: /var/genie-in-the-box/src/conf/long-term-memory/solutions/what-birthdays-do-i-have-this-week-0.json\n",
      "------------------------------------------------------------------------------------------------------------------------\n",
      "-  AFTER updating `what birthdays do i have this week`...\n",
      "------------------------------------------------------------------------------------------------------------------------\n",
      "\n",
      "import lib.autogen.util_calendaring_3 as uc3\n",
      "print(uc3.get_events_by_week_and_type(df, 'Birthday').to_json(orient='records', lines=True))\n",
      "\n"
     ]
    }
   ],
   "source": [
    "def update_snapshot_code( snapshots, refactoring_response_dict, debug=False ):\n",
    "    \n",
    "    for snapshot in snapshots:\n",
    "        \n",
    "        if debug:\n",
    "            du.print_banner( f\"BEFORE updating `{snapshot[ 1 ].question}`...\", prepend_nl=False )\n",
    "            for line in snapshot[ 1 ].code: print( line )\n",
    "            print( \"\\n\" )\n",
    "            \n",
    "        # Update the code, using the question as the key\n",
    "        new_code = refactoring_response_dict[ \"examples\" ][ snapshot[ 1 ].question ]\n",
    "        snapshot[ 1 ].code           = new_code\n",
    "        snapshot[ 1 ].code_embedding = ss.SolutionSnapshot.generate_embedding( \" \".join( new_code ) )\n",
    "        snapshot[ 1 ].write_to_file()\n",
    "        \n",
    "        if debug:\n",
    "            du.print_banner( f\" AFTER updating `{snapshot[ 1 ].question}`...\", prepend_nl=False )\n",
    "            for line in snapshot[ 1 ].code: print( line )\n",
    "            print( \"\\n\" )\n",
    "        \n",
    "    \n",
    "update_snapshot_code( similar_snapshots, response_dict, debug=True )"
   ],
   "metadata": {
    "collapsed": false,
    "ExecuteTime": {
     "end_time": "2023-10-05T20:29:31.167031Z",
     "start_time": "2023-10-05T20:29:30.663261Z"
    }
   },
   "id": "1c9dad5e40471eef"
  },
  {
   "cell_type": "code",
   "execution_count": null,
   "outputs": [],
   "source": [],
   "metadata": {
    "collapsed": false
   },
   "id": "afa3ab4af43ebf6f"
  }
 ],
 "metadata": {
  "kernelspec": {
   "display_name": "Python 3",
   "language": "python",
   "name": "python3"
  },
  "language_info": {
   "codemirror_mode": {
    "name": "ipython",
    "version": 2
   },
   "file_extension": ".py",
   "mimetype": "text/x-python",
   "name": "python",
   "nbconvert_exporter": "python",
   "pygments_lexer": "ipython2",
   "version": "2.7.6"
  }
 },
 "nbformat": 4,
 "nbformat_minor": 5
}
