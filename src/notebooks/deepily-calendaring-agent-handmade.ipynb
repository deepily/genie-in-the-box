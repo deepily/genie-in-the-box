{
 "cells": [
  {
   "cell_type": "code",
   "execution_count": 1,
   "outputs": [],
   "source": [
    "%load_ext autoreload"
   ],
   "metadata": {
    "collapsed": false,
    "ExecuteTime": {
     "end_time": "2023-10-06T17:34:33.795656Z",
     "start_time": "2023-10-06T17:34:33.774832Z"
    }
   },
   "id": "14c1efa189e09521"
  },
  {
   "cell_type": "code",
   "execution_count": 10,
   "outputs": [
    {
     "name": "stdout",
     "output_type": "stream",
     "text": [
      "[/var/genie-in-the-box/src/lib] already in sys.path\n",
      "['', '/Applications/PyCharm.app/Contents/plugins/python/helpers-pro/jupyter_debug', '/Applications/PyCharm.app/Contents/plugins/python/helpers/pydev', '/usr/local/lib/python3.10', '/usr/local/lib/python3.10/lib-dynload', '/usr/local/lib/python3.10/site-packages', '/usr/local/lib/python310.zip', '/var/genie-in-the-box/src', '/var/genie-in-the-box/src/lib', '/var/genie-in-the-box/src/notebooks']\n",
      "Path [/var/genie-in-the-box/src] already in sys.path\n"
     ]
    }
   ],
   "source": [
    "%autoreload\n",
    "\n",
    "import sys\n",
    "import os\n",
    "import json\n",
    "\n",
    "# os.environ[ \"LANGCHAIN_WANDB_TRACING\" ] = \"true\"\n",
    "# # wandb documentation to configure wandb using env variables\n",
    "# # https://docs.wandb.ai/guides/track/advanced/environment-variables\n",
    "# # here we are configuring the wandb project name\n",
    "# os.environ[ \"WANDB_PROJECT\" ] = \"deepily-dataframe-agent\"\n",
    "\n",
    "path = \"/var/genie-in-the-box/src/lib\"\n",
    "if path not in sys.path:\n",
    "    sys.path.append( path )\n",
    "else:\n",
    "    print( f\"[{path}] already in sys.path\" )\n",
    "\n",
    "print( sys.path )\n",
    "\n",
    "import lib.util as du\n",
    "\n",
    "path = \"/var/genie-in-the-box/src\"\n",
    "du.add_to_path( path )\n",
    "\n",
    "import lib.util_pandas      as up\n",
    "import lib.util_stopwatch   as sw\n",
    "import lib.util_code_runner as ucr\n",
    "\n",
    "from agent_calendaring import CalendaringAgent\n",
    "\n",
    "import pandas as pd\n",
    "import openai\n",
    "\n",
    "debug = True\n",
    "verbose = True\n"
   ],
   "metadata": {
    "collapsed": false,
    "ExecuteTime": {
     "end_time": "2023-10-06T17:37:48.704341Z",
     "start_time": "2023-10-06T17:37:48.640334Z"
    }
   },
   "id": "e4a94b9494513834"
  },
  {
   "cell_type": "code",
   "execution_count": 9,
   "outputs": [
    {
     "name": "stdout",
     "output_type": "stream",
     "text": [
      "Asking ChatGPT [gpt-4-0613]...\n",
      "Asking ChatGPT [gpt-4-0613]... in 1,692 ms\n"
     ]
    },
    {
     "data": {
      "text/plain": "\"My name is ChatGPT. I'm an artificial intelligence designed to assist with information and conversation.\""
     },
     "execution_count": 9,
     "metadata": {},
     "output_type": "execute_result"
    }
   ],
   "source": [
    "GPT_4   = \"gpt-4-0613\"\n",
    "GPT_3_5 = \"gpt-3.5-turbo-0613\"\n",
    "\n",
    "def ask_chat_gpt_text( preamble, query, model=GPT_4, debug=False ):\n",
    "\n",
    "    openai.api_key = os.getenv( \"FALSE_POSITIVE_API_KEY\" )\n",
    "    \n",
    "    timer = sw.Stopwatch( msg=f\"Asking ChatGPT [{model}]...\".format( model ) )\n",
    "    \n",
    "    response = openai.ChatCompletion.create(\n",
    "        model=model,\n",
    "        messages=[ \n",
    "            { \"role\": \"system\", \"content\": preamble },\n",
    "            { \"role\": \"user\",   \"content\": query } \n",
    "        ],\n",
    "        temperature=0,\n",
    "        max_tokens=2400,\n",
    "        top_p=1.0,\n",
    "        frequency_penalty=0.0,\n",
    "        presence_penalty=0.0\n",
    "    )\n",
    "    timer.print( use_millis=True )\n",
    "    \n",
    "    if debug: print( json.dumps( response, indent=4 ) )\n",
    "    \n",
    "    return response[ \"choices\" ][ 0 ][ \"message\" ][ \"content\" ].strip()\n",
    "\n",
    "preamble = \"You are chatGPT, a helpful chatbot\"\n",
    "question = \"What's your name?\"\n",
    "\n",
    "ask_chat_gpt_text( preamble, question, model=GPT_4 )"
   ],
   "metadata": {
    "collapsed": false,
    "ExecuteTime": {
     "end_time": "2023-10-06T17:36:53.866620Z",
     "start_time": "2023-10-06T17:36:52.164383Z"
    }
   },
   "id": "15c33434a5136979"
  },
  {
   "cell_type": "code",
   "execution_count": 21,
   "outputs": [],
   "source": [
    "from solution_snapshot_mgr import SolutionSnapshotManager\n",
    "from agent_refactoring     import RefactoringAgent"
   ],
   "metadata": {
    "collapsed": false,
    "ExecuteTime": {
     "end_time": "2023-10-06T17:45:36.269221Z",
     "start_time": "2023-10-06T17:45:36.238317Z"
    }
   },
   "id": "9b9de1037797d123"
  },
  {
   "cell_type": "code",
   "execution_count": 34,
   "outputs": [
    {
     "name": "stdout",
     "output_type": "stream",
     "text": [
      "\n",
      "------------------------------------------------------------------------------------------------------------------------\n",
      "- Found [32] synonymous questions\n",
      "------------------------------------------------------------------------------------------------------------------------\n",
      "\n",
      "Synonymous question [when is juans birthday] for snapshot.question [when is juans birthday]\n",
      "Synonymous question [when was juan born] for snapshot.question [when is juans birthday]\n",
      "Synonymous question [what day is today] for snapshot.question [what day is today]\n",
      "Synonymous question [whats todays date] for snapshot.question [what day is today]\n",
      "Synonymous question [whats todays day and date] for snapshot.question [what day is today]\n",
      "Synonymous question [what is the day and date for today] for snapshot.question [what day is today]\n",
      "Synonymous question [whats the date] for snapshot.question [what day is today]\n",
      "Synonymous question [say what day is today] for snapshot.question [what day is today]\n",
      "Synonymous question [hey what day is today] for snapshot.question [what day is today]\n",
      "Synonymous question [whats todays day] for snapshot.question [what day is today]\n",
      "Synonymous question [what day is it] for snapshot.question [what day is today]\n",
      "Synonymous question [what time is it] for snapshot.question [what time is it]\n",
      "Synonymous question [got the time] for snapshot.question [what time is it]\n",
      "Synonymous question [whats the time] for snapshot.question [what time is it]\n",
      "Synonymous question [yo what time is it] for snapshot.question [what time is it]\n",
      "Synonymous question [hey you got the time] for snapshot.question [what time is it]\n",
      "Synonymous question [hey you what time is it] for snapshot.question [what time is it]\n",
      "Synonymous question [hey what time is it] for snapshot.question [what time is it]\n",
      "Synonymous question [when is anitas birthday] for snapshot.question [when is anitas birthday]\n",
      "Synonymous question [when is jimmys birthday] for snapshot.question [when is jimmys birthday]\n",
      "Synonymous question [when was jimmy born] for snapshot.question [when is jimmys birthday]\n",
      "Synonymous question [what birthdays do i have this week] for snapshot.question [what birthdays do i have this week]\n",
      "Synonymous question [how many records in this dataframe] for snapshot.question [how many records in this dataframe]\n",
      "Synonymous question [how many rows in this table] for snapshot.question [how many records in this dataframe]\n",
      "Synonymous question [how many records in this table] for snapshot.question [how many records in this dataframe]\n",
      "Synonymous question [how many records in this csv file] for snapshot.question [how many records in this dataframe]\n",
      "Synonymous question [how many records in that table] for snapshot.question [how many records in this dataframe]\n",
      "Synonymous question [how many rows in that data frame] for snapshot.question [how many records in this dataframe]\n",
      "Synonymous question [how many records in that database] for snapshot.question [how many records in this dataframe]\n",
      "Synonymous question [how many records do i have in that table] for snapshot.question [how many records in this dataframe]\n",
      "Synonymous question [What concerts do I have this week?] for snapshot.question [what concerts do i have this week]\n",
      "Synonymous question [what concerts do i have this week] for snapshot.question [what concerts do i have this week]\n",
      "\n",
      "Loading question embeddings dictionary ..................................................................... Done!\n",
      "\n",
      "Code similarity score [99.99998363078215] for [what concerts do i have this wee...] == [what concerts do i have this wee...]\n",
      "Code similarity score [93.02580949890351] for [what concerts do i have this wee...] == [what birthdays do i have this we...]\n",
      "Snippet 1 for question `what concerts do i have this week`: \n",
      "\n",
      "df['start_date'] = pd.to_datetime(df['start_date'])\n",
      "df['end_date'] = pd.to_datetime(df['end_date'])\n",
      "now = pd.Timestamp.now()\n",
      "start_of_week = now - pd.to_timedelta(now.dayofweek, unit='d')\n",
      "end_of_week = start_of_week + pd.to_timedelta(6, unit='d')\n",
      "solution = df[(df['event_type'] == 'Concert') & (df['start_date'] <= end_of_week) & (df['end_date'] >= start_of_week)]\n",
      "print( solution.to_json( orient='records', lines=True ) )\n",
      "\n",
      "Snippet 2 for question `what birthdays do i have this week`: \n",
      "\n",
      "import pandas as pd\n",
      "from datetime import datetime, timedelta\n",
      "start_of_week = pd.Timestamp(datetime.now().date() - timedelta(days=datetime.now().weekday()))\n",
      "end_of_week = start_of_week + pd.DateOffset(days=6)\n",
      "birthday_mask = df['event_type'] == 'Birthday'\n",
      "date_mask = (df['start_date'] <= end_of_week) & (df['end_date'] >= start_of_week)\n",
      "solution = df[birthday_mask & date_mask]\n",
      "print( solution.to_json( orient='records', lines=True ) )\n",
      "\n",
      "\n",
      "------------------------------------------------------------------------------------------------------------------------\n",
      "- Token count for self.system_message: [650]\n",
      "------------------------------------------------------------------------------------------------------------------------\n",
      "\n",
      "\n",
      "        I'm going to show you 2 Python code snippets that are similar, along with the questions they were created to answer.\n",
      "        How would you coalesce or refactor them so that you only need to call one function in all 2 scenarios?\n",
      "        How would you name the function in a way that clearly explains exactly what the function does?\n",
      "        Descriptive function names look like: `get_birthday_by_name`, or `get_birthdays_by_day`, `get_events_by_week_and_type`,`get_events_by_day_and_type`, etc.,\n",
      "\n",
      "        As you generate the Python 3.10 code needed to answer this question, I want you to:\n",
      "\n",
      "        1) Think: Before you do anything, think out loud about what I'm asking you to do, including the steps that you will need to take to solve this problem.\n",
      "        Be critical of your thought process! How will you handle the edge cases? For example, what will you do if your query does not return a result?\n",
      "        2) Code: Generate a verbatim list of code that you used to arrive at your answer, one line of code per item on the list. The code must be complete,\n",
      "        syntactically correct, and capable of running to completion. You must allow for the possibility that your query may not return a result.\n",
      "        3) Return: Report on the object type returned by your last line of code. Use one word to represent the object type.\n",
      "        4) Generate examples: Generate a dictionary containing the code examples needed to call the function you created, one line of code per question provided.\n",
      "        The example function calls must be complete, syntactically correct, and capable of running to completion. Each example must be wrapped in a print statement.\n",
      "        5) Explain: Briefly and succinctly explain your code in plain English.\n",
      "\n",
      "        Format: return your response as a JSON object with the following fields and formatting:\n",
      "        {\n",
      "            \"thoughts\": \"Your thoughts\",\n",
      "            \"code\": [],\n",
      "            \"function_name\": \"The name of your function\",\n",
      "            \"parameters\": \"The parameters to your function, the fewer the better.  Spell them exactly as they are used in the examples dictionary below.\",\n",
      "            \"gpt_function_signature\":\n",
      "            \"{\n",
      "                'name': 'get_current_weather',\n",
      "                'description': 'Gets the current weather in a given location',\n",
      "                'parameters': {\n",
      "                    'type': 'object',\n",
      "                    'properties': {\n",
      "                        'location': {\n",
      "                            'type': 'string',\n",
      "                            'description': 'The city and state, e.g. San Francisco, CA',\n",
      "                        },\n",
      "                        'unit': {'type': 'string', 'enum': ['celsius', 'fahrenheit']},\n",
      "                    },\n",
      "                    'required': ['location'],\n",
      "                },\n",
      "            }\",\n",
      "            \"returns\": \"Object type of the variable `solution`\",\n",
      "            \"examples\": {}, a dictionary containing the questions and example code, one line of code per question provided.\n",
      "            \"python_version\": \"3.10\",\n",
      "            \"explanation\": \"A brief explanation of your code\",\n",
      "            \"error\": \"Verbatim stack trace or description of issues encountered while attempting to carry out this task.\"\n",
      "        }\n",
      "\n",
      "------------------------------------------------------------------------------------------------------------------------\n",
      "- Token count for self.user_message: [269]\n",
      "------------------------------------------------------------------------------------------------------------------------\n",
      "\n",
      "\n",
      "        Snippet 1 for question `what concerts do i have this week`: \n",
      "\n",
      "df['start_date'] = pd.to_datetime(df['start_date'])\n",
      "df['end_date'] = pd.to_datetime(df['end_date'])\n",
      "now = pd.Timestamp.now()\n",
      "start_of_week = now - pd.to_timedelta(now.dayofweek, unit='d')\n",
      "end_of_week = start_of_week + pd.to_timedelta(6, unit='d')\n",
      "solution = df[(df['event_type'] == 'Concert') & (df['start_date'] <= end_of_week) & (df['end_date'] >= start_of_week)]\n",
      "print( solution.to_json( orient='records', lines=True ) )\n",
      "\n",
      "Snippet 2 for question `what birthdays do i have this week`: \n",
      "\n",
      "import pandas as pd\n",
      "from datetime import datetime, timedelta\n",
      "start_of_week = pd.Timestamp(datetime.now().date() - timedelta(days=datetime.now().weekday()))\n",
      "end_of_week = start_of_week + pd.DateOffset(days=6)\n",
      "birthday_mask = df['event_type'] == 'Birthday'\n",
      "date_mask = (df['start_date'] <= end_of_week) & (df['end_date'] >= start_of_week)\n",
      "solution = df[birthday_mask & date_mask]\n",
      "print( solution.to_json( orient='records', lines=True ) )\n",
      "\n",
      "        Begin!\n",
      "        \n",
      "Asking ChatGPT [gpt-4-0613]...\n",
      "Asking ChatGPT [gpt-4-0613]... in 46,686 ms\n",
      "\n",
      "{\n",
      "    \"id\": \"chatcmpl-86k50PhBSSqtDQPbFcxkaWa09fy8l\",\n",
      "    \"object\": \"chat.completion\",\n",
      "    \"created\": 1696617790,\n",
      "    \"model\": \"gpt-4-0613\",\n",
      "    \"choices\": [\n",
      "        {\n",
      "            \"index\": 0,\n",
      "            \"message\": {\n",
      "                \"role\": \"assistant\",\n",
      "                \"content\": \"{\\n    \\\"thoughts\\\": \\\"Both snippets are doing similar operations: filtering a DataFrame based on event type and date range. The main differences are the event type ('Concert' vs 'Birthday') and the way the start and end of the week are calculated. We can create a single function that takes the event type and date range as parameters. If the date range is not provided, the function will use the current week as default. The function will return a DataFrame with the filtered events. If no events are found, the function will return an empty DataFrame.\\\",\\n    \\\"code\\\": [\\n        \\\"import pandas as pd\\\",\\n        \\\"from datetime import datetime, timedelta\\\",\\n        \\\"def get_events_by_type_and_date(df, event_type, start_date=None, end_date=None):\\\",\\n        \\\"    df['start_date'] = pd.to_datetime(df['start_date'])\\\",\\n        \\\"    df['end_date'] = pd.to_datetime(df['end_date'])\\\",\\n        \\\"    if start_date is None or end_date is None:\\\",\\n        \\\"        now = pd.Timestamp.now()\\\",\\n        \\\"        start_date = now - pd.to_timedelta(now.dayofweek, unit='d')\\\",\\n        \\\"        end_date = start_date + pd.to_timedelta(6, unit='d')\\\",\\n        \\\"    event_mask = df['event_type'] == event_type\\\",\\n        \\\"    date_mask = (df['start_date'] <= end_date) & (df['end_date'] >= start_date)\\\",\\n        \\\"    return df[event_mask & date_mask]\\\"\\n    ],\\n    \\\"function_name\\\": \\\"get_events_by_type_and_date\\\",\\n    \\\"parameters\\\": \\\"df, event_type, start_date=None, end_date=None\\\",\\n    \\\"gpt_function_signature\\\": \\\"{'name': 'get_events_by_type_and_date', 'description': 'Gets events of a given type within a date range', 'parameters': {'type': 'object', 'properties': {'df': {'type': 'DataFrame', 'description': 'The DataFrame containing the events'}, 'event_type': {'type': 'string', 'description': 'The type of event'}, 'start_date': {'type': 'Timestamp', 'description': 'The start date of the range'}, 'end_date': {'type': 'Timestamp', 'description': 'The end date of the range'}}, 'required': ['df', 'event_type']}}\\\",\\n    \\\"returns\\\": \\\"DataFrame\\\",\\n    \\\"examples\\\": {\\n        \\\"what concerts do i have this week\\\": \\\"print(get_events_by_type_and_date(df, 'Concert').to_json(orient='records', lines=True))\\\",\\n        \\\"what birthdays do i have this week\\\": \\\"print(get_events_by_type_and_date(df, 'Birthday').to_json(orient='records', lines=True))\\\"\\n    },\\n    \\\"python_version\\\": \\\"3.10\\\",\\n    \\\"explanation\\\": \\\"The function 'get_events_by_type_and_date' takes a DataFrame, an event type, and optionally a start and end date. It first converts the 'start_date' and 'end_date' columns of the DataFrame to datetime. If no start and end date are provided, it calculates the start and end of the current week. It then creates a mask for the event type and a mask for the date range, and returns the DataFrame filtered by these masks. If no events are found, it returns an empty DataFrame.\\\",\\n    \\\"error\\\": \\\"No errors encountered.\\\"\\n}\"\n",
      "            },\n",
      "            \"finish_reason\": \"stop\"\n",
      "        }\n",
      "    ],\n",
      "    \"usage\": {\n",
      "        \"prompt_tokens\": 930,\n",
      "        \"completion_tokens\": 697,\n",
      "        \"total_tokens\": 1627\n",
      "    }\n",
      "}\n",
      "{\n",
      "    \"thoughts\": \"Both snippets are doing similar operations: filtering a DataFrame based on event type and date range. The main differences are the event type ('Concert' vs 'Birthday') and the way the start and end of the week are calculated. We can create a single function that takes the event type and date range as parameters. If the date range is not provided, the function will use the current week as default. The function will return a DataFrame with the filtered events. If no events are found, the function will return an empty DataFrame.\",\n",
      "    \"code\": [\n",
      "        \"import pandas as pd\",\n",
      "        \"from datetime import datetime, timedelta\",\n",
      "        \"def get_events_by_type_and_date(df, event_type, start_date=None, end_date=None):\",\n",
      "        \"    df['start_date'] = pd.to_datetime(df['start_date'])\",\n",
      "        \"    df['end_date'] = pd.to_datetime(df['end_date'])\",\n",
      "        \"    if start_date is None or end_date is None:\",\n",
      "        \"        now = pd.Timestamp.now()\",\n",
      "        \"        start_date = now - pd.to_timedelta(now.dayofweek, unit='d')\",\n",
      "        \"        end_date = start_date + pd.to_timedelta(6, unit='d')\",\n",
      "        \"    event_mask = df['event_type'] == event_type\",\n",
      "        \"    date_mask = (df['start_date'] <= end_date) & (df['end_date'] >= start_date)\",\n",
      "        \"    return df[event_mask & date_mask]\"\n",
      "    ],\n",
      "    \"function_name\": \"get_events_by_type_and_date\",\n",
      "    \"parameters\": \"df, event_type, start_date=None, end_date=None\",\n",
      "    \"gpt_function_signature\": \"{'name': 'get_events_by_type_and_date', 'description': 'Gets events of a given type within a date range', 'parameters': {'type': 'object', 'properties': {'df': {'type': 'DataFrame', 'description': 'The DataFrame containing the events'}, 'event_type': {'type': 'string', 'description': 'The type of event'}, 'start_date': {'type': 'Timestamp', 'description': 'The start date of the range'}, 'end_date': {'type': 'Timestamp', 'description': 'The end date of the range'}}, 'required': ['df', 'event_type']}}\",\n",
      "    \"returns\": \"DataFrame\",\n",
      "    \"examples\": {\n",
      "        \"what concerts do i have this week\": \"print(get_events_by_type_and_date(df, 'Concert').to_json(orient='records', lines=True))\",\n",
      "        \"what birthdays do i have this week\": \"print(get_events_by_type_and_date(df, 'Birthday').to_json(orient='records', lines=True))\"\n",
      "    },\n",
      "    \"python_version\": \"3.10\",\n",
      "    \"explanation\": \"The function 'get_events_by_type_and_date' takes a DataFrame, an event type, and optionally a start and end date. It first converts the 'start_date' and 'end_date' columns of the DataFrame to datetime. If no start and end date are provided, it calculates the start and end of the current week. It then creates a mask for the event type and a mask for the date range, and returns the DataFrame filtered by these masks. If no events are found, it returns an empty DataFrame.\",\n",
      "    \"error\": \"No errors encountered.\"\n",
      "}\n"
     ]
    }
   ],
   "source": [
    "%autoreload\n",
    "\n",
    "path_to_snapshots = du.get_project_root() + \"/src/conf/long-term-memory/solutions/\"\n",
    "snapshot_mgr      = SolutionSnapshotManager( path_to_snapshots, debug=False )\n",
    "exemplar_snapshot = snapshot_mgr.get_snapshots_by_question( \"What concerts do I have this week?\" )[ 0 ][ 1 ]\n",
    "similar_snapshots = snapshot_mgr.get_snapshots_by_code_similarity( exemplar_snapshot, threshold=90.0 )\n",
    "\n",
    "agent         = RefactoringAgent( similar_snapshots=similar_snapshots, path_to_solutions=\"/src/conf/long-term-memory/solutions\", debug=True, verbose=True )\n",
    "response_dict = agent.run_prompt()"
   ],
   "metadata": {
    "collapsed": false,
    "ExecuteTime": {
     "end_time": "2023-10-06T18:43:56.617608Z",
     "start_time": "2023-10-06T18:43:09.818896Z"
    }
   },
   "id": "7c9f282bab6e449"
  },
  {
   "cell_type": "code",
   "execution_count": 38,
   "outputs": [
    {
     "data": {
      "text/plain": "\"{'name': 'get_events_by_type_and_date', 'description': 'Gets events of a given type within a date range', 'parameters': {'type': 'object', 'properties': {'df': {'type': 'DataFrame', 'description': 'The DataFrame containing the events'}, 'event_type': {'type': 'string', 'description': 'The type of event'}, 'start_date': {'type': 'Timestamp', 'description': 'The start date of the range'}, 'end_date': {'type': 'Timestamp', 'description': 'The end date of the range'}}, 'required': ['df', 'event_type']}}\""
     },
     "execution_count": 38,
     "metadata": {},
     "output_type": "execute_result"
    }
   ],
   "source": [
    "agent.response_dict[ \"gpt_function_signature\" ]"
   ],
   "metadata": {
    "collapsed": false,
    "ExecuteTime": {
     "end_time": "2023-10-06T21:28:05.299807Z",
     "start_time": "2023-10-06T21:28:05.255309Z"
    }
   },
   "id": "9856ef36e85f5ad7"
  },
  {
   "cell_type": "code",
   "execution_count": 41,
   "outputs": [
    {
     "name": "stdout",
     "output_type": "stream",
     "text": [
      "Writing file [/var/genie-in-the-box/src/lib/autogen/util_calendaring_0.py]... Done!\n",
      "Writing file [/var/genie-in-the-box/src/lib/autogen/util_calendaring_0.json]... Done!\n",
      "Writing file [/var/genie-in-the-box/io/lib/autogen/util_calendaring_0.py]... Done!\n",
      "\n",
      "Generating embedding for [import lib.autogen.util_calendaring_0 as uc0 print(uc0.get_event...]...\n",
      "Generating embedding for [import lib.autogen.util_calendaring_0 as uc0 print(uc0.get_event...]... Done! in 604 ms\n",
      "\n",
      "solution_file value provided: [what-concerts-do-i-have-this-week-0.json]...\n",
      "File path: /var/genie-in-the-box/src/conf/long-term-memory/solutions/what-concerts-do-i-have-this-week-0.json\n",
      "Generating embedding for [import lib.autogen.util_calendaring_0 as uc0 print(uc0.get_event...]...\n",
      "Generating embedding for [import lib.autogen.util_calendaring_0 as uc0 print(uc0.get_event...]... Done! in 505 ms\n",
      "\n",
      "solution_file value provided: [what-birthdays-do-i-have-this-week-0.json]...\n",
      "File path: /var/genie-in-the-box/src/conf/long-term-memory/solutions/what-birthdays-do-i-have-this-week-0.json\n"
     ]
    }
   ],
   "source": [
    "%autoreload\n",
    "agent.refactor_code( debug=False )"
   ],
   "metadata": {
    "collapsed": false,
    "ExecuteTime": {
     "end_time": "2023-10-06T21:34:28.220735Z",
     "start_time": "2023-10-06T21:34:26.950261Z"
    }
   },
   "id": "6e6a93bdf59e157c"
  },
  {
   "cell_type": "code",
   "execution_count": 31,
   "outputs": [
    {
     "name": "stdout",
     "output_type": "stream",
     "text": [
      "last command, before [print(uc0.get_events_by_week_and_type(df, 'Concert'))]:\n",
      "return_type [string]\n",
      "ERROR: return_type [string] and last command [print(uc0.get_events_by_week_and_type(df, 'Concert'))] are incompatible!\n",
      "last command,  after [print(uc0.get_events_by_week_and_type(df, 'Concert'))]:\n",
      "import pandas as pd\n",
      "import lib.util as du\n",
      "import lib.util_pandas as dup\n",
      "\n",
      "debug = True\n",
      "\n",
      "df = pd.read_csv( du.get_project_root() + '/src/conf/long-term-memory/events.csv' )\n",
      "df = dup.cast_to_datetime( df, debug=debug )\n",
      "import lib.autogen.util_calendaring_0 as uc0\n",
      "print(uc0.get_events_by_week_and_type(df, 'Concert'))\n",
      "\n",
      "Executing /var/genie-in-the-box/io/code.py... Done!\n",
      "\n",
      "------------------------------------------------------------------------------------------------------------------------\n",
      "- Code output\n",
      "------------------------------------------------------------------------------------------------------------------------\n",
      "\n",
      "{\"start_date\":1695859200000,\"end_date\":1696377600000,\"start_time\":\"00:00\",\"end_time\":\"23:59\",\"event_type\":\"Concert\",\"recurrent\":false,\"recurrence_interval\":null,\"priority_level\":\"low\",\"name\":\"Leroy Ruiz\",\"relationship\":\"father\",\"description_who_what_where\":\"Concert of Leroy Ruiz at the city center\"}\n",
      "{\"start_date\":1696118400000,\"end_date\":1696204800000,\"start_time\":\"00:00\",\"end_time\":\"23:59\",\"event_type\":\"Concert\",\"recurrent\":false,\"recurrence_interval\":null,\"priority_level\":\"highest\",\"name\":\"Gregorio\",\"relationship\":\"friend\",\"description_who_what_where\":\"Concert of Gregorio at the city center\"}\n",
      "{\"start_date\":1696118400000,\"end_date\":1696377600000,\"start_time\":\"00:00\",\"end_time\":\"23:59\",\"event_type\":\"Concert\",\"recurrent\":false,\"recurrence_interval\":null,\"priority_level\":\"highest\",\"name\":\"John\",\"relationship\":\"coworker\",\"description_who_what_where\":\"Concert of John at the city center\"}\n",
      "last command, before [print(uc0.get_events_by_week_and_type(df, 'Birthday'))]:\n",
      "return_type [string]\n",
      "ERROR: return_type [string] and last command [print(uc0.get_events_by_week_and_type(df, 'Birthday'))] are incompatible!\n",
      "last command,  after [print(uc0.get_events_by_week_and_type(df, 'Birthday'))]:\n",
      "import pandas as pd\n",
      "import lib.util as du\n",
      "import lib.util_pandas as dup\n",
      "\n",
      "debug = True\n",
      "\n",
      "df = pd.read_csv( du.get_project_root() + '/src/conf/long-term-memory/events.csv' )\n",
      "df = dup.cast_to_datetime( df, debug=debug )\n",
      "import lib.autogen.util_calendaring_0 as uc0\n",
      "print(uc0.get_events_by_week_and_type(df, 'Birthday'))\n",
      "\n",
      "Executing /var/genie-in-the-box/io/code.py... Done!\n",
      "\n",
      "------------------------------------------------------------------------------------------------------------------------\n",
      "- Code output\n",
      "------------------------------------------------------------------------------------------------------------------------\n",
      "\n",
      "{\"start_date\":1695772800000,\"end_date\":1696291200000,\"start_time\":\"00:00\",\"end_time\":\"23:59\",\"event_type\":\"Birthday\",\"recurrent\":true,\"recurrence_interval\":\"1 year\",\"priority_level\":\"none\",\"name\":\"Gregorio\",\"relationship\":\"friend\",\"description_who_what_where\":\"Gregorio's birthday party at their favorite bar\"}\n"
     ]
    },
    {
     "data": {
      "text/plain": "[{'return_code': 0,\n  'output': '{\"start_date\":1695859200000,\"end_date\":1696377600000,\"start_time\":\"00:00\",\"end_time\":\"23:59\",\"event_type\":\"Concert\",\"recurrent\":false,\"recurrence_interval\":null,\"priority_level\":\"low\",\"name\":\"Leroy Ruiz\",\"relationship\":\"father\",\"description_who_what_where\":\"Concert of Leroy Ruiz at the city center\"}\\n{\"start_date\":1696118400000,\"end_date\":1696204800000,\"start_time\":\"00:00\",\"end_time\":\"23:59\",\"event_type\":\"Concert\",\"recurrent\":false,\"recurrence_interval\":null,\"priority_level\":\"highest\",\"name\":\"Gregorio\",\"relationship\":\"friend\",\"description_who_what_where\":\"Concert of Gregorio at the city center\"}\\n{\"start_date\":1696118400000,\"end_date\":1696377600000,\"start_time\":\"00:00\",\"end_time\":\"23:59\",\"event_type\":\"Concert\",\"recurrent\":false,\"recurrence_interval\":null,\"priority_level\":\"highest\",\"name\":\"John\",\"relationship\":\"coworker\",\"description_who_what_where\":\"Concert of John at the city center\"}'},\n {'return_code': 0,\n  'output': '{\"start_date\":1695772800000,\"end_date\":1696291200000,\"start_time\":\"00:00\",\"end_time\":\"23:59\",\"event_type\":\"Birthday\",\"recurrent\":true,\"recurrence_interval\":\"1 year\",\"priority_level\":\"none\",\"name\":\"Gregorio\",\"relationship\":\"friend\",\"description_who_what_where\":\"Gregorio\\'s birthday party at their favorite bar\"}'}]"
     },
     "execution_count": 31,
     "metadata": {},
     "output_type": "execute_result"
    }
   ],
   "source": [
    "%autoreload\n",
    "agent.run_code()"
   ],
   "metadata": {
    "collapsed": false,
    "ExecuteTime": {
     "end_time": "2023-10-06T18:17:54.158528Z",
     "start_time": "2023-10-06T18:17:53.639950Z"
    }
   },
   "id": "253ecb3cc15e64f2"
  },
  {
   "cell_type": "code",
   "execution_count": null,
   "outputs": [],
   "source": [],
   "metadata": {
    "collapsed": false
   },
   "id": "afa3ab4af43ebf6f"
  }
 ],
 "metadata": {
  "kernelspec": {
   "display_name": "Python 3",
   "language": "python",
   "name": "python3"
  },
  "language_info": {
   "codemirror_mode": {
    "name": "ipython",
    "version": 2
   },
   "file_extension": ".py",
   "mimetype": "text/x-python",
   "name": "python",
   "nbconvert_exporter": "python",
   "pygments_lexer": "ipython2",
   "version": "2.7.6"
  }
 },
 "nbformat": 4,
 "nbformat_minor": 5
}
