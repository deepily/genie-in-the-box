{
 "cells": [
  {
   "cell_type": "code",
   "execution_count": 1,
   "outputs": [],
   "source": [
    "%load_ext autoreload"
   ],
   "metadata": {
    "collapsed": false,
    "ExecuteTime": {
     "end_time": "2023-10-06T17:34:33.795656Z",
     "start_time": "2023-10-06T17:34:33.774832Z"
    }
   },
   "id": "14c1efa189e09521"
  },
  {
   "cell_type": "code",
   "execution_count": 10,
   "outputs": [
    {
     "name": "stdout",
     "output_type": "stream",
     "text": [
      "[/var/genie-in-the-box/src/lib] already in sys.path\n",
      "['', '/Applications/PyCharm.app/Contents/plugins/python/helpers-pro/jupyter_debug', '/Applications/PyCharm.app/Contents/plugins/python/helpers/pydev', '/usr/local/lib/python3.10', '/usr/local/lib/python3.10/lib-dynload', '/usr/local/lib/python3.10/site-packages', '/usr/local/lib/python310.zip', '/var/genie-in-the-box/src', '/var/genie-in-the-box/src/lib', '/var/genie-in-the-box/src/notebooks']\n",
      "Path [/var/genie-in-the-box/src] already in sys.path\n"
     ]
    }
   ],
   "source": [
    "%autoreload\n",
    "\n",
    "import sys\n",
    "import os\n",
    "import json\n",
    "\n",
    "# os.environ[ \"LANGCHAIN_WANDB_TRACING\" ] = \"true\"\n",
    "# # wandb documentation to configure wandb using env variables\n",
    "# # https://docs.wandb.ai/guides/track/advanced/environment-variables\n",
    "# # here we are configuring the wandb project name\n",
    "# os.environ[ \"WANDB_PROJECT\" ] = \"deepily-dataframe-agent\"\n",
    "\n",
    "path = \"/var/genie-in-the-box/src/lib\"\n",
    "if path not in sys.path:\n",
    "    sys.path.append( path )\n",
    "else:\n",
    "    print( f\"[{path}] already in sys.path\" )\n",
    "\n",
    "print( sys.path )\n",
    "\n",
    "import lib.util as du\n",
    "\n",
    "path = \"/var/genie-in-the-box/src\"\n",
    "du.add_to_path( path )\n",
    "\n",
    "import lib.util_pandas      as up\n",
    "import lib.util_stopwatch   as sw\n",
    "import lib.util_code_runner as ucr\n",
    "\n",
    "from agent_calendaring import CalendaringAgent\n",
    "\n",
    "import pandas as pd\n",
    "import openai\n",
    "\n",
    "debug = True\n",
    "verbose = True\n"
   ],
   "metadata": {
    "collapsed": false,
    "ExecuteTime": {
     "end_time": "2023-10-06T17:37:48.704341Z",
     "start_time": "2023-10-06T17:37:48.640334Z"
    }
   },
   "id": "e4a94b9494513834"
  },
  {
   "cell_type": "code",
   "execution_count": 9,
   "outputs": [
    {
     "name": "stdout",
     "output_type": "stream",
     "text": [
      "Asking ChatGPT [gpt-4-0613]...\n",
      "Asking ChatGPT [gpt-4-0613]... in 1,692 ms\n"
     ]
    },
    {
     "data": {
      "text/plain": "\"My name is ChatGPT. I'm an artificial intelligence designed to assist with information and conversation.\""
     },
     "execution_count": 9,
     "metadata": {},
     "output_type": "execute_result"
    }
   ],
   "source": [
    "GPT_4   = \"gpt-4-0613\"\n",
    "GPT_3_5 = \"gpt-3.5-turbo-0613\"\n",
    "\n",
    "def ask_chat_gpt_text( preamble, query, model=GPT_4, debug=False ):\n",
    "\n",
    "    openai.api_key = os.getenv( \"FALSE_POSITIVE_API_KEY\" )\n",
    "    \n",
    "    timer = sw.Stopwatch( msg=f\"Asking ChatGPT [{model}]...\".format( model ) )\n",
    "    \n",
    "    response = openai.ChatCompletion.create(\n",
    "        model=model,\n",
    "        messages=[ \n",
    "            { \"role\": \"system\", \"content\": preamble },\n",
    "            { \"role\": \"user\",   \"content\": query } \n",
    "        ],\n",
    "        temperature=0,\n",
    "        max_tokens=2400,\n",
    "        top_p=1.0,\n",
    "        frequency_penalty=0.0,\n",
    "        presence_penalty=0.0\n",
    "    )\n",
    "    timer.print( use_millis=True )\n",
    "    \n",
    "    if debug: print( json.dumps( response, indent=4 ) )\n",
    "    \n",
    "    return response[ \"choices\" ][ 0 ][ \"message\" ][ \"content\" ].strip()\n",
    "\n",
    "preamble = \"You are chatGPT, a helpful chatbot\"\n",
    "question = \"What's your name?\"\n",
    "\n",
    "ask_chat_gpt_text( preamble, question, model=GPT_4 )"
   ],
   "metadata": {
    "collapsed": false,
    "ExecuteTime": {
     "end_time": "2023-10-06T17:36:53.866620Z",
     "start_time": "2023-10-06T17:36:52.164383Z"
    }
   },
   "id": "15c33434a5136979"
  },
  {
   "cell_type": "code",
   "execution_count": 21,
   "outputs": [],
   "source": [
    "from solution_snapshot_mgr import SolutionSnapshotManager\n",
    "from agent_refactoring     import RefactoringAgent"
   ],
   "metadata": {
    "collapsed": false,
    "ExecuteTime": {
     "end_time": "2023-10-06T17:45:36.269221Z",
     "start_time": "2023-10-06T17:45:36.238317Z"
    }
   },
   "id": "9b9de1037797d123"
  },
  {
   "cell_type": "code",
   "execution_count": 23,
   "outputs": [
    {
     "name": "stdout",
     "output_type": "stream",
     "text": [
      "\n",
      "------------------------------------------------------------------------------------------------------------------------\n",
      "- Found [32] synonymous questions\n",
      "------------------------------------------------------------------------------------------------------------------------\n",
      "\n",
      "Synonymous question [when is juans birthday] for snapshot.question [when is juans birthday]\n",
      "Synonymous question [when was juan born] for snapshot.question [when is juans birthday]\n",
      "Synonymous question [what day is today] for snapshot.question [what day is today]\n",
      "Synonymous question [whats todays date] for snapshot.question [what day is today]\n",
      "Synonymous question [whats todays day and date] for snapshot.question [what day is today]\n",
      "Synonymous question [what is the day and date for today] for snapshot.question [what day is today]\n",
      "Synonymous question [whats the date] for snapshot.question [what day is today]\n",
      "Synonymous question [say what day is today] for snapshot.question [what day is today]\n",
      "Synonymous question [hey what day is today] for snapshot.question [what day is today]\n",
      "Synonymous question [whats todays day] for snapshot.question [what day is today]\n",
      "Synonymous question [what day is it] for snapshot.question [what day is today]\n",
      "Synonymous question [what time is it] for snapshot.question [what time is it]\n",
      "Synonymous question [got the time] for snapshot.question [what time is it]\n",
      "Synonymous question [whats the time] for snapshot.question [what time is it]\n",
      "Synonymous question [yo what time is it] for snapshot.question [what time is it]\n",
      "Synonymous question [hey you got the time] for snapshot.question [what time is it]\n",
      "Synonymous question [hey you what time is it] for snapshot.question [what time is it]\n",
      "Synonymous question [hey what time is it] for snapshot.question [what time is it]\n",
      "Synonymous question [when is anitas birthday] for snapshot.question [when is anitas birthday]\n",
      "Synonymous question [when is jimmys birthday] for snapshot.question [when is jimmys birthday]\n",
      "Synonymous question [when was jimmy born] for snapshot.question [when is jimmys birthday]\n",
      "Synonymous question [what birthdays do i have this week] for snapshot.question [what birthdays do i have this week]\n",
      "Synonymous question [how many records in this dataframe] for snapshot.question [how many records in this dataframe]\n",
      "Synonymous question [how many rows in this table] for snapshot.question [how many records in this dataframe]\n",
      "Synonymous question [how many records in this table] for snapshot.question [how many records in this dataframe]\n",
      "Synonymous question [how many records in this csv file] for snapshot.question [how many records in this dataframe]\n",
      "Synonymous question [how many records in that table] for snapshot.question [how many records in this dataframe]\n",
      "Synonymous question [how many rows in that data frame] for snapshot.question [how many records in this dataframe]\n",
      "Synonymous question [how many records in that database] for snapshot.question [how many records in this dataframe]\n",
      "Synonymous question [how many records do i have in that table] for snapshot.question [how many records in this dataframe]\n",
      "Synonymous question [What concerts do I have this week?] for snapshot.question [what concerts do i have this week]\n",
      "Synonymous question [what concerts do i have this week] for snapshot.question [what concerts do i have this week]\n",
      "\n",
      "Loading question embeddings dictionary ..................................................................... Done!\n",
      "\n",
      "Code similarity score [99.99998363078215] for [what concerts do i have this wee...] == [what concerts do i have this wee...]\n",
      "Code similarity score [93.02580949890351] for [what concerts do i have this wee...] == [what birthdays do i have this we...]\n",
      "Snippet 1 for question `what concerts do i have this week`: \n",
      "\n",
      "df['start_date'] = pd.to_datetime(df['start_date'])\n",
      "df['end_date'] = pd.to_datetime(df['end_date'])\n",
      "now = pd.Timestamp.now()\n",
      "start_of_week = now - pd.to_timedelta(now.dayofweek, unit='d')\n",
      "end_of_week = start_of_week + pd.to_timedelta(6, unit='d')\n",
      "solution = df[(df['event_type'] == 'Concert') & (df['start_date'] <= end_of_week) & (df['end_date'] >= start_of_week)]\n",
      "print( solution.to_json( orient='records', lines=True ) )\n",
      "\n",
      "Snippet 2 for question `what birthdays do i have this week`: \n",
      "\n",
      "import pandas as pd\n",
      "from datetime import datetime, timedelta\n",
      "start_of_week = pd.Timestamp(datetime.now().date() - timedelta(days=datetime.now().weekday()))\n",
      "end_of_week = start_of_week + pd.DateOffset(days=6)\n",
      "birthday_mask = df['event_type'] == 'Birthday'\n",
      "date_mask = (df['start_date'] <= end_of_week) & (df['end_date'] >= start_of_week)\n",
      "solution = df[birthday_mask & date_mask]\n",
      "print( solution.to_json( orient='records', lines=True ) )\n",
      "\n",
      "\n",
      "------------------------------------------------------------------------------------------------------------------------\n",
      "- Token count for self.system_message: [501]\n",
      "------------------------------------------------------------------------------------------------------------------------\n",
      "\n",
      "\n",
      "        I'm going to show you 2 Python code snippets that are similar, along with the questions they were created to answer.\n",
      "        How would you coalesce or refactor them so that you only need to call one function in all 2 scenarios?\n",
      "        How would you name the function in a way that clearly explains exactly what the function does?\n",
      "        Descriptive function names look like: `get_birthday_by_name`, or `get_birthdays_by_day`, `get_events_by_week_and_type`,`get_events_by_day_and_type`, etc.,\n",
      "\n",
      "        As you generate the Python 3.10 code needed to answer this question, I want you to:\n",
      "\n",
      "        1) Think: Before you do anything, think out loud about what I'm asking you to do, including the steps that you will need to take to solve this problem.\n",
      "        Be critical of your thought process! How will you handle the edge cases? For example, what will you do if your query does not return a result?\n",
      "        2) Code: Generate a verbatim list of code that you used to arrive at your answer, one line of code per item on the list. The code must be complete,\n",
      "        syntactically correct, and capable of running to completion. You must allow for the possibility that your query may not return a result.\n",
      "        3) Return: Report on the object type returned by your last line of code. Use one word to represent the object type.\n",
      "        4) Generate examples: Generate a dictionary containing the code examples needed to call the function you created, one line of code per question provided.\n",
      "        The example function calls must be complete, syntactically correct, and capable of running to completion. Each example must be wrapped in a print statement.\n",
      "        5) Explain: Briefly and succinctly explain your code in plain English.\n",
      "\n",
      "        Format: return your response as a JSON object in the following fields:\n",
      "        {\n",
      "            \"thoughts\": \"Your thoughts\",\n",
      "            \"code\": [],\n",
      "            \"function_name\": \"The name of your function\",\n",
      "            \"returns\": \"Object type of the variable `solution`\",\n",
      "            \"examples\": {}, a dictionary containing the questions and example code, one line of code per question provided.\n",
      "            \"python_version\": \"3.10\",\n",
      "            \"explanation\": \"A brief explanation of your code\",\n",
      "            \"error\": \"Verbatim stack trace or description of issues encountered while attempting to carry out this task.\"\n",
      "        }\n",
      "\n",
      "------------------------------------------------------------------------------------------------------------------------\n",
      "- Token count for self.user_message: [269]\n",
      "------------------------------------------------------------------------------------------------------------------------\n",
      "\n",
      "\n",
      "        Snippet 1 for question `what concerts do i have this week`: \n",
      "\n",
      "df['start_date'] = pd.to_datetime(df['start_date'])\n",
      "df['end_date'] = pd.to_datetime(df['end_date'])\n",
      "now = pd.Timestamp.now()\n",
      "start_of_week = now - pd.to_timedelta(now.dayofweek, unit='d')\n",
      "end_of_week = start_of_week + pd.to_timedelta(6, unit='d')\n",
      "solution = df[(df['event_type'] == 'Concert') & (df['start_date'] <= end_of_week) & (df['end_date'] >= start_of_week)]\n",
      "print( solution.to_json( orient='records', lines=True ) )\n",
      "\n",
      "Snippet 2 for question `what birthdays do i have this week`: \n",
      "\n",
      "import pandas as pd\n",
      "from datetime import datetime, timedelta\n",
      "start_of_week = pd.Timestamp(datetime.now().date() - timedelta(days=datetime.now().weekday()))\n",
      "end_of_week = start_of_week + pd.DateOffset(days=6)\n",
      "birthday_mask = df['event_type'] == 'Birthday'\n",
      "date_mask = (df['start_date'] <= end_of_week) & (df['end_date'] >= start_of_week)\n",
      "solution = df[birthday_mask & date_mask]\n",
      "print( solution.to_json( orient='records', lines=True ) )\n",
      "\n",
      "        Begin!\n",
      "        \n",
      "Asking ChatGPT [gpt-4-0613]...\n",
      "Asking ChatGPT [gpt-4-0613]... in 38,179 ms\n",
      "\n",
      "{\n",
      "    \"id\": \"chatcmpl-86jC0Nh0I8HmMQKvXJgcSzihEzNjt\",\n",
      "    \"object\": \"chat.completion\",\n",
      "    \"created\": 1696614380,\n",
      "    \"model\": \"gpt-4-0613\",\n",
      "    \"choices\": [\n",
      "        {\n",
      "            \"index\": 0,\n",
      "            \"message\": {\n",
      "                \"role\": \"assistant\",\n",
      "                \"content\": \"\\n        {\\n            \\\"thoughts\\\": \\\"Both snippets are doing similar operations: filtering a DataFrame based on event type and date range. The main difference is the event type ('Concert' vs 'Birthday'). I can create a function that takes the event type as a parameter, and use it to filter the DataFrame. This function will also take start and end dates as parameters, allowing it to be used for any date range. If the query does not return a result, the function will return an empty DataFrame.\\\",\\n            \\\"code\\\": [\\n                \\\"import pandas as pd\\\",\\n                \\\"from datetime import datetime, timedelta\\\",\\n                \\\"def get_events_by_type_and_date(df, event_type, start_date, end_date):\\\",\\n                \\\"    df['start_date'] = pd.to_datetime(df['start_date'])\\\",\\n                \\\"    df['end_date'] = pd.to_datetime(df['end_date'])\\\",\\n                \\\"    event_mask = df['event_type'] == event_type\\\",\\n                \\\"    date_mask = (df['start_date'] <= end_date) & (df['end_date'] >= start_date)\\\",\\n                \\\"    solution = df[event_mask & date_mask]\\\",\\n                \\\"    return solution\\\"\\n            ],\\n            \\\"function_name\\\": \\\"get_events_by_type_and_date\\\",\\n            \\\"returns\\\": \\\"DataFrame\\\",\\n            \\\"examples\\\": {\\n                \\\"what concerts do i have this week\\\": \\\"print(get_events_by_type_and_date(df, 'Concert', start_of_week, end_of_week).to_json(orient='records', lines=True))\\\",\\n                \\\"what birthdays do i have this week\\\": \\\"print(get_events_by_type_and_date(df, 'Birthday', start_of_week, end_of_week).to_json(orient='records', lines=True))\\\"\\n            },\\n            \\\"python_version\\\": \\\"3.10\\\",\\n            \\\"explanation\\\": \\\"The function 'get_events_by_type_and_date' takes a DataFrame, an event type, and a start and end date as parameters. It first converts the 'start_date' and 'end_date' columns of the DataFrame to datetime. Then it creates a mask for the event type and a mask for the date range. It applies these masks to the DataFrame to filter it, and returns the filtered DataFrame. If the query does not return a result, it will return an empty DataFrame.\\\",\\n            \\\"error\\\": \\\"No errors encountered.\\\"\\n        }\"\n",
      "            },\n",
      "            \"finish_reason\": \"stop\"\n",
      "        }\n",
      "    ],\n",
      "    \"usage\": {\n",
      "        \"prompt_tokens\": 781,\n",
      "        \"completion_tokens\": 478,\n",
      "        \"total_tokens\": 1259\n",
      "    }\n",
      "}\n",
      "{\n",
      "    \"thoughts\": \"Both snippets are doing similar operations: filtering a DataFrame based on event type and date range. The main difference is the event type ('Concert' vs 'Birthday'). I can create a function that takes the event type as a parameter, and use it to filter the DataFrame. This function will also take start and end dates as parameters, allowing it to be used for any date range. If the query does not return a result, the function will return an empty DataFrame.\",\n",
      "    \"code\": [\n",
      "        \"import pandas as pd\",\n",
      "        \"from datetime import datetime, timedelta\",\n",
      "        \"def get_events_by_type_and_date(df, event_type, start_date, end_date):\",\n",
      "        \"    df['start_date'] = pd.to_datetime(df['start_date'])\",\n",
      "        \"    df['end_date'] = pd.to_datetime(df['end_date'])\",\n",
      "        \"    event_mask = df['event_type'] == event_type\",\n",
      "        \"    date_mask = (df['start_date'] <= end_date) & (df['end_date'] >= start_date)\",\n",
      "        \"    solution = df[event_mask & date_mask]\",\n",
      "        \"    return solution\"\n",
      "    ],\n",
      "    \"function_name\": \"get_events_by_type_and_date\",\n",
      "    \"returns\": \"DataFrame\",\n",
      "    \"examples\": {\n",
      "        \"what concerts do i have this week\": \"print(get_events_by_type_and_date(df, 'Concert', start_of_week, end_of_week).to_json(orient='records', lines=True))\",\n",
      "        \"what birthdays do i have this week\": \"print(get_events_by_type_and_date(df, 'Birthday', start_of_week, end_of_week).to_json(orient='records', lines=True))\"\n",
      "    },\n",
      "    \"python_version\": \"3.10\",\n",
      "    \"explanation\": \"The function 'get_events_by_type_and_date' takes a DataFrame, an event type, and a start and end date as parameters. It first converts the 'start_date' and 'end_date' columns of the DataFrame to datetime. Then it creates a mask for the event type and a mask for the date range. It applies these masks to the DataFrame to filter it, and returns the filtered DataFrame. If the query does not return a result, it will return an empty DataFrame.\",\n",
      "    \"error\": \"No errors encountered.\"\n",
      "}\n"
     ]
    }
   ],
   "source": [
    "%autoreload\n",
    "\n",
    "path_to_snapshots = du.get_project_root() + \"/src/conf/long-term-memory/solutions/\"\n",
    "snapshot_mgr      = SolutionSnapshotManager( path_to_snapshots, debug=False )\n",
    "exemplar_snapshot = snapshot_mgr.get_snapshots_by_question( \"What concerts do I have this week?\" )[ 0 ][ 1 ]\n",
    "similar_snapshots = snapshot_mgr.get_snapshots_by_code_similarity( exemplar_snapshot, threshold=90.0 )\n",
    "\n",
    "agent         = RefactoringAgent( similar_snapshots=similar_snapshots, path_to_solutions=\"/src/conf/long-term-memory/solutions\", debug=True, verbose=True )\n",
    "response_dict = agent.run_prompt()"
   ],
   "metadata": {
    "collapsed": false,
    "ExecuteTime": {
     "end_time": "2023-10-06T17:46:58.830148Z",
     "start_time": "2023-10-06T17:46:20.598999Z"
    }
   },
   "id": "7c9f282bab6e449"
  },
  {
   "cell_type": "code",
   "execution_count": 22,
   "outputs": [
    {
     "ename": "AttributeError",
     "evalue": "'CalendaringAgent' object has no attribute 'update_code'",
     "output_type": "error",
     "traceback": [
      "\u001B[0;31m---------------------------------------------------------------------------\u001B[0m",
      "\u001B[0;31mAttributeError\u001B[0m                            Traceback (most recent call last)",
      "Cell \u001B[0;32mIn[22], line 2\u001B[0m\n\u001B[1;32m      1\u001B[0m get_ipython()\u001B[38;5;241m.\u001B[39mrun_line_magic(\u001B[38;5;124m'\u001B[39m\u001B[38;5;124mautoreload\u001B[39m\u001B[38;5;124m'\u001B[39m, \u001B[38;5;124m'\u001B[39m\u001B[38;5;124m'\u001B[39m)\n\u001B[0;32m----> 2\u001B[0m \u001B[43magent\u001B[49m\u001B[38;5;241;43m.\u001B[39;49m\u001B[43mupdate_code\u001B[49m( debug\u001B[38;5;241m=\u001B[39m\u001B[38;5;28;01mFalse\u001B[39;00m )\n",
      "\u001B[0;31mAttributeError\u001B[0m: 'CalendaringAgent' object has no attribute 'update_code'"
     ]
    }
   ],
   "source": [
    "%autoreload\n",
    "agent.update_code( debug=False )"
   ],
   "metadata": {
    "collapsed": false,
    "ExecuteTime": {
     "end_time": "2023-10-06T17:46:07.564563Z",
     "start_time": "2023-10-06T17:46:07.535347Z"
    }
   },
   "id": "6e6a93bdf59e157c"
  },
  {
   "cell_type": "code",
   "execution_count": null,
   "outputs": [],
   "source": [
    "%autoreload\n",
    "agent.update_examples( debug=True )"
   ],
   "metadata": {
    "collapsed": false
   },
   "id": "5a63062013186096"
  },
  {
   "cell_type": "markdown",
   "source": [
    "### Write the freshly minted function to both the repo and the Io directories, and create all the meditator necessary to execute the code"
   ],
   "metadata": {
    "collapsed": false
   },
   "id": "2f395d528edd149d"
  },
  {
   "cell_type": "code",
   "execution_count": 74,
   "outputs": [
    {
     "name": "stdout",
     "output_type": "stream",
     "text": [
      "Writing file [/var/genie-in-the-box/src/lib/autogen/util_calendaring_4.py]... Done!\n",
      "Writing file [/var/genie-in-the-box/io/lib/autogen/util_calendaring_4.py]... Done!\n",
      "\n",
      "File     count: [4]\n",
      "File file_name: [util_calendaring_4.py]\n",
      "File repo_path: [/var/genie-in-the-box/src/lib/autogen/util_calendaring_4.py]\n",
      "File   io_path: [/var/genie-in-the-box/io/lib/autogen/util_calendaring_4.py]\n",
      "File    abbrev: [uc4]\n",
      "File    import: [import lib.autogen.util_calendaring_4 as uc4]\n"
     ]
    }
   ],
   "source": [
    "import os\n",
    "\n",
    "def write_code_to_unique_files( lines, agent_src_root, agent_lib_chunk, file_name_prefix, suffix=\".py\" ):\n",
    "    \n",
    "    # Get the list of files in the agent_lib_path directory\n",
    "    files = os.listdir( agent_src_root + agent_lib_chunk )\n",
    "    \n",
    "    # Count the number of files with the name {file_name_prefix}{}{suffix}\"\n",
    "    count = sum( 1 for file in files if file.startswith( file_name_prefix ) and file.endswith( suffix ) )\n",
    "    \n",
    "    # Format the file name with the count\n",
    "    file_name = f\"{file_name_prefix}{count}{suffix}\"\n",
    "    util_name = f\"{file_name_prefix}{count}\" \n",
    "    \n",
    "    # Write the file to the repo path\n",
    "    repo_path = os.path.join( agent_src_root, agent_lib_chunk, file_name )\n",
    "    print( f\"Writing file [{repo_path}]... \", end=\"\" )\n",
    "    du.write_lines_to_file( repo_path, lines )\n",
    "    # Set the permissions of the file to be world-readable and writable\n",
    "    os.chmod( repo_path, 0o666 )\n",
    "    print( \"Done!\" )\n",
    "    \n",
    "    # Write the file to the io/execution path\n",
    "    io_path = f\"{du.get_project_root()}/io/{agent_lib_chunk}{file_name}\"\n",
    "    print( f\"Writing file [{io_path}]... \", end=\"\" )\n",
    "    du.write_lines_to_file( io_path, lines )\n",
    "    # Set the permissions of the file to be world-readable and writable\n",
    "    os.chmod( io_path, 0o666 )\n",
    "    print( \"Done!\", end=\"\\n\\n\" )\n",
    "    \n",
    "    # Build import 'as' string:\n",
    "    non_digits   = \"util_calendaring_2\".split( \"_\" )[ :-1 ]\n",
    "    first_digits = \"\".join( [ item[ 0 ] for item in non_digits ] )\n",
    "    abbrev       = f\"{first_digits}{count}\"\n",
    "    as_chunk     = f\"as {abbrev}\"\n",
    "    import_str   = f\"import {agent_lib_chunk.replace( '/', '.' )}{util_name} {as_chunk}\"\n",
    "    \n",
    "    results = { \n",
    "        \"file_name\": file_name,\n",
    "        \"repo_path\": repo_path,\n",
    "          \"io_path\": io_path,\n",
    "            \"count\": count,\n",
    "           \"abbrev\": abbrev,\n",
    "           \"import\": import_str\n",
    "    }\n",
    "\n",
    "    return results\n",
    "\n",
    "# Usage example\n",
    "agent_src_root  = du.get_project_root() + \"/src/\" \n",
    "agent_lib_chunk = \"lib/autogen/\"\n",
    "foo = [ \"import os\", \"import json\" ]\n",
    "\n",
    "code_write_metadata = write_code_to_unique_files( response_dict[ \"code\" ], agent_src_root, agent_lib_chunk, \"util_calendaring_\", suffix=\".py\" )\n",
    "# \n",
    "print( f\"File     count: [{code_write_metadata[ 'count' ]}]\" )\n",
    "print( f\"File file_name: [{code_write_metadata[ 'file_name' ]}]\" )\n",
    "print( f\"File repo_path: [{code_write_metadata[ 'repo_path' ]}]\" )\n",
    "print( f\"File   io_path: [{code_write_metadata[ 'io_path' ]}]\" )\n",
    "print( f\"File    abbrev: [{code_write_metadata[ 'abbrev' ]}]\" )\n",
    "print( f\"File    import: [{code_write_metadata[ 'import' ]}]\" )"
   ],
   "metadata": {
    "collapsed": false,
    "ExecuteTime": {
     "end_time": "2023-10-05T19:59:41.656972Z",
     "start_time": "2023-10-05T19:59:41.629133Z"
    }
   },
   "id": "535927937386723d"
  },
  {
   "cell_type": "markdown",
   "source": [
    "## Update the examples dictionary so that it contains a list of source code needed to execute the freshly minted function"
   ],
   "metadata": {
    "collapsed": false
   },
   "id": "10ede36ad5d5a55b"
  },
  {
   "cell_type": "code",
   "execution_count": 80,
   "outputs": [
    {
     "name": "stdout",
     "output_type": "stream",
     "text": [
      "No need to update [['import lib.autogen.util_calendaring_3 as uc3', \"print(uc3.get_events_by_week_and_type(df, 'Concert').to_json(orient='records', lines=True))\"]]\n",
      "No need to update [['import lib.autogen.util_calendaring_3 as uc3', \"print(uc3.get_events_by_week_and_type(df, 'Birthday').to_json(orient='records', lines=True))\"]]\n"
     ]
    },
    {
     "data": {
      "text/plain": "{'thoughts': 'The two code snippets are very similar. They both filter a DataFrame based on the event type and the date range of the current week. The only difference is the event type they are filtering for. Therefore, we can create a function that takes the event type as a parameter and filters the DataFrame accordingly. We will also need to handle the case where the DataFrame is empty after filtering, in which case we will return an empty DataFrame.',\n 'code': ['import pandas as pd',\n  'from datetime import datetime, timedelta',\n  'def get_events_by_week_and_type(df, event_type):',\n  \"    df['start_date'] = pd.to_datetime(df['start_date'])\",\n  \"    df['end_date'] = pd.to_datetime(df['end_date'])\",\n  '    now = pd.Timestamp.now()',\n  \"    start_of_week = now - pd.to_timedelta(now.dayofweek, unit='d')\",\n  \"    end_of_week = start_of_week + pd.to_timedelta(6, unit='d')\",\n  \"    event_mask = df['event_type'] == event_type\",\n  \"    date_mask = (df['start_date'] <= end_of_week) & (df['end_date'] >= start_of_week)\",\n  '    solution = df[event_mask & date_mask]',\n  '    return solution if not solution.empty else pd.DataFrame()'],\n 'function_name': 'get_events_by_week_and_type',\n 'returns': 'DataFrame',\n 'examples': {'what concerts do i have this week': ['import lib.autogen.util_calendaring_3 as uc3',\n   \"print(uc3.get_events_by_week_and_type(df, 'Concert').to_json(orient='records', lines=True))\"],\n  'what birthdays do i have this week': ['import lib.autogen.util_calendaring_3 as uc3',\n   \"print(uc3.get_events_by_week_and_type(df, 'Birthday').to_json(orient='records', lines=True))\"]},\n 'python_version': '3.10',\n 'explanation': \"The function `get_events_by_week_and_type` takes a DataFrame and an event type as parameters. It first converts the 'start_date' and 'end_date' columns to datetime. Then it calculates the start and end of the current week. It creates a mask for the event type and a mask for the date range of the current week. It then filters the DataFrame using these masks and returns the result. If the result is empty, it returns an empty DataFrame.\",\n 'error': 'No errors encountered.'}"
     },
     "execution_count": 80,
     "metadata": {},
     "output_type": "execute_result"
    }
   ],
   "source": [
    "def update_example_code( refactoring_response_dict, code_metadata, debug=False ):\n",
    "    \n",
    "    function_name = refactoring_response_dict[ \"function_name\" ]\n",
    "    \n",
    "    # Update the examples dictionary so that it contains a list of source code needed to execute the freshly minted function\n",
    "    for key, value in refactoring_response_dict[ \"examples\" ].items():\n",
    "        \n",
    "        if debug: print( f\"Before: {key}: {value}\" )\n",
    "        if type( value ) is not list:\n",
    "            value = value.replace( function_name, f\"{code_metadata[ 'abbrev' ]}.{function_name}\" )\n",
    "            value = [ code_metadata[ 'import' ], value ]\n",
    "        else:\n",
    "            print( f\"No need to update [{value}]\" )\n",
    "        if debug: print( f\" After: {key}: {value}\" )\n",
    "        \n",
    "        refactoring_response_dict[ \"examples\" ][ key ] = value\n",
    "        \n",
    "    return refactoring_response_dict\n",
    "\n",
    "response_dict = update_example_code( response_dict.copy(), code_write_metadata )\n",
    "response_dict\n",
    "    "
   ],
   "metadata": {
    "collapsed": false,
    "ExecuteTime": {
     "end_time": "2023-10-05T20:01:22.638983Z",
     "start_time": "2023-10-05T20:01:22.614229Z"
    }
   },
   "id": "7077d93d001efefd"
  },
  {
   "cell_type": "code",
   "execution_count": 82,
   "outputs": [
    {
     "data": {
      "text/plain": "{'what concerts do i have this week': ['import lib.autogen.util_calendaring_3 as uc3',\n  \"print(uc3.get_events_by_week_and_type(df, 'Concert').to_json(orient='records', lines=True))\"],\n 'what birthdays do i have this week': ['import lib.autogen.util_calendaring_3 as uc3',\n  \"print(uc3.get_events_by_week_and_type(df, 'Birthday').to_json(orient='records', lines=True))\"]}"
     },
     "execution_count": 82,
     "metadata": {},
     "output_type": "execute_result"
    }
   ],
   "source": [
    "response_dict[ \"examples\" ]"
   ],
   "metadata": {
    "collapsed": false,
    "ExecuteTime": {
     "end_time": "2023-10-05T20:03:13.169592Z",
     "start_time": "2023-10-05T20:03:13.136362Z"
    }
   },
   "id": "e303638e1fbbfbc8"
  },
  {
   "cell_type": "code",
   "execution_count": 101,
   "outputs": [],
   "source": [
    "import solution_snapshot as ss"
   ],
   "metadata": {
    "collapsed": false,
    "ExecuteTime": {
     "end_time": "2023-10-05T20:19:44.488632Z",
     "start_time": "2023-10-05T20:19:44.448779Z"
    }
   },
   "id": "64ed591a12df7958"
  },
  {
   "cell_type": "code",
   "execution_count": 102,
   "outputs": [
    {
     "name": "stdout",
     "output_type": "stream",
     "text": [
      "------------------------------------------------------------------------------------------------------------------------\n",
      "- BEFORE updating `what concerts do i have this week`...\n",
      "------------------------------------------------------------------------------------------------------------------------\n",
      "\n",
      "import lib.autogen.util_calendaring_3 as uc3\n",
      "print(uc3.get_events_by_week_and_type(df, 'Concert').to_json(orient='records', lines=True))\n",
      "\n",
      "\n",
      "Generating embedding for [import lib.autogen.util_calendaring_3 as uc3 print(uc3.get_event...]...\n",
      "Generating embedding for [import lib.autogen.util_calendaring_3 as uc3 print(uc3.get_event...]... Done! in 322 ms\n",
      "\n",
      "solution_file value provided: [what-concerts-do-i-have-this-week-0.json]...\n",
      "File path: /var/genie-in-the-box/src/conf/long-term-memory/solutions/what-concerts-do-i-have-this-week-0.json\n",
      "------------------------------------------------------------------------------------------------------------------------\n",
      "-  AFTER updating `what concerts do i have this week`...\n",
      "------------------------------------------------------------------------------------------------------------------------\n",
      "\n",
      "import lib.autogen.util_calendaring_3 as uc3\n",
      "print(uc3.get_events_by_week_and_type(df, 'Concert').to_json(orient='records', lines=True))\n",
      "\n",
      "\n",
      "------------------------------------------------------------------------------------------------------------------------\n",
      "- BEFORE updating `what birthdays do i have this week`...\n",
      "------------------------------------------------------------------------------------------------------------------------\n",
      "\n",
      "import lib.autogen.util_calendaring_3 as uc3\n",
      "print(uc3.get_events_by_week_and_type(df, 'Birthday').to_json(orient='records', lines=True))\n",
      "\n",
      "\n",
      "Generating embedding for [import lib.autogen.util_calendaring_3 as uc3 print(uc3.get_event...]...\n",
      "Generating embedding for [import lib.autogen.util_calendaring_3 as uc3 print(uc3.get_event...]... Done! in 165 ms\n",
      "\n",
      "solution_file value provided: [what-birthdays-do-i-have-this-week-0.json]...\n",
      "File path: /var/genie-in-the-box/src/conf/long-term-memory/solutions/what-birthdays-do-i-have-this-week-0.json\n",
      "------------------------------------------------------------------------------------------------------------------------\n",
      "-  AFTER updating `what birthdays do i have this week`...\n",
      "------------------------------------------------------------------------------------------------------------------------\n",
      "\n",
      "import lib.autogen.util_calendaring_3 as uc3\n",
      "print(uc3.get_events_by_week_and_type(df, 'Birthday').to_json(orient='records', lines=True))\n"
     ]
    }
   ],
   "source": [
    "def update_snapshot_code( snapshots, refactoring_response_dict, debug=False ):\n",
    "    \n",
    "    for snapshot in snapshots:\n",
    "        \n",
    "        if debug:\n",
    "            du.print_banner( f\"BEFORE updating `{snapshot[ 1 ].question}`...\", prepend_nl=False )\n",
    "            for line in snapshot[ 1 ].code: print( line )\n",
    "            print( \"\\n\" )\n",
    "            \n",
    "        # Update the code, using the question as the key\n",
    "        new_code = refactoring_response_dict[ \"examples\" ][ snapshot[ 1 ].question ]\n",
    "        snapshot[ 1 ].code           = new_code\n",
    "        snapshot[ 1 ].code_embedding = ss.SolutionSnapshot.generate_embedding( \" \".join( new_code ) )\n",
    "        snapshot[ 1 ].write_to_file()\n",
    "        \n",
    "        if debug:\n",
    "            du.print_banner( f\" AFTER updating `{snapshot[ 1 ].question}`...\", prepend_nl=False )\n",
    "            for line in snapshot[ 1 ].code: print( line )\n",
    "            print( \"\\n\" )\n",
    "        \n",
    "    \n",
    "update_snapshot_code( similar_snapshots, response_dict, debug=True )"
   ],
   "metadata": {
    "collapsed": false,
    "ExecuteTime": {
     "end_time": "2023-10-05T20:29:31.167031Z",
     "start_time": "2023-10-05T20:29:30.663261Z"
    }
   },
   "id": "1c9dad5e40471eef"
  },
  {
   "cell_type": "code",
   "execution_count": null,
   "outputs": [],
   "source": [],
   "metadata": {
    "collapsed": false
   },
   "id": "afa3ab4af43ebf6f"
  }
 ],
 "metadata": {
  "kernelspec": {
   "display_name": "Python 3",
   "language": "python",
   "name": "python3"
  },
  "language_info": {
   "codemirror_mode": {
    "name": "ipython",
    "version": 2
   },
   "file_extension": ".py",
   "mimetype": "text/x-python",
   "name": "python",
   "nbconvert_exporter": "python",
   "pygments_lexer": "ipython2",
   "version": "2.7.6"
  }
 },
 "nbformat": 4,
 "nbformat_minor": 5
}
