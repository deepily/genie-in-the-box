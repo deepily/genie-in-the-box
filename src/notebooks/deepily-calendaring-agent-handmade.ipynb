{
 "cells": [
  {
   "cell_type": "code",
   "execution_count": 1,
   "outputs": [],
   "source": [
    "%load_ext autoreload"
   ],
   "metadata": {
    "collapsed": false,
    "ExecuteTime": {
     "end_time": "2023-10-11T15:01:55.568969Z",
     "start_time": "2023-10-11T15:01:55.561978Z"
    }
   },
   "id": "14c1efa189e09521"
  },
  {
   "cell_type": "code",
   "execution_count": 2,
   "outputs": [
    {
     "name": "stdout",
     "output_type": "stream",
     "text": [
      "/var/genie-in-the-box/src/notebooks\n",
      "/var/genie-in-the-box/src\n"
     ]
    }
   ],
   "source": [
    "import os\n",
    "print( os.getcwd() )\n",
    "os.chdir( \"/var/genie-in-the-box/src\" )\n",
    "print( os.getcwd() )"
   ],
   "metadata": {
    "collapsed": false,
    "ExecuteTime": {
     "end_time": "2023-10-11T15:01:56.132145Z",
     "start_time": "2023-10-11T15:01:56.126510Z"
    }
   },
   "id": "b117e3a7855590eb"
  },
  {
   "cell_type": "code",
   "execution_count": 5,
   "outputs": [
    {
     "name": "stdout",
     "output_type": "stream",
     "text": [
      "pwd [/var/genie-in-the-box/src]\n",
      "\n",
      "/Applications/PyCharm.app/Contents/plugins/python/helpers-pro/jupyter_debug\n",
      "/Applications/PyCharm.app/Contents/plugins/python/helpers/pydev\n",
      "/usr/local/lib/python3.10\n",
      "/usr/local/lib/python3.10/lib-dynload\n",
      "/usr/local/lib/python3.10/site-packages\n",
      "/usr/local/lib/python310.zip\n",
      "/var/genie-in-the-box/src/notebooks\n"
     ]
    }
   ],
   "source": [
    "%autoreload\n",
    "\n",
    "import sys\n",
    "import os\n",
    "import json\n",
    "\n",
    "# os.environ[ \"LANGCHAIN_WANDB_TRACING\" ] = \"true\"\n",
    "# # wandb documentation to configure wandb using env variables\n",
    "# # https://docs.wandb.ai/guides/track/advanced/environment-variables\n",
    "# # here we are configuring the wandb project name\n",
    "# os.environ[ \"WANDB_PROJECT\" ] = \"deepily-dataframe-agent\"\n",
    "\n",
    "# path = \"/var/genie-in-the-box/src/lib\"\n",
    "# if path not in sys.path:\n",
    "#     sys.path.append( path )\n",
    "# else:\n",
    "#     print( f\"[{path}] already in sys.path\" )\n",
    "# \n",
    "# print( sys.path )\n",
    "\n",
    "import lib.util             as du\n",
    "\n",
    "import lib.util_pandas      as up\n",
    "import lib.util_stopwatch   as sw\n",
    "import lib.util_code_runner as ucr\n",
    "\n",
    "from solution_snapshot_mgr  import SolutionSnapshotManager\n",
    "from agent_refactoring      import RefactoringAgent\n",
    "from agent_function_mapping import FunctionMappingAgent\n",
    "\n",
    "import openai\n",
    "import pandas as pd\n",
    "\n",
    "debug   = True\n",
    "verbose = True\n"
   ],
   "metadata": {
    "collapsed": false,
    "ExecuteTime": {
     "end_time": "2023-10-11T15:05:11.327917Z",
     "start_time": "2023-10-11T15:05:11.304842Z"
    }
   },
   "id": "e4a94b9494513834"
  },
  {
   "cell_type": "code",
   "execution_count": 6,
   "outputs": [
    {
     "data": {
      "text/plain": "start_date\n2023-11-01    2\n2023-10-28    2\n2023-09-30    2\n2023-10-13    1\n2023-10-30    1\n2023-10-22    1\n2023-10-21    1\n2023-10-20    1\n2023-10-19    1\n2023-10-15    1\n2023-09-01    1\n2023-09-06    1\n2023-10-03    1\n2023-09-28    1\n2023-09-27    1\n2023-09-20    1\n2023-09-12    1\n2023-09-09    1\n2023-10-07    1\nName: count, dtype: int64"
     },
     "execution_count": 6,
     "metadata": {},
     "output_type": "execute_result"
    }
   ],
   "source": [
    "df = pd.read_csv( du.get_project_root() + \"/src/conf/long-term-memory/events.csv\" )\n",
    "df[ ( df.event_type == 'concert' ) ].start_date.value_counts()\n"
   ],
   "metadata": {
    "collapsed": false,
    "ExecuteTime": {
     "end_time": "2023-10-11T15:05:36.053504Z",
     "start_time": "2023-10-11T15:05:36.025925Z"
    }
   },
   "id": "9d135abbb37b4379"
  },
  {
   "cell_type": "code",
   "execution_count": 7,
   "outputs": [
    {
     "name": "stdout",
     "output_type": "stream",
     "text": [
      "skipping df\n",
      "event_type {'type': 'string', 'description': 'The type of event to filter for'}\n"
     ]
    },
    {
     "data": {
      "text/plain": "['event_type']"
     },
     "execution_count": 7,
     "metadata": {},
     "output_type": "execute_result"
    }
   ],
   "source": [
    "foo = \"\"\"[{ \"name\": \"get_this_weeks_events_by_type\", \"description\": \"Gets events of a certain type that occur within a certain date range (default is this week)\", \"parameters\": { \"type\": \"object\", \"properties\": { \"df\": { \"type\": \"object\", \"description\": \"The dataframe containing the events\" }, \"event_type\": { \"type\": \"string\", \"description\": \"The type of event to filter for\" } }, \"required\": [\"df\"] } }]\"\"\"\n",
    "\n",
    "def get_parameter_names( signature_dict ):\n",
    "    \n",
    "    params = []\n",
    "    for k, v in signature_dict[ 0 ][ \"parameters\" ][ \"properties\" ].items():\n",
    "        if k != \"df\":\n",
    "            params.append( k )\n",
    "            print( k, v )\n",
    "        else:\n",
    "            print( \"skipping df\" )\n",
    "            \n",
    "    return params\n",
    "    \n",
    "foo_dict = json.loads( foo )\n",
    "get_parameter_names( foo_dict )"
   ],
   "metadata": {
    "collapsed": false,
    "ExecuteTime": {
     "end_time": "2023-10-11T15:05:38.201515Z",
     "start_time": "2023-10-11T15:05:38.194891Z"
    }
   },
   "id": "8304cb0c60bffd96"
  },
  {
   "cell_type": "code",
   "execution_count": 8,
   "outputs": [
    {
     "name": "stdout",
     "output_type": "stream",
     "text": [
      "{ \"name\": \"get_this_weeks_events_by_type\", \"description\": \"Gets events of a certain type that occur within the current week\", \"parameters\": { \"type\": \"object\", \"properties\": { \"df\": { \"type\": \"object\", \"description\": \"The dataframe containing the events\" }, \"event_type\": { \"type\": \"string\", \"description\": \"The type of event to filter for\" } }, \"required\": [\"df\", \"event_type\"] } }\n"
     ]
    }
   ],
   "source": [
    "import re\n",
    "import json\n",
    "\n",
    "# Original string\n",
    "original_string = \"{ 'name': 'get_this_weeks_events_by_type', 'description': 'Gets events of a certain type that occur within the current week', 'parameters': { 'type': 'object', 'properties': { 'df': { 'type': 'object', 'description': 'The dataframe containing the events' }, 'event_type': { 'type': 'string', 'description': 'The type of event to filter for' } }, 'required': ['df', 'event_type'] } }\"\n",
    "\n",
    "# Regular expression to match single quotes at the start or end of words\n",
    "pattern = r\"'(?=\\w)|(?<=\\w)'\"\n",
    "\n",
    "# Replace matched patterns with double quotes\n",
    "fixed_string = re.sub( pattern, '\"', original_string )\n",
    "print( fixed_string )\n",
    "\n",
    "# Encode the string as a JSON object\n",
    "json_object = json.loads( fixed_string )\n",
    "\n",
    "# Print the JSON object\n",
    "# print(json_object)"
   ],
   "metadata": {
    "collapsed": false,
    "ExecuteTime": {
     "end_time": "2023-10-11T15:05:41.389658Z",
     "start_time": "2023-10-11T15:05:41.387793Z"
    }
   },
   "id": "69f823621ba316c4"
  },
  {
   "cell_type": "markdown",
   "source": [
    "### Prototype & test new function prompt"
   ],
   "metadata": {
    "collapsed": false
   },
   "id": "d74b076f8c6f6421"
  },
  {
   "cell_type": "code",
   "execution_count": 9,
   "outputs": [
    {
     "name": "stdout",
     "output_type": "stream",
     "text": [
      "Token count for `system_message`: [745]\n",
      "Token count for `user_message`: [16]\n",
      "Asking ChatGPT [gpt-4-0613]...\n",
      "Asking ChatGPT [gpt-4-0613]... in 13,570 ms\n"
     ]
    },
    {
     "data": {
      "text/plain": "{'thoughts': \"The question is asking about 'todos' for 'today'. This maps to the function 'get_todays_events_by_type' which gets today's events of a specific type. The event type in this case is 'todo'.\",\n 'is_event_function_call': True,\n 'question': 'do i have any todos for today',\n 'function_name': 'get_todays_events_by_type',\n 'kwargs_key': 'event_type',\n 'kwargs_value': 'todo',\n 'import_as': 'import lib.autogen.util_calendaring_0 as uc0',\n 'call_template': \"uc0.get_todays_events_by_type( df, event_type='todo' )\",\n 'code': ['import lib.autogen.util_calendaring_0 as uc0',\n  \"uc0.get_todays_events_by_type( df, event_type='todo' )\"]}"
     },
     "execution_count": 9,
     "metadata": {},
     "output_type": "execute_result"
    }
   ],
   "source": [
    "%autoreload\n",
    "fm_agent      = FunctionMappingAgent( \"/src/conf/long-term-memory/events.csv\", debug=True )\n",
    "results_dict  = fm_agent.run_prompt( question=\"Do I have any TODO's for today?\" )\n",
    "results_dict"
   ],
   "metadata": {
    "collapsed": false,
    "ExecuteTime": {
     "end_time": "2023-10-11T15:06:17.231039Z",
     "start_time": "2023-10-11T15:06:03.420464Z"
    }
   },
   "id": "e0746c58f15021d1"
  },
  {
   "cell_type": "code",
   "execution_count": 10,
   "outputs": [
    {
     "name": "stdout",
     "output_type": "stream",
     "text": [
      "last command, before [uc0.get_todays_events_by_type( df, event_type='todo' )]:\n",
      "return_type [string]\n",
      "ERROR: return_type [string] and last command [uc0.get_todays_events_by_type( df, event_type='todo' )] are incompatible!\n",
      "last command,  after [uc0.get_todays_events_by_type( df, event_type='todo' )]:\n",
      "import pandas as pd\n",
      "import lib.util as du\n",
      "import lib.util_pandas as dup\n",
      "\n",
      "debug = True\n",
      "\n",
      "df = pd.read_csv( du.get_project_root() + '/src/conf/long-term-memory/events.csv' )\n",
      "df = dup.cast_to_datetime( df, debug=debug )\n",
      "import lib.autogen.util_calendaring_0 as uc0\n",
      "uc0.get_todays_events_by_type( df, event_type='todo' )\n",
      "\n",
      "Executing /var/genie-in-the-box/io/code.py... Done!\n"
     ]
    }
   ],
   "source": [
    "%autoreload\n",
    "if fm_agent.is_runnable():\n",
    "    \n",
    "    code_response = fm_agent.run_code()\n",
    "    code_response\n"
   ],
   "metadata": {
    "collapsed": false,
    "ExecuteTime": {
     "end_time": "2023-10-11T15:06:37.111222Z",
     "start_time": "2023-10-11T15:06:36.848859Z"
    }
   },
   "id": "d0c1b2c46085314d"
  },
  {
   "cell_type": "code",
   "execution_count": 11,
   "outputs": [
    {
     "data": {
      "text/plain": "dict_keys(['get_todays_events_by_type', 'get_this_weeks_events_by_type'])"
     },
     "execution_count": 11,
     "metadata": {},
     "output_type": "execute_result"
    }
   ],
   "source": [
    "fm_agent.signatures_dict.keys()"
   ],
   "metadata": {
    "collapsed": false,
    "ExecuteTime": {
     "end_time": "2023-10-11T15:06:42.722178Z",
     "start_time": "2023-10-11T15:06:42.715916Z"
    }
   },
   "id": "c2d9df23bcbbb720"
  },
  {
   "cell_type": "code",
   "execution_count": null,
   "outputs": [],
   "source": [],
   "metadata": {
    "collapsed": false
   },
   "id": "59372c63a43a4b86"
  },
  {
   "cell_type": "code",
   "execution_count": null,
   "outputs": [],
   "source": [],
   "metadata": {
    "collapsed": false
   },
   "id": "35789b2d4be35c63"
  },
  {
   "cell_type": "markdown",
   "source": [
    "### Test new refactoring agent"
   ],
   "metadata": {
    "collapsed": false
   },
   "id": "181d5d613fb7323"
  },
  {
   "cell_type": "code",
   "execution_count": 14,
   "outputs": [],
   "source": [
    "%autoreload\n",
    "    \n",
    "def begin_refactoring_similar_questions( question, run_prompt=False, threshold=90.0, debug=False ):\n",
    "    \n",
    "    path_to_snapshots = du.get_project_root() + \"/src/conf/long-term-memory/solutions/\"\n",
    "    snapshot_mgr      = SolutionSnapshotManager( path_to_snapshots, debug=debug )\n",
    "    exemplar_snapshot = snapshot_mgr.get_snapshots_by_question( question )[ 0 ][ 1 ]\n",
    "    similar_snapshots = snapshot_mgr.get_snapshots_by_code_similarity( exemplar_snapshot, threshold=threshold )\n",
    "        \n",
    "    agent = RefactoringAgent( \n",
    "        similar_snapshots=similar_snapshots, \n",
    "        path_to_solutions=\"/src/conf/long-term-memory/solutions\", \n",
    "        debug=True, verbose=True \n",
    "    )\n",
    "    \n",
    "    if run_prompt and agent.is_promptable():\n",
    "        agent.run_prompt()\n",
    "    else:\n",
    "        print( f\"run_prompt={run_prompt} -- OR -- No similar snapshots found for [{du.truncate_string( exemplar_snapshot.question, max_len=32 )}]\" )\n",
    "        \n",
    "    return agent\n",
    "    \n",
    "# agent = begin_refactoring_similar_questions( \"What birthdays do I have this week?\", threshold=90.0, debug=False )        "
   ],
   "metadata": {
    "collapsed": false,
    "ExecuteTime": {
     "end_time": "2023-10-11T15:08:20.764130Z",
     "start_time": "2023-10-11T15:08:20.747817Z"
    }
   },
   "id": "6baaa423cca266bd"
  },
  {
   "cell_type": "code",
   "execution_count": 16,
   "outputs": [
    {
     "name": "stdout",
     "output_type": "stream",
     "text": [
      "\n",
      "------------------------------------------------------------------------------------------------------------------------\n",
      "- Found [35] synonymous questions\n",
      "------------------------------------------------------------------------------------------------------------------------\n",
      "\n",
      "Synonymous question [when is juans birthday] for snapshot.question [when is juans birthday]\n",
      "Synonymous question [what day is today] for snapshot.question [what day is today]\n",
      "Synonymous question [whats todays date] for snapshot.question [what day is today]\n",
      "Synonymous question [whats todays day and date] for snapshot.question [what day is today]\n",
      "Synonymous question [what is the day and date for today] for snapshot.question [what day is today]\n",
      "Synonymous question [whats the date] for snapshot.question [what day is today]\n",
      "Synonymous question [say what day is today] for snapshot.question [what day is today]\n",
      "Synonymous question [hey what day is today] for snapshot.question [what day is today]\n",
      "Synonymous question [whats todays day] for snapshot.question [what day is today]\n",
      "Synonymous question [what day is it] for snapshot.question [what day is today]\n",
      "Synonymous question [what time is it] for snapshot.question [what time is it]\n",
      "Synonymous question [got the time] for snapshot.question [what time is it]\n",
      "Synonymous question [whats the time] for snapshot.question [what time is it]\n",
      "Synonymous question [yo what time is it] for snapshot.question [what time is it]\n",
      "Synonymous question [hey you got the time] for snapshot.question [what time is it]\n",
      "Synonymous question [hey you what time is it] for snapshot.question [what time is it]\n",
      "Synonymous question [hey what time is it] for snapshot.question [what time is it]\n",
      "Synonymous question [what performances do i have today] for snapshot.question [what performances do i have today]\n",
      "Synonymous question [what appointments do i have today] for snapshot.question [what appointments do i have today]\n",
      "Synonymous question [when is anitas birthday] for snapshot.question [when is anitas birthday]\n",
      "Synonymous question [when is jimmys birthday] for snapshot.question [when is jimmys birthday]\n",
      "Synonymous question [wins jimmys birthday] for snapshot.question [when is jimmys birthday]\n",
      "Synonymous question [whens jimmys birthday] for snapshot.question [when is jimmys birthday]\n",
      "Synonymous question [what birthdays do i have this week] for snapshot.question [what birthdays do i have this week]\n",
      "Synonymous question [what conferences do i have today] for snapshot.question [what conferences do i have today]\n",
      "Synonymous question [when is bobby's birthday?] for snapshot.question [when is bobbys birthday]\n",
      "Synonymous question [how many records in this dataframe] for snapshot.question [how many records in this dataframe]\n",
      "Synonymous question [how many rows in this table] for snapshot.question [how many records in this dataframe]\n",
      "Synonymous question [how many records in this table] for snapshot.question [how many records in this dataframe]\n",
      "Synonymous question [how many records in this csv file] for snapshot.question [how many records in this dataframe]\n",
      "Synonymous question [how many records in that table] for snapshot.question [how many records in this dataframe]\n",
      "Synonymous question [how many rows in that data frame] for snapshot.question [how many records in this dataframe]\n",
      "Synonymous question [how many records in that database] for snapshot.question [how many records in this dataframe]\n",
      "Synonymous question [how many records do i have in that table] for snapshot.question [how many records in this dataframe]\n",
      "Synonymous question [what concerts do i have this week] for snapshot.question [what concerts do i have this week]\n",
      "\n",
      "Loading question embeddings dictionary ................................................................................. Done!\n",
      "\n",
      "Code similarity score [100.00000437172396] for [when is juans birthday] == [when is juans birthday]\n",
      "Code similarity score [93.98539677896765] for [when is juans birthday] == [when is jimmys birthday]\n",
      "Code similarity score [93.73497347530555] for [when is juans birthday] == [when is bobbys birthday]\n",
      "Code similarity score [93.43809233404457] for [when is juans birthday] == [when is anitas birthday]\n",
      "\n",
      "Snippet 1 for question `when is juans birthday`: \n",
      "\n",
      "juan_birthday_df = df[(df['event_type'] == 'birthday') & (df['name'] == 'Juan')]\n",
      "solution = juan_birthday_df['start_date'].values[0] if not juan_birthday_df.empty else 'No birthday found for Juan'\n",
      "print( solution )\n",
      "\n",
      "Snippet 2 for question `when is jimmys birthday`: \n",
      "\n",
      "jimmy_birthday_df = df[(df['name'] == 'Jimmy') & (df['event_type'] == 'birthday')]\n",
      "solution = jimmy_birthday_df['start_date'].values[0] if not jimmy_birthday_df.empty else None\n",
      "print( solution )\n",
      "\n",
      "Snippet 3 for question `when is bobbys birthday`: \n",
      "\n",
      "bobby_birthday_df = df[(df['name'] == 'Bobby') & (df['event_type'] == 'birthday')]\n",
      "solution = bobby_birthday_df['start_date'].values[0] if not bobby_birthday_df.empty else 'No birthday found for Bobby'\n",
      "print( solution )\n",
      "\n",
      "Snippet 4 for question `when is anitas birthday`: \n",
      "\n",
      "anita_birthday_df = df[(df['event_type'] == 'birthday') & (df['name'] == 'Anita')]\n",
      "solution = anita_birthday_df['start_date'].values[0] if not anita_birthday_df.empty else 'No birthday found for Anita'\n",
      "print( solution )\n",
      "\n",
      "run_prompt=False -- OR -- No similar snapshots found for [when is juans birthday]\n"
     ]
    }
   ],
   "source": [
    "%autoreload\n",
    "rf_agent = begin_refactoring_similar_questions( \"When is Juan's birthday?\" )\n",
    "# agent"
   ],
   "metadata": {
    "collapsed": false,
    "ExecuteTime": {
     "end_time": "2023-10-11T15:09:09.290935Z",
     "start_time": "2023-10-11T15:09:09.229210Z"
    }
   },
   "id": "6021192ecc93d3c9"
  },
  {
   "cell_type": "code",
   "execution_count": 17,
   "outputs": [
    {
     "name": "stdout",
     "output_type": "stream",
     "text": [
      "\n",
      "------------------------------------------------------------------------------------------------------------------------\n",
      "- Token count for `system_message`: [778]\n",
      "------------------------------------------------------------------------------------------------------------------------\n",
      "\n",
      "\n",
      "        I'm going to show you 4 Python code snippets that are similar, along with the questions they were created to answer.\n",
      "        How would you coalesce or refactor them so that you only need to call one function in all 4 scenarios?\n",
      "        How would you name the function in a way that clearly explains exactly what the date range is, e.g., 'get_this_months_events_by_type', as well as what the function does?\n",
      "        Descriptive function names MUST look like: `get_birthday_by_name`, or `get_todays_events`, `get_todays_events_by_type`, `get_tomorrows_events`, `get_this_weeks_events`, `get_this_weeks_events_by_type`,`get_this_months_events_by_type`, etc.,\n",
      "\n",
      "        As you generate the Python 3.10 code needed to answer this question, I want you to:\n",
      "\n",
      "        1) Think: Before you do anything, think out loud about what I'm asking you to do, including the steps that you will need to take to solve this problem.\n",
      "        Be critical of your thought process! How will you handle the edge cases? For example, what will you do if your query does not return a result?\n",
      "        2) Code: Generate a verbatim list of code that you used to arrive at your answer, one line of code per item on the list. The code must be complete,\n",
      "        syntactically correct, and capable of running to completion. You must allow for the possibility that your query may not return a result.\n",
      "        3) Document: Create a GPT function signature (gpt_function_signatures) that can be used by GPT to call the function you create. The function signature MUST be\n",
      "        syntactically correct.\n",
      "        4) Generate examples: Generate a dictionary containing the code examples needed to call the function you created, one line of code per question provided.\n",
      "        The example function calls must be complete, syntactically correct, and capable of running to completion. Each example must be wrapped in a print statement.\n",
      "        5) Explain: Briefly and succinctly explain your code in plain English.\n",
      "\n",
      "        Format: return your response as a syntactically correct JSON object with the following fields and formatting:\n",
      "        {\n",
      "            \"thoughts\": \"Your thoughts\",\n",
      "            \"code\": [],\n",
      "            \"function_name\": \"The name of your function. It must describe the time period being filtered, e.g., `get_tomorrows_events`, get_todays_events`, etc.\",\n",
      "            \"parameters\": \"The parameters to your function, only two are allowed: the 1st will always be `df` and the 2nd will always be **kwargs. All keys in the\n",
      "            **kwargs dictionary MUST be the names of the pandas field they correspond to in the dataframe.\",\n",
      "            \"gpt_function_signatures\":\"[\n",
      "            {\n",
      "                \"name\": \"get_current_weather\",\n",
      "                \"description\": \"Gets the current weather in a given location\",\n",
      "                \"parameters\": {\n",
      "                    \"type\": \"object\",\n",
      "                    \"properties\": {\n",
      "                        \"location\": {\n",
      "                            \"type\": \"string\",\n",
      "                            \"description\": \"The city and state, e.g. San Francisco, CA\",\n",
      "                        },\n",
      "                        \"unit\": {\"type\": \"string\", \"enum\": [\"celsius\", \"fahrenheit\"]},\n",
      "                    },\n",
      "                    \"required\": [\"location\"],\n",
      "                },\n",
      "            }]\",\n",
      "            \"returns\": \"Object type of the variable `solution`\",\n",
      "            \"examples\": {}, a dictionary containing the questions and example code, one line of code per question provided.\n",
      "            \"python_version\": \"3.10\",\n",
      "            \"explanation\": \"A brief explanation of your code\",\n",
      "            \"error\": \"Verbatim stack trace or description of issues encountered while attempting to carry out this task.\"\n",
      "        }\n",
      "\n",
      "------------------------------------------------------------------------------------------------------------------------\n",
      "- Token count for `user_message`: [305]\n",
      "------------------------------------------------------------------------------------------------------------------------\n",
      "\n",
      "\n",
      "        Snippet 1 for question `when is juans birthday`: \n",
      "\n",
      "juan_birthday_df = df[(df['event_type'] == 'birthday') & (df['name'] == 'Juan')]\n",
      "solution = juan_birthday_df['start_date'].values[0] if not juan_birthday_df.empty else 'No birthday found for Juan'\n",
      "print( solution )\n",
      "\n",
      "Snippet 2 for question `when is jimmys birthday`: \n",
      "\n",
      "jimmy_birthday_df = df[(df['name'] == 'Jimmy') & (df['event_type'] == 'birthday')]\n",
      "solution = jimmy_birthday_df['start_date'].values[0] if not jimmy_birthday_df.empty else None\n",
      "print( solution )\n",
      "\n",
      "Snippet 3 for question `when is bobbys birthday`: \n",
      "\n",
      "bobby_birthday_df = df[(df['name'] == 'Bobby') & (df['event_type'] == 'birthday')]\n",
      "solution = bobby_birthday_df['start_date'].values[0] if not bobby_birthday_df.empty else 'No birthday found for Bobby'\n",
      "print( solution )\n",
      "\n",
      "Snippet 4 for question `when is anitas birthday`: \n",
      "\n",
      "anita_birthday_df = df[(df['event_type'] == 'birthday') & (df['name'] == 'Anita')]\n",
      "solution = anita_birthday_df['start_date'].values[0] if not anita_birthday_df.empty else 'No birthday found for Anita'\n",
      "print( solution )\n",
      "\n",
      "        Begin!\n",
      "        \n",
      "Asking ChatGPT [gpt-4-0613]...\n",
      "Asking ChatGPT [gpt-4-0613]... in 46,092 ms\n",
      "\n",
      "{\n",
      "    \"id\": \"chatcmpl-88V7mTxZPUdxJhYscMJZqfwr5bnps\",\n",
      "    \"object\": \"chat.completion\",\n",
      "    \"created\": 1697036958,\n",
      "    \"model\": \"gpt-4-0613\",\n",
      "    \"choices\": [\n",
      "        {\n",
      "            \"index\": 0,\n",
      "            \"message\": {\n",
      "                \"role\": \"assistant\",\n",
      "                \"content\": \"{\\n    \\\"thoughts\\\": \\\"The four code snippets are essentially doing the same thing: filtering a dataframe based on the 'event_type' and 'name' columns, and then returning the 'start_date' of the first row in the filtered dataframe. The only difference between the snippets is the name of the person whose birthday is being queried. This suggests that we can create a single function that takes the name as a parameter and returns the birthday for that person. If the query does not return a result, we can return a message indicating that no birthday was found for the given name.\\\",\\n    \\\"code\\\": [\\n        \\\"def get_birthday_by_name(df, **kwargs):\\\",\\n        \\\"    name = kwargs.get('name')\\\",\\n        \\\"    filtered_df = df[(df['event_type'] == 'birthday') & (df['name'] == name)]\\\",\\n        \\\"    return filtered_df['start_date'].values[0] if not filtered_df.empty else f'No birthday found for {name}'\\\"\\n    ],\\n    \\\"function_name\\\": \\\"get_birthday_by_name\\\",\\n    \\\"parameters\\\": \\\"df, **kwargs\\\",\\n    \\\"gpt_function_signatures\\\": \\\"[{\\\\\\\"name\\\\\\\": \\\\\\\"get_birthday_by_name\\\\\\\",\\\\\\\"description\\\\\\\": \\\\\\\"Gets the birthday of a given person from a dataframe\\\\\\\",\\\\\\\"parameters\\\\\\\": {\\\\\\\"type\\\\\\\": \\\\\\\"object\\\\\\\",\\\\\\\"properties\\\\\\\": {\\\\\\\"df\\\\\\\": {\\\\\\\"type\\\\\\\": \\\\\\\"object\\\\\\\",\\\\\\\"description\\\\\\\": \\\\\\\"The dataframe containing the data\\\\\\\"},\\\\\\\"name\\\\\\\": {\\\\\\\"type\\\\\\\": \\\\\\\"string\\\\\\\",\\\\\\\"description\\\\\\\": \\\\\\\"The name of the person whose birthday is being queried\\\\\\\"}},\\\\\\\"required\\\\\\\": [\\\\\\\"df\\\\\\\", \\\\\\\"name\\\\\\\"]}}]\\\",\\n    \\\"returns\\\": \\\"String\\\",\\n    \\\"examples\\\": {\\n        \\\"when is juans birthday\\\": \\\"print(get_birthday_by_name(df, name='Juan'))\\\",\\n        \\\"when is jimmys birthday\\\": \\\"print(get_birthday_by_name(df, name='Jimmy'))\\\",\\n        \\\"when is bobbys birthday\\\": \\\"print(get_birthday_by_name(df, name='Bobby'))\\\",\\n        \\\"when is anitas birthday\\\": \\\"print(get_birthday_by_name(df, name='Anita'))\\\"\\n    },\\n    \\\"python_version\\\": \\\"3.10\\\",\\n    \\\"explanation\\\": \\\"The function 'get_birthday_by_name' takes a dataframe and a name as parameters. It filters the dataframe to rows where the 'event_type' is 'birthday' and the 'name' matches the given name. It then returns the 'start_date' of the first row in the filtered dataframe, which is the birthday of the person. If the filtered dataframe is empty, it returns a message indicating that no birthday was found for the given name.\\\",\\n    \\\"error\\\": \\\"\\\"\\n}\"\n",
      "            },\n",
      "            \"finish_reason\": \"stop\"\n",
      "        }\n",
      "    ],\n",
      "    \"usage\": {\n",
      "        \"prompt_tokens\": 1094,\n",
      "        \"completion_tokens\": 549,\n",
      "        \"total_tokens\": 1643\n",
      "    }\n",
      "}\n",
      "{\n",
      "    \"thoughts\": \"The four code snippets are essentially doing the same thing: filtering a dataframe based on the 'event_type' and 'name' columns, and then returning the 'start_date' of the first row in the filtered dataframe. The only difference between the snippets is the name of the person whose birthday is being queried. This suggests that we can create a single function that takes the name as a parameter and returns the birthday for that person. If the query does not return a result, we can return a message indicating that no birthday was found for the given name.\",\n",
      "    \"code\": [\n",
      "        \"def get_birthday_by_name(df, **kwargs):\",\n",
      "        \"    name = kwargs.get('name')\",\n",
      "        \"    filtered_df = df[(df['event_type'] == 'birthday') & (df['name'] == name)]\",\n",
      "        \"    return filtered_df['start_date'].values[0] if not filtered_df.empty else f'No birthday found for {name}'\"\n",
      "    ],\n",
      "    \"function_name\": \"get_birthday_by_name\",\n",
      "    \"parameters\": \"df, **kwargs\",\n",
      "    \"gpt_function_signatures\": \"[{\\\"name\\\": \\\"get_birthday_by_name\\\",\\\"description\\\": \\\"Gets the birthday of a given person from a dataframe\\\",\\\"parameters\\\": {\\\"type\\\": \\\"object\\\",\\\"properties\\\": {\\\"df\\\": {\\\"type\\\": \\\"object\\\",\\\"description\\\": \\\"The dataframe containing the data\\\"},\\\"name\\\": {\\\"type\\\": \\\"string\\\",\\\"description\\\": \\\"The name of the person whose birthday is being queried\\\"}},\\\"required\\\": [\\\"df\\\", \\\"name\\\"]}}]\",\n",
      "    \"returns\": \"String\",\n",
      "    \"examples\": {\n",
      "        \"when is juans birthday\": \"print(get_birthday_by_name(df, name='Juan'))\",\n",
      "        \"when is jimmys birthday\": \"print(get_birthday_by_name(df, name='Jimmy'))\",\n",
      "        \"when is bobbys birthday\": \"print(get_birthday_by_name(df, name='Bobby'))\",\n",
      "        \"when is anitas birthday\": \"print(get_birthday_by_name(df, name='Anita'))\"\n",
      "    },\n",
      "    \"python_version\": \"3.10\",\n",
      "    \"explanation\": \"The function 'get_birthday_by_name' takes a dataframe and a name as parameters. It filters the dataframe to rows where the 'event_type' is 'birthday' and the 'name' matches the given name. It then returns the 'start_date' of the first row in the filtered dataframe, which is the birthday of the person. If the filtered dataframe is empty, it returns a message indicating that no birthday was found for the given name.\",\n",
      "    \"error\": \"\"\n",
      "}\n"
     ]
    },
    {
     "data": {
      "text/plain": "{'thoughts': \"The four code snippets are essentially doing the same thing: filtering a dataframe based on the 'event_type' and 'name' columns, and then returning the 'start_date' of the first row in the filtered dataframe. The only difference between the snippets is the name of the person whose birthday is being queried. This suggests that we can create a single function that takes the name as a parameter and returns the birthday for that person. If the query does not return a result, we can return a message indicating that no birthday was found for the given name.\",\n 'code': ['def get_birthday_by_name(df, **kwargs):',\n  \"    name = kwargs.get('name')\",\n  \"    filtered_df = df[(df['event_type'] == 'birthday') & (df['name'] == name)]\",\n  \"    return filtered_df['start_date'].values[0] if not filtered_df.empty else f'No birthday found for {name}'\"],\n 'function_name': 'get_birthday_by_name',\n 'parameters': 'df, **kwargs',\n 'gpt_function_signatures': '[{\"name\": \"get_birthday_by_name\",\"description\": \"Gets the birthday of a given person from a dataframe\",\"parameters\": {\"type\": \"object\",\"properties\": {\"df\": {\"type\": \"object\",\"description\": \"The dataframe containing the data\"},\"name\": {\"type\": \"string\",\"description\": \"The name of the person whose birthday is being queried\"}},\"required\": [\"df\", \"name\"]}}]',\n 'returns': 'String',\n 'examples': {'when is juans birthday': \"print(get_birthday_by_name(df, name='Juan'))\",\n  'when is jimmys birthday': \"print(get_birthday_by_name(df, name='Jimmy'))\",\n  'when is bobbys birthday': \"print(get_birthday_by_name(df, name='Bobby'))\",\n  'when is anitas birthday': \"print(get_birthday_by_name(df, name='Anita'))\"},\n 'python_version': '3.10',\n 'explanation': \"The function 'get_birthday_by_name' takes a dataframe and a name as parameters. It filters the dataframe to rows where the 'event_type' is 'birthday' and the 'name' matches the given name. It then returns the 'start_date' of the first row in the filtered dataframe, which is the birthday of the person. If the filtered dataframe is empty, it returns a message indicating that no birthday was found for the given name.\",\n 'error': ''}"
     },
     "execution_count": 17,
     "metadata": {},
     "output_type": "execute_result"
    }
   ],
   "source": [
    "%autoreload\n",
    "rf_agent.run_prompt()"
   ],
   "metadata": {
    "collapsed": false,
    "ExecuteTime": {
     "end_time": "2023-10-11T15:10:04.211781Z",
     "start_time": "2023-10-11T15:09:18.092269Z"
    }
   },
   "id": "924dcb231738f1dd"
  },
  {
   "cell_type": "code",
   "execution_count": 19,
   "outputs": [
    {
     "name": "stdout",
     "output_type": "stream",
     "text": [
      "Writing file [/var/genie-in-the-box/src/lib/autogen/util_calendaring_2.py]... Done!\n",
      "Writing file [/var/genie-in-the-box/src/lib/autogen/util_calendaring_2.json]... Done!\n",
      "Writing file [/var/genie-in-the-box/io/lib/autogen/util_calendaring_2.py]... Done!\n",
      "\n",
      "Generating embedding for [import lib.autogen.util_calendaring_2 as uc2 print(uc2.get_birth...]...\n",
      "Generating embedding for [import lib.autogen.util_calendaring_2 as uc2 print(uc2.get_birth...]... Done! in 235 ms\n",
      "\n",
      "solution_file value provided: [when-is-juans-birthday-0.json]...\n",
      "File path: /var/genie-in-the-box/src/conf/long-term-memory/solutions/when-is-juans-birthday-0.json\n",
      "\n",
      "Generating embedding for [import lib.autogen.util_calendaring_2 as uc2 print(uc2.get_birth...]...\n",
      "Generating embedding for [import lib.autogen.util_calendaring_2 as uc2 print(uc2.get_birth...]... Done! in 215 ms\n",
      "\n",
      "solution_file value provided: [when-is-jimmys-birthday-0.json]...\n",
      "File path: /var/genie-in-the-box/src/conf/long-term-memory/solutions/when-is-jimmys-birthday-0.json\n",
      "\n",
      "Generating embedding for [import lib.autogen.util_calendaring_2 as uc2 print(uc2.get_birth...]...\n",
      "Generating embedding for [import lib.autogen.util_calendaring_2 as uc2 print(uc2.get_birth...]... Done! in 176 ms\n",
      "\n",
      "solution_file value provided: [when-is-bobbys-birthday-0.json]...\n",
      "File path: /var/genie-in-the-box/src/conf/long-term-memory/solutions/when-is-bobbys-birthday-0.json\n",
      "\n",
      "Generating embedding for [import lib.autogen.util_calendaring_2 as uc2 print(uc2.get_birth...]...\n",
      "Generating embedding for [import lib.autogen.util_calendaring_2 as uc2 print(uc2.get_birth...]... Done! in 179 ms\n",
      "\n",
      "solution_file value provided: [when-is-anitas-birthday-0.json]...\n",
      "File path: /var/genie-in-the-box/src/conf/long-term-memory/solutions/when-is-anitas-birthday-0.json\n"
     ]
    }
   ],
   "source": [
    "%autoreload\n",
    "rf_agent.refactor_code( update_example_code=True, debug=False )"
   ],
   "metadata": {
    "collapsed": false,
    "ExecuteTime": {
     "end_time": "2023-10-11T15:13:09.092118Z",
     "start_time": "2023-10-11T15:13:08.232381Z"
    }
   },
   "id": "2e2b5540867bbae4"
  },
  {
   "cell_type": "code",
   "execution_count": 20,
   "outputs": [
    {
     "name": "stdout",
     "output_type": "stream",
     "text": [
      "last command, before [print(uc2.get_birthday_by_name(df, name='Juan'))]:\n",
      "return_type [string]\n",
      "ERROR: return_type [string] and last command [print(uc2.get_birthday_by_name(df, name='Juan'))] are incompatible!\n",
      "last command,  after [print(uc2.get_birthday_by_name(df, name='Juan'))]:\n",
      "import pandas as pd\n",
      "import lib.util as du\n",
      "import lib.util_pandas as dup\n",
      "\n",
      "debug = True\n",
      "\n",
      "df = pd.read_csv( du.get_project_root() + '/src/conf/long-term-memory/events.csv' )\n",
      "df = dup.cast_to_datetime( df, debug=debug )\n",
      "import lib.autogen.util_calendaring_2 as uc2\n",
      "print(uc2.get_birthday_by_name(df, name='Juan'))\n",
      "\n",
      "Executing /var/genie-in-the-box/io/code.py... Done!\n",
      "\n",
      "------------------------------------------------------------------------------------------------------------------------\n",
      "- Code output\n",
      "------------------------------------------------------------------------------------------------------------------------\n",
      "\n",
      "2023-10-13T00:00:00.000000000\n",
      "\n",
      "last command, before [print(uc2.get_birthday_by_name(df, name='Jimmy'))]:\n",
      "return_type [string]\n",
      "ERROR: return_type [string] and last command [print(uc2.get_birthday_by_name(df, name='Jimmy'))] are incompatible!\n",
      "last command,  after [print(uc2.get_birthday_by_name(df, name='Jimmy'))]:\n",
      "import pandas as pd\n",
      "import lib.util as du\n",
      "import lib.util_pandas as dup\n",
      "\n",
      "debug = True\n",
      "\n",
      "df = pd.read_csv( du.get_project_root() + '/src/conf/long-term-memory/events.csv' )\n",
      "df = dup.cast_to_datetime( df, debug=debug )\n",
      "import lib.autogen.util_calendaring_2 as uc2\n",
      "print(uc2.get_birthday_by_name(df, name='Jimmy'))\n",
      "\n",
      "Executing /var/genie-in-the-box/io/code.py... Done!\n",
      "\n",
      "------------------------------------------------------------------------------------------------------------------------\n",
      "- Code output\n",
      "------------------------------------------------------------------------------------------------------------------------\n",
      "\n",
      "No birthday found for Jimmy\n",
      "\n",
      "last command, before [print(uc2.get_birthday_by_name(df, name='Bobby'))]:\n",
      "return_type [string]\n",
      "ERROR: return_type [string] and last command [print(uc2.get_birthday_by_name(df, name='Bobby'))] are incompatible!\n",
      "last command,  after [print(uc2.get_birthday_by_name(df, name='Bobby'))]:\n",
      "import pandas as pd\n",
      "import lib.util as du\n",
      "import lib.util_pandas as dup\n",
      "\n",
      "debug = True\n",
      "\n",
      "df = pd.read_csv( du.get_project_root() + '/src/conf/long-term-memory/events.csv' )\n",
      "df = dup.cast_to_datetime( df, debug=debug )\n",
      "import lib.autogen.util_calendaring_2 as uc2\n",
      "print(uc2.get_birthday_by_name(df, name='Bobby'))\n",
      "\n",
      "Executing /var/genie-in-the-box/io/code.py... Done!\n",
      "\n",
      "------------------------------------------------------------------------------------------------------------------------\n",
      "- Code output\n",
      "------------------------------------------------------------------------------------------------------------------------\n",
      "\n",
      "No birthday found for Bobby\n",
      "\n",
      "last command, before [print(uc2.get_birthday_by_name(df, name='Anita'))]:\n",
      "return_type [string]\n",
      "ERROR: return_type [string] and last command [print(uc2.get_birthday_by_name(df, name='Anita'))] are incompatible!\n",
      "last command,  after [print(uc2.get_birthday_by_name(df, name='Anita'))]:\n",
      "import pandas as pd\n",
      "import lib.util as du\n",
      "import lib.util_pandas as dup\n",
      "\n",
      "debug = True\n",
      "\n",
      "df = pd.read_csv( du.get_project_root() + '/src/conf/long-term-memory/events.csv' )\n",
      "df = dup.cast_to_datetime( df, debug=debug )\n",
      "import lib.autogen.util_calendaring_2 as uc2\n",
      "print(uc2.get_birthday_by_name(df, name='Anita'))\n",
      "\n",
      "Executing /var/genie-in-the-box/io/code.py... Done!\n",
      "\n",
      "------------------------------------------------------------------------------------------------------------------------\n",
      "- Code output\n",
      "------------------------------------------------------------------------------------------------------------------------\n",
      "\n",
      "No birthday found for Anita\n"
     ]
    },
    {
     "data": {
      "text/plain": "[{'return_code': 0, 'output': '2023-10-13T00:00:00.000000000'},\n {'return_code': 0, 'output': 'No birthday found for Jimmy'},\n {'return_code': 0, 'output': 'No birthday found for Bobby'},\n {'return_code': 0, 'output': 'No birthday found for Anita'}]"
     },
     "execution_count": 20,
     "metadata": {},
     "output_type": "execute_result"
    }
   ],
   "source": [
    "rf_agent.run_code()"
   ],
   "metadata": {
    "collapsed": false,
    "ExecuteTime": {
     "end_time": "2023-10-11T15:13:55.186229Z",
     "start_time": "2023-10-11T15:13:54.148083Z"
    }
   },
   "id": "96fcae1a47ecd770"
  },
  {
   "cell_type": "code",
   "execution_count": null,
   "outputs": [],
   "source": [],
   "metadata": {
    "collapsed": false
   },
   "id": "63e4cb32f588a1c5"
  }
 ],
 "metadata": {
  "kernelspec": {
   "display_name": "Python 3",
   "language": "python",
   "name": "python3"
  },
  "language_info": {
   "codemirror_mode": {
    "name": "ipython",
    "version": 2
   },
   "file_extension": ".py",
   "mimetype": "text/x-python",
   "name": "python",
   "nbconvert_exporter": "python",
   "pygments_lexer": "ipython2",
   "version": "2.7.6"
  }
 },
 "nbformat": 4,
 "nbformat_minor": 5
}
