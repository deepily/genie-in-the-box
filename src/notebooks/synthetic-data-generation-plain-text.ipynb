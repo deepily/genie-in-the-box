{
 "cells": [
  {
   "cell_type": "code",
   "execution_count": 4,
   "outputs": [],
   "source": [
    "import openai\n",
    "import os\n",
    "import importlib.util\n",
    "import sys\n",
    "from os import walk\n",
    "import json\n",
    "import pandas as pd\n",
    "\n",
    "pd.set_option( \"display.width\", 512)\n",
    "pd.set_option( \"display.max_columns\", 6 )\n",
    "# import sys\n",
    "# import datetime as dt"
   ],
   "metadata": {
    "collapsed": false,
    "ExecuteTime": {
     "end_time": "2023-07-10T16:58:12.517245Z",
     "start_time": "2023-07-10T16:58:12.447465Z"
    }
   }
  },
  {
   "cell_type": "code",
   "execution_count": 5,
   "outputs": [],
   "source": [
    "import datetime as dt\n",
    "import os\n",
    "\n",
    "# from lib import util as du\n",
    "\n",
    "\n",
    "class Stopwatch:\n",
    "\n",
    "    def __init__( self ):\n",
    "\n",
    "        self.start_time = dt.datetime.now()\n",
    "\n",
    "    def print( self, msg=None, prepend_nl=False, end=\"\\n\\n\", use_millis=False ):\n",
    "\n",
    "        \"\"\"\n",
    "        Prints time elapsed since instantiation\n",
    "\n",
    "        If more than 1 minute has passed it uses \"mm:ss\" format.  Otherwise, it just prints seconds\n",
    "\n",
    "        ¡OJO!/NOTE: This is fairly simpleminded, it's probably more accurate to use timeit\n",
    "\n",
    "        :param msg: Text to the output before elapsed time is reported\n",
    "\n",
    "        :param prepend_nl: Insert a new line before printing to the console, defaults to False\n",
    "\n",
    "        :param end: Optional text to append to the end of the output, similar to how print works in the standard library.  Defaults to two carriage turns\n",
    "\n",
    "        :param use_millis: Dump elapsed time in milliseconds to the console. Faults to False\n",
    "\n",
    "        :return: None, Prince to console only\n",
    "        \"\"\"\n",
    "\n",
    "        seconds = (dt.datetime.now() - self.start_time).seconds\n",
    "\n",
    "        # check msg argument\n",
    "        if msg is None: msg = \"Finished\"\n",
    "\n",
    "        # preformat output\n",
    "        if prepend_nl: print()\n",
    "\n",
    "        if use_millis:\n",
    "\n",
    "            # From: https://stackoverflow.com/questions/766335/python-speed-testing-time-difference-milliseconds\n",
    "            delta = dt.datetime.now() - self.start_time\n",
    "            millis = int( delta.total_seconds() * 1000 )\n",
    "\n",
    "            print( \"{0} in {1:,} ms\".format( msg, millis ), end=end )\n",
    "\n",
    "        elif seconds > 59:\n",
    "\n",
    "            # From: https://stackoverflow.com/questions/775049/how-do-i-convert-seconds-to-hours-minutes-and-seconds\n",
    "            minutes, seconds = divmod( seconds, 60 )\n",
    "            print( \"{0} in {1:02d}:{2:02d}\".format( msg, minutes, seconds ), end=end )\n",
    "\n",
    "        else:\n",
    "            print( \"{0} in {1:,} seconds\".format( msg, seconds ), end=end )\n",
    "\n",
    "    def get_delta( self ):\n",
    "\n",
    "        \"\"\"\n",
    "        Calculate the delta between now and when this object was instantiated\n",
    "\n",
    "        :return: Time delta in milliseconds\n",
    "        \"\"\"\n",
    "\n",
    "        delta = dt.datetime.now() - self.start_time\n",
    "        millis = int( delta.total_seconds() * 1000 )\n",
    "\n",
    "        return millis\n"
   ],
   "metadata": {
    "collapsed": false,
    "ExecuteTime": {
     "end_time": "2023-07-10T16:58:14.591029Z",
     "start_time": "2023-07-10T16:58:14.584117Z"
    }
   }
  },
  {
   "cell_type": "code",
   "execution_count": 21,
   "outputs": [
    {
     "name": "stdout",
     "output_type": "stream",
     "text": [
      "Finished doing foo in 0 ms\n",
      "\n"
     ]
    }
   ],
   "source": [
    "timer = Stopwatch()\n",
    "timer.print( \"Finished doing foo\", use_millis=True )"
   ],
   "metadata": {
    "collapsed": false,
    "ExecuteTime": {
     "end_time": "2023-07-07T01:11:00.614015Z",
     "start_time": "2023-07-07T01:11:00.607400Z"
    }
   }
  },
  {
   "cell_type": "code",
   "execution_count": 8,
   "outputs": [
    {
     "name": "stdout",
     "output_type": "stream",
     "text": [
      " loading /var/genie-in-the-box/src/lib/util.py... \n",
      "------------------------------------------------------------------------------------------------------------------------\n",
      "- foo\n",
      "------------------------------------------------------------------------------------------------------------------------\n",
      "\n"
     ]
    }
   ],
   "source": [
    "# From: https://stackoverflow.com/questions/67631/how-can-i-import-a-module-dynamically-given-the-full-path\n",
    "\n",
    "def import_module( path ):\n",
    "\n",
    "    print( \" loading {}... \".format( path ) )\n",
    "    spec = importlib.util.spec_from_file_location( \"module.name\", path )\n",
    "    mod = importlib.util.module_from_spec( spec )\n",
    "    sys.modules[ \"module.name\" ] = mod\n",
    "    spec.loader.exec_module( mod )\n",
    "\n",
    "    return mod\n",
    "# du =\n",
    "lib_path = \"/var/genie-in-the-box/src/lib\"\n",
    "\n",
    "du = import_module( lib_path + \"/util.py\" )\n",
    "\n",
    "du.print_banner( \"foo\" )\n"
   ],
   "metadata": {
    "collapsed": false,
    "ExecuteTime": {
     "end_time": "2023-07-10T16:58:51.615981Z",
     "start_time": "2023-07-10T16:58:51.602204Z"
    }
   }
  },
  {
   "cell_type": "code",
   "execution_count": 26,
   "outputs": [
    {
     "name": "stdout",
     "output_type": "stream",
     "text": [
      "-rw-rw-r-- 1 1000 1000 2.7K Jun 19 17:08 /var/genie-in-the-box/src/lib/util_stopwatch.py\r\n"
     ]
    }
   ],
   "source": [
    "! ls -alh /var/genie-in-the-box/src/lib/util_stopwatch.py"
   ],
   "metadata": {
    "collapsed": false,
    "ExecuteTime": {
     "end_time": "2023-07-05T20:22:13.371710Z",
     "start_time": "2023-07-05T20:22:13.249394Z"
    }
   }
  },
  {
   "cell_type": "code",
   "execution_count": 8,
   "outputs": [
    {
     "name": "stdout",
     "output_type": "stream",
     "text": [
      " loading /var/genie-in-the-box/src/lib/util_stopwatch.py... \n"
     ]
    },
    {
     "ename": "ModuleNotFoundError",
     "evalue": "No module named 'lib'",
     "output_type": "error",
     "traceback": [
      "\u001B[0;31m---------------------------------------------------------------------------\u001B[0m",
      "\u001B[0;31mModuleNotFoundError\u001B[0m                       Traceback (most recent call last)",
      "Cell \u001B[0;32mIn[8], line 11\u001B[0m\n\u001B[1;32m      7\u001B[0m     spec\u001B[38;5;241m.\u001B[39mloader\u001B[38;5;241m.\u001B[39mexec_module( mod )\n\u001B[1;32m      9\u001B[0m     \u001B[38;5;28;01mreturn\u001B[39;00m mod\n\u001B[0;32m---> 11\u001B[0m sw \u001B[38;5;241m=\u001B[39m \u001B[43mimport_sw\u001B[49m\u001B[43m(\u001B[49m\u001B[43m \u001B[49m\u001B[43mlib_path\u001B[49m\u001B[43m \u001B[49m\u001B[38;5;241;43m+\u001B[39;49m\u001B[43m \u001B[49m\u001B[38;5;124;43m\"\u001B[39;49m\u001B[38;5;124;43m/util_stopwatch.py\u001B[39;49m\u001B[38;5;124;43m\"\u001B[39;49m\u001B[43m \u001B[49m\u001B[43m)\u001B[49m\n\u001B[1;32m     12\u001B[0m sw\n",
      "Cell \u001B[0;32mIn[8], line 7\u001B[0m, in \u001B[0;36mimport_sw\u001B[0;34m(path)\u001B[0m\n\u001B[1;32m      5\u001B[0m mod \u001B[38;5;241m=\u001B[39m importlib\u001B[38;5;241m.\u001B[39mutil\u001B[38;5;241m.\u001B[39mmodule_from_spec( spec )\n\u001B[1;32m      6\u001B[0m sys\u001B[38;5;241m.\u001B[39mmodules[ \u001B[38;5;124m\"\u001B[39m\u001B[38;5;124mmodule.name\u001B[39m\u001B[38;5;124m\"\u001B[39m ] \u001B[38;5;241m=\u001B[39m mod\n\u001B[0;32m----> 7\u001B[0m \u001B[43mspec\u001B[49m\u001B[38;5;241;43m.\u001B[39;49m\u001B[43mloader\u001B[49m\u001B[38;5;241;43m.\u001B[39;49m\u001B[43mexec_module\u001B[49m\u001B[43m(\u001B[49m\u001B[43m \u001B[49m\u001B[43mmod\u001B[49m\u001B[43m \u001B[49m\u001B[43m)\u001B[49m\n\u001B[1;32m      9\u001B[0m \u001B[38;5;28;01mreturn\u001B[39;00m mod\n",
      "File \u001B[0;32m<frozen importlib._bootstrap_external>:883\u001B[0m, in \u001B[0;36mexec_module\u001B[0;34m(self, module)\u001B[0m\n",
      "File \u001B[0;32m<frozen importlib._bootstrap>:241\u001B[0m, in \u001B[0;36m_call_with_frames_removed\u001B[0;34m(f, *args, **kwds)\u001B[0m\n",
      "File \u001B[0;32m/var/genie-in-the-box/src/lib/util_stopwatch.py:4\u001B[0m\n\u001B[1;32m      1\u001B[0m \u001B[38;5;28;01mimport\u001B[39;00m \u001B[38;5;21;01mdatetime\u001B[39;00m \u001B[38;5;28;01mas\u001B[39;00m \u001B[38;5;21;01mdt\u001B[39;00m\n\u001B[1;32m      2\u001B[0m \u001B[38;5;28;01mimport\u001B[39;00m \u001B[38;5;21;01mos\u001B[39;00m\n\u001B[0;32m----> 4\u001B[0m \u001B[38;5;28;01mfrom\u001B[39;00m \u001B[38;5;21;01mlib\u001B[39;00m \u001B[38;5;28;01mimport\u001B[39;00m util \u001B[38;5;28;01mas\u001B[39;00m du\n\u001B[1;32m      7\u001B[0m \u001B[38;5;28;01mclass\u001B[39;00m \u001B[38;5;21;01mStopwatch\u001B[39;00m:\n\u001B[1;32m      9\u001B[0m     \u001B[38;5;28;01mdef\u001B[39;00m \u001B[38;5;21m__init__\u001B[39m( \u001B[38;5;28mself\u001B[39m ):\n",
      "\u001B[0;31mModuleNotFoundError\u001B[0m: No module named 'lib'"
     ]
    }
   ],
   "source": [
    "def import_sw( path ):\n",
    "\n",
    "    print( \" loading {}... \".format( path ) )\n",
    "    spec = importlib.util.spec_from_file_location( \"module.name\", path )\n",
    "    mod = importlib.util.module_from_spec( spec )\n",
    "    sys.modules[ \"module.name\" ] = mod\n",
    "    spec.loader.exec_module( mod )\n",
    "\n",
    "    return mod\n",
    "\n",
    "sw = import_sw( lib_path + \"/util_stopwatch.py\" )\n",
    "sw\n"
   ],
   "metadata": {
    "collapsed": false,
    "ExecuteTime": {
     "end_time": "2023-07-06T15:05:25.340092Z",
     "start_time": "2023-07-06T15:05:25.311423Z"
    }
   }
  },
  {
   "cell_type": "code",
   "execution_count": 9,
   "outputs": [
    {
     "name": "stdout",
     "output_type": "stream",
     "text": [
      " loading /var/genie-in-the-box/src/lib/util.py... \n",
      "------------------------------------------------------------------------------------------------------------------------\n",
      "- foo\n",
      "------------------------------------------------------------------------------------------------------------------------\n",
      "\n"
     ]
    }
   ],
   "source": [
    "# sw = import_sw( lib_path + \"/util_stopwatch.py\" )\n",
    "bar = import_sw( lib_path + \"/util.py\" )\n",
    "bar.print_banner( \"foo\" )"
   ],
   "metadata": {
    "collapsed": false,
    "ExecuteTime": {
     "end_time": "2023-07-06T15:05:42.697578Z",
     "start_time": "2023-07-06T15:05:42.692186Z"
    }
   }
  },
  {
   "cell_type": "code",
   "execution_count": 11,
   "outputs": [],
   "source": [
    "sys.path.append( \"/var/genie-in-the-box/src/lib\" )"
   ],
   "metadata": {
    "collapsed": false,
    "ExecuteTime": {
     "end_time": "2023-07-06T15:06:01.519747Z",
     "start_time": "2023-07-06T15:06:01.508766Z"
    }
   }
  },
  {
   "cell_type": "code",
   "execution_count": 7,
   "outputs": [
    {
     "ename": "ModuleNotFoundError",
     "evalue": "No module named 'util'",
     "output_type": "error",
     "traceback": [
      "\u001B[0;31m---------------------------------------------------------------------------\u001B[0m",
      "\u001B[0;31mModuleNotFoundError\u001B[0m                       Traceback (most recent call last)",
      "Cell \u001B[0;32mIn[7], line 1\u001B[0m\n\u001B[0;32m----> 1\u001B[0m du \u001B[38;5;241m=\u001B[39m \u001B[43mimportlib\u001B[49m\u001B[38;5;241;43m.\u001B[39;49m\u001B[43mimport_module\u001B[49m\u001B[43m(\u001B[49m\u001B[43m \u001B[49m\u001B[38;5;124;43m\"\u001B[39;49m\u001B[38;5;124;43mutil\u001B[39;49m\u001B[38;5;124;43m\"\u001B[39;49m\u001B[43m \u001B[49m\u001B[43m)\u001B[49m\n\u001B[1;32m      2\u001B[0m du\u001B[38;5;241m.\u001B[39mprint_banner( \u001B[38;5;124m\"\u001B[39m\u001B[38;5;124mfoo\u001B[39m\u001B[38;5;124m\"\u001B[39m )\n",
      "File \u001B[0;32m/usr/lib/python3.10/importlib/__init__.py:126\u001B[0m, in \u001B[0;36mimport_module\u001B[0;34m(name, package)\u001B[0m\n\u001B[1;32m    124\u001B[0m             \u001B[38;5;28;01mbreak\u001B[39;00m\n\u001B[1;32m    125\u001B[0m         level \u001B[38;5;241m+\u001B[39m\u001B[38;5;241m=\u001B[39m \u001B[38;5;241m1\u001B[39m\n\u001B[0;32m--> 126\u001B[0m \u001B[38;5;28;01mreturn\u001B[39;00m \u001B[43m_bootstrap\u001B[49m\u001B[38;5;241;43m.\u001B[39;49m\u001B[43m_gcd_import\u001B[49m\u001B[43m(\u001B[49m\u001B[43mname\u001B[49m\u001B[43m[\u001B[49m\u001B[43mlevel\u001B[49m\u001B[43m:\u001B[49m\u001B[43m]\u001B[49m\u001B[43m,\u001B[49m\u001B[43m \u001B[49m\u001B[43mpackage\u001B[49m\u001B[43m,\u001B[49m\u001B[43m \u001B[49m\u001B[43mlevel\u001B[49m\u001B[43m)\u001B[49m\n",
      "File \u001B[0;32m<frozen importlib._bootstrap>:1050\u001B[0m, in \u001B[0;36m_gcd_import\u001B[0;34m(name, package, level)\u001B[0m\n",
      "File \u001B[0;32m<frozen importlib._bootstrap>:1027\u001B[0m, in \u001B[0;36m_find_and_load\u001B[0;34m(name, import_)\u001B[0m\n",
      "File \u001B[0;32m<frozen importlib._bootstrap>:1004\u001B[0m, in \u001B[0;36m_find_and_load_unlocked\u001B[0;34m(name, import_)\u001B[0m\n",
      "\u001B[0;31mModuleNotFoundError\u001B[0m: No module named 'util'"
     ]
    }
   ],
   "source": [
    "du = importlib.import_module( \"util\" )\n",
    "du.print_banner( \"foo\" )"
   ],
   "metadata": {
    "collapsed": false,
    "ExecuteTime": {
     "end_time": "2023-07-10T16:58:33.377356Z",
     "start_time": "2023-07-10T16:58:33.351217Z"
    }
   }
  },
  {
   "cell_type": "code",
   "execution_count": 16,
   "outputs": [
    {
     "name": "stdout",
     "output_type": "stream",
     "text": [
      "Finished doing foo in 0 ms\n",
      "\n"
     ]
    }
   ],
   "source": [
    "timer = Stopwatch()\n",
    "timer.print( \"Finished doing foo\", use_millis=True )"
   ],
   "metadata": {
    "collapsed": false,
    "ExecuteTime": {
     "end_time": "2023-07-06T15:06:21.651552Z",
     "start_time": "2023-07-06T15:06:21.646172Z"
    }
   }
  },
  {
   "cell_type": "code",
   "execution_count": null,
   "outputs": [],
   "source": [],
   "metadata": {
    "collapsed": false
   }
  },
  {
   "cell_type": "code",
   "execution_count": 9,
   "outputs": [
    {
     "name": "stdout",
     "output_type": "stream",
     "text": [
      "synthetic-data-search-google-in-new-tab.txt\n",
      "synthetic-data-search-in-new-tab.txt\n",
      "synthetic-data-search-google-scholar-in-new-tab.txt\n",
      "synthetic-data-search-google-in-current-tab.txt\n",
      "synthetic-data-load-url-in-current-tab.txt\n",
      "synthetic-data-load-url-new-tab.txt\n",
      "synthetic-data-search-in-current-tab.txt\n",
      "synthetic-data-search-google-scholar-in-current-tab.txt\n"
     ]
    },
    {
     "data": {
      "text/plain": "['/var/genie-in-the-box/src/prompts/data/synthetic-data-load-url-in-current-tab.txt',\n '/var/genie-in-the-box/src/prompts/data/synthetic-data-load-url-new-tab.txt',\n '/var/genie-in-the-box/src/prompts/data/synthetic-data-search-google-in-current-tab.txt',\n '/var/genie-in-the-box/src/prompts/data/synthetic-data-search-google-in-new-tab.txt',\n '/var/genie-in-the-box/src/prompts/data/synthetic-data-search-google-scholar-in-current-tab.txt',\n '/var/genie-in-the-box/src/prompts/data/synthetic-data-search-google-scholar-in-new-tab.txt',\n '/var/genie-in-the-box/src/prompts/data/synthetic-data-search-in-current-tab.txt',\n '/var/genie-in-the-box/src/prompts/data/synthetic-data-search-in-new-tab.txt']"
     },
     "execution_count": 9,
     "metadata": {},
     "output_type": "execute_result"
    }
   ],
   "source": [
    "path = \"/var/genie-in-the-box/src/prompts/data\"\n",
    "\n",
    "def get_training_data_paths( path ):\n",
    "\n",
    "    # From: https://stackoverflow.com/questions/3207219/how-do-i-list-all-files-of-a-directory\n",
    "    filenames = next( walk( path ), ( None, None, [ ] ) )[ 2 ]\n",
    "    paths     = [ ]\n",
    "    for filename in filenames:\n",
    "\n",
    "        if filename.startswith( \"synthetic-data-\" ) and filename.endswith( \".txt\" ):\n",
    "            paths.append( path + \"/\" + filename )\n",
    "            print( filename )\n",
    "\n",
    "    paths.sort()\n",
    "    return paths\n",
    "\n",
    "training_data_paths = get_training_data_paths( path )\n",
    "training_data_paths"
   ],
   "metadata": {
    "collapsed": false,
    "ExecuteTime": {
     "end_time": "2023-07-10T18:35:52.543674Z",
     "start_time": "2023-07-10T18:35:52.508788Z"
    }
   }
  },
  {
   "cell_type": "code",
   "execution_count": 10,
   "outputs": [
    {
     "name": "stdout",
     "output_type": "stream",
     "text": [
      "{'synthetic-data-search-in-new-tab.txt': 'search new tab', 'synthetic-data-search-in-current-tab.txt': 'search current tab', 'synthetic-data-search-google-in-new-tab.txt': 'search google new tab', 'synthetic-data-search-google-in-current-tab.txt': 'search google current tab', 'synthetic-data-search-google-scholar-in-new-tab.txt': 'search google scholar new tab', 'synthetic-data-search-google-scholar-in-current-tab.txt': 'search google scholar current tab', 'synthetic-data-load-url-new-tab.txt': 'open new tab', 'synthetic-data-load-url-in-current-tab.txt': 'in current tab'}\n"
     ]
    },
    {
     "data": {
      "text/plain": "{'search new tab': 'synthetic-data-search-in-new-tab.txt',\n 'search current tab': 'synthetic-data-search-in-current-tab.txt',\n 'search google new tab': 'synthetic-data-search-google-in-new-tab.txt',\n 'search google current tab': 'synthetic-data-search-google-in-current-tab.txt',\n 'search google scholar new tab': 'synthetic-data-search-google-scholar-in-new-tab.txt',\n 'search google scholar current tab': 'synthetic-data-search-google-scholar-in-current-tab.txt',\n 'open new tab': 'synthetic-data-load-url-new-tab.txt',\n 'in current tab': 'synthetic-data-load-url-in-current-tab.txt'}"
     },
     "execution_count": 10,
     "metadata": {},
     "output_type": "execute_result"
    }
   ],
   "source": [
    "def get_training_commands_maps( path ):\n",
    "\n",
    "    vox_filename_to_completion_text = du.get_file_as_dictionary( path, debug=True, lower_case=True )\n",
    "\n",
    "    # Now, flip the dictionary so that the completion text is the key and the filename is the value\n",
    "    vox_completion_text_to_filename = { v: k for k, v in vox_filename_to_completion_text.items() }\n",
    "\n",
    "    return vox_filename_to_completion_text, vox_completion_text_to_filename\n",
    "\n",
    "vox_filename_to_completion_text_dict, vox_completion_text_to_filename = get_training_commands_maps(\n",
    "    path =du.get_project_root() + \"/src/prompts/data/training-commands.map\"\n",
    ")\n",
    "\n",
    "print( vox_filename_to_completion_text_dict )\n",
    "vox_completion_text_to_filename"
   ],
   "metadata": {
    "collapsed": false,
    "ExecuteTime": {
     "end_time": "2023-07-10T18:35:54.264414Z",
     "start_time": "2023-07-10T18:35:54.261237Z"
    }
   }
  },
  {
   "cell_type": "code",
   "execution_count": 11,
   "outputs": [
    {
     "name": "stdout",
     "output_type": "stream",
     "text": [
      "Loading [/var/genie-in-the-box/src/prompts/data/synthetic-data-load-url-in-current-tab.txt]...\n",
      "Loaded [200] commands\n",
      "file_name [synthetic-data-load-url-in-current-tab.txt]\n",
      "completion_text [in current tab]\n",
      "commands [synthetic-data-load-url-in-current-tab.txt] contains DOMAIN_NAME...\n",
      "\n",
      "Loading [/var/genie-in-the-box/src/prompts/data/synthetic-data-load-url-new-tab.txt]...\n",
      "Loaded [200] commands\n",
      "file_name [synthetic-data-load-url-new-tab.txt]\n",
      "completion_text [open new tab]\n",
      "commands [synthetic-data-load-url-new-tab.txt] contains DOMAIN_NAME...\n",
      "\n",
      "Loading [/var/genie-in-the-box/src/prompts/data/synthetic-data-search-google-in-current-tab.txt]...\n",
      "Loaded [200] commands\n",
      "file_name [synthetic-data-search-google-in-current-tab.txt]\n",
      "completion_text [search google current tab]\n",
      "commands [synthetic-data-search-google-in-current-tab.txt] contains SEARCH_TERMS...\n",
      "\n",
      "Loading [/var/genie-in-the-box/src/prompts/data/synthetic-data-search-google-in-new-tab.txt]...\n",
      "Loaded [200] commands\n",
      "file_name [synthetic-data-search-google-in-new-tab.txt]\n",
      "completion_text [search google new tab]\n",
      "commands [synthetic-data-search-google-in-new-tab.txt] contains SEARCH_TERMS...\n",
      "\n",
      "Loading [/var/genie-in-the-box/src/prompts/data/synthetic-data-search-google-scholar-in-current-tab.txt]...\n",
      "Loaded [200] commands\n",
      "file_name [synthetic-data-search-google-scholar-in-current-tab.txt]\n",
      "completion_text [search google scholar current tab]\n",
      "commands [synthetic-data-search-google-scholar-in-current-tab.txt] contains SEARCH_TERMS...\n",
      "\n",
      "Loading [/var/genie-in-the-box/src/prompts/data/synthetic-data-search-google-scholar-in-new-tab.txt]...\n",
      "Loaded [200] commands\n",
      "file_name [synthetic-data-search-google-scholar-in-new-tab.txt]\n",
      "completion_text [search google scholar new tab]\n",
      "commands [synthetic-data-search-google-scholar-in-new-tab.txt] contains SEARCH_TERMS...\n",
      "\n",
      "Loading [/var/genie-in-the-box/src/prompts/data/synthetic-data-search-in-current-tab.txt]...\n",
      "Loaded [200] commands\n",
      "file_name [synthetic-data-search-in-current-tab.txt]\n",
      "completion_text [search current tab]\n",
      "commands [synthetic-data-search-in-current-tab.txt] contains SEARCH_TERMS...\n",
      "\n",
      "Loading [/var/genie-in-the-box/src/prompts/data/synthetic-data-search-in-new-tab.txt]...\n",
      "Loaded [200] commands\n",
      "file_name [synthetic-data-search-in-new-tab.txt]\n",
      "completion_text [search new tab]\n",
      "commands [synthetic-data-search-in-new-tab.txt] contains SEARCH_TERMS...\n",
      "\n"
     ]
    }
   ],
   "source": [
    "def get_vox_commands( command_paths, command_map ):\n",
    "\n",
    "    vox_command_dfs = {}\n",
    "\n",
    "    for path in command_paths:\n",
    "\n",
    "        print( \"Loading [{}]...\".format( path ) )\n",
    "        commands = du.get_file_as_list( path, clean=True, lower_case=False )\n",
    "        print( \"Loaded [{}] commands\".format( len( commands ) ) )\n",
    "\n",
    "        # instantiate data frame with commands list\n",
    "        vox_command_df = pd.DataFrame( commands, columns = [ \"prompt\" ] )\n",
    "\n",
    "        # Fetch the completion text from the command map\n",
    "        file_name      = path.split( \"/\" )[ -1 ]\n",
    "        print( \"file_name [{}]\".format( file_name ) )\n",
    "        vox_command_df[ \"completion\" ] = command_map[ file_name ]\n",
    "\n",
    "        # Get the completion text\n",
    "        completion_text = command_map[ file_name ]\n",
    "        print( \"completion_text [{}]\".format( completion_text ) )\n",
    "\n",
    "        # Check to see if 1st commands text contains DOMAIN_NAME constant\n",
    "        if \"DOMAIN_NAME\" in commands[ 0 ]:\n",
    "\n",
    "            print( \"commands [{}] contains DOMAIN_NAME...\".format( file_name ) )\n",
    "            vox_command_df[ \"args\" ] = du.generate_domain_names( len( commands ) )\n",
    "\n",
    "            # Replace domain name constant with domain names\n",
    "            vox_command_df[ \"prompt\" ] = vox_command_df.apply( lambda row: row[ \"prompt\" ].replace( \"DOMAIN_NAME\", str( row[ \"args\" ] ) ), axis=1 )\n",
    "\n",
    "            # append domain name to the end of completion\n",
    "            # vox_command_df[ \"completion\" ] = vox_command_df.apply( lambda x: x[ \"completion\" ] + \" \" + str( x[ \"domain_name\" ] ), axis=1 )\n",
    "\n",
    "        # Check to see if commands text contains SEARCH_TERMS constant\n",
    "        if \"SEARCH_TERMS\" in commands[ 0 ]:\n",
    "\n",
    "            print( \"commands [{}] contains SEARCH_TERMS...\".format( file_name ) )\n",
    "            vox_command_df[ \"args\" ] = du.get_search_terms( len( commands ) )\n",
    "            vox_command_df[ \"prompt\" ] = vox_command_df.apply( lambda row: row[ \"prompt\" ].replace( \"SEARCH_TERMS\", str( row[ \"args\" ] ) ), axis=1 )\n",
    "\n",
    "        # append freshly minted data frame to the list\n",
    "        vox_command_dfs[ completion_text ] = vox_command_df\n",
    "\n",
    "        print()\n",
    "\n",
    "    return vox_command_dfs\n",
    "\n",
    "vox_command_dfs = get_vox_commands( training_data_paths, vox_filename_to_completion_text_dict )\n",
    "# vox_command_dfs[ \"in current tab\" ]"
   ],
   "metadata": {
    "collapsed": false,
    "ExecuteTime": {
     "end_time": "2023-07-10T18:35:58.944711Z",
     "start_time": "2023-07-10T18:35:58.926545Z"
    }
   }
  },
  {
   "cell_type": "code",
   "execution_count": 13,
   "outputs": [
    {
     "data": {
      "text/plain": "                                                prompt          completion                                args\n0         Seek how does a car engine work? in this tab  search current tab         how does a car engine work?\n1    Show what is climate change? search outcome in...  search current tab             what is climate change?\n2      Look up what are the benefits of exercise? here  search current tab  what are the benefits of exercise?\n3    Current tab: Search and display results for ho...  search current tab             how to make pizza dough\n4    Research what is the meaning of success? and p...  search current tab     what is the meaning of success?\n..                                                 ...                 ...                                 ...\n195              Delve into surge terms in this window  search current tab                  healthy meal ideas\n196             Search for starch terms in this window  search current tab  JavaScript libraries for beginners\n197           Find starch terms results in current tub  search current tab                   alternative music\n198                   Discover surge terms in this tub  search current tab                  how to lose weight\n199                     Get surge terms in current tub  search current tab                     new car reviews\n\n[200 rows x 3 columns]",
      "text/html": "<div>\n<style scoped>\n    .dataframe tbody tr th:only-of-type {\n        vertical-align: middle;\n    }\n\n    .dataframe tbody tr th {\n        vertical-align: top;\n    }\n\n    .dataframe thead th {\n        text-align: right;\n    }\n</style>\n<table border=\"1\" class=\"dataframe\">\n  <thead>\n    <tr style=\"text-align: right;\">\n      <th></th>\n      <th>prompt</th>\n      <th>completion</th>\n      <th>args</th>\n    </tr>\n  </thead>\n  <tbody>\n    <tr>\n      <th>0</th>\n      <td>Seek how does a car engine work? in this tab</td>\n      <td>search current tab</td>\n      <td>how does a car engine work?</td>\n    </tr>\n    <tr>\n      <th>1</th>\n      <td>Show what is climate change? search outcome in...</td>\n      <td>search current tab</td>\n      <td>what is climate change?</td>\n    </tr>\n    <tr>\n      <th>2</th>\n      <td>Look up what are the benefits of exercise? here</td>\n      <td>search current tab</td>\n      <td>what are the benefits of exercise?</td>\n    </tr>\n    <tr>\n      <th>3</th>\n      <td>Current tab: Search and display results for ho...</td>\n      <td>search current tab</td>\n      <td>how to make pizza dough</td>\n    </tr>\n    <tr>\n      <th>4</th>\n      <td>Research what is the meaning of success? and p...</td>\n      <td>search current tab</td>\n      <td>what is the meaning of success?</td>\n    </tr>\n    <tr>\n      <th>...</th>\n      <td>...</td>\n      <td>...</td>\n      <td>...</td>\n    </tr>\n    <tr>\n      <th>195</th>\n      <td>Delve into surge terms in this window</td>\n      <td>search current tab</td>\n      <td>healthy meal ideas</td>\n    </tr>\n    <tr>\n      <th>196</th>\n      <td>Search for starch terms in this window</td>\n      <td>search current tab</td>\n      <td>JavaScript libraries for beginners</td>\n    </tr>\n    <tr>\n      <th>197</th>\n      <td>Find starch terms results in current tub</td>\n      <td>search current tab</td>\n      <td>alternative music</td>\n    </tr>\n    <tr>\n      <th>198</th>\n      <td>Discover surge terms in this tub</td>\n      <td>search current tab</td>\n      <td>how to lose weight</td>\n    </tr>\n    <tr>\n      <th>199</th>\n      <td>Get surge terms in current tub</td>\n      <td>search current tab</td>\n      <td>new car reviews</td>\n    </tr>\n  </tbody>\n</table>\n<p>200 rows × 3 columns</p>\n</div>"
     },
     "execution_count": 13,
     "metadata": {},
     "output_type": "execute_result"
    }
   ],
   "source": [
    "vox_command_dfs[ \"search current tab\" ]"
   ],
   "metadata": {
    "collapsed": false,
    "ExecuteTime": {
     "end_time": "2023-07-06T18:51:36.409990Z",
     "start_time": "2023-07-06T18:51:36.403894Z"
    }
   }
  },
  {
   "cell_type": "code",
   "execution_count": 12,
   "outputs": [
    {
     "name": "stdout",
     "output_type": "stream",
     "text": [
      "Loading [/var/genie-in-the-box/src/prompts/data/synthetic-data-load-url-in-current-tab.txt]...\n",
      "Loaded [200] commands\n",
      "file_name [synthetic-data-load-url-in-current-tab.txt]\n",
      "completion_text [in current tab]\n",
      "commands [synthetic-data-load-url-in-current-tab.txt] contains DOMAIN_NAME...\n",
      "\n",
      "Loading [/var/genie-in-the-box/src/prompts/data/synthetic-data-load-url-new-tab.txt]...\n",
      "Loaded [200] commands\n",
      "file_name [synthetic-data-load-url-new-tab.txt]\n",
      "completion_text [open new tab]\n",
      "commands [synthetic-data-load-url-new-tab.txt] contains DOMAIN_NAME...\n",
      "\n",
      "Loading [/var/genie-in-the-box/src/prompts/data/synthetic-data-search-google-in-current-tab.txt]...\n",
      "Loaded [200] commands\n",
      "file_name [synthetic-data-search-google-in-current-tab.txt]\n",
      "completion_text [search google current tab]\n",
      "commands [synthetic-data-search-google-in-current-tab.txt] contains SEARCH_TERMS...\n",
      "\n",
      "Loading [/var/genie-in-the-box/src/prompts/data/synthetic-data-search-google-in-new-tab.txt]...\n",
      "Loaded [200] commands\n",
      "file_name [synthetic-data-search-google-in-new-tab.txt]\n",
      "completion_text [search google new tab]\n",
      "commands [synthetic-data-search-google-in-new-tab.txt] contains SEARCH_TERMS...\n",
      "\n",
      "Loading [/var/genie-in-the-box/src/prompts/data/synthetic-data-search-google-scholar-in-current-tab.txt]...\n",
      "Loaded [200] commands\n",
      "file_name [synthetic-data-search-google-scholar-in-current-tab.txt]\n",
      "completion_text [search google scholar current tab]\n",
      "commands [synthetic-data-search-google-scholar-in-current-tab.txt] contains SEARCH_TERMS...\n",
      "\n",
      "Loading [/var/genie-in-the-box/src/prompts/data/synthetic-data-search-google-scholar-in-new-tab.txt]...\n",
      "Loaded [200] commands\n",
      "file_name [synthetic-data-search-google-scholar-in-new-tab.txt]\n",
      "completion_text [search google scholar new tab]\n",
      "commands [synthetic-data-search-google-scholar-in-new-tab.txt] contains SEARCH_TERMS...\n",
      "\n",
      "Loading [/var/genie-in-the-box/src/prompts/data/synthetic-data-search-in-current-tab.txt]...\n",
      "Loaded [200] commands\n",
      "file_name [synthetic-data-search-in-current-tab.txt]\n",
      "completion_text [search current tab]\n",
      "commands [synthetic-data-search-in-current-tab.txt] contains SEARCH_TERMS...\n",
      "\n",
      "Loading [/var/genie-in-the-box/src/prompts/data/synthetic-data-search-in-new-tab.txt]...\n",
      "Loaded [200] commands\n",
      "file_name [synthetic-data-search-in-new-tab.txt]\n",
      "completion_text [search new tab]\n",
      "commands [synthetic-data-search-in-new-tab.txt] contains SEARCH_TERMS...\n",
      "\n"
     ]
    },
    {
     "data": {
      "text/plain": "(1600, 3)"
     },
     "execution_count": 12,
     "metadata": {},
     "output_type": "execute_result"
    }
   ],
   "source": [
    "# update list of data frames\n",
    "vox_command_dfs = get_vox_commands( training_data_paths, vox_filename_to_completion_text_dict )\n",
    "\n",
    "# concatenate data frames\n",
    "vox_command_df = pd.concat( vox_command_dfs )\n",
    "vox_command_df.shape"
   ],
   "metadata": {
    "collapsed": false,
    "ExecuteTime": {
     "end_time": "2023-07-10T18:36:10.496631Z",
     "start_time": "2023-07-10T18:36:10.460977Z"
    }
   }
  },
  {
   "cell_type": "code",
   "execution_count": 13,
   "outputs": [
    {
     "data": {
      "text/plain": "                                                             prompt completion_text                         args completion\nin current tab 0  Load stage.excitingmango.info right here in th...  in current tab     stage.excitingmango.info          0\n               1  Go straight to login.beautifulapple.gov in thi...  in current tab     login.beautifulapple.gov          0\n               2  Please navigate to stage.incredibledolphin.gov...  in current tab  stage.incredibledolphin.gov          0\n               3  Get beta.excitingbanana.com up on the screen i...  in current tab      beta.excitingbanana.com          0\n               4  Put up spectacularpenguin.net in the current t...  in current tab       spectacularpenguin.net          0",
      "text/html": "<div>\n<style scoped>\n    .dataframe tbody tr th:only-of-type {\n        vertical-align: middle;\n    }\n\n    .dataframe tbody tr th {\n        vertical-align: top;\n    }\n\n    .dataframe thead th {\n        text-align: right;\n    }\n</style>\n<table border=\"1\" class=\"dataframe\">\n  <thead>\n    <tr style=\"text-align: right;\">\n      <th></th>\n      <th></th>\n      <th>prompt</th>\n      <th>completion_text</th>\n      <th>args</th>\n      <th>completion</th>\n    </tr>\n  </thead>\n  <tbody>\n    <tr>\n      <th rowspan=\"5\" valign=\"top\">in current tab</th>\n      <th>0</th>\n      <td>Load stage.excitingmango.info right here in th...</td>\n      <td>in current tab</td>\n      <td>stage.excitingmango.info</td>\n      <td>0</td>\n    </tr>\n    <tr>\n      <th>1</th>\n      <td>Go straight to login.beautifulapple.gov in thi...</td>\n      <td>in current tab</td>\n      <td>login.beautifulapple.gov</td>\n      <td>0</td>\n    </tr>\n    <tr>\n      <th>2</th>\n      <td>Please navigate to stage.incredibledolphin.gov...</td>\n      <td>in current tab</td>\n      <td>stage.incredibledolphin.gov</td>\n      <td>0</td>\n    </tr>\n    <tr>\n      <th>3</th>\n      <td>Get beta.excitingbanana.com up on the screen i...</td>\n      <td>in current tab</td>\n      <td>beta.excitingbanana.com</td>\n      <td>0</td>\n    </tr>\n    <tr>\n      <th>4</th>\n      <td>Put up spectacularpenguin.net in the current t...</td>\n      <td>in current tab</td>\n      <td>spectacularpenguin.net</td>\n      <td>0</td>\n    </tr>\n  </tbody>\n</table>\n</div>"
     },
     "execution_count": 13,
     "metadata": {},
     "output_type": "execute_result"
    }
   ],
   "source": [
    "def format_df( df ):\n",
    "    # Get categorical values.\n",
    "    df[ \"completion_categorical\" ] = pd.factorize( df[ \"completion\" ] )[ 0 ]\n",
    "\n",
    "    # Rename columns\n",
    "    df.rename( columns={ \"completion\": \"completion_text\", \"completion_categorical\": \"completion\" }, inplace=True )\n",
    "\n",
    "    # Add leading space per instructions\n",
    "    df[ \"completion\" ] = \" \" + df[ \"completion\" ].astype( str )\n",
    "\n",
    "    # Insert hash marks and space according to these instructions below\n",
    "    # https://community.openai.com/t/gpt3-finetuning-for-multilabel-classification/19105/5\n",
    "    df[ \"prompt\"     ] = df[ \"prompt\" ] + \"\\n\\n###\\n\\n\"\n",
    "    df[ \"completion\" ] = df[ \"completion\" ].astype( str )\n",
    "\n",
    "    # Display the head\n",
    "    return  df\n",
    "\n",
    "formatted_df = format_df( vox_command_df.copy() )\n",
    "formatted_df.head()\n"
   ],
   "metadata": {
    "collapsed": false,
    "ExecuteTime": {
     "end_time": "2023-07-10T18:36:40.178368Z",
     "start_time": "2023-07-10T18:36:40.163418Z"
    }
   }
  },
  {
   "cell_type": "code",
   "execution_count": 52,
   "outputs": [
    {
     "name": "stdout",
     "output_type": "stream",
     "text": [
      "<class 'pandas.core.frame.DataFrame'>\n",
      "MultiIndex: 1600 entries, ('in current tab', 0) to ('search new tab', 199)\n",
      "Data columns (total 4 columns):\n",
      " #   Column           Non-Null Count  Dtype \n",
      "---  ------           --------------  ----- \n",
      " 0   prompt           1600 non-null   object\n",
      " 1   completion_text  1600 non-null   object\n",
      " 2   args             1600 non-null   object\n",
      " 3   completion       1600 non-null   object\n",
      "dtypes: object(4)\n",
      "memory usage: 119.7+ KB\n"
     ]
    }
   ],
   "source": [
    "formatted_df.info()"
   ],
   "metadata": {
    "collapsed": false,
    "ExecuteTime": {
     "end_time": "2023-07-11T02:57:17.025178Z",
     "start_time": "2023-07-11T02:57:17.020430Z"
    }
   }
  },
  {
   "cell_type": "code",
   "execution_count": 80,
   "outputs": [
    {
     "name": "stdout",
     "output_type": "stream",
     "text": [
      "0                       in current tab\n",
      "1                         open new tab\n",
      "2            search google current tab\n",
      "3                search google new tab\n",
      "4    search google scholar current tab\n",
      "5        search google scholar new tab\n",
      "6                   search current tab\n",
      "7                       search new tab\n",
      "Name: completion_text, dtype: object\n"
     ]
    }
   ],
   "source": [
    "cols = [ \"completion\", \"completion_text\" ]\n",
    "summary_df = formatted_df[ cols ].copy()\n",
    "summary_df.drop_duplicates( inplace=True )\n",
    "summary_df.reset_index( drop=True, inplace=True )\n",
    "# summary_df[ \"completion\" ] = summary_df[ \"completion\" ].astype( int )\n",
    "# summary_dict = summary_df.groupby( \"completion_text\" )[ \"completion\" ].to_dict()\n",
    "# summary_df[ \"completion\" ] = summary_df[ \"completion\" ].astype( int )\n",
    "#\n",
    "# summary_df[ cols ].to_dict()\n",
    "# summary_df.to_dict()\n",
    "# summary_dict\n",
    "print( summary_df[ \"completion_text\" ] )"
   ],
   "metadata": {
    "collapsed": false,
    "ExecuteTime": {
     "end_time": "2023-07-11T03:14:57.671248Z",
     "start_time": "2023-07-11T03:14:57.662217Z"
    }
   }
  },
  {
   "cell_type": "code",
   "execution_count": 15,
   "outputs": [],
   "source": [
    "json_path = \"/var/genie-in-the-box/src/prompts/data/jsonl/batch-04.jsonl\"\n",
    "formatted_df.to_json( json_path, orient='records', lines=True )\n"
   ],
   "metadata": {
    "collapsed": false,
    "ExecuteTime": {
     "end_time": "2023-07-10T18:36:52.483716Z",
     "start_time": "2023-07-10T18:36:52.475178Z"
    }
   }
  },
  {
   "cell_type": "code",
   "execution_count": 16,
   "outputs": [
    {
     "name": "stdout",
     "output_type": "stream",
     "text": [
      "Analyzing...\r\n",
      "\r\n",
      "- Your file contains 1600 prompt-completion pairs\r\n",
      "- The input file should contain exactly two columns/keys per row. Additional columns/keys present are: ['completion_text', 'args']\r\n",
      "  WARNING: Some of the additional columns/keys contain `completion_text` in their name. These will be ignored, and the column/key `completion_text` will be used instead. This could also result from a duplicate column/key in the provided file.\r\n",
      "  WARNING: Some of the additional columns/keys contain `args` in their name. These will be ignored, and the column/key `args` will be used instead. This could also result from a duplicate column/key in the provided file.\r\n",
      "- Based on your data it seems like you're trying to fine-tune a model for classification\r\n",
      "- For classification, we recommend you try one of the faster and cheaper models, such as `ada`\r\n",
      "- For classification, you can estimate the expected model performance by keeping a held out dataset, which is not used for training\r\n",
      "- All prompts end with suffix `\\n\\n###\\n\\n`\r\n",
      "\r\n",
      "Based on the analysis we will perform the following actions:\r\n",
      "- [Necessary] Remove additional columns/keys: ['completion_text', 'args']\r\n",
      "- [Recommended] Would you like to split into training and validation set? [Y/n]: Y\r\n",
      "\r\n",
      "\r\n",
      "Your data will be written to a new JSONL file. Proceed [Y/n]: Y\r\n",
      "\r\n",
      "Wrote modified files to `/var/genie-in-the-box/src/prompts/data/jsonl/batch-04_prepared_train.jsonl` and `/var/genie-in-the-box/src/prompts/data/jsonl/batch-04_prepared_valid.jsonl`\r\n",
      "Feel free to take a look!\r\n",
      "\r\n",
      "Now use that file when fine-tuning:\r\n",
      "> openai api fine_tunes.create -t \"/var/genie-in-the-box/src/prompts/data/jsonl/batch-04_prepared_train.jsonl\" -v \"/var/genie-in-the-box/src/prompts/data/jsonl/batch-04_prepared_valid.jsonl\" --compute_classification_metrics --classification_n_classes 8\r\n",
      "\r\n",
      "After you’ve fine-tuned a model, remember that your prompt has to end with the indicator string `\\n\\n###\\n\\n` for the model to start generating completions, rather than continuing with the prompt.\r\n",
      "Once your model starts training, it'll approximately take 40.73 minutes to train a `curie` model, and less for `ada` and `babbage`. Queue will approximately take half an hour per job ahead of you.\r\n"
     ]
    }
   ],
   "source": [
    "! openai tools fine_tunes.prepare_data -f /var/genie-in-the-box/src/prompts/data/jsonl/batch-04.jsonl -q"
   ],
   "metadata": {
    "collapsed": false,
    "ExecuteTime": {
     "end_time": "2023-07-10T18:37:00.400324Z",
     "start_time": "2023-07-10T18:36:59.681961Z"
    }
   }
  },
  {
   "cell_type": "code",
   "execution_count": 17,
   "outputs": [
    {
     "name": "stdout",
     "output_type": "stream",
     "text": [
      "Upload progress: 100%|███████████████████████| 122k/122k [00:00<00:00, 270Mit/s]\r\n",
      "Uploaded file from /var/genie-in-the-box/src/prompts/data/jsonl/batch-04_prepared_train.jsonl: file-rtSyKyWagrzxGb7eDMZWAHnk\r\n",
      "Upload progress: 100%|████████████████████| 30.7k/30.7k [00:00<00:00, 23.2Mit/s]\r\n",
      "Uploaded file from /var/genie-in-the-box/src/prompts/data/jsonl/batch-04_prepared_valid.jsonl: file-XB91SMkvAdyuYQ0ZiLtzvgBS\r\n",
      "Created fine-tune: ft-wc5GJU9sIlyhrtw9kf3SRg0E\r\n",
      "Streaming events until fine-tuning is complete...\r\n",
      "\r\n",
      "(Ctrl-C will interrupt the stream, but not cancel the fine-tune)\r\n",
      "[2023-07-10 18:37:38] Created fine-tune: ft-wc5GJU9sIlyhrtw9kf3SRg0E\r\n",
      "\r\n"
     ]
    }
   ],
   "source": [
    "! openai api fine_tunes.create -t \"/var/genie-in-the-box/src/prompts/data/jsonl/batch-04_prepared_train.jsonl\" -v \"/var/genie-in-the-box/src/prompts/data/jsonl/batch-04_prepared_valid.jsonl\" --compute_classification_metrics --classification_n_classes 8 -m ada"
   ],
   "metadata": {
    "collapsed": false,
    "ExecuteTime": {
     "end_time": "2023-07-10T18:38:39.334917Z",
     "start_time": "2023-07-10T18:37:34.335980Z"
    }
   }
  },
  {
   "cell_type": "code",
   "execution_count": 28,
   "outputs": [
    {
     "name": "stdout",
     "output_type": "stream",
     "text": [
      "[2023-07-10 18:37:38] Created fine-tune: ft-wc5GJU9sIlyhrtw9kf3SRg0E\r\n",
      "[2023-07-10 22:57:27] Fine-tune costs $0.04\r\n",
      "[2023-07-10 22:57:27] Fine-tune enqueued. Queue number: 12\r\n",
      "[2023-07-10 22:57:31] Fine-tune is in the queue. Queue number: 11\r\n",
      "[2023-07-10 22:57:50] Fine-tune is in the queue. Queue number: 10\r\n",
      "[2023-07-10 22:58:24] Fine-tune is in the queue. Queue number: 9\r\n",
      "[2023-07-10 23:01:18] Fine-tune is in the queue. Queue number: 8\r\n",
      "[2023-07-10 23:02:03] Fine-tune is in the queue. Queue number: 7\r\n",
      "[2023-07-10 23:02:22] Fine-tune is in the queue. Queue number: 6\r\n",
      "[2023-07-10 23:02:57] Fine-tune is in the queue. Queue number: 5\r\n",
      "[2023-07-10 23:02:58] Fine-tune is in the queue. Queue number: 4\r\n",
      "[2023-07-10 23:03:52] Fine-tune is in the queue. Queue number: 3\r\n",
      "[2023-07-10 23:06:59] Fine-tune is in the queue. Queue number: 2\r\n",
      "[2023-07-10 23:09:23] Fine-tune is in the queue. Queue number: 1\r\n",
      "[2023-07-10 23:20:16] Fine-tune is in the queue. Queue number: 0\r\n",
      "[2023-07-10 23:21:51] Fine-tune started\r\n",
      "[2023-07-10 23:26:10] Completed epoch 1/4\r\n",
      "[2023-07-10 23:34:29] Completed epoch 3/4\r\n",
      "[2023-07-10 23:39:04] Uploaded model: ada:ft-deepily-2023-07-10-23-39-03\r\n",
      "[2023-07-10 23:39:05] Uploaded result file: file-tklI1zI3UJzMXckj2yCgtPP0\r\n",
      "[2023-07-10 23:39:05] Fine-tune succeeded\r\n",
      "\r\n",
      "Job complete! Status: succeeded 🎉\r\n",
      "Try out your fine-tuned model:\r\n",
      "\r\n",
      "openai api completions.create -m ada:ft-deepily-2023-07-10-23-39-03 -p <YOUR_PROMPT>\r\n"
     ]
    }
   ],
   "source": [
    "!openai api fine_tunes.follow -i ft-wc5GJU9sIlyhrtw9kf3SRg0E"
   ],
   "metadata": {
    "collapsed": false,
    "ExecuteTime": {
     "end_time": "2023-07-11T02:38:47.931133Z",
     "start_time": "2023-07-11T02:38:46.889239Z"
    }
   }
  },
  {
   "cell_type": "code",
   "execution_count": 29,
   "outputs": [
    {
     "name": "stdout",
     "output_type": "stream",
     "text": [
      "computer take me to npr.org in the current tab\r\n",
      "\r\n",
      "###\r\n",
      "\r\n",
      " 0 0 0 0 0 0 0 0"
     ]
    }
   ],
   "source": [
    "! openai api completions.create -m ada:ft-deepily-2023-07-10-23-39-03 -p \"computer take me to npr.org\""
   ],
   "metadata": {
    "collapsed": false,
    "ExecuteTime": {
     "end_time": "2023-07-11T02:39:45.783978Z",
     "start_time": "2023-07-11T02:39:44.695288Z"
    }
   }
  },
  {
   "cell_type": "code",
   "execution_count": 32,
   "outputs": [
    {
     "data": {
      "text/plain": "'/var/genie-in-the-box'"
     },
     "execution_count": 32,
     "metadata": {},
     "output_type": "execute_result"
    }
   ],
   "source": [
    "du.get_project_root()"
   ],
   "metadata": {
    "collapsed": false,
    "ExecuteTime": {
     "end_time": "2023-07-11T02:43:58.412137Z",
     "start_time": "2023-07-11T02:43:58.406789Z"
    }
   }
  },
  {
   "cell_type": "code",
   "execution_count": 33,
   "outputs": [],
   "source": [
    "!openai api fine_tunes.results -i ft-wc5GJU9sIlyhrtw9kf3SRg0E > /var/genie-in-the-box/src/prompts/data/fine-tuning-results/ft-deepily-2023-07-10-23-39-03.csv"
   ],
   "metadata": {
    "collapsed": false,
    "ExecuteTime": {
     "end_time": "2023-07-11T02:44:38.656414Z",
     "start_time": "2023-07-11T02:44:37.061526Z"
    }
   }
  },
  {
   "cell_type": "code",
   "execution_count": 34,
   "outputs": [],
   "source": [
    "import pandas as pd"
   ],
   "metadata": {
    "collapsed": false,
    "ExecuteTime": {
     "end_time": "2023-07-11T02:45:51.140479Z",
     "start_time": "2023-07-11T02:45:51.119560Z"
    }
   }
  },
  {
   "cell_type": "code",
   "execution_count": 35,
   "outputs": [
    {
     "data": {
      "text/plain": "      step  elapsed_tokens  elapsed_examples  ...  validation_token_accuracy  classification/accuracy  classification/weighted_f1_score\n2561  2562          117812              5124  ...                        NaN                 0.996875                           0.99687\n\n[1 rows x 11 columns]",
      "text/html": "<div>\n<style scoped>\n    .dataframe tbody tr th:only-of-type {\n        vertical-align: middle;\n    }\n\n    .dataframe tbody tr th {\n        vertical-align: top;\n    }\n\n    .dataframe thead th {\n        text-align: right;\n    }\n</style>\n<table border=\"1\" class=\"dataframe\">\n  <thead>\n    <tr style=\"text-align: right;\">\n      <th></th>\n      <th>step</th>\n      <th>elapsed_tokens</th>\n      <th>elapsed_examples</th>\n      <th>...</th>\n      <th>validation_token_accuracy</th>\n      <th>classification/accuracy</th>\n      <th>classification/weighted_f1_score</th>\n    </tr>\n  </thead>\n  <tbody>\n    <tr>\n      <th>2561</th>\n      <td>2562</td>\n      <td>117812</td>\n      <td>5124</td>\n      <td>...</td>\n      <td>NaN</td>\n      <td>0.996875</td>\n      <td>0.99687</td>\n    </tr>\n  </tbody>\n</table>\n<p>1 rows × 11 columns</p>\n</div>"
     },
     "execution_count": 35,
     "metadata": {},
     "output_type": "execute_result"
    }
   ],
   "source": [
    "results = pd.read_csv( \"/var/genie-in-the-box/src/prompts/data/fine-tuning-results/ft-deepily-2023-07-10-23-39-03.csv\" )\n",
    "results[ results[ \"classification/accuracy\" ].notnull() ].tail( 1 )"
   ],
   "metadata": {
    "collapsed": false,
    "ExecuteTime": {
     "end_time": "2023-07-11T02:46:28.023831Z",
     "start_time": "2023-07-11T02:46:28.005289Z"
    }
   }
  },
  {
   "cell_type": "code",
   "execution_count": 36,
   "outputs": [
    {
     "data": {
      "text/plain": "<AxesSubplot:>"
     },
     "execution_count": 36,
     "metadata": {},
     "output_type": "execute_result"
    },
    {
     "data": {
      "text/plain": "<Figure size 640x480 with 1 Axes>",
      "image/png": "[encoded data removed]"
     },
     "metadata": {},
     "output_type": "display_data"
    }
   ],
   "source": [
    "results[ results[ \"classification/accuracy\" ].notnull() ].plot()"
   ],
   "metadata": {
    "collapsed": false,
    "ExecuteTime": {
     "end_time": "2023-07-11T02:47:17.587435Z",
     "start_time": "2023-07-11T02:47:16.669731Z"
    }
   }
  },
  {
   "cell_type": "code",
   "execution_count": 37,
   "outputs": [
    {
     "ename": "KeyError",
     "evalue": "'iteration'",
     "output_type": "error",
     "traceback": [
      "\u001B[0;31m---------------------------------------------------------------------------\u001B[0m",
      "\u001B[0;31mKeyError\u001B[0m                                  Traceback (most recent call last)",
      "File \u001B[0;32m/usr/local/lib/python3.10/dist-packages/pandas/core/indexes/base.py:3802\u001B[0m, in \u001B[0;36mIndex.get_loc\u001B[0;34m(self, key, method, tolerance)\u001B[0m\n\u001B[1;32m   3801\u001B[0m \u001B[38;5;28;01mtry\u001B[39;00m:\n\u001B[0;32m-> 3802\u001B[0m     \u001B[38;5;28;01mreturn\u001B[39;00m \u001B[38;5;28;43mself\u001B[39;49m\u001B[38;5;241;43m.\u001B[39;49m\u001B[43m_engine\u001B[49m\u001B[38;5;241;43m.\u001B[39;49m\u001B[43mget_loc\u001B[49m\u001B[43m(\u001B[49m\u001B[43mcasted_key\u001B[49m\u001B[43m)\u001B[49m\n\u001B[1;32m   3803\u001B[0m \u001B[38;5;28;01mexcept\u001B[39;00m \u001B[38;5;167;01mKeyError\u001B[39;00m \u001B[38;5;28;01mas\u001B[39;00m err:\n",
      "File \u001B[0;32m/usr/local/lib/python3.10/dist-packages/pandas/_libs/index.pyx:138\u001B[0m, in \u001B[0;36mpandas._libs.index.IndexEngine.get_loc\u001B[0;34m()\u001B[0m\n",
      "File \u001B[0;32m/usr/local/lib/python3.10/dist-packages/pandas/_libs/index.pyx:165\u001B[0m, in \u001B[0;36mpandas._libs.index.IndexEngine.get_loc\u001B[0;34m()\u001B[0m\n",
      "File \u001B[0;32mpandas/_libs/hashtable_class_helper.pxi:5745\u001B[0m, in \u001B[0;36mpandas._libs.hashtable.PyObjectHashTable.get_item\u001B[0;34m()\u001B[0m\n",
      "File \u001B[0;32mpandas/_libs/hashtable_class_helper.pxi:5753\u001B[0m, in \u001B[0;36mpandas._libs.hashtable.PyObjectHashTable.get_item\u001B[0;34m()\u001B[0m\n",
      "\u001B[0;31mKeyError\u001B[0m: 'iteration'",
      "\nThe above exception was the direct cause of the following exception:\n",
      "\u001B[0;31mKeyError\u001B[0m                                  Traceback (most recent call last)",
      "Cell \u001B[0;32mIn[37], line 1\u001B[0m\n\u001B[0;32m----> 1\u001B[0m \u001B[43mresults\u001B[49m\u001B[43m[\u001B[49m\u001B[43m \u001B[49m\u001B[43mresults\u001B[49m\u001B[43m[\u001B[49m\u001B[43m \u001B[49m\u001B[38;5;124;43m\"\u001B[39;49m\u001B[38;5;124;43mclassification/accuracy\u001B[39;49m\u001B[38;5;124;43m\"\u001B[39;49m\u001B[43m \u001B[49m\u001B[43m]\u001B[49m\u001B[38;5;241;43m.\u001B[39;49m\u001B[43mnotnull\u001B[49m\u001B[43m(\u001B[49m\u001B[43m)\u001B[49m\u001B[43m \u001B[49m\u001B[43m]\u001B[49m\u001B[38;5;241;43m.\u001B[39;49m\u001B[43mplot\u001B[49m\u001B[43m(\u001B[49m\u001B[43m \u001B[49m\u001B[43mx\u001B[49m\u001B[38;5;241;43m=\u001B[39;49m\u001B[38;5;124;43m\"\u001B[39;49m\u001B[38;5;124;43miteration\u001B[39;49m\u001B[38;5;124;43m\"\u001B[39;49m\u001B[43m,\u001B[49m\u001B[43m \u001B[49m\u001B[43my\u001B[49m\u001B[38;5;241;43m=\u001B[39;49m\u001B[38;5;124;43m\"\u001B[39;49m\u001B[38;5;124;43mclassification/accuracy\u001B[39;49m\u001B[38;5;124;43m\"\u001B[39;49m\u001B[43m \u001B[49m\u001B[43m)\u001B[49m\n",
      "File \u001B[0;32m/usr/local/lib/python3.10/dist-packages/pandas/plotting/_core.py:965\u001B[0m, in \u001B[0;36mPlotAccessor.__call__\u001B[0;34m(self, *args, **kwargs)\u001B[0m\n\u001B[1;32m    963\u001B[0m \u001B[38;5;28;01mif\u001B[39;00m is_integer(x) \u001B[38;5;129;01mand\u001B[39;00m \u001B[38;5;129;01mnot\u001B[39;00m data\u001B[38;5;241m.\u001B[39mcolumns\u001B[38;5;241m.\u001B[39mholds_integer():\n\u001B[1;32m    964\u001B[0m     x \u001B[38;5;241m=\u001B[39m data_cols[x]\n\u001B[0;32m--> 965\u001B[0m \u001B[38;5;28;01melif\u001B[39;00m \u001B[38;5;129;01mnot\u001B[39;00m \u001B[38;5;28misinstance\u001B[39m(\u001B[43mdata\u001B[49m\u001B[43m[\u001B[49m\u001B[43mx\u001B[49m\u001B[43m]\u001B[49m, ABCSeries):\n\u001B[1;32m    966\u001B[0m     \u001B[38;5;28;01mraise\u001B[39;00m \u001B[38;5;167;01mValueError\u001B[39;00m(\u001B[38;5;124m\"\u001B[39m\u001B[38;5;124mx must be a label or position\u001B[39m\u001B[38;5;124m\"\u001B[39m)\n\u001B[1;32m    967\u001B[0m data \u001B[38;5;241m=\u001B[39m data\u001B[38;5;241m.\u001B[39mset_index(x)\n",
      "File \u001B[0;32m/usr/local/lib/python3.10/dist-packages/pandas/core/frame.py:3807\u001B[0m, in \u001B[0;36mDataFrame.__getitem__\u001B[0;34m(self, key)\u001B[0m\n\u001B[1;32m   3805\u001B[0m \u001B[38;5;28;01mif\u001B[39;00m \u001B[38;5;28mself\u001B[39m\u001B[38;5;241m.\u001B[39mcolumns\u001B[38;5;241m.\u001B[39mnlevels \u001B[38;5;241m>\u001B[39m \u001B[38;5;241m1\u001B[39m:\n\u001B[1;32m   3806\u001B[0m     \u001B[38;5;28;01mreturn\u001B[39;00m \u001B[38;5;28mself\u001B[39m\u001B[38;5;241m.\u001B[39m_getitem_multilevel(key)\n\u001B[0;32m-> 3807\u001B[0m indexer \u001B[38;5;241m=\u001B[39m \u001B[38;5;28;43mself\u001B[39;49m\u001B[38;5;241;43m.\u001B[39;49m\u001B[43mcolumns\u001B[49m\u001B[38;5;241;43m.\u001B[39;49m\u001B[43mget_loc\u001B[49m\u001B[43m(\u001B[49m\u001B[43mkey\u001B[49m\u001B[43m)\u001B[49m\n\u001B[1;32m   3808\u001B[0m \u001B[38;5;28;01mif\u001B[39;00m is_integer(indexer):\n\u001B[1;32m   3809\u001B[0m     indexer \u001B[38;5;241m=\u001B[39m [indexer]\n",
      "File \u001B[0;32m/usr/local/lib/python3.10/dist-packages/pandas/core/indexes/base.py:3804\u001B[0m, in \u001B[0;36mIndex.get_loc\u001B[0;34m(self, key, method, tolerance)\u001B[0m\n\u001B[1;32m   3802\u001B[0m     \u001B[38;5;28;01mreturn\u001B[39;00m \u001B[38;5;28mself\u001B[39m\u001B[38;5;241m.\u001B[39m_engine\u001B[38;5;241m.\u001B[39mget_loc(casted_key)\n\u001B[1;32m   3803\u001B[0m \u001B[38;5;28;01mexcept\u001B[39;00m \u001B[38;5;167;01mKeyError\u001B[39;00m \u001B[38;5;28;01mas\u001B[39;00m err:\n\u001B[0;32m-> 3804\u001B[0m     \u001B[38;5;28;01mraise\u001B[39;00m \u001B[38;5;167;01mKeyError\u001B[39;00m(key) \u001B[38;5;28;01mfrom\u001B[39;00m \u001B[38;5;21;01merr\u001B[39;00m\n\u001B[1;32m   3805\u001B[0m \u001B[38;5;28;01mexcept\u001B[39;00m \u001B[38;5;167;01mTypeError\u001B[39;00m:\n\u001B[1;32m   3806\u001B[0m     \u001B[38;5;66;03m# If we have a listlike key, _check_indexing_error will raise\u001B[39;00m\n\u001B[1;32m   3807\u001B[0m     \u001B[38;5;66;03m#  InvalidIndexError. Otherwise we fall through and re-raise\u001B[39;00m\n\u001B[1;32m   3808\u001B[0m     \u001B[38;5;66;03m#  the TypeError.\u001B[39;00m\n\u001B[1;32m   3809\u001B[0m     \u001B[38;5;28mself\u001B[39m\u001B[38;5;241m.\u001B[39m_check_indexing_error(key)\n",
      "\u001B[0;31mKeyError\u001B[0m: 'iteration'"
     ]
    }
   ],
   "source": [
    "results[ results[ \"classification/accuracy\" ].notnull() ].plot( x=\"iteration\", y=\"classification/accuracy\" )"
   ],
   "metadata": {
    "collapsed": false,
    "ExecuteTime": {
     "end_time": "2023-07-11T02:47:42.722711Z",
     "start_time": "2023-07-11T02:47:42.192168Z"
    }
   }
  },
  {
   "cell_type": "code",
   "execution_count": 38,
   "outputs": [
    {
     "data": {
      "text/plain": "                                                             prompt      completion                         args\nin current tab 0  Load stage.excitingmango.info right here in th...  in current tab     stage.excitingmango.info\n               1  Go straight to login.beautifulapple.gov in thi...  in current tab     login.beautifulapple.gov\n               2     Please navigate to stage.incredibledolphin.gov  in current tab  stage.incredibledolphin.gov\n               3  Get beta.excitingbanana.com up on the screen i...  in current tab      beta.excitingbanana.com\n               4   Put up spectacularpenguin.net in the current tab  in current tab       spectacularpenguin.net",
      "text/html": "<div>\n<style scoped>\n    .dataframe tbody tr th:only-of-type {\n        vertical-align: middle;\n    }\n\n    .dataframe tbody tr th {\n        vertical-align: top;\n    }\n\n    .dataframe thead th {\n        text-align: right;\n    }\n</style>\n<table border=\"1\" class=\"dataframe\">\n  <thead>\n    <tr style=\"text-align: right;\">\n      <th></th>\n      <th></th>\n      <th>prompt</th>\n      <th>completion</th>\n      <th>args</th>\n    </tr>\n  </thead>\n  <tbody>\n    <tr>\n      <th rowspan=\"5\" valign=\"top\">in current tab</th>\n      <th>0</th>\n      <td>Load stage.excitingmango.info right here in th...</td>\n      <td>in current tab</td>\n      <td>stage.excitingmango.info</td>\n    </tr>\n    <tr>\n      <th>1</th>\n      <td>Go straight to login.beautifulapple.gov in thi...</td>\n      <td>in current tab</td>\n      <td>login.beautifulapple.gov</td>\n    </tr>\n    <tr>\n      <th>2</th>\n      <td>Please navigate to stage.incredibledolphin.gov</td>\n      <td>in current tab</td>\n      <td>stage.incredibledolphin.gov</td>\n    </tr>\n    <tr>\n      <th>3</th>\n      <td>Get beta.excitingbanana.com up on the screen i...</td>\n      <td>in current tab</td>\n      <td>beta.excitingbanana.com</td>\n    </tr>\n    <tr>\n      <th>4</th>\n      <td>Put up spectacularpenguin.net in the current tab</td>\n      <td>in current tab</td>\n      <td>spectacularpenguin.net</td>\n    </tr>\n  </tbody>\n</table>\n</div>"
     },
     "execution_count": 38,
     "metadata": {},
     "output_type": "execute_result"
    }
   ],
   "source": [
    "vox_command_df.head()"
   ],
   "metadata": {
    "collapsed": false,
    "ExecuteTime": {
     "end_time": "2023-07-11T02:48:44.033721Z",
     "start_time": "2023-07-11T02:48:44.028955Z"
    }
   }
  },
  {
   "cell_type": "code",
   "execution_count": null,
   "outputs": [],
   "source": [],
   "metadata": {
    "collapsed": false
   }
  }
 ],
 "metadata": {
  "kernelspec": {
   "display_name": "Python 3",
   "language": "python",
   "name": "python3"
  },
  "language_info": {
   "codemirror_mode": {
    "name": "ipython",
    "version": 2
   },
   "file_extension": ".py",
   "mimetype": "text/x-python",
   "name": "python",
   "nbconvert_exporter": "python",
   "pygments_lexer": "ipython2",
   "version": "2.7.6"
  }
 },
 "nbformat": 4,
 "nbformat_minor": 0
}
