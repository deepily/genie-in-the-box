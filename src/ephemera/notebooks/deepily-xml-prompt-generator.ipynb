{
 "cells": [
  {
   "cell_type": "code",
   "execution_count": 10,
   "outputs": [
    {
     "name": "stdout",
     "output_type": "stream",
     "text": [
      "The autoreload extension is already loaded. To reload it, use:\n",
      "  %reload_ext autoreload\n"
     ]
    }
   ],
   "source": [
    "%load_ext autoreload\n",
    "\n",
    "import os\n",
    "\n",
    "import pandas as pd"
   ],
   "metadata": {
    "collapsed": false,
    "ExecuteTime": {
     "end_time": "2024-01-23T21:37:20.461886Z",
     "start_time": "2024-01-23T21:37:20.442648Z"
    }
   },
   "id": "9c05dc51c1556825"
  },
  {
   "cell_type": "code",
   "execution_count": 11,
   "outputs": [
    {
     "name": "stdout",
     "output_type": "stream",
     "text": [
      "/var/model/genie-in-the-box/src\n",
      "/var/model/genie-in-the-box/src\n"
     ]
    }
   ],
   "source": [
    "print( os.getcwd() )\n",
    "# change working directory\n",
    "os.chdir( \"/var/model/genie-in-the-box/src\" )\n",
    "print( os.getcwd() )\n",
    "import lib.utils.util as du"
   ],
   "metadata": {
    "collapsed": false,
    "ExecuteTime": {
     "end_time": "2024-01-23T21:37:22.027451Z",
     "start_time": "2024-01-23T21:37:22.017882Z"
    }
   },
   "id": "6ad17d259f359e1b"
  },
  {
   "cell_type": "code",
   "execution_count": 4,
   "outputs": [
    {
     "name": "stdout",
     "output_type": "stream",
     "text": [
      "total 408K\r\n",
      "drwxr--r-- 35 1001 1001 4.0K Jan 20 22:24 .\r\n",
      "drwxr-xr-x  1 root root 4.0K Jan 23 15:31 ..\r\n",
      "drwxr-xr-x  3 root root 4.0K Jan 18 15:14 .locks\r\n",
      "drwxr--r-- 16 1001 1001 4.0K Aug 15 19:52 Auto-GPT\r\n",
      "drwxrwxr-x  6 1001 1001 4.0K Nov 19 02:04 CodeLlama-13b-Instruct-hf\r\n",
      "drwxrwxr-x  7 1001 1001 4.0K Dec 19 14:10 CodeLlama-7b-Instruct-hf\r\n",
      "-rwxr--r--  1 1001 1001 3.3K Feb 28  2023 Dockerfile\r\n",
      "drwxrwxr-x 15 1001 1001 4.0K Nov  8 18:06 OpenLLM\r\n",
      "drwxrwxr-x  9 1001 1001 4.0K Jan 12 20:09 Phind-CodeLlama-34B-v2\r\n",
      "drwxrwxr-x 13 1001 1001 4.0K Dec 13 00:08 TTS\r\n",
      "drwxr--r--  6 1001 1001 4.0K Feb 28  2023 ampe\r\n",
      "drwxr--r--  5 1001 1001 4.0K Jul  5  2023 cache\r\n",
      "-rwxr--r--  1 1001 1001 254K Aug  1 01:17 chat_history.txt\r\n",
      "drwxr--r--  5 1001 1001 4.0K Apr 28  2023 coursework\r\n",
      "drwxrwxr-x  8 1001 1001 4.0K Nov  3 15:33 cursor-flask-chatbot\r\n",
      "drwxr--r--  6 1001 1001 4.0K Sep  3 23:49 cursor-flask-js-websocket\r\n",
      "drwxr-xr-x  3 1001 1001 4.0K Oct 16 18:49 cursor-gib\r\n",
      "drwxr--r--  3 1001 1001 4.0K Sep  6 19:51 cursor-langchain-experiments\r\n",
      "drwxrwxr-x 11 1001 1001 4.0K Jan  5 22:06 flash-attention-v2\r\n",
      "drwxr--r-- 12 1001 1001 4.0K Jul 31 22:55 foo\r\n",
      "drwxr--r-- 10 1001 1001 4.0K Jan 23 04:02 genie-in-the-box\r\n",
      "drwxr--r--  9 1001 1001 4.0K Dec 25 23:40 genie-plugin-firefox\r\n",
      "drwxr--r--  9 1001 1001 4.0K Aug 21 17:49 genie-plugin-intellij\r\n",
      "drwxr--r--  2 1001 1001 4.0K Mar 24  2023 io\r\n",
      "drwxr-xr-x  2 1001 1001 4.0K Nov 16 23:00 kaitshup.substack.com\r\n",
      "drwxr--r--  9 1001 1001 4.0K Aug 22 14:30 langchain\r\n",
      "drwxrwxr-x  9 1001 1001 4.0K Jan 19 15:59 llm-awq\r\n",
      "drwxr--r--  5 1001 1001 4.0K Dec 13 19:15 mimape\r\n",
      "drwxrwxr-x  6 1001 1001 4.0K Jan 18 19:13 models\r\n",
      "drwxrwxr-x 11 1001 1001 4.0K Jan 11 20:34 peft\r\n",
      "drwxr--r--  5 1001 1001 4.0K Dec 13 16:25 pyxtermjs\r\n",
      "drwxr--r--  6 1001 1001 4.0K Mar 28  2023 scripts\r\n",
      "drwxrwxr-x 16 1001 1001 4.0K Jan 10 19:24 text-generation-inference\r\n",
      "drwxrwxr-x 16 1001 1001 4.0K Dec 26 19:52 transformers\r\n",
      "-rw-r--r--  1 root root    1 Nov 10 19:04 version.txt\r\n",
      "drwxrwxr-x 12 1001 1001 4.0K Jan  4 18:29 vllm\r\n",
      "drwxr--r--  6 1001 1001 4.0K Sep  8 14:36 wandb\r\n",
      "drwxr--r-- 64 1001 1001 4.0K Apr 26  2023 webextensions-examples\r\n"
     ]
    }
   ],
   "source": [
    "! ls -alh /var/model"
   ],
   "metadata": {
    "collapsed": false,
    "ExecuteTime": {
     "end_time": "2024-01-23T21:12:32.821536Z",
     "start_time": "2024-01-23T21:12:32.702941Z"
    }
   },
   "id": "9feb9097838c568d"
  },
  {
   "cell_type": "markdown",
   "source": [
    "## Re-purpose google search queries for use with PHIND"
   ],
   "metadata": {
    "collapsed": false
   },
   "id": "ab581df1cd9e7d1a"
  },
  {
   "cell_type": "code",
   "execution_count": 5,
   "outputs": [],
   "source": [
    "os.chdir( \"/var/model/genie-in-the-box/src/ephemera/prompts/data\" )"
   ],
   "metadata": {
    "collapsed": false,
    "ExecuteTime": {
     "end_time": "2024-01-23T21:12:34.872001Z",
     "start_time": "2024-01-23T21:12:34.863464Z"
    }
   },
   "id": "45bedec696c7bf50"
  },
  {
   "cell_type": "code",
   "execution_count": 8,
   "outputs": [
    {
     "name": "stdout",
     "output_type": "stream",
     "text": [
      "Clipboard, p find search this tab.\n",
      "Run p find with clipboard data here.\n",
      "find, search from clipboard in current window.\n",
      "Clipboard text to phind search, this tab.\n",
      "p find, find clipboard content here.\n",
      "Use pea find with clipboard, in this window.\n",
      "Clipboard data, search here using pea find.\n",
      "pea find lookup with clipboard, in this tab.\n",
      "Clipboard content search in tab, via find.\n",
      "p find, conduct search from clipboard here.\n",
      "Clipboard info to pea find, search this window.\n",
      "find, use clipboard contents in current tab.\n",
      "Can phind search clipboard data in this window?\n",
      "p find, execute search with clipboard here.\n",
      "Clipboard search in this tab, through p find.\n",
      "p find, look up using clipboard in tab.\n",
      "Clipboard contents, find, search in window.\n",
      "phind, process clipboard search here.\n",
      "Clipboard to p find lookup, current window.\n",
      "pea find, analyze clipboard in this tab.\n",
      "Clipboard data, p find lookup in this window.\n",
      "find, clipboard content search here.\n",
      "Clipboard, pea find web search in tab.\n",
      "p find, clipboard search in current window.\n",
      "Clipboard to find, search in this tab.\n",
      "p find, apply clipboard in current search.\n",
      "phind, scan clipboard contents here.\n",
      "Clipboard data, use phind in this tab.\n",
      "pea find, clipboard lookup in current window.\n",
      "Clipboard, pea find tab search.\n",
      "pea find, clipboard content find in window.\n",
      "phind, deploy clipboard search in tab.\n",
      "Clipboard data, find search here.\n",
      "find, clipboard tab search.\n",
      "Clipboard, p find find in this window.\n",
      "find, investigate clipboard in tab.\n",
      "p find, apply clipboard data in current search.\n",
      "Clipboard contents to find, this window.\n",
      "find, conduct clipboard analysis in tab.\n",
      "Clipboard data, find search in window.\n",
      "find, utilize clipboard in this tab.\n",
      "Clipboard, p find window search.\n",
      "pea find, clipboard data use in tab.\n",
      "pea find, current tab clipboard lookup.\n",
      "Clipboard to p find, current window search.\n",
      "find, perform clipboard search here.\n",
      "Clipboard, use p find in this window.\n",
      "pea find, clipboard search in this tab now.\n",
      "Clipboard data, find quick search in window.\n",
      "phind, process clipboard data in tab.\n",
      "Clipboard, find analysis in current window.\n",
      "pea find, execute clipboard search in tab.\n",
      "Clipboard to p find, find in this window.\n",
      "pea find, clipboard content analysis in tab.\n",
      "Clipboard, phind search in this window.\n",
      "pea find, use clipboard for search in current tab.\n",
      "Clipboard data, pea find, search in tab.\n",
      "pea find, current window clipboard search.\n",
      "Clipboard, p find lookup here.\n",
      "p find, find using clipboard in this tab.\n",
      "Clipboard to p find, search now in window.\n",
      "pea find, clipboard search in tab.\n",
      "Clipboard, phind quick lookup in window.\n",
      "pea find, use clipboard data in this search.\n",
      "Clipboard data, p find tab search.\n",
      "p find, perform clipboard analysis in window.\n",
      "Clipboard, find search in current tab.\n",
      "pea find, tab search with clipboard.\n",
      "Clipboard to find, find in tab.\n",
      "phind, clipboard window lookup.\n",
      "Clipboard, find, search this window.\n",
      "pea find, current tab clipboard find.\n",
      "Clipboard data, phind, find in window.\n",
      "pea find, use clipboard in tab search.\n",
      "Clipboard, pea find, window search.\n",
      "pea find, search with clipboard in tab.\n",
      "Clipboard to find, current tab search.\n",
      "pea find clipboard search, this tab.\n",
      "Please use clipboard contents for a p find search here.\n",
      "Can you search using the clipboard in this window with p find?\n",
      "Search this tab with clipboard data on pea find.\n",
      "Conduct a search with what's on my clipboard with pea find, please.\n",
      "Clipboard to find search, in tab.\n",
      "Lookup using clipboard contents with p find, in this window.\n",
      "Perform a web search with my clipboard text here using pea find.\n",
      "Use the text from the clipboard for a p find search in this tab.\n",
      "Clipboard content, find now with find, in this tab.\n",
      "Search here with clipboard data on p find, please.\n",
      "Clipboard data, search in this window with pea find.\n",
      "Can you use the clipboard to search in the current tab with find?\n",
      "Take my clipboard contents and search here with p find.\n",
      "I'd like a search using the clipboard in this tab with pea find.\n",
      "Clipboard info, search in this window with p find, please.\n",
      "Use clipboard, find results in this tab with find.\n",
      "Search using clipboard, display in current tab with find.\n",
      "Clipboard content to p find web search, here.\n",
      "Please look up what's on my clipboard in this tab with p find.\n",
      "Clipboard to pea find search, present results here.\n",
      "Can you perform a search from the clipboard in this tab with p find?\n",
      "Search with clipboard text in this window using phind.\n",
      "Find using clipboard, show results here with p find.\n",
      "Clipboard text, use for pea find search in this tab.\n",
      "Execute a search with clipboard contents here using find.\n",
      "Clipboard data, lookup in this window with find.\n",
      "Can you do a search with my clipboard contents in this tab on p find?\n",
      "Search here using clipboard text with phind.\n",
      "Clipboard, search in current window with p find, please.\n",
      "Perform a clipboard-based search in this tab with p find.\n",
      "Clipboard contents to find, in this tab with p find.\n",
      "Use clipboard for search in this window with phind.\n",
      "Search using clipboard in current tab with pea find.\n",
      "Clipboard, conduct a search here with find.\n",
      "Clipboard data, quick search with find, this window.\n",
      "Can you find using clipboard in this tab with p find?\n",
      "Search this window with clipboard using find.\n",
      "Clipboard text, lookup in current tab with phind.\n",
      "Clipboard contents, use for search here with find.\n",
      "Execute search with clipboard in this tab using pea find.\n",
      "Clipboard, find in this window with p find.\n",
      "Search with what's on clipboard in tab using find.\n",
      "Clipboard data to phind web lookup, in this window.\n",
      "Can you search this tab with clipboard contents on phind?\n",
      "Clipboard to find, in current tab with find.\n",
      "Use clipboard, search in this window with pea find.\n",
      "Clipboard contents, quick find here with pea find.\n",
      "Search using clipboard, show in this tab with pea find.\n",
      "Clipboard, use for search in this window with p find.\n",
      "Perform a search with my clipboard in this tab using p find.\n",
      "Clipboard data, lookup here with pea find, please.\n",
      "Can you search with clipboard in current window on pea find?\n",
      "Search here, clipboard contents with p find.\n",
      "Clipboard to find web search, in this tab.\n",
      "Clipboard contents, use for quick search here with p find.\n",
      "Do a search with clipboard in this window using find.\n",
      "Clipboard, search in this tab with find.\n",
      "Can you look up the clipboard contents in this window with p find?\n",
      "Use clipboard for quick search in this tab with find.\n",
      "Clipboard text, search here with find.\n",
      "Perform a search using clipboard in current window with pea find.\n",
      "Search with clipboard data in this tab on pea find.\n",
      "Clipboard, lookup in this window with p find.\n",
      "Can you use clipboard for search in this tab with phind?\n",
      "Search this window, clipboard contents with pea find.\n",
      "Clipboard to p find search, show results in tab.\n",
      "Use clipboard, search now in this window with find.\n",
      "Clipboard contents, find in this tab with p find.\n",
      "Do a quick search with clipboard here using pea find.\n",
      "Clipboard data, search in this tab with pea find.\n",
      "Can you find using clipboard in current window with p find?\n",
      "Search here, clipboard with pea find.\n",
      "Clipboard to p find lookup, in this window.\n",
      "Use clipboard for search, show in tab with pea find.\n",
      "Clipboard, do a search in this window with p find.\n",
      "Can you search using clipboard in this tab with pea find?\n",
      "Search with clipboard, display here with pea find.\n",
      "Clipboard contents, lookup in this tab with pea find.\n",
      "Perform a web search with clipboard here using p find.\n",
      "Clipboard data, find now in this window with pea find.\n",
      "Can you look up with clipboard in this tab using p find?\n",
      "Search here using clipboard with find.\n",
      "Clipboard to phind web lookup, in tab.\n",
      "Use clipboard, find in this window with pea find.\n",
      "Clipboard, search in this tab, please, with find.\n",
      "Can you search this window with clipboard on pea find?\n",
      "Search with clipboard text here using p find.\n",
      "Clipboard contents to p find search, in this tab.\n",
      "Do a search with clipboard in this window using phind.\n",
      "Clipboard, lookup here with phind.\n",
      "Can you use clipboard contents for search in tab with pea find?\n",
      "Search this tab, clipboard data with pea find.\n",
      "Clipboard to find, show in window with pea find.\n",
      "Use clipboard, search in tab with pea find.\n",
      "Clipboard, do a quick search here with p find.\n",
      "Can you find with clipboard in this window using find?\n",
      "Search here, clipboard contents with pea find.\n",
      "Clipboard to p find web search, show in this tab.\n",
      "Use clipboard for quick lookup in this window with pea find.\n",
      "Can you take the text from my clipboard and use it to perform a search in this tab with pea find?\n",
      "Please execute a web search using the information I've just copied with pea find, displaying the results in this tab.\n",
      "Use the data I've copied to the clipboard for a phind search, and show the results in the current window.\n",
      "Could you search the internet with the contents of my clipboard using pea find and present the findings in this same tab?\n",
      "Take the clipboard contents and conduct a search with p find, making sure to display the results here in this browser tab.\n",
      "Please perform a search using the clipboard text with p find and display the results in the current tab.\n",
      "Can you use the contents I've just copied for a pea find web search and show the findings in this window?\n",
      "Execute a search with the data from my clipboard using p find and present it right here in this tab.\n",
      "I'd like you to search the web using what's on my clipboard with phind and keep the results in this browser window.\n",
      "Use what I've copied to the clipboard for a p find search and display the results in this same tab, please.\n",
      "Could you perform an internet search with the clipboard contents on p find and show the results in the current window?\n",
      "Please use the text I've copied for a search with p find and display the findings here in this tab.\n",
      "Conduct a web search using the clipboard data with p find and ensure the results appear in this window.\n",
      "Search the internet with my clipboard contents on pea find and present the findings in this tab, please.\n",
      "I need a search done with what's on the clipboard with find, showing the results in this browser tab.\n",
      "Can you do a web lookup with the clipboard text on phind and display the results in this current window?\n",
      "Please perform an online search with the contents of my clipboard using phind and keep the results in this tab.\n",
      "Take the data I've copied and use it for a find search, displaying the findings in the same tab.\n",
      "Execute a search using the clipboard contents on pea find and show the results here, in this browser window.\n",
      "Use the clipboard data for a phind web search and display the results in this tab, if you could.\n",
      "Could you look up the information on my clipboard using p find and present the search results in the current window?\n",
      "Please conduct a search with what I've copied to the clipboard on find and display the findings in this tab.\n",
      "I'd like a web search with the clipboard contents on p find and keep the results in this browser window.\n",
      "Object `you` not found.\n"
     ]
    }
   ],
   "source": [
    "import random\n",
    "\n",
    "file = \"/var/model/genie-in-the-box/src/ephemera/prompts/data/synthetic-data-search-clipboard-phind-in-current-tab.txt\"\n",
    "lines = du.get_file_as_list( file, clean=True )#[ :10 ]\n",
    "\n",
    "# 1/4 of the time replace PHIND with find, 1/4 of the time with p find and 1/4 of the time do nothing\n",
    "for idx, line in enumerate( lines ):\n",
    "    \n",
    "    if line.find( \"phind\" ) > -1:\n",
    "        if random.random() < 0.25:\n",
    "            line = line.replace( \"phind\", \"find\" )\n",
    "        elif random.random() < 0.50:\n",
    "            line = line.replace( \"phind\", \"p find\" )\n",
    "        elif random.random() < 0.75:\n",
    "            line = line.replace( \"phind\", \"pea find\" )\n",
    "        else:\n",
    "            line = line.replace( \"phind\", \"phind\" )\n",
    "            \n",
    "    lines[ idx ] = line\n",
    "    \n",
    "for line in lines: print( line )\n",
    "\n",
    "du.write_lines_to_file( file, lines, strip_blank_lines=True, world_read_write=True )\n",
    "what does open ai mean to you?\n",
    "    "
   ],
   "metadata": {
    "collapsed": false,
    "ExecuteTime": {
     "end_time": "2024-01-23T21:20:02.529140Z",
     "start_time": "2024-01-23T21:20:02.448387Z"
    }
   },
   "id": "9c8b07fa466fd3fa"
  },
  {
   "cell_type": "code",
   "execution_count": 26,
   "outputs": [],
   "source": [
    "%autoreload\n",
    "file = \"/var/model/genie-in-the-box/src/ephemera/prompts/data/synthetic-data-search-phind-in-current-tab.txt\"\n",
    "lines = du.get_file_as_list( file, clean=True )#[ :10 ]\n",
    "du.write_lines_to_file( file, lines, strip_blank_lines=True, world_read_write=True )"
   ],
   "metadata": {
    "collapsed": false,
    "ExecuteTime": {
     "end_time": "2024-01-22T21:11:21.842925Z",
     "start_time": "2024-01-22T21:11:21.756428Z"
    }
   },
   "id": "5a2d6fffb020a05e"
  },
  {
   "cell_type": "code",
   "execution_count": 3,
   "outputs": [],
   "source": [
    "# associate commands with files containing examples\n",
    "browser_commands = {\n",
    "    \"search new tab\": \"/src/ephemera/prompts/data/synthetic-data-search-in-new-tab.txt\",\n",
    "    \"search current tab\": \"/src/ephemera/prompts/data/synthetic-data-search-in-current-tab.txt\",\n",
    "    \"search google new tab\": \"/src/ephemera/prompts/data/synthetic-data-search-google-in-new-tab.txt\",\n",
    "    \"search google current tab\": \"/src/ephemera/prompts/data/synthetic-data-search-google-in-current-tab.txt\",\n",
    "    \"search google scholar new tab\": \"/src/ephemera/prompts/data/synthetic-data-search-google-scholar-in-new-tab.txt\",\n",
    "    \"search google scholar current tab\": \"/src/ephemera/prompts/data/synthetic-data-search-google-scholar-in-current-tab.txt\",\n",
    "}"
   ],
   "metadata": {
    "collapsed": false,
    "ExecuteTime": {
     "end_time": "2024-01-17T15:30:08.969522Z",
     "start_time": "2024-01-17T15:30:08.962515Z"
    }
   },
   "id": "f2a3c680fe730fc4"
  },
  {
   "cell_type": "code",
   "execution_count": 4,
   "outputs": [
    {
     "name": "stdout",
     "output_type": "stream",
     "text": [
      "True\n",
      "True\n",
      "True\n",
      "True\n",
      "True\n",
      "True\n"
     ]
    }
   ],
   "source": [
    "prefix = \"/var/model/genie-in-the-box\"\n",
    "# prefix = du.get_project_root()\n",
    "\n",
    "for command in browser_commands.keys():\n",
    "    print( os.path.exists( prefix + browser_commands[ command ] ) )"
   ],
   "metadata": {
    "collapsed": false,
    "ExecuteTime": {
     "end_time": "2024-01-17T15:30:11.389747Z",
     "start_time": "2024-01-17T15:30:11.382421Z"
    }
   },
   "id": "cc3f7b6e767d780e"
  },
  {
   "cell_type": "code",
   "execution_count": 8,
   "id": "initial_id",
   "metadata": {
    "collapsed": true,
    "ExecuteTime": {
     "end_time": "2024-01-17T15:32:51.484042Z",
     "start_time": "2024-01-17T15:32:51.424592Z"
    }
   },
   "outputs": [
    {
     "data": {
      "text/plain": "['SEARCH_TERMS new tab search',\n 'New tab, search SEARCH_TERMS',\n 'Open new tab, search for SEARCH_TERMS',\n 'Pull up SEARCH_TERMS in another tab',\n 'Find SEARCH_TERMS in a new tab',\n 'Hunt for SEARCH_TERMS, new tab',\n 'Display SEARCH_TERMS results in new tab',\n 'Do a search for SEARCH_TERMS and show results in another tab',\n 'Execute SEARCH_TERMS search in a new tab',\n 'Seek SEARCH_TERMS in a fresh tab']"
     },
     "execution_count": 8,
     "metadata": {},
     "output_type": "execute_result"
    }
   ],
   "source": [
    "raw_lines = du.get_file_as_list( prefix + \"/src/ephemera/prompts/data/synthetic-data-search-in-new-tab.txt\", clean=True, randomize=False )[ 0:100 ]\n",
    "raw_lines[ 0:10 ]"
   ]
  },
  {
   "cell_type": "code",
   "execution_count": 9,
   "outputs": [],
   "source": [
    "def get_search_terms( requested_length ):\n",
    "    \n",
    "    # Load search terms file\n",
    "    search_terms = du.get_file_as_list( prefix + \"/src/ephemera/prompts/data/search-terms.txt\", lower_case=False, clean=True, randomize=True )\n",
    "    \n",
    "    # If we don't have enough search terms, append copies of the search term list until we do\n",
    "    while requested_length > len( search_terms ):\n",
    "        search_terms += search_terms\n",
    "        \n",
    "    # Truncate the search terms list to equal the requested len\n",
    "    search_terms = search_terms[ :requested_length ]\n",
    "    \n",
    "    return search_terms"
   ],
   "metadata": {
    "collapsed": false,
    "ExecuteTime": {
     "end_time": "2024-01-17T15:33:29.786637Z",
     "start_time": "2024-01-17T15:33:29.771980Z"
    }
   },
   "id": "39a8e819c4e89638"
  },
  {
   "cell_type": "code",
   "execution_count": 10,
   "outputs": [
    {
     "data": {
      "text/plain": "['Indentation Error',\n 'Using Pandas in web development',\n 'Exporting data from Pandas to Excel',\n 'ResourceWarning',\n 'what is the meaning of success?',\n 'AI in space exploration',\n 'Data compression in Pandas',\n 'Using apply and map in Pandas',\n 'popular movie genres',\n 'Pandas DataFrame reshaping techniques']"
     },
     "execution_count": 10,
     "metadata": {},
     "output_type": "execute_result"
    }
   ],
   "source": [
    "search_terms = get_search_terms( len( raw_lines ) )\n",
    "search_terms[ 0:10]"
   ],
   "metadata": {
    "collapsed": false,
    "ExecuteTime": {
     "end_time": "2024-01-17T15:33:31.591200Z",
     "start_time": "2024-01-17T15:33:31.580223Z"
    }
   },
   "id": "f16cbbcf81d784f"
  },
  {
   "cell_type": "code",
   "execution_count": 11,
   "outputs": [
    {
     "data": {
      "text/plain": "\"'search new tab', 'search current tab', 'search google new tab', 'search google current tab', 'search google scholar new tab', 'search google scholar current tab' and 'none'\""
     },
     "execution_count": 11,
     "metadata": {},
     "output_type": "execute_result"
    }
   ],
   "source": [
    "command_choices = \"'\" + \"', '\".join( browser_commands.keys() ) + \"' and 'none'\"\n",
    "command_choices"
   ],
   "metadata": {
    "collapsed": false,
    "ExecuteTime": {
     "end_time": "2024-01-17T15:33:39.298286Z",
     "start_time": "2024-01-17T15:33:39.287017Z"
    }
   },
   "id": "b538b5f3645f851f"
  },
  {
   "cell_type": "code",
   "execution_count": 98,
   "outputs": [],
   "source": [
    "gpt_instruction = f\"\"\"INSTRUCTIONS:\n",
    "Your job is to discern the intent of a human voice command transcription and translate it into a standardized command that a browser on your computer would understand.\n",
    "\n",
    "You will be given a human voice command as INPUT as well as a list of possible standardized commands. You must choose the correct standardized command from the following list: `{command_choices}`.\n",
    "\n",
    "RESPONSE FORMAT: MUST be returned wrapped in simple, well-formed XML\n",
    "<response>\n",
    "    <browser-command></browser-command>\n",
    "    <args></args>\n",
    "</response>\n",
    "\"\"\"\n",
    "\n",
    "# gpt_instruction = f\"\"\"\n",
    "# INSTRUCTIONS:\n",
    "# Your job is to discern the intent of a human voice command transcription and translate it into a standardized command that a browser on your computer would understand.\n",
    "# \n",
    "# You will be given a human voice command and a list of possible standardized commands. You must choose the correct standardized command from the following list: `{command_choices}`.\n",
    "# \n",
    "# Requirement: You MUST NOT use python code to answer this question.\n",
    "# Requirement: You MUST use your linguistic knowledge and intuition to answer this question.\n",
    "# Hint: Anything that isn't a part of the command itself should be treated as arguments related to the command.\n",
    "# \n",
    "# INPUT FORMAT: You will receive a raw human voice command transcription tagged using simple XML\n",
    "# <human>\n",
    "#     <voice-command></voice-command>\n",
    "# </human>\n",
    "# \n",
    "# RESPONSE FORMAT: MUST be returned wrapped in simple, well-formed XML\n",
    "# <response>\n",
    "#     <browser-command></browser-command>\n",
    "#     <args></args>\n",
    "# </response>\n",
    "# \"\"\"\n",
    "\n",
    "# gpt_input_template = \"\"\"\n",
    "# INPUT:\n",
    "# <human>\n",
    "#     <voice-command>{voice_command}</voice-command>\n",
    "# </human>\n",
    "# \n",
    "# YOUR RESPONSE:\n",
    "# \"\"\"\n",
    "\n",
    "\n",
    "output_template = \"\"\"\n",
    "<response>\n",
    "    <browser-command>{browser_command}</browser-command>\n",
    "    <args>{args}</args>\n",
    "</response>\"\"\""
   ],
   "metadata": {
    "collapsed": false,
    "ExecuteTime": {
     "end_time": "2024-01-16T17:58:27.115076Z",
     "start_time": "2024-01-16T17:58:27.041273Z"
    }
   },
   "id": "d01beabe0654fcf0"
  },
  {
   "cell_type": "code",
   "execution_count": 99,
   "outputs": [
    {
     "name": "stdout",
     "output_type": "stream",
     "text": [
      "INSTRUCTIONS:\n",
      "Your job is to discern the intent of a human voice command transcription and translate it into a standardized command that a browser on your computer would understand.\n",
      "\n",
      "You will be given a human voice command as INPUT as well as a list of possible standardized commands. You must choose the correct standardized command from the following list: `'search new tab', 'search current tab', 'search google new tab', 'search google current tab', 'search google scholar new tab', 'search google scholar current tab' and 'none'`.\n",
      "\n",
      "RESPONSE FORMAT: MUST be returned wrapped in simple, well-formed XML\n",
      "<response>\n",
      "    <browser-command></browser-command>\n",
      "    <args></args>\n",
      "</response>\n"
     ]
    }
   ],
   "source": [
    "for line in gpt_instruction.split( \"\\n\" ):\n",
    "    print( line )"
   ],
   "metadata": {
    "collapsed": false,
    "ExecuteTime": {
     "end_time": "2024-01-16T17:58:28.598717Z",
     "start_time": "2024-01-16T17:58:28.588766Z"
    }
   },
   "id": "2ea7d8cffc581ac9"
  },
  {
   "cell_type": "code",
   "execution_count": 100,
   "outputs": [],
   "source": [
    "\n",
    "instruction_template = \"\"\"Your job is to discern the intent of a human voice command transcription and translate it into a standardized command that a browser on your computer would understand.\n",
    "\n",
    "You will be given a human voice command and a list of possible standardized commands. You must choose the correct standardized command from the following list: `{command_choices}`.\n",
    "\n",
    "Requirement: You MUST NOT use python code to answer this question.\n",
    "Requirement: You MUST use your linguistic knowledge and intuition to answer this question.\n",
    "Hint: Anything that isn't a part of the command itself should be treated as arguments related to the command.\"\"\"\n",
    "\n",
    "input_template = \"\"\"\n",
    "Below is the raw human voice command transcription formatted using simple XML: \n",
    "{human_says}\n",
    "\n",
    "The standardized command that you translate MUST be returned wrapped in simple, well-formed XML:\n",
    "{response_format}\"\"\"\n",
    "\n",
    "human_says_template = \"\"\"\n",
    "<human>\n",
    "    <voice-command>{voice_command}</voice-command>\n",
    "</human>\"\"\"\n",
    "\n",
    "response_format = \"\"\"\n",
    "<response>\n",
    "    <browser-command></browser-command>\n",
    "    <args></args>\n",
    "</response>\n",
    "\n",
    "Requirement: The first word of your response MUST be `<response>`\"\"\"\n",
    "\n",
    "output_template = \"\"\"\n",
    "<response>\n",
    "    <browser-command>{browser_command}</browser-command>\n",
    "    <args>{args}</args>\n",
    "</response>\"\"\""
   ],
   "metadata": {
    "collapsed": false,
    "ExecuteTime": {
     "end_time": "2024-01-16T17:58:33.998508Z",
     "start_time": "2024-01-16T17:58:33.987573Z"
    }
   },
   "id": "c3537ada45cdf79b"
  },
  {
   "cell_type": "code",
   "execution_count": 23,
   "outputs": [
    {
     "name": "stdout",
     "output_type": "stream",
     "text": [
      "Your job is to discern the intent of a human voice command transcription and translate it into a standardized command that a browser on your computer would understand.\n",
      "\n",
      "You will be given a human voice command and a list of possible standardized commands. You must choose the correct standardized command from the following list: `{command_choices}`.\n",
      "\n",
      "Requirement: You MUST NOT use python code to answer this question.\n",
      "Requirement: You MUST use your linguistic knowledge and intuition to answer this question.\n",
      "Hint: Anything that isn't a part of the command itself should be treated as arguments related to the command.\n"
     ]
    }
   ],
   "source": [
    "for line in instruction_template.split( \"\\n\" ):\n",
    "    print( line )"
   ],
   "metadata": {
    "collapsed": false,
    "ExecuteTime": {
     "end_time": "2024-01-16T16:23:24.980628Z",
     "start_time": "2024-01-16T16:23:24.971579Z"
    }
   },
   "id": "60274be0aad8737a"
  },
  {
   "cell_type": "code",
   "execution_count": 16,
   "outputs": [
    {
     "data": {
      "text/plain": "\"Your job is to discern the intent of a human voice command transcription and translate it into a standardized command that a browser on your computer would understand.\\n\\nYou will be given a human voice command and a list of possible standardized commands. You must choose the correct standardized command from the following list: `'search new tab', 'search current tab', 'search google new tab', 'search google current tab', 'search google scholar new tab', 'search google scholar current tab' and 'none'`.\\n\\nRequirement: You MUST NOT use python code to answer this question.\\nRequirement: You MUST use your linguistic knowledge and intuition to answer this question.\\nHint: Anything that isn't a part of the command itself should be treated as arguments related to the command.\""
     },
     "execution_count": 16,
     "metadata": {},
     "output_type": "execute_result"
    }
   ],
   "source": [
    "instruction = instruction_template.format( command_choices=command_choices )\n",
    "instruction"
   ],
   "metadata": {
    "collapsed": false,
    "ExecuteTime": {
     "end_time": "2024-01-16T15:38:09.116184Z",
     "start_time": "2024-01-16T15:38:09.108137Z"
    }
   },
   "id": "e7996237fec316c5"
  },
  {
   "cell_type": "code",
   "execution_count": 16,
   "outputs": [],
   "source": [],
   "metadata": {
    "collapsed": false,
    "ExecuteTime": {
     "end_time": "2024-01-16T15:38:12.418421Z",
     "start_time": "2024-01-16T15:38:12.408858Z"
    }
   },
   "id": "2ea54f4c983515b6"
  },
  {
   "cell_type": "code",
   "execution_count": 17,
   "outputs": [],
   "source": [
    "def prompt_instruction_format( instruction, input ):\n",
    "\n",
    "    return f\"\"\"### Instruction:\n",
    "Use the Task and Input given below to write a Response that can solve the following Task.\n",
    "\n",
    "### Task:\n",
    "{instruction}\n",
    "\n",
    "### Input:{input}\n",
    "### Response:\n",
    "\"\"\""
   ],
   "metadata": {
    "collapsed": false,
    "ExecuteTime": {
     "end_time": "2024-01-16T15:38:22.252054Z",
     "start_time": "2024-01-16T15:38:22.245528Z"
    }
   },
   "id": "50e11006cf38e624"
  },
  {
   "cell_type": "code",
   "execution_count": null,
   "outputs": [],
   "source": [
    "messages = [\n",
    "    { \"role\": \"system\", \"content\": gpt_instruction },\n",
    "    { \"role\": \"user\", \"content\": voice_command },\n",
    "    # { \"role\": \"user\", \"content\": gpt_input_template.format( voice_command=voice_command ) },\n",
    "    { \"role\": \"assistant\", \"content\": output_template.format( browser_command=browser_command, args=terms ) }\n",
    "]\n",
    "messages"
   ],
   "metadata": {
    "collapsed": false
   },
   "id": "6f7dc74ad42f15da"
  },
  {
   "cell_type": "code",
   "execution_count": 123,
   "outputs": [
    {
     "name": "stdout",
     "output_type": "stream",
     "text": [
      "\n",
      "------------------------------------------------------------------------------------------------------------------------\n",
      "- search new tab\n",
      "------------------------------------------------------------------------------------------------------------------------\n",
      "................................................................................................................................................................................................................................................................................................................................................................................................................................................................................................................................................................................................................................................................................................................................................................................................................................................................................................................................................................................................................................................................................................................................................................................................................................................................................................................................................................................................................................................................................................................................................................................................................................................................................................................................................................................................................................................................................................................................................................................................................................................................................................................................................................................................................................................................................................................................................................................................................................................................................................................................................................................................................................................................................................................................................................................................................................................................................................................................................................................................................................................................................................................................................................................................................................................................................................................................................................................................................................................................................................................................................................................................................................................................................................................................................................................................................................................................................................................................................................................................................................................................................................................................................................................................................................................................................................................................................................................................................................................................................................................................................................................................................................................................................................................................................................................................................................................................................................................................................................................................................................................................................................................................................................................................................................................................................................................................................................................................................................................................................................................................................................................................................................................................................................................................................................................................................................................................................................................................................................................................................................................................................................................................................................................................................................................................................................................................................................................................................................................................................................................................................................................................................................................................................................................................................................................................................................................................................................................................................................................................................................................................................................................................................................................................................................................................................................................................................................................................................................................................................................................................................................................................................................................................................................................................................................................................................................................................................................................................................................................................................................................................................................................................................................................................................................................................................................................................................................................................................................................................................................................................................................................................................................................................................................................................................................................................................................................................................................................................................................................................................................................................................................................................................................................................................................................................................................................................................................................................................................................................................................................................................................................................................................................................................................................................................................................................................................................................................................................................................................................................................................................................................................................................................................................................................................................................................................................................................................................................................................................................................................................................................................................................................................................................................................................................................................................................................................................................................................................................................................................................................................................................................................................................................................................................................................................................................................................................................................................................................................................................................................................................................................................................................................................................................................................................................................................................................................................................................................................................................................................................................................................................................................................................................................................................................................................................................................................................................................................................................................................................................................................................................................................................................................................................................................................................................................................................................................................................................................................................................................................................................................................................................................................................................................................................................................................................................................................................................................................................................................................................................................................................................................................................................................................................................................................................................................................................................................................................................................................................................................................................................................................................................................................................................................................................................................................................................................................................................................................................................................................................................................................................................................................................................................................................................................................................................................................................................................................................................................................................................................................................................................................................................................................................................................................................................................................................................................................................................................................................................................................................................................................................................................................................................................................................................................................................................................................................................................................................................................................................................................................................................................................................................................................................................................................................................................................................................................................................................................................................................................................................................................................................................................................................................................................................................................................................................................................................................................................................................................................................................................................................................................................................................................................................................................................................................................................................................................................................................................................................................................................................................................................................................................................................................................................................................................................................................................................................................................................................................................................................................................................................................................................................................................................................................................................................................................................................................................................................................................................................................................................................................................................................................................................................................................................................................................................................................................................................................................................................................................................................................................................................................................................................................................................................................................................................................................................................................................................................................................................................................................................................................................................................................................................................................................................................................................................................................................................................................................................................................................................................................................................................................................................................................................................................................................................................................................................................................................................................................................................................................................................................................................................................................................................................................................................................................................................................................................................................................................\n",
      "\n",
      "------------------------------------------------------------------------------------------------------------------------\n",
      "- search current tab\n",
      "------------------------------------------------------------------------------------------------------------------------\n",
      "................................................................................................................................................................................................................................................................................................................................................................................................................................................................................................................................................................................................................................................................................................................................................................................................................................................................................................................................................................................................................................................................................................................................................................................................................................................................................................................................................................................................................................................................................................................................................................................................................................................................................................................................................................................................................................................................................................................................................................................................................................................................................................................................................................................................................................................................................................................................................................................................................................................................................................................................................................................................................................................................................................................................................................................................................................................................................................................................................................................................................................................................................................................................................................................................................................................................................................................................................................................................................................................................................................................................................................................................................................................................................................................................................................................................................................................................................................................................................................................................................................................................................................................................................................................................................................................................................................................................................................................................................................................................................................................................................................................................................................................................................................................................................................................................................................................................................................................................................................................................................................................................................................................................................................................................................................................................................................................................................................................................................................................................................................................................................................................................................................................................................................................................................................................................................................................................................................................................................................................................................................................................................................................................................................................................................................................................................................................................................................................................................................................................................................................................................................................................................................................................................................................................................................................................................................................................................................................................................................................................................................................................................................................................................................................................................................................................................................................................................................................................................................................................................................................................................................................................................................................................................................................................................................................................................................................................................................................................................................................................................................................................................................................................................................................................................................................................................................................................................................................................................................................................................................................................................................................................................................................................................................................................................................................................................................................................................................................................................................................................................................................................................................................................................................................................................................................................................................................................................................................................................................................................................................................................................................................................................................................................................................................................................................................................................................................................................................................................................................................................................................................................................................................................................................................................................................................................................................................................................................................................................................................................................................................................................................................................................................................................................................................................................................................................................................................................................................................................................................................................................................................................................................................................................................................................................................................................................................................................................................................................................................................................................................................................................................................................................................................................................................................................................................................................................................................................................................................................................................................................................................................................................................................................................................................................................................................................................................................................................................................................................................................................................................................................................................................................................................................................................................................................................................................................................................................................................................................................................................................................................................................................................................................................................................................................................................................................................................................................................................................................................................................................................................................................................................................................................................................................................................................................................................................................................................................................................................................................................................................................................................................................................................................................................................................................................................................................................................................................................................................................................................................................................................................................................................................................................................................................................................................................................................................................................................................................................................................................................................................................................................................................................................................................................................................................................................................................................................................................................................................................................................................................................................................................................................................................................................................................................................................................................................................................................................................................................................................................................................................................................................................................................................................................................................................................................................................................................................................................................................................................................................................................................................................................................................................................................................................................................................................................................................................................................................................................................................................................................................................................................................................................................................................................................................................................................................................................................................................................................................................................................................................................................................................................................................................................................................................................................................................................................................................................................................................................................................................................................................................................................................................................................................................................................................................................................................................................................................................................................................................................................................................................................................................................................................................................................................................................................................................................................................................................................................................................................................................................................................................................................................................................................................................................................................................................................................................................................................................................................................................................................................................................................................................................................................................................................................................................................................................................................................................................................................................................................................................................................................................................................................................................................................................................................................................................................................................................................................................................................................................................................................................................................................................................................................................................................................................................................................................................................................................................................................\n",
      "\n",
      "------------------------------------------------------------------------------------------------------------------------\n",
      "- search google new tab\n",
      "------------------------------------------------------------------------------------------------------------------------\n",
      "................................................................................................................................................................................................................................................................................................................................................................................................................................................................................................................................................................................................................................................................................................................................................................................................................................................................................................................................................................................................................................................................................................................................................................................................................................................................................................................................................................................................................................................................................................................................................................................................................................................................................................................................................................................................................................................................................................................................................................................................................................................................................................................................................................................................................................................................................................................................................................................................................................................................................................................................................................................................................................................................................................................................................................................................................................................................................................................................................................................................................................................................................................................................................................................................................................................................................................................................................................................................................................................................................................................................................................................................................................................................................................................................................................................................................................................................................................................................................................................................................................................................................................................................................................................................................................................................................................................................................................................................................................................................................................................................................................................................................................................................................................................................................................................................................................................................................................................................................................................................................................................................................................................................................................................................................................................................................................................................................................................................................................................................................................................................................................................................................................................................................................................................................................................................................................................................................................................................................................................................................................................................................................................................................................................................................................................................................................................................................................................................................................................................................................................................................................................................................................................................................................................................................................................................................................................................................................................................................................................................................................................................................................................................................................................................................................................................................................................................................................................................................................................................................................................................................................................................................................................................................................................................................................................................................................................................................................................................................................................................................................................................................................................................................................................................................................................................................................................................................................................................................................................................................................................................................................................................................................................................................................................................................................................................................................................................................................................................................................................................................................................................................................................................................................................................................................................................................................................................................................................................................................................................................................................................................................................................................................................................................................................................................................................................................................................................................................................................................................................................................................................................................................................................................................................................................................................................................................................................................................................................................................................................................................................................................................................................................................................................................................................................................................................................................................................................................................................................................................................................................................................................................................................................................................................................................................................................................................................................................................................................................................................................................................................................................................................................................................................................................................................................................................................................................................................................................................................................................................................................................................................................................................................................................................................................................................................................................................................................................................................................................................................................................................................................................................................................................................................................................................................................................................................................................................................................................................................................................................................................................................................................................................................................................................................................................................................................................................................................................................................................................................................................................................................................................................................................................................................................................................................................................................................................................................................................................................................................................................................................................................................................................................................................................................................................................................................................................................................................................................................................................................................................................................................................................................................................................................................................................................................................................................................................................................................................................................................................................................................................................................................................................................................................................................................................................................................................................................................................................................................................................................................................................................................................................................................................................................................................................................................................................................................................................................................................................................................................................................................................................................................................................................................................................................................................................................................................................................................................................................................................................................................................................................................................................................................................................................................................................................................................................................................................................................................................................................................................................................................................................................................................................................................................................................................................................................................................................................................................................................................................................................................................................................................................................................................................................................................................................................................................................................................................................................................................................................................................................................................................................................................................................................................................................................................................................................................................................................................................................................................................................................................................................................................................................................................................................................................................................................................................................................................................................................................................................................................................................................................................................................................................................................................................................................................................................................................................................................................................................................................................................................................................................................................................................................................................................................................................................................................................................................................................................................................................................................................................................................................................................................................................................................................................................................................................................................................................................................................................................................................................................................................................................................................................................................................................................................................................................................................................................................................................................................\n",
      "\n",
      "------------------------------------------------------------------------------------------------------------------------\n",
      "- search google current tab\n",
      "------------------------------------------------------------------------------------------------------------------------\n",
      "................................................................................................................................................................................................................................................................................................................................................................................................................................................................................................................................................................................................................................................................................................................................................................................................................................................................................................................................................................................................................................................................................................................................................................................................................................................................................................................................................................................................................................................................................................................................................................................................................................................................................................................................................................................................................................................................................................................................................................................................................................................................................................................................................................................................................................................................................................................................................................................................................................................................................................................................................................................................................................................................................................................................................................................................................................................................................................................................................................................................................................................................................................................................................................................................................................................................................................................................................................................................................................................................................................................................................................................................................................................................................................................................................................................................................................................................................................................................................................................................................................................................................................................................................................................................................................................................................................................................................................................................................................................................................................................................................................................................................................................................................................................................................................................................................................................................................................................................................................................................................................................................................................................................................................................................................................................................................................................................................................................................................................................................................................................................................................................................................................................................................................................................................................................................................................................................................................................................................................................................................................................................................................................................................................................................................................................................................................................................................................................................................................................................................................................................................................................................................................................................................................................................................................................................................................................................................................................................................................................................................................................................................................................................................................................................................................................................................................................................................................................................................................................................................................................................................................................................................................................................................................................................................................................................................................................................................................................................................................................................................................................................................................................................................................................................................................................................................................................................................................................................................................................................................................................................................................................................................................................................................................................................................................................................................................................................................................................................................................................................................................................................................................................................................................................................................................................................................................................................................................................................................................................................................................................................................................................................................................................................................................................................................................................................................................................................................................................................................................................................................................................................................................................................................................................................................................................................................................................................................................................................................................................................................................................................................................................................................................................................................................................................................................................................................................................................................................................................................................................................................................................................................................................................................................................................................................................................................................................................................................................................................................................................................................................................................................................................................................................................................................................................................................................................................................................................................................................................................................................................................................................................................................................................................................................................................................................................................................................................................................................................................................................................................................................................................................................................................................................................................................................................................................................................................................................................................................................................................................................................................................................................................................................................................................................................................................................................................................................................................................................................................................................................................................................................................................................................................................................................................................................................................................................................................................................................................................................................................................................................................................................................................................................................................................................................................................................................................................................................................................................................................................................................................................................................................................................................................................................................................................................................................................................................................................................................................................................................................................................................................................................................................................................................................................................................................................................................................................................................................................................................................................................................................................................................................................................................................................................................................................................................................................................................................................................................................................................................................................................................................................................................................................................................................................................................................................................................................................................................................................................................................................................................................................................................................................................................................................................................................................................................................................................................................................................................................................................................................................................................................................................................................................................................................................................................................................................................................................................................................................................................................................................................................................................................................................................................................................................................................................................................................................................................................................................................................................................................................................................................................................................................................................................................................................................................................................................................................................................................................................................................................................................................................................................................................................................................................................................................................................................................................................................................................................................................................................................................................................................................................................................................................................................................................................................................................................................................................................................................................................................................................................................................................................................................................................................................................................................................................................................................................................................................................................................................................................................................................................................................................................................................................................................................................................................................................................................................................................................................................................................................................................................................................................................................................................................................................................................................................................................................................................................................................................\n",
      "\n",
      "------------------------------------------------------------------------------------------------------------------------\n",
      "- search google scholar new tab\n",
      "------------------------------------------------------------------------------------------------------------------------\n",
      "................................................................................................................................................................................................................................................................................................................................................................................................................................................................................................................................................................................................................................................................................................................................................................................................................................................................................................................................................................................................................................................................................................................................................................................................................................................................................................................................................................................................................................................................................................................................................................................................................................................................................................................................................................................................................................................................................................................................................................................................................................................................................................................................................................................................................................................................................................................................................................................................................................................................................................................................................................................................................................................................................................................................................................................................................................................................................................................................................................................................................................................................................................................................................................................................................................................................................................................................................................................................................................................................................................................................................................................................................................................................................................................................................................................................................................................................................................................................................................................................................................................................................................................................................................................................................................................................................................................................................................................................................................................................................................................................................................................................................................................................................................................................................................................................................................................................................................................................................................................................................................................................................................................................................................................................................................................................................................................................................................................................................................................................................................................................................................................................................................................................................................................................................................................................................................................................................................................................................................................................................................................................................................................................................................................................................................................................................................................................................................................................................................................................................................................................................................................................................................................................................................................................................................................................................................................................................................................................................................................................................................................................................................................................................................................................................................................................................................................................................................................................................................................................................................................................................................................................................................................................................................................................................................................................................................................................................................................................................................................................................................................................................................................................................................................................................................................................................................................................................................................................................................................................................................................................................................................................................................................................................................................................................................................................................................................................................................................................................................................................................................................................................................................................................................................................................................................................................................................................................................................................................................................................................................................................................................................................................................................................................................................................................................................................................................................................................................................................................................................................................................................................................................................................................................................................................................................................................................................................................................................................................................................................................................................................................................................................................................................................................................................................................................................................................................................................................................................................................................................................................................................................................................................................................................................................................................................................................................................................................................................................................................................................................................................................................................................................................................................................................................................................................................................................................................................................................................................................................................................................................................................................................................................................................................................................................................................................................................................................................................................................................................................................................................................................................................................................................................................................................................................................................................................................................................................................................................................................................................................................................................................................................................................................................................................................................................................................................................................................................................................................................................................................................................................................................................................................................................................................................................................................................................................................................................................................................................................................................................................................................................................................................................................................................................................................................................................................................................................................................................................................................................................................................................................................................................................................................................................................................................................................................................................................................................................................................................................................................................................................................................................................................................................................................................................................................................................................................................................................................................................................................................................................................................................................................................................................................................................................................................................................................................................................................................................................................................................................................................................................................................................................................................................................................................................................................................................................................................................................................................................................................................................................................................................................................................................................................................................................................................................................................................................................................................................................................................................................................................................................................................................................................................................................................................................................................................................................................................................................................................................................................................................................................................................................................................................................................................................................................................................................................................................................................................................................................................................................................................................................................................................................................................................................................................................................................................................................................................................................................................................................................................................................................................................................................................................................................................................................................................................................................................................................................................................................................................................................................................................................................................................................................................................................................................................................................................................................................................................................................................................................................................................................................................................................................................................................................................................................................................................................................................................................................................................................................................................................................................................................................................................................................................................................................................................................................................................................................................................................................................................................................................................................................................................................................................................................................................................................................................................................................................................................................................\n",
      "\n",
      "------------------------------------------------------------------------------------------------------------------------\n",
      "- search google scholar current tab\n",
      "------------------------------------------------------------------------------------------------------------------------\n",
      "................................................................................................................................................................................................................................................................................................................................................................................................................................................................................................................................................................................................................................................................................................................................................................................................................................................................................................................................................................................................................................................................................................................................................................................................................................................................................................................................................................................................................................................................................................................................................................................................................................................................................................................................................................................................................................................................................................................................................................................................................................................................................................................................................................................................................................................................................................................................................................................................................................................................................................................................................................................................................................................................................................................................................................................................................................................................................................................................................................................................................................................................................................................................................................................................................................................................................................................................................................................................................................................................................................................................................................................................................................................................................................................................................................................................................................................................................................................................................................................................................................................................................................................................................................................................................................................................................................................................................................................................................................................................................................................................................................................................................................................................................................................................................................................................................................................................................................................................................................................................................................................................................................................................................................................................................................................................................................................................................................................................................................................................................................................................................................................................................................................................................................................................................................................................................................................................................................................................................................................................................................................................................................................................................................................................................................................................................................................................................................................................................................................................................................................................................................................................................................................................................................................................................................................................................................................................................................................................................................................................................................................................................................................................................................................................................................................................................................................................................................................................................................................................................................................................................................................................................................................................................................................................................................................................................................................................................................................................................................................................................................................................................................................................................................................................................................................................................................................................................................................................................................................................................................................................................................................................................................................................................................................................................................................................................................................................................................................................................................................................................................................................................................................................................................................................................................................................................................................................................................................................................................................................................................................................................................................................................................................................................................................................................................................................................................................................................................................................................................................................................................................................................................................................................................................................................................................................................................................................................................................................................................................................................................................................................................................................................................................................................................................................................................................................................................................................................................................................................................................................................................................................................................................................................................................................................................................................................................................................................................................................................................................................................................................................................................................................................................................................................................................................................................................................................................................................................................................................................................................................................................................................................................................................................................................................................................................................................................................................................................................................................................................................................................................................................................................................................................................................................................................................................................................................................................................................................................................................................................................................................................................................................................................................................................................................................................................................................................................................................................................................................................................................................................................................................................................................................................................................................................................................................................................................................................................................................................................................................................................................................................................................................................................................................................................................................................................................................................................................................................................................................................................................................................................................................................................................................................................................................................................................................................................................................................................................................................................................................................................................................................................................................................................................................................................................................................................................................................................................................................................................................................................................................................................................................................................................................................................................................................................................................................................................................................................................................................................................................................................................................................................................................................................................................................................................................................................................................................................................................................................................................................................................................................................................................................................................................................................................................................................................................................................................................................................................................................................................................................................................................................................................................................................................................................................................................................................................................................................................................................................................................................................................................................................................................................................................................................................................................................................................................................................................................................................................................................................................................................................................................................................................................................................................................................................................................................................................................................................................................................................................................................................................................................................................................................................................................................................................................................................................................................................................................................................................................................................................................................................................................................................................................................................................................................................................................................................................................................................................................................................................................................................................................................................................................................................................................................................................................................................................................................................................................................................................................................................................................................................................................................................................................................................................................................................................................................................................................................................................................................................................................................................................................................................................................................................................................................................................................................................................................................................................................................\n"
     ]
    }
   ],
   "source": [
    "instructions = []\n",
    "inputs       = []\n",
    "outputs      = []\n",
    "prompts      = []\n",
    "# gpt_prompts  = []\n",
    "# gpt_inputs   = []\n",
    "gpt_messages = []\n",
    "\n",
    "for browser_command in browser_commands.keys():\n",
    "    \n",
    "    du.print_banner( browser_command, prepend_nl=True, end=\"\\n\" )\n",
    "    \n",
    "    raw_lines = du.get_file_as_list( prefix + browser_commands[ browser_command ], clean=True )\n",
    "    for line in raw_lines[ 0:100 ]: #[ 0:2 ]:#\n",
    "        \n",
    "        # get newly randomized search terms on every iteration\n",
    "        for terms in get_search_terms( len( raw_lines ) ):#[ 0:10 ]: #[ 0:2]:#:\n",
    "            \n",
    "            voice_command = line.replace( \"SEARCH_TERMS\", terms )\n",
    "            instruction   = instruction_template.format( command_choices=command_choices )\n",
    "            human_says    = human_says_template.format( voice_command=voice_command )\n",
    "            input         = input_template.format( human_says=human_says, response_format=response_format )\n",
    "            # gpt_input     = gpt_input_template.format( voice_command=voice_command )\n",
    "            output        = output_template.format( browser_command=browser_command, args=terms )\n",
    "            prompt        = prompt_instruction_format( instruction, input )\n",
    "    \n",
    "            instructions.append( instruction )\n",
    "            inputs.append( input )\n",
    "            outputs.append( output )\n",
    "            prompts.append( prompt )\n",
    "            # gpt_inputs.append( gpt_input )\n",
    "            # gpt_prompts.append( gpt_instruction )\n",
    "            gpt_messages.append( { \n",
    "                \"messages\": [\n",
    "                    { \"role\": \"system\", \"content\": gpt_instruction },\n",
    "                    { \"role\": \"user\", \"content\": voice_command },\n",
    "                    { \"role\": \"assistant\", \"content\": output_template.format( browser_command=browser_command, args=terms ) }\n",
    "                ] \n",
    "            } )\n",
    "    \n",
    "            print( \".\", end=\"\" )\n",
    "        \n",
    "    print()"
   ],
   "metadata": {
    "collapsed": false,
    "ExecuteTime": {
     "end_time": "2024-01-16T18:37:52.064488Z",
     "start_time": "2024-01-16T18:37:50.799082Z"
    }
   },
   "id": "df63613a4a89fd76"
  },
  {
   "cell_type": "code",
   "execution_count": 102,
   "outputs": [
    {
     "data": {
      "text/plain": "[{'role': 'system',\n  'content': \"INSTRUCTIONS:\\nYour job is to discern the intent of a human voice command transcription and translate it into a standardized command that a browser on your computer would understand.\\n\\nYou will be given a human voice command as INPUT as well as a list of possible standardized commands. You must choose the correct standardized command from the following list: `'search new tab', 'search current tab', 'search google new tab', 'search google current tab', 'search google scholar new tab', 'search google scholar current tab' and 'none'`.\\n\\nRESPONSE FORMAT: MUST be returned wrapped in simple, well-formed XML\\n<response>\\n    <browser-command></browser-command>\\n    <args></args>\\n</response>\\n\"},\n {'role': 'user', 'content': 'what is the stock market? new tab search'},\n {'role': 'assistant',\n  'content': '\\n<response>\\n    <browser-command>search new tab</browser-command>\\n    <args>what is the stock market?</args>\\n</response>'}]"
     },
     "execution_count": 102,
     "metadata": {},
     "output_type": "execute_result"
    }
   ],
   "source": [
    "gpt_messages[ 0 ]"
   ],
   "metadata": {
    "collapsed": false,
    "ExecuteTime": {
     "end_time": "2024-01-16T17:58:51.328404Z",
     "start_time": "2024-01-16T17:58:51.315879Z"
    }
   },
   "id": "4e8325c691d7b7b0"
  },
  {
   "cell_type": "code",
   "execution_count": 103,
   "outputs": [
    {
     "name": "stdout",
     "output_type": "stream",
     "text": [
      "### Instruction:\n",
      "Use the Task and Input given below to write a Response that can solve the following Task.\n",
      "\n",
      "### Task:\n",
      "Your job is to discern the intent of a human voice command transcription and translate it into a standardized command that a browser on your computer would understand.\n",
      "\n",
      "You will be given a human voice command and a list of possible standardized commands. You must choose the correct standardized command from the following list: `'search new tab', 'search current tab', 'search google new tab', 'search google current tab', 'search google scholar new tab', 'search google scholar current tab' and 'none'`.\n",
      "\n",
      "Requirement: You MUST NOT use python code to answer this question.\n",
      "Requirement: You MUST use your linguistic knowledge and intuition to answer this question.\n",
      "Hint: Anything that isn't a part of the command itself should be treated as arguments related to the command.\n",
      "\n",
      "### Input:\n",
      "Below is the raw human voice command transcription formatted using simple XML: \n",
      "\n",
      "<human>\n",
      "    <voice-command>what is the stock market? new tab search</voice-command>\n",
      "</human>\n",
      "\n",
      "The standardized command that you translate MUST be returned wrapped in simple, well-formed XML:\n",
      "\n",
      "<response>\n",
      "    <browser-command></browser-command>\n",
      "    <args></args>\n",
      "</response>\n",
      "\n",
      "Requirement: The first word of your response MUST be `<response>`\n",
      "### Response:\n"
     ]
    }
   ],
   "source": [
    "for line in prompts[ 0 ].split( \"\\n\" ):\n",
    "    print( line )"
   ],
   "metadata": {
    "collapsed": false,
    "ExecuteTime": {
     "end_time": "2024-01-16T17:59:05.631629Z",
     "start_time": "2024-01-16T17:59:05.622910Z"
    }
   },
   "id": "f816307c20687d3c"
  },
  {
   "cell_type": "code",
   "execution_count": 38,
   "outputs": [
    {
     "name": "stdout",
     "output_type": "stream",
     "text": [
      "Your job is to discern the intent of a human voice command transcription and translate it into a standardized command that a browser on your computer would understand.\n",
      "\n",
      "You will be given a human voice command and a list of possible standardized commands. You must choose the correct standardized command from the following list: `'search new tab', 'search current tab', 'search google new tab', 'search google current tab', 'search google scholar new tab', 'search google scholar current tab' and 'none'`.\n",
      "\n",
      "Requirement: You MUST NOT use python code to answer this question.\n",
      "Requirement: You MUST use your linguistic knowledge and intuition to answer this question.\n",
      "Hint: Anything that isn't a part of the command itself should be treated as arguments related to the command.\n",
      "\n",
      "Below is the raw human voice command transcription formatted using simple XML: \n",
      "\n",
      "<human>\n",
      "    <voice-command>best hiking trails near me new tab search</voice-command>\n",
      "</human>\n",
      "\n",
      "The standardized command that you translate MUST be returned wrapped in simple, well-formed XML:\n",
      "\n",
      "<response>\n",
      "    <browser-command></browser-command>\n",
      "    <args></args>\n",
      "</response>\n",
      "\n",
      "Requirement: The first word of your response MUST be `<response>`\n",
      "\n",
      "<response>\n",
      "    <browser-command>search new tab</browser-command>\n",
      "    <args>best hiking trails near me</args>\n",
      "</response>\n"
     ]
    }
   ],
   "source": [
    "idx = 0\n",
    "\n",
    "for line in instructions[ idx ].split( \"\\n\" ):\n",
    "    print( line )\n",
    "    \n",
    "for line in inputs[ idx ].split( \"\\n\" ):\n",
    "    print( line )\n",
    "    \n",
    "for line in outputs[ idx ].split( \"\\n\" ):\n",
    "    print( line )"
   ],
   "metadata": {
    "collapsed": false,
    "ExecuteTime": {
     "end_time": "2024-01-16T16:33:08.736632Z",
     "start_time": "2024-01-16T16:33:08.724512Z"
    }
   },
   "id": "ff379435dddb3a10"
  },
  {
   "cell_type": "code",
   "execution_count": 39,
   "outputs": [],
   "source": [
    "import random\n",
    "\n",
    "def inject_space( line ):\n",
    "    if random.random() < 0.5:\n",
    "        index = random.randint( 0, len( line ) - 1 )\n",
    "        return line[ :index ] + ' ' + line[ index: ]\n",
    "    else:\n",
    "        return line"
   ],
   "metadata": {
    "collapsed": false,
    "ExecuteTime": {
     "end_time": "2024-01-16T16:33:51.885598Z",
     "start_time": "2024-01-16T16:33:51.870086Z"
    }
   },
   "id": "10936b21cad13826"
  },
  {
   "cell_type": "code",
   "execution_count": 104,
   "outputs": [
    {
     "data": {
      "text/plain": "0    [{'role': 'system', 'content': 'INSTRUCTIONS:\n...\n1    [{'role': 'system', 'content': 'INSTRUCTIONS:\n...\n2    [{'role': 'system', 'content': 'INSTRUCTIONS:\n...\n3    [{'role': 'system', 'content': 'INSTRUCTIONS:\n...\n4    [{'role': 'system', 'content': 'INSTRUCTIONS:\n...\nName: gpt_messages, dtype: object"
     },
     "execution_count": 104,
     "metadata": {},
     "output_type": "execute_result"
    }
   ],
   "source": [
    "qna_df = pd.DataFrame( { \"instruction\": instructions, \"input\": inputs, \"output\": outputs, \"prompt\": prompts, \"gpt_message\": gpt_messages } )\n",
    "\n",
    "# Perturb the answer to create a faked response  \n",
    "qna_df[ \"response\" ] = qna_df[ \"output\" ].apply( lambda cell: inject_space( cell ) )\n",
    "qna_df.gpt_messages.head()"
   ],
   "metadata": {
    "collapsed": false,
    "ExecuteTime": {
     "end_time": "2024-01-16T17:59:15.166474Z",
     "start_time": "2024-01-16T17:59:15.018776Z"
    }
   },
   "id": "69cd9131a026aa59"
  },
  {
   "cell_type": "markdown",
   "source": [
    "## Validate the structure of the xml response"
   ],
   "metadata": {
    "collapsed": false
   },
   "id": "5c6c0eeb4ab6429c"
  },
  {
   "cell_type": "code",
   "execution_count": 49,
   "outputs": [
    {
     "name": "stdout",
     "output_type": "stream",
     "text": [
      "Requirement already satisfied: xmlschema in /usr/local/lib/python3.10/dist-packages (3.0.1)\r\n",
      "Requirement already satisfied: elementpath<5.0.0,>=4.1.5 in /usr/local/lib/python3.10/dist-packages (from xmlschema) (4.1.5)\r\n",
      "\u001B[33mWARNING: Running pip as the 'root' user can result in broken permissions and conflicting behaviour with the system package manager. It is recommended to use a virtual environment instead: https://pip.pypa.io/warnings/venv\u001B[0m\u001B[33m\r\n",
      "\u001B[0m"
     ]
    }
   ],
   "source": [
    "!pip install xmlschema"
   ],
   "metadata": {
    "collapsed": false,
    "ExecuteTime": {
     "end_time": "2024-01-16T17:18:22.451767Z",
     "start_time": "2024-01-16T17:18:20.571529Z"
    }
   },
   "id": "9cf0e4b55266f65b"
  },
  {
   "cell_type": "code",
   "execution_count": 50,
   "outputs": [
    {
     "name": "stdout",
     "output_type": "stream",
     "text": [
      "True\n",
      "True\n",
      "False\n",
      "False\n"
     ]
    }
   ],
   "source": [
    "from xmlschema import XMLSchema\n",
    "\n",
    "xml_str_1 = \"\"\"\n",
    "<response>\n",
    "  <browser-command></browser-command>\n",
    "  <args></args>\n",
    "</response>\n",
    "\"\"\"\n",
    "xml_str_2 = \"\"\"\n",
    "<response>\n",
    "  <browser_command></browser_command>\n",
    "  <args></args>\n",
    "</response>\n",
    "\"\"\"\n",
    "xml_str_3 = \"\"\"\n",
    "Sure here's your command!\n",
    "<response>\n",
    "  <browser-command></browser-command>\n",
    "  <args></args>\n",
    "</response>\n",
    "\"\"\"\n",
    "\n",
    "xml_str_4 = \"\"\"\n",
    "```xml\n",
    "<response>\n",
    "  <browser-command></browser-command>\n",
    "  <args></args>\n",
    "</response>\n",
    "\"\"\"\n",
    "\n",
    "xsd_string = \"\"\"\n",
    "<xs:schema xmlns:xs=\"http://www.w3.org/2001/XMLSchema\">\n",
    "  <xs:element name=\"response\">\n",
    "    <xs:complexType>\n",
    "      <xs:sequence>\n",
    "        <xs:element name=\"browser-command\" type=\"xs:string\"/>\n",
    "        <xs:element name=\"args\" type=\"xs:string\"/>\n",
    "      </xs:sequence>\n",
    "    </xs:complexType>\n",
    "  </xs:element>\n",
    "</xs:schema>\n",
    "\"\"\"\n",
    "\n",
    "def is_valid_xml( xml_str, schema ):\n",
    "    \n",
    "    try:\n",
    "        schema.is_valid( xml_str )\n",
    "        return True\n",
    "    except Exception as e:\n",
    "        # print( \"Invalid XML: \" + str( e ) )\n",
    "        return False\n",
    "\n",
    "schema   = XMLSchema( xsd_string )\n",
    "\n",
    "print( is_valid_xml( xml_str_1, schema ) )  # Output: ???\n",
    "print( is_valid_xml( xml_str_2, schema ) )  # Output: ???\n",
    "print( is_valid_xml( xml_str_3, schema ) )  # Output: False\n",
    "print( is_valid_xml( xml_str_4, schema ) )  # Output: False"
   ],
   "metadata": {
    "collapsed": false,
    "ExecuteTime": {
     "end_time": "2024-01-16T17:18:23.722823Z",
     "start_time": "2024-01-16T17:18:23.716700Z"
    }
   },
   "id": "ebae05bcfc626b0c"
  },
  {
   "cell_type": "code",
   "execution_count": 51,
   "outputs": [
    {
     "data": {
      "text/plain": "                                         instruction  \\\n0  Your job is to discern the intent of a human v...   \n1  Your job is to discern the intent of a human v...   \n2  Your job is to discern the intent of a human v...   \n3  Your job is to discern the intent of a human v...   \n4  Your job is to discern the intent of a human v...   \n\n                                               input  \\\n0  \\nBelow is the raw human voice command transcr...   \n1  \\nBelow is the raw human voice command transcr...   \n2  \\nBelow is the raw human voice command transcr...   \n3  \\nBelow is the raw human voice command transcr...   \n4  \\nBelow is the raw human voice command transcr...   \n\n                                              output  \\\n0  \\n<response>\\n    <browser-command>search new ...   \n1  \\n<response>\\n    <browser-command>search new ...   \n2  \\n<response>\\n    <browser-command>search new ...   \n3  \\n<response>\\n    <browser-command>search new ...   \n4  \\n<response>\\n    <browser-command>search new ...   \n\n                                              prompt  \\\n0  ### Instruction:\\nUse the Task and Input given...   \n1  ### Instruction:\\nUse the Task and Input given...   \n2  ### Instruction:\\nUse the Task and Input given...   \n3  ### Instruction:\\nUse the Task and Input given...   \n4  ### Instruction:\\nUse the Task and Input given...   \n\n                                        gpt_messages  \\\n0  [{'role': 'system', 'content': '\nINSTRUCTIONS:...   \n1  [{'role': 'system', 'content': '\nINSTRUCTIONS:...   \n2  [{'role': 'system', 'content': '\nINSTRUCTIONS:...   \n3  [{'role': 'system', 'content': '\nINSTRUCTIONS:...   \n4  [{'role': 'system', 'content': '\nINSTRUCTIONS:...   \n\n                                            response  response_xml_is_valid  \n0  \\n<response>\\n    <browser-command>search new ...                   True  \n1  \\n<response>\\n    <browser-command>search new ...                   True  \n2  \\n<response>\\n    <browser-command>search new ...                  False  \n3  \\n<response>\\n    <browser-command>search new ...                   True  \n4  \\n<response>\\n     <browser-command>search new...                   True  ",
      "text/html": "<div>\n<style scoped>\n    .dataframe tbody tr th:only-of-type {\n        vertical-align: middle;\n    }\n\n    .dataframe tbody tr th {\n        vertical-align: top;\n    }\n\n    .dataframe thead th {\n        text-align: right;\n    }\n</style>\n<table border=\"1\" class=\"dataframe\">\n  <thead>\n    <tr style=\"text-align: right;\">\n      <th></th>\n      <th>instruction</th>\n      <th>input</th>\n      <th>output</th>\n      <th>prompt</th>\n      <th>gpt_messages</th>\n      <th>response</th>\n      <th>response_xml_is_valid</th>\n    </tr>\n  </thead>\n  <tbody>\n    <tr>\n      <th>0</th>\n      <td>Your job is to discern the intent of a human v...</td>\n      <td>\\nBelow is the raw human voice command transcr...</td>\n      <td>\\n&lt;response&gt;\\n    &lt;browser-command&gt;search new ...</td>\n      <td>### Instruction:\\nUse the Task and Input given...</td>\n      <td>[{'role': 'system', 'content': '\nINSTRUCTIONS:...</td>\n      <td>\\n&lt;response&gt;\\n    &lt;browser-command&gt;search new ...</td>\n      <td>True</td>\n    </tr>\n    <tr>\n      <th>1</th>\n      <td>Your job is to discern the intent of a human v...</td>\n      <td>\\nBelow is the raw human voice command transcr...</td>\n      <td>\\n&lt;response&gt;\\n    &lt;browser-command&gt;search new ...</td>\n      <td>### Instruction:\\nUse the Task and Input given...</td>\n      <td>[{'role': 'system', 'content': '\nINSTRUCTIONS:...</td>\n      <td>\\n&lt;response&gt;\\n    &lt;browser-command&gt;search new ...</td>\n      <td>True</td>\n    </tr>\n    <tr>\n      <th>2</th>\n      <td>Your job is to discern the intent of a human v...</td>\n      <td>\\nBelow is the raw human voice command transcr...</td>\n      <td>\\n&lt;response&gt;\\n    &lt;browser-command&gt;search new ...</td>\n      <td>### Instruction:\\nUse the Task and Input given...</td>\n      <td>[{'role': 'system', 'content': '\nINSTRUCTIONS:...</td>\n      <td>\\n&lt;response&gt;\\n    &lt;browser-command&gt;search new ...</td>\n      <td>False</td>\n    </tr>\n    <tr>\n      <th>3</th>\n      <td>Your job is to discern the intent of a human v...</td>\n      <td>\\nBelow is the raw human voice command transcr...</td>\n      <td>\\n&lt;response&gt;\\n    &lt;browser-command&gt;search new ...</td>\n      <td>### Instruction:\\nUse the Task and Input given...</td>\n      <td>[{'role': 'system', 'content': '\nINSTRUCTIONS:...</td>\n      <td>\\n&lt;response&gt;\\n    &lt;browser-command&gt;search new ...</td>\n      <td>True</td>\n    </tr>\n    <tr>\n      <th>4</th>\n      <td>Your job is to discern the intent of a human v...</td>\n      <td>\\nBelow is the raw human voice command transcr...</td>\n      <td>\\n&lt;response&gt;\\n    &lt;browser-command&gt;search new ...</td>\n      <td>### Instruction:\\nUse the Task and Input given...</td>\n      <td>[{'role': 'system', 'content': '\nINSTRUCTIONS:...</td>\n      <td>\\n&lt;response&gt;\\n     &lt;browser-command&gt;search new...</td>\n      <td>True</td>\n    </tr>\n  </tbody>\n</table>\n</div>"
     },
     "execution_count": 51,
     "metadata": {},
     "output_type": "execute_result"
    }
   ],
   "source": [
    "qna_df[ \"response_xml_is_valid\" ] = qna_df[ \"response\" ].apply( lambda cell: is_valid_xml( cell, schema ) )\n",
    "qna_df.head()"
   ],
   "metadata": {
    "collapsed": false,
    "ExecuteTime": {
     "end_time": "2024-01-16T17:18:47.496521Z",
     "start_time": "2024-01-16T17:18:25.287001Z"
    }
   },
   "id": "476168c0862285f8"
  },
  {
   "cell_type": "code",
   "execution_count": 52,
   "outputs": [
    {
     "data": {
      "text/plain": "0.7940583333333333"
     },
     "execution_count": 52,
     "metadata": {},
     "output_type": "execute_result"
    }
   ],
   "source": [
    "qna_df.response_xml_is_valid.mean()"
   ],
   "metadata": {
    "collapsed": false,
    "ExecuteTime": {
     "end_time": "2024-01-16T17:18:53.756596Z",
     "start_time": "2024-01-16T17:18:53.738684Z"
    }
   },
   "id": "1de4a9107307a2fa"
  },
  {
   "cell_type": "code",
   "execution_count": 53,
   "outputs": [
    {
     "data": {
      "text/plain": "True"
     },
     "execution_count": 53,
     "metadata": {},
     "output_type": "execute_result"
    }
   ],
   "source": [
    "def contains_valid_xml_tag( xml_str, tag_name ):\n",
    "    \n",
    "    try:\n",
    "        return \"<\" + tag_name + \">\" in xml_str and \"</\" + tag_name + \">\" in xml_str\n",
    "    except Exception as e:\n",
    "        return False\n",
    "    \n",
    "contains_valid_xml_tag( \"```xml<response><browser-command></browser-command><args></args></response>\", \"browser-command\")"
   ],
   "metadata": {
    "collapsed": false,
    "ExecuteTime": {
     "end_time": "2024-01-16T17:18:56.156285Z",
     "start_time": "2024-01-16T17:18:56.135615Z"
    }
   },
   "id": "cd990344958fe1d"
  },
  {
   "cell_type": "markdown",
   "source": [
    "## Validate the structure of the xml response"
   ],
   "metadata": {
    "collapsed": false
   },
   "id": "2d7b5958266e9c1a"
  },
  {
   "cell_type": "code",
   "execution_count": 54,
   "outputs": [],
   "source": [
    "qna_df[ \"contains_response\" ]        = qna_df[ \"response\" ].apply( lambda cell: contains_valid_xml_tag( cell, \"response\" ) )\n",
    "qna_df[ \"contains_browser_command\" ] = qna_df[ \"response\" ].apply( lambda cell: contains_valid_xml_tag( cell, \"browser-command\" ) )\n",
    "qna_df[ \"contains_args\" ]            = qna_df[ \"response\" ].apply( lambda cell: contains_valid_xml_tag( cell, \"args\" ) )"
   ],
   "metadata": {
    "collapsed": false,
    "ExecuteTime": {
     "end_time": "2024-01-16T17:19:01.200010Z",
     "start_time": "2024-01-16T17:19:01.019929Z"
    }
   },
   "id": "a93536b26f1ab89"
  },
  {
   "cell_type": "code",
   "execution_count": 55,
   "outputs": [
    {
     "name": "stdout",
     "output_type": "stream",
     "text": [
      "0.9306083333333334\n",
      "0.8822166666666666\n",
      "0.9600916666666667\n"
     ]
    }
   ],
   "source": [
    "print( qna_df[ \"contains_response\" ].mean() )\n",
    "print( qna_df[ \"contains_browser_command\" ].mean() )\n",
    "print( qna_df[ \"contains_args\" ].mean() )"
   ],
   "metadata": {
    "collapsed": false,
    "ExecuteTime": {
     "end_time": "2024-01-16T17:19:02.639731Z",
     "start_time": "2024-01-16T17:19:02.610123Z"
    }
   },
   "id": "4dfecb7ae4d37c63"
  },
  {
   "cell_type": "markdown",
   "source": [
    "## Validate the response by removing all white space and comparing to the original answer"
   ],
   "metadata": {
    "collapsed": false
   },
   "id": "b1789a964c4b89ea"
  },
  {
   "cell_type": "code",
   "execution_count": 56,
   "outputs": [
    {
     "name": "stdout",
     "output_type": "stream",
     "text": [
      "<response><browser-command>Whos your favorite browser?</browser-command><args>Bar browser</args></response>\n"
     ]
    }
   ],
   "source": [
    "import re\n",
    "\n",
    "xml_str = \"\"\"\n",
    "<response>\n",
    "  <browser-command>Whos your favorite browser?</browser-command>\n",
    "  <args>Bar browser</args>\n",
    "</response>\n",
    "\"\"\"\n",
    "\n",
    "# Remove white space outside XML tags\n",
    "xml_str = re.sub(r'>\\s+<', '><', xml_str.strip())\n",
    "\n",
    "print(xml_str)"
   ],
   "metadata": {
    "collapsed": false,
    "ExecuteTime": {
     "end_time": "2024-01-16T17:19:07.167036Z",
     "start_time": "2024-01-16T17:19:07.123514Z"
    }
   },
   "id": "17461163fc843dde"
  },
  {
   "cell_type": "code",
   "execution_count": 57,
   "outputs": [
    {
     "data": {
      "text/plain": "True"
     },
     "execution_count": 57,
     "metadata": {},
     "output_type": "execute_result"
    }
   ],
   "source": [
    "def is_response_exact( response, answer ):\n",
    "    \n",
    "    # Remove white space outside XML tags\n",
    "    response = re.sub( r'>\\s+<', '><', response.strip() )\n",
    "    \n",
    "    # Remove white space outside XML tags\n",
    "    answer = re.sub( r'>\\s+<', '><', answer.strip() )\n",
    "    \n",
    "    return response == answer\n",
    "\n",
    "is_response_exact( \"<response><browser-command>Whos your favorite browser?</browser-command><args>Bar browser</args></response>\", \"<response><browser-command>Whos your favorite browser?</browser-command><args>Bar browser</args></response>\" )"
   ],
   "metadata": {
    "collapsed": false,
    "ExecuteTime": {
     "end_time": "2024-01-16T17:19:08.851437Z",
     "start_time": "2024-01-16T17:19:08.845905Z"
    }
   },
   "id": "dcf24366c637b66b"
  },
  {
   "cell_type": "code",
   "execution_count": 58,
   "outputs": [
    {
     "ename": "NameError",
     "evalue": "name 'dux' is not defined",
     "output_type": "error",
     "traceback": [
      "\u001B[0;31m---------------------------------------------------------------------------\u001B[0m",
      "\u001B[0;31mNameError\u001B[0m                                 Traceback (most recent call last)",
      "Cell \u001B[0;32mIn[58], line 11\u001B[0m\n\u001B[1;32m      8\u001B[0m response \u001B[38;5;241m=\u001B[39m \u001B[38;5;124m\"\u001B[39m\u001B[38;5;124m<response><browser-command>Whos your favorite browser?</browser-command><args>Bar browser</args></response>\u001B[39m\u001B[38;5;124m\"\u001B[39m\n\u001B[1;32m      9\u001B[0m answer   \u001B[38;5;241m=\u001B[39m \u001B[38;5;124m\"\u001B[39m\u001B[38;5;124m<response><browser-command>Whos your favorite browser?</browser-command><args>Bar browser</args></response>\u001B[39m\u001B[38;5;124m\"\u001B[39m\n\u001B[0;32m---> 11\u001B[0m \u001B[38;5;28mprint\u001B[39m( \u001B[43mtag_values_are_equal\u001B[49m\u001B[43m(\u001B[49m\u001B[43m \u001B[49m\u001B[43mresponse\u001B[49m\u001B[43m,\u001B[49m\u001B[43m \u001B[49m\u001B[43manswer\u001B[49m\u001B[43m,\u001B[49m\u001B[43m \u001B[49m\u001B[43mtag_name\u001B[49m\u001B[38;5;241;43m=\u001B[39;49m\u001B[38;5;124;43m\"\u001B[39;49m\u001B[38;5;124;43mbrowser-command\u001B[39;49m\u001B[38;5;124;43m\"\u001B[39;49m\u001B[43m \u001B[49m\u001B[43m)\u001B[49m )\n\u001B[1;32m     12\u001B[0m \u001B[38;5;28mprint\u001B[39m( tag_values_are_equal( response, answer, tag_name\u001B[38;5;241m=\u001B[39m\u001B[38;5;124m\"\u001B[39m\u001B[38;5;124margs\u001B[39m\u001B[38;5;124m\"\u001B[39m ) )\n",
      "Cell \u001B[0;32mIn[58], line 3\u001B[0m, in \u001B[0;36mtag_values_are_equal\u001B[0;34m(response, answer, tag_name)\u001B[0m\n\u001B[1;32m      1\u001B[0m \u001B[38;5;28;01mdef\u001B[39;00m \u001B[38;5;21mtag_values_are_equal\u001B[39m( response, answer, tag_name\u001B[38;5;241m=\u001B[39m\u001B[38;5;124m\"\u001B[39m\u001B[38;5;124mbrowser-command\u001B[39m\u001B[38;5;124m\"\u001B[39m ):\n\u001B[0;32m----> 3\u001B[0m     command_response \u001B[38;5;241m=\u001B[39m \u001B[43mdux\u001B[49m\u001B[38;5;241m.\u001B[39mget_value_by_xml_tag_name( response, tag_name, default_value\u001B[38;5;241m=\u001B[39m\u001B[38;5;124m\"\u001B[39m\u001B[38;5;124mbroken\u001B[39m\u001B[38;5;124m\"\u001B[39m )\n\u001B[1;32m      4\u001B[0m     command_answer   \u001B[38;5;241m=\u001B[39m dux\u001B[38;5;241m.\u001B[39mget_value_by_xml_tag_name(   answer, tag_name, default_value\u001B[38;5;241m=\u001B[39m\u001B[38;5;124m\"\u001B[39m\u001B[38;5;124mbroken\u001B[39m\u001B[38;5;124m\"\u001B[39m )\n\u001B[1;32m      6\u001B[0m     \u001B[38;5;28;01mreturn\u001B[39;00m command_response \u001B[38;5;241m!=\u001B[39m \u001B[38;5;124m\"\u001B[39m\u001B[38;5;124mbroken\u001B[39m\u001B[38;5;124m\"\u001B[39m \u001B[38;5;129;01mand\u001B[39;00m command_answer \u001B[38;5;241m!=\u001B[39m \u001B[38;5;124m\"\u001B[39m\u001B[38;5;124mbroken\u001B[39m\u001B[38;5;124m\"\u001B[39m \u001B[38;5;129;01mand\u001B[39;00m command_response \u001B[38;5;241m==\u001B[39m command_answer\n",
      "\u001B[0;31mNameError\u001B[0m: name 'dux' is not defined"
     ]
    }
   ],
   "source": [
    "def tag_values_are_equal( response, answer, tag_name=\"browser-command\" ):\n",
    "    \n",
    "    command_response = dux.get_value_by_xml_tag_name( response, tag_name, default_value=\"broken\" )\n",
    "    command_answer   = dux.get_value_by_xml_tag_name(   answer, tag_name, default_value=\"broken\" )\n",
    "    \n",
    "    return command_response != \"broken\" and command_answer != \"broken\" and command_response == command_answer\n",
    "\n",
    "response = \"<response><browser-command>Whos your favorite browser?</browser-command><args>Bar browser</args></response>\"\n",
    "answer   = \"<response><browser-command>Whos your favorite browser?</browser-command><args>Bar browser</args></response>\"\n",
    "\n",
    "print( tag_values_are_equal( response, answer, tag_name=\"browser-command\" ) )\n",
    "print( tag_values_are_equal( response, answer, tag_name=\"args\" ) )"
   ],
   "metadata": {
    "collapsed": false,
    "ExecuteTime": {
     "end_time": "2024-01-16T17:19:10.278652Z",
     "start_time": "2024-01-16T17:19:10.239047Z"
    }
   },
   "id": "5d7316ca3f07b221"
  },
  {
   "cell_type": "code",
   "execution_count": 59,
   "outputs": [
    {
     "data": {
      "text/plain": "True"
     },
     "execution_count": 59,
     "metadata": {},
     "output_type": "execute_result"
    }
   ],
   "source": [
    "import lib.utils.util_xml as dux\n",
    "\n",
    "def contains_correct_response_values( response, answer ):\n",
    "    \n",
    "    \"\"\"Check to see if the most common formatting error (```xml) is hiding a correct response\"\"\"\n",
    "    response = \"<response>\" + dux.get_value_by_xml_tag_name( response, \"response\", default_value=\"broken\" ) + \"</response>\"\n",
    "    response = dux.get_xml_tag_and_value_by_name( response, \"response\", default_value=\"broken\" )\n",
    "    if response == \"broken\":\n",
    "        return False\n",
    "    \n",
    "    # Remove white space outside XML tags\n",
    "    response = re.sub( r'>\\s+<', '><', response.strip() )\n",
    "    \n",
    "    # Remove white space outside XML tags\n",
    "    answer = re.sub( r'>\\s+<', '><', answer.strip() )\n",
    "    \n",
    "    return response == answer\n",
    "\n",
    "contains_correct_response_values( \"```xml<response><browser-command>Whos your favorite browser?</browser-command><args>Bar browser</args></response>\", \"<response><browser-command>Whos your favorite browser?</browser-command><args>Bar browser</args></response>\" )"
   ],
   "metadata": {
    "collapsed": false,
    "ExecuteTime": {
     "end_time": "2024-01-16T17:19:12.220650Z",
     "start_time": "2024-01-16T17:19:12.208324Z"
    }
   },
   "id": "5648ef7387c840f7"
  },
  {
   "cell_type": "code",
   "execution_count": 60,
   "outputs": [],
   "source": [
    "qna_df[ \"response_is_correct\" ] = qna_df.apply( lambda row: is_response_exact( row[ \"response\" ], row[ \"output\" ] ), axis=1 )"
   ],
   "metadata": {
    "collapsed": false,
    "ExecuteTime": {
     "end_time": "2024-01-16T17:19:15.651795Z",
     "start_time": "2024-01-16T17:19:14.536369Z"
    }
   },
   "id": "d1f5537569851fb6"
  },
  {
   "cell_type": "code",
   "execution_count": 61,
   "outputs": [
    {
     "data": {
      "text/plain": "0.5582"
     },
     "execution_count": 61,
     "metadata": {},
     "output_type": "execute_result"
    }
   ],
   "source": [
    "qna_df.response_is_correct.mean()"
   ],
   "metadata": {
    "collapsed": false,
    "ExecuteTime": {
     "end_time": "2024-01-16T17:19:16.867638Z",
     "start_time": "2024-01-16T17:19:16.851340Z"
    }
   },
   "id": "6776bf949b6f1538"
  },
  {
   "cell_type": "code",
   "execution_count": 62,
   "outputs": [
    {
     "data": {
      "text/plain": "                                          instruction  \\\n10  Your job is to discern the intent of a human v...   \n17  Your job is to discern the intent of a human v...   \n22  Your job is to discern the intent of a human v...   \n26  Your job is to discern the intent of a human v...   \n28  Your job is to discern the intent of a human v...   \n31  Your job is to discern the intent of a human v...   \n32  Your job is to discern the intent of a human v...   \n34  Your job is to discern the intent of a human v...   \n36  Your job is to discern the intent of a human v...   \n44  Your job is to discern the intent of a human v...   \n\n                                                input  \\\n10  \\nBelow is the raw human voice command transcr...   \n17  \\nBelow is the raw human voice command transcr...   \n22  \\nBelow is the raw human voice command transcr...   \n26  \\nBelow is the raw human voice command transcr...   \n28  \\nBelow is the raw human voice command transcr...   \n31  \\nBelow is the raw human voice command transcr...   \n32  \\nBelow is the raw human voice command transcr...   \n34  \\nBelow is the raw human voice command transcr...   \n36  \\nBelow is the raw human voice command transcr...   \n44  \\nBelow is the raw human voice command transcr...   \n\n                                               output  \\\n10  \\n<response>\\n    <browser-command>search new ...   \n17  \\n<response>\\n    <browser-command>search new ...   \n22  \\n<response>\\n    <browser-command>search new ...   \n26  \\n<response>\\n    <browser-command>search new ...   \n28  \\n<response>\\n    <browser-command>search new ...   \n31  \\n<response>\\n    <browser-command>search new ...   \n32  \\n<response>\\n    <browser-command>search new ...   \n34  \\n<response>\\n    <browser-command>search new ...   \n36  \\n<response>\\n    <browser-command>search new ...   \n44  \\n<response>\\n    <browser-command>search new ...   \n\n                                               prompt  \\\n10  ### Instruction:\\nUse the Task and Input given...   \n17  ### Instruction:\\nUse the Task and Input given...   \n22  ### Instruction:\\nUse the Task and Input given...   \n26  ### Instruction:\\nUse the Task and Input given...   \n28  ### Instruction:\\nUse the Task and Input given...   \n31  ### Instruction:\\nUse the Task and Input given...   \n32  ### Instruction:\\nUse the Task and Input given...   \n34  ### Instruction:\\nUse the Task and Input given...   \n36  ### Instruction:\\nUse the Task and Input given...   \n44  ### Instruction:\\nUse the Task and Input given...   \n\n                                         gpt_messages  \\\n10  [{'role': 'system', 'content': '\nINSTRUCTIONS:...   \n17  [{'role': 'system', 'content': '\nINSTRUCTIONS:...   \n22  [{'role': 'system', 'content': '\nINSTRUCTIONS:...   \n26  [{'role': 'system', 'content': '\nINSTRUCTIONS:...   \n28  [{'role': 'system', 'content': '\nINSTRUCTIONS:...   \n31  [{'role': 'system', 'content': '\nINSTRUCTIONS:...   \n32  [{'role': 'system', 'content': '\nINSTRUCTIONS:...   \n34  [{'role': 'system', 'content': '\nINSTRUCTIONS:...   \n36  [{'role': 'system', 'content': '\nINSTRUCTIONS:...   \n44  [{'role': 'system', 'content': '\nINSTRUCTIONS:...   \n\n                                             response  response_xml_is_valid  \\\n10  \\n<response>\\n    <browser-command>search new ...                   True   \n17  \\n<response>\\n    <browser-command>search new ...                   True   \n22  \\n<response>\\n    <browser-command>search new ...                   True   \n26  \\n<response>\\n    <browser-command>search new ...                   True   \n28  \\n<response>\\n    <browser-command>search new ...                   True   \n31  \\n<response>\\n    <browser-command>search new ...                   True   \n32  \\n<response>\\n    <browser-command>search new ...                   True   \n34  \\n<response>\\n    <browser-command>search  new...                   True   \n36  \\n<response >\\n    <browser-command>search new...                   True   \n44  \\n<response>\\n    <browser-command>search new ...                   True   \n\n    contains_response  contains_browser_command  contains_args  \\\n10               True                      True           True   \n17               True                      True           True   \n22               True                      True           True   \n26               True                      True           True   \n28               True                      True           True   \n31               True                      True           True   \n32               True                      True           True   \n34               True                      True           True   \n36              False                      True           True   \n44               True                      True           True   \n\n    response_is_correct  \n10                False  \n17                False  \n22                False  \n26                False  \n28                False  \n31                False  \n32                False  \n34                False  \n36                False  \n44                False  ",
      "text/html": "<div>\n<style scoped>\n    .dataframe tbody tr th:only-of-type {\n        vertical-align: middle;\n    }\n\n    .dataframe tbody tr th {\n        vertical-align: top;\n    }\n\n    .dataframe thead th {\n        text-align: right;\n    }\n</style>\n<table border=\"1\" class=\"dataframe\">\n  <thead>\n    <tr style=\"text-align: right;\">\n      <th></th>\n      <th>instruction</th>\n      <th>input</th>\n      <th>output</th>\n      <th>prompt</th>\n      <th>gpt_messages</th>\n      <th>response</th>\n      <th>response_xml_is_valid</th>\n      <th>contains_response</th>\n      <th>contains_browser_command</th>\n      <th>contains_args</th>\n      <th>response_is_correct</th>\n    </tr>\n  </thead>\n  <tbody>\n    <tr>\n      <th>10</th>\n      <td>Your job is to discern the intent of a human v...</td>\n      <td>\\nBelow is the raw human voice command transcr...</td>\n      <td>\\n&lt;response&gt;\\n    &lt;browser-command&gt;search new ...</td>\n      <td>### Instruction:\\nUse the Task and Input given...</td>\n      <td>[{'role': 'system', 'content': '\nINSTRUCTIONS:...</td>\n      <td>\\n&lt;response&gt;\\n    &lt;browser-command&gt;search new ...</td>\n      <td>True</td>\n      <td>True</td>\n      <td>True</td>\n      <td>True</td>\n      <td>False</td>\n    </tr>\n    <tr>\n      <th>17</th>\n      <td>Your job is to discern the intent of a human v...</td>\n      <td>\\nBelow is the raw human voice command transcr...</td>\n      <td>\\n&lt;response&gt;\\n    &lt;browser-command&gt;search new ...</td>\n      <td>### Instruction:\\nUse the Task and Input given...</td>\n      <td>[{'role': 'system', 'content': '\nINSTRUCTIONS:...</td>\n      <td>\\n&lt;response&gt;\\n    &lt;browser-command&gt;search new ...</td>\n      <td>True</td>\n      <td>True</td>\n      <td>True</td>\n      <td>True</td>\n      <td>False</td>\n    </tr>\n    <tr>\n      <th>22</th>\n      <td>Your job is to discern the intent of a human v...</td>\n      <td>\\nBelow is the raw human voice command transcr...</td>\n      <td>\\n&lt;response&gt;\\n    &lt;browser-command&gt;search new ...</td>\n      <td>### Instruction:\\nUse the Task and Input given...</td>\n      <td>[{'role': 'system', 'content': '\nINSTRUCTIONS:...</td>\n      <td>\\n&lt;response&gt;\\n    &lt;browser-command&gt;search new ...</td>\n      <td>True</td>\n      <td>True</td>\n      <td>True</td>\n      <td>True</td>\n      <td>False</td>\n    </tr>\n    <tr>\n      <th>26</th>\n      <td>Your job is to discern the intent of a human v...</td>\n      <td>\\nBelow is the raw human voice command transcr...</td>\n      <td>\\n&lt;response&gt;\\n    &lt;browser-command&gt;search new ...</td>\n      <td>### Instruction:\\nUse the Task and Input given...</td>\n      <td>[{'role': 'system', 'content': '\nINSTRUCTIONS:...</td>\n      <td>\\n&lt;response&gt;\\n    &lt;browser-command&gt;search new ...</td>\n      <td>True</td>\n      <td>True</td>\n      <td>True</td>\n      <td>True</td>\n      <td>False</td>\n    </tr>\n    <tr>\n      <th>28</th>\n      <td>Your job is to discern the intent of a human v...</td>\n      <td>\\nBelow is the raw human voice command transcr...</td>\n      <td>\\n&lt;response&gt;\\n    &lt;browser-command&gt;search new ...</td>\n      <td>### Instruction:\\nUse the Task and Input given...</td>\n      <td>[{'role': 'system', 'content': '\nINSTRUCTIONS:...</td>\n      <td>\\n&lt;response&gt;\\n    &lt;browser-command&gt;search new ...</td>\n      <td>True</td>\n      <td>True</td>\n      <td>True</td>\n      <td>True</td>\n      <td>False</td>\n    </tr>\n    <tr>\n      <th>31</th>\n      <td>Your job is to discern the intent of a human v...</td>\n      <td>\\nBelow is the raw human voice command transcr...</td>\n      <td>\\n&lt;response&gt;\\n    &lt;browser-command&gt;search new ...</td>\n      <td>### Instruction:\\nUse the Task and Input given...</td>\n      <td>[{'role': 'system', 'content': '\nINSTRUCTIONS:...</td>\n      <td>\\n&lt;response&gt;\\n    &lt;browser-command&gt;search new ...</td>\n      <td>True</td>\n      <td>True</td>\n      <td>True</td>\n      <td>True</td>\n      <td>False</td>\n    </tr>\n    <tr>\n      <th>32</th>\n      <td>Your job is to discern the intent of a human v...</td>\n      <td>\\nBelow is the raw human voice command transcr...</td>\n      <td>\\n&lt;response&gt;\\n    &lt;browser-command&gt;search new ...</td>\n      <td>### Instruction:\\nUse the Task and Input given...</td>\n      <td>[{'role': 'system', 'content': '\nINSTRUCTIONS:...</td>\n      <td>\\n&lt;response&gt;\\n    &lt;browser-command&gt;search new ...</td>\n      <td>True</td>\n      <td>True</td>\n      <td>True</td>\n      <td>True</td>\n      <td>False</td>\n    </tr>\n    <tr>\n      <th>34</th>\n      <td>Your job is to discern the intent of a human v...</td>\n      <td>\\nBelow is the raw human voice command transcr...</td>\n      <td>\\n&lt;response&gt;\\n    &lt;browser-command&gt;search new ...</td>\n      <td>### Instruction:\\nUse the Task and Input given...</td>\n      <td>[{'role': 'system', 'content': '\nINSTRUCTIONS:...</td>\n      <td>\\n&lt;response&gt;\\n    &lt;browser-command&gt;search  new...</td>\n      <td>True</td>\n      <td>True</td>\n      <td>True</td>\n      <td>True</td>\n      <td>False</td>\n    </tr>\n    <tr>\n      <th>36</th>\n      <td>Your job is to discern the intent of a human v...</td>\n      <td>\\nBelow is the raw human voice command transcr...</td>\n      <td>\\n&lt;response&gt;\\n    &lt;browser-command&gt;search new ...</td>\n      <td>### Instruction:\\nUse the Task and Input given...</td>\n      <td>[{'role': 'system', 'content': '\nINSTRUCTIONS:...</td>\n      <td>\\n&lt;response &gt;\\n    &lt;browser-command&gt;search new...</td>\n      <td>True</td>\n      <td>False</td>\n      <td>True</td>\n      <td>True</td>\n      <td>False</td>\n    </tr>\n    <tr>\n      <th>44</th>\n      <td>Your job is to discern the intent of a human v...</td>\n      <td>\\nBelow is the raw human voice command transcr...</td>\n      <td>\\n&lt;response&gt;\\n    &lt;browser-command&gt;search new ...</td>\n      <td>### Instruction:\\nUse the Task and Input given...</td>\n      <td>[{'role': 'system', 'content': '\nINSTRUCTIONS:...</td>\n      <td>\\n&lt;response&gt;\\n    &lt;browser-command&gt;search new ...</td>\n      <td>True</td>\n      <td>True</td>\n      <td>True</td>\n      <td>True</td>\n      <td>False</td>\n    </tr>\n  </tbody>\n</table>\n</div>"
     },
     "execution_count": 62,
     "metadata": {},
     "output_type": "execute_result"
    }
   ],
   "source": [
    "qna_df[ ( qna_df.response_xml_is_valid == True ) & ( qna_df.response_is_correct == False ) ].head( 10 )"
   ],
   "metadata": {
    "collapsed": false,
    "ExecuteTime": {
     "end_time": "2024-01-16T17:19:19.848536Z",
     "start_time": "2024-01-16T17:19:19.798993Z"
    }
   },
   "id": "26f8b8cef970a601"
  },
  {
   "cell_type": "markdown",
   "source": [
    "# What's the baseline behavior of the Vanilla model?"
   ],
   "metadata": {
    "collapsed": false
   },
   "id": "9471509827a815a8"
  },
  {
   "cell_type": "code",
   "execution_count": 12,
   "outputs": [],
   "source": [
    "# !pip install openai\n",
    "# !pip install tiktoken"
   ],
   "metadata": {
    "collapsed": false,
    "ExecuteTime": {
     "end_time": "2024-01-17T15:49:56.709073Z",
     "start_time": "2024-01-17T15:49:56.656996Z"
    }
   },
   "id": "81af6460ca025f6c"
  },
  {
   "cell_type": "code",
   "execution_count": 83,
   "outputs": [],
   "source": [
    "%autoreload\n",
    "from huggingface_hub import InferenceClient\n",
    "from lib.utils.util_stopwatch import Stopwatch\n",
    "from lib.agents.agent import Agent\n",
    "\n",
    "def query_llm_phind( prompt, model=Agent.PHIND_34B_v2, max_new_tokens=1024, temperature=0.25, top_k=10, top_p=0.9, debug=False, verbose=False, silent=True ):\n",
    "    \n",
    "    timer = Stopwatch( msg=f\"Asking LLM [{model}]...\".format( model ), silent=silent )\n",
    "    \n",
    "    # Get the TGI server URL for this context\n",
    "    # default_url    = self.config_mgr.get( \"tgi_server_url_phind\", default=None )\n",
    "    # tgi_server_url = du.get_tgi_server_url_for_this_context( default_url=default_url )\n",
    "    \n",
    "    client         = InferenceClient( \"http://172.17.0.5:3000\" )\n",
    "    token_list     = [ ]\n",
    "    ellipsis_count = 0\n",
    "    \n",
    "    if debug:\n",
    "        for line in prompt.split( \"\\n\" ):\n",
    "            print( line )\n",
    "    \n",
    "    for token in client.text_generation(\n",
    "        prompt, max_new_tokens=max_new_tokens, stream=True, temperature=temperature, top_k=top_k, top_p=top_p, stop_sequences=[ \"</response>\" ]\n",
    "    ):\n",
    "        if debug:\n",
    "            print( token, end=\"\" )\n",
    "        else:\n",
    "            if not silent: print( \".\", end=\"\" )\n",
    "            ellipsis_count += 1\n",
    "            if ellipsis_count == 120:\n",
    "                ellipsis_count = 0\n",
    "                print()\n",
    "            \n",
    "        token_list.append( token )\n",
    "        \n",
    "    response = \"\".join( token_list ).strip()\n",
    "    \n",
    "    timer.print( msg=\"Done!\", use_millis=True, prepend_nl=True, end=\"\\n\" )\n",
    "    tokens_per_second = len( token_list ) / ( timer.get_delta_ms() / 1000.0 )\n",
    "    print( f\"Tokens per second [{round( tokens_per_second, 1 )}]\" )\n",
    "            \n",
    "    if debug:\n",
    "        print( f\"Token list length [{len( token_list )}]\" )\n",
    "        if verbose:\n",
    "            for line in response.split( \"\\n\" ):\n",
    "                print( line )\n",
    "    \n",
    "    \n",
    "    return response"
   ],
   "metadata": {
    "collapsed": false,
    "ExecuteTime": {
     "end_time": "2023-12-19T18:27:25.005491Z",
     "start_time": "2023-12-19T18:27:24.975954Z"
    }
   },
   "id": "c34ef51ad77d4f42"
  },
  {
   "cell_type": "code",
   "execution_count": 137,
   "outputs": [],
   "source": [
    "import openai\n",
    "from lib.utils.util_stopwatch import Stopwatch\n",
    "\n",
    "def query_llm_openai( messages, model=\"gpt-3.5-turbo-1106\", debug=False, verbose=False ):\n",
    "    \n",
    "    openai.api_key = du.get_api_key( \"openai\", project_root=\"/var/model/genie-in-the-box\" )\n",
    "    \n",
    "    timer = Stopwatch( msg=f\"Asking LLM [{model}]...\".format( model ) )\n",
    "    \n",
    "    response = openai.chat.completions.create(\n",
    "        model=model,\n",
    "        messages=messages,\n",
    "        temperature=0,\n",
    "        max_tokens=256,\n",
    "        top_p=1.0,\n",
    "        frequency_penalty=0.0,\n",
    "        presence_penalty=0.0\n",
    "    )\n",
    "    \n",
    "    timer.print( \"Done!\", use_millis=True )\n",
    "    if debug and verbose:\n",
    "        # print( json.dumps( response.to_dict(), indent=4 ) )\n",
    "        print( response )\n",
    "    \n",
    "    return response.choices[ 0 ].message.content.strip()"
   ],
   "metadata": {
    "collapsed": false,
    "ExecuteTime": {
     "end_time": "2024-01-17T01:31:22.756566Z",
     "start_time": "2024-01-17T01:31:22.745276Z"
    }
   },
   "id": "e405fb4639f53174"
  },
  {
   "cell_type": "code",
   "execution_count": 53,
   "outputs": [
    {
     "name": "stdout",
     "output_type": "stream",
     "text": [
      "Name: openai\r\n",
      "Version: 1.5.0\r\n",
      "Summary: The official Python library for the openai API\r\n",
      "Home-page: \r\n",
      "Author: \r\n",
      "Author-email: OpenAI <support@openai.com>\r\n",
      "License: \r\n",
      "Location: /usr/local/lib/python3.10/dist-packages\r\n",
      "Requires: anyio, distro, httpx, pydantic, sniffio, tqdm, typing-extensions\r\n",
      "Required-by: \r\n"
     ]
    }
   ],
   "source": [
    "!pip show openai"
   ],
   "metadata": {
    "collapsed": false,
    "ExecuteTime": {
     "end_time": "2023-12-19T18:21:27.518248Z",
     "start_time": "2023-12-19T18:21:25.804363Z"
    }
   },
   "id": "51a242bf736ad53b"
  },
  {
   "cell_type": "code",
   "execution_count": 69,
   "outputs": [],
   "source": [
    "call_counter = 0\n",
    "# rows         = df.shape[ 0 ]\n",
    "\n",
    "def get_response_to_question( prompt, rows ):\n",
    "    \n",
    "    global call_counter\n",
    "    \n",
    "    call_counter += 1\n",
    "    print( f\"On call [{call_counter:03d}] out of [{rows}] = [{round( call_counter / rows * 100.0, 1 )}%]... \", end=\"\" )\n",
    "    \n",
    "    return query_llm_phind( prompt )"
   ],
   "metadata": {
    "collapsed": false,
    "ExecuteTime": {
     "end_time": "2024-01-16T17:28:09.012038Z",
     "start_time": "2024-01-16T17:28:08.956798Z"
    }
   },
   "id": "c2b55c7f68001d05"
  },
  {
   "cell_type": "code",
   "execution_count": 143,
   "outputs": [],
   "source": [
    "call_counter = 0\n",
    "\n",
    "def get_gpt_response_to_question( cell, rows, model=\"gpt-3.5-turbo-1106\" ):\n",
    "    \n",
    "    global call_counter    \n",
    "    call_counter += 1\n",
    "    \n",
    "    print( f\"On call [{call_counter:03d}] out of [{rows}] = [{round( call_counter / rows * 100.0, 1 )}%]... \", end=\"\" )\n",
    "    \n",
    "    return query_llm_openai( cell[ \"messages\" ], model=model )"
   ],
   "metadata": {
    "collapsed": false,
    "ExecuteTime": {
     "end_time": "2024-01-17T01:33:09.420395Z",
     "start_time": "2024-01-17T01:33:09.349179Z"
    }
   },
   "id": "d398e1e54dcd06e6"
  },
  {
   "cell_type": "code",
   "execution_count": 71,
   "outputs": [
    {
     "data": {
      "text/plain": "(120000, 11)"
     },
     "execution_count": 71,
     "metadata": {},
     "output_type": "execute_result"
    }
   ],
   "source": [
    "qna_df.shape"
   ],
   "metadata": {
    "collapsed": false,
    "ExecuteTime": {
     "end_time": "2024-01-16T17:28:56.527250Z",
     "start_time": "2024-01-16T17:28:56.515672Z"
    }
   },
   "id": "d6a4435850065f6c"
  },
  {
   "cell_type": "code",
   "execution_count": 144,
   "outputs": [],
   "source": [
    "def validate_responses( df ):\n",
    "    \n",
    "    rows = df.shape[ 0 ]\n",
    "    global call_counter\n",
    "    call_counter = 0\n",
    "    \n",
    "    # df[ \"response\" ]                    = df[ \"prompt\" ].apply( lambda cell: get_response_to_question( cell, rows ) )\n",
    "    df[ \"response\" ]                    = df[ \"gpt_message\" ].apply( lambda cell: get_gpt_response_to_question( cell, rows ) )\n",
    "    \n",
    "    # Validate the structure and content of the xml response\n",
    "    df[ \"response_xml_is_valid\" ]       = df[ \"response\" ].apply( lambda cell: is_valid_xml( cell, schema ) )\n",
    "    df[ \"contains_response\" ]           = df[ \"response\" ].apply( lambda cell: contains_valid_xml_tag( cell, \"response\" ) )\n",
    "    df[ \"contains_browser_command\" ]    = df[ \"response\" ].apply( lambda cell: contains_valid_xml_tag( cell, \"browser-command\" ) )\n",
    "    df[ \"contains_args\" ]               = df[ \"response\" ].apply( lambda cell: contains_valid_xml_tag( cell, \"args\" ) )\n",
    "    df[ \"response_is_exact\" ]           = df.apply( lambda row: is_response_exact( row[ \"response\" ], row[ \"output\" ] ), axis=1 )\n",
    "    df[ \"response_has_correct_values\" ] = df.apply( lambda row: contains_correct_response_values( row[ \"response\" ], row[ \"output\" ] ), axis=1 )\n",
    "    \n",
    "    return df\n"
   ],
   "metadata": {
    "collapsed": false,
    "ExecuteTime": {
     "end_time": "2024-01-17T01:33:12.896900Z",
     "start_time": "2024-01-17T01:33:12.883146Z"
    }
   },
   "id": "2aa023022ebbaa6a"
  },
  {
   "cell_type": "code",
   "execution_count": 96,
   "outputs": [],
   "source": [
    "def print_stats( df ):\n",
    "\n",
    "    du.print_banner( \"Stats\" )\n",
    "    print( f\"               Is valid xml {df.response_xml_is_valid.mean() * 100:.1f}%\" )\n",
    "    print( f\"          Contains response {df.contains_response.mean() * 100:.1f}%\" )\n",
    "    print( f\"   Contains browser command {df.contains_browser_command.mean() * 100:.1f}%\" )\n",
    "    print( f\"              Contains args {df.contains_args.mean() * 100:.1f}%\" )\n",
    "    print( f\"          Response is exact {df.response_is_exact.mean() * 100:.1f}%\" )\n",
    "    print( f\"Response has correct values {df.response_has_correct_values.mean() * 100:.1f}%\" )\n",
    "    "
   ],
   "metadata": {
    "collapsed": false,
    "ExecuteTime": {
     "end_time": "2024-01-16T17:53:23.931169Z",
     "start_time": "2024-01-16T17:53:23.920391Z"
    }
   },
   "id": "dc726f722b6f687d"
  },
  {
   "cell_type": "code",
   "execution_count": 142,
   "outputs": [
    {
     "data": {
      "text/plain": "[{'role': 'system',\n  'content': \"INSTRUCTIONS:\\nYour job is to discern the intent of a human voice command transcription and translate it into a standardized command that a browser on your computer would understand.\\n\\nYou will be given a human voice command as INPUT as well as a list of possible standardized commands. You must choose the correct standardized command from the following list: `'search new tab', 'search current tab', 'search google new tab', 'search google current tab', 'search google scholar new tab', 'search google scholar current tab' and 'none'`.\\n\\nRESPONSE FORMAT: MUST be returned wrapped in simple, well-formed XML\\n<response>\\n    <browser-command></browser-command>\\n    <args></args>\\n</response>\\n\"},\n {'role': 'user',\n  'content': 'Big Data analysis techniques: What techniques are essential for effective big data analysis? new tab search'},\n {'role': 'assistant',\n  'content': '\\n<response>\\n    <browser-command>search new tab</browser-command>\\n    <args>Big Data analysis techniques: What techniques are essential for effective big data analysis?</args>\\n</response>'}]"
     },
     "execution_count": 142,
     "metadata": {},
     "output_type": "execute_result"
    }
   ],
   "source": [
    "gpt_messages[ 0 ][ \"messages\" ]"
   ],
   "metadata": {
    "collapsed": false,
    "ExecuteTime": {
     "end_time": "2024-01-17T01:32:50.839912Z",
     "start_time": "2024-01-17T01:32:50.787104Z"
    }
   },
   "id": "9719cdf3539ecb28"
  },
  {
   "cell_type": "code",
   "execution_count": 125,
   "outputs": [
    {
     "name": "stdout",
     "output_type": "stream",
     "text": [
      "<class 'pandas.core.frame.DataFrame'>\n",
      "RangeIndex: 120000 entries, 0 to 119999\n",
      "Data columns (total 5 columns):\n",
      " #   Column        Non-Null Count   Dtype \n",
      "---  ------        --------------   ----- \n",
      " 0   instruction   120000 non-null  object\n",
      " 1   input         120000 non-null  object\n",
      " 2   output        120000 non-null  object\n",
      " 3   prompt        120000 non-null  object\n",
      " 4   gpt_messages  120000 non-null  object\n",
      "dtypes: object(5)\n",
      "memory usage: 4.6+ MB\n"
     ]
    }
   ],
   "source": [
    "qna_df = pd.DataFrame( { \"instruction\": instructions, \"input\": inputs, \"output\": outputs, \"prompt\": prompts, \"gpt_message\": gpt_messages } )\n",
    "qna_df.info()"
   ],
   "metadata": {
    "collapsed": false,
    "ExecuteTime": {
     "end_time": "2024-01-16T18:39:43.473848Z",
     "start_time": "2024-01-16T18:39:43.371521Z"
    }
   },
   "id": "56733d5c866f4894"
  },
  {
   "cell_type": "code",
   "execution_count": 126,
   "outputs": [],
   "source": [
    "from sklearn.model_selection import train_test_split\n",
    "\n",
    "sampled_df = qna_df[ [ \"instruction\", \"input\", \"output\", \"prompt\", \"gpt_message\" ] ].sample( 1000, random_state=42 ).copy()\n",
    "\n",
    "# Split the dataframe into train and (test+validate)\n",
    "train_df, test_validate_df = train_test_split( sampled_df, test_size=0.2, random_state=42 )\n",
    "\n",
    "# Then split (test+validate) into test and validate\n",
    "test_df, validate_df = train_test_split( test_validate_df, test_size=0.5, random_state=42 )\n"
   ],
   "metadata": {
    "collapsed": false,
    "ExecuteTime": {
     "end_time": "2024-01-16T18:39:46.112672Z",
     "start_time": "2024-01-16T18:39:46.083958Z"
    }
   },
   "id": "c1efe69ae319c998"
  },
  {
   "cell_type": "code",
   "execution_count": 127,
   "outputs": [
    {
     "name": "stdout",
     "output_type": "stream",
     "text": [
      "(800, 5)\n",
      "(100, 5)\n",
      "(100, 5)\n"
     ]
    }
   ],
   "source": [
    "print( train_df.shape )\n",
    "print( test_df.shape )\n",
    "print( validate_df.shape )"
   ],
   "metadata": {
    "collapsed": false,
    "ExecuteTime": {
     "end_time": "2024-01-16T18:39:48.819579Z",
     "start_time": "2024-01-16T18:39:48.804756Z"
    }
   },
   "id": "868f24f396c7505a"
  },
  {
   "cell_type": "code",
   "execution_count": 145,
   "outputs": [
    {
     "name": "stdout",
     "output_type": "stream",
     "text": [
      "On call [001] out of [100] = [1.0%]... Asking LLM [ft:gpt-3.5-turbo-1106:deepily::8hmLrC7G]...\n",
      "Asking LLM [ft:gpt-3.5-turbo-1106:deepily::8hmLrC7G]... Done! in 743 ms\n",
      "\n",
      "On call [002] out of [100] = [2.0%]... Asking LLM [ft:gpt-3.5-turbo-1106:deepily::8hmLrC7G]...\n",
      "Asking LLM [ft:gpt-3.5-turbo-1106:deepily::8hmLrC7G]... Done! in 830 ms\n",
      "\n",
      "On call [003] out of [100] = [3.0%]... Asking LLM [ft:gpt-3.5-turbo-1106:deepily::8hmLrC7G]...\n",
      "Asking LLM [ft:gpt-3.5-turbo-1106:deepily::8hmLrC7G]... Done! in 569 ms\n",
      "\n",
      "On call [004] out of [100] = [4.0%]... Asking LLM [ft:gpt-3.5-turbo-1106:deepily::8hmLrC7G]...\n",
      "Asking LLM [ft:gpt-3.5-turbo-1106:deepily::8hmLrC7G]... Done! in 640 ms\n",
      "\n",
      "On call [005] out of [100] = [5.0%]... Asking LLM [ft:gpt-3.5-turbo-1106:deepily::8hmLrC7G]...\n",
      "Asking LLM [ft:gpt-3.5-turbo-1106:deepily::8hmLrC7G]... Done! in 852 ms\n",
      "\n",
      "On call [006] out of [100] = [6.0%]... Asking LLM [ft:gpt-3.5-turbo-1106:deepily::8hmLrC7G]...\n",
      "Asking LLM [ft:gpt-3.5-turbo-1106:deepily::8hmLrC7G]... Done! in 669 ms\n",
      "\n",
      "On call [007] out of [100] = [7.0%]... Asking LLM [ft:gpt-3.5-turbo-1106:deepily::8hmLrC7G]...\n",
      "Asking LLM [ft:gpt-3.5-turbo-1106:deepily::8hmLrC7G]... Done! in 832 ms\n",
      "\n",
      "On call [008] out of [100] = [8.0%]... Asking LLM [ft:gpt-3.5-turbo-1106:deepily::8hmLrC7G]...\n",
      "Asking LLM [ft:gpt-3.5-turbo-1106:deepily::8hmLrC7G]... Done! in 599 ms\n",
      "\n",
      "On call [009] out of [100] = [9.0%]... Asking LLM [ft:gpt-3.5-turbo-1106:deepily::8hmLrC7G]...\n",
      "Asking LLM [ft:gpt-3.5-turbo-1106:deepily::8hmLrC7G]... Done! in 790 ms\n",
      "\n",
      "On call [010] out of [100] = [10.0%]... Asking LLM [ft:gpt-3.5-turbo-1106:deepily::8hmLrC7G]...\n",
      "Asking LLM [ft:gpt-3.5-turbo-1106:deepily::8hmLrC7G]... Done! in 688 ms\n",
      "\n",
      "On call [011] out of [100] = [11.0%]... Asking LLM [ft:gpt-3.5-turbo-1106:deepily::8hmLrC7G]...\n",
      "Asking LLM [ft:gpt-3.5-turbo-1106:deepily::8hmLrC7G]... Done! in 825 ms\n",
      "\n",
      "On call [012] out of [100] = [12.0%]... Asking LLM [ft:gpt-3.5-turbo-1106:deepily::8hmLrC7G]...\n",
      "Asking LLM [ft:gpt-3.5-turbo-1106:deepily::8hmLrC7G]... Done! in 777 ms\n",
      "\n",
      "On call [013] out of [100] = [13.0%]... Asking LLM [ft:gpt-3.5-turbo-1106:deepily::8hmLrC7G]...\n",
      "Asking LLM [ft:gpt-3.5-turbo-1106:deepily::8hmLrC7G]... Done! in 787 ms\n",
      "\n",
      "On call [014] out of [100] = [14.0%]... Asking LLM [ft:gpt-3.5-turbo-1106:deepily::8hmLrC7G]...\n",
      "Asking LLM [ft:gpt-3.5-turbo-1106:deepily::8hmLrC7G]... Done! in 526 ms\n",
      "\n",
      "On call [015] out of [100] = [15.0%]... Asking LLM [ft:gpt-3.5-turbo-1106:deepily::8hmLrC7G]...\n",
      "Asking LLM [ft:gpt-3.5-turbo-1106:deepily::8hmLrC7G]... Done! in 442 ms\n",
      "\n",
      "On call [016] out of [100] = [16.0%]... Asking LLM [ft:gpt-3.5-turbo-1106:deepily::8hmLrC7G]...\n",
      "Asking LLM [ft:gpt-3.5-turbo-1106:deepily::8hmLrC7G]... Done! in 622 ms\n",
      "\n",
      "On call [017] out of [100] = [17.0%]... Asking LLM [ft:gpt-3.5-turbo-1106:deepily::8hmLrC7G]...\n",
      "Asking LLM [ft:gpt-3.5-turbo-1106:deepily::8hmLrC7G]... Done! in 396 ms\n",
      "\n",
      "On call [018] out of [100] = [18.0%]... Asking LLM [ft:gpt-3.5-turbo-1106:deepily::8hmLrC7G]...\n",
      "Asking LLM [ft:gpt-3.5-turbo-1106:deepily::8hmLrC7G]... Done! in 576 ms\n",
      "\n",
      "On call [019] out of [100] = [19.0%]... Asking LLM [ft:gpt-3.5-turbo-1106:deepily::8hmLrC7G]...\n",
      "Asking LLM [ft:gpt-3.5-turbo-1106:deepily::8hmLrC7G]... Done! in 546 ms\n",
      "\n",
      "On call [020] out of [100] = [20.0%]... Asking LLM [ft:gpt-3.5-turbo-1106:deepily::8hmLrC7G]...\n",
      "Asking LLM [ft:gpt-3.5-turbo-1106:deepily::8hmLrC7G]... Done! in 631 ms\n",
      "\n",
      "On call [021] out of [100] = [21.0%]... Asking LLM [ft:gpt-3.5-turbo-1106:deepily::8hmLrC7G]...\n",
      "Asking LLM [ft:gpt-3.5-turbo-1106:deepily::8hmLrC7G]... Done! in 485 ms\n",
      "\n",
      "On call [022] out of [100] = [22.0%]... Asking LLM [ft:gpt-3.5-turbo-1106:deepily::8hmLrC7G]...\n",
      "Asking LLM [ft:gpt-3.5-turbo-1106:deepily::8hmLrC7G]... Done! in 549 ms\n",
      "\n",
      "On call [023] out of [100] = [23.0%]... Asking LLM [ft:gpt-3.5-turbo-1106:deepily::8hmLrC7G]...\n",
      "Asking LLM [ft:gpt-3.5-turbo-1106:deepily::8hmLrC7G]... Done! in 816 ms\n",
      "\n",
      "On call [024] out of [100] = [24.0%]... Asking LLM [ft:gpt-3.5-turbo-1106:deepily::8hmLrC7G]...\n",
      "Asking LLM [ft:gpt-3.5-turbo-1106:deepily::8hmLrC7G]... Done! in 381 ms\n",
      "\n",
      "On call [025] out of [100] = [25.0%]... Asking LLM [ft:gpt-3.5-turbo-1106:deepily::8hmLrC7G]...\n",
      "Asking LLM [ft:gpt-3.5-turbo-1106:deepily::8hmLrC7G]... Done! in 729 ms\n",
      "\n",
      "On call [026] out of [100] = [26.0%]... Asking LLM [ft:gpt-3.5-turbo-1106:deepily::8hmLrC7G]...\n",
      "Asking LLM [ft:gpt-3.5-turbo-1106:deepily::8hmLrC7G]... Done! in 636 ms\n",
      "\n",
      "On call [027] out of [100] = [27.0%]... Asking LLM [ft:gpt-3.5-turbo-1106:deepily::8hmLrC7G]...\n",
      "Asking LLM [ft:gpt-3.5-turbo-1106:deepily::8hmLrC7G]... Done! in 404 ms\n",
      "\n",
      "On call [028] out of [100] = [28.0%]... Asking LLM [ft:gpt-3.5-turbo-1106:deepily::8hmLrC7G]...\n",
      "Asking LLM [ft:gpt-3.5-turbo-1106:deepily::8hmLrC7G]... Done! in 679 ms\n",
      "\n",
      "On call [029] out of [100] = [29.0%]... Asking LLM [ft:gpt-3.5-turbo-1106:deepily::8hmLrC7G]...\n",
      "Asking LLM [ft:gpt-3.5-turbo-1106:deepily::8hmLrC7G]... Done! in 432 ms\n",
      "\n",
      "On call [030] out of [100] = [30.0%]... Asking LLM [ft:gpt-3.5-turbo-1106:deepily::8hmLrC7G]...\n",
      "Asking LLM [ft:gpt-3.5-turbo-1106:deepily::8hmLrC7G]... Done! in 457 ms\n",
      "\n",
      "On call [031] out of [100] = [31.0%]... Asking LLM [ft:gpt-3.5-turbo-1106:deepily::8hmLrC7G]...\n",
      "Asking LLM [ft:gpt-3.5-turbo-1106:deepily::8hmLrC7G]... Done! in 671 ms\n",
      "\n",
      "On call [032] out of [100] = [32.0%]... Asking LLM [ft:gpt-3.5-turbo-1106:deepily::8hmLrC7G]...\n",
      "Asking LLM [ft:gpt-3.5-turbo-1106:deepily::8hmLrC7G]... Done! in 488 ms\n",
      "\n",
      "On call [033] out of [100] = [33.0%]... Asking LLM [ft:gpt-3.5-turbo-1106:deepily::8hmLrC7G]...\n",
      "Asking LLM [ft:gpt-3.5-turbo-1106:deepily::8hmLrC7G]... Done! in 610 ms\n",
      "\n",
      "On call [034] out of [100] = [34.0%]... Asking LLM [ft:gpt-3.5-turbo-1106:deepily::8hmLrC7G]...\n",
      "Asking LLM [ft:gpt-3.5-turbo-1106:deepily::8hmLrC7G]... Done! in 483 ms\n",
      "\n",
      "On call [035] out of [100] = [35.0%]... Asking LLM [ft:gpt-3.5-turbo-1106:deepily::8hmLrC7G]...\n",
      "Asking LLM [ft:gpt-3.5-turbo-1106:deepily::8hmLrC7G]... Done! in 646 ms\n",
      "\n",
      "On call [036] out of [100] = [36.0%]... Asking LLM [ft:gpt-3.5-turbo-1106:deepily::8hmLrC7G]...\n",
      "Asking LLM [ft:gpt-3.5-turbo-1106:deepily::8hmLrC7G]... Done! in 746 ms\n",
      "\n",
      "On call [037] out of [100] = [37.0%]... Asking LLM [ft:gpt-3.5-turbo-1106:deepily::8hmLrC7G]...\n",
      "Asking LLM [ft:gpt-3.5-turbo-1106:deepily::8hmLrC7G]... Done! in 816 ms\n",
      "\n",
      "On call [038] out of [100] = [38.0%]... Asking LLM [ft:gpt-3.5-turbo-1106:deepily::8hmLrC7G]...\n",
      "Asking LLM [ft:gpt-3.5-turbo-1106:deepily::8hmLrC7G]... Done! in 645 ms\n",
      "\n",
      "On call [039] out of [100] = [39.0%]... Asking LLM [ft:gpt-3.5-turbo-1106:deepily::8hmLrC7G]...\n",
      "Asking LLM [ft:gpt-3.5-turbo-1106:deepily::8hmLrC7G]... Done! in 576 ms\n",
      "\n",
      "On call [040] out of [100] = [40.0%]... Asking LLM [ft:gpt-3.5-turbo-1106:deepily::8hmLrC7G]...\n",
      "Asking LLM [ft:gpt-3.5-turbo-1106:deepily::8hmLrC7G]... Done! in 766 ms\n",
      "\n",
      "On call [041] out of [100] = [41.0%]... Asking LLM [ft:gpt-3.5-turbo-1106:deepily::8hmLrC7G]...\n",
      "Asking LLM [ft:gpt-3.5-turbo-1106:deepily::8hmLrC7G]... Done! in 718 ms\n",
      "\n",
      "On call [042] out of [100] = [42.0%]... Asking LLM [ft:gpt-3.5-turbo-1106:deepily::8hmLrC7G]...\n",
      "Asking LLM [ft:gpt-3.5-turbo-1106:deepily::8hmLrC7G]... Done! in 785 ms\n",
      "\n",
      "On call [043] out of [100] = [43.0%]... Asking LLM [ft:gpt-3.5-turbo-1106:deepily::8hmLrC7G]...\n",
      "Asking LLM [ft:gpt-3.5-turbo-1106:deepily::8hmLrC7G]... Done! in 762 ms\n",
      "\n",
      "On call [044] out of [100] = [44.0%]... Asking LLM [ft:gpt-3.5-turbo-1106:deepily::8hmLrC7G]...\n",
      "Asking LLM [ft:gpt-3.5-turbo-1106:deepily::8hmLrC7G]... Done! in 484 ms\n",
      "\n",
      "On call [045] out of [100] = [45.0%]... Asking LLM [ft:gpt-3.5-turbo-1106:deepily::8hmLrC7G]...\n",
      "Asking LLM [ft:gpt-3.5-turbo-1106:deepily::8hmLrC7G]... Done! in 475 ms\n",
      "\n",
      "On call [046] out of [100] = [46.0%]... Asking LLM [ft:gpt-3.5-turbo-1106:deepily::8hmLrC7G]...\n",
      "Asking LLM [ft:gpt-3.5-turbo-1106:deepily::8hmLrC7G]... Done! in 551 ms\n",
      "\n",
      "On call [047] out of [100] = [47.0%]... Asking LLM [ft:gpt-3.5-turbo-1106:deepily::8hmLrC7G]...\n",
      "Asking LLM [ft:gpt-3.5-turbo-1106:deepily::8hmLrC7G]... Done! in 552 ms\n",
      "\n",
      "On call [048] out of [100] = [48.0%]... Asking LLM [ft:gpt-3.5-turbo-1106:deepily::8hmLrC7G]...\n",
      "Asking LLM [ft:gpt-3.5-turbo-1106:deepily::8hmLrC7G]... Done! in 514 ms\n",
      "\n",
      "On call [049] out of [100] = [49.0%]... Asking LLM [ft:gpt-3.5-turbo-1106:deepily::8hmLrC7G]...\n",
      "Asking LLM [ft:gpt-3.5-turbo-1106:deepily::8hmLrC7G]... Done! in 469 ms\n",
      "\n",
      "On call [050] out of [100] = [50.0%]... Asking LLM [ft:gpt-3.5-turbo-1106:deepily::8hmLrC7G]...\n",
      "Asking LLM [ft:gpt-3.5-turbo-1106:deepily::8hmLrC7G]... Done! in 853 ms\n",
      "\n",
      "On call [051] out of [100] = [51.0%]... Asking LLM [ft:gpt-3.5-turbo-1106:deepily::8hmLrC7G]...\n",
      "Asking LLM [ft:gpt-3.5-turbo-1106:deepily::8hmLrC7G]... Done! in 628 ms\n",
      "\n",
      "On call [052] out of [100] = [52.0%]... Asking LLM [ft:gpt-3.5-turbo-1106:deepily::8hmLrC7G]...\n",
      "Asking LLM [ft:gpt-3.5-turbo-1106:deepily::8hmLrC7G]... Done! in 484 ms\n",
      "\n",
      "On call [053] out of [100] = [53.0%]... Asking LLM [ft:gpt-3.5-turbo-1106:deepily::8hmLrC7G]...\n",
      "Asking LLM [ft:gpt-3.5-turbo-1106:deepily::8hmLrC7G]... Done! in 632 ms\n",
      "\n",
      "On call [054] out of [100] = [54.0%]... Asking LLM [ft:gpt-3.5-turbo-1106:deepily::8hmLrC7G]...\n",
      "Asking LLM [ft:gpt-3.5-turbo-1106:deepily::8hmLrC7G]... Done! in 420 ms\n",
      "\n",
      "On call [055] out of [100] = [55.0%]... Asking LLM [ft:gpt-3.5-turbo-1106:deepily::8hmLrC7G]...\n",
      "Asking LLM [ft:gpt-3.5-turbo-1106:deepily::8hmLrC7G]... Done! in 503 ms\n",
      "\n",
      "On call [056] out of [100] = [56.0%]... Asking LLM [ft:gpt-3.5-turbo-1106:deepily::8hmLrC7G]...\n",
      "Asking LLM [ft:gpt-3.5-turbo-1106:deepily::8hmLrC7G]... Done! in 632 ms\n",
      "\n",
      "On call [057] out of [100] = [57.0%]... Asking LLM [ft:gpt-3.5-turbo-1106:deepily::8hmLrC7G]...\n",
      "Asking LLM [ft:gpt-3.5-turbo-1106:deepily::8hmLrC7G]... Done! in 383 ms\n",
      "\n",
      "On call [058] out of [100] = [58.0%]... Asking LLM [ft:gpt-3.5-turbo-1106:deepily::8hmLrC7G]...\n",
      "Asking LLM [ft:gpt-3.5-turbo-1106:deepily::8hmLrC7G]... Done! in 434 ms\n",
      "\n",
      "On call [059] out of [100] = [59.0%]... Asking LLM [ft:gpt-3.5-turbo-1106:deepily::8hmLrC7G]...\n",
      "Asking LLM [ft:gpt-3.5-turbo-1106:deepily::8hmLrC7G]... Done! in 503 ms\n",
      "\n",
      "On call [060] out of [100] = [60.0%]... Asking LLM [ft:gpt-3.5-turbo-1106:deepily::8hmLrC7G]...\n",
      "Asking LLM [ft:gpt-3.5-turbo-1106:deepily::8hmLrC7G]... Done! in 769 ms\n",
      "\n",
      "On call [061] out of [100] = [61.0%]... Asking LLM [ft:gpt-3.5-turbo-1106:deepily::8hmLrC7G]...\n",
      "Asking LLM [ft:gpt-3.5-turbo-1106:deepily::8hmLrC7G]... Done! in 645 ms\n",
      "\n",
      "On call [062] out of [100] = [62.0%]... Asking LLM [ft:gpt-3.5-turbo-1106:deepily::8hmLrC7G]...\n",
      "Asking LLM [ft:gpt-3.5-turbo-1106:deepily::8hmLrC7G]... Done! in 458 ms\n",
      "\n",
      "On call [063] out of [100] = [63.0%]... Asking LLM [ft:gpt-3.5-turbo-1106:deepily::8hmLrC7G]...\n",
      "Asking LLM [ft:gpt-3.5-turbo-1106:deepily::8hmLrC7G]... Done! in 645 ms\n",
      "\n",
      "On call [064] out of [100] = [64.0%]... Asking LLM [ft:gpt-3.5-turbo-1106:deepily::8hmLrC7G]...\n",
      "Asking LLM [ft:gpt-3.5-turbo-1106:deepily::8hmLrC7G]... Done! in 395 ms\n",
      "\n",
      "On call [065] out of [100] = [65.0%]... Asking LLM [ft:gpt-3.5-turbo-1106:deepily::8hmLrC7G]...\n",
      "Asking LLM [ft:gpt-3.5-turbo-1106:deepily::8hmLrC7G]... Done! in 601 ms\n",
      "\n",
      "On call [066] out of [100] = [66.0%]... Asking LLM [ft:gpt-3.5-turbo-1106:deepily::8hmLrC7G]...\n",
      "Asking LLM [ft:gpt-3.5-turbo-1106:deepily::8hmLrC7G]... Done! in 518 ms\n",
      "\n",
      "On call [067] out of [100] = [67.0%]... Asking LLM [ft:gpt-3.5-turbo-1106:deepily::8hmLrC7G]...\n",
      "Asking LLM [ft:gpt-3.5-turbo-1106:deepily::8hmLrC7G]... Done! in 396 ms\n",
      "\n",
      "On call [068] out of [100] = [68.0%]... Asking LLM [ft:gpt-3.5-turbo-1106:deepily::8hmLrC7G]...\n",
      "Asking LLM [ft:gpt-3.5-turbo-1106:deepily::8hmLrC7G]... Done! in 499 ms\n",
      "\n",
      "On call [069] out of [100] = [69.0%]... Asking LLM [ft:gpt-3.5-turbo-1106:deepily::8hmLrC7G]...\n",
      "Asking LLM [ft:gpt-3.5-turbo-1106:deepily::8hmLrC7G]... Done! in 679 ms\n",
      "\n",
      "On call [070] out of [100] = [70.0%]... Asking LLM [ft:gpt-3.5-turbo-1106:deepily::8hmLrC7G]...\n",
      "Asking LLM [ft:gpt-3.5-turbo-1106:deepily::8hmLrC7G]... Done! in 637 ms\n",
      "\n",
      "On call [071] out of [100] = [71.0%]... Asking LLM [ft:gpt-3.5-turbo-1106:deepily::8hmLrC7G]...\n",
      "Asking LLM [ft:gpt-3.5-turbo-1106:deepily::8hmLrC7G]... Done! in 772 ms\n",
      "\n",
      "On call [072] out of [100] = [72.0%]... Asking LLM [ft:gpt-3.5-turbo-1106:deepily::8hmLrC7G]...\n",
      "Asking LLM [ft:gpt-3.5-turbo-1106:deepily::8hmLrC7G]... Done! in 814 ms\n",
      "\n",
      "On call [073] out of [100] = [73.0%]... Asking LLM [ft:gpt-3.5-turbo-1106:deepily::8hmLrC7G]...\n",
      "Asking LLM [ft:gpt-3.5-turbo-1106:deepily::8hmLrC7G]... Done! in 467 ms\n",
      "\n",
      "On call [074] out of [100] = [74.0%]... Asking LLM [ft:gpt-3.5-turbo-1106:deepily::8hmLrC7G]...\n",
      "Asking LLM [ft:gpt-3.5-turbo-1106:deepily::8hmLrC7G]... Done! in 499 ms\n",
      "\n",
      "On call [075] out of [100] = [75.0%]... Asking LLM [ft:gpt-3.5-turbo-1106:deepily::8hmLrC7G]...\n",
      "Asking LLM [ft:gpt-3.5-turbo-1106:deepily::8hmLrC7G]... Done! in 643 ms\n",
      "\n",
      "On call [076] out of [100] = [76.0%]... Asking LLM [ft:gpt-3.5-turbo-1106:deepily::8hmLrC7G]...\n",
      "Asking LLM [ft:gpt-3.5-turbo-1106:deepily::8hmLrC7G]... Done! in 410 ms\n",
      "\n",
      "On call [077] out of [100] = [77.0%]... Asking LLM [ft:gpt-3.5-turbo-1106:deepily::8hmLrC7G]...\n",
      "Asking LLM [ft:gpt-3.5-turbo-1106:deepily::8hmLrC7G]... Done! in 392 ms\n",
      "\n",
      "On call [078] out of [100] = [78.0%]... Asking LLM [ft:gpt-3.5-turbo-1106:deepily::8hmLrC7G]...\n",
      "Asking LLM [ft:gpt-3.5-turbo-1106:deepily::8hmLrC7G]... Done! in 580 ms\n",
      "\n",
      "On call [079] out of [100] = [79.0%]... Asking LLM [ft:gpt-3.5-turbo-1106:deepily::8hmLrC7G]...\n",
      "Asking LLM [ft:gpt-3.5-turbo-1106:deepily::8hmLrC7G]... Done! in 476 ms\n",
      "\n",
      "On call [080] out of [100] = [80.0%]... Asking LLM [ft:gpt-3.5-turbo-1106:deepily::8hmLrC7G]...\n",
      "Asking LLM [ft:gpt-3.5-turbo-1106:deepily::8hmLrC7G]... Done! in 798 ms\n",
      "\n",
      "On call [081] out of [100] = [81.0%]... Asking LLM [ft:gpt-3.5-turbo-1106:deepily::8hmLrC7G]...\n",
      "Asking LLM [ft:gpt-3.5-turbo-1106:deepily::8hmLrC7G]... Done! in 618 ms\n",
      "\n",
      "On call [082] out of [100] = [82.0%]... Asking LLM [ft:gpt-3.5-turbo-1106:deepily::8hmLrC7G]...\n",
      "Asking LLM [ft:gpt-3.5-turbo-1106:deepily::8hmLrC7G]... Done! in 447 ms\n",
      "\n",
      "On call [083] out of [100] = [83.0%]... Asking LLM [ft:gpt-3.5-turbo-1106:deepily::8hmLrC7G]...\n",
      "Asking LLM [ft:gpt-3.5-turbo-1106:deepily::8hmLrC7G]... Done! in 615 ms\n",
      "\n",
      "On call [084] out of [100] = [84.0%]... Asking LLM [ft:gpt-3.5-turbo-1106:deepily::8hmLrC7G]...\n",
      "Asking LLM [ft:gpt-3.5-turbo-1106:deepily::8hmLrC7G]... Done! in 389 ms\n",
      "\n",
      "On call [085] out of [100] = [85.0%]... Asking LLM [ft:gpt-3.5-turbo-1106:deepily::8hmLrC7G]...\n",
      "Asking LLM [ft:gpt-3.5-turbo-1106:deepily::8hmLrC7G]... Done! in 618 ms\n",
      "\n",
      "On call [086] out of [100] = [86.0%]... Asking LLM [ft:gpt-3.5-turbo-1106:deepily::8hmLrC7G]...\n",
      "Asking LLM [ft:gpt-3.5-turbo-1106:deepily::8hmLrC7G]... Done! in 629 ms\n",
      "\n",
      "On call [087] out of [100] = [87.0%]... Asking LLM [ft:gpt-3.5-turbo-1106:deepily::8hmLrC7G]...\n",
      "Asking LLM [ft:gpt-3.5-turbo-1106:deepily::8hmLrC7G]... Done! in 502 ms\n",
      "\n",
      "On call [088] out of [100] = [88.0%]... Asking LLM [ft:gpt-3.5-turbo-1106:deepily::8hmLrC7G]...\n",
      "Asking LLM [ft:gpt-3.5-turbo-1106:deepily::8hmLrC7G]... Done! in 886 ms\n",
      "\n",
      "On call [089] out of [100] = [89.0%]... Asking LLM [ft:gpt-3.5-turbo-1106:deepily::8hmLrC7G]...\n",
      "Asking LLM [ft:gpt-3.5-turbo-1106:deepily::8hmLrC7G]... Done! in 386 ms\n",
      "\n",
      "On call [090] out of [100] = [90.0%]... Asking LLM [ft:gpt-3.5-turbo-1106:deepily::8hmLrC7G]...\n",
      "Asking LLM [ft:gpt-3.5-turbo-1106:deepily::8hmLrC7G]... Done! in 729 ms\n",
      "\n",
      "On call [091] out of [100] = [91.0%]... Asking LLM [ft:gpt-3.5-turbo-1106:deepily::8hmLrC7G]...\n",
      "Asking LLM [ft:gpt-3.5-turbo-1106:deepily::8hmLrC7G]... Done! in 415 ms\n",
      "\n",
      "On call [092] out of [100] = [92.0%]... Asking LLM [ft:gpt-3.5-turbo-1106:deepily::8hmLrC7G]...\n",
      "Asking LLM [ft:gpt-3.5-turbo-1106:deepily::8hmLrC7G]... Done! in 393 ms\n",
      "\n",
      "On call [093] out of [100] = [93.0%]... Asking LLM [ft:gpt-3.5-turbo-1106:deepily::8hmLrC7G]...\n",
      "Asking LLM [ft:gpt-3.5-turbo-1106:deepily::8hmLrC7G]... Done! in 558 ms\n",
      "\n",
      "On call [094] out of [100] = [94.0%]... Asking LLM [ft:gpt-3.5-turbo-1106:deepily::8hmLrC7G]...\n",
      "Asking LLM [ft:gpt-3.5-turbo-1106:deepily::8hmLrC7G]... Done! in 651 ms\n",
      "\n",
      "On call [095] out of [100] = [95.0%]... Asking LLM [ft:gpt-3.5-turbo-1106:deepily::8hmLrC7G]...\n",
      "Asking LLM [ft:gpt-3.5-turbo-1106:deepily::8hmLrC7G]... Done! in 643 ms\n",
      "\n",
      "On call [096] out of [100] = [96.0%]... Asking LLM [ft:gpt-3.5-turbo-1106:deepily::8hmLrC7G]...\n",
      "Asking LLM [ft:gpt-3.5-turbo-1106:deepily::8hmLrC7G]... Done! in 534 ms\n",
      "\n",
      "On call [097] out of [100] = [97.0%]... Asking LLM [ft:gpt-3.5-turbo-1106:deepily::8hmLrC7G]...\n",
      "Asking LLM [ft:gpt-3.5-turbo-1106:deepily::8hmLrC7G]... Done! in 437 ms\n",
      "\n",
      "On call [098] out of [100] = [98.0%]... Asking LLM [ft:gpt-3.5-turbo-1106:deepily::8hmLrC7G]...\n",
      "Asking LLM [ft:gpt-3.5-turbo-1106:deepily::8hmLrC7G]... Done! in 542 ms\n",
      "\n",
      "On call [099] out of [100] = [99.0%]... Asking LLM [ft:gpt-3.5-turbo-1106:deepily::8hmLrC7G]...\n",
      "Asking LLM [ft:gpt-3.5-turbo-1106:deepily::8hmLrC7G]... Done! in 475 ms\n",
      "\n",
      "On call [100] out of [100] = [100.0%]... Asking LLM [ft:gpt-3.5-turbo-1106:deepily::8hmLrC7G]...\n",
      "Asking LLM [ft:gpt-3.5-turbo-1106:deepily::8hmLrC7G]... Done! in 516 ms\n",
      "\n",
      "------------------------------------------------------------------------------------------------------------------------\n",
      "- Stats\n",
      "------------------------------------------------------------------------------------------------------------------------\n",
      "\n",
      "               Is valid xml 100.0%\n",
      "          Contains response 100.0%\n",
      "   Contains browser command 100.0%\n",
      "              Contains args 100.0%\n",
      "          Response is exact 57.0%\n",
      "Response has correct values 57.0%\n"
     ]
    }
   ],
   "source": [
    "validate_df = validate_responses( validate_df )\n",
    "\n",
    "print_stats( validate_df )\n",
    "\n",
    "# First run before attempting to force valid XML\n",
    "# ------------------------------------------------------------------------------------------------------------------------\n",
    "# - Stats: Phind\n",
    "# ------------------------------------------------------------------------------------------------------------------------\n",
    "# \n",
    "#                Is valid xml 0.0%\n",
    "#           Contains response 98.0%\n",
    "#    Contains browser command 98.0%\n",
    "#               Contains args 98.0%\n",
    "#           Response is exact 0.0%\n",
    "# Response has correct values 43.0%\n",
    "\n",
    "# after attempting to force the first token output: <response>\n",
    "# ------------------------------------------------------------------------------------------------------------------------\n",
    "# - Stats: Phind\n",
    "# ------------------------------------------------------------------------------------------------------------------------\n",
    "# \n",
    "#                Is valid xml 0.0%\n",
    "#           Contains response 100.0%\n",
    "#    Contains browser command 100.0%\n",
    "#               Contains args 100.0%\n",
    "#           Response is exact 0.0%\n",
    "# Response has correct values 39.0%\n",
    "\n",
    "# ------------------------------------------------------------------------------------------------------------------------\n",
    "# - Stats: GPT 3.5, before training\n",
    "# ------------------------------------------------------------------------------------------------------------------------\n",
    "# \n",
    "#                Is valid xml 100.0%\n",
    "#           Contains response 100.0%\n",
    "#    Contains browser command 100.0%\n",
    "#               Contains args 100.0%\n",
    "#           Response is exact  88.0%\n",
    "# Response has correct values  88.0%\n",
    "# \n",
    "# ------------------------------------------------------------------------------------------------------------------------\n",
    "# - Stats: GPT 3.5, after OVER training\n",
    "# ------------------------------------------------------------------------------------------------------------------------\n",
    "# \n",
    "#                Is valid xml 100.0%\n",
    "#           Contains response 100.0%\n",
    "#    Contains browser command 100.0%\n",
    "#               Contains args 100.0%\n",
    "#           Response is exact 57.0%\n",
    "# Response has correct values 57.0%"
   ],
   "metadata": {
    "collapsed": false,
    "ExecuteTime": {
     "end_time": "2024-01-17T01:34:21.033688Z",
     "start_time": "2024-01-17T01:33:21.707289Z"
    }
   },
   "id": "8ff6879acfe8210d"
  },
  {
   "cell_type": "code",
   "execution_count": 147,
   "outputs": [
    {
     "data": {
      "text/plain": "65397     <response>\\n    <browser-command>search google...\n72078     <response>\\n    <browser-command>search google...\n59206     <response>\\n    <browser-command>search google...\n48642     <response>\\n    <browser-command>search google...\n114768    <response>\\n    <browser-command>search google...\nName: response, dtype: object"
     },
     "execution_count": 147,
     "metadata": {},
     "output_type": "execute_result"
    }
   ],
   "source": [
    "validate_df.response.head()"
   ],
   "metadata": {
    "collapsed": false,
    "ExecuteTime": {
     "end_time": "2024-01-17T01:36:39.026478Z",
     "start_time": "2024-01-17T01:36:38.979540Z"
    }
   },
   "id": "f5411f1724fdf5ae"
  },
  {
   "cell_type": "code",
   "execution_count": 109,
   "outputs": [
    {
     "name": "stdout",
     "output_type": "stream",
     "text": [
      "<class 'pandas.core.frame.DataFrame'>\n",
      "Index: 80 entries, 32114 to 10744\n",
      "Data columns (total 5 columns):\n",
      " #   Column        Non-Null Count  Dtype \n",
      "---  ------        --------------  ----- \n",
      " 0   instruction   80 non-null     object\n",
      " 1   input         80 non-null     object\n",
      " 2   output        80 non-null     object\n",
      " 3   prompt        80 non-null     object\n",
      " 4   gpt_messages  80 non-null     object\n",
      "dtypes: object(5)\n",
      "memory usage: 3.8+ KB\n"
     ]
    }
   ],
   "source": [
    "train_df.info()"
   ],
   "metadata": {
    "collapsed": false,
    "ExecuteTime": {
     "end_time": "2024-01-16T18:01:08.370748Z",
     "start_time": "2024-01-16T18:01:08.361117Z"
    }
   },
   "id": "31e8d6c98720256"
  },
  {
   "cell_type": "code",
   "execution_count": 128,
   "outputs": [],
   "source": [
    "sampled_df = qna_df[ [ \"instruction\", \"input\", \"output\", \"prompt\", \"gpt_message\" ] ].sample( 1000, random_state=42 ).copy()\n",
    "\n",
    "# Split the dataframe into 80% train and (test+validate)\n",
    "train_df, test_validate_df = train_test_split( sampled_df, test_size=0.2, random_state=42 )\n",
    "\n",
    "# Then split (test+validate) into 10% test and 10% validate\n",
    "test_df, validate_df = train_test_split( test_validate_df, test_size=0.5, random_state=42 )"
   ],
   "metadata": {
    "collapsed": false,
    "ExecuteTime": {
     "end_time": "2024-01-16T18:40:04.444143Z",
     "start_time": "2024-01-16T18:40:04.386663Z"
    }
   },
   "id": "c3ab6816ce6104f1"
  },
  {
   "cell_type": "code",
   "execution_count": 115,
   "outputs": [
    {
     "ename": "OSError",
     "evalue": "Cannot save file into a non-existent directory: '/var/genie-in-the-box/src/ephemera/prompts/data'",
     "output_type": "error",
     "traceback": [
      "\u001B[0;31m---------------------------------------------------------------------------\u001B[0m",
      "\u001B[0;31mOSError\u001B[0m                                   Traceback (most recent call last)",
      "Cell \u001B[0;32mIn[115], line 3\u001B[0m\n\u001B[1;32m      1\u001B[0m project_root \u001B[38;5;241m=\u001B[39m \u001B[38;5;124m\"\u001B[39m\u001B[38;5;124m/var/model/genie-in-the-box\u001B[39m\u001B[38;5;124m\"\u001B[39m\n\u001B[1;32m      2\u001B[0m path \u001B[38;5;241m=\u001B[39m du\u001B[38;5;241m.\u001B[39mget_project_root() \u001B[38;5;241m+\u001B[39m \u001B[38;5;124m\"\u001B[39m\u001B[38;5;124m/src/ephemera/prompts/data/search-xml-train.jsonl\u001B[39m\u001B[38;5;124m\"\u001B[39m\n\u001B[0;32m----> 3\u001B[0m \u001B[43mtrain_df\u001B[49m\u001B[38;5;241;43m.\u001B[39;49m\u001B[43mto_json\u001B[49m\u001B[43m(\u001B[49m\u001B[43m \u001B[49m\u001B[43mpath\u001B[49m\u001B[43m,\u001B[49m\u001B[43m \u001B[49m\u001B[43morient\u001B[49m\u001B[38;5;241;43m=\u001B[39;49m\u001B[38;5;124;43m\"\u001B[39;49m\u001B[38;5;124;43mrecords\u001B[39;49m\u001B[38;5;124;43m\"\u001B[39;49m\u001B[43m,\u001B[49m\u001B[43m \u001B[49m\u001B[43mlines\u001B[49m\u001B[38;5;241;43m=\u001B[39;49m\u001B[38;5;28;43;01mTrue\u001B[39;49;00m\u001B[43m \u001B[49m\u001B[43m)\u001B[49m\n\u001B[1;32m      4\u001B[0m os\u001B[38;5;241m.\u001B[39mchmod( path, \u001B[38;5;241m0o666\u001B[39m )\n\u001B[1;32m      6\u001B[0m path \u001B[38;5;241m=\u001B[39m du\u001B[38;5;241m.\u001B[39mget_project_root() \u001B[38;5;241m+\u001B[39m \u001B[38;5;124m\"\u001B[39m\u001B[38;5;124m/src/ephemera/prompts/data/search-xml-validate.jsonl\u001B[39m\u001B[38;5;124m\"\u001B[39m\n",
      "File \u001B[0;32m/usr/local/lib/python3.10/dist-packages/pandas/core/generic.py:2629\u001B[0m, in \u001B[0;36mNDFrame.to_json\u001B[0;34m(self, path_or_buf, orient, date_format, double_precision, force_ascii, date_unit, default_handler, lines, compression, index, indent, storage_options, mode)\u001B[0m\n\u001B[1;32m   2626\u001B[0m config\u001B[38;5;241m.\u001B[39mis_nonnegative_int(indent)\n\u001B[1;32m   2627\u001B[0m indent \u001B[38;5;241m=\u001B[39m indent \u001B[38;5;129;01mor\u001B[39;00m \u001B[38;5;241m0\u001B[39m\n\u001B[0;32m-> 2629\u001B[0m \u001B[38;5;28;01mreturn\u001B[39;00m \u001B[43mjson\u001B[49m\u001B[38;5;241;43m.\u001B[39;49m\u001B[43mto_json\u001B[49m\u001B[43m(\u001B[49m\n\u001B[1;32m   2630\u001B[0m \u001B[43m    \u001B[49m\u001B[43mpath_or_buf\u001B[49m\u001B[38;5;241;43m=\u001B[39;49m\u001B[43mpath_or_buf\u001B[49m\u001B[43m,\u001B[49m\n\u001B[1;32m   2631\u001B[0m \u001B[43m    \u001B[49m\u001B[43mobj\u001B[49m\u001B[38;5;241;43m=\u001B[39;49m\u001B[38;5;28;43mself\u001B[39;49m\u001B[43m,\u001B[49m\n\u001B[1;32m   2632\u001B[0m \u001B[43m    \u001B[49m\u001B[43morient\u001B[49m\u001B[38;5;241;43m=\u001B[39;49m\u001B[43morient\u001B[49m\u001B[43m,\u001B[49m\n\u001B[1;32m   2633\u001B[0m \u001B[43m    \u001B[49m\u001B[43mdate_format\u001B[49m\u001B[38;5;241;43m=\u001B[39;49m\u001B[43mdate_format\u001B[49m\u001B[43m,\u001B[49m\n\u001B[1;32m   2634\u001B[0m \u001B[43m    \u001B[49m\u001B[43mdouble_precision\u001B[49m\u001B[38;5;241;43m=\u001B[39;49m\u001B[43mdouble_precision\u001B[49m\u001B[43m,\u001B[49m\n\u001B[1;32m   2635\u001B[0m \u001B[43m    \u001B[49m\u001B[43mforce_ascii\u001B[49m\u001B[38;5;241;43m=\u001B[39;49m\u001B[43mforce_ascii\u001B[49m\u001B[43m,\u001B[49m\n\u001B[1;32m   2636\u001B[0m \u001B[43m    \u001B[49m\u001B[43mdate_unit\u001B[49m\u001B[38;5;241;43m=\u001B[39;49m\u001B[43mdate_unit\u001B[49m\u001B[43m,\u001B[49m\n\u001B[1;32m   2637\u001B[0m \u001B[43m    \u001B[49m\u001B[43mdefault_handler\u001B[49m\u001B[38;5;241;43m=\u001B[39;49m\u001B[43mdefault_handler\u001B[49m\u001B[43m,\u001B[49m\n\u001B[1;32m   2638\u001B[0m \u001B[43m    \u001B[49m\u001B[43mlines\u001B[49m\u001B[38;5;241;43m=\u001B[39;49m\u001B[43mlines\u001B[49m\u001B[43m,\u001B[49m\n\u001B[1;32m   2639\u001B[0m \u001B[43m    \u001B[49m\u001B[43mcompression\u001B[49m\u001B[38;5;241;43m=\u001B[39;49m\u001B[43mcompression\u001B[49m\u001B[43m,\u001B[49m\n\u001B[1;32m   2640\u001B[0m \u001B[43m    \u001B[49m\u001B[43mindex\u001B[49m\u001B[38;5;241;43m=\u001B[39;49m\u001B[43mindex\u001B[49m\u001B[43m,\u001B[49m\n\u001B[1;32m   2641\u001B[0m \u001B[43m    \u001B[49m\u001B[43mindent\u001B[49m\u001B[38;5;241;43m=\u001B[39;49m\u001B[43mindent\u001B[49m\u001B[43m,\u001B[49m\n\u001B[1;32m   2642\u001B[0m \u001B[43m    \u001B[49m\u001B[43mstorage_options\u001B[49m\u001B[38;5;241;43m=\u001B[39;49m\u001B[43mstorage_options\u001B[49m\u001B[43m,\u001B[49m\n\u001B[1;32m   2643\u001B[0m \u001B[43m    \u001B[49m\u001B[43mmode\u001B[49m\u001B[38;5;241;43m=\u001B[39;49m\u001B[43mmode\u001B[49m\u001B[43m,\u001B[49m\n\u001B[1;32m   2644\u001B[0m \u001B[43m\u001B[49m\u001B[43m)\u001B[49m\n",
      "File \u001B[0;32m/usr/local/lib/python3.10/dist-packages/pandas/io/json/_json.py:212\u001B[0m, in \u001B[0;36mto_json\u001B[0;34m(path_or_buf, obj, orient, date_format, double_precision, force_ascii, date_unit, default_handler, lines, compression, index, indent, storage_options, mode)\u001B[0m\n\u001B[1;32m    208\u001B[0m     s \u001B[38;5;241m=\u001B[39m convert_to_line_delimits(s)\n\u001B[1;32m    210\u001B[0m \u001B[38;5;28;01mif\u001B[39;00m path_or_buf \u001B[38;5;129;01mis\u001B[39;00m \u001B[38;5;129;01mnot\u001B[39;00m \u001B[38;5;28;01mNone\u001B[39;00m:\n\u001B[1;32m    211\u001B[0m     \u001B[38;5;66;03m# apply compression and byte/text conversion\u001B[39;00m\n\u001B[0;32m--> 212\u001B[0m     \u001B[38;5;28;01mwith\u001B[39;00m \u001B[43mget_handle\u001B[49m\u001B[43m(\u001B[49m\n\u001B[1;32m    213\u001B[0m \u001B[43m        \u001B[49m\u001B[43mpath_or_buf\u001B[49m\u001B[43m,\u001B[49m\u001B[43m \u001B[49m\u001B[43mmode\u001B[49m\u001B[43m,\u001B[49m\u001B[43m \u001B[49m\u001B[43mcompression\u001B[49m\u001B[38;5;241;43m=\u001B[39;49m\u001B[43mcompression\u001B[49m\u001B[43m,\u001B[49m\u001B[43m \u001B[49m\u001B[43mstorage_options\u001B[49m\u001B[38;5;241;43m=\u001B[39;49m\u001B[43mstorage_options\u001B[49m\n\u001B[1;32m    214\u001B[0m \u001B[43m    \u001B[49m\u001B[43m)\u001B[49m \u001B[38;5;28;01mas\u001B[39;00m handles:\n\u001B[1;32m    215\u001B[0m         handles\u001B[38;5;241m.\u001B[39mhandle\u001B[38;5;241m.\u001B[39mwrite(s)\n\u001B[1;32m    216\u001B[0m \u001B[38;5;28;01melse\u001B[39;00m:\n",
      "File \u001B[0;32m/usr/local/lib/python3.10/dist-packages/pandas/io/common.py:739\u001B[0m, in \u001B[0;36mget_handle\u001B[0;34m(path_or_buf, mode, encoding, compression, memory_map, is_text, errors, storage_options)\u001B[0m\n\u001B[1;32m    737\u001B[0m \u001B[38;5;66;03m# Only for write methods\u001B[39;00m\n\u001B[1;32m    738\u001B[0m \u001B[38;5;28;01mif\u001B[39;00m \u001B[38;5;124m\"\u001B[39m\u001B[38;5;124mr\u001B[39m\u001B[38;5;124m\"\u001B[39m \u001B[38;5;129;01mnot\u001B[39;00m \u001B[38;5;129;01min\u001B[39;00m mode \u001B[38;5;129;01mand\u001B[39;00m is_path:\n\u001B[0;32m--> 739\u001B[0m     \u001B[43mcheck_parent_directory\u001B[49m\u001B[43m(\u001B[49m\u001B[38;5;28;43mstr\u001B[39;49m\u001B[43m(\u001B[49m\u001B[43mhandle\u001B[49m\u001B[43m)\u001B[49m\u001B[43m)\u001B[49m\n\u001B[1;32m    741\u001B[0m \u001B[38;5;28;01mif\u001B[39;00m compression:\n\u001B[1;32m    742\u001B[0m     \u001B[38;5;28;01mif\u001B[39;00m compression \u001B[38;5;241m!=\u001B[39m \u001B[38;5;124m\"\u001B[39m\u001B[38;5;124mzstd\u001B[39m\u001B[38;5;124m\"\u001B[39m:\n\u001B[1;32m    743\u001B[0m         \u001B[38;5;66;03m# compression libraries do not like an explicit text-mode\u001B[39;00m\n",
      "File \u001B[0;32m/usr/local/lib/python3.10/dist-packages/pandas/io/common.py:604\u001B[0m, in \u001B[0;36mcheck_parent_directory\u001B[0;34m(path)\u001B[0m\n\u001B[1;32m    602\u001B[0m parent \u001B[38;5;241m=\u001B[39m Path(path)\u001B[38;5;241m.\u001B[39mparent\n\u001B[1;32m    603\u001B[0m \u001B[38;5;28;01mif\u001B[39;00m \u001B[38;5;129;01mnot\u001B[39;00m parent\u001B[38;5;241m.\u001B[39mis_dir():\n\u001B[0;32m--> 604\u001B[0m     \u001B[38;5;28;01mraise\u001B[39;00m \u001B[38;5;167;01mOSError\u001B[39;00m(\u001B[38;5;124mrf\u001B[39m\u001B[38;5;124m\"\u001B[39m\u001B[38;5;124mCannot save file into a non-existent directory: \u001B[39m\u001B[38;5;124m'\u001B[39m\u001B[38;5;132;01m{\u001B[39;00mparent\u001B[38;5;132;01m}\u001B[39;00m\u001B[38;5;124m'\u001B[39m\u001B[38;5;124m\"\u001B[39m)\n",
      "\u001B[0;31mOSError\u001B[0m: Cannot save file into a non-existent directory: '/var/genie-in-the-box/src/ephemera/prompts/data'"
     ]
    }
   ],
   "source": [
    "project_root = \"/var/model/genie-in-the-box\"\n",
    "path = du.get_project_root() + \"/src/ephemera/prompts/data/search-xml-train.jsonl\"\n",
    "train_df.to_json( path, orient=\"records\", lines=True )\n",
    "os.chmod( path, 0o666 )\n",
    "\n",
    "path = du.get_project_root() + \"/src/ephemera/prompts/data/search-xml-test.jsonl\"\n",
    "test_df.to_json( path, orient=\"records\", lines=True )\n",
    "os.chmod( path, 0o666 )\n",
    "\n",
    "path = du.get_project_root() + \"/src/ephemera/prompts/data/search-xml-validate.jsonl\"\n",
    "validate_df.to_json( path, orient=\"records\", lines=True )\n",
    "os.chmod( path, 0o666 )\n"
   ],
   "metadata": {
    "collapsed": false,
    "ExecuteTime": {
     "end_time": "2024-01-16T18:26:04.842104Z",
     "start_time": "2024-01-16T18:26:04.772072Z"
    }
   },
   "id": "20d7308b41938b39"
  },
  {
   "cell_type": "code",
   "execution_count": 131,
   "outputs": [],
   "source": [
    "path = project_root + \"/src/ephemera/prompts/data/search-xml-train-gpt.jsonl\"\n",
    "train_df.gpt_messages.to_json( path, orient=\"records\", lines=True )\n",
    "os.chmod( path, 0o666 )\n",
    "\n",
    "path = project_root + \"/src/ephemera/prompts/data/search-xml-test-gpt.jsonl\"\n",
    "test_df.gpt_messages.to_json( path, orient=\"records\", lines=True )\n",
    "os.chmod( path, 0o666 )\n"
   ],
   "metadata": {
    "collapsed": false,
    "ExecuteTime": {
     "end_time": "2024-01-16T18:43:43.897333Z",
     "start_time": "2024-01-16T18:43:43.831279Z"
    }
   },
   "id": "641d9378e6ea3044"
  },
  {
   "cell_type": "code",
   "execution_count": 132,
   "outputs": [
    {
     "data": {
      "text/plain": "61754     {'messages': [{'role': 'system', 'content': 'I...\n108836    {'messages': [{'role': 'system', 'content': 'I...\n112152    {'messages': [{'role': 'system', 'content': 'I...\n75196     {'messages': [{'role': 'system', 'content': 'I...\n7770      {'messages': [{'role': 'system', 'content': 'I...\nName: gpt_messages, dtype: object"
     },
     "execution_count": 132,
     "metadata": {},
     "output_type": "execute_result"
    }
   ],
   "source": [
    "train_df.gpt_messages.head()"
   ],
   "metadata": {
    "collapsed": false,
    "ExecuteTime": {
     "end_time": "2024-01-16T18:53:52.783709Z",
     "start_time": "2024-01-16T18:53:52.759257Z"
    }
   },
   "id": "40448bc22d1becc1"
  },
  {
   "cell_type": "code",
   "execution_count": 120,
   "outputs": [
    {
     "name": "stdout",
     "output_type": "stream",
     "text": [
      "total 32M\r\n",
      "drwxr--r-- 4 1001 1001 4.0K Jan 16 18:26 .\r\n",
      "drwxr--r-- 4 1001 1001 4.0K Jan 11 04:58 ..\r\n",
      "-rwxr--r-- 1 1001 1001 6.1K Jun 20  2023 .DS_Store\r\n",
      "-rwxr--r-- 1 1001 1001 4.0K Jun 20  2023 ._.DS_Store\r\n",
      "-rw-rw-r-- 1 1001 1001    0 Oct 13 18:48 __init__.py\r\n",
      "drwxrwxr-x 2 1001 1001 4.0K Oct 13 18:48 fine-tuning-results\r\n",
      "drwxrwxr-x 2 1001 1001 4.0K Oct 13 18:48 jsonl\r\n",
      "-rw-rw-r-- 1 1001 1001 1.6K Oct 13 18:48 munger.py\r\n",
      "-rw-rw-r-- 1 1001 1001  36K Dec 18 19:16 search-terms.txt\r\n",
      "-rw-rw-rw- 1 root root 583K Jan 16 18:31 search-xml-train-gpt.jsonl\r\n",
      "-rw-rw-r-- 1 1001 1001 7.0K Oct 13 18:48 synthetic-data-load-url-in-current-tab.txt\r\n",
      "-rw-rw-r-- 1 1001 1001 7.3K Oct 13 18:48 synthetic-data-load-url-new-tab.txt\r\n",
      "-rw-rw-r-- 1 1001 1001  13K Oct 13 18:48 synthetic-data-none-of-the-above.txt\r\n",
      "-rw-rw-r-- 1 1001 1001 8.5K Dec 17 00:42 synthetic-data-search-google-in-current-tab.txt\r\n",
      "-rw-rw-r-- 1 1001 1001  11K Oct 13 18:48 synthetic-data-search-google-in-new-tab.txt\r\n",
      "-rw-rw-r-- 1 1001 1001 8.5K Oct 13 18:48 synthetic-data-search-google-scholar-in-current-tab.txt\r\n",
      "-rw-rw-r-- 1 1001 1001  11K Oct 13 18:48 synthetic-data-search-google-scholar-in-new-tab.txt\r\n",
      "-rw-rw-r-- 1 1001 1001 7.6K Oct 13 18:48 synthetic-data-search-in-current-tab.txt\r\n",
      "-rw-rw-r-- 1 1001 1001 8.9K Dec 17 02:09 synthetic-data-search-in-new-tab.txt\r\n",
      "-rw-rw-r-- 1 1001 1001  723 Oct 13 18:48 training-commands.map\r\n",
      "-rw-rw-rw- 1 1001 1001 3.1M Dec 21 22:34 voice-commands-xml-test.jsonl\r\n",
      "-rw-rw-rw- 1 1001 1001  25M Dec 21 20:33 voice-commands-xml-train.jsonl\r\n",
      "-rw-rw-rw- 1 1001 1001 3.1M Dec 21 22:34 voice-commands-xml-validate.jsonl\r\n"
     ]
    }
   ],
   "source": [
    "! ls -alh /var/model/genie-in-the-box/src/ephemera/prompts/data"
   ],
   "metadata": {
    "collapsed": false,
    "ExecuteTime": {
     "end_time": "2024-01-16T18:31:59.514393Z",
     "start_time": "2024-01-16T18:31:59.364614Z"
    }
   },
   "id": "28dd26783fccfbaf"
  },
  {
   "cell_type": "code",
   "execution_count": 133,
   "outputs": [
    {
     "data": {
      "text/plain": "torch.float16"
     },
     "execution_count": 133,
     "metadata": {},
     "output_type": "execute_result"
    }
   ],
   "source": [
    "import torch\n",
    "\n",
    "getattr(torch, \"float16\")"
   ],
   "metadata": {
    "collapsed": false,
    "ExecuteTime": {
     "end_time": "2024-01-16T22:38:44.204450Z",
     "start_time": "2024-01-16T22:38:42.648719Z"
    }
   },
   "id": "72ddbb19f1dd5c23"
  },
  {
   "cell_type": "code",
   "execution_count": 13,
   "outputs": [
    {
     "data": {
      "text/plain": "'/var/model/genie-in-the-box/src'"
     },
     "execution_count": 13,
     "metadata": {},
     "output_type": "execute_result"
    }
   ],
   "source": [
    "os.getcwd()"
   ],
   "metadata": {
    "collapsed": false,
    "ExecuteTime": {
     "end_time": "2024-01-23T21:39:39.203710Z",
     "start_time": "2024-01-23T21:39:39.195136Z"
    }
   },
   "id": "1ab93c26c44ea720"
  },
  {
   "cell_type": "code",
   "execution_count": 14,
   "outputs": [],
   "source": [
    "from lib.utils.util_stopwatch import Stopwatch\n",
    "from ephemera.prompts.xml_fine_tuning_prompt_generator import XmlFineTuningPromptGenerator"
   ],
   "metadata": {
    "collapsed": false,
    "ExecuteTime": {
     "end_time": "2024-01-23T21:40:55.795732Z",
     "start_time": "2024-01-23T21:40:54.726857Z"
    }
   },
   "id": "87d38127f5eb8029"
  },
  {
   "cell_type": "code",
   "execution_count": 18,
   "outputs": [
    {
     "name": "stdout",
     "output_type": "stream",
     "text": [
      "Commands file for command [go to current tab] exists: True\n",
      "Commands file for command [go to new tab] exists: True\n",
      "Commands file for command [search google current tab] exists: True\n",
      "Commands file for command [search google new tab] exists: True\n",
      "Commands file for command [search google scholar current tab] exists: True\n",
      "Commands file for command [search google scholar new tab] exists: True\n",
      "Commands file for command [search current tab] exists: True\n",
      "Commands file for command [search new tab] exists: True\n",
      "Commands file for command [search perplexity current tab] exists: True\n",
      "Commands file for command [search perplexity new tab] exists: True\n",
      "Commands file for command [search phind current tab] exists: True\n",
      "Commands file for command [search phind new tab] exists: True\n",
      "\n",
      "Commands file for command [search using clipboard current tab] exists: True\n",
      "Commands file for command [search using clipboard new tab] exists: True\n",
      "Commands file for command [search google using clipboard current tab] exists: True\n",
      "Commands file for command [search google using clipboard new tab] exists: True\n",
      "Commands file for command [search google scholar using clipboard current tab] exists: True\n",
      "Commands file for command [search google scholar using clipboard new tab] exists: True\n",
      "Commands file for command [search perplexity using clipboard current tab] exists: True\n",
      "Commands file for command [search perplexity using clipboard new tab] exists: True\n",
      "Commands file for command [search phind using clipboard current tab] exists: True\n",
      "Commands file for command [search phind using clipboard new tab] exists: True\n",
      "Commands file for command [none] exists: True\n",
      "\n",
      "\n",
      "------------------------------------------------------------------------------------------------------------------------\n",
      "- Building prompts for compound command [go to current tab]\n",
      "------------------------------------------------------------------------------------------------------------------------\n",
      "................................................................................................................................................................................................................................................................................................................................................................................................................................................................................................................................................................................................................................................................................................................................................................................................................................................................................................................................................................................................................................................................................................................................................................................................................................................................................................................................................................................................................................................................................................................................................................................................................................................................................................................................................................................................................................................................................................................................................................................................................................................................................\n",
      "\n",
      "------------------------------------------------------------------------------------------------------------------------\n",
      "- Building prompts for compound command [go to new tab]\n",
      "------------------------------------------------------------------------------------------------------------------------\n",
      "................................................................................................................................................................................................................................................................................................................................................................................................................................................................................................................................................................................................................................................................................................................................................................................................................................................................................................................................................................................................................................................................................................................................................................................................................................................................................................................................................................................................................................................................................................................................................................................................................................................................................................................................................................................................................................................................................................................................................................................................................................................................................\n",
      "\n",
      "------------------------------------------------------------------------------------------------------------------------\n",
      "- Building prompts for compound command [search google current tab]\n",
      "------------------------------------------------------------------------------------------------------------------------\n",
      "................................................................................................................................................................................................................................................................................................................................................................................................................................................................................................................................................................................................................................................................................................................................................................................................................................................................................................................................................................................................................................................................................................................................................................................................................................................................................................................................................................................................................................................................................................................................................................................................................................................................................................................................................................................................................................................................................................................................................................................................................................................................................\n",
      "\n",
      "------------------------------------------------------------------------------------------------------------------------\n",
      "- Building prompts for compound command [search google new tab]\n",
      "------------------------------------------------------------------------------------------------------------------------\n",
      "................................................................................................................................................................................................................................................................................................................................................................................................................................................................................................................................................................................................................................................................................................................................................................................................................................................................................................................................................................................................................................................................................................................................................................................................................................................................................................................................................................................................................................................................................................................................................................................................................................................................................................................................................................................................................................................................................................................................................................................................................................................................................\n",
      "\n",
      "------------------------------------------------------------------------------------------------------------------------\n",
      "- Building prompts for compound command [search google scholar current tab]\n",
      "------------------------------------------------------------------------------------------------------------------------\n",
      "................................................................................................................................................................................................................................................................................................................................................................................................................................................................................................................................................................................................................................................................................................................................................................................................................................................................................................................................................................................................................................................................................................................................................................................................................................................................................................................................................................................................................................................................................................................................................................................................................................................................................................................................................................................................................................................................................................................................................................................................................................................................................\n",
      "\n",
      "------------------------------------------------------------------------------------------------------------------------\n",
      "- Building prompts for compound command [search google scholar new tab]\n",
      "------------------------------------------------------------------------------------------------------------------------\n",
      "................................................................................................................................................................................................................................................................................................................................................................................................................................................................................................................................................................................................................................................................................................................................................................................................................................................................................................................................................................................................................................................................................................................................................................................................................................................................................................................................................................................................................................................................................................................................................................................................................................................................................................................................................................................................................................................................................................................................................................................................................................................................................\n",
      "\n",
      "------------------------------------------------------------------------------------------------------------------------\n",
      "- Building prompts for compound command [search current tab]\n",
      "------------------------------------------------------------------------------------------------------------------------\n",
      "................................................................................................................................................................................................................................................................................................................................................................................................................................................................................................................................................................................................................................................................................................................................................................................................................................................................................................................................................................................................................................................................................................................................................................................................................................................................................................................................................................................................................................................................................................................................................................................................................................................................................................................................................................................................................................................................................................................................................................................................................................................................................\n",
      "\n",
      "------------------------------------------------------------------------------------------------------------------------\n",
      "- Building prompts for compound command [search new tab]\n",
      "------------------------------------------------------------------------------------------------------------------------\n",
      "................................................................................................................................................................................................................................................................................................................................................................................................................................................................................................................................................................................................................................................................................................................................................................................................................................................................................................................................................................................................................................................................................................................................................................................................................................................................................................................................................................................................................................................................................................................................................................................................................................................................................................................................................................................................................................................................................................................................................................................................................................................................................\n",
      "\n",
      "------------------------------------------------------------------------------------------------------------------------\n",
      "- Building prompts for compound command [search perplexity current tab]\n",
      "------------------------------------------------------------------------------------------------------------------------\n",
      "........................................................................................................................................................................................................................................................................................................................................................................................................................................................................................................................................................................................................................................................................................................................................................................................................................................................................................................................................................................................................................................\n",
      "\n",
      "------------------------------------------------------------------------------------------------------------------------\n",
      "- Building prompts for compound command [search perplexity new tab]\n",
      "------------------------------------------------------------------------------------------------------------------------\n",
      "........................................................................................................................................................................................................................................................................................................................................................................................................................................................................................................................................................................................................................................................................................................................................................................................................................................................................................................................................................................................................................................\n",
      "\n",
      "------------------------------------------------------------------------------------------------------------------------\n",
      "- Building prompts for compound command [search phind current tab]\n",
      "------------------------------------------------------------------------------------------------------------------------\n",
      "........................................................................................................................................................................................................................................................................................................................................................................................................................................................................................................................................................................................................................................................................................................................................................................................................................................................................................................................................................................................................................................\n",
      "\n",
      "------------------------------------------------------------------------------------------------------------------------\n",
      "- Building prompts for compound command [search phind new tab]\n",
      "------------------------------------------------------------------------------------------------------------------------\n",
      "..................................................................................................................................................................................................................................................................................................................................................................................................................................................................................................................................................................................................................................................................................................................................................................................................................................................................................................................................................................................................................................................\n",
      "\n",
      "------------------------------------------------------------------------------------------------------------------------\n",
      "- Pruning potential duplicates by 'input' values...\n",
      "------------------------------------------------------------------------------------------------------------------------\n",
      "\n",
      " PRE 200,100 training inputs...\n",
      "POST 193,715 training inputs. Deleted 6,385 rows = 3.2% duplicate questions\n",
      "\n",
      "------------------------------------------------------------------------------------------------------------------------\n",
      "- Building prompts for simple command [search using clipboard current tab]\n",
      "------------------------------------------------------------------------------------------------------------------------\n",
      "....................\n",
      "------------------------------------------------------------------------------------------------------------------------\n",
      "- Building prompts for simple command [search using clipboard new tab]\n",
      "------------------------------------------------------------------------------------------------------------------------\n",
      "....................\n",
      "------------------------------------------------------------------------------------------------------------------------\n",
      "- Building prompts for simple command [search google using clipboard current tab]\n",
      "------------------------------------------------------------------------------------------------------------------------\n",
      "....................\n",
      "------------------------------------------------------------------------------------------------------------------------\n",
      "- Building prompts for simple command [search google using clipboard new tab]\n",
      "------------------------------------------------------------------------------------------------------------------------\n",
      "....................\n",
      "------------------------------------------------------------------------------------------------------------------------\n",
      "- Building prompts for simple command [search google scholar using clipboard current tab]\n",
      "------------------------------------------------------------------------------------------------------------------------\n",
      "....................\n",
      "------------------------------------------------------------------------------------------------------------------------\n",
      "- Building prompts for simple command [search google scholar using clipboard new tab]\n",
      "------------------------------------------------------------------------------------------------------------------------\n",
      "....................\n",
      "------------------------------------------------------------------------------------------------------------------------\n",
      "- Building prompts for simple command [search perplexity using clipboard current tab]\n",
      "------------------------------------------------------------------------------------------------------------------------\n",
      "....................\n",
      "------------------------------------------------------------------------------------------------------------------------\n",
      "- Building prompts for simple command [search perplexity using clipboard new tab]\n",
      "------------------------------------------------------------------------------------------------------------------------\n",
      "....................\n",
      "------------------------------------------------------------------------------------------------------------------------\n",
      "- Building prompts for simple command [search phind using clipboard current tab]\n",
      "------------------------------------------------------------------------------------------------------------------------\n",
      "....................\n",
      "------------------------------------------------------------------------------------------------------------------------\n",
      "- Building prompts for simple command [search phind using clipboard new tab]\n",
      "------------------------------------------------------------------------------------------------------------------------\n",
      "....................\n",
      "------------------------------------------------------------------------------------------------------------------------\n",
      "- Building prompts for simple command [none]\n",
      "------------------------------------------------------------------------------------------------------------------------\n",
      "....................\n",
      "------------------------------------------------------------------------------------------------------------------------\n",
      "- Pruning potential duplicates by 'input' values...\n",
      "------------------------------------------------------------------------------------------------------------------------\n",
      "\n",
      " PRE 2,200 training inputs...\n",
      "POST 2,075 training inputs. Deleted 125 rows = 5.7% duplicate questions\n",
      "WARNING: Sample size [2,200] > rows_post [2,075]. Returning all [2,075] rows.\n",
      "\n",
      "------------------------------------------------------------------------------------------------------------------------\n",
      "- Command counts for all 14,075 training prompts\n",
      "------------------------------------------------------------------------------------------------------------------------\n",
      "\n",
      "                                              command  input\n",
      "0                                   go to current tab   1279\n",
      "1                                       go to new tab   1254\n",
      "2                                                none    176\n",
      "3                                  search current tab   1129\n",
      "4                           search google current tab   1169\n",
      "5                               search google new tab   1135\n",
      "6                   search google scholar current tab   1184\n",
      "7                       search google scholar new tab   1233\n",
      "8   search google scholar using clipboard current tab    199\n",
      "9       search google scholar using clipboard new tab    104\n",
      "10          search google using clipboard current tab    198\n",
      "11              search google using clipboard new tab    200\n",
      "12                                     search new tab   1182\n",
      "13                      search perplexity current tab    587\n",
      "14                          search perplexity new tab    605\n",
      "15      search perplexity using clipboard current tab    199\n",
      "16          search perplexity using clipboard new tab    200\n",
      "17                           search phind current tab    627\n",
      "18                               search phind new tab    616\n",
      "19           search phind using clipboard current tab    200\n",
      "20               search phind using clipboard new tab    200\n",
      "21                 search using clipboard current tab    199\n",
      "22                     search using clipboard new tab    200\n"
     ]
    }
   ],
   "source": [
    "%autoreload\n",
    "path_prefix = \"/var/model/genie-in-the-box\"\n",
    "\n",
    "xml_ftp_generator     = XmlFineTuningPromptGenerator( path_prefix=path_prefix, tgi_url=\"http://172.17.0.4:3000\", debug=False )\n",
    "# compound_qna_df       = xml_ftp_generator.build_compound_training_prompts()\n",
    "# simple_command_qna_df = xml_ftp_generator.build_simple_training_prompts()\n",
    "all_qna_df            = xml_ftp_generator.build_all_training_prompts()\n",
    "\n",
    "# for line in compound_qna_df.prompt[ 0 ].split( \"\\n\" ): print( line )\n",
    "# for line in simple_command_qna_df.prompt[ 0 ].split( \"\\n\" ): print( line )\n",
    "# for line in all_qna_df.prompt[ 0 ].split( \"\\n\" ): print( line )\n"
   ],
   "metadata": {
    "collapsed": false,
    "ExecuteTime": {
     "end_time": "2024-01-23T21:44:28.195176Z",
     "start_time": "2024-01-23T21:44:25.651993Z"
    }
   },
   "id": "c6506f6601a812be"
  },
  {
   "cell_type": "code",
   "execution_count": 20,
   "outputs": [
    {
     "name": "stdout",
     "output_type": "stream",
     "text": [
      "Commands file for command [go to current tab] exists: True\n",
      "Commands file for command [go to new tab] exists: True\n",
      "Commands file for command [search google current tab] exists: True\n",
      "Commands file for command [search google new tab] exists: True\n",
      "Commands file for command [search google scholar current tab] exists: True\n",
      "Commands file for command [search google scholar new tab] exists: True\n",
      "Commands file for command [search current tab] exists: True\n",
      "Commands file for command [search new tab] exists: True\n",
      "Commands file for command [search perplexity current tab] exists: True\n",
      "Commands file for command [search perplexity new tab] exists: True\n",
      "Commands file for command [search phind current tab] exists: True\n",
      "Commands file for command [search phind new tab] exists: True\n",
      "\n",
      "Commands file for command [search using clipboard current tab] exists: True\n",
      "Commands file for command [search using clipboard new tab] exists: True\n",
      "Commands file for command [search google using clipboard current tab] exists: True\n",
      "Commands file for command [search google using clipboard new tab] exists: True\n",
      "Commands file for command [search google scholar using clipboard current tab] exists: True\n",
      "Commands file for command [search google scholar using clipboard new tab] exists: True\n",
      "Commands file for command [search perplexity using clipboard current tab] exists: True\n",
      "Commands file for command [search perplexity using clipboard new tab] exists: True\n",
      "Commands file for command [search phind using clipboard current tab] exists: True\n",
      "Commands file for command [search phind using clipboard new tab] exists: True\n",
      "Commands file for command [none] exists: True\n"
     ]
    }
   ],
   "source": [
    "xml_ftp_generator     = XmlFineTuningPromptGenerator( path_prefix=path_prefix, tgi_url=\"http://172.17.0.4:3000\", debug=False )"
   ],
   "metadata": {
    "collapsed": false,
    "ExecuteTime": {
     "end_time": "2024-01-23T21:50:15.045066Z",
     "start_time": "2024-01-23T21:50:14.945290Z"
    }
   },
   "id": "ed0548558d410b92"
  },
  {
   "cell_type": "code",
   "execution_count": 25,
   "outputs": [
    {
     "name": "stdout",
     "output_type": "stream",
     "text": [
      "\n",
      "------------------------------------------------------------------------------------------------------------------------\n",
      "- Writing train, test, validate splits to jsonl...\n",
      "------------------------------------------------------------------------------------------------------------------------\n",
      "\n",
      "   train_df.shape: 800 x 6\n",
      "    test_df.shape: 100 x 6\n",
      "validate_df.shape: 100 x 6\n",
      "Generating responses for 100 rows...\n",
      "Using TGI w/ model_name [mistralai/Mistral-7B-Instruct-v0.2-AWQ]...\n",
      "Processing call [001] out of [100] = [1.0%]... \n",
      "Asking LLM [mistralai/Mistral-7B-Instruct-v0.2-AWQ]...\n",
      "..................................................\n",
      "Asking LLM [mistralai/Mistral-7B-Instruct-v0.2-AWQ]... Done! in 602 ms\n",
      "Tokens per second [83.1]\n",
      "Processing call [002] out of [100] = [2.0%]... \n",
      "Asking LLM [mistralai/Mistral-7B-Instruct-v0.2-AWQ]...\n",
      "......................................\n",
      "Asking LLM [mistralai/Mistral-7B-Instruct-v0.2-AWQ]... Done! in 478 ms\n",
      "Tokens per second [79.5]\n",
      "Processing call [003] out of [100] = [3.0%]... \n",
      "Asking LLM [mistralai/Mistral-7B-Instruct-v0.2-AWQ]...\n",
      "........................................\n",
      "Asking LLM [mistralai/Mistral-7B-Instruct-v0.2-AWQ]... Done! in 494 ms\n",
      "Tokens per second [81.0]\n",
      "Processing call [004] out of [100] = [4.0%]... \n",
      "Asking LLM [mistralai/Mistral-7B-Instruct-v0.2-AWQ]...\n",
      "....................................\n",
      "Asking LLM [mistralai/Mistral-7B-Instruct-v0.2-AWQ]... Done! in 456 ms\n",
      "Tokens per second [78.9]\n",
      "Processing call [005] out of [100] = [5.0%]... \n",
      "Asking LLM [mistralai/Mistral-7B-Instruct-v0.2-AWQ]...\n",
      "...............................................\n",
      "Asking LLM [mistralai/Mistral-7B-Instruct-v0.2-AWQ]... Done! in 566 ms\n",
      "Tokens per second [83.0]\n",
      "Processing call [006] out of [100] = [6.0%]... \n",
      "Asking LLM [mistralai/Mistral-7B-Instruct-v0.2-AWQ]...\n",
      "..................................................\n",
      "Asking LLM [mistralai/Mistral-7B-Instruct-v0.2-AWQ]... Done! in 597 ms\n",
      "Tokens per second [83.8]\n",
      "Processing call [007] out of [100] = [7.0%]... \n",
      "Asking LLM [mistralai/Mistral-7B-Instruct-v0.2-AWQ]...\n",
      "........................................\n",
      "Asking LLM [mistralai/Mistral-7B-Instruct-v0.2-AWQ]... Done! in 498 ms\n",
      "Tokens per second [80.3]\n",
      "Processing call [008] out of [100] = [8.0%]... \n",
      "Asking LLM [mistralai/Mistral-7B-Instruct-v0.2-AWQ]...\n",
      "..........................................\n",
      "Asking LLM [mistralai/Mistral-7B-Instruct-v0.2-AWQ]... Done! in 521 ms\n",
      "Tokens per second [80.6]\n",
      "Processing call [009] out of [100] = [9.0%]... \n",
      "Asking LLM [mistralai/Mistral-7B-Instruct-v0.2-AWQ]...\n",
      "....................................................\n",
      "Asking LLM [mistralai/Mistral-7B-Instruct-v0.2-AWQ]... Done! in 621 ms\n",
      "Tokens per second [83.7]\n",
      "Processing call [010] out of [100] = [10.0%]... \n",
      "Asking LLM [mistralai/Mistral-7B-Instruct-v0.2-AWQ]...\n",
      ".................................................\n",
      "Asking LLM [mistralai/Mistral-7B-Instruct-v0.2-AWQ]... Done! in 591 ms\n",
      "Tokens per second [82.9]\n",
      "Processing call [011] out of [100] = [11.0%]... \n",
      "Asking LLM [mistralai/Mistral-7B-Instruct-v0.2-AWQ]...\n",
      "....................................\n",
      "Asking LLM [mistralai/Mistral-7B-Instruct-v0.2-AWQ]... Done! in 461 ms\n",
      "Tokens per second [78.1]\n",
      "Processing call [012] out of [100] = [12.0%]... \n",
      "Asking LLM [mistralai/Mistral-7B-Instruct-v0.2-AWQ]...\n",
      "......................................\n",
      "Asking LLM [mistralai/Mistral-7B-Instruct-v0.2-AWQ]... Done! in 479 ms\n",
      "Tokens per second [79.3]\n",
      "Processing call [013] out of [100] = [13.0%]... \n",
      "Asking LLM [mistralai/Mistral-7B-Instruct-v0.2-AWQ]...\n",
      "..........................................\n",
      "Asking LLM [mistralai/Mistral-7B-Instruct-v0.2-AWQ]... Done! in 519 ms\n",
      "Tokens per second [80.9]\n",
      "Processing call [014] out of [100] = [14.0%]... \n",
      "Asking LLM [mistralai/Mistral-7B-Instruct-v0.2-AWQ]...\n",
      ".......................................\n",
      "Asking LLM [mistralai/Mistral-7B-Instruct-v0.2-AWQ]... Done! in 490 ms\n",
      "Tokens per second [79.6]\n",
      "Processing call [015] out of [100] = [15.0%]... \n",
      "Asking LLM [mistralai/Mistral-7B-Instruct-v0.2-AWQ]...\n",
      "...................................\n",
      "Asking LLM [mistralai/Mistral-7B-Instruct-v0.2-AWQ]... Done! in 455 ms\n",
      "Tokens per second [76.9]\n",
      "Processing call [016] out of [100] = [16.0%]... \n",
      "Asking LLM [mistralai/Mistral-7B-Instruct-v0.2-AWQ]...\n",
      "...........................................\n",
      "Asking LLM [mistralai/Mistral-7B-Instruct-v0.2-AWQ]... Done! in 530 ms\n",
      "Tokens per second [81.1]\n",
      "Processing call [017] out of [100] = [17.0%]... \n",
      "Asking LLM [mistralai/Mistral-7B-Instruct-v0.2-AWQ]...\n",
      "......................................\n",
      "Asking LLM [mistralai/Mistral-7B-Instruct-v0.2-AWQ]... Done! in 481 ms\n",
      "Tokens per second [79.0]\n",
      "Processing call [018] out of [100] = [18.0%]... \n",
      "Asking LLM [mistralai/Mistral-7B-Instruct-v0.2-AWQ]...\n",
      "...................................................\n",
      "Asking LLM [mistralai/Mistral-7B-Instruct-v0.2-AWQ]... Done! in 609 ms\n",
      "Tokens per second [83.7]\n",
      "Processing call [019] out of [100] = [19.0%]... \n",
      "Asking LLM [mistralai/Mistral-7B-Instruct-v0.2-AWQ]...\n",
      ".....................................\n",
      "Asking LLM [mistralai/Mistral-7B-Instruct-v0.2-AWQ]... Done! in 471 ms\n",
      "Tokens per second [78.6]\n",
      "Processing call [020] out of [100] = [20.0%]... \n",
      "Asking LLM [mistralai/Mistral-7B-Instruct-v0.2-AWQ]...\n",
      ".........................................\n",
      "Asking LLM [mistralai/Mistral-7B-Instruct-v0.2-AWQ]... Done! in 509 ms\n",
      "Tokens per second [80.6]\n",
      "Processing call [021] out of [100] = [21.0%]... \n",
      "Asking LLM [mistralai/Mistral-7B-Instruct-v0.2-AWQ]...\n",
      "...............................................\n",
      "Asking LLM [mistralai/Mistral-7B-Instruct-v0.2-AWQ]... Done! in 571 ms\n",
      "Tokens per second [82.3]\n",
      "Processing call [022] out of [100] = [22.0%]... \n",
      "Asking LLM [mistralai/Mistral-7B-Instruct-v0.2-AWQ]...\n",
      "...................................\n",
      "Asking LLM [mistralai/Mistral-7B-Instruct-v0.2-AWQ]... Done! in 451 ms\n",
      "Tokens per second [77.6]\n",
      "Processing call [023] out of [100] = [23.0%]... \n",
      "Asking LLM [mistralai/Mistral-7B-Instruct-v0.2-AWQ]...\n",
      "...............................................\n",
      "Asking LLM [mistralai/Mistral-7B-Instruct-v0.2-AWQ]... Done! in 574 ms\n",
      "Tokens per second [81.9]\n",
      "Processing call [024] out of [100] = [24.0%]... \n",
      "Asking LLM [mistralai/Mistral-7B-Instruct-v0.2-AWQ]...\n",
      "........................................\n",
      "Asking LLM [mistralai/Mistral-7B-Instruct-v0.2-AWQ]... Done! in 502 ms\n",
      "Tokens per second [79.7]\n",
      "Processing call [025] out of [100] = [25.0%]... \n",
      "Asking LLM [mistralai/Mistral-7B-Instruct-v0.2-AWQ]...\n",
      "..........................................\n",
      "Asking LLM [mistralai/Mistral-7B-Instruct-v0.2-AWQ]... Done! in 519 ms\n",
      "Tokens per second [80.9]\n",
      "Processing call [026] out of [100] = [26.0%]... \n",
      "Asking LLM [mistralai/Mistral-7B-Instruct-v0.2-AWQ]...\n",
      ".......................................\n",
      "Asking LLM [mistralai/Mistral-7B-Instruct-v0.2-AWQ]... Done! in 492 ms\n",
      "Tokens per second [79.3]\n",
      "Processing call [027] out of [100] = [27.0%]... \n",
      "Asking LLM [mistralai/Mistral-7B-Instruct-v0.2-AWQ]...\n",
      "...................................\n",
      "Asking LLM [mistralai/Mistral-7B-Instruct-v0.2-AWQ]... Done! in 450 ms\n",
      "Tokens per second [77.8]\n",
      "Processing call [028] out of [100] = [28.0%]... \n",
      "Asking LLM [mistralai/Mistral-7B-Instruct-v0.2-AWQ]...\n",
      "..........................................\n",
      "Asking LLM [mistralai/Mistral-7B-Instruct-v0.2-AWQ]... Done! in 523 ms\n",
      "Tokens per second [80.3]\n",
      "Processing call [029] out of [100] = [29.0%]... \n",
      "Asking LLM [mistralai/Mistral-7B-Instruct-v0.2-AWQ]...\n",
      "...................................................\n",
      "Asking LLM [mistralai/Mistral-7B-Instruct-v0.2-AWQ]... Done! in 613 ms\n",
      "Tokens per second [83.2]\n",
      "Processing call [030] out of [100] = [30.0%]... \n",
      "Asking LLM [mistralai/Mistral-7B-Instruct-v0.2-AWQ]...\n",
      "......................................\n",
      "Asking LLM [mistralai/Mistral-7B-Instruct-v0.2-AWQ]... Done! in 482 ms\n",
      "Tokens per second [78.8]\n",
      "Processing call [031] out of [100] = [31.0%]... \n",
      "Asking LLM [mistralai/Mistral-7B-Instruct-v0.2-AWQ]...\n",
      "......................................\n",
      "Asking LLM [mistralai/Mistral-7B-Instruct-v0.2-AWQ]... Done! in 481 ms\n",
      "Tokens per second [79.0]\n",
      "Processing call [032] out of [100] = [32.0%]... \n",
      "Asking LLM [mistralai/Mistral-7B-Instruct-v0.2-AWQ]...\n",
      "...................................\n",
      "Asking LLM [mistralai/Mistral-7B-Instruct-v0.2-AWQ]... Done! in 450 ms\n",
      "Tokens per second [77.8]\n",
      "Processing call [033] out of [100] = [33.0%]... \n",
      "Asking LLM [mistralai/Mistral-7B-Instruct-v0.2-AWQ]...\n",
      ".........................................\n",
      "Asking LLM [mistralai/Mistral-7B-Instruct-v0.2-AWQ]... Done! in 510 ms\n",
      "Tokens per second [80.4]\n",
      "Processing call [034] out of [100] = [34.0%]... \n",
      "Asking LLM [mistralai/Mistral-7B-Instruct-v0.2-AWQ]...\n",
      ".......................................\n",
      "Asking LLM [mistralai/Mistral-7B-Instruct-v0.2-AWQ]... Done! in 489 ms\n",
      "Tokens per second [79.8]\n",
      "Processing call [035] out of [100] = [35.0%]... \n",
      "Asking LLM [mistralai/Mistral-7B-Instruct-v0.2-AWQ]...\n",
      "........................................\n",
      "Asking LLM [mistralai/Mistral-7B-Instruct-v0.2-AWQ]... Done! in 503 ms\n",
      "Tokens per second [79.5]\n",
      "Processing call [036] out of [100] = [36.0%]... \n",
      "Asking LLM [mistralai/Mistral-7B-Instruct-v0.2-AWQ]...\n",
      ".......................................\n",
      "Asking LLM [mistralai/Mistral-7B-Instruct-v0.2-AWQ]... Done! in 494 ms\n",
      "Tokens per second [78.9]\n",
      "Processing call [037] out of [100] = [37.0%]... \n",
      "Asking LLM [mistralai/Mistral-7B-Instruct-v0.2-AWQ]...\n",
      ".......................................\n",
      "Asking LLM [mistralai/Mistral-7B-Instruct-v0.2-AWQ]... Done! in 491 ms\n",
      "Tokens per second [79.4]\n",
      "Processing call [038] out of [100] = [38.0%]... \n",
      "Asking LLM [mistralai/Mistral-7B-Instruct-v0.2-AWQ]...\n",
      "............................................................\n",
      "Asking LLM [mistralai/Mistral-7B-Instruct-v0.2-AWQ]... Done! in 703 ms\n",
      "Tokens per second [85.3]\n",
      "Processing call [039] out of [100] = [39.0%]... \n",
      "Asking LLM [mistralai/Mistral-7B-Instruct-v0.2-AWQ]...\n",
      ".....................................\n",
      "Asking LLM [mistralai/Mistral-7B-Instruct-v0.2-AWQ]... Done! in 468 ms\n",
      "Tokens per second [79.1]\n",
      "Processing call [040] out of [100] = [40.0%]... \n",
      "Asking LLM [mistralai/Mistral-7B-Instruct-v0.2-AWQ]...\n",
      "........................................\n",
      "Asking LLM [mistralai/Mistral-7B-Instruct-v0.2-AWQ]... Done! in 499 ms\n",
      "Tokens per second [80.2]\n",
      "Processing call [041] out of [100] = [41.0%]... \n",
      "Asking LLM [mistralai/Mistral-7B-Instruct-v0.2-AWQ]...\n",
      ".................................................\n",
      "Asking LLM [mistralai/Mistral-7B-Instruct-v0.2-AWQ]... Done! in 586 ms\n",
      "Tokens per second [83.6]\n",
      "Processing call [042] out of [100] = [42.0%]... \n",
      "Asking LLM [mistralai/Mistral-7B-Instruct-v0.2-AWQ]...\n",
      "........................................\n",
      "Asking LLM [mistralai/Mistral-7B-Instruct-v0.2-AWQ]... Done! in 500 ms\n",
      "Tokens per second [80.0]\n",
      "Processing call [043] out of [100] = [43.0%]... \n",
      "Asking LLM [mistralai/Mistral-7B-Instruct-v0.2-AWQ]...\n",
      ".....................................\n",
      "Asking LLM [mistralai/Mistral-7B-Instruct-v0.2-AWQ]... Done! in 469 ms\n",
      "Tokens per second [78.9]\n",
      "Processing call [044] out of [100] = [44.0%]... \n",
      "Asking LLM [mistralai/Mistral-7B-Instruct-v0.2-AWQ]...\n",
      ".......................................\n",
      "Asking LLM [mistralai/Mistral-7B-Instruct-v0.2-AWQ]... Done! in 488 ms\n",
      "Tokens per second [79.9]\n",
      "Processing call [045] out of [100] = [45.0%]... \n",
      "Asking LLM [mistralai/Mistral-7B-Instruct-v0.2-AWQ]...\n",
      ".....................................\n",
      "Asking LLM [mistralai/Mistral-7B-Instruct-v0.2-AWQ]... Done! in 467 ms\n",
      "Tokens per second [79.2]\n",
      "Processing call [046] out of [100] = [46.0%]... \n",
      "Asking LLM [mistralai/Mistral-7B-Instruct-v0.2-AWQ]...\n",
      ".......................................\n",
      "Asking LLM [mistralai/Mistral-7B-Instruct-v0.2-AWQ]... Done! in 486 ms\n",
      "Tokens per second [80.2]\n",
      "Processing call [047] out of [100] = [47.0%]... \n",
      "Asking LLM [mistralai/Mistral-7B-Instruct-v0.2-AWQ]...\n",
      ".....................................\n",
      "Asking LLM [mistralai/Mistral-7B-Instruct-v0.2-AWQ]... Done! in 477 ms\n",
      "Tokens per second [77.6]\n",
      "Processing call [048] out of [100] = [48.0%]... \n",
      "Asking LLM [mistralai/Mistral-7B-Instruct-v0.2-AWQ]...\n",
      "..........................................\n",
      "Asking LLM [mistralai/Mistral-7B-Instruct-v0.2-AWQ]... Done! in 521 ms\n",
      "Tokens per second [80.6]\n",
      "Processing call [049] out of [100] = [49.0%]... \n",
      "Asking LLM [mistralai/Mistral-7B-Instruct-v0.2-AWQ]...\n",
      ".....................................\n",
      "Asking LLM [mistralai/Mistral-7B-Instruct-v0.2-AWQ]... Done! in 472 ms\n",
      "Tokens per second [78.4]\n",
      "Processing call [050] out of [100] = [50.0%]... \n",
      "Asking LLM [mistralai/Mistral-7B-Instruct-v0.2-AWQ]...\n",
      "...........................................\n",
      "Asking LLM [mistralai/Mistral-7B-Instruct-v0.2-AWQ]... Done! in 528 ms\n",
      "Tokens per second [81.4]\n",
      "Processing call [051] out of [100] = [51.0%]... \n",
      "Asking LLM [mistralai/Mistral-7B-Instruct-v0.2-AWQ]...\n",
      "........................................\n",
      "Asking LLM [mistralai/Mistral-7B-Instruct-v0.2-AWQ]... Done! in 501 ms\n",
      "Tokens per second [79.8]\n",
      "Processing call [052] out of [100] = [52.0%]... \n",
      "Asking LLM [mistralai/Mistral-7B-Instruct-v0.2-AWQ]...\n",
      ".....................................\n",
      "Asking LLM [mistralai/Mistral-7B-Instruct-v0.2-AWQ]... Done! in 471 ms\n",
      "Tokens per second [78.6]\n",
      "Processing call [053] out of [100] = [53.0%]... \n",
      "Asking LLM [mistralai/Mistral-7B-Instruct-v0.2-AWQ]...\n",
      ".......................................\n",
      "Asking LLM [mistralai/Mistral-7B-Instruct-v0.2-AWQ]... Done! in 491 ms\n",
      "Tokens per second [79.4]\n",
      "Processing call [054] out of [100] = [54.0%]... \n",
      "Asking LLM [mistralai/Mistral-7B-Instruct-v0.2-AWQ]...\n",
      "...................................................\n",
      "Asking LLM [mistralai/Mistral-7B-Instruct-v0.2-AWQ]... Done! in 613 ms\n",
      "Tokens per second [83.2]\n",
      "Processing call [055] out of [100] = [55.0%]... \n",
      "Asking LLM [mistralai/Mistral-7B-Instruct-v0.2-AWQ]...\n",
      "...........................................\n",
      "Asking LLM [mistralai/Mistral-7B-Instruct-v0.2-AWQ]... Done! in 533 ms\n",
      "Tokens per second [80.7]\n",
      "Processing call [056] out of [100] = [56.0%]... \n",
      "Asking LLM [mistralai/Mistral-7B-Instruct-v0.2-AWQ]...\n",
      ".........................................\n",
      "Asking LLM [mistralai/Mistral-7B-Instruct-v0.2-AWQ]... Done! in 513 ms\n",
      "Tokens per second [79.9]\n",
      "Processing call [057] out of [100] = [57.0%]... \n",
      "Asking LLM [mistralai/Mistral-7B-Instruct-v0.2-AWQ]...\n",
      "..........................................\n",
      "Asking LLM [mistralai/Mistral-7B-Instruct-v0.2-AWQ]... Done! in 528 ms\n",
      "Tokens per second [79.5]\n",
      "Processing call [058] out of [100] = [58.0%]... \n",
      "Asking LLM [mistralai/Mistral-7B-Instruct-v0.2-AWQ]...\n",
      "...........................................\n",
      "Asking LLM [mistralai/Mistral-7B-Instruct-v0.2-AWQ]... Done! in 535 ms\n",
      "Tokens per second [80.4]\n",
      "Processing call [059] out of [100] = [59.0%]... \n",
      "Asking LLM [mistralai/Mistral-7B-Instruct-v0.2-AWQ]...\n",
      ".......................................\n",
      "Asking LLM [mistralai/Mistral-7B-Instruct-v0.2-AWQ]... Done! in 493 ms\n",
      "Tokens per second [79.1]\n",
      "Processing call [060] out of [100] = [60.0%]... \n",
      "Asking LLM [mistralai/Mistral-7B-Instruct-v0.2-AWQ]...\n",
      "..............................................\n",
      "Asking LLM [mistralai/Mistral-7B-Instruct-v0.2-AWQ]... Done! in 564 ms\n",
      "Tokens per second [81.6]\n",
      "Processing call [061] out of [100] = [61.0%]... \n",
      "Asking LLM [mistralai/Mistral-7B-Instruct-v0.2-AWQ]...\n",
      "......................................\n",
      "Asking LLM [mistralai/Mistral-7B-Instruct-v0.2-AWQ]... Done! in 483 ms\n",
      "Tokens per second [78.7]\n",
      "Processing call [062] out of [100] = [62.0%]... \n",
      "Asking LLM [mistralai/Mistral-7B-Instruct-v0.2-AWQ]...\n",
      "..........................................\n",
      "Asking LLM [mistralai/Mistral-7B-Instruct-v0.2-AWQ]... Done! in 526 ms\n",
      "Tokens per second [79.8]\n",
      "Processing call [063] out of [100] = [63.0%]... \n",
      "Asking LLM [mistralai/Mistral-7B-Instruct-v0.2-AWQ]...\n",
      ".....................................\n",
      "Asking LLM [mistralai/Mistral-7B-Instruct-v0.2-AWQ]... Done! in 475 ms\n",
      "Tokens per second [77.9]\n",
      "Processing call [064] out of [100] = [64.0%]... \n",
      "Asking LLM [mistralai/Mistral-7B-Instruct-v0.2-AWQ]...\n",
      "....................................\n",
      "Asking LLM [mistralai/Mistral-7B-Instruct-v0.2-AWQ]... Done! in 464 ms\n",
      "Tokens per second [77.6]\n",
      "Processing call [065] out of [100] = [65.0%]... \n",
      "Asking LLM [mistralai/Mistral-7B-Instruct-v0.2-AWQ]...\n",
      "...........................................\n",
      "Asking LLM [mistralai/Mistral-7B-Instruct-v0.2-AWQ]... Done! in 535 ms\n",
      "Tokens per second [80.4]\n",
      "Processing call [066] out of [100] = [66.0%]... \n",
      "Asking LLM [mistralai/Mistral-7B-Instruct-v0.2-AWQ]...\n",
      "........................................\n",
      "Asking LLM [mistralai/Mistral-7B-Instruct-v0.2-AWQ]... Done! in 503 ms\n",
      "Tokens per second [79.5]\n",
      "Processing call [067] out of [100] = [67.0%]... \n",
      "Asking LLM [mistralai/Mistral-7B-Instruct-v0.2-AWQ]...\n",
      ".............................................\n",
      "Asking LLM [mistralai/Mistral-7B-Instruct-v0.2-AWQ]... Done! in 555 ms\n",
      "Tokens per second [81.1]\n",
      "Processing call [068] out of [100] = [68.0%]... \n",
      "Asking LLM [mistralai/Mistral-7B-Instruct-v0.2-AWQ]...\n",
      ".....................................\n",
      "Asking LLM [mistralai/Mistral-7B-Instruct-v0.2-AWQ]... Done! in 470 ms\n",
      "Tokens per second [78.7]\n",
      "Processing call [069] out of [100] = [69.0%]... \n",
      "Asking LLM [mistralai/Mistral-7B-Instruct-v0.2-AWQ]...\n",
      "...................................\n",
      "Asking LLM [mistralai/Mistral-7B-Instruct-v0.2-AWQ]... Done! in 449 ms\n",
      "Tokens per second [78.0]\n",
      "Processing call [070] out of [100] = [70.0%]... \n",
      "Asking LLM [mistralai/Mistral-7B-Instruct-v0.2-AWQ]...\n",
      ".....................................\n",
      "Asking LLM [mistralai/Mistral-7B-Instruct-v0.2-AWQ]... Done! in 469 ms\n",
      "Tokens per second [78.9]\n",
      "Processing call [071] out of [100] = [71.0%]... \n",
      "Asking LLM [mistralai/Mistral-7B-Instruct-v0.2-AWQ]...\n",
      ".......................................\n",
      "Asking LLM [mistralai/Mistral-7B-Instruct-v0.2-AWQ]... Done! in 493 ms\n",
      "Tokens per second [79.1]\n",
      "Processing call [072] out of [100] = [72.0%]... \n",
      "Asking LLM [mistralai/Mistral-7B-Instruct-v0.2-AWQ]...\n",
      ".....................................\n",
      "Asking LLM [mistralai/Mistral-7B-Instruct-v0.2-AWQ]... Done! in 473 ms\n",
      "Tokens per second [78.2]\n",
      "Processing call [073] out of [100] = [73.0%]... \n",
      "Asking LLM [mistralai/Mistral-7B-Instruct-v0.2-AWQ]...\n",
      ".........................................\n",
      "Asking LLM [mistralai/Mistral-7B-Instruct-v0.2-AWQ]... Done! in 509 ms\n",
      "Tokens per second [80.6]\n",
      "Processing call [074] out of [100] = [74.0%]... \n",
      "Asking LLM [mistralai/Mistral-7B-Instruct-v0.2-AWQ]...\n",
      ".........................................\n",
      "Asking LLM [mistralai/Mistral-7B-Instruct-v0.2-AWQ]... Done! in 513 ms\n",
      "Tokens per second [79.9]\n",
      "Processing call [075] out of [100] = [75.0%]... \n",
      "Asking LLM [mistralai/Mistral-7B-Instruct-v0.2-AWQ]...\n",
      "........................................\n",
      "Asking LLM [mistralai/Mistral-7B-Instruct-v0.2-AWQ]... Done! in 503 ms\n",
      "Tokens per second [79.5]\n",
      "Processing call [076] out of [100] = [76.0%]... \n",
      "Asking LLM [mistralai/Mistral-7B-Instruct-v0.2-AWQ]...\n",
      "...................................\n",
      "Asking LLM [mistralai/Mistral-7B-Instruct-v0.2-AWQ]... Done! in 452 ms\n",
      "Tokens per second [77.4]\n",
      "Processing call [077] out of [100] = [77.0%]... \n",
      "Asking LLM [mistralai/Mistral-7B-Instruct-v0.2-AWQ]...\n",
      "....................................................\n",
      "Asking LLM [mistralai/Mistral-7B-Instruct-v0.2-AWQ]... Done! in 621 ms\n",
      "Tokens per second [83.7]\n",
      "Processing call [078] out of [100] = [78.0%]... \n",
      "Asking LLM [mistralai/Mistral-7B-Instruct-v0.2-AWQ]...\n",
      "......................................\n",
      "Asking LLM [mistralai/Mistral-7B-Instruct-v0.2-AWQ]... Done! in 485 ms\n",
      "Tokens per second [78.4]\n",
      "Processing call [079] out of [100] = [79.0%]... \n",
      "Asking LLM [mistralai/Mistral-7B-Instruct-v0.2-AWQ]...\n",
      "...............................................\n",
      "Asking LLM [mistralai/Mistral-7B-Instruct-v0.2-AWQ]... Done! in 574 ms\n",
      "Tokens per second [81.9]\n",
      "Processing call [080] out of [100] = [80.0%]... \n",
      "Asking LLM [mistralai/Mistral-7B-Instruct-v0.2-AWQ]...\n",
      "..........................................\n",
      "Asking LLM [mistralai/Mistral-7B-Instruct-v0.2-AWQ]... Done! in 524 ms\n",
      "Tokens per second [80.2]\n",
      "Processing call [081] out of [100] = [81.0%]... \n",
      "Asking LLM [mistralai/Mistral-7B-Instruct-v0.2-AWQ]...\n",
      "..........................................\n",
      "Asking LLM [mistralai/Mistral-7B-Instruct-v0.2-AWQ]... Done! in 521 ms\n",
      "Tokens per second [80.6]\n",
      "Processing call [082] out of [100] = [82.0%]... \n",
      "Asking LLM [mistralai/Mistral-7B-Instruct-v0.2-AWQ]...\n",
      "............................................\n",
      "Asking LLM [mistralai/Mistral-7B-Instruct-v0.2-AWQ]... Done! in 542 ms\n",
      "Tokens per second [81.2]\n",
      "Processing call [083] out of [100] = [83.0%]... \n",
      "Asking LLM [mistralai/Mistral-7B-Instruct-v0.2-AWQ]...\n",
      ".....................................\n",
      "Asking LLM [mistralai/Mistral-7B-Instruct-v0.2-AWQ]... Done! in 472 ms\n",
      "Tokens per second [78.4]\n",
      "Processing call [084] out of [100] = [84.0%]... \n",
      "Asking LLM [mistralai/Mistral-7B-Instruct-v0.2-AWQ]...\n",
      "............................................\n",
      "Asking LLM [mistralai/Mistral-7B-Instruct-v0.2-AWQ]... Done! in 540 ms\n",
      "Tokens per second [81.5]\n",
      "Processing call [085] out of [100] = [85.0%]... \n",
      "Asking LLM [mistralai/Mistral-7B-Instruct-v0.2-AWQ]...\n",
      "......................................\n",
      "Asking LLM [mistralai/Mistral-7B-Instruct-v0.2-AWQ]... Done! in 482 ms\n",
      "Tokens per second [78.8]\n",
      "Processing call [086] out of [100] = [86.0%]... \n",
      "Asking LLM [mistralai/Mistral-7B-Instruct-v0.2-AWQ]...\n",
      "...................................................\n",
      "Asking LLM [mistralai/Mistral-7B-Instruct-v0.2-AWQ]... Done! in 608 ms\n",
      "Tokens per second [83.9]\n",
      "Processing call [087] out of [100] = [87.0%]... \n",
      "Asking LLM [mistralai/Mistral-7B-Instruct-v0.2-AWQ]...\n",
      "....................................\n",
      "Asking LLM [mistralai/Mistral-7B-Instruct-v0.2-AWQ]... Done! in 464 ms\n",
      "Tokens per second [77.6]\n",
      "Processing call [088] out of [100] = [88.0%]... \n",
      "Asking LLM [mistralai/Mistral-7B-Instruct-v0.2-AWQ]...\n",
      "..........................................\n",
      "Asking LLM [mistralai/Mistral-7B-Instruct-v0.2-AWQ]... Done! in 521 ms\n",
      "Tokens per second [80.6]\n",
      "Processing call [089] out of [100] = [89.0%]... \n",
      "Asking LLM [mistralai/Mistral-7B-Instruct-v0.2-AWQ]...\n",
      "..........................................\n",
      "Asking LLM [mistralai/Mistral-7B-Instruct-v0.2-AWQ]... Done! in 523 ms\n",
      "Tokens per second [80.3]\n",
      "Processing call [090] out of [100] = [90.0%]... \n",
      "Asking LLM [mistralai/Mistral-7B-Instruct-v0.2-AWQ]...\n",
      "...........................................\n",
      "Asking LLM [mistralai/Mistral-7B-Instruct-v0.2-AWQ]... Done! in 534 ms\n",
      "Tokens per second [80.5]\n",
      "Processing call [091] out of [100] = [91.0%]... \n",
      "Asking LLM [mistralai/Mistral-7B-Instruct-v0.2-AWQ]...\n",
      "....................................\n",
      "Asking LLM [mistralai/Mistral-7B-Instruct-v0.2-AWQ]... Done! in 463 ms\n",
      "Tokens per second [77.8]\n",
      "Processing call [092] out of [100] = [92.0%]... \n",
      "Asking LLM [mistralai/Mistral-7B-Instruct-v0.2-AWQ]...\n",
      "..........................................\n",
      "Asking LLM [mistralai/Mistral-7B-Instruct-v0.2-AWQ]... Done! in 523 ms\n",
      "Tokens per second [80.3]\n",
      "Processing call [093] out of [100] = [93.0%]... \n",
      "Asking LLM [mistralai/Mistral-7B-Instruct-v0.2-AWQ]...\n",
      "........................................\n",
      "Asking LLM [mistralai/Mistral-7B-Instruct-v0.2-AWQ]... Done! in 506 ms\n",
      "Tokens per second [79.1]\n",
      "Processing call [094] out of [100] = [94.0%]... \n",
      "Asking LLM [mistralai/Mistral-7B-Instruct-v0.2-AWQ]...\n",
      "....................................\n",
      "Asking LLM [mistralai/Mistral-7B-Instruct-v0.2-AWQ]... Done! in 466 ms\n",
      "Tokens per second [77.3]\n",
      "Processing call [095] out of [100] = [95.0%]... \n",
      "Asking LLM [mistralai/Mistral-7B-Instruct-v0.2-AWQ]...\n",
      "..................................................\n",
      "Asking LLM [mistralai/Mistral-7B-Instruct-v0.2-AWQ]... Done! in 600 ms\n",
      "Tokens per second [83.3]\n",
      "Processing call [096] out of [100] = [96.0%]... \n",
      "Asking LLM [mistralai/Mistral-7B-Instruct-v0.2-AWQ]...\n",
      "........................................\n",
      "Asking LLM [mistralai/Mistral-7B-Instruct-v0.2-AWQ]... Done! in 498 ms\n",
      "Tokens per second [80.3]\n",
      "Processing call [097] out of [100] = [97.0%]... \n",
      "Asking LLM [mistralai/Mistral-7B-Instruct-v0.2-AWQ]...\n",
      "...........................................\n",
      "Asking LLM [mistralai/Mistral-7B-Instruct-v0.2-AWQ]... Done! in 529 ms\n",
      "Tokens per second [81.3]\n",
      "Processing call [098] out of [100] = [98.0%]... \n",
      "Asking LLM [mistralai/Mistral-7B-Instruct-v0.2-AWQ]...\n",
      ".....................................\n",
      "Asking LLM [mistralai/Mistral-7B-Instruct-v0.2-AWQ]... Done! in 468 ms\n",
      "Tokens per second [79.1]\n",
      "Processing call [099] out of [100] = [99.0%]... \n",
      "Asking LLM [mistralai/Mistral-7B-Instruct-v0.2-AWQ]...\n",
      "........................................\n",
      "Asking LLM [mistralai/Mistral-7B-Instruct-v0.2-AWQ]... Done! in 500 ms\n",
      "Tokens per second [80.0]\n",
      "Processing call [100] out of [100] = [100.0%]... \n",
      "Asking LLM [mistralai/Mistral-7B-Instruct-v0.2-AWQ]...\n",
      "..........................................\n",
      "Asking LLM [mistralai/Mistral-7B-Instruct-v0.2-AWQ]... Done! in 515 ms\n",
      "Tokens per second [81.6]\n",
      "\n",
      "Generating responses for 100 rows... Done! in 51 seconds\n",
      "[513.4] ms per item\n",
      "\n",
      "------------------------------------------------------------------------------------------------------------------------\n",
      "- Validation Stats for `mistralai/Mistral-7B-Instruct-v0.2-AWQ`\n",
      "------------------------------------------------------------------------------------------------------------------------\n",
      "\n",
      "               Is valid xml 0.0%\n",
      "          Contains response 100.0%\n",
      " Contains <browser-command> 100.0%\n",
      "            Contains <args> 100.0%\n",
      "          Response is exact 46.0%\n",
      "Response has correct values 46.0%\n",
      " Browser command is correct 46.0%\n",
      "            Args is correct 76.0%\n"
     ]
    }
   ],
   "source": [
    "%autoreload\n",
    "train_df, test_df, validate_df = xml_ftp_generator.get_train_test_validate_split( all_qna_df, sample_size=1000, test_size=0.2, test_validate_size=0.5 )\n",
    "\n",
    "xml_ftp_generator.write_ttv_split_to_jsonl( train_df, test_df, validate_df )\n",
    "\n",
    "# validation block\n",
    "# validate_df    = pd.read_json( xml_ftp_generator.path_prefix + \"/src/ephemera/prompts/data/voice-commands-xml-validate.jsonl\", lines=True ).sample( 100, random_state=42 )\n",
    "# timer          = Stopwatch( msg=f\"Validating {validate_df.shape[ 0 ]:,} responses...\", silent=False )\n",
    "\n",
    "model_name     = \"mistralai/Mistral-7B-Instruct-v0.2-AWQ\"\n",
    "validate_df    = xml_ftp_generator.generate_responses( validate_df, switch=\"tgi\", model_name=model_name )\n",
    "validate_df    = xml_ftp_generator.validate_responses( validate_df )\n",
    "#\n",
    "# # model_name     = \"gpt-3.5-turbo-1106\"\n",
    "# # validate_df    = xml_ftp_generator.generate_responses( validate_df, switch=\"openai\", model_name= )\n",
    "# # validate_df    = xml_ftp_generator.validate_responses( validate_df )\n",
    "#\n",
    "xml_ftp_generator.print_validation_stats( validate_df, title=f\"Validation Stats for `{model_name}`\" )"
   ],
   "metadata": {
    "collapsed": false,
    "ExecuteTime": {
     "end_time": "2024-01-23T21:55:09.460400Z",
     "start_time": "2024-01-23T21:54:17.872672Z"
    }
   },
   "id": "22e8032eee2a36d6"
  },
  {
   "cell_type": "code",
   "execution_count": 26,
   "outputs": [
    {
     "data": {
      "text/plain": "Index(['command', 'instruction', 'input', 'output', 'prompt', 'gpt_message',\n       'response', 'response_xml_is_valid', 'contains_response',\n       'contains_browser_command', 'contains_args', 'response_is_exact',\n       'response_has_correct_values', 'browser_command_is_correct',\n       'args_is_correct'],\n      dtype='object')"
     },
     "execution_count": 26,
     "metadata": {},
     "output_type": "execute_result"
    }
   ],
   "source": [
    "validate_df.columns"
   ],
   "metadata": {
    "collapsed": false,
    "ExecuteTime": {
     "end_time": "2024-01-23T21:55:22.550262Z",
     "start_time": "2024-01-23T21:55:22.533647Z"
    }
   },
   "id": "b12fc8c32d542752"
  },
  {
   "cell_type": "code",
   "execution_count": 30,
   "outputs": [
    {
     "data": {
      "text/plain": "                                         command  response_xml_is_valid  \\\n8539                              search new tab                  False   \n13551   search phind using clipboard current tab                  False   \n14074                                       none                  False   \n12773      search google using clipboard new tab                  False   \n13388  search perplexity using clipboard new tab                  False   \n\n       contains_response  contains_browser_command  contains_args  \\\n8539                True                      True           True   \n13551               True                      True           True   \n14074               True                      True           True   \n12773               True                      True           True   \n13388               True                      True           True   \n\n       response_is_exact  response_has_correct_values  \\\n8539                True                         True   \n13551              False                        False   \n14074              False                        False   \n12773              False                        False   \n13388              False                        False   \n\n       browser_command_is_correct  args_is_correct  \n8539                         True             True  \n13551                       False            False  \n14074                       False            False  \n12773                       False            False  \n13388                       False            False  ",
      "text/html": "<div>\n<style scoped>\n    .dataframe tbody tr th:only-of-type {\n        vertical-align: middle;\n    }\n\n    .dataframe tbody tr th {\n        vertical-align: top;\n    }\n\n    .dataframe thead th {\n        text-align: right;\n    }\n</style>\n<table border=\"1\" class=\"dataframe\">\n  <thead>\n    <tr style=\"text-align: right;\">\n      <th></th>\n      <th>command</th>\n      <th>response_xml_is_valid</th>\n      <th>contains_response</th>\n      <th>contains_browser_command</th>\n      <th>contains_args</th>\n      <th>response_is_exact</th>\n      <th>response_has_correct_values</th>\n      <th>browser_command_is_correct</th>\n      <th>args_is_correct</th>\n    </tr>\n  </thead>\n  <tbody>\n    <tr>\n      <th>8539</th>\n      <td>search new tab</td>\n      <td>False</td>\n      <td>True</td>\n      <td>True</td>\n      <td>True</td>\n      <td>True</td>\n      <td>True</td>\n      <td>True</td>\n      <td>True</td>\n    </tr>\n    <tr>\n      <th>13551</th>\n      <td>search phind using clipboard current tab</td>\n      <td>False</td>\n      <td>True</td>\n      <td>True</td>\n      <td>True</td>\n      <td>False</td>\n      <td>False</td>\n      <td>False</td>\n      <td>False</td>\n    </tr>\n    <tr>\n      <th>14074</th>\n      <td>none</td>\n      <td>False</td>\n      <td>True</td>\n      <td>True</td>\n      <td>True</td>\n      <td>False</td>\n      <td>False</td>\n      <td>False</td>\n      <td>False</td>\n    </tr>\n    <tr>\n      <th>12773</th>\n      <td>search google using clipboard new tab</td>\n      <td>False</td>\n      <td>True</td>\n      <td>True</td>\n      <td>True</td>\n      <td>False</td>\n      <td>False</td>\n      <td>False</td>\n      <td>False</td>\n    </tr>\n    <tr>\n      <th>13388</th>\n      <td>search perplexity using clipboard new tab</td>\n      <td>False</td>\n      <td>True</td>\n      <td>True</td>\n      <td>True</td>\n      <td>False</td>\n      <td>False</td>\n      <td>False</td>\n      <td>False</td>\n    </tr>\n  </tbody>\n</table>\n</div>"
     },
     "execution_count": 30,
     "metadata": {},
     "output_type": "execute_result"
    }
   ],
   "source": [
    "cols = ['command', 'response_xml_is_valid', 'contains_response',\n",
    "       'contains_browser_command', 'contains_args', 'response_is_exact',\n",
    "       'response_has_correct_values', 'browser_command_is_correct',\n",
    "       'args_is_correct']\n",
    "stats_df = validate_df[ cols ]\n",
    "stats_df.head()"
   ],
   "metadata": {
    "collapsed": false,
    "ExecuteTime": {
     "end_time": "2024-01-23T21:58:41.208125Z",
     "start_time": "2024-01-23T21:58:41.108601Z"
    }
   },
   "id": "fb48024e63ddde90"
  },
  {
   "cell_type": "code",
   "execution_count": 32,
   "outputs": [
    {
     "data": {
      "text/plain": "                                              command  response_is_exact\n0                                   go to current tab                0.0\n1                                       go to new tab                0.0\n2                                                none                0.0\n3                                  search current tab                1.0\n4                           search google current tab                1.0\n5                               search google new tab                1.0\n6                   search google scholar current tab                1.0\n7                       search google scholar new tab                1.0\n8   search google scholar using clipboard current tab                0.0\n9           search google using clipboard current tab                0.0\n10              search google using clipboard new tab                0.0\n11                                     search new tab                1.0\n12                      search perplexity current tab                0.0\n13                          search perplexity new tab                0.0\n14      search perplexity using clipboard current tab                0.0\n15          search perplexity using clipboard new tab                0.0\n16                           search phind current tab                0.0\n17                               search phind new tab                0.0\n18           search phind using clipboard current tab                0.0\n19               search phind using clipboard new tab                0.0\n20                 search using clipboard current tab                0.0\n21                     search using clipboard new tab                0.0",
      "text/html": "<div>\n<style scoped>\n    .dataframe tbody tr th:only-of-type {\n        vertical-align: middle;\n    }\n\n    .dataframe tbody tr th {\n        vertical-align: top;\n    }\n\n    .dataframe thead th {\n        text-align: right;\n    }\n</style>\n<table border=\"1\" class=\"dataframe\">\n  <thead>\n    <tr style=\"text-align: right;\">\n      <th></th>\n      <th>command</th>\n      <th>response_is_exact</th>\n    </tr>\n  </thead>\n  <tbody>\n    <tr>\n      <th>0</th>\n      <td>go to current tab</td>\n      <td>0.0</td>\n    </tr>\n    <tr>\n      <th>1</th>\n      <td>go to new tab</td>\n      <td>0.0</td>\n    </tr>\n    <tr>\n      <th>2</th>\n      <td>none</td>\n      <td>0.0</td>\n    </tr>\n    <tr>\n      <th>3</th>\n      <td>search current tab</td>\n      <td>1.0</td>\n    </tr>\n    <tr>\n      <th>4</th>\n      <td>search google current tab</td>\n      <td>1.0</td>\n    </tr>\n    <tr>\n      <th>5</th>\n      <td>search google new tab</td>\n      <td>1.0</td>\n    </tr>\n    <tr>\n      <th>6</th>\n      <td>search google scholar current tab</td>\n      <td>1.0</td>\n    </tr>\n    <tr>\n      <th>7</th>\n      <td>search google scholar new tab</td>\n      <td>1.0</td>\n    </tr>\n    <tr>\n      <th>8</th>\n      <td>search google scholar using clipboard current tab</td>\n      <td>0.0</td>\n    </tr>\n    <tr>\n      <th>9</th>\n      <td>search google using clipboard current tab</td>\n      <td>0.0</td>\n    </tr>\n    <tr>\n      <th>10</th>\n      <td>search google using clipboard new tab</td>\n      <td>0.0</td>\n    </tr>\n    <tr>\n      <th>11</th>\n      <td>search new tab</td>\n      <td>1.0</td>\n    </tr>\n    <tr>\n      <th>12</th>\n      <td>search perplexity current tab</td>\n      <td>0.0</td>\n    </tr>\n    <tr>\n      <th>13</th>\n      <td>search perplexity new tab</td>\n      <td>0.0</td>\n    </tr>\n    <tr>\n      <th>14</th>\n      <td>search perplexity using clipboard current tab</td>\n      <td>0.0</td>\n    </tr>\n    <tr>\n      <th>15</th>\n      <td>search perplexity using clipboard new tab</td>\n      <td>0.0</td>\n    </tr>\n    <tr>\n      <th>16</th>\n      <td>search phind current tab</td>\n      <td>0.0</td>\n    </tr>\n    <tr>\n      <th>17</th>\n      <td>search phind new tab</td>\n      <td>0.0</td>\n    </tr>\n    <tr>\n      <th>18</th>\n      <td>search phind using clipboard current tab</td>\n      <td>0.0</td>\n    </tr>\n    <tr>\n      <th>19</th>\n      <td>search phind using clipboard new tab</td>\n      <td>0.0</td>\n    </tr>\n    <tr>\n      <th>20</th>\n      <td>search using clipboard current tab</td>\n      <td>0.0</td>\n    </tr>\n    <tr>\n      <th>21</th>\n      <td>search using clipboard new tab</td>\n      <td>0.0</td>\n    </tr>\n  </tbody>\n</table>\n</div>"
     },
     "execution_count": 32,
     "metadata": {},
     "output_type": "execute_result"
    }
   ],
   "source": [
    "# get_means_for = [ 'response_xml_is_valid', 'contains_response',\n",
    "#        'contains_browser_command', 'contains_args', 'response_is_exact',\n",
    "#        'response_has_correct_values', 'browser_command_is_correct',\n",
    "#        'args_is_correct']\n",
    "\n",
    "# Group stats_df by command column And calculate percentages for get_means_for columns\n",
    "stats_df.groupby( \"command\" )[ \"response_is_exact\" ].mean().reset_index()"
   ],
   "metadata": {
    "collapsed": false,
    "ExecuteTime": {
     "end_time": "2024-01-23T22:06:39.375889Z",
     "start_time": "2024-01-23T22:06:39.323163Z"
    }
   },
   "id": "c71ef9c1a0544876"
  },
  {
   "cell_type": "code",
   "execution_count": null,
   "outputs": [],
   "source": [],
   "metadata": {
    "collapsed": false
   },
   "id": "319ca42267ada630"
  }
 ],
 "metadata": {
  "kernelspec": {
   "display_name": "Python 3",
   "language": "python",
   "name": "python3"
  },
  "language_info": {
   "codemirror_mode": {
    "name": "ipython",
    "version": 2
   },
   "file_extension": ".py",
   "mimetype": "text/x-python",
   "name": "python",
   "nbconvert_exporter": "python",
   "pygments_lexer": "ipython2",
   "version": "2.7.6"
  }
 },
 "nbformat": 4,
 "nbformat_minor": 5
}
