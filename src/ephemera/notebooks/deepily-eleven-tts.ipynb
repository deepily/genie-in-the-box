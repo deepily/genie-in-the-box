{
 "cells": [
  {
   "cell_type": "code",
   "execution_count": 2,
   "outputs": [
    {
     "name": "stdout",
     "output_type": "stream",
     "text": [
      "/var/genie-in-the-box/src/ephemera/notebooks\n",
      "/var/genie-in-the-box/src\n"
     ]
    }
   ],
   "source": [
    "import os \n",
    "print( os.getcwd() )\n",
    "# change working directory\n",
    "os.chdir( \"/var/genie-in-the-box/src\" )\n",
    "print( os.getcwd() )\n",
    "import lib.utils.util as du"
   ],
   "metadata": {
    "collapsed": false,
    "ExecuteTime": {
     "end_time": "2023-12-12T22:01:04.099123Z",
     "start_time": "2023-12-12T22:01:04.083330Z"
    }
   },
   "id": "b57793e28c213760"
  },
  {
   "cell_type": "code",
   "execution_count": null,
   "outputs": [],
   "source": [
    "import requests\n",
    "\n",
    "url = \"https://api.elevenlabs.io/v1/text-to-speech/{voice_id}\"\n",
    "\n",
    "payload = {\n",
    "    \"model_id\": \"eleven_multilingual_v2\",\n",
    "    \"text\": \"it's 1046 am, dave\",\n",
    "    \"voice_settings\": {\n",
    "        \"similarity_boost\": 123,\n",
    "        \"stability\": 123,\n",
    "        \"style\": 123,\n",
    "        \"use_speaker_boost\": True\n",
    "    }\n",
    "}\n",
    "headers = {\"Content-Type\": \"application/json\"}\n",
    "\n",
    "response = requests.request(\"POST\", url, json=payload, headers=headers)\n",
    "\n",
    "print(response.text)"
   ],
   "metadata": {
    "collapsed": false
   },
   "id": "7f5ad850af54bd82"
  },
  {
   "cell_type": "markdown",
   "source": [
    "larynx > en > cmu_slp-glow_tts\n",
    "larynx > en > kathleen-glow_tts \n",
    "larynx > en > mary_ann-glow_tts\n",
    "glow-speak > en > en-us_mary_ann \n",
    "larynx > en > cmu_clb-glow_tts \n",
    "larynx > en > cmu_ljm-glow_tts \n",
    "larynx > en > cmu_lnh-glow_tts \n",
    " larynx > en > cmu_eey-glow_tts \n",
    "flite > en > cmu_us_slt "
   ],
   "metadata": {
    "collapsed": false
   },
   "id": "20cc81d8a6bf3f0a"
  },
  {
   "cell_type": "code",
   "execution_count": 7,
   "outputs": [],
   "source": [
    "import requests\n",
    "\n",
    "CHUNK_SIZE = 1024\n",
    "voice_id = \"LcfcDJNUP1GQjkzn1xUU\"\n",
    "url = f\"https://api.elevenlabs.io/v1/text-to-speech/{voice_id}\"\n",
    "\n",
    "headers = {\n",
    "    \"Accept\"      : \"audio/mpeg\",\n",
    "    \"Content-Type\": \"application/json\",\n",
    "    \"xi-api-key\"  : du.get_api_key( \"eleven11\" )\n",
    "}\n",
    "\n",
    "data = {\n",
    "    \"text\"          : \"it's 10:50 am in washington dc, and today it's your birthday!\",\n",
    "    \"model_id\"      : \"eleven_multilingual_v1\",\n",
    "    \"voice_settings\": { \"stability\": 0.42, \"similarity_boost\": 0.75, \"style\": 0.0, \"use_speaker_boost\": False }\n",
    "}\n",
    "\n",
    "response = requests.post( url, json=data, headers=headers )\n",
    "with open( du.get_project_root() + \"/io/eleven11.mp3\", \"wb\" ) as f:\n",
    "    for chunk in response.iter_content( chunk_size=CHUNK_SIZE ):\n",
    "        if chunk:\n",
    "            f.write( chunk )\n"
   ],
   "metadata": {
    "collapsed": false,
    "ExecuteTime": {
     "end_time": "2023-12-12T22:04:49.092720Z",
     "start_time": "2023-12-12T22:04:47.397509Z"
    }
   },
   "id": "4ab67d80c43b226a"
  },
  {
   "cell_type": "code",
   "execution_count": null,
   "outputs": [],
   "source": [
    "# voice_id='LcfcDJNUP1GQjkzn1xUU' name='Emily' category='premade' description=None labels={'accent': 'american', 'description': 'calm', 'age': 'young', 'gender': 'female', 'use case': 'meditation'} samples=None design=None preview_url='https://storage.googleapis.com/eleven-public-prod/premade/voices/LcfcDJNUP1GQjkzn1xUU/e4b994b7-9713-4238-84f3-add8fccaaccd.mp3' settings=None"
   ],
   "metadata": {
    "collapsed": false
   },
   "id": "b7ec8fab768de984"
  },
  {
   "cell_type": "code",
   "execution_count": 12,
   "outputs": [
    {
     "name": "stdout",
     "output_type": "stream",
     "text": [
      "voice_id='LcfcDJNUP1GQjkzn1xUU' name='Emily' category='premade' description=None labels={'accent': 'american', 'description': 'calm', 'age': 'young', 'gender': 'female', 'use case': 'meditation'} samples=None design=None preview_url='https://storage.googleapis.com/eleven-public-prod/premade/voices/LcfcDJNUP1GQjkzn1xUU/e4b994b7-9713-4238-84f3-add8fccaaccd.mp3' settings=None\n"
     ]
    },
    {
     "ename": "AuthorizationError",
     "evalue": "This endpoint requires a valid API key, but none was found.",
     "output_type": "error",
     "traceback": [
      "\u001B[0;31m---------------------------------------------------------------------------\u001B[0m",
      "\u001B[0;31mAuthorizationError\u001B[0m                        Traceback (most recent call last)",
      "Cell \u001B[0;32mIn[12], line 10\u001B[0m\n\u001B[1;32m      8\u001B[0m emily \u001B[38;5;241m=\u001B[39m voice\n\u001B[1;32m      9\u001B[0m \u001B[38;5;28mprint\u001B[39m(voice)\n\u001B[0;32m---> 10\u001B[0m setting \u001B[38;5;241m=\u001B[39m \u001B[43mvoice\u001B[49m\u001B[38;5;241;43m.\u001B[39;49m\u001B[43mfetch_settings\u001B[49m\u001B[43m(\u001B[49m\u001B[43m)\u001B[49m\n\u001B[1;32m     11\u001B[0m \u001B[38;5;28mprint\u001B[39m(setting)\n\u001B[1;32m     12\u001B[0m \u001B[38;5;28;01mbreak\u001B[39;00m\n",
      "File \u001B[0;32m/usr/local/lib/python3.11/site-packages/elevenlabs/api/voice.py:149\u001B[0m, in \u001B[0;36mVoice.fetch_settings\u001B[0;34m(self)\u001B[0m\n\u001B[1;32m    148\u001B[0m \u001B[38;5;28;01mdef\u001B[39;00m \u001B[38;5;21mfetch_settings\u001B[39m(\u001B[38;5;28mself\u001B[39m):\n\u001B[0;32m--> 149\u001B[0m     \u001B[38;5;28mself\u001B[39m\u001B[38;5;241m.\u001B[39msettings \u001B[38;5;241m=\u001B[39m \u001B[43mVoiceSettings\u001B[49m\u001B[38;5;241;43m.\u001B[39;49m\u001B[43mfrom_voice_id\u001B[49m\u001B[43m(\u001B[49m\u001B[38;5;28;43mself\u001B[39;49m\u001B[38;5;241;43m.\u001B[39;49m\u001B[43mvoice_id\u001B[49m\u001B[43m)\u001B[49m\n",
      "File \u001B[0;32m/usr/local/lib/python3.11/site-packages/elevenlabs/api/voice.py:27\u001B[0m, in \u001B[0;36mVoiceSettings.from_voice_id\u001B[0;34m(cls, voice_id)\u001B[0m\n\u001B[1;32m     24\u001B[0m \u001B[38;5;129m@classmethod\u001B[39m\n\u001B[1;32m     25\u001B[0m \u001B[38;5;28;01mdef\u001B[39;00m \u001B[38;5;21mfrom_voice_id\u001B[39m(\u001B[38;5;28mcls\u001B[39m, voice_id: \u001B[38;5;28mstr\u001B[39m) \u001B[38;5;241m-\u001B[39m\u001B[38;5;241m>\u001B[39m VoiceSettings:\n\u001B[1;32m     26\u001B[0m     url \u001B[38;5;241m=\u001B[39m \u001B[38;5;124mf\u001B[39m\u001B[38;5;124m\"\u001B[39m\u001B[38;5;132;01m{\u001B[39;00mapi_base_url_v1\u001B[38;5;132;01m}\u001B[39;00m\u001B[38;5;124m/voices/\u001B[39m\u001B[38;5;132;01m{\u001B[39;00mvoice_id\u001B[38;5;132;01m}\u001B[39;00m\u001B[38;5;124m/settings\u001B[39m\u001B[38;5;124m\"\u001B[39m\n\u001B[0;32m---> 27\u001B[0m     \u001B[38;5;28;01mreturn\u001B[39;00m \u001B[38;5;28mcls\u001B[39m(\u001B[38;5;241m*\u001B[39m\u001B[38;5;241m*\u001B[39m\u001B[43mAPI\u001B[49m\u001B[38;5;241;43m.\u001B[39;49m\u001B[43mget\u001B[49m\u001B[43m(\u001B[49m\u001B[43murl\u001B[49m\u001B[43m)\u001B[49m\u001B[38;5;241m.\u001B[39mjson())\n",
      "File \u001B[0;32m/usr/local/lib/python3.11/site-packages/elevenlabs/api/base.py:75\u001B[0m, in \u001B[0;36mAPI.get\u001B[0;34m(url, *args, **kwargs)\u001B[0m\n\u001B[1;32m     73\u001B[0m \u001B[38;5;129m@staticmethod\u001B[39m\n\u001B[1;32m     74\u001B[0m \u001B[38;5;28;01mdef\u001B[39;00m \u001B[38;5;21mget\u001B[39m(url: \u001B[38;5;28mstr\u001B[39m, \u001B[38;5;241m*\u001B[39margs, \u001B[38;5;241m*\u001B[39m\u001B[38;5;241m*\u001B[39mkwargs):\n\u001B[0;32m---> 75\u001B[0m     \u001B[38;5;28;01mreturn\u001B[39;00m \u001B[43mAPI\u001B[49m\u001B[38;5;241;43m.\u001B[39;49m\u001B[43mrequest\u001B[49m\u001B[43m(\u001B[49m\u001B[43murl\u001B[49m\u001B[43m,\u001B[49m\u001B[43m \u001B[49m\u001B[43mmethod\u001B[49m\u001B[38;5;241;43m=\u001B[39;49m\u001B[38;5;124;43m\"\u001B[39;49m\u001B[38;5;124;43mget\u001B[39;49m\u001B[38;5;124;43m\"\u001B[39;49m\u001B[43m,\u001B[49m\u001B[43m \u001B[49m\u001B[38;5;241;43m*\u001B[39;49m\u001B[43margs\u001B[49m\u001B[43m,\u001B[49m\u001B[43m \u001B[49m\u001B[38;5;241;43m*\u001B[39;49m\u001B[38;5;241;43m*\u001B[39;49m\u001B[43mkwargs\u001B[49m\u001B[43m)\u001B[49m\n",
      "File \u001B[0;32m/usr/local/lib/python3.11/site-packages/elevenlabs/api/base.py:69\u001B[0m, in \u001B[0;36mAPI.request\u001B[0;34m(url, method, api_key, **kwargs)\u001B[0m\n\u001B[1;32m     67\u001B[0m             \u001B[38;5;28;01mraise\u001B[39;00m RateLimitError(message)\n\u001B[1;32m     68\u001B[0m     \u001B[38;5;28;01melif\u001B[39;00m status \u001B[38;5;241m==\u001B[39m \u001B[38;5;124m\"\u001B[39m\u001B[38;5;124mneeds_authorization\u001B[39m\u001B[38;5;124m\"\u001B[39m:\n\u001B[0;32m---> 69\u001B[0m         \u001B[38;5;28;01mraise\u001B[39;00m AuthorizationError(message)\n\u001B[1;32m     71\u001B[0m \u001B[38;5;28;01mraise\u001B[39;00m APIError(message, status)\n",
      "\u001B[0;31mAuthorizationError\u001B[0m: This endpoint requires a valid API key, but none was found."
     ]
    }
   ],
   "source": [
    "from elevenlabs import voices, generate\n",
    "\n",
    "voices = voices()\n",
    "audio = generate(text=\"Hello there!\", voice=voices[0])\n",
    "emily = None\n",
    "for voice in voices:\n",
    "    if voice.name == \"Emily\":\n",
    "        emily = voice\n",
    "        print(voice)\n",
    "        setting = voice.fetch_settings()\n",
    "        print(setting)\n",
    "        break"
   ],
   "metadata": {
    "collapsed": false,
    "ExecuteTime": {
     "end_time": "2023-12-12T16:01:43.535712Z",
     "start_time": "2023-12-12T16:01:42.120813Z"
    }
   },
   "id": "fde507a8752a1f67"
  },
  {
   "cell_type": "code",
   "execution_count": 16,
   "outputs": [
    {
     "name": "stdout",
     "output_type": "stream",
     "text": [
      "{\"stability\":0.42,\"similarity_boost\":0.75,\"style\":0.0,\"use_speaker_boost\":false}\n"
     ]
    }
   ],
   "source": [
    "import requests\n",
    "\n",
    "headers = {\n",
    "  \"Accept\": \"audio/mpeg\",\n",
    "  \"Content-Type\": \"application/json\",\n",
    "  \"xi-api-key\": du.get_api_key( \"eleven11\" )\n",
    "}\n",
    "url = \"https://api.elevenlabs.io/v1/voices/LcfcDJNUP1GQjkzn1xUU/settings\"\n",
    "\n",
    "response = requests.request( \"GET\", url, headers=headers ) \n",
    "\n",
    "print(response.text)"
   ],
   "metadata": {
    "collapsed": false,
    "ExecuteTime": {
     "end_time": "2023-12-12T16:08:30.286580Z",
     "start_time": "2023-12-12T16:08:30.099332Z"
    }
   },
   "id": "ef03035f80fe40da"
  },
  {
   "cell_type": "markdown",
   "source": [
    "## Open AI Text to Speech "
   ],
   "metadata": {
    "collapsed": false
   },
   "id": "4cc330bc2b721fea"
  },
  {
   "cell_type": "code",
   "execution_count": 21,
   "outputs": [],
   "source": [
    "# from pathlib import Path\n",
    "from openai import OpenAI\n",
    "client = OpenAI()\n",
    "\n",
    "speech_file_path = du.get_project_root() + \"/io/openai-speech.mp3\"\n",
    "response = client.audio.speech.create(\n",
    "  model=\"tts-1\",\n",
    "  voice=\"alloy\",\n",
    "  speed=1.125,\n",
    "  input=\"It's 10:17 PM in the nations capitol.  Where does the time go??? Oh, and it's also your birthday!\"\n",
    ")\n",
    "\n",
    "response.stream_to_file(speech_file_path)"
   ],
   "metadata": {
    "collapsed": false,
    "ExecuteTime": {
     "end_time": "2023-12-13T03:24:54.124721Z",
     "start_time": "2023-12-13T03:24:52.333541Z"
    }
   },
   "id": "5398eccc9d55f7d6"
  },
  {
   "cell_type": "code",
   "execution_count": null,
   "outputs": [],
   "source": [],
   "metadata": {
    "collapsed": false
   },
   "id": "d8ed200f0920aa3f"
  }
 ],
 "metadata": {
  "kernelspec": {
   "display_name": "Python 3",
   "language": "python",
   "name": "python3"
  },
  "language_info": {
   "codemirror_mode": {
    "name": "ipython",
    "version": 2
   },
   "file_extension": ".py",
   "mimetype": "text/x-python",
   "name": "python",
   "nbconvert_exporter": "python",
   "pygments_lexer": "ipython2",
   "version": "2.7.6"
  }
 },
 "nbformat": 4,
 "nbformat_minor": 5
}
