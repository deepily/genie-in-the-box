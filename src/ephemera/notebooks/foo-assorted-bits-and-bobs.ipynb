{
 "cells": [
  {
   "cell_type": "code",
   "execution_count": 3,
   "outputs": [
    {
     "name": "stdout",
     "output_type": "stream",
     "text": [
      "    0\n"
     ]
    }
   ],
   "source": [
    "import re\n",
    "\n",
    "numbers = \"1 2 3 4 5 6 7 8 9 10\"\n",
    "numbers = re.sub(r'\\d\\s\\d', '', numbers)\n",
    "print(numbers)\n"
   ],
   "metadata": {
    "collapsed": false,
    "ExecuteTime": {
     "end_time": "2023-11-22T17:48:55.440511Z",
     "start_time": "2023-11-22T17:48:55.422530Z"
    }
   },
   "id": "96c583a8193bbfd2"
  },
  {
   "cell_type": "code",
   "execution_count": 7,
   "outputs": [
    {
     "data": {
      "text/plain": "'12345678910'"
     },
     "execution_count": 7,
     "metadata": {},
     "output_type": "execute_result"
    }
   ],
   "source": [
    "import re\n",
    "\n",
    "# Original string with numbers\n",
    "numbers = \"1 2 3 4 5 6 7 8 9 10\"\n",
    "\n",
    "# Using regex to remove exactly one space between individual digits\n",
    "modified_numbers = re.sub( r'(?<=\\d) (?=\\d)', '', numbers )\n",
    "\n",
    "modified_numbers\n"
   ],
   "metadata": {
    "collapsed": false,
    "ExecuteTime": {
     "end_time": "2023-11-22T17:51:22.150932Z",
     "start_time": "2023-11-22T17:51:22.126391Z"
    }
   },
   "id": "8e90bbcaac04d991"
  },
  {
   "cell_type": "code",
   "execution_count": 10,
   "outputs": [
    {
     "data": {
      "text/plain": "' abcdefgabc.com'"
     },
     "execution_count": 10,
     "metadata": {},
     "output_type": "execute_result"
    }
   ],
   "source": [
    "letters = \" a b c d e f g a b c.com\"\n",
    "# Using regex to remove exactly one space between individual letters too\n",
    "modified_letters = re.sub( r'(?<=\\w) (?=\\w)', '', letters )\n",
    "modified_letters"
   ],
   "metadata": {
    "collapsed": false,
    "ExecuteTime": {
     "end_time": "2023-11-22T17:56:58.796682Z",
     "start_time": "2023-11-22T17:56:58.776051Z"
    }
   },
   "id": "84f0e66e0af449fd"
  },
  {
   "cell_type": "markdown",
   "source": [
    "## fix missing return statement"
   ],
   "metadata": {
    "collapsed": false
   },
   "id": "aebed30d0da43a74"
  },
  {
   "cell_type": "code",
   "execution_count": 57,
   "outputs": [],
   "source": [
    "def swap_return_value_assignment( code ):\n",
    "    \n",
    "    penultimate_line = code[ -2 ]\n",
    "    last_line        = code[ -1 ]\n",
    "    \n",
    "    # grab whatever comes after the return reserved word\n",
    "    returned_var_name = last_line.split( \"return\" )[ 1 ].strip()\n",
    "    \n",
    "    # swap in the proper assignment name: 'solution = '\n",
    "    code[ -2 ] = penultimate_line.replace( returned_var_name + \" = \", \"solution = \" )\n",
    "    \n",
    "    # swap in the proper return statement: 'return solution'\n",
    "    code[ -1 ] = last_line.replace( \"return \" + returned_var_name, \"return solution\" )\n",
    "    \n",
    "    return code\n",
    "\n"
   ],
   "metadata": {
    "collapsed": false,
    "ExecuteTime": {
     "end_time": "2023-11-22T20:24:37.352394Z",
     "start_time": "2023-11-22T20:24:37.333816Z"
    }
   },
   "id": "96748ee9a9abce2b"
  },
  {
   "cell_type": "code",
   "execution_count": 58,
   "outputs": [
    {
     "data": {
      "text/plain": "['def check_birthdays(df):',\n \"    today = pd.Timestamp('today')\",\n '    week_from_today = today + pd.DateOffset(weeks=1)',\n \"    birthdays = df[(df.event_type == 'birthday') & (df.start_date <= week_from_today) & (df.end_date >= today)]\",\n '    return birthdays']"
     },
     "execution_count": 58,
     "metadata": {},
     "output_type": "execute_result"
    }
   ],
   "source": [
    "code = [\n",
    "    \"def check_birthdays(df):\",\n",
    "    \"    today = pd.Timestamp('today')\",\n",
    "    \"    week_from_today = today + pd.DateOffset(weeks=1)\",\n",
    "    \"    birthdays = df[(df.event_type == 'birthday') & (df.start_date <= week_from_today) & (df.end_date >= today)]\",\n",
    "    \"    return birthdays\"\n",
    "]\n",
    "code"
   ],
   "metadata": {
    "collapsed": false,
    "ExecuteTime": {
     "end_time": "2023-11-22T20:24:37.836701Z",
     "start_time": "2023-11-22T20:24:37.830282Z"
    }
   },
   "id": "63e3aeb895339456"
  },
  {
   "cell_type": "code",
   "execution_count": 59,
   "outputs": [
    {
     "name": "stdout",
     "output_type": "stream",
     "text": [
      "'return solution' statement is missing, fixing...\n",
      "\n",
      "    birthdays = df[(df.event_type == 'birthday') & (df.start_date <= week_from_today) & (df.end_date >= today)]\n",
      "    return birthdays\n",
      "\n",
      "    solution = df[(df.event_type == 'birthday') & (df.start_date <= week_from_today) & (df.end_date >= today)]\n",
      "    return solution\n"
     ]
    }
   ],
   "source": [
    "if \"return\" in code[ -1 ] and \"solution\" not in code[ -1 ]:\n",
    "    \n",
    "    print( \"'return solution' statement is missing, fixing...\", end = \"\\n\\n\" )\n",
    "    print( code[ -2 ] )\n",
    "    print( code[ -1 ], end = \"\\n\\n\" )\n",
    "    \n",
    "    code = swap_return_value_assignment( code )\n",
    "    \n",
    "    print( code[ -2 ] )\n",
    "    print( code[ -1 ] )\n",
    "    "
   ],
   "metadata": {
    "collapsed": false,
    "ExecuteTime": {
     "end_time": "2023-11-22T20:24:38.493666Z",
     "start_time": "2023-11-22T20:24:38.490136Z"
    }
   },
   "id": "121421fe691dcfb"
  },
  {
   "cell_type": "code",
   "execution_count": null,
   "outputs": [],
   "source": [],
   "metadata": {
    "collapsed": false
   },
   "id": "9df585cadd1152c4"
  }
 ],
 "metadata": {
  "kernelspec": {
   "display_name": "Python 3",
   "language": "python",
   "name": "python3"
  },
  "language_info": {
   "codemirror_mode": {
    "name": "ipython",
    "version": 2
   },
   "file_extension": ".py",
   "mimetype": "text/x-python",
   "name": "python",
   "nbconvert_exporter": "python",
   "pygments_lexer": "ipython2",
   "version": "2.7.6"
  }
 },
 "nbformat": 4,
 "nbformat_minor": 5
}
