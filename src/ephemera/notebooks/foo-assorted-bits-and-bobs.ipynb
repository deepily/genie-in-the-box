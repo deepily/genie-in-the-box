{
 "cells": [
  {
   "cell_type": "code",
   "execution_count": 3,
   "outputs": [
    {
     "name": "stdout",
     "output_type": "stream",
     "text": [
      "    0\n"
     ]
    }
   ],
   "source": [
    "import re\n",
    "\n",
    "numbers = \"1 2 3 4 5 6 7 8 9 10\"\n",
    "numbers = re.sub(r'\\d\\s\\d', '', numbers)\n",
    "print(numbers)\n"
   ],
   "metadata": {
    "collapsed": false,
    "ExecuteTime": {
     "end_time": "2023-11-22T17:48:55.440511Z",
     "start_time": "2023-11-22T17:48:55.422530Z"
    }
   },
   "id": "96c583a8193bbfd2"
  },
  {
   "cell_type": "code",
   "execution_count": 7,
   "outputs": [
    {
     "data": {
      "text/plain": "'12345678910'"
     },
     "execution_count": 7,
     "metadata": {},
     "output_type": "execute_result"
    }
   ],
   "source": [
    "import re\n",
    "\n",
    "# Original string with numbers\n",
    "numbers = \"1 2 3 4 5 6 7 8 9 10\"\n",
    "\n",
    "# Using regex to remove exactly one space between individual digits\n",
    "modified_numbers = re.sub( r'(?<=\\d) (?=\\d)', '', numbers )\n",
    "\n",
    "modified_numbers\n"
   ],
   "metadata": {
    "collapsed": false,
    "ExecuteTime": {
     "end_time": "2023-11-22T17:51:22.150932Z",
     "start_time": "2023-11-22T17:51:22.126391Z"
    }
   },
   "id": "8e90bbcaac04d991"
  },
  {
   "cell_type": "code",
   "execution_count": 10,
   "outputs": [
    {
     "data": {
      "text/plain": "' abcdefgabc.com'"
     },
     "execution_count": 10,
     "metadata": {},
     "output_type": "execute_result"
    }
   ],
   "source": [
    "letters = \" a b c d e f g a b c.com\"\n",
    "# Using regex to remove exactly one space between individual letters too\n",
    "modified_letters = re.sub( r'(?<=\\w) (?=\\w)', '', letters )\n",
    "modified_letters"
   ],
   "metadata": {
    "collapsed": false,
    "ExecuteTime": {
     "end_time": "2023-11-22T17:56:58.796682Z",
     "start_time": "2023-11-22T17:56:58.776051Z"
    }
   },
   "id": "84f0e66e0af449fd"
  },
  {
   "cell_type": "code",
   "execution_count": null,
   "outputs": [],
   "source": [],
   "metadata": {
    "collapsed": false
   },
   "id": "cd7bcf601830fdf6"
  }
 ],
 "metadata": {
  "kernelspec": {
   "display_name": "Python 3",
   "language": "python",
   "name": "python3"
  },
  "language_info": {
   "codemirror_mode": {
    "name": "ipython",
    "version": 2
   },
   "file_extension": ".py",
   "mimetype": "text/x-python",
   "name": "python",
   "nbconvert_exporter": "python",
   "pygments_lexer": "ipython2",
   "version": "2.7.6"
  }
 },
 "nbformat": 4,
 "nbformat_minor": 5
}
