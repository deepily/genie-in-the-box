{
 "cells": [
  {
   "cell_type": "markdown",
   "source": [
    "## validate xml"
   ],
   "metadata": {
    "collapsed": false
   },
   "id": "30dd5f89521fec76"
  },
  {
   "cell_type": "code",
   "execution_count": 18,
   "outputs": [
    {
     "name": "stdout",
     "output_type": "stream",
     "text": [
      "/var/genie-in-the-box/src/ephemera/notebooks\n",
      "/var/genie-in-the-box/src\n"
     ]
    }
   ],
   "source": [
    "# print current working directory\n",
    "import os   \n",
    "print( os.getcwd() )\n",
    "# change current directory\n",
    "os.chdir( \"/var/genie-in-the-box/src/\" )\n",
    "print( os.getcwd() )"
   ],
   "metadata": {
    "collapsed": false,
    "ExecuteTime": {
     "end_time": "2023-11-30T16:00:34.660199Z",
     "start_time": "2023-11-30T16:00:34.630611Z"
    }
   },
   "id": "951bbcef14c6ba0b"
  },
  {
   "cell_type": "code",
   "execution_count": 19,
   "outputs": [
    {
     "name": "stdout",
     "output_type": "stream",
     "text": [
      "¡@#!-$?%^_¿¡@#!-$?%^_¿¡@#!-$?%^_¿¡@#!-$?%^_¿¡@#!-$?%^_¿¡@#!-$?%^_¿¡@#!-$?%^_¿¡@#!-$?%^_¿¡@#!-$?%^_¿¡@#!-$?%^_¿¡@#!-$?%^_¿\n",
      "¡@#!-$?%^_¿\n",
      "¡@#!-$?%^_¿ The XML is malformed.\n",
      "¡@#!-$?%^_¿\n",
      "¡@#!-$?%^_¿¡@#!-$?%^_¿¡@#!-$?%^_¿¡@#!-$?%^_¿¡@#!-$?%^_¿¡@#!-$?%^_¿¡@#!-$?%^_¿¡@#!-$?%^_¿¡@#!-$?%^_¿¡@#!-$?%^_¿¡@#!-$?%^_¿\n",
      "\n",
      "\n",
      "<response>\n",
      " <question></question>\n",
      " <thoughts></thoughts>\n",
      " <code>\n",
      "    <line></lin>\n",
      "    <line></line>\n",
      "    <line></line>\n",
      " </code>\n",
      " <returns>Object type of the variable `solution`</returns>\n",
      " <example>One-line example of how to call your code: solution = function_name_here( arguments )</example>\n",
      " <explanation>Explanation of how the code works</explanation>\n",
      " <error>Description of any issues or errors that you encountered while attempting to fulfill this request</error>\n",
      "</response>\n"
     ]
    },
    {
     "ename": "ValueError",
     "evalue": "The XML is malformed.",
     "output_type": "error",
     "traceback": [
      "\u001B[0;31m---------------------------------------------------------------------------\u001B[0m",
      "\u001B[0;31mParseError\u001B[0m                                Traceback (most recent call last)",
      "Cell \u001B[0;32mIn[19], line 11\u001B[0m, in \u001B[0;36mvalidate_xml.<locals>.validate\u001B[0;34m(xml_string)\u001B[0m\n\u001B[1;32m     10\u001B[0m \u001B[38;5;28;01mtry\u001B[39;00m:\n\u001B[0;32m---> 11\u001B[0m     root \u001B[38;5;241m=\u001B[39m \u001B[43met\u001B[49m\u001B[38;5;241;43m.\u001B[39;49m\u001B[43mfromstring\u001B[49m\u001B[43m(\u001B[49m\u001B[43m \u001B[49m\u001B[43mxml_string\u001B[49m\u001B[43m \u001B[49m\u001B[43m)\u001B[49m\n\u001B[1;32m     12\u001B[0m \u001B[38;5;28;01mexcept\u001B[39;00m et\u001B[38;5;241m.\u001B[39mParseError:\n",
      "File \u001B[0;32m/usr/local/lib/python3.11/xml/etree/ElementTree.py:1338\u001B[0m, in \u001B[0;36mXML\u001B[0;34m(text, parser)\u001B[0m\n\u001B[1;32m   1337\u001B[0m     parser \u001B[38;5;241m=\u001B[39m XMLParser(target\u001B[38;5;241m=\u001B[39mTreeBuilder())\n\u001B[0;32m-> 1338\u001B[0m parser\u001B[38;5;241m.\u001B[39mfeed(text)\n\u001B[1;32m   1339\u001B[0m \u001B[38;5;28;01mreturn\u001B[39;00m parser\u001B[38;5;241m.\u001B[39mclose()\n",
      "\u001B[0;31mParseError\u001B[0m: mismatched tag: line 6, column 12",
      "\nDuring handling of the above exception, another exception occurred:\n",
      "\u001B[0;31mMalformedXmlError\u001B[0m                         Traceback (most recent call last)",
      "Cell \u001B[0;32mIn[19], line 25\u001B[0m, in \u001B[0;36mvalidate_xml\u001B[0;34m(xml_string)\u001B[0m\n\u001B[1;32m     24\u001B[0m \u001B[38;5;28;01mtry\u001B[39;00m:\n\u001B[0;32m---> 25\u001B[0m     \u001B[43mvalidate\u001B[49m\u001B[43m(\u001B[49m\u001B[43m \u001B[49m\u001B[43mxml_string\u001B[49m\u001B[43m \u001B[49m\u001B[43m)\u001B[49m\n\u001B[1;32m     26\u001B[0m \u001B[38;5;28;01mexcept\u001B[39;00m MalformedXmlError \u001B[38;5;28;01mas\u001B[39;00m e:\n",
      "Cell \u001B[0;32mIn[19], line 13\u001B[0m, in \u001B[0;36mvalidate_xml.<locals>.validate\u001B[0;34m(xml_string)\u001B[0m\n\u001B[1;32m     12\u001B[0m \u001B[38;5;28;01mexcept\u001B[39;00m et\u001B[38;5;241m.\u001B[39mParseError:\n\u001B[0;32m---> 13\u001B[0m     \u001B[38;5;28;01mraise\u001B[39;00m MalformedXmlError(\u001B[38;5;124m\"\u001B[39m\u001B[38;5;124mThe XML is malformed.\u001B[39m\u001B[38;5;124m\"\u001B[39m)\n\u001B[1;32m     15\u001B[0m expected_tags \u001B[38;5;241m=\u001B[39m [\u001B[38;5;124m\"\u001B[39m\u001B[38;5;124mquestion\u001B[39m\u001B[38;5;124m\"\u001B[39m, \u001B[38;5;124m\"\u001B[39m\u001B[38;5;124mthoughts\u001B[39m\u001B[38;5;124m\"\u001B[39m, \u001B[38;5;124m\"\u001B[39m\u001B[38;5;124mcode\u001B[39m\u001B[38;5;124m\"\u001B[39m, \u001B[38;5;124m\"\u001B[39m\u001B[38;5;124mreturns\u001B[39m\u001B[38;5;124m\"\u001B[39m, \u001B[38;5;124m\"\u001B[39m\u001B[38;5;124mexample\u001B[39m\u001B[38;5;124m\"\u001B[39m, \u001B[38;5;124m\"\u001B[39m\u001B[38;5;124mexplanation\u001B[39m\u001B[38;5;124m\"\u001B[39m, \u001B[38;5;124m\"\u001B[39m\u001B[38;5;124merror\u001B[39m\u001B[38;5;124m\"\u001B[39m]\n",
      "\u001B[0;31mMalformedXmlError\u001B[0m: The XML is malformed.",
      "\nDuring handling of the above exception, another exception occurred:\n",
      "\u001B[0;31mValueError\u001B[0m                                Traceback (most recent call last)",
      "Cell \u001B[0;32mIn[19], line 47\u001B[0m\n\u001B[1;32m     29\u001B[0m         \u001B[38;5;28;01mraise\u001B[39;00m \u001B[38;5;167;01mValueError\u001B[39;00m( e )\n\u001B[1;32m     31\u001B[0m xml_string \u001B[38;5;241m=\u001B[39m \u001B[38;5;124m\"\"\"\u001B[39m\n\u001B[1;32m     32\u001B[0m \u001B[38;5;124m<response>\u001B[39m\n\u001B[1;32m     33\u001B[0m \u001B[38;5;124m <question></question>\u001B[39m\n\u001B[0;32m   (...)\u001B[0m\n\u001B[1;32m     44\u001B[0m \u001B[38;5;124m</response>\u001B[39m\n\u001B[1;32m     45\u001B[0m \u001B[38;5;124m\"\"\"\u001B[39m\n\u001B[0;32m---> 47\u001B[0m \u001B[43mvalidate_xml\u001B[49m\u001B[43m(\u001B[49m\u001B[43m \u001B[49m\u001B[43mxml_string\u001B[49m\u001B[43m \u001B[49m\u001B[43m)\u001B[49m\n",
      "Cell \u001B[0;32mIn[19], line 29\u001B[0m, in \u001B[0;36mvalidate_xml\u001B[0;34m(xml_string)\u001B[0m\n\u001B[1;32m     27\u001B[0m du\u001B[38;5;241m.\u001B[39mprint_banner( e, expletive\u001B[38;5;241m=\u001B[39m\u001B[38;5;28;01mTrue\u001B[39;00m )\n\u001B[1;32m     28\u001B[0m \u001B[38;5;28mprint\u001B[39m( xml_string )\n\u001B[0;32m---> 29\u001B[0m \u001B[38;5;28;01mraise\u001B[39;00m \u001B[38;5;167;01mValueError\u001B[39;00m( e )\n",
      "\u001B[0;31mValueError\u001B[0m: The XML is malformed."
     ]
    }
   ],
   "source": [
    "import xml.etree.ElementTree as et\n",
    "import lib.utils.util as du\n",
    "\n",
    "def validate_xml(xml_string):\n",
    "\n",
    "    class MalformedXmlError(Exception):\n",
    "        pass\n",
    "    \n",
    "    def validate( xml_string ):\n",
    "        try:\n",
    "            root = et.fromstring( xml_string )\n",
    "        except et.ParseError:\n",
    "            raise MalformedXmlError(\"The XML is malformed.\")\n",
    "        \n",
    "        expected_tags = [\"question\", \"thoughts\", \"code\", \"returns\", \"example\", \"explanation\", \"error\"]\n",
    "        for tag in expected_tags:\n",
    "            if root.find(tag) is None:\n",
    "                raise MalformedXmlError(f\"The XML is missing the <{tag}> tag.\")\n",
    "        \n",
    "        code_tag = root.find(\"code\")\n",
    "        if code_tag is None or len(code_tag.findall(\"line\")) == 0:\n",
    "            raise MalformedXmlError(\"The XML is missing the <line> tag inside the <code> tag.\")\n",
    "        \n",
    "    try:\n",
    "        validate( xml_string )\n",
    "    except MalformedXmlError as e:\n",
    "        du.print_banner( e, expletive=True )\n",
    "        print( xml_string )\n",
    "        raise ValueError( e )\n",
    "\n",
    "xml_string = \"\"\"\n",
    "<response>\n",
    " <question></question>\n",
    " <thoughts></thoughts>\n",
    " <code>\n",
    "    <line></lin>\n",
    "    <line></line>\n",
    "    <line></line>\n",
    " </code>\n",
    " <returns>Object type of the variable `solution`</returns>\n",
    " <example>One-line example of how to call your code: solution = function_name_here( arguments )</example>\n",
    " <explanation>Explanation of how the code works</explanation>\n",
    " <error>Description of any issues or errors that you encountered while attempting to fulfill this request</error>\n",
    "</response>\n",
    "\"\"\"\n",
    "\n",
    "validate_xml( xml_string )\n"
   ],
   "metadata": {
    "collapsed": false,
    "ExecuteTime": {
     "end_time": "2023-11-30T16:00:37.883200Z",
     "start_time": "2023-11-30T16:00:37.796830Z"
    }
   },
   "id": "6c22fb49e1b4c4e0"
  },
  {
   "cell_type": "code",
   "execution_count": 7,
   "outputs": [
    {
     "data": {
      "text/plain": "'12345678910'"
     },
     "execution_count": 7,
     "metadata": {},
     "output_type": "execute_result"
    }
   ],
   "source": [
    "import re\n",
    "\n",
    "# Original string with numbers\n",
    "numbers = \"1 2 3 4 5 6 7 8 9 10\"\n",
    "\n",
    "# Using regex to remove exactly one space between individual digits\n",
    "modified_numbers = re.sub( r'(?<=\\d) (?=\\d)', '', numbers )\n",
    "\n",
    "modified_numbers\n"
   ],
   "metadata": {
    "collapsed": false,
    "ExecuteTime": {
     "end_time": "2023-11-22T17:51:22.150932Z",
     "start_time": "2023-11-22T17:51:22.126391Z"
    }
   },
   "id": "8e90bbcaac04d991"
  },
  {
   "cell_type": "code",
   "execution_count": 10,
   "outputs": [
    {
     "data": {
      "text/plain": "' abcdefgabc.com'"
     },
     "execution_count": 10,
     "metadata": {},
     "output_type": "execute_result"
    }
   ],
   "source": [
    "letters = \" a b c d e f g a b c.com\"\n",
    "# Using regex to remove exactly one space between individual letters too\n",
    "modified_letters = re.sub( r'(?<=\\w) (?=\\w)', '', letters )\n",
    "modified_letters"
   ],
   "metadata": {
    "collapsed": false,
    "ExecuteTime": {
     "end_time": "2023-11-22T17:56:58.796682Z",
     "start_time": "2023-11-22T17:56:58.776051Z"
    }
   },
   "id": "84f0e66e0af449fd"
  },
  {
   "cell_type": "markdown",
   "source": [
    "## format output"
   ],
   "metadata": {
    "collapsed": false
   },
   "id": "aebed30d0da43a74"
  },
  {
   "cell_type": "code",
   "execution_count": 9,
   "outputs": [
    {
     "name": "stdout",
     "output_type": "stream",
     "text": [
      "/var/genie-in-the-box/src\n",
      "/var/genie-in-the-box/src\n"
     ]
    }
   ],
   "source": [
    "from huggingface_hub import InferenceClient\n",
    "import os\n",
    "# get current working directory\n",
    "print( os.getcwd() )\n",
    "\n",
    "# change current directory\n",
    "os.chdir( \"/var/genie-in-the-box/src/\" )\n",
    "print( os.getcwd() )\n",
    "\n",
    "import lib.utils.util as du\n",
    "import lib.utils.util_stopwatch as sw"
   ],
   "metadata": {
    "collapsed": false,
    "ExecuteTime": {
     "end_time": "2023-11-29T22:20:37.515600Z",
     "start_time": "2023-11-29T22:20:37.493859Z"
    }
   },
   "id": "fdc361c258f43d39"
  },
  {
   "cell_type": "code",
   "execution_count": 50,
   "outputs": [],
   "source": [
    "# preamble =\"\"\"\n",
    "# You are an expert in converting raw data into conversational English and outputting it as XML document.\n",
    "# \n",
    "# The answer below is the result of a query on a pandas dataframe about events, dates, and times on my calendar.\n",
    "# \"\"\"\n",
    "preamble =\"\"\"\n",
    "You are an expert in converting raw data into concise conversational English.\n",
    "\n",
    "The answer below is the result of a query on a pandas dataframe about events, dates, and times on my calendar.\n",
    "\"\"\"\n",
    "\n",
    "data_format = \"plain text\"\n",
    "question = \"What's today's date?\"\n",
    "code_response_dict ={\n",
    "    \"output\": \"Wednesday, November 29, 2023\"\n",
    "}\n",
    "\n",
    "instructions = f\"\"\"\n",
    "Rephrase the raw answer in {data_format} format below so that it briefly answers the question below, and nothing more.\n",
    "\n",
    "Question: {question}\n",
    "Raw Answer: {code_response_dict[ \"output\" ]}\n",
    "\n",
    "Return your answer as a simple xml document with the following fields:\n",
    "<response>\n",
    "    <rephrased_answer>Your rephrased answer</rephrased_answer>\n",
    "</response>\n",
    "\"\"\"\n",
    "# instructions = f\"\"\"\n",
    "# Rephrase the raw answer in {data_format} format below so that it briefly answers the question below, and nothing more.\n",
    "# \n",
    "# Question: {question}\n",
    "# Raw Answer: {code_response_dict[ \"output\" ]}\n",
    "# \"\"\"\n",
    "\n",
    "url = du.get_tgi_server_url()\n",
    "\n"
   ],
   "metadata": {
    "collapsed": false,
    "ExecuteTime": {
     "end_time": "2023-11-29T22:59:59.830681Z",
     "start_time": "2023-11-29T22:59:59.787430Z"
    }
   },
   "id": "2210907ba4642461"
  },
  {
   "cell_type": "code",
   "execution_count": 51,
   "outputs": [],
   "source": [
    "PHIND_34B_v2  = \"Phind/Phind-CodeLlama-34B-v2\"\n",
    "    \n",
    "DEFAULT_MODEL = PHIND_34B_v2\n",
    "\n",
    "def query_llm_phind( preamble, instructions, model=DEFAULT_MODEL ):\n",
    "    \n",
    "    timer = sw.Stopwatch( msg=f\"Asking LLM [{model}]...\".format( model ) )\n",
    "    \n",
    "    client         = InferenceClient( du.get_tgi_server_url() )\n",
    "    token_list     = [ ]\n",
    "    ellipsis_count = 0\n",
    "    \n",
    "    prompt = f\"{preamble}\\n{instructions}\\n\"\n",
    "    print( prompt )\n",
    "    \n",
    "    for token in client.text_generation(\n",
    "        prompt, max_new_tokens=1024, stream=True, stop_sequences=[ \"</response>\", \"..</s>\" ], temperature=1.0\n",
    "    ):\n",
    "        print( token, end=\"\" )\n",
    "        token_list.append( token )\n",
    "        \n",
    "    # print()\n",
    "    response = \"\".join( token_list ).strip()\n",
    "    \n",
    "    timer.print( use_millis=True, prepend_nl=True )\n",
    "    print( f\"Token list length [{len( token_list )}]\" )\n",
    "        # if self.verbose:\n",
    "        #     for line in response.split( \"\\n\" ):\n",
    "        #         print( line )\n",
    "    \n",
    "    return response"
   ],
   "metadata": {
    "collapsed": false,
    "ExecuteTime": {
     "end_time": "2023-11-29T23:00:00.443304Z",
     "start_time": "2023-11-29T23:00:00.403520Z"
    }
   },
   "id": "cde64947ab8af1ad"
  },
  {
   "cell_type": "code",
   "execution_count": 52,
   "outputs": [
    {
     "name": "stdout",
     "output_type": "stream",
     "text": [
      "Asking LLM [Phind/Phind-CodeLlama-34B-v2]...\n",
      "\n",
      "You are an expert in converting raw data into concise conversational English.\n",
      "\n",
      "The answer below is the result of a query on a pandas dataframe about events, dates, and times on my calendar.\n",
      "\n",
      "\n",
      "Rephrase the raw answer in plain text format below so that it briefly answers the question below, and nothing more.\n",
      "\n",
      "Question: What's today's date?\n",
      "Raw Answer: Wednesday, November 29, 2023\n",
      "\n",
      "Return your answer as a simple xml document with the following fields:\n",
      "<response>\n",
      "    <rephrased_answer>Your rephrased answer</rephrased_answer>\n",
      "</response>\n",
      "\n",
      "\n",
      "<response>\n",
      "    <rephrased_answer>Today's date is November 29, 2023.</rephrased_answer>\n",
      "</response>\n",
      "Asking LLM [Phind/Phind-CodeLlama-34B-v2]... in 1,260 ms\n",
      "\n",
      "Token list length [40]\n"
     ]
    }
   ],
   "source": [
    "response = query_llm_phind( preamble, instructions )"
   ],
   "metadata": {
    "collapsed": false,
    "ExecuteTime": {
     "end_time": "2023-11-29T23:00:03.469247Z",
     "start_time": "2023-11-29T23:00:02.207875Z"
    }
   },
   "id": "e5f68c005d859a3a"
  },
  {
   "cell_type": "code",
   "execution_count": 46,
   "outputs": [
    {
     "data": {
      "text/plain": "\"Today's date is November 29, 2023.\""
     },
     "execution_count": 46,
     "metadata": {},
     "output_type": "execute_result"
    }
   ],
   "source": [
    "rephrased_answer = du.get_value_by_xml_tag_name( response, \"rephrased_answer\", default_value=response )\n",
    "rephrased_answer"
   ],
   "metadata": {
    "collapsed": false,
    "ExecuteTime": {
     "end_time": "2023-11-29T22:34:58.988297Z",
     "start_time": "2023-11-29T22:34:58.942074Z"
    }
   },
   "id": "7abd17ee82e01ded"
  },
  {
   "cell_type": "code",
   "execution_count": null,
   "outputs": [],
   "source": [
    "\"\"\"You are an expert in converting raw data into conversational English and outputting it as XML document.\n",
    "\n",
    "The answer below is the result of a query on a pandas dataframe about events, dates, and times on my calendar.\n",
    "\n",
    "Rephrase the raw answer in plain text format below so that it briefly answers the question below, and nothing more.\n",
    "\n",
    "Question: whats todays date\n",
    "Raw Answer: 2023-11-29\n",
    "\n",
    "Return your answer as a simple xml document with the following fields:\n",
    "<response>\n",
    "    <rephrased_answer>Your rephrased answer</rephrased_answer>\n",
    "</response>\n",
    "\"\"\""
   ],
   "metadata": {
    "collapsed": false
   },
   "id": "1d39631d25586a48"
  }
 ],
 "metadata": {
  "kernelspec": {
   "display_name": "Python 3",
   "language": "python",
   "name": "python3"
  },
  "language_info": {
   "codemirror_mode": {
    "name": "ipython",
    "version": 2
   },
   "file_extension": ".py",
   "mimetype": "text/x-python",
   "name": "python",
   "nbconvert_exporter": "python",
   "pygments_lexer": "ipython2",
   "version": "2.7.6"
  }
 },
 "nbformat": 4,
 "nbformat_minor": 5
}
