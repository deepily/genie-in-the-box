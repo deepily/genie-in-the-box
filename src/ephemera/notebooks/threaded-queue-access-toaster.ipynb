{
 "cells": [
  {
   "cell_type": "code",
   "execution_count": 1,
   "outputs": [],
   "source": [
    "# Importing required modules\n",
    "import threading\n",
    "import queue\n",
    "import time\n",
    "import random\n"
   ],
   "metadata": {
    "collapsed": false,
    "ExecuteTime": {
     "end_time": "2023-10-24T00:07:53.385642Z",
     "start_time": "2023-10-24T00:07:53.363334Z"
    }
   },
   "id": "627fcabf90aae604"
  },
  {
   "cell_type": "code",
   "execution_count": 2,
   "id": "initial_id",
   "metadata": {
    "collapsed": true,
    "ExecuteTime": {
     "end_time": "2023-10-24T00:10:07.340714Z",
     "start_time": "2023-10-24T00:10:05.347758Z"
    }
   },
   "outputs": [
    {
     "name": "stdout",
     "output_type": "stream",
     "text": [
      "[0] Client A: Added xwymw to queue\n",
      "Client B: Read xwymw from queue\n",
      "[1] Client A: Added uzvks to queue\n",
      "Client B: Read uzvks from queue\n",
      "[2] Client A: Added jsdhe to queue\n",
      "Client B: Read jsdhe from queue\n",
      "[3] Client A: Added ljohr to queueClient B: Read ljohr from queue\n",
      "\n",
      "[4] Client A: Added wsqiu to queue\n",
      "Client B: Read wsqiu from queue\n",
      "[5] Client A: Added ikcez to queue\n",
      "Client B: Read ikcez from queue\n",
      "[6] Client A: Added wbtni to queue\n",
      "Client B: Read wbtni from queue\n",
      "[7] Client A: Added ldpyt to queue\n",
      "Client B: Read ldpyt from queue\n",
      "[8] Client A: Added gztmx to queue\n",
      "Client B: Read gztmx from queue\n",
      "[9] Client A: Added gjcqn to queue\n",
      "Client B: Read gjcqn from queue\n",
      "[10] Client A: Added fyidm to queue\n",
      "Client B: Read fyidm from queue\n",
      "[11] Client A: Added glssp to queue\n",
      "Client B: Read glssp from queue\n",
      "[12] Client A: Added fotsd to queue\n",
      "Client B: Read fotsd from queue\n",
      "[13] Client A: Added dgdfh to queue\n",
      "Client B: Read dgdfh from queue\n",
      "[14] Client A: Added nvvws to queue\n",
      "Client B: Read nvvws from queue\n",
      "[15] Client A: Added yymqb to queue\n",
      "Client B: Read yymqb from queue\n",
      "[16] Client A: Added nccqh to queue\n",
      "Client B: Read nccqh from queue\n",
      "[17] Client A: Added ptwam to queue\n",
      "Client B: Read ptwam from queue\n",
      "[18] Client A: Added cspcx to queue\n",
      "Client B: Read cspcx from queue\n",
      "[19] Client A: Added phguf to queue\n",
      "Client B: Read phguf from queue\n",
      "Client A: Added END to queue\n",
      "Client B: Encountered END. Exiting.\n",
      "Both threads have completed.\n"
     ]
    }
   ],
   "source": [
    "def client_a_limited():\n",
    "    \n",
    "    counter = 0\n",
    "    while counter < 20:\n",
    "        # Generate a random short string\n",
    "        random_str = ''.join(random.choices('abcdefghijklmnopqrstuvwxyz', k=5))\n",
    "        \n",
    "        # Put the string into the queue\n",
    "        my_queue.put(random_str)\n",
    "        print(f\"[{counter}] Client A: Added {random_str} to queue\")\n",
    "        \n",
    "        # Sleep for a random interval between 10-150ms\n",
    "        sleep_time = random.uniform(0.01, 0.15)\n",
    "        time.sleep(sleep_time)\n",
    "        \n",
    "        counter += 1\n",
    "\n",
    "    # Add end-of-stream marker to the queue\n",
    "    my_queue.put(\"END\")\n",
    "    print(\"Client A: Added END to queue\")\n",
    "\n",
    "\n",
    "# Modify Client B function to read from the queue opportunistically\n",
    "def client_b_modified():\n",
    "    \n",
    "    while True:\n",
    "        # Check if the queue is empty\n",
    "        if not my_queue.empty():\n",
    "            # Get the next item from the queue\n",
    "            item = my_queue.get()\n",
    "            \n",
    "            # Check for the end-of-stream marker\n",
    "            if item == \"END\":\n",
    "                print(\"Client B: Encountered END. Exiting.\")\n",
    "                break\n",
    "\n",
    "            print(f\"Client B: Read {item} from queue\")\n",
    "        else:\n",
    "            # Sleep for a short while to give opportunity for Client A to write\n",
    "            time.sleep(0.01)\n",
    "            \n",
    "# Create a new empty queue\n",
    "my_queue = queue.Queue()\n",
    "\n",
    "# Create threads for the modified Client A and Client B\n",
    "client_a_limited_thread = threading.Thread(target=client_a_limited)\n",
    "client_b_modified_thread = threading.Thread(target=client_b_modified)\n",
    "\n",
    "# Start the threads\n",
    "client_a_limited_thread.start()\n",
    "client_b_modified_thread.start()\n",
    "\n",
    "# Wait for both threads to complete\n",
    "client_a_limited_thread.join()\n",
    "client_b_modified_thread.join()\n",
    "\n",
    "print(\"Both threads have completed.\")"
   ]
  },
  {
   "cell_type": "code",
   "execution_count": null,
   "outputs": [],
   "source": [],
   "metadata": {
    "collapsed": false
   },
   "id": "4587d47d301a40c5"
  }
 ],
 "metadata": {
  "kernelspec": {
   "display_name": "Python 3",
   "language": "python",
   "name": "python3"
  },
  "language_info": {
   "codemirror_mode": {
    "name": "ipython",
    "version": 2
   },
   "file_extension": ".py",
   "mimetype": "text/x-python",
   "name": "python",
   "nbconvert_exporter": "python",
   "pygments_lexer": "ipython2",
   "version": "2.7.6"
  }
 },
 "nbformat": 4,
 "nbformat_minor": 5
}
