{
 "cells": [
  {
   "cell_type": "code",
   "execution_count": null,
   "outputs": [],
   "source": [
    "# ! pip install chromadb\n",
    "# ! pip install pypdf2 "
   ],
   "metadata": {
    "collapsed": false,
    "is_executing": true
   },
   "id": "7ff46bb5b76d1ef3"
  },
  {
   "cell_type": "code",
   "execution_count": 3,
   "outputs": [
    {
     "data": {
      "text/plain": "1"
     },
     "execution_count": 3,
     "metadata": {},
     "output_type": "execute_result"
    }
   ],
   "source": [
    "(9 % 4)"
   ],
   "metadata": {
    "collapsed": false,
    "ExecuteTime": {
     "end_time": "2023-10-31T23:41:28.623217Z",
     "start_time": "2023-10-31T23:41:28.599529Z"
    }
   },
   "id": "a7676b90a7decff2"
  },
  {
   "cell_type": "code",
   "execution_count": null,
   "outputs": [],
   "source": [
    "from langchain.embeddings.openai import OpenAIEmbeddings\n",
    "from langchain.vectorstores import Chroma\n",
    "from langchain.vectorstores      import FAISS\n",
    "from langchain.text_splitter import CharacterTextSplitter\n",
    "# from langchain.text_splitter import CharacterTextSplitter\n",
    "from langchain.chat_models import ChatOpenAI\n",
    "from langchain.chains import ConversationalRetrievalChain\n",
    "from langchain.document_loaders import TextLoader\n",
    "from langchain.memory import ConversationBufferMemory\n",
    "from PyPDF2 import PdfReader"
   ],
   "metadata": {
    "collapsed": false,
    "is_executing": true
   },
   "id": "2a56bc7eabbc0163"
  },
  {
   "cell_type": "code",
   "execution_count": 87,
   "outputs": [
    {
     "name": "stderr",
     "output_type": "stream",
     "text": [
      "Created a chunk of size 1818, which is longer than the specified 1000\n"
     ]
    },
    {
     "data": {
      "text/plain": "{'question': \"What's his email address\",\n 'chat_history': [HumanMessage(content=\"What's his email address\"),\n  AIMessage(content='His email address is ricardo.felipe.ruiz@gmail.com.')],\n 'answer': 'His email address is ricardo.felipe.ruiz@gmail.com.'}"
     },
     "execution_count": 87,
     "metadata": {},
     "output_type": "execute_result"
    }
   ],
   "source": [
    "pdf_reader = PdfReader( \"/var/genie-in-the-box/io/resume.pdf\" )\n",
    "raw_text = ''\n",
    "for i, page in enumerate(pdf_reader.pages):\n",
    "    text = page.extract_text()\n",
    "    if text:\n",
    "        raw_text += text\n",
    "\n",
    "text_splitter = CharacterTextSplitter(\n",
    "    separator=\"\\n\",\n",
    "    chunk_size=1000,\n",
    "    chunk_overlap=200,\n",
    "    length_function=len,\n",
    ")\n",
    "texts            = text_splitter.split_text(raw_text)\n",
    "embeddings       = OpenAIEmbeddings()\n",
    "text_vectorstore = Chroma.from_texts( texts, embeddings )\n",
    "memory           = ConversationBufferMemory(memory_key=\"chat_history\", return_messages=True)\n",
    "qa               = ConversationalRetrievalChain.from_llm(ChatOpenAI(temperature=0, model_name=\"gpt-3.5-turbo-16k\" ), text_vectorstore.as_retriever(), memory=memory)\n",
    "qa( \"What's his email address\" )"
   ],
   "metadata": {
    "collapsed": false,
    "ExecuteTime": {
     "end_time": "2023-10-25T16:48:41.454370Z",
     "start_time": "2023-10-25T16:48:39.668074Z"
    }
   },
   "id": "52d7300a29aeec89"
  },
  {
   "cell_type": "code",
   "execution_count": 96,
   "outputs": [
    {
     "data": {
      "text/plain": "{'question': 'Can I download his résumé?',\n 'chat_history': [HumanMessage(content=\"What's his email address\"),\n  AIMessage(content='His email address is ricardo.felipe.ruiz@gmail.com.'),\n  HumanMessage(content='Easter Egg: What props does he have for Brian'),\n  AIMessage(content='The person has mentioned that Brian is a whip smart and super swell colegial guy.'),\n  HumanMessage(content='Easter Egg: What props does he have for Brian, trevor and craig?'),\n  AIMessage(content='He describes Brian, Trevor, and Craig as \"whip smart and, more importantly, super swell colegial guys!\"'),\n  HumanMessage(content='Easter Egg: What props does he have for claudio and rolando?'),\n  AIMessage(content='He refers to Claudio and Rolando as \"Colegas de primera clase!\" which translates to \"First-class colleagues!\"'),\n  HumanMessage(content='What does he say about claudio and rolando?'),\n  AIMessage(content='He says that Claudio and Rolando are \"¡Colegas de primera clase!\" which translates to \"First-class colleagues!\"'),\n  HumanMessage(content='claudio y rolando?'),\n  AIMessage(content='Dice que Claudio y Rolando son colegas de primera clase.'),\n  HumanMessage(content='gene and shelley?'),\n  AIMessage(content='Dice que Gene y Shelley son los mejores gerentes, corraleros y/o pastores.'),\n  HumanMessage(content='gene?'),\n  AIMessage(content='Dice que Gene es uno de los mejores gerentes, corraleros y/o pastores que ha tenido.'),\n  HumanMessage(content='Can I download his résumé?'),\n  AIMessage(content='Sí, puedes descargar mi currículum en este enlace: https://www.deepily.ai/resume.pdf')],\n 'answer': 'Sí, puedes descargar mi currículum en este enlace: https://www.deepily.ai/resume.pdf'}"
     },
     "execution_count": 96,
     "metadata": {},
     "output_type": "execute_result"
    }
   ],
   "source": [
    "qa( \"Can I download his résumé?\" )"
   ],
   "metadata": {
    "collapsed": false,
    "ExecuteTime": {
     "end_time": "2023-10-25T16:51:50.090066Z",
     "start_time": "2023-10-25T16:51:47.503528Z"
    }
   },
   "id": "c2602a1f88c03ccd"
  },
  {
   "cell_type": "code",
   "execution_count": 90,
   "outputs": [
    {
     "data": {
      "text/plain": "'R. P . Ruiz\\nPossessed of creative, experienced and conscientious head, hands & heart\\nSUMMARY: I\\'m a creative, highly productive, and perpetual autodidact with significant and \\nbroad cutting edge software R & D experience. I enjoy prototyping new products and services \\nutilizing AI, Deep Learning, Chat Bots, Agents, ChatGPT and Natural Language Processing \\n(NLP). I am especially interested in AI as Physical & Cognitive Prosthesis.  \\nEXPERIENCE:\\nSenior Architect, AI Engineer & Data Scientist  @ Deepily.ai: 2023\\nI founded Deepily.ai and created “Genie-in-the-Box”, a voice-driven UX that’s an \\nextensible platform utilizing highly performant AI agents that convert your voice queries and \\ncommands into actionable speech and text.\\nUtilizing Python & JavaScript, I integrated multiple AIs and API’s into one coherent voice-driven\\nUX. This innovation empowers me to browse the web using my Firefox plugin, compose & \\npublish articles, as well as manage multiple projects in Python and JavaScript through my \\nPycharm editor plugin . This boosts my productivity and reduces my level of effort, creating the \\nfoundation for an ergonomically sustainable and highly accessible work environment.\\nSenior Data Scientist  @ HelioCampus: 2019 to 2023 \\nI helped universities, community colleges, and students succeed by identifying risk factors that \\nimpacted student retention.\\n•Developed AMPE (\"Abstracted Modeling and Prediction Engine\"), a framework that facilitated \\ncode reusability, repeatability, and sharing, simplifying the modeling process and ML pipelines.\\n•Enhanced Data Science colleagues\\' productivity through knowledge sharing, code reviews, \\ndemos, and tech enablement.\\n•Composed and utilized Docker containers from development to production stages.\\n•Created an NLP-based document classification system to make products more efficient, faster, \\nand cost-effective to maintain.\\nSenior Data Science Engineer  @ Department of Labor (Appteon) : 2018 – 2019\\nI made my colleagues more productive through tool chain analysis and tech enablement.  \\n•Refactored a key DoL report generator, reducing the Spark application size by 60% (from 900K \\nto 360K of source code) and improving runtime performance by over 300%.\\n•Created an interactive Spark shell utility in Scala, enhancing report query development \\nproductivity by 20-100x.\\nSenior Data Scientist @ TransVoyant: 2016 – 2017 | Washington D.C.\\nricardo.felipe.ruiz@gmail.com · https://www.linkedin.com/in/rpruiz  · Page 1 of 3I increased the accuracy of TransVoyant’s shipping logistics predictions by 365%.\\n•Re-engineered the Data Science team\\'s workflow by implementing a polyglot toolchain \\n(Scala, Python, R) using Apache Spark for notebook-based development, boosting iterative \\nbuild & run times by 20x-200x.\\n•Collaborated with various stakeholders, including the CEO, to prototype and create new \\nservices, demos, and analytic insights.  \\nSenior Researcher @ Comcast Data Science : 2013 – 2015 | Washington D.C. \\nI made the Data Science Research group’s great work visible, demonstrable, and interactive\\n•Prototyped, integrated and demo’d  new products and services utilizing Machine Learning, \\nNatural Language Processing (NLP), Voice Recognition, Video Content Search & Analysis plus \\nDynamic Sports Event Metadata.\\nSenior Technology Leader @ Marriott International : 2012 – 2013 | Washington D.C.\\nI helped move Marriott from a desktop-centric web experience to a mobile centric view\\nFounder and President @ Valeso: 2006 – 2011 | Washington D.C. \\nI made industrial-strength standards-based cryptographic security easy and transparent.\\n•Conceived and created AutonomyCentral, a cryptographically secure platform for spam-free \\nemail in any language, secure password and file storage, implemented in Java across multiple \\noperating systems.\\n•Collaborated with Front Line and Tactical Technology to translate AutonomyCentral into Spanish,\\nRussian, French, and Arabic, resulting in the \"VaultletSuite 2 Go\" inclusion in the \"Security in a \\nbox\" compilation.\\n•Conducted numerous Internet Security workshops globally for Human Rights defenders, citizen \\njournalists, and activists, catering to diverse international and multilingual contexts.\\nTechnology Fellow @ Electronic Privacy Information Center : 2004 – 2006 | \\nWashington D.C.\\nI made complex and nuanced technologies easily understandable to the press.\\n•Spoke for EPIC on technology, policy, and privacy, giving interviews in English and Spanish \\nabout topics like RFID technology, Biometric identifiers, and the U.S. State Department\\'s E-\\npassports.\\n•Worked with others on policy requests in both national and international contexts, helping draft \\nresponses on issues like RFID and privacy in the European Union and the U.S. E-passports.\\nEDUCATION \\n•Masters (MA) in Applied Linguistics & Foreign Languages from West Virginia University\\n•Bachelors of Arts (BA) in Applied Linguistics & Foreign Languages from West Virginia University\\nLANGUAGES: \\n•Fully bilingual: I speak English and Spanish with native proficiency \\nCERTIFICATIONS: 8 Certifications with 36 courses\\nricardo.felipe.ruiz@gmail.com · https://www.linkedin.com/in/rpruiz  · Page 2 of 3•Generative AI with large language models , Coursera · 2023 (1 course) \\n•Natural Language Processing, Coursera · 2023 (4 courses) \\n•Statistics with Python Specialization, Coursera · 2020 – 2021 (Courses: 1, 2 & 3) \\n•Deep Learning Specialization: Deeplearning.ai, Coursera · 2017 – 2018 (5 courses)\\n•Functional Programming in Scala: École Polytechnique Fédérale de Lausanne (ÉPFL) Coursera · \\n2016 - 2017 (4 courses: 1, 2, 3 & 4)\\n•Data Science and Engineering with Spark and Python: Berkeley, edX · 2016 (Courses: 1, 2 & 3)\\nMachine Learning: University of Washington (UW), Coursera · 2016 (Courses: 1, 2, 3 & 4)\\nData Sciences in R: Johns Hopkins (JHU) Coursera · 2015 – 2016 ( C  ourses  : 1, 2, 3, 4, 5, 6, 7 & 8)\\n•Related Coursework (Python, R, & Statistics): Coursera and Edx · 2015 – 2016 (Courses: 1, 2, 3 \\n& 4)\\nCONCEPTS, LIBRARIES & KEY WORDS:\\nArtificial Intelligence (AI) · Artificial Generative Intelligence (AGI) · Deep Learning · Neural Networks · \\nNatural Language Processing (NLP) · Data Science · Machine Learning (ML) · Large Language Models \\n(LLMs) · Prompt Engineering · Fine Tuning · Whisper.ai · ChatGPT 3.5 & 4.0 · OpenAI’s API · Text \\nEmbeddings · Semantic Similarity · Open Interpreter · Super AGI · AutoGPT · Coqui text-to-speech · \\nLangChain Agents & Chat bots · LangChain Generative Question & Answering (GQA) · LangChain Long &\\nShort-term Memory · GitHub Copilot · Cursor.ai · Codeium · Replit · Hugging Face · Google Collab · Dall-\\nE · Pycharm · JupyterLab · Google Speech to Text API · Docker · CUDA · TensorFlow · Keras · RNNs · \\nLSTM · CNNs · GPUs · Sentiment Analysis · Document Classification  · TF-IDF · Classification & \\nClustering · Logistic & Linear Regression · Pandas · SMOTE · NLTK ·  NLP · GloVe · Word2Vec · openai-\\nwhisper · scikit-learn · Pandas · SHAP · spaCy · Gensim · XGBoost · LightGBM · GGPlot2 · Linear \\nOptimization · Python · R · Scala · Java · Apache Spark · GitHub · RStudio · Shiny · Matplotlib · Plotly · \\nDatabricks · Domino Data Lab · Tableau · Apache Spark · Performance Analysis and Optimization  · Code\\nRefactoring · SQL · MySQL · Applied Linguistics · Open Source · Linux · Agile Software Development \\nSUPER BONUS EASTER EGG SECTION:Welcome! Here are a few articles I\\'ve written about my current focus, performant voice to voice agents:\\n“If Slow, Expensive, and Erratic is the problem, What\\'s The Solution?” | https://bit.ly/3FqklIQ“LangChain’s Dataframe Agent, Why You So Slow?” | https://bit.ly/3tIQbhG“You’re Doing it Wrong: ChatGPT’s Advanced Data Analysis (ADA) Feature” | https://bit.ly/3PV4IxS“Meet My Idiot Savant Intern, ChatGPT’s Advanced Data Analysis (ADA) Feature” | https://bit.ly/45SZrgB “AI as Virtual Prosthesis: How I Created a Genie in the Box for Myself” | https://bit.ly/3QloJiC\\nWHAT I LOVE/d ABOUT MY CURRENT and PAST EMPLOYERS, WORK & COLLEAGUES:\\nSenior Architect, AI Engineer & Data Scientist @ Deepily.ai : Open field running; the “eureka!” sensation of learning something new every day; The joy of creating something profoundly & immediately useful for myself right now, and for others in the future.Senior Data Scientist @ HelioCampus: Making my colleagues’ work reproducible, extensible & reusable; helping my whole team to be more productive; making the Data Science group “small, but mighty” as the CEO Darren Catalano| https://bit.ly/3M4o2YD once said to me; mentoring junior data scientists.Senior Data Science Engineer @ Department of Labor (Appteon) : Creating elegant, efficient, and performant solutions;  mentoring junior software engineers.Senior Data Scientist @ TransVoyant: Working collegially, productively and harmoniously with my fellow data scientists despite a 70% annual employee attrition rate.  Senior Researcher @ Comcast Data Science : Collaborating with a dozen bright lights; feeling like I wasn\\'t the smartest guy in the room, which is absolutely what I needed to learn and growSenior Technology Leader @ Marriott International : Marriott was the first employer I worked for who had a truly diverse workforce. Spending so much time with both the design and technology leaders groups was a daily joyFounder and President @ Valeso: Working with dedicated people around the world who wanted to communicate securely while they worked to improve their countries’ futures. Truly amazing people, I\\'ve got a ton of amazing & inspiring memories and stories from this part of my life.Technology Fellow @ Electronic Privacy Information Center : Working with luminaries like Bruce Schneier (https://bit.ly/3FmzGtU), Whitfield Diffie (https://bit.ly/45Hx4Sa), and Phil Zimmermann (https://bit.ly/3M4pCd1) on topics such as RFID, crypto and privacy\\nWant this guy to work for/with you solving challenging voice and/or NLP problems?  Here\\'s where you can download his résumé: https://www.deepily.ai/resume.pdfWant to text and/or call? You can reach me at 202-409-4959, please text me first.\\nPROPS TO MY ESTEEMED PEOPLES: \\nShelley & Gene: Best managers, corralers, and/or shepards, ever! Claudio y Rolando: ¡Colegas de primera clase! Brian, Trevor & Craig: All whip smart and, more importantly, super swell colegial guys!  \\nricardo.felipe.ruiz@gmail.com · https://www.linkedin.com/in/rpruiz  · Page 3 of 3'"
     },
     "execution_count": 90,
     "metadata": {},
     "output_type": "execute_result"
    }
   ],
   "source": [
    "raw_text"
   ],
   "metadata": {
    "collapsed": false,
    "ExecuteTime": {
     "end_time": "2023-10-25T16:49:08.686468Z",
     "start_time": "2023-10-25T16:49:08.680559Z"
    }
   },
   "id": "52548e7011644e8d"
  },
  {
   "cell_type": "code",
   "execution_count": 74,
   "outputs": [
    {
     "data": {
      "text/plain": "{'question': 'Is his phone number 202-409-4959',\n 'chat_history': [HumanMessage(content=\"What's his email address\"),\n  AIMessage(content='His email address is ricardo.felipe.ruiz@gmail.com.'),\n  HumanMessage(content='Is his phone number 202-409-4959'),\n  AIMessage(content='His phone number is 202-409-4959.')],\n 'answer': 'His phone number is 202-409-4959.'}"
     },
     "execution_count": 74,
     "metadata": {},
     "output_type": "execute_result"
    }
   ],
   "source": [
    "qa( \"Is his phone number 202-409-4959\" )"
   ],
   "metadata": {
    "collapsed": false,
    "ExecuteTime": {
     "end_time": "2023-10-25T16:40:12.425911Z",
     "start_time": "2023-10-25T16:40:09.681198Z"
    }
   },
   "id": "421289986eef7efd"
  },
  {
   "cell_type": "code",
   "execution_count": 76,
   "outputs": [
    {
     "data": {
      "text/plain": "{'question': 'What was that Again?',\n 'chat_history': [HumanMessage(content=\"What's his email address\"),\n  AIMessage(content='His email address is ricardo.felipe.ruiz@gmail.com.'),\n  HumanMessage(content='Is his phone number 202-409-4959'),\n  AIMessage(content='His phone number is 202-409-4959.'),\n  HumanMessage(content='Can you repeat your last answer please?'),\n  AIMessage(content='I apologize for any confusion, but I did not provide an answer before. Is there a specific question you would like me to answer based on the given context?'),\n  HumanMessage(content='What was that Again?'),\n  AIMessage(content='Alice found a small bottle on the table with a label that said \"DRINK ME.\" She drank from the bottle and suddenly became only ten inches tall. She was excited because now she was the right size to go through the little door into the garden. However, when she reached the door, she realized she had forgotten the key and couldn\\'t reach it on the table. She tried to climb the table but it was too slippery. Frustrated, Alice sat down and cried. She scolded herself for crying and told herself to stop.')],\n 'answer': 'Alice found a small bottle on the table with a label that said \"DRINK ME.\" She drank from the bottle and suddenly became only ten inches tall. She was excited because now she was the right size to go through the little door into the garden. However, when she reached the door, she realized she had forgotten the key and couldn\\'t reach it on the table. She tried to climb the table but it was too slippery. Frustrated, Alice sat down and cried. She scolded herself for crying and told herself to stop.'}"
     },
     "execution_count": 76,
     "metadata": {},
     "output_type": "execute_result"
    }
   ],
   "source": [
    "qa( \"What was that Again?\")"
   ],
   "metadata": {
    "collapsed": false,
    "ExecuteTime": {
     "end_time": "2023-10-25T16:41:38.963018Z",
     "start_time": "2023-10-25T16:41:33.271156Z"
    }
   },
   "id": "1c13085569c03feb"
  },
  {
   "cell_type": "code",
   "execution_count": 33,
   "outputs": [],
   "source": [
    "loader = TextLoader( \"alice.txt\" )\n",
    "document = loader.load()"
   ],
   "metadata": {
    "collapsed": false,
    "ExecuteTime": {
     "start_time": "2023-10-25T15:29:00.245659Z"
    }
   },
   "id": "initial_id"
  },
  {
   "cell_type": "code",
   "execution_count": 35,
   "outputs": [],
   "source": [
    "text_splitter = CharacterTextSplitter( chunk_size=1000, chunk_overlap=200 )\n",
    "documents = text_splitter.split_documents( document )\n",
    "\n",
    "embeddings = OpenAIEmbeddings()\n",
    "vectorstore = Chroma.from_documents( documents, embeddings )\n",
    "# vectorstore = FAISS.from_texts( documents, embeddings )"
   ],
   "metadata": {
    "collapsed": false,
    "ExecuteTime": {
     "end_time": "2023-10-25T15:37:00.836530Z",
     "start_time": "2023-10-25T15:37:00.348039Z"
    }
   },
   "id": "a172bd5c96e33398"
  },
  {
   "cell_type": "code",
   "execution_count": 60,
   "outputs": [],
   "source": [
    "memory = ConversationBufferMemory(memory_key=\"chat_history\", return_messages=True)"
   ],
   "metadata": {
    "collapsed": false,
    "ExecuteTime": {
     "end_time": "2023-10-25T15:46:17.359508Z",
     "start_time": "2023-10-25T15:46:17.355967Z"
    }
   },
   "id": "d6f950162e91e584"
  },
  {
   "cell_type": "code",
   "execution_count": 61,
   "outputs": [],
   "source": [
    "qa = ConversationalRetrievalChain.from_llm(ChatOpenAI(temperature=0), vectorstore.as_retriever(), memory=memory)"
   ],
   "metadata": {
    "collapsed": false,
    "ExecuteTime": {
     "end_time": "2023-10-25T15:46:20.057375Z",
     "start_time": "2023-10-25T15:46:20.055168Z"
    }
   },
   "id": "b43ad8dbf596d053"
  },
  {
   "cell_type": "code",
   "execution_count": 62,
   "outputs": [
    {
     "data": {
      "text/plain": "{'question': \"What's the main character's name\",\n 'chat_history': [HumanMessage(content=\"What's the main character's name\"),\n  AIMessage(content=\"The main character's name is Alice.\")],\n 'answer': \"The main character's name is Alice.\"}"
     },
     "execution_count": 62,
     "metadata": {},
     "output_type": "execute_result"
    }
   ],
   "source": [
    "qa( \"What's the main character's name\")"
   ],
   "metadata": {
    "collapsed": false,
    "ExecuteTime": {
     "end_time": "2023-10-25T15:46:22.611485Z",
     "start_time": "2023-10-25T15:46:21.774967Z"
    }
   },
   "id": "42c5246c8af3269d"
  },
  {
   "cell_type": "code",
   "execution_count": 112,
   "outputs": [
    {
     "data": {
      "text/plain": "['retriever.vectorstore._embedding_function.model']"
     },
     "execution_count": 112,
     "metadata": {},
     "output_type": "execute_result"
    }
   ],
   "source": [
    "\n",
    "\n",
    "def find_attributes(obj, desired_attribute, hierarchy='', depth=0):\n",
    "    attributes = []\n",
    "\n",
    "    if hasattr(obj, '__dict__') and depth < 100:\n",
    "        for attr_name, attr_value in obj.__dict__.items():\n",
    "            if attr_name == desired_attribute:\n",
    "                attributes.append(hierarchy + attr_name)\n",
    "            elif isinstance(attr_value, (list, object)):\n",
    "                attributes.extend(find_attributes(attr_value, desired_attribute, hierarchy + attr_name + '.', depth + 1))\n",
    "\n",
    "    return attributes\n",
    "\n",
    "find_attributes( qa, \"model\" )"
   ],
   "metadata": {
    "collapsed": false,
    "ExecuteTime": {
     "end_time": "2023-10-25T19:40:56.809132Z",
     "start_time": "2023-10-25T19:40:56.784959Z"
    }
   },
   "id": "bc3f1a8ad2c874e9"
  },
  {
   "cell_type": "code",
   "execution_count": 113,
   "outputs": [
    {
     "data": {
      "text/plain": "['combine_docs_chain.document_prompt.template',\n 'question_generator.prompt.template']"
     },
     "execution_count": 113,
     "metadata": {},
     "output_type": "execute_result"
    }
   ],
   "source": [
    "find_attributes( qa, \"template\" )"
   ],
   "metadata": {
    "collapsed": false,
    "ExecuteTime": {
     "end_time": "2023-10-25T19:41:12.825626Z",
     "start_time": "2023-10-25T19:41:12.795213Z"
    }
   },
   "id": "c7174d668cd5701a"
  },
  {
   "cell_type": "code",
   "execution_count": null,
   "outputs": [],
   "source": [],
   "metadata": {
    "collapsed": false
   },
   "id": "8ae48a9d38fd4207"
  }
 ],
 "metadata": {
  "kernelspec": {
   "display_name": "Python 3",
   "language": "python",
   "name": "python3"
  },
  "language_info": {
   "codemirror_mode": {
    "name": "ipython",
    "version": 2
   },
   "file_extension": ".py",
   "mimetype": "text/x-python",
   "name": "python",
   "nbconvert_exporter": "python",
   "pygments_lexer": "ipython2",
   "version": "2.7.6"
  }
 },
 "nbformat": 4,
 "nbformat_minor": 5
}
