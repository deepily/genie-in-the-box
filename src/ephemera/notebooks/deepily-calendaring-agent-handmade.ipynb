{
 "cells": [
  {
   "cell_type": "code",
   "execution_count": 1,
   "outputs": [],
   "source": [
    "%load_ext autoreload\n"
   ],
   "metadata": {
    "collapsed": false,
    "ExecuteTime": {
     "end_time": "2023-11-27T22:59:21.152028Z",
     "start_time": "2023-11-27T22:59:21.139885Z"
    }
   },
   "id": "14c1efa189e09521"
  },
  {
   "cell_type": "code",
   "execution_count": 19,
   "outputs": [
    {
     "name": "stdout",
     "output_type": "stream",
     "text": [
      "/var/genie-in-the-box\n",
      "/var/genie-in-the-box/src\n"
     ]
    }
   ],
   "source": [
    "import os\n",
    "print( os.getcwd() )\n",
    "os.chdir( \"/var/genie-in-the-box/src\" )\n",
    "print( os.getcwd() )"
   ],
   "metadata": {
    "collapsed": false,
    "ExecuteTime": {
     "end_time": "2023-11-27T23:07:52.451890Z",
     "start_time": "2023-11-27T23:07:52.426085Z"
    }
   },
   "id": "b117e3a7855590eb"
  },
  {
   "cell_type": "code",
   "execution_count": 20,
   "outputs": [
    {
     "name": "stdout",
     "output_type": "stream",
     "text": [
      "total 72K\r\n",
      "drwxr--r-- 11 1001 1001 4.0K Nov 27 23:06 .\r\n",
      "drwxr--r-- 10 1001 1001 4.0K Nov 27 20:06 ..\r\n",
      "-rwxr--r--  1 1001 1001 6.1K Nov 13 18:25 .DS_Store\r\n",
      "-rwxr--r--  1 1001 1001 4.0K Mar 21  2023 ._.DS_Store\r\n",
      "drwxr--r--  3 1001 1001 4.0K Mar 21  2023 .idea\r\n",
      "-rw-r--r--  1 1001 1001    0 Oct 13 18:48 __init__.py\r\n",
      "drwxr--r--  2 1001 1001 4.0K Nov 27 21:01 __pycache__\r\n",
      "-rw-rw-r--  1 1001 1001  15K Nov 27 21:01 app.py\r\n",
      "drwxr--r--  4 1001 1001 4.0K Sep 26 20:06 conf\r\n",
      "drwxr--r--  4 1001 1001 4.0K Nov 13 18:25 ephemera\r\n",
      "drwxr--r--  9 1001 1001 4.0K Oct 13 13:43 lib\r\n",
      "drwxr--r--  3 1001 1001 4.0K Mar 10  2023 resources\r\n",
      "drwxr-xr-x  2 1001 1001 4.0K Nov 22 19:06 scripts\r\n",
      "drwxr--r--  2 1001 1001 4.0K Nov 20 21:30 static\r\n",
      "drwxr--r--  2 1001 1001 4.0K Sep 26 18:31 templates\r\n"
     ]
    }
   ],
   "source": [
    "! ls -alh"
   ],
   "metadata": {
    "collapsed": false,
    "ExecuteTime": {
     "end_time": "2023-11-27T23:07:53.340501Z",
     "start_time": "2023-11-27T23:07:53.260364Z"
    }
   },
   "id": "c2afce415bb18aea"
  },
  {
   "cell_type": "code",
   "execution_count": 25,
   "outputs": [
    {
     "name": "stdout",
     "output_type": "stream",
     "text": [
      "[/var/genie-in-the-box/src] already in sys.path\n",
      "['', '/Applications/PyCharm.app/Contents/plugins/python/helpers-pro/jupyter_debug', '/Applications/PyCharm.app/Contents/plugins/python/helpers/pydev', '/usr/local/lib/python3.10', '/usr/local/lib/python3.10/lib-dynload', '/usr/local/lib/python3.10/site-packages', '/usr/local/lib/python310.zip', '/var/genie-in-the-box/src', '/var/genie-in-the-box/src/ephemera/notebooks', '/var/genie-in-the-box/src/lib']\n"
     ]
    }
   ],
   "source": [
    "%autoreload\n",
    "\n",
    "import sys\n",
    "import os\n",
    "import json\n",
    "\n",
    "# os.environ[ \"LANGCHAIN_WANDB_TRACING\" ] = \"true\"\n",
    "# # wandb documentation to configure wandb using env variables\n",
    "# # https://docs.wandb.ai/guides/track/advanced/environment-variables\n",
    "# # here we are configuring the wandb project name\n",
    "# os.environ[ \"WANDB_PROJECT\" ] = \"deepily-dataframe-agent\"\n",
    "\n",
    "path = \"/var/genie-in-the-box/src\"\n",
    "if path not in sys.path:\n",
    "    sys.path.append( path )\n",
    "else:\n",
    "    print( f\"[{path}] already in sys.path\" )\n",
    "\n",
    "print( sys.path )\n",
    "\n",
    "import lib.utils.util       as du\n",
    "\n",
    "import lib.utils.util_pandas      as up\n",
    "import lib.utils.util_stopwatch   as sw\n",
    "import lib.utils.util_code_runner as ucr\n",
    "\n",
    "from lib.memory.solution_snapshot_mgr  import SolutionSnapshotManager\n",
    "from lib.agents.agent_refactoring      import RefactoringAgent\n",
    "from lib.agents.agent_function_mapping import FunctionMappingAgentJson\n",
    "from lib.agents.agent_calendaring      import XXX_DataQueryingAgent\n",
    "\n",
    "import openai\n",
    "import pandas as pd\n",
    "\n",
    "debug   = True\n",
    "verbose = True\n"
   ],
   "metadata": {
    "collapsed": false,
    "ExecuteTime": {
     "end_time": "2023-11-27T23:09:58.925913Z",
     "start_time": "2023-11-27T23:09:58.888681Z"
    }
   },
   "id": "e4a94b9494513834"
  },
  {
   "cell_type": "code",
   "execution_count": 27,
   "outputs": [
    {
     "data": {
      "text/plain": "start_date\n2023-11-01    2\n2023-10-28    2\n2023-09-30    2\n2023-10-13    1\n2023-10-30    1\n2023-10-22    1\n2023-10-21    1\n2023-10-20    1\n2023-10-19    1\n2023-10-15    1\n2023-09-01    1\n2023-09-06    1\n2023-10-03    1\n2023-09-28    1\n2023-09-27    1\n2023-09-20    1\n2023-09-12    1\n2023-09-09    1\n2023-10-07    1\nName: count, dtype: int64"
     },
     "execution_count": 27,
     "metadata": {},
     "output_type": "execute_result"
    }
   ],
   "source": [
    "df = pd.read_csv( du.get_project_root() + \"/src/conf/long-term-memory/events.csv\" )\n",
    "df[ ( df.event_type == 'concert' ) ].start_date.value_counts()\n"
   ],
   "metadata": {
    "collapsed": false,
    "ExecuteTime": {
     "end_time": "2023-11-27T23:10:19.316007Z",
     "start_time": "2023-11-27T23:10:19.275815Z"
    }
   },
   "id": "9d135abbb37b4379"
  },
  {
   "cell_type": "code",
   "execution_count": 6,
   "outputs": [
    {
     "name": "stdout",
     "output_type": "stream",
     "text": [
      "skipping df\n",
      "event_type {'type': 'string', 'description': 'The type of event to filter for'}\n"
     ]
    },
    {
     "data": {
      "text/plain": "['event_type']"
     },
     "execution_count": 6,
     "metadata": {},
     "output_type": "execute_result"
    }
   ],
   "source": [
    "foo = \"\"\"[{ \"name\": \"get_this_weeks_events_by_type\", \"description\": \"Gets events of a certain type that occur within a certain date range (default is this week)\", \"parameters\": { \"type\": \"object\", \"properties\": { \"df\": { \"type\": \"object\", \"description\": \"The dataframe containing the events\" }, \"event_type\": { \"type\": \"string\", \"description\": \"The type of event to filter for\" } }, \"required\": [\"df\"] } }]\"\"\"\n",
    "\n",
    "def get_parameter_names( signature_dict ):\n",
    "    \n",
    "    params = []\n",
    "    for k, v in signature_dict[ 0 ][ \"parameters\" ][ \"properties\" ].items():\n",
    "        if k != \"df\":\n",
    "            params.append( k )\n",
    "            print( k, v )\n",
    "        else:\n",
    "            print( \"skipping df\" )\n",
    "            \n",
    "    return params\n",
    "    \n",
    "foo_dict = json.loads( foo )\n",
    "get_parameter_names( foo_dict )"
   ],
   "metadata": {
    "collapsed": false,
    "ExecuteTime": {
     "end_time": "2023-10-12T16:18:01.082960Z",
     "start_time": "2023-10-12T16:18:01.075914Z"
    }
   },
   "id": "8304cb0c60bffd96"
  },
  {
   "cell_type": "code",
   "execution_count": 7,
   "outputs": [
    {
     "name": "stdout",
     "output_type": "stream",
     "text": [
      "{ \"name\": \"get_this_weeks_events_by_type\", \"description\": \"Gets events of a certain type that occur within the current week\", \"parameters\": { \"type\": \"object\", \"properties\": { \"df\": { \"type\": \"object\", \"description\": \"The dataframe containing the events\" }, \"event_type\": { \"type\": \"string\", \"description\": \"The type of event to filter for\" } }, \"required\": [\"df\", \"event_type\"] } }\n"
     ]
    }
   ],
   "source": [
    "import re\n",
    "import json\n",
    "\n",
    "# Original string\n",
    "original_string = \"{ 'name': 'get_this_weeks_events_by_type', 'description': 'Gets events of a certain type that occur within the current week', 'parameters': { 'type': 'object', 'properties': { 'df': { 'type': 'object', 'description': 'The dataframe containing the events' }, 'event_type': { 'type': 'string', 'description': 'The type of event to filter for' } }, 'required': ['df', 'event_type'] } }\"\n",
    "\n",
    "# Regular expression to match single quotes at the start or end of words\n",
    "pattern = r\"'(?=\\w)|(?<=\\w)'\"\n",
    "\n",
    "# Replace matched patterns with double quotes\n",
    "fixed_string = re.sub( pattern, '\"', original_string )\n",
    "print( fixed_string )\n",
    "\n",
    "# Encode the string as a JSON object\n",
    "json_object = json.loads( fixed_string )\n",
    "\n",
    "# Print the JSON object\n",
    "# print(json_object)"
   ],
   "metadata": {
    "collapsed": false,
    "ExecuteTime": {
     "end_time": "2023-10-12T16:18:03.040123Z",
     "start_time": "2023-10-12T16:18:03.035426Z"
    }
   },
   "id": "69f823621ba316c4"
  },
  {
   "cell_type": "markdown",
   "source": [
    "### Prototype & test new function prompt"
   ],
   "metadata": {
    "collapsed": false
   },
   "id": "d74b076f8c6f6421"
  },
  {
   "cell_type": "code",
   "execution_count": 8,
   "outputs": [
    {
     "name": "stdout",
     "output_type": "stream",
     "text": [
      "Token count for `system_message`: [876]\n",
      "Token count for `user_message`: [16]\n",
      "Asking ChatGPT [gpt-4-0613]...\n",
      "Asking ChatGPT [gpt-4-0613]... in 15,837 ms\n"
     ]
    },
    {
     "data": {
      "text/plain": "{'thoughts': \"The question is asking about a specific event, a birthday, for a specific person, grandma. This maps to the function 'get_birthday_by_name' which retrieves the birthday of a given person from a dataframe. The kwargs key would be 'name' and the value would be 'grandma'.\",\n 'is_event_function_call': True,\n 'question': 'is grandmas birthday in october',\n 'function_name': 'get_birthday_by_name',\n 'kwargs_key': 'name',\n 'kwargs_value': 'grandma',\n 'import_as': 'import lib.autogen.util_calendaring_2 as uc2',\n 'call_template': \"uc2.get_birthday_by_name( df, name='grandma' )\",\n 'code': ['import lib.autogen.util_calendaring_2 as uc2',\n  \"uc2.get_birthday_by_name( df, name='grandma' )\"]}"
     },
     "execution_count": 8,
     "metadata": {},
     "output_type": "execute_result"
    }
   ],
   "source": [
    "%autoreload\n",
    "fm_agent      = FunctionMappingAgentJson( \"/src/conf/long-term-memory/events.csv\", debug=True )\n",
    "results_dict  = fm_agent.run_prompt( question=\"Is Grandma's birthday in October?\" )\n",
    "results_dict"
   ],
   "metadata": {
    "collapsed": false,
    "ExecuteTime": {
     "end_time": "2023-10-12T16:18:30.138240Z",
     "start_time": "2023-10-12T16:18:13.350014Z"
    }
   },
   "id": "e0746c58f15021d1"
  },
  {
   "cell_type": "code",
   "execution_count": 10,
   "outputs": [
    {
     "name": "stdout",
     "output_type": "stream",
     "text": [
      "last command, before [uc2.get_birthday_by_name( df, name='grandma' )]:\n",
      "return_type [string]\n",
      "ERROR: return_type [string] and last command [uc2.get_birthday_by_name( df, name='grandma' )] are incompatible!\n",
      "last command,  after [uc2.get_birthday_by_name( df, name='grandma' )]:\n",
      "import pandas as pd\n",
      "import lib.util as du\n",
      "import lib.util_pandas as dup\n",
      "\n",
      "debug = True\n",
      "\n",
      "df = pd.read_csv( du.get_project_root() + '/src/conf/long-term-memory/events.csv' )\n",
      "df = dup.cast_to_datetime( df, debug=debug )\n",
      "import lib.autogen.util_calendaring_2 as uc2\n",
      "uc2.get_birthday_by_name( df, name='grandma' )\n",
      "\n",
      "Executing /var/genie-in-the-box/io/code.py... Done!\n"
     ]
    }
   ],
   "source": [
    "%autoreload\n",
    "if fm_agent.is_code_runnable():\n",
    "    \n",
    "    code_response = fm_agent.run_code()\n",
    "    code_response\n"
   ],
   "metadata": {
    "collapsed": false,
    "ExecuteTime": {
     "end_time": "2023-10-12T16:23:04.838822Z",
     "start_time": "2023-10-12T16:23:04.539784Z"
    }
   },
   "id": "d0c1b2c46085314d"
  },
  {
   "cell_type": "code",
   "execution_count": 12,
   "outputs": [
    {
     "data": {
      "text/plain": "{'return_code': 0, 'output': 'No results returned'}"
     },
     "execution_count": 12,
     "metadata": {},
     "output_type": "execute_result"
    }
   ],
   "source": [
    "fm_agent.code_response_dict"
   ],
   "metadata": {
    "collapsed": false,
    "ExecuteTime": {
     "end_time": "2023-10-12T16:23:27.483086Z",
     "start_time": "2023-10-12T16:23:27.433838Z"
    }
   },
   "id": "1c3cdc455063dca7"
  },
  {
   "cell_type": "code",
   "execution_count": 13,
   "outputs": [
    {
     "name": "stdout",
     "output_type": "stream",
     "text": [
      "Token count for `formatting preamble`: [59]\n",
      "Token count for `formatting instructions`: [51]\n",
      "Asking ChatGPT [gpt-3.5-turbo-0613]...\n",
      "Asking ChatGPT [gpt-3.5-turbo-0613]... in 805 ms\n"
     ]
    },
    {
     "data": {
      "text/plain": "'No results returned.'"
     },
     "execution_count": 13,
     "metadata": {},
     "output_type": "execute_result"
    }
   ],
   "source": [
    "fm_agent.format_output()"
   ],
   "metadata": {
    "collapsed": false,
    "ExecuteTime": {
     "end_time": "2023-10-12T16:23:39.169362Z",
     "start_time": "2023-10-12T16:23:38.354608Z"
    }
   },
   "id": "279091aff5e01ad2"
  },
  {
   "cell_type": "code",
   "execution_count": 14,
   "outputs": [
    {
     "data": {
      "text/plain": "dict_keys(['get_birthday_by_name', 'get_todays_events_by_type', 'get_this_weeks_events_by_type'])"
     },
     "execution_count": 14,
     "metadata": {},
     "output_type": "execute_result"
    }
   ],
   "source": [
    "fm_agent.signatures_dict.keys()"
   ],
   "metadata": {
    "collapsed": false,
    "ExecuteTime": {
     "end_time": "2023-10-12T16:25:12.240958Z",
     "start_time": "2023-10-12T16:25:12.194022Z"
    }
   },
   "id": "c2d9df23bcbbb720"
  },
  {
   "cell_type": "code",
   "execution_count": null,
   "outputs": [],
   "source": [],
   "metadata": {
    "collapsed": false
   },
   "id": "59372c63a43a4b86"
  },
  {
   "cell_type": "code",
   "execution_count": null,
   "outputs": [],
   "source": [],
   "metadata": {
    "collapsed": false
   },
   "id": "35789b2d4be35c63"
  },
  {
   "cell_type": "markdown",
   "source": [
    "### Test new refactoring agent"
   ],
   "metadata": {
    "collapsed": false
   },
   "id": "181d5d613fb7323"
  },
  {
   "cell_type": "code",
   "execution_count": 18,
   "outputs": [],
   "source": [
    "%autoreload\n",
    "    \n",
    "def begin_refactoring_similar_questions( question, run_prompt=False, threshold=90.0, debug=False ):\n",
    "    \n",
    "    path_to_snapshots = du.get_project_root() + \"/src/conf/long-term-memory/solutions/\"\n",
    "    snapshot_mgr      = SolutionSnapshotManager( path_to_snapshots, debug=debug )\n",
    "    exemplar_snapshot = snapshot_mgr.get_snapshots_by_question( question )[ 0 ][ 1 ]\n",
    "    similar_snapshots = snapshot_mgr.get_snapshots_by_code_similarity( exemplar_snapshot, threshold=threshold )\n",
    "        \n",
    "    agent = RefactoringAgent( \n",
    "        similar_snapshots=similar_snapshots, \n",
    "        path_to_solutions=\"/src/conf/long-term-memory/solutions\", \n",
    "        debug=True, verbose=True \n",
    "    )\n",
    "    \n",
    "    if run_prompt and agent.is_promptable():\n",
    "        agent.run_prompt()\n",
    "    else:\n",
    "        print( f\"run_prompt={run_prompt} -- OR -- No similar snapshots found for [{du.truncate_string( exemplar_snapshot.question, max_len=32 )}]\" )\n",
    "        \n",
    "    return agent\n",
    "    \n",
    "# agent = begin_refactoring_similar_questions( \"What birthdays do I have this week?\", threshold=90.0, debug=False )        "
   ],
   "metadata": {
    "collapsed": false,
    "ExecuteTime": {
     "end_time": "2023-10-12T16:57:49.203708Z",
     "start_time": "2023-10-12T16:57:49.189340Z"
    }
   },
   "id": "6baaa423cca266bd"
  },
  {
   "cell_type": "code",
   "execution_count": 19,
   "outputs": [
    {
     "name": "stdout",
     "output_type": "stream",
     "text": [
      "\n",
      "------------------------------------------------------------------------------------------------------------------------\n",
      "- Found [42] synonymous questions\n",
      "------------------------------------------------------------------------------------------------------------------------\n",
      "\n",
      "Synonymous question [when is juans birthday] for snapshot.question [when is juans birthday]\n",
      "Synonymous question [when are we celebrating juans birthday] for snapshot.question [when is juans birthday]\n",
      "Synonymous question [when is juans birthday party] for snapshot.question [when is juans birthday]\n",
      "Synonymous question [is juans birthday on october th] for snapshot.question [when is juans birthday]\n",
      "Synonymous question [what is juans birthday] for snapshot.question [when is juans birthday]\n",
      "Synonymous question [is juans birthday in october] for snapshot.question [when is juans birthday]\n",
      "Synonymous question [what day is today] for snapshot.question [what day is today]\n",
      "Synonymous question [whats todays date] for snapshot.question [what day is today]\n",
      "Synonymous question [whats todays day and date] for snapshot.question [what day is today]\n",
      "Synonymous question [what is the day and date for today] for snapshot.question [what day is today]\n",
      "Synonymous question [whats the date] for snapshot.question [what day is today]\n",
      "Synonymous question [say what day is today] for snapshot.question [what day is today]\n",
      "Synonymous question [hey what day is today] for snapshot.question [what day is today]\n",
      "Synonymous question [whats todays day] for snapshot.question [what day is today]\n",
      "Synonymous question [what day is it] for snapshot.question [what day is today]\n",
      "Synonymous question [what time is it] for snapshot.question [what time is it]\n",
      "Synonymous question [got the time] for snapshot.question [what time is it]\n",
      "Synonymous question [whats the time] for snapshot.question [what time is it]\n",
      "Synonymous question [yo what time is it] for snapshot.question [what time is it]\n",
      "Synonymous question [hey you got the time] for snapshot.question [what time is it]\n",
      "Synonymous question [hey you what time is it] for snapshot.question [what time is it]\n",
      "Synonymous question [hey what time is it] for snapshot.question [what time is it]\n",
      "Synonymous question [what performances do i have today] for snapshot.question [what performances do i have today]\n",
      "Synonymous question [what appointments do i have today] for snapshot.question [what appointments do i have today]\n",
      "Synonymous question [do i have any appointments today] for snapshot.question [what appointments do i have today]\n",
      "Synonymous question [when is anitas birthday] for snapshot.question [when is anitas birthday]\n",
      "Synonymous question [when is jimmys birthday] for snapshot.question [when is jimmys birthday]\n",
      "Synonymous question [wins jimmys birthday] for snapshot.question [when is jimmys birthday]\n",
      "Synonymous question [whens jimmys birthday] for snapshot.question [when is jimmys birthday]\n",
      "Synonymous question [what birthdays do i have this week] for snapshot.question [what birthdays do i have this week]\n",
      "Synonymous question [what conferences do i have today] for snapshot.question [what conferences do i have today]\n",
      "Synonymous question [when is bobby's birthday?] for snapshot.question [when is bobbys birthday]\n",
      "Synonymous question [when is bobbys birthday] for snapshot.question [when is bobbys birthday]\n",
      "Synonymous question [how many records in this dataframe] for snapshot.question [how many records in this dataframe]\n",
      "Synonymous question [how many rows in this table] for snapshot.question [how many records in this dataframe]\n",
      "Synonymous question [how many records in this table] for snapshot.question [how many records in this dataframe]\n",
      "Synonymous question [how many records in this csv file] for snapshot.question [how many records in this dataframe]\n",
      "Synonymous question [how many records in that table] for snapshot.question [how many records in this dataframe]\n",
      "Synonymous question [how many rows in that data frame] for snapshot.question [how many records in this dataframe]\n",
      "Synonymous question [how many records in that database] for snapshot.question [how many records in this dataframe]\n",
      "Synonymous question [how many records do i have in that table] for snapshot.question [how many records in this dataframe]\n",
      "Synonymous question [what concerts do i have this week] for snapshot.question [what concerts do i have this week]\n",
      "\n",
      "Loading question embeddings dictionary ............................................................................................. Done!\n",
      "\n",
      "Code similarity score [100.00001452655611] for [when is juans birthday] == [when is juans birthday]\n",
      "Code similarity score [98.23635770689542] for [when is juans birthday] == [when is bobbys birthday]\n",
      "Code similarity score [98.20251069928037] for [when is juans birthday] == [when is jimmys birthday]\n",
      "Code similarity score [97.75243254571453] for [when is juans birthday] == [when is anitas birthday]\n",
      "\n",
      "Snippet 1 for question `when is juans birthday`: \n",
      "\n",
      "import lib.autogen.util_calendaring_2 as uc2\n",
      "print(uc2.get_birthday_by_name(df, name='Juan'))\n",
      "\n",
      "Snippet 2 for question `when is bobbys birthday`: \n",
      "\n",
      "import lib.autogen.util_calendaring_2 as uc2\n",
      "print(uc2.get_birthday_by_name(df, name='Bobby'))\n",
      "\n",
      "Snippet 3 for question `when is jimmys birthday`: \n",
      "\n",
      "import lib.autogen.util_calendaring_2 as uc2\n",
      "print(uc2.get_birthday_by_name(df, name='Jimmy'))\n",
      "\n",
      "Snippet 4 for question `when is anitas birthday`: \n",
      "\n",
      "import lib.autogen.util_calendaring_2 as uc2\n",
      "print(uc2.get_birthday_by_name(df, name='Anita'))\n",
      "\n",
      "run_prompt=False -- OR -- No similar snapshots found for [when is juans birthday]\n"
     ]
    }
   ],
   "source": [
    "%autoreload\n",
    "rf_agent = begin_refactoring_similar_questions( \"When is Juan's birthday?\", run_prompt=False )\n",
    "# agent"
   ],
   "metadata": {
    "collapsed": false,
    "ExecuteTime": {
     "end_time": "2023-10-12T16:57:50.490458Z",
     "start_time": "2023-10-12T16:57:50.425976Z"
    }
   },
   "id": "6021192ecc93d3c9"
  },
  {
   "cell_type": "code",
   "execution_count": 20,
   "outputs": [
    {
     "name": "stdout",
     "output_type": "stream",
     "text": [
      "\n",
      "------------------------------------------------------------------------------------------------------------------------\n",
      "- Token count for `system_message`: [778]\n",
      "------------------------------------------------------------------------------------------------------------------------\n",
      "\n",
      "\n",
      "        I'm going to show you 4 Python code snippets that are similar, along with the questions they were created to answer.\n",
      "        How would you coalesce or refactor them so that you only need to call one function in all 4 scenarios?\n",
      "        How would you name the function in a way that clearly explains exactly what the date range is, e.g., 'get_this_months_events_by_type', as well as what the function does?\n",
      "        Descriptive function names MUST look like: `get_birthday_by_name`, or `get_todays_events`, `get_todays_events_by_type`, `get_tomorrows_events`, `get_this_weeks_events`, `get_this_weeks_events_by_type`,`get_this_months_events_by_type`, etc.,\n",
      "\n",
      "        As you generate the Python 3.10 code needed to answer this question, I want you to:\n",
      "\n",
      "        1) Think: Before you do anything, think out loud about what I'm asking you to do, including the steps that you will need to take to solve this problem.\n",
      "        Be critical of your thought process! How will you handle the edge cases? For example, what will you do if your query does not return a result?\n",
      "        2) Code: Generate a verbatim list of code that you used to arrive at your answer, one line of code per item on the list. The code must be complete,\n",
      "        syntactically correct, and capable of running to completion. You must allow for the possibility that your query may not return a result.\n",
      "        3) Document: Create a GPT function signature (gpt_function_signatures) that can be used by GPT to call the function you create. The function signature MUST be\n",
      "        syntactically correct.\n",
      "        4) Generate examples: Generate a dictionary containing the code examples needed to call the function you created, one line of code per question provided.\n",
      "        The example function calls must be complete, syntactically correct, and capable of running to completion. Each example must be wrapped in a print statement.\n",
      "        5) Explain: Briefly and succinctly explain your code in plain English.\n",
      "\n",
      "        Format: return your response as a syntactically correct JSON object with the following fields and formatting:\n",
      "        {\n",
      "            \"thoughts\": \"Your thoughts\",\n",
      "            \"code\": [],\n",
      "            \"function_name\": \"The name of your function. It must describe the time period being filtered, e.g., `get_tomorrows_events`, get_todays_events`, etc.\",\n",
      "            \"parameters\": \"The parameters to your function, only two are allowed: the 1st will always be `df` and the 2nd will always be **kwargs. All keys in the\n",
      "            **kwargs dictionary MUST be the names of the pandas field they correspond to in the dataframe.\",\n",
      "            \"gpt_function_signatures\":\"[\n",
      "            {\n",
      "                \"name\": \"get_current_weather\",\n",
      "                \"description\": \"Gets the current weather in a given location\",\n",
      "                \"parameters\": {\n",
      "                    \"type\": \"object\",\n",
      "                    \"properties\": {\n",
      "                        \"location\": {\n",
      "                            \"type\": \"string\",\n",
      "                            \"description\": \"The city and state, e.g. San Francisco, CA\",\n",
      "                        },\n",
      "                        \"unit\": {\"type\": \"string\", \"enum\": [\"celsius\", \"fahrenheit\"]},\n",
      "                    },\n",
      "                    \"required\": [\"location\"],\n",
      "                },\n",
      "            }]\",\n",
      "            \"returns\": \"Object type of the variable `solution`\",\n",
      "            \"examples\": {}, a dictionary containing the questions and example code, one line of code per question provided.\n",
      "            \"python_version\": \"3.10\",\n",
      "            \"explanation\": \"A brief explanation of your code\",\n",
      "            \"error\": \"Verbatim stack trace or description of issues encountered while attempting to carry out this task.\"\n",
      "        }\n",
      "\n",
      "------------------------------------------------------------------------------------------------------------------------\n",
      "- Token count for `user_message`: [178]\n",
      "------------------------------------------------------------------------------------------------------------------------\n",
      "\n",
      "\n",
      "        Snippet 1 for question `when is juans birthday`: \n",
      "\n",
      "import lib.autogen.util_calendaring_2 as uc2\n",
      "print(uc2.get_birthday_by_name(df, name='Juan'))\n",
      "\n",
      "Snippet 2 for question `when is bobbys birthday`: \n",
      "\n",
      "import lib.autogen.util_calendaring_2 as uc2\n",
      "print(uc2.get_birthday_by_name(df, name='Bobby'))\n",
      "\n",
      "Snippet 3 for question `when is jimmys birthday`: \n",
      "\n",
      "import lib.autogen.util_calendaring_2 as uc2\n",
      "print(uc2.get_birthday_by_name(df, name='Jimmy'))\n",
      "\n",
      "Snippet 4 for question `when is anitas birthday`: \n",
      "\n",
      "import lib.autogen.util_calendaring_2 as uc2\n",
      "print(uc2.get_birthday_by_name(df, name='Anita'))\n",
      "\n",
      "        Begin!\n",
      "        \n",
      "Asking ChatGPT [gpt-4-0613]...\n",
      "Asking ChatGPT [gpt-4-0613]... in 56,026 ms\n",
      "\n",
      "{\n",
      "    \"id\": \"chatcmpl-88tITlZdeDE1B0fjThjN6Pszgk8z0\",\n",
      "    \"object\": \"chat.completion\",\n",
      "    \"created\": 1697129877,\n",
      "    \"model\": \"gpt-4-0613\",\n",
      "    \"choices\": [\n",
      "        {\n",
      "            \"index\": 0,\n",
      "            \"message\": {\n",
      "                \"role\": \"assistant\",\n",
      "                \"content\": \"{\\n    \\\"thoughts\\\": \\\"The four code snippets are essentially doing the same thing: they are retrieving the birthday of a person by their name from a dataframe. The only difference between them is the name of the person. Therefore, we can refactor these snippets into a single function that takes the name as a parameter. If the query does not return a result, we can return a message indicating that the person's birthday is not found in the dataframe.\\\",\\n\\n    \\\"code\\\": [\\n        \\\"import pandas as pd\\\",\\n        \\\"def get_birthday_by_name(df: pd.DataFrame, **kwargs):\\\",\\n        \\\"    name = kwargs.get('name')\\\",\\n        \\\"    if name is not None:\\\",\\n        \\\"        result = df[df['name'] == name]['birthday']\\\",\\n        \\\"        if not result.empty:\\\",\\n        \\\"            return result.values[0]\\\",\\n        \\\"    return 'Birthday not found'\\\"\\n    ],\\n\\n    \\\"function_name\\\": \\\"get_birthday_by_name\\\",\\n\\n    \\\"parameters\\\": \\\"df: a pandas DataFrame containing the data, **kwargs: a dictionary containing the name of the person whose birthday is to be retrieved\\\",\\n\\n    \\\"gpt_function_signatures\\\": \\\"[{ 'name': 'get_birthday_by_name', 'description': 'Gets the birthday of a person by their name from a dataframe', 'parameters': { 'type': 'object', 'properties': { 'df': { 'type': 'object', 'description': 'The dataframe containing the data' }, 'name': { 'type': 'string', 'description': 'The name of the person whose birthday is to be retrieved' } }, 'required': ['df', 'name'] } }]\\\",\\n\\n    \\\"returns\\\": \\\"The birthday of the person if found, otherwise a message indicating that the birthday is not found\\\",\\n\\n    \\\"examples\\\": {\\n        \\\"when is juans birthday\\\": \\\"print(get_birthday_by_name(df, name='Juan'))\\\",\\n        \\\"when is bobbys birthday\\\": \\\"print(get_birthday_by_name(df, name='Bobby'))\\\",\\n        \\\"when is jimmys birthday\\\": \\\"print(get_birthday_by_name(df, name='Jimmy'))\\\",\\n        \\\"when is anitas birthday\\\": \\\"print(get_birthday_by_name(df, name='Anita'))\\\"\\n    },\\n\\n    \\\"python_version\\\": \\\"3.10\\\",\\n\\n    \\\"explanation\\\": \\\"The function 'get_birthday_by_name' takes a dataframe and a name as parameters. It then filters the dataframe for the given name and retrieves the birthday of the person. If the person's name is not found in the dataframe, it returns a message indicating that the birthday is not found.\\\",\\n\\n    \\\"error\\\": \\\"No errors encountered\\\"\\n}\"\n",
      "            },\n",
      "            \"finish_reason\": \"stop\"\n",
      "        }\n",
      "    ],\n",
      "    \"usage\": {\n",
      "        \"prompt_tokens\": 967,\n",
      "        \"completion_tokens\": 550,\n",
      "        \"total_tokens\": 1517\n",
      "    }\n",
      "}\n",
      "{\n",
      "    \"thoughts\": \"The four code snippets are essentially doing the same thing: they are retrieving the birthday of a person by their name from a dataframe. The only difference between them is the name of the person. Therefore, we can refactor these snippets into a single function that takes the name as a parameter. If the query does not return a result, we can return a message indicating that the person's birthday is not found in the dataframe.\",\n",
      "    \"code\": [\n",
      "        \"import pandas as pd\",\n",
      "        \"def get_birthday_by_name(df: pd.DataFrame, **kwargs):\",\n",
      "        \"    name = kwargs.get('name')\",\n",
      "        \"    if name is not None:\",\n",
      "        \"        result = df[df['name'] == name]['birthday']\",\n",
      "        \"        if not result.empty:\",\n",
      "        \"            return result.values[0]\",\n",
      "        \"    return 'Birthday not found'\"\n",
      "    ],\n",
      "    \"function_name\": \"get_birthday_by_name\",\n",
      "    \"parameters\": \"df: a pandas DataFrame containing the data, **kwargs: a dictionary containing the name of the person whose birthday is to be retrieved\",\n",
      "    \"gpt_function_signatures\": \"[{ 'name': 'get_birthday_by_name', 'description': 'Gets the birthday of a person by their name from a dataframe', 'parameters': { 'type': 'object', 'properties': { 'df': { 'type': 'object', 'description': 'The dataframe containing the data' }, 'name': { 'type': 'string', 'description': 'The name of the person whose birthday is to be retrieved' } }, 'required': ['df', 'name'] } }]\",\n",
      "    \"returns\": \"The birthday of the person if found, otherwise a message indicating that the birthday is not found\",\n",
      "    \"examples\": {\n",
      "        \"when is juans birthday\": \"print(get_birthday_by_name(df, name='Juan'))\",\n",
      "        \"when is bobbys birthday\": \"print(get_birthday_by_name(df, name='Bobby'))\",\n",
      "        \"when is jimmys birthday\": \"print(get_birthday_by_name(df, name='Jimmy'))\",\n",
      "        \"when is anitas birthday\": \"print(get_birthday_by_name(df, name='Anita'))\"\n",
      "    },\n",
      "    \"python_version\": \"3.10\",\n",
      "    \"explanation\": \"The function 'get_birthday_by_name' takes a dataframe and a name as parameters. It then filters the dataframe for the given name and retrieves the birthday of the person. If the person's name is not found in the dataframe, it returns a message indicating that the birthday is not found.\",\n",
      "    \"error\": \"No errors encountered\"\n",
      "}\n"
     ]
    },
    {
     "data": {
      "text/plain": "{'thoughts': \"The four code snippets are essentially doing the same thing: they are retrieving the birthday of a person by their name from a dataframe. The only difference between them is the name of the person. Therefore, we can refactor these snippets into a single function that takes the name as a parameter. If the query does not return a result, we can return a message indicating that the person's birthday is not found in the dataframe.\",\n 'code': ['import pandas as pd',\n  'def get_birthday_by_name(df: pd.DataFrame, **kwargs):',\n  \"    name = kwargs.get('name')\",\n  '    if name is not None:',\n  \"        result = df[df['name'] == name]['birthday']\",\n  '        if not result.empty:',\n  '            return result.values[0]',\n  \"    return 'Birthday not found'\"],\n 'function_name': 'get_birthday_by_name',\n 'parameters': 'df: a pandas DataFrame containing the data, **kwargs: a dictionary containing the name of the person whose birthday is to be retrieved',\n 'gpt_function_signatures': \"[{ 'name': 'get_birthday_by_name', 'description': 'Gets the birthday of a person by their name from a dataframe', 'parameters': { 'type': 'object', 'properties': { 'df': { 'type': 'object', 'description': 'The dataframe containing the data' }, 'name': { 'type': 'string', 'description': 'The name of the person whose birthday is to be retrieved' } }, 'required': ['df', 'name'] } }]\",\n 'returns': 'The birthday of the person if found, otherwise a message indicating that the birthday is not found',\n 'examples': {'when is juans birthday': \"print(get_birthday_by_name(df, name='Juan'))\",\n  'when is bobbys birthday': \"print(get_birthday_by_name(df, name='Bobby'))\",\n  'when is jimmys birthday': \"print(get_birthday_by_name(df, name='Jimmy'))\",\n  'when is anitas birthday': \"print(get_birthday_by_name(df, name='Anita'))\"},\n 'python_version': '3.10',\n 'explanation': \"The function 'get_birthday_by_name' takes a dataframe and a name as parameters. It then filters the dataframe for the given name and retrieves the birthday of the person. If the person's name is not found in the dataframe, it returns a message indicating that the birthday is not found.\",\n 'error': 'No errors encountered'}"
     },
     "execution_count": 20,
     "metadata": {},
     "output_type": "execute_result"
    }
   ],
   "source": [
    "%autoreload\n",
    "rf_agent.run_prompt()"
   ],
   "metadata": {
    "collapsed": false,
    "ExecuteTime": {
     "end_time": "2023-10-12T16:58:52.590894Z",
     "start_time": "2023-10-12T16:57:56.536215Z"
    }
   },
   "id": "924dcb231738f1dd"
  },
  {
   "cell_type": "code",
   "execution_count": 19,
   "outputs": [
    {
     "name": "stdout",
     "output_type": "stream",
     "text": [
      "Writing file [/var/genie-in-the-box/src/lib/autogen/util_calendaring_2.py]... Done!\n",
      "Writing file [/var/genie-in-the-box/src/lib/autogen/util_calendaring_2.json]... Done!\n",
      "Writing file [/var/genie-in-the-box/io/lib/autogen/util_calendaring_2.py]... Done!\n",
      "\n",
      "Generating embedding for [import lib.autogen.util_calendaring_2 as uc2 print(uc2.get_birth...]...\n",
      "Generating embedding for [import lib.autogen.util_calendaring_2 as uc2 print(uc2.get_birth...]... Done! in 235 ms\n",
      "\n",
      "solution_file value provided: [when-is-juans-birthday-0.json]...\n",
      "File path: /var/genie-in-the-box/src/conf/long-term-memory/solutions/when-is-juans-birthday-0.json\n",
      "\n",
      "Generating embedding for [import lib.autogen.util_calendaring_2 as uc2 print(uc2.get_birth...]...\n",
      "Generating embedding for [import lib.autogen.util_calendaring_2 as uc2 print(uc2.get_birth...]... Done! in 215 ms\n",
      "\n",
      "solution_file value provided: [when-is-jimmys-birthday-0.json]...\n",
      "File path: /var/genie-in-the-box/src/conf/long-term-memory/solutions/when-is-jimmys-birthday-0.json\n",
      "\n",
      "Generating embedding for [import lib.autogen.util_calendaring_2 as uc2 print(uc2.get_birth...]...\n",
      "Generating embedding for [import lib.autogen.util_calendaring_2 as uc2 print(uc2.get_birth...]... Done! in 176 ms\n",
      "\n",
      "solution_file value provided: [when-is-bobbys-birthday-0.json]...\n",
      "File path: /var/genie-in-the-box/src/conf/long-term-memory/solutions/when-is-bobbys-birthday-0.json\n",
      "\n",
      "Generating embedding for [import lib.autogen.util_calendaring_2 as uc2 print(uc2.get_birth...]...\n",
      "Generating embedding for [import lib.autogen.util_calendaring_2 as uc2 print(uc2.get_birth...]... Done! in 179 ms\n",
      "\n",
      "solution_file value provided: [when-is-anitas-birthday-0.json]...\n",
      "File path: /var/genie-in-the-box/src/conf/long-term-memory/solutions/when-is-anitas-birthday-0.json\n"
     ]
    }
   ],
   "source": [
    "%autoreload\n",
    "rf_agent.refactor_code( update_example_code=True, debug=False )"
   ],
   "metadata": {
    "collapsed": false,
    "ExecuteTime": {
     "end_time": "2023-10-11T15:13:09.092118Z",
     "start_time": "2023-10-11T15:13:08.232381Z"
    }
   },
   "id": "2e2b5540867bbae4"
  },
  {
   "cell_type": "code",
   "execution_count": 20,
   "outputs": [
    {
     "name": "stdout",
     "output_type": "stream",
     "text": [
      "last command, before [print(uc2.get_birthday_by_name(df, name='Juan'))]:\n",
      "return_type [string]\n",
      "ERROR: return_type [string] and last command [print(uc2.get_birthday_by_name(df, name='Juan'))] are incompatible!\n",
      "last command,  after [print(uc2.get_birthday_by_name(df, name='Juan'))]:\n",
      "import pandas as pd\n",
      "import lib.util as du\n",
      "import lib.util_pandas as dup\n",
      "\n",
      "debug = True\n",
      "\n",
      "df = pd.read_csv( du.get_project_root() + '/src/conf/long-term-memory/events.csv' )\n",
      "df = dup.cast_to_datetime( df, debug=debug )\n",
      "import lib.autogen.util_calendaring_2 as uc2\n",
      "print(uc2.get_birthday_by_name(df, name='Juan'))\n",
      "\n",
      "Executing /var/genie-in-the-box/io/code.py... Done!\n",
      "\n",
      "------------------------------------------------------------------------------------------------------------------------\n",
      "- Code output\n",
      "------------------------------------------------------------------------------------------------------------------------\n",
      "\n",
      "2023-10-13T00:00:00.000000000\n",
      "\n",
      "last command, before [print(uc2.get_birthday_by_name(df, name='Jimmy'))]:\n",
      "return_type [string]\n",
      "ERROR: return_type [string] and last command [print(uc2.get_birthday_by_name(df, name='Jimmy'))] are incompatible!\n",
      "last command,  after [print(uc2.get_birthday_by_name(df, name='Jimmy'))]:\n",
      "import pandas as pd\n",
      "import lib.util as du\n",
      "import lib.util_pandas as dup\n",
      "\n",
      "debug = True\n",
      "\n",
      "df = pd.read_csv( du.get_project_root() + '/src/conf/long-term-memory/events.csv' )\n",
      "df = dup.cast_to_datetime( df, debug=debug )\n",
      "import lib.autogen.util_calendaring_2 as uc2\n",
      "print(uc2.get_birthday_by_name(df, name='Jimmy'))\n",
      "\n",
      "Executing /var/genie-in-the-box/io/code.py... Done!\n",
      "\n",
      "------------------------------------------------------------------------------------------------------------------------\n",
      "- Code output\n",
      "------------------------------------------------------------------------------------------------------------------------\n",
      "\n",
      "No birthday found for Jimmy\n",
      "\n",
      "last command, before [print(uc2.get_birthday_by_name(df, name='Bobby'))]:\n",
      "return_type [string]\n",
      "ERROR: return_type [string] and last command [print(uc2.get_birthday_by_name(df, name='Bobby'))] are incompatible!\n",
      "last command,  after [print(uc2.get_birthday_by_name(df, name='Bobby'))]:\n",
      "import pandas as pd\n",
      "import lib.util as du\n",
      "import lib.util_pandas as dup\n",
      "\n",
      "debug = True\n",
      "\n",
      "df = pd.read_csv( du.get_project_root() + '/src/conf/long-term-memory/events.csv' )\n",
      "df = dup.cast_to_datetime( df, debug=debug )\n",
      "import lib.autogen.util_calendaring_2 as uc2\n",
      "print(uc2.get_birthday_by_name(df, name='Bobby'))\n",
      "\n",
      "Executing /var/genie-in-the-box/io/code.py... Done!\n",
      "\n",
      "------------------------------------------------------------------------------------------------------------------------\n",
      "- Code output\n",
      "------------------------------------------------------------------------------------------------------------------------\n",
      "\n",
      "No birthday found for Bobby\n",
      "\n",
      "last command, before [print(uc2.get_birthday_by_name(df, name='Anita'))]:\n",
      "return_type [string]\n",
      "ERROR: return_type [string] and last command [print(uc2.get_birthday_by_name(df, name='Anita'))] are incompatible!\n",
      "last command,  after [print(uc2.get_birthday_by_name(df, name='Anita'))]:\n",
      "import pandas as pd\n",
      "import lib.util as du\n",
      "import lib.util_pandas as dup\n",
      "\n",
      "debug = True\n",
      "\n",
      "df = pd.read_csv( du.get_project_root() + '/src/conf/long-term-memory/events.csv' )\n",
      "df = dup.cast_to_datetime( df, debug=debug )\n",
      "import lib.autogen.util_calendaring_2 as uc2\n",
      "print(uc2.get_birthday_by_name(df, name='Anita'))\n",
      "\n",
      "Executing /var/genie-in-the-box/io/code.py... Done!\n",
      "\n",
      "------------------------------------------------------------------------------------------------------------------------\n",
      "- Code output\n",
      "------------------------------------------------------------------------------------------------------------------------\n",
      "\n",
      "No birthday found for Anita\n"
     ]
    },
    {
     "data": {
      "text/plain": "[{'return_code': 0, 'output': '2023-10-13T00:00:00.000000000'},\n {'return_code': 0, 'output': 'No birthday found for Jimmy'},\n {'return_code': 0, 'output': 'No birthday found for Bobby'},\n {'return_code': 0, 'output': 'No birthday found for Anita'}]"
     },
     "execution_count": 20,
     "metadata": {},
     "output_type": "execute_result"
    }
   ],
   "source": [
    "rf_agent.run_code()"
   ],
   "metadata": {
    "collapsed": false,
    "ExecuteTime": {
     "end_time": "2023-10-11T15:13:55.186229Z",
     "start_time": "2023-10-11T15:13:54.148083Z"
    }
   },
   "id": "96fcae1a47ecd770"
  },
  {
   "cell_type": "markdown",
   "source": [
    "### Re-factor, test and debug calendaring agent"
   ],
   "metadata": {
    "collapsed": false
   },
   "id": "e454c3ee8edc1910"
  },
  {
   "cell_type": "code",
   "execution_count": 31,
   "outputs": [
    {
     "name": "stdout",
     "output_type": "stream",
     "text": [
      "\n",
      "/Applications/PyCharm.app/Contents/plugins/python/helpers-pro/jupyter_debug\n",
      "/Applications/PyCharm.app/Contents/plugins/python/helpers/pydev\n",
      "/usr/local/lib/python3.10\n",
      "/usr/local/lib/python3.10/lib-dynload\n",
      "/usr/local/lib/python3.10/site-packages\n",
      "/usr/local/lib/python310.zip\n",
      "/var/genie-in-the-box/src\n",
      "/var/genie-in-the-box/src/ephemera/notebooks\n",
      "/var/genie-in-the-box/src/lib\n",
      "Processing [What is the date today?]...\n",
      "Token count for `system_message`: [Not yet available for TGI/Phind-CodeLlama-34B-v2]\n",
      "Token count for `user_message`: [Not yet available for TGI/Phind-CodeLlama-34B-v2]\n",
      "Prompt:\n",
      "[\n",
      "        You are a cheerfully helpful assistant, with proven expertise in Python using pandas dataframes containing calendaring and events information. The name of the dataframe is `df`.\n",
      "\n",
      "        This is the ouput from `print(df.head().to_csv())`, in CSV format:\n",
      "\n",
      "        start_date,end_date,start_time,end_time,event_type,recurrent,recurrence_interval,priority_level,name,relationship,description_who_what_where\n",
      "2023-09-01,2023-09-04,00:00,23:59,concert,False,,none,Jenny,coworker,Concert of Jenny at the city center\n",
      "2023-09-01,2023-09-01,05:25,17:22,todo,False,,highest,Gregorio,friend,Send out invitations for the party for Gregorio\n",
      "2023-09-01,2023-09-01,13:27,01:59,appointment,False,,high,Leroy Ruiz,father,Appointment with Leroy Ruiz at the clinic\n",
      "2023-11-01,2023-11-01,00:00,23:59,birthday,True,3 day,low,Bob,brother,Bob's birthday party at their favorite bar\n",
      "2023-11-01,2023-11-01,00:00,23:59,anniversary,True,3 week,highest,Tom Ruiz,brother,Tom Ruiz's anniversary celebration at the park\n",
      "2023-11-01,2023-11-04,00:00,23:59,concert,False,,highest,John,coworker,Concert of John at the city center\n",
      "\n",
      "\n",
      "        This is the output from `print(self.df.event_type.value_counts())`:\n",
      "\n",
      "        event_type\n",
      "conference      24\n",
      "concert         22\n",
      "performance     21\n",
      "appointment     17\n",
      "anniversary     17\n",
      "workout         17\n",
      "birthday        16\n",
      "workshop        15\n",
      "todo            14\n",
      "subscription    14\n",
      "meeting         12\n",
      "interview       11\n",
      "Name: count, dtype: int64\n",
      "\n",
      "        BEFORE you generate the python code needed to answer the question below, I want you to:\n",
      "\n",
      "        1) Question: Ask yourself if you understand the question that I am asking you. ` Pay attention to the details!\n",
      "        \n",
      "        2) Think: Before you do anything, think out loud about what I am asking you to do, including what are the steps that you will need to take to solve this problem. Be critical of your thought process!\n",
      "        \n",
      "        3) Code: Generate an XML document containing the Python code that you used to arrive at your answer. The code must be complete, syntactically correct, and capable of running to completion. The last line of your code must be be `return solution`.\n",
      "        \n",
      "        4) Return: Report on the object type of the variable `solution` in your last line of code. Use one word to represent the object type.\n",
      "        \n",
      "        5) Example: Create a one line example of how to call your code.\n",
      "        \n",
      "        6) Explain: Explain how your code works, including any assumptions that you made.\n",
      "        \n",
      "        Question: What is the date today?\n",
      "\n",
      "        Format: return your response as an XML document with the following fields:\n",
      "        \n",
      "        <response>\n",
      "            <question>What is the date today?</question>\n",
      "            <thoughts>Your thoughts</thoughts>\n",
      "            <code>\n",
      "                <line>import foo</line>\n",
      "                <line>def function_name_here( ... ):</line>\n",
      "                <line>    return solution</line>\n",
      "            </code>\n",
      "            <returns>Object type of the variable `solution`</returns>\n",
      "            <example>One-line example of how to call your code: solution = function_name_here( arguments )</example>\n",
      "            <explanation>Explanation of how the code works</explanation>\n",
      "            <error>Description of any issues or errors that you encountered while attempting to fulfill this request</error>\n",
      "        </response>\n",
      "        \n",
      "        Hint: An event that I have today may have started before today and may end tomorrow or next week, so be careful how you filter on dates.\n",
      "        Hint: When filtering by dates, use `pd.Timestamp( day )` to convert a Python datetime object into a Pandas `datetime64[ns]` value.\n",
      "        Hint: If your solution variable is a dataframe, it should include all columns in the dataframe.\n",
      "        Hint: If you cannot answer the question, explain why in the `error` field\n",
      "        Hint: Allow for the possibility that your query may return no results.\n",
      "        ]\n",
      "Asking LLM [TGI/Phind-CodeLlama-34B-v2]...\n",
      "\n",
      "        <response>\n",
      "            <question>What is the date today?</question>\n",
      "            <thoughts>The question is asking for the current date. I will use the datetime module to get the current date and return it as a string.</thoughts>\n",
      "            <code>\n",
      "                <line>import datetime</line>\n",
      "                <line>def get_current_date():</line>\n",
      "                <line>    today = datetime.datetime.now().strftime(\"%Y-%m-%d\")</line>\n",
      "                <line>    return today</line>\n",
      "            </code>\n",
      "            <returns>string</returns>\n",
      "            <example>solution = get_current_date()</example>\n",
      "            <explanation>The function get_current_date() gets the current date using datetime.datetime.now() and formats it as a string in the format \"YYYY-MM-DD\".</explanation>\n",
      "            <error></error>\n",
      "        </response>\n",
      "Asking LLM [TGI/Phind-CodeLlama-34B-v2]... in 6,657 ms\n",
      "\n",
      "Token list length [216]\n",
      "<response>\n",
      "            <question>What is the date today?</question>\n",
      "            <thoughts>The question is asking for the current date. I will use the datetime module to get the current date and return it as a string.</thoughts>\n",
      "            <code>\n",
      "                <line>import datetime</line>\n",
      "                <line>def get_current_date():</line>\n",
      "                <line>    today = datetime.datetime.now().strftime(\"%Y-%m-%d\")</line>\n",
      "                <line>    return today</line>\n",
      "            </code>\n",
      "            <returns>string</returns>\n",
      "            <example>solution = get_current_date()</example>\n",
      "            <explanation>The function get_current_date() gets the current date using datetime.datetime.now() and formats it as a string in the format \"YYYY-MM-DD\".</explanation>\n",
      "            <error></error>\n",
      "        </response>\n",
      "{\n",
      "    \"question\": \"What is the date today?\",\n",
      "    \"thoughts\": \"The question is asking for the current date. I will use the datetime module to get the current date and return it as a string.\",\n",
      "    \"answer\": \"\",\n",
      "    \"code\": [\n",
      "        \"import datetime\",\n",
      "        \"def get_current_date():\",\n",
      "        \"    today = datetime.datetime.now().strftime(\\\"%Y-%m-%d\\\")\",\n",
      "        \"    return today\"\n",
      "    ],\n",
      "    \"returns\": \"string\",\n",
      "    \"example\": \"solution = get_current_date()\",\n",
      "    \"explanation\": \"The function get_current_date() gets the current date using datetime.datetime.now() and formats it as a string in the format \\\"YYYY-MM-DD\\\".\",\n",
      "    \"error\": \"\"\n",
      "}\n",
      "return_type [string]\n",
      "import pandas as pd\n",
      "import lib.utils.util as du\n",
      "import lib.utils.util_pandas as dup\n",
      "\n",
      "debug = True\n",
      "\n",
      "df = pd.read_csv( du.get_project_root() + '/src/conf/long-term-memory/events.csv' )\n",
      "df = dup.cast_to_datetime( df, debug=debug )\n",
      "import datetime\n",
      "def get_current_date():\n",
      "    today = datetime.datetime.now().strftime(\"%Y-%m-%d\")\n",
      "    return today\n",
      "solution = get_current_date()\n",
      "print( solution )\n",
      "\n",
      "Executing /var/genie-in-the-box/io/code.py... Done!\n",
      "\n",
      "------------------------------------------------------------------------------------------------------------------------\n",
      "- Code output\n",
      "------------------------------------------------------------------------------------------------------------------------\n",
      "\n",
      "2023-11-27\n",
      "Processing [What is the date today?]... in 6,908 ms\n"
     ]
    }
   ],
   "source": [
    "%autoreload\n",
    "agent = XXX_DataQueryingAgent( path_to_df=\"/src/conf/long-term-memory/events.csv\", debug=True, verbose=True )\n",
    "    \n",
    "# question         = \"What todo items do I have on my calendar for this week?\"\n",
    "# question         = \"What todo items do I have on my calendar for today?\"\n",
    "# question         = \"Do I have any birthdays on my calendar this week?\"\n",
    "# question         = \"When is Juan's birthday?\"\n",
    "# question         = \"When is Jimmy's birthday?\"\n",
    "question           = \"What is the date today?\"\n",
    "\n",
    "timer            = sw.Stopwatch( msg=f\"Processing [{question}]...\" )\n",
    "response_dict    = agent.run_prompt( question )\n",
    "code_response    = agent.run_code()\n",
    "# formatted_output = agent.format_output()\n",
    "timer.print( use_millis=True )\n",
    "\n"
   ],
   "metadata": {
    "collapsed": false,
    "ExecuteTime": {
     "end_time": "2023-11-27T23:51:59.941370Z",
     "start_time": "2023-11-27T23:51:52.901293Z"
    }
   },
   "id": "3e3d515e89edbbea"
  },
  {
   "cell_type": "code",
   "execution_count": 30,
   "outputs": [
    {
     "name": "stdout",
     "output_type": "stream",
     "text": [
      "\n",
      "------------------------------------------------------------------------------------------------------------------------\n",
      "- Token count for `formatting preamble`: [60]\n",
      "------------------------------------------------------------------------------------------------------------------------\n",
      "\n",
      "\n",
      "            You are an expert in converting raw data into conversational English.\n",
      "\n",
      "            The output is the result of a query on a pandas dataframe about events on my calendar.\n",
      "\n",
      "            The query is: `When is Jimmy's birthday?`\n",
      "\n",
      "            The output is: `No birthday information for Jimmy`\n",
      "            \n",
      "\n",
      "------------------------------------------------------------------------------------------------------------------------\n",
      "- Token count for `formatting instructions`: [50]\n",
      "------------------------------------------------------------------------------------------------------------------------\n",
      "\n",
      "\n",
      "        Reformat and rephrase the data that I just showed you in conversational English so that it answers this question: `When is Jimmy's birthday?`\n",
      "\n",
      "        Each line of the output that you create should contain or reference one event.\"\n",
      "        \n",
      "Asking ChatGPT [gpt-3.5-turbo-0613]...\n",
      "Asking ChatGPT [gpt-3.5-turbo-0613]... in 1,223 ms\n",
      "\n",
      "{\n",
      "    \"id\": \"chatcmpl-88ZNWKsiMqkWcGN5BAEreTEGs7iiu\",\n",
      "    \"object\": \"chat.completion\",\n",
      "    \"created\": 1697053310,\n",
      "    \"model\": \"gpt-3.5-turbo-0613\",\n",
      "    \"choices\": [\n",
      "        {\n",
      "            \"index\": 0,\n",
      "            \"message\": {\n",
      "                \"role\": \"assistant\",\n",
      "                \"content\": \"No birthday information for Jimmy.\"\n",
      "            },\n",
      "            \"finish_reason\": \"stop\"\n",
      "        }\n",
      "    ],\n",
      "    \"usage\": {\n",
      "        \"prompt_tokens\": 121,\n",
      "        \"completion_tokens\": 6,\n",
      "        \"total_tokens\": 127\n",
      "    }\n",
      "}\n",
      "\n",
      "------------------------------------------------------------------------------------------------------------------------\n",
      "- When is Jimmy's birthday?\n",
      "------------------------------------------------------------------------------------------------------------------------\n",
      "\n",
      "No birthday information for Jimmy.\n"
     ]
    }
   ],
   "source": [
    "%autoreload\n",
    "\n",
    "formatted_output = agent.format_output()\n",
    "du.print_banner( question, prepend_nl=True )\n",
    "\n",
    "for line in formatted_output.split( \"\\n\" ):\n",
    "    print( line )"
   ],
   "metadata": {
    "collapsed": false,
    "ExecuteTime": {
     "end_time": "2023-10-11T19:41:51.192648Z",
     "start_time": "2023-10-11T19:41:49.850528Z"
    }
   },
   "id": "18ee43f68e2f3892"
  },
  {
   "cell_type": "code",
   "execution_count": null,
   "outputs": [],
   "source": [],
   "metadata": {
    "collapsed": false
   },
   "id": "704ab0b5605b41cf"
  }
 ],
 "metadata": {
  "kernelspec": {
   "display_name": "Python 3",
   "language": "python",
   "name": "python3"
  },
  "language_info": {
   "codemirror_mode": {
    "name": "ipython",
    "version": 2
   },
   "file_extension": ".py",
   "mimetype": "text/x-python",
   "name": "python",
   "nbconvert_exporter": "python",
   "pygments_lexer": "ipython2",
   "version": "2.7.6"
  }
 },
 "nbformat": 4,
 "nbformat_minor": 5
}
