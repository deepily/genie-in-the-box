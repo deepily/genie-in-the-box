{
 "cells": [
  {
   "cell_type": "code",
   "execution_count": 1,
   "outputs": [
    {
     "name": "stdout",
     "output_type": "stream",
     "text": [
      "Collecting duckduckgo-search\r\n",
      "  Downloading duckduckgo_search-2.9.5-py3-none-any.whl (31 kB)\r\n",
      "Requirement already satisfied: click>=8.1.3 in /usr/local/lib/python3.10/dist-packages (from duckduckgo-search) (8.1.3)\r\n",
      "Collecting requests>=2.29.0\r\n",
      "  Downloading requests-2.30.0-py3-none-any.whl (62 kB)\r\n",
      "\u001B[2K     \u001B[90m━━━━━━━━━━━━━━━━━━━━━━━━━━━━━━━━━━━━━━━━\u001B[0m \u001B[32m62.5/62.5 kB\u001B[0m \u001B[31m4.0 MB/s\u001B[0m eta \u001B[36m0:00:00\u001B[0m\r\n",
      "\u001B[?25hCollecting diskcache>=5.6.1\r\n",
      "  Downloading diskcache-5.6.1-py3-none-any.whl (45 kB)\r\n",
      "\u001B[2K     \u001B[90m━━━━━━━━━━━━━━━━━━━━━━━━━━━━━━━━━━━━━━━━\u001B[0m \u001B[32m45.6/45.6 kB\u001B[0m \u001B[31m7.3 MB/s\u001B[0m eta \u001B[36m0:00:00\u001B[0m\r\n",
      "\u001B[?25hRequirement already satisfied: certifi>=2017.4.17 in /usr/local/lib/python3.10/dist-packages (from requests>=2.29.0->duckduckgo-search) (2022.12.7)\r\n",
      "Requirement already satisfied: urllib3<3,>=1.21.1 in /usr/local/lib/python3.10/dist-packages (from requests>=2.29.0->duckduckgo-search) (1.26.14)\r\n",
      "Requirement already satisfied: charset-normalizer<4,>=2 in /usr/local/lib/python3.10/dist-packages (from requests>=2.29.0->duckduckgo-search) (3.0.1)\r\n",
      "Requirement already satisfied: idna<4,>=2.5 in /usr/local/lib/python3.10/dist-packages (from requests>=2.29.0->duckduckgo-search) (3.4)\r\n",
      "Installing collected packages: requests, diskcache, duckduckgo-search\r\n",
      "  Attempting uninstall: requests\r\n",
      "    Found existing installation: requests 2.28.2\r\n",
      "    Uninstalling requests-2.28.2:\r\n",
      "      Successfully uninstalled requests-2.28.2\r\n",
      "Successfully installed diskcache-5.6.1 duckduckgo-search-2.9.5 requests-2.30.0\r\n",
      "\u001B[33mWARNING: Running pip as the 'root' user can result in broken permissions and conflicting behaviour with the system package manager. It is recommended to use a virtual environment instead: https://pip.pypa.io/warnings/venv\u001B[0m\u001B[33m\r\n",
      "\u001B[0m\r\n",
      "\u001B[1m[\u001B[0m\u001B[34;49mnotice\u001B[0m\u001B[1;39;49m]\u001B[0m\u001B[39;49m A new release of pip is available: \u001B[0m\u001B[31;49m23.0.1\u001B[0m\u001B[39;49m -> \u001B[0m\u001B[32;49m23.1.2\u001B[0m\r\n",
      "\u001B[1m[\u001B[0m\u001B[34;49mnotice\u001B[0m\u001B[1;39;49m]\u001B[0m\u001B[39;49m To update, run: \u001B[0m\u001B[32;49mpython3 -m pip install --upgrade pip\u001B[0m\r\n",
      "Note: you may need to restart the kernel to use updated packages.\n"
     ]
    }
   ],
   "source": [
    "pip install duckduckgo-search"
   ],
   "metadata": {
    "collapsed": false,
    "ExecuteTime": {
     "end_time": "2023-05-16T14:04:04.406438Z",
     "start_time": "2023-05-16T14:04:01.938583Z"
    }
   }
  },
  {
   "cell_type": "code",
   "execution_count": 2,
   "outputs": [],
   "source": [
    "from duckduckgo_search import ddg"
   ],
   "metadata": {
    "collapsed": false,
    "ExecuteTime": {
     "end_time": "2023-05-16T14:04:07.311146Z",
     "start_time": "2023-05-16T14:04:07.254782Z"
    }
   }
  },
  {
   "cell_type": "code",
   "execution_count": 6,
   "outputs": [],
   "source": [
    "# keywords = \"python search api for duckduckgo\"\n",
    "keywords = \"google scholar disinformation\"\n",
    "results = ddg(keywords, region='wt-wt', safesearch='Off', time='y', max_results=10 )\n"
   ],
   "metadata": {
    "collapsed": false,
    "ExecuteTime": {
     "end_time": "2023-05-16T14:08:14.863620Z",
     "start_time": "2023-05-16T14:08:13.901573Z"
    }
   }
  },
  {
   "cell_type": "code",
   "execution_count": 12,
   "outputs": [
    {
     "name": "stdout",
     "output_type": "stream",
     "text": [
      "[\n",
      "  {\n",
      "    \"title\": \"What to know about disinformation and how to address it - Stanford News\",\n",
      "    \"href\": \"https://news.stanford.edu/2022/04/13/know-disinformation-address/\",\n",
      "    \"body\": \"As disinformation scholar Renee DiResta points out, disinformation about vaccines is practically as old as the vaccine itself: Shortly after Edward Jenner created the vaccine in 1796 to protect ...\"\n",
      "  },\n",
      "  {\n",
      "    \"title\": \"Disinformation as a context-bound phenomenon: toward a conceptual ...\",\n",
      "    \"href\": \"https://academic.oup.com/ct/article/33/1/1/6759692\",\n",
      "    \"body\": \"Scholarly attention to disinformation and related concepts has increased rapidly over the past years. Although the field is gravitating toward conceptual consensus on its key constituents (e.g., Chadwick & Stanyer, 2022; Freelon & Wells, 2020), unclarity on the context, intentions and actor-perspective of disinformation still prevails.Responding to calls in literature to view disinformation as ...\"\n",
      "  },\n",
      "  {\n",
      "    \"title\": \"Combating Misinformation as a Core Function of Public Health\",\n",
      "    \"href\": \"https://catalyst.nejm.org/doi/full/10.1056/CAT.22.0198\",\n",
      "    \"body\": \"Our efforts focused on both disinformation, defined as deliberately created and disseminated falsehoods, and misinformation, which is unintentional but can be just as harmful. 12 Misinformation...\"\n",
      "  },\n",
      "  {\n",
      "    \"title\": \"The emotional effects of multimodal disinformation: How multimodality ...\",\n",
      "    \"href\": \"https://journals.sagepub.com/doi/10.1177/14614448231153959\",\n",
      "    \"body\": \"Disinformation presented in multiple modalities (textual, visual, and auditory modes; multimodal disinformation) has become a serious concern. This study examines how disinformation, portrayed using an image or video format, may be more powerful than text-only disinformation.\"\n",
      "  },\n",
      "  {\n",
      "    \"title\": \"Misinformation and Disinformation in Food Science and Nutrition: Impact ...\",\n",
      "    \"href\": \"https://jn.nutrition.org/article/S0022-3166(22)13102-0/fulltext\",\n",
      "    \"body\": \"Misinformation and disinformation, the growing adoption of social media platforms, and the popularization of health and wellness \\\"experts\\\" collectively provide more profound challenges for credible dietitians who seek to model and/or support nutrition literacy. ... Google Scholar]. Figure 2 provides a chart that can help nutrition ...\"\n",
      "  },\n",
      "  {\n",
      "    \"title\": \"Russian disinformation finds fertile ground in the West\",\n",
      "    \"href\": \"https://www.nature.com/articles/s41562-022-01399-3\",\n",
      "    \"body\": \"Dezinformatsiia (disinformation) is one of them \\u2014 widely popularized during the Cold War \\u2014 meaning misleading or made-up information that is specifically aimed at disorienting the targeted social...\"\n",
      "  },\n",
      "  {\n",
      "    \"title\": \"Visual disinformation in a digital age: A literature synthesis and ...\",\n",
      "    \"href\": \"https://journals.sagepub.com/doi/full/10.1177/14614448221141648\",\n",
      "    \"body\": \"While a fast-growing body of research is concerned with the detrimental consequences of disinformation for democracy, ... Google Scholar. Arcos R, Gertrudix M, Arribas C, et al. (2022) Responses to digital disinformation as part of hybrid threats: a systematic review on the effects of disinformation and the effectiveness of fact-checking ...\"\n",
      "  },\n",
      "  {\n",
      "    \"title\": \"Full article: How Disinformation Reshaped the Relationship between ...\",\n",
      "    \"href\": \"https://www.tandfonline.com/doi/full/10.1080/21670811.2022.2081863\",\n",
      "    \"body\": \"Disinformation ranges from fabricated falsehoods and alternative facts to any information in disagreement with one's beliefs (Wardle and Derakhshan 2017 ). It combines initial malevolent intent with end-user amplification and gets spun around with the virality and velocity of algorithm-driven mass and social media.\"\n",
      "  },\n",
      "  {\n",
      "    \"title\": \"Artificial Intelligence and the Spread of Mis- and Disinformation\",\n",
      "    \"href\": \"https://link.springer.com/chapter/10.1007/978-3-031-06709-9_1\",\n",
      "    \"body\": \"This chapter aims to analyse the current literature surrounding the topic of artificial intelligence (AI) and the spread of mis- and disinformation, beginning with a look through the lens of the meaning of these terms, as well as the meaning of truth in a post-truth world.\"\n",
      "  },\n",
      "  {\n",
      "    \"title\": \"Evidence of inter-state coordination amongst state-backed information ...\",\n",
      "    \"href\": \"https://www.nature.com/articles/s41598-023-34245-1\",\n",
      "    \"body\": \"In attempt to combat disinformation, scholars have focused efforts on developing technical solutions for automated detection of multimodal disinformation, e.g., fact-checking claims in text,...\"\n",
      "  }\n",
      "]\n"
     ]
    }
   ],
   "source": [
    "import json\n",
    "print( json.dumps( results, indent=2 ) )"
   ],
   "metadata": {
    "collapsed": false,
    "ExecuteTime": {
     "end_time": "2023-05-16T15:45:58.643187Z",
     "start_time": "2023-05-16T15:45:58.638883Z"
    }
   }
  },
  {
   "cell_type": "code",
   "execution_count": 7,
   "outputs": [
    {
     "name": "stdout",
     "output_type": "stream",
     "text": [
      "{'title': 'What to know about disinformation and how to address it - Stanford News', 'href': 'https://news.stanford.edu/2022/04/13/know-disinformation-address/', 'body': 'As disinformation scholar Renee DiResta points out, disinformation about vaccines is practically as old as the vaccine itself: Shortly after Edward Jenner created the vaccine in 1796 to protect ...'}\n"
     ]
    }
   ],
   "source": [
    "print( results[ 0 ] )"
   ],
   "metadata": {
    "collapsed": false,
    "ExecuteTime": {
     "end_time": "2023-05-16T14:08:16.484469Z",
     "start_time": "2023-05-16T14:08:16.477320Z"
    }
   }
  },
  {
   "cell_type": "code",
   "execution_count": 8,
   "outputs": [
    {
     "name": "stdout",
     "output_type": "stream",
     "text": [
      "0 https://news.stanford.edu/2022/04/13/know-disinformation-address/\n",
      "0 What to know about disinformation and how to address it - Stanford News\n",
      "\n",
      "1 https://academic.oup.com/ct/article/33/1/1/6759692\n",
      "1 Disinformation as a context-bound phenomenon: toward a conceptual ...\n",
      "\n",
      "2 https://catalyst.nejm.org/doi/full/10.1056/CAT.22.0198\n",
      "2 Combating Misinformation as a Core Function of Public Health\n",
      "\n",
      "3 https://journals.sagepub.com/doi/10.1177/14614448231153959\n",
      "3 The emotional effects of multimodal disinformation: How multimodality ...\n",
      "\n",
      "4 https://jn.nutrition.org/article/S0022-3166(22)13102-0/fulltext\n",
      "4 Misinformation and Disinformation in Food Science and Nutrition: Impact ...\n",
      "\n",
      "5 https://www.nature.com/articles/s41562-022-01399-3\n",
      "5 Russian disinformation finds fertile ground in the West\n",
      "\n",
      "6 https://journals.sagepub.com/doi/full/10.1177/14614448221141648\n",
      "6 Visual disinformation in a digital age: A literature synthesis and ...\n",
      "\n",
      "7 https://www.tandfonline.com/doi/full/10.1080/21670811.2022.2081863\n",
      "7 Full article: How Disinformation Reshaped the Relationship between ...\n",
      "\n",
      "8 https://link.springer.com/chapter/10.1007/978-3-031-06709-9_1\n",
      "8 Artificial Intelligence and the Spread of Mis- and Disinformation\n",
      "\n",
      "9 https://www.nature.com/articles/s41598-023-34245-1\n",
      "9 Evidence of inter-state coordination amongst state-backed information ...\n"
     ]
    }
   ],
   "source": [
    "for idx, result in enumerate( results ):\n",
    "    print( idx, result[ \"href\" ] )\n",
    "    print( idx, result[ \"title\" ], end=\"\\n\\n\" )"
   ],
   "metadata": {
    "collapsed": false,
    "ExecuteTime": {
     "end_time": "2023-05-16T14:08:19.404481Z",
     "start_time": "2023-05-16T14:08:19.403343Z"
    }
   }
  },
  {
   "cell_type": "code",
   "execution_count": null,
   "outputs": [],
   "source": [],
   "metadata": {
    "collapsed": false
   }
  }
 ],
 "metadata": {
  "kernelspec": {
   "display_name": "Python 3",
   "language": "python",
   "name": "python3"
  },
  "language_info": {
   "codemirror_mode": {
    "name": "ipython",
    "version": 2
   },
   "file_extension": ".py",
   "mimetype": "text/x-python",
   "name": "python",
   "nbconvert_exporter": "python",
   "pygments_lexer": "ipython2",
   "version": "2.7.6"
  }
 },
 "nbformat": 4,
 "nbformat_minor": 0
}
