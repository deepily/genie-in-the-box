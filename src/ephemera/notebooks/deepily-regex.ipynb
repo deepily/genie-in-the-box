{
 "cells": [
  {
   "cell_type": "code",
   "execution_count": 1,
   "id": "initial_id",
   "metadata": {
    "collapsed": true,
    "ExecuteTime": {
     "end_time": "2023-12-08T17:50:11.138016Z",
     "start_time": "2023-12-08T17:50:11.128991Z"
    }
   },
   "outputs": [],
   "source": [
    "import re"
   ]
  },
  {
   "cell_type": "code",
   "execution_count": 7,
   "outputs": [
    {
     "data": {
      "text/plain": "['e-mail', 'ed', 'long-term', 'bingo', 'well-being', 'self-esteem', 'led']"
     },
     "execution_count": 7,
     "metadata": {},
     "output_type": "execute_result"
    }
   ],
   "source": [
    "# Revised approach to handle sequences like \"l-e-d\"\n",
    "# This pattern looks for a single letter followed by a dash, possibly repeated, and ending with a single letter\n",
    "# It ensures the sequence is not part of a longer word by checking for word boundaries (\\b)\n",
    "\n",
    "# Test examples, including \"l-e-d\"\n",
    "examples = [\"e-mail\", \"e-d\", \"long-term\", \"b-i-n-g-o\", \"well-being\", \"self-esteem\", \"l-e-d\"]\n",
    "\n",
    "# Applying the modified regular expression to each example\n",
    "modified_examples = [re.sub(r'\\b(\\w)(-\\w)+\\b', lambda m: ''.join([char for char in m.group(0) if char.isalpha()]), example) for example in examples]\n",
    "\n",
    "modified_examples\n"
   ],
   "metadata": {
    "collapsed": false,
    "ExecuteTime": {
     "end_time": "2023-12-08T18:00:47.661661Z",
     "start_time": "2023-12-08T18:00:47.615140Z"
    }
   },
   "id": "a62a1aa49ee7345c"
  },
  {
   "cell_type": "code",
   "execution_count": 18,
   "outputs": [
    {
     "data": {
      "text/plain": "\"S.e.n.d me an e-mail. ed isn't your long-term friend. ¡bingo! well-being self-esteem led\""
     },
     "execution_count": 18,
     "metadata": {},
     "output_type": "execute_result"
    }
   ],
   "source": [
    "def remove_dashes_from_single_letters( word ):\n",
    "    \"\"\"\n",
    "    Function to remove dashes between single letters in a word, while leaving hyphenated words unchanged.\n",
    "    \"\"\"\n",
    "    return re.sub( r'\\b(\\w)(-\\w)+\\b', lambda m: ''.join( [ char for char in m.group( 0 ) if char.isalpha() ] ), word )\n",
    "\n",
    "def remove_dashed_spellings( sentence ):\n",
    "    \"\"\"\n",
    "    Function to remove dashes between single letters in a sentence, while leaving hyphenated words unchanged.\n",
    "    \"\"\"\n",
    "    return \" \".join( [ remove_dashes_from_single_letters( word ) for word in sentence.split( \" \" ) ] )\n",
    "\n",
    "# # Applying the function to each word in the examples list using a for loop\n",
    "# modified_examples = [ ]\n",
    "# \n",
    "# for word in examples.split( \" \" ):\n",
    "#     \n",
    "#     modified_word = remove_dashes_from_single_letters( word )\n",
    "#     modified_examples.append( modified_word )\n",
    "# \n",
    "# \" \".join( modified_examples )\n",
    "\n",
    "# Test examples\n",
    "# examples = \" \".join( [ \"Send me an e-mail.\", \"e-d\", \"long-term\", \"¡b-i-n-g-o!\", \"well-being\", \"self-esteem\", \"l-e-d\" ] )\n",
    "examples = \"S.e.n.d me an e-mail. e-d isn't your long-term friend. ¡b-i-n-g-o! well-being self-esteem l-e-d\"\n",
    "remove_dashed_spellings( examples)"
   ],
   "metadata": {
    "collapsed": false,
    "ExecuteTime": {
     "end_time": "2023-12-08T18:13:59.627691Z",
     "start_time": "2023-12-08T18:13:59.607910Z"
    }
   },
   "id": "d9b568bc8acbe943"
  },
  {
   "cell_type": "code",
   "execution_count": 19,
   "outputs": [
    {
     "data": {
      "text/plain": "'¡bingo!'"
     },
     "execution_count": 19,
     "metadata": {},
     "output_type": "execute_result"
    }
   ],
   "source": [
    "bingo = \"¡b-i-n-g-o!\"\n",
    "remove_dashes_from_single_letters( bingo )"
   ],
   "metadata": {
    "collapsed": false,
    "ExecuteTime": {
     "end_time": "2023-12-08T19:20:12.691883Z",
     "start_time": "2023-12-08T19:20:12.680819Z"
    }
   },
   "id": "6694b53307f44b7e"
  },
  {
   "cell_type": "code",
   "execution_count": null,
   "outputs": [],
   "source": [],
   "metadata": {
    "collapsed": false
   },
   "id": "c752a04bfbf819a8"
  }
 ],
 "metadata": {
  "kernelspec": {
   "display_name": "Python 3",
   "language": "python",
   "name": "python3"
  },
  "language_info": {
   "codemirror_mode": {
    "name": "ipython",
    "version": 2
   },
   "file_extension": ".py",
   "mimetype": "text/x-python",
   "name": "python",
   "nbconvert_exporter": "python",
   "pygments_lexer": "ipython2",
   "version": "2.7.6"
  }
 },
 "nbformat": 4,
 "nbformat_minor": 5
}
