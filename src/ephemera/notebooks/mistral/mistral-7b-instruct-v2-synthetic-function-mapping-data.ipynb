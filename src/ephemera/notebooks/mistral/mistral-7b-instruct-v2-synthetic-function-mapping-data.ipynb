{
 "cells": [
  {
   "cell_type": "code",
   "execution_count": 1,
   "id": "initial_id",
   "metadata": {
    "ExecuteTime": {
     "end_time": "2024-04-16T18:52:01.300653Z",
     "start_time": "2024-04-16T18:52:01.289476Z"
    },
    "collapsed": true
   },
   "outputs": [],
   "source": [
    "# Install module to force reloading of python modules\n",
    "%load_ext autoreload"
   ]
  },
  {
   "cell_type": "code",
   "execution_count": 10,
   "id": "962afad924f59c8e",
   "metadata": {
    "ExecuteTime": {
     "end_time": "2024-04-16T18:55:03.458802Z",
     "start_time": "2024-04-16T18:55:03.451431Z"
    },
    "collapsed": false
   },
   "outputs": [
    {
     "name": "stdout",
     "output_type": "stream",
     "text": [
      "/var/src\n"
     ]
    },
    {
     "data": {
      "text/plain": [
       "'/var/src'"
      ]
     },
     "execution_count": 10,
     "metadata": {},
     "output_type": "execute_result"
    }
   ],
   "source": [
    "import os\n",
    "\n",
    "print( os.getcwd() )\n",
    "# set working directory\n",
    "os.chdir( \"/var/src/\" )\n",
    "os.getcwd()"
   ]
  },
  {
   "cell_type": "code",
   "execution_count": 11,
   "id": "33ad06c1fe141c08",
   "metadata": {
    "ExecuteTime": {
     "end_time": "2024-04-16T18:55:05.694870Z",
     "start_time": "2024-04-16T18:55:05.576469Z"
    },
    "collapsed": false
   },
   "outputs": [
    {
     "name": "stdout",
     "output_type": "stream",
     "text": [
      "total 88K\r\n",
      "drwxr--r-- 11 1001 1001 4.0K Apr  4 19:08 .\r\n",
      "drwxr--r-- 12 1001 1001 4.0K Apr 16 18:28 ..\r\n",
      "-rwxr--r--  1 1001 1001 8.1K Feb 27 15:48 .DS_Store\r\n",
      "-rwxr--r--  1 1001 1001 4.0K Mar 21  2023 ._.DS_Store\r\n",
      "drwxr--r--  3 1001 1001 4.0K Mar 21  2023 .idea\r\n",
      "drwxr--r--  2 1001 1001 4.0K Apr  4 19:54 __pycache__\r\n",
      "-rw-rw-r--  1 1001 1001  25K Apr  4 19:08 app.py\r\n",
      "drwxr--r--  6 1001 1001 4.0K Apr 16 15:20 conf\r\n",
      "drwxr--r--  6 1001 1001 4.0K Feb 16 21:38 ephemera\r\n",
      "drwxr--r-- 10 1001 1001 4.0K Apr  8 20:37 lib\r\n",
      "drwxr--r--  3 1001 1001 4.0K Mar 10  2023 resources\r\n",
      "drwxr-xr-x  2 1001 1001 4.0K Jan 24 18:35 scripts\r\n",
      "drwxr--r--  2 1001 1001 4.0K Nov 20 21:30 static\r\n",
      "drwxr--r--  2 1001 1001 4.0K Sep 26  2023 templates\r\n"
     ]
    }
   ],
   "source": [
    "! ls -alh"
   ]
  },
  {
   "cell_type": "code",
   "execution_count": 12,
   "id": "f41994637077cb94",
   "metadata": {
    "ExecuteTime": {
     "end_time": "2024-04-16T18:55:06.741869Z",
     "start_time": "2024-04-16T18:55:06.737228Z"
    },
    "collapsed": false
   },
   "outputs": [],
   "source": [
    "from lib.agents.function_mapping_search import FunctionMapperSearch"
   ]
  },
  {
   "cell_type": "code",
   "id": "c2f9e04bd014c1df",
   "metadata": {
    "collapsed": false
   },
   "outputs": [],
   "source": []
  }
 ],
 "metadata": {
  "kernelspec": {
   "display_name": "Python 3",
   "language": "python",
   "name": "python3"
  },
  "language_info": {
   "codemirror_mode": {
    "name": "ipython",
    "version": 2
   },
   "file_extension": ".py",
   "mimetype": "text/x-python",
   "name": "python",
   "nbconvert_exporter": "python",
   "pygments_lexer": "ipython2",
   "version": "2.7.6"
  }
 },
 "nbformat": 4,
 "nbformat_minor": 5
}
