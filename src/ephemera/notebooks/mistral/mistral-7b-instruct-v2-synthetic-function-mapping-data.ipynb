{
 "cells": [
  {
   "cell_type": "code",
   "execution_count": 1,
   "id": "initial_id",
   "metadata": {
    "ExecuteTime": {
     "end_time": "2024-04-17T19:55:12.610823Z",
     "start_time": "2024-04-17T19:55:12.595024Z"
    },
    "collapsed": true
   },
   "outputs": [],
   "source": [
    "# Install module to force reloading of python modules\n",
    "%load_ext autoreload"
   ]
  },
  {
   "cell_type": "code",
   "execution_count": 6,
   "id": "962afad924f59c8e",
   "metadata": {
    "ExecuteTime": {
     "end_time": "2024-04-17T19:55:41.028504Z",
     "start_time": "2024-04-17T19:55:41.021133Z"
    },
    "collapsed": false
   },
   "outputs": [
    {
     "name": "stdout",
     "output_type": "stream",
     "text": [
      "/var/genie-in-the-box\n"
     ]
    },
    {
     "data": {
      "text/plain": [
       "'/var/genie-in-the-box/src'"
      ]
     },
     "execution_count": 6,
     "metadata": {},
     "output_type": "execute_result"
    }
   ],
   "source": [
    "import os\n",
    "\n",
    "print( os.getcwd() )\n",
    "# set working directory\n",
    "os.chdir( \"/var/genie-in-the-box/src\" )\n",
    "os.getcwd()"
   ]
  },
  {
   "cell_type": "code",
   "execution_count": 7,
   "id": "33ad06c1fe141c08",
   "metadata": {
    "ExecuteTime": {
     "end_time": "2024-04-17T19:55:42.567900Z",
     "start_time": "2024-04-17T19:55:42.453486Z"
    },
    "collapsed": false
   },
   "outputs": [
    {
     "name": "stdout",
     "output_type": "stream",
     "text": [
      "total 88K\r\n",
      "drwxr--r-- 11 1001 1001 4.0K Apr  4 19:08 .\r\n",
      "drwxr--r-- 11 1001 1001 4.0K Apr 17 19:53 ..\r\n",
      "-rwxr--r--  1 1001 1001 8.1K Feb 27 15:48 .DS_Store\r\n",
      "-rwxr--r--  1 1001 1001 4.0K Mar 21  2023 ._.DS_Store\r\n",
      "drwxr--r--  3 1001 1001 4.0K Mar 21  2023 .idea\r\n",
      "drwxr--r--  2 1001 1001 4.0K Apr  4 19:54 __pycache__\r\n",
      "-rw-rw-r--  1 1001 1001  25K Apr  4 19:08 app.py\r\n",
      "drwxr--r--  6 1001 1001 4.0K Apr 16 15:20 conf\r\n",
      "drwxr--r--  6 1001 1001 4.0K Feb 16 21:38 ephemera\r\n",
      "drwxr--r-- 10 1001 1001 4.0K Apr  8 20:37 lib\r\n",
      "drwxr--r--  3 1001 1001 4.0K Mar 10  2023 resources\r\n",
      "drwxr-xr-x  2 1001 1001 4.0K Jan 24 18:35 scripts\r\n",
      "drwxr--r--  2 1001 1001 4.0K Nov 20 21:30 static\r\n",
      "drwxr--r--  2 1001 1001 4.0K Sep 26  2023 templates\r\n"
     ]
    }
   ],
   "source": [
    "! ls -alh"
   ]
  },
  {
   "cell_type": "code",
   "execution_count": 9,
   "id": "f41994637077cb94",
   "metadata": {
    "ExecuteTime": {
     "end_time": "2024-04-17T20:13:11.698143Z",
     "start_time": "2024-04-17T20:13:11.683390Z"
    },
    "collapsed": false
   },
   "outputs": [
    {
     "ename": "ImportError",
     "evalue": "cannot import name 'FunctionMappingSearch' from 'lib.agents.function_mapping_search' (/var/genie-in-the-box/src/lib/agents/function_mapping_search.py)",
     "output_type": "error",
     "traceback": [
      "\u001b[0;31m---------------------------------------------------------------------------\u001b[0m",
      "\u001b[0;31mImportError\u001b[0m                               Traceback (most recent call last)",
      "Cell \u001b[0;32mIn[9], line 1\u001b[0m\n\u001b[0;32m----> 1\u001b[0m \u001b[38;5;28;01mfrom\u001b[39;00m \u001b[38;5;21;01mlib\u001b[39;00m\u001b[38;5;21;01m.\u001b[39;00m\u001b[38;5;21;01magents\u001b[39;00m\u001b[38;5;21;01m.\u001b[39;00m\u001b[38;5;21;01mfunction_mapping_search\u001b[39;00m \u001b[38;5;28;01mimport\u001b[39;00m FunctionMappingSearch\n",
      "\u001b[0;31mImportError\u001b[0m: cannot import name 'FunctionMappingSearch' from 'lib.agents.function_mapping_search' (/var/genie-in-the-box/src/lib/agents/function_mapping_search.py)"
     ]
    }
   ],
   "source": [
    "from lib.agents.function_mapping_search import FunctionMappingSearch\n"
   ]
  },
  {
   "cell_type": "code",
   "id": "c2f9e04bd014c1df",
   "metadata": {
    "collapsed": false
   },
   "outputs": [],
   "source": []
  }
 ],
 "metadata": {
  "kernelspec": {
   "display_name": "Python 3",
   "language": "python",
   "name": "python3"
  },
  "language_info": {
   "codemirror_mode": {
    "name": "ipython",
    "version": 2
   },
   "file_extension": ".py",
   "mimetype": "text/x-python",
   "name": "python",
   "nbconvert_exporter": "python",
   "pygments_lexer": "ipython2",
   "version": "2.7.6"
  }
 },
 "nbformat": 4,
 "nbformat_minor": 5
}
