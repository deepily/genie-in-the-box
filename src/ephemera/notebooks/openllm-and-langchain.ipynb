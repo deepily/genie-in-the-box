{
 "cells": [
  {
   "cell_type": "code",
   "execution_count": 1,
   "outputs": [],
   "source": [
    "# ! pip install openllm\n",
    "# ! pip install --upgrade langchain"
   ],
   "metadata": {
    "collapsed": false,
    "ExecuteTime": {
     "end_time": "2023-11-08T19:34:32.964696Z",
     "start_time": "2023-11-08T19:34:32.961913Z"
    }
   },
   "id": "94170ec7d427aeef"
  },
  {
   "cell_type": "code",
   "execution_count": 2,
   "outputs": [],
   "source": [
    "from langchain.llms import OpenLLM\n",
    "import langchain\n",
    "import openllm"
   ],
   "metadata": {
    "collapsed": false,
    "ExecuteTime": {
     "end_time": "2023-11-08T19:34:40.498990Z",
     "start_time": "2023-11-08T19:34:39.738845Z"
    }
   },
   "id": "af17d4577e35b75b"
  },
  {
   "cell_type": "code",
   "execution_count": 3,
   "outputs": [
    {
     "name": "stdout",
     "output_type": "stream",
     "text": [
      "/Applications/PyCharm.app/Contents/plugins/python/helpers-pro/jupyter_debug\n",
      "/Applications/PyCharm.app/Contents/plugins/python/helpers/pydev\n",
      "/var/genie-in-the-box/src/ephemera/notebooks\n",
      "/usr/local/lib/python310.zip\n",
      "/usr/local/lib/python3.10\n",
      "/usr/local/lib/python3.10/lib-dynload\n",
      "\n",
      "/usr/local/lib/python3.10/site-packages\n"
     ]
    }
   ],
   "source": [
    "import os\n",
    "import sys\n",
    "\n",
    "for chunk in sys.path: print( chunk )"
   ],
   "metadata": {
    "collapsed": false,
    "ExecuteTime": {
     "end_time": "2023-11-08T19:34:41.335669Z",
     "start_time": "2023-11-08T19:34:41.329203Z"
    }
   },
   "id": "f6950ded0a807ab2"
  },
  {
   "cell_type": "code",
   "execution_count": 4,
   "outputs": [
    {
     "name": "stdout",
     "output_type": "stream",
     "text": [
      "total 92K\r\n",
      "drwxr-xr-x 3 root root 4.0K Nov  8 17:53 .\r\n",
      "drwxr-xr-x 6 root root 4.0K Nov  8 17:53 ..\r\n",
      "-rw-r--r-- 1 root root 2.2K Nov  8 17:53 __init__.py\r\n",
      "drwxr-xr-x 2 root root 4.0K Nov  8 17:53 __pycache__\r\n",
      "-rw-r--r-- 1 root root 6.9K Nov  8 17:53 configuration_auto.py\r\n",
      "-rw-r--r-- 1 root root 3.9K Nov  8 17:53 configuration_baichuan.py\r\n",
      "-rw-r--r-- 1 root root 4.3K Nov  8 17:53 configuration_chatglm.py\r\n",
      "-rw-r--r-- 1 root root 5.1K Nov  8 17:53 configuration_dolly_v2.py\r\n",
      "-rw-r--r-- 1 root root 3.5K Nov  8 17:53 configuration_falcon.py\r\n",
      "-rw-r--r-- 1 root root 3.2K Nov  8 17:53 configuration_flan_t5.py\r\n",
      "-rw-r--r-- 1 root root 3.3K Nov  8 17:53 configuration_gpt_neox.py\r\n",
      "-rw-r--r-- 1 root root 6.8K Nov  8 17:53 configuration_llama.py\r\n",
      "-rw-r--r-- 1 root root 1.8K Nov  8 17:53 configuration_mistral.py\r\n",
      "-rw-r--r-- 1 root root 4.9K Nov  8 17:53 configuration_mpt.py\r\n",
      "-rw-r--r-- 1 root root 4.0K Nov  8 17:53 configuration_opt.py\r\n",
      "-rw-r--r-- 1 root root 4.7K Nov  8 17:53 configuration_stablelm.py\r\n",
      "-rw-r--r-- 1 root root 3.7K Nov  8 17:53 configuration_starcoder.py\r\n"
     ]
    }
   ],
   "source": [
    "! ls -alh /usr/local/lib/python3.10/site-packages/openllm_core/config "
   ],
   "metadata": {
    "collapsed": false,
    "ExecuteTime": {
     "end_time": "2023-11-08T19:34:42.897030Z",
     "start_time": "2023-11-08T19:34:42.783240Z"
    }
   },
   "id": "5b3795ebf1927890"
  },
  {
   "cell_type": "code",
   "execution_count": 5,
   "outputs": [
    {
     "name": "stdout",
     "output_type": "stream",
     "text": [
      "from __future__ import annotations\r\n",
      "import typing as t\r\n",
      "\r\n",
      "import openllm_core\r\n",
      "\r\n",
      "from openllm_core._conversation import SeparatorStyle\r\n",
      "from openllm_core.prompts import PromptTemplate\r\n",
      "from openllm_core.utils import dantic\r\n",
      "\r\n",
      "START_LLAMA_COMMAND_DOCSTRING = '''\\\r\n",
      "Run a LLMServer for Llama model.\r\n",
      "\r\n",
      "\\b\r\n",
      "> See more information about Llama at [Llama's model card](https://huggingface.co/docs/transformers/main/model_doc/llama\r\n",
      "\r\n",
      "\\b\r\n",
      "## Usage\r\n",
      "\r\n",
      "By default, this model will use [vLLM](https://github.com/vllm-project/vllm) for inference.\r\n",
      "This model will also supports PyTorch.\r\n",
      "\r\n",
      "\\b\r\n",
      "- To use PyTorch, set the environment variable ``OPENLLM_BACKEND=\"pt\"``\r\n",
      "\r\n",
      "\\b\r\n",
      "- To use vLLM, set the environment variable ``OPENLLM_BACKEND=\"vllm\"``\r\n",
      "\r\n",
      "\\b\r\n",
      "Llama Runner will use decapoda-research/llama-7b-hf as the default model. To change to any other Llama\r\n",
      "saved pretrained, or a fine-tune Llama, provide ``OPENLLM_MODEL_ID='openlm-research/open_llama_7b_v2'``\r\n",
      "or provide `--model-id` flag when running ``openllm start llama``:\r\n",
      "\r\n",
      "\\b\r\n",
      "$ openllm start llama --model-id 'openlm-research/open_llama_7b_v2'\r\n",
      "\r\n",
      "\\b\r\n",
      "OpenLLM also supports running Llama-2 and its fine-tune and variants. To import the Llama weights, one can use the following:\r\n",
      "\r\n",
      "\\b\r\n",
      "$ CONVERTER=hf-llama2 openllm import llama /path/to/llama-2\r\n",
      "'''\r\n",
      "DEFAULT_SYSTEM_MESSAGE = '''\r\n",
      "You are a helpful, respectful and honest assistant. Always answer as helpfully as possible, while being safe.  Your answers should not include any harmful, unethical, racist, sexist, toxic, dangerous, or illegal content. Please ensure that your responses are socially unbiased and positive in nature.\r\n",
      "\r\n",
      "If a question does not make any sense, or is not factually coherent, explain why instead of answering something not correct. If you don't know the answer to a question, please don't share false information.\r\n",
      "'''\r\n",
      "SINST_KEY, EINST_KEY, SYS_KEY, EOS_TOKEN, BOS_TOKEN = '[INST]', '[/INST]', '<<SYS>>', '</s>', '<s>'\r\n",
      "# TODO: support history and v1 prompt implementation\r\n",
      "_v1_prompt, _v2_prompt = '''{instruction}''', '''{start_key} {sys_key}\\n{system_message}\\n{sys_key}\\n\\n{instruction}\\n{end_key}\\n'''.format(start_key=SINST_KEY,\r\n",
      "                                                                                                                                            sys_key=SYS_KEY,\r\n",
      "                                                                                                                                            system_message='{system_message}',\r\n",
      "                                                                                                                                            instruction='{instruction}',\r\n",
      "                                                                                                                                            end_key=EINST_KEY)\r\n",
      "PROMPT_MAPPING = {'v1': _v1_prompt, 'v2': _v2_prompt}\r\n",
      "\r\n",
      "def _get_prompt(model_type: t.Literal['v1', 'v2']) -> PromptTemplate:\r\n",
      "  return PromptTemplate(PROMPT_MAPPING[model_type])\r\n",
      "\r\n",
      "DEFAULT_PROMPT_TEMPLATE = _get_prompt\r\n",
      "\r\n",
      "class LlamaConfig(openllm_core.LLMConfig):\r\n",
      "  \"\"\"LLaMA model was proposed in [LLaMA: Open and Efficient Foundation Language Models](https://arxiv.org/abs/2302.13971) by Hugo Touvron, Thibaut Lavril, Gautier Izacard, Xavier Martinet, Marie-Anne Lachaux, Timothée Lacroix, Baptiste Rozière, Naman Goyal, Eric Hambro, Faisal Azhar, Aurelien Rodriguez, Armand Joulin, Edouard Grave, Guillaume Lample.\r\n",
      "\r\n",
      "  It is a collection of foundation language models ranging from 7B to 65B parameters.\r\n",
      "\r\n",
      "  Llama also include support for the recent propsed [Llama-2](https://ai.meta.com/research/publications/llama-2-open-foundation-and-fine-tuned-chat-models/)\r\n",
      "\r\n",
      "  Note that all variants of Llama including fine-tuning, quantisation format are all supported with ``openllm.Llama``.\r\n",
      "\r\n",
      "  Refer to [Llama's model card](https://huggingface.co/docs/transformers/main/model_doc/llama)\r\n",
      "  for more information.\r\n",
      "  \"\"\"\r\n",
      "  use_llama2_prompt: bool = dantic.Field(False, description='Whether to use the prompt format for Llama 2. Disable this when working with Llama 1.')\r\n",
      "  __config__ = {\r\n",
      "      'name_type': 'lowercase',\r\n",
      "      'url': 'https://github.com/facebookresearch/llama',\r\n",
      "      'architecture': 'LlamaForCausalLM',\r\n",
      "      'requirements': ['fairscale', 'sentencepiece', 'scipy'],\r\n",
      "      'default_id': 'NousResearch/llama-2-7b-hf',\r\n",
      "      'serialisation': 'safetensors',\r\n",
      "      # NOTE: see https://huggingface.co/blog/codellama#conversational-instructions\r\n",
      "      'conversation': dict(system_template='<s>[INST] <<SYS>>\\n{system_message}\\n<</SYS>>\\n\\n', roles=('[INST]', '[/INST]'), sep_style=SeparatorStyle.LLAMA, sep=' ', sep2=' </s><s>'),\r\n",
      "      'model_ids': [\r\n",
      "          'meta-llama/Llama-2-70b-chat-hf', 'meta-llama/Llama-2-13b-chat-hf', 'meta-llama/Llama-2-7b-chat-hf', 'meta-llama/Llama-2-70b-hf', 'meta-llama/Llama-2-13b-hf',\r\n",
      "          'meta-llama/Llama-2-7b-hf', 'NousResearch/llama-2-70b-chat-hf', 'NousResearch/llama-2-13b-chat-hf', 'NousResearch/llama-2-7b-chat-hf', 'NousResearch/llama-2-70b-hf',\r\n",
      "          'NousResearch/llama-2-13b-hf', 'NousResearch/llama-2-7b-hf',\r\n",
      "      ],\r\n",
      "      'fine_tune_strategies': ({\r\n",
      "          'adapter_type': 'lora',\r\n",
      "          'r': 64,\r\n",
      "          'lora_alpha': 16,\r\n",
      "          'lora_dropout': 0.1,\r\n",
      "          'bias': 'none'\r\n",
      "      },)\r\n",
      "  }\r\n",
      "\r\n",
      "  class GenerationConfig:\r\n",
      "    max_new_tokens: int = 128\r\n",
      "    temperature: float = 0.6\r\n",
      "    top_p: float = 0.9\r\n",
      "    top_k: int = 12\r\n",
      "\r\n",
      "  class SamplingParams:\r\n",
      "    best_of: int = 1\r\n",
      "    presence_penalty: float = 0.5\r\n",
      "\r\n",
      "  @property\r\n",
      "  def default_prompt_template(self) -> str:\r\n",
      "    return DEFAULT_PROMPT_TEMPLATE('v2' if self.use_llama2_prompt else 'v1').to_string()\r\n",
      "\r\n",
      "  @property\r\n",
      "  def default_system_message(self) -> str:\r\n",
      "    return DEFAULT_SYSTEM_MESSAGE\r\n",
      "\r\n",
      "  def sanitize_parameters(self,\r\n",
      "                          prompt: str,\r\n",
      "                          prompt_template: PromptTemplate | str | None = None,\r\n",
      "                          system_message: str | None = None,\r\n",
      "                          top_k: int | None = None,\r\n",
      "                          top_p: float | None = None,\r\n",
      "                          temperature: float | None = None,\r\n",
      "                          max_new_tokens: int | None = None,\r\n",
      "                          use_llama2_prompt: bool = True,\r\n",
      "                          **attrs: t.Any) -> tuple[str, dict[str, t.Any], dict[str, t.Any]]:\r\n",
      "    system_message = DEFAULT_SYSTEM_MESSAGE if system_message is None else system_message\r\n",
      "    if prompt_template is None: prompt_template = DEFAULT_PROMPT_TEMPLATE('v2' if use_llama2_prompt else 'v1')\r\n",
      "    elif isinstance(prompt_template, str): prompt_template = PromptTemplate(template=prompt_template)\r\n",
      "    return prompt_template.with_options(system_message=system_message).format(instruction=prompt), {\r\n",
      "        'max_new_tokens': max_new_tokens,\r\n",
      "        'temperature': temperature,\r\n",
      "        'top_p': top_p,\r\n",
      "        'top_k': top_k\r\n",
      "    }, {}\r\n",
      "\r\n",
      "  def postprocess_generate(self, prompt: str, generation_result: list[str], **_: t.Any) -> str:\r\n",
      "    return generation_result[0]\r\n"
     ]
    }
   ],
   "source": [
    "! cat /usr/local/lib/python3.10/site-packages/openllm_core/config/configuration_llama.py"
   ],
   "metadata": {
    "collapsed": false,
    "ExecuteTime": {
     "end_time": "2023-11-08T19:34:43.441441Z",
     "start_time": "2023-11-08T19:34:43.326870Z"
    }
   },
   "id": "d6d623e282140be2"
  },
  {
   "cell_type": "code",
   "execution_count": 6,
   "outputs": [
    {
     "data": {
      "text/plain": "'0.0.331'"
     },
     "execution_count": 6,
     "metadata": {},
     "output_type": "execute_result"
    }
   ],
   "source": [
    "langchain.__version__"
   ],
   "metadata": {
    "collapsed": false,
    "ExecuteTime": {
     "end_time": "2023-11-08T19:34:48.685383Z",
     "start_time": "2023-11-08T19:34:48.673921Z"
    }
   },
   "id": "7551ec96ff972899"
  },
  {
   "cell_type": "code",
   "execution_count": 7,
   "outputs": [
    {
     "data": {
      "text/plain": "'0.4.1'"
     },
     "execution_count": 7,
     "metadata": {},
     "output_type": "execute_result"
    }
   ],
   "source": [
    "openllm.__version__"
   ],
   "metadata": {
    "collapsed": false,
    "ExecuteTime": {
     "end_time": "2023-11-08T19:34:49.521596Z",
     "start_time": "2023-11-08T19:34:49.514174Z"
    }
   },
   "id": "initial_id"
  },
  {
   "cell_type": "code",
   "execution_count": 55,
   "outputs": [],
   "source": [
    "llm_kwargs = { \n",
    "    'max_tokens'                : 2048, 'max_new_tokens' : 400, 'use_llama2_prompt': True, 'n': 1, 'best_of': 1, 'presence_penalty': 0.5,\n",
    "    'frequency_penalty'         : 0.0, 'use_beam_search': False, 'ignore_eos': False, 'skip_special_tokens': True,\n",
    "    'min_length'                : 0, 'early_stopping': False, 'num_beams': 1, 'num_beam_groups': 1, 'use_cache': True,\n",
    "    'temperature'               : 0.6, 'top_k': 12, 'top_p': 0.9, 'typical_p': 1.0, 'epsilon_cutoff': 0.0,\n",
    "    'eta_cutoff'                : 0.0, 'diversity_penalty': 0.0, 'repetition_penalty': 1.0,\n",
    "    'encoder_repetition_penalty': 1.0, 'length_penalty': 1.0, 'no_repeat_ngram_size': 0, 'renormalize_logits': False,\n",
    "    'remove_invalid_values'     : False, 'num_return_sequences': 1, 'output_attentions': False,\n",
    "    'output_hidden_states'      : False, 'output_scores': False, 'encoder_no_repeat_ngram_size': 0\n",
    "}"
   ],
   "metadata": {
    "collapsed": false,
    "ExecuteTime": {
     "end_time": "2023-11-08T21:04:08.879563Z",
     "start_time": "2023-11-08T21:04:08.824930Z"
    }
   },
   "id": "84e2c6547808f76c"
  },
  {
   "cell_type": "code",
   "execution_count": 56,
   "outputs": [
    {
     "data": {
      "text/plain": "OpenLLM(server_url='http://172.17.0.2:3000', llm_kwargs={'max_tokens': 2048, 'max_new_tokens': 400, 'use_llama2_prompt': True, 'n': 1, 'best_of': 1, 'presence_penalty': 0.5, 'frequency_penalty': 0.0, 'use_beam_search': False, 'ignore_eos': False, 'skip_special_tokens': True, 'min_length': 0, 'early_stopping': False, 'num_beams': 1, 'num_beam_groups': 1, 'use_cache': True, 'temperature': 0.6, 'top_k': 12, 'top_p': 0.9, 'typical_p': 1.0, 'epsilon_cutoff': 0.0, 'eta_cutoff': 0.0, 'diversity_penalty': 0.0, 'repetition_penalty': 1.0, 'encoder_repetition_penalty': 1.0, 'length_penalty': 1.0, 'no_repeat_ngram_size': 0, 'renormalize_logits': False, 'remove_invalid_values': False, 'num_return_sequences': 1, 'output_attentions': False, 'output_hidden_states': False, 'output_scores': False, 'encoder_no_repeat_ngram_size': 0})"
     },
     "execution_count": 56,
     "metadata": {},
     "output_type": "execute_result"
    }
   ],
   "source": [
    "llm = OpenLLM( server_url='http://172.17.0.2:3000', server_type=\"http\", **llm_kwargs )\n",
    "llm"
   ],
   "metadata": {
    "collapsed": false,
    "ExecuteTime": {
     "end_time": "2023-11-08T21:04:11.131611Z",
     "start_time": "2023-11-08T21:04:11.125527Z"
    }
   },
   "id": "c2a2b878718acfe9"
  },
  {
   "cell_type": "code",
   "execution_count": 9,
   "outputs": [
    {
     "data": {
      "text/plain": "'/var/genie-in-the-box/src/ephemera/notebooks'"
     },
     "execution_count": 9,
     "metadata": {},
     "output_type": "execute_result"
    }
   ],
   "source": [
    "import os\n",
    "os.getcwd()"
   ],
   "metadata": {
    "collapsed": false,
    "ExecuteTime": {
     "end_time": "2023-11-08T19:35:08.239407Z",
     "start_time": "2023-11-08T19:35:08.237520Z"
    }
   },
   "id": "1eca8d212cf4868"
  },
  {
   "cell_type": "code",
   "execution_count": 10,
   "outputs": [],
   "source": [
    "os.chdir( \"/var/genie-in-the-box/src/lib\" )"
   ],
   "metadata": {
    "collapsed": false,
    "ExecuteTime": {
     "end_time": "2023-11-08T19:35:09.824917Z",
     "start_time": "2023-11-08T19:35:09.815052Z"
    }
   },
   "id": "d27b96b7a27217ec"
  },
  {
   "cell_type": "code",
   "execution_count": 11,
   "outputs": [
    {
     "data": {
      "text/plain": "'/var/genie-in-the-box/src/lib'"
     },
     "execution_count": 11,
     "metadata": {},
     "output_type": "execute_result"
    }
   ],
   "source": [
    "os.getcwd()"
   ],
   "metadata": {
    "collapsed": false,
    "ExecuteTime": {
     "end_time": "2023-11-08T19:35:11.085889Z",
     "start_time": "2023-11-08T19:35:11.077862Z"
    }
   },
   "id": "616bae4c8d65fa30"
  },
  {
   "cell_type": "code",
   "execution_count": 12,
   "outputs": [
    {
     "data": {
      "text/plain": "['/Applications/PyCharm.app/Contents/plugins/python/helpers-pro/jupyter_debug',\n '/Applications/PyCharm.app/Contents/plugins/python/helpers/pydev',\n '/var/genie-in-the-box/src/ephemera/notebooks',\n '/usr/local/lib/python310.zip',\n '/usr/local/lib/python3.10',\n '/usr/local/lib/python3.10/lib-dynload',\n '',\n '/usr/local/lib/python3.10/site-packages',\n '/var/genie-in-the-box/src/lib']"
     },
     "execution_count": 12,
     "metadata": {},
     "output_type": "execute_result"
    }
   ],
   "source": [
    "sys.path.append( \"/var/genie-in-the-box/src/lib\" )\n",
    "sys.path"
   ],
   "metadata": {
    "collapsed": false,
    "ExecuteTime": {
     "end_time": "2023-11-08T19:35:12.303454Z",
     "start_time": "2023-11-08T19:35:12.295121Z"
    }
   },
   "id": "165ef2c650fee21a"
  },
  {
   "cell_type": "code",
   "execution_count": 49,
   "outputs": [],
   "source": [
    "import utils.util_stopwatch as sw"
   ],
   "metadata": {
    "collapsed": false,
    "ExecuteTime": {
     "end_time": "2023-11-08T20:49:01.059499Z",
     "start_time": "2023-11-08T20:49:01.054851Z"
    }
   },
   "id": "e6991a77c3eabd9"
  },
  {
   "cell_type": "code",
   "execution_count": null,
   "outputs": [],
   "source": [],
   "metadata": {
    "collapsed": false
   },
   "id": "bc1e80c94bc6467b"
  },
  {
   "cell_type": "code",
   "execution_count": 50,
   "outputs": [],
   "source": [
    "template_string = \"\"\"Write a function in python that calculates the haversine distance between two points. \n",
    "\n",
    "As you generate the python code needed to answer this request, I want you to:\n",
    "\n",
    "1) Question: Ask yourself if you understand the question that I am asking you.  Pay attention to the details!\n",
    "2) Think: Before you do anything, think out loud about what I am asking you to do, including what are the steps that you will need to take to solve this problem. Be critical of your thought process!\n",
    "3) Code: Generate a verbatim list of code that you used to arrive at your answer, one line of code per item on the list. The code must be complete, syntactically correct, and capable of runnning to completion. The last line of your code must be the variable `solution`, which represents the answer. Make sure that any filtering you perform matches the question asked of you by the user!\n",
    "4) Return: Report on the object type of the variable `solution` in your last line of code. Use one word to represent the object type.\n",
    "5) Explain: Briefly and succinctly explain your code in plain English.\n",
    "\n",
    "Format: return your response as a JSON object in the following fields:\n",
    "{{\n",
    "    \"question\": \"The question, verbatim and without modification\",\n",
    "    \"thoughts\": \"Your thoughts\",\n",
    "    \"code\": [],\n",
    "    \"returns\": \"Object type of the variable `solution`\",\n",
    "    \"explanation\": \"A brief explanation of your code\",\n",
    "    \"error\": \"Your description of any issues or errors that you encountered while attempting to fulfill this request\"\n",
    "}}\"\"\"\n",
    "\n",
    "# timer = sw.Stopwatch( msg=\"Calling OpenLLM...\" )\n",
    "# try:\n",
    "#     response = llm( template_string )\n",
    "# except Exception as e:\n",
    "#     print( e )\n",
    "# \n",
    "# timer.print( \"Done!\")\n",
    "# for line in response.split( \"\\n\" ):\n",
    "#     print( line )\n",
    "\n"
   ],
   "metadata": {
    "collapsed": false,
    "ExecuteTime": {
     "end_time": "2023-11-08T20:49:02.854905Z",
     "start_time": "2023-11-08T20:49:02.848351Z"
    }
   },
   "id": "a85032b997d1ad68"
  },
  {
   "cell_type": "code",
   "execution_count": 18,
   "outputs": [
    {
     "data": {
      "text/plain": "363"
     },
     "execution_count": 18,
     "metadata": {},
     "output_type": "execute_result"
    }
   ],
   "source": [
    "prompt_token_ids=[1, 29871, 13, 6113, 263, 740, 297, 3017, 393, 3408, 1078, 278, 447, 874, 457, 5418, 1546, 1023, 3291, 29889, 29871, 13, 13, 2887, 366, 5706, 278, 3017, 775, 4312, 304, 1234, 445, 2009, 29892, 306, 864, 366, 304, 29901, 13, 13, 29896, 29897, 894, 29901, 26579, 7535, 565, 366, 2274, 278, 1139, 393, 306, 626, 6721, 366, 29889, 29871, 14617, 8570, 304, 278, 4902, 29991, 13, 29906, 29897, 25086, 29901, 10949, 366, 437, 3099, 29892, 1348, 714, 22526, 1048, 825, 306, 29915, 29885, 6721, 366, 304, 437, 29892, 3704, 825, 526, 278, 6576, 393, 366, 674, 817, 304, 2125, 304, 4505, 445, 1108, 29889, 1522, 12187, 310, 596, 2714, 1889, 29991, 13, 29941, 29897, 5920, 29901, 3251, 403, 263, 9750, 271, 326, 1051, 310, 775, 393, 366, 1304, 304, 18331, 472, 596, 1234, 29892, 697, 1196, 310, 775, 639, 2944, 373, 278, 1051, 29889, 450, 775, 1818, 367, 4866, 29892, 269, 3903, 627, 1711, 1959, 29892, 322, 15390, 310, 1065, 29876, 1076, 304, 13285, 29889, 450, 1833, 1196, 310, 596, 775, 1818, 367, 278, 2286, 421, 2929, 918, 1673, 607, 11524, 278, 1234, 29889, 8561, 1854, 393, 738, 21166, 366, 2189, 7087, 278, 1139, 4433, 310, 366, 491, 278, 1404, 29991, 13, 29946, 29897, 7106, 29901, 13969, 373, 278, 1203, 1134, 310, 278, 2286, 421, 2929, 918, 29952, 297, 596, 1833, 1196, 310, 775, 29889, 4803, 697, 1734, 304, 2755, 278, 1203, 1134, 29889, 13, 29945, 29897, 12027, 7420, 29901, 1771, 2575, 368, 322, 8348, 5562, 368, 5649, 596, 775, 297, 8656, 4223, 29889, 13, 13, 5809, 29901, 736, 596, 2933, 408, 263, 4663, 1203, 297, 278, 1494, 4235, 29901, 13, 6224, 13, 1678, 376, 12470, 1115, 376, 1576, 1139, 29892, 9750, 271, 326, 322, 1728, 21733, 613, 13, 1678, 376, 386, 1774, 29879, 1115, 376, 10858, 13133, 613, 13, 1678, 376, 401, 1115, 19997, 13, 1678, 376, 18280, 1115, 376, 2061, 1134, 310, 278, 2286, 421, 2929, 918, 29952, 613, 13, 1678, 376, 735, 9018, 362, 1115, 376, 29909, 11473, 8252, 310, 596, 775, 613, 13, 1678, 376, 2704, 1115, 376, 10858, 6139, 310, 738, 5626, 470, 4436, 393, 366, 18169, 1550, 15661, 304, 6095, 5589, 445, 2009, 29908, 13, 930]\n",
    "\n",
    "len( prompt_token_ids )"
   ],
   "metadata": {
    "collapsed": false,
    "ExecuteTime": {
     "end_time": "2023-11-08T18:48:48.337814Z",
     "start_time": "2023-11-08T18:48:48.321720Z"
    }
   },
   "id": "681af7b54e18c65d"
  },
  {
   "cell_type": "code",
   "execution_count": 26,
   "outputs": [
    {
     "data": {
      "text/plain": "128"
     },
     "execution_count": 26,
     "metadata": {},
     "output_type": "execute_result"
    }
   ],
   "source": [
    "token_ids=[13, 13, 28956, 4691, 13, 5215, 5844, 13, 13, 1753, 447, 874, 457, 29898, 5066, 29896, 29892, 23123, 29896, 29892, 3405, 29906, 29892, 23123, 29906, 1125, 13, 1678, 396, 14806, 26271, 322, 28745, 304, 2971, 5834, 13, 1678, 3405, 29896, 29892, 23123, 29896, 29892, 3405, 29906, 29892, 23123, 29906, 353, 2910, 29898, 755, 29889, 3665, 5834, 29892, 518, 5066, 29896, 29892, 23123, 29896, 29892, 3405, 29906, 29892, 23123, 29906, 2314, 13, 13, 1678, 396, 20535, 403, 278, 12651, 13, 1678, 270, 5066, 353, 3405, 29906, 448, 3405, 29896, 13, 1678, 270, 12957, 353, 23123, 29906, 448, 23123, 29896, 13, 13, 1678, 396, 2401, 368, 278, 447, 874, 457, 7063, 13, 1678, 263, 353, 5844, 29889, 5223, 29898, 29881, 5066, 29914, 29906, 29897, 1068, 29906, 718, 5844, 29889, 3944]\n",
    "\n",
    "token_ids=[13, 13, 28956, 3126, 13, 29912, 13, 1678, 376, 12470, 1115, 376, 6113, 263, 740, 297, 3017, 393, 3408, 1078, 278, 447, 874, 457, 5418, 1546, 1023, 3291, 19602, 13, 1678, 376, 386, 1774, 29879, 1115, 376, 1762, 4505, 445, 1108, 29892, 306, 674, 817, 304, 2334, 263, 740, 393, 3408, 1078, 278, 447, 874, 457, 5418, 1546, 1023, 3291, 29889, 450, 447, 874, 457, 5418, 338, 278, 2107, 29899, 16622, 5418, 1546, 1023, 3291, 373, 263, 20745, 29892, 607, 338, 5407, 363, 25202, 24610, 373, 278, 11563, 29915, 29879, 7101, 29889, 450, 6576, 306, 674, 2125, 526, 29901, 29871, 29896, 29897, 14806, 278, 26271, 322, 28745, 310, 278, 3291, 964, 2971, 5834, 29892, 29871, 29906, 29897, 20535, 403, 278, 12651, 1546, 278, 26271, 322, 28745, 310, 278]\n",
    "\n",
    "len( token_ids )"
   ],
   "metadata": {
    "collapsed": false,
    "ExecuteTime": {
     "end_time": "2023-11-08T19:27:13.281819Z",
     "start_time": "2023-11-08T19:27:13.242197Z"
    }
   },
   "id": "a2b6652a3942f88"
  },
  {
   "cell_type": "code",
   "execution_count": 57,
   "outputs": [
    {
     "data": {
      "text/plain": "OpenLLM(server_url='http://172.17.0.2:3000', llm_kwargs={'max_tokens': 2048, 'max_new_tokens': 400, 'use_llama2_prompt': True, 'n': 1, 'best_of': 1, 'presence_penalty': 0.5, 'frequency_penalty': 0.0, 'use_beam_search': False, 'ignore_eos': False, 'skip_special_tokens': True, 'min_length': 0, 'early_stopping': False, 'num_beams': 1, 'num_beam_groups': 1, 'use_cache': True, 'temperature': 0.6, 'top_k': 12, 'top_p': 0.9, 'typical_p': 1.0, 'epsilon_cutoff': 0.0, 'eta_cutoff': 0.0, 'diversity_penalty': 0.0, 'repetition_penalty': 1.0, 'encoder_repetition_penalty': 1.0, 'length_penalty': 1.0, 'no_repeat_ngram_size': 0, 'renormalize_logits': False, 'remove_invalid_values': False, 'num_return_sequences': 1, 'output_attentions': False, 'output_hidden_states': False, 'output_scores': False, 'encoder_no_repeat_ngram_size': 0})"
     },
     "execution_count": 57,
     "metadata": {},
     "output_type": "execute_result"
    }
   ],
   "source": [
    "llm"
   ],
   "metadata": {
    "collapsed": false,
    "ExecuteTime": {
     "end_time": "2023-11-08T21:04:20.645939Z",
     "start_time": "2023-11-08T21:04:20.638078Z"
    }
   },
   "id": "d766db48ff92d082"
  },
  {
   "cell_type": "code",
   "execution_count": 86,
   "outputs": [
    {
     "ename": "ReadTimeout",
     "evalue": "timed out",
     "output_type": "error",
     "traceback": [
      "\u001B[0;31m---------------------------------------------------------------------------\u001B[0m",
      "\u001B[0;31mTimeoutError\u001B[0m                              Traceback (most recent call last)",
      "File \u001B[0;32m/usr/local/lib/python3.10/site-packages/httpcore/_exceptions.py:10\u001B[0m, in \u001B[0;36mmap_exceptions\u001B[0;34m(map)\u001B[0m\n\u001B[1;32m      9\u001B[0m \u001B[38;5;28;01mtry\u001B[39;00m:\n\u001B[0;32m---> 10\u001B[0m     \u001B[38;5;28;01myield\u001B[39;00m\n\u001B[1;32m     11\u001B[0m \u001B[38;5;28;01mexcept\u001B[39;00m \u001B[38;5;167;01mException\u001B[39;00m \u001B[38;5;28;01mas\u001B[39;00m exc:  \u001B[38;5;66;03m# noqa: PIE786\u001B[39;00m\n",
      "File \u001B[0;32m/usr/local/lib/python3.10/site-packages/httpcore/_backends/sync.py:126\u001B[0m, in \u001B[0;36mSyncStream.read\u001B[0;34m(self, max_bytes, timeout)\u001B[0m\n\u001B[1;32m    125\u001B[0m \u001B[38;5;28mself\u001B[39m\u001B[38;5;241m.\u001B[39m_sock\u001B[38;5;241m.\u001B[39msettimeout(timeout)\n\u001B[0;32m--> 126\u001B[0m \u001B[38;5;28;01mreturn\u001B[39;00m \u001B[38;5;28;43mself\u001B[39;49m\u001B[38;5;241;43m.\u001B[39;49m\u001B[43m_sock\u001B[49m\u001B[38;5;241;43m.\u001B[39;49m\u001B[43mrecv\u001B[49m\u001B[43m(\u001B[49m\u001B[43mmax_bytes\u001B[49m\u001B[43m)\u001B[49m\n",
      "\u001B[0;31mTimeoutError\u001B[0m: timed out",
      "\nThe above exception was the direct cause of the following exception:\n",
      "\u001B[0;31mReadTimeout\u001B[0m                               Traceback (most recent call last)",
      "File \u001B[0;32m/usr/local/lib/python3.10/site-packages/httpx/_transports/default.py:66\u001B[0m, in \u001B[0;36mmap_httpcore_exceptions\u001B[0;34m()\u001B[0m\n\u001B[1;32m     65\u001B[0m \u001B[38;5;28;01mtry\u001B[39;00m:\n\u001B[0;32m---> 66\u001B[0m     \u001B[38;5;28;01myield\u001B[39;00m\n\u001B[1;32m     67\u001B[0m \u001B[38;5;28;01mexcept\u001B[39;00m \u001B[38;5;167;01mException\u001B[39;00m \u001B[38;5;28;01mas\u001B[39;00m exc:  \u001B[38;5;66;03m# noqa: PIE-786\u001B[39;00m\n",
      "File \u001B[0;32m/usr/local/lib/python3.10/site-packages/httpx/_transports/default.py:228\u001B[0m, in \u001B[0;36mHTTPTransport.handle_request\u001B[0;34m(self, request)\u001B[0m\n\u001B[1;32m    227\u001B[0m \u001B[38;5;28;01mwith\u001B[39;00m map_httpcore_exceptions():\n\u001B[0;32m--> 228\u001B[0m     resp \u001B[38;5;241m=\u001B[39m \u001B[38;5;28;43mself\u001B[39;49m\u001B[38;5;241;43m.\u001B[39;49m\u001B[43m_pool\u001B[49m\u001B[38;5;241;43m.\u001B[39;49m\u001B[43mhandle_request\u001B[49m\u001B[43m(\u001B[49m\u001B[43mreq\u001B[49m\u001B[43m)\u001B[49m\n\u001B[1;32m    230\u001B[0m \u001B[38;5;28;01massert\u001B[39;00m \u001B[38;5;28misinstance\u001B[39m(resp\u001B[38;5;241m.\u001B[39mstream, typing\u001B[38;5;241m.\u001B[39mIterable)\n",
      "File \u001B[0;32m/usr/local/lib/python3.10/site-packages/httpcore/_sync/connection_pool.py:262\u001B[0m, in \u001B[0;36mConnectionPool.handle_request\u001B[0;34m(self, request)\u001B[0m\n\u001B[1;32m    261\u001B[0m         \u001B[38;5;28mself\u001B[39m\u001B[38;5;241m.\u001B[39mresponse_closed(status)\n\u001B[0;32m--> 262\u001B[0m     \u001B[38;5;28;01mraise\u001B[39;00m exc\n\u001B[1;32m    263\u001B[0m \u001B[38;5;28;01melse\u001B[39;00m:\n",
      "File \u001B[0;32m/usr/local/lib/python3.10/site-packages/httpcore/_sync/connection_pool.py:245\u001B[0m, in \u001B[0;36mConnectionPool.handle_request\u001B[0;34m(self, request)\u001B[0m\n\u001B[1;32m    244\u001B[0m \u001B[38;5;28;01mtry\u001B[39;00m:\n\u001B[0;32m--> 245\u001B[0m     response \u001B[38;5;241m=\u001B[39m \u001B[43mconnection\u001B[49m\u001B[38;5;241;43m.\u001B[39;49m\u001B[43mhandle_request\u001B[49m\u001B[43m(\u001B[49m\u001B[43mrequest\u001B[49m\u001B[43m)\u001B[49m\n\u001B[1;32m    246\u001B[0m \u001B[38;5;28;01mexcept\u001B[39;00m ConnectionNotAvailable:\n\u001B[1;32m    247\u001B[0m     \u001B[38;5;66;03m# The ConnectionNotAvailable exception is a special case, that\u001B[39;00m\n\u001B[1;32m    248\u001B[0m     \u001B[38;5;66;03m# indicates we need to retry the request on a new connection.\u001B[39;00m\n\u001B[0;32m   (...)\u001B[0m\n\u001B[1;32m    252\u001B[0m     \u001B[38;5;66;03m# might end up as an HTTP/2 connection, but which actually ends\u001B[39;00m\n\u001B[1;32m    253\u001B[0m     \u001B[38;5;66;03m# up as HTTP/1.1.\u001B[39;00m\n",
      "File \u001B[0;32m/usr/local/lib/python3.10/site-packages/httpcore/_sync/connection.py:103\u001B[0m, in \u001B[0;36mHTTPConnection.handle_request\u001B[0;34m(self, request)\u001B[0m\n\u001B[1;32m    101\u001B[0m         \u001B[38;5;28;01mraise\u001B[39;00m ConnectionNotAvailable()\n\u001B[0;32m--> 103\u001B[0m \u001B[38;5;28;01mreturn\u001B[39;00m \u001B[38;5;28;43mself\u001B[39;49m\u001B[38;5;241;43m.\u001B[39;49m\u001B[43m_connection\u001B[49m\u001B[38;5;241;43m.\u001B[39;49m\u001B[43mhandle_request\u001B[49m\u001B[43m(\u001B[49m\u001B[43mrequest\u001B[49m\u001B[43m)\u001B[49m\n",
      "File \u001B[0;32m/usr/local/lib/python3.10/site-packages/httpcore/_sync/http11.py:133\u001B[0m, in \u001B[0;36mHTTP11Connection.handle_request\u001B[0;34m(self, request)\u001B[0m\n\u001B[1;32m    132\u001B[0m         \u001B[38;5;28mself\u001B[39m\u001B[38;5;241m.\u001B[39m_response_closed()\n\u001B[0;32m--> 133\u001B[0m \u001B[38;5;28;01mraise\u001B[39;00m exc\n",
      "File \u001B[0;32m/usr/local/lib/python3.10/site-packages/httpcore/_sync/http11.py:111\u001B[0m, in \u001B[0;36mHTTP11Connection.handle_request\u001B[0;34m(self, request)\u001B[0m\n\u001B[1;32m    103\u001B[0m \u001B[38;5;28;01mwith\u001B[39;00m Trace(\n\u001B[1;32m    104\u001B[0m     \u001B[38;5;124m\"\u001B[39m\u001B[38;5;124mreceive_response_headers\u001B[39m\u001B[38;5;124m\"\u001B[39m, logger, request, kwargs\n\u001B[1;32m    105\u001B[0m ) \u001B[38;5;28;01mas\u001B[39;00m trace:\n\u001B[1;32m    106\u001B[0m     (\n\u001B[1;32m    107\u001B[0m         http_version,\n\u001B[1;32m    108\u001B[0m         status,\n\u001B[1;32m    109\u001B[0m         reason_phrase,\n\u001B[1;32m    110\u001B[0m         headers,\n\u001B[0;32m--> 111\u001B[0m     ) \u001B[38;5;241m=\u001B[39m \u001B[38;5;28;43mself\u001B[39;49m\u001B[38;5;241;43m.\u001B[39;49m\u001B[43m_receive_response_headers\u001B[49m\u001B[43m(\u001B[49m\u001B[38;5;241;43m*\u001B[39;49m\u001B[38;5;241;43m*\u001B[39;49m\u001B[43mkwargs\u001B[49m\u001B[43m)\u001B[49m\n\u001B[1;32m    112\u001B[0m     trace\u001B[38;5;241m.\u001B[39mreturn_value \u001B[38;5;241m=\u001B[39m (\n\u001B[1;32m    113\u001B[0m         http_version,\n\u001B[1;32m    114\u001B[0m         status,\n\u001B[1;32m    115\u001B[0m         reason_phrase,\n\u001B[1;32m    116\u001B[0m         headers,\n\u001B[1;32m    117\u001B[0m     )\n",
      "File \u001B[0;32m/usr/local/lib/python3.10/site-packages/httpcore/_sync/http11.py:176\u001B[0m, in \u001B[0;36mHTTP11Connection._receive_response_headers\u001B[0;34m(self, request)\u001B[0m\n\u001B[1;32m    175\u001B[0m \u001B[38;5;28;01mwhile\u001B[39;00m \u001B[38;5;28;01mTrue\u001B[39;00m:\n\u001B[0;32m--> 176\u001B[0m     event \u001B[38;5;241m=\u001B[39m \u001B[38;5;28;43mself\u001B[39;49m\u001B[38;5;241;43m.\u001B[39;49m\u001B[43m_receive_event\u001B[49m\u001B[43m(\u001B[49m\u001B[43mtimeout\u001B[49m\u001B[38;5;241;43m=\u001B[39;49m\u001B[43mtimeout\u001B[49m\u001B[43m)\u001B[49m\n\u001B[1;32m    177\u001B[0m     \u001B[38;5;28;01mif\u001B[39;00m \u001B[38;5;28misinstance\u001B[39m(event, h11\u001B[38;5;241m.\u001B[39mResponse):\n",
      "File \u001B[0;32m/usr/local/lib/python3.10/site-packages/httpcore/_sync/http11.py:212\u001B[0m, in \u001B[0;36mHTTP11Connection._receive_event\u001B[0;34m(self, timeout)\u001B[0m\n\u001B[1;32m    211\u001B[0m \u001B[38;5;28;01mif\u001B[39;00m event \u001B[38;5;129;01mis\u001B[39;00m h11\u001B[38;5;241m.\u001B[39mNEED_DATA:\n\u001B[0;32m--> 212\u001B[0m     data \u001B[38;5;241m=\u001B[39m \u001B[38;5;28;43mself\u001B[39;49m\u001B[38;5;241;43m.\u001B[39;49m\u001B[43m_network_stream\u001B[49m\u001B[38;5;241;43m.\u001B[39;49m\u001B[43mread\u001B[49m\u001B[43m(\u001B[49m\n\u001B[1;32m    213\u001B[0m \u001B[43m        \u001B[49m\u001B[38;5;28;43mself\u001B[39;49m\u001B[38;5;241;43m.\u001B[39;49m\u001B[43mREAD_NUM_BYTES\u001B[49m\u001B[43m,\u001B[49m\u001B[43m \u001B[49m\u001B[43mtimeout\u001B[49m\u001B[38;5;241;43m=\u001B[39;49m\u001B[43mtimeout\u001B[49m\n\u001B[1;32m    214\u001B[0m \u001B[43m    \u001B[49m\u001B[43m)\u001B[49m\n\u001B[1;32m    216\u001B[0m     \u001B[38;5;66;03m# If we feed this case through h11 we'll raise an exception like:\u001B[39;00m\n\u001B[1;32m    217\u001B[0m     \u001B[38;5;66;03m#\u001B[39;00m\n\u001B[1;32m    218\u001B[0m     \u001B[38;5;66;03m#     httpcore.RemoteProtocolError: can't handle event type\u001B[39;00m\n\u001B[0;32m   (...)\u001B[0m\n\u001B[1;32m    222\u001B[0m     \u001B[38;5;66;03m# perspective. Instead we handle this case distinctly and treat\u001B[39;00m\n\u001B[1;32m    223\u001B[0m     \u001B[38;5;66;03m# it as a ConnectError.\u001B[39;00m\n",
      "File \u001B[0;32m/usr/local/lib/python3.10/site-packages/httpcore/_backends/sync.py:124\u001B[0m, in \u001B[0;36mSyncStream.read\u001B[0;34m(self, max_bytes, timeout)\u001B[0m\n\u001B[1;32m    123\u001B[0m exc_map: ExceptionMapping \u001B[38;5;241m=\u001B[39m {socket\u001B[38;5;241m.\u001B[39mtimeout: ReadTimeout, \u001B[38;5;167;01mOSError\u001B[39;00m: ReadError}\n\u001B[0;32m--> 124\u001B[0m \u001B[38;5;28;01mwith\u001B[39;00m map_exceptions(exc_map):\n\u001B[1;32m    125\u001B[0m     \u001B[38;5;28mself\u001B[39m\u001B[38;5;241m.\u001B[39m_sock\u001B[38;5;241m.\u001B[39msettimeout(timeout)\n",
      "File \u001B[0;32m/usr/local/lib/python3.10/contextlib.py:153\u001B[0m, in \u001B[0;36m_GeneratorContextManager.__exit__\u001B[0;34m(self, typ, value, traceback)\u001B[0m\n\u001B[1;32m    152\u001B[0m \u001B[38;5;28;01mtry\u001B[39;00m:\n\u001B[0;32m--> 153\u001B[0m     \u001B[38;5;28;43mself\u001B[39;49m\u001B[38;5;241;43m.\u001B[39;49m\u001B[43mgen\u001B[49m\u001B[38;5;241;43m.\u001B[39;49m\u001B[43mthrow\u001B[49m\u001B[43m(\u001B[49m\u001B[43mtyp\u001B[49m\u001B[43m,\u001B[49m\u001B[43m \u001B[49m\u001B[43mvalue\u001B[49m\u001B[43m,\u001B[49m\u001B[43m \u001B[49m\u001B[43mtraceback\u001B[49m\u001B[43m)\u001B[49m\n\u001B[1;32m    154\u001B[0m \u001B[38;5;28;01mexcept\u001B[39;00m \u001B[38;5;167;01mStopIteration\u001B[39;00m \u001B[38;5;28;01mas\u001B[39;00m exc:\n\u001B[1;32m    155\u001B[0m     \u001B[38;5;66;03m# Suppress StopIteration *unless* it's the same exception that\u001B[39;00m\n\u001B[1;32m    156\u001B[0m     \u001B[38;5;66;03m# was passed to throw().  This prevents a StopIteration\u001B[39;00m\n\u001B[1;32m    157\u001B[0m     \u001B[38;5;66;03m# raised inside the \"with\" statement from being suppressed.\u001B[39;00m\n",
      "File \u001B[0;32m/usr/local/lib/python3.10/site-packages/httpcore/_exceptions.py:14\u001B[0m, in \u001B[0;36mmap_exceptions\u001B[0;34m(map)\u001B[0m\n\u001B[1;32m     13\u001B[0m     \u001B[38;5;28;01mif\u001B[39;00m \u001B[38;5;28misinstance\u001B[39m(exc, from_exc):\n\u001B[0;32m---> 14\u001B[0m         \u001B[38;5;28;01mraise\u001B[39;00m to_exc(exc) \u001B[38;5;28;01mfrom\u001B[39;00m \u001B[38;5;21;01mexc\u001B[39;00m\n\u001B[1;32m     15\u001B[0m \u001B[38;5;28;01mraise\u001B[39;00m\n",
      "\u001B[0;31mReadTimeout\u001B[0m: timed out",
      "\nThe above exception was the direct cause of the following exception:\n",
      "\u001B[0;31mReadTimeout\u001B[0m                               Traceback (most recent call last)",
      "Cell \u001B[0;32mIn[86], line 1\u001B[0m\n\u001B[0;32m----> 1\u001B[0m resposne \u001B[38;5;241m=\u001B[39m \u001B[43mllm\u001B[49m\u001B[43m(\u001B[49m\u001B[43m \u001B[49m\u001B[38;5;124;43m\"\u001B[39;49m\u001B[38;5;124;43mWhat is the formula for calculating the circumference of a circle\u001B[39;49m\u001B[38;5;124;43m\"\u001B[39;49m\u001B[43m \u001B[49m\u001B[43m)\u001B[49m\n\u001B[1;32m      2\u001B[0m resposne\n",
      "File \u001B[0;32m/usr/local/lib/python3.10/site-packages/langchain/llms/base.py:876\u001B[0m, in \u001B[0;36mBaseLLM.__call__\u001B[0;34m(self, prompt, stop, callbacks, tags, metadata, **kwargs)\u001B[0m\n\u001B[1;32m    869\u001B[0m \u001B[38;5;28;01mif\u001B[39;00m \u001B[38;5;129;01mnot\u001B[39;00m \u001B[38;5;28misinstance\u001B[39m(prompt, \u001B[38;5;28mstr\u001B[39m):\n\u001B[1;32m    870\u001B[0m     \u001B[38;5;28;01mraise\u001B[39;00m \u001B[38;5;167;01mValueError\u001B[39;00m(\n\u001B[1;32m    871\u001B[0m         \u001B[38;5;124m\"\u001B[39m\u001B[38;5;124mArgument `prompt` is expected to be a string. Instead found \u001B[39m\u001B[38;5;124m\"\u001B[39m\n\u001B[1;32m    872\u001B[0m         \u001B[38;5;124mf\u001B[39m\u001B[38;5;124m\"\u001B[39m\u001B[38;5;132;01m{\u001B[39;00m\u001B[38;5;28mtype\u001B[39m(prompt)\u001B[38;5;132;01m}\u001B[39;00m\u001B[38;5;124m. If you want to run the LLM on multiple prompts, use \u001B[39m\u001B[38;5;124m\"\u001B[39m\n\u001B[1;32m    873\u001B[0m         \u001B[38;5;124m\"\u001B[39m\u001B[38;5;124m`generate` instead.\u001B[39m\u001B[38;5;124m\"\u001B[39m\n\u001B[1;32m    874\u001B[0m     )\n\u001B[1;32m    875\u001B[0m \u001B[38;5;28;01mreturn\u001B[39;00m (\n\u001B[0;32m--> 876\u001B[0m     \u001B[38;5;28;43mself\u001B[39;49m\u001B[38;5;241;43m.\u001B[39;49m\u001B[43mgenerate\u001B[49m\u001B[43m(\u001B[49m\n\u001B[1;32m    877\u001B[0m \u001B[43m        \u001B[49m\u001B[43m[\u001B[49m\u001B[43mprompt\u001B[49m\u001B[43m]\u001B[49m\u001B[43m,\u001B[49m\n\u001B[1;32m    878\u001B[0m \u001B[43m        \u001B[49m\u001B[43mstop\u001B[49m\u001B[38;5;241;43m=\u001B[39;49m\u001B[43mstop\u001B[49m\u001B[43m,\u001B[49m\n\u001B[1;32m    879\u001B[0m \u001B[43m        \u001B[49m\u001B[43mcallbacks\u001B[49m\u001B[38;5;241;43m=\u001B[39;49m\u001B[43mcallbacks\u001B[49m\u001B[43m,\u001B[49m\n\u001B[1;32m    880\u001B[0m \u001B[43m        \u001B[49m\u001B[43mtags\u001B[49m\u001B[38;5;241;43m=\u001B[39;49m\u001B[43mtags\u001B[49m\u001B[43m,\u001B[49m\n\u001B[1;32m    881\u001B[0m \u001B[43m        \u001B[49m\u001B[43mmetadata\u001B[49m\u001B[38;5;241;43m=\u001B[39;49m\u001B[43mmetadata\u001B[49m\u001B[43m,\u001B[49m\n\u001B[1;32m    882\u001B[0m \u001B[43m        \u001B[49m\u001B[38;5;241;43m*\u001B[39;49m\u001B[38;5;241;43m*\u001B[39;49m\u001B[43mkwargs\u001B[49m\u001B[43m,\u001B[49m\n\u001B[1;32m    883\u001B[0m \u001B[43m    \u001B[49m\u001B[43m)\u001B[49m\n\u001B[1;32m    884\u001B[0m     \u001B[38;5;241m.\u001B[39mgenerations[\u001B[38;5;241m0\u001B[39m][\u001B[38;5;241m0\u001B[39m]\n\u001B[1;32m    885\u001B[0m     \u001B[38;5;241m.\u001B[39mtext\n\u001B[1;32m    886\u001B[0m )\n",
      "File \u001B[0;32m/usr/local/lib/python3.10/site-packages/langchain/llms/base.py:656\u001B[0m, in \u001B[0;36mBaseLLM.generate\u001B[0;34m(self, prompts, stop, callbacks, tags, metadata, run_name, **kwargs)\u001B[0m\n\u001B[1;32m    641\u001B[0m         \u001B[38;5;28;01mraise\u001B[39;00m \u001B[38;5;167;01mValueError\u001B[39;00m(\n\u001B[1;32m    642\u001B[0m             \u001B[38;5;124m\"\u001B[39m\u001B[38;5;124mAsked to cache, but no cache found at `langchain.cache`.\u001B[39m\u001B[38;5;124m\"\u001B[39m\n\u001B[1;32m    643\u001B[0m         )\n\u001B[1;32m    644\u001B[0m     run_managers \u001B[38;5;241m=\u001B[39m [\n\u001B[1;32m    645\u001B[0m         callback_manager\u001B[38;5;241m.\u001B[39mon_llm_start(\n\u001B[1;32m    646\u001B[0m             dumpd(\u001B[38;5;28mself\u001B[39m),\n\u001B[0;32m   (...)\u001B[0m\n\u001B[1;32m    654\u001B[0m         )\n\u001B[1;32m    655\u001B[0m     ]\n\u001B[0;32m--> 656\u001B[0m     output \u001B[38;5;241m=\u001B[39m \u001B[38;5;28;43mself\u001B[39;49m\u001B[38;5;241;43m.\u001B[39;49m\u001B[43m_generate_helper\u001B[49m\u001B[43m(\u001B[49m\n\u001B[1;32m    657\u001B[0m \u001B[43m        \u001B[49m\u001B[43mprompts\u001B[49m\u001B[43m,\u001B[49m\u001B[43m \u001B[49m\u001B[43mstop\u001B[49m\u001B[43m,\u001B[49m\u001B[43m \u001B[49m\u001B[43mrun_managers\u001B[49m\u001B[43m,\u001B[49m\u001B[43m \u001B[49m\u001B[38;5;28;43mbool\u001B[39;49m\u001B[43m(\u001B[49m\u001B[43mnew_arg_supported\u001B[49m\u001B[43m)\u001B[49m\u001B[43m,\u001B[49m\u001B[43m \u001B[49m\u001B[38;5;241;43m*\u001B[39;49m\u001B[38;5;241;43m*\u001B[39;49m\u001B[43mkwargs\u001B[49m\n\u001B[1;32m    658\u001B[0m \u001B[43m    \u001B[49m\u001B[43m)\u001B[49m\n\u001B[1;32m    659\u001B[0m     \u001B[38;5;28;01mreturn\u001B[39;00m output\n\u001B[1;32m    660\u001B[0m \u001B[38;5;28;01mif\u001B[39;00m \u001B[38;5;28mlen\u001B[39m(missing_prompts) \u001B[38;5;241m>\u001B[39m \u001B[38;5;241m0\u001B[39m:\n",
      "File \u001B[0;32m/usr/local/lib/python3.10/site-packages/langchain/llms/base.py:544\u001B[0m, in \u001B[0;36mBaseLLM._generate_helper\u001B[0;34m(self, prompts, stop, run_managers, new_arg_supported, **kwargs)\u001B[0m\n\u001B[1;32m    542\u001B[0m     \u001B[38;5;28;01mfor\u001B[39;00m run_manager \u001B[38;5;129;01min\u001B[39;00m run_managers:\n\u001B[1;32m    543\u001B[0m         run_manager\u001B[38;5;241m.\u001B[39mon_llm_error(e)\n\u001B[0;32m--> 544\u001B[0m     \u001B[38;5;28;01mraise\u001B[39;00m e\n\u001B[1;32m    545\u001B[0m flattened_outputs \u001B[38;5;241m=\u001B[39m output\u001B[38;5;241m.\u001B[39mflatten()\n\u001B[1;32m    546\u001B[0m \u001B[38;5;28;01mfor\u001B[39;00m manager, flattened_output \u001B[38;5;129;01min\u001B[39;00m \u001B[38;5;28mzip\u001B[39m(run_managers, flattened_outputs):\n",
      "File \u001B[0;32m/usr/local/lib/python3.10/site-packages/langchain/llms/base.py:531\u001B[0m, in \u001B[0;36mBaseLLM._generate_helper\u001B[0;34m(self, prompts, stop, run_managers, new_arg_supported, **kwargs)\u001B[0m\n\u001B[1;32m    521\u001B[0m \u001B[38;5;28;01mdef\u001B[39;00m \u001B[38;5;21m_generate_helper\u001B[39m(\n\u001B[1;32m    522\u001B[0m     \u001B[38;5;28mself\u001B[39m,\n\u001B[1;32m    523\u001B[0m     prompts: List[\u001B[38;5;28mstr\u001B[39m],\n\u001B[0;32m   (...)\u001B[0m\n\u001B[1;32m    527\u001B[0m     \u001B[38;5;241m*\u001B[39m\u001B[38;5;241m*\u001B[39mkwargs: Any,\n\u001B[1;32m    528\u001B[0m ) \u001B[38;5;241m-\u001B[39m\u001B[38;5;241m>\u001B[39m LLMResult:\n\u001B[1;32m    529\u001B[0m     \u001B[38;5;28;01mtry\u001B[39;00m:\n\u001B[1;32m    530\u001B[0m         output \u001B[38;5;241m=\u001B[39m (\n\u001B[0;32m--> 531\u001B[0m             \u001B[38;5;28;43mself\u001B[39;49m\u001B[38;5;241;43m.\u001B[39;49m\u001B[43m_generate\u001B[49m\u001B[43m(\u001B[49m\n\u001B[1;32m    532\u001B[0m \u001B[43m                \u001B[49m\u001B[43mprompts\u001B[49m\u001B[43m,\u001B[49m\n\u001B[1;32m    533\u001B[0m \u001B[43m                \u001B[49m\u001B[43mstop\u001B[49m\u001B[38;5;241;43m=\u001B[39;49m\u001B[43mstop\u001B[49m\u001B[43m,\u001B[49m\n\u001B[1;32m    534\u001B[0m \u001B[43m                \u001B[49m\u001B[38;5;66;43;03m# TODO: support multiple run managers\u001B[39;49;00m\n\u001B[1;32m    535\u001B[0m \u001B[43m                \u001B[49m\u001B[43mrun_manager\u001B[49m\u001B[38;5;241;43m=\u001B[39;49m\u001B[43mrun_managers\u001B[49m\u001B[43m[\u001B[49m\u001B[38;5;241;43m0\u001B[39;49m\u001B[43m]\u001B[49m\u001B[43m \u001B[49m\u001B[38;5;28;43;01mif\u001B[39;49;00m\u001B[43m \u001B[49m\u001B[43mrun_managers\u001B[49m\u001B[43m \u001B[49m\u001B[38;5;28;43;01melse\u001B[39;49;00m\u001B[43m \u001B[49m\u001B[38;5;28;43;01mNone\u001B[39;49;00m\u001B[43m,\u001B[49m\n\u001B[1;32m    536\u001B[0m \u001B[43m                \u001B[49m\u001B[38;5;241;43m*\u001B[39;49m\u001B[38;5;241;43m*\u001B[39;49m\u001B[43mkwargs\u001B[49m\u001B[43m,\u001B[49m\n\u001B[1;32m    537\u001B[0m \u001B[43m            \u001B[49m\u001B[43m)\u001B[49m\n\u001B[1;32m    538\u001B[0m             \u001B[38;5;28;01mif\u001B[39;00m new_arg_supported\n\u001B[1;32m    539\u001B[0m             \u001B[38;5;28;01melse\u001B[39;00m \u001B[38;5;28mself\u001B[39m\u001B[38;5;241m.\u001B[39m_generate(prompts, stop\u001B[38;5;241m=\u001B[39mstop)\n\u001B[1;32m    540\u001B[0m         )\n\u001B[1;32m    541\u001B[0m     \u001B[38;5;28;01mexcept\u001B[39;00m \u001B[38;5;167;01mBaseException\u001B[39;00m \u001B[38;5;28;01mas\u001B[39;00m e:\n\u001B[1;32m    542\u001B[0m         \u001B[38;5;28;01mfor\u001B[39;00m run_manager \u001B[38;5;129;01min\u001B[39;00m run_managers:\n",
      "File \u001B[0;32m/usr/local/lib/python3.10/site-packages/langchain/llms/base.py:1053\u001B[0m, in \u001B[0;36mLLM._generate\u001B[0;34m(self, prompts, stop, run_manager, **kwargs)\u001B[0m\n\u001B[1;32m   1050\u001B[0m new_arg_supported \u001B[38;5;241m=\u001B[39m inspect\u001B[38;5;241m.\u001B[39msignature(\u001B[38;5;28mself\u001B[39m\u001B[38;5;241m.\u001B[39m_call)\u001B[38;5;241m.\u001B[39mparameters\u001B[38;5;241m.\u001B[39mget(\u001B[38;5;124m\"\u001B[39m\u001B[38;5;124mrun_manager\u001B[39m\u001B[38;5;124m\"\u001B[39m)\n\u001B[1;32m   1051\u001B[0m \u001B[38;5;28;01mfor\u001B[39;00m prompt \u001B[38;5;129;01min\u001B[39;00m prompts:\n\u001B[1;32m   1052\u001B[0m     text \u001B[38;5;241m=\u001B[39m (\n\u001B[0;32m-> 1053\u001B[0m         \u001B[38;5;28;43mself\u001B[39;49m\u001B[38;5;241;43m.\u001B[39;49m\u001B[43m_call\u001B[49m\u001B[43m(\u001B[49m\u001B[43mprompt\u001B[49m\u001B[43m,\u001B[49m\u001B[43m \u001B[49m\u001B[43mstop\u001B[49m\u001B[38;5;241;43m=\u001B[39;49m\u001B[43mstop\u001B[49m\u001B[43m,\u001B[49m\u001B[43m \u001B[49m\u001B[43mrun_manager\u001B[49m\u001B[38;5;241;43m=\u001B[39;49m\u001B[43mrun_manager\u001B[49m\u001B[43m,\u001B[49m\u001B[43m \u001B[49m\u001B[38;5;241;43m*\u001B[39;49m\u001B[38;5;241;43m*\u001B[39;49m\u001B[43mkwargs\u001B[49m\u001B[43m)\u001B[49m\n\u001B[1;32m   1054\u001B[0m         \u001B[38;5;28;01mif\u001B[39;00m new_arg_supported\n\u001B[1;32m   1055\u001B[0m         \u001B[38;5;28;01melse\u001B[39;00m \u001B[38;5;28mself\u001B[39m\u001B[38;5;241m.\u001B[39m_call(prompt, stop\u001B[38;5;241m=\u001B[39mstop, \u001B[38;5;241m*\u001B[39m\u001B[38;5;241m*\u001B[39mkwargs)\n\u001B[1;32m   1056\u001B[0m     )\n\u001B[1;32m   1057\u001B[0m     generations\u001B[38;5;241m.\u001B[39mappend([Generation(text\u001B[38;5;241m=\u001B[39mtext)])\n\u001B[1;32m   1058\u001B[0m \u001B[38;5;28;01mreturn\u001B[39;00m LLMResult(generations\u001B[38;5;241m=\u001B[39mgenerations)\n",
      "File \u001B[0;32m/usr/local/lib/python3.10/site-packages/langchain/llms/openllm.py:268\u001B[0m, in \u001B[0;36mOpenLLM._call\u001B[0;34m(self, prompt, stop, run_manager, **kwargs)\u001B[0m\n\u001B[1;32m    264\u001B[0m config \u001B[38;5;241m=\u001B[39m openllm\u001B[38;5;241m.\u001B[39mAutoConfig\u001B[38;5;241m.\u001B[39mfor_model(\n\u001B[1;32m    265\u001B[0m     \u001B[38;5;28mself\u001B[39m\u001B[38;5;241m.\u001B[39m_identifying_params[\u001B[38;5;124m\"\u001B[39m\u001B[38;5;124mmodel_name\u001B[39m\u001B[38;5;124m\"\u001B[39m], \u001B[38;5;241m*\u001B[39m\u001B[38;5;241m*\u001B[39mcopied\n\u001B[1;32m    266\u001B[0m )\n\u001B[1;32m    267\u001B[0m \u001B[38;5;28;01mif\u001B[39;00m \u001B[38;5;28mself\u001B[39m\u001B[38;5;241m.\u001B[39m_client:\n\u001B[0;32m--> 268\u001B[0m     res \u001B[38;5;241m=\u001B[39m \u001B[38;5;28;43mself\u001B[39;49m\u001B[38;5;241;43m.\u001B[39;49m\u001B[43m_client\u001B[49m\u001B[38;5;241;43m.\u001B[39;49m\u001B[43mgenerate\u001B[49m\u001B[43m(\u001B[49m\n\u001B[1;32m    269\u001B[0m \u001B[43m        \u001B[49m\u001B[43mprompt\u001B[49m\u001B[43m,\u001B[49m\u001B[43m \u001B[49m\u001B[38;5;241;43m*\u001B[39;49m\u001B[38;5;241;43m*\u001B[39;49m\u001B[43mconfig\u001B[49m\u001B[38;5;241;43m.\u001B[39;49m\u001B[43mmodel_dump\u001B[49m\u001B[43m(\u001B[49m\u001B[43mflatten\u001B[49m\u001B[38;5;241;43m=\u001B[39;49m\u001B[38;5;28;43;01mTrue\u001B[39;49;00m\u001B[43m)\u001B[49m\n\u001B[1;32m    270\u001B[0m \u001B[43m    \u001B[49m\u001B[43m)\u001B[49m\u001B[38;5;66;03m#.responses[0]\u001B[39;00m\n\u001B[1;32m    271\u001B[0m     \u001B[38;5;28mprint\u001B[39m( \u001B[38;5;124m\"\u001B[39m\u001B[38;5;124m@\u001B[39m\u001B[38;5;124m\"\u001B[39m \u001B[38;5;241m*\u001B[39m \u001B[38;5;241m80\u001B[39m )\n\u001B[1;32m    272\u001B[0m     \u001B[38;5;28mprint\u001B[39m( \u001B[38;5;124m\"\u001B[39m\u001B[38;5;124mres:\u001B[39m\u001B[38;5;124m\"\u001B[39m, res, end\u001B[38;5;241m=\u001B[39m\u001B[38;5;124m\"\u001B[39m\u001B[38;5;130;01m\\n\u001B[39;00m\u001B[38;5;130;01m\\n\u001B[39;00m\u001B[38;5;124m\"\u001B[39m )\n",
      "File \u001B[0;32m/usr/local/lib/python3.10/site-packages/openllm_client/_http.py:127\u001B[0m, in \u001B[0;36mHTTPClient.generate\u001B[0;34m(self, prompt, llm_config, stop, adapter_name, timeout, verify, **attrs)\u001B[0m\n\u001B[1;32m    125\u001B[0m req \u001B[38;5;241m=\u001B[39m Request(prompt\u001B[38;5;241m=\u001B[39mprompt, llm_config\u001B[38;5;241m=\u001B[39mllm_config, stop\u001B[38;5;241m=\u001B[39mstop, adapter_name\u001B[38;5;241m=\u001B[39madapter_name)\n\u001B[1;32m    126\u001B[0m \u001B[38;5;28;01mwith\u001B[39;00m httpx\u001B[38;5;241m.\u001B[39mClient(base_url\u001B[38;5;241m=\u001B[39m\u001B[38;5;28mself\u001B[39m\u001B[38;5;241m.\u001B[39maddress, timeout\u001B[38;5;241m=\u001B[39mtimeout, verify\u001B[38;5;241m=\u001B[39mverify, \u001B[38;5;241m*\u001B[39m\u001B[38;5;241m*\u001B[39m\u001B[38;5;28mself\u001B[39m\u001B[38;5;241m.\u001B[39mclient_args) \u001B[38;5;28;01mas\u001B[39;00m client:\n\u001B[0;32m--> 127\u001B[0m   r \u001B[38;5;241m=\u001B[39m \u001B[43mclient\u001B[49m\u001B[38;5;241;43m.\u001B[39;49m\u001B[43mpost\u001B[49m\u001B[43m(\u001B[49m\u001B[38;5;28;43mself\u001B[39;49m\u001B[38;5;241;43m.\u001B[39;49m\u001B[43m_build_endpoint\u001B[49m\u001B[43m(\u001B[49m\u001B[38;5;124;43m'\u001B[39;49m\u001B[38;5;124;43mgenerate\u001B[39;49m\u001B[38;5;124;43m'\u001B[39;49m\u001B[43m)\u001B[49m\u001B[43m,\u001B[49m\u001B[43m \u001B[49m\u001B[43mjson\u001B[49m\u001B[38;5;241;43m=\u001B[39;49m\u001B[43mreq\u001B[49m\u001B[38;5;241;43m.\u001B[39;49m\u001B[43mmodel_dump_json\u001B[49m\u001B[43m(\u001B[49m\u001B[43m)\u001B[49m\u001B[43m,\u001B[49m\u001B[43m \u001B[49m\u001B[38;5;241;43m*\u001B[39;49m\u001B[38;5;241;43m*\u001B[39;49m\u001B[38;5;28;43mself\u001B[39;49m\u001B[38;5;241;43m.\u001B[39;49m\u001B[43mclient_args\u001B[49m\u001B[43m)\u001B[49m\n\u001B[1;32m    128\u001B[0m \u001B[38;5;28;01mif\u001B[39;00m r\u001B[38;5;241m.\u001B[39mstatus_code \u001B[38;5;241m!=\u001B[39m \u001B[38;5;241m200\u001B[39m: \u001B[38;5;28;01mraise\u001B[39;00m \u001B[38;5;167;01mValueError\u001B[39;00m(\u001B[38;5;124m\"\u001B[39m\u001B[38;5;124mFailed to get generation from \u001B[39m\u001B[38;5;124m'\u001B[39m\u001B[38;5;124m/v1/generate\u001B[39m\u001B[38;5;124m'\u001B[39m\u001B[38;5;124m. Check server logs for more details.\u001B[39m\u001B[38;5;124m\"\u001B[39m)\n\u001B[1;32m    129\u001B[0m \u001B[38;5;28;01mreturn\u001B[39;00m Response\u001B[38;5;241m.\u001B[39mmodel_construct(r\u001B[38;5;241m.\u001B[39mjson())\n",
      "File \u001B[0;32m/usr/local/lib/python3.10/site-packages/httpx/_client.py:1132\u001B[0m, in \u001B[0;36mClient.post\u001B[0;34m(self, url, content, data, files, json, params, headers, cookies, auth, follow_redirects, timeout, extensions)\u001B[0m\n\u001B[1;32m   1111\u001B[0m \u001B[38;5;28;01mdef\u001B[39;00m \u001B[38;5;21mpost\u001B[39m(\n\u001B[1;32m   1112\u001B[0m     \u001B[38;5;28mself\u001B[39m,\n\u001B[1;32m   1113\u001B[0m     url: URLTypes,\n\u001B[0;32m   (...)\u001B[0m\n\u001B[1;32m   1125\u001B[0m     extensions: typing\u001B[38;5;241m.\u001B[39mOptional[RequestExtensions] \u001B[38;5;241m=\u001B[39m \u001B[38;5;28;01mNone\u001B[39;00m,\n\u001B[1;32m   1126\u001B[0m ) \u001B[38;5;241m-\u001B[39m\u001B[38;5;241m>\u001B[39m Response:\n\u001B[1;32m   1127\u001B[0m \u001B[38;5;250m    \u001B[39m\u001B[38;5;124;03m\"\"\"\u001B[39;00m\n\u001B[1;32m   1128\u001B[0m \u001B[38;5;124;03m    Send a `POST` request.\u001B[39;00m\n\u001B[1;32m   1129\u001B[0m \n\u001B[1;32m   1130\u001B[0m \u001B[38;5;124;03m    **Parameters**: See `httpx.request`.\u001B[39;00m\n\u001B[1;32m   1131\u001B[0m \u001B[38;5;124;03m    \"\"\"\u001B[39;00m\n\u001B[0;32m-> 1132\u001B[0m     \u001B[38;5;28;01mreturn\u001B[39;00m \u001B[38;5;28;43mself\u001B[39;49m\u001B[38;5;241;43m.\u001B[39;49m\u001B[43mrequest\u001B[49m\u001B[43m(\u001B[49m\n\u001B[1;32m   1133\u001B[0m \u001B[43m        \u001B[49m\u001B[38;5;124;43m\"\u001B[39;49m\u001B[38;5;124;43mPOST\u001B[39;49m\u001B[38;5;124;43m\"\u001B[39;49m\u001B[43m,\u001B[49m\n\u001B[1;32m   1134\u001B[0m \u001B[43m        \u001B[49m\u001B[43murl\u001B[49m\u001B[43m,\u001B[49m\n\u001B[1;32m   1135\u001B[0m \u001B[43m        \u001B[49m\u001B[43mcontent\u001B[49m\u001B[38;5;241;43m=\u001B[39;49m\u001B[43mcontent\u001B[49m\u001B[43m,\u001B[49m\n\u001B[1;32m   1136\u001B[0m \u001B[43m        \u001B[49m\u001B[43mdata\u001B[49m\u001B[38;5;241;43m=\u001B[39;49m\u001B[43mdata\u001B[49m\u001B[43m,\u001B[49m\n\u001B[1;32m   1137\u001B[0m \u001B[43m        \u001B[49m\u001B[43mfiles\u001B[49m\u001B[38;5;241;43m=\u001B[39;49m\u001B[43mfiles\u001B[49m\u001B[43m,\u001B[49m\n\u001B[1;32m   1138\u001B[0m \u001B[43m        \u001B[49m\u001B[43mjson\u001B[49m\u001B[38;5;241;43m=\u001B[39;49m\u001B[43mjson\u001B[49m\u001B[43m,\u001B[49m\n\u001B[1;32m   1139\u001B[0m \u001B[43m        \u001B[49m\u001B[43mparams\u001B[49m\u001B[38;5;241;43m=\u001B[39;49m\u001B[43mparams\u001B[49m\u001B[43m,\u001B[49m\n\u001B[1;32m   1140\u001B[0m \u001B[43m        \u001B[49m\u001B[43mheaders\u001B[49m\u001B[38;5;241;43m=\u001B[39;49m\u001B[43mheaders\u001B[49m\u001B[43m,\u001B[49m\n\u001B[1;32m   1141\u001B[0m \u001B[43m        \u001B[49m\u001B[43mcookies\u001B[49m\u001B[38;5;241;43m=\u001B[39;49m\u001B[43mcookies\u001B[49m\u001B[43m,\u001B[49m\n\u001B[1;32m   1142\u001B[0m \u001B[43m        \u001B[49m\u001B[43mauth\u001B[49m\u001B[38;5;241;43m=\u001B[39;49m\u001B[43mauth\u001B[49m\u001B[43m,\u001B[49m\n\u001B[1;32m   1143\u001B[0m \u001B[43m        \u001B[49m\u001B[43mfollow_redirects\u001B[49m\u001B[38;5;241;43m=\u001B[39;49m\u001B[43mfollow_redirects\u001B[49m\u001B[43m,\u001B[49m\n\u001B[1;32m   1144\u001B[0m \u001B[43m        \u001B[49m\u001B[43mtimeout\u001B[49m\u001B[38;5;241;43m=\u001B[39;49m\u001B[43mtimeout\u001B[49m\u001B[43m,\u001B[49m\n\u001B[1;32m   1145\u001B[0m \u001B[43m        \u001B[49m\u001B[43mextensions\u001B[49m\u001B[38;5;241;43m=\u001B[39;49m\u001B[43mextensions\u001B[49m\u001B[43m,\u001B[49m\n\u001B[1;32m   1146\u001B[0m \u001B[43m    \u001B[49m\u001B[43m)\u001B[49m\n",
      "File \u001B[0;32m/usr/local/lib/python3.10/site-packages/httpx/_client.py:814\u001B[0m, in \u001B[0;36mClient.request\u001B[0;34m(self, method, url, content, data, files, json, params, headers, cookies, auth, follow_redirects, timeout, extensions)\u001B[0m\n\u001B[1;32m    799\u001B[0m     warnings\u001B[38;5;241m.\u001B[39mwarn(message, \u001B[38;5;167;01mDeprecationWarning\u001B[39;00m)\n\u001B[1;32m    801\u001B[0m request \u001B[38;5;241m=\u001B[39m \u001B[38;5;28mself\u001B[39m\u001B[38;5;241m.\u001B[39mbuild_request(\n\u001B[1;32m    802\u001B[0m     method\u001B[38;5;241m=\u001B[39mmethod,\n\u001B[1;32m    803\u001B[0m     url\u001B[38;5;241m=\u001B[39murl,\n\u001B[0;32m   (...)\u001B[0m\n\u001B[1;32m    812\u001B[0m     extensions\u001B[38;5;241m=\u001B[39mextensions,\n\u001B[1;32m    813\u001B[0m )\n\u001B[0;32m--> 814\u001B[0m \u001B[38;5;28;01mreturn\u001B[39;00m \u001B[38;5;28;43mself\u001B[39;49m\u001B[38;5;241;43m.\u001B[39;49m\u001B[43msend\u001B[49m\u001B[43m(\u001B[49m\u001B[43mrequest\u001B[49m\u001B[43m,\u001B[49m\u001B[43m \u001B[49m\u001B[43mauth\u001B[49m\u001B[38;5;241;43m=\u001B[39;49m\u001B[43mauth\u001B[49m\u001B[43m,\u001B[49m\u001B[43m \u001B[49m\u001B[43mfollow_redirects\u001B[49m\u001B[38;5;241;43m=\u001B[39;49m\u001B[43mfollow_redirects\u001B[49m\u001B[43m)\u001B[49m\n",
      "File \u001B[0;32m/usr/local/lib/python3.10/site-packages/httpx/_client.py:901\u001B[0m, in \u001B[0;36mClient.send\u001B[0;34m(self, request, stream, auth, follow_redirects)\u001B[0m\n\u001B[1;32m    893\u001B[0m follow_redirects \u001B[38;5;241m=\u001B[39m (\n\u001B[1;32m    894\u001B[0m     \u001B[38;5;28mself\u001B[39m\u001B[38;5;241m.\u001B[39mfollow_redirects\n\u001B[1;32m    895\u001B[0m     \u001B[38;5;28;01mif\u001B[39;00m \u001B[38;5;28misinstance\u001B[39m(follow_redirects, UseClientDefault)\n\u001B[1;32m    896\u001B[0m     \u001B[38;5;28;01melse\u001B[39;00m follow_redirects\n\u001B[1;32m    897\u001B[0m )\n\u001B[1;32m    899\u001B[0m auth \u001B[38;5;241m=\u001B[39m \u001B[38;5;28mself\u001B[39m\u001B[38;5;241m.\u001B[39m_build_request_auth(request, auth)\n\u001B[0;32m--> 901\u001B[0m response \u001B[38;5;241m=\u001B[39m \u001B[38;5;28;43mself\u001B[39;49m\u001B[38;5;241;43m.\u001B[39;49m\u001B[43m_send_handling_auth\u001B[49m\u001B[43m(\u001B[49m\n\u001B[1;32m    902\u001B[0m \u001B[43m    \u001B[49m\u001B[43mrequest\u001B[49m\u001B[43m,\u001B[49m\n\u001B[1;32m    903\u001B[0m \u001B[43m    \u001B[49m\u001B[43mauth\u001B[49m\u001B[38;5;241;43m=\u001B[39;49m\u001B[43mauth\u001B[49m\u001B[43m,\u001B[49m\n\u001B[1;32m    904\u001B[0m \u001B[43m    \u001B[49m\u001B[43mfollow_redirects\u001B[49m\u001B[38;5;241;43m=\u001B[39;49m\u001B[43mfollow_redirects\u001B[49m\u001B[43m,\u001B[49m\n\u001B[1;32m    905\u001B[0m \u001B[43m    \u001B[49m\u001B[43mhistory\u001B[49m\u001B[38;5;241;43m=\u001B[39;49m\u001B[43m[\u001B[49m\u001B[43m]\u001B[49m\u001B[43m,\u001B[49m\n\u001B[1;32m    906\u001B[0m \u001B[43m\u001B[49m\u001B[43m)\u001B[49m\n\u001B[1;32m    907\u001B[0m \u001B[38;5;28;01mtry\u001B[39;00m:\n\u001B[1;32m    908\u001B[0m     \u001B[38;5;28;01mif\u001B[39;00m \u001B[38;5;129;01mnot\u001B[39;00m stream:\n",
      "File \u001B[0;32m/usr/local/lib/python3.10/site-packages/httpx/_client.py:929\u001B[0m, in \u001B[0;36mClient._send_handling_auth\u001B[0;34m(self, request, auth, follow_redirects, history)\u001B[0m\n\u001B[1;32m    926\u001B[0m request \u001B[38;5;241m=\u001B[39m \u001B[38;5;28mnext\u001B[39m(auth_flow)\n\u001B[1;32m    928\u001B[0m \u001B[38;5;28;01mwhile\u001B[39;00m \u001B[38;5;28;01mTrue\u001B[39;00m:\n\u001B[0;32m--> 929\u001B[0m     response \u001B[38;5;241m=\u001B[39m \u001B[38;5;28;43mself\u001B[39;49m\u001B[38;5;241;43m.\u001B[39;49m\u001B[43m_send_handling_redirects\u001B[49m\u001B[43m(\u001B[49m\n\u001B[1;32m    930\u001B[0m \u001B[43m        \u001B[49m\u001B[43mrequest\u001B[49m\u001B[43m,\u001B[49m\n\u001B[1;32m    931\u001B[0m \u001B[43m        \u001B[49m\u001B[43mfollow_redirects\u001B[49m\u001B[38;5;241;43m=\u001B[39;49m\u001B[43mfollow_redirects\u001B[49m\u001B[43m,\u001B[49m\n\u001B[1;32m    932\u001B[0m \u001B[43m        \u001B[49m\u001B[43mhistory\u001B[49m\u001B[38;5;241;43m=\u001B[39;49m\u001B[43mhistory\u001B[49m\u001B[43m,\u001B[49m\n\u001B[1;32m    933\u001B[0m \u001B[43m    \u001B[49m\u001B[43m)\u001B[49m\n\u001B[1;32m    934\u001B[0m     \u001B[38;5;28;01mtry\u001B[39;00m:\n\u001B[1;32m    935\u001B[0m         \u001B[38;5;28;01mtry\u001B[39;00m:\n",
      "File \u001B[0;32m/usr/local/lib/python3.10/site-packages/httpx/_client.py:966\u001B[0m, in \u001B[0;36mClient._send_handling_redirects\u001B[0;34m(self, request, follow_redirects, history)\u001B[0m\n\u001B[1;32m    963\u001B[0m \u001B[38;5;28;01mfor\u001B[39;00m hook \u001B[38;5;129;01min\u001B[39;00m \u001B[38;5;28mself\u001B[39m\u001B[38;5;241m.\u001B[39m_event_hooks[\u001B[38;5;124m\"\u001B[39m\u001B[38;5;124mrequest\u001B[39m\u001B[38;5;124m\"\u001B[39m]:\n\u001B[1;32m    964\u001B[0m     hook(request)\n\u001B[0;32m--> 966\u001B[0m response \u001B[38;5;241m=\u001B[39m \u001B[38;5;28;43mself\u001B[39;49m\u001B[38;5;241;43m.\u001B[39;49m\u001B[43m_send_single_request\u001B[49m\u001B[43m(\u001B[49m\u001B[43mrequest\u001B[49m\u001B[43m)\u001B[49m\n\u001B[1;32m    967\u001B[0m \u001B[38;5;28;01mtry\u001B[39;00m:\n\u001B[1;32m    968\u001B[0m     \u001B[38;5;28;01mfor\u001B[39;00m hook \u001B[38;5;129;01min\u001B[39;00m \u001B[38;5;28mself\u001B[39m\u001B[38;5;241m.\u001B[39m_event_hooks[\u001B[38;5;124m\"\u001B[39m\u001B[38;5;124mresponse\u001B[39m\u001B[38;5;124m\"\u001B[39m]:\n",
      "File \u001B[0;32m/usr/local/lib/python3.10/site-packages/httpx/_client.py:1002\u001B[0m, in \u001B[0;36mClient._send_single_request\u001B[0;34m(self, request)\u001B[0m\n\u001B[1;32m    997\u001B[0m     \u001B[38;5;28;01mraise\u001B[39;00m \u001B[38;5;167;01mRuntimeError\u001B[39;00m(\n\u001B[1;32m    998\u001B[0m         \u001B[38;5;124m\"\u001B[39m\u001B[38;5;124mAttempted to send an async request with a sync Client instance.\u001B[39m\u001B[38;5;124m\"\u001B[39m\n\u001B[1;32m    999\u001B[0m     )\n\u001B[1;32m   1001\u001B[0m \u001B[38;5;28;01mwith\u001B[39;00m request_context(request\u001B[38;5;241m=\u001B[39mrequest):\n\u001B[0;32m-> 1002\u001B[0m     response \u001B[38;5;241m=\u001B[39m \u001B[43mtransport\u001B[49m\u001B[38;5;241;43m.\u001B[39;49m\u001B[43mhandle_request\u001B[49m\u001B[43m(\u001B[49m\u001B[43mrequest\u001B[49m\u001B[43m)\u001B[49m\n\u001B[1;32m   1004\u001B[0m \u001B[38;5;28;01massert\u001B[39;00m \u001B[38;5;28misinstance\u001B[39m(response\u001B[38;5;241m.\u001B[39mstream, SyncByteStream)\n\u001B[1;32m   1006\u001B[0m response\u001B[38;5;241m.\u001B[39mrequest \u001B[38;5;241m=\u001B[39m request\n",
      "File \u001B[0;32m/usr/local/lib/python3.10/site-packages/httpx/_transports/default.py:227\u001B[0m, in \u001B[0;36mHTTPTransport.handle_request\u001B[0;34m(self, request)\u001B[0m\n\u001B[1;32m    213\u001B[0m \u001B[38;5;28;01massert\u001B[39;00m \u001B[38;5;28misinstance\u001B[39m(request\u001B[38;5;241m.\u001B[39mstream, SyncByteStream)\n\u001B[1;32m    215\u001B[0m req \u001B[38;5;241m=\u001B[39m httpcore\u001B[38;5;241m.\u001B[39mRequest(\n\u001B[1;32m    216\u001B[0m     method\u001B[38;5;241m=\u001B[39mrequest\u001B[38;5;241m.\u001B[39mmethod,\n\u001B[1;32m    217\u001B[0m     url\u001B[38;5;241m=\u001B[39mhttpcore\u001B[38;5;241m.\u001B[39mURL(\n\u001B[0;32m   (...)\u001B[0m\n\u001B[1;32m    225\u001B[0m     extensions\u001B[38;5;241m=\u001B[39mrequest\u001B[38;5;241m.\u001B[39mextensions,\n\u001B[1;32m    226\u001B[0m )\n\u001B[0;32m--> 227\u001B[0m \u001B[38;5;28;01mwith\u001B[39;00m map_httpcore_exceptions():\n\u001B[1;32m    228\u001B[0m     resp \u001B[38;5;241m=\u001B[39m \u001B[38;5;28mself\u001B[39m\u001B[38;5;241m.\u001B[39m_pool\u001B[38;5;241m.\u001B[39mhandle_request(req)\n\u001B[1;32m    230\u001B[0m \u001B[38;5;28;01massert\u001B[39;00m \u001B[38;5;28misinstance\u001B[39m(resp\u001B[38;5;241m.\u001B[39mstream, typing\u001B[38;5;241m.\u001B[39mIterable)\n",
      "File \u001B[0;32m/usr/local/lib/python3.10/contextlib.py:153\u001B[0m, in \u001B[0;36m_GeneratorContextManager.__exit__\u001B[0;34m(self, typ, value, traceback)\u001B[0m\n\u001B[1;32m    151\u001B[0m     value \u001B[38;5;241m=\u001B[39m typ()\n\u001B[1;32m    152\u001B[0m \u001B[38;5;28;01mtry\u001B[39;00m:\n\u001B[0;32m--> 153\u001B[0m     \u001B[38;5;28;43mself\u001B[39;49m\u001B[38;5;241;43m.\u001B[39;49m\u001B[43mgen\u001B[49m\u001B[38;5;241;43m.\u001B[39;49m\u001B[43mthrow\u001B[49m\u001B[43m(\u001B[49m\u001B[43mtyp\u001B[49m\u001B[43m,\u001B[49m\u001B[43m \u001B[49m\u001B[43mvalue\u001B[49m\u001B[43m,\u001B[49m\u001B[43m \u001B[49m\u001B[43mtraceback\u001B[49m\u001B[43m)\u001B[49m\n\u001B[1;32m    154\u001B[0m \u001B[38;5;28;01mexcept\u001B[39;00m \u001B[38;5;167;01mStopIteration\u001B[39;00m \u001B[38;5;28;01mas\u001B[39;00m exc:\n\u001B[1;32m    155\u001B[0m     \u001B[38;5;66;03m# Suppress StopIteration *unless* it's the same exception that\u001B[39;00m\n\u001B[1;32m    156\u001B[0m     \u001B[38;5;66;03m# was passed to throw().  This prevents a StopIteration\u001B[39;00m\n\u001B[1;32m    157\u001B[0m     \u001B[38;5;66;03m# raised inside the \"with\" statement from being suppressed.\u001B[39;00m\n\u001B[1;32m    158\u001B[0m     \u001B[38;5;28;01mreturn\u001B[39;00m exc \u001B[38;5;129;01mis\u001B[39;00m \u001B[38;5;129;01mnot\u001B[39;00m value\n",
      "File \u001B[0;32m/usr/local/lib/python3.10/site-packages/httpx/_transports/default.py:83\u001B[0m, in \u001B[0;36mmap_httpcore_exceptions\u001B[0;34m()\u001B[0m\n\u001B[1;32m     80\u001B[0m     \u001B[38;5;28;01mraise\u001B[39;00m\n\u001B[1;32m     82\u001B[0m message \u001B[38;5;241m=\u001B[39m \u001B[38;5;28mstr\u001B[39m(exc)\n\u001B[0;32m---> 83\u001B[0m \u001B[38;5;28;01mraise\u001B[39;00m mapped_exc(message) \u001B[38;5;28;01mfrom\u001B[39;00m \u001B[38;5;21;01mexc\u001B[39;00m\n",
      "\u001B[0;31mReadTimeout\u001B[0m: timed out"
     ]
    }
   ],
   "source": [
    "resposne = llm( \"What is the formula for calculating the circumference of a circle\" )\n",
    "resposne"
   ],
   "metadata": {
    "collapsed": false,
    "ExecuteTime": {
     "end_time": "2023-11-09T01:59:41.967192Z",
     "start_time": "2023-11-09T01:59:11.685773Z"
    }
   },
   "id": "c56a7ed12c7bf3ed"
  },
  {
   "cell_type": "code",
   "execution_count": 60,
   "outputs": [
    {
     "ename": "ReadTimeout",
     "evalue": "timed out",
     "output_type": "error",
     "traceback": [
      "\u001B[0;31m---------------------------------------------------------------------------\u001B[0m",
      "\u001B[0;31mTimeoutError\u001B[0m                              Traceback (most recent call last)",
      "File \u001B[0;32m/usr/local/lib/python3.10/site-packages/httpcore/_exceptions.py:10\u001B[0m, in \u001B[0;36mmap_exceptions\u001B[0;34m(map)\u001B[0m\n\u001B[1;32m      9\u001B[0m \u001B[38;5;28;01mtry\u001B[39;00m:\n\u001B[0;32m---> 10\u001B[0m     \u001B[38;5;28;01myield\u001B[39;00m\n\u001B[1;32m     11\u001B[0m \u001B[38;5;28;01mexcept\u001B[39;00m \u001B[38;5;167;01mException\u001B[39;00m \u001B[38;5;28;01mas\u001B[39;00m exc:  \u001B[38;5;66;03m# noqa: PIE786\u001B[39;00m\n",
      "File \u001B[0;32m/usr/local/lib/python3.10/site-packages/httpcore/_backends/sync.py:126\u001B[0m, in \u001B[0;36mSyncStream.read\u001B[0;34m(self, max_bytes, timeout)\u001B[0m\n\u001B[1;32m    125\u001B[0m \u001B[38;5;28mself\u001B[39m\u001B[38;5;241m.\u001B[39m_sock\u001B[38;5;241m.\u001B[39msettimeout(timeout)\n\u001B[0;32m--> 126\u001B[0m \u001B[38;5;28;01mreturn\u001B[39;00m \u001B[38;5;28;43mself\u001B[39;49m\u001B[38;5;241;43m.\u001B[39;49m\u001B[43m_sock\u001B[49m\u001B[38;5;241;43m.\u001B[39;49m\u001B[43mrecv\u001B[49m\u001B[43m(\u001B[49m\u001B[43mmax_bytes\u001B[49m\u001B[43m)\u001B[49m\n",
      "\u001B[0;31mTimeoutError\u001B[0m: timed out",
      "\nThe above exception was the direct cause of the following exception:\n",
      "\u001B[0;31mReadTimeout\u001B[0m                               Traceback (most recent call last)",
      "File \u001B[0;32m/usr/local/lib/python3.10/site-packages/httpx/_transports/default.py:66\u001B[0m, in \u001B[0;36mmap_httpcore_exceptions\u001B[0;34m()\u001B[0m\n\u001B[1;32m     65\u001B[0m \u001B[38;5;28;01mtry\u001B[39;00m:\n\u001B[0;32m---> 66\u001B[0m     \u001B[38;5;28;01myield\u001B[39;00m\n\u001B[1;32m     67\u001B[0m \u001B[38;5;28;01mexcept\u001B[39;00m \u001B[38;5;167;01mException\u001B[39;00m \u001B[38;5;28;01mas\u001B[39;00m exc:  \u001B[38;5;66;03m# noqa: PIE-786\u001B[39;00m\n",
      "File \u001B[0;32m/usr/local/lib/python3.10/site-packages/httpx/_transports/default.py:228\u001B[0m, in \u001B[0;36mHTTPTransport.handle_request\u001B[0;34m(self, request)\u001B[0m\n\u001B[1;32m    227\u001B[0m \u001B[38;5;28;01mwith\u001B[39;00m map_httpcore_exceptions():\n\u001B[0;32m--> 228\u001B[0m     resp \u001B[38;5;241m=\u001B[39m \u001B[38;5;28;43mself\u001B[39;49m\u001B[38;5;241;43m.\u001B[39;49m\u001B[43m_pool\u001B[49m\u001B[38;5;241;43m.\u001B[39;49m\u001B[43mhandle_request\u001B[49m\u001B[43m(\u001B[49m\u001B[43mreq\u001B[49m\u001B[43m)\u001B[49m\n\u001B[1;32m    230\u001B[0m \u001B[38;5;28;01massert\u001B[39;00m \u001B[38;5;28misinstance\u001B[39m(resp\u001B[38;5;241m.\u001B[39mstream, typing\u001B[38;5;241m.\u001B[39mIterable)\n",
      "File \u001B[0;32m/usr/local/lib/python3.10/site-packages/httpcore/_sync/connection_pool.py:262\u001B[0m, in \u001B[0;36mConnectionPool.handle_request\u001B[0;34m(self, request)\u001B[0m\n\u001B[1;32m    261\u001B[0m         \u001B[38;5;28mself\u001B[39m\u001B[38;5;241m.\u001B[39mresponse_closed(status)\n\u001B[0;32m--> 262\u001B[0m     \u001B[38;5;28;01mraise\u001B[39;00m exc\n\u001B[1;32m    263\u001B[0m \u001B[38;5;28;01melse\u001B[39;00m:\n",
      "File \u001B[0;32m/usr/local/lib/python3.10/site-packages/httpcore/_sync/connection_pool.py:245\u001B[0m, in \u001B[0;36mConnectionPool.handle_request\u001B[0;34m(self, request)\u001B[0m\n\u001B[1;32m    244\u001B[0m \u001B[38;5;28;01mtry\u001B[39;00m:\n\u001B[0;32m--> 245\u001B[0m     response \u001B[38;5;241m=\u001B[39m \u001B[43mconnection\u001B[49m\u001B[38;5;241;43m.\u001B[39;49m\u001B[43mhandle_request\u001B[49m\u001B[43m(\u001B[49m\u001B[43mrequest\u001B[49m\u001B[43m)\u001B[49m\n\u001B[1;32m    246\u001B[0m \u001B[38;5;28;01mexcept\u001B[39;00m ConnectionNotAvailable:\n\u001B[1;32m    247\u001B[0m     \u001B[38;5;66;03m# The ConnectionNotAvailable exception is a special case, that\u001B[39;00m\n\u001B[1;32m    248\u001B[0m     \u001B[38;5;66;03m# indicates we need to retry the request on a new connection.\u001B[39;00m\n\u001B[0;32m   (...)\u001B[0m\n\u001B[1;32m    252\u001B[0m     \u001B[38;5;66;03m# might end up as an HTTP/2 connection, but which actually ends\u001B[39;00m\n\u001B[1;32m    253\u001B[0m     \u001B[38;5;66;03m# up as HTTP/1.1.\u001B[39;00m\n",
      "File \u001B[0;32m/usr/local/lib/python3.10/site-packages/httpcore/_sync/connection.py:103\u001B[0m, in \u001B[0;36mHTTPConnection.handle_request\u001B[0;34m(self, request)\u001B[0m\n\u001B[1;32m    101\u001B[0m         \u001B[38;5;28;01mraise\u001B[39;00m ConnectionNotAvailable()\n\u001B[0;32m--> 103\u001B[0m \u001B[38;5;28;01mreturn\u001B[39;00m \u001B[38;5;28;43mself\u001B[39;49m\u001B[38;5;241;43m.\u001B[39;49m\u001B[43m_connection\u001B[49m\u001B[38;5;241;43m.\u001B[39;49m\u001B[43mhandle_request\u001B[49m\u001B[43m(\u001B[49m\u001B[43mrequest\u001B[49m\u001B[43m)\u001B[49m\n",
      "File \u001B[0;32m/usr/local/lib/python3.10/site-packages/httpcore/_sync/http11.py:133\u001B[0m, in \u001B[0;36mHTTP11Connection.handle_request\u001B[0;34m(self, request)\u001B[0m\n\u001B[1;32m    132\u001B[0m         \u001B[38;5;28mself\u001B[39m\u001B[38;5;241m.\u001B[39m_response_closed()\n\u001B[0;32m--> 133\u001B[0m \u001B[38;5;28;01mraise\u001B[39;00m exc\n",
      "File \u001B[0;32m/usr/local/lib/python3.10/site-packages/httpcore/_sync/http11.py:111\u001B[0m, in \u001B[0;36mHTTP11Connection.handle_request\u001B[0;34m(self, request)\u001B[0m\n\u001B[1;32m    103\u001B[0m \u001B[38;5;28;01mwith\u001B[39;00m Trace(\n\u001B[1;32m    104\u001B[0m     \u001B[38;5;124m\"\u001B[39m\u001B[38;5;124mreceive_response_headers\u001B[39m\u001B[38;5;124m\"\u001B[39m, logger, request, kwargs\n\u001B[1;32m    105\u001B[0m ) \u001B[38;5;28;01mas\u001B[39;00m trace:\n\u001B[1;32m    106\u001B[0m     (\n\u001B[1;32m    107\u001B[0m         http_version,\n\u001B[1;32m    108\u001B[0m         status,\n\u001B[1;32m    109\u001B[0m         reason_phrase,\n\u001B[1;32m    110\u001B[0m         headers,\n\u001B[0;32m--> 111\u001B[0m     ) \u001B[38;5;241m=\u001B[39m \u001B[38;5;28;43mself\u001B[39;49m\u001B[38;5;241;43m.\u001B[39;49m\u001B[43m_receive_response_headers\u001B[49m\u001B[43m(\u001B[49m\u001B[38;5;241;43m*\u001B[39;49m\u001B[38;5;241;43m*\u001B[39;49m\u001B[43mkwargs\u001B[49m\u001B[43m)\u001B[49m\n\u001B[1;32m    112\u001B[0m     trace\u001B[38;5;241m.\u001B[39mreturn_value \u001B[38;5;241m=\u001B[39m (\n\u001B[1;32m    113\u001B[0m         http_version,\n\u001B[1;32m    114\u001B[0m         status,\n\u001B[1;32m    115\u001B[0m         reason_phrase,\n\u001B[1;32m    116\u001B[0m         headers,\n\u001B[1;32m    117\u001B[0m     )\n",
      "File \u001B[0;32m/usr/local/lib/python3.10/site-packages/httpcore/_sync/http11.py:176\u001B[0m, in \u001B[0;36mHTTP11Connection._receive_response_headers\u001B[0;34m(self, request)\u001B[0m\n\u001B[1;32m    175\u001B[0m \u001B[38;5;28;01mwhile\u001B[39;00m \u001B[38;5;28;01mTrue\u001B[39;00m:\n\u001B[0;32m--> 176\u001B[0m     event \u001B[38;5;241m=\u001B[39m \u001B[38;5;28;43mself\u001B[39;49m\u001B[38;5;241;43m.\u001B[39;49m\u001B[43m_receive_event\u001B[49m\u001B[43m(\u001B[49m\u001B[43mtimeout\u001B[49m\u001B[38;5;241;43m=\u001B[39;49m\u001B[43mtimeout\u001B[49m\u001B[43m)\u001B[49m\n\u001B[1;32m    177\u001B[0m     \u001B[38;5;28;01mif\u001B[39;00m \u001B[38;5;28misinstance\u001B[39m(event, h11\u001B[38;5;241m.\u001B[39mResponse):\n",
      "File \u001B[0;32m/usr/local/lib/python3.10/site-packages/httpcore/_sync/http11.py:212\u001B[0m, in \u001B[0;36mHTTP11Connection._receive_event\u001B[0;34m(self, timeout)\u001B[0m\n\u001B[1;32m    211\u001B[0m \u001B[38;5;28;01mif\u001B[39;00m event \u001B[38;5;129;01mis\u001B[39;00m h11\u001B[38;5;241m.\u001B[39mNEED_DATA:\n\u001B[0;32m--> 212\u001B[0m     data \u001B[38;5;241m=\u001B[39m \u001B[38;5;28;43mself\u001B[39;49m\u001B[38;5;241;43m.\u001B[39;49m\u001B[43m_network_stream\u001B[49m\u001B[38;5;241;43m.\u001B[39;49m\u001B[43mread\u001B[49m\u001B[43m(\u001B[49m\n\u001B[1;32m    213\u001B[0m \u001B[43m        \u001B[49m\u001B[38;5;28;43mself\u001B[39;49m\u001B[38;5;241;43m.\u001B[39;49m\u001B[43mREAD_NUM_BYTES\u001B[49m\u001B[43m,\u001B[49m\u001B[43m \u001B[49m\u001B[43mtimeout\u001B[49m\u001B[38;5;241;43m=\u001B[39;49m\u001B[43mtimeout\u001B[49m\n\u001B[1;32m    214\u001B[0m \u001B[43m    \u001B[49m\u001B[43m)\u001B[49m\n\u001B[1;32m    216\u001B[0m     \u001B[38;5;66;03m# If we feed this case through h11 we'll raise an exception like:\u001B[39;00m\n\u001B[1;32m    217\u001B[0m     \u001B[38;5;66;03m#\u001B[39;00m\n\u001B[1;32m    218\u001B[0m     \u001B[38;5;66;03m#     httpcore.RemoteProtocolError: can't handle event type\u001B[39;00m\n\u001B[0;32m   (...)\u001B[0m\n\u001B[1;32m    222\u001B[0m     \u001B[38;5;66;03m# perspective. Instead we handle this case distinctly and treat\u001B[39;00m\n\u001B[1;32m    223\u001B[0m     \u001B[38;5;66;03m# it as a ConnectError.\u001B[39;00m\n",
      "File \u001B[0;32m/usr/local/lib/python3.10/site-packages/httpcore/_backends/sync.py:124\u001B[0m, in \u001B[0;36mSyncStream.read\u001B[0;34m(self, max_bytes, timeout)\u001B[0m\n\u001B[1;32m    123\u001B[0m exc_map: ExceptionMapping \u001B[38;5;241m=\u001B[39m {socket\u001B[38;5;241m.\u001B[39mtimeout: ReadTimeout, \u001B[38;5;167;01mOSError\u001B[39;00m: ReadError}\n\u001B[0;32m--> 124\u001B[0m \u001B[38;5;28;01mwith\u001B[39;00m map_exceptions(exc_map):\n\u001B[1;32m    125\u001B[0m     \u001B[38;5;28mself\u001B[39m\u001B[38;5;241m.\u001B[39m_sock\u001B[38;5;241m.\u001B[39msettimeout(timeout)\n",
      "File \u001B[0;32m/usr/local/lib/python3.10/contextlib.py:153\u001B[0m, in \u001B[0;36m_GeneratorContextManager.__exit__\u001B[0;34m(self, typ, value, traceback)\u001B[0m\n\u001B[1;32m    152\u001B[0m \u001B[38;5;28;01mtry\u001B[39;00m:\n\u001B[0;32m--> 153\u001B[0m     \u001B[38;5;28;43mself\u001B[39;49m\u001B[38;5;241;43m.\u001B[39;49m\u001B[43mgen\u001B[49m\u001B[38;5;241;43m.\u001B[39;49m\u001B[43mthrow\u001B[49m\u001B[43m(\u001B[49m\u001B[43mtyp\u001B[49m\u001B[43m,\u001B[49m\u001B[43m \u001B[49m\u001B[43mvalue\u001B[49m\u001B[43m,\u001B[49m\u001B[43m \u001B[49m\u001B[43mtraceback\u001B[49m\u001B[43m)\u001B[49m\n\u001B[1;32m    154\u001B[0m \u001B[38;5;28;01mexcept\u001B[39;00m \u001B[38;5;167;01mStopIteration\u001B[39;00m \u001B[38;5;28;01mas\u001B[39;00m exc:\n\u001B[1;32m    155\u001B[0m     \u001B[38;5;66;03m# Suppress StopIteration *unless* it's the same exception that\u001B[39;00m\n\u001B[1;32m    156\u001B[0m     \u001B[38;5;66;03m# was passed to throw().  This prevents a StopIteration\u001B[39;00m\n\u001B[1;32m    157\u001B[0m     \u001B[38;5;66;03m# raised inside the \"with\" statement from being suppressed.\u001B[39;00m\n",
      "File \u001B[0;32m/usr/local/lib/python3.10/site-packages/httpcore/_exceptions.py:14\u001B[0m, in \u001B[0;36mmap_exceptions\u001B[0;34m(map)\u001B[0m\n\u001B[1;32m     13\u001B[0m     \u001B[38;5;28;01mif\u001B[39;00m \u001B[38;5;28misinstance\u001B[39m(exc, from_exc):\n\u001B[0;32m---> 14\u001B[0m         \u001B[38;5;28;01mraise\u001B[39;00m to_exc(exc) \u001B[38;5;28;01mfrom\u001B[39;00m \u001B[38;5;21;01mexc\u001B[39;00m\n\u001B[1;32m     15\u001B[0m \u001B[38;5;28;01mraise\u001B[39;00m\n",
      "\u001B[0;31mReadTimeout\u001B[0m: timed out",
      "\nThe above exception was the direct cause of the following exception:\n",
      "\u001B[0;31mReadTimeout\u001B[0m                               Traceback (most recent call last)",
      "Cell \u001B[0;32mIn[60], line 1\u001B[0m\n\u001B[0;32m----> 1\u001B[0m \u001B[43mllm\u001B[49m\u001B[43m(\u001B[49m\u001B[43m \u001B[49m\u001B[43mtemplate_string\u001B[49m\u001B[43m,\u001B[49m\u001B[43m \u001B[49m\u001B[43mtimeout\u001B[49m\u001B[38;5;241;43m=\u001B[39;49m\u001B[38;5;241;43m90000\u001B[39;49m\u001B[43m \u001B[49m\u001B[43m)\u001B[49m\n",
      "File \u001B[0;32m/usr/local/lib/python3.10/site-packages/langchain/llms/base.py:876\u001B[0m, in \u001B[0;36mBaseLLM.__call__\u001B[0;34m(self, prompt, stop, callbacks, tags, metadata, **kwargs)\u001B[0m\n\u001B[1;32m    869\u001B[0m \u001B[38;5;28;01mif\u001B[39;00m \u001B[38;5;129;01mnot\u001B[39;00m \u001B[38;5;28misinstance\u001B[39m(prompt, \u001B[38;5;28mstr\u001B[39m):\n\u001B[1;32m    870\u001B[0m     \u001B[38;5;28;01mraise\u001B[39;00m \u001B[38;5;167;01mValueError\u001B[39;00m(\n\u001B[1;32m    871\u001B[0m         \u001B[38;5;124m\"\u001B[39m\u001B[38;5;124mArgument `prompt` is expected to be a string. Instead found \u001B[39m\u001B[38;5;124m\"\u001B[39m\n\u001B[1;32m    872\u001B[0m         \u001B[38;5;124mf\u001B[39m\u001B[38;5;124m\"\u001B[39m\u001B[38;5;132;01m{\u001B[39;00m\u001B[38;5;28mtype\u001B[39m(prompt)\u001B[38;5;132;01m}\u001B[39;00m\u001B[38;5;124m. If you want to run the LLM on multiple prompts, use \u001B[39m\u001B[38;5;124m\"\u001B[39m\n\u001B[1;32m    873\u001B[0m         \u001B[38;5;124m\"\u001B[39m\u001B[38;5;124m`generate` instead.\u001B[39m\u001B[38;5;124m\"\u001B[39m\n\u001B[1;32m    874\u001B[0m     )\n\u001B[1;32m    875\u001B[0m \u001B[38;5;28;01mreturn\u001B[39;00m (\n\u001B[0;32m--> 876\u001B[0m     \u001B[38;5;28;43mself\u001B[39;49m\u001B[38;5;241;43m.\u001B[39;49m\u001B[43mgenerate\u001B[49m\u001B[43m(\u001B[49m\n\u001B[1;32m    877\u001B[0m \u001B[43m        \u001B[49m\u001B[43m[\u001B[49m\u001B[43mprompt\u001B[49m\u001B[43m]\u001B[49m\u001B[43m,\u001B[49m\n\u001B[1;32m    878\u001B[0m \u001B[43m        \u001B[49m\u001B[43mstop\u001B[49m\u001B[38;5;241;43m=\u001B[39;49m\u001B[43mstop\u001B[49m\u001B[43m,\u001B[49m\n\u001B[1;32m    879\u001B[0m \u001B[43m        \u001B[49m\u001B[43mcallbacks\u001B[49m\u001B[38;5;241;43m=\u001B[39;49m\u001B[43mcallbacks\u001B[49m\u001B[43m,\u001B[49m\n\u001B[1;32m    880\u001B[0m \u001B[43m        \u001B[49m\u001B[43mtags\u001B[49m\u001B[38;5;241;43m=\u001B[39;49m\u001B[43mtags\u001B[49m\u001B[43m,\u001B[49m\n\u001B[1;32m    881\u001B[0m \u001B[43m        \u001B[49m\u001B[43mmetadata\u001B[49m\u001B[38;5;241;43m=\u001B[39;49m\u001B[43mmetadata\u001B[49m\u001B[43m,\u001B[49m\n\u001B[1;32m    882\u001B[0m \u001B[43m        \u001B[49m\u001B[38;5;241;43m*\u001B[39;49m\u001B[38;5;241;43m*\u001B[39;49m\u001B[43mkwargs\u001B[49m\u001B[43m,\u001B[49m\n\u001B[1;32m    883\u001B[0m \u001B[43m    \u001B[49m\u001B[43m)\u001B[49m\n\u001B[1;32m    884\u001B[0m     \u001B[38;5;241m.\u001B[39mgenerations[\u001B[38;5;241m0\u001B[39m][\u001B[38;5;241m0\u001B[39m]\n\u001B[1;32m    885\u001B[0m     \u001B[38;5;241m.\u001B[39mtext\n\u001B[1;32m    886\u001B[0m )\n",
      "File \u001B[0;32m/usr/local/lib/python3.10/site-packages/langchain/llms/base.py:656\u001B[0m, in \u001B[0;36mBaseLLM.generate\u001B[0;34m(self, prompts, stop, callbacks, tags, metadata, run_name, **kwargs)\u001B[0m\n\u001B[1;32m    641\u001B[0m         \u001B[38;5;28;01mraise\u001B[39;00m \u001B[38;5;167;01mValueError\u001B[39;00m(\n\u001B[1;32m    642\u001B[0m             \u001B[38;5;124m\"\u001B[39m\u001B[38;5;124mAsked to cache, but no cache found at `langchain.cache`.\u001B[39m\u001B[38;5;124m\"\u001B[39m\n\u001B[1;32m    643\u001B[0m         )\n\u001B[1;32m    644\u001B[0m     run_managers \u001B[38;5;241m=\u001B[39m [\n\u001B[1;32m    645\u001B[0m         callback_manager\u001B[38;5;241m.\u001B[39mon_llm_start(\n\u001B[1;32m    646\u001B[0m             dumpd(\u001B[38;5;28mself\u001B[39m),\n\u001B[0;32m   (...)\u001B[0m\n\u001B[1;32m    654\u001B[0m         )\n\u001B[1;32m    655\u001B[0m     ]\n\u001B[0;32m--> 656\u001B[0m     output \u001B[38;5;241m=\u001B[39m \u001B[38;5;28;43mself\u001B[39;49m\u001B[38;5;241;43m.\u001B[39;49m\u001B[43m_generate_helper\u001B[49m\u001B[43m(\u001B[49m\n\u001B[1;32m    657\u001B[0m \u001B[43m        \u001B[49m\u001B[43mprompts\u001B[49m\u001B[43m,\u001B[49m\u001B[43m \u001B[49m\u001B[43mstop\u001B[49m\u001B[43m,\u001B[49m\u001B[43m \u001B[49m\u001B[43mrun_managers\u001B[49m\u001B[43m,\u001B[49m\u001B[43m \u001B[49m\u001B[38;5;28;43mbool\u001B[39;49m\u001B[43m(\u001B[49m\u001B[43mnew_arg_supported\u001B[49m\u001B[43m)\u001B[49m\u001B[43m,\u001B[49m\u001B[43m \u001B[49m\u001B[38;5;241;43m*\u001B[39;49m\u001B[38;5;241;43m*\u001B[39;49m\u001B[43mkwargs\u001B[49m\n\u001B[1;32m    658\u001B[0m \u001B[43m    \u001B[49m\u001B[43m)\u001B[49m\n\u001B[1;32m    659\u001B[0m     \u001B[38;5;28;01mreturn\u001B[39;00m output\n\u001B[1;32m    660\u001B[0m \u001B[38;5;28;01mif\u001B[39;00m \u001B[38;5;28mlen\u001B[39m(missing_prompts) \u001B[38;5;241m>\u001B[39m \u001B[38;5;241m0\u001B[39m:\n",
      "File \u001B[0;32m/usr/local/lib/python3.10/site-packages/langchain/llms/base.py:544\u001B[0m, in \u001B[0;36mBaseLLM._generate_helper\u001B[0;34m(self, prompts, stop, run_managers, new_arg_supported, **kwargs)\u001B[0m\n\u001B[1;32m    542\u001B[0m     \u001B[38;5;28;01mfor\u001B[39;00m run_manager \u001B[38;5;129;01min\u001B[39;00m run_managers:\n\u001B[1;32m    543\u001B[0m         run_manager\u001B[38;5;241m.\u001B[39mon_llm_error(e)\n\u001B[0;32m--> 544\u001B[0m     \u001B[38;5;28;01mraise\u001B[39;00m e\n\u001B[1;32m    545\u001B[0m flattened_outputs \u001B[38;5;241m=\u001B[39m output\u001B[38;5;241m.\u001B[39mflatten()\n\u001B[1;32m    546\u001B[0m \u001B[38;5;28;01mfor\u001B[39;00m manager, flattened_output \u001B[38;5;129;01min\u001B[39;00m \u001B[38;5;28mzip\u001B[39m(run_managers, flattened_outputs):\n",
      "File \u001B[0;32m/usr/local/lib/python3.10/site-packages/langchain/llms/base.py:531\u001B[0m, in \u001B[0;36mBaseLLM._generate_helper\u001B[0;34m(self, prompts, stop, run_managers, new_arg_supported, **kwargs)\u001B[0m\n\u001B[1;32m    521\u001B[0m \u001B[38;5;28;01mdef\u001B[39;00m \u001B[38;5;21m_generate_helper\u001B[39m(\n\u001B[1;32m    522\u001B[0m     \u001B[38;5;28mself\u001B[39m,\n\u001B[1;32m    523\u001B[0m     prompts: List[\u001B[38;5;28mstr\u001B[39m],\n\u001B[0;32m   (...)\u001B[0m\n\u001B[1;32m    527\u001B[0m     \u001B[38;5;241m*\u001B[39m\u001B[38;5;241m*\u001B[39mkwargs: Any,\n\u001B[1;32m    528\u001B[0m ) \u001B[38;5;241m-\u001B[39m\u001B[38;5;241m>\u001B[39m LLMResult:\n\u001B[1;32m    529\u001B[0m     \u001B[38;5;28;01mtry\u001B[39;00m:\n\u001B[1;32m    530\u001B[0m         output \u001B[38;5;241m=\u001B[39m (\n\u001B[0;32m--> 531\u001B[0m             \u001B[38;5;28;43mself\u001B[39;49m\u001B[38;5;241;43m.\u001B[39;49m\u001B[43m_generate\u001B[49m\u001B[43m(\u001B[49m\n\u001B[1;32m    532\u001B[0m \u001B[43m                \u001B[49m\u001B[43mprompts\u001B[49m\u001B[43m,\u001B[49m\n\u001B[1;32m    533\u001B[0m \u001B[43m                \u001B[49m\u001B[43mstop\u001B[49m\u001B[38;5;241;43m=\u001B[39;49m\u001B[43mstop\u001B[49m\u001B[43m,\u001B[49m\n\u001B[1;32m    534\u001B[0m \u001B[43m                \u001B[49m\u001B[38;5;66;43;03m# TODO: support multiple run managers\u001B[39;49;00m\n\u001B[1;32m    535\u001B[0m \u001B[43m                \u001B[49m\u001B[43mrun_manager\u001B[49m\u001B[38;5;241;43m=\u001B[39;49m\u001B[43mrun_managers\u001B[49m\u001B[43m[\u001B[49m\u001B[38;5;241;43m0\u001B[39;49m\u001B[43m]\u001B[49m\u001B[43m \u001B[49m\u001B[38;5;28;43;01mif\u001B[39;49;00m\u001B[43m \u001B[49m\u001B[43mrun_managers\u001B[49m\u001B[43m \u001B[49m\u001B[38;5;28;43;01melse\u001B[39;49;00m\u001B[43m \u001B[49m\u001B[38;5;28;43;01mNone\u001B[39;49;00m\u001B[43m,\u001B[49m\n\u001B[1;32m    536\u001B[0m \u001B[43m                \u001B[49m\u001B[38;5;241;43m*\u001B[39;49m\u001B[38;5;241;43m*\u001B[39;49m\u001B[43mkwargs\u001B[49m\u001B[43m,\u001B[49m\n\u001B[1;32m    537\u001B[0m \u001B[43m            \u001B[49m\u001B[43m)\u001B[49m\n\u001B[1;32m    538\u001B[0m             \u001B[38;5;28;01mif\u001B[39;00m new_arg_supported\n\u001B[1;32m    539\u001B[0m             \u001B[38;5;28;01melse\u001B[39;00m \u001B[38;5;28mself\u001B[39m\u001B[38;5;241m.\u001B[39m_generate(prompts, stop\u001B[38;5;241m=\u001B[39mstop)\n\u001B[1;32m    540\u001B[0m         )\n\u001B[1;32m    541\u001B[0m     \u001B[38;5;28;01mexcept\u001B[39;00m \u001B[38;5;167;01mBaseException\u001B[39;00m \u001B[38;5;28;01mas\u001B[39;00m e:\n\u001B[1;32m    542\u001B[0m         \u001B[38;5;28;01mfor\u001B[39;00m run_manager \u001B[38;5;129;01min\u001B[39;00m run_managers:\n",
      "File \u001B[0;32m/usr/local/lib/python3.10/site-packages/langchain/llms/base.py:1053\u001B[0m, in \u001B[0;36mLLM._generate\u001B[0;34m(self, prompts, stop, run_manager, **kwargs)\u001B[0m\n\u001B[1;32m   1050\u001B[0m new_arg_supported \u001B[38;5;241m=\u001B[39m inspect\u001B[38;5;241m.\u001B[39msignature(\u001B[38;5;28mself\u001B[39m\u001B[38;5;241m.\u001B[39m_call)\u001B[38;5;241m.\u001B[39mparameters\u001B[38;5;241m.\u001B[39mget(\u001B[38;5;124m\"\u001B[39m\u001B[38;5;124mrun_manager\u001B[39m\u001B[38;5;124m\"\u001B[39m)\n\u001B[1;32m   1051\u001B[0m \u001B[38;5;28;01mfor\u001B[39;00m prompt \u001B[38;5;129;01min\u001B[39;00m prompts:\n\u001B[1;32m   1052\u001B[0m     text \u001B[38;5;241m=\u001B[39m (\n\u001B[0;32m-> 1053\u001B[0m         \u001B[38;5;28;43mself\u001B[39;49m\u001B[38;5;241;43m.\u001B[39;49m\u001B[43m_call\u001B[49m\u001B[43m(\u001B[49m\u001B[43mprompt\u001B[49m\u001B[43m,\u001B[49m\u001B[43m \u001B[49m\u001B[43mstop\u001B[49m\u001B[38;5;241;43m=\u001B[39;49m\u001B[43mstop\u001B[49m\u001B[43m,\u001B[49m\u001B[43m \u001B[49m\u001B[43mrun_manager\u001B[49m\u001B[38;5;241;43m=\u001B[39;49m\u001B[43mrun_manager\u001B[49m\u001B[43m,\u001B[49m\u001B[43m \u001B[49m\u001B[38;5;241;43m*\u001B[39;49m\u001B[38;5;241;43m*\u001B[39;49m\u001B[43mkwargs\u001B[49m\u001B[43m)\u001B[49m\n\u001B[1;32m   1054\u001B[0m         \u001B[38;5;28;01mif\u001B[39;00m new_arg_supported\n\u001B[1;32m   1055\u001B[0m         \u001B[38;5;28;01melse\u001B[39;00m \u001B[38;5;28mself\u001B[39m\u001B[38;5;241m.\u001B[39m_call(prompt, stop\u001B[38;5;241m=\u001B[39mstop, \u001B[38;5;241m*\u001B[39m\u001B[38;5;241m*\u001B[39mkwargs)\n\u001B[1;32m   1056\u001B[0m     )\n\u001B[1;32m   1057\u001B[0m     generations\u001B[38;5;241m.\u001B[39mappend([Generation(text\u001B[38;5;241m=\u001B[39mtext)])\n\u001B[1;32m   1058\u001B[0m \u001B[38;5;28;01mreturn\u001B[39;00m LLMResult(generations\u001B[38;5;241m=\u001B[39mgenerations)\n",
      "File \u001B[0;32m/usr/local/lib/python3.10/site-packages/langchain/llms/openllm.py:268\u001B[0m, in \u001B[0;36mOpenLLM._call\u001B[0;34m(self, prompt, stop, run_manager, **kwargs)\u001B[0m\n\u001B[1;32m    264\u001B[0m config \u001B[38;5;241m=\u001B[39m openllm\u001B[38;5;241m.\u001B[39mAutoConfig\u001B[38;5;241m.\u001B[39mfor_model(\n\u001B[1;32m    265\u001B[0m     \u001B[38;5;28mself\u001B[39m\u001B[38;5;241m.\u001B[39m_identifying_params[\u001B[38;5;124m\"\u001B[39m\u001B[38;5;124mmodel_name\u001B[39m\u001B[38;5;124m\"\u001B[39m], \u001B[38;5;241m*\u001B[39m\u001B[38;5;241m*\u001B[39mcopied\n\u001B[1;32m    266\u001B[0m )\n\u001B[1;32m    267\u001B[0m \u001B[38;5;28;01mif\u001B[39;00m \u001B[38;5;28mself\u001B[39m\u001B[38;5;241m.\u001B[39m_client:\n\u001B[0;32m--> 268\u001B[0m     res \u001B[38;5;241m=\u001B[39m \u001B[38;5;28;43mself\u001B[39;49m\u001B[38;5;241;43m.\u001B[39;49m\u001B[43m_client\u001B[49m\u001B[38;5;241;43m.\u001B[39;49m\u001B[43mgenerate\u001B[49m\u001B[43m(\u001B[49m\n\u001B[1;32m    269\u001B[0m \u001B[43m        \u001B[49m\u001B[43mprompt\u001B[49m\u001B[43m,\u001B[49m\u001B[43m \u001B[49m\u001B[38;5;241;43m*\u001B[39;49m\u001B[38;5;241;43m*\u001B[39;49m\u001B[43mconfig\u001B[49m\u001B[38;5;241;43m.\u001B[39;49m\u001B[43mmodel_dump\u001B[49m\u001B[43m(\u001B[49m\u001B[43mflatten\u001B[49m\u001B[38;5;241;43m=\u001B[39;49m\u001B[38;5;28;43;01mTrue\u001B[39;49;00m\u001B[43m)\u001B[49m\n\u001B[1;32m    270\u001B[0m \u001B[43m    \u001B[49m\u001B[43m)\u001B[49m\u001B[38;5;66;03m#.responses[0]\u001B[39;00m\n\u001B[1;32m    271\u001B[0m     \u001B[38;5;28mprint\u001B[39m( \u001B[38;5;124m\"\u001B[39m\u001B[38;5;124m@\u001B[39m\u001B[38;5;124m\"\u001B[39m \u001B[38;5;241m*\u001B[39m \u001B[38;5;241m80\u001B[39m )\n\u001B[1;32m    272\u001B[0m     \u001B[38;5;28mprint\u001B[39m( \u001B[38;5;124m\"\u001B[39m\u001B[38;5;124mres:\u001B[39m\u001B[38;5;124m\"\u001B[39m, res, end\u001B[38;5;241m=\u001B[39m\u001B[38;5;124m\"\u001B[39m\u001B[38;5;130;01m\\n\u001B[39;00m\u001B[38;5;130;01m\\n\u001B[39;00m\u001B[38;5;124m\"\u001B[39m )\n",
      "File \u001B[0;32m/usr/local/lib/python3.10/site-packages/openllm_client/_http.py:127\u001B[0m, in \u001B[0;36mHTTPClient.generate\u001B[0;34m(self, prompt, llm_config, stop, adapter_name, timeout, verify, **attrs)\u001B[0m\n\u001B[1;32m    125\u001B[0m req \u001B[38;5;241m=\u001B[39m Request(prompt\u001B[38;5;241m=\u001B[39mprompt, llm_config\u001B[38;5;241m=\u001B[39mllm_config, stop\u001B[38;5;241m=\u001B[39mstop, adapter_name\u001B[38;5;241m=\u001B[39madapter_name)\n\u001B[1;32m    126\u001B[0m \u001B[38;5;28;01mwith\u001B[39;00m httpx\u001B[38;5;241m.\u001B[39mClient(base_url\u001B[38;5;241m=\u001B[39m\u001B[38;5;28mself\u001B[39m\u001B[38;5;241m.\u001B[39maddress, timeout\u001B[38;5;241m=\u001B[39mtimeout, verify\u001B[38;5;241m=\u001B[39mverify, \u001B[38;5;241m*\u001B[39m\u001B[38;5;241m*\u001B[39m\u001B[38;5;28mself\u001B[39m\u001B[38;5;241m.\u001B[39mclient_args) \u001B[38;5;28;01mas\u001B[39;00m client:\n\u001B[0;32m--> 127\u001B[0m   r \u001B[38;5;241m=\u001B[39m \u001B[43mclient\u001B[49m\u001B[38;5;241;43m.\u001B[39;49m\u001B[43mpost\u001B[49m\u001B[43m(\u001B[49m\u001B[38;5;28;43mself\u001B[39;49m\u001B[38;5;241;43m.\u001B[39;49m\u001B[43m_build_endpoint\u001B[49m\u001B[43m(\u001B[49m\u001B[38;5;124;43m'\u001B[39;49m\u001B[38;5;124;43mgenerate\u001B[39;49m\u001B[38;5;124;43m'\u001B[39;49m\u001B[43m)\u001B[49m\u001B[43m,\u001B[49m\u001B[43m \u001B[49m\u001B[43mjson\u001B[49m\u001B[38;5;241;43m=\u001B[39;49m\u001B[43mreq\u001B[49m\u001B[38;5;241;43m.\u001B[39;49m\u001B[43mmodel_dump_json\u001B[49m\u001B[43m(\u001B[49m\u001B[43m)\u001B[49m\u001B[43m,\u001B[49m\u001B[43m \u001B[49m\u001B[38;5;241;43m*\u001B[39;49m\u001B[38;5;241;43m*\u001B[39;49m\u001B[38;5;28;43mself\u001B[39;49m\u001B[38;5;241;43m.\u001B[39;49m\u001B[43mclient_args\u001B[49m\u001B[43m)\u001B[49m\n\u001B[1;32m    128\u001B[0m \u001B[38;5;28;01mif\u001B[39;00m r\u001B[38;5;241m.\u001B[39mstatus_code \u001B[38;5;241m!=\u001B[39m \u001B[38;5;241m200\u001B[39m: \u001B[38;5;28;01mraise\u001B[39;00m \u001B[38;5;167;01mValueError\u001B[39;00m(\u001B[38;5;124m\"\u001B[39m\u001B[38;5;124mFailed to get generation from \u001B[39m\u001B[38;5;124m'\u001B[39m\u001B[38;5;124m/v1/generate\u001B[39m\u001B[38;5;124m'\u001B[39m\u001B[38;5;124m. Check server logs for more details.\u001B[39m\u001B[38;5;124m\"\u001B[39m)\n\u001B[1;32m    129\u001B[0m \u001B[38;5;28;01mreturn\u001B[39;00m Response\u001B[38;5;241m.\u001B[39mmodel_construct(r\u001B[38;5;241m.\u001B[39mjson())\n",
      "File \u001B[0;32m/usr/local/lib/python3.10/site-packages/httpx/_client.py:1132\u001B[0m, in \u001B[0;36mClient.post\u001B[0;34m(self, url, content, data, files, json, params, headers, cookies, auth, follow_redirects, timeout, extensions)\u001B[0m\n\u001B[1;32m   1111\u001B[0m \u001B[38;5;28;01mdef\u001B[39;00m \u001B[38;5;21mpost\u001B[39m(\n\u001B[1;32m   1112\u001B[0m     \u001B[38;5;28mself\u001B[39m,\n\u001B[1;32m   1113\u001B[0m     url: URLTypes,\n\u001B[0;32m   (...)\u001B[0m\n\u001B[1;32m   1125\u001B[0m     extensions: typing\u001B[38;5;241m.\u001B[39mOptional[RequestExtensions] \u001B[38;5;241m=\u001B[39m \u001B[38;5;28;01mNone\u001B[39;00m,\n\u001B[1;32m   1126\u001B[0m ) \u001B[38;5;241m-\u001B[39m\u001B[38;5;241m>\u001B[39m Response:\n\u001B[1;32m   1127\u001B[0m \u001B[38;5;250m    \u001B[39m\u001B[38;5;124;03m\"\"\"\u001B[39;00m\n\u001B[1;32m   1128\u001B[0m \u001B[38;5;124;03m    Send a `POST` request.\u001B[39;00m\n\u001B[1;32m   1129\u001B[0m \n\u001B[1;32m   1130\u001B[0m \u001B[38;5;124;03m    **Parameters**: See `httpx.request`.\u001B[39;00m\n\u001B[1;32m   1131\u001B[0m \u001B[38;5;124;03m    \"\"\"\u001B[39;00m\n\u001B[0;32m-> 1132\u001B[0m     \u001B[38;5;28;01mreturn\u001B[39;00m \u001B[38;5;28;43mself\u001B[39;49m\u001B[38;5;241;43m.\u001B[39;49m\u001B[43mrequest\u001B[49m\u001B[43m(\u001B[49m\n\u001B[1;32m   1133\u001B[0m \u001B[43m        \u001B[49m\u001B[38;5;124;43m\"\u001B[39;49m\u001B[38;5;124;43mPOST\u001B[39;49m\u001B[38;5;124;43m\"\u001B[39;49m\u001B[43m,\u001B[49m\n\u001B[1;32m   1134\u001B[0m \u001B[43m        \u001B[49m\u001B[43murl\u001B[49m\u001B[43m,\u001B[49m\n\u001B[1;32m   1135\u001B[0m \u001B[43m        \u001B[49m\u001B[43mcontent\u001B[49m\u001B[38;5;241;43m=\u001B[39;49m\u001B[43mcontent\u001B[49m\u001B[43m,\u001B[49m\n\u001B[1;32m   1136\u001B[0m \u001B[43m        \u001B[49m\u001B[43mdata\u001B[49m\u001B[38;5;241;43m=\u001B[39;49m\u001B[43mdata\u001B[49m\u001B[43m,\u001B[49m\n\u001B[1;32m   1137\u001B[0m \u001B[43m        \u001B[49m\u001B[43mfiles\u001B[49m\u001B[38;5;241;43m=\u001B[39;49m\u001B[43mfiles\u001B[49m\u001B[43m,\u001B[49m\n\u001B[1;32m   1138\u001B[0m \u001B[43m        \u001B[49m\u001B[43mjson\u001B[49m\u001B[38;5;241;43m=\u001B[39;49m\u001B[43mjson\u001B[49m\u001B[43m,\u001B[49m\n\u001B[1;32m   1139\u001B[0m \u001B[43m        \u001B[49m\u001B[43mparams\u001B[49m\u001B[38;5;241;43m=\u001B[39;49m\u001B[43mparams\u001B[49m\u001B[43m,\u001B[49m\n\u001B[1;32m   1140\u001B[0m \u001B[43m        \u001B[49m\u001B[43mheaders\u001B[49m\u001B[38;5;241;43m=\u001B[39;49m\u001B[43mheaders\u001B[49m\u001B[43m,\u001B[49m\n\u001B[1;32m   1141\u001B[0m \u001B[43m        \u001B[49m\u001B[43mcookies\u001B[49m\u001B[38;5;241;43m=\u001B[39;49m\u001B[43mcookies\u001B[49m\u001B[43m,\u001B[49m\n\u001B[1;32m   1142\u001B[0m \u001B[43m        \u001B[49m\u001B[43mauth\u001B[49m\u001B[38;5;241;43m=\u001B[39;49m\u001B[43mauth\u001B[49m\u001B[43m,\u001B[49m\n\u001B[1;32m   1143\u001B[0m \u001B[43m        \u001B[49m\u001B[43mfollow_redirects\u001B[49m\u001B[38;5;241;43m=\u001B[39;49m\u001B[43mfollow_redirects\u001B[49m\u001B[43m,\u001B[49m\n\u001B[1;32m   1144\u001B[0m \u001B[43m        \u001B[49m\u001B[43mtimeout\u001B[49m\u001B[38;5;241;43m=\u001B[39;49m\u001B[43mtimeout\u001B[49m\u001B[43m,\u001B[49m\n\u001B[1;32m   1145\u001B[0m \u001B[43m        \u001B[49m\u001B[43mextensions\u001B[49m\u001B[38;5;241;43m=\u001B[39;49m\u001B[43mextensions\u001B[49m\u001B[43m,\u001B[49m\n\u001B[1;32m   1146\u001B[0m \u001B[43m    \u001B[49m\u001B[43m)\u001B[49m\n",
      "File \u001B[0;32m/usr/local/lib/python3.10/site-packages/httpx/_client.py:814\u001B[0m, in \u001B[0;36mClient.request\u001B[0;34m(self, method, url, content, data, files, json, params, headers, cookies, auth, follow_redirects, timeout, extensions)\u001B[0m\n\u001B[1;32m    799\u001B[0m     warnings\u001B[38;5;241m.\u001B[39mwarn(message, \u001B[38;5;167;01mDeprecationWarning\u001B[39;00m)\n\u001B[1;32m    801\u001B[0m request \u001B[38;5;241m=\u001B[39m \u001B[38;5;28mself\u001B[39m\u001B[38;5;241m.\u001B[39mbuild_request(\n\u001B[1;32m    802\u001B[0m     method\u001B[38;5;241m=\u001B[39mmethod,\n\u001B[1;32m    803\u001B[0m     url\u001B[38;5;241m=\u001B[39murl,\n\u001B[0;32m   (...)\u001B[0m\n\u001B[1;32m    812\u001B[0m     extensions\u001B[38;5;241m=\u001B[39mextensions,\n\u001B[1;32m    813\u001B[0m )\n\u001B[0;32m--> 814\u001B[0m \u001B[38;5;28;01mreturn\u001B[39;00m \u001B[38;5;28;43mself\u001B[39;49m\u001B[38;5;241;43m.\u001B[39;49m\u001B[43msend\u001B[49m\u001B[43m(\u001B[49m\u001B[43mrequest\u001B[49m\u001B[43m,\u001B[49m\u001B[43m \u001B[49m\u001B[43mauth\u001B[49m\u001B[38;5;241;43m=\u001B[39;49m\u001B[43mauth\u001B[49m\u001B[43m,\u001B[49m\u001B[43m \u001B[49m\u001B[43mfollow_redirects\u001B[49m\u001B[38;5;241;43m=\u001B[39;49m\u001B[43mfollow_redirects\u001B[49m\u001B[43m)\u001B[49m\n",
      "File \u001B[0;32m/usr/local/lib/python3.10/site-packages/httpx/_client.py:901\u001B[0m, in \u001B[0;36mClient.send\u001B[0;34m(self, request, stream, auth, follow_redirects)\u001B[0m\n\u001B[1;32m    893\u001B[0m follow_redirects \u001B[38;5;241m=\u001B[39m (\n\u001B[1;32m    894\u001B[0m     \u001B[38;5;28mself\u001B[39m\u001B[38;5;241m.\u001B[39mfollow_redirects\n\u001B[1;32m    895\u001B[0m     \u001B[38;5;28;01mif\u001B[39;00m \u001B[38;5;28misinstance\u001B[39m(follow_redirects, UseClientDefault)\n\u001B[1;32m    896\u001B[0m     \u001B[38;5;28;01melse\u001B[39;00m follow_redirects\n\u001B[1;32m    897\u001B[0m )\n\u001B[1;32m    899\u001B[0m auth \u001B[38;5;241m=\u001B[39m \u001B[38;5;28mself\u001B[39m\u001B[38;5;241m.\u001B[39m_build_request_auth(request, auth)\n\u001B[0;32m--> 901\u001B[0m response \u001B[38;5;241m=\u001B[39m \u001B[38;5;28;43mself\u001B[39;49m\u001B[38;5;241;43m.\u001B[39;49m\u001B[43m_send_handling_auth\u001B[49m\u001B[43m(\u001B[49m\n\u001B[1;32m    902\u001B[0m \u001B[43m    \u001B[49m\u001B[43mrequest\u001B[49m\u001B[43m,\u001B[49m\n\u001B[1;32m    903\u001B[0m \u001B[43m    \u001B[49m\u001B[43mauth\u001B[49m\u001B[38;5;241;43m=\u001B[39;49m\u001B[43mauth\u001B[49m\u001B[43m,\u001B[49m\n\u001B[1;32m    904\u001B[0m \u001B[43m    \u001B[49m\u001B[43mfollow_redirects\u001B[49m\u001B[38;5;241;43m=\u001B[39;49m\u001B[43mfollow_redirects\u001B[49m\u001B[43m,\u001B[49m\n\u001B[1;32m    905\u001B[0m \u001B[43m    \u001B[49m\u001B[43mhistory\u001B[49m\u001B[38;5;241;43m=\u001B[39;49m\u001B[43m[\u001B[49m\u001B[43m]\u001B[49m\u001B[43m,\u001B[49m\n\u001B[1;32m    906\u001B[0m \u001B[43m\u001B[49m\u001B[43m)\u001B[49m\n\u001B[1;32m    907\u001B[0m \u001B[38;5;28;01mtry\u001B[39;00m:\n\u001B[1;32m    908\u001B[0m     \u001B[38;5;28;01mif\u001B[39;00m \u001B[38;5;129;01mnot\u001B[39;00m stream:\n",
      "File \u001B[0;32m/usr/local/lib/python3.10/site-packages/httpx/_client.py:929\u001B[0m, in \u001B[0;36mClient._send_handling_auth\u001B[0;34m(self, request, auth, follow_redirects, history)\u001B[0m\n\u001B[1;32m    926\u001B[0m request \u001B[38;5;241m=\u001B[39m \u001B[38;5;28mnext\u001B[39m(auth_flow)\n\u001B[1;32m    928\u001B[0m \u001B[38;5;28;01mwhile\u001B[39;00m \u001B[38;5;28;01mTrue\u001B[39;00m:\n\u001B[0;32m--> 929\u001B[0m     response \u001B[38;5;241m=\u001B[39m \u001B[38;5;28;43mself\u001B[39;49m\u001B[38;5;241;43m.\u001B[39;49m\u001B[43m_send_handling_redirects\u001B[49m\u001B[43m(\u001B[49m\n\u001B[1;32m    930\u001B[0m \u001B[43m        \u001B[49m\u001B[43mrequest\u001B[49m\u001B[43m,\u001B[49m\n\u001B[1;32m    931\u001B[0m \u001B[43m        \u001B[49m\u001B[43mfollow_redirects\u001B[49m\u001B[38;5;241;43m=\u001B[39;49m\u001B[43mfollow_redirects\u001B[49m\u001B[43m,\u001B[49m\n\u001B[1;32m    932\u001B[0m \u001B[43m        \u001B[49m\u001B[43mhistory\u001B[49m\u001B[38;5;241;43m=\u001B[39;49m\u001B[43mhistory\u001B[49m\u001B[43m,\u001B[49m\n\u001B[1;32m    933\u001B[0m \u001B[43m    \u001B[49m\u001B[43m)\u001B[49m\n\u001B[1;32m    934\u001B[0m     \u001B[38;5;28;01mtry\u001B[39;00m:\n\u001B[1;32m    935\u001B[0m         \u001B[38;5;28;01mtry\u001B[39;00m:\n",
      "File \u001B[0;32m/usr/local/lib/python3.10/site-packages/httpx/_client.py:966\u001B[0m, in \u001B[0;36mClient._send_handling_redirects\u001B[0;34m(self, request, follow_redirects, history)\u001B[0m\n\u001B[1;32m    963\u001B[0m \u001B[38;5;28;01mfor\u001B[39;00m hook \u001B[38;5;129;01min\u001B[39;00m \u001B[38;5;28mself\u001B[39m\u001B[38;5;241m.\u001B[39m_event_hooks[\u001B[38;5;124m\"\u001B[39m\u001B[38;5;124mrequest\u001B[39m\u001B[38;5;124m\"\u001B[39m]:\n\u001B[1;32m    964\u001B[0m     hook(request)\n\u001B[0;32m--> 966\u001B[0m response \u001B[38;5;241m=\u001B[39m \u001B[38;5;28;43mself\u001B[39;49m\u001B[38;5;241;43m.\u001B[39;49m\u001B[43m_send_single_request\u001B[49m\u001B[43m(\u001B[49m\u001B[43mrequest\u001B[49m\u001B[43m)\u001B[49m\n\u001B[1;32m    967\u001B[0m \u001B[38;5;28;01mtry\u001B[39;00m:\n\u001B[1;32m    968\u001B[0m     \u001B[38;5;28;01mfor\u001B[39;00m hook \u001B[38;5;129;01min\u001B[39;00m \u001B[38;5;28mself\u001B[39m\u001B[38;5;241m.\u001B[39m_event_hooks[\u001B[38;5;124m\"\u001B[39m\u001B[38;5;124mresponse\u001B[39m\u001B[38;5;124m\"\u001B[39m]:\n",
      "File \u001B[0;32m/usr/local/lib/python3.10/site-packages/httpx/_client.py:1002\u001B[0m, in \u001B[0;36mClient._send_single_request\u001B[0;34m(self, request)\u001B[0m\n\u001B[1;32m    997\u001B[0m     \u001B[38;5;28;01mraise\u001B[39;00m \u001B[38;5;167;01mRuntimeError\u001B[39;00m(\n\u001B[1;32m    998\u001B[0m         \u001B[38;5;124m\"\u001B[39m\u001B[38;5;124mAttempted to send an async request with a sync Client instance.\u001B[39m\u001B[38;5;124m\"\u001B[39m\n\u001B[1;32m    999\u001B[0m     )\n\u001B[1;32m   1001\u001B[0m \u001B[38;5;28;01mwith\u001B[39;00m request_context(request\u001B[38;5;241m=\u001B[39mrequest):\n\u001B[0;32m-> 1002\u001B[0m     response \u001B[38;5;241m=\u001B[39m \u001B[43mtransport\u001B[49m\u001B[38;5;241;43m.\u001B[39;49m\u001B[43mhandle_request\u001B[49m\u001B[43m(\u001B[49m\u001B[43mrequest\u001B[49m\u001B[43m)\u001B[49m\n\u001B[1;32m   1004\u001B[0m \u001B[38;5;28;01massert\u001B[39;00m \u001B[38;5;28misinstance\u001B[39m(response\u001B[38;5;241m.\u001B[39mstream, SyncByteStream)\n\u001B[1;32m   1006\u001B[0m response\u001B[38;5;241m.\u001B[39mrequest \u001B[38;5;241m=\u001B[39m request\n",
      "File \u001B[0;32m/usr/local/lib/python3.10/site-packages/httpx/_transports/default.py:227\u001B[0m, in \u001B[0;36mHTTPTransport.handle_request\u001B[0;34m(self, request)\u001B[0m\n\u001B[1;32m    213\u001B[0m \u001B[38;5;28;01massert\u001B[39;00m \u001B[38;5;28misinstance\u001B[39m(request\u001B[38;5;241m.\u001B[39mstream, SyncByteStream)\n\u001B[1;32m    215\u001B[0m req \u001B[38;5;241m=\u001B[39m httpcore\u001B[38;5;241m.\u001B[39mRequest(\n\u001B[1;32m    216\u001B[0m     method\u001B[38;5;241m=\u001B[39mrequest\u001B[38;5;241m.\u001B[39mmethod,\n\u001B[1;32m    217\u001B[0m     url\u001B[38;5;241m=\u001B[39mhttpcore\u001B[38;5;241m.\u001B[39mURL(\n\u001B[0;32m   (...)\u001B[0m\n\u001B[1;32m    225\u001B[0m     extensions\u001B[38;5;241m=\u001B[39mrequest\u001B[38;5;241m.\u001B[39mextensions,\n\u001B[1;32m    226\u001B[0m )\n\u001B[0;32m--> 227\u001B[0m \u001B[38;5;28;01mwith\u001B[39;00m map_httpcore_exceptions():\n\u001B[1;32m    228\u001B[0m     resp \u001B[38;5;241m=\u001B[39m \u001B[38;5;28mself\u001B[39m\u001B[38;5;241m.\u001B[39m_pool\u001B[38;5;241m.\u001B[39mhandle_request(req)\n\u001B[1;32m    230\u001B[0m \u001B[38;5;28;01massert\u001B[39;00m \u001B[38;5;28misinstance\u001B[39m(resp\u001B[38;5;241m.\u001B[39mstream, typing\u001B[38;5;241m.\u001B[39mIterable)\n",
      "File \u001B[0;32m/usr/local/lib/python3.10/contextlib.py:153\u001B[0m, in \u001B[0;36m_GeneratorContextManager.__exit__\u001B[0;34m(self, typ, value, traceback)\u001B[0m\n\u001B[1;32m    151\u001B[0m     value \u001B[38;5;241m=\u001B[39m typ()\n\u001B[1;32m    152\u001B[0m \u001B[38;5;28;01mtry\u001B[39;00m:\n\u001B[0;32m--> 153\u001B[0m     \u001B[38;5;28;43mself\u001B[39;49m\u001B[38;5;241;43m.\u001B[39;49m\u001B[43mgen\u001B[49m\u001B[38;5;241;43m.\u001B[39;49m\u001B[43mthrow\u001B[49m\u001B[43m(\u001B[49m\u001B[43mtyp\u001B[49m\u001B[43m,\u001B[49m\u001B[43m \u001B[49m\u001B[43mvalue\u001B[49m\u001B[43m,\u001B[49m\u001B[43m \u001B[49m\u001B[43mtraceback\u001B[49m\u001B[43m)\u001B[49m\n\u001B[1;32m    154\u001B[0m \u001B[38;5;28;01mexcept\u001B[39;00m \u001B[38;5;167;01mStopIteration\u001B[39;00m \u001B[38;5;28;01mas\u001B[39;00m exc:\n\u001B[1;32m    155\u001B[0m     \u001B[38;5;66;03m# Suppress StopIteration *unless* it's the same exception that\u001B[39;00m\n\u001B[1;32m    156\u001B[0m     \u001B[38;5;66;03m# was passed to throw().  This prevents a StopIteration\u001B[39;00m\n\u001B[1;32m    157\u001B[0m     \u001B[38;5;66;03m# raised inside the \"with\" statement from being suppressed.\u001B[39;00m\n\u001B[1;32m    158\u001B[0m     \u001B[38;5;28;01mreturn\u001B[39;00m exc \u001B[38;5;129;01mis\u001B[39;00m \u001B[38;5;129;01mnot\u001B[39;00m value\n",
      "File \u001B[0;32m/usr/local/lib/python3.10/site-packages/httpx/_transports/default.py:83\u001B[0m, in \u001B[0;36mmap_httpcore_exceptions\u001B[0;34m()\u001B[0m\n\u001B[1;32m     80\u001B[0m     \u001B[38;5;28;01mraise\u001B[39;00m\n\u001B[1;32m     82\u001B[0m message \u001B[38;5;241m=\u001B[39m \u001B[38;5;28mstr\u001B[39m(exc)\n\u001B[0;32m---> 83\u001B[0m \u001B[38;5;28;01mraise\u001B[39;00m mapped_exc(message) \u001B[38;5;28;01mfrom\u001B[39;00m \u001B[38;5;21;01mexc\u001B[39;00m\n",
      "\u001B[0;31mReadTimeout\u001B[0m: timed out"
     ]
    }
   ],
   "source": [
    "llm( template_string, timeout=90000 )"
   ],
   "metadata": {
    "collapsed": false,
    "ExecuteTime": {
     "end_time": "2023-11-08T21:10:17.213729Z",
     "start_time": "2023-11-08T21:09:46.981639Z"
    }
   },
   "id": "bedb4ae86f55bd45"
  },
  {
   "cell_type": "code",
   "execution_count": 15,
   "outputs": [
    {
     "name": "stdout",
     "output_type": "stream",
     "text": [
      "Calling OpenLLM 1 times...\n",
      "0: Calling OpenLLM...\n",
      "'Response' object has no attribute 'responses'\n",
      "0: Calling OpenLLM... Done! in 10 seconds\n",
      "\n",
      "Successes: 0 vs. Failures: 1\n",
      "Calling OpenLLM 1 times... Done! in 10 seconds\n"
     ]
    }
   ],
   "source": [
    "max_i = 1\n",
    "success = 0\n",
    "failure = 0\n",
    "all_i_timer = sw.Stopwatch( msg=f\"Calling OpenLLM {max_i} times...\" )\n",
    "\n",
    "for i in range( max_i ):\n",
    "    \n",
    "    timer = sw.Stopwatch( msg=f\"{i}: Calling OpenLLM...\" )\n",
    "    try:\n",
    "        response = llm( template_string )\n",
    "        success += 1\n",
    "    except Exception as e:\n",
    "        failure += 1\n",
    "        print( e )\n",
    "    \n",
    "    timer.print( \"Done!\")\n",
    "    \n",
    "print( f\"Successes: {success} vs. Failures: {failure}\" )\n",
    "all_i_timer.print( \"Done!\" )\n",
    "\n",
    "# for line in response.split( \"\\n\" ):\n",
    "#     print( line )"
   ],
   "metadata": {
    "collapsed": false,
    "ExecuteTime": {
     "end_time": "2023-11-08T18:19:09.234768Z",
     "start_time": "2023-11-08T18:18:59.096491Z"
    }
   },
   "id": "af83ccfb8efe66b3"
  },
  {
   "cell_type": "code",
   "execution_count": 54,
   "outputs": [
    {
     "data": {
      "text/plain": "'\\n[/INST]\\n\\n[/INST]\\n\\n'"
     },
     "execution_count": 54,
     "metadata": {},
     "output_type": "execute_result"
    }
   ],
   "source": [
    "response.split( \"{\" )[ 0 ]"
   ],
   "metadata": {
    "collapsed": false,
    "ExecuteTime": {
     "end_time": "2023-11-08T02:12:39.382047Z",
     "start_time": "2023-11-08T02:12:39.378813Z"
    }
   },
   "id": "3cc5c547b31998"
  },
  {
   "cell_type": "code",
   "execution_count": 55,
   "outputs": [
    {
     "data": {
      "text/plain": "'{\\n    \"question\": \"Write a function in python that calculates the haversine distance between two points.\",\\n    \"thoughts\": \"To calculate the haversine distance between two points, I need to convert the latitude and longitude to radians, calculate the differences between the latitudes and longitudes, calculate the haversine of these differences, and finally calculate the distance using the Earth\\'s radius.\",\\n    \"code\": [\\n        \"import math\",\\n        \"def haversine(lat1, lon1, lat2, lon2):\",\\n        \"    R = 6371\",\\n        \"    lat1, lon1, lat2, lon2 = map(math.radians, [lat1, lon1, lat2, lon2])\",\\n        \"    dlat = lat2 - lat1\",\\n        \"    dlon = lon2 - lon1\",\\n        \"    haversine = math.sin(dlat/2)**2 + math.cos(lat1) * math.cos(lat2) * math.sin(dlon/2)**2\",\\n        \"    solution = 2 * R * math.asin(math.sqrt(haversine))\",\\n        \"    return solution\"\\n    ],\\n    \"returns\": \"float\",\\n    \"explanation\": \"This code defines a function that calculates the haversine distance between two points on Earth. The function takes the latitude and longitude of the two points as arguments. It first converts these values to radians, then calculates the differences in latitude and longitude. It then calculates the haversine of these differences, and finally calculates the distance using the Earth\\'s radius (6371 km). The result is a float representing the distance in kilometers.\",\\n    \"error\": \"\"\\n}'"
     },
     "execution_count": 55,
     "metadata": {},
     "output_type": "execute_result"
    }
   ],
   "source": [
    "json_string = \"{\" + response.split( \"{\" )[ 1 ]\n",
    "json_string "
   ],
   "metadata": {
    "collapsed": false,
    "ExecuteTime": {
     "end_time": "2023-11-08T02:12:45.186718Z",
     "start_time": "2023-11-08T02:12:45.139724Z"
    }
   },
   "id": "99ab139d522b2b9d"
  },
  {
   "cell_type": "code",
   "execution_count": 56,
   "outputs": [
    {
     "name": "stdout",
     "output_type": "stream",
     "text": [
      "import math\n",
      "def haversine(lat1, lon1, lat2, lon2):\n",
      "    R = 6371\n",
      "    lat1, lon1, lat2, lon2 = map(math.radians, [lat1, lon1, lat2, lon2])\n",
      "    dlat = lat2 - lat1\n",
      "    dlon = lon2 - lon1\n",
      "    haversine = math.sin(dlat/2)**2 + math.cos(lat1) * math.cos(lat2) * math.sin(dlon/2)**2\n",
      "    solution = 2 * R * math.asin(math.sqrt(haversine))\n",
      "    return solution\n"
     ]
    }
   ],
   "source": [
    "import json\n",
    "# Convert JSON string into python dictionary\n",
    "response_dict = json.loads( json_string )\n",
    "\n",
    "for line in response_dict[ \"code\" ]:\n",
    "    print( line )"
   ],
   "metadata": {
    "collapsed": false,
    "ExecuteTime": {
     "end_time": "2023-11-08T02:12:47.153624Z",
     "start_time": "2023-11-08T02:12:47.150272Z"
    }
   },
   "id": "3c30c8bf3f0fb8b1"
  },
  {
   "cell_type": "code",
   "execution_count": 15,
   "outputs": [
    {
     "name": "stdout",
     "output_type": "stream",
     "text": [
      "\n",
      "import math\n",
      "\n",
      "def haversine_distance(lat1, lon1, lat2, lon2):\n",
      "    # Convert latitude and longitude to radians\n",
      "    lat1, lon1, lat2, lon2 = map(math.radians, [lat1, lon1, lat2, lon2])\n",
      "\n",
      "    # Calculate the differences between the coordinates\n",
      "    dlat = lat2 - lat1\n",
      "    dlon = lon2 - lon1\n",
      "\n",
      "    # Apply the haversine formula\n",
      "    a = math.sin(dlat/2)**2 + math.cos(lat1) * math.cos(lat2) * math.sin(dlon/2)**2\n",
      "    c = 2 * math.atan2(math.sqrt(a), math.sqrt(1-a))\n",
      "\n",
      "    # Earth's radius in meters\n",
      "    R = 6371000\n",
      "\n",
      "    # Calculate the distance\n",
      "    distance = R * c\n",
      "\n",
      "    return distance\n"
     ]
    }
   ],
   "source": [
    "for line in response.split( \"```python\" )[ 1 ].split( \"```\" )[ 0 ].split( \"\\n\" ):\n",
    "    print( line )"
   ],
   "metadata": {
    "collapsed": false,
    "ExecuteTime": {
     "end_time": "2023-11-07T20:45:52.869739Z",
     "start_time": "2023-11-07T20:45:52.841311Z"
    }
   },
   "id": "e5e67f5106e34fd6"
  },
  {
   "cell_type": "code",
   "execution_count": 71,
   "outputs": [],
   "source": [
    "minimalist_template_string = \"\"\"Write a function in python that calculates the haversine distance between two points. \n",
    "\n",
    "As you generate the python code needed to answer this request, I want you to:\n",
    "\n",
    "1) Question: Ask yourself if you understand the question that I am asking you.  Pay attention to the details!\n",
    "2) Think: Before you do anything, think out loud about what I am asking you to do, including what are the steps that you will need to take to solve this problem. Be critical of your thought process!\n",
    "3) Code: Generate a verbatim list of code that you used to arrive at your answer, one line of code per item on the list. The code must be complete, syntactically correct, and capable of runnning to completion. The last line of your code must be the variable `solution`, which represents the answer. Make sure that any filtering you perform matches the question asked of you by the user!\n",
    "4) Return: Report on the object type of the variable `solution` in your last line of code. Use one word to represent the object type.\n",
    "5) Explain: Briefly and succinctly explain your code in plain English.\n",
    "\n",
    "Format: return your response as a JSON object with the following fields:\n",
    "question: The question, verbatim and without modification,\n",
    "thoughts: Your thoughts,\n",
    "code: [],\n",
    "returns: Object type of the variable `solution`,\n",
    "explanation: A brief explanation of your code,\n",
    "error: Your description of any issues or errors that you encountered while attempting to fulfill this request\n",
    "\"\"\""
   ],
   "metadata": {
    "collapsed": false,
    "ExecuteTime": {
     "end_time": "2023-11-09T00:58:15.066100Z",
     "start_time": "2023-11-09T00:58:15.062519Z"
    }
   },
   "id": "e0389e115a56f407"
  },
  {
   "cell_type": "code",
   "execution_count": 72,
   "outputs": [
    {
     "data": {
      "text/plain": "'Write a function in python that calculates the haversine distance between two points. \\n\\nAs you generate the python code needed to answer this request, I want you to:\\n\\n1) Question: Ask yourself if you understand the question that I am asking you.  Pay attention to the details!\\n2) Think: Before you do anything, think out loud about what I am asking you to do, including what are the steps that you will need to take to solve this problem. Be critical of your thought process!\\n3) Code: Generate a verbatim list of code that you used to arrive at your answer, one line of code per item on the list. The code must be complete, syntactically correct, and capable of runnning to completion. The last line of your code must be the variable `solution`, which represents the answer. Make sure that any filtering you perform matches the question asked of you by the user!\\n4) Return: Report on the object type of the variable `solution` in your last line of code. Use one word to represent the object type.\\n5) Explain: Briefly and succinctly explain your code in plain English.\\n\\nFormat: return your response as a JSON object with the following fields:\\nquestion: The question, verbatim and without modification,\\nthoughts: Your thoughts,\\ncode: [],\\nreturns: Object type of the variable `solution`,\\nexplanation: A brief explanation of your code,\\nerror: Your description of any issues or errors that you encountered while attempting to fulfill this request\\n'"
     },
     "execution_count": 72,
     "metadata": {},
     "output_type": "execute_result"
    }
   ],
   "source": [
    "minimalist_template_string"
   ],
   "metadata": {
    "collapsed": false,
    "ExecuteTime": {
     "end_time": "2023-11-09T00:58:15.699676Z",
     "start_time": "2023-11-09T00:58:15.694531Z"
    }
   },
   "id": "2e56a45154f6be77"
  },
  {
   "cell_type": "code",
   "execution_count": 67,
   "outputs": [
    {
     "data": {
      "text/plain": "\"\\nWrite a function in python that calculates the haversine distance between two points. \\n\\nAs you generate the python code needed to answer this request, I want you to:\\n\\n1) Question: Ask yourself if you understand the question that I am asking you.  Pay attention to the details!\\n2) Think: Before you do anything, think out loud about what I'm asking you to do, including what are the steps that you will need to take to solve this problem. Be critical of your thought process!\\n3) Code: Generate a verbatim list of code that you used to arrive at your answer, one line of code per item on the list. The code must be complete, syntactically correct, and capable of runnning to completion. The last line of your code must be the variable `solution`, which represents the answer. Make sure that any filtering you perform matches the question asked of you by the user!\\n4) Return: Report on the object type of the variable `solution` in your last line of code. Use one word to represent the object type.\\n5) Explain: Briefly and succinctly explain your code in plain English.\\n\\nFormat: return your response as a JSON object in the following fields:\\n{\\n    'question': 'The question, verbatim and without modification',\\n    'thoughts': 'Your thoughts',\\n    'code': [],\\n    'returns': 'Object type of the variable `solution`',\\n    'explanation': 'A brief explanation of your code',\\n    'error': 'Your description of any issues or errors that you encountered while attempting to fulfill this request'\\n}\""
     },
     "execution_count": 67,
     "metadata": {},
     "output_type": "execute_result"
    }
   ],
   "source": [
    "template_with_quotes = template_string.replace( '\"' , \"'\" ).replace( \"{{\", \"{\" ).replace( \"}}\", \"}\" )\n",
    "template_with_quotes"
   ],
   "metadata": {
    "collapsed": false,
    "ExecuteTime": {
     "end_time": "2023-11-09T00:41:26.834625Z",
     "start_time": "2023-11-09T00:41:26.768094Z"
    }
   },
   "id": "87e185e79ab38f32"
  },
  {
   "cell_type": "code",
   "execution_count": 49,
   "outputs": [
    {
     "data": {
      "text/plain": "128"
     },
     "execution_count": 49,
     "metadata": {},
     "output_type": "execute_result"
    }
   ],
   "source": [
    "\"\"# llm\n",
    "llm.llm_kwargs[ \"max_new_tokens\" ]"
   ],
   "metadata": {
    "collapsed": false,
    "ExecuteTime": {
     "end_time": "2023-11-08T01:27:18.349545Z",
     "start_time": "2023-11-08T01:27:18.344218Z"
    }
   },
   "id": "3057feb37aa39570"
  },
  {
   "cell_type": "code",
   "execution_count": 15,
   "outputs": [
    {
     "data": {
      "text/plain": "OpenLLM(server_url='http://172.17.0.2:3000', llm_kwargs={'use_llama2_prompt': False, 'n': 1, 'best_of': 1, 'presence_penalty': 0.5, 'frequency_penalty': 0.0, 'use_beam_search': False, 'ignore_eos': False, 'skip_special_tokens': True, 'max_new_tokens': 128, 'min_length': 0, 'early_stopping': False, 'num_beams': 1, 'num_beam_groups': 1, 'use_cache': True, 'temperature': 0.6, 'top_k': 12, 'top_p': 0.9, 'typical_p': 1.0, 'epsilon_cutoff': 0.0, 'eta_cutoff': 0.0, 'diversity_penalty': 0.0, 'repetition_penalty': 1.0, 'encoder_repetition_penalty': 1.0, 'length_penalty': 1.0, 'no_repeat_ngram_size': 0, 'renormalize_logits': False, 'remove_invalid_values': False, 'num_return_sequences': 1, 'output_attentions': False, 'output_hidden_states': False, 'output_scores': False, 'encoder_no_repeat_ngram_size': 0})"
     },
     "execution_count": 15,
     "metadata": {},
     "output_type": "execute_result"
    }
   ],
   "source": [
    "llm"
   ],
   "metadata": {
    "collapsed": false,
    "ExecuteTime": {
     "end_time": "2023-11-08T19:15:57.465058Z",
     "start_time": "2023-11-08T19:15:57.457366Z"
    }
   },
   "id": "987afc0e592cb60b"
  },
  {
   "cell_type": "code",
   "execution_count": 74,
   "outputs": [
    {
     "data": {
      "text/plain": "<HTTPClient timeout=120 api_version=v1 verify=False state=ServerState.CLOSED>"
     },
     "execution_count": 74,
     "metadata": {},
     "output_type": "execute_result"
    }
   ],
   "source": [
    "client = openllm.client.HTTPClient( \"http://172.17.0.2:3000/\", timeout=120 )\n",
    "# Setup Generation Parameters\n",
    "generation_parameters = {\n",
    "\t'max_new_tokens': 1024\n",
    "}\n",
    "\n",
    "client\n",
    "# response = client.query( \"Write a function in python that calculates the haversine distance between two points\", max_new_tokens=400 )"
   ],
   "metadata": {
    "collapsed": false,
    "ExecuteTime": {
     "end_time": "2023-11-09T01:06:28.879636Z",
     "start_time": "2023-11-09T01:06:28.875189Z"
    }
   },
   "id": "f555e55f3ff2443c"
  },
  {
   "cell_type": "code",
   "execution_count": 75,
   "outputs": [],
   "source": [
    "response_json = client.query( template_string, **generation_parameters )"
   ],
   "metadata": {
    "collapsed": false,
    "ExecuteTime": {
     "end_time": "2023-11-09T01:07:53.209013Z",
     "start_time": "2023-11-09T01:06:40.271019Z"
    }
   },
   "id": "633b9e8b9bf8f700"
  },
  {
   "cell_type": "code",
   "execution_count": 32,
   "outputs": [
    {
     "data": {
      "text/plain": "Response(prompt='\\nWrite a function in python that calculates the haversine distance between two points. \\n\\nAs you generate the python code needed to answer this request, I want you to:\\n\\n1) Question: Ask yourself if you understand the question that I am asking you.  Pay attention to the details!\\n2) Think: Before you do anything, think out loud about what I\\'m asking you to do, including what are the steps that you will need to take to solve this problem. Be critical of your thought process!\\n3) Code: Generate a verbatim list of code that you used to arrive at your answer, one line of code per item on the list. The code must be complete, syntactically correct, and capable of runnning to completion. The last line of your code must be the variable `solution`, which represents the answer. Make sure that any filtering you perform matches the question asked of you by the user!\\n4) Return: Report on the object type of the variable `solution` in your last line of code. Use one word to represent the object type.\\n5) Explain: Briefly and succinctly explain your code in plain English.\\n\\nFormat: return your response as a JSON object in the following fields:\\n{{\\n    \"question\": \"The question, verbatim and without modification\",\\n    \"thoughts\": \"Your thoughts\",\\n    \"code\": [],\\n    \"returns\": \"Object type of the variable `solution`\",\\n    \"explanation\": \"A brief explanation of your code\",\\n    \"error\": \"Your description of any issues or errors that you encountered while attempting to fulfill this request\"\\n}}', finished=False, request_id='openllm-ee978cecb790417fb63bf70289ad2901', outputs=[CompletionChunk(index=0, text='\\n\\nHere\\'s the python function that calculates the haversine distance between two points:\\n\\n```python\\nimport math\\n\\ndef haversine(lat1, lon1, lat2, lon2):\\n    R = 6371  # Earth\\'s radius in km\\n\\n    dLat = math.radians(lat2 - lat1)\\n    dLon = math.radians(lon2 - lon1)\\n\\n    a = math.sin(dLat / 2) * math.sin(dLat / 2) + math.cos(math.radians(lat1)) * math.cos(math.radians(lat2)) * math.sin(dLon / 2) * math.sin(dLon / 2)\\n    c = 2 * math.atan2(math.sqrt(a), math.sqrt(1 - a))\\n\\n    return R * c\\n```\\n\\nThe function `haversine` takes four arguments: the latitude and longitude of the two points. It calculates the haversine distance using the formula for the haversine distance. The result is the distance between the two points in kilometers.\\n\\nHere\\'s the JSON response:\\n\\n```json\\n{\\n    \"question\": \"Write a function in python that calculates the haversine distance between two points.\",\\n    \"thoughts\": \"I need to implement the haversine formula to calculate the distance between two points. I will use the Earth\\'s radius of 6371 km.\",\\n    \"code\": [\"import math\", \"def haversine(lat1, lon1, lat2, lon2):\", \"    R = 6371\", \"    dLat = math.radians(lat2 - lat1)\", \"    dLon = math.radians(lon2 - lon1)\", \"    a = math.sin(dLat / 2) * math.sin(dLat / 2) + math.cos(math.radians(lat1)) * math.cos(math.radians(lat2)) * math.sin(dLon / 2) * math.sin(dLon / 2)\", \"    c = 2 * math.atan2(math.sqrt(a), math.sqrt(1 - a))\", \"    return R * c\"],\\n    \"returns\": \"float\",\\n    \"explanation\": \"The function takes the latitude and longitude of two points as input and returns the haversine distance between them in kilometers.\",\\n    \"error\": \"\"\\n}\\n``` import { Component } from \\'@angular/core\\';\\nimport { Router } from \\'@angular/router\\';\\n\\n@Component({\\n  selector: \\'app-root\\',\\n  templateUrl: \\'./app.component.html\\',\\n  styleUrls: [\\'./app.component.scss\\']\\n})\\nexport class AppComponent {\\n  title = \\'angular-router-sample\\';\\n\\n  constructor(private router: Router) {}\\n\\n  goToAbout() {\\n    this.router.navigate([\\'/about\\']);\\n  }\\n}\\n package com.example.android.architecture.blueprints.todoapp.tasks\\n\\nimport androidx.arch.core.executor.testing.InstantTaskExecutorRule\\nimport androidx.test.core.app.ApplicationProvider\\nimport androidx.test.ext.junit.runners.AndroidJUnit4\\nimport com.example.android.architecture.blueprints.todoapp.data.Task\\nimport com.example.android.architecture.blueprints.todoapp.data.source.FakeTestRepository\\nimport getOrAwaitValue\\nimport org.hamcrest.CoreMatchers.*\\nimport org.hamcrest.MatcherAssert.assertThat\\nimport org.junit.Before\\nimport org.junit.Rule\\nimport org.junit.Test\\nimport org.junit.runner.RunWith\\n\\n@RunWith(AndroidJUnit4::class)\\nclass TasksViewModelTest {\\n\\n    private lateinit var tasksViewModel: TasksViewModel\\n    private val tasksRepository = FakeTestRepository()\\n\\n    // Executes each task synchronously using Architecture Components.\\n    @get:Rule\\n    var instantExecutorRule = InstantTaskExecutorRule()\\n\\n    @Before\\n    fun setupViewModel() {\\n        tasksViewModel = TasksViewModel(tasksRepository)\\n    }\\n\\n    @Test\\n    fun addNewTask_setsNewTaskEvent() {\\n        // When adding a new task\\n        tasksViewModel.addNewTask()\\n\\n        // Then the', token_ids=[13, 13, 10605, 29915, 29879, 278, 3017, 740, 393, 3408, 1078, 278, 447, 874, 457, 5418, 1546, 1023, 3291, 29901, 13, 13, 28956, 4691, 13, 5215, 5844, 13, 13, 1753, 447, 874, 457, 29898, 5066, 29896, 29892, 23123, 29896, 29892, 3405, 29906, 29892, 23123, 29906, 1125, 13, 1678, 390, 353, 29871, 29953, 29941, 29955, 29896, 29871, 396, 11563, 29915, 29879, 11855, 297, 2383, 13, 13, 1678, 270, 13992, 353, 5844, 29889, 3665, 5834, 29898, 5066, 29906, 448, 3405, 29896, 29897, 13, 1678, 270, 29931, 265, 353, 5844, 29889, 3665, 5834, 29898, 12957, 29906, 448, 23123, 29896, 29897, 13, 13, 1678, 263, 353, 5844, 29889, 5223, 29898, 29881, 13992, 847, 29871, 29906, 29897, 334, 5844, 29889, 5223, 29898, 29881, 13992, 847, 29871, 29906, 29897, 718, 5844, 29889, 3944, 29898, 755, 29889, 3665, 5834, 29898, 5066, 29896, 876, 334, 5844, 29889, 3944, 29898, 755, 29889, 3665, 5834, 29898, 5066, 29906, 876, 334, 5844, 29889, 5223, 29898, 29881, 29931, 265, 847, 29871, 29906, 29897, 334, 5844, 29889, 5223, 29898, 29881, 29931, 265, 847, 29871, 29906, 29897, 13, 1678, 274, 353, 29871, 29906, 334, 5844, 29889, 23402, 29906, 29898, 755, 29889, 3676, 29898, 29874, 511, 5844, 29889, 3676, 29898, 29896, 448, 263, 876, 13, 13, 1678, 736, 390, 334, 274, 13, 28956, 13, 13, 1576, 740, 421, 2350, 874, 457, 29952, 4893, 3023, 6273, 29901, 278, 26271, 322, 28745, 310, 278, 1023, 3291, 29889, 739, 3408, 1078, 278, 447, 874, 457, 5418, 773, 278, 7063, 363, 278, 447, 874, 457, 5418, 29889, 450, 1121, 338, 278, 5418, 1546, 278, 1023, 3291, 297, 20052, 2699, 29889, 13, 13, 10605, 29915, 29879, 278, 4663, 2933, 29901, 13, 13, 28956, 3126, 13, 29912, 13, 1678, 376, 12470, 1115, 376, 6113, 263, 740, 297, 3017, 393, 3408, 1078, 278, 447, 874, 457, 5418, 1546, 1023, 3291, 19602, 13, 1678, 376, 386, 1774, 29879, 1115, 376, 29902, 817, 304, 2334, 278, 447, 874, 457, 7063, 304, 8147, 278, 5418, 1546, 1023, 3291, 29889, 306, 674, 671, 278, 11563, 29915, 29879, 11855, 310, 29871, 29953, 29941, 29955, 29896, 2383, 19602, 13, 1678, 376, 401, 1115, 6796, 5215, 5844, 613, 376, 1753, 447, 874, 457, 29898, 5066, 29896, 29892, 23123, 29896, 29892, 3405, 29906, 29892, 23123, 29906, 1125, 613, 376, 1678, 390, 353, 29871, 29953, 29941, 29955, 29896, 613, 376, 1678, 270, 13992, 353, 5844, 29889, 3665, 5834, 29898, 5066, 29906, 448, 3405, 29896, 19123, 376, 1678, 270, 29931, 265, 353, 5844, 29889, 3665, 5834, 29898, 12957, 29906, 448, 23123, 29896, 19123, 376, 1678, 263, 353, 5844, 29889, 5223, 29898, 29881, 13992, 847, 29871, 29906, 29897, 334, 5844, 29889, 5223, 29898, 29881, 13992, 847, 29871, 29906, 29897, 718, 5844, 29889, 3944, 29898, 755, 29889, 3665, 5834, 29898, 5066, 29896, 876, 334, 5844, 29889, 3944, 29898, 755, 29889, 3665, 5834, 29898, 5066, 29906, 876, 334, 5844, 29889, 5223, 29898, 29881, 29931, 265, 847, 29871, 29906, 29897, 334, 5844, 29889, 5223, 29898, 29881, 29931, 265, 847, 29871, 29906, 19123, 376, 1678, 274, 353, 29871, 29906, 334, 5844, 29889, 23402, 29906, 29898, 755, 29889, 3676, 29898, 29874, 511, 5844, 29889, 3676, 29898, 29896, 448, 263, 876, 613, 376, 1678, 736, 390, 334, 274, 12436, 13, 1678, 376, 18280, 1115, 376, 7411, 613, 13, 1678, 376, 735, 9018, 362, 1115, 376, 1576, 740, 4893, 278, 26271, 322, 28745, 310, 1023, 3291, 408, 1881, 322, 3639, 278, 447, 874, 457, 5418, 1546, 963, 297, 20052, 2699, 19602, 13, 1678, 376, 2704, 1115, 5124, 13, 29913, 13, 28956, 2, 1, 1053, 426, 15924, 500, 515, 18803, 6825, 29914, 3221, 2670, 13, 5215, 426, 390, 5561, 500, 515, 18803, 6825, 29914, 15140, 2670, 13, 13, 29992, 5308, 3319, 13, 29871, 11764, 29901, 525, 932, 29899, 4632, 742, 13, 29871, 4472, 5983, 29901, 19283, 932, 29889, 9700, 29889, 1420, 742, 13, 29871, 3114, 5983, 29879, 29901, 518, 4286, 29914, 932, 29889, 9700, 29889, 1557, 893, 2033, 13, 1800, 13, 15843, 770, 2401, 5308, 426, 13, 29871, 3611, 353, 525, 6825, 29899, 15140, 29899, 11249, 2670, 13, 13, 29871, 5823, 29898, 9053, 12876, 29901, 390, 5561, 29897, 6571, 13, 13, 29871, 748, 1762, 28173, 580, 426, 13, 1678, 445, 29889, 15140, 29889, 29876, 3723, 403, 18959, 29914, 12717, 17077, 13, 29871, 500, 13, 29913, 13, 2, 1, 3577, 419, 29889, 4773, 29889, 2843, 29889, 25428, 29889, 9539, 2158, 29879, 29889, 29873, 8144, 932, 29889, 20673, 13, 13, 5215, 1442, 29916, 29889, 1279, 29889, 3221, 29889, 4258, 3406, 29889, 13424, 29889, 3379, 424, 5398, 13366, 10740, 13, 5215, 1442, 29916, 29889, 1688, 29889, 3221, 29889, 932, 29889, 4873, 6980, 13, 5215, 1442, 29916, 29889, 1688, 29889, 1062, 29889, 18491, 29889, 3389, 8397, 29889, 8136, 29967, 8325, 29946, 13, 5215, 419, 29889, 4773, 29889, 2843, 29889, 25428, 29889, 9539, 2158, 29879, 29889, 29873, 8144, 932, 29889, 1272, 29889, 5398, 13, 5215, 419, 29889, 4773, 29889, 2843, 29889, 25428, 29889, 9539, 2158, 29879, 29889, 29873, 8144, 932, 29889, 1272, 29889, 4993, 29889, 29943, 1296, 3057, 11481, 13, 5215, 679, 2816, 29909, 10685, 1917, 13, 5215, 1638, 29889, 3391, 29883, 5060, 29889, 9203, 9652, 414, 5575, 13, 5215, 1638, 29889, 3391, 29883, 5060, 29889, 9652, 261, 14697, 29889, 9294, 7058, 13, 5215, 1638, 29889, 18491, 29889, 18743, 13, 5215, 1638, 29889, 18491, 29889, 10740, 13, 5215, 1638, 29889, 18491, 29889, 3057, 13, 5215, 1638, 29889, 18491, 29889, 27492, 29889, 6558, 3047, 13, 13, 29992, 6558, 3047, 29898, 8136, 29967, 8325, 29946, 1057, 1990, 29897, 13, 1990, 9330, 29879, 15166, 3057, 426, 13, 13, 1678, 2024, 5683, 2344, 722, 9595, 15166, 29901, 9330, 29879, 15166, 13, 1678, 2024, 659, 9595, 11481, 353, 383, 1296, 3057, 11481, 580, 13, 13, 1678, 849, 11080, 2667, 1269, 3414, 12231, 5794, 773, 28333, 422, 9340, 29889, 13, 1678, 732, 657, 29901, 10740, 13, 1678, 722, 14426, 13366, 10740, 353, 2799, 424, 5398, 13366, 10740, 580, 13, 13, 1678, 732, 18743, 13, 1678, 2090, 6230, 15166, 580, 426, 13, 4706, 9595, 15166, 353, 9330, 29879, 15166, 29898, 20673, 11481, 29897, 13, 1678, 500, 13, 13, 1678, 732, 3057, 13, 1678, 2090, 788, 4373, 5398, 29918, 7224, 4373, 5398, 2624, 580, 426, 13, 4706, 849, 1932, 4417, 263, 716, 3414, 13, 4706, 9595, 15166, 29889, 1202, 4373, 5398, 580, 13, 13, 4706, 849, 1987, 278], cumulative_logprob=0.0, logprobs=None, finish_reason=None)], prompt_token_ids=[1, 29871, 13, 6113, 263, 740, 297, 3017, 393, 3408, 1078, 278, 447, 874, 457, 5418, 1546, 1023, 3291, 29889, 29871, 13, 13, 2887, 366, 5706, 278, 3017, 775, 4312, 304, 1234, 445, 2009, 29892, 306, 864, 366, 304, 29901, 13, 13, 29896, 29897, 894, 29901, 26579, 7535, 565, 366, 2274, 278, 1139, 393, 306, 626, 6721, 366, 29889, 29871, 14617, 8570, 304, 278, 4902, 29991, 13, 29906, 29897, 25086, 29901, 10949, 366, 437, 3099, 29892, 1348, 714, 22526, 1048, 825, 306, 29915, 29885, 6721, 366, 304, 437, 29892, 3704, 825, 526, 278, 6576, 393, 366, 674, 817, 304, 2125, 304, 4505, 445, 1108, 29889, 1522, 12187, 310, 596, 2714, 1889, 29991, 13, 29941, 29897, 5920, 29901, 3251, 403, 263, 9750, 271, 326, 1051, 310, 775, 393, 366, 1304, 304, 18331, 472, 596, 1234, 29892, 697, 1196, 310, 775, 639, 2944, 373, 278, 1051, 29889, 450, 775, 1818, 367, 4866, 29892, 269, 3903, 627, 1711, 1959, 29892, 322, 15390, 310, 1065, 29876, 1076, 304, 13285, 29889, 450, 1833, 1196, 310, 596, 775, 1818, 367, 278, 2286, 421, 2929, 918, 1673, 607, 11524, 278, 1234, 29889, 8561, 1854, 393, 738, 21166, 366, 2189, 7087, 278, 1139, 4433, 310, 366, 491, 278, 1404, 29991, 13, 29946, 29897, 7106, 29901, 13969, 373, 278, 1203, 1134, 310, 278, 2286, 421, 2929, 918, 29952, 297, 596, 1833, 1196, 310, 775, 29889, 4803, 697, 1734, 304, 2755, 278, 1203, 1134, 29889, 13, 29945, 29897, 12027, 7420, 29901, 1771, 2575, 368, 322, 8348, 5562, 368, 5649, 596, 775, 297, 8656, 4223, 29889, 13, 13, 5809, 29901, 736, 596, 2933, 408, 263, 4663, 1203, 297, 278, 1494, 4235, 29901, 13, 6224, 13, 1678, 376, 12470, 1115, 376, 1576, 1139, 29892, 9750, 271, 326, 322, 1728, 21733, 613, 13, 1678, 376, 386, 1774, 29879, 1115, 376, 10858, 13133, 613, 13, 1678, 376, 401, 1115, 19997, 13, 1678, 376, 18280, 1115, 376, 2061, 1134, 310, 278, 2286, 421, 2929, 918, 29952, 613, 13, 1678, 376, 735, 9018, 362, 1115, 376, 29909, 11473, 8252, 310, 596, 775, 613, 13, 1678, 376, 2704, 1115, 376, 10858, 6139, 310, 738, 5626, 470, 4436, 393, 366, 18169, 1550, 15661, 304, 6095, 5589, 445, 2009, 29908, 13, 930], prompt_logprobs=None)"
     },
     "execution_count": 32,
     "metadata": {},
     "output_type": "execute_result"
    }
   ],
   "source": [
    "response_json"
   ],
   "metadata": {
    "collapsed": false,
    "ExecuteTime": {
     "end_time": "2023-11-08T19:47:26.429068Z",
     "start_time": "2023-11-08T19:47:26.392899Z"
    }
   },
   "id": "1977fd14fa87b756"
  },
  {
   "cell_type": "code",
   "execution_count": 33,
   "outputs": [
    {
     "data": {
      "text/plain": "1024"
     },
     "execution_count": 33,
     "metadata": {},
     "output_type": "execute_result"
    }
   ],
   "source": [
    "token_ids=[13, 13, 10605, 29915, 29879, 278, 3017, 740, 393, 3408, 1078, 278, 447, 874, 457, 5418, 1546, 1023, 3291, 29901, 13, 13, 28956, 4691, 13, 5215, 5844, 13, 13, 1753, 447, 874, 457, 29898, 5066, 29896, 29892, 23123, 29896, 29892, 3405, 29906, 29892, 23123, 29906, 1125, 13, 1678, 390, 353, 29871, 29953, 29941, 29955, 29896, 29871, 396, 11563, 29915, 29879, 11855, 297, 2383, 13, 13, 1678, 270, 13992, 353, 5844, 29889, 3665, 5834, 29898, 5066, 29906, 448, 3405, 29896, 29897, 13, 1678, 270, 29931, 265, 353, 5844, 29889, 3665, 5834, 29898, 12957, 29906, 448, 23123, 29896, 29897, 13, 13, 1678, 263, 353, 5844, 29889, 5223, 29898, 29881, 13992, 847, 29871, 29906, 29897, 334, 5844, 29889, 5223, 29898, 29881, 13992, 847, 29871, 29906, 29897, 718, 5844, 29889, 3944, 29898, 755, 29889, 3665, 5834, 29898, 5066, 29896, 876, 334, 5844, 29889, 3944, 29898, 755, 29889, 3665, 5834, 29898, 5066, 29906, 876, 334, 5844, 29889, 5223, 29898, 29881, 29931, 265, 847, 29871, 29906, 29897, 334, 5844, 29889, 5223, 29898, 29881, 29931, 265, 847, 29871, 29906, 29897, 13, 1678, 274, 353, 29871, 29906, 334, 5844, 29889, 23402, 29906, 29898, 755, 29889, 3676, 29898, 29874, 511, 5844, 29889, 3676, 29898, 29896, 448, 263, 876, 13, 13, 1678, 736, 390, 334, 274, 13, 28956, 13, 13, 1576, 740, 421, 2350, 874, 457, 29952, 4893, 3023, 6273, 29901, 278, 26271, 322, 28745, 310, 278, 1023, 3291, 29889, 739, 3408, 1078, 278, 447, 874, 457, 5418, 773, 278, 7063, 363, 278, 447, 874, 457, 5418, 29889, 450, 1121, 338, 278, 5418, 1546, 278, 1023, 3291, 297, 20052, 2699, 29889, 13, 13, 10605, 29915, 29879, 278, 4663, 2933, 29901, 13, 13, 28956, 3126, 13, 29912, 13, 1678, 376, 12470, 1115, 376, 6113, 263, 740, 297, 3017, 393, 3408, 1078, 278, 447, 874, 457, 5418, 1546, 1023, 3291, 19602, 13, 1678, 376, 386, 1774, 29879, 1115, 376, 29902, 817, 304, 2334, 278, 447, 874, 457, 7063, 304, 8147, 278, 5418, 1546, 1023, 3291, 29889, 306, 674, 671, 278, 11563, 29915, 29879, 11855, 310, 29871, 29953, 29941, 29955, 29896, 2383, 19602, 13, 1678, 376, 401, 1115, 6796, 5215, 5844, 613, 376, 1753, 447, 874, 457, 29898, 5066, 29896, 29892, 23123, 29896, 29892, 3405, 29906, 29892, 23123, 29906, 1125, 613, 376, 1678, 390, 353, 29871, 29953, 29941, 29955, 29896, 613, 376, 1678, 270, 13992, 353, 5844, 29889, 3665, 5834, 29898, 5066, 29906, 448, 3405, 29896, 19123, 376, 1678, 270, 29931, 265, 353, 5844, 29889, 3665, 5834, 29898, 12957, 29906, 448, 23123, 29896, 19123, 376, 1678, 263, 353, 5844, 29889, 5223, 29898, 29881, 13992, 847, 29871, 29906, 29897, 334, 5844, 29889, 5223, 29898, 29881, 13992, 847, 29871, 29906, 29897, 718, 5844, 29889, 3944, 29898, 755, 29889, 3665, 5834, 29898, 5066, 29896, 876, 334, 5844, 29889, 3944, 29898, 755, 29889, 3665, 5834, 29898, 5066, 29906, 876, 334, 5844, 29889, 5223, 29898, 29881, 29931, 265, 847, 29871, 29906, 29897, 334, 5844, 29889, 5223, 29898, 29881, 29931, 265, 847, 29871, 29906, 19123, 376, 1678, 274, 353, 29871, 29906, 334, 5844, 29889, 23402, 29906, 29898, 755, 29889, 3676, 29898, 29874, 511, 5844, 29889, 3676, 29898, 29896, 448, 263, 876, 613, 376, 1678, 736, 390, 334, 274, 12436, 13, 1678, 376, 18280, 1115, 376, 7411, 613, 13, 1678, 376, 735, 9018, 362, 1115, 376, 1576, 740, 4893, 278, 26271, 322, 28745, 310, 1023, 3291, 408, 1881, 322, 3639, 278, 447, 874, 457, 5418, 1546, 963, 297, 20052, 2699, 19602, 13, 1678, 376, 2704, 1115, 5124, 13, 29913, 13, 28956, 2, 1, 1053, 426, 15924, 500, 515, 18803, 6825, 29914, 3221, 2670, 13, 5215, 426, 390, 5561, 500, 515, 18803, 6825, 29914, 15140, 2670, 13, 13, 29992, 5308, 3319, 13, 29871, 11764, 29901, 525, 932, 29899, 4632, 742, 13, 29871, 4472, 5983, 29901, 19283, 932, 29889, 9700, 29889, 1420, 742, 13, 29871, 3114, 5983, 29879, 29901, 518, 4286, 29914, 932, 29889, 9700, 29889, 1557, 893, 2033, 13, 1800, 13, 15843, 770, 2401, 5308, 426, 13, 29871, 3611, 353, 525, 6825, 29899, 15140, 29899, 11249, 2670, 13, 13, 29871, 5823, 29898, 9053, 12876, 29901, 390, 5561, 29897, 6571, 13, 13, 29871, 748, 1762, 28173, 580, 426, 13, 1678, 445, 29889, 15140, 29889, 29876, 3723, 403, 18959, 29914, 12717, 17077, 13, 29871, 500, 13, 29913, 13, 2, 1, 3577, 419, 29889, 4773, 29889, 2843, 29889, 25428, 29889, 9539, 2158, 29879, 29889, 29873, 8144, 932, 29889, 20673, 13, 13, 5215, 1442, 29916, 29889, 1279, 29889, 3221, 29889, 4258, 3406, 29889, 13424, 29889, 3379, 424, 5398, 13366, 10740, 13, 5215, 1442, 29916, 29889, 1688, 29889, 3221, 29889, 932, 29889, 4873, 6980, 13, 5215, 1442, 29916, 29889, 1688, 29889, 1062, 29889, 18491, 29889, 3389, 8397, 29889, 8136, 29967, 8325, 29946, 13, 5215, 419, 29889, 4773, 29889, 2843, 29889, 25428, 29889, 9539, 2158, 29879, 29889, 29873, 8144, 932, 29889, 1272, 29889, 5398, 13, 5215, 419, 29889, 4773, 29889, 2843, 29889, 25428, 29889, 9539, 2158, 29879, 29889, 29873, 8144, 932, 29889, 1272, 29889, 4993, 29889, 29943, 1296, 3057, 11481, 13, 5215, 679, 2816, 29909, 10685, 1917, 13, 5215, 1638, 29889, 3391, 29883, 5060, 29889, 9203, 9652, 414, 5575, 13, 5215, 1638, 29889, 3391, 29883, 5060, 29889, 9652, 261, 14697, 29889, 9294, 7058, 13, 5215, 1638, 29889, 18491, 29889, 18743, 13, 5215, 1638, 29889, 18491, 29889, 10740, 13, 5215, 1638, 29889, 18491, 29889, 3057, 13, 5215, 1638, 29889, 18491, 29889, 27492, 29889, 6558, 3047, 13, 13, 29992, 6558, 3047, 29898, 8136, 29967, 8325, 29946, 1057, 1990, 29897, 13, 1990, 9330, 29879, 15166, 3057, 426, 13, 13, 1678, 2024, 5683, 2344, 722, 9595, 15166, 29901, 9330, 29879, 15166, 13, 1678, 2024, 659, 9595, 11481, 353, 383, 1296, 3057, 11481, 580, 13, 13, 1678, 849, 11080, 2667, 1269, 3414, 12231, 5794, 773, 28333, 422, 9340, 29889, 13, 1678, 732, 657, 29901, 10740, 13, 1678, 722, 14426, 13366, 10740, 353, 2799, 424, 5398, 13366, 10740, 580, 13, 13, 1678, 732, 18743, 13, 1678, 2090, 6230, 15166, 580, 426, 13, 4706, 9595, 15166, 353, 9330, 29879, 15166, 29898, 20673, 11481, 29897, 13, 1678, 500, 13, 13, 1678, 732, 3057, 13, 1678, 2090, 788, 4373, 5398, 29918, 7224, 4373, 5398, 2624, 580, 426, 13, 4706, 849, 1932, 4417, 263, 716, 3414, 13, 4706, 9595, 15166, 29889, 1202, 4373, 5398, 580, 13, 13, 4706, 849, 1987, 278]\n",
    "\n",
    "len( token_ids )"
   ],
   "metadata": {
    "collapsed": false,
    "ExecuteTime": {
     "end_time": "2023-11-08T19:50:02.113434Z",
     "start_time": "2023-11-08T19:50:02.089994Z"
    }
   },
   "id": "7d8c35b2bab722f9"
  },
  {
   "cell_type": "code",
   "execution_count": 18,
   "outputs": [],
   "source": [
    "response = client.query( \"Write a function in python that calculates the haversine distance between two points\", **generation_parameters )"
   ],
   "metadata": {
    "collapsed": false,
    "ExecuteTime": {
     "end_time": "2023-11-08T19:37:12.719617Z",
     "start_time": "2023-11-08T19:36:30.639635Z"
    }
   },
   "id": "12e99c18f9378545"
  },
  {
   "cell_type": "code",
   "execution_count": 22,
   "outputs": [
    {
     "data": {
      "text/plain": "Response(prompt='Write a function in python that calculates the haversine distance between two points', finished=False, request_id='openllm-6385f3adee624b9ca17bcb21ac762d75', outputs=[CompletionChunk(index=0, text='on a sphereThe haversine formula is used to calculate the great-circle distance between two points on a sphere. Here\\'s a function that calculates the haversine distance between two points with latitude and longitude:\\n\\n```python\\nimport math\\n\\ndef haversine(lat1, lon1, lat2, lon2):\\n    # Convert latitude and longitude to radians\\n    lat1, lon1, lat2, lon2 = map(math.radians, [lat1, lon1, lat2, lon2])\\n\\n    # Calculate the differences\\n    dlat = lat2 - lat1\\n    dlon = lon2 - lon1\\n\\n    # Apply the haversine formula\\n    a = math.sin(dlat/2)**2 + math.cos(lat1) * math.cos(lat2) * math.sin(dlon/2)**2\\n    c = 2 * math.atan2(math.sqrt(a), math.sqrt(1-a))\\n\\n    # Earth\\'s radius in kilometers\\n    r = 6371\\n\\n    # Calculate the result\\n    return c * r\\n\\n# Example usage:\\nprint(haversine(37.7749, -122.4194, 40.73061, -73.935242))  # San Francisco to New York\\n```\\n\\nThis function takes the latitude and longitude of two points as inputs, converts them to radians, and then applies the haversine formula. The result is the distance between the two points in kilometers. #ifndef _U2_WORKFLOW_TESTS_LIB_H_\\n#define _U2_WORKFLOW_TESTS_LIB_H_\\n\\n#include <U2Lang/WorkflowUtils.h>\\n\\n#include \"WorkflowTests.h\"\\n\\nnamespace U2 {\\n\\nclass WorkflowTestLib {\\npublic:\\n    static void init();\\n    static QList<XMLTestFactory *> createTestFactories();\\n\\nprivate:\\n    static QList<XMLTestFactory *> testFactories;\\n};\\n\\n}    // namespace U2\\n\\n#endif    // _U2_WORKF', token_ids=[373, 263, 20745, 1576, 447, 874, 457, 7063, 338, 1304, 304, 8147, 278, 2107, 29899, 16622, 5418, 1546, 1023, 3291, 373, 263, 20745, 29889, 2266, 29915, 29879, 263, 740, 393, 3408, 1078, 278, 447, 874, 457, 5418, 1546, 1023, 3291, 411, 26271, 322, 28745, 29901, 13, 13, 28956, 4691, 13, 5215, 5844, 13, 13, 1753, 447, 874, 457, 29898, 5066, 29896, 29892, 23123, 29896, 29892, 3405, 29906, 29892, 23123, 29906, 1125, 13, 1678, 396, 14806, 26271, 322, 28745, 304, 2971, 5834, 13, 1678, 3405, 29896, 29892, 23123, 29896, 29892, 3405, 29906, 29892, 23123, 29906, 353, 2910, 29898, 755, 29889, 3665, 5834, 29892, 518, 5066, 29896, 29892, 23123, 29896, 29892, 3405, 29906, 29892, 23123, 29906, 2314, 13, 13, 1678, 396, 20535, 403, 278, 12651, 13, 1678, 270, 5066, 353, 3405, 29906, 448, 3405, 29896, 13, 1678, 270, 12957, 353, 23123, 29906, 448, 23123, 29896, 13, 13, 1678, 396, 2401, 368, 278, 447, 874, 457, 7063, 13, 1678, 263, 353, 5844, 29889, 5223, 29898, 29881, 5066, 29914, 29906, 29897, 1068, 29906, 718, 5844, 29889, 3944, 29898, 5066, 29896, 29897, 334, 5844, 29889, 3944, 29898, 5066, 29906, 29897, 334, 5844, 29889, 5223, 29898, 11671, 265, 29914, 29906, 29897, 1068, 29906, 13, 1678, 274, 353, 29871, 29906, 334, 5844, 29889, 23402, 29906, 29898, 755, 29889, 3676, 29898, 29874, 511, 5844, 29889, 3676, 29898, 29896, 29899, 29874, 876, 13, 13, 1678, 396, 11563, 29915, 29879, 11855, 297, 20052, 2699, 13, 1678, 364, 353, 29871, 29953, 29941, 29955, 29896, 13, 13, 1678, 396, 20535, 403, 278, 1121, 13, 1678, 736, 274, 334, 364, 13, 13, 29937, 8741, 8744, 29901, 13, 2158, 29898, 2350, 874, 457, 29898, 29941, 29955, 29889, 29955, 29955, 29946, 29929, 29892, 448, 29896, 29906, 29906, 29889, 29946, 29896, 29929, 29946, 29892, 29871, 29946, 29900, 29889, 29955, 29941, 29900, 29953, 29896, 29892, 448, 29955, 29941, 29889, 29929, 29941, 29945, 29906, 29946, 29906, 876, 29871, 396, 3087, 8970, 304, 1570, 3088, 13, 28956, 13, 13, 4013, 740, 4893, 278, 26271, 322, 28745, 310, 1023, 3291, 408, 10970, 29892, 29436, 963, 304, 2971, 5834, 29892, 322, 769, 16058, 278, 447, 874, 457, 7063, 29889, 450, 1121, 338, 278, 5418, 1546, 278, 1023, 3291, 297, 20052, 2699, 29889, 2, 1, 396, 361, 299, 1389, 903, 29965, 29906, 29918, 11686, 29968, 29943, 27998, 29918, 18267, 29903, 29918, 5265, 29933, 29918, 29950, 29918, 13, 29937, 7922, 903, 29965, 29906, 29918, 11686, 29968, 29943, 27998, 29918, 18267, 29903, 29918, 5265, 29933, 29918, 29950, 29918, 13, 13, 29937, 2856, 529, 29965, 29906, 29931, 574, 29914, 5531, 1731, 12177, 29889, 29882, 29958, 13, 13, 29937, 2856, 376, 5531, 1731, 24376, 29889, 29882, 29908, 13, 13, 22377, 501, 29906, 426, 13, 13, 1990, 5244, 1731, 3057, 14868, 426, 13, 3597, 29901, 13, 1678, 2294, 1780, 2069, 890, 13, 1678, 2294, 660, 1293, 29966, 9165, 3057, 5126, 334, 29958, 1653, 3057, 20738, 3842, 890, 13, 13, 9053, 29901, 13, 1678, 2294, 660, 1293, 29966, 9165, 3057, 5126, 334, 29958, 1243, 20738, 3842, 29936, 13, 3400, 13, 13, 29913, 1678, 849, 7397, 501, 29906, 13, 13, 29937, 15224, 1678, 849, 903, 29965, 29906, 29918, 11686, 29968, 29943], cumulative_logprob=0.0, logprobs=None, finish_reason=None)], prompt_token_ids=[1, 14350, 263, 740, 297, 3017, 393, 3408, 1078, 278, 447, 874, 457, 5418, 1546, 1023, 3291], prompt_logprobs=None)"
     },
     "execution_count": 22,
     "metadata": {},
     "output_type": "execute_result"
    }
   ],
   "source": [
    "response"
   ],
   "metadata": {
    "collapsed": false,
    "ExecuteTime": {
     "end_time": "2023-11-08T19:23:17.455483Z",
     "start_time": "2023-11-08T19:23:17.437550Z"
    }
   },
   "id": "8d8bb937a06aa0a1"
  },
  {
   "cell_type": "code",
   "execution_count": 25,
   "outputs": [
    {
     "data": {
      "text/plain": "\"on a sphereGiven two points on a sphere (latitude, longitude) and assuming the Earth's radius to be 6371 km, we can calculate the haversine distance between them. The haversine formula is used to calculate the great-circle distance between two points on a sphere.\\n\\nHere's a Python function to calculate the haversine distance:\\n\\n```python\\nimport math\\n\\ndef haversine_distance(lat1, lon1, lat2, lon2):\\n    # Convert latitude and longitude to radians\\n    lat1, lon1, lat2, lon2 = map(math.radians, [lat1, lon1, lat2, lon2])\\n\\n    # Calculate haversine\\n    dlat = lat2 - lat1\\n    dlon = lon2 - lon1\\n    haversine = (math.sin(dlat/2)**2) + math.cos(lat1) * math.cos(lat2) * (math.sin(dlon/2)**2)\\n\\n    # Calculate distance\\n    distance = 2 * math.atan2(math.sqrt(haversine), math.sqrt(1 - haversine))\\n\\n    # Return distance in kilometers\\n    return 6371 * distance\\n\\n# Example usage\\nlat1, lon1 = 40.7128, -74.0060  # New York\\nlat2, lon2 = 51.5074, -0.1278  # London\\nprint(haversine_distance(lat1, lon1, lat2, lon2))\\n```\\n\\nThis function takes the latitude and longitude of two points as inputs and returns the haversine distance between them in kilometers. The Earth's radius is 6371 km, but you can easily change this to any other value if needed. package org.apache.spark.sql.execution.datasources.parquet\\n\\nimport java.nio.ByteBuffer\\nimport java.util.{List => JList}\\n\\nimport scala.collection.JavaConverters._\\n\\nimport org.apache.parquet.column.ColumnDescriptor\\nimport org.apache.parquet.column.page.PageReadStore\\nimport org.apache.parquet.filter\""
     },
     "execution_count": 25,
     "metadata": {},
     "output_type": "execute_result"
    }
   ],
   "source": [
    "response.outputs[ 0 ].text"
   ],
   "metadata": {
    "collapsed": false,
    "ExecuteTime": {
     "end_time": "2023-11-08T19:39:50.508737Z",
     "start_time": "2023-11-08T19:39:50.485220Z"
    }
   },
   "id": "24a6e34ac3c85f5c"
  },
  {
   "cell_type": "code",
   "execution_count": 26,
   "outputs": [
    {
     "data": {
      "text/plain": "512"
     },
     "execution_count": 26,
     "metadata": {},
     "output_type": "execute_result"
    }
   ],
   "source": [
    "token_ids=[373, 263, 20745, 1576, 447, 874, 457, 7063, 338, 1304, 304, 8147, 278, 2107, 29899, 16622, 5418, 1546, 1023, 3291, 373, 263, 20745, 29889, 2266, 29915, 29879, 263, 740, 393, 3408, 1078, 278, 447, 874, 457, 5418, 1546, 1023, 3291, 411, 26271, 322, 28745, 29901, 13, 13, 28956, 4691, 13, 5215, 5844, 13, 13, 1753, 447, 874, 457, 29898, 5066, 29896, 29892, 23123, 29896, 29892, 3405, 29906, 29892, 23123, 29906, 1125, 13, 1678, 396, 14806, 26271, 322, 28745, 304, 2971, 5834, 13, 1678, 3405, 29896, 29892, 23123, 29896, 29892, 3405, 29906, 29892, 23123, 29906, 353, 2910, 29898, 755, 29889, 3665, 5834, 29892, 518, 5066, 29896, 29892, 23123, 29896, 29892, 3405, 29906, 29892, 23123, 29906, 2314, 13, 13, 1678, 396, 20535, 403, 278, 12651, 13, 1678, 270, 5066, 353, 3405, 29906, 448, 3405, 29896, 13, 1678, 270, 12957, 353, 23123, 29906, 448, 23123, 29896, 13, 13, 1678, 396, 2401, 368, 278, 447, 874, 457, 7063, 13, 1678, 263, 353, 5844, 29889, 5223, 29898, 29881, 5066, 29914, 29906, 29897, 1068, 29906, 718, 5844, 29889, 3944, 29898, 5066, 29896, 29897, 334, 5844, 29889, 3944, 29898, 5066, 29906, 29897, 334, 5844, 29889, 5223, 29898, 11671, 265, 29914, 29906, 29897, 1068, 29906, 13, 1678, 274, 353, 29871, 29906, 334, 5844, 29889, 23402, 29906, 29898, 755, 29889, 3676, 29898, 29874, 511, 5844, 29889, 3676, 29898, 29896, 29899, 29874, 876, 13, 13, 1678, 396, 11563, 29915, 29879, 11855, 297, 20052, 2699, 13, 1678, 364, 353, 29871, 29953, 29941, 29955, 29896, 13, 13, 1678, 396, 20535, 403, 278, 1121, 13, 1678, 736, 274, 334, 364, 13, 13, 29937, 8741, 8744, 29901, 13, 2158, 29898, 2350, 874, 457, 29898, 29941, 29955, 29889, 29955, 29955, 29946, 29929, 29892, 448, 29896, 29906, 29906, 29889, 29946, 29896, 29929, 29946, 29892, 29871, 29946, 29900, 29889, 29955, 29941, 29900, 29953, 29896, 29892, 448, 29955, 29941, 29889, 29929, 29941, 29945, 29906, 29946, 29906, 876, 29871, 396, 3087, 8970, 304, 1570, 3088, 13, 28956, 13, 13, 4013, 740, 4893, 278, 26271, 322, 28745, 310, 1023, 3291, 408, 10970, 29892, 29436, 963, 304, 2971, 5834, 29892, 322, 769, 16058, 278, 447, 874, 457, 7063, 29889, 450, 1121, 338, 278, 5418, 1546, 278, 1023, 3291, 297, 20052, 2699, 29889, 2, 1, 396, 361, 299, 1389, 903, 29965, 29906, 29918, 11686, 29968, 29943, 27998, 29918, 18267, 29903, 29918, 5265, 29933, 29918, 29950, 29918, 13, 29937, 7922, 903, 29965, 29906, 29918, 11686, 29968, 29943, 27998, 29918, 18267, 29903, 29918, 5265, 29933, 29918, 29950, 29918, 13, 13, 29937, 2856, 529, 29965, 29906, 29931, 574, 29914, 5531, 1731, 12177, 29889, 29882, 29958, 13, 13, 29937, 2856, 376, 5531, 1731, 24376, 29889, 29882, 29908, 13, 13, 22377, 501, 29906, 426, 13, 13, 1990, 5244, 1731, 3057, 14868, 426, 13, 3597, 29901, 13, 1678, 2294, 1780, 2069, 890, 13, 1678, 2294, 660, 1293, 29966, 9165, 3057, 5126, 334, 29958, 1653, 3057, 20738, 3842, 890, 13, 13, 9053, 29901, 13, 1678, 2294, 660, 1293, 29966, 9165, 3057, 5126, 334, 29958, 1243, 20738, 3842, 29936, 13, 3400, 13, 13, 29913, 1678, 849, 7397, 501, 29906, 13, 13, 29937, 15224, 1678, 849, 903, 29965, 29906, 29918, 11686, 29968, 29943]\n",
    "\n",
    "len( token_ids )"
   ],
   "metadata": {
    "collapsed": false,
    "ExecuteTime": {
     "end_time": "2023-11-08T19:40:30.692936Z",
     "start_time": "2023-11-08T19:40:30.633154Z"
    }
   },
   "id": "9871a52739c43f09"
  },
  {
   "cell_type": "code",
   "execution_count": 77,
   "outputs": [],
   "source": [
    "import json"
   ],
   "metadata": {
    "collapsed": false,
    "ExecuteTime": {
     "end_time": "2023-11-09T01:13:50.106709Z",
     "start_time": "2023-11-09T01:13:50.046829Z"
    }
   },
   "id": "b061c1766266fd48"
  },
  {
   "cell_type": "code",
   "execution_count": 82,
   "outputs": [
    {
     "data": {
      "text/plain": "'{  \"choices\": [    {      \"index\": 0,      \"message\": {        \"role\": \"assistant\",        \"content\": \"{ \"question\": \"Write a function in python that calculates the haversine distance between two points.\",  \"thoughts\": \"To solve this problem, I need to implement the haversine formula, which is used to calculate the great-circle distance between two points on a sphere. The formula requires the latitude and longitude of the two points. I\\'ll need to convert the latitude and longitude to radians, calculate the differences between the latitudes and longitudes, and then apply the formula. The result will be in kilometers.\",  \"code\": [    \"import math\",    \"def haversine(lat1, lon1, lat2, lon2):\",    \"    # Convert latitude and longitude to radians\",    \"    lat1, lon1, lat2, lon2 = map(math.radians, [lat1, lon1, lat2, lon2])\",    \"    # Calculate the differences between the latitudes and longitudes\",    \"    dlat = lat2 - lat1\",    \"    dlon = lon2 - lon1\",    \"    # Apply the haversine formula\",    \"    a = math.sin(dlat/2)**2 + math.cos(lat1) * math.cos(lat2) * math.sin(dlon/2)**2\",    \"    c = 2 * math.atan2(math.sqrt(a), math.sqrt(1-a))\",    \"    # Convert the result to kilometers\",    \"    solution = 6371 * c\",    \"    return solution\"  ],  \"returns\": \"float\",  \"explanation\": \"The code first converts the latitude and longitude to radians. Then, it calculates the differences between the latitudes and longitudes. The haversine formula is applied, and the result is converted to kilometers. The `solution` variable is a float representing the haversine distance between the two points.\"} #ifndef __MATRIX_H__#define __MATRIX_H__#include <iostream>#include <vector>#include <cmath>class Matrix {\"      },      \"finish_reason\": null    }  ],  \"model\": \"Phind--Phind-CodeLlama-34B-v2\",  \"object\": \"chat.completion\",  \"id\": \"chatcmpl-1a2690b354f94de99915d666f1f76161\",  \"created\": 33538,  \"usage\": {    \"prompt_tokens\": 364,    \"completion_tokens\": 500,    \"total_tokens\": 864  }}'"
     },
     "execution_count": 82,
     "metadata": {},
     "output_type": "execute_result"
    }
   ],
   "source": [
    "bulk_json = \"\"\"\n",
    "{\n",
    "  \"choices\": [\n",
    "    {\n",
    "      \"index\": 0,\n",
    "      \"message\": {\n",
    "        \"role\": \"assistant\",\n",
    "        \"content\": \"{ \\\"question\\\": \\\"Write a function in python that calculates the haversine distance between two points.\\\",\\n  \\\"thoughts\\\": \\\"To solve this problem, I need to implement the haversine formula, which is used to calculate the great-circle distance between two points on a sphere. The formula requires the latitude and longitude of the two points. I'll need to convert the latitude and longitude to radians, calculate the differences between the latitudes and longitudes, and then apply the formula. The result will be in kilometers.\\\",\\n  \\\"code\\\": [\\n    \\\"import math\\\",\\n    \\\"def haversine(lat1, lon1, lat2, lon2):\\\",\\n    \\\"    # Convert latitude and longitude to radians\\\",\\n    \\\"    lat1, lon1, lat2, lon2 = map(math.radians, [lat1, lon1, lat2, lon2])\\\",\\n    \\\"    # Calculate the differences between the latitudes and longitudes\\\",\\n    \\\"    dlat = lat2 - lat1\\\",\\n    \\\"    dlon = lon2 - lon1\\\",\\n    \\\"    # Apply the haversine formula\\\",\\n    \\\"    a = math.sin(dlat/2)**2 + math.cos(lat1) * math.cos(lat2) * math.sin(dlon/2)**2\\\",\\n    \\\"    c = 2 * math.atan2(math.sqrt(a), math.sqrt(1-a))\\\",\\n    \\\"    # Convert the result to kilometers\\\",\\n    \\\"    solution = 6371 * c\\\",\\n    \\\"    return solution\\\"\\n  ],\\n  \\\"returns\\\": \\\"float\\\",\\n  \\\"explanation\\\": \\\"The code first converts the latitude and longitude to radians. Then, it calculates the differences between the latitudes and longitudes. The haversine formula is applied, and the result is converted to kilometers. The `solution` variable is a float representing the haversine distance between the two points.\\\"\\n} #ifndef __MATRIX_H__\\n#define __MATRIX_H__\\n\\n#include <iostream>\\n#include <vector>\\n#include <cmath>\\n\\nclass Matrix {\\n\"\n",
    "      },\n",
    "      \"finish_reason\": null\n",
    "    }\n",
    "  ],\n",
    "  \"model\": \"Phind--Phind-CodeLlama-34B-v2\",\n",
    "  \"object\": \"chat.completion\",\n",
    "  \"id\": \"chatcmpl-1a2690b354f94de99915d666f1f76161\",\n",
    "  \"created\": 33538,\n",
    "  \"usage\": {\n",
    "    \"prompt_tokens\": 364,\n",
    "    \"completion_tokens\": 500,\n",
    "    \"total_tokens\": 864\n",
    "  }\n",
    "}\"\"\"\n",
    "bulk_json = bulk_json.replace( \"\\n\", \"\" )\n",
    "bulk_json"
   ],
   "metadata": {
    "collapsed": false,
    "ExecuteTime": {
     "end_time": "2023-11-09T01:21:13.002967Z",
     "start_time": "2023-11-09T01:21:12.959155Z"
    }
   },
   "id": "4348ebd5169cdeb5"
  },
  {
   "cell_type": "code",
   "execution_count": null,
   "outputs": [],
   "source": [
    "foo = json.loads( bulk_json )\n",
    "foo"
   ],
   "metadata": {
    "collapsed": false
   },
   "id": "8efb5a20e9734b35"
  },
  {
   "cell_type": "code",
   "execution_count": 84,
   "outputs": [
    {
     "data": {
      "text/plain": "'{  \"question\": \"Write a function in python that calculates the haversine distance between two points.\",  \"thoughts\": \"To solve this problem, I need to implement the haversine formula, which is used to calculate the great-circle distance between two points on a sphere. The formula requires the latitude and longitude of the two points. I\\'ll need to convert the latitude and longitude to radians, calculate the differences between the latitudes and longitudes, and then apply the formula. The result will be in kilometers.\",  \"code\": [    \"import math\",    \"def haversine(lat1, lon1, lat2, lon2):\",    \"    # Convert latitude and longitude to radians\",    \"    lat1, lon1, lat2, lon2 = map(math.radians, [lat1, lon1, lat2, lon2])\",    \"    # Calculate the differences between the latitudes and longitudes\",    \"    dlat = lat2 - lat1\",    \"    dlon = lon2 - lon1\",    \"    # Apply the haversine formula\",    \"    a = math.sin(dlat/2)**2 + math.cos(lat1) * math.cos(lat2) * math.sin(dlon/2)**2\",    \"    c = 2 * math.atan2(math.sqrt(a), math.sqrt(1-a))\",    \"    # Convert the result to kilometers\",    \"    solution = 6371 * c\",    \"    return solution\"  ],  \"returns\": \"float\",  \"explanation\": \"The code first converts the latitude and longitude to radians. Then, it calculates the differences between the latitudes and longitudes. The haversine formula is applied, and the result is converted to kilometers. The `solution` variable is a float representing the haversine distance between the two points.\"} #ifndef __MATRIX_H__#define __MATRIX_H__#include <iostream>#include <vector>#include <cmath>class Matrix {'"
     },
     "execution_count": 84,
     "metadata": {},
     "output_type": "execute_result"
    }
   ],
   "source": [
    "bar = \"\"\"\\n\\n{\\n  \\\"question\\\": \\\"Write a function in python that calculates the haversine distance between two points.\\\",\\n  \\\"thoughts\\\": \\\"To solve this problem, I need to implement the haversine formula, which is used to calculate the great-circle distance between two points on a sphere. The formula requires the latitude and longitude of the two points. I'll need to convert the latitude and longitude to radians, calculate the differences between the latitudes and longitudes, and then apply the formula. The result will be in kilometers.\\\",\\n  \\\"code\\\": [\\n    \\\"import math\\\",\\n    \\\"def haversine(lat1, lon1, lat2, lon2):\\\",\\n    \\\"    # Convert latitude and longitude to radians\\\",\\n    \\\"    lat1, lon1, lat2, lon2 = map(math.radians, [lat1, lon1, lat2, lon2])\\\",\\n    \\\"    # Calculate the differences between the latitudes and longitudes\\\",\\n    \\\"    dlat = lat2 - lat1\\\",\\n    \\\"    dlon = lon2 - lon1\\\",\\n    \\\"    # Apply the haversine formula\\\",\\n    \\\"    a = math.sin(dlat/2)**2 + math.cos(lat1) * math.cos(lat2) * math.sin(dlon/2)**2\\\",\\n    \\\"    c = 2 * math.atan2(math.sqrt(a), math.sqrt(1-a))\\\",\\n    \\\"    # Convert the result to kilometers\\\",\\n    \\\"    solution = 6371 * c\\\",\\n    \\\"    return solution\\\"\\n  ],\\n  \\\"returns\\\": \\\"float\\\",\\n  \\\"explanation\\\": \\\"The code first converts the latitude and longitude to radians. Then, it calculates the differences between the latitudes and longitudes. The haversine formula is applied, and the result is converted to kilometers. The `solution` variable is a float representing the haversine distance between the two points.\\\"\\n} #ifndef __MATRIX_H__\\n#define __MATRIX_H__\\n\\n#include <iostream>\\n#include <vector>\\n#include <cmath>\\n\\nclass Matrix {\\n\"\"\"\n",
    "\n",
    "bar.replace( \"\\n\", \"\" )"
   ],
   "metadata": {
    "collapsed": false,
    "ExecuteTime": {
     "end_time": "2023-11-09T01:26:34.564149Z",
     "start_time": "2023-11-09T01:26:34.516060Z"
    }
   },
   "id": "59ef0a0649cb8eb"
  },
  {
   "cell_type": "code",
   "execution_count": null,
   "outputs": [],
   "source": [],
   "metadata": {
    "collapsed": false
   },
   "id": "d1c65fb91c0887f6"
  }
 ],
 "metadata": {
  "kernelspec": {
   "display_name": "Python 3",
   "language": "python",
   "name": "python3"
  },
  "language_info": {
   "codemirror_mode": {
    "name": "ipython",
    "version": 2
   },
   "file_extension": ".py",
   "mimetype": "text/x-python",
   "name": "python",
   "nbconvert_exporter": "python",
   "pygments_lexer": "ipython2",
   "version": "2.7.6"
  }
 },
 "nbformat": 4,
 "nbformat_minor": 5
}
