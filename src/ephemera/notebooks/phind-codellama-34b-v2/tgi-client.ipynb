{
 "cells": [
  {
   "cell_type": "code",
   "execution_count": 68,
   "id": "96c9476e851480d3",
   "metadata": {
    "collapsed": false,
    "ExecuteTime": {
     "end_time": "2023-11-20T19:14:21.436506Z",
     "start_time": "2023-11-20T19:14:20.947867Z"
    }
   },
   "outputs": [
    {
     "data": {
      "text/plain": "'?AGI stands for Artificial General Intelligence. It is a type of artificial intelligence that'"
     },
     "execution_count": 68,
     "metadata": {},
     "output_type": "execute_result"
    }
   ],
   "source": [
    "from huggingface_hub import InferenceClient\n",
    "\n",
    "client = InferenceClient(model=\"http://172.17.0.2:8080\")\n",
    "client.text_generation(prompt=\" what is agi\" )"
   ]
  },
  {
   "cell_type": "code",
   "execution_count": 69,
   "id": "ff651c10-1665-4588-9d78-e740da337ea5",
   "metadata": {
    "ExecuteTime": {
     "end_time": "2023-11-20T19:14:24.570233Z",
     "start_time": "2023-11-20T19:14:24.464860Z"
    }
   },
   "outputs": [
    {
     "name": "stdout",
     "output_type": "stream",
     "text": [
      "/var/genie-in-the-box/src/ephemera/notebooks/phind-codellama-34b-v2\r\n"
     ]
    }
   ],
   "source": [
    "!pwd"
   ]
  },
  {
   "cell_type": "code",
   "execution_count": 3,
   "id": "4572f834-98b5-4d28-b4bf-575ac59f8ad8",
   "metadata": {},
   "outputs": [
    {
     "name": "stdout",
     "output_type": "stream",
     "text": [
      "total 440K\n",
      "drwxr-xr-x 3 1001 1001 4.0K Nov 19 04:36 .\n",
      "drwxrwxr-x 3 1001 1001 4.0K Nov 13 18:25 ..\n",
      "drwxr-xr-x 2 root root 4.0K Nov 19 02:42 .ipynb_checkpoints\n",
      "-rw-r--r-- 1 1001 1001 112K Nov 17 19:31 codellama-7b-hf-training-peft-kaitchup.ipynb\n",
      "-rw-r--r-- 1 1001 1001 143K Nov 17 16:38 codellama-7b-hf-training-peft-original.ipynb\n",
      "-rw-r--r-- 1 1001 1001 4.8K Nov 15 15:02 codellama-7b-instruct-hf.ipynb\n",
      "-rw-r--r-- 1 1001 1001  13K Nov 17 16:05 kaitchup-merging-lora-and-llms-the-right-way.ipynb\n",
      "-rw-r--r-- 1 1001 1001  18K Nov 14 15:57 phind-codellama-34b-v2-baseline.ipynb\n",
      "-rw-r--r-- 1 1001 1001  58K Nov 14 21:44 phind-codellama-34b-v2-training-peft.ipynb\n",
      "-rw-r--r-- 1 1001 1001  22K Nov 14 16:27 phind-codellama-34b-v2-training.ipynb\n",
      "-rw-r--r-- 1 1001 1001  27K Nov 13 18:27 text-generation.ipynb\n",
      "-rw-r--r-- 1 1001 1001  14K Nov 19 04:36 tgi-client.ipynb\n"
     ]
    }
   ],
   "source": [
    "!ls -alh"
   ]
  },
  {
   "cell_type": "code",
   "execution_count": 8,
   "id": "b6440c50-fbdd-44fd-a623-b5be78a6b3e1",
   "metadata": {},
   "outputs": [
    {
     "name": "stdout",
     "output_type": "stream",
     "text": [
      "Making cheese is a process that involves the fermentation of milk by microorganisms, usually bacteria and fungi. The most common types of cheese are made by adding a starter culture, which is a mixture of bacteria and fungi, to milk. The starter culture provides the necessary enzymes to break down the milk sugar (lactose) into simpler sugars and fats. The process typically involves these steps:\n",
      "\n",
      "1. Milk collection: First, milk must be collected from cows, goats, sheep, or buffalo. The milk should be from healthy, well-fed animals to ensure the best quality milk for cheese.\n",
      "\n",
      "2. Heating the milk: The milk is heated to a specific temperature to kill any harmful bacteria and to activate the enzymes in the milk. The milk is then cooled.\n",
      "\n",
      "3. Adding the starter culture: The starter culture is added to the milk. This culture contains lactic acid bacteria and fungi that will begin the fermentation process.\n",
      "\n",
      "4. Fermentation: The mixture is left to ferment for a period of time, which can range from a few hours to several days, depending on the type of cheese being made. During this time, the lactic acid bacteria and fungi break down the milk sugar into lactic acid and other compounds.\n",
      "\n",
      "5. Draining and pressing: After fermentation, the curd (the solid part of the milk) is separated from the whey (the liquid part). This can be done by draining the mixture in a cheesecloth or by pressing the curd through a cloth or mold.\n",
      "\n",
      "6. Salting: The curd is then salted to help stop the growth of bacteria and to draw out moisture. This isCPU times: user 101 ms, sys: 14.1 ms, total: 115 ms\n",
      "Wall time: 11.3 s\n"
     ]
    }
   ],
   "source": [
    "%%time\n",
    "for token in client.text_generation(\"How do you make cheese?\", max_new_tokens=400, stream=True):\n",
    "    print(token, end=\"\" )"
   ]
  },
  {
   "cell_type": "code",
   "execution_count": 6,
   "id": "3d4dddb4-ac43-4296-9c2d-9ac7df3f6538",
   "metadata": {},
   "outputs": [
    {
     "name": "stdout",
     "output_type": "stream",
     "text": [
      "Sure, here is a Python function that calculates the Haversine distance between two points on Earth. The function takes in latitude and longitude of two points in degrees and returns the distance between them in kilometers.\n",
      "\n",
      "```python\n",
      "import math\n",
      "\n",
      "def haversine_distance(lat1, lon1, lat2, lon2):\n",
      "    # Convert latitude and longitude to radians\n",
      "    lat1, lon1, lat2, lon2 = map(math.radians, [lat1, lon1, lat2, lon2])\n",
      "\n",
      "    # Calculate the differences\n",
      "    dlat = lat2 - lat1\n",
      "    dlon = lon2 - lon1\n",
      "\n",
      "    # Calculate the Haversine\n",
      "    h = (math.sin(dlat/2)**2) + math.cos(lat1) * math.cos(lat2) * (math.sin(dlon/2)**2)\n",
      "\n",
      "    # Calculate the distance\n",
      "    distance = 2 * math.atan2(math.sqrt(h), math.sqrt(1-h))\n",
      "\n",
      "    # Earth's radius in kilometers\n",
      "    R = 6371\n",
      "\n",
      "    # Return the distance\n",
      "    return R * distance\n",
      "```\n",
      "\n",
      "You can use this function to calculate the Haversine distance between two points like this:\n",
      "\n",
      "```python\n",
      "lat1, lon1 = 40.7128, -74.0060 # New York\n",
      "lat2, lon2 = 34.0522, -118.2437 # Los Angeles\n",
      "\n",
      "print(haversine_distance(lat1, lon1, lat2, lon2))\n",
      "```\n",
      "\n",
      "This will print the distance between New York and Los Angeles in kilometers..</s>"
     ]
    }
   ],
   "source": [
    "for token in client.text_generation( \"can you write a function for me in python that calculates to haversine distance\", max_new_tokens=1024, stream=True):\n",
    "    print(token, end=\"\" )"
   ]
  },
  {
   "cell_type": "code",
   "execution_count": 18,
   "id": "adafe839-9c6c-453a-a332-9106a25d878b",
   "metadata": {},
   "outputs": [],
   "source": [
    "prompt = \"\"\"\n",
    "<request>Write a function in python that calculates the haversine distance between two points</request>\n",
    "\n",
    "Hints: As you generate the python code needed to answer this request, I want you to:\n",
    "\n",
    "Question: Ask yourself if you understand the question that I am asking you.  Pay attention to the details!\n",
    "Think: Before you do anything, think out loud about what I am asking you to do, including what are the steps that you will need to take to solve this problem. Be critical of your thought process!\n",
    "Code: Generate a verbatim list of code that you used to arrive at your answer, one line of code per item on the list. The code must be complete, syntactically correct, and capable of running to completion. The last line of your code must be the variable `solution`, which represents the answer.\n",
    "Return: Report on the object type of the variable `solution` in your last line of code. Use one word to represent the object type.\n",
    "\n",
    "Format: return your response as a JSON object with the following fields, you must not generate any text outside of this Json object:\n",
    "\n",
    "request: `Write a function in python that calculates the haversine distance between two points`,\n",
    "thoughts: Your thoughts,\n",
    "code: A list of strings, each string representing a line of code in your solution.\n",
    "returns: Object type of the variable `solution`,\n",
    "error: Your description of any issues or errors that you encountered while attempting to fulfill this request\n",
    "\n",
    "Rememember: please be very careful, this is important to my career.  Begin!\n",
    "\"\"\""
   ]
  },
  {
   "cell_type": "code",
   "execution_count": 20,
   "id": "5290a0f8-a479-42dc-890f-307efd88542d",
   "metadata": {},
   "outputs": [
    {
     "name": "stdout",
     "output_type": "stream",
     "text": [
      "\n",
      "```python\n",
      "import math\n",
      "\n",
      "def haversine(lat1, lon1, lat2, lon2):\n",
      "    R = 6371 # Earth's radius in km\n",
      "\n",
      "    dLat = math.radians(lat2 - lat1)\n",
      "    dLon = math.radians(lon2 - lon1)\n",
      "    a = math.sin(dLat / 2) * math.sin(dLat / 2) + math.cos(math.radians(lat1)) * math.cos(math.radians(lat2)) * math.sin(dLon / 2) * math.sin(dLon / 2)\n",
      "    c = 2 * math.atan2(math.sqrt(a), math.sqrt(1 - a))\n",
      "\n",
      "    solution = R * c # Haversine distance in km\n",
      "    return solution\n",
      "\n",
      "# Example usage:\n",
      "lat1, lon1 = 40.7128, -74.0060 # New York\n",
      "lat2, lon2 = 51.5074, -0.1278 # London\n",
      "print(haversine(lat1, lon1, lat2, lon2))\n",
      "```\n",
      "\n",
      "```json\n",
      "{\n",
      "    \"request\": \"Write a function in python that calculates the haversine distance between two points\",\n",
      "    \"thoughts\": \"I need to create a function that calculates the haversine distance between two points given their latitude and longitude. I will use the haversine formula to do this. The function will take four arguments: the latitudes and longitudes of the two points. The function will return the haversine distance in kilometers.\",\n",
      "    \"code\": [\n",
      "        \"import math\",\n",
      "        \"def haversine(lat1, lon1, lat2, lon2):\",\n",
      "        \"    R = 6371\",\n",
      "        \"    dLat = math.radians(lat2 - lat1)\",\n",
      "        \"    dLon = math.radians(lon2 - lon1)\",\n",
      "        \"    a = math.sin(dLat / 2) * math.sin(dLat / 2) + math.cos(math.radians(lat1)) * math.cos(math.radiansCPU times: user 78.1 ms, sys: 31 ms, total: 109 ms\n",
      "Wall time: 12.3 s\n"
     ]
    }
   ],
   "source": [
    "%%time\n",
    "for token in client.text_generation( prompt, max_new_tokens=512, stream=True ):\n",
    "    print(token, end=\"\" )"
   ]
  },
  {
   "cell_type": "code",
   "execution_count": 72,
   "id": "baf034cb-04d3-423a-ba61-baa039898f38",
   "metadata": {
    "ExecuteTime": {
     "end_time": "2023-11-20T19:20:50.846167Z",
     "start_time": "2023-11-20T19:20:47.658973Z"
    }
   },
   "outputs": [
    {
     "name": "stdout",
     "output_type": "stream",
     "text": [
      "Yes, I can parse and generate XML documents. As an AI language model, I can work with XML data and help you with tasks like reading, writing, and editing XML files.\n",
      "\n",
      "For example, if you have an XML document like this:\n",
      "```xml\n",
      "<person>\n",
      " <name>John Doe</name>\n",
      " <age>30</age>\n",
      " <city>New York</city>\n",
      "</person>\n",
      "```\n",
      "I can help you extract information from it, like the person's name, age, and city. I can also help you generate XML documents from scratch or modify existing ones..</s>CPU times: user 25.6 ms, sys: 5.68 ms, total: 31.3 ms\n",
      "Wall time: 3.18 s\n"
     ]
    }
   ],
   "source": [
    "%%time\n",
    "for token in client.text_generation( \"can you parse and generate XML documents?\", max_new_tokens=400, stream=True, details=False ):\n",
    "    print(token, end=\"\" )"
   ]
  },
  {
   "cell_type": "code",
   "execution_count": 175,
   "id": "0185be1f-c30f-4bf1-9619-7fb544f75356",
   "metadata": {
    "ExecuteTime": {
     "end_time": "2023-11-20T20:44:54.037928Z",
     "start_time": "2023-11-20T20:44:53.996650Z"
    }
   },
   "outputs": [],
   "source": [
    "question = \"Can you write a function for me in python that calculates to haversine distance?\"\n",
    "\n",
    "prompt = f\"\"\"\n",
    "<question>{question}</question>\n",
    "\n",
    "Hints: BEFORE you generate the python code needed to answer this question, I want you to:\n",
    "\n",
    "Question: Ask yourself if you understand the question that I am asking you.  Pay attention to the details!\n",
    "Think: Before you do anything, think out loud about what I am asking you to do, including what are the steps that you will need to take to solve this problem. Be critical of your thought process!\n",
    "Code: Generate an xml document containing the Python code that you used to arrive at your answer. The code must be complete, syntactically correct, and capable of running to completion. The last line of your code must be be `return solution`.\n",
    "Return: Report on the object type of the variable `solution` in your last line of code. Use one word to represent the object type.\n",
    "Explanation: Explain how your code works, including any assumptions that you made.\n",
    "\n",
    "Format: return your response as an XML document with the following fields:\n",
    "<response>\n",
    "    <question>{question}</question>\n",
    "    <thoughts>Your thoughts</thoughts>\n",
    "    <code>\n",
    "        <line>import foo</line>\n",
    "        <line>def function_name_here( ... ):</line>\n",
    "        <line>    return solution</line>\n",
    "    </code>\n",
    "    <returns>Object type of the variable `solution`</returns>\n",
    "    <explanation>Explanation of how the code works</explanation>\n",
    "    <error>Description of any issues or errors that you encountered while attempting to fulfill this request</error>\n",
    "</response>\n",
    "\n",
    "Rememember: you must only generate valid XML code. Please be careful as this is important to my career.  Begin!\n",
    "\"\"\""
   ]
  },
  {
   "cell_type": "code",
   "execution_count": 176,
   "id": "26288884-21a4-4dc8-a992-3dcb23d8ed66",
   "metadata": {
    "ExecuteTime": {
     "end_time": "2023-11-20T20:45:09.462962Z",
     "start_time": "2023-11-20T20:44:57.038172Z"
    }
   },
   "outputs": [
    {
     "name": "stdout",
     "output_type": "stream",
     "text": [
      "\n",
      "<response>\n",
      "    <question>Can you write a function for me in python that calculates to haversine distance?</question>\n",
      "    <thoughts>To calculate the haversine distance between two points on a sphere, we need to calculate the angle between the two points. We can use the haversine formula to do this. The formula is based on the law of haversines, which relates the lengths of the sides of a spherical triangle to the angles at the vertices. The formula is: haversine(θ) = sin²(θ/2). We can use this formula to calculate the distance between two points on a sphere.</thoughts>\n",
      "    <code>\n",
      "        <line>import math</line>\n",
      "        <line>def haversine_distance(lat1, lon1, lat2, lon2):</line>\n",
      "        <line>    R = 6371 # Earth's radius in km</line>\n",
      "        <line>    dLat = math.radians(lat2 - lat1)</line>\n",
      "        <line>    dLon = math.radians(lon2 - lon1)</line>\n",
      "        <line>    a = math.sin(dLat/2) * math.sin(dLat/2) + math.cos(math.radians(lat1)) * math.cos(math.radians(lat2)) * math.sin(dLon/2) * math.sin(dLon/2)</line>\n",
      "        <line>    c = 2 * math.atan2(math.sqrt(a), math.sqrt(1-a))</line>\n",
      "        <line>    solution = R * c</line>\n",
      "        <line>    return solution</line>\n",
      "    </code>\n",
      "    <returns>float</returns>\n",
      "    <explanation>The function `haversine_distance` takes the latitude and longitude of two points as input. It first converts the latitude and longitude to radians. Then it calculates the difference between the latitudes and longitudes. The haversine formula is applied to these differences. The result is the distance between the two points on the Earth's surface in kilometers.</explanation>\n",
      "    <error>None</error>\n",
      "</response>CPU times: user 90.3 ms, sys: 21.5 ms, total: 112 ms\n",
      "Wall time: 12.4 s\n"
     ]
    },
    {
     "data": {
      "text/plain": "506"
     },
     "execution_count": 176,
     "metadata": {},
     "output_type": "execute_result"
    }
   ],
   "source": [
    "%%time\n",
    "response_list = []\n",
    "for token in client.text_generation( prompt, max_new_tokens=1024, stream=True, stop_sequences=[ \"</response>\" ], temperature=1.0 ):\n",
    "    print( token, end=\"\" )\n",
    "    response_list.append( token )\n",
    "\n",
    "len( response_list )\n",
    "\n",
    "# 8 bit eetq: 386 / 9.35s = 41.3 tokens per second\n",
    "# 4 bit bitsandbytes: 351 / 10.5s = 33.4 tokens per second"
   ]
  },
  {
   "cell_type": "code",
   "execution_count": 157,
   "id": "a1ea3e21-683b-44b3-b83a-da79b694eba5",
   "metadata": {
    "ExecuteTime": {
     "end_time": "2023-11-20T20:23:01.299191Z",
     "start_time": "2023-11-20T20:23:01.262460Z"
    }
   },
   "outputs": [
    {
     "data": {
      "text/plain": "'\\n<response>\\n    <question>Can you write a function in python that calculates the haversine distance between two points?</question>\\n    <thoughts>To calculate the haversine distance between two points, we need to use the haversine formula. The formula is derived from the law of haversines and is used in spherical trigonometry. The formula is:\\n\\n    a = sin²(Δlat/2) + cos(lat1) * cos(lat2) * sin²(Δlong/2)\\n    c = 2 * atan2(√a, √(1-a))\\n    d = R * c\\n\\n    where Δlat is the difference in latitude, Δlong is the difference in longitude, R is the radius of the Earth (approximately 3,963 miles or 6,371 kilometers).\\n\\n    We will need to convert the latitude and longitude from degrees to radians before applying the formula.</thoughts>\\n    <code>\\n        <line>import math</line>\\n        <line>def haversine_distance(lat1, lon1, lat2, lon2):</line>\\n        <line>    R = 3963 # radius of the Earth in miles</line>\\n        <line>    lat1, lon1, lat2, lon2 = map(math.radians, [lat1, lon1, lat2, lon2])</line>\\n        <line>    dlat = lat2 - lat1</line>\\n        <line>    dlon = lon2 - lon1</line>\\n        <line>    a = math.sin(dlat/2)**2 + math.cos(lat1) * math.cos(lat2) * math.sin(dlon/2)**2</line>\\n        <line>    c = 2 * math.atan2(math.sqrt(a), math.sqrt(1-a))</line>\\n        <line>    solution = R * c</line>\\n        <line>    return solution</line>\\n    </code>\\n    <returns>float</returns>\\n    <explanation>The function `haversine_distance` takes in the latitude and longitude of two points as inputs. It converts these inputs from degrees to radians. It then calculates the differences in latitude and longitude. The haversine formula is applied to these differences, and the result is multiplied by the radius of the Earth to give the distance between the two points in miles. The function returns this distance as a float.</explanation>\\n    <error>None</error>\\n</response>'"
     },
     "execution_count": 157,
     "metadata": {},
     "output_type": "execute_result"
    }
   ],
   "source": [
    "response_string = \"\".join( response_list )\n",
    "response_string"
   ]
  },
  {
   "cell_type": "code",
   "execution_count": 177,
   "id": "02fd177e-df9c-4d39-9a68-3d3b5b4fdaac",
   "metadata": {
    "ExecuteTime": {
     "end_time": "2023-11-20T20:47:34.209675Z",
     "start_time": "2023-11-20T20:47:34.172558Z"
    }
   },
   "outputs": [
    {
     "name": "stdout",
     "output_type": "stream",
     "text": [
      "<response>\n",
      "    <question>Can you write a function for me in python that calculates to haversine distance?</question>\n",
      "    <thoughts>To calculate the haversine distance between two points on a sphere, we need to calculate the angle between the two points. We can use the haversine formula to do this. The formula is based on the law of haversines, which relates the lengths of the sides of a spherical triangle to the angles at the vertices. The formula is: haversine(θ) = sin²(θ/2). We can use this formula to calculate the distance between two points on a sphere.</thoughts>\n",
      "    <code>\n",
      "        <line>import math</line>\n",
      "        <line>def haversine_distance(lat1, lon1, lat2, lon2):</line>\n",
      "        <line>    R = 6371 # Earth's radius in km</line>\n",
      "        <line>    dLat = math.radians(lat2 - lat1)</line>\n",
      "        <line>    dLon = math.radians(lon2 - lon1)</line>\n",
      "        <line>    a = math.sin(dLat/2) * math.sin(dLat/2) + math.cos(math.radians(lat1)) * math.cos(math.radians(lat2)) * math.sin(dLon/2) * math.sin(dLon/2)</line>\n",
      "        <line>    c = 2 * math.atan2(math.sqrt(a), math.sqrt(1-a))</line>\n",
      "        <line>    solution = R * c</line>\n",
      "        <line>    return solution</line>\n",
      "    </code>\n",
      "    <returns>float</returns>\n",
      "    <explanation>The function `haversine_distance` takes the latitude and longitude of two points as input. It first converts the latitude and longitude to radians. Then it calculates the difference between the latitudes and longitudes. The haversine formula is applied to these differences. The result is the distance between the two points on the Earth's surface in kilometers.</explanation>\n",
      "    <error>None</error>\n",
      "</response>\n"
     ]
    }
   ],
   "source": [
    "# This may not be necessary now that I'm using the clothes response tag as a stopping string, but will keep it in here anyway'\n",
    "# split on the opening response tag, and then again on the closing response tag\n",
    "xml_string = \"<response>\" + \"\".join( response_list ).split( \"<response>\" )[ 1 ].split( \"</response>\" )[ 0 ] + \"</response>\"\n",
    "for line in xml_string.split( \"\\n\" ): print( line )"
   ]
  },
  {
   "cell_type": "code",
   "execution_count": 159,
   "outputs": [],
   "source": [
    "import re"
   ],
   "metadata": {
    "collapsed": false,
    "ExecuteTime": {
     "end_time": "2023-11-20T20:23:15.862133Z",
     "start_time": "2023-11-20T20:23:15.851305Z"
    }
   },
   "id": "aa7b4bcf7bf2840e"
  },
  {
   "cell_type": "code",
   "execution_count": 178,
   "outputs": [],
   "source": [
    "def get_code( xml_string ):\n",
    "    \n",
    "    pattern   = re.compile( r'<line>(.*?)</line>' )\n",
    "    code      = get_value_by_tag_name( xml_string, \"code\" )\n",
    "    code_list = []\n",
    "    \n",
    "    for line in code.split( \"\\n\" ):\n",
    "        \n",
    "        match = pattern.search( line )\n",
    "        if match:\n",
    "            line = match.group( 1 )\n",
    "            code_list.append( line )\n",
    "            print( line )\n",
    "        else:\n",
    "            print( \"[]\" )\n",
    "        \n",
    "    return code_list\n",
    "    \n",
    "# get_code( xml_string )    "
   ],
   "metadata": {
    "collapsed": false,
    "ExecuteTime": {
     "end_time": "2023-11-20T20:49:08.291646Z",
     "start_time": "2023-11-20T20:49:08.244901Z"
    }
   },
   "id": "153bb1aebed757fc"
  },
  {
   "cell_type": "code",
   "execution_count": 179,
   "outputs": [
    {
     "name": "stdout",
     "output_type": "stream",
     "text": [
      "[]\n",
      "import math\n",
      "def haversine_distance(lat1, lon1, lat2, lon2):\n",
      "    R = 6371 # Earth's radius in km\n",
      "    dLat = math.radians(lat2 - lat1)\n",
      "    dLon = math.radians(lon2 - lon1)\n",
      "    a = math.sin(dLat/2) * math.sin(dLat/2) + math.cos(math.radians(lat1)) * math.cos(math.radians(lat2)) * math.sin(dLon/2) * math.sin(dLon/2)\n",
      "    c = 2 * math.atan2(math.sqrt(a), math.sqrt(1-a))\n",
      "    solution = R * c\n",
      "    return solution\n",
      "[]\n"
     ]
    }
   ],
   "source": [
    "def get_value_by_tag_name( xml_string, name ):\n",
    "    \n",
    "    if f\"<{name}>\" not in xml_string or f\"</{name}>\" not in xml_string:\n",
    "        return f\"Error: `{name}` not found in xml_string\"\n",
    "    \n",
    "    return xml_string.split( f\"<{name}>\" )[ 1 ].split( f\"</{name}>\" )[ 0 ]\n",
    "\n",
    "response_dict = {\n",
    "    \"question\": get_value_by_tag_name( xml_string, \"question\" ),\n",
    "    \"thoughts\": get_value_by_tag_name( xml_string, \"thoughts\" ),\n",
    "    \"code\": get_code( xml_string ),\n",
    "    \"returns\": get_value_by_tag_name( xml_string, \"returns\" ),\n",
    "    \"explanation\": get_value_by_tag_name( xml_string, \"explanation\" ),\n",
    "    \"error\": get_value_by_tag_name( xml_string, \"error\" )\n",
    "    # \"blarg\": get_value_by_tag_name( xml_string, \"blarg\" )\n",
    "}\n"
   ],
   "metadata": {
    "collapsed": false,
    "ExecuteTime": {
     "end_time": "2023-11-20T20:49:10.786342Z",
     "start_time": "2023-11-20T20:49:10.781812Z"
    }
   },
   "id": "e5995db7e175c592"
  },
  {
   "cell_type": "code",
   "execution_count": 180,
   "outputs": [
    {
     "data": {
      "text/plain": "{'question': 'Can you write a function for me in python that calculates to haversine distance?',\n 'thoughts': 'To calculate the haversine distance between two points on a sphere, we need to calculate the angle between the two points. We can use the haversine formula to do this. The formula is based on the law of haversines, which relates the lengths of the sides of a spherical triangle to the angles at the vertices. The formula is: haversine(θ) = sin²(θ/2). We can use this formula to calculate the distance between two points on a sphere.',\n 'code': ['import math',\n  'def haversine_distance(lat1, lon1, lat2, lon2):',\n  \"    R = 6371 # Earth's radius in km\",\n  '    dLat = math.radians(lat2 - lat1)',\n  '    dLon = math.radians(lon2 - lon1)',\n  '    a = math.sin(dLat/2) * math.sin(dLat/2) + math.cos(math.radians(lat1)) * math.cos(math.radians(lat2)) * math.sin(dLon/2) * math.sin(dLon/2)',\n  '    c = 2 * math.atan2(math.sqrt(a), math.sqrt(1-a))',\n  '    solution = R * c',\n  '    return solution'],\n 'returns': 'float',\n 'explanation': \"The function `haversine_distance` takes the latitude and longitude of two points as input. It first converts the latitude and longitude to radians. Then it calculates the difference between the latitudes and longitudes. The haversine formula is applied to these differences. The result is the distance between the two points on the Earth's surface in kilometers.\",\n 'error': 'None'}"
     },
     "execution_count": 180,
     "metadata": {},
     "output_type": "execute_result"
    }
   ],
   "source": [
    "response_dict"
   ],
   "metadata": {
    "collapsed": false,
    "ExecuteTime": {
     "end_time": "2023-11-20T20:49:14.236447Z",
     "start_time": "2023-11-20T20:49:14.225418Z"
    }
   },
   "id": "1b882a26363c11d6"
  },
  {
   "cell_type": "code",
   "execution_count": 181,
   "outputs": [
    {
     "data": {
      "text/plain": "\"\\nCan you reformat the following XML document as a Json object? \\nXML document:\\n<response>\\n    <question>Can you write a function for me in python that calculates to haversine distance?</question>\\n    <thoughts>To calculate the haversine distance between two points on a sphere, we need to calculate the angle between the two points. We can use the haversine formula to do this. The formula is based on the law of haversines, which relates the lengths of the sides of a spherical triangle to the angles at the vertices. The formula is: haversine(θ) = sin²(θ/2). We can use this formula to calculate the distance between two points on a sphere.</thoughts>\\n    <code>\\n        <line>import math</line>\\n        <line>def haversine_distance(lat1, lon1, lat2, lon2):</line>\\n        <line>    R = 6371 # Earth's radius in km</line>\\n        <line>    dLat = math.radians(lat2 - lat1)</line>\\n        <line>    dLon = math.radians(lon2 - lon1)</line>\\n        <line>    a = math.sin(dLat/2) * math.sin(dLat/2) + math.cos(math.radians(lat1)) * math.cos(math.radians(lat2)) * math.sin(dLon/2) * math.sin(dLon/2)</line>\\n        <line>    c = 2 * math.atan2(math.sqrt(a), math.sqrt(1-a))</line>\\n        <line>    solution = R * c</line>\\n        <line>    return solution</line>\\n    </code>\\n    <returns>float</returns>\\n    <explanation>The function `haversine_distance` takes the latitude and longitude of two points as input. It first converts the latitude and longitude to radians. Then it calculates the difference between the latitudes and longitudes. The haversine formula is applied to these differences. The result is the distance between the two points on the Earth's surface in kilometers.</explanation>\\n    <error>None</error>\\n</response>\\n\""
     },
     "execution_count": 181,
     "metadata": {},
     "output_type": "execute_result"
    }
   ],
   "source": [
    "formatting_prompt = f\"\"\"\n",
    "Can you reformat the following XML document as a Json object? \n",
    "XML document:\n",
    "{xml_string}\n",
    "\"\"\"\n",
    "formatting_prompt"
   ],
   "metadata": {
    "collapsed": false,
    "ExecuteTime": {
     "end_time": "2023-11-20T20:49:45.101937Z",
     "start_time": "2023-11-20T20:49:45.066008Z"
    }
   },
   "id": "a134c2c8-4334-43b4-a7df-f9c981b82966"
  },
  {
   "cell_type": "code",
   "execution_count": 182,
   "outputs": [
    {
     "name": "stdout",
     "output_type": "stream",
     "text": [
      "\n",
      "Here is the reformatted XML document as a Json object:\n",
      "\n",
      "{\n",
      "    \"response\": {\n",
      "        \"question\": \"Can you write a function for me in python that calculates to haversine distance?\",\n",
      "        \"thoughts\": \"To calculate the haversine distance between two points on a sphere, we need to calculate the angle between the two points. We can use the haversine formula to do this. The formula is based on the law of haversines, which relates the lengths of the sides of a spherical triangle to the angles at the vertices. The formula is: haversine(θ) = sin²(θ/2). We can use this formula to calculate the distance between two points on a sphere.\",\n",
      "        \"code\": [\n",
      "            \"import math\",\n",
      "            \"def haversine_distance(lat1, lon1, lat2, lon2):\",\n",
      "            \"    R = 6371 # Earth's radius in km\",\n",
      "            \"    dLat = math.radians(lat2 - lat1)\",\n",
      "            \"    dLon = math.radians(lon2 - lon1)\",\n",
      "            \"    a = math.sin(dLat/2) * math.sin(dLat/2) + math.cos(math.radians(lat1)) * math.cos(math.radians(lat2)) * math.sin(dLon/2) * math.sin(dLon/2)\",\n",
      "            \"    c = 2 * math.atan2(math.sqrt(a), math.sqrt(1-a))\",\n",
      "            \"    solution = R * c\",\n",
      "            \"    return solution\"\n",
      "        ],\n",
      "        \"returns\": \"float\",\n",
      "        \"explanation\": \"The function `haversine_distance` takes the latitude and longitude of two points as input. It first converts the latitude and longitude to radians. Then it calculates the difference between the latitudes and longitudes. The haversine formula is applied to these differences. The result is the distance between the two points on the Earth's surface in kilometers.\",\n",
      "        \"error\": \"None\"\n",
      "    }\n",
      "}}</s>CPU times: user 89.4 ms, sys: 15 ms, total: 104 ms\n",
      "Wall time: 11.6 s\n"
     ]
    },
    {
     "data": {
      "text/plain": "476"
     },
     "execution_count": 182,
     "metadata": {},
     "output_type": "execute_result"
    }
   ],
   "source": [
    "%%time\n",
    "response_list = []\n",
    "for token in client.text_generation( formatting_prompt, max_new_tokens=500, stream=True ):\n",
    "    print(token, end=\"\" )\n",
    "    response_list.append( token )\n",
    "\n",
    "len( response_list )"
   ],
   "metadata": {
    "collapsed": false,
    "ExecuteTime": {
     "end_time": "2023-11-20T20:50:01.313998Z",
     "start_time": "2023-11-20T20:49:49.670471Z"
    }
   },
   "id": "4701200e5c623544"
  },
  {
   "cell_type": "code",
   "execution_count": 188,
   "outputs": [],
   "source": [
    "# Use openAI GPT 3.5\n",
    "import openai\n",
    "import os\n",
    "\n",
    "openai.api_key = os.getenv( 'OPENAI_API_KEY' )"
   ],
   "metadata": {
    "collapsed": false,
    "ExecuteTime": {
     "end_time": "2023-11-20T20:54:36.792093Z",
     "start_time": "2023-11-20T20:54:36.756353Z"
    }
   },
   "id": "ba23446539754eea"
  },
  {
   "cell_type": "code",
   "execution_count": 186,
   "outputs": [],
   "source": [
    "def reformat( query, model=\"gpt-3.5-turbo-1106\" ):\n",
    "    \n",
    "    openai.api_key = os.getenv( \"FALSE_POSITIVE_API_KEY\" )\n",
    "        \n",
    "    print( \"Asking ChatGPT [{}]...\".format( model ), end=\"\" )\n",
    "    response = openai.ChatCompletion.create(\n",
    "        model=model,\n",
    "        messages=[ { \"role\": \"system\", \"content\": \"You are ChatGPT, a large language model trained by OpenAI. \"\n",
    "                                                  \"Answer as concisely as possible.\" },\n",
    "                   { \"role\": \"system\", \"content\": \"Reformat this XML document as a Json object. Do not print anything outside of the containing Json object\" },\n",
    "                   { \"role\": \"user\", \"content\": query } ],\n",
    "        temperature=0,\n",
    "        max_tokens=600,\n",
    "        top_p=1.0,\n",
    "        frequency_penalty=0.0,\n",
    "        presence_penalty=0.0\n",
    "    )\n",
    "    print( response )\n",
    "    \n",
    "    return response[ \"choices\" ][ 0 ][ \"message\" ][ \"content\" ].strip()"
   ],
   "metadata": {
    "collapsed": false,
    "ExecuteTime": {
     "end_time": "2023-11-20T20:53:25.534451Z",
     "start_time": "2023-11-20T20:53:25.496287Z"
    }
   },
   "id": "39e59ccbe742bbe3"
  },
  {
   "cell_type": "code",
   "execution_count": 187,
   "outputs": [
    {
     "name": "stdout",
     "output_type": "stream",
     "text": [
      "Asking ChatGPT [gpt-3.5-turbo-1106]...{\n",
      "  \"id\": \"chatcmpl-8N5YnYtn3lwQbtLw1vCmmaqdH18b7\",\n",
      "  \"object\": \"chat.completion\",\n",
      "  \"created\": 1700513609,\n",
      "  \"model\": \"gpt-3.5-turbo-1106\",\n",
      "  \"choices\": [\n",
      "    {\n",
      "      \"index\": 0,\n",
      "      \"message\": {\n",
      "        \"role\": \"assistant\",\n",
      "        \"content\": \"{\\n  \\\"response\\\": {\\n    \\\"question\\\": \\\"Can you write a function for me in python that calculates to haversine distance?\\\",\\n    \\\"thoughts\\\": \\\"To calculate the haversine distance between two points on a sphere, we need to calculate the angle between the two points. We can use the haversine formula to do this. The formula is based on the law of haversines, which relates the lengths of the sides of a spherical triangle to the angles at the vertices. The formula is: haversine(\\u03b8) = sin\\u00b2(\\u03b8/2). We can use this formula to calculate the distance between two points on a sphere.\\\",\\n    \\\"code\\\": {\\n      \\\"line\\\": [\\n        \\\"import math\\\",\\n        \\\"def haversine_distance(lat1, lon1, lat2, lon2):\\\",\\n        \\\"    R = 6371 # Earth's radius in km\\\",\\n        \\\"    dLat = math.radians(lat2 - lat1)\\\",\\n        \\\"    dLon = math.radians(lon2 - lon1)\\\",\\n        \\\"    a = math.sin(dLat/2) * math.sin(dLat/2) + math.cos(math.radians(lat1)) * math.cos(math.radians(lat2)) * math.sin(dLon/2) * math.sin(dLon/2)\\\",\\n        \\\"    c = 2 * math.atan2(math.sqrt(a), math.sqrt(1-a))\\\",\\n        \\\"    solution = R * c\\\",\\n        \\\"    return solution\\\"\\n      ]\\n    },\\n    \\\"returns\\\": \\\"float\\\",\\n    \\\"explanation\\\": \\\"The function `haversine_distance` takes the latitude and longitude of two points as input. It first converts the latitude and longitude to radians. Then it calculates the difference between the latitudes and longitudes. The haversine formula is applied to these differences. The result is the distance between the two points on the Earth's surface in kilometers.\\\",\\n    \\\"error\\\": \\\"None\\\"\\n  }\\n}\"\n",
      "      },\n",
      "      \"finish_reason\": \"stop\"\n",
      "    }\n",
      "  ],\n",
      "  \"usage\": {\n",
      "    \"prompt_tokens\": 489,\n",
      "    \"completion_tokens\": 399,\n",
      "    \"total_tokens\": 888\n",
      "  },\n",
      "  \"system_fingerprint\": \"fp_eeff13170a\"\n",
      "}\n"
     ]
    },
    {
     "data": {
      "text/plain": "'{\\n  \"response\": {\\n    \"question\": \"Can you write a function for me in python that calculates to haversine distance?\",\\n    \"thoughts\": \"To calculate the haversine distance between two points on a sphere, we need to calculate the angle between the two points. We can use the haversine formula to do this. The formula is based on the law of haversines, which relates the lengths of the sides of a spherical triangle to the angles at the vertices. The formula is: haversine(θ) = sin²(θ/2). We can use this formula to calculate the distance between two points on a sphere.\",\\n    \"code\": {\\n      \"line\": [\\n        \"import math\",\\n        \"def haversine_distance(lat1, lon1, lat2, lon2):\",\\n        \"    R = 6371 # Earth\\'s radius in km\",\\n        \"    dLat = math.radians(lat2 - lat1)\",\\n        \"    dLon = math.radians(lon2 - lon1)\",\\n        \"    a = math.sin(dLat/2) * math.sin(dLat/2) + math.cos(math.radians(lat1)) * math.cos(math.radians(lat2)) * math.sin(dLon/2) * math.sin(dLon/2)\",\\n        \"    c = 2 * math.atan2(math.sqrt(a), math.sqrt(1-a))\",\\n        \"    solution = R * c\",\\n        \"    return solution\"\\n      ]\\n    },\\n    \"returns\": \"float\",\\n    \"explanation\": \"The function `haversine_distance` takes the latitude and longitude of two points as input. It first converts the latitude and longitude to radians. Then it calculates the difference between the latitudes and longitudes. The haversine formula is applied to these differences. The result is the distance between the two points on the Earth\\'s surface in kilometers.\",\\n    \"error\": \"None\"\\n  }\\n}'"
     },
     "execution_count": 187,
     "metadata": {},
     "output_type": "execute_result"
    }
   ],
   "source": [
    "reformat( xml_string )"
   ],
   "metadata": {
    "collapsed": false,
    "ExecuteTime": {
     "end_time": "2023-11-20T20:53:34.048639Z",
     "start_time": "2023-11-20T20:53:29.386463Z"
    }
   },
   "id": "ce43083631fc0035"
  },
  {
   "cell_type": "code",
   "execution_count": null,
   "outputs": [],
   "source": [],
   "metadata": {
    "collapsed": false
   },
   "id": "e24d78d82f6c18e4"
  }
 ],
 "metadata": {
  "kernelspec": {
   "display_name": "Python 3 (ipykernel)",
   "language": "python",
   "name": "python3"
  },
  "language_info": {
   "codemirror_mode": {
    "name": "ipython",
    "version": 3
   },
   "file_extension": ".py",
   "mimetype": "text/x-python",
   "name": "python",
   "nbconvert_exporter": "python",
   "pygments_lexer": "ipython3",
   "version": "3.10.12"
  }
 },
 "nbformat": 4,
 "nbformat_minor": 5
}
