{
 "cells": [
  {
   "cell_type": "code",
   "execution_count": 55,
   "id": "96c9476e851480d3",
   "metadata": {
    "collapsed": false,
    "ExecuteTime": {
     "end_time": "2023-11-21T21:27:57.953932Z",
     "start_time": "2023-11-21T21:27:57.478668Z"
    }
   },
   "outputs": [
    {
     "data": {
      "text/plain": "'Artificial General Intelligence (AGI) refers to the concept of creating machines or software that'"
     },
     "execution_count": 55,
     "metadata": {},
     "output_type": "execute_result"
    }
   ],
   "source": [
    "from huggingface_hub import InferenceClient #, ConversationInput\n",
    "\n",
    "client = InferenceClient(model=\"http://172.17.0.2:8080\")\n",
    "client.text_generation(prompt=\"what is agi?\" )"
   ]
  },
  {
   "cell_type": "code",
   "execution_count": 69,
   "id": "ff651c10-1665-4588-9d78-e740da337ea5",
   "metadata": {
    "ExecuteTime": {
     "end_time": "2023-11-20T19:14:24.570233Z",
     "start_time": "2023-11-20T19:14:24.464860Z"
    }
   },
   "outputs": [
    {
     "name": "stdout",
     "output_type": "stream",
     "text": [
      "/var/genie-in-the-box/src/ephemera/notebooks/phind-codellama-34b-v2\r\n"
     ]
    }
   ],
   "source": [
    "!pwd"
   ]
  },
  {
   "cell_type": "code",
   "execution_count": 3,
   "id": "4572f834-98b5-4d28-b4bf-575ac59f8ad8",
   "metadata": {},
   "outputs": [
    {
     "name": "stdout",
     "output_type": "stream",
     "text": [
      "total 440K\n",
      "drwxr-xr-x 3 1001 1001 4.0K Nov 19 04:36 .\n",
      "drwxrwxr-x 3 1001 1001 4.0K Nov 13 18:25 ..\n",
      "drwxr-xr-x 2 root root 4.0K Nov 19 02:42 .ipynb_checkpoints\n",
      "-rw-r--r-- 1 1001 1001 112K Nov 17 19:31 codellama-7b-hf-training-peft-kaitchup.ipynb\n",
      "-rw-r--r-- 1 1001 1001 143K Nov 17 16:38 codellama-7b-hf-training-peft-original.ipynb\n",
      "-rw-r--r-- 1 1001 1001 4.8K Nov 15 15:02 codellama-7b-instruct-hf.ipynb\n",
      "-rw-r--r-- 1 1001 1001  13K Nov 17 16:05 kaitchup-merging-lora-and-llms-the-right-way.ipynb\n",
      "-rw-r--r-- 1 1001 1001  18K Nov 14 15:57 phind-codellama-34b-v2-baseline.ipynb\n",
      "-rw-r--r-- 1 1001 1001  58K Nov 14 21:44 phind-codellama-34b-v2-training-peft.ipynb\n",
      "-rw-r--r-- 1 1001 1001  22K Nov 14 16:27 phind-codellama-34b-v2-training.ipynb\n",
      "-rw-r--r-- 1 1001 1001  27K Nov 13 18:27 text-generation.ipynb\n",
      "-rw-r--r-- 1 1001 1001  14K Nov 19 04:36 tgi-client.ipynb\n"
     ]
    }
   ],
   "source": [
    "!ls -alh"
   ]
  },
  {
   "cell_type": "code",
   "execution_count": 3,
   "id": "b6440c50-fbdd-44fd-a623-b5be78a6b3e1",
   "metadata": {
    "ExecuteTime": {
     "end_time": "2023-11-21T16:24:35.363126Z",
     "start_time": "2023-11-21T16:24:25.881378Z"
    }
   },
   "outputs": [
    {
     "name": "stdout",
     "output_type": "stream",
     "text": [
      "Making cheese is a process that involves the coagulation of milk into curd and then the removal of the whey, a watery substance. The curd is then pressed, salted, and aged to produce various types of cheese. Here's a simple step-by-step guide to making cheese at home:\n",
      "\n",
      "1. Gather your ingredients: To make cheese, you'll need milk (whole or 2% is best), rennet (which is an enzyme that triggers the coagulation process), salt, and a container to hold the milk.\n",
      "\n",
      "2. Heat the milk: Whole milk should be heated to around 113°F (45°C) and 2% milk should be heated to around 185°F (85°C). This helps to break down the casein proteins in the milk, making it easier for the rennet to coagulate the milk.\n",
      "\n",
      "3. Add the rennet: Once the milk has reached the correct temperature, add the rennet. The amount of rennet you use will depend on the type of cheese you want to make and the amount of milk you're using. For example, 1 part rennet to 20 parts milk is a good starting point for most cheeses.\n",
      "\n",
      "4. Stir and let coagulate: Stir the milk gently after adding the rennet. The milk will begin to coagulate, or curdle, within a few minutes. This process creates a curd (solid) and whey (liquid) mixture.\n",
      "\n",
      "5. Cut the curd: Once the curd has formed, you can cut it to help it separate from the whey. This can be done by gently stirring the mixture with a spoon or a knife.\n",
      "\n",
      "CPU times: user 76.5 ms, sys: 9.77 ms, total: 86.2 ms\n",
      "Wall time: 9.48 s\n"
     ]
    }
   ],
   "source": [
    "%%time\n",
    "for token in client.text_generation(\"How do you make cheese?\", max_new_tokens=400, stream=True):\n",
    "    print(token, end=\"\" )"
   ]
  },
  {
   "cell_type": "code",
   "execution_count": 4,
   "id": "3d4dddb4-ac43-4296-9c2d-9ac7df3f6538",
   "metadata": {
    "ExecuteTime": {
     "end_time": "2023-11-21T16:25:14.796703Z",
     "start_time": "2023-11-21T16:25:05.487979Z"
    }
   },
   "outputs": [
    {
     "name": "stdout",
     "output_type": "stream",
     "text": [
      "Sure, here is a Python function that calculates the Haversine distance between two points on Earth. The Haversine formula is used to calculate the great-circle distance between two points on a sphere.\n",
      "```python\n",
      "import math\n",
      "\n",
      "def haversine_distance(lat1, lon1, lat2, lon2):\n",
      "    # Convert latitude and longitude to radians\n",
      "    lat1, lon1, lat2, lon2 = map(math.radians, [lat1, lon1, lat2, lon2])\n",
      "    # Calculate the differences\n",
      "    dlat = lat2 - lat1\n",
      "    dlon = lon2 - lon1\n",
      "\n",
      "    # Apply the Haversine formula\n",
      "    a = math.sin(dlat/2)**2 + math.cos(lat1) * math.cos(lat2) * math.sin(dlon/2)**2\n",
      "    c = 2 * math.atan2(math.sqrt(a), math.sqrt(1-a))\n",
      "    # Earth's radius in kilometers\n",
      "    r = 6371\n",
      "\n",
      "    # Calculate the distance\n",
      "    distance = r * c\n",
      "\n",
      "    return distance\n",
      "\n",
      "# Example usage:\n",
      "lat1, lon1 = 40.7128, -74.0060 # New York\n",
      "lat2, lon2 = 34.0522, -118.2437 # Los Angeles\n",
      "print(haversine_distance(lat1, lon1, lat2, lon2))\n",
      "```\n",
      "This function takes the latitude and longitude of two points as input and returns the Haversine distance between them in kilometers. The Earth's radius used in the calculation is 6371 kilometers..</s>"
     ]
    }
   ],
   "source": [
    "for token in client.text_generation( \"can you write a function for me in python that calculates to haversine distance\", max_new_tokens=1024, stream=True):\n",
    "    print(token, end=\"\" )"
   ]
  },
  {
   "cell_type": "code",
   "execution_count": 18,
   "id": "adafe839-9c6c-453a-a332-9106a25d878b",
   "metadata": {},
   "outputs": [],
   "source": [
    "prompt = \"\"\"\n",
    "<request>Write a function in python that calculates the haversine distance between two points</request>\n",
    "\n",
    "Hints: As you generate the python code needed to answer this request, I want you to:\n",
    "\n",
    "Question: Ask yourself if you understand the question that I am asking you.  Pay attention to the details!\n",
    "Think: Before you do anything, think out loud about what I am asking you to do, including what are the steps that you will need to take to solve this problem. Be critical of your thought process!\n",
    "Code: Generate a verbatim list of code that you used to arrive at your answer, one line of code per item on the list. The code must be complete, syntactically correct, and capable of running to completion. The last line of your code must be the variable `solution`, which represents the answer.\n",
    "Return: Report on the object type of the variable `solution` in your last line of code. Use one word to represent the object type.\n",
    "\n",
    "Format: return your response as a JSON object with the following fields, you must not generate any text outside of this Json object:\n",
    "\n",
    "request: `Write a function in python that calculates the haversine distance between two points`,\n",
    "thoughts: Your thoughts,\n",
    "code: A list of strings, each string representing a line of code in your solution.\n",
    "returns: Object type of the variable `solution`,\n",
    "error: Your description of any issues or errors that you encountered while attempting to fulfill this request\n",
    "\n",
    "Rememember: please be very careful, this is important to my career.  Begin!\n",
    "\"\"\""
   ]
  },
  {
   "cell_type": "code",
   "execution_count": 20,
   "id": "5290a0f8-a479-42dc-890f-307efd88542d",
   "metadata": {},
   "outputs": [
    {
     "name": "stdout",
     "output_type": "stream",
     "text": [
      "\n",
      "```python\n",
      "import math\n",
      "\n",
      "def haversine(lat1, lon1, lat2, lon2):\n",
      "    R = 6371 # Earth's radius in km\n",
      "\n",
      "    dLat = math.radians(lat2 - lat1)\n",
      "    dLon = math.radians(lon2 - lon1)\n",
      "    a = math.sin(dLat / 2) * math.sin(dLat / 2) + math.cos(math.radians(lat1)) * math.cos(math.radians(lat2)) * math.sin(dLon / 2) * math.sin(dLon / 2)\n",
      "    c = 2 * math.atan2(math.sqrt(a), math.sqrt(1 - a))\n",
      "\n",
      "    solution = R * c # Haversine distance in km\n",
      "    return solution\n",
      "\n",
      "# Example usage:\n",
      "lat1, lon1 = 40.7128, -74.0060 # New York\n",
      "lat2, lon2 = 51.5074, -0.1278 # London\n",
      "print(haversine(lat1, lon1, lat2, lon2))\n",
      "```\n",
      "\n",
      "```json\n",
      "{\n",
      "    \"request\": \"Write a function in python that calculates the haversine distance between two points\",\n",
      "    \"thoughts\": \"I need to create a function that calculates the haversine distance between two points given their latitude and longitude. I will use the haversine formula to do this. The function will take four arguments: the latitudes and longitudes of the two points. The function will return the haversine distance in kilometers.\",\n",
      "    \"code\": [\n",
      "        \"import math\",\n",
      "        \"def haversine(lat1, lon1, lat2, lon2):\",\n",
      "        \"    R = 6371\",\n",
      "        \"    dLat = math.radians(lat2 - lat1)\",\n",
      "        \"    dLon = math.radians(lon2 - lon1)\",\n",
      "        \"    a = math.sin(dLat / 2) * math.sin(dLat / 2) + math.cos(math.radians(lat1)) * math.cos(math.radiansCPU times: user 78.1 ms, sys: 31 ms, total: 109 ms\n",
      "Wall time: 12.3 s\n"
     ]
    }
   ],
   "source": [
    "%%time\n",
    "for token in client.text_generation( prompt, max_new_tokens=512, stream=True ):\n",
    "    print(token, end=\"\" )"
   ]
  },
  {
   "cell_type": "code",
   "execution_count": 72,
   "id": "baf034cb-04d3-423a-ba61-baa039898f38",
   "metadata": {
    "ExecuteTime": {
     "end_time": "2023-11-20T19:20:50.846167Z",
     "start_time": "2023-11-20T19:20:47.658973Z"
    }
   },
   "outputs": [
    {
     "name": "stdout",
     "output_type": "stream",
     "text": [
      "Yes, I can parse and generate XML documents. As an AI language model, I can work with XML data and help you with tasks like reading, writing, and editing XML files.\n",
      "\n",
      "For example, if you have an XML document like this:\n",
      "```xml\n",
      "<person>\n",
      " <name>John Doe</name>\n",
      " <age>30</age>\n",
      " <city>New York</city>\n",
      "</person>\n",
      "```\n",
      "I can help you extract information from it, like the person's name, age, and city. I can also help you generate XML documents from scratch or modify existing ones..</s>CPU times: user 25.6 ms, sys: 5.68 ms, total: 31.3 ms\n",
      "Wall time: 3.18 s\n"
     ]
    }
   ],
   "source": [
    "%%time\n",
    "for token in client.text_generation( \"can you parse and generate XML documents?\", max_new_tokens=400, stream=True, details=False ):\n",
    "    print(token, end=\"\" )"
   ]
  },
  {
   "cell_type": "code",
   "execution_count": 40,
   "id": "0185be1f-c30f-4bf1-9619-7fb544f75356",
   "metadata": {
    "ExecuteTime": {
     "end_time": "2023-11-21T19:12:42.212976Z",
     "start_time": "2023-11-21T19:12:42.209156Z"
    }
   },
   "outputs": [],
   "source": [
    "question = \"Can you write a function for me in python that calculates the haversine distance?\"\n",
    "\n",
    "prompt = f\"\"\"\n",
    "<question>{question}</question>\n",
    "\n",
    "Hints: BEFORE you generate the python code needed to answer this question, I want you to:\n",
    "\n",
    "Question: Ask yourself if you understand the question that I am asking you.  Pay attention to the details!\n",
    "Think: Before you do anything, think out loud about what I am asking you to do, including what are the steps that you will need to take to solve this problem. Be critical of your thought process!\n",
    "Code: Generate an XML document containing the Python code that you used to arrive at your answer. The code must be complete, syntactically correct, and capable of running to completion. The last line of your code must be be `return solution`.\n",
    "Return: Report on the object type of the variable `solution` in your last line of code. Use one word to represent the object type.\n",
    "Explanation: Explain how your code works, including any assumptions that you made.\n",
    "\n",
    "Format: return your response as an XML document with the following fields:\n",
    "<response>\n",
    "    <question>{question}</question>\n",
    "    <thoughts>Your thoughts</thoughts>\n",
    "    <code>\n",
    "        <line>import foo</line>\n",
    "        <line>def function_name_here( ... ):</line>\n",
    "        <line>    return solution</line>\n",
    "    </code>\n",
    "    <returns>Object type of the variable `solution`</returns>\n",
    "    <explanation>Explanation of how the code works</explanation>\n",
    "    <error>Description of any issues or errors that you encountered while attempting to fulfill this request</error>\n",
    "</response>\n",
    "\n",
    "Rememember: you must only generate valid XML code. Please be careful as this is important to my career.  Begin!\n",
    "\"\"\""
   ]
  },
  {
   "cell_type": "markdown",
   "source": [
    "## Interact in conversation mode"
   ],
   "metadata": {
    "collapsed": false
   },
   "id": "ea346816ced81a12"
  },
  {
   "cell_type": "code",
   "execution_count": 78,
   "outputs": [],
   "source": [
    "import os\n",
    "os.chdir( \"/usr/local/lib/python3.10/site-packages/huggingface_hub\" )"
   ],
   "metadata": {
    "collapsed": false,
    "ExecuteTime": {
     "end_time": "2023-11-21T22:39:20.405136Z",
     "start_time": "2023-11-21T22:39:20.368559Z"
    }
   },
   "id": "54b24727907c604e"
  },
  {
   "cell_type": "code",
   "execution_count": 82,
   "outputs": [
    {
     "name": "stdout",
     "output_type": "stream",
     "text": [
      "Name: huggingface-hub\r\n",
      "Version: 0.17.3\r\n",
      "Summary: Client library to download and publish models, datasets and other repos on the huggingface.co hub\r\n",
      "Home-page: https://github.com/huggingface/huggingface_hub\r\n",
      "Author: Hugging Face, Inc.\r\n",
      "Author-email: julien@huggingface.co\r\n",
      "License: Apache\r\n",
      "Location: /usr/local/lib/python3.10/site-packages\r\n",
      "Requires: filelock, fsspec, packaging, pyyaml, requests, tqdm, typing-extensions\r\n",
      "Required-by: transformers\r\n"
     ]
    }
   ],
   "source": [
    "! pip show huggingface_hub"
   ],
   "metadata": {
    "collapsed": false,
    "ExecuteTime": {
     "end_time": "2023-11-21T22:43:40.872952Z",
     "start_time": "2023-11-21T22:43:38.888152Z"
    }
   },
   "id": "d912a3085e1f00a7"
  },
  {
   "cell_type": "code",
   "execution_count": 81,
   "outputs": [
    {
     "name": "stdout",
     "output_type": "stream",
     "text": [
      "        \"InferenceClient\",\r\n",
      "        \"AsyncInferenceClient\",\r\n",
      "        InferenceClient,  # noqa: F401\r\n",
      "    from .inference._generated._async_client import AsyncInferenceClient  # noqa: F401\r\n"
     ]
    }
   ],
   "source": [
    "! cat __init__.py | grep -i InferenceClient"
   ],
   "metadata": {
    "collapsed": false,
    "ExecuteTime": {
     "end_time": "2023-11-21T22:42:05.042678Z",
     "start_time": "2023-11-21T22:42:04.933855Z"
    }
   },
   "id": "8918c7651c25ed44"
  },
  {
   "cell_type": "code",
   "execution_count": 79,
   "outputs": [
    {
     "name": "stdout",
     "output_type": "stream",
     "text": [
      "total 744K\r\n",
      "drwxr-xr-x 7 root root 4.0K Sep 29 17:22 .\r\n",
      "drwxr-xr-x 1 root root 4.0K Sep 29 17:22 ..\r\n",
      "-rw-r--r-- 1 root root  18K Sep 29 17:22 __init__.py\r\n",
      "drwxr-xr-x 2 root root 4.0K Sep 29 17:22 __pycache__\r\n",
      "-rw-r--r-- 1 root root  26K Sep 29 17:22 _commit_api.py\r\n",
      "-rw-r--r-- 1 root root  14K Sep 29 17:22 _commit_scheduler.py\r\n",
      "-rw-r--r-- 1 root root  14K Sep 29 17:22 _login.py\r\n",
      "-rw-r--r-- 1 root root  13K Sep 29 17:22 _multi_commits.py\r\n",
      "-rw-r--r-- 1 root root  12K Sep 29 17:22 _snapshot_download.py\r\n",
      "-rw-r--r-- 1 root root 4.9K Sep 29 17:22 _space_api.py\r\n",
      "-rw-r--r-- 1 root root 7.0K Sep 29 17:22 _tensorboard_logger.py\r\n",
      "-rw-r--r-- 1 root root 2.7K Sep 29 17:22 _webhooks_payload.py\r\n",
      "-rw-r--r-- 1 root root  15K Sep 29 17:22 _webhooks_server.py\r\n",
      "drwxr-xr-x 3 root root 4.0K Sep 29 17:22 commands\r\n",
      "-rw-r--r-- 1 root root  12K Sep 29 17:22 community.py\r\n",
      "-rw-r--r-- 1 root root 5.7K Sep 29 17:22 constants.py\r\n",
      "-rw-r--r-- 1 root root  17K Sep 29 17:22 fastai_utils.py\r\n",
      "-rw-r--r-- 1 root root  71K Sep 29 17:22 file_download.py\r\n",
      "-rw-r--r-- 1 root root 241K Sep 29 17:22 hf_api.py\r\n",
      "-rw-r--r-- 1 root root  20K Sep 29 17:22 hf_file_system.py\r\n",
      "-rw-r--r-- 1 root root  16K Sep 29 17:22 hub_mixin.py\r\n",
      "drwxr-xr-x 4 root root 4.0K Sep 29 17:22 inference\r\n",
      "-rw-r--r-- 1 root root 8.2K Sep 29 17:22 inference_api.py\r\n",
      "-rw-r--r-- 1 root root  19K Sep 29 17:22 keras_mixin.py\r\n",
      "-rw-r--r-- 1 root root  18K Sep 29 17:22 lfs.py\r\n",
      "-rw-r--r-- 1 root root  34K Sep 29 17:22 repocard.py\r\n",
      "-rw-r--r-- 1 root root  29K Sep 29 17:22 repocard_data.py\r\n",
      "-rw-r--r-- 1 root root  53K Sep 29 17:22 repository.py\r\n",
      "drwxr-xr-x 2 root root 4.0K Sep 29 17:22 templates\r\n",
      "drwxr-xr-x 3 root root 4.0K Sep 29 17:22 utils\r\n"
     ]
    }
   ],
   "source": [
    "! ls -alh"
   ],
   "metadata": {
    "collapsed": false,
    "ExecuteTime": {
     "end_time": "2023-11-21T22:39:21.036215Z",
     "start_time": "2023-11-21T22:39:20.924929Z"
    }
   },
   "id": "c1475ebb8bcac563"
  },
  {
   "cell_type": "code",
   "execution_count": 50,
   "outputs": [
    {
     "name": "stdout",
     "output_type": "stream",
     "text": [
      "\n",
      "Question: Can you write a function for me in python that calculates to haversine distance?\n",
      "\n",
      "Format: return your response as an XML document with the following fields:\n",
      "<response>\n",
      "    <question>Can you write a function for me in python that calculates to haversine distance?</question>\n",
      "    <thoughts>Your thoughts</thoughts>\n",
      "    <code>\n",
      "        <line>import foo</line>\n",
      "        <line>def function_name_here( ... ):</line>\n",
      "        <line>    return solution</line>\n",
      "    </code>\n",
      "    <returns>Object type of the variable `solution`</returns>\n",
      "    <explanation>Explanation of how the code works</explanation>\n",
      "    <error>Description of any issues or errors that you encountered while attempting to fulfill this request</error>\n",
      "</response>\n",
      "\n",
      "Rememember: you must only generate valid XML code. Please be careful as this is important to my career.  Begin!\n"
     ]
    }
   ],
   "source": [
    "question = \"Can you write a function for me in python that calculates to haversine distance?\"\n",
    "\n",
    "user_prompt = f\"\"\"\n",
    "Question: {question}\n",
    "\n",
    "Format: return your response as an XML document with the following fields:\n",
    "<response>\n",
    "    <question>{question}</question>\n",
    "    <thoughts>Your thoughts</thoughts>\n",
    "    <code>\n",
    "        <line>import foo</line>\n",
    "        <line>def function_name_here( ... ):</line>\n",
    "        <line>    return solution</line>\n",
    "    </code>\n",
    "    <returns>Object type of the variable `solution`</returns>\n",
    "    <explanation>Explanation of how the code works</explanation>\n",
    "    <error>Description of any issues or errors that you encountered while attempting to fulfill this request</error>\n",
    "</response>\n",
    "\n",
    "Rememember: you must only generate valid XML code. Please be careful as this is important to my career.  Begin!\n",
    "\"\"\"\n",
    "for line in user_prompt.split( \"\\n\" ): print( line )"
   ],
   "metadata": {
    "collapsed": false,
    "ExecuteTime": {
     "end_time": "2023-11-21T21:08:00.057190Z",
     "start_time": "2023-11-21T21:08:00.047162Z"
    }
   },
   "id": "acbbbfcfc1197b20"
  },
  {
   "cell_type": "code",
   "execution_count": 51,
   "outputs": [
    {
     "name": "stdout",
     "output_type": "stream",
     "text": [
      "\n",
      "You are a cheerfully helpful assistant, with proven expertise in writing python code an XML documents.\n",
      "\n",
      "You will be asked to write python functions that answer a user's question.\n",
      "\n",
      "BEFORE you generate the python code needed to answer a question, I want you to always:\n",
      "\n",
      "1) Question: Ask yourself if you understand the question that I am asking you.  Pay attention to the details!\n",
      "\n",
      "2) Think: Before you do anything, think out loud about what I am asking you to do, including what are the steps that you will need to take to solve this problem. Be critical of your thought process!\n",
      "\n",
      "3) Code: Generate an XML document containing the Python code that you used to arrive at your answer. The code must be complete, syntactically correct, and capable of running to completion. The last line of your code must be be `return solution`.\n",
      "\n",
      "4) Return: Report on the object type of the variable `solution` in your last line of code. Use one word to represent the object type.\n",
      "\n",
      "5) Explain: Explain how your code works, including any assumptions that you made.\n"
     ]
    }
   ],
   "source": [
    "system_prompt = \"\"\"\n",
    "You are a cheerfully helpful assistant, with proven expertise in writing python code an XML documents.\n",
    "\n",
    "You will be asked to write python functions that answer a user's question.\n",
    "\n",
    "BEFORE you generate the python code needed to answer a question, I want you to always:\n",
    "\n",
    "1) Question: Ask yourself if you understand the question that I am asking you.  Pay attention to the details!\n",
    "\n",
    "2) Think: Before you do anything, think out loud about what I am asking you to do, including what are the steps that you will need to take to solve this problem. Be critical of your thought process!\n",
    "\n",
    "3) Code: Generate an XML document containing the Python code that you used to arrive at your answer. The code must be complete, syntactically correct, and capable of running to completion. The last line of your code must be be `return solution`.\n",
    "\n",
    "4) Return: Report on the object type of the variable `solution` in your last line of code. Use one word to represent the object type.\n",
    "\n",
    "5) Explain: Explain how your code works, including any assumptions that you made.\n",
    "\"\"\"\n",
    "for line in system_prompt.split( \"\\n\" ): print( line )"
   ],
   "metadata": {
    "collapsed": false,
    "ExecuteTime": {
     "end_time": "2023-11-21T21:08:17.514048Z",
     "start_time": "2023-11-21T21:08:17.469716Z"
    }
   },
   "id": "9aad6d8e54b502ac"
  },
  {
   "cell_type": "code",
   "execution_count": 52,
   "outputs": [
    {
     "ename": "NameError",
     "evalue": "name 'ConversationInput' is not defined",
     "output_type": "error",
     "traceback": [
      "\u001B[0;31m---------------------------------------------------------------------------\u001B[0m",
      "\u001B[0;31mNameError\u001B[0m                                 Traceback (most recent call last)",
      "Cell \u001B[0;32mIn[52], line 2\u001B[0m\n\u001B[1;32m      1\u001B[0m inputs \u001B[38;5;241m=\u001B[39m [\n\u001B[0;32m----> 2\u001B[0m     \u001B[43mConversationInput\u001B[49m( role\u001B[38;5;241m=\u001B[39m\u001B[38;5;124m\"\u001B[39m\u001B[38;5;124msystem\u001B[39m\u001B[38;5;124m\"\u001B[39m, content\u001B[38;5;241m=\u001B[39msystem_prompt ),\n\u001B[1;32m      3\u001B[0m     ConversationInput( role\u001B[38;5;241m=\u001B[39m\u001B[38;5;124m\"\u001B[39m\u001B[38;5;124muser\u001B[39m\u001B[38;5;124m\"\u001B[39m, content\u001B[38;5;241m=\u001B[39muser_prompt )\n\u001B[1;32m      4\u001B[0m ]\n\u001B[1;32m      5\u001B[0m get_ipython()\u001B[38;5;241m.\u001B[39mrun_line_magic(\u001B[38;5;124m'\u001B[39m\u001B[38;5;124m%\u001B[39m\u001B[38;5;124mtime\u001B[39m\u001B[38;5;124m'\u001B[39m, \u001B[38;5;124m'\u001B[39m\u001B[38;5;124m'\u001B[39m)\n\u001B[1;32m      6\u001B[0m token_list \u001B[38;5;241m=\u001B[39m []\n",
      "\u001B[0;31mNameError\u001B[0m: name 'ConversationInput' is not defined"
     ]
    }
   ],
   "source": [
    "inputs = [\n",
    "    ConversationInput( role=\"system\", content=system_prompt ),\n",
    "    ConversationInput( role=\"user\", content=user_prompt )\n",
    "]\n",
    "%%time\n",
    "token_list = []\n",
    "for token in client.conversation( \n",
    "        inputs, max_new_tokens=1024, stream=True, stop_sequences=[ \"</response>\" ], temperature=1.0 \n",
    "    ):\n",
    "    print( token, end=\"\" )\n",
    "    token_list.append( token )\n",
    "\n",
    "len( token_list )"
   ],
   "metadata": {
    "collapsed": false,
    "ExecuteTime": {
     "end_time": "2023-11-21T21:08:19.862818Z",
     "start_time": "2023-11-21T21:08:19.832874Z"
    }
   },
   "id": "75ab841c27d60766"
  },
  {
   "cell_type": "markdown",
   "source": [
    "## Interact in text generation mode"
   ],
   "metadata": {
    "collapsed": false
   },
   "id": "6c75a6ec70c881b0"
  },
  {
   "cell_type": "code",
   "execution_count": 84,
   "id": "26288884-21a4-4dc8-a992-3dcb23d8ed66",
   "metadata": {
    "ExecuteTime": {
     "end_time": "2023-11-22T00:35:28.020658Z",
     "start_time": "2023-11-22T00:35:15.690052Z"
    }
   },
   "outputs": [
    {
     "name": "stdout",
     "output_type": "stream",
     "text": [
      "\n",
      "<response>\n",
      "    <question>Can you write a function for me in python that calculates to haversine distance?</question>\n",
      "    <thoughts>To calculate the haversine distance between two points on a sphere, we need to calculate the angle between the two points. We can use the haversine formula to do this. The formula is based on the law of haversines, which relates the lengths of the sides of a spherical triangle to the angles at the vertices. The formula is: haversine(θ) = sin²(θ/2). We can use this formula to calculate the distance between two points on a sphere.</thoughts>\n",
      "    <code>\n",
      "        <line>import math</line>\n",
      "        <line>def haversine_distance(lat1, lon1, lat2, lon2):</line>\n",
      "        <line>    R = 6371 # Earth's radius in km</line>\n",
      "        <line>    dLat = math.radians(lat2 - lat1)</line>\n",
      "        <line>    dLon = math.radians(lon2 - lon1)</line>\n",
      "        <line>    a = math.sin(dLat/2) * math.sin(dLat/2) + math.cos(math.radians(lat1)) * math.cos(math.radians(lat2)) * math.sin(dLon/2) * math.sin(dLon/2)</line>\n",
      "        <line>    c = 2 * math.atan2(math.sqrt(a), math.sqrt(1-a))</line>\n",
      "        <line>    solution = R * c</line>\n",
      "        <line>    return solution</line>\n",
      "    </code>\n",
      "    <returns>float</returns>\n",
      "    <explanation>The function `haversine_distance` takes the latitude and longitude of two points as input. It first converts the latitude and longitude to radians. Then it calculates the difference between the latitudes and longitudes. The haversine formula is applied to these differences. The result is the distance between the two points on the Earth's surface in kilometers.</explanation>\n",
      "    <error>None</error>\n",
      "</response>CPU times: user 90.3 ms, sys: 21.3 ms, total: 112 ms\n",
      "Wall time: 12.3 s\n"
     ]
    },
    {
     "data": {
      "text/plain": "506"
     },
     "execution_count": 84,
     "metadata": {},
     "output_type": "execute_result"
    }
   ],
   "source": [
    "%%time\n",
    "token_list = []\n",
    "for token in client.text_generation( prompt, max_new_tokens=1024, stream=True, stop_sequences=[ \"</response>\" ], temperature=1.0 ):\n",
    "    print( token, end=\"\" )\n",
    "    token_list.append( token )\n",
    "\n",
    "len( token_list )\n",
    "\n",
    "# 8 bit eetq: 386 / 9.35s = 41.3 tokens per second\n",
    "# 4 bit bitsandbytes: 351 / 10.5s = 33.4 tokens per second"
   ]
  },
  {
   "cell_type": "code",
   "execution_count": 31,
   "outputs": [],
   "source": [
    "import re"
   ],
   "metadata": {
    "collapsed": false,
    "ExecuteTime": {
     "end_time": "2023-11-21T16:46:57.650655Z",
     "start_time": "2023-11-21T16:46:57.642729Z"
    }
   },
   "id": "aa7b4bcf7bf2840e"
  },
  {
   "cell_type": "code",
   "execution_count": 85,
   "outputs": [],
   "source": [
    "# def get_value_by_tag_name( xml_string, name, default_value=f\"Error: `{{name}}` not found in xml_string\" ):\n",
    "#     \n",
    "#     if f\"<{name}>\" not in xml_string or f\"</{name}>\" not in xml_string:\n",
    "#         return default_value.format( name=name )\n",
    "#     \n",
    "#     return xml_string.split( f\"<{name}>\" )[ 1 ].split( f\"</{name}>\" )[ 0 ]\n",
    "# \n",
    "# \n",
    "# def get_code( xml_string, debug=False ):\n",
    "# \n",
    "#     # Matches only what's contained between the opening and closing line tags, preserving the white space before the opening line tag\n",
    "#     pattern   = re.compile( r\"<line>(.*?)</line>\" )\n",
    "#     code      = get_value_by_tag_name( xml_string, \"code\" )\n",
    "#     code_list = []\n",
    "#     \n",
    "#     for line in code.split( \"\\n\" ):\n",
    "#         \n",
    "#         match = pattern.search( line )\n",
    "#         if match:\n",
    "#             line = match.group( 1 )\n",
    "#             code_list.append( line )\n",
    "#             if debug: print( line )\n",
    "#         else:\n",
    "#             if debug: print( \"[]\" )\n",
    "#         \n",
    "#     return code_list\n",
    "\n",
    "\n",
    "def get_prompt_response_dict( xml_string, debug=False ):\n",
    "\n",
    "    def get_value_by_tag_name( xml_string, name, default_value=f\"Error: `{{name}}` not found in xml_string\" ):\n",
    "    \n",
    "        if f\"<{name}>\" not in xml_string or f\"</{name}>\" not in xml_string:\n",
    "            return default_value.format( name=name )\n",
    "        \n",
    "        return xml_string.split( f\"<{name}>\" )[ 1 ].split( f\"</{name}>\" )[ 0 ]\n",
    "    \n",
    "    def get_code( xml_string, debug=False ):\n",
    "    \n",
    "        # Matches only what's contained between the opening and closing line tags, preserving the white space before the opening line tag\n",
    "        pattern   = re.compile( r\"<line>(.*?)</line>\" )\n",
    "        code      = get_value_by_tag_name( xml_string, \"code\" )\n",
    "        code_list = []\n",
    "        \n",
    "        for line in code.split( \"\\n\" ):\n",
    "            \n",
    "            match = pattern.search( line )\n",
    "            if match:\n",
    "                line = match.group( 1 )\n",
    "                code_list.append( line )\n",
    "                if debug: print( line )\n",
    "            else:\n",
    "                if debug: print( \"[]\" )\n",
    "            \n",
    "        return code_list\n",
    "\n",
    "    # Trim everything down to only what's contained between the response open and close tags'\n",
    "    xml_string = get_value_by_tag_name( xml_string, \"response\" )\n",
    "    \n",
    "    response_dict = {\n",
    "           \"question\": get_value_by_tag_name( xml_string, \"question\" ),\n",
    "           \"thoughts\": get_value_by_tag_name( xml_string, \"thoughts\" ),\n",
    "             \"answer\": get_value_by_tag_name( xml_string, \"answer\", default_value=\"\" ),\n",
    "               \"code\": get_code( xml_string, debug=debug ),\n",
    "            \"returns\": get_value_by_tag_name( xml_string, \"returns\" ),\n",
    "        \"explanation\": get_value_by_tag_name( xml_string, \"explanation\" ),\n",
    "              \"error\": get_value_by_tag_name( xml_string, \"error\" ),\n",
    "              \"blarg\": get_value_by_tag_name( xml_string, \"blarg\" )\n",
    "    }\n",
    "    return response_dict\n",
    "\n",
    "\n",
    "# get_code( xml_string )    "
   ],
   "metadata": {
    "collapsed": false,
    "ExecuteTime": {
     "end_time": "2023-11-22T00:35:37.192637Z",
     "start_time": "2023-11-22T00:35:37.188798Z"
    }
   },
   "id": "153bb1aebed757fc"
  },
  {
   "cell_type": "code",
   "execution_count": 86,
   "outputs": [
    {
     "data": {
      "text/plain": "{'question': 'Can you write a function for me in python that calculates to haversine distance?',\n 'thoughts': 'To calculate the haversine distance between two points on a sphere, we need to calculate the angle between the two points. We can use the haversine formula to do this. The formula is based on the law of haversines, which relates the lengths of the sides of a spherical triangle to the angles at the vertices. The formula is: haversine(θ) = sin²(θ/2). We can use this formula to calculate the distance between two points on a sphere.',\n 'answer': '',\n 'code': ['import math',\n  'def haversine_distance(lat1, lon1, lat2, lon2):',\n  \"    R = 6371 # Earth's radius in km\",\n  '    dLat = math.radians(lat2 - lat1)',\n  '    dLon = math.radians(lon2 - lon1)',\n  '    a = math.sin(dLat/2) * math.sin(dLat/2) + math.cos(math.radians(lat1)) * math.cos(math.radians(lat2)) * math.sin(dLon/2) * math.sin(dLon/2)',\n  '    c = 2 * math.atan2(math.sqrt(a), math.sqrt(1-a))',\n  '    solution = R * c',\n  '    return solution'],\n 'returns': 'float',\n 'explanation': \"The function `haversine_distance` takes the latitude and longitude of two points as input. It first converts the latitude and longitude to radians. Then it calculates the difference between the latitudes and longitudes. The haversine formula is applied to these differences. The result is the distance between the two points on the Earth's surface in kilometers.\",\n 'error': 'None',\n 'blarg': 'Error: `blarg` not found in xml_string'}"
     },
     "execution_count": 86,
     "metadata": {},
     "output_type": "execute_result"
    }
   ],
   "source": [
    "response_dict = get_prompt_response_dict( \"\".join( token_list ) )\n",
    "response_dict"
   ],
   "metadata": {
    "collapsed": false,
    "ExecuteTime": {
     "end_time": "2023-11-22T00:35:50.084674Z",
     "start_time": "2023-11-22T00:35:50.078670Z"
    }
   },
   "id": "1b882a26363c11d6"
  },
  {
   "cell_type": "code",
   "execution_count": 17,
   "outputs": [
    {
     "data": {
      "text/plain": "\"\\nCan you reformat the following XML document as a Json object? \\n\\nXML document:\\n\\n<response>\\n    <question>Can you write a function for me in python that calculates to haversine distance?</question>\\n    <thoughts>To calculate the haversine distance between two points on a sphere, we need to calculate the angle between the two points. We can use the haversine formula to do this. The formula is based on the law of haversines, which relates the lengths of the sides of a spherical triangle to the angles at the vertices. The formula is: haversine(θ) = sin²(θ/2). We can use this formula to calculate the distance between two points on a sphere.</thoughts>\\n    <code>\\n        <line>import math</line>\\n        <line>def haversine_distance(lat1, lon1, lat2, lon2):</line>\\n        <line>    R = 6371 # Earth's radius in km</line>\\n        <line>    dLat = math.radians(lat2 - lat1)</line>\\n        <line>    dLon = math.radians(lon2 - lon1)</line>\\n        <line>    a = math.sin(dLat/2) * math.sin(dLat/2) + math.cos(math.radians(lat1)) * math.cos(math.radians(lat2)) * math.sin(dLon/2) * math.sin(dLon/2)</line>\\n        <line>    c = 2 * math.atan2(math.sqrt(a), math.sqrt(1-a))</line>\\n        <line>    solution = R * c</line>\\n        <line>    return solution</line>\\n    </code>\\n    <returns>float</returns>\\n    <explanation>The function `haversine_distance` takes the latitude and longitude of two points as input. It first converts the latitude and longitude to radians. Then it calculates the difference between the latitudes and longitudes. The haversine formula is applied to these differences. The result is the distance between the two points on the Earth's surface in kilometers.</explanation>\\n    <error>None</error>\\n</response>\\n\""
     },
     "execution_count": 17,
     "metadata": {},
     "output_type": "execute_result"
    }
   ],
   "source": [
    "formatting_prompt = f\"\"\"\n",
    "Can you reformat the following XML document as a Json object? \n",
    "\n",
    "XML document:\n",
    "\n",
    "{xml_string}\n",
    "\"\"\"\n",
    "formatting_prompt"
   ],
   "metadata": {
    "collapsed": false,
    "ExecuteTime": {
     "end_time": "2023-11-21T16:31:51.572110Z",
     "start_time": "2023-11-21T16:31:51.566189Z"
    }
   },
   "id": "a134c2c8-4334-43b4-a7df-f9c981b82966"
  },
  {
   "cell_type": "code",
   "execution_count": 83,
   "outputs": [
    {
     "name": "stdout",
     "output_type": "stream",
     "text": [
      "\n",
      "Here is the reformatted XML document as a Json object:\n",
      "\n",
      "{\n",
      "    \"response\": {\n",
      "        \"question\": \"Can you write a function for me in python that calculates to haversine distance?\",\n",
      "        \"thoughts\": \"To calculate the haversine distance between two points on a sphere, we need to calculate the angle between the two points. We can use the haversine formula to do this. The formula is based on the law of haversines, which relates the lengths of the sides of a spherical triangle to the angles at the vertices. The formula is: haversine(θ) = sin²(θ/2). We can use this formula to calculate the distance between two points on a sphere.\",\n",
      "        \"code\": [\n",
      "            \"import math\",\n",
      "            \"def haversine_distance(lat1, lon1, lat2, lon2):\",\n",
      "            \"    R = 6371 # Earth's radius in km\",\n",
      "            \"    dLat = math.radians(lat2 - lat1)\",\n",
      "            \"    dLon = math.radians(lon2 - lon1)\",\n",
      "            \"    a = math.sin(dLat/2) * math.sin(dLat/2) + math.cos(math.radians(lat1)) * math.cos(math.radians(lat2)) * math.sin(dLon/2) * math.sin(dLon/2)\",\n",
      "            \"    c = 2 * math.atan2(math.sqrt(a), math.sqrt(1-a))\",\n",
      "            \"    solution = R * c\",\n",
      "            \"    return solution\"\n",
      "        ],\n",
      "        \"returns\": \"float\",\n",
      "        \"explanation\": \"The function `haversine_distance` takes the latitude and longitude of two points as input. It first converts the latitude and longitude to radians. Then it calculates the difference between the latitudes and longitudes. The haversine formula is applied to these differences. The result is the distance between the two points on the Earth's surface in kilometers.\",\n",
      "        \"error\": \"None\"\n",
      "    }\n",
      "}}</s>CPU times: user 80.5 ms, sys: 22 ms, total: 103 ms\n",
      "Wall time: 11.6 s\n"
     ]
    },
    {
     "data": {
      "text/plain": "476"
     },
     "execution_count": 83,
     "metadata": {},
     "output_type": "execute_result"
    }
   ],
   "source": [
    "%%time\n",
    "token_list = []\n",
    "for token in client.text_generation( formatting_prompt, max_new_tokens=500, stream=True ):\n",
    "    print(token, end=\"\" )\n",
    "    token_list.append( token )\n",
    "\n",
    "len( token_list )"
   ],
   "metadata": {
    "collapsed": false,
    "ExecuteTime": {
     "end_time": "2023-11-22T00:14:54.693306Z",
     "start_time": "2023-11-22T00:14:43.127433Z"
    }
   },
   "id": "4701200e5c623544"
  },
  {
   "cell_type": "code",
   "execution_count": 188,
   "outputs": [],
   "source": [
    "# Use openAI GPT 3.5\n",
    "import openai\n",
    "import os\n",
    "\n",
    "openai.api_key = os.getenv( 'OPENAI_API_KEY' )"
   ],
   "metadata": {
    "collapsed": false,
    "ExecuteTime": {
     "end_time": "2023-11-20T20:54:36.792093Z",
     "start_time": "2023-11-20T20:54:36.756353Z"
    }
   },
   "id": "ba23446539754eea"
  },
  {
   "cell_type": "code",
   "execution_count": 186,
   "outputs": [],
   "source": [
    "def reformat( query, model=\"gpt-3.5-turbo-1106\" ):\n",
    "    \n",
    "    openai.api_key = os.getenv( \"FALSE_POSITIVE_API_KEY\" )\n",
    "        \n",
    "    print( \"Asking ChatGPT [{}]...\".format( model ), end=\"\" )\n",
    "    response = openai.chat.completions.create(\n",
    "        model=model,\n",
    "        messages=[ { \"role\": \"system\", \"content\": \"You are ChatGPT, a large language model trained by OpenAI. \"\n",
    "                                                  \"Answer as concisely as possible.\" },\n",
    "                   { \"role\": \"system\", \"content\": \"Reformat this XML document as a Json object. Do not print anything outside of the containing Json object\" },\n",
    "                   { \"role\": \"user\", \"content\": query } ],\n",
    "        temperature=0,\n",
    "        max_tokens=600,\n",
    "        top_p=1.0,\n",
    "        frequency_penalty=0.0,\n",
    "        presence_penalty=0.0\n",
    "    )\n",
    "    print( response )\n",
    "    \n",
    "    return response[ \"choices\" ][ 0 ][ \"message\" ][ \"content\" ].strip()"
   ],
   "metadata": {
    "collapsed": false,
    "ExecuteTime": {
     "end_time": "2023-11-20T20:53:25.534451Z",
     "start_time": "2023-11-20T20:53:25.496287Z"
    }
   },
   "id": "39e59ccbe742bbe3"
  },
  {
   "cell_type": "code",
   "execution_count": 187,
   "outputs": [
    {
     "name": "stdout",
     "output_type": "stream",
     "text": [
      "Asking ChatGPT [gpt-3.5-turbo-1106]...{\n",
      "  \"id\": \"chatcmpl-8N5YnYtn3lwQbtLw1vCmmaqdH18b7\",\n",
      "  \"object\": \"chat.completion\",\n",
      "  \"created\": 1700513609,\n",
      "  \"model\": \"gpt-3.5-turbo-1106\",\n",
      "  \"choices\": [\n",
      "    {\n",
      "      \"index\": 0,\n",
      "      \"message\": {\n",
      "        \"role\": \"assistant\",\n",
      "        \"content\": \"{\\n  \\\"response\\\": {\\n    \\\"question\\\": \\\"Can you write a function for me in python that calculates to haversine distance?\\\",\\n    \\\"thoughts\\\": \\\"To calculate the haversine distance between two points on a sphere, we need to calculate the angle between the two points. We can use the haversine formula to do this. The formula is based on the law of haversines, which relates the lengths of the sides of a spherical triangle to the angles at the vertices. The formula is: haversine(\\u03b8) = sin\\u00b2(\\u03b8/2). We can use this formula to calculate the distance between two points on a sphere.\\\",\\n    \\\"code\\\": {\\n      \\\"line\\\": [\\n        \\\"import math\\\",\\n        \\\"def haversine_distance(lat1, lon1, lat2, lon2):\\\",\\n        \\\"    R = 6371 # Earth's radius in km\\\",\\n        \\\"    dLat = math.radians(lat2 - lat1)\\\",\\n        \\\"    dLon = math.radians(lon2 - lon1)\\\",\\n        \\\"    a = math.sin(dLat/2) * math.sin(dLat/2) + math.cos(math.radians(lat1)) * math.cos(math.radians(lat2)) * math.sin(dLon/2) * math.sin(dLon/2)\\\",\\n        \\\"    c = 2 * math.atan2(math.sqrt(a), math.sqrt(1-a))\\\",\\n        \\\"    solution = R * c\\\",\\n        \\\"    return solution\\\"\\n      ]\\n    },\\n    \\\"returns\\\": \\\"float\\\",\\n    \\\"explanation\\\": \\\"The function `haversine_distance` takes the latitude and longitude of two points as input. It first converts the latitude and longitude to radians. Then it calculates the difference between the latitudes and longitudes. The haversine formula is applied to these differences. The result is the distance between the two points on the Earth's surface in kilometers.\\\",\\n    \\\"error\\\": \\\"None\\\"\\n  }\\n}\"\n",
      "      },\n",
      "      \"finish_reason\": \"stop\"\n",
      "    }\n",
      "  ],\n",
      "  \"usage\": {\n",
      "    \"prompt_tokens\": 489,\n",
      "    \"completion_tokens\": 399,\n",
      "    \"total_tokens\": 888\n",
      "  },\n",
      "  \"system_fingerprint\": \"fp_eeff13170a\"\n",
      "}\n"
     ]
    },
    {
     "data": {
      "text/plain": "'{\\n  \"response\": {\\n    \"question\": \"Can you write a function for me in python that calculates to haversine distance?\",\\n    \"thoughts\": \"To calculate the haversine distance between two points on a sphere, we need to calculate the angle between the two points. We can use the haversine formula to do this. The formula is based on the law of haversines, which relates the lengths of the sides of a spherical triangle to the angles at the vertices. The formula is: haversine(θ) = sin²(θ/2). We can use this formula to calculate the distance between two points on a sphere.\",\\n    \"code\": {\\n      \"line\": [\\n        \"import math\",\\n        \"def haversine_distance(lat1, lon1, lat2, lon2):\",\\n        \"    R = 6371 # Earth\\'s radius in km\",\\n        \"    dLat = math.radians(lat2 - lat1)\",\\n        \"    dLon = math.radians(lon2 - lon1)\",\\n        \"    a = math.sin(dLat/2) * math.sin(dLat/2) + math.cos(math.radians(lat1)) * math.cos(math.radians(lat2)) * math.sin(dLon/2) * math.sin(dLon/2)\",\\n        \"    c = 2 * math.atan2(math.sqrt(a), math.sqrt(1-a))\",\\n        \"    solution = R * c\",\\n        \"    return solution\"\\n      ]\\n    },\\n    \"returns\": \"float\",\\n    \"explanation\": \"The function `haversine_distance` takes the latitude and longitude of two points as input. It first converts the latitude and longitude to radians. Then it calculates the difference between the latitudes and longitudes. The haversine formula is applied to these differences. The result is the distance between the two points on the Earth\\'s surface in kilometers.\",\\n    \"error\": \"None\"\\n  }\\n}'"
     },
     "execution_count": 187,
     "metadata": {},
     "output_type": "execute_result"
    }
   ],
   "source": [
    "reformat( xml_string )"
   ],
   "metadata": {
    "collapsed": false,
    "ExecuteTime": {
     "end_time": "2023-11-20T20:53:34.048639Z",
     "start_time": "2023-11-20T20:53:29.386463Z"
    }
   },
   "id": "ce43083631fc0035"
  },
  {
   "cell_type": "code",
   "execution_count": null,
   "outputs": [],
   "source": [],
   "metadata": {
    "collapsed": false
   },
   "id": "e24d78d82f6c18e4"
  }
 ],
 "metadata": {
  "kernelspec": {
   "display_name": "Python 3 (ipykernel)",
   "language": "python",
   "name": "python3"
  },
  "language_info": {
   "codemirror_mode": {
    "name": "ipython",
    "version": 3
   },
   "file_extension": ".py",
   "mimetype": "text/x-python",
   "name": "python",
   "nbconvert_exporter": "python",
   "pygments_lexer": "ipython3",
   "version": "3.10.12"
  }
 },
 "nbformat": 4,
 "nbformat_minor": 5
}
